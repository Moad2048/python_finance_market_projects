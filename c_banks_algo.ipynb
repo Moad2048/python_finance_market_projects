{
 "cells": [
  {
   "cell_type": "code",
   "execution_count": 45,
   "id": "e2fea34d",
   "metadata": {},
   "outputs": [],
   "source": [
    "from sklearn.linear_model import LinearRegression\n",
    "from sklearn.metrics import mean_squared_error, r2_score\n",
    "from sklearn.model_selection import train_test_split\n",
    "\n",
    "import yfinance as yf\n",
    "import MetaTrader5 as mt5 #mt5 to access historcal data\n",
    "import pandas as pd # for data analysis and calculation of technical indcator\n",
    "import pandas_ta as ta\n",
    "import numpy as np\n",
    "import plotly.io as pio\n",
    "import plotly.express as px # for data visualization\n",
    "import plotly.graph_objects as go\n",
    "import tdclient as TDClient\n",
    "from datetime import datetime, time ,timezone #to specify the date time range for historical data\n",
    "from IPython.display import display, Markdown, Latex # to display result in python notebook\n",
    "from backtest import Backtester, get_ohlc_history, create_price_fig, evaluate_backtest"
   ]
  },
  {
   "cell_type": "code",
   "execution_count": 46,
   "id": "9b2e0fa8",
   "metadata": {},
   "outputs": [
    {
     "data": {
      "text/plain": [
       "True"
      ]
     },
     "execution_count": 46,
     "metadata": {},
     "output_type": "execute_result"
    }
   ],
   "source": [
    "# Conecte mt5\n",
    "mt5.initialize()\n",
    "# logine mt5\n",
    "login = 52185665\n",
    "password = '3cAJz$AQiKwMq0'\n",
    "server = 'ICMarketsSC-Demo'\n",
    "\n",
    "mt5.login(login,password,server)"
   ]
  },
  {
   "cell_type": "code",
   "execution_count": 47,
   "id": "43d573c5",
   "metadata": {},
   "outputs": [],
   "source": [
    "# this function retreives olhc data from mt5 account and return a data frame\n",
    "def get_ohlc(symbol, timeframe, start_datetime, end_datetime):\n",
    "    ohlc = mt5.copy_rates_range(symbol, timeframe, start_datetime, end_datetime)\n",
    "    df = pd.DataFrame(ohlc)\n",
    "    df['time'] = pd.to_datetime(df['time'], unit= 's')\n",
    "    return df"
   ]
  },
  {
   "cell_type": "code",
   "execution_count": 98,
   "id": "48fd76d3",
   "metadata": {},
   "outputs": [
    {
     "data": {
      "text/html": [
       "<div>\n",
       "<style scoped>\n",
       "    .dataframe tbody tr th:only-of-type {\n",
       "        vertical-align: middle;\n",
       "    }\n",
       "\n",
       "    .dataframe tbody tr th {\n",
       "        vertical-align: top;\n",
       "    }\n",
       "\n",
       "    .dataframe thead th {\n",
       "        text-align: right;\n",
       "    }\n",
       "</style>\n",
       "<table border=\"1\" class=\"dataframe\">\n",
       "  <thead>\n",
       "    <tr style=\"text-align: right;\">\n",
       "      <th></th>\n",
       "      <th>time</th>\n",
       "      <th>open</th>\n",
       "      <th>high</th>\n",
       "      <th>low</th>\n",
       "      <th>close</th>\n",
       "      <th>tick_volume</th>\n",
       "      <th>spread</th>\n",
       "      <th>real_volume</th>\n",
       "    </tr>\n",
       "  </thead>\n",
       "  <tbody>\n",
       "    <tr>\n",
       "      <th>0</th>\n",
       "      <td>2025-06-02 00:00:00</td>\n",
       "      <td>1.13463</td>\n",
       "      <td>1.13463</td>\n",
       "      <td>1.13398</td>\n",
       "      <td>1.13398</td>\n",
       "      <td>2</td>\n",
       "      <td>70</td>\n",
       "      <td>0</td>\n",
       "    </tr>\n",
       "    <tr>\n",
       "      <th>1</th>\n",
       "      <td>2025-06-02 00:01:00</td>\n",
       "      <td>1.13398</td>\n",
       "      <td>1.13398</td>\n",
       "      <td>1.13398</td>\n",
       "      <td>1.13398</td>\n",
       "      <td>1</td>\n",
       "      <td>200</td>\n",
       "      <td>0</td>\n",
       "    </tr>\n",
       "    <tr>\n",
       "      <th>2</th>\n",
       "      <td>2025-06-02 00:02:00</td>\n",
       "      <td>1.13398</td>\n",
       "      <td>1.13398</td>\n",
       "      <td>1.13398</td>\n",
       "      <td>1.13398</td>\n",
       "      <td>1</td>\n",
       "      <td>200</td>\n",
       "      <td>0</td>\n",
       "    </tr>\n",
       "    <tr>\n",
       "      <th>3</th>\n",
       "      <td>2025-06-02 00:03:00</td>\n",
       "      <td>1.13398</td>\n",
       "      <td>1.13398</td>\n",
       "      <td>1.13390</td>\n",
       "      <td>1.13390</td>\n",
       "      <td>2</td>\n",
       "      <td>200</td>\n",
       "      <td>0</td>\n",
       "    </tr>\n",
       "    <tr>\n",
       "      <th>4</th>\n",
       "      <td>2025-06-02 00:04:00</td>\n",
       "      <td>1.13390</td>\n",
       "      <td>1.13390</td>\n",
       "      <td>1.13382</td>\n",
       "      <td>1.13382</td>\n",
       "      <td>2</td>\n",
       "      <td>200</td>\n",
       "      <td>0</td>\n",
       "    </tr>\n",
       "    <tr>\n",
       "      <th>...</th>\n",
       "      <td>...</td>\n",
       "      <td>...</td>\n",
       "      <td>...</td>\n",
       "      <td>...</td>\n",
       "      <td>...</td>\n",
       "      <td>...</td>\n",
       "      <td>...</td>\n",
       "      <td>...</td>\n",
       "    </tr>\n",
       "    <tr>\n",
       "      <th>43916</th>\n",
       "      <td>2025-07-14 12:40:00</td>\n",
       "      <td>1.16881</td>\n",
       "      <td>1.16881</td>\n",
       "      <td>1.16851</td>\n",
       "      <td>1.16857</td>\n",
       "      <td>57</td>\n",
       "      <td>0</td>\n",
       "      <td>0</td>\n",
       "    </tr>\n",
       "    <tr>\n",
       "      <th>43917</th>\n",
       "      <td>2025-07-14 12:41:00</td>\n",
       "      <td>1.16857</td>\n",
       "      <td>1.16870</td>\n",
       "      <td>1.16856</td>\n",
       "      <td>1.16864</td>\n",
       "      <td>35</td>\n",
       "      <td>0</td>\n",
       "      <td>0</td>\n",
       "    </tr>\n",
       "    <tr>\n",
       "      <th>43918</th>\n",
       "      <td>2025-07-14 12:42:00</td>\n",
       "      <td>1.16864</td>\n",
       "      <td>1.16880</td>\n",
       "      <td>1.16858</td>\n",
       "      <td>1.16880</td>\n",
       "      <td>46</td>\n",
       "      <td>0</td>\n",
       "      <td>0</td>\n",
       "    </tr>\n",
       "    <tr>\n",
       "      <th>43919</th>\n",
       "      <td>2025-07-14 12:43:00</td>\n",
       "      <td>1.16880</td>\n",
       "      <td>1.16886</td>\n",
       "      <td>1.16877</td>\n",
       "      <td>1.16879</td>\n",
       "      <td>40</td>\n",
       "      <td>0</td>\n",
       "      <td>0</td>\n",
       "    </tr>\n",
       "    <tr>\n",
       "      <th>43920</th>\n",
       "      <td>2025-07-14 12:44:00</td>\n",
       "      <td>1.16879</td>\n",
       "      <td>1.16884</td>\n",
       "      <td>1.16862</td>\n",
       "      <td>1.16870</td>\n",
       "      <td>46</td>\n",
       "      <td>0</td>\n",
       "      <td>0</td>\n",
       "    </tr>\n",
       "  </tbody>\n",
       "</table>\n",
       "<p>43921 rows × 8 columns</p>\n",
       "</div>"
      ],
      "text/plain": [
       "                     time     open     high      low    close  tick_volume  \\\n",
       "0     2025-06-02 00:00:00  1.13463  1.13463  1.13398  1.13398            2   \n",
       "1     2025-06-02 00:01:00  1.13398  1.13398  1.13398  1.13398            1   \n",
       "2     2025-06-02 00:02:00  1.13398  1.13398  1.13398  1.13398            1   \n",
       "3     2025-06-02 00:03:00  1.13398  1.13398  1.13390  1.13390            2   \n",
       "4     2025-06-02 00:04:00  1.13390  1.13390  1.13382  1.13382            2   \n",
       "...                   ...      ...      ...      ...      ...          ...   \n",
       "43916 2025-07-14 12:40:00  1.16881  1.16881  1.16851  1.16857           57   \n",
       "43917 2025-07-14 12:41:00  1.16857  1.16870  1.16856  1.16864           35   \n",
       "43918 2025-07-14 12:42:00  1.16864  1.16880  1.16858  1.16880           46   \n",
       "43919 2025-07-14 12:43:00  1.16880  1.16886  1.16877  1.16879           40   \n",
       "43920 2025-07-14 12:44:00  1.16879  1.16884  1.16862  1.16870           46   \n",
       "\n",
       "       spread  real_volume  \n",
       "0          70            0  \n",
       "1         200            0  \n",
       "2         200            0  \n",
       "3         200            0  \n",
       "4         200            0  \n",
       "...       ...          ...  \n",
       "43916       0            0  \n",
       "43917       0            0  \n",
       "43918       0            0  \n",
       "43919       0            0  \n",
       "43920       0            0  \n",
       "\n",
       "[43921 rows x 8 columns]"
      ]
     },
     "execution_count": 98,
     "metadata": {},
     "output_type": "execute_result"
    }
   ],
   "source": [
    "# 1 minut df\n",
    "symbol = 'EURUSD'\n",
    "pos_size = 1\n",
    "timeframe = mt5.TIMEFRAME_M1\n",
    "start_datetime = datetime(2025,6,1)\n",
    "end_datetime = datetime.now()\n",
    "df = get_ohlc(symbol, timeframe, start_datetime, end_datetime)\n",
    "df"
   ]
  },
  {
   "cell_type": "code",
   "execution_count": 49,
   "id": "6141914c",
   "metadata": {},
   "outputs": [
    {
     "data": {
      "text/html": [
       "<div>\n",
       "<style scoped>\n",
       "    .dataframe tbody tr th:only-of-type {\n",
       "        vertical-align: middle;\n",
       "    }\n",
       "\n",
       "    .dataframe tbody tr th {\n",
       "        vertical-align: top;\n",
       "    }\n",
       "\n",
       "    .dataframe thead th {\n",
       "        text-align: right;\n",
       "    }\n",
       "</style>\n",
       "<table border=\"1\" class=\"dataframe\">\n",
       "  <thead>\n",
       "    <tr style=\"text-align: right;\">\n",
       "      <th></th>\n",
       "      <th>time</th>\n",
       "      <th>open</th>\n",
       "      <th>high</th>\n",
       "      <th>low</th>\n",
       "      <th>close</th>\n",
       "      <th>tick_volume</th>\n",
       "      <th>spread</th>\n",
       "      <th>real_volume</th>\n",
       "      <th>vwap</th>\n",
       "      <th>atr</th>\n",
       "      <th>volume_percentile</th>\n",
       "    </tr>\n",
       "  </thead>\n",
       "  <tbody>\n",
       "    <tr>\n",
       "      <th>0</th>\n",
       "      <td>2025-06-02 00:00:00</td>\n",
       "      <td>1.13463</td>\n",
       "      <td>1.13463</td>\n",
       "      <td>1.13398</td>\n",
       "      <td>1.13398</td>\n",
       "      <td>2</td>\n",
       "      <td>70</td>\n",
       "      <td>0</td>\n",
       "      <td>1.133980</td>\n",
       "      <td>NaN</td>\n",
       "      <td>NaN</td>\n",
       "    </tr>\n",
       "    <tr>\n",
       "      <th>1</th>\n",
       "      <td>2025-06-02 00:01:00</td>\n",
       "      <td>1.13398</td>\n",
       "      <td>1.13398</td>\n",
       "      <td>1.13398</td>\n",
       "      <td>1.13398</td>\n",
       "      <td>1</td>\n",
       "      <td>200</td>\n",
       "      <td>0</td>\n",
       "      <td>1.133980</td>\n",
       "      <td>NaN</td>\n",
       "      <td>NaN</td>\n",
       "    </tr>\n",
       "    <tr>\n",
       "      <th>2</th>\n",
       "      <td>2025-06-02 00:02:00</td>\n",
       "      <td>1.13398</td>\n",
       "      <td>1.13398</td>\n",
       "      <td>1.13398</td>\n",
       "      <td>1.13398</td>\n",
       "      <td>1</td>\n",
       "      <td>200</td>\n",
       "      <td>0</td>\n",
       "      <td>1.133980</td>\n",
       "      <td>NaN</td>\n",
       "      <td>NaN</td>\n",
       "    </tr>\n",
       "    <tr>\n",
       "      <th>3</th>\n",
       "      <td>2025-06-02 00:03:00</td>\n",
       "      <td>1.13398</td>\n",
       "      <td>1.13398</td>\n",
       "      <td>1.13390</td>\n",
       "      <td>1.13390</td>\n",
       "      <td>2</td>\n",
       "      <td>200</td>\n",
       "      <td>0</td>\n",
       "      <td>1.133953</td>\n",
       "      <td>NaN</td>\n",
       "      <td>NaN</td>\n",
       "    </tr>\n",
       "    <tr>\n",
       "      <th>4</th>\n",
       "      <td>2025-06-02 00:04:00</td>\n",
       "      <td>1.13390</td>\n",
       "      <td>1.13390</td>\n",
       "      <td>1.13382</td>\n",
       "      <td>1.13382</td>\n",
       "      <td>2</td>\n",
       "      <td>200</td>\n",
       "      <td>0</td>\n",
       "      <td>1.133920</td>\n",
       "      <td>NaN</td>\n",
       "      <td>NaN</td>\n",
       "    </tr>\n",
       "    <tr>\n",
       "      <th>...</th>\n",
       "      <td>...</td>\n",
       "      <td>...</td>\n",
       "      <td>...</td>\n",
       "      <td>...</td>\n",
       "      <td>...</td>\n",
       "      <td>...</td>\n",
       "      <td>...</td>\n",
       "      <td>...</td>\n",
       "      <td>...</td>\n",
       "      <td>...</td>\n",
       "      <td>...</td>\n",
       "    </tr>\n",
       "    <tr>\n",
       "      <th>43657</th>\n",
       "      <td>2025-07-14 08:21:00</td>\n",
       "      <td>1.16764</td>\n",
       "      <td>1.16771</td>\n",
       "      <td>1.16764</td>\n",
       "      <td>1.16767</td>\n",
       "      <td>20</td>\n",
       "      <td>0</td>\n",
       "      <td>0</td>\n",
       "      <td>1.158590</td>\n",
       "      <td>0.000107</td>\n",
       "      <td>33.75</td>\n",
       "    </tr>\n",
       "    <tr>\n",
       "      <th>43658</th>\n",
       "      <td>2025-07-14 08:22:00</td>\n",
       "      <td>1.16766</td>\n",
       "      <td>1.16771</td>\n",
       "      <td>1.16757</td>\n",
       "      <td>1.16760</td>\n",
       "      <td>23</td>\n",
       "      <td>0</td>\n",
       "      <td>0</td>\n",
       "      <td>1.158591</td>\n",
       "      <td>0.000108</td>\n",
       "      <td>33.75</td>\n",
       "    </tr>\n",
       "    <tr>\n",
       "      <th>43659</th>\n",
       "      <td>2025-07-14 08:23:00</td>\n",
       "      <td>1.16760</td>\n",
       "      <td>1.16760</td>\n",
       "      <td>1.16742</td>\n",
       "      <td>1.16743</td>\n",
       "      <td>25</td>\n",
       "      <td>0</td>\n",
       "      <td>0</td>\n",
       "      <td>1.158591</td>\n",
       "      <td>0.000114</td>\n",
       "      <td>32.75</td>\n",
       "    </tr>\n",
       "    <tr>\n",
       "      <th>43660</th>\n",
       "      <td>2025-07-14 08:24:00</td>\n",
       "      <td>1.16743</td>\n",
       "      <td>1.16746</td>\n",
       "      <td>1.16730</td>\n",
       "      <td>1.16730</td>\n",
       "      <td>32</td>\n",
       "      <td>0</td>\n",
       "      <td>0</td>\n",
       "      <td>1.158591</td>\n",
       "      <td>0.000122</td>\n",
       "      <td>33.50</td>\n",
       "    </tr>\n",
       "    <tr>\n",
       "      <th>43661</th>\n",
       "      <td>2025-07-14 08:25:00</td>\n",
       "      <td>1.16730</td>\n",
       "      <td>1.16734</td>\n",
       "      <td>1.16726</td>\n",
       "      <td>1.16734</td>\n",
       "      <td>31</td>\n",
       "      <td>0</td>\n",
       "      <td>0</td>\n",
       "      <td>1.158591</td>\n",
       "      <td>0.000119</td>\n",
       "      <td>31.75</td>\n",
       "    </tr>\n",
       "  </tbody>\n",
       "</table>\n",
       "<p>43662 rows × 11 columns</p>\n",
       "</div>"
      ],
      "text/plain": [
       "                     time     open     high      low    close  tick_volume  \\\n",
       "0     2025-06-02 00:00:00  1.13463  1.13463  1.13398  1.13398            2   \n",
       "1     2025-06-02 00:01:00  1.13398  1.13398  1.13398  1.13398            1   \n",
       "2     2025-06-02 00:02:00  1.13398  1.13398  1.13398  1.13398            1   \n",
       "3     2025-06-02 00:03:00  1.13398  1.13398  1.13390  1.13390            2   \n",
       "4     2025-06-02 00:04:00  1.13390  1.13390  1.13382  1.13382            2   \n",
       "...                   ...      ...      ...      ...      ...          ...   \n",
       "43657 2025-07-14 08:21:00  1.16764  1.16771  1.16764  1.16767           20   \n",
       "43658 2025-07-14 08:22:00  1.16766  1.16771  1.16757  1.16760           23   \n",
       "43659 2025-07-14 08:23:00  1.16760  1.16760  1.16742  1.16743           25   \n",
       "43660 2025-07-14 08:24:00  1.16743  1.16746  1.16730  1.16730           32   \n",
       "43661 2025-07-14 08:25:00  1.16730  1.16734  1.16726  1.16734           31   \n",
       "\n",
       "       spread  real_volume      vwap       atr  volume_percentile  \n",
       "0          70            0  1.133980       NaN                NaN  \n",
       "1         200            0  1.133980       NaN                NaN  \n",
       "2         200            0  1.133980       NaN                NaN  \n",
       "3         200            0  1.133953       NaN                NaN  \n",
       "4         200            0  1.133920       NaN                NaN  \n",
       "...       ...          ...       ...       ...                ...  \n",
       "43657       0            0  1.158590  0.000107              33.75  \n",
       "43658       0            0  1.158591  0.000108              33.75  \n",
       "43659       0            0  1.158591  0.000114              32.75  \n",
       "43660       0            0  1.158591  0.000122              33.50  \n",
       "43661       0            0  1.158591  0.000119              31.75  \n",
       "\n",
       "[43662 rows x 11 columns]"
      ]
     },
     "execution_count": 49,
     "metadata": {},
     "output_type": "execute_result"
    }
   ],
   "source": [
    "spread_threshold = 5  # in points\n",
    "atr_period = 14\n",
    "\n",
    "# Calculate metrics\n",
    "#df['spread'] = (df['ask'] - df['bid']) * 10000  # Convert to pips\n",
    "df['vwap'] = (df['close'] * df['tick_volume']).cumsum() / df['tick_volume'].cumsum()\n",
    "df['atr'] = df[['high', 'low', 'close']].apply(\n",
    "    lambda row: max(row['high'] - row['low'],\n",
    "                    abs(row['high'] - row['close']),\n",
    "                    abs(row['low'] - row['close'])),\n",
    "    axis=1\n",
    ")\n",
    "df['atr'] = df['atr'].rolling(atr_period).mean()\n",
    "\n",
    "# Strategy condition\n",
    "df['volume_percentile'] = df['tick_volume'].rolling(atr_period).apply(\n",
    "    lambda x: np.percentile(x, 75), raw=True\n",
    ")\n",
    "df"
   ]
  },
  {
   "cell_type": "code",
   "execution_count": 50,
   "id": "e69ddad1",
   "metadata": {},
   "outputs": [],
   "source": [
    "df['high'] = df['high'].shift(1)"
   ]
  },
  {
   "cell_type": "code",
   "execution_count": 56,
   "id": "8517468f",
   "metadata": {},
   "outputs": [
    {
     "data": {
      "text/html": [
       "<div>\n",
       "<style scoped>\n",
       "    .dataframe tbody tr th:only-of-type {\n",
       "        vertical-align: middle;\n",
       "    }\n",
       "\n",
       "    .dataframe tbody tr th {\n",
       "        vertical-align: top;\n",
       "    }\n",
       "\n",
       "    .dataframe thead th {\n",
       "        text-align: right;\n",
       "    }\n",
       "</style>\n",
       "<table border=\"1\" class=\"dataframe\">\n",
       "  <thead>\n",
       "    <tr style=\"text-align: right;\">\n",
       "      <th></th>\n",
       "      <th>signal</th>\n",
       "      <th>time</th>\n",
       "    </tr>\n",
       "  </thead>\n",
       "  <tbody>\n",
       "    <tr>\n",
       "      <th>63</th>\n",
       "      <td>buy</td>\n",
       "      <td>2025-06-02 01:03:00</td>\n",
       "    </tr>\n",
       "    <tr>\n",
       "      <th>78</th>\n",
       "      <td>buy</td>\n",
       "      <td>2025-06-02 01:18:00</td>\n",
       "    </tr>\n",
       "    <tr>\n",
       "      <th>79</th>\n",
       "      <td>buy</td>\n",
       "      <td>2025-06-02 01:19:00</td>\n",
       "    </tr>\n",
       "    <tr>\n",
       "      <th>86</th>\n",
       "      <td>buy</td>\n",
       "      <td>2025-06-02 01:26:00</td>\n",
       "    </tr>\n",
       "    <tr>\n",
       "      <th>122</th>\n",
       "      <td>buy</td>\n",
       "      <td>2025-06-02 02:02:00</td>\n",
       "    </tr>\n",
       "    <tr>\n",
       "      <th>...</th>\n",
       "      <td>...</td>\n",
       "      <td>...</td>\n",
       "    </tr>\n",
       "    <tr>\n",
       "      <th>43611</th>\n",
       "      <td>buy</td>\n",
       "      <td>2025-07-14 07:35:00</td>\n",
       "    </tr>\n",
       "    <tr>\n",
       "      <th>43615</th>\n",
       "      <td>buy</td>\n",
       "      <td>2025-07-14 07:39:00</td>\n",
       "    </tr>\n",
       "    <tr>\n",
       "      <th>43616</th>\n",
       "      <td>buy</td>\n",
       "      <td>2025-07-14 07:40:00</td>\n",
       "    </tr>\n",
       "    <tr>\n",
       "      <th>43640</th>\n",
       "      <td>buy</td>\n",
       "      <td>2025-07-14 08:04:00</td>\n",
       "    </tr>\n",
       "    <tr>\n",
       "      <th>43647</th>\n",
       "      <td>buy</td>\n",
       "      <td>2025-07-14 08:11:00</td>\n",
       "    </tr>\n",
       "  </tbody>\n",
       "</table>\n",
       "<p>3000 rows × 2 columns</p>\n",
       "</div>"
      ],
      "text/plain": [
       "      signal                time\n",
       "63       buy 2025-06-02 01:03:00\n",
       "78       buy 2025-06-02 01:18:00\n",
       "79       buy 2025-06-02 01:19:00\n",
       "86       buy 2025-06-02 01:26:00\n",
       "122      buy 2025-06-02 02:02:00\n",
       "...      ...                 ...\n",
       "43611    buy 2025-07-14 07:35:00\n",
       "43615    buy 2025-07-14 07:39:00\n",
       "43616    buy 2025-07-14 07:40:00\n",
       "43640    buy 2025-07-14 08:04:00\n",
       "43647    buy 2025-07-14 08:11:00\n",
       "\n",
       "[3000 rows x 2 columns]"
      ]
     },
     "execution_count": 56,
     "metadata": {},
     "output_type": "execute_result"
    }
   ],
   "source": [
    "def entring_stoploss_profit(row, df) :\n",
    "    if (row['spread'] < spread_threshold) & (row['close'] > row['vwap']) &  (row['tick_volume'] > row['volume_percentile']) &(row['close'] > row['high']):\n",
    "        return \"buy\"\n",
    "    #elif :\n",
    "        #return \"sell\"\n",
    "df[\"signal\"] = df.apply(entring_stoploss_profit, axis=1, df = df)\n",
    "\n",
    "# Tag first signal per day in original merged_df\n",
    "#df['is_first_signal'] = (df[df[\"signal\"].notna()].groupby(df[\"time\"].dt.date).cumcount() == 0)\n",
    "\n",
    "# Set signal only on the first row per day, others = None\n",
    "#df['signal'] = df.apply(lambda row: row['signal'] if row['is_first_signal'] else None, axis=1)\n",
    "df[['signal', 'time']].dropna()"
   ]
  },
  {
   "cell_type": "code",
   "execution_count": 95,
   "id": "7809ceda",
   "metadata": {},
   "outputs": [],
   "source": [
    "pd.options.mode.copy_on_write = True\n",
    "# create trade logic\n",
    "def on_bar(data, trades, orders):\n",
    "    data['stop_loss'] = data['close'] - data['atr']\n",
    "    data['take_profit'] = data['close'] + 2 * data['atr']\n",
    "    open_trades = trades[trades['state'] == 'open']\n",
    "    num_open_trades = open_trades.shape[0]\n",
    "    account_balance = 10000  # your account in USD\n",
    "    risk_percent = 0.20  # 2%\n",
    "    pip_value_per_lot = 10  # on EURUSD, 1 lot = $10 per pip\n",
    "    risk_amount = account_balance * risk_percent\n",
    "    # entry signal\n",
    "    if data['signal'] == 'buy': #and not num_open_trades:\n",
    "        volume = 100000 #risk_amount / (stop_loss_pips * pip_value_per_lot)\n",
    "        orders.open_trade(symbol, volume, 'buy')\n",
    "    \n",
    "    elif data['signal'] == 'sell': #and not num_open_trades:\n",
    "        volume = 100000 #risk_amount / (stop_loss_pips * pip_value_per_lot)\n",
    "        orders.open_trade(symbol, volume, 'sell')\n",
    "        \n",
    "# exit signal\n",
    "    if num_open_trades:\n",
    "        trade = open_trades.iloc[0]\n",
    "\n",
    "        if trade['order_type'] == 'buy' and (data['high'] >= data['take_profit']) | (data['low'] <= data['stop_loss']):\n",
    "            orders.close_trade(trade)\n",
    "        elif trade['order_type'] == 'sell' :\n",
    "            orders.close_trade(trade)"
   ]
  },
  {
   "cell_type": "code",
   "execution_count": 96,
   "id": "99cb5aa8",
   "metadata": {},
   "outputs": [
    {
     "data": {
      "text/html": [
       "<div>\n",
       "<style scoped>\n",
       "    .dataframe tbody tr th:only-of-type {\n",
       "        vertical-align: middle;\n",
       "    }\n",
       "\n",
       "    .dataframe tbody tr th {\n",
       "        vertical-align: top;\n",
       "    }\n",
       "\n",
       "    .dataframe thead th {\n",
       "        text-align: right;\n",
       "    }\n",
       "</style>\n",
       "<table border=\"1\" class=\"dataframe\">\n",
       "  <thead>\n",
       "    <tr style=\"text-align: right;\">\n",
       "      <th></th>\n",
       "      <th>state</th>\n",
       "      <th>symbol</th>\n",
       "      <th>order_type</th>\n",
       "      <th>volume</th>\n",
       "      <th>open_time</th>\n",
       "      <th>open_price</th>\n",
       "      <th>close_time</th>\n",
       "      <th>close_price</th>\n",
       "      <th>sl</th>\n",
       "      <th>tp</th>\n",
       "      <th>info</th>\n",
       "      <th>profit</th>\n",
       "      <th>commission</th>\n",
       "      <th>profit_net</th>\n",
       "      <th>profit_cumulative</th>\n",
       "      <th>balance</th>\n",
       "    </tr>\n",
       "  </thead>\n",
       "  <tbody>\n",
       "    <tr>\n",
       "      <th>0</th>\n",
       "      <td>closed</td>\n",
       "      <td>EURUSD</td>\n",
       "      <td>buy</td>\n",
       "      <td>100000</td>\n",
       "      <td>2025-06-02 01:03:00</td>\n",
       "      <td>1.13512</td>\n",
       "      <td>2025-06-02 01:05:00</td>\n",
       "      <td>1.1352</td>\n",
       "      <td>0</td>\n",
       "      <td>0</td>\n",
       "      <td>{}</td>\n",
       "      <td>8.0</td>\n",
       "      <td>-7.0</td>\n",
       "      <td>1.0</td>\n",
       "      <td>1.0</td>\n",
       "      <td>10001.0</td>\n",
       "    </tr>\n",
       "    <tr>\n",
       "      <th>1</th>\n",
       "      <td>closed</td>\n",
       "      <td>EURUSD</td>\n",
       "      <td>buy</td>\n",
       "      <td>100000</td>\n",
       "      <td>2025-06-02 01:18:00</td>\n",
       "      <td>1.13548</td>\n",
       "      <td>2025-06-02 01:26:00</td>\n",
       "      <td>1.13517</td>\n",
       "      <td>0</td>\n",
       "      <td>0</td>\n",
       "      <td>{}</td>\n",
       "      <td>-31.0</td>\n",
       "      <td>-7.0</td>\n",
       "      <td>-38.0</td>\n",
       "      <td>-37.0</td>\n",
       "      <td>9963.0</td>\n",
       "    </tr>\n",
       "    <tr>\n",
       "      <th>2</th>\n",
       "      <td>closed</td>\n",
       "      <td>EURUSD</td>\n",
       "      <td>buy</td>\n",
       "      <td>100000</td>\n",
       "      <td>2025-06-02 01:19:00</td>\n",
       "      <td>1.13565</td>\n",
       "      <td>2025-06-02 01:44:00</td>\n",
       "      <td>1.13485</td>\n",
       "      <td>0</td>\n",
       "      <td>0</td>\n",
       "      <td>{}</td>\n",
       "      <td>-80.0</td>\n",
       "      <td>-7.0</td>\n",
       "      <td>-87.0</td>\n",
       "      <td>-124.0</td>\n",
       "      <td>9876.0</td>\n",
       "    </tr>\n",
       "    <tr>\n",
       "      <th>3</th>\n",
       "      <td>closed</td>\n",
       "      <td>EURUSD</td>\n",
       "      <td>buy</td>\n",
       "      <td>100000</td>\n",
       "      <td>2025-06-02 01:26:00</td>\n",
       "      <td>1.13517</td>\n",
       "      <td>2025-06-02 01:46:00</td>\n",
       "      <td>1.13504</td>\n",
       "      <td>0</td>\n",
       "      <td>0</td>\n",
       "      <td>{}</td>\n",
       "      <td>-13.0</td>\n",
       "      <td>-7.0</td>\n",
       "      <td>-20.0</td>\n",
       "      <td>-144.0</td>\n",
       "      <td>9856.0</td>\n",
       "    </tr>\n",
       "    <tr>\n",
       "      <th>4</th>\n",
       "      <td>closed</td>\n",
       "      <td>EURUSD</td>\n",
       "      <td>buy</td>\n",
       "      <td>100000</td>\n",
       "      <td>2025-06-02 02:02:00</td>\n",
       "      <td>1.1355</td>\n",
       "      <td>2025-06-02 02:21:00</td>\n",
       "      <td>1.13561</td>\n",
       "      <td>0</td>\n",
       "      <td>0</td>\n",
       "      <td>{}</td>\n",
       "      <td>11.0</td>\n",
       "      <td>-7.0</td>\n",
       "      <td>4.0</td>\n",
       "      <td>-140.0</td>\n",
       "      <td>9860.0</td>\n",
       "    </tr>\n",
       "    <tr>\n",
       "      <th>...</th>\n",
       "      <td>...</td>\n",
       "      <td>...</td>\n",
       "      <td>...</td>\n",
       "      <td>...</td>\n",
       "      <td>...</td>\n",
       "      <td>...</td>\n",
       "      <td>...</td>\n",
       "      <td>...</td>\n",
       "      <td>...</td>\n",
       "      <td>...</td>\n",
       "      <td>...</td>\n",
       "      <td>...</td>\n",
       "      <td>...</td>\n",
       "      <td>...</td>\n",
       "      <td>...</td>\n",
       "      <td>...</td>\n",
       "    </tr>\n",
       "    <tr>\n",
       "      <th>2995</th>\n",
       "      <td>closed</td>\n",
       "      <td>EURUSD</td>\n",
       "      <td>buy</td>\n",
       "      <td>100000</td>\n",
       "      <td>2025-07-14 07:35:00</td>\n",
       "      <td>1.16775</td>\n",
       "      <td>2025-07-14 07:39:00</td>\n",
       "      <td>1.16791</td>\n",
       "      <td>0</td>\n",
       "      <td>0</td>\n",
       "      <td>{}</td>\n",
       "      <td>16.0</td>\n",
       "      <td>-7.0</td>\n",
       "      <td>9.0</td>\n",
       "      <td>758.0</td>\n",
       "      <td>10758.0</td>\n",
       "    </tr>\n",
       "    <tr>\n",
       "      <th>2996</th>\n",
       "      <td>closed</td>\n",
       "      <td>EURUSD</td>\n",
       "      <td>buy</td>\n",
       "      <td>100000</td>\n",
       "      <td>2025-07-14 07:39:00</td>\n",
       "      <td>1.16791</td>\n",
       "      <td>2025-07-14 07:44:00</td>\n",
       "      <td>1.16791</td>\n",
       "      <td>0</td>\n",
       "      <td>0</td>\n",
       "      <td>{}</td>\n",
       "      <td>0.0</td>\n",
       "      <td>-7.0</td>\n",
       "      <td>-7.0</td>\n",
       "      <td>751.0</td>\n",
       "      <td>10751.0</td>\n",
       "    </tr>\n",
       "    <tr>\n",
       "      <th>2997</th>\n",
       "      <td>closed</td>\n",
       "      <td>EURUSD</td>\n",
       "      <td>buy</td>\n",
       "      <td>100000</td>\n",
       "      <td>2025-07-14 07:40:00</td>\n",
       "      <td>1.16805</td>\n",
       "      <td>2025-07-14 07:45:00</td>\n",
       "      <td>1.16781</td>\n",
       "      <td>0</td>\n",
       "      <td>0</td>\n",
       "      <td>{}</td>\n",
       "      <td>-24.0</td>\n",
       "      <td>-7.0</td>\n",
       "      <td>-31.0</td>\n",
       "      <td>720.0</td>\n",
       "      <td>10720.0</td>\n",
       "    </tr>\n",
       "    <tr>\n",
       "      <th>2998</th>\n",
       "      <td>closed</td>\n",
       "      <td>EURUSD</td>\n",
       "      <td>buy</td>\n",
       "      <td>100000</td>\n",
       "      <td>2025-07-14 08:04:00</td>\n",
       "      <td>1.16724</td>\n",
       "      <td>2025-07-14 08:05:00</td>\n",
       "      <td>1.16745</td>\n",
       "      <td>0</td>\n",
       "      <td>0</td>\n",
       "      <td>{}</td>\n",
       "      <td>21.0</td>\n",
       "      <td>-7.0</td>\n",
       "      <td>14.0</td>\n",
       "      <td>734.0</td>\n",
       "      <td>10734.0</td>\n",
       "    </tr>\n",
       "    <tr>\n",
       "      <th>2999</th>\n",
       "      <td>closed</td>\n",
       "      <td>EURUSD</td>\n",
       "      <td>buy</td>\n",
       "      <td>100000</td>\n",
       "      <td>2025-07-14 08:11:00</td>\n",
       "      <td>1.16759</td>\n",
       "      <td>2025-07-14 08:13:00</td>\n",
       "      <td>1.16755</td>\n",
       "      <td>0</td>\n",
       "      <td>0</td>\n",
       "      <td>{}</td>\n",
       "      <td>-4.0</td>\n",
       "      <td>-7.0</td>\n",
       "      <td>-11.0</td>\n",
       "      <td>723.0</td>\n",
       "      <td>10723.0</td>\n",
       "    </tr>\n",
       "  </tbody>\n",
       "</table>\n",
       "<p>3000 rows × 16 columns</p>\n",
       "</div>"
      ],
      "text/plain": [
       "       state  symbol order_type  volume            open_time open_price  \\\n",
       "0     closed  EURUSD        buy  100000  2025-06-02 01:03:00    1.13512   \n",
       "1     closed  EURUSD        buy  100000  2025-06-02 01:18:00    1.13548   \n",
       "2     closed  EURUSD        buy  100000  2025-06-02 01:19:00    1.13565   \n",
       "3     closed  EURUSD        buy  100000  2025-06-02 01:26:00    1.13517   \n",
       "4     closed  EURUSD        buy  100000  2025-06-02 02:02:00     1.1355   \n",
       "...      ...     ...        ...     ...                  ...        ...   \n",
       "2995  closed  EURUSD        buy  100000  2025-07-14 07:35:00    1.16775   \n",
       "2996  closed  EURUSD        buy  100000  2025-07-14 07:39:00    1.16791   \n",
       "2997  closed  EURUSD        buy  100000  2025-07-14 07:40:00    1.16805   \n",
       "2998  closed  EURUSD        buy  100000  2025-07-14 08:04:00    1.16724   \n",
       "2999  closed  EURUSD        buy  100000  2025-07-14 08:11:00    1.16759   \n",
       "\n",
       "               close_time close_price sl tp info  profit commission  \\\n",
       "0     2025-06-02 01:05:00      1.1352  0  0   {}     8.0       -7.0   \n",
       "1     2025-06-02 01:26:00     1.13517  0  0   {}   -31.0       -7.0   \n",
       "2     2025-06-02 01:44:00     1.13485  0  0   {}   -80.0       -7.0   \n",
       "3     2025-06-02 01:46:00     1.13504  0  0   {}   -13.0       -7.0   \n",
       "4     2025-06-02 02:21:00     1.13561  0  0   {}    11.0       -7.0   \n",
       "...                   ...         ... .. ..  ...     ...        ...   \n",
       "2995  2025-07-14 07:39:00     1.16791  0  0   {}    16.0       -7.0   \n",
       "2996  2025-07-14 07:44:00     1.16791  0  0   {}     0.0       -7.0   \n",
       "2997  2025-07-14 07:45:00     1.16781  0  0   {}   -24.0       -7.0   \n",
       "2998  2025-07-14 08:05:00     1.16745  0  0   {}    21.0       -7.0   \n",
       "2999  2025-07-14 08:13:00     1.16755  0  0   {}    -4.0       -7.0   \n",
       "\n",
       "     profit_net profit_cumulative  balance  \n",
       "0           1.0               1.0  10001.0  \n",
       "1         -38.0             -37.0   9963.0  \n",
       "2         -87.0            -124.0   9876.0  \n",
       "3         -20.0            -144.0   9856.0  \n",
       "4           4.0            -140.0   9860.0  \n",
       "...         ...               ...      ...  \n",
       "2995        9.0             758.0  10758.0  \n",
       "2996       -7.0             751.0  10751.0  \n",
       "2997      -31.0             720.0  10720.0  \n",
       "2998       14.0             734.0  10734.0  \n",
       "2999      -11.0             723.0  10723.0  \n",
       "\n",
       "[3000 rows x 16 columns]"
      ]
     },
     "execution_count": 96,
     "metadata": {},
     "output_type": "execute_result"
    }
   ],
   "source": [
    "# backtest parameters\n",
    "starting_balance = 10000\n",
    "currency = 'USD'\n",
    "exchange_rate = 1\n",
    "commission = -7 / 100000\n",
    "\n",
    "# backtest\n",
    "bt = Backtester()\n",
    "bt.set_starting_balance(starting_balance, currency=currency)\n",
    "bt.set_exchange_rate(exchange_rate)\n",
    "bt.set_commission(commission)\n",
    "\n",
    "bt.set_historical_data(df)\n",
    "bt.set_on_bar(on_bar)\n",
    "\n",
    "bt.run_backtest()\n",
    "\n",
    "bt.trades\n"
   ]
  },
  {
   "cell_type": "code",
   "execution_count": 70,
   "id": "68ca610f",
   "metadata": {},
   "outputs": [
    {
     "data": {
      "application/vnd.plotly.v1+json": {
       "config": {
        "plotlyServerURL": "https://plot.ly"
       },
       "data": [
        {
         "hovertemplate": "close_time=%{x}<br>balance=%{y}<extra></extra>",
         "legendgroup": "",
         "line": {
          "color": "#636efa",
          "dash": "solid"
         },
         "marker": {
          "symbol": "circle"
         },
         "mode": "lines",
         "name": "",
         "showlegend": false,
         "type": "scattergl",
         "x": [
          "2025-06-02T01:05:00",
          "2025-06-02T01:26:00",
          "2025-06-02T01:44:00",
          "2025-06-02T01:46:00",
          "2025-06-02T02:21:00",
          "2025-06-02T02:27:00",
          "2025-06-02T02:49:00",
          "2025-06-02T02:57:00",
          "2025-06-02T03:01:00",
          "2025-06-02T03:02:00",
          "2025-06-02T03:04:00",
          "2025-06-02T03:16:00",
          "2025-06-02T03:53:00",
          "2025-06-02T03:54:00",
          "2025-06-02T04:07:00",
          "2025-06-02T04:15:00",
          "2025-06-02T04:25:00",
          "2025-06-02T04:37:00",
          "2025-06-02T05:16:00",
          "2025-06-02T05:30:00",
          "2025-06-02T08:00:00",
          "2025-06-02T08:08:00",
          "2025-06-02T08:42:00",
          "2025-06-02T08:45:00",
          "2025-06-02T08:48:00",
          "2025-06-02T08:57:00",
          "2025-06-02T09:02:00",
          "2025-06-02T09:04:00",
          "2025-06-02T09:26:00",
          "2025-06-02T09:40:00",
          "2025-06-02T09:47:00",
          "2025-06-02T10:01:00",
          "2025-06-02T10:03:00",
          "2025-06-02T10:04:00",
          "2025-06-02T10:14:00",
          "2025-06-02T10:20:00",
          "2025-06-02T10:37:00",
          "2025-06-02T10:42:00",
          "2025-06-02T10:45:00",
          "2025-06-02T10:49:00",
          "2025-06-02T10:50:00",
          "2025-06-02T10:51:00",
          "2025-06-02T10:54:00",
          "2025-06-02T11:03:00",
          "2025-06-02T11:33:00",
          "2025-06-02T11:35:00",
          "2025-06-02T11:51:00",
          "2025-06-02T11:57:00",
          "2025-06-02T12:00:00",
          "2025-06-02T12:03:00",
          "2025-06-02T12:05:00",
          "2025-06-02T12:07:00",
          "2025-06-02T12:28:00",
          "2025-06-02T12:30:00",
          "2025-06-02T12:56:00",
          "2025-06-02T13:27:00",
          "2025-06-02T14:11:00",
          "2025-06-02T14:15:00",
          "2025-06-02T14:56:00",
          "2025-06-02T15:01:00",
          "2025-06-02T15:07:00",
          "2025-06-02T15:11:00",
          "2025-06-02T15:31:00",
          "2025-06-02T15:34:00",
          "2025-06-02T16:25:00",
          "2025-06-02T16:37:00",
          "2025-06-02T17:00:00",
          "2025-06-02T17:05:00",
          "2025-06-02T17:39:00",
          "2025-06-02T18:03:00",
          "2025-06-02T18:06:00",
          "2025-06-02T18:37:00",
          "2025-06-02T18:41:00",
          "2025-06-02T19:17:00",
          "2025-06-02T19:41:00",
          "2025-06-02T20:00:00",
          "2025-06-02T20:03:00",
          "2025-06-02T20:36:00",
          "2025-06-02T20:48:00",
          "2025-06-02T20:52:00",
          "2025-06-02T21:00:00",
          "2025-06-02T21:07:00",
          "2025-06-02T21:17:00",
          "2025-06-02T21:33:00",
          "2025-06-02T21:41:00",
          "2025-06-02T21:47:00",
          "2025-06-02T21:54:00",
          "2025-06-02T22:02:00",
          "2025-06-02T22:03:00",
          "2025-06-02T22:04:00",
          "2025-06-02T22:20:00",
          "2025-06-02T22:32:00",
          "2025-06-02T22:57:00",
          "2025-06-02T23:04:00",
          "2025-06-02T23:07:00",
          "2025-06-02T23:23:00",
          "2025-06-02T23:37:00",
          "2025-06-03T01:10:00",
          "2025-06-03T01:16:00",
          "2025-06-03T01:21:00",
          "2025-06-03T01:24:00",
          "2025-06-03T01:48:00",
          "2025-06-03T01:49:00",
          "2025-06-03T02:00:00",
          "2025-06-03T02:03:00",
          "2025-06-03T02:10:00",
          "2025-06-03T02:16:00",
          "2025-06-03T02:25:00",
          "2025-06-03T02:26:00",
          "2025-06-03T02:33:00",
          "2025-06-03T02:44:00",
          "2025-06-03T02:49:00",
          "2025-06-03T03:01:00",
          "2025-06-03T03:29:00",
          "2025-06-03T03:35:00",
          "2025-06-03T03:55:00",
          "2025-06-03T04:00:00",
          "2025-06-03T04:01:00",
          "2025-06-03T04:03:00",
          "2025-06-03T04:07:00",
          "2025-06-03T05:17:00",
          "2025-06-03T06:01:00",
          "2025-06-03T06:07:00",
          "2025-06-03T06:15:00",
          "2025-06-03T06:19:00",
          "2025-06-03T06:21:00",
          "2025-06-03T06:59:00",
          "2025-06-03T07:00:00",
          "2025-06-03T07:02:00",
          "2025-06-03T07:15:00",
          "2025-06-03T07:18:00",
          "2025-06-03T07:37:00",
          "2025-06-03T07:55:00",
          "2025-06-03T07:59:00",
          "2025-06-03T08:03:00",
          "2025-06-03T08:04:00",
          "2025-06-03T08:09:00",
          "2025-06-03T08:12:00",
          "2025-06-03T08:15:00",
          "2025-06-03T08:52:00",
          "2025-06-03T09:00:00",
          "2025-06-03T09:03:00",
          "2025-06-03T09:09:00",
          "2025-06-03T09:16:00",
          "2025-06-03T09:18:00",
          "2025-06-03T09:32:00",
          "2025-06-03T09:34:00",
          "2025-06-03T09:45:00",
          "2025-06-03T09:59:00",
          "2025-06-03T10:26:00",
          "2025-06-03T10:32:00",
          "2025-06-03T11:00:00",
          "2025-06-03T11:38:00",
          "2025-06-03T12:00:00",
          "2025-06-03T12:39:00",
          "2025-06-03T12:44:00",
          "2025-06-03T12:56:00",
          "2025-06-04T11:56:00",
          "2025-06-04T12:00:00",
          "2025-06-04T15:20:00",
          "2025-06-04T15:40:00",
          "2025-06-04T15:42:00",
          "2025-06-04T15:55:00",
          "2025-06-04T15:56:00",
          "2025-06-04T16:00:00",
          "2025-06-04T16:02:00",
          "2025-06-04T16:31:00",
          "2025-06-04T16:32:00",
          "2025-06-04T17:00:00",
          "2025-06-04T17:02:00",
          "2025-06-04T17:07:00",
          "2025-06-04T17:31:00",
          "2025-06-04T17:49:00",
          "2025-06-04T17:56:00",
          "2025-06-04T18:19:00",
          "2025-06-04T18:28:00",
          "2025-06-04T18:30:00",
          "2025-06-04T18:36:00",
          "2025-06-04T18:48:00",
          "2025-06-04T19:35:00",
          "2025-06-04T19:38:00",
          "2025-06-04T19:57:00",
          "2025-06-04T20:06:00",
          "2025-06-04T20:07:00",
          "2025-06-04T20:16:00",
          "2025-06-04T20:30:00",
          "2025-06-04T20:31:00",
          "2025-06-04T20:33:00",
          "2025-06-04T20:51:00",
          "2025-06-04T21:30:00",
          "2025-06-04T22:50:00",
          "2025-06-04T23:24:00",
          "2025-06-04T23:25:00",
          "2025-06-04T23:36:00",
          "2025-06-04T23:47:00",
          "2025-06-05T01:09:00",
          "2025-06-05T01:13:00",
          "2025-06-05T01:21:00",
          "2025-06-05T01:24:00",
          "2025-06-05T01:29:00",
          "2025-06-05T01:45:00",
          "2025-06-05T01:54:00",
          "2025-06-05T02:10:00",
          "2025-06-05T02:18:00",
          "2025-06-05T02:19:00",
          "2025-06-05T02:20:00",
          "2025-06-05T02:39:00",
          "2025-06-05T02:40:00",
          "2025-06-05T03:18:00",
          "2025-06-05T03:54:00",
          "2025-06-05T04:03:00",
          "2025-06-05T04:13:00",
          "2025-06-05T04:18:00",
          "2025-06-05T05:07:00",
          "2025-06-05T05:29:00",
          "2025-06-05T05:50:00",
          "2025-06-05T05:55:00",
          "2025-06-05T06:00:00",
          "2025-06-05T06:23:00",
          "2025-06-05T06:27:00",
          "2025-06-05T06:31:00",
          "2025-06-05T06:36:00",
          "2025-06-05T06:37:00",
          "2025-06-05T07:15:00",
          "2025-06-05T07:26:00",
          "2025-06-05T07:50:00",
          "2025-06-05T08:00:00",
          "2025-06-05T08:18:00",
          "2025-06-05T08:19:00",
          "2025-06-05T08:23:00",
          "2025-06-05T08:34:00",
          "2025-06-05T08:48:00",
          "2025-06-05T09:05:00",
          "2025-06-05T09:33:00",
          "2025-06-05T09:35:00",
          "2025-06-05T10:02:00",
          "2025-06-05T10:03:00",
          "2025-06-05T10:08:00",
          "2025-06-05T10:31:00",
          "2025-06-05T10:37:00",
          "2025-06-05T10:56:00",
          "2025-06-05T10:57:00",
          "2025-06-05T11:02:00",
          "2025-06-05T11:07:00",
          "2025-06-05T11:22:00",
          "2025-06-05T11:48:00",
          "2025-06-05T11:57:00",
          "2025-06-05T12:06:00",
          "2025-06-05T12:28:00",
          "2025-06-05T12:31:00",
          "2025-06-05T12:38:00",
          "2025-06-05T12:41:00",
          "2025-06-05T12:48:00",
          "2025-06-05T13:05:00",
          "2025-06-05T13:08:00",
          "2025-06-05T13:10:00",
          "2025-06-05T13:15:00",
          "2025-06-05T13:29:00",
          "2025-06-05T14:00:00",
          "2025-06-05T14:12:00",
          "2025-06-05T14:34:00",
          "2025-06-05T14:39:00",
          "2025-06-05T14:50:00",
          "2025-06-05T15:00:00",
          "2025-06-05T15:12:00",
          "2025-06-05T15:30:00",
          "2025-06-05T15:42:00",
          "2025-06-05T15:47:00",
          "2025-06-05T16:08:00",
          "2025-06-05T16:20:00",
          "2025-06-05T16:23:00",
          "2025-06-05T16:26:00",
          "2025-06-05T16:39:00",
          "2025-06-05T17:24:00",
          "2025-06-05T17:30:00",
          "2025-06-05T17:41:00",
          "2025-06-05T18:25:00",
          "2025-06-05T18:49:00",
          "2025-06-05T19:21:00",
          "2025-06-05T19:52:00",
          "2025-06-05T19:58:00",
          "2025-06-05T20:12:00",
          "2025-06-05T20:13:00",
          "2025-06-05T20:14:00",
          "2025-06-05T20:43:00",
          "2025-06-05T21:02:00",
          "2025-06-05T21:05:00",
          "2025-06-05T21:16:00",
          "2025-06-05T21:20:00",
          "2025-06-05T21:28:00",
          "2025-06-05T21:30:00",
          "2025-06-05T21:38:00",
          "2025-06-05T21:42:00",
          "2025-06-05T22:02:00",
          "2025-06-05T22:06:00",
          "2025-06-05T22:07:00",
          "2025-06-05T22:11:00",
          "2025-06-06T01:16:00",
          "2025-06-06T01:24:00",
          "2025-06-06T01:27:00",
          "2025-06-06T01:29:00",
          "2025-06-06T01:35:00",
          "2025-06-06T01:39:00",
          "2025-06-06T01:58:00",
          "2025-06-06T01:59:00",
          "2025-06-06T02:00:00",
          "2025-06-06T02:03:00",
          "2025-06-06T02:04:00",
          "2025-06-06T02:34:00",
          "2025-06-06T02:46:00",
          "2025-06-06T02:58:00",
          "2025-06-06T03:05:00",
          "2025-06-06T03:31:00",
          "2025-06-06T03:32:00",
          "2025-06-06T03:36:00",
          "2025-06-06T03:52:00",
          "2025-06-06T03:55:00",
          "2025-06-06T04:24:00",
          "2025-06-06T04:29:00",
          "2025-06-06T04:31:00",
          "2025-06-06T04:57:00",
          "2025-06-06T05:50:00",
          "2025-06-06T05:55:00",
          "2025-06-06T05:56:00",
          "2025-06-06T05:58:00",
          "2025-06-06T06:19:00",
          "2025-06-06T06:25:00",
          "2025-06-06T06:40:00",
          "2025-06-06T07:02:00",
          "2025-06-06T07:55:00",
          "2025-06-06T08:00:00",
          "2025-06-06T08:04:00",
          "2025-06-06T08:57:00",
          "2025-06-06T09:00:00",
          "2025-06-06T09:03:00",
          "2025-06-06T09:22:00",
          "2025-06-06T09:24:00",
          "2025-06-06T09:31:00",
          "2025-06-06T09:38:00",
          "2025-06-06T09:56:00",
          "2025-06-06T09:57:00",
          "2025-06-06T10:07:00",
          "2025-06-06T10:28:00",
          "2025-06-06T10:44:00",
          "2025-06-06T10:55:00",
          "2025-06-06T11:03:00",
          "2025-06-06T11:26:00",
          "2025-06-06T11:29:00",
          "2025-06-06T12:30:00",
          "2025-06-06T12:45:00",
          "2025-06-06T13:05:00",
          "2025-06-06T13:10:00",
          "2025-06-06T13:24:00",
          "2025-06-06T13:32:00",
          "2025-06-06T14:02:00",
          "2025-06-06T14:03:00",
          "2025-06-06T14:16:00",
          "2025-06-06T14:23:00",
          "2025-06-06T14:31:00",
          "2025-06-06T14:32:00",
          "2025-06-06T14:34:00",
          "2025-06-06T14:43:00",
          "2025-06-06T14:51:00",
          "2025-06-06T15:06:00",
          "2025-06-06T15:30:00",
          "2025-06-06T15:33:00",
          "2025-06-06T15:34:00",
          "2025-06-09T04:50:00",
          "2025-06-09T04:56:00",
          "2025-06-09T05:00:00",
          "2025-06-09T05:01:00",
          "2025-06-09T05:09:00",
          "2025-06-09T05:27:00",
          "2025-06-09T05:38:00",
          "2025-06-09T05:54:00",
          "2025-06-09T05:58:00",
          "2025-06-09T06:14:00",
          "2025-06-09T06:50:00",
          "2025-06-09T06:57:00",
          "2025-06-09T07:12:00",
          "2025-06-09T07:18:00",
          "2025-06-09T07:32:00",
          "2025-06-09T07:35:00",
          "2025-06-09T07:48:00",
          "2025-06-09T08:13:00",
          "2025-06-09T08:15:00",
          "2025-06-09T08:20:00",
          "2025-06-09T08:47:00",
          "2025-06-09T08:48:00",
          "2025-06-09T08:49:00",
          "2025-06-09T08:50:00",
          "2025-06-09T08:51:00",
          "2025-06-09T08:55:00",
          "2025-06-09T09:10:00",
          "2025-06-09T09:15:00",
          "2025-06-09T09:24:00",
          "2025-06-09T09:39:00",
          "2025-06-09T09:46:00",
          "2025-06-09T09:53:00",
          "2025-06-09T10:00:00",
          "2025-06-09T10:04:00",
          "2025-06-09T10:23:00",
          "2025-06-09T10:33:00",
          "2025-06-09T10:38:00",
          "2025-06-09T10:48:00",
          "2025-06-09T10:58:00",
          "2025-06-09T11:05:00",
          "2025-06-09T11:21:00",
          "2025-06-09T11:28:00",
          "2025-06-09T11:29:00",
          "2025-06-09T11:36:00",
          "2025-06-09T11:41:00",
          "2025-06-09T12:03:00",
          "2025-06-09T12:11:00",
          "2025-06-09T12:29:00",
          "2025-06-09T12:38:00",
          "2025-06-09T12:56:00",
          "2025-06-09T13:57:00",
          "2025-06-09T14:03:00",
          "2025-06-09T14:57:00",
          "2025-06-09T15:04:00",
          "2025-06-09T18:36:00",
          "2025-06-09T18:54:00",
          "2025-06-09T19:22:00",
          "2025-06-09T19:24:00",
          "2025-06-09T19:33:00",
          "2025-06-09T19:40:00",
          "2025-06-09T19:46:00",
          "2025-06-09T19:54:00",
          "2025-06-09T20:01:00",
          "2025-06-09T20:14:00",
          "2025-06-09T20:20:00",
          "2025-06-09T20:52:00",
          "2025-06-09T21:23:00",
          "2025-06-09T21:44:00",
          "2025-06-09T21:50:00",
          "2025-06-09T21:58:00",
          "2025-06-09T21:59:00",
          "2025-06-09T22:40:00",
          "2025-06-09T22:56:00",
          "2025-06-09T23:01:00",
          "2025-06-09T23:05:00",
          "2025-06-09T23:26:00",
          "2025-06-09T23:31:00",
          "2025-06-09T23:52:00",
          "2025-06-10T01:01:00",
          "2025-06-10T01:06:00",
          "2025-06-10T01:41:00",
          "2025-06-10T01:46:00",
          "2025-06-10T01:59:00",
          "2025-06-10T02:11:00",
          "2025-06-10T02:15:00",
          "2025-06-10T02:17:00",
          "2025-06-10T02:18:00",
          "2025-06-10T02:20:00",
          "2025-06-10T02:39:00",
          "2025-06-10T02:40:00",
          "2025-06-10T02:42:00",
          "2025-06-10T02:51:00",
          "2025-06-10T02:57:00",
          "2025-06-10T03:03:00",
          "2025-06-10T03:14:00",
          "2025-06-10T03:21:00",
          "2025-06-10T03:26:00",
          "2025-06-10T03:27:00",
          "2025-06-10T03:48:00",
          "2025-06-10T03:54:00",
          "2025-06-10T04:09:00",
          "2025-06-10T04:37:00",
          "2025-06-10T08:47:00",
          "2025-06-10T09:33:00",
          "2025-06-10T12:50:00",
          "2025-06-10T13:08:00",
          "2025-06-10T13:09:00",
          "2025-06-10T13:13:00",
          "2025-06-10T13:25:00",
          "2025-06-10T13:26:00",
          "2025-06-10T13:30:00",
          "2025-06-10T13:36:00",
          "2025-06-10T13:43:00",
          "2025-06-10T13:55:00",
          "2025-06-10T14:25:00",
          "2025-06-10T14:31:00",
          "2025-06-10T14:45:00",
          "2025-06-10T14:54:00",
          "2025-06-10T14:57:00",
          "2025-06-10T14:58:00",
          "2025-06-10T15:00:00",
          "2025-06-10T15:02:00",
          "2025-06-10T15:10:00",
          "2025-06-10T15:40:00",
          "2025-06-10T15:42:00",
          "2025-06-10T15:46:00",
          "2025-06-10T15:56:00",
          "2025-06-10T16:00:00",
          "2025-06-10T16:07:00",
          "2025-06-10T16:10:00",
          "2025-06-10T16:12:00",
          "2025-06-10T16:27:00",
          "2025-06-10T16:59:00",
          "2025-06-10T17:00:00",
          "2025-06-10T17:11:00",
          "2025-06-10T17:31:00",
          "2025-06-10T17:33:00",
          "2025-06-10T18:14:00",
          "2025-06-10T18:18:00",
          "2025-06-10T18:19:00",
          "2025-06-10T18:35:00",
          "2025-06-10T18:40:00",
          "2025-06-10T18:52:00",
          "2025-06-10T19:02:00",
          "2025-06-10T19:07:00",
          "2025-06-10T19:53:00",
          "2025-06-10T20:26:00",
          "2025-06-10T20:43:00",
          "2025-06-10T21:09:00",
          "2025-06-10T21:26:00",
          "2025-06-10T21:46:00",
          "2025-06-10T21:57:00",
          "2025-06-10T22:07:00",
          "2025-06-10T22:10:00",
          "2025-06-10T22:18:00",
          "2025-06-10T22:22:00",
          "2025-06-10T22:33:00",
          "2025-06-10T22:40:00",
          "2025-06-10T22:47:00",
          "2025-06-10T22:48:00",
          "2025-06-10T23:16:00",
          "2025-06-11T01:30:00",
          "2025-06-11T01:39:00",
          "2025-06-11T01:54:00",
          "2025-06-11T02:09:00",
          "2025-06-11T02:12:00",
          "2025-06-11T02:36:00",
          "2025-06-11T02:44:00",
          "2025-06-11T03:04:00",
          "2025-06-11T03:16:00",
          "2025-06-11T03:27:00",
          "2025-06-11T03:44:00",
          "2025-06-11T04:23:00",
          "2025-06-11T04:29:00",
          "2025-06-11T04:46:00",
          "2025-06-11T05:47:00",
          "2025-06-11T05:48:00",
          "2025-06-11T06:44:00",
          "2025-06-11T07:00:00",
          "2025-06-11T07:23:00",
          "2025-06-11T07:27:00",
          "2025-06-11T07:28:00",
          "2025-06-11T07:50:00",
          "2025-06-11T08:01:00",
          "2025-06-11T08:07:00",
          "2025-06-11T08:08:00",
          "2025-06-11T08:15:00",
          "2025-06-11T08:29:00",
          "2025-06-11T08:42:00",
          "2025-06-11T08:44:00",
          "2025-06-11T08:56:00",
          "2025-06-11T09:01:00",
          "2025-06-11T09:44:00",
          "2025-06-11T09:50:00",
          "2025-06-11T09:55:00",
          "2025-06-11T10:54:00",
          "2025-06-11T11:07:00",
          "2025-06-11T11:17:00",
          "2025-06-11T11:24:00",
          "2025-06-11T11:33:00",
          "2025-06-11T11:35:00",
          "2025-06-11T11:40:00",
          "2025-06-11T11:41:00",
          "2025-06-11T11:57:00",
          "2025-06-11T12:00:00",
          "2025-06-11T12:04:00",
          "2025-06-11T12:05:00",
          "2025-06-11T12:10:00",
          "2025-06-11T12:28:00",
          "2025-06-11T12:38:00",
          "2025-06-11T12:51:00",
          "2025-06-11T13:20:00",
          "2025-06-11T13:23:00",
          "2025-06-11T13:47:00",
          "2025-06-11T14:05:00",
          "2025-06-11T14:15:00",
          "2025-06-11T14:45:00",
          "2025-06-11T14:56:00",
          "2025-06-11T15:02:00",
          "2025-06-11T15:27:00",
          "2025-06-11T15:32:00",
          "2025-06-11T15:35:00",
          "2025-06-11T15:50:00",
          "2025-06-11T16:09:00",
          "2025-06-11T16:11:00",
          "2025-06-11T17:00:00",
          "2025-06-11T17:05:00",
          "2025-06-11T17:10:00",
          "2025-06-11T17:14:00",
          "2025-06-11T17:39:00",
          "2025-06-11T17:55:00",
          "2025-06-11T18:07:00",
          "2025-06-11T18:29:00",
          "2025-06-11T18:30:00",
          "2025-06-11T18:32:00",
          "2025-06-11T19:02:00",
          "2025-06-11T19:24:00",
          "2025-06-11T19:39:00",
          "2025-06-11T19:45:00",
          "2025-06-11T20:02:00",
          "2025-06-11T20:04:00",
          "2025-06-11T20:07:00",
          "2025-06-11T20:08:00",
          "2025-06-11T20:17:00",
          "2025-06-11T20:31:00",
          "2025-06-11T20:32:00",
          "2025-06-11T20:49:00",
          "2025-06-11T20:56:00",
          "2025-06-11T20:57:00",
          "2025-06-11T21:10:00",
          "2025-06-11T21:11:00",
          "2025-06-11T21:15:00",
          "2025-06-11T21:20:00",
          "2025-06-11T21:30:00",
          "2025-06-11T22:12:00",
          "2025-06-11T22:22:00",
          "2025-06-11T22:33:00",
          "2025-06-11T23:02:00",
          "2025-06-11T23:26:00",
          "2025-06-11T23:30:00",
          "2025-06-12T01:01:00",
          "2025-06-12T01:08:00",
          "2025-06-12T01:50:00",
          "2025-06-12T01:55:00",
          "2025-06-12T01:58:00",
          "2025-06-12T01:59:00",
          "2025-06-12T02:05:00",
          "2025-06-12T02:34:00",
          "2025-06-12T02:59:00",
          "2025-06-12T03:00:00",
          "2025-06-12T03:02:00",
          "2025-06-12T03:24:00",
          "2025-06-12T03:27:00",
          "2025-06-12T03:31:00",
          "2025-06-12T03:43:00",
          "2025-06-12T03:46:00",
          "2025-06-12T03:49:00",
          "2025-06-12T03:52:00",
          "2025-06-12T04:23:00",
          "2025-06-12T04:43:00",
          "2025-06-12T05:15:00",
          "2025-06-12T05:23:00",
          "2025-06-12T05:24:00",
          "2025-06-12T05:37:00",
          "2025-06-12T06:01:00",
          "2025-06-12T06:12:00",
          "2025-06-12T06:27:00",
          "2025-06-12T06:38:00",
          "2025-06-12T06:58:00",
          "2025-06-12T07:04:00",
          "2025-06-12T07:36:00",
          "2025-06-12T07:53:00",
          "2025-06-12T07:58:00",
          "2025-06-12T08:20:00",
          "2025-06-12T08:24:00",
          "2025-06-12T08:27:00",
          "2025-06-12T08:45:00",
          "2025-06-12T08:54:00",
          "2025-06-12T09:04:00",
          "2025-06-12T09:22:00",
          "2025-06-12T09:30:00",
          "2025-06-12T09:37:00",
          "2025-06-12T09:55:00",
          "2025-06-12T09:56:00",
          "2025-06-12T09:59:00",
          "2025-06-12T10:00:00",
          "2025-06-12T10:33:00",
          "2025-06-12T10:54:00",
          "2025-06-12T10:57:00",
          "2025-06-12T11:04:00",
          "2025-06-12T11:06:00",
          "2025-06-12T11:15:00",
          "2025-06-12T11:16:00",
          "2025-06-12T11:30:00",
          "2025-06-12T11:48:00",
          "2025-06-12T12:08:00",
          "2025-06-12T12:20:00",
          "2025-06-12T12:22:00",
          "2025-06-12T12:26:00",
          "2025-06-12T12:48:00",
          "2025-06-12T12:52:00",
          "2025-06-12T12:53:00",
          "2025-06-12T12:54:00",
          "2025-06-12T12:55:00",
          "2025-06-12T13:13:00",
          "2025-06-12T13:14:00",
          "2025-06-12T13:18:00",
          "2025-06-12T13:27:00",
          "2025-06-12T13:28:00",
          "2025-06-12T13:46:00",
          "2025-06-12T13:48:00",
          "2025-06-12T13:50:00",
          "2025-06-12T13:52:00",
          "2025-06-12T14:04:00",
          "2025-06-12T14:11:00",
          "2025-06-12T14:46:00",
          "2025-06-12T15:23:00",
          "2025-06-12T15:30:00",
          "2025-06-12T15:31:00",
          "2025-06-12T15:46:00",
          "2025-06-12T16:23:00",
          "2025-06-12T16:32:00",
          "2025-06-12T16:35:00",
          "2025-06-12T16:38:00",
          "2025-06-12T16:42:00",
          "2025-06-12T17:03:00",
          "2025-06-12T17:42:00",
          "2025-06-12T17:45:00",
          "2025-06-12T18:04:00",
          "2025-06-12T18:05:00",
          "2025-06-12T18:21:00",
          "2025-06-12T18:24:00",
          "2025-06-12T18:41:00",
          "2025-06-12T18:59:00",
          "2025-06-12T19:43:00",
          "2025-06-12T19:51:00",
          "2025-06-12T20:35:00",
          "2025-06-12T20:42:00",
          "2025-06-12T21:30:00",
          "2025-06-12T21:35:00",
          "2025-06-12T21:58:00",
          "2025-06-12T22:37:00",
          "2025-06-12T22:39:00",
          "2025-06-12T22:53:00",
          "2025-06-12T23:03:00",
          "2025-06-12T23:05:00",
          "2025-06-12T23:10:00",
          "2025-06-12T23:28:00",
          "2025-06-12T23:31:00",
          "2025-06-12T23:43:00",
          "2025-06-13T01:01:00",
          "2025-06-13T01:13:00",
          "2025-06-13T01:19:00",
          "2025-06-13T01:34:00",
          "2025-06-13T01:38:00",
          "2025-06-13T02:00:00",
          "2025-06-13T02:04:00",
          "2025-06-13T02:10:00",
          "2025-06-13T02:26:00",
          "2025-06-13T02:42:00",
          "2025-06-13T02:44:00",
          "2025-06-13T02:47:00",
          "2025-06-13T02:55:00",
          "2025-06-13T03:00:00",
          "2025-06-13T03:03:00",
          "2025-06-13T03:06:00",
          "2025-06-13T03:31:00",
          "2025-06-13T04:05:00",
          "2025-06-13T04:43:00",
          "2025-06-13T05:11:00",
          "2025-06-13T05:17:00",
          "2025-06-13T05:31:00",
          "2025-06-13T05:37:00",
          "2025-06-13T05:44:00",
          "2025-06-13T06:19:00",
          "2025-06-13T06:21:00",
          "2025-06-13T06:53:00",
          "2025-06-13T07:30:00",
          "2025-06-13T07:44:00",
          "2025-06-13T08:01:00",
          "2025-06-13T08:05:00",
          "2025-06-13T08:17:00",
          "2025-06-13T08:40:00",
          "2025-06-13T08:45:00",
          "2025-06-13T08:52:00",
          "2025-06-13T09:03:00",
          "2025-06-13T09:06:00",
          "2025-06-13T09:18:00",
          "2025-06-13T09:33:00",
          "2025-06-13T09:34:00",
          "2025-06-13T09:37:00",
          "2025-06-13T09:38:00",
          "2025-06-13T09:57:00",
          "2025-06-13T10:00:00",
          "2025-06-13T10:11:00",
          "2025-06-13T10:12:00",
          "2025-06-13T10:29:00",
          "2025-06-13T10:32:00",
          "2025-06-13T10:48:00",
          "2025-06-13T11:24:00",
          "2025-06-13T11:35:00",
          "2025-06-13T11:54:00",
          "2025-06-13T12:01:00",
          "2025-06-13T12:02:00",
          "2025-06-13T12:17:00",
          "2025-06-13T12:23:00",
          "2025-06-13T12:49:00",
          "2025-06-13T12:55:00",
          "2025-06-13T12:57:00",
          "2025-06-13T13:03:00",
          "2025-06-13T13:45:00",
          "2025-06-13T14:14:00",
          "2025-06-13T14:56:00",
          "2025-06-13T15:04:00",
          "2025-06-13T15:12:00",
          "2025-06-13T15:20:00",
          "2025-06-13T15:27:00",
          "2025-06-13T15:34:00",
          "2025-06-13T15:37:00",
          "2025-06-13T15:41:00",
          "2025-06-13T15:46:00",
          "2025-06-13T16:09:00",
          "2025-06-13T16:36:00",
          "2025-06-13T16:37:00",
          "2025-06-13T16:39:00",
          "2025-06-13T17:12:00",
          "2025-06-13T17:20:00",
          "2025-06-13T17:23:00",
          "2025-06-13T17:39:00",
          "2025-06-13T17:44:00",
          "2025-06-13T17:46:00",
          "2025-06-13T17:54:00",
          "2025-06-13T18:07:00",
          "2025-06-13T18:21:00",
          "2025-06-13T18:24:00",
          "2025-06-13T18:25:00",
          "2025-06-13T18:35:00",
          "2025-06-13T19:00:00",
          "2025-06-13T19:18:00",
          "2025-06-13T19:37:00",
          "2025-06-13T19:40:00",
          "2025-06-13T19:55:00",
          "2025-06-13T20:44:00",
          "2025-06-13T20:53:00",
          "2025-06-13T20:59:00",
          "2025-06-13T21:32:00",
          "2025-06-13T21:38:00",
          "2025-06-13T21:39:00",
          "2025-06-13T21:40:00",
          "2025-06-13T22:02:00",
          "2025-06-13T22:33:00",
          "2025-06-13T22:38:00",
          "2025-06-13T22:41:00",
          "2025-06-13T22:56:00",
          "2025-06-13T23:00:00",
          "2025-06-13T23:31:00",
          "2025-06-13T23:33:00",
          "2025-06-13T23:40:00",
          "2025-06-13T23:43:00",
          "2025-06-13T23:44:00",
          "2025-06-13T23:45:00",
          "2025-06-16T00:00:00",
          "2025-06-16T01:21:00",
          "2025-06-16T01:33:00",
          "2025-06-16T01:43:00",
          "2025-06-16T01:49:00",
          "2025-06-16T02:01:00",
          "2025-06-16T02:09:00",
          "2025-06-16T02:50:00",
          "2025-06-16T02:52:00",
          "2025-06-16T03:01:00",
          "2025-06-16T03:03:00",
          "2025-06-16T03:20:00",
          "2025-06-16T03:34:00",
          "2025-06-16T03:51:00",
          "2025-06-16T04:04:00",
          "2025-06-16T04:06:00",
          "2025-06-16T04:07:00",
          "2025-06-16T04:30:00",
          "2025-06-16T04:31:00",
          "2025-06-16T04:35:00",
          "2025-06-16T04:55:00",
          "2025-06-16T05:06:00",
          "2025-06-16T05:37:00",
          "2025-06-16T05:47:00",
          "2025-06-16T06:05:00",
          "2025-06-16T06:27:00",
          "2025-06-16T06:31:00",
          "2025-06-16T06:48:00",
          "2025-06-16T07:00:00",
          "2025-06-16T07:04:00",
          "2025-06-16T07:33:00",
          "2025-06-16T07:43:00",
          "2025-06-16T07:50:00",
          "2025-06-16T08:02:00",
          "2025-06-16T08:06:00",
          "2025-06-16T08:07:00",
          "2025-06-16T08:08:00",
          "2025-06-16T08:15:00",
          "2025-06-16T08:23:00",
          "2025-06-16T08:24:00",
          "2025-06-16T08:30:00",
          "2025-06-16T09:00:00",
          "2025-06-16T09:05:00",
          "2025-06-16T09:07:00",
          "2025-06-16T09:25:00",
          "2025-06-16T09:27:00",
          "2025-06-16T09:30:00",
          "2025-06-16T09:31:00",
          "2025-06-16T09:42:00",
          "2025-06-16T09:44:00",
          "2025-06-16T09:50:00",
          "2025-06-16T09:51:00",
          "2025-06-16T09:52:00",
          "2025-06-16T10:13:00",
          "2025-06-16T10:54:00",
          "2025-06-16T11:34:00",
          "2025-06-16T11:39:00",
          "2025-06-16T11:47:00",
          "2025-06-16T11:49:00",
          "2025-06-16T11:59:00",
          "2025-06-16T12:37:00",
          "2025-06-16T12:40:00",
          "2025-06-16T12:42:00",
          "2025-06-16T12:51:00",
          "2025-06-16T13:09:00",
          "2025-06-16T13:32:00",
          "2025-06-16T13:36:00",
          "2025-06-16T13:45:00",
          "2025-06-16T13:47:00",
          "2025-06-16T14:22:00",
          "2025-06-16T14:33:00",
          "2025-06-16T14:35:00",
          "2025-06-16T15:03:00",
          "2025-06-16T15:30:00",
          "2025-06-16T15:31:00",
          "2025-06-16T16:00:00",
          "2025-06-16T16:05:00",
          "2025-06-16T16:06:00",
          "2025-06-16T16:08:00",
          "2025-06-16T16:25:00",
          "2025-06-16T16:26:00",
          "2025-06-16T16:30:00",
          "2025-06-16T16:37:00",
          "2025-06-16T16:41:00",
          "2025-06-16T16:49:00",
          "2025-06-16T16:56:00",
          "2025-06-16T17:05:00",
          "2025-06-16T17:06:00",
          "2025-06-16T17:12:00",
          "2025-06-16T17:32:00",
          "2025-06-16T19:18:00",
          "2025-06-16T19:40:00",
          "2025-06-16T19:53:00",
          "2025-06-16T20:43:00",
          "2025-06-16T20:45:00",
          "2025-06-16T20:55:00",
          "2025-06-16T21:21:00",
          "2025-06-16T21:22:00",
          "2025-06-16T21:25:00",
          "2025-06-16T21:33:00",
          "2025-06-16T21:40:00",
          "2025-06-16T21:53:00",
          "2025-06-16T21:57:00",
          "2025-06-16T22:00:00",
          "2025-06-16T22:01:00",
          "2025-06-16T22:41:00",
          "2025-06-16T23:02:00",
          "2025-06-16T23:03:00",
          "2025-06-16T23:05:00",
          "2025-06-16T23:26:00",
          "2025-06-16T23:34:00",
          "2025-06-17T01:26:00",
          "2025-06-17T01:48:00",
          "2025-06-17T01:56:00",
          "2025-06-17T01:59:00",
          "2025-06-17T02:07:00",
          "2025-06-17T02:15:00",
          "2025-06-17T02:21:00",
          "2025-06-17T02:29:00",
          "2025-06-17T02:47:00",
          "2025-06-17T02:55:00",
          "2025-06-17T03:00:00",
          "2025-06-17T03:01:00",
          "2025-06-17T03:32:00",
          "2025-06-17T03:33:00",
          "2025-06-17T03:37:00",
          "2025-06-17T03:53:00",
          "2025-06-17T04:06:00",
          "2025-06-17T04:11:00",
          "2025-06-17T04:17:00",
          "2025-06-17T04:18:00",
          "2025-06-17T04:20:00",
          "2025-06-17T04:35:00",
          "2025-06-17T04:48:00",
          "2025-06-17T05:19:00",
          "2025-06-17T05:43:00",
          "2025-06-17T05:52:00",
          "2025-06-17T05:54:00",
          "2025-06-17T06:18:00",
          "2025-06-17T06:20:00",
          "2025-06-17T06:32:00",
          "2025-06-17T06:36:00",
          "2025-06-17T07:05:00",
          "2025-06-17T07:11:00",
          "2025-06-17T07:15:00",
          "2025-06-17T07:19:00",
          "2025-06-17T07:33:00",
          "2025-06-17T07:34:00",
          "2025-06-17T07:35:00",
          "2025-06-17T07:55:00",
          "2025-06-17T08:05:00",
          "2025-06-17T08:16:00",
          "2025-06-17T08:56:00",
          "2025-06-17T09:18:00",
          "2025-06-17T09:31:00",
          "2025-06-17T10:01:00",
          "2025-06-17T10:05:00",
          "2025-06-17T10:26:00",
          "2025-06-17T10:31:00",
          "2025-06-17T10:35:00",
          "2025-06-17T10:36:00",
          "2025-06-17T10:40:00",
          "2025-06-17T10:45:00",
          "2025-06-17T11:04:00",
          "2025-06-17T11:16:00",
          "2025-06-17T11:25:00",
          "2025-06-17T11:39:00",
          "2025-06-17T11:51:00",
          "2025-06-17T11:53:00",
          "2025-06-17T11:54:00",
          "2025-06-17T11:56:00",
          "2025-06-17T12:00:00",
          "2025-06-17T12:06:00",
          "2025-06-17T12:34:00",
          "2025-06-17T12:36:00",
          "2025-06-17T12:43:00",
          "2025-06-17T12:55:00",
          "2025-06-17T12:58:00",
          "2025-06-17T13:12:00",
          "2025-06-17T13:26:00",
          "2025-06-17T13:36:00",
          "2025-06-17T13:40:00",
          "2025-06-17T14:01:00",
          "2025-06-17T14:05:00",
          "2025-06-17T14:10:00",
          "2025-06-17T15:05:00",
          "2025-06-17T15:26:00",
          "2025-06-17T15:30:00",
          "2025-06-17T15:31:00",
          "2025-06-17T16:02:00",
          "2025-06-17T16:15:00",
          "2025-06-17T16:25:00",
          "2025-06-17T16:32:00",
          "2025-06-17T16:48:00",
          "2025-06-17T17:50:00",
          "2025-06-17T17:53:00",
          "2025-06-17T18:03:00",
          "2025-06-17T18:39:00",
          "2025-06-17T19:03:00",
          "2025-06-17T19:08:00",
          "2025-06-17T20:22:00",
          "2025-06-17T20:36:00",
          "2025-06-17T20:45:00",
          "2025-06-17T20:46:00",
          "2025-06-17T21:04:00",
          "2025-06-17T21:21:00",
          "2025-06-17T21:30:00",
          "2025-06-17T21:31:00",
          "2025-06-17T21:44:00",
          "2025-06-17T21:46:00",
          "2025-06-17T21:57:00",
          "2025-06-17T22:25:00",
          "2025-06-17T22:39:00",
          "2025-06-17T23:22:00",
          "2025-06-17T23:24:00",
          "2025-06-17T23:27:00",
          "2025-06-17T23:41:00",
          "2025-06-18T01:05:00",
          "2025-06-18T02:02:00",
          "2025-06-18T02:03:00",
          "2025-06-18T02:14:00",
          "2025-06-18T02:15:00",
          "2025-06-18T02:35:00",
          "2025-06-18T02:38:00",
          "2025-06-18T02:56:00",
          "2025-06-18T03:00:00",
          "2025-06-18T03:02:00",
          "2025-06-18T03:06:00",
          "2025-06-18T03:07:00",
          "2025-06-18T03:08:00",
          "2025-06-18T03:30:00",
          "2025-06-18T03:37:00",
          "2025-06-18T03:44:00",
          "2025-06-18T04:21:00",
          "2025-06-18T04:55:00",
          "2025-06-18T05:20:00",
          "2025-06-18T05:39:00",
          "2025-06-18T05:40:00",
          "2025-06-18T05:44:00",
          "2025-06-18T05:55:00",
          "2025-06-18T06:03:00",
          "2025-06-18T06:24:00",
          "2025-06-18T06:29:00",
          "2025-06-18T06:33:00",
          "2025-06-18T06:37:00",
          "2025-06-18T07:31:00",
          "2025-06-18T07:37:00",
          "2025-06-18T07:39:00",
          "2025-06-18T07:43:00",
          "2025-06-18T08:28:00",
          "2025-06-18T08:32:00",
          "2025-06-18T08:34:00",
          "2025-06-18T08:44:00",
          "2025-06-18T08:48:00",
          "2025-06-18T08:49:00",
          "2025-06-18T08:52:00",
          "2025-06-18T08:56:00",
          "2025-06-18T09:03:00",
          "2025-06-18T09:15:00",
          "2025-06-18T09:17:00",
          "2025-06-18T09:24:00",
          "2025-06-18T09:50:00",
          "2025-06-18T09:57:00",
          "2025-06-18T09:58:00",
          "2025-06-18T10:01:00",
          "2025-06-18T11:04:00",
          "2025-06-18T11:40:00",
          "2025-06-18T11:41:00",
          "2025-06-18T11:47:00",
          "2025-06-18T11:55:00",
          "2025-06-18T12:10:00",
          "2025-06-18T12:15:00",
          "2025-06-18T12:28:00",
          "2025-06-18T12:39:00",
          "2025-06-18T12:55:00",
          "2025-06-18T14:16:00",
          "2025-06-18T14:22:00",
          "2025-06-18T15:04:00",
          "2025-06-18T15:10:00",
          "2025-06-18T15:16:00",
          "2025-06-18T15:23:00",
          "2025-06-18T15:24:00",
          "2025-06-18T15:34:00",
          "2025-06-18T15:43:00",
          "2025-06-18T16:06:00",
          "2025-06-18T16:09:00",
          "2025-06-18T16:12:00",
          "2025-06-18T16:36:00",
          "2025-06-18T17:02:00",
          "2025-06-18T17:03:00",
          "2025-06-18T17:04:00",
          "2025-06-18T17:05:00",
          "2025-06-18T17:31:00",
          "2025-06-18T17:51:00",
          "2025-06-18T18:03:00",
          "2025-06-18T18:18:00",
          "2025-06-18T18:23:00",
          "2025-06-18T18:26:00",
          "2025-06-18T18:37:00",
          "2025-06-18T18:57:00",
          "2025-06-18T19:02:00",
          "2025-06-18T19:17:00",
          "2025-06-18T19:35:00",
          "2025-06-18T20:01:00",
          "2025-06-18T20:08:00",
          "2025-06-18T20:09:00",
          "2025-06-18T20:31:00",
          "2025-06-18T20:53:00",
          "2025-06-18T20:58:00",
          "2025-06-18T20:59:00",
          "2025-06-18T21:01:00",
          "2025-06-18T21:41:00",
          "2025-06-18T22:13:00",
          "2025-06-18T22:14:00",
          "2025-06-18T22:32:00",
          "2025-06-18T23:06:00",
          "2025-06-18T23:42:00",
          "2025-06-19T01:25:00",
          "2025-06-19T01:26:00",
          "2025-06-19T01:31:00",
          "2025-06-19T01:42:00",
          "2025-06-19T01:45:00",
          "2025-06-19T02:03:00",
          "2025-06-19T02:36:00",
          "2025-06-19T02:39:00",
          "2025-06-19T02:55:00",
          "2025-06-19T03:05:00",
          "2025-06-19T03:31:00",
          "2025-06-19T03:34:00",
          "2025-06-19T03:53:00",
          "2025-06-19T10:24:00",
          "2025-06-19T11:47:00",
          "2025-06-19T11:52:00",
          "2025-06-19T12:00:00",
          "2025-06-19T12:50:00",
          "2025-06-19T13:08:00",
          "2025-06-19T14:00:00",
          "2025-06-19T14:06:00",
          "2025-06-19T14:22:00",
          "2025-06-19T14:28:00",
          "2025-06-19T14:37:00",
          "2025-06-19T15:02:00",
          "2025-06-19T15:03:00",
          "2025-06-19T15:04:00",
          "2025-06-19T15:09:00",
          "2025-06-19T15:10:00",
          "2025-06-19T15:28:00",
          "2025-06-19T15:35:00",
          "2025-06-19T15:37:00",
          "2025-06-19T15:43:00",
          "2025-06-19T15:50:00",
          "2025-06-19T15:56:00",
          "2025-06-19T16:37:00",
          "2025-06-19T16:46:00",
          "2025-06-19T16:54:00",
          "2025-06-19T17:01:00",
          "2025-06-19T17:17:00",
          "2025-06-19T17:21:00",
          "2025-06-19T20:45:00",
          "2025-06-19T21:12:00",
          "2025-06-19T21:34:00",
          "2025-06-19T21:38:00",
          "2025-06-19T21:39:00",
          "2025-06-19T21:52:00",
          "2025-06-19T22:07:00",
          "2025-06-19T22:09:00",
          "2025-06-19T22:11:00",
          "2025-06-19T22:14:00",
          "2025-06-19T22:22:00",
          "2025-06-19T22:33:00",
          "2025-06-19T22:45:00",
          "2025-06-19T22:51:00",
          "2025-06-19T23:00:00",
          "2025-06-19T23:01:00",
          "2025-06-19T23:27:00",
          "2025-06-19T23:31:00",
          "2025-06-19T23:35:00",
          "2025-06-19T23:40:00",
          "2025-06-20T01:07:00",
          "2025-06-20T01:14:00",
          "2025-06-20T01:17:00",
          "2025-06-20T01:33:00",
          "2025-06-20T01:35:00",
          "2025-06-20T01:44:00",
          "2025-06-20T01:50:00",
          "2025-06-20T02:09:00",
          "2025-06-20T02:16:00",
          "2025-06-20T02:28:00",
          "2025-06-20T02:41:00",
          "2025-06-20T02:43:00",
          "2025-06-20T02:47:00",
          "2025-06-20T02:48:00",
          "2025-06-20T03:37:00",
          "2025-06-20T03:41:00",
          "2025-06-20T03:42:00",
          "2025-06-20T03:44:00",
          "2025-06-20T03:47:00",
          "2025-06-20T03:52:00",
          "2025-06-20T03:53:00",
          "2025-06-20T03:57:00",
          "2025-06-20T04:24:00",
          "2025-06-20T05:17:00",
          "2025-06-20T05:32:00",
          "2025-06-20T05:33:00",
          "2025-06-20T05:39:00",
          "2025-06-20T05:49:00",
          "2025-06-20T05:56:00",
          "2025-06-20T06:03:00",
          "2025-06-20T06:09:00",
          "2025-06-20T06:10:00",
          "2025-06-20T06:19:00",
          "2025-06-20T06:23:00",
          "2025-06-20T06:46:00",
          "2025-06-20T06:47:00",
          "2025-06-20T06:57:00",
          "2025-06-20T07:07:00",
          "2025-06-20T07:23:00",
          "2025-06-20T07:40:00",
          "2025-06-20T07:58:00",
          "2025-06-20T07:59:00",
          "2025-06-20T08:09:00",
          "2025-06-20T08:19:00",
          "2025-06-20T08:27:00",
          "2025-06-20T08:44:00",
          "2025-06-20T08:47:00",
          "2025-06-20T08:52:00",
          "2025-06-20T09:00:00",
          "2025-06-20T09:04:00",
          "2025-06-20T09:06:00",
          "2025-06-20T09:47:00",
          "2025-06-20T10:01:00",
          "2025-06-20T10:30:00",
          "2025-06-20T11:03:00",
          "2025-06-20T11:24:00",
          "2025-06-20T11:52:00",
          "2025-06-20T11:58:00",
          "2025-06-20T12:03:00",
          "2025-06-20T12:26:00",
          "2025-06-20T12:28:00",
          "2025-06-20T12:41:00",
          "2025-06-20T13:08:00",
          "2025-06-20T13:16:00",
          "2025-06-20T13:30:00",
          "2025-06-20T13:40:00",
          "2025-06-20T14:33:00",
          "2025-06-20T14:47:00",
          "2025-06-20T15:33:00",
          "2025-06-20T15:34:00",
          "2025-06-20T15:36:00",
          "2025-06-20T15:39:00",
          "2025-06-20T16:05:00",
          "2025-06-20T16:24:00",
          "2025-06-20T16:39:00",
          "2025-06-20T16:46:00",
          "2025-06-20T17:07:00",
          "2025-06-20T17:09:00",
          "2025-06-20T17:19:00",
          "2025-06-20T17:56:00",
          "2025-06-20T17:57:00",
          "2025-06-20T18:07:00",
          "2025-06-20T18:24:00",
          "2025-06-20T18:32:00",
          "2025-06-20T18:39:00",
          "2025-06-20T18:44:00",
          "2025-06-20T19:00:00",
          "2025-06-20T19:01:00",
          "2025-06-20T19:19:00",
          "2025-06-20T19:26:00",
          "2025-06-20T19:31:00",
          "2025-06-20T19:46:00",
          "2025-06-20T19:50:00",
          "2025-06-20T19:58:00",
          "2025-06-20T20:01:00",
          "2025-06-20T20:15:00",
          "2025-06-20T20:33:00",
          "2025-06-20T20:34:00",
          "2025-06-20T21:03:00",
          "2025-06-20T21:28:00",
          "2025-06-20T22:33:00",
          "2025-06-20T22:39:00",
          "2025-06-20T22:47:00",
          "2025-06-20T22:56:00",
          "2025-06-20T23:01:00",
          "2025-06-20T23:10:00",
          "2025-06-20T23:15:00",
          "2025-06-20T23:27:00",
          "2025-06-20T23:44:00",
          "2025-06-23T01:03:00",
          "2025-06-23T01:04:00",
          "2025-06-23T01:06:00",
          "2025-06-23T01:25:00",
          "2025-06-23T01:36:00",
          "2025-06-23T01:44:00",
          "2025-06-23T01:56:00",
          "2025-06-23T02:15:00",
          "2025-06-23T02:25:00",
          "2025-06-23T02:32:00",
          "2025-06-23T02:34:00",
          "2025-06-23T03:00:00",
          "2025-06-23T03:01:00",
          "2025-06-23T03:30:00",
          "2025-06-23T03:58:00",
          "2025-06-23T04:07:00",
          "2025-06-23T04:33:00",
          "2025-06-23T04:47:00",
          "2025-06-23T05:00:00",
          "2025-06-23T05:02:00",
          "2025-06-23T05:27:00",
          "2025-06-23T05:31:00",
          "2025-06-23T05:42:00",
          "2025-06-23T06:02:00",
          "2025-06-23T06:36:00",
          "2025-06-23T06:39:00",
          "2025-06-23T06:53:00",
          "2025-06-23T07:02:00",
          "2025-06-23T07:09:00",
          "2025-06-23T07:10:00",
          "2025-06-23T07:31:00",
          "2025-06-23T07:33:00",
          "2025-06-23T07:58:00",
          "2025-06-23T08:01:00",
          "2025-06-23T08:06:00",
          "2025-06-23T08:17:00",
          "2025-06-23T08:31:00",
          "2025-06-23T08:32:00",
          "2025-06-23T08:46:00",
          "2025-06-23T09:05:00",
          "2025-06-23T09:06:00",
          "2025-06-23T09:07:00",
          "2025-06-23T09:30:00",
          "2025-06-23T09:58:00",
          "2025-06-23T10:01:00",
          "2025-06-23T10:30:00",
          "2025-06-23T10:33:00",
          "2025-06-23T10:50:00",
          "2025-06-23T11:16:00",
          "2025-06-23T11:30:00",
          "2025-06-23T11:32:00",
          "2025-06-23T11:50:00",
          "2025-06-23T13:17:00",
          "2025-06-23T16:39:00",
          "2025-06-23T16:54:00",
          "2025-06-23T17:00:00",
          "2025-06-23T17:01:00",
          "2025-06-23T17:03:00",
          "2025-06-23T17:20:00",
          "2025-06-23T17:25:00",
          "2025-06-23T17:48:00",
          "2025-06-23T17:55:00",
          "2025-06-23T17:56:00",
          "2025-06-23T17:57:00",
          "2025-06-23T18:24:00",
          "2025-06-23T18:30:00",
          "2025-06-23T19:31:00",
          "2025-06-23T19:32:00",
          "2025-06-23T19:39:00",
          "2025-06-23T19:40:00",
          "2025-06-23T19:41:00",
          "2025-06-23T19:45:00",
          "2025-06-23T20:01:00",
          "2025-06-23T20:11:00",
          "2025-06-23T20:15:00",
          "2025-06-23T20:19:00",
          "2025-06-23T20:30:00",
          "2025-06-23T20:39:00",
          "2025-06-23T21:05:00",
          "2025-06-23T21:11:00",
          "2025-06-23T21:19:00",
          "2025-06-23T21:20:00",
          "2025-06-23T21:24:00",
          "2025-06-23T21:29:00",
          "2025-06-23T21:42:00",
          "2025-06-23T21:53:00",
          "2025-06-23T22:00:00",
          "2025-06-23T22:56:00",
          "2025-06-23T22:57:00",
          "2025-06-23T23:01:00",
          "2025-06-23T23:17:00",
          "2025-06-23T23:35:00",
          "2025-06-24T01:05:00",
          "2025-06-24T01:06:00",
          "2025-06-24T01:07:00",
          "2025-06-24T01:24:00",
          "2025-06-24T01:32:00",
          "2025-06-24T01:44:00",
          "2025-06-24T01:59:00",
          "2025-06-24T02:03:00",
          "2025-06-24T02:09:00",
          "2025-06-24T02:18:00",
          "2025-06-24T02:29:00",
          "2025-06-24T02:37:00",
          "2025-06-24T02:42:00",
          "2025-06-24T02:54:00",
          "2025-06-24T02:57:00",
          "2025-06-24T03:02:00",
          "2025-06-24T03:14:00",
          "2025-06-24T03:26:00",
          "2025-06-24T03:43:00",
          "2025-06-24T03:45:00",
          "2025-06-24T03:55:00",
          "2025-06-24T05:00:00",
          "2025-06-24T05:02:00",
          "2025-06-24T05:07:00",
          "2025-06-24T05:09:00",
          "2025-06-24T05:23:00",
          "2025-06-24T05:53:00",
          "2025-06-24T05:54:00",
          "2025-06-24T06:48:00",
          "2025-06-24T06:52:00",
          "2025-06-24T07:03:00",
          "2025-06-24T07:47:00",
          "2025-06-24T08:12:00",
          "2025-06-24T08:32:00",
          "2025-06-24T08:41:00",
          "2025-06-24T08:56:00",
          "2025-06-24T09:00:00",
          "2025-06-24T09:01:00",
          "2025-06-24T09:04:00",
          "2025-06-24T09:17:00",
          "2025-06-24T09:22:00",
          "2025-06-24T09:24:00",
          "2025-06-24T09:42:00",
          "2025-06-24T10:11:00",
          "2025-06-24T10:30:00",
          "2025-06-24T10:53:00",
          "2025-06-24T11:08:00",
          "2025-06-24T11:30:00",
          "2025-06-24T11:43:00",
          "2025-06-24T12:04:00",
          "2025-06-24T12:08:00",
          "2025-06-24T12:09:00",
          "2025-06-24T12:15:00",
          "2025-06-24T12:24:00",
          "2025-06-24T12:37:00",
          "2025-06-24T12:42:00",
          "2025-06-24T12:48:00",
          "2025-06-24T12:49:00",
          "2025-06-24T12:51:00",
          "2025-06-24T12:52:00",
          "2025-06-24T13:02:00",
          "2025-06-24T13:30:00",
          "2025-06-24T13:55:00",
          "2025-06-24T14:19:00",
          "2025-06-24T14:29:00",
          "2025-06-24T14:30:00",
          "2025-06-24T14:33:00",
          "2025-06-24T15:00:00",
          "2025-06-24T15:01:00",
          "2025-06-24T15:02:00",
          "2025-06-24T15:30:00",
          "2025-06-24T15:32:00",
          "2025-06-24T15:36:00",
          "2025-06-24T16:45:00",
          "2025-06-24T17:01:00",
          "2025-06-24T17:06:00",
          "2025-06-24T17:09:00",
          "2025-06-24T17:15:00",
          "2025-06-24T17:18:00",
          "2025-06-24T17:20:00",
          "2025-06-24T17:22:00",
          "2025-06-24T17:23:00",
          "2025-06-24T17:24:00",
          "2025-06-24T17:25:00",
          "2025-06-24T17:26:00",
          "2025-06-24T18:03:00",
          "2025-06-24T18:10:00",
          "2025-06-24T18:35:00",
          "2025-06-24T19:13:00",
          "2025-06-24T19:28:00",
          "2025-06-24T19:31:00",
          "2025-06-24T19:35:00",
          "2025-06-24T19:55:00",
          "2025-06-24T20:08:00",
          "2025-06-24T20:34:00",
          "2025-06-24T20:35:00",
          "2025-06-24T21:00:00",
          "2025-06-24T21:02:00",
          "2025-06-24T21:09:00",
          "2025-06-24T21:20:00",
          "2025-06-24T21:58:00",
          "2025-06-24T22:20:00",
          "2025-06-24T22:22:00",
          "2025-06-24T22:25:00",
          "2025-06-24T22:39:00",
          "2025-06-24T22:55:00",
          "2025-06-24T22:58:00",
          "2025-06-24T23:24:00",
          "2025-06-24T23:31:00",
          "2025-06-25T01:21:00",
          "2025-06-25T01:41:00",
          "2025-06-25T01:52:00",
          "2025-06-25T01:54:00",
          "2025-06-25T02:03:00",
          "2025-06-25T02:05:00",
          "2025-06-25T02:14:00",
          "2025-06-25T02:18:00",
          "2025-06-25T02:22:00",
          "2025-06-25T02:33:00",
          "2025-06-25T02:36:00",
          "2025-06-25T02:38:00",
          "2025-06-25T02:52:00",
          "2025-06-25T02:53:00",
          "2025-06-25T03:04:00",
          "2025-06-25T03:08:00",
          "2025-06-25T03:10:00",
          "2025-06-25T03:30:00",
          "2025-06-25T03:31:00",
          "2025-06-25T03:52:00",
          "2025-06-25T03:54:00",
          "2025-06-25T04:09:00",
          "2025-06-25T04:14:00",
          "2025-06-25T04:55:00",
          "2025-06-25T05:18:00",
          "2025-06-25T05:56:00",
          "2025-06-25T06:04:00",
          "2025-06-25T06:24:00",
          "2025-06-25T06:25:00",
          "2025-06-25T06:43:00",
          "2025-06-25T07:03:00",
          "2025-06-25T07:19:00",
          "2025-06-25T07:39:00",
          "2025-06-25T07:55:00",
          "2025-06-25T08:02:00",
          "2025-06-25T08:10:00",
          "2025-06-25T08:17:00",
          "2025-06-25T08:27:00",
          "2025-06-25T08:30:00",
          "2025-06-25T08:56:00",
          "2025-06-25T08:58:00",
          "2025-06-25T09:00:00",
          "2025-06-25T09:01:00",
          "2025-06-25T09:25:00",
          "2025-06-25T09:31:00",
          "2025-06-25T09:39:00",
          "2025-06-25T10:15:00",
          "2025-06-25T10:26:00",
          "2025-06-25T10:31:00",
          "2025-06-25T10:32:00",
          "2025-06-25T11:31:00",
          "2025-06-25T11:38:00",
          "2025-06-25T11:46:00",
          "2025-06-25T11:53:00",
          "2025-06-25T12:21:00",
          "2025-06-25T12:26:00",
          "2025-06-25T12:50:00",
          "2025-06-25T12:51:00",
          "2025-06-25T12:52:00",
          "2025-06-25T13:02:00",
          "2025-06-25T13:09:00",
          "2025-06-25T13:15:00",
          "2025-06-25T13:16:00",
          "2025-06-25T13:29:00",
          "2025-06-25T13:42:00",
          "2025-06-25T13:55:00",
          "2025-06-25T14:00:00",
          "2025-06-25T14:04:00",
          "2025-06-25T14:14:00",
          "2025-06-25T14:16:00",
          "2025-06-25T14:41:00",
          "2025-06-25T14:50:00",
          "2025-06-25T15:08:00",
          "2025-06-25T15:16:00",
          "2025-06-25T15:18:00",
          "2025-06-25T15:41:00",
          "2025-06-25T15:55:00",
          "2025-06-25T15:56:00",
          "2025-06-25T16:19:00",
          "2025-06-25T16:26:00",
          "2025-06-25T16:30:00",
          "2025-06-25T16:33:00",
          "2025-06-25T16:53:00",
          "2025-06-25T17:09:00",
          "2025-06-25T17:10:00",
          "2025-06-25T17:13:00",
          "2025-06-25T17:14:00",
          "2025-06-25T18:02:00",
          "2025-06-25T18:41:00",
          "2025-06-25T19:01:00",
          "2025-06-25T19:15:00",
          "2025-06-25T19:23:00",
          "2025-06-25T19:30:00",
          "2025-06-25T19:38:00",
          "2025-06-25T20:16:00",
          "2025-06-25T20:31:00",
          "2025-06-25T20:36:00",
          "2025-06-25T20:42:00",
          "2025-06-25T21:06:00",
          "2025-06-25T21:23:00",
          "2025-06-25T21:24:00",
          "2025-06-25T21:32:00",
          "2025-06-25T21:36:00",
          "2025-06-25T21:57:00",
          "2025-06-25T21:59:00",
          "2025-06-25T22:01:00",
          "2025-06-25T22:06:00",
          "2025-06-25T22:14:00",
          "2025-06-25T22:21:00",
          "2025-06-25T23:02:00",
          "2025-06-26T01:01:00",
          "2025-06-26T01:03:00",
          "2025-06-26T01:34:00",
          "2025-06-26T02:01:00",
          "2025-06-26T02:03:00",
          "2025-06-26T02:34:00",
          "2025-06-26T02:39:00",
          "2025-06-26T02:45:00",
          "2025-06-26T02:52:00",
          "2025-06-26T03:13:00",
          "2025-06-26T03:16:00",
          "2025-06-26T03:35:00",
          "2025-06-26T03:36:00",
          "2025-06-26T03:40:00",
          "2025-06-26T03:52:00",
          "2025-06-26T03:54:00",
          "2025-06-26T03:57:00",
          "2025-06-26T04:28:00",
          "2025-06-26T04:41:00",
          "2025-06-26T04:44:00",
          "2025-06-26T04:47:00",
          "2025-06-26T04:53:00",
          "2025-06-26T05:21:00",
          "2025-06-26T05:24:00",
          "2025-06-26T05:25:00",
          "2025-06-26T05:35:00",
          "2025-06-26T05:36:00",
          "2025-06-26T05:45:00",
          "2025-06-26T05:50:00",
          "2025-06-26T05:57:00",
          "2025-06-26T06:04:00",
          "2025-06-26T06:06:00",
          "2025-06-26T06:07:00",
          "2025-06-26T06:39:00",
          "2025-06-26T06:51:00",
          "2025-06-26T06:55:00",
          "2025-06-26T07:00:00",
          "2025-06-26T07:44:00",
          "2025-06-26T08:05:00",
          "2025-06-26T08:36:00",
          "2025-06-26T08:38:00",
          "2025-06-26T08:54:00",
          "2025-06-26T08:58:00",
          "2025-06-26T09:00:00",
          "2025-06-26T09:12:00",
          "2025-06-26T09:13:00",
          "2025-06-26T09:42:00",
          "2025-06-26T09:47:00",
          "2025-06-26T09:52:00",
          "2025-06-26T09:55:00",
          "2025-06-26T09:57:00",
          "2025-06-26T10:13:00",
          "2025-06-26T10:14:00",
          "2025-06-26T10:15:00",
          "2025-06-26T10:16:00",
          "2025-06-26T10:18:00",
          "2025-06-26T10:41:00",
          "2025-06-26T10:44:00",
          "2025-06-26T10:46:00",
          "2025-06-26T10:54:00",
          "2025-06-26T10:59:00",
          "2025-06-26T11:02:00",
          "2025-06-26T11:05:00",
          "2025-06-26T11:09:00",
          "2025-06-26T11:14:00",
          "2025-06-26T12:01:00",
          "2025-06-26T12:09:00",
          "2025-06-26T12:12:00",
          "2025-06-26T12:54:00",
          "2025-06-26T12:56:00",
          "2025-06-26T13:32:00",
          "2025-06-26T13:48:00",
          "2025-06-26T13:56:00",
          "2025-06-26T14:16:00",
          "2025-06-26T14:36:00",
          "2025-06-26T14:38:00",
          "2025-06-26T15:01:00",
          "2025-06-26T15:08:00",
          "2025-06-26T15:10:00",
          "2025-06-26T15:22:00",
          "2025-06-26T15:23:00",
          "2025-06-26T15:25:00",
          "2025-06-26T16:03:00",
          "2025-06-26T16:27:00",
          "2025-06-26T16:31:00",
          "2025-06-26T16:43:00",
          "2025-06-26T16:47:00",
          "2025-06-26T16:54:00",
          "2025-06-26T17:00:00",
          "2025-06-26T17:01:00",
          "2025-06-26T17:25:00",
          "2025-06-26T17:31:00",
          "2025-06-26T17:42:00",
          "2025-06-26T17:45:00",
          "2025-06-26T18:34:00",
          "2025-06-26T18:52:00",
          "2025-06-26T19:16:00",
          "2025-06-26T19:27:00",
          "2025-06-26T19:30:00",
          "2025-06-26T19:37:00",
          "2025-06-26T19:38:00",
          "2025-06-26T20:02:00",
          "2025-06-26T20:16:00",
          "2025-06-26T20:23:00",
          "2025-06-26T20:28:00",
          "2025-06-26T21:03:00",
          "2025-06-26T21:07:00",
          "2025-06-26T21:40:00",
          "2025-06-26T22:05:00",
          "2025-06-26T22:06:00",
          "2025-06-26T22:30:00",
          "2025-06-26T22:42:00",
          "2025-06-26T22:54:00",
          "2025-06-27T01:02:00",
          "2025-06-27T01:15:00",
          "2025-06-27T01:31:00",
          "2025-06-27T02:00:00",
          "2025-06-27T02:01:00",
          "2025-06-27T02:02:00",
          "2025-06-27T02:04:00",
          "2025-06-27T02:21:00",
          "2025-06-27T02:22:00",
          "2025-06-27T02:27:00",
          "2025-06-27T02:35:00",
          "2025-06-27T02:48:00",
          "2025-06-27T02:49:00",
          "2025-06-27T02:58:00",
          "2025-06-27T03:07:00",
          "2025-06-27T03:31:00",
          "2025-06-27T03:32:00",
          "2025-06-27T03:53:00",
          "2025-06-27T03:54:00",
          "2025-06-27T03:57:00",
          "2025-06-27T04:07:00",
          "2025-06-27T04:23:00",
          "2025-06-27T04:34:00",
          "2025-06-27T04:46:00",
          "2025-06-27T04:48:00",
          "2025-06-27T04:51:00",
          "2025-06-27T04:57:00",
          "2025-06-27T04:59:00",
          "2025-06-27T05:19:00",
          "2025-06-27T05:23:00",
          "2025-06-27T05:58:00",
          "2025-06-27T06:04:00",
          "2025-06-27T06:06:00",
          "2025-06-27T06:08:00",
          "2025-06-27T06:13:00",
          "2025-06-27T06:22:00",
          "2025-06-27T06:28:00",
          "2025-06-27T06:35:00",
          "2025-06-27T07:01:00",
          "2025-06-27T07:35:00",
          "2025-06-27T07:50:00",
          "2025-06-27T08:00:00",
          "2025-06-27T08:03:00",
          "2025-06-27T08:20:00",
          "2025-06-27T08:24:00",
          "2025-06-27T09:07:00",
          "2025-06-27T09:11:00",
          "2025-06-27T09:13:00",
          "2025-06-27T09:18:00",
          "2025-06-27T09:20:00",
          "2025-06-27T09:37:00",
          "2025-06-27T09:45:00",
          "2025-06-27T09:48:00",
          "2025-06-27T09:50:00",
          "2025-06-27T09:51:00",
          "2025-06-27T10:07:00",
          "2025-06-27T10:09:00",
          "2025-06-27T10:11:00",
          "2025-06-27T10:12:00",
          "2025-06-27T10:14:00",
          "2025-06-27T10:28:00",
          "2025-06-27T10:47:00",
          "2025-06-27T11:06:00",
          "2025-06-27T11:22:00",
          "2025-06-27T11:34:00",
          "2025-06-27T11:36:00",
          "2025-06-27T11:47:00",
          "2025-06-27T12:34:00",
          "2025-06-27T13:06:00",
          "2025-06-27T13:09:00",
          "2025-06-27T13:18:00",
          "2025-06-27T13:57:00",
          "2025-06-27T14:00:00",
          "2025-06-27T14:03:00",
          "2025-06-27T14:15:00",
          "2025-06-27T14:30:00",
          "2025-06-27T14:35:00",
          "2025-06-27T14:54:00",
          "2025-06-27T15:10:00",
          "2025-06-27T15:12:00",
          "2025-06-27T15:20:00",
          "2025-06-27T15:24:00",
          "2025-06-27T15:31:00",
          "2025-06-27T15:33:00",
          "2025-06-27T15:49:00",
          "2025-06-27T15:50:00",
          "2025-06-27T16:02:00",
          "2025-06-27T16:06:00",
          "2025-06-27T16:24:00",
          "2025-06-27T16:25:00",
          "2025-06-27T16:29:00",
          "2025-06-27T16:55:00",
          "2025-06-27T16:56:00",
          "2025-06-27T17:05:00",
          "2025-06-27T17:08:00",
          "2025-06-27T17:22:00",
          "2025-06-27T17:37:00",
          "2025-06-27T17:39:00",
          "2025-06-27T18:07:00",
          "2025-06-27T18:22:00",
          "2025-06-27T18:31:00",
          "2025-06-27T18:36:00",
          "2025-06-27T18:38:00",
          "2025-06-27T19:01:00",
          "2025-06-27T19:04:00",
          "2025-06-27T19:40:00",
          "2025-06-27T19:55:00",
          "2025-06-27T20:01:00",
          "2025-06-27T20:19:00",
          "2025-06-27T20:48:00",
          "2025-06-27T21:44:00",
          "2025-06-27T21:54:00",
          "2025-06-27T22:01:00",
          "2025-06-27T22:04:00",
          "2025-06-27T22:09:00",
          "2025-06-27T22:29:00",
          "2025-06-27T22:39:00",
          "2025-06-27T22:42:00",
          "2025-06-27T22:48:00",
          "2025-06-27T22:49:00",
          "2025-06-27T23:28:00",
          "2025-06-27T23:29:00",
          "2025-06-27T23:40:00",
          "2025-06-27T23:44:00",
          "2025-06-30T01:32:00",
          "2025-06-30T01:35:00",
          "2025-06-30T01:51:00",
          "2025-06-30T01:52:00",
          "2025-06-30T02:00:00",
          "2025-06-30T02:01:00",
          "2025-06-30T02:08:00",
          "2025-06-30T02:13:00",
          "2025-06-30T02:29:00",
          "2025-06-30T02:50:00",
          "2025-06-30T03:00:00",
          "2025-06-30T03:02:00",
          "2025-06-30T03:08:00",
          "2025-06-30T03:31:00",
          "2025-06-30T03:32:00",
          "2025-06-30T03:53:00",
          "2025-06-30T04:00:00",
          "2025-06-30T04:15:00",
          "2025-06-30T04:17:00",
          "2025-06-30T04:24:00",
          "2025-06-30T04:28:00",
          "2025-06-30T04:47:00",
          "2025-06-30T04:51:00",
          "2025-06-30T05:00:00",
          "2025-06-30T05:08:00",
          "2025-06-30T05:17:00",
          "2025-06-30T05:31:00",
          "2025-06-30T05:41:00",
          "2025-06-30T05:44:00",
          "2025-06-30T06:10:00",
          "2025-06-30T06:12:00",
          "2025-06-30T06:19:00",
          "2025-06-30T06:25:00",
          "2025-06-30T06:52:00",
          "2025-06-30T07:04:00",
          "2025-06-30T07:35:00",
          "2025-06-30T07:40:00",
          "2025-06-30T07:42:00",
          "2025-06-30T07:47:00",
          "2025-06-30T07:48:00",
          "2025-06-30T07:51:00",
          "2025-06-30T07:57:00",
          "2025-06-30T08:00:00",
          "2025-06-30T08:10:00",
          "2025-06-30T08:22:00",
          "2025-06-30T08:27:00",
          "2025-06-30T08:31:00",
          "2025-06-30T09:06:00",
          "2025-06-30T09:07:00",
          "2025-06-30T09:22:00",
          "2025-06-30T09:23:00",
          "2025-06-30T09:34:00",
          "2025-06-30T09:46:00",
          "2025-06-30T09:47:00",
          "2025-06-30T09:53:00",
          "2025-06-30T10:00:00",
          "2025-06-30T10:01:00",
          "2025-06-30T10:13:00",
          "2025-06-30T10:41:00",
          "2025-06-30T10:53:00",
          "2025-06-30T11:09:00",
          "2025-06-30T11:26:00",
          "2025-06-30T11:42:00",
          "2025-06-30T11:52:00",
          "2025-06-30T11:57:00",
          "2025-06-30T11:59:00",
          "2025-06-30T12:24:00",
          "2025-06-30T12:36:00",
          "2025-06-30T12:37:00",
          "2025-06-30T12:53:00",
          "2025-06-30T13:31:00",
          "2025-06-30T13:34:00",
          "2025-06-30T13:42:00",
          "2025-06-30T13:46:00",
          "2025-06-30T13:59:00",
          "2025-06-30T14:00:00",
          "2025-06-30T14:20:00",
          "2025-06-30T14:30:00",
          "2025-06-30T14:36:00",
          "2025-06-30T14:53:00",
          "2025-06-30T15:18:00",
          "2025-06-30T15:24:00",
          "2025-06-30T15:50:00",
          "2025-06-30T16:03:00",
          "2025-06-30T16:19:00",
          "2025-06-30T16:20:00",
          "2025-06-30T16:32:00",
          "2025-06-30T16:36:00",
          "2025-06-30T16:45:00",
          "2025-06-30T16:54:00",
          "2025-06-30T16:59:00",
          "2025-06-30T17:19:00",
          "2025-06-30T17:24:00",
          "2025-06-30T17:34:00",
          "2025-06-30T17:35:00",
          "2025-06-30T17:37:00",
          "2025-06-30T17:41:00",
          "2025-06-30T17:49:00",
          "2025-06-30T17:50:00",
          "2025-06-30T18:05:00",
          "2025-06-30T18:07:00",
          "2025-06-30T18:15:00",
          "2025-06-30T18:28:00",
          "2025-06-30T18:39:00",
          "2025-06-30T18:42:00",
          "2025-06-30T18:46:00",
          "2025-06-30T19:14:00",
          "2025-06-30T19:49:00",
          "2025-06-30T20:10:00",
          "2025-06-30T20:12:00",
          "2025-06-30T20:15:00",
          "2025-06-30T20:21:00",
          "2025-06-30T20:22:00",
          "2025-06-30T20:24:00",
          "2025-06-30T20:55:00",
          "2025-06-30T20:56:00",
          "2025-06-30T21:15:00",
          "2025-06-30T21:36:00",
          "2025-06-30T22:00:00",
          "2025-06-30T22:24:00",
          "2025-06-30T22:45:00",
          "2025-06-30T22:47:00",
          "2025-06-30T22:52:00",
          "2025-06-30T22:57:00",
          "2025-06-30T22:58:00",
          "2025-06-30T23:32:00",
          "2025-07-01T01:09:00",
          "2025-07-01T01:31:00",
          "2025-07-01T01:50:00",
          "2025-07-01T02:00:00",
          "2025-07-01T02:06:00",
          "2025-07-01T02:32:00",
          "2025-07-01T02:41:00",
          "2025-07-01T02:49:00",
          "2025-07-01T02:51:00",
          "2025-07-01T02:57:00",
          "2025-07-01T03:00:00",
          "2025-07-01T03:01:00",
          "2025-07-01T03:18:00",
          "2025-07-01T03:20:00",
          "2025-07-01T03:46:00",
          "2025-07-01T03:52:00",
          "2025-07-01T04:17:00",
          "2025-07-01T04:20:00",
          "2025-07-01T04:21:00",
          "2025-07-01T05:06:00",
          "2025-07-01T05:45:00",
          "2025-07-01T05:53:00",
          "2025-07-01T06:35:00",
          "2025-07-01T07:05:00",
          "2025-07-01T07:08:00",
          "2025-07-01T07:29:00",
          "2025-07-01T07:39:00",
          "2025-07-01T08:15:00",
          "2025-07-01T08:56:00",
          "2025-07-01T09:01:00",
          "2025-07-01T09:25:00",
          "2025-07-01T09:34:00",
          "2025-07-01T09:37:00",
          "2025-07-01T09:38:00",
          "2025-07-01T09:49:00",
          "2025-07-01T09:51:00",
          "2025-07-01T10:01:00",
          "2025-07-01T10:10:00",
          "2025-07-01T10:11:00",
          "2025-07-01T10:25:00",
          "2025-07-01T10:45:00",
          "2025-07-01T11:01:00",
          "2025-07-01T11:23:00",
          "2025-07-01T11:37:00",
          "2025-07-01T11:38:00",
          "2025-07-01T11:45:00",
          "2025-07-01T11:53:00",
          "2025-07-01T11:54:00",
          "2025-07-01T12:08:00",
          "2025-07-01T12:18:00",
          "2025-07-01T12:22:00",
          "2025-07-01T12:25:00",
          "2025-07-01T12:34:00",
          "2025-07-01T12:45:00",
          "2025-07-01T12:53:00",
          "2025-07-01T13:09:00",
          "2025-07-01T13:43:00",
          "2025-07-01T13:46:00",
          "2025-07-01T14:05:00",
          "2025-07-01T14:35:00",
          "2025-07-01T14:40:00",
          "2025-07-01T14:43:00",
          "2025-07-01T14:50:00",
          "2025-07-01T14:53:00",
          "2025-07-01T14:54:00",
          "2025-07-01T15:00:00",
          "2025-07-01T15:04:00",
          "2025-07-01T15:14:00",
          "2025-07-01T15:23:00",
          "2025-07-01T15:24:00",
          "2025-07-01T15:26:00",
          "2025-07-01T16:03:00",
          "2025-07-01T16:04:00",
          "2025-07-01T16:07:00",
          "2025-07-01T16:24:00",
          "2025-07-01T16:37:00",
          "2025-07-01T16:38:00",
          "2025-07-01T16:42:00",
          "2025-07-01T16:48:00",
          "2025-07-01T17:00:00",
          "2025-07-01T17:01:00",
          "2025-07-01T17:54:00",
          "2025-07-01T18:31:00",
          "2025-07-01T18:33:00",
          "2025-07-01T18:38:00",
          "2025-07-01T18:42:00",
          "2025-07-01T18:56:00",
          "2025-07-01T19:25:00",
          "2025-07-01T19:27:00",
          "2025-07-01T19:53:00",
          "2025-07-01T19:59:00",
          "2025-07-01T20:00:00",
          "2025-07-01T20:05:00",
          "2025-07-01T20:13:00",
          "2025-07-01T20:30:00",
          "2025-07-01T20:31:00",
          "2025-07-01T21:03:00",
          "2025-07-01T21:41:00",
          "2025-07-01T21:48:00",
          "2025-07-01T21:51:00",
          "2025-07-01T21:53:00",
          "2025-07-01T21:59:00",
          "2025-07-01T22:00:00",
          "2025-07-01T22:05:00",
          "2025-07-01T22:44:00",
          "2025-07-01T22:48:00",
          "2025-07-01T22:54:00",
          "2025-07-01T22:56:00",
          "2025-07-01T23:00:00",
          "2025-07-01T23:21:00",
          "2025-07-01T23:29:00",
          "2025-07-01T23:32:00",
          "2025-07-01T23:34:00",
          "2025-07-01T23:42:00",
          "2025-07-01T23:49:00",
          "2025-07-02T01:03:00",
          "2025-07-02T01:15:00",
          "2025-07-02T01:21:00",
          "2025-07-02T02:04:00",
          "2025-07-02T02:16:00",
          "2025-07-02T02:31:00",
          "2025-07-02T02:36:00",
          "2025-07-02T02:57:00",
          "2025-07-02T03:00:00",
          "2025-07-02T03:08:00",
          "2025-07-02T03:35:00",
          "2025-07-02T03:40:00",
          "2025-07-02T03:46:00",
          "2025-07-02T03:55:00",
          "2025-07-02T04:01:00",
          "2025-07-02T04:06:00",
          "2025-07-02T04:07:00",
          "2025-07-02T04:18:00",
          "2025-07-02T04:30:00",
          "2025-07-02T04:33:00",
          "2025-07-02T05:37:00",
          "2025-07-02T05:51:00",
          "2025-07-02T06:00:00",
          "2025-07-02T06:01:00",
          "2025-07-02T06:46:00",
          "2025-07-02T06:58:00",
          "2025-07-02T07:06:00",
          "2025-07-02T07:26:00",
          "2025-07-02T07:30:00",
          "2025-07-02T07:31:00",
          "2025-07-02T07:36:00",
          "2025-07-02T07:58:00",
          "2025-07-02T08:06:00",
          "2025-07-02T08:11:00",
          "2025-07-02T08:25:00",
          "2025-07-02T08:46:00",
          "2025-07-02T08:56:00",
          "2025-07-02T09:04:00",
          "2025-07-02T09:23:00",
          "2025-07-02T09:47:00",
          "2025-07-02T09:57:00",
          "2025-07-02T10:30:00",
          "2025-07-02T10:34:00",
          "2025-07-02T10:35:00",
          "2025-07-02T10:37:00",
          "2025-07-02T10:50:00",
          "2025-07-02T11:08:00",
          "2025-07-02T11:09:00",
          "2025-07-02T11:32:00",
          "2025-07-02T11:48:00",
          "2025-07-02T11:51:00",
          "2025-07-02T11:56:00",
          "2025-07-02T12:58:00",
          "2025-07-02T13:19:00",
          "2025-07-02T13:30:00",
          "2025-07-02T13:31:00",
          "2025-07-02T13:45:00",
          "2025-07-02T14:25:00",
          "2025-07-02T14:55:00",
          "2025-07-02T15:40:00",
          "2025-07-02T16:14:00",
          "2025-07-02T16:29:00",
          "2025-07-02T16:35:00",
          "2025-07-02T16:55:00",
          "2025-07-02T17:00:00",
          "2025-07-02T17:21:00",
          "2025-07-02T17:46:00",
          "2025-07-02T17:50:00",
          "2025-07-02T18:10:00",
          "2025-07-02T18:14:00",
          "2025-07-02T18:24:00",
          "2025-07-02T18:25:00",
          "2025-07-02T18:38:00",
          "2025-07-02T19:47:00",
          "2025-07-02T20:00:00",
          "2025-07-02T20:02:00",
          "2025-07-02T20:03:00",
          "2025-07-02T20:04:00",
          "2025-07-02T20:07:00",
          "2025-07-02T20:18:00",
          "2025-07-02T20:50:00",
          "2025-07-02T21:00:00",
          "2025-07-02T21:25:00",
          "2025-07-02T21:27:00",
          "2025-07-02T21:43:00",
          "2025-07-02T21:57:00",
          "2025-07-02T22:12:00",
          "2025-07-02T22:18:00",
          "2025-07-02T22:23:00",
          "2025-07-02T22:32:00",
          "2025-07-02T22:53:00",
          "2025-07-02T22:55:00",
          "2025-07-02T23:00:00",
          "2025-07-02T23:09:00",
          "2025-07-02T23:25:00",
          "2025-07-02T23:39:00",
          "2025-07-03T01:27:00",
          "2025-07-03T01:46:00",
          "2025-07-03T01:50:00",
          "2025-07-03T02:24:00",
          "2025-07-03T02:47:00",
          "2025-07-03T03:02:00",
          "2025-07-03T03:06:00",
          "2025-07-03T03:15:00",
          "2025-07-03T03:27:00",
          "2025-07-03T03:31:00",
          "2025-07-03T03:40:00",
          "2025-07-03T04:00:00",
          "2025-07-03T04:01:00",
          "2025-07-03T04:10:00",
          "2025-07-03T04:21:00",
          "2025-07-03T04:41:00",
          "2025-07-03T04:51:00",
          "2025-07-03T05:23:00",
          "2025-07-03T05:34:00",
          "2025-07-03T05:36:00",
          "2025-07-03T05:45:00",
          "2025-07-03T05:49:00",
          "2025-07-03T06:02:00",
          "2025-07-03T06:13:00",
          "2025-07-03T06:17:00",
          "2025-07-03T06:40:00",
          "2025-07-03T06:46:00",
          "2025-07-03T07:00:00",
          "2025-07-03T07:02:00",
          "2025-07-03T07:22:00",
          "2025-07-03T07:42:00",
          "2025-07-03T08:02:00",
          "2025-07-03T08:24:00",
          "2025-07-03T08:36:00",
          "2025-07-03T08:37:00",
          "2025-07-03T08:41:00",
          "2025-07-03T08:57:00",
          "2025-07-03T09:01:00",
          "2025-07-03T09:07:00",
          "2025-07-03T09:08:00",
          "2025-07-03T09:11:00",
          "2025-07-03T09:20:00",
          "2025-07-03T09:23:00",
          "2025-07-03T09:26:00",
          "2025-07-03T09:27:00",
          "2025-07-03T09:30:00",
          "2025-07-03T09:35:00",
          "2025-07-03T09:42:00",
          "2025-07-03T09:55:00",
          "2025-07-03T10:02:00",
          "2025-07-03T10:05:00",
          "2025-07-03T10:21:00",
          "2025-07-03T10:23:00",
          "2025-07-03T10:28:00",
          "2025-07-03T10:33:00",
          "2025-07-03T10:34:00",
          "2025-07-03T10:51:00",
          "2025-07-03T11:00:00",
          "2025-07-03T11:21:00",
          "2025-07-03T11:53:00",
          "2025-07-03T12:43:00",
          "2025-07-03T12:53:00",
          "2025-07-03T12:57:00",
          "2025-07-03T13:08:00",
          "2025-07-03T13:09:00",
          "2025-07-03T13:30:00",
          "2025-07-03T13:32:00",
          "2025-07-03T13:37:00",
          "2025-07-03T14:19:00",
          "2025-07-03T14:20:00",
          "2025-07-03T14:36:00",
          "2025-07-03T14:42:00",
          "2025-07-03T14:56:00",
          "2025-07-03T15:01:00",
          "2025-07-03T15:20:00",
          "2025-07-03T15:30:00",
          "2025-07-03T16:02:00",
          "2025-07-03T16:13:00",
          "2025-07-03T16:20:00",
          "2025-07-03T16:22:00",
          "2025-07-03T16:29:00",
          "2025-07-03T16:37:00",
          "2025-07-03T16:48:00",
          "2025-07-03T17:00:00",
          "2025-07-03T17:03:00",
          "2025-07-03T17:14:00",
          "2025-07-03T17:25:00",
          "2025-07-03T17:38:00",
          "2025-07-03T18:12:00",
          "2025-07-03T18:30:00",
          "2025-07-03T18:34:00",
          "2025-07-03T18:44:00",
          "2025-07-03T18:50:00",
          "2025-07-03T19:16:00",
          "2025-07-03T19:52:00",
          "2025-07-03T19:55:00",
          "2025-07-03T19:57:00",
          "2025-07-03T20:03:00",
          "2025-07-03T20:17:00",
          "2025-07-03T20:28:00",
          "2025-07-03T20:58:00",
          "2025-07-03T21:19:00",
          "2025-07-03T21:38:00",
          "2025-07-03T21:58:00",
          "2025-07-03T21:59:00",
          "2025-07-03T22:00:00",
          "2025-07-03T22:20:00",
          "2025-07-03T22:32:00",
          "2025-07-03T22:39:00",
          "2025-07-03T22:40:00",
          "2025-07-03T22:47:00",
          "2025-07-03T22:55:00",
          "2025-07-03T23:21:00",
          "2025-07-03T23:25:00",
          "2025-07-03T23:36:00",
          "2025-07-03T23:38:00",
          "2025-07-03T23:39:00",
          "2025-07-03T23:40:00",
          "2025-07-03T23:41:00",
          "2025-07-04T01:01:00",
          "2025-07-04T01:09:00",
          "2025-07-04T01:27:00",
          "2025-07-04T01:32:00",
          "2025-07-04T01:43:00",
          "2025-07-04T02:00:00",
          "2025-07-04T02:02:00",
          "2025-07-04T02:25:00",
          "2025-07-04T02:31:00",
          "2025-07-04T02:40:00",
          "2025-07-04T02:43:00",
          "2025-07-04T02:57:00",
          "2025-07-04T03:01:00",
          "2025-07-04T03:14:00",
          "2025-07-04T03:22:00",
          "2025-07-04T03:41:00",
          "2025-07-04T03:45:00",
          "2025-07-04T03:56:00",
          "2025-07-04T04:08:00",
          "2025-07-04T04:20:00",
          "2025-07-04T05:13:00",
          "2025-07-04T05:19:00",
          "2025-07-04T05:22:00",
          "2025-07-04T05:26:00",
          "2025-07-04T05:39:00",
          "2025-07-04T05:51:00",
          "2025-07-04T05:56:00",
          "2025-07-04T06:15:00",
          "2025-07-04T06:16:00",
          "2025-07-04T06:17:00",
          "2025-07-04T06:42:00",
          "2025-07-04T07:03:00",
          "2025-07-04T07:15:00",
          "2025-07-04T07:21:00",
          "2025-07-04T07:22:00",
          "2025-07-04T07:27:00",
          "2025-07-04T07:39:00",
          "2025-07-04T07:44:00",
          "2025-07-04T07:46:00",
          "2025-07-04T07:47:00",
          "2025-07-04T08:06:00",
          "2025-07-04T08:10:00",
          "2025-07-04T08:31:00",
          "2025-07-04T08:32:00",
          "2025-07-04T08:55:00",
          "2025-07-04T09:00:00",
          "2025-07-04T09:01:00",
          "2025-07-04T09:27:00",
          "2025-07-04T09:44:00",
          "2025-07-04T10:05:00",
          "2025-07-04T10:06:00",
          "2025-07-04T10:13:00",
          "2025-07-04T10:35:00",
          "2025-07-04T10:44:00",
          "2025-07-04T10:45:00",
          "2025-07-04T10:58:00",
          "2025-07-04T11:03:00",
          "2025-07-04T11:20:00",
          "2025-07-04T11:21:00",
          "2025-07-04T11:42:00",
          "2025-07-04T11:44:00",
          "2025-07-04T12:00:00",
          "2025-07-04T12:41:00",
          "2025-07-04T13:10:00",
          "2025-07-04T13:12:00",
          "2025-07-04T13:38:00",
          "2025-07-04T13:58:00",
          "2025-07-04T14:01:00",
          "2025-07-04T14:56:00",
          "2025-07-04T15:29:00",
          "2025-07-04T15:31:00",
          "2025-07-04T15:36:00",
          "2025-07-04T15:48:00",
          "2025-07-04T16:00:00",
          "2025-07-04T16:07:00",
          "2025-07-04T16:08:00",
          "2025-07-04T16:37:00",
          "2025-07-04T16:43:00",
          "2025-07-04T16:48:00",
          "2025-07-04T16:56:00",
          "2025-07-04T17:04:00",
          "2025-07-04T17:12:00",
          "2025-07-04T17:38:00",
          "2025-07-04T17:46:00",
          "2025-07-04T17:50:00",
          "2025-07-04T17:54:00",
          "2025-07-04T18:07:00",
          "2025-07-04T18:11:00",
          "2025-07-04T18:23:00",
          "2025-07-04T18:39:00",
          "2025-07-04T18:50:00",
          "2025-07-04T19:21:00",
          "2025-07-04T19:29:00",
          "2025-07-04T20:03:00",
          "2025-07-04T20:04:00",
          "2025-07-04T20:20:00",
          "2025-07-04T21:26:00",
          "2025-07-04T21:28:00",
          "2025-07-04T21:38:00",
          "2025-07-04T21:45:00",
          "2025-07-04T21:47:00",
          "2025-07-04T22:00:00",
          "2025-07-07T01:02:00",
          "2025-07-07T01:30:00",
          "2025-07-07T01:44:00",
          "2025-07-07T01:51:00",
          "2025-07-07T02:01:00",
          "2025-07-07T02:28:00",
          "2025-07-07T02:35:00",
          "2025-07-07T02:39:00",
          "2025-07-07T02:45:00",
          "2025-07-07T02:46:00",
          "2025-07-07T02:54:00",
          "2025-07-07T03:02:00",
          "2025-07-07T03:03:00",
          "2025-07-07T03:06:00",
          "2025-07-07T03:33:00",
          "2025-07-07T03:50:00",
          "2025-07-07T04:00:00",
          "2025-07-07T04:17:00",
          "2025-07-07T04:30:00",
          "2025-07-07T04:37:00",
          "2025-07-07T04:59:00",
          "2025-07-07T05:06:00",
          "2025-07-07T05:15:00",
          "2025-07-07T05:30:00",
          "2025-07-07T05:31:00",
          "2025-07-07T05:32:00",
          "2025-07-07T06:30:00",
          "2025-07-07T06:58:00",
          "2025-07-07T07:03:00",
          "2025-07-07T07:27:00",
          "2025-07-07T07:29:00",
          "2025-07-07T07:40:00",
          "2025-07-07T07:42:00",
          "2025-07-07T08:09:00",
          "2025-07-07T08:10:00",
          "2025-07-07T08:40:00",
          "2025-07-07T08:45:00",
          "2025-07-07T08:56:00",
          "2025-07-07T09:07:00",
          "2025-07-07T09:26:00",
          "2025-07-07T09:59:00",
          "2025-07-07T10:10:00",
          "2025-07-07T10:23:00",
          "2025-07-07T10:51:00",
          "2025-07-07T11:22:00",
          "2025-07-07T11:43:00",
          "2025-07-07T11:45:00",
          "2025-07-07T11:52:00",
          "2025-07-07T11:53:00",
          "2025-07-07T12:09:00",
          "2025-07-07T12:10:00",
          "2025-07-07T12:14:00",
          "2025-07-07T12:18:00",
          "2025-07-07T12:32:00",
          "2025-07-07T12:55:00",
          "2025-07-07T13:13:00",
          "2025-07-07T13:25:00",
          "2025-07-07T13:31:00",
          "2025-07-07T13:45:00",
          "2025-07-07T13:57:00",
          "2025-07-07T14:04:00",
          "2025-07-07T14:26:00",
          "2025-07-07T14:39:00",
          "2025-07-07T14:44:00",
          "2025-07-07T14:46:00",
          "2025-07-07T15:04:00",
          "2025-07-07T15:12:00",
          "2025-07-07T15:13:00",
          "2025-07-07T15:22:00",
          "2025-07-07T15:27:00",
          "2025-07-07T15:31:00",
          "2025-07-07T15:33:00",
          "2025-07-07T15:44:00",
          "2025-07-07T16:00:00",
          "2025-07-07T16:03:00",
          "2025-07-07T16:04:00",
          "2025-07-07T16:05:00",
          "2025-07-07T16:07:00",
          "2025-07-07T16:12:00",
          "2025-07-07T16:22:00",
          "2025-07-07T16:26:00",
          "2025-07-07T16:35:00",
          "2025-07-07T16:40:00",
          "2025-07-07T16:48:00",
          "2025-07-07T16:52:00",
          "2025-07-07T16:56:00",
          "2025-07-07T17:08:00",
          "2025-07-07T17:30:00",
          "2025-07-07T17:35:00",
          "2025-07-07T17:38:00",
          "2025-07-07T17:50:00",
          "2025-07-07T17:51:00",
          "2025-07-07T17:52:00",
          "2025-07-07T18:34:00",
          "2025-07-07T18:57:00",
          "2025-07-07T19:19:00",
          "2025-07-07T19:32:00",
          "2025-07-07T19:55:00",
          "2025-07-07T20:20:00",
          "2025-07-07T20:22:00",
          "2025-07-07T20:32:00",
          "2025-07-07T20:39:00",
          "2025-07-07T21:03:00",
          "2025-07-07T21:25:00",
          "2025-07-07T21:35:00",
          "2025-07-07T21:36:00",
          "2025-07-07T21:37:00",
          "2025-07-07T21:42:00",
          "2025-07-07T21:43:00",
          "2025-07-07T21:56:00",
          "2025-07-07T22:06:00",
          "2025-07-07T22:58:00",
          "2025-07-07T22:59:00",
          "2025-07-08T01:01:00",
          "2025-07-08T01:06:00",
          "2025-07-08T01:19:00",
          "2025-07-08T01:22:00",
          "2025-07-08T01:37:00",
          "2025-07-08T01:39:00",
          "2025-07-08T01:41:00",
          "2025-07-08T01:42:00",
          "2025-07-08T01:44:00",
          "2025-07-08T01:52:00",
          "2025-07-08T02:18:00",
          "2025-07-08T02:33:00",
          "2025-07-08T02:42:00",
          "2025-07-08T02:48:00",
          "2025-07-08T03:01:00",
          "2025-07-08T03:04:00",
          "2025-07-08T03:16:00",
          "2025-07-08T03:49:00",
          "2025-07-08T05:01:00",
          "2025-07-08T05:04:00",
          "2025-07-08T05:24:00",
          "2025-07-08T05:31:00",
          "2025-07-08T05:55:00",
          "2025-07-08T06:02:00",
          "2025-07-08T06:31:00",
          "2025-07-08T06:38:00",
          "2025-07-08T07:06:00",
          "2025-07-08T07:31:00",
          "2025-07-08T08:01:00",
          "2025-07-08T08:05:00",
          "2025-07-08T08:37:00",
          "2025-07-08T08:47:00",
          "2025-07-08T09:14:00",
          "2025-07-08T09:31:00",
          "2025-07-08T09:49:00",
          "2025-07-08T09:51:00",
          "2025-07-08T09:54:00",
          "2025-07-08T09:55:00",
          "2025-07-08T09:57:00",
          "2025-07-08T10:01:00",
          "2025-07-08T10:25:00",
          "2025-07-08T10:31:00",
          "2025-07-08T11:09:00",
          "2025-07-08T11:35:00",
          "2025-07-08T11:46:00",
          "2025-07-08T11:54:00",
          "2025-07-08T12:30:00",
          "2025-07-08T12:36:00",
          "2025-07-08T13:01:00",
          "2025-07-08T13:38:00",
          "2025-07-08T14:02:00",
          "2025-07-08T14:16:00",
          "2025-07-08T14:21:00",
          "2025-07-08T14:22:00",
          "2025-07-08T14:30:00",
          "2025-07-08T15:35:00",
          "2025-07-08T15:42:00",
          "2025-07-08T16:22:00",
          "2025-07-08T16:45:00",
          "2025-07-08T17:26:00",
          "2025-07-08T17:36:00",
          "2025-07-08T17:37:00",
          "2025-07-08T17:46:00",
          "2025-07-08T17:55:00",
          "2025-07-08T18:03:00",
          "2025-07-08T18:33:00",
          "2025-07-08T18:47:00",
          "2025-07-08T18:52:00",
          "2025-07-08T19:26:00",
          "2025-07-08T19:57:00",
          "2025-07-08T19:58:00",
          "2025-07-08T20:02:00",
          "2025-07-08T20:03:00",
          "2025-07-08T20:04:00",
          "2025-07-08T20:14:00",
          "2025-07-08T20:40:00",
          "2025-07-08T20:46:00",
          "2025-07-08T21:03:00",
          "2025-07-08T21:45:00",
          "2025-07-08T21:51:00",
          "2025-07-08T21:54:00",
          "2025-07-08T22:00:00",
          "2025-07-08T22:51:00",
          "2025-07-08T22:56:00",
          "2025-07-08T23:21:00",
          "2025-07-08T23:40:00",
          "2025-07-09T01:07:00",
          "2025-07-09T01:25:00",
          "2025-07-09T01:28:00",
          "2025-07-09T01:33:00",
          "2025-07-09T01:43:00",
          "2025-07-09T01:53:00",
          "2025-07-09T02:00:00",
          "2025-07-09T02:01:00",
          "2025-07-09T02:02:00",
          "2025-07-09T02:42:00",
          "2025-07-09T02:57:00",
          "2025-07-09T03:07:00",
          "2025-07-09T03:10:00",
          "2025-07-09T03:31:00",
          "2025-07-09T03:38:00",
          "2025-07-09T03:54:00",
          "2025-07-09T04:08:00",
          "2025-07-09T04:15:00",
          "2025-07-09T04:28:00",
          "2025-07-09T04:42:00",
          "2025-07-09T05:00:00",
          "2025-07-09T05:06:00",
          "2025-07-09T05:26:00",
          "2025-07-09T05:37:00",
          "2025-07-09T05:38:00",
          "2025-07-09T06:16:00",
          "2025-07-09T06:40:00",
          "2025-07-09T06:51:00",
          "2025-07-09T07:00:00",
          "2025-07-09T07:34:00",
          "2025-07-09T07:38:00",
          "2025-07-09T07:40:00",
          "2025-07-09T08:15:00",
          "2025-07-09T08:17:00",
          "2025-07-09T08:21:00",
          "2025-07-09T08:23:00",
          "2025-07-09T08:36:00",
          "2025-07-09T08:42:00",
          "2025-07-09T08:46:00",
          "2025-07-09T09:33:00",
          "2025-07-09T09:47:00",
          "2025-07-09T09:52:00",
          "2025-07-09T10:02:00",
          "2025-07-09T10:12:00",
          "2025-07-09T10:17:00",
          "2025-07-09T10:30:00",
          "2025-07-09T10:56:00",
          "2025-07-09T11:38:00",
          "2025-07-09T12:22:00",
          "2025-07-09T12:39:00",
          "2025-07-09T12:48:00",
          "2025-07-09T12:51:00",
          "2025-07-09T13:01:00",
          "2025-07-09T13:02:00",
          "2025-07-09T13:15:00",
          "2025-07-09T13:26:00",
          "2025-07-09T14:28:00",
          "2025-07-09T14:49:00",
          "2025-07-09T15:06:00",
          "2025-07-09T15:17:00",
          "2025-07-09T15:18:00",
          "2025-07-09T15:19:00",
          "2025-07-09T15:52:00",
          "2025-07-09T16:00:00",
          "2025-07-09T16:02:00",
          "2025-07-09T16:11:00",
          "2025-07-09T16:16:00",
          "2025-07-09T16:28:00",
          "2025-07-09T16:32:00",
          "2025-07-09T16:46:00",
          "2025-07-09T16:53:00",
          "2025-07-09T16:56:00",
          "2025-07-09T17:15:00",
          "2025-07-09T17:37:00",
          "2025-07-09T18:00:00",
          "2025-07-09T18:35:00",
          "2025-07-09T19:01:00",
          "2025-07-09T19:43:00",
          "2025-07-09T19:54:00",
          "2025-07-09T20:13:00",
          "2025-07-09T20:18:00",
          "2025-07-09T20:53:00",
          "2025-07-09T21:02:00",
          "2025-07-09T21:07:00",
          "2025-07-09T21:19:00",
          "2025-07-09T21:36:00",
          "2025-07-09T22:07:00",
          "2025-07-09T22:11:00",
          "2025-07-09T22:18:00",
          "2025-07-09T22:20:00",
          "2025-07-09T22:27:00",
          "2025-07-09T22:28:00",
          "2025-07-09T22:51:00",
          "2025-07-09T23:37:00",
          "2025-07-09T23:42:00",
          "2025-07-10T01:20:00",
          "2025-07-10T01:32:00",
          "2025-07-10T01:55:00",
          "2025-07-10T02:22:00",
          "2025-07-10T02:27:00",
          "2025-07-10T02:32:00",
          "2025-07-10T02:39:00",
          "2025-07-10T02:41:00",
          "2025-07-10T02:56:00",
          "2025-07-10T02:58:00",
          "2025-07-10T02:59:00",
          "2025-07-10T03:00:00",
          "2025-07-10T03:05:00",
          "2025-07-10T03:23:00",
          "2025-07-10T03:35:00",
          "2025-07-10T03:42:00",
          "2025-07-10T03:45:00",
          "2025-07-10T03:53:00",
          "2025-07-10T04:16:00",
          "2025-07-10T04:31:00",
          "2025-07-10T04:40:00",
          "2025-07-10T04:50:00",
          "2025-07-10T05:01:00",
          "2025-07-10T05:13:00",
          "2025-07-10T05:36:00",
          "2025-07-10T05:56:00",
          "2025-07-10T06:00:00",
          "2025-07-10T06:24:00",
          "2025-07-10T06:35:00",
          "2025-07-10T06:45:00",
          "2025-07-10T06:49:00",
          "2025-07-10T07:01:00",
          "2025-07-10T07:18:00",
          "2025-07-10T07:22:00",
          "2025-07-10T07:24:00",
          "2025-07-10T07:44:00",
          "2025-07-10T07:46:00",
          "2025-07-10T08:00:00",
          "2025-07-10T08:03:00",
          "2025-07-10T08:05:00",
          "2025-07-10T08:36:00",
          "2025-07-10T08:45:00",
          "2025-07-10T08:47:00",
          "2025-07-10T09:01:00",
          "2025-07-10T09:03:00",
          "2025-07-10T09:05:00",
          "2025-07-10T09:17:00",
          "2025-07-10T09:57:00",
          "2025-07-10T10:04:00",
          "2025-07-10T10:06:00",
          "2025-07-10T10:22:00",
          "2025-07-10T10:33:00",
          "2025-07-10T10:41:00",
          "2025-07-10T10:54:00",
          "2025-07-10T11:08:00",
          "2025-07-10T12:13:00",
          "2025-07-10T12:15:00",
          "2025-07-10T12:29:00",
          "2025-07-10T12:31:00",
          "2025-07-10T12:45:00",
          "2025-07-10T12:51:00",
          "2025-07-10T13:05:00",
          "2025-07-10T13:22:00",
          "2025-07-10T13:27:00",
          "2025-07-10T13:29:00",
          "2025-07-10T13:41:00",
          "2025-07-10T13:46:00",
          "2025-07-10T13:48:00",
          "2025-07-10T14:02:00",
          "2025-07-10T14:10:00",
          "2025-07-10T14:11:00",
          "2025-07-10T15:11:00",
          "2025-07-10T15:12:00",
          "2025-07-10T15:23:00",
          "2025-07-10T15:53:00",
          "2025-07-10T16:01:00",
          "2025-07-10T16:04:00",
          "2025-07-10T16:17:00",
          "2025-07-10T16:48:00",
          "2025-07-10T17:03:00",
          "2025-07-10T17:22:00",
          "2025-07-10T17:38:00",
          "2025-07-10T17:45:00",
          "2025-07-10T17:52:00",
          "2025-07-10T18:05:00",
          "2025-07-10T18:18:00",
          "2025-07-10T18:20:00",
          "2025-07-10T18:30:00",
          "2025-07-10T18:55:00",
          "2025-07-10T19:04:00",
          "2025-07-10T19:25:00",
          "2025-07-10T19:54:00",
          "2025-07-10T19:58:00",
          "2025-07-10T20:14:00",
          "2025-07-10T20:17:00",
          "2025-07-10T20:51:00",
          "2025-07-10T21:01:00",
          "2025-07-10T21:04:00",
          "2025-07-10T21:10:00",
          "2025-07-10T21:22:00",
          "2025-07-10T21:25:00",
          "2025-07-10T21:31:00",
          "2025-07-10T21:46:00",
          "2025-07-10T21:51:00",
          "2025-07-10T22:00:00",
          "2025-07-10T22:14:00",
          "2025-07-10T22:25:00",
          "2025-07-10T22:41:00",
          "2025-07-10T22:43:00",
          "2025-07-10T22:44:00",
          "2025-07-10T22:46:00",
          "2025-07-10T22:49:00",
          "2025-07-10T22:55:00",
          "2025-07-10T22:57:00",
          "2025-07-10T23:17:00",
          "2025-07-10T23:33:00",
          "2025-07-10T23:41:00",
          "2025-07-10T23:47:00",
          "2025-07-11T01:08:00",
          "2025-07-11T01:17:00",
          "2025-07-11T01:22:00",
          "2025-07-11T01:30:00",
          "2025-07-11T01:35:00",
          "2025-07-11T01:43:00",
          "2025-07-11T02:00:00",
          "2025-07-11T02:08:00",
          "2025-07-11T02:23:00",
          "2025-07-11T02:49:00",
          "2025-07-11T03:06:00",
          "2025-07-11T03:57:00",
          "2025-07-11T04:11:00",
          "2025-07-11T04:24:00",
          "2025-07-11T04:27:00",
          "2025-07-11T04:46:00",
          "2025-07-11T05:08:00",
          "2025-07-11T05:22:00",
          "2025-07-11T05:27:00",
          "2025-07-11T05:30:00",
          "2025-07-11T05:35:00",
          "2025-07-11T06:04:00",
          "2025-07-11T06:10:00",
          "2025-07-11T06:24:00",
          "2025-07-11T06:27:00",
          "2025-07-11T06:35:00",
          "2025-07-11T07:10:00",
          "2025-07-11T07:36:00",
          "2025-07-11T07:45:00",
          "2025-07-11T08:04:00",
          "2025-07-11T08:30:00",
          "2025-07-11T08:33:00",
          "2025-07-11T08:51:00",
          "2025-07-11T09:07:00",
          "2025-07-11T09:45:00",
          "2025-07-11T09:57:00",
          "2025-07-11T10:04:00",
          "2025-07-11T10:06:00",
          "2025-07-11T10:07:00",
          "2025-07-11T10:13:00",
          "2025-07-11T10:33:00",
          "2025-07-11T10:45:00",
          "2025-07-11T11:04:00",
          "2025-07-11T11:05:00",
          "2025-07-11T11:06:00",
          "2025-07-11T11:22:00",
          "2025-07-11T12:02:00",
          "2025-07-11T12:35:00",
          "2025-07-11T12:39:00",
          "2025-07-11T12:41:00",
          "2025-07-11T12:49:00",
          "2025-07-11T12:54:00",
          "2025-07-11T12:56:00",
          "2025-07-11T12:57:00",
          "2025-07-11T13:05:00",
          "2025-07-11T13:13:00",
          "2025-07-11T13:41:00",
          "2025-07-11T13:43:00",
          "2025-07-11T13:58:00",
          "2025-07-11T14:03:00",
          "2025-07-11T14:06:00",
          "2025-07-11T14:15:00",
          "2025-07-11T14:41:00",
          "2025-07-11T15:31:00",
          "2025-07-11T15:33:00",
          "2025-07-11T15:34:00",
          "2025-07-11T15:56:00",
          "2025-07-11T16:11:00",
          "2025-07-11T16:32:00",
          "2025-07-11T16:37:00",
          "2025-07-11T16:39:00",
          "2025-07-11T16:42:00",
          "2025-07-11T17:11:00",
          "2025-07-11T17:14:00",
          "2025-07-11T17:15:00",
          "2025-07-11T17:22:00",
          "2025-07-11T17:34:00",
          "2025-07-11T17:45:00",
          "2025-07-11T17:52:00",
          "2025-07-11T18:03:00",
          "2025-07-11T18:04:00",
          "2025-07-11T18:29:00",
          "2025-07-11T18:30:00",
          "2025-07-11T18:31:00",
          "2025-07-11T18:48:00",
          "2025-07-11T19:08:00",
          "2025-07-11T19:23:00",
          "2025-07-11T19:46:00",
          "2025-07-11T19:47:00",
          "2025-07-11T19:53:00",
          "2025-07-11T19:54:00",
          "2025-07-11T20:14:00",
          "2025-07-11T20:23:00",
          "2025-07-11T20:38:00",
          "2025-07-11T20:40:00",
          "2025-07-11T21:10:00",
          "2025-07-11T21:44:00",
          "2025-07-11T21:47:00",
          "2025-07-11T22:07:00",
          "2025-07-11T22:22:00",
          "2025-07-11T22:57:00",
          "2025-07-11T23:00:00",
          "2025-07-11T23:08:00",
          "2025-07-11T23:13:00",
          "2025-07-11T23:37:00",
          "2025-07-11T23:40:00",
          "2025-07-11T23:41:00",
          "2025-07-14T01:14:00",
          "2025-07-14T01:52:00",
          "2025-07-14T01:59:00",
          "2025-07-14T02:02:00",
          "2025-07-14T02:13:00",
          "2025-07-14T02:19:00",
          "2025-07-14T02:27:00",
          "2025-07-14T02:40:00",
          "2025-07-14T02:53:00",
          "2025-07-14T03:00:00",
          "2025-07-14T03:01:00",
          "2025-07-14T03:02:00",
          "2025-07-14T03:04:00",
          "2025-07-14T03:05:00",
          "2025-07-14T03:38:00",
          "2025-07-14T03:44:00",
          "2025-07-14T03:46:00",
          "2025-07-14T03:53:00",
          "2025-07-14T03:55:00",
          "2025-07-14T04:07:00",
          "2025-07-14T04:12:00",
          "2025-07-14T04:16:00",
          "2025-07-14T04:21:00",
          "2025-07-14T04:22:00",
          "2025-07-14T04:26:00",
          "2025-07-14T04:54:00",
          "2025-07-14T05:07:00",
          "2025-07-14T05:16:00",
          "2025-07-14T06:08:00",
          "2025-07-14T06:15:00",
          "2025-07-14T06:44:00",
          "2025-07-14T06:52:00",
          "2025-07-14T07:01:00",
          "2025-07-14T07:27:00",
          "2025-07-14T07:37:00",
          "2025-07-14T07:39:00",
          "2025-07-14T07:44:00",
          "2025-07-14T07:45:00",
          "2025-07-14T08:05:00",
          "2025-07-14T08:13:00"
         ],
         "xaxis": "x",
         "y": [
          10001,
          9963,
          9876,
          9856,
          9860,
          9848,
          9843,
          9775,
          9791,
          9809,
          9803,
          9807,
          9824,
          9841,
          9842,
          9833,
          9837,
          9819,
          9801,
          9800,
          9817,
          9828,
          9824,
          9831,
          9838,
          9849,
          9855,
          9860,
          9879,
          9945,
          9995,
          9994,
          9958,
          9972,
          10041,
          10157,
          10169,
          10175,
          10200,
          10247,
          10318,
          10409,
          10444,
          10339,
          10285,
          10276,
          10276,
          10264,
          10280,
          10306,
          10362,
          10368,
          10434,
          10416,
          10432,
          10482,
          10526,
          10524,
          10527,
          10541,
          10533,
          10549,
          10566,
          10548,
          10535,
          10520,
          10509,
          10669,
          10635,
          10602,
          10569,
          10488,
          10554,
          10546,
          10497,
          10505,
          10513,
          10507,
          10518,
          10503,
          10493,
          10493,
          10477,
          10477,
          10515,
          10543,
          10556,
          10582,
          10558,
          10506,
          10509,
          10484,
          10479,
          10471,
          10443,
          10449,
          10436,
          10425,
          10423,
          10422,
          10418,
          10422,
          10425,
          10421,
          10416,
          10432,
          10432,
          10426,
          10435,
          10429,
          10431,
          10421,
          10428,
          10416,
          10425,
          10400,
          10400,
          10401,
          10381,
          10268,
          10252,
          10255,
          10252,
          10251,
          10254,
          10222,
          10225,
          10229,
          10223,
          10225,
          10228,
          10230,
          10220,
          10229,
          10241,
          10231,
          10172,
          10174,
          10162,
          10162,
          10177,
          10164,
          10147,
          10170,
          10214,
          10268,
          10248,
          10245,
          10286,
          10260,
          10243,
          10231,
          10238,
          10223,
          10231,
          10216,
          10162,
          10160,
          10118,
          10161,
          10118,
          10125,
          10145,
          10114,
          10176,
          10173,
          10058,
          9996,
          9987,
          10087,
          10186,
          10095,
          10131,
          10129,
          10111,
          10117,
          10119,
          10069,
          10061,
          10119,
          10115,
          10154,
          10121,
          10088,
          10056,
          9987,
          9983,
          10009,
          10004,
          9983,
          9976,
          9971,
          9974,
          9975,
          9958,
          9994,
          9985,
          9977,
          9979,
          9977,
          9977,
          9987,
          9990,
          9994,
          9995,
          9995,
          9991,
          9948,
          9955,
          9984,
          10010,
          10042,
          9987,
          9963,
          9979,
          9953,
          9978,
          9966,
          9989,
          9991,
          10016,
          9994,
          9977,
          9979,
          9964,
          9957,
          9955,
          9961,
          9935,
          9943,
          9946,
          9913,
          9930,
          9909,
          9885,
          9901,
          9900,
          9897,
          9973,
          9989,
          9914,
          9870,
          9870,
          9886,
          9894,
          9862,
          9846,
          9810,
          9848,
          9837,
          9793,
          9745,
          9750,
          9809,
          9846,
          9840,
          9852,
          9856,
          9858,
          9844,
          9839,
          9841,
          9849,
          9873,
          9840,
          9920,
          9988,
          9951,
          10015,
          10222,
          10483,
          10519,
          10494,
          10473,
          10466,
          10487,
          10469,
          10487,
          10457,
          10514,
          10559,
          10562,
          10533,
          10465,
          10419,
          10427,
          10438,
          10375,
          10385,
          10360,
          10351,
          10352,
          10346,
          10383,
          10405,
          10373,
          10355,
          10430,
          10447,
          10440,
          10436,
          10412,
          10401,
          10402,
          10404,
          10401,
          10388,
          10336,
          10348,
          10337,
          10350,
          10354,
          10329,
          10329,
          10327,
          10330,
          10347,
          10339,
          10354,
          10347,
          10320,
          10324,
          10310,
          10314,
          10312,
          10308,
          10319,
          10305,
          10302,
          10313,
          10306,
          10304,
          10312,
          10313,
          10301,
          10316,
          10309,
          10316,
          10281,
          10298,
          10261,
          10283,
          10269,
          10263,
          10286,
          10256,
          10259,
          10265,
          10263,
          10307,
          10284,
          10276,
          10272,
          10281,
          10280,
          10263,
          10264,
          10264,
          10266,
          10269,
          10293,
          10275,
          10231,
          10207,
          10139,
          10291,
          10395,
          10425,
          10438,
          10438,
          10443,
          10467,
          10506,
          10524,
          10498,
          10453,
          10466,
          10485,
          10463,
          10460,
          10469,
          10437,
          10433,
          10444,
          10468,
          10462,
          10463,
          10474,
          10479,
          10487,
          10492,
          10496,
          10494,
          10482,
          10492,
          10494,
          10479,
          10493,
          10511,
          10504,
          10465,
          10455,
          10441,
          10447,
          10436,
          10422,
          10397,
          10383,
          10392,
          10420,
          10439,
          10447,
          10455,
          10462,
          10441,
          10395,
          10406,
          10385,
          10395,
          10412,
          10381,
          10372,
          10383,
          10315,
          10314,
          10353,
          10357,
          10348,
          10343,
          10346,
          10345,
          10354,
          10359,
          10363,
          10382,
          10384,
          10382,
          10351,
          10353,
          10350,
          10340,
          10337,
          10319,
          10308,
          10305,
          10318,
          10308,
          10310,
          10306,
          10307,
          10301,
          10298,
          10300,
          10300,
          10303,
          10298,
          10296,
          10293,
          10295,
          10293,
          10307,
          10347,
          10385,
          10373,
          10341,
          10326,
          10336,
          10375,
          10304,
          10204,
          10170,
          10206,
          10211,
          10174,
          10115,
          10133,
          10168,
          10200,
          10163,
          10172,
          10171,
          10203,
          10218,
          10219,
          10225,
          10233,
          10210,
          10175,
          10208,
          10159,
          10172,
          10173,
          10203,
          10155,
          10145,
          10190,
          10226,
          10217,
          10182,
          10159,
          10177,
          10124,
          10140,
          10158,
          10167,
          10148,
          10083,
          10070,
          10069,
          10073,
          10070,
          10057,
          10091,
          10098,
          10106,
          10115,
          10133,
          10116,
          10080,
          10087,
          10125,
          10142,
          10155,
          10113,
          10107,
          10136,
          10112,
          10119,
          10159,
          10136,
          10139,
          10132,
          10143,
          10154,
          10155,
          10148,
          10148,
          10135,
          10058,
          10044,
          10027,
          9997,
          10023,
          10023,
          10023,
          10022,
          9999,
          10004,
          10008,
          10007,
          9987,
          9972,
          9942,
          9938,
          9930,
          9923,
          9920,
          9931,
          9932,
          9910,
          9911,
          9867,
          9874,
          9887,
          9869,
          9866,
          9854,
          9861,
          9853,
          9870,
          9892,
          9868,
          9829,
          9855,
          9874,
          9863,
          9886,
          9795,
          9801,
          9816,
          9818,
          9809,
          9814,
          9782,
          9803,
          9805,
          9807,
          10142,
          10185,
          10080,
          10110,
          10134,
          10142,
          10179,
          10168,
          10108,
          10049,
          10026,
          9966,
          10033,
          10101,
          10088,
          10104,
          10106,
          10156,
          10135,
          10069,
          10060,
          10099,
          10087,
          10089,
          10097,
          10084,
          10091,
          10088,
          10101,
          10108,
          10078,
          10041,
          9947,
          9908,
          9839,
          9842,
          9846,
          9836,
          9836,
          9840,
          9873,
          9864,
          9882,
          9884,
          9918,
          9950,
          9929,
          9933,
          9928,
          9939,
          9948,
          9960,
          9996,
          9995,
          10040,
          10058,
          10096,
          10055,
          10056,
          10014,
          9888,
          9899,
          9916,
          9931,
          9934,
          9972,
          9986,
          9988,
          10003,
          9968,
          9964,
          9975,
          9979,
          9991,
          10001,
          10021,
          10013,
          10044,
          10040,
          10041,
          10047,
          10039,
          10060,
          10083,
          10136,
          10145,
          10121,
          10115,
          10167,
          10203,
          10204,
          10213,
          10259,
          10245,
          10289,
          10303,
          10274,
          10255,
          10240,
          10263,
          10283,
          10310,
          10502,
          10636,
          10680,
          10715,
          10745,
          10687,
          10728,
          10697,
          10633,
          10730,
          10769,
          10784,
          10731,
          10615,
          10632,
          10565,
          10842,
          11087,
          10919,
          10940,
          10947,
          10961,
          10971,
          10945,
          10953,
          10926,
          10859,
          10784,
          10797,
          10807,
          10746,
          10751,
          10702,
          10702,
          10744,
          10759,
          10760,
          10748,
          10744,
          10750,
          10757,
          10749,
          10729,
          10714,
          10706,
          10694,
          10698,
          10693,
          10696,
          10707,
          10704,
          10697,
          10695,
          10699,
          10711,
          10707,
          10700,
          10711,
          10698,
          10702,
          10701,
          10767,
          10775,
          10825,
          10850,
          10724,
          10741,
          10782,
          10790,
          10717,
          10713,
          10657,
          10559,
          10561,
          10597,
          10619,
          10641,
          10660,
          10707,
          10704,
          10716,
          10688,
          10702,
          10749,
          10818,
          10751,
          10686,
          10642,
          10702,
          10603,
          10645,
          10705,
          10778,
          10866,
          10783,
          10777,
          10822,
          10852,
          10845,
          10861,
          10892,
          10890,
          10841,
          10812,
          10774,
          10781,
          10780,
          10755,
          10811,
          10803,
          10834,
          10848,
          10868,
          10870,
          10878,
          10905,
          10951,
          10997,
          10987,
          10933,
          10929,
          10989,
          11002,
          11087,
          11117,
          11144,
          11114,
          11021,
          11029,
          11045,
          11006,
          11044,
          11047,
          11065,
          11088,
          11019,
          11058,
          11057,
          11049,
          11054,
          11053,
          11069,
          11062,
          11070,
          11073,
          11028,
          10962,
          10916,
          10897,
          10931,
          10935,
          10940,
          10972,
          10951,
          10933,
          10910,
          10925,
          10941,
          11001,
          10771,
          10785,
          10809,
          10877,
          10945,
          10969,
          10953,
          10939,
          10916,
          10913,
          10908,
          10858,
          10841,
          10768,
          10816,
          10850,
          10823,
          10824,
          10845,
          10841,
          10810,
          10800,
          10787,
          10772,
          10778,
          10828,
          10837,
          10814,
          10815,
          10839,
          10845,
          10832,
          10826,
          10836,
          10831,
          10850,
          10867,
          10881,
          10914,
          10951,
          10951,
          10922,
          10875,
          10882,
          10823,
          10814,
          10744,
          10750,
          10741,
          10800,
          10859,
          10898,
          10936,
          10887,
          10895,
          10884,
          10893,
          10868,
          10826,
          10861,
          10824,
          10837,
          10829,
          10844,
          10832,
          10876,
          10868,
          10930,
          10936,
          10958,
          10900,
          10899,
          10891,
          10835,
          10857,
          10892,
          10919,
          10945,
          10991,
          11017,
          11031,
          11014,
          11002,
          11013,
          10940,
          11029,
          11113,
          11172,
          11223,
          11207,
          11203,
          11173,
          11164,
          11158,
          11146,
          11149,
          11138,
          11122,
          11113,
          11125,
          11131,
          11120,
          11098,
          11110,
          11066,
          11059,
          11064,
          11085,
          11096,
          11101,
          11100,
          11099,
          11073,
          11032,
          11039,
          11040,
          11030,
          11031,
          11043,
          11057,
          11050,
          11077,
          11060,
          10989,
          10956,
          10966,
          10973,
          10993,
          10998,
          10994,
          11009,
          11007,
          11006,
          11015,
          11024,
          10985,
          11011,
          11055,
          11063,
          11043,
          11043,
          11053,
          11075,
          11093,
          11118,
          11143,
          11138,
          11129,
          11098,
          11094,
          11088,
          11106,
          11102,
          11120,
          11114,
          11067,
          10966,
          10826,
          10686,
          10499,
          10268,
          10215,
          10254,
          10267,
          10234,
          10203,
          10211,
          10190,
          10174,
          10193,
          10175,
          10133,
          10160,
          10180,
          10176,
          10176,
          10196,
          10200,
          10219,
          10212,
          10225,
          10203,
          10215,
          10222,
          10218,
          10261,
          10242,
          10234,
          10266,
          10265,
          10285,
          10284,
          10227,
          10206,
          10265,
          10268,
          10247,
          10274,
          10264,
          10258,
          10270,
          10355,
          10267,
          10085,
          10106,
          10078,
          9993,
          9954,
          9967,
          9935,
          9922,
          9947,
          9954,
          9982,
          9984,
          9990,
          9945,
          9936,
          9914,
          9919,
          9910,
          9910,
          9908,
          9910,
          9913,
          9908,
          9923,
          9923,
          9940,
          9969,
          9986,
          9971,
          9997,
          9991,
          9990,
          9992,
          9956,
          9919,
          9933,
          9919,
          9919,
          9916,
          9878,
          9886,
          9882,
          9915,
          9939,
          9965,
          9970,
          9927,
          9905,
          9921,
          9938,
          9934,
          9908,
          9878,
          9880,
          9905,
          9919,
          9897,
          9905,
          9903,
          9936,
          9925,
          9929,
          9941,
          9916,
          9855,
          9889,
          9889,
          9845,
          9865,
          9897,
          9860,
          9849,
          9858,
          9838,
          9868,
          9901,
          9950,
          9984,
          10043,
          10033,
          9985,
          9980,
          9973,
          9975,
          9921,
          9940,
          9977,
          10090,
          10220,
          10162,
          10170,
          10169,
          10196,
          10217,
          10226,
          10219,
          10201,
          10212,
          10200,
          10197,
          10194,
          10204,
          10222,
          10211,
          10290,
          10317,
          10338,
          10483,
          10448,
          10100,
          10209,
          10116,
          10131,
          10135,
          10126,
          10092,
          10093,
          10060,
          10017,
          10022,
          10041,
          10031,
          9982,
          9979,
          9965,
          9967,
          9969,
          9966,
          9953,
          9972,
          9956,
          9966,
          9975,
          9989,
          9968,
          9996,
          10021,
          9993,
          9980,
          9980,
          10024,
          10031,
          9965,
          9942,
          9941,
          9943,
          9915,
          9927,
          9941,
          9899,
          9915,
          9944,
          9907,
          9945,
          9971,
          9995,
          9983,
          9985,
          9981,
          9955,
          9958,
          9956,
          9955,
          9973,
          9994,
          10001,
          10010,
          9985,
          9999,
          10013,
          9978,
          9981,
          9985,
          9991,
          9977,
          10005,
          10015,
          10030,
          10006,
          9982,
          10000,
          10006,
          10004,
          10008,
          9999,
          9981,
          9970,
          9988,
          9973,
          9954,
          9960,
          9999,
          10054,
          10065,
          10070,
          10055,
          10049,
          10055,
          10022,
          10053,
          10073,
          10121,
          10101,
          10084,
          10074,
          10072,
          10094,
          10163,
          10190,
          10206,
          10219,
          10215,
          10194,
          10170,
          10159,
          10136,
          10118,
          10100,
          10059,
          10037,
          10052,
          10074,
          10075,
          10071,
          10087,
          10080,
          10083,
          10062,
          10062,
          10060,
          10073,
          10085,
          10108,
          10055,
          10057,
          10037,
          10059,
          10034,
          10038,
          10022,
          10029,
          9988,
          10064,
          10029,
          10058,
          10104,
          10145,
          10162,
          10174,
          10104,
          10069,
          10029,
          9982,
          9929,
          9987,
          10031,
          10028,
          10149,
          10134,
          10167,
          10167,
          10186,
          10205,
          10204,
          10220,
          10236,
          10258,
          10256,
          10251,
          10253,
          10255,
          10236,
          10237,
          10237,
          10237,
          10209,
          10219,
          10192,
          10210,
          10167,
          10227,
          10244,
          10245,
          10242,
          10237,
          10263,
          10254,
          10319,
          10258,
          10265,
          10245,
          10259,
          10298,
          10355,
          10407,
          10387,
          10420,
          10448,
          10429,
          10377,
          10408,
          10414,
          10433,
          10463,
          10445,
          10459,
          10459,
          10445,
          10460,
          10463,
          10459,
          10445,
          10453,
          10433,
          10440,
          10455,
          10470,
          10494,
          10519,
          10571,
          10656,
          10710,
          10728,
          10768,
          10771,
          10713,
          10699,
          10699,
          10753,
          10689,
          10747,
          10776,
          10747,
          10755,
          10745,
          10732,
          10746,
          10780,
          10895,
          11001,
          11111,
          11185,
          11233,
          11289,
          11275,
          11303,
          11353,
          11391,
          11376,
          11430,
          11445,
          11384,
          11421,
          11449,
          11484,
          11588,
          11610,
          11611,
          11544,
          11605,
          11684,
          11762,
          11766,
          11724,
          11747,
          11768,
          11757,
          11743,
          11743,
          11736,
          11741,
          11738,
          11743,
          11745,
          11754,
          11765,
          11832,
          11872,
          11914,
          11928,
          11929,
          11913,
          11872,
          11877,
          11891,
          11907,
          11929,
          11906,
          11892,
          11902,
          11802,
          11711,
          11605,
          11574,
          11593,
          11611,
          11595,
          11547,
          11531,
          11511,
          11516,
          11515,
          11528,
          11550,
          11561,
          11585,
          11576,
          11606,
          11624,
          11647,
          11618,
          11645,
          11632,
          11634,
          11628,
          11661,
          11691,
          11734,
          11631,
          11648,
          11665,
          11695,
          11680,
          11691,
          11640,
          11647,
          11642,
          11662,
          11674,
          11722,
          11737,
          11760,
          11760,
          11760,
          11764,
          11749,
          11649,
          11662,
          11655,
          11643,
          11642,
          11661,
          11647,
          11679,
          11660,
          11604,
          11568,
          11604,
          11630,
          11608,
          11612,
          11630,
          11676,
          11694,
          11703,
          11739,
          11738,
          11797,
          11825,
          11883,
          11934,
          11957,
          11953,
          11889,
          11871,
          11891,
          11902,
          11957,
          11958,
          11971,
          11977,
          11962,
          11965,
          11961,
          11951,
          11934,
          11945,
          11935,
          11950,
          11964,
          11945,
          11946,
          11945,
          11962,
          11953,
          11963,
          11948,
          11941,
          11911,
          11912,
          11909,
          11911,
          11915,
          11943,
          11958,
          11964,
          11976,
          11964,
          11935,
          11966,
          11978,
          11996,
          12045,
          12052,
          12046,
          12051,
          12053,
          12050,
          12050,
          12038,
          12042,
          12027,
          12028,
          12046,
          12008,
          12002,
          12003,
          11994,
          11985,
          11978,
          11958,
          11965,
          11914,
          11914,
          11937,
          11955,
          11966,
          11942,
          11938,
          11937,
          11901,
          11883,
          11887,
          11891,
          11849,
          11860,
          11897,
          11960,
          11960,
          11882,
          11792,
          11793,
          11830,
          11830,
          11870,
          11889,
          11905,
          11905,
          11978,
          11994,
          11998,
          11965,
          11997,
          12025,
          12042,
          11994,
          11979,
          11950,
          11958,
          11978,
          11974,
          11959,
          11974,
          12003,
          12051,
          12094,
          12093,
          12059,
          12099,
          12125,
          12144,
          12100,
          12101,
          12106,
          12150,
          12163,
          12177,
          12187,
          12188,
          12173,
          12180,
          12193,
          12188,
          12226,
          12227,
          12244,
          12255,
          12266,
          12282,
          12307,
          12313,
          12305,
          12298,
          12319,
          12323,
          12319,
          12322,
          12317,
          12341,
          12377,
          12391,
          12434,
          12446,
          12466,
          12504,
          12541,
          12559,
          12543,
          12546,
          12508,
          12468,
          12444,
          12449,
          12484,
          12520,
          12532,
          12528,
          12493,
          12470,
          12499,
          12499,
          12496,
          12489,
          12496,
          12521,
          12558,
          12631,
          12690,
          12718,
          12735,
          12730,
          12735,
          12715,
          12710,
          12703,
          12677,
          12686,
          12714,
          12728,
          12740,
          12774,
          12827,
          12884,
          12904,
          12946,
          12972,
          12929,
          12958,
          12976,
          12980,
          13011,
          12873,
          12921,
          12932,
          12953,
          12975,
          12965,
          13016,
          13084,
          13118,
          13073,
          12933,
          12760,
          12836,
          12880,
          12869,
          12855,
          12838,
          12760,
          12770,
          12754,
          12691,
          12587,
          12586,
          12611,
          12640,
          12664,
          12645,
          12719,
          12804,
          12766,
          12785,
          12790,
          12806,
          12733,
          12687,
          12710,
          12736,
          12749,
          12770,
          12799,
          12786,
          12841,
          12860,
          12914,
          12956,
          12869,
          12782,
          12734,
          12667,
          12636,
          12640,
          12644,
          12622,
          12584,
          12599,
          12607,
          12618,
          12626,
          12642,
          12635,
          12651,
          12671,
          12681,
          12690,
          12673,
          12656,
          12645,
          12650,
          12671,
          12657,
          12611,
          12623,
          12621,
          12601,
          12596,
          12616,
          12609,
          12630,
          12641,
          12614,
          12617,
          12624,
          12635,
          12659,
          12638,
          12631,
          12610,
          12722,
          12802,
          12863,
          12885,
          12926,
          12958,
          12960,
          12928,
          12902,
          12895,
          12876,
          12841,
          12858,
          12874,
          12851,
          12821,
          12777,
          12788,
          12820,
          12820,
          12848,
          12851,
          12884,
          12907,
          12936,
          12977,
          13037,
          13093,
          13154,
          13185,
          13041,
          13034,
          13077,
          13143,
          13035,
          12931,
          12928,
          12885,
          12899,
          12926,
          12921,
          12918,
          12940,
          12933,
          12937,
          12956,
          12929,
          12896,
          12799,
          12725,
          12779,
          12800,
          12854,
          12943,
          12865,
          12916,
          13010,
          12988,
          12928,
          12860,
          12751,
          12786,
          12777,
          12824,
          12824,
          12682,
          12674,
          12646,
          12592,
          12604,
          12580,
          12600,
          12631,
          12608,
          12602,
          12588,
          12561,
          12567,
          12530,
          12534,
          12550,
          12600,
          12634,
          12695,
          12741,
          12741,
          12712,
          12706,
          12726,
          12693,
          12719,
          12681,
          12683,
          12683,
          12678,
          12687,
          12688,
          12700,
          12704,
          12710,
          12723,
          12738,
          12722,
          12700,
          12685,
          12678,
          12639,
          12614,
          12576,
          12583,
          12593,
          12590,
          12610,
          12628,
          12637,
          12664,
          12614,
          12476,
          12459,
          12441,
          12491,
          12504,
          12442,
          12431,
          12431,
          12434,
          12437,
          12425,
          12425,
          12422,
          12430,
          12443,
          12432,
          12427,
          12453,
          12463,
          12466,
          12512,
          12558,
          12585,
          12571,
          12572,
          12580,
          12591,
          12604,
          12602,
          12631,
          12603,
          12616,
          12610,
          12544,
          12592,
          12611,
          12591,
          12588,
          12576,
          12567,
          12532,
          12563,
          12582,
          12610,
          12569,
          12476,
          12339,
          12348,
          12328,
          12273,
          12268,
          12263,
          12277,
          12275,
          12261,
          12259,
          12262,
          12235,
          12232,
          12248,
          12240,
          12263,
          12266,
          12286,
          12284,
          12278,
          12281,
          12289,
          12357,
          12385,
          12434,
          12502,
          12570,
          12590,
          12620,
          12590,
          12645,
          12646,
          12650,
          12565,
          12560,
          12590,
          12653,
          12692,
          12692,
          12740,
          12816,
          12813,
          12844,
          12851,
          12856,
          12868,
          12877,
          12903,
          12919,
          12921,
          12934,
          12931,
          12936,
          12928,
          12927,
          12933,
          12929,
          12890,
          12898,
          12893,
          12892,
          12887,
          12879,
          12877,
          12878,
          12877,
          12886,
          12884,
          12897,
          12893,
          12872,
          12862,
          12877,
          12875,
          12895,
          12923,
          12921,
          12914,
          12942,
          12941,
          12941,
          12914,
          12897,
          12905,
          12891,
          12907,
          12897,
          12828,
          12819,
          12848,
          12839,
          12843,
          12826,
          12779,
          12853,
          12922,
          12975,
          12988,
          12979,
          12966,
          12988,
          13019,
          12994,
          13002,
          13063,
          13020,
          13070,
          13070,
          13090,
          13160,
          13138,
          13149,
          13168,
          13189,
          13175,
          13179,
          13181,
          13182,
          13225,
          13237,
          13232,
          13225,
          13200,
          13164,
          13102,
          13079,
          13077,
          13066,
          13063,
          13067,
          13066,
          13045,
          13062,
          13105,
          13103,
          13105,
          13074,
          12940,
          12890,
          12861,
          12881,
          12912,
          12871,
          12819,
          12722,
          12629,
          12508,
          12504,
          12527,
          12547,
          12567,
          12608,
          12624,
          12606,
          12595,
          12589,
          12605,
          12593,
          12599,
          12612,
          12620,
          12602,
          12605,
          12612,
          12610,
          12620,
          12620,
          12644,
          12657,
          12674,
          12689,
          12694,
          12703,
          12706,
          12712,
          12724,
          12742,
          12765,
          12774,
          12785,
          12779,
          12765,
          12756,
          12736,
          12731,
          12754,
          12778,
          12769,
          12745,
          12733,
          12742,
          12718,
          12739,
          12740,
          12737,
          12703,
          12691,
          12696,
          12681,
          12668,
          12659,
          12623,
          12622,
          12613,
          12611,
          12610,
          12594,
          12587,
          12596,
          12593,
          12557,
          12469,
          12476,
          12461,
          12417,
          12444,
          12461,
          12467,
          12488,
          12488,
          12481,
          12489,
          12480,
          12416,
          12381,
          12452,
          12451,
          12448,
          12446,
          12435,
          12467,
          12639,
          12668,
          12565,
          12537,
          12559,
          12566,
          12551,
          12547,
          12507,
          12612,
          12705,
          12726,
          12684,
          12703,
          12699,
          12699,
          12712,
          12737,
          12759,
          12773,
          12780,
          12777,
          12771,
          12786,
          12790,
          12786,
          12757,
          12749,
          12741,
          12752,
          12750,
          12763,
          12776,
          12798,
          12757,
          12753,
          12744,
          12736,
          12731,
          12734,
          12739,
          12751,
          12760,
          12766,
          12774,
          12757,
          12735,
          12735,
          12728,
          12715,
          12713,
          12722,
          12711,
          12707,
          12689,
          12698,
          12714,
          12719,
          12724,
          12721,
          12718,
          12718,
          12704,
          12704,
          12718,
          12713,
          12709,
          12695,
          12703,
          12690,
          12691,
          12667,
          12672,
          12712,
          12741,
          12788,
          12844,
          12873,
          12864,
          12824,
          12750,
          12724,
          12750,
          12725,
          12738,
          12737,
          12741,
          12707,
          12710,
          12727,
          12765,
          12788,
          12817,
          12787,
          12763,
          12753,
          12756,
          12768,
          12747,
          12743,
          12728,
          12746,
          12750,
          12733,
          12732,
          12715,
          12720,
          12714,
          12721,
          12644,
          12649,
          12647,
          12624,
          12707,
          12886,
          13070,
          13030,
          12974,
          12977,
          13007,
          13034,
          13085,
          12965,
          12780,
          12804,
          12809,
          12826,
          12801,
          12742,
          12734,
          12732,
          12736,
          12756,
          12784,
          12794,
          12826,
          12858,
          12868,
          12865,
          12862,
          12849,
          12843,
          12809,
          12830,
          12832,
          12831,
          12811,
          12801,
          12804,
          12819,
          12841,
          12855,
          12867,
          12872,
          12886,
          12887,
          12889,
          12899,
          12887,
          12887,
          12878,
          12884,
          12879,
          12877,
          12891,
          12917,
          12926,
          12922,
          12899,
          12881,
          12878,
          12856,
          12827,
          12806,
          12820,
          12821,
          12840,
          12835,
          12852,
          12849,
          12823,
          12810,
          12807,
          12825,
          12836,
          12836,
          12820,
          12820,
          12816,
          12821,
          12832,
          12832,
          12832,
          12840,
          12839,
          12809,
          12808,
          12808,
          12821,
          12820,
          12809,
          12816,
          12775,
          12775,
          12805,
          12803,
          12758,
          12703,
          12662,
          12602,
          12622,
          12632,
          12655,
          12716,
          12710,
          12737,
          12775,
          12775,
          12785,
          12767,
          12718,
          12704,
          12702,
          12711,
          12693,
          12676,
          12687,
          12695,
          12684,
          12684,
          12688,
          12692,
          12691,
          12711,
          12715,
          12696,
          12727,
          12720,
          12692,
          12604,
          12543,
          12539,
          12549,
          12561,
          12556,
          12560,
          12541,
          12547,
          12538,
          12536,
          12548,
          12540,
          12527,
          12525,
          12521,
          12522,
          12524,
          12527,
          12560,
          12565,
          12559,
          12558,
          12566,
          12566,
          12540,
          12550,
          12535,
          12500,
          12502,
          12526,
          12544,
          12569,
          12568,
          12563,
          12546,
          12568,
          12554,
          12573,
          12568,
          12555,
          12570,
          12541,
          12483,
          12413,
          12413,
          12393,
          12397,
          12382,
          12398,
          12403,
          12374,
          12377,
          12377,
          12392,
          12413,
          12422,
          12382,
          12370,
          12361,
          12310,
          12352,
          12340,
          12310,
          12287,
          12229,
          12144,
          12035,
          11902,
          11789,
          11773,
          11807,
          11808,
          11813,
          11814,
          11782,
          11722,
          11705,
          11694,
          11705,
          11676,
          11660,
          11648,
          11660,
          11622,
          11550,
          11500,
          11495,
          11462,
          11376,
          11380,
          11397,
          11383,
          11361,
          11372,
          11382,
          11378,
          11344,
          11357,
          11378,
          11435,
          11495,
          11511,
          11480,
          11432,
          11419,
          11409,
          11449,
          11476,
          11521,
          11526,
          11521,
          11515,
          11519,
          11546,
          11567,
          11530,
          11614,
          11604,
          11685,
          11705,
          11721,
          11672,
          11650,
          11649,
          11693,
          11694,
          11713,
          11717,
          11691,
          11678,
          11685,
          11716,
          11747,
          11767,
          11766,
          11776,
          11778,
          11812,
          11827,
          11839,
          11842,
          11834,
          11839,
          11829,
          11827,
          11836,
          11831,
          11829,
          11816,
          11799,
          11807,
          11805,
          11827,
          11822,
          11833,
          11837,
          11839,
          11846,
          11846,
          11851,
          11861,
          11840,
          11829,
          11860,
          11879,
          11875,
          11881,
          11911,
          11922,
          11928,
          11957,
          11975,
          11937,
          11865,
          11840,
          11802,
          11814,
          11808,
          11804,
          11809,
          11810,
          11807,
          11805,
          11805,
          11814,
          11784,
          11806,
          11782,
          11777,
          11765,
          11789,
          11829,
          11783,
          11807,
          11748,
          11752,
          11758,
          11756,
          11745,
          11738,
          11785,
          11828,
          11845,
          11895,
          11957,
          11975,
          11969,
          11986,
          11984,
          11969,
          11983,
          11987,
          11966,
          11965,
          11970,
          11971,
          11970,
          11966,
          11982,
          11980,
          11975,
          11962,
          11951,
          11951,
          11942,
          11925,
          11923,
          11905,
          11899,
          11864,
          11859,
          11869,
          11868,
          11860,
          11868,
          11904,
          11886,
          11848,
          11862,
          11840,
          11769,
          11727,
          11686,
          11665,
          11683,
          11661,
          11666,
          11676,
          11686,
          11689,
          11697,
          11700,
          11692,
          11674,
          11678,
          11674,
          11671,
          11674,
          11685,
          11673,
          11630,
          11582,
          11564,
          11579,
          11607,
          11570,
          11544,
          11513,
          11516,
          11524,
          11531,
          11534,
          11498,
          11500,
          11517,
          11566,
          11574,
          11621,
          11654,
          11684,
          11755,
          11798,
          11810,
          11830,
          11812,
          11782,
          11660,
          11550,
          11425,
          11447,
          11484,
          11484,
          11485,
          11491,
          11493,
          11480,
          11495,
          11487,
          11485,
          11476,
          11490,
          11482,
          11457,
          11459,
          11467,
          11468,
          11470,
          11480,
          11489,
          11504,
          11483,
          11514,
          11544,
          11540,
          11535,
          11542,
          11546,
          11543,
          11549,
          11548,
          11536,
          11542,
          11592,
          11607,
          11630,
          11649,
          11650,
          11655,
          11658,
          11641,
          11609,
          11609,
          11625,
          11586,
          11595,
          11584,
          11598,
          11598,
          11593,
          11599,
          11567,
          11516,
          11510,
          11482,
          11464,
          11461,
          11455,
          11460,
          11459,
          11461,
          11474,
          11468,
          11468,
          11460,
          11446,
          11424,
          11433,
          11431,
          11449,
          11456,
          11452,
          11439,
          11441,
          11409,
          11405,
          11423,
          11392,
          11387,
          11374,
          11391,
          11397,
          11409,
          11392,
          11358,
          11347,
          11351,
          11347,
          11317,
          11314,
          11319,
          11278,
          11217,
          11150,
          11137,
          11122,
          11102,
          11110,
          11147,
          11174,
          11193,
          11142,
          11102,
          11091,
          11093,
          11128,
          11119,
          11185,
          11210,
          11252,
          11217,
          11219,
          11228,
          11226,
          11200,
          11201,
          11225,
          11216,
          11228,
          11230,
          11238,
          11254,
          11288,
          11313,
          11316,
          11321,
          11308,
          11313,
          11308,
          11305,
          11274,
          11278,
          11298,
          11307,
          11311,
          11295,
          11293,
          11306,
          11295,
          11301,
          11293,
          11288,
          11289,
          11286,
          11280,
          11280,
          11280,
          11264,
          11265,
          11268,
          11279,
          11251,
          11311,
          11277,
          11268,
          11253,
          11339,
          11258,
          11168,
          11085,
          11097,
          11097,
          11067,
          11083,
          11079,
          11092,
          11104,
          11103,
          11112,
          11093,
          11088,
          11077,
          11058,
          11033,
          11063,
          11064,
          11035,
          11079,
          11116,
          11135,
          11112,
          11164,
          11157,
          11186,
          11147,
          11077,
          11059,
          11074,
          11025,
          11019,
          11044,
          11085,
          11107,
          11118,
          11135,
          11136,
          11105,
          11121,
          11137,
          11161,
          11179,
          11191,
          11187,
          11204,
          11197,
          11202,
          11225,
          11151,
          11075,
          11091,
          11077,
          11135,
          11245,
          11108,
          10915,
          10708,
          10716,
          10728,
          10745,
          10729,
          10748,
          10715,
          10697,
          10708,
          10757,
          10736,
          10649,
          10625,
          10631,
          10640,
          10651,
          10621,
          10632,
          10610,
          10621,
          10629,
          10622,
          10601,
          10593,
          10522,
          10533,
          10522,
          10509,
          10495,
          10496,
          10509,
          10537,
          10535,
          10452,
          10451,
          10423,
          10422,
          10432,
          10434,
          10433,
          10444,
          10458,
          10513,
          10530,
          10536,
          10535,
          10547,
          10547,
          10564,
          10579,
          10584,
          10596,
          10627,
          10648,
          10685,
          10706,
          10692,
          10699,
          10699,
          10693,
          10695,
          10722,
          10725,
          10721,
          10777,
          10752,
          10740,
          10749,
          10758,
          10751,
          10720,
          10734,
          10723
         ],
         "yaxis": "y"
        }
       ],
       "layout": {
        "legend": {
         "tracegroupgap": 0
        },
        "template": {
         "data": {
          "bar": [
           {
            "error_x": {
             "color": "#f2f5fa"
            },
            "error_y": {
             "color": "#f2f5fa"
            },
            "marker": {
             "line": {
              "color": "rgb(17,17,17)",
              "width": 0.5
             },
             "pattern": {
              "fillmode": "overlay",
              "size": 10,
              "solidity": 0.2
             }
            },
            "type": "bar"
           }
          ],
          "barpolar": [
           {
            "marker": {
             "line": {
              "color": "rgb(17,17,17)",
              "width": 0.5
             },
             "pattern": {
              "fillmode": "overlay",
              "size": 10,
              "solidity": 0.2
             }
            },
            "type": "barpolar"
           }
          ],
          "carpet": [
           {
            "aaxis": {
             "endlinecolor": "#A2B1C6",
             "gridcolor": "#506784",
             "linecolor": "#506784",
             "minorgridcolor": "#506784",
             "startlinecolor": "#A2B1C6"
            },
            "baxis": {
             "endlinecolor": "#A2B1C6",
             "gridcolor": "#506784",
             "linecolor": "#506784",
             "minorgridcolor": "#506784",
             "startlinecolor": "#A2B1C6"
            },
            "type": "carpet"
           }
          ],
          "choropleth": [
           {
            "colorbar": {
             "outlinewidth": 0,
             "ticks": ""
            },
            "type": "choropleth"
           }
          ],
          "contour": [
           {
            "colorbar": {
             "outlinewidth": 0,
             "ticks": ""
            },
            "colorscale": [
             [
              0,
              "#0d0887"
             ],
             [
              0.1111111111111111,
              "#46039f"
             ],
             [
              0.2222222222222222,
              "#7201a8"
             ],
             [
              0.3333333333333333,
              "#9c179e"
             ],
             [
              0.4444444444444444,
              "#bd3786"
             ],
             [
              0.5555555555555556,
              "#d8576b"
             ],
             [
              0.6666666666666666,
              "#ed7953"
             ],
             [
              0.7777777777777778,
              "#fb9f3a"
             ],
             [
              0.8888888888888888,
              "#fdca26"
             ],
             [
              1,
              "#f0f921"
             ]
            ],
            "type": "contour"
           }
          ],
          "contourcarpet": [
           {
            "colorbar": {
             "outlinewidth": 0,
             "ticks": ""
            },
            "type": "contourcarpet"
           }
          ],
          "heatmap": [
           {
            "colorbar": {
             "outlinewidth": 0,
             "ticks": ""
            },
            "colorscale": [
             [
              0,
              "#0d0887"
             ],
             [
              0.1111111111111111,
              "#46039f"
             ],
             [
              0.2222222222222222,
              "#7201a8"
             ],
             [
              0.3333333333333333,
              "#9c179e"
             ],
             [
              0.4444444444444444,
              "#bd3786"
             ],
             [
              0.5555555555555556,
              "#d8576b"
             ],
             [
              0.6666666666666666,
              "#ed7953"
             ],
             [
              0.7777777777777778,
              "#fb9f3a"
             ],
             [
              0.8888888888888888,
              "#fdca26"
             ],
             [
              1,
              "#f0f921"
             ]
            ],
            "type": "heatmap"
           }
          ],
          "histogram": [
           {
            "marker": {
             "pattern": {
              "fillmode": "overlay",
              "size": 10,
              "solidity": 0.2
             }
            },
            "type": "histogram"
           }
          ],
          "histogram2d": [
           {
            "colorbar": {
             "outlinewidth": 0,
             "ticks": ""
            },
            "colorscale": [
             [
              0,
              "#0d0887"
             ],
             [
              0.1111111111111111,
              "#46039f"
             ],
             [
              0.2222222222222222,
              "#7201a8"
             ],
             [
              0.3333333333333333,
              "#9c179e"
             ],
             [
              0.4444444444444444,
              "#bd3786"
             ],
             [
              0.5555555555555556,
              "#d8576b"
             ],
             [
              0.6666666666666666,
              "#ed7953"
             ],
             [
              0.7777777777777778,
              "#fb9f3a"
             ],
             [
              0.8888888888888888,
              "#fdca26"
             ],
             [
              1,
              "#f0f921"
             ]
            ],
            "type": "histogram2d"
           }
          ],
          "histogram2dcontour": [
           {
            "colorbar": {
             "outlinewidth": 0,
             "ticks": ""
            },
            "colorscale": [
             [
              0,
              "#0d0887"
             ],
             [
              0.1111111111111111,
              "#46039f"
             ],
             [
              0.2222222222222222,
              "#7201a8"
             ],
             [
              0.3333333333333333,
              "#9c179e"
             ],
             [
              0.4444444444444444,
              "#bd3786"
             ],
             [
              0.5555555555555556,
              "#d8576b"
             ],
             [
              0.6666666666666666,
              "#ed7953"
             ],
             [
              0.7777777777777778,
              "#fb9f3a"
             ],
             [
              0.8888888888888888,
              "#fdca26"
             ],
             [
              1,
              "#f0f921"
             ]
            ],
            "type": "histogram2dcontour"
           }
          ],
          "mesh3d": [
           {
            "colorbar": {
             "outlinewidth": 0,
             "ticks": ""
            },
            "type": "mesh3d"
           }
          ],
          "parcoords": [
           {
            "line": {
             "colorbar": {
              "outlinewidth": 0,
              "ticks": ""
             }
            },
            "type": "parcoords"
           }
          ],
          "pie": [
           {
            "automargin": true,
            "type": "pie"
           }
          ],
          "scatter": [
           {
            "marker": {
             "line": {
              "color": "#283442"
             }
            },
            "type": "scatter"
           }
          ],
          "scatter3d": [
           {
            "line": {
             "colorbar": {
              "outlinewidth": 0,
              "ticks": ""
             }
            },
            "marker": {
             "colorbar": {
              "outlinewidth": 0,
              "ticks": ""
             }
            },
            "type": "scatter3d"
           }
          ],
          "scattercarpet": [
           {
            "marker": {
             "colorbar": {
              "outlinewidth": 0,
              "ticks": ""
             }
            },
            "type": "scattercarpet"
           }
          ],
          "scattergeo": [
           {
            "marker": {
             "colorbar": {
              "outlinewidth": 0,
              "ticks": ""
             }
            },
            "type": "scattergeo"
           }
          ],
          "scattergl": [
           {
            "marker": {
             "line": {
              "color": "#283442"
             }
            },
            "type": "scattergl"
           }
          ],
          "scattermap": [
           {
            "marker": {
             "colorbar": {
              "outlinewidth": 0,
              "ticks": ""
             }
            },
            "type": "scattermap"
           }
          ],
          "scattermapbox": [
           {
            "marker": {
             "colorbar": {
              "outlinewidth": 0,
              "ticks": ""
             }
            },
            "type": "scattermapbox"
           }
          ],
          "scatterpolar": [
           {
            "marker": {
             "colorbar": {
              "outlinewidth": 0,
              "ticks": ""
             }
            },
            "type": "scatterpolar"
           }
          ],
          "scatterpolargl": [
           {
            "marker": {
             "colorbar": {
              "outlinewidth": 0,
              "ticks": ""
             }
            },
            "type": "scatterpolargl"
           }
          ],
          "scatterternary": [
           {
            "marker": {
             "colorbar": {
              "outlinewidth": 0,
              "ticks": ""
             }
            },
            "type": "scatterternary"
           }
          ],
          "surface": [
           {
            "colorbar": {
             "outlinewidth": 0,
             "ticks": ""
            },
            "colorscale": [
             [
              0,
              "#0d0887"
             ],
             [
              0.1111111111111111,
              "#46039f"
             ],
             [
              0.2222222222222222,
              "#7201a8"
             ],
             [
              0.3333333333333333,
              "#9c179e"
             ],
             [
              0.4444444444444444,
              "#bd3786"
             ],
             [
              0.5555555555555556,
              "#d8576b"
             ],
             [
              0.6666666666666666,
              "#ed7953"
             ],
             [
              0.7777777777777778,
              "#fb9f3a"
             ],
             [
              0.8888888888888888,
              "#fdca26"
             ],
             [
              1,
              "#f0f921"
             ]
            ],
            "type": "surface"
           }
          ],
          "table": [
           {
            "cells": {
             "fill": {
              "color": "#506784"
             },
             "line": {
              "color": "rgb(17,17,17)"
             }
            },
            "header": {
             "fill": {
              "color": "#2a3f5f"
             },
             "line": {
              "color": "rgb(17,17,17)"
             }
            },
            "type": "table"
           }
          ]
         },
         "layout": {
          "annotationdefaults": {
           "arrowcolor": "#f2f5fa",
           "arrowhead": 0,
           "arrowwidth": 1
          },
          "autotypenumbers": "strict",
          "coloraxis": {
           "colorbar": {
            "outlinewidth": 0,
            "ticks": ""
           }
          },
          "colorscale": {
           "diverging": [
            [
             0,
             "#8e0152"
            ],
            [
             0.1,
             "#c51b7d"
            ],
            [
             0.2,
             "#de77ae"
            ],
            [
             0.3,
             "#f1b6da"
            ],
            [
             0.4,
             "#fde0ef"
            ],
            [
             0.5,
             "#f7f7f7"
            ],
            [
             0.6,
             "#e6f5d0"
            ],
            [
             0.7,
             "#b8e186"
            ],
            [
             0.8,
             "#7fbc41"
            ],
            [
             0.9,
             "#4d9221"
            ],
            [
             1,
             "#276419"
            ]
           ],
           "sequential": [
            [
             0,
             "#0d0887"
            ],
            [
             0.1111111111111111,
             "#46039f"
            ],
            [
             0.2222222222222222,
             "#7201a8"
            ],
            [
             0.3333333333333333,
             "#9c179e"
            ],
            [
             0.4444444444444444,
             "#bd3786"
            ],
            [
             0.5555555555555556,
             "#d8576b"
            ],
            [
             0.6666666666666666,
             "#ed7953"
            ],
            [
             0.7777777777777778,
             "#fb9f3a"
            ],
            [
             0.8888888888888888,
             "#fdca26"
            ],
            [
             1,
             "#f0f921"
            ]
           ],
           "sequentialminus": [
            [
             0,
             "#0d0887"
            ],
            [
             0.1111111111111111,
             "#46039f"
            ],
            [
             0.2222222222222222,
             "#7201a8"
            ],
            [
             0.3333333333333333,
             "#9c179e"
            ],
            [
             0.4444444444444444,
             "#bd3786"
            ],
            [
             0.5555555555555556,
             "#d8576b"
            ],
            [
             0.6666666666666666,
             "#ed7953"
            ],
            [
             0.7777777777777778,
             "#fb9f3a"
            ],
            [
             0.8888888888888888,
             "#fdca26"
            ],
            [
             1,
             "#f0f921"
            ]
           ]
          },
          "colorway": [
           "#636efa",
           "#EF553B",
           "#00cc96",
           "#ab63fa",
           "#FFA15A",
           "#19d3f3",
           "#FF6692",
           "#B6E880",
           "#FF97FF",
           "#FECB52"
          ],
          "font": {
           "color": "#f2f5fa"
          },
          "geo": {
           "bgcolor": "rgb(17,17,17)",
           "lakecolor": "rgb(17,17,17)",
           "landcolor": "rgb(17,17,17)",
           "showlakes": true,
           "showland": true,
           "subunitcolor": "#506784"
          },
          "hoverlabel": {
           "align": "left"
          },
          "hovermode": "closest",
          "mapbox": {
           "style": "dark"
          },
          "paper_bgcolor": "rgb(17,17,17)",
          "plot_bgcolor": "rgb(17,17,17)",
          "polar": {
           "angularaxis": {
            "gridcolor": "#506784",
            "linecolor": "#506784",
            "ticks": ""
           },
           "bgcolor": "rgb(17,17,17)",
           "radialaxis": {
            "gridcolor": "#506784",
            "linecolor": "#506784",
            "ticks": ""
           }
          },
          "scene": {
           "xaxis": {
            "backgroundcolor": "rgb(17,17,17)",
            "gridcolor": "#506784",
            "gridwidth": 2,
            "linecolor": "#506784",
            "showbackground": true,
            "ticks": "",
            "zerolinecolor": "#C8D4E3"
           },
           "yaxis": {
            "backgroundcolor": "rgb(17,17,17)",
            "gridcolor": "#506784",
            "gridwidth": 2,
            "linecolor": "#506784",
            "showbackground": true,
            "ticks": "",
            "zerolinecolor": "#C8D4E3"
           },
           "zaxis": {
            "backgroundcolor": "rgb(17,17,17)",
            "gridcolor": "#506784",
            "gridwidth": 2,
            "linecolor": "#506784",
            "showbackground": true,
            "ticks": "",
            "zerolinecolor": "#C8D4E3"
           }
          },
          "shapedefaults": {
           "line": {
            "color": "#f2f5fa"
           }
          },
          "sliderdefaults": {
           "bgcolor": "#C8D4E3",
           "bordercolor": "rgb(17,17,17)",
           "borderwidth": 1,
           "tickwidth": 0
          },
          "ternary": {
           "aaxis": {
            "gridcolor": "#506784",
            "linecolor": "#506784",
            "ticks": ""
           },
           "baxis": {
            "gridcolor": "#506784",
            "linecolor": "#506784",
            "ticks": ""
           },
           "bgcolor": "rgb(17,17,17)",
           "caxis": {
            "gridcolor": "#506784",
            "linecolor": "#506784",
            "ticks": ""
           }
          },
          "title": {
           "x": 0.05
          },
          "updatemenudefaults": {
           "bgcolor": "#506784",
           "borderwidth": 0
          },
          "xaxis": {
           "automargin": true,
           "gridcolor": "#283442",
           "linecolor": "#506784",
           "ticks": "",
           "title": {
            "standoff": 15
           },
           "zerolinecolor": "#283442",
           "zerolinewidth": 2
          },
          "yaxis": {
           "automargin": true,
           "gridcolor": "#283442",
           "linecolor": "#506784",
           "ticks": "",
           "title": {
            "standoff": 15
           },
           "zerolinecolor": "#283442",
           "zerolinewidth": 2
          }
         }
        },
        "title": {
         "text": "Balance Graph"
        },
        "xaxis": {
         "anchor": "y",
         "domain": [
          0,
          1
         ],
         "title": {
          "text": "close_time"
         }
        },
        "yaxis": {
         "anchor": "x",
         "domain": [
          0,
          1
         ],
         "title": {
          "text": "balance"
         }
        }
       }
      }
     },
     "metadata": {},
     "output_type": "display_data"
    }
   ],
   "source": [
    "mm = bt.plot_balance()\n",
    "display(mm)"
   ]
  },
  {
   "cell_type": "code",
   "execution_count": 60,
   "id": "4528a7b5",
   "metadata": {},
   "outputs": [
    {
     "name": "stdout",
     "output_type": "stream",
     "text": [
      "biggest_profit: 342.0\n",
      "daily_drawdown: -341.0\n",
      "max_drawown: -2815.0\n",
      "max_drawown1: -255.0\n",
      "avg_win: 24.39\n",
      "avg_loss: -27.43\n",
      "count_profit_trades: 1983\n",
      "count_loss_trades: 971\n",
      "Win Rate1: 67.13%\n",
      "rrr: 0.89\n"
     ]
    },
    {
     "data": {
      "text/html": [
       "<div>\n",
       "<style scoped>\n",
       "    .dataframe tbody tr th:only-of-type {\n",
       "        vertical-align: middle;\n",
       "    }\n",
       "\n",
       "    .dataframe tbody tr th {\n",
       "        vertical-align: top;\n",
       "    }\n",
       "\n",
       "    .dataframe thead th {\n",
       "        text-align: right;\n",
       "    }\n",
       "</style>\n",
       "<table border=\"1\" class=\"dataframe\">\n",
       "  <thead>\n",
       "    <tr style=\"text-align: right;\">\n",
       "      <th></th>\n",
       "      <th>order_type</th>\n",
       "      <th>profit</th>\n",
       "    </tr>\n",
       "  </thead>\n",
       "  <tbody>\n",
       "    <tr>\n",
       "      <th>0</th>\n",
       "      <td>buy</td>\n",
       "      <td>21723.0</td>\n",
       "    </tr>\n",
       "  </tbody>\n",
       "</table>\n",
       "</div>"
      ],
      "text/plain": [
       "  order_type   profit\n",
       "0        buy  21723.0"
      ]
     },
     "metadata": {},
     "output_type": "display_data"
    },
    {
     "data": {
      "application/vnd.plotly.v1+json": {
       "config": {
        "plotlyServerURL": "https://plot.ly"
       },
       "data": [
        {
         "hovertemplate": "order_type=%{x}<br>profit=%{y}<extra></extra>",
         "legendgroup": "",
         "marker": {
          "color": "#636efa",
          "pattern": {
           "shape": ""
          }
         },
         "name": "",
         "orientation": "v",
         "showlegend": false,
         "textposition": "auto",
         "type": "bar",
         "x": [
          "buy"
         ],
         "xaxis": "x",
         "y": {
          "bdata": "AAAAAMA21UA=",
          "dtype": "f8"
         },
         "yaxis": "y"
        }
       ],
       "layout": {
        "barmode": "relative",
        "legend": {
         "tracegroupgap": 0
        },
        "margin": {
         "t": 60
        },
        "template": {
         "data": {
          "bar": [
           {
            "error_x": {
             "color": "#f2f5fa"
            },
            "error_y": {
             "color": "#f2f5fa"
            },
            "marker": {
             "line": {
              "color": "rgb(17,17,17)",
              "width": 0.5
             },
             "pattern": {
              "fillmode": "overlay",
              "size": 10,
              "solidity": 0.2
             }
            },
            "type": "bar"
           }
          ],
          "barpolar": [
           {
            "marker": {
             "line": {
              "color": "rgb(17,17,17)",
              "width": 0.5
             },
             "pattern": {
              "fillmode": "overlay",
              "size": 10,
              "solidity": 0.2
             }
            },
            "type": "barpolar"
           }
          ],
          "carpet": [
           {
            "aaxis": {
             "endlinecolor": "#A2B1C6",
             "gridcolor": "#506784",
             "linecolor": "#506784",
             "minorgridcolor": "#506784",
             "startlinecolor": "#A2B1C6"
            },
            "baxis": {
             "endlinecolor": "#A2B1C6",
             "gridcolor": "#506784",
             "linecolor": "#506784",
             "minorgridcolor": "#506784",
             "startlinecolor": "#A2B1C6"
            },
            "type": "carpet"
           }
          ],
          "choropleth": [
           {
            "colorbar": {
             "outlinewidth": 0,
             "ticks": ""
            },
            "type": "choropleth"
           }
          ],
          "contour": [
           {
            "colorbar": {
             "outlinewidth": 0,
             "ticks": ""
            },
            "colorscale": [
             [
              0,
              "#0d0887"
             ],
             [
              0.1111111111111111,
              "#46039f"
             ],
             [
              0.2222222222222222,
              "#7201a8"
             ],
             [
              0.3333333333333333,
              "#9c179e"
             ],
             [
              0.4444444444444444,
              "#bd3786"
             ],
             [
              0.5555555555555556,
              "#d8576b"
             ],
             [
              0.6666666666666666,
              "#ed7953"
             ],
             [
              0.7777777777777778,
              "#fb9f3a"
             ],
             [
              0.8888888888888888,
              "#fdca26"
             ],
             [
              1,
              "#f0f921"
             ]
            ],
            "type": "contour"
           }
          ],
          "contourcarpet": [
           {
            "colorbar": {
             "outlinewidth": 0,
             "ticks": ""
            },
            "type": "contourcarpet"
           }
          ],
          "heatmap": [
           {
            "colorbar": {
             "outlinewidth": 0,
             "ticks": ""
            },
            "colorscale": [
             [
              0,
              "#0d0887"
             ],
             [
              0.1111111111111111,
              "#46039f"
             ],
             [
              0.2222222222222222,
              "#7201a8"
             ],
             [
              0.3333333333333333,
              "#9c179e"
             ],
             [
              0.4444444444444444,
              "#bd3786"
             ],
             [
              0.5555555555555556,
              "#d8576b"
             ],
             [
              0.6666666666666666,
              "#ed7953"
             ],
             [
              0.7777777777777778,
              "#fb9f3a"
             ],
             [
              0.8888888888888888,
              "#fdca26"
             ],
             [
              1,
              "#f0f921"
             ]
            ],
            "type": "heatmap"
           }
          ],
          "histogram": [
           {
            "marker": {
             "pattern": {
              "fillmode": "overlay",
              "size": 10,
              "solidity": 0.2
             }
            },
            "type": "histogram"
           }
          ],
          "histogram2d": [
           {
            "colorbar": {
             "outlinewidth": 0,
             "ticks": ""
            },
            "colorscale": [
             [
              0,
              "#0d0887"
             ],
             [
              0.1111111111111111,
              "#46039f"
             ],
             [
              0.2222222222222222,
              "#7201a8"
             ],
             [
              0.3333333333333333,
              "#9c179e"
             ],
             [
              0.4444444444444444,
              "#bd3786"
             ],
             [
              0.5555555555555556,
              "#d8576b"
             ],
             [
              0.6666666666666666,
              "#ed7953"
             ],
             [
              0.7777777777777778,
              "#fb9f3a"
             ],
             [
              0.8888888888888888,
              "#fdca26"
             ],
             [
              1,
              "#f0f921"
             ]
            ],
            "type": "histogram2d"
           }
          ],
          "histogram2dcontour": [
           {
            "colorbar": {
             "outlinewidth": 0,
             "ticks": ""
            },
            "colorscale": [
             [
              0,
              "#0d0887"
             ],
             [
              0.1111111111111111,
              "#46039f"
             ],
             [
              0.2222222222222222,
              "#7201a8"
             ],
             [
              0.3333333333333333,
              "#9c179e"
             ],
             [
              0.4444444444444444,
              "#bd3786"
             ],
             [
              0.5555555555555556,
              "#d8576b"
             ],
             [
              0.6666666666666666,
              "#ed7953"
             ],
             [
              0.7777777777777778,
              "#fb9f3a"
             ],
             [
              0.8888888888888888,
              "#fdca26"
             ],
             [
              1,
              "#f0f921"
             ]
            ],
            "type": "histogram2dcontour"
           }
          ],
          "mesh3d": [
           {
            "colorbar": {
             "outlinewidth": 0,
             "ticks": ""
            },
            "type": "mesh3d"
           }
          ],
          "parcoords": [
           {
            "line": {
             "colorbar": {
              "outlinewidth": 0,
              "ticks": ""
             }
            },
            "type": "parcoords"
           }
          ],
          "pie": [
           {
            "automargin": true,
            "type": "pie"
           }
          ],
          "scatter": [
           {
            "marker": {
             "line": {
              "color": "#283442"
             }
            },
            "type": "scatter"
           }
          ],
          "scatter3d": [
           {
            "line": {
             "colorbar": {
              "outlinewidth": 0,
              "ticks": ""
             }
            },
            "marker": {
             "colorbar": {
              "outlinewidth": 0,
              "ticks": ""
             }
            },
            "type": "scatter3d"
           }
          ],
          "scattercarpet": [
           {
            "marker": {
             "colorbar": {
              "outlinewidth": 0,
              "ticks": ""
             }
            },
            "type": "scattercarpet"
           }
          ],
          "scattergeo": [
           {
            "marker": {
             "colorbar": {
              "outlinewidth": 0,
              "ticks": ""
             }
            },
            "type": "scattergeo"
           }
          ],
          "scattergl": [
           {
            "marker": {
             "line": {
              "color": "#283442"
             }
            },
            "type": "scattergl"
           }
          ],
          "scattermap": [
           {
            "marker": {
             "colorbar": {
              "outlinewidth": 0,
              "ticks": ""
             }
            },
            "type": "scattermap"
           }
          ],
          "scattermapbox": [
           {
            "marker": {
             "colorbar": {
              "outlinewidth": 0,
              "ticks": ""
             }
            },
            "type": "scattermapbox"
           }
          ],
          "scatterpolar": [
           {
            "marker": {
             "colorbar": {
              "outlinewidth": 0,
              "ticks": ""
             }
            },
            "type": "scatterpolar"
           }
          ],
          "scatterpolargl": [
           {
            "marker": {
             "colorbar": {
              "outlinewidth": 0,
              "ticks": ""
             }
            },
            "type": "scatterpolargl"
           }
          ],
          "scatterternary": [
           {
            "marker": {
             "colorbar": {
              "outlinewidth": 0,
              "ticks": ""
             }
            },
            "type": "scatterternary"
           }
          ],
          "surface": [
           {
            "colorbar": {
             "outlinewidth": 0,
             "ticks": ""
            },
            "colorscale": [
             [
              0,
              "#0d0887"
             ],
             [
              0.1111111111111111,
              "#46039f"
             ],
             [
              0.2222222222222222,
              "#7201a8"
             ],
             [
              0.3333333333333333,
              "#9c179e"
             ],
             [
              0.4444444444444444,
              "#bd3786"
             ],
             [
              0.5555555555555556,
              "#d8576b"
             ],
             [
              0.6666666666666666,
              "#ed7953"
             ],
             [
              0.7777777777777778,
              "#fb9f3a"
             ],
             [
              0.8888888888888888,
              "#fdca26"
             ],
             [
              1,
              "#f0f921"
             ]
            ],
            "type": "surface"
           }
          ],
          "table": [
           {
            "cells": {
             "fill": {
              "color": "#506784"
             },
             "line": {
              "color": "rgb(17,17,17)"
             }
            },
            "header": {
             "fill": {
              "color": "#2a3f5f"
             },
             "line": {
              "color": "rgb(17,17,17)"
             }
            },
            "type": "table"
           }
          ]
         },
         "layout": {
          "annotationdefaults": {
           "arrowcolor": "#f2f5fa",
           "arrowhead": 0,
           "arrowwidth": 1
          },
          "autotypenumbers": "strict",
          "coloraxis": {
           "colorbar": {
            "outlinewidth": 0,
            "ticks": ""
           }
          },
          "colorscale": {
           "diverging": [
            [
             0,
             "#8e0152"
            ],
            [
             0.1,
             "#c51b7d"
            ],
            [
             0.2,
             "#de77ae"
            ],
            [
             0.3,
             "#f1b6da"
            ],
            [
             0.4,
             "#fde0ef"
            ],
            [
             0.5,
             "#f7f7f7"
            ],
            [
             0.6,
             "#e6f5d0"
            ],
            [
             0.7,
             "#b8e186"
            ],
            [
             0.8,
             "#7fbc41"
            ],
            [
             0.9,
             "#4d9221"
            ],
            [
             1,
             "#276419"
            ]
           ],
           "sequential": [
            [
             0,
             "#0d0887"
            ],
            [
             0.1111111111111111,
             "#46039f"
            ],
            [
             0.2222222222222222,
             "#7201a8"
            ],
            [
             0.3333333333333333,
             "#9c179e"
            ],
            [
             0.4444444444444444,
             "#bd3786"
            ],
            [
             0.5555555555555556,
             "#d8576b"
            ],
            [
             0.6666666666666666,
             "#ed7953"
            ],
            [
             0.7777777777777778,
             "#fb9f3a"
            ],
            [
             0.8888888888888888,
             "#fdca26"
            ],
            [
             1,
             "#f0f921"
            ]
           ],
           "sequentialminus": [
            [
             0,
             "#0d0887"
            ],
            [
             0.1111111111111111,
             "#46039f"
            ],
            [
             0.2222222222222222,
             "#7201a8"
            ],
            [
             0.3333333333333333,
             "#9c179e"
            ],
            [
             0.4444444444444444,
             "#bd3786"
            ],
            [
             0.5555555555555556,
             "#d8576b"
            ],
            [
             0.6666666666666666,
             "#ed7953"
            ],
            [
             0.7777777777777778,
             "#fb9f3a"
            ],
            [
             0.8888888888888888,
             "#fdca26"
            ],
            [
             1,
             "#f0f921"
            ]
           ]
          },
          "colorway": [
           "#636efa",
           "#EF553B",
           "#00cc96",
           "#ab63fa",
           "#FFA15A",
           "#19d3f3",
           "#FF6692",
           "#B6E880",
           "#FF97FF",
           "#FECB52"
          ],
          "font": {
           "color": "#f2f5fa"
          },
          "geo": {
           "bgcolor": "rgb(17,17,17)",
           "lakecolor": "rgb(17,17,17)",
           "landcolor": "rgb(17,17,17)",
           "showlakes": true,
           "showland": true,
           "subunitcolor": "#506784"
          },
          "hoverlabel": {
           "align": "left"
          },
          "hovermode": "closest",
          "mapbox": {
           "style": "dark"
          },
          "paper_bgcolor": "rgb(17,17,17)",
          "plot_bgcolor": "rgb(17,17,17)",
          "polar": {
           "angularaxis": {
            "gridcolor": "#506784",
            "linecolor": "#506784",
            "ticks": ""
           },
           "bgcolor": "rgb(17,17,17)",
           "radialaxis": {
            "gridcolor": "#506784",
            "linecolor": "#506784",
            "ticks": ""
           }
          },
          "scene": {
           "xaxis": {
            "backgroundcolor": "rgb(17,17,17)",
            "gridcolor": "#506784",
            "gridwidth": 2,
            "linecolor": "#506784",
            "showbackground": true,
            "ticks": "",
            "zerolinecolor": "#C8D4E3"
           },
           "yaxis": {
            "backgroundcolor": "rgb(17,17,17)",
            "gridcolor": "#506784",
            "gridwidth": 2,
            "linecolor": "#506784",
            "showbackground": true,
            "ticks": "",
            "zerolinecolor": "#C8D4E3"
           },
           "zaxis": {
            "backgroundcolor": "rgb(17,17,17)",
            "gridcolor": "#506784",
            "gridwidth": 2,
            "linecolor": "#506784",
            "showbackground": true,
            "ticks": "",
            "zerolinecolor": "#C8D4E3"
           }
          },
          "shapedefaults": {
           "line": {
            "color": "#f2f5fa"
           }
          },
          "sliderdefaults": {
           "bgcolor": "#C8D4E3",
           "bordercolor": "rgb(17,17,17)",
           "borderwidth": 1,
           "tickwidth": 0
          },
          "ternary": {
           "aaxis": {
            "gridcolor": "#506784",
            "linecolor": "#506784",
            "ticks": ""
           },
           "baxis": {
            "gridcolor": "#506784",
            "linecolor": "#506784",
            "ticks": ""
           },
           "bgcolor": "rgb(17,17,17)",
           "caxis": {
            "gridcolor": "#506784",
            "linecolor": "#506784",
            "ticks": ""
           }
          },
          "title": {
           "x": 0.05
          },
          "updatemenudefaults": {
           "bgcolor": "#506784",
           "borderwidth": 0
          },
          "xaxis": {
           "automargin": true,
           "gridcolor": "#283442",
           "linecolor": "#506784",
           "ticks": "",
           "title": {
            "standoff": 15
           },
           "zerolinecolor": "#283442",
           "zerolinewidth": 2
          },
          "yaxis": {
           "automargin": true,
           "gridcolor": "#283442",
           "linecolor": "#506784",
           "ticks": "",
           "title": {
            "standoff": 15
           },
           "zerolinecolor": "#283442",
           "zerolinewidth": 2
          }
         }
        },
        "xaxis": {
         "anchor": "y",
         "domain": [
          0,
          1
         ],
         "title": {
          "text": "order_type"
         }
        },
        "yaxis": {
         "anchor": "x",
         "domain": [
          0,
          1
         ],
         "title": {
          "text": "profit"
         }
        }
       }
      }
     },
     "metadata": {},
     "output_type": "display_data"
    },
    {
     "data": {
      "application/vnd.plotly.v1+json": {
       "config": {
        "plotlyServerURL": "https://plot.ly"
       },
       "data": [
        {
         "hovertemplate": "dayofweek=%{x}<br>profit=%{y}<extra></extra>",
         "legendgroup": "",
         "marker": {
          "color": "#636efa",
          "pattern": {
           "shape": ""
          }
         },
         "name": "",
         "orientation": "v",
         "showlegend": false,
         "textposition": "auto",
         "type": "bar",
         "x": {
          "bdata": "AAAAAAEAAAACAAAAAwAAAAQAAAA=",
          "dtype": "i4"
         },
         "xaxis": "x",
         "y": {
          "bdata": "AAAAAADuuEAAAAAAANCjQAAAAAAA2qpAAAAAAAAmtkAAAAAAAOSsQA==",
          "dtype": "f8"
         },
         "yaxis": "y"
        }
       ],
       "layout": {
        "barmode": "relative",
        "legend": {
         "tracegroupgap": 0
        },
        "margin": {
         "t": 60
        },
        "template": {
         "data": {
          "bar": [
           {
            "error_x": {
             "color": "#f2f5fa"
            },
            "error_y": {
             "color": "#f2f5fa"
            },
            "marker": {
             "line": {
              "color": "rgb(17,17,17)",
              "width": 0.5
             },
             "pattern": {
              "fillmode": "overlay",
              "size": 10,
              "solidity": 0.2
             }
            },
            "type": "bar"
           }
          ],
          "barpolar": [
           {
            "marker": {
             "line": {
              "color": "rgb(17,17,17)",
              "width": 0.5
             },
             "pattern": {
              "fillmode": "overlay",
              "size": 10,
              "solidity": 0.2
             }
            },
            "type": "barpolar"
           }
          ],
          "carpet": [
           {
            "aaxis": {
             "endlinecolor": "#A2B1C6",
             "gridcolor": "#506784",
             "linecolor": "#506784",
             "minorgridcolor": "#506784",
             "startlinecolor": "#A2B1C6"
            },
            "baxis": {
             "endlinecolor": "#A2B1C6",
             "gridcolor": "#506784",
             "linecolor": "#506784",
             "minorgridcolor": "#506784",
             "startlinecolor": "#A2B1C6"
            },
            "type": "carpet"
           }
          ],
          "choropleth": [
           {
            "colorbar": {
             "outlinewidth": 0,
             "ticks": ""
            },
            "type": "choropleth"
           }
          ],
          "contour": [
           {
            "colorbar": {
             "outlinewidth": 0,
             "ticks": ""
            },
            "colorscale": [
             [
              0,
              "#0d0887"
             ],
             [
              0.1111111111111111,
              "#46039f"
             ],
             [
              0.2222222222222222,
              "#7201a8"
             ],
             [
              0.3333333333333333,
              "#9c179e"
             ],
             [
              0.4444444444444444,
              "#bd3786"
             ],
             [
              0.5555555555555556,
              "#d8576b"
             ],
             [
              0.6666666666666666,
              "#ed7953"
             ],
             [
              0.7777777777777778,
              "#fb9f3a"
             ],
             [
              0.8888888888888888,
              "#fdca26"
             ],
             [
              1,
              "#f0f921"
             ]
            ],
            "type": "contour"
           }
          ],
          "contourcarpet": [
           {
            "colorbar": {
             "outlinewidth": 0,
             "ticks": ""
            },
            "type": "contourcarpet"
           }
          ],
          "heatmap": [
           {
            "colorbar": {
             "outlinewidth": 0,
             "ticks": ""
            },
            "colorscale": [
             [
              0,
              "#0d0887"
             ],
             [
              0.1111111111111111,
              "#46039f"
             ],
             [
              0.2222222222222222,
              "#7201a8"
             ],
             [
              0.3333333333333333,
              "#9c179e"
             ],
             [
              0.4444444444444444,
              "#bd3786"
             ],
             [
              0.5555555555555556,
              "#d8576b"
             ],
             [
              0.6666666666666666,
              "#ed7953"
             ],
             [
              0.7777777777777778,
              "#fb9f3a"
             ],
             [
              0.8888888888888888,
              "#fdca26"
             ],
             [
              1,
              "#f0f921"
             ]
            ],
            "type": "heatmap"
           }
          ],
          "histogram": [
           {
            "marker": {
             "pattern": {
              "fillmode": "overlay",
              "size": 10,
              "solidity": 0.2
             }
            },
            "type": "histogram"
           }
          ],
          "histogram2d": [
           {
            "colorbar": {
             "outlinewidth": 0,
             "ticks": ""
            },
            "colorscale": [
             [
              0,
              "#0d0887"
             ],
             [
              0.1111111111111111,
              "#46039f"
             ],
             [
              0.2222222222222222,
              "#7201a8"
             ],
             [
              0.3333333333333333,
              "#9c179e"
             ],
             [
              0.4444444444444444,
              "#bd3786"
             ],
             [
              0.5555555555555556,
              "#d8576b"
             ],
             [
              0.6666666666666666,
              "#ed7953"
             ],
             [
              0.7777777777777778,
              "#fb9f3a"
             ],
             [
              0.8888888888888888,
              "#fdca26"
             ],
             [
              1,
              "#f0f921"
             ]
            ],
            "type": "histogram2d"
           }
          ],
          "histogram2dcontour": [
           {
            "colorbar": {
             "outlinewidth": 0,
             "ticks": ""
            },
            "colorscale": [
             [
              0,
              "#0d0887"
             ],
             [
              0.1111111111111111,
              "#46039f"
             ],
             [
              0.2222222222222222,
              "#7201a8"
             ],
             [
              0.3333333333333333,
              "#9c179e"
             ],
             [
              0.4444444444444444,
              "#bd3786"
             ],
             [
              0.5555555555555556,
              "#d8576b"
             ],
             [
              0.6666666666666666,
              "#ed7953"
             ],
             [
              0.7777777777777778,
              "#fb9f3a"
             ],
             [
              0.8888888888888888,
              "#fdca26"
             ],
             [
              1,
              "#f0f921"
             ]
            ],
            "type": "histogram2dcontour"
           }
          ],
          "mesh3d": [
           {
            "colorbar": {
             "outlinewidth": 0,
             "ticks": ""
            },
            "type": "mesh3d"
           }
          ],
          "parcoords": [
           {
            "line": {
             "colorbar": {
              "outlinewidth": 0,
              "ticks": ""
             }
            },
            "type": "parcoords"
           }
          ],
          "pie": [
           {
            "automargin": true,
            "type": "pie"
           }
          ],
          "scatter": [
           {
            "marker": {
             "line": {
              "color": "#283442"
             }
            },
            "type": "scatter"
           }
          ],
          "scatter3d": [
           {
            "line": {
             "colorbar": {
              "outlinewidth": 0,
              "ticks": ""
             }
            },
            "marker": {
             "colorbar": {
              "outlinewidth": 0,
              "ticks": ""
             }
            },
            "type": "scatter3d"
           }
          ],
          "scattercarpet": [
           {
            "marker": {
             "colorbar": {
              "outlinewidth": 0,
              "ticks": ""
             }
            },
            "type": "scattercarpet"
           }
          ],
          "scattergeo": [
           {
            "marker": {
             "colorbar": {
              "outlinewidth": 0,
              "ticks": ""
             }
            },
            "type": "scattergeo"
           }
          ],
          "scattergl": [
           {
            "marker": {
             "line": {
              "color": "#283442"
             }
            },
            "type": "scattergl"
           }
          ],
          "scattermap": [
           {
            "marker": {
             "colorbar": {
              "outlinewidth": 0,
              "ticks": ""
             }
            },
            "type": "scattermap"
           }
          ],
          "scattermapbox": [
           {
            "marker": {
             "colorbar": {
              "outlinewidth": 0,
              "ticks": ""
             }
            },
            "type": "scattermapbox"
           }
          ],
          "scatterpolar": [
           {
            "marker": {
             "colorbar": {
              "outlinewidth": 0,
              "ticks": ""
             }
            },
            "type": "scatterpolar"
           }
          ],
          "scatterpolargl": [
           {
            "marker": {
             "colorbar": {
              "outlinewidth": 0,
              "ticks": ""
             }
            },
            "type": "scatterpolargl"
           }
          ],
          "scatterternary": [
           {
            "marker": {
             "colorbar": {
              "outlinewidth": 0,
              "ticks": ""
             }
            },
            "type": "scatterternary"
           }
          ],
          "surface": [
           {
            "colorbar": {
             "outlinewidth": 0,
             "ticks": ""
            },
            "colorscale": [
             [
              0,
              "#0d0887"
             ],
             [
              0.1111111111111111,
              "#46039f"
             ],
             [
              0.2222222222222222,
              "#7201a8"
             ],
             [
              0.3333333333333333,
              "#9c179e"
             ],
             [
              0.4444444444444444,
              "#bd3786"
             ],
             [
              0.5555555555555556,
              "#d8576b"
             ],
             [
              0.6666666666666666,
              "#ed7953"
             ],
             [
              0.7777777777777778,
              "#fb9f3a"
             ],
             [
              0.8888888888888888,
              "#fdca26"
             ],
             [
              1,
              "#f0f921"
             ]
            ],
            "type": "surface"
           }
          ],
          "table": [
           {
            "cells": {
             "fill": {
              "color": "#506784"
             },
             "line": {
              "color": "rgb(17,17,17)"
             }
            },
            "header": {
             "fill": {
              "color": "#2a3f5f"
             },
             "line": {
              "color": "rgb(17,17,17)"
             }
            },
            "type": "table"
           }
          ]
         },
         "layout": {
          "annotationdefaults": {
           "arrowcolor": "#f2f5fa",
           "arrowhead": 0,
           "arrowwidth": 1
          },
          "autotypenumbers": "strict",
          "coloraxis": {
           "colorbar": {
            "outlinewidth": 0,
            "ticks": ""
           }
          },
          "colorscale": {
           "diverging": [
            [
             0,
             "#8e0152"
            ],
            [
             0.1,
             "#c51b7d"
            ],
            [
             0.2,
             "#de77ae"
            ],
            [
             0.3,
             "#f1b6da"
            ],
            [
             0.4,
             "#fde0ef"
            ],
            [
             0.5,
             "#f7f7f7"
            ],
            [
             0.6,
             "#e6f5d0"
            ],
            [
             0.7,
             "#b8e186"
            ],
            [
             0.8,
             "#7fbc41"
            ],
            [
             0.9,
             "#4d9221"
            ],
            [
             1,
             "#276419"
            ]
           ],
           "sequential": [
            [
             0,
             "#0d0887"
            ],
            [
             0.1111111111111111,
             "#46039f"
            ],
            [
             0.2222222222222222,
             "#7201a8"
            ],
            [
             0.3333333333333333,
             "#9c179e"
            ],
            [
             0.4444444444444444,
             "#bd3786"
            ],
            [
             0.5555555555555556,
             "#d8576b"
            ],
            [
             0.6666666666666666,
             "#ed7953"
            ],
            [
             0.7777777777777778,
             "#fb9f3a"
            ],
            [
             0.8888888888888888,
             "#fdca26"
            ],
            [
             1,
             "#f0f921"
            ]
           ],
           "sequentialminus": [
            [
             0,
             "#0d0887"
            ],
            [
             0.1111111111111111,
             "#46039f"
            ],
            [
             0.2222222222222222,
             "#7201a8"
            ],
            [
             0.3333333333333333,
             "#9c179e"
            ],
            [
             0.4444444444444444,
             "#bd3786"
            ],
            [
             0.5555555555555556,
             "#d8576b"
            ],
            [
             0.6666666666666666,
             "#ed7953"
            ],
            [
             0.7777777777777778,
             "#fb9f3a"
            ],
            [
             0.8888888888888888,
             "#fdca26"
            ],
            [
             1,
             "#f0f921"
            ]
           ]
          },
          "colorway": [
           "#636efa",
           "#EF553B",
           "#00cc96",
           "#ab63fa",
           "#FFA15A",
           "#19d3f3",
           "#FF6692",
           "#B6E880",
           "#FF97FF",
           "#FECB52"
          ],
          "font": {
           "color": "#f2f5fa"
          },
          "geo": {
           "bgcolor": "rgb(17,17,17)",
           "lakecolor": "rgb(17,17,17)",
           "landcolor": "rgb(17,17,17)",
           "showlakes": true,
           "showland": true,
           "subunitcolor": "#506784"
          },
          "hoverlabel": {
           "align": "left"
          },
          "hovermode": "closest",
          "mapbox": {
           "style": "dark"
          },
          "paper_bgcolor": "rgb(17,17,17)",
          "plot_bgcolor": "rgb(17,17,17)",
          "polar": {
           "angularaxis": {
            "gridcolor": "#506784",
            "linecolor": "#506784",
            "ticks": ""
           },
           "bgcolor": "rgb(17,17,17)",
           "radialaxis": {
            "gridcolor": "#506784",
            "linecolor": "#506784",
            "ticks": ""
           }
          },
          "scene": {
           "xaxis": {
            "backgroundcolor": "rgb(17,17,17)",
            "gridcolor": "#506784",
            "gridwidth": 2,
            "linecolor": "#506784",
            "showbackground": true,
            "ticks": "",
            "zerolinecolor": "#C8D4E3"
           },
           "yaxis": {
            "backgroundcolor": "rgb(17,17,17)",
            "gridcolor": "#506784",
            "gridwidth": 2,
            "linecolor": "#506784",
            "showbackground": true,
            "ticks": "",
            "zerolinecolor": "#C8D4E3"
           },
           "zaxis": {
            "backgroundcolor": "rgb(17,17,17)",
            "gridcolor": "#506784",
            "gridwidth": 2,
            "linecolor": "#506784",
            "showbackground": true,
            "ticks": "",
            "zerolinecolor": "#C8D4E3"
           }
          },
          "shapedefaults": {
           "line": {
            "color": "#f2f5fa"
           }
          },
          "sliderdefaults": {
           "bgcolor": "#C8D4E3",
           "bordercolor": "rgb(17,17,17)",
           "borderwidth": 1,
           "tickwidth": 0
          },
          "ternary": {
           "aaxis": {
            "gridcolor": "#506784",
            "linecolor": "#506784",
            "ticks": ""
           },
           "baxis": {
            "gridcolor": "#506784",
            "linecolor": "#506784",
            "ticks": ""
           },
           "bgcolor": "rgb(17,17,17)",
           "caxis": {
            "gridcolor": "#506784",
            "linecolor": "#506784",
            "ticks": ""
           }
          },
          "title": {
           "x": 0.05
          },
          "updatemenudefaults": {
           "bgcolor": "#506784",
           "borderwidth": 0
          },
          "xaxis": {
           "automargin": true,
           "gridcolor": "#283442",
           "linecolor": "#506784",
           "ticks": "",
           "title": {
            "standoff": 15
           },
           "zerolinecolor": "#283442",
           "zerolinewidth": 2
          },
          "yaxis": {
           "automargin": true,
           "gridcolor": "#283442",
           "linecolor": "#506784",
           "ticks": "",
           "title": {
            "standoff": 15
           },
           "zerolinecolor": "#283442",
           "zerolinewidth": 2
          }
         }
        },
        "xaxis": {
         "anchor": "y",
         "domain": [
          0,
          1
         ],
         "title": {
          "text": "dayofweek"
         }
        },
        "yaxis": {
         "anchor": "x",
         "domain": [
          0,
          1
         ],
         "title": {
          "text": "profit"
         }
        }
       }
      }
     },
     "metadata": {},
     "output_type": "display_data"
    },
    {
     "data": {
      "application/vnd.plotly.v1+json": {
       "config": {
        "plotlyServerURL": "https://plot.ly"
       },
       "data": [
        {
         "hovertemplate": "hourofday=%{x}<br>profit=%{y}<extra></extra>",
         "legendgroup": "",
         "marker": {
          "color": "#636efa",
          "pattern": {
           "shape": ""
          }
         },
         "name": "",
         "orientation": "v",
         "showlegend": false,
         "textposition": "auto",
         "type": "bar",
         "x": {
          "bdata": "AQAAAAIAAAADAAAABAAAAAUAAAAGAAAABwAAAAgAAAAJAAAACgAAAAsAAAAMAAAADQAAAA4AAAAPAAAAEAAAABEAAAASAAAAEwAAABQAAAAVAAAAFgAAABcAAAA=",
          "dtype": "i4"
         },
         "xaxis": "x",
         "y": {
          "bdata": "AAAAAAB0k0AAAAAAANyVQAAAAAAAlJBAAAAAAADAZUAAAAAAAJCFQAAAAAAAqJFAAAAAAAAwhEAAAAAAADSTQAAAAAAA8INAAAAAAABsl0AAAAAAAFB3wAAAAAAA2JJAAAAAAACIi0AAAAAAAIBKQAAAAAAAvqVAAAAAAADIiUAAAAAAALKhQAAAAAAAIGZAAAAAAABwlkAAAAAAAHyUQAAAAAAAADRAAAAAAABAikAAAAAAAGCCQA==",
          "dtype": "f8"
         },
         "yaxis": "y"
        }
       ],
       "layout": {
        "barmode": "relative",
        "legend": {
         "tracegroupgap": 0
        },
        "margin": {
         "t": 60
        },
        "template": {
         "data": {
          "bar": [
           {
            "error_x": {
             "color": "#f2f5fa"
            },
            "error_y": {
             "color": "#f2f5fa"
            },
            "marker": {
             "line": {
              "color": "rgb(17,17,17)",
              "width": 0.5
             },
             "pattern": {
              "fillmode": "overlay",
              "size": 10,
              "solidity": 0.2
             }
            },
            "type": "bar"
           }
          ],
          "barpolar": [
           {
            "marker": {
             "line": {
              "color": "rgb(17,17,17)",
              "width": 0.5
             },
             "pattern": {
              "fillmode": "overlay",
              "size": 10,
              "solidity": 0.2
             }
            },
            "type": "barpolar"
           }
          ],
          "carpet": [
           {
            "aaxis": {
             "endlinecolor": "#A2B1C6",
             "gridcolor": "#506784",
             "linecolor": "#506784",
             "minorgridcolor": "#506784",
             "startlinecolor": "#A2B1C6"
            },
            "baxis": {
             "endlinecolor": "#A2B1C6",
             "gridcolor": "#506784",
             "linecolor": "#506784",
             "minorgridcolor": "#506784",
             "startlinecolor": "#A2B1C6"
            },
            "type": "carpet"
           }
          ],
          "choropleth": [
           {
            "colorbar": {
             "outlinewidth": 0,
             "ticks": ""
            },
            "type": "choropleth"
           }
          ],
          "contour": [
           {
            "colorbar": {
             "outlinewidth": 0,
             "ticks": ""
            },
            "colorscale": [
             [
              0,
              "#0d0887"
             ],
             [
              0.1111111111111111,
              "#46039f"
             ],
             [
              0.2222222222222222,
              "#7201a8"
             ],
             [
              0.3333333333333333,
              "#9c179e"
             ],
             [
              0.4444444444444444,
              "#bd3786"
             ],
             [
              0.5555555555555556,
              "#d8576b"
             ],
             [
              0.6666666666666666,
              "#ed7953"
             ],
             [
              0.7777777777777778,
              "#fb9f3a"
             ],
             [
              0.8888888888888888,
              "#fdca26"
             ],
             [
              1,
              "#f0f921"
             ]
            ],
            "type": "contour"
           }
          ],
          "contourcarpet": [
           {
            "colorbar": {
             "outlinewidth": 0,
             "ticks": ""
            },
            "type": "contourcarpet"
           }
          ],
          "heatmap": [
           {
            "colorbar": {
             "outlinewidth": 0,
             "ticks": ""
            },
            "colorscale": [
             [
              0,
              "#0d0887"
             ],
             [
              0.1111111111111111,
              "#46039f"
             ],
             [
              0.2222222222222222,
              "#7201a8"
             ],
             [
              0.3333333333333333,
              "#9c179e"
             ],
             [
              0.4444444444444444,
              "#bd3786"
             ],
             [
              0.5555555555555556,
              "#d8576b"
             ],
             [
              0.6666666666666666,
              "#ed7953"
             ],
             [
              0.7777777777777778,
              "#fb9f3a"
             ],
             [
              0.8888888888888888,
              "#fdca26"
             ],
             [
              1,
              "#f0f921"
             ]
            ],
            "type": "heatmap"
           }
          ],
          "histogram": [
           {
            "marker": {
             "pattern": {
              "fillmode": "overlay",
              "size": 10,
              "solidity": 0.2
             }
            },
            "type": "histogram"
           }
          ],
          "histogram2d": [
           {
            "colorbar": {
             "outlinewidth": 0,
             "ticks": ""
            },
            "colorscale": [
             [
              0,
              "#0d0887"
             ],
             [
              0.1111111111111111,
              "#46039f"
             ],
             [
              0.2222222222222222,
              "#7201a8"
             ],
             [
              0.3333333333333333,
              "#9c179e"
             ],
             [
              0.4444444444444444,
              "#bd3786"
             ],
             [
              0.5555555555555556,
              "#d8576b"
             ],
             [
              0.6666666666666666,
              "#ed7953"
             ],
             [
              0.7777777777777778,
              "#fb9f3a"
             ],
             [
              0.8888888888888888,
              "#fdca26"
             ],
             [
              1,
              "#f0f921"
             ]
            ],
            "type": "histogram2d"
           }
          ],
          "histogram2dcontour": [
           {
            "colorbar": {
             "outlinewidth": 0,
             "ticks": ""
            },
            "colorscale": [
             [
              0,
              "#0d0887"
             ],
             [
              0.1111111111111111,
              "#46039f"
             ],
             [
              0.2222222222222222,
              "#7201a8"
             ],
             [
              0.3333333333333333,
              "#9c179e"
             ],
             [
              0.4444444444444444,
              "#bd3786"
             ],
             [
              0.5555555555555556,
              "#d8576b"
             ],
             [
              0.6666666666666666,
              "#ed7953"
             ],
             [
              0.7777777777777778,
              "#fb9f3a"
             ],
             [
              0.8888888888888888,
              "#fdca26"
             ],
             [
              1,
              "#f0f921"
             ]
            ],
            "type": "histogram2dcontour"
           }
          ],
          "mesh3d": [
           {
            "colorbar": {
             "outlinewidth": 0,
             "ticks": ""
            },
            "type": "mesh3d"
           }
          ],
          "parcoords": [
           {
            "line": {
             "colorbar": {
              "outlinewidth": 0,
              "ticks": ""
             }
            },
            "type": "parcoords"
           }
          ],
          "pie": [
           {
            "automargin": true,
            "type": "pie"
           }
          ],
          "scatter": [
           {
            "marker": {
             "line": {
              "color": "#283442"
             }
            },
            "type": "scatter"
           }
          ],
          "scatter3d": [
           {
            "line": {
             "colorbar": {
              "outlinewidth": 0,
              "ticks": ""
             }
            },
            "marker": {
             "colorbar": {
              "outlinewidth": 0,
              "ticks": ""
             }
            },
            "type": "scatter3d"
           }
          ],
          "scattercarpet": [
           {
            "marker": {
             "colorbar": {
              "outlinewidth": 0,
              "ticks": ""
             }
            },
            "type": "scattercarpet"
           }
          ],
          "scattergeo": [
           {
            "marker": {
             "colorbar": {
              "outlinewidth": 0,
              "ticks": ""
             }
            },
            "type": "scattergeo"
           }
          ],
          "scattergl": [
           {
            "marker": {
             "line": {
              "color": "#283442"
             }
            },
            "type": "scattergl"
           }
          ],
          "scattermap": [
           {
            "marker": {
             "colorbar": {
              "outlinewidth": 0,
              "ticks": ""
             }
            },
            "type": "scattermap"
           }
          ],
          "scattermapbox": [
           {
            "marker": {
             "colorbar": {
              "outlinewidth": 0,
              "ticks": ""
             }
            },
            "type": "scattermapbox"
           }
          ],
          "scatterpolar": [
           {
            "marker": {
             "colorbar": {
              "outlinewidth": 0,
              "ticks": ""
             }
            },
            "type": "scatterpolar"
           }
          ],
          "scatterpolargl": [
           {
            "marker": {
             "colorbar": {
              "outlinewidth": 0,
              "ticks": ""
             }
            },
            "type": "scatterpolargl"
           }
          ],
          "scatterternary": [
           {
            "marker": {
             "colorbar": {
              "outlinewidth": 0,
              "ticks": ""
             }
            },
            "type": "scatterternary"
           }
          ],
          "surface": [
           {
            "colorbar": {
             "outlinewidth": 0,
             "ticks": ""
            },
            "colorscale": [
             [
              0,
              "#0d0887"
             ],
             [
              0.1111111111111111,
              "#46039f"
             ],
             [
              0.2222222222222222,
              "#7201a8"
             ],
             [
              0.3333333333333333,
              "#9c179e"
             ],
             [
              0.4444444444444444,
              "#bd3786"
             ],
             [
              0.5555555555555556,
              "#d8576b"
             ],
             [
              0.6666666666666666,
              "#ed7953"
             ],
             [
              0.7777777777777778,
              "#fb9f3a"
             ],
             [
              0.8888888888888888,
              "#fdca26"
             ],
             [
              1,
              "#f0f921"
             ]
            ],
            "type": "surface"
           }
          ],
          "table": [
           {
            "cells": {
             "fill": {
              "color": "#506784"
             },
             "line": {
              "color": "rgb(17,17,17)"
             }
            },
            "header": {
             "fill": {
              "color": "#2a3f5f"
             },
             "line": {
              "color": "rgb(17,17,17)"
             }
            },
            "type": "table"
           }
          ]
         },
         "layout": {
          "annotationdefaults": {
           "arrowcolor": "#f2f5fa",
           "arrowhead": 0,
           "arrowwidth": 1
          },
          "autotypenumbers": "strict",
          "coloraxis": {
           "colorbar": {
            "outlinewidth": 0,
            "ticks": ""
           }
          },
          "colorscale": {
           "diverging": [
            [
             0,
             "#8e0152"
            ],
            [
             0.1,
             "#c51b7d"
            ],
            [
             0.2,
             "#de77ae"
            ],
            [
             0.3,
             "#f1b6da"
            ],
            [
             0.4,
             "#fde0ef"
            ],
            [
             0.5,
             "#f7f7f7"
            ],
            [
             0.6,
             "#e6f5d0"
            ],
            [
             0.7,
             "#b8e186"
            ],
            [
             0.8,
             "#7fbc41"
            ],
            [
             0.9,
             "#4d9221"
            ],
            [
             1,
             "#276419"
            ]
           ],
           "sequential": [
            [
             0,
             "#0d0887"
            ],
            [
             0.1111111111111111,
             "#46039f"
            ],
            [
             0.2222222222222222,
             "#7201a8"
            ],
            [
             0.3333333333333333,
             "#9c179e"
            ],
            [
             0.4444444444444444,
             "#bd3786"
            ],
            [
             0.5555555555555556,
             "#d8576b"
            ],
            [
             0.6666666666666666,
             "#ed7953"
            ],
            [
             0.7777777777777778,
             "#fb9f3a"
            ],
            [
             0.8888888888888888,
             "#fdca26"
            ],
            [
             1,
             "#f0f921"
            ]
           ],
           "sequentialminus": [
            [
             0,
             "#0d0887"
            ],
            [
             0.1111111111111111,
             "#46039f"
            ],
            [
             0.2222222222222222,
             "#7201a8"
            ],
            [
             0.3333333333333333,
             "#9c179e"
            ],
            [
             0.4444444444444444,
             "#bd3786"
            ],
            [
             0.5555555555555556,
             "#d8576b"
            ],
            [
             0.6666666666666666,
             "#ed7953"
            ],
            [
             0.7777777777777778,
             "#fb9f3a"
            ],
            [
             0.8888888888888888,
             "#fdca26"
            ],
            [
             1,
             "#f0f921"
            ]
           ]
          },
          "colorway": [
           "#636efa",
           "#EF553B",
           "#00cc96",
           "#ab63fa",
           "#FFA15A",
           "#19d3f3",
           "#FF6692",
           "#B6E880",
           "#FF97FF",
           "#FECB52"
          ],
          "font": {
           "color": "#f2f5fa"
          },
          "geo": {
           "bgcolor": "rgb(17,17,17)",
           "lakecolor": "rgb(17,17,17)",
           "landcolor": "rgb(17,17,17)",
           "showlakes": true,
           "showland": true,
           "subunitcolor": "#506784"
          },
          "hoverlabel": {
           "align": "left"
          },
          "hovermode": "closest",
          "mapbox": {
           "style": "dark"
          },
          "paper_bgcolor": "rgb(17,17,17)",
          "plot_bgcolor": "rgb(17,17,17)",
          "polar": {
           "angularaxis": {
            "gridcolor": "#506784",
            "linecolor": "#506784",
            "ticks": ""
           },
           "bgcolor": "rgb(17,17,17)",
           "radialaxis": {
            "gridcolor": "#506784",
            "linecolor": "#506784",
            "ticks": ""
           }
          },
          "scene": {
           "xaxis": {
            "backgroundcolor": "rgb(17,17,17)",
            "gridcolor": "#506784",
            "gridwidth": 2,
            "linecolor": "#506784",
            "showbackground": true,
            "ticks": "",
            "zerolinecolor": "#C8D4E3"
           },
           "yaxis": {
            "backgroundcolor": "rgb(17,17,17)",
            "gridcolor": "#506784",
            "gridwidth": 2,
            "linecolor": "#506784",
            "showbackground": true,
            "ticks": "",
            "zerolinecolor": "#C8D4E3"
           },
           "zaxis": {
            "backgroundcolor": "rgb(17,17,17)",
            "gridcolor": "#506784",
            "gridwidth": 2,
            "linecolor": "#506784",
            "showbackground": true,
            "ticks": "",
            "zerolinecolor": "#C8D4E3"
           }
          },
          "shapedefaults": {
           "line": {
            "color": "#f2f5fa"
           }
          },
          "sliderdefaults": {
           "bgcolor": "#C8D4E3",
           "bordercolor": "rgb(17,17,17)",
           "borderwidth": 1,
           "tickwidth": 0
          },
          "ternary": {
           "aaxis": {
            "gridcolor": "#506784",
            "linecolor": "#506784",
            "ticks": ""
           },
           "baxis": {
            "gridcolor": "#506784",
            "linecolor": "#506784",
            "ticks": ""
           },
           "bgcolor": "rgb(17,17,17)",
           "caxis": {
            "gridcolor": "#506784",
            "linecolor": "#506784",
            "ticks": ""
           }
          },
          "title": {
           "x": 0.05
          },
          "updatemenudefaults": {
           "bgcolor": "#506784",
           "borderwidth": 0
          },
          "xaxis": {
           "automargin": true,
           "gridcolor": "#283442",
           "linecolor": "#506784",
           "ticks": "",
           "title": {
            "standoff": 15
           },
           "zerolinecolor": "#283442",
           "zerolinewidth": 2
          },
          "yaxis": {
           "automargin": true,
           "gridcolor": "#283442",
           "linecolor": "#506784",
           "ticks": "",
           "title": {
            "standoff": 15
           },
           "zerolinecolor": "#283442",
           "zerolinewidth": 2
          }
         }
        },
        "xaxis": {
         "anchor": "y",
         "domain": [
          0,
          1
         ],
         "title": {
          "text": "hourofday"
         }
        },
        "yaxis": {
         "anchor": "x",
         "domain": [
          0,
          1
         ],
         "title": {
          "text": "profit"
         }
        }
       }
      }
     },
     "metadata": {},
     "output_type": "display_data"
    },
    {
     "data": {
      "application/vnd.plotly.v1+json": {
       "config": {
        "plotlyServerURL": "https://plot.ly"
       },
       "data": [
        {
         "hovertemplate": "Month=%{x}<br>Total Profit=%{y}<extra></extra>",
         "legendgroup": "",
         "marker": {
          "color": "#00CC96",
          "pattern": {
           "shape": ""
          }
         },
         "name": "",
         "orientation": "v",
         "showlegend": false,
         "textposition": "auto",
         "type": "bar",
         "x": [
          "2025-06",
          "2025-07"
         ],
         "xaxis": "x",
         "y": {
          "bdata": "AAAAAACY0EAAAAAAAHuyQA==",
          "dtype": "f8"
         },
         "yaxis": "y"
        }
       ],
       "layout": {
        "barmode": "relative",
        "legend": {
         "tracegroupgap": 0
        },
        "template": {
         "data": {
          "bar": [
           {
            "error_x": {
             "color": "#f2f5fa"
            },
            "error_y": {
             "color": "#f2f5fa"
            },
            "marker": {
             "line": {
              "color": "rgb(17,17,17)",
              "width": 0.5
             },
             "pattern": {
              "fillmode": "overlay",
              "size": 10,
              "solidity": 0.2
             }
            },
            "type": "bar"
           }
          ],
          "barpolar": [
           {
            "marker": {
             "line": {
              "color": "rgb(17,17,17)",
              "width": 0.5
             },
             "pattern": {
              "fillmode": "overlay",
              "size": 10,
              "solidity": 0.2
             }
            },
            "type": "barpolar"
           }
          ],
          "carpet": [
           {
            "aaxis": {
             "endlinecolor": "#A2B1C6",
             "gridcolor": "#506784",
             "linecolor": "#506784",
             "minorgridcolor": "#506784",
             "startlinecolor": "#A2B1C6"
            },
            "baxis": {
             "endlinecolor": "#A2B1C6",
             "gridcolor": "#506784",
             "linecolor": "#506784",
             "minorgridcolor": "#506784",
             "startlinecolor": "#A2B1C6"
            },
            "type": "carpet"
           }
          ],
          "choropleth": [
           {
            "colorbar": {
             "outlinewidth": 0,
             "ticks": ""
            },
            "type": "choropleth"
           }
          ],
          "contour": [
           {
            "colorbar": {
             "outlinewidth": 0,
             "ticks": ""
            },
            "colorscale": [
             [
              0,
              "#0d0887"
             ],
             [
              0.1111111111111111,
              "#46039f"
             ],
             [
              0.2222222222222222,
              "#7201a8"
             ],
             [
              0.3333333333333333,
              "#9c179e"
             ],
             [
              0.4444444444444444,
              "#bd3786"
             ],
             [
              0.5555555555555556,
              "#d8576b"
             ],
             [
              0.6666666666666666,
              "#ed7953"
             ],
             [
              0.7777777777777778,
              "#fb9f3a"
             ],
             [
              0.8888888888888888,
              "#fdca26"
             ],
             [
              1,
              "#f0f921"
             ]
            ],
            "type": "contour"
           }
          ],
          "contourcarpet": [
           {
            "colorbar": {
             "outlinewidth": 0,
             "ticks": ""
            },
            "type": "contourcarpet"
           }
          ],
          "heatmap": [
           {
            "colorbar": {
             "outlinewidth": 0,
             "ticks": ""
            },
            "colorscale": [
             [
              0,
              "#0d0887"
             ],
             [
              0.1111111111111111,
              "#46039f"
             ],
             [
              0.2222222222222222,
              "#7201a8"
             ],
             [
              0.3333333333333333,
              "#9c179e"
             ],
             [
              0.4444444444444444,
              "#bd3786"
             ],
             [
              0.5555555555555556,
              "#d8576b"
             ],
             [
              0.6666666666666666,
              "#ed7953"
             ],
             [
              0.7777777777777778,
              "#fb9f3a"
             ],
             [
              0.8888888888888888,
              "#fdca26"
             ],
             [
              1,
              "#f0f921"
             ]
            ],
            "type": "heatmap"
           }
          ],
          "histogram": [
           {
            "marker": {
             "pattern": {
              "fillmode": "overlay",
              "size": 10,
              "solidity": 0.2
             }
            },
            "type": "histogram"
           }
          ],
          "histogram2d": [
           {
            "colorbar": {
             "outlinewidth": 0,
             "ticks": ""
            },
            "colorscale": [
             [
              0,
              "#0d0887"
             ],
             [
              0.1111111111111111,
              "#46039f"
             ],
             [
              0.2222222222222222,
              "#7201a8"
             ],
             [
              0.3333333333333333,
              "#9c179e"
             ],
             [
              0.4444444444444444,
              "#bd3786"
             ],
             [
              0.5555555555555556,
              "#d8576b"
             ],
             [
              0.6666666666666666,
              "#ed7953"
             ],
             [
              0.7777777777777778,
              "#fb9f3a"
             ],
             [
              0.8888888888888888,
              "#fdca26"
             ],
             [
              1,
              "#f0f921"
             ]
            ],
            "type": "histogram2d"
           }
          ],
          "histogram2dcontour": [
           {
            "colorbar": {
             "outlinewidth": 0,
             "ticks": ""
            },
            "colorscale": [
             [
              0,
              "#0d0887"
             ],
             [
              0.1111111111111111,
              "#46039f"
             ],
             [
              0.2222222222222222,
              "#7201a8"
             ],
             [
              0.3333333333333333,
              "#9c179e"
             ],
             [
              0.4444444444444444,
              "#bd3786"
             ],
             [
              0.5555555555555556,
              "#d8576b"
             ],
             [
              0.6666666666666666,
              "#ed7953"
             ],
             [
              0.7777777777777778,
              "#fb9f3a"
             ],
             [
              0.8888888888888888,
              "#fdca26"
             ],
             [
              1,
              "#f0f921"
             ]
            ],
            "type": "histogram2dcontour"
           }
          ],
          "mesh3d": [
           {
            "colorbar": {
             "outlinewidth": 0,
             "ticks": ""
            },
            "type": "mesh3d"
           }
          ],
          "parcoords": [
           {
            "line": {
             "colorbar": {
              "outlinewidth": 0,
              "ticks": ""
             }
            },
            "type": "parcoords"
           }
          ],
          "pie": [
           {
            "automargin": true,
            "type": "pie"
           }
          ],
          "scatter": [
           {
            "marker": {
             "line": {
              "color": "#283442"
             }
            },
            "type": "scatter"
           }
          ],
          "scatter3d": [
           {
            "line": {
             "colorbar": {
              "outlinewidth": 0,
              "ticks": ""
             }
            },
            "marker": {
             "colorbar": {
              "outlinewidth": 0,
              "ticks": ""
             }
            },
            "type": "scatter3d"
           }
          ],
          "scattercarpet": [
           {
            "marker": {
             "colorbar": {
              "outlinewidth": 0,
              "ticks": ""
             }
            },
            "type": "scattercarpet"
           }
          ],
          "scattergeo": [
           {
            "marker": {
             "colorbar": {
              "outlinewidth": 0,
              "ticks": ""
             }
            },
            "type": "scattergeo"
           }
          ],
          "scattergl": [
           {
            "marker": {
             "line": {
              "color": "#283442"
             }
            },
            "type": "scattergl"
           }
          ],
          "scattermap": [
           {
            "marker": {
             "colorbar": {
              "outlinewidth": 0,
              "ticks": ""
             }
            },
            "type": "scattermap"
           }
          ],
          "scattermapbox": [
           {
            "marker": {
             "colorbar": {
              "outlinewidth": 0,
              "ticks": ""
             }
            },
            "type": "scattermapbox"
           }
          ],
          "scatterpolar": [
           {
            "marker": {
             "colorbar": {
              "outlinewidth": 0,
              "ticks": ""
             }
            },
            "type": "scatterpolar"
           }
          ],
          "scatterpolargl": [
           {
            "marker": {
             "colorbar": {
              "outlinewidth": 0,
              "ticks": ""
             }
            },
            "type": "scatterpolargl"
           }
          ],
          "scatterternary": [
           {
            "marker": {
             "colorbar": {
              "outlinewidth": 0,
              "ticks": ""
             }
            },
            "type": "scatterternary"
           }
          ],
          "surface": [
           {
            "colorbar": {
             "outlinewidth": 0,
             "ticks": ""
            },
            "colorscale": [
             [
              0,
              "#0d0887"
             ],
             [
              0.1111111111111111,
              "#46039f"
             ],
             [
              0.2222222222222222,
              "#7201a8"
             ],
             [
              0.3333333333333333,
              "#9c179e"
             ],
             [
              0.4444444444444444,
              "#bd3786"
             ],
             [
              0.5555555555555556,
              "#d8576b"
             ],
             [
              0.6666666666666666,
              "#ed7953"
             ],
             [
              0.7777777777777778,
              "#fb9f3a"
             ],
             [
              0.8888888888888888,
              "#fdca26"
             ],
             [
              1,
              "#f0f921"
             ]
            ],
            "type": "surface"
           }
          ],
          "table": [
           {
            "cells": {
             "fill": {
              "color": "#506784"
             },
             "line": {
              "color": "rgb(17,17,17)"
             }
            },
            "header": {
             "fill": {
              "color": "#2a3f5f"
             },
             "line": {
              "color": "rgb(17,17,17)"
             }
            },
            "type": "table"
           }
          ]
         },
         "layout": {
          "annotationdefaults": {
           "arrowcolor": "#f2f5fa",
           "arrowhead": 0,
           "arrowwidth": 1
          },
          "autotypenumbers": "strict",
          "coloraxis": {
           "colorbar": {
            "outlinewidth": 0,
            "ticks": ""
           }
          },
          "colorscale": {
           "diverging": [
            [
             0,
             "#8e0152"
            ],
            [
             0.1,
             "#c51b7d"
            ],
            [
             0.2,
             "#de77ae"
            ],
            [
             0.3,
             "#f1b6da"
            ],
            [
             0.4,
             "#fde0ef"
            ],
            [
             0.5,
             "#f7f7f7"
            ],
            [
             0.6,
             "#e6f5d0"
            ],
            [
             0.7,
             "#b8e186"
            ],
            [
             0.8,
             "#7fbc41"
            ],
            [
             0.9,
             "#4d9221"
            ],
            [
             1,
             "#276419"
            ]
           ],
           "sequential": [
            [
             0,
             "#0d0887"
            ],
            [
             0.1111111111111111,
             "#46039f"
            ],
            [
             0.2222222222222222,
             "#7201a8"
            ],
            [
             0.3333333333333333,
             "#9c179e"
            ],
            [
             0.4444444444444444,
             "#bd3786"
            ],
            [
             0.5555555555555556,
             "#d8576b"
            ],
            [
             0.6666666666666666,
             "#ed7953"
            ],
            [
             0.7777777777777778,
             "#fb9f3a"
            ],
            [
             0.8888888888888888,
             "#fdca26"
            ],
            [
             1,
             "#f0f921"
            ]
           ],
           "sequentialminus": [
            [
             0,
             "#0d0887"
            ],
            [
             0.1111111111111111,
             "#46039f"
            ],
            [
             0.2222222222222222,
             "#7201a8"
            ],
            [
             0.3333333333333333,
             "#9c179e"
            ],
            [
             0.4444444444444444,
             "#bd3786"
            ],
            [
             0.5555555555555556,
             "#d8576b"
            ],
            [
             0.6666666666666666,
             "#ed7953"
            ],
            [
             0.7777777777777778,
             "#fb9f3a"
            ],
            [
             0.8888888888888888,
             "#fdca26"
            ],
            [
             1,
             "#f0f921"
            ]
           ]
          },
          "colorway": [
           "#636efa",
           "#EF553B",
           "#00cc96",
           "#ab63fa",
           "#FFA15A",
           "#19d3f3",
           "#FF6692",
           "#B6E880",
           "#FF97FF",
           "#FECB52"
          ],
          "font": {
           "color": "#f2f5fa"
          },
          "geo": {
           "bgcolor": "rgb(17,17,17)",
           "lakecolor": "rgb(17,17,17)",
           "landcolor": "rgb(17,17,17)",
           "showlakes": true,
           "showland": true,
           "subunitcolor": "#506784"
          },
          "hoverlabel": {
           "align": "left"
          },
          "hovermode": "closest",
          "mapbox": {
           "style": "dark"
          },
          "paper_bgcolor": "rgb(17,17,17)",
          "plot_bgcolor": "rgb(17,17,17)",
          "polar": {
           "angularaxis": {
            "gridcolor": "#506784",
            "linecolor": "#506784",
            "ticks": ""
           },
           "bgcolor": "rgb(17,17,17)",
           "radialaxis": {
            "gridcolor": "#506784",
            "linecolor": "#506784",
            "ticks": ""
           }
          },
          "scene": {
           "xaxis": {
            "backgroundcolor": "rgb(17,17,17)",
            "gridcolor": "#506784",
            "gridwidth": 2,
            "linecolor": "#506784",
            "showbackground": true,
            "ticks": "",
            "zerolinecolor": "#C8D4E3"
           },
           "yaxis": {
            "backgroundcolor": "rgb(17,17,17)",
            "gridcolor": "#506784",
            "gridwidth": 2,
            "linecolor": "#506784",
            "showbackground": true,
            "ticks": "",
            "zerolinecolor": "#C8D4E3"
           },
           "zaxis": {
            "backgroundcolor": "rgb(17,17,17)",
            "gridcolor": "#506784",
            "gridwidth": 2,
            "linecolor": "#506784",
            "showbackground": true,
            "ticks": "",
            "zerolinecolor": "#C8D4E3"
           }
          },
          "shapedefaults": {
           "line": {
            "color": "#f2f5fa"
           }
          },
          "sliderdefaults": {
           "bgcolor": "#C8D4E3",
           "bordercolor": "rgb(17,17,17)",
           "borderwidth": 1,
           "tickwidth": 0
          },
          "ternary": {
           "aaxis": {
            "gridcolor": "#506784",
            "linecolor": "#506784",
            "ticks": ""
           },
           "baxis": {
            "gridcolor": "#506784",
            "linecolor": "#506784",
            "ticks": ""
           },
           "bgcolor": "rgb(17,17,17)",
           "caxis": {
            "gridcolor": "#506784",
            "linecolor": "#506784",
            "ticks": ""
           }
          },
          "title": {
           "x": 0.05
          },
          "updatemenudefaults": {
           "bgcolor": "#506784",
           "borderwidth": 0
          },
          "xaxis": {
           "automargin": true,
           "gridcolor": "#283442",
           "linecolor": "#506784",
           "ticks": "",
           "title": {
            "standoff": 15
           },
           "zerolinecolor": "#283442",
           "zerolinewidth": 2
          },
          "yaxis": {
           "automargin": true,
           "gridcolor": "#283442",
           "linecolor": "#506784",
           "ticks": "",
           "title": {
            "standoff": 15
           },
           "zerolinecolor": "#283442",
           "zerolinewidth": 2
          }
         }
        },
        "title": {
         "text": "Total Profit Per Month"
        },
        "xaxis": {
         "anchor": "y",
         "domain": [
          0,
          1
         ],
         "tickangle": -45,
         "title": {
          "text": "Month"
         }
        },
        "yaxis": {
         "anchor": "x",
         "domain": [
          0,
          1
         ],
         "title": {
          "text": "Total Profit"
         }
        }
       }
      }
     },
     "metadata": {},
     "output_type": "display_data"
    },
    {
     "data": {
      "application/vnd.plotly.v1+json": {
       "config": {
        "plotlyServerURL": "https://plot.ly"
       },
       "data": [
        {
         "hovertemplate": "Year=%{x}<br>Total Profit=%{y}<extra></extra>",
         "legendgroup": "",
         "marker": {
          "color": "#EF553B",
          "pattern": {
           "shape": ""
          }
         },
         "name": "",
         "orientation": "v",
         "showlegend": false,
         "textposition": "auto",
         "type": "bar",
         "x": {
          "bdata": "6QcAAA==",
          "dtype": "i4"
         },
         "xaxis": "x",
         "y": {
          "bdata": "AAAAAMA21UA=",
          "dtype": "f8"
         },
         "yaxis": "y"
        }
       ],
       "layout": {
        "barmode": "relative",
        "legend": {
         "tracegroupgap": 0
        },
        "template": {
         "data": {
          "bar": [
           {
            "error_x": {
             "color": "#f2f5fa"
            },
            "error_y": {
             "color": "#f2f5fa"
            },
            "marker": {
             "line": {
              "color": "rgb(17,17,17)",
              "width": 0.5
             },
             "pattern": {
              "fillmode": "overlay",
              "size": 10,
              "solidity": 0.2
             }
            },
            "type": "bar"
           }
          ],
          "barpolar": [
           {
            "marker": {
             "line": {
              "color": "rgb(17,17,17)",
              "width": 0.5
             },
             "pattern": {
              "fillmode": "overlay",
              "size": 10,
              "solidity": 0.2
             }
            },
            "type": "barpolar"
           }
          ],
          "carpet": [
           {
            "aaxis": {
             "endlinecolor": "#A2B1C6",
             "gridcolor": "#506784",
             "linecolor": "#506784",
             "minorgridcolor": "#506784",
             "startlinecolor": "#A2B1C6"
            },
            "baxis": {
             "endlinecolor": "#A2B1C6",
             "gridcolor": "#506784",
             "linecolor": "#506784",
             "minorgridcolor": "#506784",
             "startlinecolor": "#A2B1C6"
            },
            "type": "carpet"
           }
          ],
          "choropleth": [
           {
            "colorbar": {
             "outlinewidth": 0,
             "ticks": ""
            },
            "type": "choropleth"
           }
          ],
          "contour": [
           {
            "colorbar": {
             "outlinewidth": 0,
             "ticks": ""
            },
            "colorscale": [
             [
              0,
              "#0d0887"
             ],
             [
              0.1111111111111111,
              "#46039f"
             ],
             [
              0.2222222222222222,
              "#7201a8"
             ],
             [
              0.3333333333333333,
              "#9c179e"
             ],
             [
              0.4444444444444444,
              "#bd3786"
             ],
             [
              0.5555555555555556,
              "#d8576b"
             ],
             [
              0.6666666666666666,
              "#ed7953"
             ],
             [
              0.7777777777777778,
              "#fb9f3a"
             ],
             [
              0.8888888888888888,
              "#fdca26"
             ],
             [
              1,
              "#f0f921"
             ]
            ],
            "type": "contour"
           }
          ],
          "contourcarpet": [
           {
            "colorbar": {
             "outlinewidth": 0,
             "ticks": ""
            },
            "type": "contourcarpet"
           }
          ],
          "heatmap": [
           {
            "colorbar": {
             "outlinewidth": 0,
             "ticks": ""
            },
            "colorscale": [
             [
              0,
              "#0d0887"
             ],
             [
              0.1111111111111111,
              "#46039f"
             ],
             [
              0.2222222222222222,
              "#7201a8"
             ],
             [
              0.3333333333333333,
              "#9c179e"
             ],
             [
              0.4444444444444444,
              "#bd3786"
             ],
             [
              0.5555555555555556,
              "#d8576b"
             ],
             [
              0.6666666666666666,
              "#ed7953"
             ],
             [
              0.7777777777777778,
              "#fb9f3a"
             ],
             [
              0.8888888888888888,
              "#fdca26"
             ],
             [
              1,
              "#f0f921"
             ]
            ],
            "type": "heatmap"
           }
          ],
          "histogram": [
           {
            "marker": {
             "pattern": {
              "fillmode": "overlay",
              "size": 10,
              "solidity": 0.2
             }
            },
            "type": "histogram"
           }
          ],
          "histogram2d": [
           {
            "colorbar": {
             "outlinewidth": 0,
             "ticks": ""
            },
            "colorscale": [
             [
              0,
              "#0d0887"
             ],
             [
              0.1111111111111111,
              "#46039f"
             ],
             [
              0.2222222222222222,
              "#7201a8"
             ],
             [
              0.3333333333333333,
              "#9c179e"
             ],
             [
              0.4444444444444444,
              "#bd3786"
             ],
             [
              0.5555555555555556,
              "#d8576b"
             ],
             [
              0.6666666666666666,
              "#ed7953"
             ],
             [
              0.7777777777777778,
              "#fb9f3a"
             ],
             [
              0.8888888888888888,
              "#fdca26"
             ],
             [
              1,
              "#f0f921"
             ]
            ],
            "type": "histogram2d"
           }
          ],
          "histogram2dcontour": [
           {
            "colorbar": {
             "outlinewidth": 0,
             "ticks": ""
            },
            "colorscale": [
             [
              0,
              "#0d0887"
             ],
             [
              0.1111111111111111,
              "#46039f"
             ],
             [
              0.2222222222222222,
              "#7201a8"
             ],
             [
              0.3333333333333333,
              "#9c179e"
             ],
             [
              0.4444444444444444,
              "#bd3786"
             ],
             [
              0.5555555555555556,
              "#d8576b"
             ],
             [
              0.6666666666666666,
              "#ed7953"
             ],
             [
              0.7777777777777778,
              "#fb9f3a"
             ],
             [
              0.8888888888888888,
              "#fdca26"
             ],
             [
              1,
              "#f0f921"
             ]
            ],
            "type": "histogram2dcontour"
           }
          ],
          "mesh3d": [
           {
            "colorbar": {
             "outlinewidth": 0,
             "ticks": ""
            },
            "type": "mesh3d"
           }
          ],
          "parcoords": [
           {
            "line": {
             "colorbar": {
              "outlinewidth": 0,
              "ticks": ""
             }
            },
            "type": "parcoords"
           }
          ],
          "pie": [
           {
            "automargin": true,
            "type": "pie"
           }
          ],
          "scatter": [
           {
            "marker": {
             "line": {
              "color": "#283442"
             }
            },
            "type": "scatter"
           }
          ],
          "scatter3d": [
           {
            "line": {
             "colorbar": {
              "outlinewidth": 0,
              "ticks": ""
             }
            },
            "marker": {
             "colorbar": {
              "outlinewidth": 0,
              "ticks": ""
             }
            },
            "type": "scatter3d"
           }
          ],
          "scattercarpet": [
           {
            "marker": {
             "colorbar": {
              "outlinewidth": 0,
              "ticks": ""
             }
            },
            "type": "scattercarpet"
           }
          ],
          "scattergeo": [
           {
            "marker": {
             "colorbar": {
              "outlinewidth": 0,
              "ticks": ""
             }
            },
            "type": "scattergeo"
           }
          ],
          "scattergl": [
           {
            "marker": {
             "line": {
              "color": "#283442"
             }
            },
            "type": "scattergl"
           }
          ],
          "scattermap": [
           {
            "marker": {
             "colorbar": {
              "outlinewidth": 0,
              "ticks": ""
             }
            },
            "type": "scattermap"
           }
          ],
          "scattermapbox": [
           {
            "marker": {
             "colorbar": {
              "outlinewidth": 0,
              "ticks": ""
             }
            },
            "type": "scattermapbox"
           }
          ],
          "scatterpolar": [
           {
            "marker": {
             "colorbar": {
              "outlinewidth": 0,
              "ticks": ""
             }
            },
            "type": "scatterpolar"
           }
          ],
          "scatterpolargl": [
           {
            "marker": {
             "colorbar": {
              "outlinewidth": 0,
              "ticks": ""
             }
            },
            "type": "scatterpolargl"
           }
          ],
          "scatterternary": [
           {
            "marker": {
             "colorbar": {
              "outlinewidth": 0,
              "ticks": ""
             }
            },
            "type": "scatterternary"
           }
          ],
          "surface": [
           {
            "colorbar": {
             "outlinewidth": 0,
             "ticks": ""
            },
            "colorscale": [
             [
              0,
              "#0d0887"
             ],
             [
              0.1111111111111111,
              "#46039f"
             ],
             [
              0.2222222222222222,
              "#7201a8"
             ],
             [
              0.3333333333333333,
              "#9c179e"
             ],
             [
              0.4444444444444444,
              "#bd3786"
             ],
             [
              0.5555555555555556,
              "#d8576b"
             ],
             [
              0.6666666666666666,
              "#ed7953"
             ],
             [
              0.7777777777777778,
              "#fb9f3a"
             ],
             [
              0.8888888888888888,
              "#fdca26"
             ],
             [
              1,
              "#f0f921"
             ]
            ],
            "type": "surface"
           }
          ],
          "table": [
           {
            "cells": {
             "fill": {
              "color": "#506784"
             },
             "line": {
              "color": "rgb(17,17,17)"
             }
            },
            "header": {
             "fill": {
              "color": "#2a3f5f"
             },
             "line": {
              "color": "rgb(17,17,17)"
             }
            },
            "type": "table"
           }
          ]
         },
         "layout": {
          "annotationdefaults": {
           "arrowcolor": "#f2f5fa",
           "arrowhead": 0,
           "arrowwidth": 1
          },
          "autotypenumbers": "strict",
          "coloraxis": {
           "colorbar": {
            "outlinewidth": 0,
            "ticks": ""
           }
          },
          "colorscale": {
           "diverging": [
            [
             0,
             "#8e0152"
            ],
            [
             0.1,
             "#c51b7d"
            ],
            [
             0.2,
             "#de77ae"
            ],
            [
             0.3,
             "#f1b6da"
            ],
            [
             0.4,
             "#fde0ef"
            ],
            [
             0.5,
             "#f7f7f7"
            ],
            [
             0.6,
             "#e6f5d0"
            ],
            [
             0.7,
             "#b8e186"
            ],
            [
             0.8,
             "#7fbc41"
            ],
            [
             0.9,
             "#4d9221"
            ],
            [
             1,
             "#276419"
            ]
           ],
           "sequential": [
            [
             0,
             "#0d0887"
            ],
            [
             0.1111111111111111,
             "#46039f"
            ],
            [
             0.2222222222222222,
             "#7201a8"
            ],
            [
             0.3333333333333333,
             "#9c179e"
            ],
            [
             0.4444444444444444,
             "#bd3786"
            ],
            [
             0.5555555555555556,
             "#d8576b"
            ],
            [
             0.6666666666666666,
             "#ed7953"
            ],
            [
             0.7777777777777778,
             "#fb9f3a"
            ],
            [
             0.8888888888888888,
             "#fdca26"
            ],
            [
             1,
             "#f0f921"
            ]
           ],
           "sequentialminus": [
            [
             0,
             "#0d0887"
            ],
            [
             0.1111111111111111,
             "#46039f"
            ],
            [
             0.2222222222222222,
             "#7201a8"
            ],
            [
             0.3333333333333333,
             "#9c179e"
            ],
            [
             0.4444444444444444,
             "#bd3786"
            ],
            [
             0.5555555555555556,
             "#d8576b"
            ],
            [
             0.6666666666666666,
             "#ed7953"
            ],
            [
             0.7777777777777778,
             "#fb9f3a"
            ],
            [
             0.8888888888888888,
             "#fdca26"
            ],
            [
             1,
             "#f0f921"
            ]
           ]
          },
          "colorway": [
           "#636efa",
           "#EF553B",
           "#00cc96",
           "#ab63fa",
           "#FFA15A",
           "#19d3f3",
           "#FF6692",
           "#B6E880",
           "#FF97FF",
           "#FECB52"
          ],
          "font": {
           "color": "#f2f5fa"
          },
          "geo": {
           "bgcolor": "rgb(17,17,17)",
           "lakecolor": "rgb(17,17,17)",
           "landcolor": "rgb(17,17,17)",
           "showlakes": true,
           "showland": true,
           "subunitcolor": "#506784"
          },
          "hoverlabel": {
           "align": "left"
          },
          "hovermode": "closest",
          "mapbox": {
           "style": "dark"
          },
          "paper_bgcolor": "rgb(17,17,17)",
          "plot_bgcolor": "rgb(17,17,17)",
          "polar": {
           "angularaxis": {
            "gridcolor": "#506784",
            "linecolor": "#506784",
            "ticks": ""
           },
           "bgcolor": "rgb(17,17,17)",
           "radialaxis": {
            "gridcolor": "#506784",
            "linecolor": "#506784",
            "ticks": ""
           }
          },
          "scene": {
           "xaxis": {
            "backgroundcolor": "rgb(17,17,17)",
            "gridcolor": "#506784",
            "gridwidth": 2,
            "linecolor": "#506784",
            "showbackground": true,
            "ticks": "",
            "zerolinecolor": "#C8D4E3"
           },
           "yaxis": {
            "backgroundcolor": "rgb(17,17,17)",
            "gridcolor": "#506784",
            "gridwidth": 2,
            "linecolor": "#506784",
            "showbackground": true,
            "ticks": "",
            "zerolinecolor": "#C8D4E3"
           },
           "zaxis": {
            "backgroundcolor": "rgb(17,17,17)",
            "gridcolor": "#506784",
            "gridwidth": 2,
            "linecolor": "#506784",
            "showbackground": true,
            "ticks": "",
            "zerolinecolor": "#C8D4E3"
           }
          },
          "shapedefaults": {
           "line": {
            "color": "#f2f5fa"
           }
          },
          "sliderdefaults": {
           "bgcolor": "#C8D4E3",
           "bordercolor": "rgb(17,17,17)",
           "borderwidth": 1,
           "tickwidth": 0
          },
          "ternary": {
           "aaxis": {
            "gridcolor": "#506784",
            "linecolor": "#506784",
            "ticks": ""
           },
           "baxis": {
            "gridcolor": "#506784",
            "linecolor": "#506784",
            "ticks": ""
           },
           "bgcolor": "rgb(17,17,17)",
           "caxis": {
            "gridcolor": "#506784",
            "linecolor": "#506784",
            "ticks": ""
           }
          },
          "title": {
           "x": 0.05
          },
          "updatemenudefaults": {
           "bgcolor": "#506784",
           "borderwidth": 0
          },
          "xaxis": {
           "automargin": true,
           "gridcolor": "#283442",
           "linecolor": "#506784",
           "ticks": "",
           "title": {
            "standoff": 15
           },
           "zerolinecolor": "#283442",
           "zerolinewidth": 2
          },
          "yaxis": {
           "automargin": true,
           "gridcolor": "#283442",
           "linecolor": "#506784",
           "ticks": "",
           "title": {
            "standoff": 15
           },
           "zerolinecolor": "#283442",
           "zerolinewidth": 2
          }
         }
        },
        "title": {
         "text": "Total Profit Per Year"
        },
        "xaxis": {
         "anchor": "y",
         "domain": [
          0,
          1
         ],
         "title": {
          "text": "Year"
         },
         "type": "category"
        },
        "yaxis": {
         "anchor": "x",
         "domain": [
          0,
          1
         ],
         "title": {
          "text": "Total Profit"
         }
        }
       }
      }
     },
     "metadata": {},
     "output_type": "display_data"
    },
    {
     "data": {
      "text/html": [
       "<div>\n",
       "<style scoped>\n",
       "    .dataframe tbody tr th:only-of-type {\n",
       "        vertical-align: middle;\n",
       "    }\n",
       "\n",
       "    .dataframe tbody tr th {\n",
       "        vertical-align: top;\n",
       "    }\n",
       "\n",
       "    .dataframe thead th {\n",
       "        text-align: right;\n",
       "    }\n",
       "</style>\n",
       "<table border=\"1\" class=\"dataframe\">\n",
       "  <thead>\n",
       "    <tr style=\"text-align: right;\">\n",
       "      <th></th>\n",
       "      <th>state</th>\n",
       "      <th>symbol</th>\n",
       "      <th>order_type</th>\n",
       "      <th>volume</th>\n",
       "      <th>open_time</th>\n",
       "      <th>open_price</th>\n",
       "      <th>close_time</th>\n",
       "      <th>close_price</th>\n",
       "      <th>sl</th>\n",
       "      <th>tp</th>\n",
       "      <th>...</th>\n",
       "      <th>profit_net</th>\n",
       "      <th>profit_cumulative</th>\n",
       "      <th>balance</th>\n",
       "      <th>current_max</th>\n",
       "      <th>drawdown</th>\n",
       "      <th>drawdown1</th>\n",
       "      <th>dayofweek</th>\n",
       "      <th>hourofday</th>\n",
       "      <th>month</th>\n",
       "      <th>year</th>\n",
       "    </tr>\n",
       "  </thead>\n",
       "  <tbody>\n",
       "    <tr>\n",
       "      <th>0</th>\n",
       "      <td>closed</td>\n",
       "      <td>EURUSD</td>\n",
       "      <td>buy</td>\n",
       "      <td>100000</td>\n",
       "      <td>2025-06-02 01:03:00</td>\n",
       "      <td>1.13512</td>\n",
       "      <td>2025-06-02 01:05:00</td>\n",
       "      <td>1.1352</td>\n",
       "      <td>0</td>\n",
       "      <td>0</td>\n",
       "      <td>...</td>\n",
       "      <td>1.0</td>\n",
       "      <td>1.0</td>\n",
       "      <td>10001.0</td>\n",
       "      <td>1.0</td>\n",
       "      <td>0.0</td>\n",
       "      <td>-255.0</td>\n",
       "      <td>0</td>\n",
       "      <td>1</td>\n",
       "      <td>2025-06</td>\n",
       "      <td>2025</td>\n",
       "    </tr>\n",
       "    <tr>\n",
       "      <th>1</th>\n",
       "      <td>closed</td>\n",
       "      <td>EURUSD</td>\n",
       "      <td>buy</td>\n",
       "      <td>100000</td>\n",
       "      <td>2025-06-02 01:18:00</td>\n",
       "      <td>1.13548</td>\n",
       "      <td>2025-06-02 01:26:00</td>\n",
       "      <td>1.13517</td>\n",
       "      <td>0</td>\n",
       "      <td>0</td>\n",
       "      <td>...</td>\n",
       "      <td>-38.0</td>\n",
       "      <td>-37.0</td>\n",
       "      <td>9963.0</td>\n",
       "      <td>1.0</td>\n",
       "      <td>-38.0</td>\n",
       "      <td>-255.0</td>\n",
       "      <td>0</td>\n",
       "      <td>1</td>\n",
       "      <td>2025-06</td>\n",
       "      <td>2025</td>\n",
       "    </tr>\n",
       "    <tr>\n",
       "      <th>2</th>\n",
       "      <td>closed</td>\n",
       "      <td>EURUSD</td>\n",
       "      <td>buy</td>\n",
       "      <td>100000</td>\n",
       "      <td>2025-06-02 01:19:00</td>\n",
       "      <td>1.13565</td>\n",
       "      <td>2025-06-02 01:44:00</td>\n",
       "      <td>1.13485</td>\n",
       "      <td>0</td>\n",
       "      <td>0</td>\n",
       "      <td>...</td>\n",
       "      <td>-87.0</td>\n",
       "      <td>-124.0</td>\n",
       "      <td>9876.0</td>\n",
       "      <td>1.0</td>\n",
       "      <td>-125.0</td>\n",
       "      <td>-255.0</td>\n",
       "      <td>0</td>\n",
       "      <td>1</td>\n",
       "      <td>2025-06</td>\n",
       "      <td>2025</td>\n",
       "    </tr>\n",
       "    <tr>\n",
       "      <th>3</th>\n",
       "      <td>closed</td>\n",
       "      <td>EURUSD</td>\n",
       "      <td>buy</td>\n",
       "      <td>100000</td>\n",
       "      <td>2025-06-02 01:26:00</td>\n",
       "      <td>1.13517</td>\n",
       "      <td>2025-06-02 01:46:00</td>\n",
       "      <td>1.13504</td>\n",
       "      <td>0</td>\n",
       "      <td>0</td>\n",
       "      <td>...</td>\n",
       "      <td>-20.0</td>\n",
       "      <td>-144.0</td>\n",
       "      <td>9856.0</td>\n",
       "      <td>1.0</td>\n",
       "      <td>-145.0</td>\n",
       "      <td>-255.0</td>\n",
       "      <td>0</td>\n",
       "      <td>1</td>\n",
       "      <td>2025-06</td>\n",
       "      <td>2025</td>\n",
       "    </tr>\n",
       "    <tr>\n",
       "      <th>4</th>\n",
       "      <td>closed</td>\n",
       "      <td>EURUSD</td>\n",
       "      <td>buy</td>\n",
       "      <td>100000</td>\n",
       "      <td>2025-06-02 02:02:00</td>\n",
       "      <td>1.1355</td>\n",
       "      <td>2025-06-02 02:21:00</td>\n",
       "      <td>1.13561</td>\n",
       "      <td>0</td>\n",
       "      <td>0</td>\n",
       "      <td>...</td>\n",
       "      <td>4.0</td>\n",
       "      <td>-140.0</td>\n",
       "      <td>9860.0</td>\n",
       "      <td>1.0</td>\n",
       "      <td>-141.0</td>\n",
       "      <td>-255.0</td>\n",
       "      <td>0</td>\n",
       "      <td>2</td>\n",
       "      <td>2025-06</td>\n",
       "      <td>2025</td>\n",
       "    </tr>\n",
       "    <tr>\n",
       "      <th>...</th>\n",
       "      <td>...</td>\n",
       "      <td>...</td>\n",
       "      <td>...</td>\n",
       "      <td>...</td>\n",
       "      <td>...</td>\n",
       "      <td>...</td>\n",
       "      <td>...</td>\n",
       "      <td>...</td>\n",
       "      <td>...</td>\n",
       "      <td>...</td>\n",
       "      <td>...</td>\n",
       "      <td>...</td>\n",
       "      <td>...</td>\n",
       "      <td>...</td>\n",
       "      <td>...</td>\n",
       "      <td>...</td>\n",
       "      <td>...</td>\n",
       "      <td>...</td>\n",
       "      <td>...</td>\n",
       "      <td>...</td>\n",
       "      <td>...</td>\n",
       "    </tr>\n",
       "    <tr>\n",
       "      <th>2995</th>\n",
       "      <td>closed</td>\n",
       "      <td>EURUSD</td>\n",
       "      <td>buy</td>\n",
       "      <td>100000</td>\n",
       "      <td>2025-07-14 07:35:00</td>\n",
       "      <td>1.16775</td>\n",
       "      <td>2025-07-14 07:39:00</td>\n",
       "      <td>1.16791</td>\n",
       "      <td>0</td>\n",
       "      <td>0</td>\n",
       "      <td>...</td>\n",
       "      <td>9.0</td>\n",
       "      <td>758.0</td>\n",
       "      <td>10758.0</td>\n",
       "      <td>3237.0</td>\n",
       "      <td>-2479.0</td>\n",
       "      <td>-255.0</td>\n",
       "      <td>0</td>\n",
       "      <td>7</td>\n",
       "      <td>2025-07</td>\n",
       "      <td>2025</td>\n",
       "    </tr>\n",
       "    <tr>\n",
       "      <th>2996</th>\n",
       "      <td>closed</td>\n",
       "      <td>EURUSD</td>\n",
       "      <td>buy</td>\n",
       "      <td>100000</td>\n",
       "      <td>2025-07-14 07:39:00</td>\n",
       "      <td>1.16791</td>\n",
       "      <td>2025-07-14 07:44:00</td>\n",
       "      <td>1.16791</td>\n",
       "      <td>0</td>\n",
       "      <td>0</td>\n",
       "      <td>...</td>\n",
       "      <td>-7.0</td>\n",
       "      <td>751.0</td>\n",
       "      <td>10751.0</td>\n",
       "      <td>3237.0</td>\n",
       "      <td>-2486.0</td>\n",
       "      <td>-255.0</td>\n",
       "      <td>0</td>\n",
       "      <td>7</td>\n",
       "      <td>2025-07</td>\n",
       "      <td>2025</td>\n",
       "    </tr>\n",
       "    <tr>\n",
       "      <th>2997</th>\n",
       "      <td>closed</td>\n",
       "      <td>EURUSD</td>\n",
       "      <td>buy</td>\n",
       "      <td>100000</td>\n",
       "      <td>2025-07-14 07:40:00</td>\n",
       "      <td>1.16805</td>\n",
       "      <td>2025-07-14 07:45:00</td>\n",
       "      <td>1.16781</td>\n",
       "      <td>0</td>\n",
       "      <td>0</td>\n",
       "      <td>...</td>\n",
       "      <td>-31.0</td>\n",
       "      <td>720.0</td>\n",
       "      <td>10720.0</td>\n",
       "      <td>3237.0</td>\n",
       "      <td>-2517.0</td>\n",
       "      <td>-255.0</td>\n",
       "      <td>0</td>\n",
       "      <td>7</td>\n",
       "      <td>2025-07</td>\n",
       "      <td>2025</td>\n",
       "    </tr>\n",
       "    <tr>\n",
       "      <th>2998</th>\n",
       "      <td>closed</td>\n",
       "      <td>EURUSD</td>\n",
       "      <td>buy</td>\n",
       "      <td>100000</td>\n",
       "      <td>2025-07-14 08:04:00</td>\n",
       "      <td>1.16724</td>\n",
       "      <td>2025-07-14 08:05:00</td>\n",
       "      <td>1.16745</td>\n",
       "      <td>0</td>\n",
       "      <td>0</td>\n",
       "      <td>...</td>\n",
       "      <td>14.0</td>\n",
       "      <td>734.0</td>\n",
       "      <td>10734.0</td>\n",
       "      <td>3237.0</td>\n",
       "      <td>-2503.0</td>\n",
       "      <td>-255.0</td>\n",
       "      <td>0</td>\n",
       "      <td>8</td>\n",
       "      <td>2025-07</td>\n",
       "      <td>2025</td>\n",
       "    </tr>\n",
       "    <tr>\n",
       "      <th>2999</th>\n",
       "      <td>closed</td>\n",
       "      <td>EURUSD</td>\n",
       "      <td>buy</td>\n",
       "      <td>100000</td>\n",
       "      <td>2025-07-14 08:11:00</td>\n",
       "      <td>1.16759</td>\n",
       "      <td>2025-07-14 08:13:00</td>\n",
       "      <td>1.16755</td>\n",
       "      <td>0</td>\n",
       "      <td>0</td>\n",
       "      <td>...</td>\n",
       "      <td>-11.0</td>\n",
       "      <td>723.0</td>\n",
       "      <td>10723.0</td>\n",
       "      <td>3237.0</td>\n",
       "      <td>-2514.0</td>\n",
       "      <td>-255.0</td>\n",
       "      <td>0</td>\n",
       "      <td>8</td>\n",
       "      <td>2025-07</td>\n",
       "      <td>2025</td>\n",
       "    </tr>\n",
       "  </tbody>\n",
       "</table>\n",
       "<p>3000 rows × 23 columns</p>\n",
       "</div>"
      ],
      "text/plain": [
       "       state  symbol order_type  volume           open_time open_price  \\\n",
       "0     closed  EURUSD        buy  100000 2025-06-02 01:03:00    1.13512   \n",
       "1     closed  EURUSD        buy  100000 2025-06-02 01:18:00    1.13548   \n",
       "2     closed  EURUSD        buy  100000 2025-06-02 01:19:00    1.13565   \n",
       "3     closed  EURUSD        buy  100000 2025-06-02 01:26:00    1.13517   \n",
       "4     closed  EURUSD        buy  100000 2025-06-02 02:02:00     1.1355   \n",
       "...      ...     ...        ...     ...                 ...        ...   \n",
       "2995  closed  EURUSD        buy  100000 2025-07-14 07:35:00    1.16775   \n",
       "2996  closed  EURUSD        buy  100000 2025-07-14 07:39:00    1.16791   \n",
       "2997  closed  EURUSD        buy  100000 2025-07-14 07:40:00    1.16805   \n",
       "2998  closed  EURUSD        buy  100000 2025-07-14 08:04:00    1.16724   \n",
       "2999  closed  EURUSD        buy  100000 2025-07-14 08:11:00    1.16759   \n",
       "\n",
       "              close_time close_price sl tp  ... profit_net  profit_cumulative  \\\n",
       "0    2025-06-02 01:05:00      1.1352  0  0  ...        1.0                1.0   \n",
       "1    2025-06-02 01:26:00     1.13517  0  0  ...      -38.0              -37.0   \n",
       "2    2025-06-02 01:44:00     1.13485  0  0  ...      -87.0             -124.0   \n",
       "3    2025-06-02 01:46:00     1.13504  0  0  ...      -20.0             -144.0   \n",
       "4    2025-06-02 02:21:00     1.13561  0  0  ...        4.0             -140.0   \n",
       "...                  ...         ... .. ..  ...        ...                ...   \n",
       "2995 2025-07-14 07:39:00     1.16791  0  0  ...        9.0              758.0   \n",
       "2996 2025-07-14 07:44:00     1.16791  0  0  ...       -7.0              751.0   \n",
       "2997 2025-07-14 07:45:00     1.16781  0  0  ...      -31.0              720.0   \n",
       "2998 2025-07-14 08:05:00     1.16745  0  0  ...       14.0              734.0   \n",
       "2999 2025-07-14 08:13:00     1.16755  0  0  ...      -11.0              723.0   \n",
       "\n",
       "      balance current_max drawdown drawdown1  dayofweek hourofday    month  \\\n",
       "0     10001.0         1.0      0.0    -255.0          0         1  2025-06   \n",
       "1      9963.0         1.0    -38.0    -255.0          0         1  2025-06   \n",
       "2      9876.0         1.0   -125.0    -255.0          0         1  2025-06   \n",
       "3      9856.0         1.0   -145.0    -255.0          0         1  2025-06   \n",
       "4      9860.0         1.0   -141.0    -255.0          0         2  2025-06   \n",
       "...       ...         ...      ...       ...        ...       ...      ...   \n",
       "2995  10758.0      3237.0  -2479.0    -255.0          0         7  2025-07   \n",
       "2996  10751.0      3237.0  -2486.0    -255.0          0         7  2025-07   \n",
       "2997  10720.0      3237.0  -2517.0    -255.0          0         7  2025-07   \n",
       "2998  10734.0      3237.0  -2503.0    -255.0          0         8  2025-07   \n",
       "2999  10723.0      3237.0  -2514.0    -255.0          0         8  2025-07   \n",
       "\n",
       "      year  \n",
       "0     2025  \n",
       "1     2025  \n",
       "2     2025  \n",
       "3     2025  \n",
       "4     2025  \n",
       "...    ...  \n",
       "2995  2025  \n",
       "2996  2025  \n",
       "2997  2025  \n",
       "2998  2025  \n",
       "2999  2025  \n",
       "\n",
       "[3000 rows x 23 columns]"
      ]
     },
     "metadata": {},
     "output_type": "display_data"
    },
    {
     "ename": "ValueError",
     "evalue": "Plotly Express cannot process wide-form data with columns of different type.",
     "output_type": "error",
     "traceback": [
      "\u001b[1;31m---------------------------------------------------------------------------\u001b[0m",
      "\u001b[1;31mValueError\u001b[0m                                Traceback (most recent call last)",
      "Cell \u001b[1;32mIn[60], line 1\u001b[0m\n\u001b[1;32m----> 1\u001b[0m \u001b[43mevaluate_backtest\u001b[49m\u001b[43m(\u001b[49m\u001b[43mbt\u001b[49m\u001b[38;5;241;43m.\u001b[39;49m\u001b[43mtrades\u001b[49m\u001b[43m)\u001b[49m\n",
      "File \u001b[1;32mc:\\Users\\hp\\python_finance_market_projects\\backtest.py:405\u001b[0m, in \u001b[0;36mevaluate_backtest\u001b[1;34m(df_og)\u001b[0m\n\u001b[0;32m    402\u001b[0m df[\u001b[38;5;124m'\u001b[39m\u001b[38;5;124mdrawdown\u001b[39m\u001b[38;5;124m'\u001b[39m] \u001b[38;5;241m=\u001b[39m df[\u001b[38;5;124m'\u001b[39m\u001b[38;5;124mprofit_cumulative\u001b[39m\u001b[38;5;124m'\u001b[39m] \u001b[38;5;241m-\u001b[39m df[\u001b[38;5;124m'\u001b[39m\u001b[38;5;124mcurrent_max\u001b[39m\u001b[38;5;124m'\u001b[39m]\n\u001b[0;32m    403\u001b[0m display(df)\n\u001b[1;32m--> 405\u001b[0m fig_drawdown \u001b[38;5;241m=\u001b[39m \u001b[43mpx\u001b[49m\u001b[38;5;241;43m.\u001b[39;49m\u001b[43mline\u001b[49m\u001b[43m(\u001b[49m\u001b[43mdf\u001b[49m\u001b[43m,\u001b[49m\u001b[43m \u001b[49m\u001b[43mx\u001b[49m\u001b[38;5;241;43m=\u001b[39;49m\u001b[38;5;124;43m'\u001b[39;49m\u001b[38;5;124;43mclose_time\u001b[39;49m\u001b[38;5;124;43m'\u001b[39;49m\u001b[43m,\u001b[49m\u001b[43m \u001b[49m\u001b[43my\u001b[49m\u001b[38;5;241;43m=\u001b[39;49m\u001b[43m[\u001b[49m\u001b[38;5;124;43m'\u001b[39;49m\u001b[38;5;124;43mprofit_cumulative\u001b[39;49m\u001b[38;5;124;43m'\u001b[39;49m\u001b[43m,\u001b[49m\u001b[43m \u001b[49m\u001b[38;5;124;43m'\u001b[39;49m\u001b[38;5;124;43mcurrent_max\u001b[39;49m\u001b[38;5;124;43m'\u001b[39;49m\u001b[43m]\u001b[49m\u001b[43m,\u001b[49m\u001b[43m \u001b[49m\u001b[43mtitle\u001b[49m\u001b[38;5;241;43m=\u001b[39;49m\u001b[38;5;124;43m'\u001b[39;49m\u001b[38;5;124;43mpnl curve\u001b[39;49m\u001b[38;5;124;43m'\u001b[39;49m\u001b[43m)\u001b[49m\n\u001b[0;32m    406\u001b[0m \u001b[38;5;66;03m#display(fig_drawdown)\u001b[39;00m\n\u001b[0;32m    408\u001b[0m fig_drawdown2 \u001b[38;5;241m=\u001b[39m px\u001b[38;5;241m.\u001b[39mline(df, x\u001b[38;5;241m=\u001b[39m\u001b[38;5;124m'\u001b[39m\u001b[38;5;124mclose_time\u001b[39m\u001b[38;5;124m'\u001b[39m, y\u001b[38;5;241m=\u001b[39m\u001b[38;5;124m'\u001b[39m\u001b[38;5;124mdrawdown\u001b[39m\u001b[38;5;124m'\u001b[39m, title\u001b[38;5;241m=\u001b[39m\u001b[38;5;124m'\u001b[39m\u001b[38;5;124mdrawdown curve\u001b[39m\u001b[38;5;124m'\u001b[39m)\n",
      "File \u001b[1;32mc:\\Users\\hp\\python_finance_market_projects\\.venv\\Lib\\site-packages\\plotly\\express\\_chart_types.py:270\u001b[0m, in \u001b[0;36mline\u001b[1;34m(data_frame, x, y, line_group, color, line_dash, symbol, hover_name, hover_data, custom_data, text, facet_row, facet_col, facet_col_wrap, facet_row_spacing, facet_col_spacing, error_x, error_x_minus, error_y, error_y_minus, animation_frame, animation_group, category_orders, labels, orientation, color_discrete_sequence, color_discrete_map, line_dash_sequence, line_dash_map, symbol_sequence, symbol_map, markers, log_x, log_y, range_x, range_y, line_shape, render_mode, title, subtitle, template, width, height)\u001b[0m\n\u001b[0;32m    221\u001b[0m \u001b[38;5;28;01mdef\u001b[39;00m\u001b[38;5;250m \u001b[39m\u001b[38;5;21mline\u001b[39m(\n\u001b[0;32m    222\u001b[0m     data_frame\u001b[38;5;241m=\u001b[39m\u001b[38;5;28;01mNone\u001b[39;00m,\n\u001b[0;32m    223\u001b[0m     x\u001b[38;5;241m=\u001b[39m\u001b[38;5;28;01mNone\u001b[39;00m,\n\u001b[1;32m   (...)\u001b[0m\n\u001b[0;32m    264\u001b[0m     height\u001b[38;5;241m=\u001b[39m\u001b[38;5;28;01mNone\u001b[39;00m,\n\u001b[0;32m    265\u001b[0m ) \u001b[38;5;241m-\u001b[39m\u001b[38;5;241m>\u001b[39m go\u001b[38;5;241m.\u001b[39mFigure:\n\u001b[0;32m    266\u001b[0m \u001b[38;5;250m    \u001b[39m\u001b[38;5;124;03m\"\"\"\u001b[39;00m\n\u001b[0;32m    267\u001b[0m \u001b[38;5;124;03m    In a 2D line plot, each row of `data_frame` is represented as a vertex of\u001b[39;00m\n\u001b[0;32m    268\u001b[0m \u001b[38;5;124;03m    a polyline mark in 2D space.\u001b[39;00m\n\u001b[0;32m    269\u001b[0m \u001b[38;5;124;03m    \"\"\"\u001b[39;00m\n\u001b[1;32m--> 270\u001b[0m     \u001b[38;5;28;01mreturn\u001b[39;00m \u001b[43mmake_figure\u001b[49m\u001b[43m(\u001b[49m\u001b[43margs\u001b[49m\u001b[38;5;241;43m=\u001b[39;49m\u001b[38;5;28;43mlocals\u001b[39;49m\u001b[43m(\u001b[49m\u001b[43m)\u001b[49m\u001b[43m,\u001b[49m\u001b[43m \u001b[49m\u001b[43mconstructor\u001b[49m\u001b[38;5;241;43m=\u001b[39;49m\u001b[43mgo\u001b[49m\u001b[38;5;241;43m.\u001b[39;49m\u001b[43mScatter\u001b[49m\u001b[43m)\u001b[49m\n",
      "File \u001b[1;32mc:\\Users\\hp\\python_finance_market_projects\\.venv\\Lib\\site-packages\\plotly\\express\\_core.py:2477\u001b[0m, in \u001b[0;36mmake_figure\u001b[1;34m(args, constructor, trace_patch, layout_patch)\u001b[0m\n\u001b[0;32m   2474\u001b[0m layout_patch \u001b[38;5;241m=\u001b[39m layout_patch \u001b[38;5;129;01mor\u001b[39;00m {}\n\u001b[0;32m   2475\u001b[0m apply_default_cascade(args)\n\u001b[1;32m-> 2477\u001b[0m args \u001b[38;5;241m=\u001b[39m \u001b[43mbuild_dataframe\u001b[49m\u001b[43m(\u001b[49m\u001b[43margs\u001b[49m\u001b[43m,\u001b[49m\u001b[43m \u001b[49m\u001b[43mconstructor\u001b[49m\u001b[43m)\u001b[49m\n\u001b[0;32m   2478\u001b[0m \u001b[38;5;28;01mif\u001b[39;00m constructor \u001b[38;5;129;01min\u001b[39;00m [go\u001b[38;5;241m.\u001b[39mTreemap, go\u001b[38;5;241m.\u001b[39mSunburst, go\u001b[38;5;241m.\u001b[39mIcicle] \u001b[38;5;129;01mand\u001b[39;00m args[\u001b[38;5;124m\"\u001b[39m\u001b[38;5;124mpath\u001b[39m\u001b[38;5;124m\"\u001b[39m] \u001b[38;5;129;01mis\u001b[39;00m \u001b[38;5;129;01mnot\u001b[39;00m \u001b[38;5;28;01mNone\u001b[39;00m:\n\u001b[0;32m   2479\u001b[0m     args \u001b[38;5;241m=\u001b[39m process_dataframe_hierarchy(args)\n",
      "File \u001b[1;32mc:\\Users\\hp\\python_finance_market_projects\\.venv\\Lib\\site-packages\\plotly\\express\\_core.py:1779\u001b[0m, in \u001b[0;36mbuild_dataframe\u001b[1;34m(args, constructor)\u001b[0m\n\u001b[0;32m   1777\u001b[0m         dtype \u001b[38;5;241m=\u001b[39m v_dtype\n\u001b[0;32m   1778\u001b[0m     \u001b[38;5;28;01melif\u001b[39;00m dtype \u001b[38;5;241m!=\u001b[39m v_dtype:\n\u001b[1;32m-> 1779\u001b[0m         \u001b[38;5;28;01mraise\u001b[39;00m \u001b[38;5;167;01mValueError\u001b[39;00m(\n\u001b[0;32m   1780\u001b[0m             \u001b[38;5;124m\"\u001b[39m\u001b[38;5;124mPlotly Express cannot process wide-form data with columns of different type.\u001b[39m\u001b[38;5;124m\"\u001b[39m\n\u001b[0;32m   1781\u001b[0m         )\n\u001b[0;32m   1782\u001b[0m df_output \u001b[38;5;241m=\u001b[39m df_output\u001b[38;5;241m.\u001b[39munpivot(\n\u001b[0;32m   1783\u001b[0m     index\u001b[38;5;241m=\u001b[39mwide_id_vars,\n\u001b[0;32m   1784\u001b[0m     on\u001b[38;5;241m=\u001b[39mwide_value_vars,\n\u001b[0;32m   1785\u001b[0m     variable_name\u001b[38;5;241m=\u001b[39mvar_name,\n\u001b[0;32m   1786\u001b[0m     value_name\u001b[38;5;241m=\u001b[39mvalue_name,\n\u001b[0;32m   1787\u001b[0m )\n\u001b[0;32m   1788\u001b[0m \u001b[38;5;28;01massert\u001b[39;00m \u001b[38;5;28mlen\u001b[39m(df_output\u001b[38;5;241m.\u001b[39mcolumns) \u001b[38;5;241m==\u001b[39m \u001b[38;5;28mlen\u001b[39m(\u001b[38;5;28mset\u001b[39m(df_output\u001b[38;5;241m.\u001b[39mcolumns)), (\n\u001b[0;32m   1789\u001b[0m     \u001b[38;5;124m\"\u001b[39m\u001b[38;5;124mWide-mode name-inference failure, likely due to a internal bug. \u001b[39m\u001b[38;5;124m\"\u001b[39m\n\u001b[0;32m   1790\u001b[0m     \u001b[38;5;124m\"\u001b[39m\u001b[38;5;124mPlease report this to \u001b[39m\u001b[38;5;124m\"\u001b[39m\n\u001b[0;32m   1791\u001b[0m     \u001b[38;5;124m\"\u001b[39m\u001b[38;5;124mhttps://github.com/plotly/plotly.py/issues/new and we will try to \u001b[39m\u001b[38;5;124m\"\u001b[39m\n\u001b[0;32m   1792\u001b[0m     \u001b[38;5;124m\"\u001b[39m\u001b[38;5;124mreplicate and fix it.\u001b[39m\u001b[38;5;124m\"\u001b[39m\n\u001b[0;32m   1793\u001b[0m )\n",
      "\u001b[1;31mValueError\u001b[0m: Plotly Express cannot process wide-form data with columns of different type."
     ]
    }
   ],
   "source": [
    "evaluate_backtest(bt.trades)"
   ]
  }
 ],
 "metadata": {
  "kernelspec": {
   "display_name": ".venv",
   "language": "python",
   "name": "python3"
  },
  "language_info": {
   "codemirror_mode": {
    "name": "ipython",
    "version": 3
   },
   "file_extension": ".py",
   "mimetype": "text/x-python",
   "name": "python",
   "nbconvert_exporter": "python",
   "pygments_lexer": "ipython3",
   "version": "3.12.1"
  }
 },
 "nbformat": 4,
 "nbformat_minor": 5
}
