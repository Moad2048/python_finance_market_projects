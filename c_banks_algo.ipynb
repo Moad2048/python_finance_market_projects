{
 "cells": [
  {
   "cell_type": "code",
   "execution_count": null,
   "id": "e2fea34d",
   "metadata": {},
   "outputs": [
    {
     "ename": "",
     "evalue": "",
     "output_type": "error",
     "traceback": [
      "\u001b[1;31mFailed to start the Kernel. \n",
      "\u001b[1;31mUnable to start Kernel 'moad_lib (Python 3.12.1)' due to a timeout waiting for the ports to get used. \n",
      "\u001b[1;31mView Jupyter <a href='command:jupyter.viewOutput'>log</a> for further details."
     ]
    }
   ],
   "source": [
    "from sklearn.linear_model import LinearRegression\n",
    "from sklearn.metrics import mean_squared_error, r2_score\n",
    "from sklearn.model_selection import train_test_split\n",
    "\n",
    "import yfinance as yf\n",
    "import MetaTrader5 as mt5 #mt5 to access historcal data\n",
    "import pandas as pd # for data analysis and calculation of technical indcator\n",
    "import pandas_ta as ta\n",
    "import numpy as np\n",
    "import plotly.io as pio\n",
    "import plotly.express as px # for data visualization\n",
    "import plotly.graph_objects as go\n",
    "import tdclient as TDClient\n",
    "from datetime import datetime, time ,timezone #to specify the date time range for historical data\n",
    "from IPython.display import display, Markdown, Latex # to display result in python notebook\n",
    "from backtest import Backtester, get_ohlc_history, create_price_fig, evaluate_backtest"
   ]
  },
  {
   "cell_type": "code",
   "execution_count": null,
   "id": "9b2e0fa8",
   "metadata": {},
   "outputs": [],
   "source": [
    "# Conecte mt5\n",
    "mt5.initialize()\n",
    "# logine mt5\n",
    "login = 52185665\n",
    "password = '3cAJz$AQiKwMq0'\n",
    "server = 'ICMarketsSC-Demo'\n",
    "\n",
    "mt5.login(login,password,server)"
   ]
  },
  {
   "cell_type": "code",
   "execution_count": null,
   "id": "43d573c5",
   "metadata": {},
   "outputs": [],
   "source": [
    "# this function retreives olhc data from mt5 account and return a data frame\n",
    "def get_ohlc(symbol, timeframe, start_datetime, end_datetime):\n",
    "    ohlc = mt5.copy_rates_range(symbol, timeframe, start_datetime, end_datetime)\n",
    "    df = pd.DataFrame(ohlc)\n",
    "    df['time'] = pd.to_datetime(df['time'], unit= 's')\n",
    "    return df"
   ]
  },
  {
   "cell_type": "code",
   "execution_count": null,
   "id": "48fd76d3",
   "metadata": {},
   "outputs": [],
   "source": [
    "# 1 minut df\n",
    "symbol = 'EURUSD'\n",
    "pos_size = 1\n",
    "timeframe = mt5.TIMEFRAME_M1\n",
    "start_datetime = datetime(2025,6,1)\n",
    "end_datetime = datetime.now()\n",
    "df = get_ohlc(symbol, timeframe, start_datetime, end_datetime)\n",
    "df"
   ]
  },
  {
   "cell_type": "code",
   "execution_count": null,
   "id": "6141914c",
   "metadata": {},
   "outputs": [],
   "source": [
    "spread_threshold = 5  # in points\n",
    "atr_period = 14\n",
    "\n",
    "# Calculate metrics\n",
    "#df['spread'] = (df['ask'] - df['bid']) * 10000  # Convert to pips\n",
    "df['vwap'] = (df['close'] * df['tick_volume']).cumsum() / df['tick_volume'].cumsum()\n",
    "df['atr'] = df[['high', 'low', 'close']].apply(\n",
    "    lambda row: max(row['high'] - row['low'],\n",
    "                    abs(row['high'] - row['close']),\n",
    "                    abs(row['low'] - row['close'])),\n",
    "    axis=1\n",
    ")\n",
    "df['atr'] = df['atr'].rolling(atr_period).mean()\n",
    "\n",
    "# Strategy condition\n",
    "df['volume_percentile'] = df['tick_volume'].rolling(atr_period).apply(\n",
    "    lambda x: np.percentile(x, 75), raw=True\n",
    ")\n",
    "df"
   ]
  },
  {
   "cell_type": "code",
   "execution_count": null,
   "id": "e69ddad1",
   "metadata": {},
   "outputs": [],
   "source": [
    "df['high'] = df['high'].shift(1)"
   ]
  },
  {
   "cell_type": "code",
   "execution_count": null,
   "id": "8517468f",
   "metadata": {},
   "outputs": [],
   "source": [
    "def entring_stoploss_profit(row, df) :\n",
    "    if (row['spread'] < spread_threshold) & (row['close'] > row['vwap']) &  (row['tick_volume'] > row['volume_percentile']) &(row['close'] > row['high']):\n",
    "        return \"buy\"\n",
    "    #elif :\n",
    "        #return \"sell\"\n",
    "df[\"signal\"] = df.apply(entring_stoploss_profit, axis=1, df = df)\n",
    "\n",
    "# Tag first signal per day in original merged_df\n",
    "#df['is_first_signal'] = (df[df[\"signal\"].notna()].groupby(df[\"time\"].dt.date).cumcount() == 0)\n",
    "\n",
    "# Set signal only on the first row per day, others = None\n",
    "#df['signal'] = df.apply(lambda row: row['signal'] if row['is_first_signal'] else None, axis=1)\n",
    "df[['signal', 'time']].dropna()"
   ]
  },
  {
   "cell_type": "code",
   "execution_count": null,
   "id": "7809ceda",
   "metadata": {},
   "outputs": [],
   "source": [
    "pd.options.mode.copy_on_write = True\n",
    "# create trade logic\n",
    "def on_bar(data, trades, orders):\n",
    "    data['stop_loss'] = data['close'] - data['atr']\n",
    "    data['take_profit'] = data['close'] + 2 * data['atr']\n",
    "    open_trades = trades[trades['state'] == 'open']\n",
    "    num_open_trades = open_trades.shape[0]\n",
    "    account_balance = 10000  # your account in USD\n",
    "    risk_percent = 0.20  # 2%\n",
    "    pip_value_per_lot = 10  # on EURUSD, 1 lot = $10 per pip\n",
    "    risk_amount = account_balance * risk_percent\n",
    "    # entry signal\n",
    "    if data['signal'] == 'buy': #and not num_open_trades:\n",
    "        volume = 100000 #risk_amount / (stop_loss_pips * pip_value_per_lot)\n",
    "        orders.open_trade(symbol, volume, 'buy')\n",
    "    \n",
    "    elif data['signal'] == 'sell': #and not num_open_trades:\n",
    "        volume = 100000 #risk_amount / (stop_loss_pips * pip_value_per_lot)\n",
    "        orders.open_trade(symbol, volume, 'sell')\n",
    "        \n",
    "# exit signal\n",
    "    if num_open_trades:\n",
    "        trade = open_trades.iloc[0]\n",
    "\n",
    "        if trade['order_type'] == 'buy' and (data['high'] >= data['take_profit']) | (data['low'] <= data['stop_loss']):\n",
    "            orders.close_trade(trade)\n",
    "        elif trade['order_type'] == 'sell' :\n",
    "            orders.close_trade(trade)"
   ]
  },
  {
   "cell_type": "code",
   "execution_count": null,
   "id": "99cb5aa8",
   "metadata": {},
   "outputs": [],
   "source": [
    "# backtest parameters\n",
    "starting_balance = 10000\n",
    "currency = 'USD'\n",
    "exchange_rate = 1\n",
    "commission = -7 / 100000\n",
    "\n",
    "# backtest\n",
    "bt = Backtester()\n",
    "bt.set_starting_balance(starting_balance, currency=currency)\n",
    "bt.set_exchange_rate(exchange_rate)\n",
    "bt.set_commission(commission)\n",
    "\n",
    "bt.set_historical_data(df)\n",
    "bt.set_on_bar(on_bar)\n",
    "\n",
    "get_ohlc_history(symbol, timeframe, start_datetime, end_datetime)\n",
    "bt.run_backtest()\n",
    "\n",
    "bt.trades\n"
   ]
  },
  {
   "cell_type": "code",
   "execution_count": null,
   "id": "68ca610f",
   "metadata": {},
   "outputs": [],
   "source": [
    "mm = bt.plot_balance()\n",
    "display(mm)"
   ]
  },
  {
   "cell_type": "code",
   "execution_count": null,
   "id": "4528a7b5",
   "metadata": {},
   "outputs": [],
   "source": [
    "evaluate_backtest(bt.trades)"
   ]
  }
 ],
 "metadata": {
  "kernelspec": {
   "display_name": "moad_lib",
   "language": "python",
   "name": "python3"
  },
  "language_info": {
   "codemirror_mode": {
    "name": "ipython",
    "version": 3
   },
   "file_extension": ".py",
   "mimetype": "text/x-python",
   "name": "python",
   "nbconvert_exporter": "python",
   "pygments_lexer": "ipython3",
   "version": "3.12.1"
  }
 },
 "nbformat": 4,
 "nbformat_minor": 5
}
