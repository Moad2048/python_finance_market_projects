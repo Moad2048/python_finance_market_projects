{
 "cells": [
  {
   "cell_type": "code",
   "execution_count": null,
   "metadata": {},
   "outputs": [],
   "source": [
    "import yfinance as yf\n",
    "import MetaTrader5 as mt5\n",
    "import pandas as pd\n",
    "import numpy as np\n",
    "import plotly.graph_objects as go\n",
    "from datetime import datetime, timedelta, time, timezone\n",
    "from IPython.display import display\n",
    "import plotly.express as px\n",
    "import tdclient as TDClient"
   ]
  },
  {
   "cell_type": "code",
   "execution_count": 2,
   "metadata": {},
   "outputs": [
    {
     "name": "stderr",
     "output_type": "stream",
     "text": [
      "[*********************100%***********************]  1 of 1 completed\n",
      "[*********************100%***********************]  1 of 1 completed\n",
      "[*********************100%***********************]  1 of 1 completed\n"
     ]
    }
   ],
   "source": [
    "df = yf.download('EURUSD=X', start='2025-01-01', interval= '30m')\n",
    "hourly_df = yf.download('EURUSD=X', start='2025-01-01', interval= '1h')\n",
    "daily_df = yf.download('EURUSD=X', start='2025-01-01', interval= '1d')"
   ]
  },
  {
   "cell_type": "code",
   "execution_count": null,
   "metadata": {},
   "outputs": [],
   "source": [
    "ohlc_df = pd.DataFrame(df)\n",
    "hourly_df = pd.DataFrame(hourly_df)\n",
    "daily_df = pd.DataFrame(daily_df)\n",
    "ohlc_df"
   ]
  },
  {
   "cell_type": "code",
   "execution_count": null,
   "metadata": {},
   "outputs": [],
   "source": [
    "hourly_df"
   ]
  },
  {
   "cell_type": "code",
   "execution_count": null,
   "metadata": {},
   "outputs": [],
   "source": [
    "daily_df"
   ]
  },
  {
   "cell_type": "code",
   "execution_count": null,
   "metadata": {},
   "outputs": [],
   "source": [
    "ohlc_df[\"pivot\"] = (daily_df[\"High\"] + daily_df[\"Low\"] + daily_df[\"Close\"]) / 3\n",
    "ohlc_df[\"prange\"] = (daily_df[\"High\"] - daily_df[\"Low\"])\n",
    "ohlc_df[\"R1\"] = daily_df[\"pivot\"] + 0.382 * daily_df[\"prange\"]\n",
    "ohlc_df[\"R2\"] = daily_df[\"pivot\"] + 0.618 * daily_df[\"prange\"]\n",
    "ohlc_df[\"R3\"] = daily_df[\"pivot\"] + 1.000 * daily_df[\"prange\"]\n",
    "\n",
    "ohlc_df[\"S1\"] = daily_df[\"pivot\"] - 0.382 * daily_df[\"prange\"]\n",
    "ohlc_df[\"S2\"] = daily_df[\"pivot\"] - 0.618 * daily_df[\"prange\"]\n",
    "ohlc_df[\"S3\"] = daily_df[\"pivot\"] - 1.000 * daily_df[\"prange\"]\n",
    "ohlc_df"
   ]
  },
  {
   "cell_type": "code",
   "execution_count": null,
   "metadata": {},
   "outputs": [],
   "source": [
    "furst_sma_period = 1\n",
    "second_sma_period = 14\n",
    "# sma 1\n",
    "ohlc_df['sma_1'] = hourly_df['Close'].rolling(furst_sma_period).mean()\n",
    "ohlc_df['prev_sma_1'] = ohlc_df['sma_1'].shift(1) #to find crossovers, previous sma value is necessary using shift()\n",
    "# sma 14\n",
    "ohlc_df['sma_14'] = hourly_df['Close'].rolling(second_sma_period).mean()\n",
    "#setting the 11 and 114 sma periods\n",
    "thurd_sma_period = 1\n",
    "fourth_sma_period = 14\n",
    "# sma 11\n",
    "ohlc_df['sma_11'] = daily_df['Close'].rolling(thurd_sma_period).mean()\n",
    "ohlc_df['prev_sma_11'] = ohlc_df['sma_11'].shift(1) #to find crossovers, previous sma value is necessary using shift()\n",
    "# sma 114\n",
    "ohlc_df['sma_114'] = daily_df['Close'].rolling(fourth_sma_period).mean()\n",
    "ohlc_df"
   ]
  },
  {
   "cell_type": "code",
   "execution_count": null,
   "metadata": {},
   "outputs": [],
   "source": [
    "#setting entring and closing time and one trade a day\n",
    "# Set the start and end times for your desired trading hours\n",
    "start_time = datetime.strptime('06:00:00', '%H:%M:%S').time()\n",
    "end_time = datetime.strptime('15:00:00', '%H:%M:%S').time()\n",
    "\n",
    "# Filter the trade data for trades within the specified trading hours\n",
    "trades_within_hours = ohlc_df[(ohlc_df.index.time >= start_time) & (ohlc_df.index.time <= end_time)]\n",
    "\n",
    "# Close all open positions at 11:45 PM\n",
    "first_trade_per_day = daily_df.groupby(daily_df.index.time).first()\n",
    "end_trading_time = datetime.strptime('23:45:00', '%H:%M:%S').time()\n",
    "open_positions = trades_within_hours[trades_within_hours.index.time == end_trading_time]\n",
    "# function to trading\n",
    "daily_df[\"sell_stope_loss\"] = (daily_df[\"R2\"] - daily_df[\"S1\"]) /2 + daily_df[\"R2\"]\n",
    "daily_df[\"buy_stope_loss\"] = (daily_df[\"R1\"] - daily_df[\"S2\"]) /2 - daily_df[\"S2\"]\n",
    "daily_df"
   ]
  },
  {
   "cell_type": "code",
   "execution_count": null,
   "metadata": {},
   "outputs": [],
   "source": [
    "if daily_df[\"High\"] >= daily_df[\"R2\"] and open_positions and first_trade_per_day and ohlc_df['sma_11'] < ohlc_df['sma_114']:\n",
    "    print(\"sell\")\n",
    "if daily_df[\"Low\"] <= daily_df[\"S2\"] and open_positions and first_trade_per_day and ohlc_df['sma_11'] > ohlc_df['sma_114']:\n",
    "    print(\"buy\")\n",
    "if daily_df['Low'] <= daily_df[\"S1\"]:\n",
    "    print(\"sell_take_profit\")\n",
    "if daily_df['High'] >= daily_df[\"R1\"]:\n",
    "    print(\"buy_take_profit\")\n",
    "if daily_df[\"High\"] >= daily_df[\"sell_stope_loss\"]:\n",
    "    print(\"sell_stope_loss\")\n",
    "if daily_df[\"Low\"] <= daily_df[\"buy_stope_loss\"]:\n",
    "    print(\"buy_stope_loss\")"
   ]
  }
 ],
 "metadata": {
  "kernelspec": {
   "display_name": ".venv",
   "language": "python",
   "name": "python3"
  },
  "language_info": {
   "codemirror_mode": {
    "name": "ipython",
    "version": 3
   },
   "file_extension": ".py",
   "mimetype": "text/x-python",
   "name": "python",
   "nbconvert_exporter": "python",
   "pygments_lexer": "ipython3",
   "version": "3.12.1"
  }
 },
 "nbformat": 4,
 "nbformat_minor": 2
}
