{
 "cells": [
  {
   "cell_type": "code",
   "execution_count": 2,
   "id": "790310fc",
   "metadata": {},
   "outputs": [],
   "source": [
    "import MetaTrader5 as mt5\n",
    "import numpy as np\n",
    "import pandas as pd\n",
    "from datetime import datetime\n",
    "from  backtest import Backtester,  get_ohlc_history, create_price_fig, evaluate_backtest"
   ]
  },
  {
   "cell_type": "code",
   "execution_count": 3,
   "id": "b5e9f06e",
   "metadata": {},
   "outputs": [
    {
     "data": {
      "text/plain": [
       "True"
      ]
     },
     "execution_count": 3,
     "metadata": {},
     "output_type": "execute_result"
    }
   ],
   "source": [
    "# Conecte mt5\n",
    "mt5.initialize()\n",
    "# logine mt5\n",
    "login = 52185665\n",
    "password = '3cAJz$AQiKwMq0'\n",
    "server = 'ICMarketsSC-Demo'\n",
    "\n",
    "mt5.login(login,password,server)"
   ]
  },
  {
   "cell_type": "code",
   "execution_count": 4,
   "id": "684ca224",
   "metadata": {},
   "outputs": [],
   "source": [
    "# this function retreives olhc data from mt5 account and return a data frame\n",
    "def get_ohlc(symbol, timeframe, start_datetime, end_datetime):\n",
    "    ohlc = mt5.copy_rates_range(symbol, timeframe, start_datetime, end_datetime)\n",
    "    df = pd.DataFrame(ohlc)\n",
    "    df['time'] = pd.to_datetime(df['time'], unit= 's').dt.tz_localize('UTC')\n",
    "    return df"
   ]
  },
  {
   "cell_type": "code",
   "execution_count": 5,
   "id": "b53cec79",
   "metadata": {},
   "outputs": [
    {
     "data": {
      "text/html": [
       "<div>\n",
       "<style scoped>\n",
       "    .dataframe tbody tr th:only-of-type {\n",
       "        vertical-align: middle;\n",
       "    }\n",
       "\n",
       "    .dataframe tbody tr th {\n",
       "        vertical-align: top;\n",
       "    }\n",
       "\n",
       "    .dataframe thead th {\n",
       "        text-align: right;\n",
       "    }\n",
       "</style>\n",
       "<table border=\"1\" class=\"dataframe\">\n",
       "  <thead>\n",
       "    <tr style=\"text-align: right;\">\n",
       "      <th></th>\n",
       "      <th>time</th>\n",
       "      <th>open</th>\n",
       "      <th>high</th>\n",
       "      <th>low</th>\n",
       "      <th>close</th>\n",
       "      <th>tick_volume</th>\n",
       "      <th>spread</th>\n",
       "      <th>real_volume</th>\n",
       "    </tr>\n",
       "  </thead>\n",
       "  <tbody>\n",
       "    <tr>\n",
       "      <th>0</th>\n",
       "      <td>2025-06-02 00:00:00+00:00</td>\n",
       "      <td>1.13463</td>\n",
       "      <td>1.13463</td>\n",
       "      <td>1.13398</td>\n",
       "      <td>1.13398</td>\n",
       "      <td>2</td>\n",
       "      <td>70</td>\n",
       "      <td>0</td>\n",
       "    </tr>\n",
       "    <tr>\n",
       "      <th>1</th>\n",
       "      <td>2025-06-02 00:01:00+00:00</td>\n",
       "      <td>1.13398</td>\n",
       "      <td>1.13398</td>\n",
       "      <td>1.13398</td>\n",
       "      <td>1.13398</td>\n",
       "      <td>1</td>\n",
       "      <td>200</td>\n",
       "      <td>0</td>\n",
       "    </tr>\n",
       "    <tr>\n",
       "      <th>2</th>\n",
       "      <td>2025-06-02 00:02:00+00:00</td>\n",
       "      <td>1.13398</td>\n",
       "      <td>1.13398</td>\n",
       "      <td>1.13398</td>\n",
       "      <td>1.13398</td>\n",
       "      <td>1</td>\n",
       "      <td>200</td>\n",
       "      <td>0</td>\n",
       "    </tr>\n",
       "    <tr>\n",
       "      <th>3</th>\n",
       "      <td>2025-06-02 00:03:00+00:00</td>\n",
       "      <td>1.13398</td>\n",
       "      <td>1.13398</td>\n",
       "      <td>1.13390</td>\n",
       "      <td>1.13390</td>\n",
       "      <td>2</td>\n",
       "      <td>200</td>\n",
       "      <td>0</td>\n",
       "    </tr>\n",
       "    <tr>\n",
       "      <th>4</th>\n",
       "      <td>2025-06-02 00:04:00+00:00</td>\n",
       "      <td>1.13390</td>\n",
       "      <td>1.13390</td>\n",
       "      <td>1.13382</td>\n",
       "      <td>1.13382</td>\n",
       "      <td>2</td>\n",
       "      <td>200</td>\n",
       "      <td>0</td>\n",
       "    </tr>\n",
       "    <tr>\n",
       "      <th>...</th>\n",
       "      <td>...</td>\n",
       "      <td>...</td>\n",
       "      <td>...</td>\n",
       "      <td>...</td>\n",
       "      <td>...</td>\n",
       "      <td>...</td>\n",
       "      <td>...</td>\n",
       "      <td>...</td>\n",
       "    </tr>\n",
       "    <tr>\n",
       "      <th>68993</th>\n",
       "      <td>2025-08-06 23:00:00+00:00</td>\n",
       "      <td>1.16566</td>\n",
       "      <td>1.16587</td>\n",
       "      <td>1.16564</td>\n",
       "      <td>1.16577</td>\n",
       "      <td>49</td>\n",
       "      <td>0</td>\n",
       "      <td>0</td>\n",
       "    </tr>\n",
       "    <tr>\n",
       "      <th>68994</th>\n",
       "      <td>2025-08-06 23:01:00+00:00</td>\n",
       "      <td>1.16576</td>\n",
       "      <td>1.16586</td>\n",
       "      <td>1.16569</td>\n",
       "      <td>1.16586</td>\n",
       "      <td>45</td>\n",
       "      <td>0</td>\n",
       "      <td>0</td>\n",
       "    </tr>\n",
       "    <tr>\n",
       "      <th>68995</th>\n",
       "      <td>2025-08-06 23:02:00+00:00</td>\n",
       "      <td>1.16586</td>\n",
       "      <td>1.16592</td>\n",
       "      <td>1.16586</td>\n",
       "      <td>1.16591</td>\n",
       "      <td>38</td>\n",
       "      <td>0</td>\n",
       "      <td>0</td>\n",
       "    </tr>\n",
       "    <tr>\n",
       "      <th>68996</th>\n",
       "      <td>2025-08-06 23:03:00+00:00</td>\n",
       "      <td>1.16591</td>\n",
       "      <td>1.16591</td>\n",
       "      <td>1.16567</td>\n",
       "      <td>1.16568</td>\n",
       "      <td>34</td>\n",
       "      <td>0</td>\n",
       "      <td>0</td>\n",
       "    </tr>\n",
       "    <tr>\n",
       "      <th>68997</th>\n",
       "      <td>2025-08-06 23:04:00+00:00</td>\n",
       "      <td>1.16568</td>\n",
       "      <td>1.16569</td>\n",
       "      <td>1.16562</td>\n",
       "      <td>1.16565</td>\n",
       "      <td>29</td>\n",
       "      <td>0</td>\n",
       "      <td>0</td>\n",
       "    </tr>\n",
       "  </tbody>\n",
       "</table>\n",
       "<p>68998 rows × 8 columns</p>\n",
       "</div>"
      ],
      "text/plain": [
       "                           time     open     high      low    close  \\\n",
       "0     2025-06-02 00:00:00+00:00  1.13463  1.13463  1.13398  1.13398   \n",
       "1     2025-06-02 00:01:00+00:00  1.13398  1.13398  1.13398  1.13398   \n",
       "2     2025-06-02 00:02:00+00:00  1.13398  1.13398  1.13398  1.13398   \n",
       "3     2025-06-02 00:03:00+00:00  1.13398  1.13398  1.13390  1.13390   \n",
       "4     2025-06-02 00:04:00+00:00  1.13390  1.13390  1.13382  1.13382   \n",
       "...                         ...      ...      ...      ...      ...   \n",
       "68993 2025-08-06 23:00:00+00:00  1.16566  1.16587  1.16564  1.16577   \n",
       "68994 2025-08-06 23:01:00+00:00  1.16576  1.16586  1.16569  1.16586   \n",
       "68995 2025-08-06 23:02:00+00:00  1.16586  1.16592  1.16586  1.16591   \n",
       "68996 2025-08-06 23:03:00+00:00  1.16591  1.16591  1.16567  1.16568   \n",
       "68997 2025-08-06 23:04:00+00:00  1.16568  1.16569  1.16562  1.16565   \n",
       "\n",
       "       tick_volume  spread  real_volume  \n",
       "0                2      70            0  \n",
       "1                1     200            0  \n",
       "2                1     200            0  \n",
       "3                2     200            0  \n",
       "4                2     200            0  \n",
       "...            ...     ...          ...  \n",
       "68993           49       0            0  \n",
       "68994           45       0            0  \n",
       "68995           38       0            0  \n",
       "68996           34       0            0  \n",
       "68997           29       0            0  \n",
       "\n",
       "[68998 rows x 8 columns]"
      ]
     },
     "execution_count": 5,
     "metadata": {},
     "output_type": "execute_result"
    }
   ],
   "source": [
    "# 1 minut df\n",
    "symbol = 'EURUSD'\n",
    "pos_size = 1\n",
    "timeframe = mt5.TIMEFRAME_M1\n",
    "start_datetime = datetime(2025,6,1)\n",
    "end_datetime = datetime.now()\n",
    "df = get_ohlc(symbol, timeframe, start_datetime, end_datetime)\n",
    "#df.set_index(\"time\", inplace=True)\n",
    "#df = df.between_time(\"13:00\", \"16:00\")\n",
    "df"
   ]
  },
  {
   "cell_type": "code",
   "execution_count": 6,
   "id": "858dcede",
   "metadata": {},
   "outputs": [
    {
     "name": "stdout",
     "output_type": "stream",
     "text": [
      "Total trades: 124\n",
      "Win rate: 33.06%\n",
      "Risk-Reward Ratio: 2.43\n",
      "[('win', np.float64(1.13805), np.float64(1.13831)), ('loss', np.float64(1.13723), np.float64(1.13709)), ('loss', np.float64(1.13724), np.float64(1.13697)), ('win', np.float64(1.13713), np.float64(1.1376999999999997)), ('win', np.float64(1.13756), np.float64(1.1377999999999995)), ('loss', np.float64(1.13769), np.float64(1.137555)), ('loss', np.float64(1.13769), np.float64(1.1375450000000003)), ('win', np.float64(1.13784), np.float64(1.1383949999999996)), ('loss', np.float64(1.13837), np.float64(1.138175)), ('win', np.float64(1.13752), np.float64(1.13843)), ('loss', np.float64(1.13821), np.float64(1.13789)), ('loss', np.float64(1.13776), np.float64(1.137385)), ('loss', np.float64(1.13791), np.float64(1.1377549999999998)), ('loss', np.float64(1.13729), np.float64(1.13701)), ('loss', np.float64(1.13676), np.float64(1.13659)), ('win', np.float64(1.13587), np.float64(1.13743)), ('loss', np.float64(1.13644), np.float64(1.1359849999999998)), ('win', np.float64(1.1368), np.float64(1.13836)), ('win', np.float64(1.13762), np.float64(1.1386700000000003)), ('loss', np.float64(1.13831), np.float64(1.1380249999999998)), ('win', np.float64(1.13789), np.float64(1.13879)), ('win', np.float64(1.13828), np.float64(1.1391649999999998)), ('win', np.float64(1.13853), np.float64(1.13994)), ('loss', np.float64(1.13959), np.float64(1.1392700000000002)), ('loss', np.float64(1.14005), np.float64(1.139935)), ('loss', np.float64(1.13933), np.float64(1.13917)), ('win', np.float64(1.1397599999999999), np.float64(1.1406449999999997)), ('win', np.float64(1.14035), np.float64(1.1409349999999998)), ('loss', np.float64(1.13963), np.float64(1.13937)), ('loss', np.float64(1.14558), np.float64(1.14545)), ('win', np.float64(1.1456), np.float64(1.146305)), ('loss', np.float64(1.15764), np.float64(1.1574)), ('win', np.float64(1.15744), np.float64(1.15855)), ('loss', np.float64(1.15938), np.float64(1.1591750000000003)), ('loss', np.float64(1.15913), np.float64(1.1590150000000001)), ('loss', np.float64(1.15916), np.float64(1.15899)), ('loss', np.float64(1.15915), np.float64(1.1590349999999998)), ('loss', np.float64(1.15929), np.float64(1.15909)), ('loss', np.float64(1.15975), np.float64(1.159535)), ('loss', np.float64(1.15889), np.float64(1.158595)), ('win', np.float64(1.1586), np.float64(1.15922)), ('loss', np.float64(1.15958), np.float64(1.159265)), ('loss', np.float64(1.15871), np.float64(1.1583999999999999)), ('win', np.float64(1.15809), np.float64(1.1588100000000001)), ('loss', np.float64(1.15885), np.float64(1.15837)), ('loss', np.float64(1.15876), np.float64(1.158445)), ('loss', np.float64(1.15765), np.float64(1.1572)), ('loss', np.float64(1.1548), np.float64(1.153915)), ('loss', np.float64(1.15339), np.float64(1.152895)), ('win', np.float64(1.15253), np.float64(1.15442)), ('win', np.float64(1.15316), np.float64(1.1545549999999998)), ('win', np.float64(1.15416), np.float64(1.15502)), ('win', np.float64(1.1552), np.float64(1.1557400000000002)), ('loss', np.float64(1.1551), np.float64(1.154945)), ('loss', np.float64(1.15516), np.float64(1.155065)), ('loss', np.float64(1.15493), np.float64(1.1547550000000002)), ('loss', np.float64(1.15493), np.float64(1.15484)), ('loss', np.float64(1.1549800000000001), np.float64(1.154835)), ('loss', np.float64(1.15499), np.float64(1.154885)), ('loss', np.float64(1.15502), np.float64(1.154935)), ('loss', np.float64(1.15685), np.float64(1.1564999999999999)), ('win', np.float64(1.15633), np.float64(1.1564)), ('win', np.float64(1.15638), np.float64(1.1570700000000005)), ('loss', np.float64(1.15592), np.float64(1.155415)), ('loss', np.float64(1.1555), np.float64(1.155275)), ('loss', np.float64(1.15492), np.float64(1.1545)), ('loss', np.float64(1.15572), np.float64(1.155555)), ('loss', np.float64(1.15366), np.float64(1.153105)), ('loss', np.float64(1.15307), np.float64(1.15279)), ('loss', np.float64(1.1519300000000001), np.float64(1.1509300000000002)), ('win', np.float64(1.14721), np.float64(1.14781)), ('win', np.float64(1.14779), np.float64(1.1483450000000004)), ('loss', np.float64(1.14852), np.float64(1.1477849999999998)), ('loss', np.float64(1.14912), np.float64(1.14806)), ('win', np.float64(1.14205), np.float64(1.14252)), ('win', np.float64(1.14208), np.float64(1.1426649999999998)), ('loss', np.float64(1.14241), np.float64(1.14215)), ('win', np.float64(1.14256), np.float64(1.1431150000000003)), ('win', np.float64(1.14292), np.float64(1.1435950000000004)), ('loss', np.float64(1.14329), np.float64(1.14324)), ('win', np.float64(1.14233), np.float64(1.1431550000000001)), ('loss', np.float64(1.143), np.float64(1.14254)), ('loss', np.float64(1.14359), np.float64(1.143345)), ('loss', np.float64(1.14381), np.float64(1.143545)), ('loss', np.float64(1.144), np.float64(1.14388)), ('win', np.float64(1.14389), np.float64(1.14489)), ('loss', np.float64(1.14411), np.float64(1.1436549999999999)), ('loss', np.float64(1.14316), np.float64(1.14257)), ('loss', np.float64(1.14201), np.float64(1.1417)), ('loss', np.float64(1.1412), np.float64(1.1409699999999998)), ('win', np.float64(1.14174), np.float64(1.1420400000000006)), ('loss', np.float64(1.14222), np.float64(1.141915)), ('loss', np.float64(1.14169), np.float64(1.14134)), ('loss', np.float64(1.14248), np.float64(1.1421549999999998)), ('loss', np.float64(1.14186), np.float64(1.141645)), ('win', np.float64(1.14168), np.float64(1.1424599999999998)), ('win', np.float64(1.1418), np.float64(1.142535)), ('win', np.float64(1.1417), np.float64(1.1423899999999998)), ('win', np.float64(1.14218), np.float64(1.142885)), ('loss', np.float64(1.14154), np.float64(1.1410049999999998)), ('loss', np.float64(1.14055), np.float64(1.14005)), ('loss', np.float64(1.15808), np.float64(1.157705)), ('loss', np.float64(1.15656), np.float64(1.1565)), ('loss', np.float64(1.1567), np.float64(1.156425)), ('win', np.float64(1.15799), np.float64(1.1584550000000005)), ('win', np.float64(1.1581299999999999), np.float64(1.1587299999999998)), ('loss', np.float64(1.15862), np.float64(1.15842)), ('loss', np.float64(1.15571), np.float64(1.15568)), ('loss', np.float64(1.15591), np.float64(1.15568)), ('loss', np.float64(1.1539), np.float64(1.1535199999999999)), ('loss', np.float64(1.15394), np.float64(1.15303)), ('loss', np.float64(1.15537), np.float64(1.1547749999999999)), ('loss', np.float64(1.15716), np.float64(1.156785)), ('win', np.float64(1.1573), np.float64(1.15749)), ('loss', np.float64(1.15757), np.float64(1.1573950000000002)), ('loss', np.float64(1.15761), np.float64(1.157395)), ('win', np.float64(1.15787), np.float64(1.1584099999999995)), ('loss', np.float64(1.15771), np.float64(1.157355)), ('loss', np.float64(1.15824), np.float64(1.1579799999999998)), ('win', np.float64(1.1581), np.float64(1.1588049999999999)), ('loss', np.float64(1.15819), np.float64(1.15788)), ('loss', np.float64(1.15773), np.float64(1.1573699999999998)), ('loss', np.float64(1.15786), np.float64(1.15749)), ('loss', np.float64(1.15743), np.float64(1.157165))]\n"
     ]
    }
   ],
   "source": [
    "# === Calculate indicators ===\n",
    "df[\"atr\"] = df[\"high\"].rolling(14).max() - df[\"low\"].rolling(14).min()\n",
    "df[\"vwap\"] = (df[\"close\"] * df[\"tick_volume\"]).cumsum() / df[\"tick_volume\"].cumsum()\n",
    "df[\"volume_spike\"] = df[\"tick_volume\"] > df[\"tick_volume\"].rolling(10).mean() * 1.5\n",
    "\n",
    "# === Signal Generation ===\n",
    "def generate_signals(df):\n",
    "    signals = []\n",
    "    for i in range(14, len(df)):\n",
    "        row = df.iloc[i]\n",
    "        prev = df.iloc[i-1]\n",
    "\n",
    "        cond1 = row[\"close\"] < row[\"vwap\"] - 2 * row[\"atr\"]\n",
    "        cond2 = row[\"spread\"] < 0.0002\n",
    "        cond3 = row[\"volume_spike\"]\n",
    "        cond4 = row[\"close\"] > row[\"open\"] and prev[\"close\"] < prev[\"open\"]\n",
    "\n",
    "        if cond1 and cond2 and cond3 and cond4: \n",
    "            signals.append(i)\n",
    "    return signals\n",
    "\n",
    "signals = generate_signals(df)\n",
    "\n",
    "# === Backtest ===\n",
    "results = []\n",
    "rr = 3  # risk-reward ratio\n",
    "\n",
    "for i in signals:\n",
    "    entry_price = df.iloc[i][\"close\"]\n",
    "    sl = entry_price - 0.5 * df.iloc[i][\"atr\"]\n",
    "    tp = entry_price + rr * (entry_price - sl)\n",
    "\n",
    "    for j in range(i+1, min(i+60, len(df))):  # look ahead for next ~2 hours\n",
    "        high = df.iloc[j][\"high\"]\n",
    "        low = df.iloc[j][\"low\"]\n",
    "        if low <= sl:\n",
    "            results.append((\"loss\", entry_price, sl))\n",
    "            break\n",
    "        elif high >= tp:\n",
    "            results.append((\"win\", entry_price, tp))\n",
    "            break\n",
    "    else:\n",
    "        # time-based exit\n",
    "        close_exit = df.iloc[i+60][\"close\"]\n",
    "        if close_exit > entry_price:\n",
    "            results.append((\"win\", entry_price, close_exit))\n",
    "        else:\n",
    "            results.append((\"loss\", entry_price, close_exit))\n",
    "# === Metrics ===\n",
    "wins = [r for r in results if r[0] == \"win\"]\n",
    "losses = [r for r in results if r[0] == \"loss\"]\n",
    "win_rate = len(wins) / len(results)\n",
    "r_r_ratio = np.mean([abs(w[2]-w[1]) for w in wins]) / np.mean([abs(l[2]-l[1]) for l in losses])\n",
    "\n",
    "\n",
    "entry_price = df.iloc[i][\"close\"]\n",
    "df['sl'] = entry_price - 0.5 * df.iloc[i][\"atr\"]\n",
    "df['tp'] = entry_price + rr * (entry_price - sl)\n",
    "\n",
    "print(f\"Total trades: {len(results)}\")\n",
    "print(f\"Win rate: {win_rate:.2%}\")\n",
    "print(f\"Risk-Reward Ratio: {r_r_ratio:.2f}\")\n",
    "print(results)\n"
   ]
  },
  {
   "cell_type": "code",
   "execution_count": 7,
   "id": "a1ee3080",
   "metadata": {},
   "outputs": [
    {
     "data": {
      "text/html": [
       "<div>\n",
       "<style scoped>\n",
       "    .dataframe tbody tr th:only-of-type {\n",
       "        vertical-align: middle;\n",
       "    }\n",
       "\n",
       "    .dataframe tbody tr th {\n",
       "        vertical-align: top;\n",
       "    }\n",
       "\n",
       "    .dataframe thead th {\n",
       "        text-align: right;\n",
       "    }\n",
       "</style>\n",
       "<table border=\"1\" class=\"dataframe\">\n",
       "  <thead>\n",
       "    <tr style=\"text-align: right;\">\n",
       "      <th></th>\n",
       "      <th>time</th>\n",
       "      <th>open</th>\n",
       "      <th>high</th>\n",
       "      <th>low</th>\n",
       "      <th>close</th>\n",
       "      <th>tick_volume</th>\n",
       "      <th>spread</th>\n",
       "      <th>real_volume</th>\n",
       "      <th>atr</th>\n",
       "      <th>vwap</th>\n",
       "      <th>volume_spike</th>\n",
       "      <th>sl</th>\n",
       "      <th>tp</th>\n",
       "      <th>signal</th>\n",
       "    </tr>\n",
       "  </thead>\n",
       "  <tbody>\n",
       "    <tr>\n",
       "      <th>2373</th>\n",
       "      <td>2025-06-03 15:34:00+00:00</td>\n",
       "      <td>1.13783</td>\n",
       "      <td>1.13825</td>\n",
       "      <td>1.13772</td>\n",
       "      <td>1.13805</td>\n",
       "      <td>95</td>\n",
       "      <td>0</td>\n",
       "      <td>0</td>\n",
       "      <td>0.00105</td>\n",
       "      <td>1.141186</td>\n",
       "      <td>True</td>\n",
       "      <td>1.157165</td>\n",
       "      <td>1.158225</td>\n",
       "      <td>buy</td>\n",
       "    </tr>\n",
       "    <tr>\n",
       "      <th>2747</th>\n",
       "      <td>2025-06-03 21:48:00+00:00</td>\n",
       "      <td>1.13713</td>\n",
       "      <td>1.13723</td>\n",
       "      <td>1.13707</td>\n",
       "      <td>1.13723</td>\n",
       "      <td>38</td>\n",
       "      <td>0</td>\n",
       "      <td>0</td>\n",
       "      <td>0.00064</td>\n",
       "      <td>1.140699</td>\n",
       "      <td>True</td>\n",
       "      <td>1.157165</td>\n",
       "      <td>1.158225</td>\n",
       "      <td>buy</td>\n",
       "    </tr>\n",
       "    <tr>\n",
       "      <th>2780</th>\n",
       "      <td>2025-06-03 22:21:00+00:00</td>\n",
       "      <td>1.13714</td>\n",
       "      <td>1.13730</td>\n",
       "      <td>1.13713</td>\n",
       "      <td>1.13724</td>\n",
       "      <td>34</td>\n",
       "      <td>0</td>\n",
       "      <td>0</td>\n",
       "      <td>0.00054</td>\n",
       "      <td>1.140679</td>\n",
       "      <td>True</td>\n",
       "      <td>1.157165</td>\n",
       "      <td>1.158225</td>\n",
       "      <td>buy</td>\n",
       "    </tr>\n",
       "    <tr>\n",
       "      <th>2965</th>\n",
       "      <td>2025-06-04 01:27:00+00:00</td>\n",
       "      <td>1.13712</td>\n",
       "      <td>1.13718</td>\n",
       "      <td>1.13710</td>\n",
       "      <td>1.13713</td>\n",
       "      <td>27</td>\n",
       "      <td>0</td>\n",
       "      <td>0</td>\n",
       "      <td>0.00038</td>\n",
       "      <td>1.140607</td>\n",
       "      <td>True</td>\n",
       "      <td>1.157165</td>\n",
       "      <td>1.158225</td>\n",
       "      <td>buy</td>\n",
       "    </tr>\n",
       "    <tr>\n",
       "      <th>3007</th>\n",
       "      <td>2025-06-04 02:09:00+00:00</td>\n",
       "      <td>1.13745</td>\n",
       "      <td>1.13756</td>\n",
       "      <td>1.13745</td>\n",
       "      <td>1.13756</td>\n",
       "      <td>18</td>\n",
       "      <td>0</td>\n",
       "      <td>0</td>\n",
       "      <td>0.00016</td>\n",
       "      <td>1.140593</td>\n",
       "      <td>True</td>\n",
       "      <td>1.157165</td>\n",
       "      <td>1.158225</td>\n",
       "      <td>buy</td>\n",
       "    </tr>\n",
       "    <tr>\n",
       "      <th>...</th>\n",
       "      <td>...</td>\n",
       "      <td>...</td>\n",
       "      <td>...</td>\n",
       "      <td>...</td>\n",
       "      <td>...</td>\n",
       "      <td>...</td>\n",
       "      <td>...</td>\n",
       "      <td>...</td>\n",
       "      <td>...</td>\n",
       "      <td>...</td>\n",
       "      <td>...</td>\n",
       "      <td>...</td>\n",
       "      <td>...</td>\n",
       "      <td>...</td>\n",
       "    </tr>\n",
       "    <tr>\n",
       "      <th>68154</th>\n",
       "      <td>2025-08-06 09:01:00+00:00</td>\n",
       "      <td>1.15770</td>\n",
       "      <td>1.15812</td>\n",
       "      <td>1.15770</td>\n",
       "      <td>1.15810</td>\n",
       "      <td>60</td>\n",
       "      <td>0</td>\n",
       "      <td>0</td>\n",
       "      <td>0.00047</td>\n",
       "      <td>1.159576</td>\n",
       "      <td>True</td>\n",
       "      <td>1.157165</td>\n",
       "      <td>1.158225</td>\n",
       "      <td>buy</td>\n",
       "    </tr>\n",
       "    <tr>\n",
       "      <th>68159</th>\n",
       "      <td>2025-08-06 09:06:00+00:00</td>\n",
       "      <td>1.15803</td>\n",
       "      <td>1.15827</td>\n",
       "      <td>1.15802</td>\n",
       "      <td>1.15819</td>\n",
       "      <td>79</td>\n",
       "      <td>0</td>\n",
       "      <td>0</td>\n",
       "      <td>0.00062</td>\n",
       "      <td>1.159576</td>\n",
       "      <td>True</td>\n",
       "      <td>1.157165</td>\n",
       "      <td>1.158225</td>\n",
       "      <td>buy</td>\n",
       "    </tr>\n",
       "    <tr>\n",
       "      <th>68214</th>\n",
       "      <td>2025-08-06 10:01:00+00:00</td>\n",
       "      <td>1.15771</td>\n",
       "      <td>1.15777</td>\n",
       "      <td>1.15758</td>\n",
       "      <td>1.15773</td>\n",
       "      <td>98</td>\n",
       "      <td>0</td>\n",
       "      <td>0</td>\n",
       "      <td>0.00072</td>\n",
       "      <td>1.159574</td>\n",
       "      <td>True</td>\n",
       "      <td>1.157165</td>\n",
       "      <td>1.158225</td>\n",
       "      <td>buy</td>\n",
       "    </tr>\n",
       "    <tr>\n",
       "      <th>68259</th>\n",
       "      <td>2025-08-06 10:46:00+00:00</td>\n",
       "      <td>1.15757</td>\n",
       "      <td>1.15800</td>\n",
       "      <td>1.15757</td>\n",
       "      <td>1.15786</td>\n",
       "      <td>73</td>\n",
       "      <td>0</td>\n",
       "      <td>0</td>\n",
       "      <td>0.00074</td>\n",
       "      <td>1.159573</td>\n",
       "      <td>True</td>\n",
       "      <td>1.157165</td>\n",
       "      <td>1.158225</td>\n",
       "      <td>buy</td>\n",
       "    </tr>\n",
       "    <tr>\n",
       "      <th>68305</th>\n",
       "      <td>2025-08-06 11:32:00+00:00</td>\n",
       "      <td>1.15735</td>\n",
       "      <td>1.15752</td>\n",
       "      <td>1.15725</td>\n",
       "      <td>1.15743</td>\n",
       "      <td>79</td>\n",
       "      <td>0</td>\n",
       "      <td>0</td>\n",
       "      <td>0.00053</td>\n",
       "      <td>1.159572</td>\n",
       "      <td>True</td>\n",
       "      <td>1.157165</td>\n",
       "      <td>1.158225</td>\n",
       "      <td>buy</td>\n",
       "    </tr>\n",
       "  </tbody>\n",
       "</table>\n",
       "<p>124 rows × 14 columns</p>\n",
       "</div>"
      ],
      "text/plain": [
       "                           time     open     high      low    close  \\\n",
       "2373  2025-06-03 15:34:00+00:00  1.13783  1.13825  1.13772  1.13805   \n",
       "2747  2025-06-03 21:48:00+00:00  1.13713  1.13723  1.13707  1.13723   \n",
       "2780  2025-06-03 22:21:00+00:00  1.13714  1.13730  1.13713  1.13724   \n",
       "2965  2025-06-04 01:27:00+00:00  1.13712  1.13718  1.13710  1.13713   \n",
       "3007  2025-06-04 02:09:00+00:00  1.13745  1.13756  1.13745  1.13756   \n",
       "...                         ...      ...      ...      ...      ...   \n",
       "68154 2025-08-06 09:01:00+00:00  1.15770  1.15812  1.15770  1.15810   \n",
       "68159 2025-08-06 09:06:00+00:00  1.15803  1.15827  1.15802  1.15819   \n",
       "68214 2025-08-06 10:01:00+00:00  1.15771  1.15777  1.15758  1.15773   \n",
       "68259 2025-08-06 10:46:00+00:00  1.15757  1.15800  1.15757  1.15786   \n",
       "68305 2025-08-06 11:32:00+00:00  1.15735  1.15752  1.15725  1.15743   \n",
       "\n",
       "       tick_volume  spread  real_volume      atr      vwap  volume_spike  \\\n",
       "2373            95       0            0  0.00105  1.141186          True   \n",
       "2747            38       0            0  0.00064  1.140699          True   \n",
       "2780            34       0            0  0.00054  1.140679          True   \n",
       "2965            27       0            0  0.00038  1.140607          True   \n",
       "3007            18       0            0  0.00016  1.140593          True   \n",
       "...            ...     ...          ...      ...       ...           ...   \n",
       "68154           60       0            0  0.00047  1.159576          True   \n",
       "68159           79       0            0  0.00062  1.159576          True   \n",
       "68214           98       0            0  0.00072  1.159574          True   \n",
       "68259           73       0            0  0.00074  1.159573          True   \n",
       "68305           79       0            0  0.00053  1.159572          True   \n",
       "\n",
       "             sl        tp signal  \n",
       "2373   1.157165  1.158225    buy  \n",
       "2747   1.157165  1.158225    buy  \n",
       "2780   1.157165  1.158225    buy  \n",
       "2965   1.157165  1.158225    buy  \n",
       "3007   1.157165  1.158225    buy  \n",
       "...         ...       ...    ...  \n",
       "68154  1.157165  1.158225    buy  \n",
       "68159  1.157165  1.158225    buy  \n",
       "68214  1.157165  1.158225    buy  \n",
       "68259  1.157165  1.158225    buy  \n",
       "68305  1.157165  1.158225    buy  \n",
       "\n",
       "[124 rows x 14 columns]"
      ]
     },
     "execution_count": 7,
     "metadata": {},
     "output_type": "execute_result"
    }
   ],
   "source": [
    "prev = df.iloc[i-1]\n",
    "def entring_stoploss_profit(row) :\n",
    "    idx = row.name\n",
    "    if idx == 0:\n",
    "        return None\n",
    "    prev = df.iloc[idx - 1]\n",
    "\n",
    "    if (\n",
    "        row[\"close\"] < row[\"vwap\"] - 2 * row[\"atr\"]\n",
    "        and row[\"spread\"] < 0.0002\n",
    "        and row[\"volume_spike\"]\n",
    "        and row[\"close\"] > row[\"open\"]\n",
    "        and prev[\"close\"] < prev[\"open\"]\n",
    "    ):\n",
    "        return \"buy\"\n",
    "    return None\n",
    "df[\"signal\"] = df.apply(entring_stoploss_profit, axis=1)\n",
    "df.copy().dropna()"
   ]
  },
  {
   "cell_type": "code",
   "execution_count": 8,
   "id": "37532237",
   "metadata": {},
   "outputs": [],
   "source": [
    "\n",
    "# create trade logic\n",
    "def on_bar(data, trades, orders):\n",
    "    open_trades = trades[trades['state'] == 'open']\n",
    "    num_open_trades = open_trades.shape[0]\n",
    "    account_balance = 10000  # your account in USD\n",
    "    risk_percent = 0.20  # 2%\n",
    "    pip_value_per_lot = 10  # on EURUSD, 1 lot = $10 per pip\n",
    "    risk_amount = account_balance * risk_percent\n",
    "    # entry signal\n",
    "    if data['signal'] == 'buy' :#and not num_open_trades:\n",
    "        volume = 400000 #risk_amount / (stop_loss_pips * pip_value_per_lot)\n",
    "        orders.open_trade(symbol, volume, 'buy')\n",
    "    \n",
    "    elif data['signal'] == 'sell' and not num_open_trades:\n",
    "        volume = 400000 #risk_amount / (stop_loss_pips * pip_value_per_lot)\n",
    "        orders.open_trade(symbol, volume, 'sell')\n",
    "        \n",
    "# exit signal\n",
    "    if num_open_trades:\n",
    "        trade = open_trades.iloc[0]\n",
    "\n",
    "        if trade['order_type'] == 'buy' and data[\"low\"] <= data[\"sl\"] or data[\"high\"] >= data[\"tp\"]: \n",
    "            orders.close_trade(trade)\n",
    "        elif trade['order_type'] == 'sell'  :\n",
    "            orders.close_trade(trade)"
   ]
  },
  {
   "cell_type": "code",
   "execution_count": 9,
   "id": "aac991b6",
   "metadata": {},
   "outputs": [
    {
     "data": {
      "text/html": [
       "<div>\n",
       "<style scoped>\n",
       "    .dataframe tbody tr th:only-of-type {\n",
       "        vertical-align: middle;\n",
       "    }\n",
       "\n",
       "    .dataframe tbody tr th {\n",
       "        vertical-align: top;\n",
       "    }\n",
       "\n",
       "    .dataframe thead th {\n",
       "        text-align: right;\n",
       "    }\n",
       "</style>\n",
       "<table border=\"1\" class=\"dataframe\">\n",
       "  <thead>\n",
       "    <tr style=\"text-align: right;\">\n",
       "      <th></th>\n",
       "      <th>state</th>\n",
       "      <th>symbol</th>\n",
       "      <th>order_type</th>\n",
       "      <th>volume</th>\n",
       "      <th>open_time</th>\n",
       "      <th>open_price</th>\n",
       "      <th>close_time</th>\n",
       "      <th>close_price</th>\n",
       "      <th>sl</th>\n",
       "      <th>tp</th>\n",
       "      <th>info</th>\n",
       "      <th>profit</th>\n",
       "      <th>commission</th>\n",
       "      <th>profit_net</th>\n",
       "      <th>profit_cumulative</th>\n",
       "      <th>balance</th>\n",
       "    </tr>\n",
       "  </thead>\n",
       "  <tbody>\n",
       "    <tr>\n",
       "      <th>0</th>\n",
       "      <td>closed</td>\n",
       "      <td>EURUSD</td>\n",
       "      <td>buy</td>\n",
       "      <td>400000</td>\n",
       "      <td>2025-06-03 15:34:00+00:00</td>\n",
       "      <td>1.13783</td>\n",
       "      <td>2025-06-03 15:35:00+00:00</td>\n",
       "      <td>1.13805</td>\n",
       "      <td>0</td>\n",
       "      <td>0</td>\n",
       "      <td>{}</td>\n",
       "      <td>88.0</td>\n",
       "      <td>-28.0</td>\n",
       "      <td>60.0</td>\n",
       "      <td>60.0</td>\n",
       "      <td>10060.0</td>\n",
       "    </tr>\n",
       "    <tr>\n",
       "      <th>1</th>\n",
       "      <td>closed</td>\n",
       "      <td>EURUSD</td>\n",
       "      <td>buy</td>\n",
       "      <td>400000</td>\n",
       "      <td>2025-06-03 21:48:00+00:00</td>\n",
       "      <td>1.13713</td>\n",
       "      <td>2025-06-03 21:49:00+00:00</td>\n",
       "      <td>1.13723</td>\n",
       "      <td>0</td>\n",
       "      <td>0</td>\n",
       "      <td>{}</td>\n",
       "      <td>40.0</td>\n",
       "      <td>-28.0</td>\n",
       "      <td>12.0</td>\n",
       "      <td>72.0</td>\n",
       "      <td>10072.0</td>\n",
       "    </tr>\n",
       "    <tr>\n",
       "      <th>2</th>\n",
       "      <td>closed</td>\n",
       "      <td>EURUSD</td>\n",
       "      <td>buy</td>\n",
       "      <td>400000</td>\n",
       "      <td>2025-06-03 22:21:00+00:00</td>\n",
       "      <td>1.13714</td>\n",
       "      <td>2025-06-03 22:22:00+00:00</td>\n",
       "      <td>1.13724</td>\n",
       "      <td>0</td>\n",
       "      <td>0</td>\n",
       "      <td>{}</td>\n",
       "      <td>40.0</td>\n",
       "      <td>-28.0</td>\n",
       "      <td>12.0</td>\n",
       "      <td>84.0</td>\n",
       "      <td>10084.0</td>\n",
       "    </tr>\n",
       "    <tr>\n",
       "      <th>3</th>\n",
       "      <td>closed</td>\n",
       "      <td>EURUSD</td>\n",
       "      <td>buy</td>\n",
       "      <td>400000</td>\n",
       "      <td>2025-06-04 01:27:00+00:00</td>\n",
       "      <td>1.13712</td>\n",
       "      <td>2025-06-04 01:28:00+00:00</td>\n",
       "      <td>1.13713</td>\n",
       "      <td>0</td>\n",
       "      <td>0</td>\n",
       "      <td>{}</td>\n",
       "      <td>4.0</td>\n",
       "      <td>-28.0</td>\n",
       "      <td>-24.0</td>\n",
       "      <td>60.0</td>\n",
       "      <td>10060.0</td>\n",
       "    </tr>\n",
       "    <tr>\n",
       "      <th>4</th>\n",
       "      <td>closed</td>\n",
       "      <td>EURUSD</td>\n",
       "      <td>buy</td>\n",
       "      <td>400000</td>\n",
       "      <td>2025-06-04 02:09:00+00:00</td>\n",
       "      <td>1.13745</td>\n",
       "      <td>2025-06-04 02:10:00+00:00</td>\n",
       "      <td>1.13756</td>\n",
       "      <td>0</td>\n",
       "      <td>0</td>\n",
       "      <td>{}</td>\n",
       "      <td>44.0</td>\n",
       "      <td>-28.0</td>\n",
       "      <td>16.0</td>\n",
       "      <td>76.0</td>\n",
       "      <td>10076.0</td>\n",
       "    </tr>\n",
       "    <tr>\n",
       "      <th>...</th>\n",
       "      <td>...</td>\n",
       "      <td>...</td>\n",
       "      <td>...</td>\n",
       "      <td>...</td>\n",
       "      <td>...</td>\n",
       "      <td>...</td>\n",
       "      <td>...</td>\n",
       "      <td>...</td>\n",
       "      <td>...</td>\n",
       "      <td>...</td>\n",
       "      <td>...</td>\n",
       "      <td>...</td>\n",
       "      <td>...</td>\n",
       "      <td>...</td>\n",
       "      <td>...</td>\n",
       "      <td>...</td>\n",
       "    </tr>\n",
       "    <tr>\n",
       "      <th>119</th>\n",
       "      <td>closed</td>\n",
       "      <td>EURUSD</td>\n",
       "      <td>buy</td>\n",
       "      <td>400000</td>\n",
       "      <td>2025-08-06 09:01:00+00:00</td>\n",
       "      <td>1.1577</td>\n",
       "      <td>2025-08-06 09:06:00+00:00</td>\n",
       "      <td>1.15803</td>\n",
       "      <td>0</td>\n",
       "      <td>0</td>\n",
       "      <td>{}</td>\n",
       "      <td>132.0</td>\n",
       "      <td>-28.0</td>\n",
       "      <td>104.0</td>\n",
       "      <td>2672.0</td>\n",
       "      <td>12672.0</td>\n",
       "    </tr>\n",
       "    <tr>\n",
       "      <th>120</th>\n",
       "      <td>closed</td>\n",
       "      <td>EURUSD</td>\n",
       "      <td>buy</td>\n",
       "      <td>400000</td>\n",
       "      <td>2025-08-06 09:06:00+00:00</td>\n",
       "      <td>1.15803</td>\n",
       "      <td>2025-08-06 09:07:00+00:00</td>\n",
       "      <td>1.15819</td>\n",
       "      <td>0</td>\n",
       "      <td>0</td>\n",
       "      <td>{}</td>\n",
       "      <td>64.0</td>\n",
       "      <td>-28.0</td>\n",
       "      <td>36.0</td>\n",
       "      <td>2708.0</td>\n",
       "      <td>12708.0</td>\n",
       "    </tr>\n",
       "    <tr>\n",
       "      <th>121</th>\n",
       "      <td>closed</td>\n",
       "      <td>EURUSD</td>\n",
       "      <td>buy</td>\n",
       "      <td>400000</td>\n",
       "      <td>2025-08-06 10:01:00+00:00</td>\n",
       "      <td>1.15771</td>\n",
       "      <td>2025-08-06 10:15:00+00:00</td>\n",
       "      <td>1.1576</td>\n",
       "      <td>0</td>\n",
       "      <td>0</td>\n",
       "      <td>{}</td>\n",
       "      <td>-44.0</td>\n",
       "      <td>-28.0</td>\n",
       "      <td>-72.0</td>\n",
       "      <td>2636.0</td>\n",
       "      <td>12636.0</td>\n",
       "    </tr>\n",
       "    <tr>\n",
       "      <th>122</th>\n",
       "      <td>closed</td>\n",
       "      <td>EURUSD</td>\n",
       "      <td>buy</td>\n",
       "      <td>400000</td>\n",
       "      <td>2025-08-06 10:46:00+00:00</td>\n",
       "      <td>1.15757</td>\n",
       "      <td>2025-08-06 11:07:00+00:00</td>\n",
       "      <td>1.15817</td>\n",
       "      <td>0</td>\n",
       "      <td>0</td>\n",
       "      <td>{}</td>\n",
       "      <td>240.0</td>\n",
       "      <td>-28.0</td>\n",
       "      <td>212.0</td>\n",
       "      <td>2848.0</td>\n",
       "      <td>12848.0</td>\n",
       "    </tr>\n",
       "    <tr>\n",
       "      <th>123</th>\n",
       "      <td>closed</td>\n",
       "      <td>EURUSD</td>\n",
       "      <td>buy</td>\n",
       "      <td>400000</td>\n",
       "      <td>2025-08-06 11:32:00+00:00</td>\n",
       "      <td>1.15735</td>\n",
       "      <td>2025-08-06 11:34:00+00:00</td>\n",
       "      <td>1.15725</td>\n",
       "      <td>0</td>\n",
       "      <td>0</td>\n",
       "      <td>{}</td>\n",
       "      <td>-40.0</td>\n",
       "      <td>-28.0</td>\n",
       "      <td>-68.0</td>\n",
       "      <td>2780.0</td>\n",
       "      <td>12780.0</td>\n",
       "    </tr>\n",
       "  </tbody>\n",
       "</table>\n",
       "<p>124 rows × 16 columns</p>\n",
       "</div>"
      ],
      "text/plain": [
       "      state  symbol order_type  volume                  open_time open_price  \\\n",
       "0    closed  EURUSD        buy  400000  2025-06-03 15:34:00+00:00    1.13783   \n",
       "1    closed  EURUSD        buy  400000  2025-06-03 21:48:00+00:00    1.13713   \n",
       "2    closed  EURUSD        buy  400000  2025-06-03 22:21:00+00:00    1.13714   \n",
       "3    closed  EURUSD        buy  400000  2025-06-04 01:27:00+00:00    1.13712   \n",
       "4    closed  EURUSD        buy  400000  2025-06-04 02:09:00+00:00    1.13745   \n",
       "..      ...     ...        ...     ...                        ...        ...   \n",
       "119  closed  EURUSD        buy  400000  2025-08-06 09:01:00+00:00     1.1577   \n",
       "120  closed  EURUSD        buy  400000  2025-08-06 09:06:00+00:00    1.15803   \n",
       "121  closed  EURUSD        buy  400000  2025-08-06 10:01:00+00:00    1.15771   \n",
       "122  closed  EURUSD        buy  400000  2025-08-06 10:46:00+00:00    1.15757   \n",
       "123  closed  EURUSD        buy  400000  2025-08-06 11:32:00+00:00    1.15735   \n",
       "\n",
       "                    close_time close_price sl tp info  profit commission  \\\n",
       "0    2025-06-03 15:35:00+00:00     1.13805  0  0   {}    88.0      -28.0   \n",
       "1    2025-06-03 21:49:00+00:00     1.13723  0  0   {}    40.0      -28.0   \n",
       "2    2025-06-03 22:22:00+00:00     1.13724  0  0   {}    40.0      -28.0   \n",
       "3    2025-06-04 01:28:00+00:00     1.13713  0  0   {}     4.0      -28.0   \n",
       "4    2025-06-04 02:10:00+00:00     1.13756  0  0   {}    44.0      -28.0   \n",
       "..                         ...         ... .. ..  ...     ...        ...   \n",
       "119  2025-08-06 09:06:00+00:00     1.15803  0  0   {}   132.0      -28.0   \n",
       "120  2025-08-06 09:07:00+00:00     1.15819  0  0   {}    64.0      -28.0   \n",
       "121  2025-08-06 10:15:00+00:00      1.1576  0  0   {}   -44.0      -28.0   \n",
       "122  2025-08-06 11:07:00+00:00     1.15817  0  0   {}   240.0      -28.0   \n",
       "123  2025-08-06 11:34:00+00:00     1.15725  0  0   {}   -40.0      -28.0   \n",
       "\n",
       "    profit_net profit_cumulative  balance  \n",
       "0         60.0              60.0  10060.0  \n",
       "1         12.0              72.0  10072.0  \n",
       "2         12.0              84.0  10084.0  \n",
       "3        -24.0              60.0  10060.0  \n",
       "4         16.0              76.0  10076.0  \n",
       "..         ...               ...      ...  \n",
       "119      104.0            2672.0  12672.0  \n",
       "120       36.0            2708.0  12708.0  \n",
       "121      -72.0            2636.0  12636.0  \n",
       "122      212.0            2848.0  12848.0  \n",
       "123      -68.0            2780.0  12780.0  \n",
       "\n",
       "[124 rows x 16 columns]"
      ]
     },
     "execution_count": 9,
     "metadata": {},
     "output_type": "execute_result"
    }
   ],
   "source": [
    "# backtest parameters\n",
    "starting_balance = 10000\n",
    "currency = 'USD'\n",
    "exchange_rate = 1\n",
    "commission = -7 / 100000\n",
    "\n",
    "# backtest\n",
    "bt = Backtester()\n",
    "bt.set_starting_balance(starting_balance, currency=currency)\n",
    "bt.set_exchange_rate(exchange_rate)\n",
    "bt.set_commission(commission)\n",
    "\n",
    "bt.set_historical_data(df)\n",
    "bt.set_on_bar(on_bar)\n",
    "\n",
    "bt.run_backtest()\n",
    "\n",
    "bt.trades\n"
   ]
  },
  {
   "cell_type": "code",
   "execution_count": 10,
   "id": "4412eca6",
   "metadata": {},
   "outputs": [
    {
     "data": {
      "application/vnd.plotly.v1+json": {
       "config": {
        "plotlyServerURL": "https://plot.ly"
       },
       "data": [
        {
         "hovertemplate": "close_time=%{x}<br>balance=%{y}<extra></extra>",
         "legendgroup": "",
         "line": {
          "color": "#636efa",
          "dash": "solid"
         },
         "marker": {
          "symbol": "circle"
         },
         "mode": "lines",
         "name": "",
         "orientation": "v",
         "showlegend": false,
         "type": "scatter",
         "x": [
          "2025-06-03T15:35:00+00:00",
          "2025-06-03T21:49:00+00:00",
          "2025-06-03T22:22:00+00:00",
          "2025-06-04T01:28:00+00:00",
          "2025-06-04T02:10:00+00:00",
          "2025-06-04T02:14:00+00:00",
          "2025-06-04T02:19:00+00:00",
          "2025-06-04T02:37:00+00:00",
          "2025-06-04T03:56:00+00:00",
          "2025-06-04T04:02:00+00:00",
          "2025-06-04T05:22:00+00:00",
          "2025-06-04T05:34:00+00:00",
          "2025-06-04T06:27:00+00:00",
          "2025-06-04T07:39:00+00:00",
          "2025-06-04T08:30:00+00:00",
          "2025-06-04T08:36:00+00:00",
          "2025-06-04T09:01:00+00:00",
          "2025-06-04T09:18:00+00:00",
          "2025-06-04T09:58:00+00:00",
          "2025-06-04T13:01:00+00:00",
          "2025-06-04T14:58:00+00:00",
          "2025-06-04T15:01:00+00:00",
          "2025-06-06T18:21:00+00:00",
          "2025-06-06T19:31:00+00:00",
          "2025-06-06T22:26:00+00:00",
          "2025-06-06T23:55:00+00:00",
          "2025-06-09T01:05:00+00:00",
          "2025-06-09T01:30:00+00:00",
          "2025-06-10T05:37:00+00:00",
          "2025-06-19T06:20:00+00:00",
          "2025-06-19T19:54:00+00:00",
          "2025-07-17T14:50:00+00:00",
          "2025-07-17T15:12:00+00:00",
          "2025-07-28T21:42:00+00:00",
          "2025-07-28T22:54:00+00:00",
          "2025-07-28T23:00:00+00:00",
          "2025-07-28T23:13:00+00:00",
          "2025-07-29T02:44:00+00:00",
          "2025-07-29T03:03:00+00:00",
          "2025-07-29T03:53:00+00:00",
          "2025-07-29T03:56:00+00:00",
          "2025-07-29T05:14:00+00:00",
          "2025-07-29T06:35:00+00:00",
          "2025-07-29T07:54:00+00:00",
          "2025-07-29T08:00:00+00:00",
          "2025-07-29T08:26:00+00:00",
          "2025-07-29T14:03:00+00:00",
          "2025-07-29T14:40:00+00:00",
          "2025-07-29T15:21:00+00:00",
          "2025-07-29T16:01:00+00:00",
          "2025-07-29T18:59:00+00:00",
          "2025-07-29T21:00:00+00:00",
          "2025-07-29T22:13:00+00:00",
          "2025-07-29T23:12:00+00:00",
          "2025-07-29T23:18:00+00:00",
          "2025-07-29T23:33:00+00:00",
          "2025-07-30T01:16:00+00:00",
          "2025-07-30T01:34:00+00:00",
          "2025-07-30T01:37:00+00:00",
          "2025-07-30T02:13:00+00:00",
          "2025-07-30T04:01:00+00:00",
          "2025-07-30T04:32:00+00:00",
          "2025-07-30T06:00:00+00:00",
          "2025-07-30T06:39:00+00:00",
          "2025-07-30T08:23:00+00:00",
          "2025-07-30T08:59:00+00:00",
          "2025-07-30T12:01:00+00:00",
          "2025-07-30T13:40:00+00:00",
          "2025-07-30T14:32:00+00:00",
          "2025-07-30T15:17:00+00:00",
          "2025-07-30T19:19:00+00:00",
          "2025-07-30T20:50:00+00:00",
          "2025-07-30T21:01:00+00:00",
          "2025-07-30T21:35:00+00:00",
          "2025-07-31T01:34:00+00:00",
          "2025-07-31T01:45:00+00:00",
          "2025-07-31T01:55:00+00:00",
          "2025-07-31T02:37:00+00:00",
          "2025-07-31T02:48:00+00:00",
          "2025-07-31T03:01:00+00:00",
          "2025-07-31T05:46:00+00:00",
          "2025-07-31T05:59:00+00:00",
          "2025-07-31T08:11:00+00:00",
          "2025-07-31T08:16:00+00:00",
          "2025-07-31T10:47:00+00:00",
          "2025-07-31T14:02:00+00:00",
          "2025-07-31T14:31:00+00:00",
          "2025-07-31T19:01:00+00:00",
          "2025-07-31T20:53:00+00:00",
          "2025-07-31T23:31:00+00:00",
          "2025-08-01T01:20:00+00:00",
          "2025-08-01T01:34:00+00:00",
          "2025-08-01T01:59:00+00:00",
          "2025-08-01T03:56:00+00:00",
          "2025-08-01T07:45:00+00:00",
          "2025-08-01T07:51:00+00:00",
          "2025-08-01T08:03:00+00:00",
          "2025-08-01T08:05:00+00:00",
          "2025-08-01T08:31:00+00:00",
          "2025-08-01T10:54:00+00:00",
          "2025-08-01T15:01:00+00:00",
          "2025-08-04T02:33:00+00:00",
          "2025-08-04T19:42:00+00:00",
          "2025-08-04T21:58:00+00:00",
          "2025-08-05T02:07:00+00:00",
          "2025-08-05T02:08:00+00:00",
          "2025-08-05T03:13:00+00:00",
          "2025-08-05T05:34:00+00:00",
          "2025-08-05T07:57:00+00:00",
          "2025-08-05T10:52:00+00:00",
          "2025-08-05T15:20:00+00:00",
          "2025-08-05T16:31:00+00:00",
          "2025-08-05T21:49:00+00:00",
          "2025-08-05T23:33:00+00:00",
          "2025-08-06T01:32:00+00:00",
          "2025-08-06T03:03:00+00:00",
          "2025-08-06T03:04:00+00:00",
          "2025-08-06T04:00:00+00:00",
          "2025-08-06T08:02:00+00:00",
          "2025-08-06T09:06:00+00:00",
          "2025-08-06T09:07:00+00:00",
          "2025-08-06T10:15:00+00:00",
          "2025-08-06T11:07:00+00:00",
          "2025-08-06T11:34:00+00:00"
         ],
         "xaxis": "x",
         "y": [
          10060,
          10072,
          10084,
          10060,
          10076,
          10104,
          10088,
          10096,
          10084,
          10164,
          10140,
          10140,
          10132,
          10120,
          10128,
          10112,
          10160,
          10204,
          10224,
          10200,
          10216,
          10324,
          10328,
          10320,
          10296,
          10300,
          10324,
          10316,
          10324,
          10308,
          10288,
          10140,
          10404,
          10412,
          10424,
          10428,
          10428,
          10412,
          10448,
          10404,
          10392,
          10368,
          10356,
          10436,
          10492,
          10516,
          10288,
          10272,
          10252,
          10248,
          10360,
          10364,
          10420,
          10400,
          10396,
          10388,
          10384,
          10372,
          10352,
          10324,
          10348,
          10416,
          10408,
          10396,
          10444,
          10444,
          10428,
          10536,
          10536,
          10636,
          10752,
          10728,
          10960,
          11424,
          11428,
          11404,
          11412,
          11404,
          11396,
          11552,
          11564,
          11660,
          11700,
          11716,
          11880,
          11860,
          11896,
          11928,
          11980,
          11956,
          11964,
          11976,
          11960,
          11976,
          11956,
          11956,
          11972,
          11964,
          11996,
          12032,
          12044,
          12072,
          12068,
          12096,
          12184,
          12236,
          12248,
          12236,
          12216,
          12228,
          12352,
          12440,
          12416,
          12340,
          12292,
          12552,
          12704,
          12540,
          12568,
          12672,
          12708,
          12636,
          12848,
          12780
         ],
         "yaxis": "y"
        }
       ],
       "layout": {
        "legend": {
         "tracegroupgap": 0
        },
        "template": {
         "data": {
          "bar": [
           {
            "error_x": {
             "color": "#f2f5fa"
            },
            "error_y": {
             "color": "#f2f5fa"
            },
            "marker": {
             "line": {
              "color": "rgb(17,17,17)",
              "width": 0.5
             },
             "pattern": {
              "fillmode": "overlay",
              "size": 10,
              "solidity": 0.2
             }
            },
            "type": "bar"
           }
          ],
          "barpolar": [
           {
            "marker": {
             "line": {
              "color": "rgb(17,17,17)",
              "width": 0.5
             },
             "pattern": {
              "fillmode": "overlay",
              "size": 10,
              "solidity": 0.2
             }
            },
            "type": "barpolar"
           }
          ],
          "carpet": [
           {
            "aaxis": {
             "endlinecolor": "#A2B1C6",
             "gridcolor": "#506784",
             "linecolor": "#506784",
             "minorgridcolor": "#506784",
             "startlinecolor": "#A2B1C6"
            },
            "baxis": {
             "endlinecolor": "#A2B1C6",
             "gridcolor": "#506784",
             "linecolor": "#506784",
             "minorgridcolor": "#506784",
             "startlinecolor": "#A2B1C6"
            },
            "type": "carpet"
           }
          ],
          "choropleth": [
           {
            "colorbar": {
             "outlinewidth": 0,
             "ticks": ""
            },
            "type": "choropleth"
           }
          ],
          "contour": [
           {
            "colorbar": {
             "outlinewidth": 0,
             "ticks": ""
            },
            "colorscale": [
             [
              0,
              "#0d0887"
             ],
             [
              0.1111111111111111,
              "#46039f"
             ],
             [
              0.2222222222222222,
              "#7201a8"
             ],
             [
              0.3333333333333333,
              "#9c179e"
             ],
             [
              0.4444444444444444,
              "#bd3786"
             ],
             [
              0.5555555555555556,
              "#d8576b"
             ],
             [
              0.6666666666666666,
              "#ed7953"
             ],
             [
              0.7777777777777778,
              "#fb9f3a"
             ],
             [
              0.8888888888888888,
              "#fdca26"
             ],
             [
              1,
              "#f0f921"
             ]
            ],
            "type": "contour"
           }
          ],
          "contourcarpet": [
           {
            "colorbar": {
             "outlinewidth": 0,
             "ticks": ""
            },
            "type": "contourcarpet"
           }
          ],
          "heatmap": [
           {
            "colorbar": {
             "outlinewidth": 0,
             "ticks": ""
            },
            "colorscale": [
             [
              0,
              "#0d0887"
             ],
             [
              0.1111111111111111,
              "#46039f"
             ],
             [
              0.2222222222222222,
              "#7201a8"
             ],
             [
              0.3333333333333333,
              "#9c179e"
             ],
             [
              0.4444444444444444,
              "#bd3786"
             ],
             [
              0.5555555555555556,
              "#d8576b"
             ],
             [
              0.6666666666666666,
              "#ed7953"
             ],
             [
              0.7777777777777778,
              "#fb9f3a"
             ],
             [
              0.8888888888888888,
              "#fdca26"
             ],
             [
              1,
              "#f0f921"
             ]
            ],
            "type": "heatmap"
           }
          ],
          "histogram": [
           {
            "marker": {
             "pattern": {
              "fillmode": "overlay",
              "size": 10,
              "solidity": 0.2
             }
            },
            "type": "histogram"
           }
          ],
          "histogram2d": [
           {
            "colorbar": {
             "outlinewidth": 0,
             "ticks": ""
            },
            "colorscale": [
             [
              0,
              "#0d0887"
             ],
             [
              0.1111111111111111,
              "#46039f"
             ],
             [
              0.2222222222222222,
              "#7201a8"
             ],
             [
              0.3333333333333333,
              "#9c179e"
             ],
             [
              0.4444444444444444,
              "#bd3786"
             ],
             [
              0.5555555555555556,
              "#d8576b"
             ],
             [
              0.6666666666666666,
              "#ed7953"
             ],
             [
              0.7777777777777778,
              "#fb9f3a"
             ],
             [
              0.8888888888888888,
              "#fdca26"
             ],
             [
              1,
              "#f0f921"
             ]
            ],
            "type": "histogram2d"
           }
          ],
          "histogram2dcontour": [
           {
            "colorbar": {
             "outlinewidth": 0,
             "ticks": ""
            },
            "colorscale": [
             [
              0,
              "#0d0887"
             ],
             [
              0.1111111111111111,
              "#46039f"
             ],
             [
              0.2222222222222222,
              "#7201a8"
             ],
             [
              0.3333333333333333,
              "#9c179e"
             ],
             [
              0.4444444444444444,
              "#bd3786"
             ],
             [
              0.5555555555555556,
              "#d8576b"
             ],
             [
              0.6666666666666666,
              "#ed7953"
             ],
             [
              0.7777777777777778,
              "#fb9f3a"
             ],
             [
              0.8888888888888888,
              "#fdca26"
             ],
             [
              1,
              "#f0f921"
             ]
            ],
            "type": "histogram2dcontour"
           }
          ],
          "mesh3d": [
           {
            "colorbar": {
             "outlinewidth": 0,
             "ticks": ""
            },
            "type": "mesh3d"
           }
          ],
          "parcoords": [
           {
            "line": {
             "colorbar": {
              "outlinewidth": 0,
              "ticks": ""
             }
            },
            "type": "parcoords"
           }
          ],
          "pie": [
           {
            "automargin": true,
            "type": "pie"
           }
          ],
          "scatter": [
           {
            "marker": {
             "line": {
              "color": "#283442"
             }
            },
            "type": "scatter"
           }
          ],
          "scatter3d": [
           {
            "line": {
             "colorbar": {
              "outlinewidth": 0,
              "ticks": ""
             }
            },
            "marker": {
             "colorbar": {
              "outlinewidth": 0,
              "ticks": ""
             }
            },
            "type": "scatter3d"
           }
          ],
          "scattercarpet": [
           {
            "marker": {
             "colorbar": {
              "outlinewidth": 0,
              "ticks": ""
             }
            },
            "type": "scattercarpet"
           }
          ],
          "scattergeo": [
           {
            "marker": {
             "colorbar": {
              "outlinewidth": 0,
              "ticks": ""
             }
            },
            "type": "scattergeo"
           }
          ],
          "scattergl": [
           {
            "marker": {
             "line": {
              "color": "#283442"
             }
            },
            "type": "scattergl"
           }
          ],
          "scattermap": [
           {
            "marker": {
             "colorbar": {
              "outlinewidth": 0,
              "ticks": ""
             }
            },
            "type": "scattermap"
           }
          ],
          "scattermapbox": [
           {
            "marker": {
             "colorbar": {
              "outlinewidth": 0,
              "ticks": ""
             }
            },
            "type": "scattermapbox"
           }
          ],
          "scatterpolar": [
           {
            "marker": {
             "colorbar": {
              "outlinewidth": 0,
              "ticks": ""
             }
            },
            "type": "scatterpolar"
           }
          ],
          "scatterpolargl": [
           {
            "marker": {
             "colorbar": {
              "outlinewidth": 0,
              "ticks": ""
             }
            },
            "type": "scatterpolargl"
           }
          ],
          "scatterternary": [
           {
            "marker": {
             "colorbar": {
              "outlinewidth": 0,
              "ticks": ""
             }
            },
            "type": "scatterternary"
           }
          ],
          "surface": [
           {
            "colorbar": {
             "outlinewidth": 0,
             "ticks": ""
            },
            "colorscale": [
             [
              0,
              "#0d0887"
             ],
             [
              0.1111111111111111,
              "#46039f"
             ],
             [
              0.2222222222222222,
              "#7201a8"
             ],
             [
              0.3333333333333333,
              "#9c179e"
             ],
             [
              0.4444444444444444,
              "#bd3786"
             ],
             [
              0.5555555555555556,
              "#d8576b"
             ],
             [
              0.6666666666666666,
              "#ed7953"
             ],
             [
              0.7777777777777778,
              "#fb9f3a"
             ],
             [
              0.8888888888888888,
              "#fdca26"
             ],
             [
              1,
              "#f0f921"
             ]
            ],
            "type": "surface"
           }
          ],
          "table": [
           {
            "cells": {
             "fill": {
              "color": "#506784"
             },
             "line": {
              "color": "rgb(17,17,17)"
             }
            },
            "header": {
             "fill": {
              "color": "#2a3f5f"
             },
             "line": {
              "color": "rgb(17,17,17)"
             }
            },
            "type": "table"
           }
          ]
         },
         "layout": {
          "annotationdefaults": {
           "arrowcolor": "#f2f5fa",
           "arrowhead": 0,
           "arrowwidth": 1
          },
          "autotypenumbers": "strict",
          "coloraxis": {
           "colorbar": {
            "outlinewidth": 0,
            "ticks": ""
           }
          },
          "colorscale": {
           "diverging": [
            [
             0,
             "#8e0152"
            ],
            [
             0.1,
             "#c51b7d"
            ],
            [
             0.2,
             "#de77ae"
            ],
            [
             0.3,
             "#f1b6da"
            ],
            [
             0.4,
             "#fde0ef"
            ],
            [
             0.5,
             "#f7f7f7"
            ],
            [
             0.6,
             "#e6f5d0"
            ],
            [
             0.7,
             "#b8e186"
            ],
            [
             0.8,
             "#7fbc41"
            ],
            [
             0.9,
             "#4d9221"
            ],
            [
             1,
             "#276419"
            ]
           ],
           "sequential": [
            [
             0,
             "#0d0887"
            ],
            [
             0.1111111111111111,
             "#46039f"
            ],
            [
             0.2222222222222222,
             "#7201a8"
            ],
            [
             0.3333333333333333,
             "#9c179e"
            ],
            [
             0.4444444444444444,
             "#bd3786"
            ],
            [
             0.5555555555555556,
             "#d8576b"
            ],
            [
             0.6666666666666666,
             "#ed7953"
            ],
            [
             0.7777777777777778,
             "#fb9f3a"
            ],
            [
             0.8888888888888888,
             "#fdca26"
            ],
            [
             1,
             "#f0f921"
            ]
           ],
           "sequentialminus": [
            [
             0,
             "#0d0887"
            ],
            [
             0.1111111111111111,
             "#46039f"
            ],
            [
             0.2222222222222222,
             "#7201a8"
            ],
            [
             0.3333333333333333,
             "#9c179e"
            ],
            [
             0.4444444444444444,
             "#bd3786"
            ],
            [
             0.5555555555555556,
             "#d8576b"
            ],
            [
             0.6666666666666666,
             "#ed7953"
            ],
            [
             0.7777777777777778,
             "#fb9f3a"
            ],
            [
             0.8888888888888888,
             "#fdca26"
            ],
            [
             1,
             "#f0f921"
            ]
           ]
          },
          "colorway": [
           "#636efa",
           "#EF553B",
           "#00cc96",
           "#ab63fa",
           "#FFA15A",
           "#19d3f3",
           "#FF6692",
           "#B6E880",
           "#FF97FF",
           "#FECB52"
          ],
          "font": {
           "color": "#f2f5fa"
          },
          "geo": {
           "bgcolor": "rgb(17,17,17)",
           "lakecolor": "rgb(17,17,17)",
           "landcolor": "rgb(17,17,17)",
           "showlakes": true,
           "showland": true,
           "subunitcolor": "#506784"
          },
          "hoverlabel": {
           "align": "left"
          },
          "hovermode": "closest",
          "mapbox": {
           "style": "dark"
          },
          "paper_bgcolor": "rgb(17,17,17)",
          "plot_bgcolor": "rgb(17,17,17)",
          "polar": {
           "angularaxis": {
            "gridcolor": "#506784",
            "linecolor": "#506784",
            "ticks": ""
           },
           "bgcolor": "rgb(17,17,17)",
           "radialaxis": {
            "gridcolor": "#506784",
            "linecolor": "#506784",
            "ticks": ""
           }
          },
          "scene": {
           "xaxis": {
            "backgroundcolor": "rgb(17,17,17)",
            "gridcolor": "#506784",
            "gridwidth": 2,
            "linecolor": "#506784",
            "showbackground": true,
            "ticks": "",
            "zerolinecolor": "#C8D4E3"
           },
           "yaxis": {
            "backgroundcolor": "rgb(17,17,17)",
            "gridcolor": "#506784",
            "gridwidth": 2,
            "linecolor": "#506784",
            "showbackground": true,
            "ticks": "",
            "zerolinecolor": "#C8D4E3"
           },
           "zaxis": {
            "backgroundcolor": "rgb(17,17,17)",
            "gridcolor": "#506784",
            "gridwidth": 2,
            "linecolor": "#506784",
            "showbackground": true,
            "ticks": "",
            "zerolinecolor": "#C8D4E3"
           }
          },
          "shapedefaults": {
           "line": {
            "color": "#f2f5fa"
           }
          },
          "sliderdefaults": {
           "bgcolor": "#C8D4E3",
           "bordercolor": "rgb(17,17,17)",
           "borderwidth": 1,
           "tickwidth": 0
          },
          "ternary": {
           "aaxis": {
            "gridcolor": "#506784",
            "linecolor": "#506784",
            "ticks": ""
           },
           "baxis": {
            "gridcolor": "#506784",
            "linecolor": "#506784",
            "ticks": ""
           },
           "bgcolor": "rgb(17,17,17)",
           "caxis": {
            "gridcolor": "#506784",
            "linecolor": "#506784",
            "ticks": ""
           }
          },
          "title": {
           "x": 0.05
          },
          "updatemenudefaults": {
           "bgcolor": "#506784",
           "borderwidth": 0
          },
          "xaxis": {
           "automargin": true,
           "gridcolor": "#283442",
           "linecolor": "#506784",
           "ticks": "",
           "title": {
            "standoff": 15
           },
           "zerolinecolor": "#283442",
           "zerolinewidth": 2
          },
          "yaxis": {
           "automargin": true,
           "gridcolor": "#283442",
           "linecolor": "#506784",
           "ticks": "",
           "title": {
            "standoff": 15
           },
           "zerolinecolor": "#283442",
           "zerolinewidth": 2
          }
         }
        },
        "title": {
         "text": "Balance Graph"
        },
        "xaxis": {
         "anchor": "y",
         "domain": [
          0,
          1
         ],
         "title": {
          "text": "close_time"
         }
        },
        "yaxis": {
         "anchor": "x",
         "domain": [
          0,
          1
         ],
         "title": {
          "text": "balance"
         }
        }
       }
      }
     },
     "metadata": {},
     "output_type": "display_data"
    }
   ],
   "source": [
    "mm = bt.plot_balance()\n",
    "display(mm)"
   ]
  },
  {
   "cell_type": "code",
   "execution_count": 11,
   "id": "6d8c3680",
   "metadata": {},
   "outputs": [
    {
     "name": "stdout",
     "output_type": "stream",
     "text": [
      "biggest_profit: 492.0\n",
      "daily_drawdown: -200.0\n",
      "max_drawown: -268.0\n",
      "avg_win: 59.79\n",
      "avg_loss: -78.0\n",
      "count_profit_trades: 115\n",
      "count_loss_trades: 8\n",
      "Win Rate1: 93.50%\n",
      "rrr: 0.77\n"
     ]
    },
    {
     "data": {
      "text/html": [
       "<div>\n",
       "<style scoped>\n",
       "    .dataframe tbody tr th:only-of-type {\n",
       "        vertical-align: middle;\n",
       "    }\n",
       "\n",
       "    .dataframe tbody tr th {\n",
       "        vertical-align: top;\n",
       "    }\n",
       "\n",
       "    .dataframe thead th {\n",
       "        text-align: right;\n",
       "    }\n",
       "</style>\n",
       "<table border=\"1\" class=\"dataframe\">\n",
       "  <thead>\n",
       "    <tr style=\"text-align: right;\">\n",
       "      <th></th>\n",
       "      <th>order_type</th>\n",
       "      <th>profit</th>\n",
       "    </tr>\n",
       "  </thead>\n",
       "  <tbody>\n",
       "    <tr>\n",
       "      <th>0</th>\n",
       "      <td>buy</td>\n",
       "      <td>6252.0</td>\n",
       "    </tr>\n",
       "  </tbody>\n",
       "</table>\n",
       "</div>"
      ],
      "text/plain": [
       "  order_type  profit\n",
       "0        buy  6252.0"
      ]
     },
     "metadata": {},
     "output_type": "display_data"
    },
    {
     "data": {
      "application/vnd.plotly.v1+json": {
       "config": {
        "plotlyServerURL": "https://plot.ly"
       },
       "data": [
        {
         "hovertemplate": "order_type=%{x}<br>profit=%{y}<extra></extra>",
         "legendgroup": "",
         "marker": {
          "color": "#636efa",
          "pattern": {
           "shape": ""
          }
         },
         "name": "",
         "orientation": "v",
         "showlegend": false,
         "textposition": "auto",
         "type": "bar",
         "x": [
          "buy"
         ],
         "xaxis": "x",
         "y": {
          "bdata": "AAAAAABsuEA=",
          "dtype": "f8"
         },
         "yaxis": "y"
        }
       ],
       "layout": {
        "barmode": "relative",
        "legend": {
         "tracegroupgap": 0
        },
        "margin": {
         "t": 60
        },
        "template": {
         "data": {
          "bar": [
           {
            "error_x": {
             "color": "#f2f5fa"
            },
            "error_y": {
             "color": "#f2f5fa"
            },
            "marker": {
             "line": {
              "color": "rgb(17,17,17)",
              "width": 0.5
             },
             "pattern": {
              "fillmode": "overlay",
              "size": 10,
              "solidity": 0.2
             }
            },
            "type": "bar"
           }
          ],
          "barpolar": [
           {
            "marker": {
             "line": {
              "color": "rgb(17,17,17)",
              "width": 0.5
             },
             "pattern": {
              "fillmode": "overlay",
              "size": 10,
              "solidity": 0.2
             }
            },
            "type": "barpolar"
           }
          ],
          "carpet": [
           {
            "aaxis": {
             "endlinecolor": "#A2B1C6",
             "gridcolor": "#506784",
             "linecolor": "#506784",
             "minorgridcolor": "#506784",
             "startlinecolor": "#A2B1C6"
            },
            "baxis": {
             "endlinecolor": "#A2B1C6",
             "gridcolor": "#506784",
             "linecolor": "#506784",
             "minorgridcolor": "#506784",
             "startlinecolor": "#A2B1C6"
            },
            "type": "carpet"
           }
          ],
          "choropleth": [
           {
            "colorbar": {
             "outlinewidth": 0,
             "ticks": ""
            },
            "type": "choropleth"
           }
          ],
          "contour": [
           {
            "colorbar": {
             "outlinewidth": 0,
             "ticks": ""
            },
            "colorscale": [
             [
              0,
              "#0d0887"
             ],
             [
              0.1111111111111111,
              "#46039f"
             ],
             [
              0.2222222222222222,
              "#7201a8"
             ],
             [
              0.3333333333333333,
              "#9c179e"
             ],
             [
              0.4444444444444444,
              "#bd3786"
             ],
             [
              0.5555555555555556,
              "#d8576b"
             ],
             [
              0.6666666666666666,
              "#ed7953"
             ],
             [
              0.7777777777777778,
              "#fb9f3a"
             ],
             [
              0.8888888888888888,
              "#fdca26"
             ],
             [
              1,
              "#f0f921"
             ]
            ],
            "type": "contour"
           }
          ],
          "contourcarpet": [
           {
            "colorbar": {
             "outlinewidth": 0,
             "ticks": ""
            },
            "type": "contourcarpet"
           }
          ],
          "heatmap": [
           {
            "colorbar": {
             "outlinewidth": 0,
             "ticks": ""
            },
            "colorscale": [
             [
              0,
              "#0d0887"
             ],
             [
              0.1111111111111111,
              "#46039f"
             ],
             [
              0.2222222222222222,
              "#7201a8"
             ],
             [
              0.3333333333333333,
              "#9c179e"
             ],
             [
              0.4444444444444444,
              "#bd3786"
             ],
             [
              0.5555555555555556,
              "#d8576b"
             ],
             [
              0.6666666666666666,
              "#ed7953"
             ],
             [
              0.7777777777777778,
              "#fb9f3a"
             ],
             [
              0.8888888888888888,
              "#fdca26"
             ],
             [
              1,
              "#f0f921"
             ]
            ],
            "type": "heatmap"
           }
          ],
          "histogram": [
           {
            "marker": {
             "pattern": {
              "fillmode": "overlay",
              "size": 10,
              "solidity": 0.2
             }
            },
            "type": "histogram"
           }
          ],
          "histogram2d": [
           {
            "colorbar": {
             "outlinewidth": 0,
             "ticks": ""
            },
            "colorscale": [
             [
              0,
              "#0d0887"
             ],
             [
              0.1111111111111111,
              "#46039f"
             ],
             [
              0.2222222222222222,
              "#7201a8"
             ],
             [
              0.3333333333333333,
              "#9c179e"
             ],
             [
              0.4444444444444444,
              "#bd3786"
             ],
             [
              0.5555555555555556,
              "#d8576b"
             ],
             [
              0.6666666666666666,
              "#ed7953"
             ],
             [
              0.7777777777777778,
              "#fb9f3a"
             ],
             [
              0.8888888888888888,
              "#fdca26"
             ],
             [
              1,
              "#f0f921"
             ]
            ],
            "type": "histogram2d"
           }
          ],
          "histogram2dcontour": [
           {
            "colorbar": {
             "outlinewidth": 0,
             "ticks": ""
            },
            "colorscale": [
             [
              0,
              "#0d0887"
             ],
             [
              0.1111111111111111,
              "#46039f"
             ],
             [
              0.2222222222222222,
              "#7201a8"
             ],
             [
              0.3333333333333333,
              "#9c179e"
             ],
             [
              0.4444444444444444,
              "#bd3786"
             ],
             [
              0.5555555555555556,
              "#d8576b"
             ],
             [
              0.6666666666666666,
              "#ed7953"
             ],
             [
              0.7777777777777778,
              "#fb9f3a"
             ],
             [
              0.8888888888888888,
              "#fdca26"
             ],
             [
              1,
              "#f0f921"
             ]
            ],
            "type": "histogram2dcontour"
           }
          ],
          "mesh3d": [
           {
            "colorbar": {
             "outlinewidth": 0,
             "ticks": ""
            },
            "type": "mesh3d"
           }
          ],
          "parcoords": [
           {
            "line": {
             "colorbar": {
              "outlinewidth": 0,
              "ticks": ""
             }
            },
            "type": "parcoords"
           }
          ],
          "pie": [
           {
            "automargin": true,
            "type": "pie"
           }
          ],
          "scatter": [
           {
            "marker": {
             "line": {
              "color": "#283442"
             }
            },
            "type": "scatter"
           }
          ],
          "scatter3d": [
           {
            "line": {
             "colorbar": {
              "outlinewidth": 0,
              "ticks": ""
             }
            },
            "marker": {
             "colorbar": {
              "outlinewidth": 0,
              "ticks": ""
             }
            },
            "type": "scatter3d"
           }
          ],
          "scattercarpet": [
           {
            "marker": {
             "colorbar": {
              "outlinewidth": 0,
              "ticks": ""
             }
            },
            "type": "scattercarpet"
           }
          ],
          "scattergeo": [
           {
            "marker": {
             "colorbar": {
              "outlinewidth": 0,
              "ticks": ""
             }
            },
            "type": "scattergeo"
           }
          ],
          "scattergl": [
           {
            "marker": {
             "line": {
              "color": "#283442"
             }
            },
            "type": "scattergl"
           }
          ],
          "scattermap": [
           {
            "marker": {
             "colorbar": {
              "outlinewidth": 0,
              "ticks": ""
             }
            },
            "type": "scattermap"
           }
          ],
          "scattermapbox": [
           {
            "marker": {
             "colorbar": {
              "outlinewidth": 0,
              "ticks": ""
             }
            },
            "type": "scattermapbox"
           }
          ],
          "scatterpolar": [
           {
            "marker": {
             "colorbar": {
              "outlinewidth": 0,
              "ticks": ""
             }
            },
            "type": "scatterpolar"
           }
          ],
          "scatterpolargl": [
           {
            "marker": {
             "colorbar": {
              "outlinewidth": 0,
              "ticks": ""
             }
            },
            "type": "scatterpolargl"
           }
          ],
          "scatterternary": [
           {
            "marker": {
             "colorbar": {
              "outlinewidth": 0,
              "ticks": ""
             }
            },
            "type": "scatterternary"
           }
          ],
          "surface": [
           {
            "colorbar": {
             "outlinewidth": 0,
             "ticks": ""
            },
            "colorscale": [
             [
              0,
              "#0d0887"
             ],
             [
              0.1111111111111111,
              "#46039f"
             ],
             [
              0.2222222222222222,
              "#7201a8"
             ],
             [
              0.3333333333333333,
              "#9c179e"
             ],
             [
              0.4444444444444444,
              "#bd3786"
             ],
             [
              0.5555555555555556,
              "#d8576b"
             ],
             [
              0.6666666666666666,
              "#ed7953"
             ],
             [
              0.7777777777777778,
              "#fb9f3a"
             ],
             [
              0.8888888888888888,
              "#fdca26"
             ],
             [
              1,
              "#f0f921"
             ]
            ],
            "type": "surface"
           }
          ],
          "table": [
           {
            "cells": {
             "fill": {
              "color": "#506784"
             },
             "line": {
              "color": "rgb(17,17,17)"
             }
            },
            "header": {
             "fill": {
              "color": "#2a3f5f"
             },
             "line": {
              "color": "rgb(17,17,17)"
             }
            },
            "type": "table"
           }
          ]
         },
         "layout": {
          "annotationdefaults": {
           "arrowcolor": "#f2f5fa",
           "arrowhead": 0,
           "arrowwidth": 1
          },
          "autotypenumbers": "strict",
          "coloraxis": {
           "colorbar": {
            "outlinewidth": 0,
            "ticks": ""
           }
          },
          "colorscale": {
           "diverging": [
            [
             0,
             "#8e0152"
            ],
            [
             0.1,
             "#c51b7d"
            ],
            [
             0.2,
             "#de77ae"
            ],
            [
             0.3,
             "#f1b6da"
            ],
            [
             0.4,
             "#fde0ef"
            ],
            [
             0.5,
             "#f7f7f7"
            ],
            [
             0.6,
             "#e6f5d0"
            ],
            [
             0.7,
             "#b8e186"
            ],
            [
             0.8,
             "#7fbc41"
            ],
            [
             0.9,
             "#4d9221"
            ],
            [
             1,
             "#276419"
            ]
           ],
           "sequential": [
            [
             0,
             "#0d0887"
            ],
            [
             0.1111111111111111,
             "#46039f"
            ],
            [
             0.2222222222222222,
             "#7201a8"
            ],
            [
             0.3333333333333333,
             "#9c179e"
            ],
            [
             0.4444444444444444,
             "#bd3786"
            ],
            [
             0.5555555555555556,
             "#d8576b"
            ],
            [
             0.6666666666666666,
             "#ed7953"
            ],
            [
             0.7777777777777778,
             "#fb9f3a"
            ],
            [
             0.8888888888888888,
             "#fdca26"
            ],
            [
             1,
             "#f0f921"
            ]
           ],
           "sequentialminus": [
            [
             0,
             "#0d0887"
            ],
            [
             0.1111111111111111,
             "#46039f"
            ],
            [
             0.2222222222222222,
             "#7201a8"
            ],
            [
             0.3333333333333333,
             "#9c179e"
            ],
            [
             0.4444444444444444,
             "#bd3786"
            ],
            [
             0.5555555555555556,
             "#d8576b"
            ],
            [
             0.6666666666666666,
             "#ed7953"
            ],
            [
             0.7777777777777778,
             "#fb9f3a"
            ],
            [
             0.8888888888888888,
             "#fdca26"
            ],
            [
             1,
             "#f0f921"
            ]
           ]
          },
          "colorway": [
           "#636efa",
           "#EF553B",
           "#00cc96",
           "#ab63fa",
           "#FFA15A",
           "#19d3f3",
           "#FF6692",
           "#B6E880",
           "#FF97FF",
           "#FECB52"
          ],
          "font": {
           "color": "#f2f5fa"
          },
          "geo": {
           "bgcolor": "rgb(17,17,17)",
           "lakecolor": "rgb(17,17,17)",
           "landcolor": "rgb(17,17,17)",
           "showlakes": true,
           "showland": true,
           "subunitcolor": "#506784"
          },
          "hoverlabel": {
           "align": "left"
          },
          "hovermode": "closest",
          "mapbox": {
           "style": "dark"
          },
          "paper_bgcolor": "rgb(17,17,17)",
          "plot_bgcolor": "rgb(17,17,17)",
          "polar": {
           "angularaxis": {
            "gridcolor": "#506784",
            "linecolor": "#506784",
            "ticks": ""
           },
           "bgcolor": "rgb(17,17,17)",
           "radialaxis": {
            "gridcolor": "#506784",
            "linecolor": "#506784",
            "ticks": ""
           }
          },
          "scene": {
           "xaxis": {
            "backgroundcolor": "rgb(17,17,17)",
            "gridcolor": "#506784",
            "gridwidth": 2,
            "linecolor": "#506784",
            "showbackground": true,
            "ticks": "",
            "zerolinecolor": "#C8D4E3"
           },
           "yaxis": {
            "backgroundcolor": "rgb(17,17,17)",
            "gridcolor": "#506784",
            "gridwidth": 2,
            "linecolor": "#506784",
            "showbackground": true,
            "ticks": "",
            "zerolinecolor": "#C8D4E3"
           },
           "zaxis": {
            "backgroundcolor": "rgb(17,17,17)",
            "gridcolor": "#506784",
            "gridwidth": 2,
            "linecolor": "#506784",
            "showbackground": true,
            "ticks": "",
            "zerolinecolor": "#C8D4E3"
           }
          },
          "shapedefaults": {
           "line": {
            "color": "#f2f5fa"
           }
          },
          "sliderdefaults": {
           "bgcolor": "#C8D4E3",
           "bordercolor": "rgb(17,17,17)",
           "borderwidth": 1,
           "tickwidth": 0
          },
          "ternary": {
           "aaxis": {
            "gridcolor": "#506784",
            "linecolor": "#506784",
            "ticks": ""
           },
           "baxis": {
            "gridcolor": "#506784",
            "linecolor": "#506784",
            "ticks": ""
           },
           "bgcolor": "rgb(17,17,17)",
           "caxis": {
            "gridcolor": "#506784",
            "linecolor": "#506784",
            "ticks": ""
           }
          },
          "title": {
           "x": 0.05
          },
          "updatemenudefaults": {
           "bgcolor": "#506784",
           "borderwidth": 0
          },
          "xaxis": {
           "automargin": true,
           "gridcolor": "#283442",
           "linecolor": "#506784",
           "ticks": "",
           "title": {
            "standoff": 15
           },
           "zerolinecolor": "#283442",
           "zerolinewidth": 2
          },
          "yaxis": {
           "automargin": true,
           "gridcolor": "#283442",
           "linecolor": "#506784",
           "ticks": "",
           "title": {
            "standoff": 15
           },
           "zerolinecolor": "#283442",
           "zerolinewidth": 2
          }
         }
        },
        "xaxis": {
         "anchor": "y",
         "domain": [
          0,
          1
         ],
         "title": {
          "text": "order_type"
         }
        },
        "yaxis": {
         "anchor": "x",
         "domain": [
          0,
          1
         ],
         "title": {
          "text": "profit"
         }
        }
       }
      }
     },
     "metadata": {},
     "output_type": "display_data"
    },
    {
     "data": {
      "application/vnd.plotly.v1+json": {
       "config": {
        "plotlyServerURL": "https://plot.ly"
       },
       "data": [
        {
         "hovertemplate": "dayofweek=%{x}<br>profit=%{y}<extra></extra>",
         "legendgroup": "",
         "marker": {
          "color": "#636efa",
          "pattern": {
           "shape": ""
          }
         },
         "name": "",
         "orientation": "v",
         "showlegend": false,
         "textposition": "auto",
         "type": "bar",
         "x": {
          "bdata": "AAAAAAEAAAACAAAAAwAAAAQAAAA=",
          "dtype": "i4"
         },
         "xaxis": "x",
         "y": {
          "bdata": "AAAAAACAdUAAAAAAABCTQAAAAAAAsKdAAAAAAABQkkAAAAAAAEB+QA==",
          "dtype": "f8"
         },
         "yaxis": "y"
        }
       ],
       "layout": {
        "barmode": "relative",
        "legend": {
         "tracegroupgap": 0
        },
        "margin": {
         "t": 60
        },
        "template": {
         "data": {
          "bar": [
           {
            "error_x": {
             "color": "#f2f5fa"
            },
            "error_y": {
             "color": "#f2f5fa"
            },
            "marker": {
             "line": {
              "color": "rgb(17,17,17)",
              "width": 0.5
             },
             "pattern": {
              "fillmode": "overlay",
              "size": 10,
              "solidity": 0.2
             }
            },
            "type": "bar"
           }
          ],
          "barpolar": [
           {
            "marker": {
             "line": {
              "color": "rgb(17,17,17)",
              "width": 0.5
             },
             "pattern": {
              "fillmode": "overlay",
              "size": 10,
              "solidity": 0.2
             }
            },
            "type": "barpolar"
           }
          ],
          "carpet": [
           {
            "aaxis": {
             "endlinecolor": "#A2B1C6",
             "gridcolor": "#506784",
             "linecolor": "#506784",
             "minorgridcolor": "#506784",
             "startlinecolor": "#A2B1C6"
            },
            "baxis": {
             "endlinecolor": "#A2B1C6",
             "gridcolor": "#506784",
             "linecolor": "#506784",
             "minorgridcolor": "#506784",
             "startlinecolor": "#A2B1C6"
            },
            "type": "carpet"
           }
          ],
          "choropleth": [
           {
            "colorbar": {
             "outlinewidth": 0,
             "ticks": ""
            },
            "type": "choropleth"
           }
          ],
          "contour": [
           {
            "colorbar": {
             "outlinewidth": 0,
             "ticks": ""
            },
            "colorscale": [
             [
              0,
              "#0d0887"
             ],
             [
              0.1111111111111111,
              "#46039f"
             ],
             [
              0.2222222222222222,
              "#7201a8"
             ],
             [
              0.3333333333333333,
              "#9c179e"
             ],
             [
              0.4444444444444444,
              "#bd3786"
             ],
             [
              0.5555555555555556,
              "#d8576b"
             ],
             [
              0.6666666666666666,
              "#ed7953"
             ],
             [
              0.7777777777777778,
              "#fb9f3a"
             ],
             [
              0.8888888888888888,
              "#fdca26"
             ],
             [
              1,
              "#f0f921"
             ]
            ],
            "type": "contour"
           }
          ],
          "contourcarpet": [
           {
            "colorbar": {
             "outlinewidth": 0,
             "ticks": ""
            },
            "type": "contourcarpet"
           }
          ],
          "heatmap": [
           {
            "colorbar": {
             "outlinewidth": 0,
             "ticks": ""
            },
            "colorscale": [
             [
              0,
              "#0d0887"
             ],
             [
              0.1111111111111111,
              "#46039f"
             ],
             [
              0.2222222222222222,
              "#7201a8"
             ],
             [
              0.3333333333333333,
              "#9c179e"
             ],
             [
              0.4444444444444444,
              "#bd3786"
             ],
             [
              0.5555555555555556,
              "#d8576b"
             ],
             [
              0.6666666666666666,
              "#ed7953"
             ],
             [
              0.7777777777777778,
              "#fb9f3a"
             ],
             [
              0.8888888888888888,
              "#fdca26"
             ],
             [
              1,
              "#f0f921"
             ]
            ],
            "type": "heatmap"
           }
          ],
          "histogram": [
           {
            "marker": {
             "pattern": {
              "fillmode": "overlay",
              "size": 10,
              "solidity": 0.2
             }
            },
            "type": "histogram"
           }
          ],
          "histogram2d": [
           {
            "colorbar": {
             "outlinewidth": 0,
             "ticks": ""
            },
            "colorscale": [
             [
              0,
              "#0d0887"
             ],
             [
              0.1111111111111111,
              "#46039f"
             ],
             [
              0.2222222222222222,
              "#7201a8"
             ],
             [
              0.3333333333333333,
              "#9c179e"
             ],
             [
              0.4444444444444444,
              "#bd3786"
             ],
             [
              0.5555555555555556,
              "#d8576b"
             ],
             [
              0.6666666666666666,
              "#ed7953"
             ],
             [
              0.7777777777777778,
              "#fb9f3a"
             ],
             [
              0.8888888888888888,
              "#fdca26"
             ],
             [
              1,
              "#f0f921"
             ]
            ],
            "type": "histogram2d"
           }
          ],
          "histogram2dcontour": [
           {
            "colorbar": {
             "outlinewidth": 0,
             "ticks": ""
            },
            "colorscale": [
             [
              0,
              "#0d0887"
             ],
             [
              0.1111111111111111,
              "#46039f"
             ],
             [
              0.2222222222222222,
              "#7201a8"
             ],
             [
              0.3333333333333333,
              "#9c179e"
             ],
             [
              0.4444444444444444,
              "#bd3786"
             ],
             [
              0.5555555555555556,
              "#d8576b"
             ],
             [
              0.6666666666666666,
              "#ed7953"
             ],
             [
              0.7777777777777778,
              "#fb9f3a"
             ],
             [
              0.8888888888888888,
              "#fdca26"
             ],
             [
              1,
              "#f0f921"
             ]
            ],
            "type": "histogram2dcontour"
           }
          ],
          "mesh3d": [
           {
            "colorbar": {
             "outlinewidth": 0,
             "ticks": ""
            },
            "type": "mesh3d"
           }
          ],
          "parcoords": [
           {
            "line": {
             "colorbar": {
              "outlinewidth": 0,
              "ticks": ""
             }
            },
            "type": "parcoords"
           }
          ],
          "pie": [
           {
            "automargin": true,
            "type": "pie"
           }
          ],
          "scatter": [
           {
            "marker": {
             "line": {
              "color": "#283442"
             }
            },
            "type": "scatter"
           }
          ],
          "scatter3d": [
           {
            "line": {
             "colorbar": {
              "outlinewidth": 0,
              "ticks": ""
             }
            },
            "marker": {
             "colorbar": {
              "outlinewidth": 0,
              "ticks": ""
             }
            },
            "type": "scatter3d"
           }
          ],
          "scattercarpet": [
           {
            "marker": {
             "colorbar": {
              "outlinewidth": 0,
              "ticks": ""
             }
            },
            "type": "scattercarpet"
           }
          ],
          "scattergeo": [
           {
            "marker": {
             "colorbar": {
              "outlinewidth": 0,
              "ticks": ""
             }
            },
            "type": "scattergeo"
           }
          ],
          "scattergl": [
           {
            "marker": {
             "line": {
              "color": "#283442"
             }
            },
            "type": "scattergl"
           }
          ],
          "scattermap": [
           {
            "marker": {
             "colorbar": {
              "outlinewidth": 0,
              "ticks": ""
             }
            },
            "type": "scattermap"
           }
          ],
          "scattermapbox": [
           {
            "marker": {
             "colorbar": {
              "outlinewidth": 0,
              "ticks": ""
             }
            },
            "type": "scattermapbox"
           }
          ],
          "scatterpolar": [
           {
            "marker": {
             "colorbar": {
              "outlinewidth": 0,
              "ticks": ""
             }
            },
            "type": "scatterpolar"
           }
          ],
          "scatterpolargl": [
           {
            "marker": {
             "colorbar": {
              "outlinewidth": 0,
              "ticks": ""
             }
            },
            "type": "scatterpolargl"
           }
          ],
          "scatterternary": [
           {
            "marker": {
             "colorbar": {
              "outlinewidth": 0,
              "ticks": ""
             }
            },
            "type": "scatterternary"
           }
          ],
          "surface": [
           {
            "colorbar": {
             "outlinewidth": 0,
             "ticks": ""
            },
            "colorscale": [
             [
              0,
              "#0d0887"
             ],
             [
              0.1111111111111111,
              "#46039f"
             ],
             [
              0.2222222222222222,
              "#7201a8"
             ],
             [
              0.3333333333333333,
              "#9c179e"
             ],
             [
              0.4444444444444444,
              "#bd3786"
             ],
             [
              0.5555555555555556,
              "#d8576b"
             ],
             [
              0.6666666666666666,
              "#ed7953"
             ],
             [
              0.7777777777777778,
              "#fb9f3a"
             ],
             [
              0.8888888888888888,
              "#fdca26"
             ],
             [
              1,
              "#f0f921"
             ]
            ],
            "type": "surface"
           }
          ],
          "table": [
           {
            "cells": {
             "fill": {
              "color": "#506784"
             },
             "line": {
              "color": "rgb(17,17,17)"
             }
            },
            "header": {
             "fill": {
              "color": "#2a3f5f"
             },
             "line": {
              "color": "rgb(17,17,17)"
             }
            },
            "type": "table"
           }
          ]
         },
         "layout": {
          "annotationdefaults": {
           "arrowcolor": "#f2f5fa",
           "arrowhead": 0,
           "arrowwidth": 1
          },
          "autotypenumbers": "strict",
          "coloraxis": {
           "colorbar": {
            "outlinewidth": 0,
            "ticks": ""
           }
          },
          "colorscale": {
           "diverging": [
            [
             0,
             "#8e0152"
            ],
            [
             0.1,
             "#c51b7d"
            ],
            [
             0.2,
             "#de77ae"
            ],
            [
             0.3,
             "#f1b6da"
            ],
            [
             0.4,
             "#fde0ef"
            ],
            [
             0.5,
             "#f7f7f7"
            ],
            [
             0.6,
             "#e6f5d0"
            ],
            [
             0.7,
             "#b8e186"
            ],
            [
             0.8,
             "#7fbc41"
            ],
            [
             0.9,
             "#4d9221"
            ],
            [
             1,
             "#276419"
            ]
           ],
           "sequential": [
            [
             0,
             "#0d0887"
            ],
            [
             0.1111111111111111,
             "#46039f"
            ],
            [
             0.2222222222222222,
             "#7201a8"
            ],
            [
             0.3333333333333333,
             "#9c179e"
            ],
            [
             0.4444444444444444,
             "#bd3786"
            ],
            [
             0.5555555555555556,
             "#d8576b"
            ],
            [
             0.6666666666666666,
             "#ed7953"
            ],
            [
             0.7777777777777778,
             "#fb9f3a"
            ],
            [
             0.8888888888888888,
             "#fdca26"
            ],
            [
             1,
             "#f0f921"
            ]
           ],
           "sequentialminus": [
            [
             0,
             "#0d0887"
            ],
            [
             0.1111111111111111,
             "#46039f"
            ],
            [
             0.2222222222222222,
             "#7201a8"
            ],
            [
             0.3333333333333333,
             "#9c179e"
            ],
            [
             0.4444444444444444,
             "#bd3786"
            ],
            [
             0.5555555555555556,
             "#d8576b"
            ],
            [
             0.6666666666666666,
             "#ed7953"
            ],
            [
             0.7777777777777778,
             "#fb9f3a"
            ],
            [
             0.8888888888888888,
             "#fdca26"
            ],
            [
             1,
             "#f0f921"
            ]
           ]
          },
          "colorway": [
           "#636efa",
           "#EF553B",
           "#00cc96",
           "#ab63fa",
           "#FFA15A",
           "#19d3f3",
           "#FF6692",
           "#B6E880",
           "#FF97FF",
           "#FECB52"
          ],
          "font": {
           "color": "#f2f5fa"
          },
          "geo": {
           "bgcolor": "rgb(17,17,17)",
           "lakecolor": "rgb(17,17,17)",
           "landcolor": "rgb(17,17,17)",
           "showlakes": true,
           "showland": true,
           "subunitcolor": "#506784"
          },
          "hoverlabel": {
           "align": "left"
          },
          "hovermode": "closest",
          "mapbox": {
           "style": "dark"
          },
          "paper_bgcolor": "rgb(17,17,17)",
          "plot_bgcolor": "rgb(17,17,17)",
          "polar": {
           "angularaxis": {
            "gridcolor": "#506784",
            "linecolor": "#506784",
            "ticks": ""
           },
           "bgcolor": "rgb(17,17,17)",
           "radialaxis": {
            "gridcolor": "#506784",
            "linecolor": "#506784",
            "ticks": ""
           }
          },
          "scene": {
           "xaxis": {
            "backgroundcolor": "rgb(17,17,17)",
            "gridcolor": "#506784",
            "gridwidth": 2,
            "linecolor": "#506784",
            "showbackground": true,
            "ticks": "",
            "zerolinecolor": "#C8D4E3"
           },
           "yaxis": {
            "backgroundcolor": "rgb(17,17,17)",
            "gridcolor": "#506784",
            "gridwidth": 2,
            "linecolor": "#506784",
            "showbackground": true,
            "ticks": "",
            "zerolinecolor": "#C8D4E3"
           },
           "zaxis": {
            "backgroundcolor": "rgb(17,17,17)",
            "gridcolor": "#506784",
            "gridwidth": 2,
            "linecolor": "#506784",
            "showbackground": true,
            "ticks": "",
            "zerolinecolor": "#C8D4E3"
           }
          },
          "shapedefaults": {
           "line": {
            "color": "#f2f5fa"
           }
          },
          "sliderdefaults": {
           "bgcolor": "#C8D4E3",
           "bordercolor": "rgb(17,17,17)",
           "borderwidth": 1,
           "tickwidth": 0
          },
          "ternary": {
           "aaxis": {
            "gridcolor": "#506784",
            "linecolor": "#506784",
            "ticks": ""
           },
           "baxis": {
            "gridcolor": "#506784",
            "linecolor": "#506784",
            "ticks": ""
           },
           "bgcolor": "rgb(17,17,17)",
           "caxis": {
            "gridcolor": "#506784",
            "linecolor": "#506784",
            "ticks": ""
           }
          },
          "title": {
           "x": 0.05
          },
          "updatemenudefaults": {
           "bgcolor": "#506784",
           "borderwidth": 0
          },
          "xaxis": {
           "automargin": true,
           "gridcolor": "#283442",
           "linecolor": "#506784",
           "ticks": "",
           "title": {
            "standoff": 15
           },
           "zerolinecolor": "#283442",
           "zerolinewidth": 2
          },
          "yaxis": {
           "automargin": true,
           "gridcolor": "#283442",
           "linecolor": "#506784",
           "ticks": "",
           "title": {
            "standoff": 15
           },
           "zerolinecolor": "#283442",
           "zerolinewidth": 2
          }
         }
        },
        "xaxis": {
         "anchor": "y",
         "domain": [
          0,
          1
         ],
         "title": {
          "text": "dayofweek"
         }
        },
        "yaxis": {
         "anchor": "x",
         "domain": [
          0,
          1
         ],
         "title": {
          "text": "profit"
         }
        }
       }
      }
     },
     "metadata": {},
     "output_type": "display_data"
    },
    {
     "data": {
      "application/vnd.plotly.v1+json": {
       "config": {
        "plotlyServerURL": "https://plot.ly"
       },
       "data": [
        {
         "hovertemplate": "hourofday=%{x}<br>profit=%{y}<extra></extra>",
         "legendgroup": "",
         "marker": {
          "color": "#636efa",
          "pattern": {
           "shape": ""
          }
         },
         "name": "",
         "orientation": "v",
         "showlegend": false,
         "textposition": "auto",
         "type": "bar",
         "x": {
          "bdata": "AQAAAAIAAAADAAAABAAAAAUAAAAGAAAABwAAAAgAAAAJAAAACgAAAAsAAAAMAAAADQAAAA4AAAAPAAAAEAAAABIAAAATAAAAFAAAABUAAAAWAAAAFwAAAA==",
          "dtype": "i4"
         },
         "xaxis": "x",
         "y": {
          "bdata": "AAAAAABAgUAAAAAAAEB8QAAAAAAAgHhAAAAAAAAAcEAAAAAAAABxQAAAAAAAAFBAAAAAAACAb0AAAAAAAAB/QAAAAAAAgHhAAAAAAADAfkAAAAAAAABEwAAAAAAAAChAAAAAAAAATsAAAAAAAIB0QAAAAAAAQIFAAAAAAACAYUAAAAAAAIBlQAAAAAAAAHBAAAAAAAAAXUAAAAAAAMCLQAAAAAAAAGNAAAAAAAAAXUA=",
          "dtype": "f8"
         },
         "yaxis": "y"
        }
       ],
       "layout": {
        "barmode": "relative",
        "legend": {
         "tracegroupgap": 0
        },
        "margin": {
         "t": 60
        },
        "template": {
         "data": {
          "bar": [
           {
            "error_x": {
             "color": "#f2f5fa"
            },
            "error_y": {
             "color": "#f2f5fa"
            },
            "marker": {
             "line": {
              "color": "rgb(17,17,17)",
              "width": 0.5
             },
             "pattern": {
              "fillmode": "overlay",
              "size": 10,
              "solidity": 0.2
             }
            },
            "type": "bar"
           }
          ],
          "barpolar": [
           {
            "marker": {
             "line": {
              "color": "rgb(17,17,17)",
              "width": 0.5
             },
             "pattern": {
              "fillmode": "overlay",
              "size": 10,
              "solidity": 0.2
             }
            },
            "type": "barpolar"
           }
          ],
          "carpet": [
           {
            "aaxis": {
             "endlinecolor": "#A2B1C6",
             "gridcolor": "#506784",
             "linecolor": "#506784",
             "minorgridcolor": "#506784",
             "startlinecolor": "#A2B1C6"
            },
            "baxis": {
             "endlinecolor": "#A2B1C6",
             "gridcolor": "#506784",
             "linecolor": "#506784",
             "minorgridcolor": "#506784",
             "startlinecolor": "#A2B1C6"
            },
            "type": "carpet"
           }
          ],
          "choropleth": [
           {
            "colorbar": {
             "outlinewidth": 0,
             "ticks": ""
            },
            "type": "choropleth"
           }
          ],
          "contour": [
           {
            "colorbar": {
             "outlinewidth": 0,
             "ticks": ""
            },
            "colorscale": [
             [
              0,
              "#0d0887"
             ],
             [
              0.1111111111111111,
              "#46039f"
             ],
             [
              0.2222222222222222,
              "#7201a8"
             ],
             [
              0.3333333333333333,
              "#9c179e"
             ],
             [
              0.4444444444444444,
              "#bd3786"
             ],
             [
              0.5555555555555556,
              "#d8576b"
             ],
             [
              0.6666666666666666,
              "#ed7953"
             ],
             [
              0.7777777777777778,
              "#fb9f3a"
             ],
             [
              0.8888888888888888,
              "#fdca26"
             ],
             [
              1,
              "#f0f921"
             ]
            ],
            "type": "contour"
           }
          ],
          "contourcarpet": [
           {
            "colorbar": {
             "outlinewidth": 0,
             "ticks": ""
            },
            "type": "contourcarpet"
           }
          ],
          "heatmap": [
           {
            "colorbar": {
             "outlinewidth": 0,
             "ticks": ""
            },
            "colorscale": [
             [
              0,
              "#0d0887"
             ],
             [
              0.1111111111111111,
              "#46039f"
             ],
             [
              0.2222222222222222,
              "#7201a8"
             ],
             [
              0.3333333333333333,
              "#9c179e"
             ],
             [
              0.4444444444444444,
              "#bd3786"
             ],
             [
              0.5555555555555556,
              "#d8576b"
             ],
             [
              0.6666666666666666,
              "#ed7953"
             ],
             [
              0.7777777777777778,
              "#fb9f3a"
             ],
             [
              0.8888888888888888,
              "#fdca26"
             ],
             [
              1,
              "#f0f921"
             ]
            ],
            "type": "heatmap"
           }
          ],
          "histogram": [
           {
            "marker": {
             "pattern": {
              "fillmode": "overlay",
              "size": 10,
              "solidity": 0.2
             }
            },
            "type": "histogram"
           }
          ],
          "histogram2d": [
           {
            "colorbar": {
             "outlinewidth": 0,
             "ticks": ""
            },
            "colorscale": [
             [
              0,
              "#0d0887"
             ],
             [
              0.1111111111111111,
              "#46039f"
             ],
             [
              0.2222222222222222,
              "#7201a8"
             ],
             [
              0.3333333333333333,
              "#9c179e"
             ],
             [
              0.4444444444444444,
              "#bd3786"
             ],
             [
              0.5555555555555556,
              "#d8576b"
             ],
             [
              0.6666666666666666,
              "#ed7953"
             ],
             [
              0.7777777777777778,
              "#fb9f3a"
             ],
             [
              0.8888888888888888,
              "#fdca26"
             ],
             [
              1,
              "#f0f921"
             ]
            ],
            "type": "histogram2d"
           }
          ],
          "histogram2dcontour": [
           {
            "colorbar": {
             "outlinewidth": 0,
             "ticks": ""
            },
            "colorscale": [
             [
              0,
              "#0d0887"
             ],
             [
              0.1111111111111111,
              "#46039f"
             ],
             [
              0.2222222222222222,
              "#7201a8"
             ],
             [
              0.3333333333333333,
              "#9c179e"
             ],
             [
              0.4444444444444444,
              "#bd3786"
             ],
             [
              0.5555555555555556,
              "#d8576b"
             ],
             [
              0.6666666666666666,
              "#ed7953"
             ],
             [
              0.7777777777777778,
              "#fb9f3a"
             ],
             [
              0.8888888888888888,
              "#fdca26"
             ],
             [
              1,
              "#f0f921"
             ]
            ],
            "type": "histogram2dcontour"
           }
          ],
          "mesh3d": [
           {
            "colorbar": {
             "outlinewidth": 0,
             "ticks": ""
            },
            "type": "mesh3d"
           }
          ],
          "parcoords": [
           {
            "line": {
             "colorbar": {
              "outlinewidth": 0,
              "ticks": ""
             }
            },
            "type": "parcoords"
           }
          ],
          "pie": [
           {
            "automargin": true,
            "type": "pie"
           }
          ],
          "scatter": [
           {
            "marker": {
             "line": {
              "color": "#283442"
             }
            },
            "type": "scatter"
           }
          ],
          "scatter3d": [
           {
            "line": {
             "colorbar": {
              "outlinewidth": 0,
              "ticks": ""
             }
            },
            "marker": {
             "colorbar": {
              "outlinewidth": 0,
              "ticks": ""
             }
            },
            "type": "scatter3d"
           }
          ],
          "scattercarpet": [
           {
            "marker": {
             "colorbar": {
              "outlinewidth": 0,
              "ticks": ""
             }
            },
            "type": "scattercarpet"
           }
          ],
          "scattergeo": [
           {
            "marker": {
             "colorbar": {
              "outlinewidth": 0,
              "ticks": ""
             }
            },
            "type": "scattergeo"
           }
          ],
          "scattergl": [
           {
            "marker": {
             "line": {
              "color": "#283442"
             }
            },
            "type": "scattergl"
           }
          ],
          "scattermap": [
           {
            "marker": {
             "colorbar": {
              "outlinewidth": 0,
              "ticks": ""
             }
            },
            "type": "scattermap"
           }
          ],
          "scattermapbox": [
           {
            "marker": {
             "colorbar": {
              "outlinewidth": 0,
              "ticks": ""
             }
            },
            "type": "scattermapbox"
           }
          ],
          "scatterpolar": [
           {
            "marker": {
             "colorbar": {
              "outlinewidth": 0,
              "ticks": ""
             }
            },
            "type": "scatterpolar"
           }
          ],
          "scatterpolargl": [
           {
            "marker": {
             "colorbar": {
              "outlinewidth": 0,
              "ticks": ""
             }
            },
            "type": "scatterpolargl"
           }
          ],
          "scatterternary": [
           {
            "marker": {
             "colorbar": {
              "outlinewidth": 0,
              "ticks": ""
             }
            },
            "type": "scatterternary"
           }
          ],
          "surface": [
           {
            "colorbar": {
             "outlinewidth": 0,
             "ticks": ""
            },
            "colorscale": [
             [
              0,
              "#0d0887"
             ],
             [
              0.1111111111111111,
              "#46039f"
             ],
             [
              0.2222222222222222,
              "#7201a8"
             ],
             [
              0.3333333333333333,
              "#9c179e"
             ],
             [
              0.4444444444444444,
              "#bd3786"
             ],
             [
              0.5555555555555556,
              "#d8576b"
             ],
             [
              0.6666666666666666,
              "#ed7953"
             ],
             [
              0.7777777777777778,
              "#fb9f3a"
             ],
             [
              0.8888888888888888,
              "#fdca26"
             ],
             [
              1,
              "#f0f921"
             ]
            ],
            "type": "surface"
           }
          ],
          "table": [
           {
            "cells": {
             "fill": {
              "color": "#506784"
             },
             "line": {
              "color": "rgb(17,17,17)"
             }
            },
            "header": {
             "fill": {
              "color": "#2a3f5f"
             },
             "line": {
              "color": "rgb(17,17,17)"
             }
            },
            "type": "table"
           }
          ]
         },
         "layout": {
          "annotationdefaults": {
           "arrowcolor": "#f2f5fa",
           "arrowhead": 0,
           "arrowwidth": 1
          },
          "autotypenumbers": "strict",
          "coloraxis": {
           "colorbar": {
            "outlinewidth": 0,
            "ticks": ""
           }
          },
          "colorscale": {
           "diverging": [
            [
             0,
             "#8e0152"
            ],
            [
             0.1,
             "#c51b7d"
            ],
            [
             0.2,
             "#de77ae"
            ],
            [
             0.3,
             "#f1b6da"
            ],
            [
             0.4,
             "#fde0ef"
            ],
            [
             0.5,
             "#f7f7f7"
            ],
            [
             0.6,
             "#e6f5d0"
            ],
            [
             0.7,
             "#b8e186"
            ],
            [
             0.8,
             "#7fbc41"
            ],
            [
             0.9,
             "#4d9221"
            ],
            [
             1,
             "#276419"
            ]
           ],
           "sequential": [
            [
             0,
             "#0d0887"
            ],
            [
             0.1111111111111111,
             "#46039f"
            ],
            [
             0.2222222222222222,
             "#7201a8"
            ],
            [
             0.3333333333333333,
             "#9c179e"
            ],
            [
             0.4444444444444444,
             "#bd3786"
            ],
            [
             0.5555555555555556,
             "#d8576b"
            ],
            [
             0.6666666666666666,
             "#ed7953"
            ],
            [
             0.7777777777777778,
             "#fb9f3a"
            ],
            [
             0.8888888888888888,
             "#fdca26"
            ],
            [
             1,
             "#f0f921"
            ]
           ],
           "sequentialminus": [
            [
             0,
             "#0d0887"
            ],
            [
             0.1111111111111111,
             "#46039f"
            ],
            [
             0.2222222222222222,
             "#7201a8"
            ],
            [
             0.3333333333333333,
             "#9c179e"
            ],
            [
             0.4444444444444444,
             "#bd3786"
            ],
            [
             0.5555555555555556,
             "#d8576b"
            ],
            [
             0.6666666666666666,
             "#ed7953"
            ],
            [
             0.7777777777777778,
             "#fb9f3a"
            ],
            [
             0.8888888888888888,
             "#fdca26"
            ],
            [
             1,
             "#f0f921"
            ]
           ]
          },
          "colorway": [
           "#636efa",
           "#EF553B",
           "#00cc96",
           "#ab63fa",
           "#FFA15A",
           "#19d3f3",
           "#FF6692",
           "#B6E880",
           "#FF97FF",
           "#FECB52"
          ],
          "font": {
           "color": "#f2f5fa"
          },
          "geo": {
           "bgcolor": "rgb(17,17,17)",
           "lakecolor": "rgb(17,17,17)",
           "landcolor": "rgb(17,17,17)",
           "showlakes": true,
           "showland": true,
           "subunitcolor": "#506784"
          },
          "hoverlabel": {
           "align": "left"
          },
          "hovermode": "closest",
          "mapbox": {
           "style": "dark"
          },
          "paper_bgcolor": "rgb(17,17,17)",
          "plot_bgcolor": "rgb(17,17,17)",
          "polar": {
           "angularaxis": {
            "gridcolor": "#506784",
            "linecolor": "#506784",
            "ticks": ""
           },
           "bgcolor": "rgb(17,17,17)",
           "radialaxis": {
            "gridcolor": "#506784",
            "linecolor": "#506784",
            "ticks": ""
           }
          },
          "scene": {
           "xaxis": {
            "backgroundcolor": "rgb(17,17,17)",
            "gridcolor": "#506784",
            "gridwidth": 2,
            "linecolor": "#506784",
            "showbackground": true,
            "ticks": "",
            "zerolinecolor": "#C8D4E3"
           },
           "yaxis": {
            "backgroundcolor": "rgb(17,17,17)",
            "gridcolor": "#506784",
            "gridwidth": 2,
            "linecolor": "#506784",
            "showbackground": true,
            "ticks": "",
            "zerolinecolor": "#C8D4E3"
           },
           "zaxis": {
            "backgroundcolor": "rgb(17,17,17)",
            "gridcolor": "#506784",
            "gridwidth": 2,
            "linecolor": "#506784",
            "showbackground": true,
            "ticks": "",
            "zerolinecolor": "#C8D4E3"
           }
          },
          "shapedefaults": {
           "line": {
            "color": "#f2f5fa"
           }
          },
          "sliderdefaults": {
           "bgcolor": "#C8D4E3",
           "bordercolor": "rgb(17,17,17)",
           "borderwidth": 1,
           "tickwidth": 0
          },
          "ternary": {
           "aaxis": {
            "gridcolor": "#506784",
            "linecolor": "#506784",
            "ticks": ""
           },
           "baxis": {
            "gridcolor": "#506784",
            "linecolor": "#506784",
            "ticks": ""
           },
           "bgcolor": "rgb(17,17,17)",
           "caxis": {
            "gridcolor": "#506784",
            "linecolor": "#506784",
            "ticks": ""
           }
          },
          "title": {
           "x": 0.05
          },
          "updatemenudefaults": {
           "bgcolor": "#506784",
           "borderwidth": 0
          },
          "xaxis": {
           "automargin": true,
           "gridcolor": "#283442",
           "linecolor": "#506784",
           "ticks": "",
           "title": {
            "standoff": 15
           },
           "zerolinecolor": "#283442",
           "zerolinewidth": 2
          },
          "yaxis": {
           "automargin": true,
           "gridcolor": "#283442",
           "linecolor": "#506784",
           "ticks": "",
           "title": {
            "standoff": 15
           },
           "zerolinecolor": "#283442",
           "zerolinewidth": 2
          }
         }
        },
        "xaxis": {
         "anchor": "y",
         "domain": [
          0,
          1
         ],
         "title": {
          "text": "hourofday"
         }
        },
        "yaxis": {
         "anchor": "x",
         "domain": [
          0,
          1
         ],
         "title": {
          "text": "profit"
         }
        }
       }
      }
     },
     "metadata": {},
     "output_type": "display_data"
    },
    {
     "name": "stderr",
     "output_type": "stream",
     "text": [
      "c:\\Users\\hp\\python_finance_market_projects\\backtest.py:368: UserWarning:\n",
      "\n",
      "Converting to PeriodArray/Index representation will drop timezone information.\n",
      "\n"
     ]
    },
    {
     "data": {
      "application/vnd.plotly.v1+json": {
       "config": {
        "plotlyServerURL": "https://plot.ly"
       },
       "data": [
        {
         "hovertemplate": "Month=%{x}<br>Total Profit=%{y}<extra></extra>",
         "legendgroup": "",
         "marker": {
          "color": "#00CC96",
          "pattern": {
           "shape": ""
          }
         },
         "name": "",
         "orientation": "v",
         "showlegend": false,
         "textposition": "auto",
         "type": "bar",
         "x": [
          "2025-06",
          "2025-07",
          "2025-08"
         ],
         "xaxis": "x",
         "y": {
          "bdata": "AAAAAAAQkkAAAAAAAPCpQAAAAAAAwJtA",
          "dtype": "f8"
         },
         "yaxis": "y"
        }
       ],
       "layout": {
        "barmode": "relative",
        "legend": {
         "tracegroupgap": 0
        },
        "template": {
         "data": {
          "bar": [
           {
            "error_x": {
             "color": "#f2f5fa"
            },
            "error_y": {
             "color": "#f2f5fa"
            },
            "marker": {
             "line": {
              "color": "rgb(17,17,17)",
              "width": 0.5
             },
             "pattern": {
              "fillmode": "overlay",
              "size": 10,
              "solidity": 0.2
             }
            },
            "type": "bar"
           }
          ],
          "barpolar": [
           {
            "marker": {
             "line": {
              "color": "rgb(17,17,17)",
              "width": 0.5
             },
             "pattern": {
              "fillmode": "overlay",
              "size": 10,
              "solidity": 0.2
             }
            },
            "type": "barpolar"
           }
          ],
          "carpet": [
           {
            "aaxis": {
             "endlinecolor": "#A2B1C6",
             "gridcolor": "#506784",
             "linecolor": "#506784",
             "minorgridcolor": "#506784",
             "startlinecolor": "#A2B1C6"
            },
            "baxis": {
             "endlinecolor": "#A2B1C6",
             "gridcolor": "#506784",
             "linecolor": "#506784",
             "minorgridcolor": "#506784",
             "startlinecolor": "#A2B1C6"
            },
            "type": "carpet"
           }
          ],
          "choropleth": [
           {
            "colorbar": {
             "outlinewidth": 0,
             "ticks": ""
            },
            "type": "choropleth"
           }
          ],
          "contour": [
           {
            "colorbar": {
             "outlinewidth": 0,
             "ticks": ""
            },
            "colorscale": [
             [
              0,
              "#0d0887"
             ],
             [
              0.1111111111111111,
              "#46039f"
             ],
             [
              0.2222222222222222,
              "#7201a8"
             ],
             [
              0.3333333333333333,
              "#9c179e"
             ],
             [
              0.4444444444444444,
              "#bd3786"
             ],
             [
              0.5555555555555556,
              "#d8576b"
             ],
             [
              0.6666666666666666,
              "#ed7953"
             ],
             [
              0.7777777777777778,
              "#fb9f3a"
             ],
             [
              0.8888888888888888,
              "#fdca26"
             ],
             [
              1,
              "#f0f921"
             ]
            ],
            "type": "contour"
           }
          ],
          "contourcarpet": [
           {
            "colorbar": {
             "outlinewidth": 0,
             "ticks": ""
            },
            "type": "contourcarpet"
           }
          ],
          "heatmap": [
           {
            "colorbar": {
             "outlinewidth": 0,
             "ticks": ""
            },
            "colorscale": [
             [
              0,
              "#0d0887"
             ],
             [
              0.1111111111111111,
              "#46039f"
             ],
             [
              0.2222222222222222,
              "#7201a8"
             ],
             [
              0.3333333333333333,
              "#9c179e"
             ],
             [
              0.4444444444444444,
              "#bd3786"
             ],
             [
              0.5555555555555556,
              "#d8576b"
             ],
             [
              0.6666666666666666,
              "#ed7953"
             ],
             [
              0.7777777777777778,
              "#fb9f3a"
             ],
             [
              0.8888888888888888,
              "#fdca26"
             ],
             [
              1,
              "#f0f921"
             ]
            ],
            "type": "heatmap"
           }
          ],
          "histogram": [
           {
            "marker": {
             "pattern": {
              "fillmode": "overlay",
              "size": 10,
              "solidity": 0.2
             }
            },
            "type": "histogram"
           }
          ],
          "histogram2d": [
           {
            "colorbar": {
             "outlinewidth": 0,
             "ticks": ""
            },
            "colorscale": [
             [
              0,
              "#0d0887"
             ],
             [
              0.1111111111111111,
              "#46039f"
             ],
             [
              0.2222222222222222,
              "#7201a8"
             ],
             [
              0.3333333333333333,
              "#9c179e"
             ],
             [
              0.4444444444444444,
              "#bd3786"
             ],
             [
              0.5555555555555556,
              "#d8576b"
             ],
             [
              0.6666666666666666,
              "#ed7953"
             ],
             [
              0.7777777777777778,
              "#fb9f3a"
             ],
             [
              0.8888888888888888,
              "#fdca26"
             ],
             [
              1,
              "#f0f921"
             ]
            ],
            "type": "histogram2d"
           }
          ],
          "histogram2dcontour": [
           {
            "colorbar": {
             "outlinewidth": 0,
             "ticks": ""
            },
            "colorscale": [
             [
              0,
              "#0d0887"
             ],
             [
              0.1111111111111111,
              "#46039f"
             ],
             [
              0.2222222222222222,
              "#7201a8"
             ],
             [
              0.3333333333333333,
              "#9c179e"
             ],
             [
              0.4444444444444444,
              "#bd3786"
             ],
             [
              0.5555555555555556,
              "#d8576b"
             ],
             [
              0.6666666666666666,
              "#ed7953"
             ],
             [
              0.7777777777777778,
              "#fb9f3a"
             ],
             [
              0.8888888888888888,
              "#fdca26"
             ],
             [
              1,
              "#f0f921"
             ]
            ],
            "type": "histogram2dcontour"
           }
          ],
          "mesh3d": [
           {
            "colorbar": {
             "outlinewidth": 0,
             "ticks": ""
            },
            "type": "mesh3d"
           }
          ],
          "parcoords": [
           {
            "line": {
             "colorbar": {
              "outlinewidth": 0,
              "ticks": ""
             }
            },
            "type": "parcoords"
           }
          ],
          "pie": [
           {
            "automargin": true,
            "type": "pie"
           }
          ],
          "scatter": [
           {
            "marker": {
             "line": {
              "color": "#283442"
             }
            },
            "type": "scatter"
           }
          ],
          "scatter3d": [
           {
            "line": {
             "colorbar": {
              "outlinewidth": 0,
              "ticks": ""
             }
            },
            "marker": {
             "colorbar": {
              "outlinewidth": 0,
              "ticks": ""
             }
            },
            "type": "scatter3d"
           }
          ],
          "scattercarpet": [
           {
            "marker": {
             "colorbar": {
              "outlinewidth": 0,
              "ticks": ""
             }
            },
            "type": "scattercarpet"
           }
          ],
          "scattergeo": [
           {
            "marker": {
             "colorbar": {
              "outlinewidth": 0,
              "ticks": ""
             }
            },
            "type": "scattergeo"
           }
          ],
          "scattergl": [
           {
            "marker": {
             "line": {
              "color": "#283442"
             }
            },
            "type": "scattergl"
           }
          ],
          "scattermap": [
           {
            "marker": {
             "colorbar": {
              "outlinewidth": 0,
              "ticks": ""
             }
            },
            "type": "scattermap"
           }
          ],
          "scattermapbox": [
           {
            "marker": {
             "colorbar": {
              "outlinewidth": 0,
              "ticks": ""
             }
            },
            "type": "scattermapbox"
           }
          ],
          "scatterpolar": [
           {
            "marker": {
             "colorbar": {
              "outlinewidth": 0,
              "ticks": ""
             }
            },
            "type": "scatterpolar"
           }
          ],
          "scatterpolargl": [
           {
            "marker": {
             "colorbar": {
              "outlinewidth": 0,
              "ticks": ""
             }
            },
            "type": "scatterpolargl"
           }
          ],
          "scatterternary": [
           {
            "marker": {
             "colorbar": {
              "outlinewidth": 0,
              "ticks": ""
             }
            },
            "type": "scatterternary"
           }
          ],
          "surface": [
           {
            "colorbar": {
             "outlinewidth": 0,
             "ticks": ""
            },
            "colorscale": [
             [
              0,
              "#0d0887"
             ],
             [
              0.1111111111111111,
              "#46039f"
             ],
             [
              0.2222222222222222,
              "#7201a8"
             ],
             [
              0.3333333333333333,
              "#9c179e"
             ],
             [
              0.4444444444444444,
              "#bd3786"
             ],
             [
              0.5555555555555556,
              "#d8576b"
             ],
             [
              0.6666666666666666,
              "#ed7953"
             ],
             [
              0.7777777777777778,
              "#fb9f3a"
             ],
             [
              0.8888888888888888,
              "#fdca26"
             ],
             [
              1,
              "#f0f921"
             ]
            ],
            "type": "surface"
           }
          ],
          "table": [
           {
            "cells": {
             "fill": {
              "color": "#506784"
             },
             "line": {
              "color": "rgb(17,17,17)"
             }
            },
            "header": {
             "fill": {
              "color": "#2a3f5f"
             },
             "line": {
              "color": "rgb(17,17,17)"
             }
            },
            "type": "table"
           }
          ]
         },
         "layout": {
          "annotationdefaults": {
           "arrowcolor": "#f2f5fa",
           "arrowhead": 0,
           "arrowwidth": 1
          },
          "autotypenumbers": "strict",
          "coloraxis": {
           "colorbar": {
            "outlinewidth": 0,
            "ticks": ""
           }
          },
          "colorscale": {
           "diverging": [
            [
             0,
             "#8e0152"
            ],
            [
             0.1,
             "#c51b7d"
            ],
            [
             0.2,
             "#de77ae"
            ],
            [
             0.3,
             "#f1b6da"
            ],
            [
             0.4,
             "#fde0ef"
            ],
            [
             0.5,
             "#f7f7f7"
            ],
            [
             0.6,
             "#e6f5d0"
            ],
            [
             0.7,
             "#b8e186"
            ],
            [
             0.8,
             "#7fbc41"
            ],
            [
             0.9,
             "#4d9221"
            ],
            [
             1,
             "#276419"
            ]
           ],
           "sequential": [
            [
             0,
             "#0d0887"
            ],
            [
             0.1111111111111111,
             "#46039f"
            ],
            [
             0.2222222222222222,
             "#7201a8"
            ],
            [
             0.3333333333333333,
             "#9c179e"
            ],
            [
             0.4444444444444444,
             "#bd3786"
            ],
            [
             0.5555555555555556,
             "#d8576b"
            ],
            [
             0.6666666666666666,
             "#ed7953"
            ],
            [
             0.7777777777777778,
             "#fb9f3a"
            ],
            [
             0.8888888888888888,
             "#fdca26"
            ],
            [
             1,
             "#f0f921"
            ]
           ],
           "sequentialminus": [
            [
             0,
             "#0d0887"
            ],
            [
             0.1111111111111111,
             "#46039f"
            ],
            [
             0.2222222222222222,
             "#7201a8"
            ],
            [
             0.3333333333333333,
             "#9c179e"
            ],
            [
             0.4444444444444444,
             "#bd3786"
            ],
            [
             0.5555555555555556,
             "#d8576b"
            ],
            [
             0.6666666666666666,
             "#ed7953"
            ],
            [
             0.7777777777777778,
             "#fb9f3a"
            ],
            [
             0.8888888888888888,
             "#fdca26"
            ],
            [
             1,
             "#f0f921"
            ]
           ]
          },
          "colorway": [
           "#636efa",
           "#EF553B",
           "#00cc96",
           "#ab63fa",
           "#FFA15A",
           "#19d3f3",
           "#FF6692",
           "#B6E880",
           "#FF97FF",
           "#FECB52"
          ],
          "font": {
           "color": "#f2f5fa"
          },
          "geo": {
           "bgcolor": "rgb(17,17,17)",
           "lakecolor": "rgb(17,17,17)",
           "landcolor": "rgb(17,17,17)",
           "showlakes": true,
           "showland": true,
           "subunitcolor": "#506784"
          },
          "hoverlabel": {
           "align": "left"
          },
          "hovermode": "closest",
          "mapbox": {
           "style": "dark"
          },
          "paper_bgcolor": "rgb(17,17,17)",
          "plot_bgcolor": "rgb(17,17,17)",
          "polar": {
           "angularaxis": {
            "gridcolor": "#506784",
            "linecolor": "#506784",
            "ticks": ""
           },
           "bgcolor": "rgb(17,17,17)",
           "radialaxis": {
            "gridcolor": "#506784",
            "linecolor": "#506784",
            "ticks": ""
           }
          },
          "scene": {
           "xaxis": {
            "backgroundcolor": "rgb(17,17,17)",
            "gridcolor": "#506784",
            "gridwidth": 2,
            "linecolor": "#506784",
            "showbackground": true,
            "ticks": "",
            "zerolinecolor": "#C8D4E3"
           },
           "yaxis": {
            "backgroundcolor": "rgb(17,17,17)",
            "gridcolor": "#506784",
            "gridwidth": 2,
            "linecolor": "#506784",
            "showbackground": true,
            "ticks": "",
            "zerolinecolor": "#C8D4E3"
           },
           "zaxis": {
            "backgroundcolor": "rgb(17,17,17)",
            "gridcolor": "#506784",
            "gridwidth": 2,
            "linecolor": "#506784",
            "showbackground": true,
            "ticks": "",
            "zerolinecolor": "#C8D4E3"
           }
          },
          "shapedefaults": {
           "line": {
            "color": "#f2f5fa"
           }
          },
          "sliderdefaults": {
           "bgcolor": "#C8D4E3",
           "bordercolor": "rgb(17,17,17)",
           "borderwidth": 1,
           "tickwidth": 0
          },
          "ternary": {
           "aaxis": {
            "gridcolor": "#506784",
            "linecolor": "#506784",
            "ticks": ""
           },
           "baxis": {
            "gridcolor": "#506784",
            "linecolor": "#506784",
            "ticks": ""
           },
           "bgcolor": "rgb(17,17,17)",
           "caxis": {
            "gridcolor": "#506784",
            "linecolor": "#506784",
            "ticks": ""
           }
          },
          "title": {
           "x": 0.05
          },
          "updatemenudefaults": {
           "bgcolor": "#506784",
           "borderwidth": 0
          },
          "xaxis": {
           "automargin": true,
           "gridcolor": "#283442",
           "linecolor": "#506784",
           "ticks": "",
           "title": {
            "standoff": 15
           },
           "zerolinecolor": "#283442",
           "zerolinewidth": 2
          },
          "yaxis": {
           "automargin": true,
           "gridcolor": "#283442",
           "linecolor": "#506784",
           "ticks": "",
           "title": {
            "standoff": 15
           },
           "zerolinecolor": "#283442",
           "zerolinewidth": 2
          }
         }
        },
        "title": {
         "text": "Total Profit Per Month"
        },
        "xaxis": {
         "anchor": "y",
         "domain": [
          0,
          1
         ],
         "tickangle": -45,
         "title": {
          "text": "Month"
         }
        },
        "yaxis": {
         "anchor": "x",
         "domain": [
          0,
          1
         ],
         "title": {
          "text": "Total Profit"
         }
        }
       }
      }
     },
     "metadata": {},
     "output_type": "display_data"
    },
    {
     "data": {
      "application/vnd.plotly.v1+json": {
       "config": {
        "plotlyServerURL": "https://plot.ly"
       },
       "data": [
        {
         "hovertemplate": "Year=%{x}<br>Total Profit=%{y}<extra></extra>",
         "legendgroup": "",
         "marker": {
          "color": "#EF553B",
          "pattern": {
           "shape": ""
          }
         },
         "name": "",
         "orientation": "v",
         "showlegend": false,
         "textposition": "auto",
         "type": "bar",
         "x": {
          "bdata": "6QcAAA==",
          "dtype": "i4"
         },
         "xaxis": "x",
         "y": {
          "bdata": "AAAAAABsuEA=",
          "dtype": "f8"
         },
         "yaxis": "y"
        }
       ],
       "layout": {
        "barmode": "relative",
        "legend": {
         "tracegroupgap": 0
        },
        "template": {
         "data": {
          "bar": [
           {
            "error_x": {
             "color": "#f2f5fa"
            },
            "error_y": {
             "color": "#f2f5fa"
            },
            "marker": {
             "line": {
              "color": "rgb(17,17,17)",
              "width": 0.5
             },
             "pattern": {
              "fillmode": "overlay",
              "size": 10,
              "solidity": 0.2
             }
            },
            "type": "bar"
           }
          ],
          "barpolar": [
           {
            "marker": {
             "line": {
              "color": "rgb(17,17,17)",
              "width": 0.5
             },
             "pattern": {
              "fillmode": "overlay",
              "size": 10,
              "solidity": 0.2
             }
            },
            "type": "barpolar"
           }
          ],
          "carpet": [
           {
            "aaxis": {
             "endlinecolor": "#A2B1C6",
             "gridcolor": "#506784",
             "linecolor": "#506784",
             "minorgridcolor": "#506784",
             "startlinecolor": "#A2B1C6"
            },
            "baxis": {
             "endlinecolor": "#A2B1C6",
             "gridcolor": "#506784",
             "linecolor": "#506784",
             "minorgridcolor": "#506784",
             "startlinecolor": "#A2B1C6"
            },
            "type": "carpet"
           }
          ],
          "choropleth": [
           {
            "colorbar": {
             "outlinewidth": 0,
             "ticks": ""
            },
            "type": "choropleth"
           }
          ],
          "contour": [
           {
            "colorbar": {
             "outlinewidth": 0,
             "ticks": ""
            },
            "colorscale": [
             [
              0,
              "#0d0887"
             ],
             [
              0.1111111111111111,
              "#46039f"
             ],
             [
              0.2222222222222222,
              "#7201a8"
             ],
             [
              0.3333333333333333,
              "#9c179e"
             ],
             [
              0.4444444444444444,
              "#bd3786"
             ],
             [
              0.5555555555555556,
              "#d8576b"
             ],
             [
              0.6666666666666666,
              "#ed7953"
             ],
             [
              0.7777777777777778,
              "#fb9f3a"
             ],
             [
              0.8888888888888888,
              "#fdca26"
             ],
             [
              1,
              "#f0f921"
             ]
            ],
            "type": "contour"
           }
          ],
          "contourcarpet": [
           {
            "colorbar": {
             "outlinewidth": 0,
             "ticks": ""
            },
            "type": "contourcarpet"
           }
          ],
          "heatmap": [
           {
            "colorbar": {
             "outlinewidth": 0,
             "ticks": ""
            },
            "colorscale": [
             [
              0,
              "#0d0887"
             ],
             [
              0.1111111111111111,
              "#46039f"
             ],
             [
              0.2222222222222222,
              "#7201a8"
             ],
             [
              0.3333333333333333,
              "#9c179e"
             ],
             [
              0.4444444444444444,
              "#bd3786"
             ],
             [
              0.5555555555555556,
              "#d8576b"
             ],
             [
              0.6666666666666666,
              "#ed7953"
             ],
             [
              0.7777777777777778,
              "#fb9f3a"
             ],
             [
              0.8888888888888888,
              "#fdca26"
             ],
             [
              1,
              "#f0f921"
             ]
            ],
            "type": "heatmap"
           }
          ],
          "histogram": [
           {
            "marker": {
             "pattern": {
              "fillmode": "overlay",
              "size": 10,
              "solidity": 0.2
             }
            },
            "type": "histogram"
           }
          ],
          "histogram2d": [
           {
            "colorbar": {
             "outlinewidth": 0,
             "ticks": ""
            },
            "colorscale": [
             [
              0,
              "#0d0887"
             ],
             [
              0.1111111111111111,
              "#46039f"
             ],
             [
              0.2222222222222222,
              "#7201a8"
             ],
             [
              0.3333333333333333,
              "#9c179e"
             ],
             [
              0.4444444444444444,
              "#bd3786"
             ],
             [
              0.5555555555555556,
              "#d8576b"
             ],
             [
              0.6666666666666666,
              "#ed7953"
             ],
             [
              0.7777777777777778,
              "#fb9f3a"
             ],
             [
              0.8888888888888888,
              "#fdca26"
             ],
             [
              1,
              "#f0f921"
             ]
            ],
            "type": "histogram2d"
           }
          ],
          "histogram2dcontour": [
           {
            "colorbar": {
             "outlinewidth": 0,
             "ticks": ""
            },
            "colorscale": [
             [
              0,
              "#0d0887"
             ],
             [
              0.1111111111111111,
              "#46039f"
             ],
             [
              0.2222222222222222,
              "#7201a8"
             ],
             [
              0.3333333333333333,
              "#9c179e"
             ],
             [
              0.4444444444444444,
              "#bd3786"
             ],
             [
              0.5555555555555556,
              "#d8576b"
             ],
             [
              0.6666666666666666,
              "#ed7953"
             ],
             [
              0.7777777777777778,
              "#fb9f3a"
             ],
             [
              0.8888888888888888,
              "#fdca26"
             ],
             [
              1,
              "#f0f921"
             ]
            ],
            "type": "histogram2dcontour"
           }
          ],
          "mesh3d": [
           {
            "colorbar": {
             "outlinewidth": 0,
             "ticks": ""
            },
            "type": "mesh3d"
           }
          ],
          "parcoords": [
           {
            "line": {
             "colorbar": {
              "outlinewidth": 0,
              "ticks": ""
             }
            },
            "type": "parcoords"
           }
          ],
          "pie": [
           {
            "automargin": true,
            "type": "pie"
           }
          ],
          "scatter": [
           {
            "marker": {
             "line": {
              "color": "#283442"
             }
            },
            "type": "scatter"
           }
          ],
          "scatter3d": [
           {
            "line": {
             "colorbar": {
              "outlinewidth": 0,
              "ticks": ""
             }
            },
            "marker": {
             "colorbar": {
              "outlinewidth": 0,
              "ticks": ""
             }
            },
            "type": "scatter3d"
           }
          ],
          "scattercarpet": [
           {
            "marker": {
             "colorbar": {
              "outlinewidth": 0,
              "ticks": ""
             }
            },
            "type": "scattercarpet"
           }
          ],
          "scattergeo": [
           {
            "marker": {
             "colorbar": {
              "outlinewidth": 0,
              "ticks": ""
             }
            },
            "type": "scattergeo"
           }
          ],
          "scattergl": [
           {
            "marker": {
             "line": {
              "color": "#283442"
             }
            },
            "type": "scattergl"
           }
          ],
          "scattermap": [
           {
            "marker": {
             "colorbar": {
              "outlinewidth": 0,
              "ticks": ""
             }
            },
            "type": "scattermap"
           }
          ],
          "scattermapbox": [
           {
            "marker": {
             "colorbar": {
              "outlinewidth": 0,
              "ticks": ""
             }
            },
            "type": "scattermapbox"
           }
          ],
          "scatterpolar": [
           {
            "marker": {
             "colorbar": {
              "outlinewidth": 0,
              "ticks": ""
             }
            },
            "type": "scatterpolar"
           }
          ],
          "scatterpolargl": [
           {
            "marker": {
             "colorbar": {
              "outlinewidth": 0,
              "ticks": ""
             }
            },
            "type": "scatterpolargl"
           }
          ],
          "scatterternary": [
           {
            "marker": {
             "colorbar": {
              "outlinewidth": 0,
              "ticks": ""
             }
            },
            "type": "scatterternary"
           }
          ],
          "surface": [
           {
            "colorbar": {
             "outlinewidth": 0,
             "ticks": ""
            },
            "colorscale": [
             [
              0,
              "#0d0887"
             ],
             [
              0.1111111111111111,
              "#46039f"
             ],
             [
              0.2222222222222222,
              "#7201a8"
             ],
             [
              0.3333333333333333,
              "#9c179e"
             ],
             [
              0.4444444444444444,
              "#bd3786"
             ],
             [
              0.5555555555555556,
              "#d8576b"
             ],
             [
              0.6666666666666666,
              "#ed7953"
             ],
             [
              0.7777777777777778,
              "#fb9f3a"
             ],
             [
              0.8888888888888888,
              "#fdca26"
             ],
             [
              1,
              "#f0f921"
             ]
            ],
            "type": "surface"
           }
          ],
          "table": [
           {
            "cells": {
             "fill": {
              "color": "#506784"
             },
             "line": {
              "color": "rgb(17,17,17)"
             }
            },
            "header": {
             "fill": {
              "color": "#2a3f5f"
             },
             "line": {
              "color": "rgb(17,17,17)"
             }
            },
            "type": "table"
           }
          ]
         },
         "layout": {
          "annotationdefaults": {
           "arrowcolor": "#f2f5fa",
           "arrowhead": 0,
           "arrowwidth": 1
          },
          "autotypenumbers": "strict",
          "coloraxis": {
           "colorbar": {
            "outlinewidth": 0,
            "ticks": ""
           }
          },
          "colorscale": {
           "diverging": [
            [
             0,
             "#8e0152"
            ],
            [
             0.1,
             "#c51b7d"
            ],
            [
             0.2,
             "#de77ae"
            ],
            [
             0.3,
             "#f1b6da"
            ],
            [
             0.4,
             "#fde0ef"
            ],
            [
             0.5,
             "#f7f7f7"
            ],
            [
             0.6,
             "#e6f5d0"
            ],
            [
             0.7,
             "#b8e186"
            ],
            [
             0.8,
             "#7fbc41"
            ],
            [
             0.9,
             "#4d9221"
            ],
            [
             1,
             "#276419"
            ]
           ],
           "sequential": [
            [
             0,
             "#0d0887"
            ],
            [
             0.1111111111111111,
             "#46039f"
            ],
            [
             0.2222222222222222,
             "#7201a8"
            ],
            [
             0.3333333333333333,
             "#9c179e"
            ],
            [
             0.4444444444444444,
             "#bd3786"
            ],
            [
             0.5555555555555556,
             "#d8576b"
            ],
            [
             0.6666666666666666,
             "#ed7953"
            ],
            [
             0.7777777777777778,
             "#fb9f3a"
            ],
            [
             0.8888888888888888,
             "#fdca26"
            ],
            [
             1,
             "#f0f921"
            ]
           ],
           "sequentialminus": [
            [
             0,
             "#0d0887"
            ],
            [
             0.1111111111111111,
             "#46039f"
            ],
            [
             0.2222222222222222,
             "#7201a8"
            ],
            [
             0.3333333333333333,
             "#9c179e"
            ],
            [
             0.4444444444444444,
             "#bd3786"
            ],
            [
             0.5555555555555556,
             "#d8576b"
            ],
            [
             0.6666666666666666,
             "#ed7953"
            ],
            [
             0.7777777777777778,
             "#fb9f3a"
            ],
            [
             0.8888888888888888,
             "#fdca26"
            ],
            [
             1,
             "#f0f921"
            ]
           ]
          },
          "colorway": [
           "#636efa",
           "#EF553B",
           "#00cc96",
           "#ab63fa",
           "#FFA15A",
           "#19d3f3",
           "#FF6692",
           "#B6E880",
           "#FF97FF",
           "#FECB52"
          ],
          "font": {
           "color": "#f2f5fa"
          },
          "geo": {
           "bgcolor": "rgb(17,17,17)",
           "lakecolor": "rgb(17,17,17)",
           "landcolor": "rgb(17,17,17)",
           "showlakes": true,
           "showland": true,
           "subunitcolor": "#506784"
          },
          "hoverlabel": {
           "align": "left"
          },
          "hovermode": "closest",
          "mapbox": {
           "style": "dark"
          },
          "paper_bgcolor": "rgb(17,17,17)",
          "plot_bgcolor": "rgb(17,17,17)",
          "polar": {
           "angularaxis": {
            "gridcolor": "#506784",
            "linecolor": "#506784",
            "ticks": ""
           },
           "bgcolor": "rgb(17,17,17)",
           "radialaxis": {
            "gridcolor": "#506784",
            "linecolor": "#506784",
            "ticks": ""
           }
          },
          "scene": {
           "xaxis": {
            "backgroundcolor": "rgb(17,17,17)",
            "gridcolor": "#506784",
            "gridwidth": 2,
            "linecolor": "#506784",
            "showbackground": true,
            "ticks": "",
            "zerolinecolor": "#C8D4E3"
           },
           "yaxis": {
            "backgroundcolor": "rgb(17,17,17)",
            "gridcolor": "#506784",
            "gridwidth": 2,
            "linecolor": "#506784",
            "showbackground": true,
            "ticks": "",
            "zerolinecolor": "#C8D4E3"
           },
           "zaxis": {
            "backgroundcolor": "rgb(17,17,17)",
            "gridcolor": "#506784",
            "gridwidth": 2,
            "linecolor": "#506784",
            "showbackground": true,
            "ticks": "",
            "zerolinecolor": "#C8D4E3"
           }
          },
          "shapedefaults": {
           "line": {
            "color": "#f2f5fa"
           }
          },
          "sliderdefaults": {
           "bgcolor": "#C8D4E3",
           "bordercolor": "rgb(17,17,17)",
           "borderwidth": 1,
           "tickwidth": 0
          },
          "ternary": {
           "aaxis": {
            "gridcolor": "#506784",
            "linecolor": "#506784",
            "ticks": ""
           },
           "baxis": {
            "gridcolor": "#506784",
            "linecolor": "#506784",
            "ticks": ""
           },
           "bgcolor": "rgb(17,17,17)",
           "caxis": {
            "gridcolor": "#506784",
            "linecolor": "#506784",
            "ticks": ""
           }
          },
          "title": {
           "x": 0.05
          },
          "updatemenudefaults": {
           "bgcolor": "#506784",
           "borderwidth": 0
          },
          "xaxis": {
           "automargin": true,
           "gridcolor": "#283442",
           "linecolor": "#506784",
           "ticks": "",
           "title": {
            "standoff": 15
           },
           "zerolinecolor": "#283442",
           "zerolinewidth": 2
          },
          "yaxis": {
           "automargin": true,
           "gridcolor": "#283442",
           "linecolor": "#506784",
           "ticks": "",
           "title": {
            "standoff": 15
           },
           "zerolinecolor": "#283442",
           "zerolinewidth": 2
          }
         }
        },
        "title": {
         "text": "Total Profit Per Year"
        },
        "xaxis": {
         "anchor": "y",
         "domain": [
          0,
          1
         ],
         "title": {
          "text": "Year"
         },
         "type": "category"
        },
        "yaxis": {
         "anchor": "x",
         "domain": [
          0,
          1
         ],
         "title": {
          "text": "Total Profit"
         }
        }
       }
      }
     },
     "metadata": {},
     "output_type": "display_data"
    },
    {
     "data": {
      "text/html": [
       "<div>\n",
       "<style scoped>\n",
       "    .dataframe tbody tr th:only-of-type {\n",
       "        vertical-align: middle;\n",
       "    }\n",
       "\n",
       "    .dataframe tbody tr th {\n",
       "        vertical-align: top;\n",
       "    }\n",
       "\n",
       "    .dataframe thead th {\n",
       "        text-align: right;\n",
       "    }\n",
       "</style>\n",
       "<table border=\"1\" class=\"dataframe\">\n",
       "  <thead>\n",
       "    <tr style=\"text-align: right;\">\n",
       "      <th></th>\n",
       "      <th>state</th>\n",
       "      <th>symbol</th>\n",
       "      <th>order_type</th>\n",
       "      <th>volume</th>\n",
       "      <th>open_time</th>\n",
       "      <th>open_price</th>\n",
       "      <th>close_time</th>\n",
       "      <th>close_price</th>\n",
       "      <th>sl</th>\n",
       "      <th>tp</th>\n",
       "      <th>info</th>\n",
       "      <th>profit</th>\n",
       "      <th>commission</th>\n",
       "      <th>profit_net</th>\n",
       "      <th>profit_cumulative</th>\n",
       "      <th>balance</th>\n",
       "      <th>current_max</th>\n",
       "      <th>drawdown</th>\n",
       "    </tr>\n",
       "  </thead>\n",
       "  <tbody>\n",
       "    <tr>\n",
       "      <th>0</th>\n",
       "      <td>closed</td>\n",
       "      <td>EURUSD</td>\n",
       "      <td>buy</td>\n",
       "      <td>400000</td>\n",
       "      <td>2025-06-03 15:34:00+00:00</td>\n",
       "      <td>1.13783</td>\n",
       "      <td>2025-06-03 15:35:00+00:00</td>\n",
       "      <td>1.13805</td>\n",
       "      <td>0</td>\n",
       "      <td>0</td>\n",
       "      <td>{}</td>\n",
       "      <td>88.0</td>\n",
       "      <td>-28.0</td>\n",
       "      <td>60.0</td>\n",
       "      <td>60.0</td>\n",
       "      <td>10060.0</td>\n",
       "      <td>60.0</td>\n",
       "      <td>0.0</td>\n",
       "    </tr>\n",
       "    <tr>\n",
       "      <th>1</th>\n",
       "      <td>closed</td>\n",
       "      <td>EURUSD</td>\n",
       "      <td>buy</td>\n",
       "      <td>400000</td>\n",
       "      <td>2025-06-03 21:48:00+00:00</td>\n",
       "      <td>1.13713</td>\n",
       "      <td>2025-06-03 21:49:00+00:00</td>\n",
       "      <td>1.13723</td>\n",
       "      <td>0</td>\n",
       "      <td>0</td>\n",
       "      <td>{}</td>\n",
       "      <td>40.0</td>\n",
       "      <td>-28.0</td>\n",
       "      <td>12.0</td>\n",
       "      <td>72.0</td>\n",
       "      <td>10072.0</td>\n",
       "      <td>72.0</td>\n",
       "      <td>0.0</td>\n",
       "    </tr>\n",
       "    <tr>\n",
       "      <th>2</th>\n",
       "      <td>closed</td>\n",
       "      <td>EURUSD</td>\n",
       "      <td>buy</td>\n",
       "      <td>400000</td>\n",
       "      <td>2025-06-03 22:21:00+00:00</td>\n",
       "      <td>1.13714</td>\n",
       "      <td>2025-06-03 22:22:00+00:00</td>\n",
       "      <td>1.13724</td>\n",
       "      <td>0</td>\n",
       "      <td>0</td>\n",
       "      <td>{}</td>\n",
       "      <td>40.0</td>\n",
       "      <td>-28.0</td>\n",
       "      <td>12.0</td>\n",
       "      <td>84.0</td>\n",
       "      <td>10084.0</td>\n",
       "      <td>84.0</td>\n",
       "      <td>0.0</td>\n",
       "    </tr>\n",
       "    <tr>\n",
       "      <th>3</th>\n",
       "      <td>closed</td>\n",
       "      <td>EURUSD</td>\n",
       "      <td>buy</td>\n",
       "      <td>400000</td>\n",
       "      <td>2025-06-04 01:27:00+00:00</td>\n",
       "      <td>1.13712</td>\n",
       "      <td>2025-06-04 01:28:00+00:00</td>\n",
       "      <td>1.13713</td>\n",
       "      <td>0</td>\n",
       "      <td>0</td>\n",
       "      <td>{}</td>\n",
       "      <td>4.0</td>\n",
       "      <td>-28.0</td>\n",
       "      <td>-24.0</td>\n",
       "      <td>60.0</td>\n",
       "      <td>10060.0</td>\n",
       "      <td>84.0</td>\n",
       "      <td>-24.0</td>\n",
       "    </tr>\n",
       "    <tr>\n",
       "      <th>4</th>\n",
       "      <td>closed</td>\n",
       "      <td>EURUSD</td>\n",
       "      <td>buy</td>\n",
       "      <td>400000</td>\n",
       "      <td>2025-06-04 02:09:00+00:00</td>\n",
       "      <td>1.13745</td>\n",
       "      <td>2025-06-04 02:10:00+00:00</td>\n",
       "      <td>1.13756</td>\n",
       "      <td>0</td>\n",
       "      <td>0</td>\n",
       "      <td>{}</td>\n",
       "      <td>44.0</td>\n",
       "      <td>-28.0</td>\n",
       "      <td>16.0</td>\n",
       "      <td>76.0</td>\n",
       "      <td>10076.0</td>\n",
       "      <td>84.0</td>\n",
       "      <td>-8.0</td>\n",
       "    </tr>\n",
       "    <tr>\n",
       "      <th>...</th>\n",
       "      <td>...</td>\n",
       "      <td>...</td>\n",
       "      <td>...</td>\n",
       "      <td>...</td>\n",
       "      <td>...</td>\n",
       "      <td>...</td>\n",
       "      <td>...</td>\n",
       "      <td>...</td>\n",
       "      <td>...</td>\n",
       "      <td>...</td>\n",
       "      <td>...</td>\n",
       "      <td>...</td>\n",
       "      <td>...</td>\n",
       "      <td>...</td>\n",
       "      <td>...</td>\n",
       "      <td>...</td>\n",
       "      <td>...</td>\n",
       "      <td>...</td>\n",
       "    </tr>\n",
       "    <tr>\n",
       "      <th>116</th>\n",
       "      <td>closed</td>\n",
       "      <td>EURUSD</td>\n",
       "      <td>buy</td>\n",
       "      <td>400000</td>\n",
       "      <td>2025-08-06 03:01:00+00:00</td>\n",
       "      <td>1.15783</td>\n",
       "      <td>2025-08-06 03:04:00+00:00</td>\n",
       "      <td>1.15828</td>\n",
       "      <td>0</td>\n",
       "      <td>0</td>\n",
       "      <td>{}</td>\n",
       "      <td>180.0</td>\n",
       "      <td>-28.0</td>\n",
       "      <td>152.0</td>\n",
       "      <td>2704.0</td>\n",
       "      <td>12704.0</td>\n",
       "      <td>2704.0</td>\n",
       "      <td>0.0</td>\n",
       "    </tr>\n",
       "    <tr>\n",
       "      <th>118</th>\n",
       "      <td>closed</td>\n",
       "      <td>EURUSD</td>\n",
       "      <td>buy</td>\n",
       "      <td>400000</td>\n",
       "      <td>2025-08-06 08:01:00+00:00</td>\n",
       "      <td>1.1581</td>\n",
       "      <td>2025-08-06 08:02:00+00:00</td>\n",
       "      <td>1.15824</td>\n",
       "      <td>0</td>\n",
       "      <td>0</td>\n",
       "      <td>{}</td>\n",
       "      <td>56.0</td>\n",
       "      <td>-28.0</td>\n",
       "      <td>28.0</td>\n",
       "      <td>2568.0</td>\n",
       "      <td>12568.0</td>\n",
       "      <td>2704.0</td>\n",
       "      <td>-136.0</td>\n",
       "    </tr>\n",
       "    <tr>\n",
       "      <th>119</th>\n",
       "      <td>closed</td>\n",
       "      <td>EURUSD</td>\n",
       "      <td>buy</td>\n",
       "      <td>400000</td>\n",
       "      <td>2025-08-06 09:01:00+00:00</td>\n",
       "      <td>1.1577</td>\n",
       "      <td>2025-08-06 09:06:00+00:00</td>\n",
       "      <td>1.15803</td>\n",
       "      <td>0</td>\n",
       "      <td>0</td>\n",
       "      <td>{}</td>\n",
       "      <td>132.0</td>\n",
       "      <td>-28.0</td>\n",
       "      <td>104.0</td>\n",
       "      <td>2672.0</td>\n",
       "      <td>12672.0</td>\n",
       "      <td>2704.0</td>\n",
       "      <td>-32.0</td>\n",
       "    </tr>\n",
       "    <tr>\n",
       "      <th>120</th>\n",
       "      <td>closed</td>\n",
       "      <td>EURUSD</td>\n",
       "      <td>buy</td>\n",
       "      <td>400000</td>\n",
       "      <td>2025-08-06 09:06:00+00:00</td>\n",
       "      <td>1.15803</td>\n",
       "      <td>2025-08-06 09:07:00+00:00</td>\n",
       "      <td>1.15819</td>\n",
       "      <td>0</td>\n",
       "      <td>0</td>\n",
       "      <td>{}</td>\n",
       "      <td>64.0</td>\n",
       "      <td>-28.0</td>\n",
       "      <td>36.0</td>\n",
       "      <td>2708.0</td>\n",
       "      <td>12708.0</td>\n",
       "      <td>2708.0</td>\n",
       "      <td>0.0</td>\n",
       "    </tr>\n",
       "    <tr>\n",
       "      <th>122</th>\n",
       "      <td>closed</td>\n",
       "      <td>EURUSD</td>\n",
       "      <td>buy</td>\n",
       "      <td>400000</td>\n",
       "      <td>2025-08-06 10:46:00+00:00</td>\n",
       "      <td>1.15757</td>\n",
       "      <td>2025-08-06 11:07:00+00:00</td>\n",
       "      <td>1.15817</td>\n",
       "      <td>0</td>\n",
       "      <td>0</td>\n",
       "      <td>{}</td>\n",
       "      <td>240.0</td>\n",
       "      <td>-28.0</td>\n",
       "      <td>212.0</td>\n",
       "      <td>2848.0</td>\n",
       "      <td>12848.0</td>\n",
       "      <td>2848.0</td>\n",
       "      <td>0.0</td>\n",
       "    </tr>\n",
       "  </tbody>\n",
       "</table>\n",
       "<p>115 rows × 18 columns</p>\n",
       "</div>"
      ],
      "text/plain": [
       "      state  symbol order_type  volume                 open_time open_price  \\\n",
       "0    closed  EURUSD        buy  400000 2025-06-03 15:34:00+00:00    1.13783   \n",
       "1    closed  EURUSD        buy  400000 2025-06-03 21:48:00+00:00    1.13713   \n",
       "2    closed  EURUSD        buy  400000 2025-06-03 22:21:00+00:00    1.13714   \n",
       "3    closed  EURUSD        buy  400000 2025-06-04 01:27:00+00:00    1.13712   \n",
       "4    closed  EURUSD        buy  400000 2025-06-04 02:09:00+00:00    1.13745   \n",
       "..      ...     ...        ...     ...                       ...        ...   \n",
       "116  closed  EURUSD        buy  400000 2025-08-06 03:01:00+00:00    1.15783   \n",
       "118  closed  EURUSD        buy  400000 2025-08-06 08:01:00+00:00     1.1581   \n",
       "119  closed  EURUSD        buy  400000 2025-08-06 09:01:00+00:00     1.1577   \n",
       "120  closed  EURUSD        buy  400000 2025-08-06 09:06:00+00:00    1.15803   \n",
       "122  closed  EURUSD        buy  400000 2025-08-06 10:46:00+00:00    1.15757   \n",
       "\n",
       "                   close_time close_price sl tp info  profit commission  \\\n",
       "0   2025-06-03 15:35:00+00:00     1.13805  0  0   {}    88.0      -28.0   \n",
       "1   2025-06-03 21:49:00+00:00     1.13723  0  0   {}    40.0      -28.0   \n",
       "2   2025-06-03 22:22:00+00:00     1.13724  0  0   {}    40.0      -28.0   \n",
       "3   2025-06-04 01:28:00+00:00     1.13713  0  0   {}     4.0      -28.0   \n",
       "4   2025-06-04 02:10:00+00:00     1.13756  0  0   {}    44.0      -28.0   \n",
       "..                        ...         ... .. ..  ...     ...        ...   \n",
       "116 2025-08-06 03:04:00+00:00     1.15828  0  0   {}   180.0      -28.0   \n",
       "118 2025-08-06 08:02:00+00:00     1.15824  0  0   {}    56.0      -28.0   \n",
       "119 2025-08-06 09:06:00+00:00     1.15803  0  0   {}   132.0      -28.0   \n",
       "120 2025-08-06 09:07:00+00:00     1.15819  0  0   {}    64.0      -28.0   \n",
       "122 2025-08-06 11:07:00+00:00     1.15817  0  0   {}   240.0      -28.0   \n",
       "\n",
       "    profit_net profit_cumulative  balance  current_max drawdown  \n",
       "0         60.0              60.0  10060.0         60.0      0.0  \n",
       "1         12.0              72.0  10072.0         72.0      0.0  \n",
       "2         12.0              84.0  10084.0         84.0      0.0  \n",
       "3        -24.0              60.0  10060.0         84.0    -24.0  \n",
       "4         16.0              76.0  10076.0         84.0     -8.0  \n",
       "..         ...               ...      ...          ...      ...  \n",
       "116      152.0            2704.0  12704.0       2704.0      0.0  \n",
       "118       28.0            2568.0  12568.0       2704.0   -136.0  \n",
       "119      104.0            2672.0  12672.0       2704.0    -32.0  \n",
       "120       36.0            2708.0  12708.0       2708.0      0.0  \n",
       "122      212.0            2848.0  12848.0       2848.0      0.0  \n",
       "\n",
       "[115 rows x 18 columns]"
      ]
     },
     "metadata": {},
     "output_type": "display_data"
    },
    {
     "data": {
      "text/html": [
       "<div>\n",
       "<style scoped>\n",
       "    .dataframe tbody tr th:only-of-type {\n",
       "        vertical-align: middle;\n",
       "    }\n",
       "\n",
       "    .dataframe tbody tr th {\n",
       "        vertical-align: top;\n",
       "    }\n",
       "\n",
       "    .dataframe thead th {\n",
       "        text-align: right;\n",
       "    }\n",
       "</style>\n",
       "<table border=\"1\" class=\"dataframe\">\n",
       "  <thead>\n",
       "    <tr style=\"text-align: right;\">\n",
       "      <th></th>\n",
       "      <th>state</th>\n",
       "      <th>symbol</th>\n",
       "      <th>order_type</th>\n",
       "      <th>volume</th>\n",
       "      <th>open_time</th>\n",
       "      <th>open_price</th>\n",
       "      <th>close_time</th>\n",
       "      <th>close_price</th>\n",
       "      <th>sl</th>\n",
       "      <th>tp</th>\n",
       "      <th>info</th>\n",
       "      <th>profit</th>\n",
       "      <th>commission</th>\n",
       "      <th>profit_net</th>\n",
       "      <th>profit_cumulative</th>\n",
       "      <th>balance</th>\n",
       "      <th>current_max</th>\n",
       "      <th>drawdown</th>\n",
       "    </tr>\n",
       "  </thead>\n",
       "  <tbody>\n",
       "    <tr>\n",
       "      <th>31</th>\n",
       "      <td>closed</td>\n",
       "      <td>EURUSD</td>\n",
       "      <td>buy</td>\n",
       "      <td>400000</td>\n",
       "      <td>2025-07-17 14:46:00+00:00</td>\n",
       "      <td>1.15755</td>\n",
       "      <td>2025-07-17 14:50:00+00:00</td>\n",
       "      <td>1.15725</td>\n",
       "      <td>0</td>\n",
       "      <td>0</td>\n",
       "      <td>{}</td>\n",
       "      <td>-120.0</td>\n",
       "      <td>-28.0</td>\n",
       "      <td>-148.0</td>\n",
       "      <td>140.0</td>\n",
       "      <td>10140.0</td>\n",
       "      <td>328.0</td>\n",
       "      <td>-188.0</td>\n",
       "    </tr>\n",
       "    <tr>\n",
       "      <th>39</th>\n",
       "      <td>closed</td>\n",
       "      <td>EURUSD</td>\n",
       "      <td>buy</td>\n",
       "      <td>400000</td>\n",
       "      <td>2025-07-29 03:52:00+00:00</td>\n",
       "      <td>1.15887</td>\n",
       "      <td>2025-07-29 03:53:00+00:00</td>\n",
       "      <td>1.15883</td>\n",
       "      <td>0</td>\n",
       "      <td>0</td>\n",
       "      <td>{}</td>\n",
       "      <td>-16.0</td>\n",
       "      <td>-28.0</td>\n",
       "      <td>-44.0</td>\n",
       "      <td>404.0</td>\n",
       "      <td>10404.0</td>\n",
       "      <td>448.0</td>\n",
       "      <td>-44.0</td>\n",
       "    </tr>\n",
       "    <tr>\n",
       "      <th>46</th>\n",
       "      <td>closed</td>\n",
       "      <td>EURUSD</td>\n",
       "      <td>buy</td>\n",
       "      <td>400000</td>\n",
       "      <td>2025-07-29 13:51:00+00:00</td>\n",
       "      <td>1.15763</td>\n",
       "      <td>2025-07-29 14:03:00+00:00</td>\n",
       "      <td>1.15713</td>\n",
       "      <td>0</td>\n",
       "      <td>0</td>\n",
       "      <td>{}</td>\n",
       "      <td>-200.0</td>\n",
       "      <td>-28.0</td>\n",
       "      <td>-228.0</td>\n",
       "      <td>288.0</td>\n",
       "      <td>10288.0</td>\n",
       "      <td>516.0</td>\n",
       "      <td>-228.0</td>\n",
       "    </tr>\n",
       "    <tr>\n",
       "      <th>113</th>\n",
       "      <td>closed</td>\n",
       "      <td>EURUSD</td>\n",
       "      <td>buy</td>\n",
       "      <td>400000</td>\n",
       "      <td>2025-08-05 22:58:00+00:00</td>\n",
       "      <td>1.15729</td>\n",
       "      <td>2025-08-05 23:33:00+00:00</td>\n",
       "      <td>1.15717</td>\n",
       "      <td>0</td>\n",
       "      <td>0</td>\n",
       "      <td>{}</td>\n",
       "      <td>-48.0</td>\n",
       "      <td>-28.0</td>\n",
       "      <td>-76.0</td>\n",
       "      <td>2340.0</td>\n",
       "      <td>12340.0</td>\n",
       "      <td>2440.0</td>\n",
       "      <td>-100.0</td>\n",
       "    </tr>\n",
       "    <tr>\n",
       "      <th>114</th>\n",
       "      <td>closed</td>\n",
       "      <td>EURUSD</td>\n",
       "      <td>buy</td>\n",
       "      <td>400000</td>\n",
       "      <td>2025-08-06 01:00:00+00:00</td>\n",
       "      <td>1.15732</td>\n",
       "      <td>2025-08-06 01:32:00+00:00</td>\n",
       "      <td>1.15727</td>\n",
       "      <td>0</td>\n",
       "      <td>0</td>\n",
       "      <td>{}</td>\n",
       "      <td>-20.0</td>\n",
       "      <td>-28.0</td>\n",
       "      <td>-48.0</td>\n",
       "      <td>2292.0</td>\n",
       "      <td>12292.0</td>\n",
       "      <td>2440.0</td>\n",
       "      <td>-148.0</td>\n",
       "    </tr>\n",
       "    <tr>\n",
       "      <th>117</th>\n",
       "      <td>closed</td>\n",
       "      <td>EURUSD</td>\n",
       "      <td>buy</td>\n",
       "      <td>400000</td>\n",
       "      <td>2025-08-06 03:21:00+00:00</td>\n",
       "      <td>1.1577</td>\n",
       "      <td>2025-08-06 04:00:00+00:00</td>\n",
       "      <td>1.15736</td>\n",
       "      <td>0</td>\n",
       "      <td>0</td>\n",
       "      <td>{}</td>\n",
       "      <td>-136.0</td>\n",
       "      <td>-28.0</td>\n",
       "      <td>-164.0</td>\n",
       "      <td>2540.0</td>\n",
       "      <td>12540.0</td>\n",
       "      <td>2704.0</td>\n",
       "      <td>-164.0</td>\n",
       "    </tr>\n",
       "    <tr>\n",
       "      <th>121</th>\n",
       "      <td>closed</td>\n",
       "      <td>EURUSD</td>\n",
       "      <td>buy</td>\n",
       "      <td>400000</td>\n",
       "      <td>2025-08-06 10:01:00+00:00</td>\n",
       "      <td>1.15771</td>\n",
       "      <td>2025-08-06 10:15:00+00:00</td>\n",
       "      <td>1.1576</td>\n",
       "      <td>0</td>\n",
       "      <td>0</td>\n",
       "      <td>{}</td>\n",
       "      <td>-44.0</td>\n",
       "      <td>-28.0</td>\n",
       "      <td>-72.0</td>\n",
       "      <td>2636.0</td>\n",
       "      <td>12636.0</td>\n",
       "      <td>2708.0</td>\n",
       "      <td>-72.0</td>\n",
       "    </tr>\n",
       "    <tr>\n",
       "      <th>123</th>\n",
       "      <td>closed</td>\n",
       "      <td>EURUSD</td>\n",
       "      <td>buy</td>\n",
       "      <td>400000</td>\n",
       "      <td>2025-08-06 11:32:00+00:00</td>\n",
       "      <td>1.15735</td>\n",
       "      <td>2025-08-06 11:34:00+00:00</td>\n",
       "      <td>1.15725</td>\n",
       "      <td>0</td>\n",
       "      <td>0</td>\n",
       "      <td>{}</td>\n",
       "      <td>-40.0</td>\n",
       "      <td>-28.0</td>\n",
       "      <td>-68.0</td>\n",
       "      <td>2780.0</td>\n",
       "      <td>12780.0</td>\n",
       "      <td>2848.0</td>\n",
       "      <td>-68.0</td>\n",
       "    </tr>\n",
       "  </tbody>\n",
       "</table>\n",
       "</div>"
      ],
      "text/plain": [
       "      state  symbol order_type  volume                 open_time open_price  \\\n",
       "31   closed  EURUSD        buy  400000 2025-07-17 14:46:00+00:00    1.15755   \n",
       "39   closed  EURUSD        buy  400000 2025-07-29 03:52:00+00:00    1.15887   \n",
       "46   closed  EURUSD        buy  400000 2025-07-29 13:51:00+00:00    1.15763   \n",
       "113  closed  EURUSD        buy  400000 2025-08-05 22:58:00+00:00    1.15729   \n",
       "114  closed  EURUSD        buy  400000 2025-08-06 01:00:00+00:00    1.15732   \n",
       "117  closed  EURUSD        buy  400000 2025-08-06 03:21:00+00:00     1.1577   \n",
       "121  closed  EURUSD        buy  400000 2025-08-06 10:01:00+00:00    1.15771   \n",
       "123  closed  EURUSD        buy  400000 2025-08-06 11:32:00+00:00    1.15735   \n",
       "\n",
       "                   close_time close_price sl tp info  profit commission  \\\n",
       "31  2025-07-17 14:50:00+00:00     1.15725  0  0   {}  -120.0      -28.0   \n",
       "39  2025-07-29 03:53:00+00:00     1.15883  0  0   {}   -16.0      -28.0   \n",
       "46  2025-07-29 14:03:00+00:00     1.15713  0  0   {}  -200.0      -28.0   \n",
       "113 2025-08-05 23:33:00+00:00     1.15717  0  0   {}   -48.0      -28.0   \n",
       "114 2025-08-06 01:32:00+00:00     1.15727  0  0   {}   -20.0      -28.0   \n",
       "117 2025-08-06 04:00:00+00:00     1.15736  0  0   {}  -136.0      -28.0   \n",
       "121 2025-08-06 10:15:00+00:00      1.1576  0  0   {}   -44.0      -28.0   \n",
       "123 2025-08-06 11:34:00+00:00     1.15725  0  0   {}   -40.0      -28.0   \n",
       "\n",
       "    profit_net profit_cumulative  balance  current_max drawdown  \n",
       "31      -148.0             140.0  10140.0        328.0   -188.0  \n",
       "39       -44.0             404.0  10404.0        448.0    -44.0  \n",
       "46      -228.0             288.0  10288.0        516.0   -228.0  \n",
       "113      -76.0            2340.0  12340.0       2440.0   -100.0  \n",
       "114      -48.0            2292.0  12292.0       2440.0   -148.0  \n",
       "117     -164.0            2540.0  12540.0       2704.0   -164.0  \n",
       "121      -72.0            2636.0  12636.0       2708.0    -72.0  \n",
       "123      -68.0            2780.0  12780.0       2848.0    -68.0  "
      ]
     },
     "metadata": {},
     "output_type": "display_data"
    },
    {
     "data": {
      "text/html": [
       "<div>\n",
       "<style scoped>\n",
       "    .dataframe tbody tr th:only-of-type {\n",
       "        vertical-align: middle;\n",
       "    }\n",
       "\n",
       "    .dataframe tbody tr th {\n",
       "        vertical-align: top;\n",
       "    }\n",
       "\n",
       "    .dataframe thead th {\n",
       "        text-align: right;\n",
       "    }\n",
       "</style>\n",
       "<table border=\"1\" class=\"dataframe\">\n",
       "  <thead>\n",
       "    <tr style=\"text-align: right;\">\n",
       "      <th></th>\n",
       "      <th>state</th>\n",
       "      <th>symbol</th>\n",
       "      <th>order_type</th>\n",
       "      <th>volume</th>\n",
       "      <th>open_time</th>\n",
       "      <th>open_price</th>\n",
       "      <th>close_time</th>\n",
       "      <th>close_price</th>\n",
       "      <th>sl</th>\n",
       "      <th>tp</th>\n",
       "      <th>...</th>\n",
       "      <th>commission</th>\n",
       "      <th>profit_net</th>\n",
       "      <th>profit_cumulative</th>\n",
       "      <th>balance</th>\n",
       "      <th>current_max</th>\n",
       "      <th>drawdown</th>\n",
       "      <th>dayofweek</th>\n",
       "      <th>hourofday</th>\n",
       "      <th>month</th>\n",
       "      <th>year</th>\n",
       "    </tr>\n",
       "  </thead>\n",
       "  <tbody>\n",
       "    <tr>\n",
       "      <th>0</th>\n",
       "      <td>closed</td>\n",
       "      <td>EURUSD</td>\n",
       "      <td>buy</td>\n",
       "      <td>400000</td>\n",
       "      <td>2025-06-03 15:34:00+00:00</td>\n",
       "      <td>1.13783</td>\n",
       "      <td>2025-06-03 15:35:00+00:00</td>\n",
       "      <td>1.13805</td>\n",
       "      <td>0</td>\n",
       "      <td>0</td>\n",
       "      <td>...</td>\n",
       "      <td>-28.0</td>\n",
       "      <td>60.0</td>\n",
       "      <td>60.0</td>\n",
       "      <td>10060.0</td>\n",
       "      <td>60.0</td>\n",
       "      <td>0.0</td>\n",
       "      <td>1</td>\n",
       "      <td>15</td>\n",
       "      <td>2025-06</td>\n",
       "      <td>2025</td>\n",
       "    </tr>\n",
       "    <tr>\n",
       "      <th>1</th>\n",
       "      <td>closed</td>\n",
       "      <td>EURUSD</td>\n",
       "      <td>buy</td>\n",
       "      <td>400000</td>\n",
       "      <td>2025-06-03 21:48:00+00:00</td>\n",
       "      <td>1.13713</td>\n",
       "      <td>2025-06-03 21:49:00+00:00</td>\n",
       "      <td>1.13723</td>\n",
       "      <td>0</td>\n",
       "      <td>0</td>\n",
       "      <td>...</td>\n",
       "      <td>-28.0</td>\n",
       "      <td>12.0</td>\n",
       "      <td>72.0</td>\n",
       "      <td>10072.0</td>\n",
       "      <td>72.0</td>\n",
       "      <td>0.0</td>\n",
       "      <td>1</td>\n",
       "      <td>21</td>\n",
       "      <td>2025-06</td>\n",
       "      <td>2025</td>\n",
       "    </tr>\n",
       "    <tr>\n",
       "      <th>2</th>\n",
       "      <td>closed</td>\n",
       "      <td>EURUSD</td>\n",
       "      <td>buy</td>\n",
       "      <td>400000</td>\n",
       "      <td>2025-06-03 22:21:00+00:00</td>\n",
       "      <td>1.13714</td>\n",
       "      <td>2025-06-03 22:22:00+00:00</td>\n",
       "      <td>1.13724</td>\n",
       "      <td>0</td>\n",
       "      <td>0</td>\n",
       "      <td>...</td>\n",
       "      <td>-28.0</td>\n",
       "      <td>12.0</td>\n",
       "      <td>84.0</td>\n",
       "      <td>10084.0</td>\n",
       "      <td>84.0</td>\n",
       "      <td>0.0</td>\n",
       "      <td>1</td>\n",
       "      <td>22</td>\n",
       "      <td>2025-06</td>\n",
       "      <td>2025</td>\n",
       "    </tr>\n",
       "    <tr>\n",
       "      <th>3</th>\n",
       "      <td>closed</td>\n",
       "      <td>EURUSD</td>\n",
       "      <td>buy</td>\n",
       "      <td>400000</td>\n",
       "      <td>2025-06-04 01:27:00+00:00</td>\n",
       "      <td>1.13712</td>\n",
       "      <td>2025-06-04 01:28:00+00:00</td>\n",
       "      <td>1.13713</td>\n",
       "      <td>0</td>\n",
       "      <td>0</td>\n",
       "      <td>...</td>\n",
       "      <td>-28.0</td>\n",
       "      <td>-24.0</td>\n",
       "      <td>60.0</td>\n",
       "      <td>10060.0</td>\n",
       "      <td>84.0</td>\n",
       "      <td>-24.0</td>\n",
       "      <td>2</td>\n",
       "      <td>1</td>\n",
       "      <td>2025-06</td>\n",
       "      <td>2025</td>\n",
       "    </tr>\n",
       "    <tr>\n",
       "      <th>4</th>\n",
       "      <td>closed</td>\n",
       "      <td>EURUSD</td>\n",
       "      <td>buy</td>\n",
       "      <td>400000</td>\n",
       "      <td>2025-06-04 02:09:00+00:00</td>\n",
       "      <td>1.13745</td>\n",
       "      <td>2025-06-04 02:10:00+00:00</td>\n",
       "      <td>1.13756</td>\n",
       "      <td>0</td>\n",
       "      <td>0</td>\n",
       "      <td>...</td>\n",
       "      <td>-28.0</td>\n",
       "      <td>16.0</td>\n",
       "      <td>76.0</td>\n",
       "      <td>10076.0</td>\n",
       "      <td>84.0</td>\n",
       "      <td>-8.0</td>\n",
       "      <td>2</td>\n",
       "      <td>2</td>\n",
       "      <td>2025-06</td>\n",
       "      <td>2025</td>\n",
       "    </tr>\n",
       "    <tr>\n",
       "      <th>...</th>\n",
       "      <td>...</td>\n",
       "      <td>...</td>\n",
       "      <td>...</td>\n",
       "      <td>...</td>\n",
       "      <td>...</td>\n",
       "      <td>...</td>\n",
       "      <td>...</td>\n",
       "      <td>...</td>\n",
       "      <td>...</td>\n",
       "      <td>...</td>\n",
       "      <td>...</td>\n",
       "      <td>...</td>\n",
       "      <td>...</td>\n",
       "      <td>...</td>\n",
       "      <td>...</td>\n",
       "      <td>...</td>\n",
       "      <td>...</td>\n",
       "      <td>...</td>\n",
       "      <td>...</td>\n",
       "      <td>...</td>\n",
       "      <td>...</td>\n",
       "    </tr>\n",
       "    <tr>\n",
       "      <th>119</th>\n",
       "      <td>closed</td>\n",
       "      <td>EURUSD</td>\n",
       "      <td>buy</td>\n",
       "      <td>400000</td>\n",
       "      <td>2025-08-06 09:01:00+00:00</td>\n",
       "      <td>1.1577</td>\n",
       "      <td>2025-08-06 09:06:00+00:00</td>\n",
       "      <td>1.15803</td>\n",
       "      <td>0</td>\n",
       "      <td>0</td>\n",
       "      <td>...</td>\n",
       "      <td>-28.0</td>\n",
       "      <td>104.0</td>\n",
       "      <td>2672.0</td>\n",
       "      <td>12672.0</td>\n",
       "      <td>2704.0</td>\n",
       "      <td>-32.0</td>\n",
       "      <td>2</td>\n",
       "      <td>9</td>\n",
       "      <td>2025-08</td>\n",
       "      <td>2025</td>\n",
       "    </tr>\n",
       "    <tr>\n",
       "      <th>120</th>\n",
       "      <td>closed</td>\n",
       "      <td>EURUSD</td>\n",
       "      <td>buy</td>\n",
       "      <td>400000</td>\n",
       "      <td>2025-08-06 09:06:00+00:00</td>\n",
       "      <td>1.15803</td>\n",
       "      <td>2025-08-06 09:07:00+00:00</td>\n",
       "      <td>1.15819</td>\n",
       "      <td>0</td>\n",
       "      <td>0</td>\n",
       "      <td>...</td>\n",
       "      <td>-28.0</td>\n",
       "      <td>36.0</td>\n",
       "      <td>2708.0</td>\n",
       "      <td>12708.0</td>\n",
       "      <td>2708.0</td>\n",
       "      <td>0.0</td>\n",
       "      <td>2</td>\n",
       "      <td>9</td>\n",
       "      <td>2025-08</td>\n",
       "      <td>2025</td>\n",
       "    </tr>\n",
       "    <tr>\n",
       "      <th>121</th>\n",
       "      <td>closed</td>\n",
       "      <td>EURUSD</td>\n",
       "      <td>buy</td>\n",
       "      <td>400000</td>\n",
       "      <td>2025-08-06 10:01:00+00:00</td>\n",
       "      <td>1.15771</td>\n",
       "      <td>2025-08-06 10:15:00+00:00</td>\n",
       "      <td>1.1576</td>\n",
       "      <td>0</td>\n",
       "      <td>0</td>\n",
       "      <td>...</td>\n",
       "      <td>-28.0</td>\n",
       "      <td>-72.0</td>\n",
       "      <td>2636.0</td>\n",
       "      <td>12636.0</td>\n",
       "      <td>2708.0</td>\n",
       "      <td>-72.0</td>\n",
       "      <td>2</td>\n",
       "      <td>10</td>\n",
       "      <td>2025-08</td>\n",
       "      <td>2025</td>\n",
       "    </tr>\n",
       "    <tr>\n",
       "      <th>122</th>\n",
       "      <td>closed</td>\n",
       "      <td>EURUSD</td>\n",
       "      <td>buy</td>\n",
       "      <td>400000</td>\n",
       "      <td>2025-08-06 10:46:00+00:00</td>\n",
       "      <td>1.15757</td>\n",
       "      <td>2025-08-06 11:07:00+00:00</td>\n",
       "      <td>1.15817</td>\n",
       "      <td>0</td>\n",
       "      <td>0</td>\n",
       "      <td>...</td>\n",
       "      <td>-28.0</td>\n",
       "      <td>212.0</td>\n",
       "      <td>2848.0</td>\n",
       "      <td>12848.0</td>\n",
       "      <td>2848.0</td>\n",
       "      <td>0.0</td>\n",
       "      <td>2</td>\n",
       "      <td>10</td>\n",
       "      <td>2025-08</td>\n",
       "      <td>2025</td>\n",
       "    </tr>\n",
       "    <tr>\n",
       "      <th>123</th>\n",
       "      <td>closed</td>\n",
       "      <td>EURUSD</td>\n",
       "      <td>buy</td>\n",
       "      <td>400000</td>\n",
       "      <td>2025-08-06 11:32:00+00:00</td>\n",
       "      <td>1.15735</td>\n",
       "      <td>2025-08-06 11:34:00+00:00</td>\n",
       "      <td>1.15725</td>\n",
       "      <td>0</td>\n",
       "      <td>0</td>\n",
       "      <td>...</td>\n",
       "      <td>-28.0</td>\n",
       "      <td>-68.0</td>\n",
       "      <td>2780.0</td>\n",
       "      <td>12780.0</td>\n",
       "      <td>2848.0</td>\n",
       "      <td>-68.0</td>\n",
       "      <td>2</td>\n",
       "      <td>11</td>\n",
       "      <td>2025-08</td>\n",
       "      <td>2025</td>\n",
       "    </tr>\n",
       "  </tbody>\n",
       "</table>\n",
       "<p>124 rows × 22 columns</p>\n",
       "</div>"
      ],
      "text/plain": [
       "      state  symbol order_type  volume                 open_time open_price  \\\n",
       "0    closed  EURUSD        buy  400000 2025-06-03 15:34:00+00:00    1.13783   \n",
       "1    closed  EURUSD        buy  400000 2025-06-03 21:48:00+00:00    1.13713   \n",
       "2    closed  EURUSD        buy  400000 2025-06-03 22:21:00+00:00    1.13714   \n",
       "3    closed  EURUSD        buy  400000 2025-06-04 01:27:00+00:00    1.13712   \n",
       "4    closed  EURUSD        buy  400000 2025-06-04 02:09:00+00:00    1.13745   \n",
       "..      ...     ...        ...     ...                       ...        ...   \n",
       "119  closed  EURUSD        buy  400000 2025-08-06 09:01:00+00:00     1.1577   \n",
       "120  closed  EURUSD        buy  400000 2025-08-06 09:06:00+00:00    1.15803   \n",
       "121  closed  EURUSD        buy  400000 2025-08-06 10:01:00+00:00    1.15771   \n",
       "122  closed  EURUSD        buy  400000 2025-08-06 10:46:00+00:00    1.15757   \n",
       "123  closed  EURUSD        buy  400000 2025-08-06 11:32:00+00:00    1.15735   \n",
       "\n",
       "                   close_time close_price sl tp  ... commission  profit_net  \\\n",
       "0   2025-06-03 15:35:00+00:00     1.13805  0  0  ...      -28.0        60.0   \n",
       "1   2025-06-03 21:49:00+00:00     1.13723  0  0  ...      -28.0        12.0   \n",
       "2   2025-06-03 22:22:00+00:00     1.13724  0  0  ...      -28.0        12.0   \n",
       "3   2025-06-04 01:28:00+00:00     1.13713  0  0  ...      -28.0       -24.0   \n",
       "4   2025-06-04 02:10:00+00:00     1.13756  0  0  ...      -28.0        16.0   \n",
       "..                        ...         ... .. ..  ...        ...         ...   \n",
       "119 2025-08-06 09:06:00+00:00     1.15803  0  0  ...      -28.0       104.0   \n",
       "120 2025-08-06 09:07:00+00:00     1.15819  0  0  ...      -28.0        36.0   \n",
       "121 2025-08-06 10:15:00+00:00      1.1576  0  0  ...      -28.0       -72.0   \n",
       "122 2025-08-06 11:07:00+00:00     1.15817  0  0  ...      -28.0       212.0   \n",
       "123 2025-08-06 11:34:00+00:00     1.15725  0  0  ...      -28.0       -68.0   \n",
       "\n",
       "    profit_cumulative  balance current_max drawdown  dayofweek hourofday  \\\n",
       "0                60.0  10060.0        60.0      0.0          1        15   \n",
       "1                72.0  10072.0        72.0      0.0          1        21   \n",
       "2                84.0  10084.0        84.0      0.0          1        22   \n",
       "3                60.0  10060.0        84.0    -24.0          2         1   \n",
       "4                76.0  10076.0        84.0     -8.0          2         2   \n",
       "..                ...      ...         ...      ...        ...       ...   \n",
       "119            2672.0  12672.0      2704.0    -32.0          2         9   \n",
       "120            2708.0  12708.0      2708.0      0.0          2         9   \n",
       "121            2636.0  12636.0      2708.0    -72.0          2        10   \n",
       "122            2848.0  12848.0      2848.0      0.0          2        10   \n",
       "123            2780.0  12780.0      2848.0    -68.0          2        11   \n",
       "\n",
       "       month  year  \n",
       "0    2025-06  2025  \n",
       "1    2025-06  2025  \n",
       "2    2025-06  2025  \n",
       "3    2025-06  2025  \n",
       "4    2025-06  2025  \n",
       "..       ...   ...  \n",
       "119  2025-08  2025  \n",
       "120  2025-08  2025  \n",
       "121  2025-08  2025  \n",
       "122  2025-08  2025  \n",
       "123  2025-08  2025  \n",
       "\n",
       "[124 rows x 22 columns]"
      ]
     },
     "metadata": {},
     "output_type": "display_data"
    },
    {
     "data": {
      "application/vnd.plotly.v1+json": {
       "config": {
        "plotlyServerURL": "https://plot.ly"
       },
       "data": [
        {
         "hovertemplate": "close_time=%{x}<br>drawdown=%{y}<extra></extra>",
         "legendgroup": "",
         "line": {
          "color": "#636efa",
          "dash": "solid"
         },
         "marker": {
          "symbol": "circle"
         },
         "mode": "lines",
         "name": "",
         "orientation": "v",
         "showlegend": false,
         "type": "scatter",
         "x": [
          "2025-06-03T15:35:00.000000000",
          "2025-06-03T21:49:00.000000000",
          "2025-06-03T22:22:00.000000000",
          "2025-06-04T01:28:00.000000000",
          "2025-06-04T02:10:00.000000000",
          "2025-06-04T02:14:00.000000000",
          "2025-06-04T02:19:00.000000000",
          "2025-06-04T02:37:00.000000000",
          "2025-06-04T03:56:00.000000000",
          "2025-06-04T04:02:00.000000000",
          "2025-06-04T05:22:00.000000000",
          "2025-06-04T05:34:00.000000000",
          "2025-06-04T06:27:00.000000000",
          "2025-06-04T07:39:00.000000000",
          "2025-06-04T08:30:00.000000000",
          "2025-06-04T08:36:00.000000000",
          "2025-06-04T09:01:00.000000000",
          "2025-06-04T09:18:00.000000000",
          "2025-06-04T09:58:00.000000000",
          "2025-06-04T13:01:00.000000000",
          "2025-06-04T14:58:00.000000000",
          "2025-06-04T15:01:00.000000000",
          "2025-06-06T18:21:00.000000000",
          "2025-06-06T19:31:00.000000000",
          "2025-06-06T22:26:00.000000000",
          "2025-06-06T23:55:00.000000000",
          "2025-06-09T01:05:00.000000000",
          "2025-06-09T01:30:00.000000000",
          "2025-06-10T05:37:00.000000000",
          "2025-06-19T06:20:00.000000000",
          "2025-06-19T19:54:00.000000000",
          "2025-07-17T14:50:00.000000000",
          "2025-07-17T15:12:00.000000000",
          "2025-07-28T21:42:00.000000000",
          "2025-07-28T22:54:00.000000000",
          "2025-07-28T23:00:00.000000000",
          "2025-07-28T23:13:00.000000000",
          "2025-07-29T02:44:00.000000000",
          "2025-07-29T03:03:00.000000000",
          "2025-07-29T03:53:00.000000000",
          "2025-07-29T03:56:00.000000000",
          "2025-07-29T05:14:00.000000000",
          "2025-07-29T06:35:00.000000000",
          "2025-07-29T07:54:00.000000000",
          "2025-07-29T08:00:00.000000000",
          "2025-07-29T08:26:00.000000000",
          "2025-07-29T14:03:00.000000000",
          "2025-07-29T14:40:00.000000000",
          "2025-07-29T15:21:00.000000000",
          "2025-07-29T16:01:00.000000000",
          "2025-07-29T18:59:00.000000000",
          "2025-07-29T21:00:00.000000000",
          "2025-07-29T22:13:00.000000000",
          "2025-07-29T23:12:00.000000000",
          "2025-07-29T23:18:00.000000000",
          "2025-07-29T23:33:00.000000000",
          "2025-07-30T01:16:00.000000000",
          "2025-07-30T01:34:00.000000000",
          "2025-07-30T01:37:00.000000000",
          "2025-07-30T02:13:00.000000000",
          "2025-07-30T04:01:00.000000000",
          "2025-07-30T04:32:00.000000000",
          "2025-07-30T06:00:00.000000000",
          "2025-07-30T06:39:00.000000000",
          "2025-07-30T08:23:00.000000000",
          "2025-07-30T08:59:00.000000000",
          "2025-07-30T12:01:00.000000000",
          "2025-07-30T13:40:00.000000000",
          "2025-07-30T14:32:00.000000000",
          "2025-07-30T15:17:00.000000000",
          "2025-07-30T19:19:00.000000000",
          "2025-07-30T20:50:00.000000000",
          "2025-07-30T21:01:00.000000000",
          "2025-07-30T21:35:00.000000000",
          "2025-07-31T01:34:00.000000000",
          "2025-07-31T01:45:00.000000000",
          "2025-07-31T01:55:00.000000000",
          "2025-07-31T02:37:00.000000000",
          "2025-07-31T02:48:00.000000000",
          "2025-07-31T03:01:00.000000000",
          "2025-07-31T05:46:00.000000000",
          "2025-07-31T05:59:00.000000000",
          "2025-07-31T08:11:00.000000000",
          "2025-07-31T08:16:00.000000000",
          "2025-07-31T10:47:00.000000000",
          "2025-07-31T14:02:00.000000000",
          "2025-07-31T14:31:00.000000000",
          "2025-07-31T19:01:00.000000000",
          "2025-07-31T20:53:00.000000000",
          "2025-07-31T23:31:00.000000000",
          "2025-08-01T01:20:00.000000000",
          "2025-08-01T01:34:00.000000000",
          "2025-08-01T01:59:00.000000000",
          "2025-08-01T03:56:00.000000000",
          "2025-08-01T07:45:00.000000000",
          "2025-08-01T07:51:00.000000000",
          "2025-08-01T08:03:00.000000000",
          "2025-08-01T08:05:00.000000000",
          "2025-08-01T08:31:00.000000000",
          "2025-08-01T10:54:00.000000000",
          "2025-08-01T15:01:00.000000000",
          "2025-08-04T02:33:00.000000000",
          "2025-08-04T19:42:00.000000000",
          "2025-08-04T21:58:00.000000000",
          "2025-08-05T02:07:00.000000000",
          "2025-08-05T02:08:00.000000000",
          "2025-08-05T03:13:00.000000000",
          "2025-08-05T05:34:00.000000000",
          "2025-08-05T07:57:00.000000000",
          "2025-08-05T10:52:00.000000000",
          "2025-08-05T15:20:00.000000000",
          "2025-08-05T16:31:00.000000000",
          "2025-08-05T21:49:00.000000000",
          "2025-08-05T23:33:00.000000000",
          "2025-08-06T01:32:00.000000000",
          "2025-08-06T03:03:00.000000000",
          "2025-08-06T03:04:00.000000000",
          "2025-08-06T04:00:00.000000000",
          "2025-08-06T08:02:00.000000000",
          "2025-08-06T09:06:00.000000000",
          "2025-08-06T09:07:00.000000000",
          "2025-08-06T10:15:00.000000000",
          "2025-08-06T11:07:00.000000000",
          "2025-08-06T11:34:00.000000000"
         ],
         "xaxis": "x",
         "y": [
          0,
          0,
          0,
          -24,
          -8,
          0,
          -16,
          -8,
          -20,
          0,
          -24,
          -24,
          -32,
          -44,
          -36,
          -52,
          -4,
          0,
          0,
          -24,
          -8,
          0,
          0,
          -8,
          -32,
          -28,
          -4,
          -12,
          -4,
          -20,
          -40,
          -188,
          0,
          0,
          0,
          0,
          0,
          -16,
          0,
          -44,
          -56,
          -80,
          -92,
          -12,
          0,
          0,
          -228,
          -244,
          -264,
          -268,
          -156,
          -152,
          -96,
          -116,
          -120,
          -128,
          -132,
          -144,
          -164,
          -192,
          -168,
          -100,
          -108,
          -120,
          -72,
          -72,
          -88,
          0,
          0,
          0,
          0,
          -24,
          0,
          0,
          0,
          -24,
          -16,
          -24,
          -32,
          0,
          0,
          0,
          0,
          0,
          0,
          -20,
          0,
          0,
          0,
          -24,
          -16,
          -4,
          -20,
          -4,
          -24,
          -24,
          -8,
          -16,
          0,
          0,
          0,
          0,
          -4,
          0,
          0,
          0,
          0,
          -12,
          -32,
          -20,
          0,
          0,
          -24,
          -100,
          -148,
          0,
          0,
          -164,
          -136,
          -32,
          0,
          -72,
          0,
          -68
         ],
         "yaxis": "y"
        }
       ],
       "layout": {
        "legend": {
         "tracegroupgap": 0
        },
        "template": {
         "data": {
          "bar": [
           {
            "error_x": {
             "color": "#f2f5fa"
            },
            "error_y": {
             "color": "#f2f5fa"
            },
            "marker": {
             "line": {
              "color": "rgb(17,17,17)",
              "width": 0.5
             },
             "pattern": {
              "fillmode": "overlay",
              "size": 10,
              "solidity": 0.2
             }
            },
            "type": "bar"
           }
          ],
          "barpolar": [
           {
            "marker": {
             "line": {
              "color": "rgb(17,17,17)",
              "width": 0.5
             },
             "pattern": {
              "fillmode": "overlay",
              "size": 10,
              "solidity": 0.2
             }
            },
            "type": "barpolar"
           }
          ],
          "carpet": [
           {
            "aaxis": {
             "endlinecolor": "#A2B1C6",
             "gridcolor": "#506784",
             "linecolor": "#506784",
             "minorgridcolor": "#506784",
             "startlinecolor": "#A2B1C6"
            },
            "baxis": {
             "endlinecolor": "#A2B1C6",
             "gridcolor": "#506784",
             "linecolor": "#506784",
             "minorgridcolor": "#506784",
             "startlinecolor": "#A2B1C6"
            },
            "type": "carpet"
           }
          ],
          "choropleth": [
           {
            "colorbar": {
             "outlinewidth": 0,
             "ticks": ""
            },
            "type": "choropleth"
           }
          ],
          "contour": [
           {
            "colorbar": {
             "outlinewidth": 0,
             "ticks": ""
            },
            "colorscale": [
             [
              0,
              "#0d0887"
             ],
             [
              0.1111111111111111,
              "#46039f"
             ],
             [
              0.2222222222222222,
              "#7201a8"
             ],
             [
              0.3333333333333333,
              "#9c179e"
             ],
             [
              0.4444444444444444,
              "#bd3786"
             ],
             [
              0.5555555555555556,
              "#d8576b"
             ],
             [
              0.6666666666666666,
              "#ed7953"
             ],
             [
              0.7777777777777778,
              "#fb9f3a"
             ],
             [
              0.8888888888888888,
              "#fdca26"
             ],
             [
              1,
              "#f0f921"
             ]
            ],
            "type": "contour"
           }
          ],
          "contourcarpet": [
           {
            "colorbar": {
             "outlinewidth": 0,
             "ticks": ""
            },
            "type": "contourcarpet"
           }
          ],
          "heatmap": [
           {
            "colorbar": {
             "outlinewidth": 0,
             "ticks": ""
            },
            "colorscale": [
             [
              0,
              "#0d0887"
             ],
             [
              0.1111111111111111,
              "#46039f"
             ],
             [
              0.2222222222222222,
              "#7201a8"
             ],
             [
              0.3333333333333333,
              "#9c179e"
             ],
             [
              0.4444444444444444,
              "#bd3786"
             ],
             [
              0.5555555555555556,
              "#d8576b"
             ],
             [
              0.6666666666666666,
              "#ed7953"
             ],
             [
              0.7777777777777778,
              "#fb9f3a"
             ],
             [
              0.8888888888888888,
              "#fdca26"
             ],
             [
              1,
              "#f0f921"
             ]
            ],
            "type": "heatmap"
           }
          ],
          "histogram": [
           {
            "marker": {
             "pattern": {
              "fillmode": "overlay",
              "size": 10,
              "solidity": 0.2
             }
            },
            "type": "histogram"
           }
          ],
          "histogram2d": [
           {
            "colorbar": {
             "outlinewidth": 0,
             "ticks": ""
            },
            "colorscale": [
             [
              0,
              "#0d0887"
             ],
             [
              0.1111111111111111,
              "#46039f"
             ],
             [
              0.2222222222222222,
              "#7201a8"
             ],
             [
              0.3333333333333333,
              "#9c179e"
             ],
             [
              0.4444444444444444,
              "#bd3786"
             ],
             [
              0.5555555555555556,
              "#d8576b"
             ],
             [
              0.6666666666666666,
              "#ed7953"
             ],
             [
              0.7777777777777778,
              "#fb9f3a"
             ],
             [
              0.8888888888888888,
              "#fdca26"
             ],
             [
              1,
              "#f0f921"
             ]
            ],
            "type": "histogram2d"
           }
          ],
          "histogram2dcontour": [
           {
            "colorbar": {
             "outlinewidth": 0,
             "ticks": ""
            },
            "colorscale": [
             [
              0,
              "#0d0887"
             ],
             [
              0.1111111111111111,
              "#46039f"
             ],
             [
              0.2222222222222222,
              "#7201a8"
             ],
             [
              0.3333333333333333,
              "#9c179e"
             ],
             [
              0.4444444444444444,
              "#bd3786"
             ],
             [
              0.5555555555555556,
              "#d8576b"
             ],
             [
              0.6666666666666666,
              "#ed7953"
             ],
             [
              0.7777777777777778,
              "#fb9f3a"
             ],
             [
              0.8888888888888888,
              "#fdca26"
             ],
             [
              1,
              "#f0f921"
             ]
            ],
            "type": "histogram2dcontour"
           }
          ],
          "mesh3d": [
           {
            "colorbar": {
             "outlinewidth": 0,
             "ticks": ""
            },
            "type": "mesh3d"
           }
          ],
          "parcoords": [
           {
            "line": {
             "colorbar": {
              "outlinewidth": 0,
              "ticks": ""
             }
            },
            "type": "parcoords"
           }
          ],
          "pie": [
           {
            "automargin": true,
            "type": "pie"
           }
          ],
          "scatter": [
           {
            "marker": {
             "line": {
              "color": "#283442"
             }
            },
            "type": "scatter"
           }
          ],
          "scatter3d": [
           {
            "line": {
             "colorbar": {
              "outlinewidth": 0,
              "ticks": ""
             }
            },
            "marker": {
             "colorbar": {
              "outlinewidth": 0,
              "ticks": ""
             }
            },
            "type": "scatter3d"
           }
          ],
          "scattercarpet": [
           {
            "marker": {
             "colorbar": {
              "outlinewidth": 0,
              "ticks": ""
             }
            },
            "type": "scattercarpet"
           }
          ],
          "scattergeo": [
           {
            "marker": {
             "colorbar": {
              "outlinewidth": 0,
              "ticks": ""
             }
            },
            "type": "scattergeo"
           }
          ],
          "scattergl": [
           {
            "marker": {
             "line": {
              "color": "#283442"
             }
            },
            "type": "scattergl"
           }
          ],
          "scattermap": [
           {
            "marker": {
             "colorbar": {
              "outlinewidth": 0,
              "ticks": ""
             }
            },
            "type": "scattermap"
           }
          ],
          "scattermapbox": [
           {
            "marker": {
             "colorbar": {
              "outlinewidth": 0,
              "ticks": ""
             }
            },
            "type": "scattermapbox"
           }
          ],
          "scatterpolar": [
           {
            "marker": {
             "colorbar": {
              "outlinewidth": 0,
              "ticks": ""
             }
            },
            "type": "scatterpolar"
           }
          ],
          "scatterpolargl": [
           {
            "marker": {
             "colorbar": {
              "outlinewidth": 0,
              "ticks": ""
             }
            },
            "type": "scatterpolargl"
           }
          ],
          "scatterternary": [
           {
            "marker": {
             "colorbar": {
              "outlinewidth": 0,
              "ticks": ""
             }
            },
            "type": "scatterternary"
           }
          ],
          "surface": [
           {
            "colorbar": {
             "outlinewidth": 0,
             "ticks": ""
            },
            "colorscale": [
             [
              0,
              "#0d0887"
             ],
             [
              0.1111111111111111,
              "#46039f"
             ],
             [
              0.2222222222222222,
              "#7201a8"
             ],
             [
              0.3333333333333333,
              "#9c179e"
             ],
             [
              0.4444444444444444,
              "#bd3786"
             ],
             [
              0.5555555555555556,
              "#d8576b"
             ],
             [
              0.6666666666666666,
              "#ed7953"
             ],
             [
              0.7777777777777778,
              "#fb9f3a"
             ],
             [
              0.8888888888888888,
              "#fdca26"
             ],
             [
              1,
              "#f0f921"
             ]
            ],
            "type": "surface"
           }
          ],
          "table": [
           {
            "cells": {
             "fill": {
              "color": "#506784"
             },
             "line": {
              "color": "rgb(17,17,17)"
             }
            },
            "header": {
             "fill": {
              "color": "#2a3f5f"
             },
             "line": {
              "color": "rgb(17,17,17)"
             }
            },
            "type": "table"
           }
          ]
         },
         "layout": {
          "annotationdefaults": {
           "arrowcolor": "#f2f5fa",
           "arrowhead": 0,
           "arrowwidth": 1
          },
          "autotypenumbers": "strict",
          "coloraxis": {
           "colorbar": {
            "outlinewidth": 0,
            "ticks": ""
           }
          },
          "colorscale": {
           "diverging": [
            [
             0,
             "#8e0152"
            ],
            [
             0.1,
             "#c51b7d"
            ],
            [
             0.2,
             "#de77ae"
            ],
            [
             0.3,
             "#f1b6da"
            ],
            [
             0.4,
             "#fde0ef"
            ],
            [
             0.5,
             "#f7f7f7"
            ],
            [
             0.6,
             "#e6f5d0"
            ],
            [
             0.7,
             "#b8e186"
            ],
            [
             0.8,
             "#7fbc41"
            ],
            [
             0.9,
             "#4d9221"
            ],
            [
             1,
             "#276419"
            ]
           ],
           "sequential": [
            [
             0,
             "#0d0887"
            ],
            [
             0.1111111111111111,
             "#46039f"
            ],
            [
             0.2222222222222222,
             "#7201a8"
            ],
            [
             0.3333333333333333,
             "#9c179e"
            ],
            [
             0.4444444444444444,
             "#bd3786"
            ],
            [
             0.5555555555555556,
             "#d8576b"
            ],
            [
             0.6666666666666666,
             "#ed7953"
            ],
            [
             0.7777777777777778,
             "#fb9f3a"
            ],
            [
             0.8888888888888888,
             "#fdca26"
            ],
            [
             1,
             "#f0f921"
            ]
           ],
           "sequentialminus": [
            [
             0,
             "#0d0887"
            ],
            [
             0.1111111111111111,
             "#46039f"
            ],
            [
             0.2222222222222222,
             "#7201a8"
            ],
            [
             0.3333333333333333,
             "#9c179e"
            ],
            [
             0.4444444444444444,
             "#bd3786"
            ],
            [
             0.5555555555555556,
             "#d8576b"
            ],
            [
             0.6666666666666666,
             "#ed7953"
            ],
            [
             0.7777777777777778,
             "#fb9f3a"
            ],
            [
             0.8888888888888888,
             "#fdca26"
            ],
            [
             1,
             "#f0f921"
            ]
           ]
          },
          "colorway": [
           "#636efa",
           "#EF553B",
           "#00cc96",
           "#ab63fa",
           "#FFA15A",
           "#19d3f3",
           "#FF6692",
           "#B6E880",
           "#FF97FF",
           "#FECB52"
          ],
          "font": {
           "color": "#f2f5fa"
          },
          "geo": {
           "bgcolor": "rgb(17,17,17)",
           "lakecolor": "rgb(17,17,17)",
           "landcolor": "rgb(17,17,17)",
           "showlakes": true,
           "showland": true,
           "subunitcolor": "#506784"
          },
          "hoverlabel": {
           "align": "left"
          },
          "hovermode": "closest",
          "mapbox": {
           "style": "dark"
          },
          "paper_bgcolor": "rgb(17,17,17)",
          "plot_bgcolor": "rgb(17,17,17)",
          "polar": {
           "angularaxis": {
            "gridcolor": "#506784",
            "linecolor": "#506784",
            "ticks": ""
           },
           "bgcolor": "rgb(17,17,17)",
           "radialaxis": {
            "gridcolor": "#506784",
            "linecolor": "#506784",
            "ticks": ""
           }
          },
          "scene": {
           "xaxis": {
            "backgroundcolor": "rgb(17,17,17)",
            "gridcolor": "#506784",
            "gridwidth": 2,
            "linecolor": "#506784",
            "showbackground": true,
            "ticks": "",
            "zerolinecolor": "#C8D4E3"
           },
           "yaxis": {
            "backgroundcolor": "rgb(17,17,17)",
            "gridcolor": "#506784",
            "gridwidth": 2,
            "linecolor": "#506784",
            "showbackground": true,
            "ticks": "",
            "zerolinecolor": "#C8D4E3"
           },
           "zaxis": {
            "backgroundcolor": "rgb(17,17,17)",
            "gridcolor": "#506784",
            "gridwidth": 2,
            "linecolor": "#506784",
            "showbackground": true,
            "ticks": "",
            "zerolinecolor": "#C8D4E3"
           }
          },
          "shapedefaults": {
           "line": {
            "color": "#f2f5fa"
           }
          },
          "sliderdefaults": {
           "bgcolor": "#C8D4E3",
           "bordercolor": "rgb(17,17,17)",
           "borderwidth": 1,
           "tickwidth": 0
          },
          "ternary": {
           "aaxis": {
            "gridcolor": "#506784",
            "linecolor": "#506784",
            "ticks": ""
           },
           "baxis": {
            "gridcolor": "#506784",
            "linecolor": "#506784",
            "ticks": ""
           },
           "bgcolor": "rgb(17,17,17)",
           "caxis": {
            "gridcolor": "#506784",
            "linecolor": "#506784",
            "ticks": ""
           }
          },
          "title": {
           "x": 0.05
          },
          "updatemenudefaults": {
           "bgcolor": "#506784",
           "borderwidth": 0
          },
          "xaxis": {
           "automargin": true,
           "gridcolor": "#283442",
           "linecolor": "#506784",
           "ticks": "",
           "title": {
            "standoff": 15
           },
           "zerolinecolor": "#283442",
           "zerolinewidth": 2
          },
          "yaxis": {
           "automargin": true,
           "gridcolor": "#283442",
           "linecolor": "#506784",
           "ticks": "",
           "title": {
            "standoff": 15
           },
           "zerolinecolor": "#283442",
           "zerolinewidth": 2
          }
         }
        },
        "title": {
         "text": "drawdown curve"
        },
        "xaxis": {
         "anchor": "y",
         "domain": [
          0,
          1
         ],
         "title": {
          "text": "close_time"
         }
        },
        "yaxis": {
         "anchor": "x",
         "domain": [
          0,
          1
         ],
         "title": {
          "text": "drawdown"
         }
        }
       }
      }
     },
     "metadata": {},
     "output_type": "display_data"
    },
    {
     "name": "stdout",
     "output_type": "stream",
     "text": [
      "max_drawdown -268.0\n"
     ]
    }
   ],
   "source": [
    "evaluate_backtest(bt.trades)"
   ]
  }
 ],
 "metadata": {
  "kernelspec": {
   "display_name": ".venv",
   "language": "python",
   "name": "python3"
  },
  "language_info": {
   "codemirror_mode": {
    "name": "ipython",
    "version": 3
   },
   "file_extension": ".py",
   "mimetype": "text/x-python",
   "name": "python",
   "nbconvert_exporter": "python",
   "pygments_lexer": "ipython3",
   "version": "3.12.1"
  }
 },
 "nbformat": 4,
 "nbformat_minor": 5
}
