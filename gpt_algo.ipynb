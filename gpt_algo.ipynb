{
 "cells": [
  {
   "cell_type": "code",
   "execution_count": 1,
   "id": "790310fc",
   "metadata": {},
   "outputs": [],
   "source": [
    "import MetaTrader5 as mt5\n",
    "import numpy as np\n",
    "import pandas as pd\n",
    "from datetime import datetime\n",
    "from  backtest import Backtester,  get_ohlc_history, create_price_fig, evaluate_backtest"
   ]
  },
  {
   "cell_type": "code",
   "execution_count": 2,
   "id": "b5e9f06e",
   "metadata": {},
   "outputs": [
    {
     "data": {
      "text/plain": [
       "True"
      ]
     },
     "execution_count": 2,
     "metadata": {},
     "output_type": "execute_result"
    }
   ],
   "source": [
    "# Conecte mt5\n",
    "mt5.initialize()\n",
    "# logine mt5\n",
    "login = 52185665\n",
    "password = '3cAJz$AQiKwMq0'\n",
    "server = 'ICMarketsSC-Demo'\n",
    "\n",
    "mt5.login(login,password,server)"
   ]
  },
  {
   "cell_type": "code",
   "execution_count": 3,
   "id": "684ca224",
   "metadata": {},
   "outputs": [],
   "source": [
    "# this function retreives olhc data from mt5 account and return a data frame\n",
    "def get_ohlc(symbol, timeframe, start_datetime, end_datetime):\n",
    "    ohlc = mt5.copy_rates_range(symbol, timeframe, start_datetime, end_datetime)\n",
    "    df = pd.DataFrame(ohlc)\n",
    "    df['time'] = pd.to_datetime(df['time'], unit= 's')#.dt.tz_localize('UTC')\n",
    "    return df"
   ]
  },
  {
   "cell_type": "code",
   "execution_count": 4,
   "id": "b53cec79",
   "metadata": {},
   "outputs": [
    {
     "data": {
      "text/html": [
       "<div>\n",
       "<style scoped>\n",
       "    .dataframe tbody tr th:only-of-type {\n",
       "        vertical-align: middle;\n",
       "    }\n",
       "\n",
       "    .dataframe tbody tr th {\n",
       "        vertical-align: top;\n",
       "    }\n",
       "\n",
       "    .dataframe thead th {\n",
       "        text-align: right;\n",
       "    }\n",
       "</style>\n",
       "<table border=\"1\" class=\"dataframe\">\n",
       "  <thead>\n",
       "    <tr style=\"text-align: right;\">\n",
       "      <th></th>\n",
       "      <th>time</th>\n",
       "      <th>open</th>\n",
       "      <th>high</th>\n",
       "      <th>low</th>\n",
       "      <th>close</th>\n",
       "      <th>tick_volume</th>\n",
       "      <th>spread</th>\n",
       "      <th>real_volume</th>\n",
       "    </tr>\n",
       "  </thead>\n",
       "  <tbody>\n",
       "    <tr>\n",
       "      <th>0</th>\n",
       "      <td>2025-06-30 23:00:00</td>\n",
       "      <td>1.17797</td>\n",
       "      <td>1.17798</td>\n",
       "      <td>1.17774</td>\n",
       "      <td>1.17797</td>\n",
       "      <td>74</td>\n",
       "      <td>0</td>\n",
       "      <td>0</td>\n",
       "    </tr>\n",
       "    <tr>\n",
       "      <th>1</th>\n",
       "      <td>2025-06-30 23:01:00</td>\n",
       "      <td>1.17797</td>\n",
       "      <td>1.17807</td>\n",
       "      <td>1.17794</td>\n",
       "      <td>1.17795</td>\n",
       "      <td>49</td>\n",
       "      <td>0</td>\n",
       "      <td>0</td>\n",
       "    </tr>\n",
       "    <tr>\n",
       "      <th>2</th>\n",
       "      <td>2025-06-30 23:02:00</td>\n",
       "      <td>1.17795</td>\n",
       "      <td>1.17801</td>\n",
       "      <td>1.17795</td>\n",
       "      <td>1.17799</td>\n",
       "      <td>51</td>\n",
       "      <td>0</td>\n",
       "      <td>0</td>\n",
       "    </tr>\n",
       "    <tr>\n",
       "      <th>3</th>\n",
       "      <td>2025-06-30 23:03:00</td>\n",
       "      <td>1.17799</td>\n",
       "      <td>1.17800</td>\n",
       "      <td>1.17791</td>\n",
       "      <td>1.17797</td>\n",
       "      <td>26</td>\n",
       "      <td>0</td>\n",
       "      <td>0</td>\n",
       "    </tr>\n",
       "    <tr>\n",
       "      <th>4</th>\n",
       "      <td>2025-06-30 23:04:00</td>\n",
       "      <td>1.17797</td>\n",
       "      <td>1.17801</td>\n",
       "      <td>1.17791</td>\n",
       "      <td>1.17791</td>\n",
       "      <td>26</td>\n",
       "      <td>0</td>\n",
       "      <td>0</td>\n",
       "    </tr>\n",
       "    <tr>\n",
       "      <th>...</th>\n",
       "      <td>...</td>\n",
       "      <td>...</td>\n",
       "      <td>...</td>\n",
       "      <td>...</td>\n",
       "      <td>...</td>\n",
       "      <td>...</td>\n",
       "      <td>...</td>\n",
       "      <td>...</td>\n",
       "    </tr>\n",
       "    <tr>\n",
       "      <th>52661</th>\n",
       "      <td>2025-08-20 13:34:00</td>\n",
       "      <td>1.16567</td>\n",
       "      <td>1.16574</td>\n",
       "      <td>1.16529</td>\n",
       "      <td>1.16530</td>\n",
       "      <td>67</td>\n",
       "      <td>0</td>\n",
       "      <td>0</td>\n",
       "    </tr>\n",
       "    <tr>\n",
       "      <th>52662</th>\n",
       "      <td>2025-08-20 13:35:00</td>\n",
       "      <td>1.16530</td>\n",
       "      <td>1.16534</td>\n",
       "      <td>1.16523</td>\n",
       "      <td>1.16524</td>\n",
       "      <td>46</td>\n",
       "      <td>0</td>\n",
       "      <td>0</td>\n",
       "    </tr>\n",
       "    <tr>\n",
       "      <th>52663</th>\n",
       "      <td>2025-08-20 13:36:00</td>\n",
       "      <td>1.16524</td>\n",
       "      <td>1.16529</td>\n",
       "      <td>1.16518</td>\n",
       "      <td>1.16519</td>\n",
       "      <td>47</td>\n",
       "      <td>0</td>\n",
       "      <td>0</td>\n",
       "    </tr>\n",
       "    <tr>\n",
       "      <th>52664</th>\n",
       "      <td>2025-08-20 13:37:00</td>\n",
       "      <td>1.16519</td>\n",
       "      <td>1.16521</td>\n",
       "      <td>1.16512</td>\n",
       "      <td>1.16514</td>\n",
       "      <td>70</td>\n",
       "      <td>0</td>\n",
       "      <td>0</td>\n",
       "    </tr>\n",
       "    <tr>\n",
       "      <th>52665</th>\n",
       "      <td>2025-08-20 13:38:00</td>\n",
       "      <td>1.16514</td>\n",
       "      <td>1.16522</td>\n",
       "      <td>1.16513</td>\n",
       "      <td>1.16520</td>\n",
       "      <td>37</td>\n",
       "      <td>0</td>\n",
       "      <td>0</td>\n",
       "    </tr>\n",
       "  </tbody>\n",
       "</table>\n",
       "<p>52666 rows × 8 columns</p>\n",
       "</div>"
      ],
      "text/plain": [
       "                     time     open     high      low    close  tick_volume  \\\n",
       "0     2025-06-30 23:00:00  1.17797  1.17798  1.17774  1.17797           74   \n",
       "1     2025-06-30 23:01:00  1.17797  1.17807  1.17794  1.17795           49   \n",
       "2     2025-06-30 23:02:00  1.17795  1.17801  1.17795  1.17799           51   \n",
       "3     2025-06-30 23:03:00  1.17799  1.17800  1.17791  1.17797           26   \n",
       "4     2025-06-30 23:04:00  1.17797  1.17801  1.17791  1.17791           26   \n",
       "...                   ...      ...      ...      ...      ...          ...   \n",
       "52661 2025-08-20 13:34:00  1.16567  1.16574  1.16529  1.16530           67   \n",
       "52662 2025-08-20 13:35:00  1.16530  1.16534  1.16523  1.16524           46   \n",
       "52663 2025-08-20 13:36:00  1.16524  1.16529  1.16518  1.16519           47   \n",
       "52664 2025-08-20 13:37:00  1.16519  1.16521  1.16512  1.16514           70   \n",
       "52665 2025-08-20 13:38:00  1.16514  1.16522  1.16513  1.16520           37   \n",
       "\n",
       "       spread  real_volume  \n",
       "0           0            0  \n",
       "1           0            0  \n",
       "2           0            0  \n",
       "3           0            0  \n",
       "4           0            0  \n",
       "...       ...          ...  \n",
       "52661       0            0  \n",
       "52662       0            0  \n",
       "52663       0            0  \n",
       "52664       0            0  \n",
       "52665       0            0  \n",
       "\n",
       "[52666 rows x 8 columns]"
      ]
     },
     "execution_count": 4,
     "metadata": {},
     "output_type": "execute_result"
    }
   ],
   "source": [
    "# 1 minut df\n",
    "symbol = 'EURUSD'\n",
    "pos_size = 1\n",
    "timeframe = mt5.TIMEFRAME_M1\n",
    "start_datetime = datetime(2025,7,1)\n",
    "end_datetime = datetime.now()\n",
    "df = get_ohlc(symbol, timeframe, start_datetime, end_datetime)\n",
    "#df.set_index(\"time\", inplace=True)\n",
    "#df = df.between_time(\"13:00\", \"16:00\")\n",
    "df"
   ]
  },
  {
   "cell_type": "code",
   "execution_count": 5,
   "id": "858dcede",
   "metadata": {},
   "outputs": [
    {
     "name": "stdout",
     "output_type": "stream",
     "text": [
      "Total trades: 427\n",
      "Win rate: 28.81%\n",
      "Risk-Reward Ratio: 2.55\n",
      "[('win', np.float64(1.17683), np.float64(1.1776850000000003)), ('loss', np.float64(1.17714), np.float64(1.1768100000000001)), ('loss', np.float64(1.17751), np.float64(1.1772)), ('loss', np.float64(1.17733), np.float64(1.1770550000000002)), ('loss', np.float64(1.17525), np.float64(1.17515)), ('loss', np.float64(1.17527), np.float64(1.1751200000000002)), ('loss', np.float64(1.1751800000000001), np.float64(1.1750350000000003)), ('loss', np.float64(1.17516), np.float64(1.17495)), ('win', np.float64(1.1749100000000001), np.float64(1.1751649999999998)), ('loss', np.float64(1.17522), np.float64(1.17502)), ('loss', np.float64(1.17492), np.float64(1.1746949999999998)), ('win', np.float64(1.17485), np.float64(1.175585)), ('loss', np.float64(1.17576), np.float64(1.1756799999999998)), ('win', np.float64(1.17565), np.float64(1.17591)), ('win', np.float64(1.17563), np.float64(1.1758849999999996)), ('loss', np.float64(1.17595), np.float64(1.175815)), ('win', np.float64(1.17595), np.float64(1.176235)), ('win', np.float64(1.17642), np.float64(1.1768399999999999)), ('loss', np.float64(1.17682), np.float64(1.176625)), ('loss', np.float64(1.17699), np.float64(1.1768049999999999)), ('loss', np.float64(1.17668), np.float64(1.176475)), ('loss', np.float64(1.17612), np.float64(1.1758600000000001)), ('loss', np.float64(1.17677), np.float64(1.1765700000000001)), ('loss', np.float64(1.17686), np.float64(1.17666)), ('loss', np.float64(1.17662), np.float64(1.17645)), ('win', np.float64(1.17661), np.float64(1.1770600000000002)), ('win', np.float64(1.1767400000000001), np.float64(1.1774000000000004)), ('win', np.float64(1.17727), np.float64(1.17752)), ('win', np.float64(1.17747), np.float64(1.17777)), ('win', np.float64(1.17755), np.float64(1.1776700000000002)), ('win', np.float64(1.17756), np.float64(1.17768)), ('loss', np.float64(1.17765), np.float64(1.1775900000000001)), ('loss', np.float64(1.17732), np.float64(1.177165)), ('loss', np.float64(1.17693), np.float64(1.17668)), ('loss', np.float64(1.17721), np.float64(1.17704)), ('loss', np.float64(1.17695), np.float64(1.176775)), ('loss', np.float64(1.17675), np.float64(1.17653)), ('loss', np.float64(1.1767), np.float64(1.1764700000000001)), ('loss', np.float64(1.17663), np.float64(1.17644)), ('loss', np.float64(1.17685), np.float64(1.176585)), ('loss', np.float64(1.17376), np.float64(1.1734499999999999)), ('win', np.float64(1.17233), np.float64(1.1732599999999995)), ('loss', np.float64(1.17332), np.float64(1.1731099999999999)), ('loss', np.float64(1.17273), np.float64(1.17257)), ('loss', np.float64(1.1729), np.float64(1.172735)), ('loss', np.float64(1.17295), np.float64(1.172645)), ('loss', np.float64(1.17378), np.float64(1.173505)), ('win', np.float64(1.17332), np.float64(1.1739049999999998)), ('loss', np.float64(1.17379), np.float64(1.173505)), ('loss', np.float64(1.17096), np.float64(1.170125)), ('loss', np.float64(1.17196), np.float64(1.171655)), ('loss', np.float64(1.17221), np.float64(1.172085)), ('loss', np.float64(1.17077), np.float64(1.1707)), ('win', np.float64(1.17107), np.float64(1.171865)), ('win', np.float64(1.1722), np.float64(1.1726199999999993)), ('win', np.float64(1.1728), np.float64(1.17363)), ('win', np.float64(1.17376), np.float64(1.1743899999999994)), ('loss', np.float64(1.17441), np.float64(1.174105)), ('loss', np.float64(1.17476), np.float64(1.174595)), ('loss', np.float64(1.17472), np.float64(1.17444)), ('loss', np.float64(1.17556), np.float64(1.175265)), ('loss', np.float64(1.1752), np.float64(1.1749100000000001)), ('loss', np.float64(1.17479), np.float64(1.1745800000000002)), ('loss', np.float64(1.17399), np.float64(1.1737450000000003)), ('loss', np.float64(1.17217), np.float64(1.17178)), ('loss', np.float64(1.17085), np.float64(1.170355)), ('loss', np.float64(1.17073), np.float64(1.1702400000000002)), ('win', np.float64(1.17019), np.float64(1.17151)), ('loss', np.float64(1.1717), np.float64(1.1714449999999998)), ('win', np.float64(1.17208), np.float64(1.1726499999999997)), ('loss', np.float64(1.17241), np.float64(1.1721749999999997)), ('loss', np.float64(1.17244), np.float64(1.172265)), ('win', np.float64(1.17255), np.float64(1.17273)), ('win', np.float64(1.1728), np.float64(1.172905)), ('loss', np.float64(1.17257), np.float64(1.172435)), ('loss', np.float64(1.1722), np.float64(1.171975)), ('loss', np.float64(1.17058), np.float64(1.1704050000000001)), ('win', np.float64(1.17049), np.float64(1.1709400000000003)), ('win', np.float64(1.17086), np.float64(1.17176)), ('win', np.float64(1.17147), np.float64(1.1723550000000005)), ('loss', np.float64(1.17077), np.float64(1.170365)), ('loss', np.float64(1.17142), np.float64(1.1709649999999998)), ('loss', np.float64(1.1702), np.float64(1.1699549999999999)), ('loss', np.float64(1.17042), np.float64(1.17016)), ('loss', np.float64(1.17044), np.float64(1.1703)), ('loss', np.float64(1.17169), np.float64(1.17108)), ('loss', np.float64(1.17157), np.float64(1.171245)), ('loss', np.float64(1.17083), np.float64(1.170595)), ('loss', np.float64(1.17074), np.float64(1.1705449999999997)), ('loss', np.float64(1.17063), np.float64(1.170465)), ('loss', np.float64(1.17076), np.float64(1.17054)), ('loss', np.float64(1.1709100000000001), np.float64(1.170785)), ('loss', np.float64(1.17082), np.float64(1.170655)), ('win', np.float64(1.17138), np.float64(1.1721599999999999)), ('loss', np.float64(1.17182), np.float64(1.17171)), ('loss', np.float64(1.17221), np.float64(1.17211)), ('loss', np.float64(1.1724700000000001), np.float64(1.172425)), ('loss', np.float64(1.1724999999999999), np.float64(1.1724649999999999)), ('win', np.float64(1.17399), np.float64(1.1741)), ('loss', np.float64(1.17383), np.float64(1.173645)), ('loss', np.float64(1.1739), np.float64(1.1737549999999999)), ('win', np.float64(1.17364), np.float64(1.17378)), ('loss', np.float64(1.17391), np.float64(1.173735)), ('loss', np.float64(1.17393), np.float64(1.17373)), ('loss', np.float64(1.17351), np.float64(1.173285)), ('loss', np.float64(1.17287), np.float64(1.1727500000000002)), ('loss', np.float64(1.17305), np.float64(1.1728299999999998)), ('loss', np.float64(1.17073), np.float64(1.170455)), ('loss', np.float64(1.16968), np.float64(1.1689150000000001)), ('win', np.float64(1.1668), np.float64(1.16827)), ('win', np.float64(1.16852), np.float64(1.16869)), ('win', np.float64(1.16892), np.float64(1.1693099999999998)), ('loss', np.float64(1.16927), np.float64(1.16901)), ('loss', np.float64(1.16938), np.float64(1.1692400000000003)), ('win', np.float64(1.16938), np.float64(1.1697250000000003)), ('loss', np.float64(1.16983), np.float64(1.16967)), ('loss', np.float64(1.17056), np.float64(1.17043)), ('loss', np.float64(1.17024), np.float64(1.17007)), ('loss', np.float64(1.1700599999999999), np.float64(1.1698149999999998)), ('loss', np.float64(1.16754), np.float64(1.167385)), ('win', np.float64(1.16712), np.float64(1.1677650000000002)), ('loss', np.float64(1.16806), np.float64(1.167815)), ('loss', np.float64(1.16801), np.float64(1.1678250000000001)), ('win', np.float64(1.16711), np.float64(1.16801)), ('loss', np.float64(1.16774), np.float64(1.16755)), ('win', np.float64(1.16745), np.float64(1.16819)), ('win', np.float64(1.16778), np.float64(1.16931)), ('loss', np.float64(1.16944), np.float64(1.169175)), ('loss', np.float64(1.16938), np.float64(1.16911)), ('loss', np.float64(1.16897), np.float64(1.16859)), ('win', np.float64(1.16853), np.float64(1.1692650000000002)), ('win', np.float64(1.16886), np.float64(1.1693500000000001)), ('loss', np.float64(1.16928), np.float64(1.168765)), ('loss', np.float64(1.16933), np.float64(1.168985)), ('win', np.float64(1.16889), np.float64(1.16939)), ('loss', np.float64(1.16914), np.float64(1.1688550000000002)), ('win', np.float64(1.16876), np.float64(1.16915)), ('loss', np.float64(1.16854), np.float64(1.168285)), ('loss', np.float64(1.16706), np.float64(1.1669)), ('win', np.float64(1.1681300000000001), np.float64(1.1688049999999999)), ('win', np.float64(1.16841), np.float64(1.16947)), ('loss', np.float64(1.1697), np.float64(1.16946)), ('loss', np.float64(1.16804), np.float64(1.167725)), ('loss', np.float64(1.1679), np.float64(1.16778)), ('win', np.float64(1.1678), np.float64(1.16831)), ('loss', np.float64(1.16842), np.float64(1.167995)), ('loss', np.float64(1.16787), np.float64(1.167735)), ('loss', np.float64(1.16798), np.float64(1.167695)), ('loss', np.float64(1.16734), np.float64(1.167065)), ('loss', np.float64(1.1666), np.float64(1.166395)), ('win', np.float64(1.16811), np.float64(1.16887)), ('win', np.float64(1.16892), np.float64(1.169445)), ('loss', np.float64(1.16933), np.float64(1.1691349999999998)), ('loss', np.float64(1.16894), np.float64(1.1687400000000001)), ('loss', np.float64(1.16863), np.float64(1.168325)), ('win', np.float64(1.16763), np.float64(1.1686949999999996)), ('loss', np.float64(1.1671), np.float64(1.1663700000000001)), ('loss', np.float64(1.16647), np.float64(1.1662399999999997)), ('win', np.float64(1.1663999999999999), np.float64(1.166835)), ('loss', np.float64(1.16652), np.float64(1.166385)), ('loss', np.float64(1.16712), np.float64(1.1669049999999999)), ('loss', np.float64(1.16672), np.float64(1.16656)), ('loss', np.float64(1.16685), np.float64(1.166655)), ('loss', np.float64(1.16672), np.float64(1.166585)), ('loss', np.float64(1.1666), np.float64(1.166505)), ('win', np.float64(1.16662), np.float64(1.1674600000000002)), ('loss', np.float64(1.16743), np.float64(1.1671900000000002)), ('loss', np.float64(1.16699), np.float64(1.166785)), ('loss', np.float64(1.16731), np.float64(1.166965)), ('win', np.float64(1.16738), np.float64(1.1676199999999999)), ('win', np.float64(1.16759), np.float64(1.1677849999999999)), ('win', np.float64(1.16765), np.float64(1.1678750000000002)), ('loss', np.float64(1.1684700000000001), np.float64(1.168365)), ('loss', np.float64(1.16832), np.float64(1.168095)), ('loss', np.float64(1.16837), np.float64(1.1680949999999999)), ('win', np.float64(1.16755), np.float64(1.1691399999999998)), ('win', np.float64(1.1675), np.float64(1.1688499999999995)), ('loss', np.float64(1.1687), np.float64(1.1685)), ('loss', np.float64(1.16838), np.float64(1.16821)), ('win', np.float64(1.16775), np.float64(1.1683200000000005)), ('loss', np.float64(1.1684), np.float64(1.168195)), ('loss', np.float64(1.16694), np.float64(1.166715)), ('loss', np.float64(1.16689), np.float64(1.16665)), ('loss', np.float64(1.15957), np.float64(1.159325)), ('loss', np.float64(1.15961), np.float64(1.159325)), ('win', np.float64(1.15951), np.float64(1.1600949999999999)), ('loss', np.float64(1.16018), np.float64(1.1600449999999998)), ('loss', np.float64(1.1602000000000001), np.float64(1.16005)), ('loss', np.float64(1.1601), np.float64(1.159955)), ('loss', np.float64(1.16021), np.float64(1.160065)), ('win', np.float64(1.15999), np.float64(1.1604250000000003)), ('win', np.float64(1.16088), np.float64(1.1612549999999997)), ('loss', np.float64(1.16148), np.float64(1.1614)), ('win', np.float64(1.16086), np.float64(1.16171)), ('win', np.float64(1.16155), np.float64(1.16178)), ('loss', np.float64(1.16175), np.float64(1.1615900000000001)), ('win', np.float64(1.16191), np.float64(1.16204)), ('loss', np.float64(1.16229), np.float64(1.16209)), ('loss', np.float64(1.16242), np.float64(1.16221)), ('loss', np.float64(1.1625), np.float64(1.1622750000000002)), ('loss', np.float64(1.16021), np.float64(1.15913)), ('win', np.float64(1.15991), np.float64(1.16591)), ('win', np.float64(1.16341), np.float64(1.16384)), ('win', np.float64(1.16348), np.float64(1.16417)), ('loss', np.float64(1.16346), np.float64(1.1631749999999998)), ('loss', np.float64(1.1639), np.float64(1.16373)), ('loss', np.float64(1.16363), np.float64(1.1636199999999999)), ('loss', np.float64(1.16394), np.float64(1.1637499999999998)), ('loss', np.float64(1.16383), np.float64(1.163725)), ('loss', np.float64(1.16277), np.float64(1.16259)), ('loss', np.float64(1.16202), np.float64(1.16168)), ('loss', np.float64(1.16185), np.float64(1.16146)), ('win', np.float64(1.16166), np.float64(1.1621399999999997)), ('win', np.float64(1.16174), np.float64(1.1622800000000002)), ('loss', np.float64(1.16251), np.float64(1.162255)), ('loss', np.float64(1.16232), np.float64(1.162125)), ('loss', np.float64(1.15947), np.float64(1.15889)), ('loss', np.float64(1.16039), np.float64(1.1598950000000001)), ('loss', np.float64(1.16011), np.float64(1.159865)), ('loss', np.float64(1.16001), np.float64(1.159765)), ('loss', np.float64(1.15863), np.float64(1.158445)), ('loss', np.float64(1.15764), np.float64(1.1574)), ('win', np.float64(1.15744), np.float64(1.15855)), ('win', np.float64(1.15738), np.float64(1.15883)), ('loss', np.float64(1.15881), np.float64(1.15849)), ('loss', np.float64(1.15885), np.float64(1.1586849999999997)), ('win', np.float64(1.15844), np.float64(1.159265)), ('win', np.float64(1.15947), np.float64(1.15975)), ('loss', np.float64(1.1598600000000001), np.float64(1.1597000000000002)), ('loss', np.float64(1.15976), np.float64(1.159625)), ('win', np.float64(1.15994), np.float64(1.1606150000000004)), ('win', np.float64(1.16024), np.float64(1.16057)), ('win', np.float64(1.16071), np.float64(1.16183)), ('loss', np.float64(1.16195), np.float64(1.161765)), ('loss', np.float64(1.16191), np.float64(1.161765)), ('win', np.float64(1.16165), np.float64(1.162265)), ('win', np.float64(1.16186), np.float64(1.1625649999999998)), ('loss', np.float64(1.1623), np.float64(1.16202)), ('loss', np.float64(1.16267), np.float64(1.1624500000000002)), ('loss', np.float64(1.16268), np.float64(1.1623649999999999)), ('loss', np.float64(1.16194), np.float64(1.1617899999999999)), ('win', np.float64(1.16197), np.float64(1.1625700000000005)), ('win', np.float64(1.1621), np.float64(1.1627599999999996)), ('loss', np.float64(1.16372), np.float64(1.1635300000000002)), ('loss', np.float64(1.16406), np.float64(1.1637)), ('loss', np.float64(1.16366), np.float64(1.16342)), ('loss', np.float64(1.1639), np.float64(1.1635900000000001)), ('win', np.float64(1.16397), np.float64(1.16403)), ('loss', np.float64(1.16469), np.float64(1.16444)), ('loss', np.float64(1.16237), np.float64(1.1622299999999999)), ('win', np.float64(1.16188), np.float64(1.1626450000000004)), ('loss', np.float64(1.16232), np.float64(1.16202)), ('loss', np.float64(1.16315), np.float64(1.162745)), ('loss', np.float64(1.16304), np.float64(1.162725)), ('win', np.float64(1.16253), np.float64(1.16288)), ('loss', np.float64(1.1631), np.float64(1.16288)), ('loss', np.float64(1.16306), np.float64(1.16284)), ('loss', np.float64(1.163), np.float64(1.1627800000000001)), ('loss', np.float64(1.16307), np.float64(1.162855)), ('loss', np.float64(1.16261), np.float64(1.16227)), ('loss', np.float64(1.16241), np.float64(1.162035)), ('win', np.float64(1.1616900000000001), np.float64(1.16246)), ('loss', np.float64(1.1623999999999999), np.float64(1.161975)), ('win', np.float64(1.16209), np.float64(1.16266)), ('loss', np.float64(1.16318), np.float64(1.1630000000000003)), ('loss', np.float64(1.1633), np.float64(1.163075)), ('loss', np.float64(1.16336), np.float64(1.16311)), ('loss', np.float64(1.16323), np.float64(1.163025)), ('loss', np.float64(1.16675), np.float64(1.1665100000000002)), ('loss', np.float64(1.16616), np.float64(1.1659100000000002)), ('loss', np.float64(1.16936), np.float64(1.16921)), ('win', np.float64(1.16883), np.float64(1.1694)), ('loss', np.float64(1.16936), np.float64(1.1692049999999998)), ('loss', np.float64(1.16911), np.float64(1.1688500000000002)), ('loss', np.float64(1.1690800000000001), np.float64(1.1688200000000002)), ('loss', np.float64(1.16898), np.float64(1.168815)), ('loss', np.float64(1.16886), np.float64(1.16865)), ('loss', np.float64(1.16899), np.float64(1.16881)), ('loss', np.float64(1.16883), np.float64(1.16868)), ('loss', np.float64(1.16869), np.float64(1.16865)), ('loss', np.float64(1.16865), np.float64(1.168415)), ('loss', np.float64(1.16882), np.float64(1.16864)), ('loss', np.float64(1.16766), np.float64(1.167075)), ('loss', np.float64(1.16531), np.float64(1.16477)), ('loss', np.float64(1.16488), np.float64(1.1645249999999998)), ('win', np.float64(1.16517), np.float64(1.166475)), ('win', np.float64(1.16338), np.float64(1.1645199999999996)), ('loss', np.float64(1.16236), np.float64(1.161635)), ('loss', np.float64(1.16162), np.float64(1.161)), ('loss', np.float64(1.15938), np.float64(1.1591750000000003)), ('loss', np.float64(1.15913), np.float64(1.1590150000000001)), ('loss', np.float64(1.15916), np.float64(1.15899)), ('loss', np.float64(1.15915), np.float64(1.1590349999999998)), ('loss', np.float64(1.15929), np.float64(1.15909)), ('loss', np.float64(1.15975), np.float64(1.159535)), ('loss', np.float64(1.15889), np.float64(1.158595)), ('win', np.float64(1.1586), np.float64(1.15922)), ('loss', np.float64(1.15958), np.float64(1.159265)), ('loss', np.float64(1.15871), np.float64(1.1583999999999999)), ('win', np.float64(1.15809), np.float64(1.1588100000000001)), ('loss', np.float64(1.15885), np.float64(1.15837)), ('loss', np.float64(1.15876), np.float64(1.158445)), ('loss', np.float64(1.15765), np.float64(1.1572)), ('loss', np.float64(1.1548), np.float64(1.153915)), ('loss', np.float64(1.15339), np.float64(1.152895)), ('win', np.float64(1.15253), np.float64(1.15442)), ('win', np.float64(1.15316), np.float64(1.1545549999999998)), ('win', np.float64(1.15416), np.float64(1.15502)), ('win', np.float64(1.1552), np.float64(1.1557400000000002)), ('loss', np.float64(1.1551), np.float64(1.154945)), ('loss', np.float64(1.15516), np.float64(1.155065)), ('loss', np.float64(1.15493), np.float64(1.1547550000000002)), ('loss', np.float64(1.15493), np.float64(1.15484)), ('loss', np.float64(1.1549800000000001), np.float64(1.154835)), ('loss', np.float64(1.15499), np.float64(1.154885)), ('loss', np.float64(1.15502), np.float64(1.154935)), ('loss', np.float64(1.15685), np.float64(1.1564999999999999)), ('win', np.float64(1.15633), np.float64(1.1564)), ('win', np.float64(1.15638), np.float64(1.1570700000000005)), ('loss', np.float64(1.15592), np.float64(1.155415)), ('loss', np.float64(1.1555), np.float64(1.155275)), ('loss', np.float64(1.15492), np.float64(1.1545)), ('loss', np.float64(1.15572), np.float64(1.155555)), ('loss', np.float64(1.15366), np.float64(1.153105)), ('loss', np.float64(1.15307), np.float64(1.15279)), ('loss', np.float64(1.1519300000000001), np.float64(1.1509300000000002)), ('win', np.float64(1.14721), np.float64(1.14781)), ('win', np.float64(1.14779), np.float64(1.1483450000000004)), ('loss', np.float64(1.14852), np.float64(1.1477849999999998)), ('loss', np.float64(1.14912), np.float64(1.14806)), ('win', np.float64(1.14205), np.float64(1.14252)), ('win', np.float64(1.14208), np.float64(1.1426649999999998)), ('loss', np.float64(1.14241), np.float64(1.14215)), ('win', np.float64(1.14256), np.float64(1.1431150000000003)), ('win', np.float64(1.14292), np.float64(1.1435950000000004)), ('loss', np.float64(1.14329), np.float64(1.14324)), ('win', np.float64(1.14233), np.float64(1.1431550000000001)), ('loss', np.float64(1.143), np.float64(1.14254)), ('loss', np.float64(1.14359), np.float64(1.143345)), ('loss', np.float64(1.14381), np.float64(1.143545)), ('loss', np.float64(1.144), np.float64(1.14388)), ('win', np.float64(1.14389), np.float64(1.14489)), ('loss', np.float64(1.14411), np.float64(1.1436549999999999)), ('loss', np.float64(1.14316), np.float64(1.14257)), ('loss', np.float64(1.14201), np.float64(1.1417)), ('loss', np.float64(1.1412), np.float64(1.1409699999999998)), ('win', np.float64(1.14174), np.float64(1.1420400000000006)), ('loss', np.float64(1.14222), np.float64(1.141915)), ('loss', np.float64(1.14169), np.float64(1.14134)), ('loss', np.float64(1.14248), np.float64(1.1421549999999998)), ('loss', np.float64(1.14186), np.float64(1.141645)), ('win', np.float64(1.14168), np.float64(1.1424599999999998)), ('win', np.float64(1.1418), np.float64(1.142535)), ('win', np.float64(1.1417), np.float64(1.1423899999999998)), ('win', np.float64(1.14218), np.float64(1.142885)), ('loss', np.float64(1.14154), np.float64(1.1410049999999998)), ('loss', np.float64(1.14055), np.float64(1.14005)), ('loss', np.float64(1.1591), np.float64(1.1587049999999999)), ('loss', np.float64(1.15941), np.float64(1.1588250000000002)), ('loss', np.float64(1.15865), np.float64(1.158005)), ('loss', np.float64(1.15808), np.float64(1.157705)), ('loss', np.float64(1.15807), np.float64(1.157465)), ('loss', np.float64(1.15656), np.float64(1.1565)), ('loss', np.float64(1.1567), np.float64(1.156425)), ('win', np.float64(1.15799), np.float64(1.1584550000000005)), ('win', np.float64(1.1581299999999999), np.float64(1.1587299999999998)), ('loss', np.float64(1.15862), np.float64(1.15842)), ('loss', np.float64(1.15571), np.float64(1.15568)), ('loss', np.float64(1.15591), np.float64(1.15568)), ('loss', np.float64(1.1539), np.float64(1.1535199999999999)), ('loss', np.float64(1.15394), np.float64(1.15303)), ('loss', np.float64(1.15537), np.float64(1.1547749999999999)), ('loss', np.float64(1.15716), np.float64(1.156785)), ('win', np.float64(1.1573), np.float64(1.15749)), ('loss', np.float64(1.15757), np.float64(1.1573950000000002)), ('loss', np.float64(1.15761), np.float64(1.157395)), ('win', np.float64(1.15787), np.float64(1.1584099999999995)), ('loss', np.float64(1.15771), np.float64(1.157355)), ('loss', np.float64(1.15824), np.float64(1.1579799999999998)), ('win', np.float64(1.1581), np.float64(1.1588049999999999)), ('loss', np.float64(1.15819), np.float64(1.15788)), ('loss', np.float64(1.15872), np.float64(1.15838)), ('loss', np.float64(1.15773), np.float64(1.1573699999999998)), ('loss', np.float64(1.15786), np.float64(1.15749)), ('loss', np.float64(1.15743), np.float64(1.157165)), ('loss', np.float64(1.16033), np.float64(1.1597950000000001)), ('loss', np.float64(1.16384), np.float64(1.16361)), ('win', np.float64(1.16343), np.float64(1.1646750000000001)), ('loss', np.float64(1.16372), np.float64(1.163485)), ('loss', np.float64(1.16416), np.float64(1.1638950000000001)), ('loss', np.float64(1.16497), np.float64(1.16486)), ('win', np.float64(1.16439), np.float64(1.1650200000000002)), ('win', np.float64(1.1601), np.float64(1.1611949999999998)), ('win', np.float64(1.16082), np.float64(1.16107)), ('loss', np.float64(1.16115), np.float64(1.16087)), ('loss', np.float64(1.16122), np.float64(1.16108)), ('loss', np.float64(1.1615199999999999), np.float64(1.1614449999999998)), ('loss', np.float64(1.16156), np.float64(1.161455)), ('loss', np.float64(1.16165), np.float64(1.161485)), ('win', np.float64(1.1615199999999999), np.float64(1.16185)), ('win', np.float64(1.16195), np.float64(1.16229)), ('win', np.float64(1.16195), np.float64(1.16236)), ('loss', np.float64(1.16233), np.float64(1.162025)), ('loss', np.float64(1.16209), np.float64(1.16194)), ('loss', np.float64(1.16201), np.float64(1.1617950000000001)), ('win', np.float64(1.16198), np.float64(1.1626399999999997)), ('loss', np.float64(1.16157), np.float64(1.161365)), ('win', np.float64(1.16097), np.float64(1.16201)), ('loss', np.float64(1.16163), np.float64(1.16133)), ('loss', np.float64(1.16103), np.float64(1.16084)), ('loss', np.float64(1.16462), np.float64(1.164485)), ('loss', np.float64(1.16455), np.float64(1.16438)), ('loss', np.float64(1.16506), np.float64(1.164975)), ('loss', np.float64(1.1648399999999999), np.float64(1.1647599999999998)), ('loss', np.float64(1.16485), np.float64(1.164745)), ('loss', np.float64(1.16428), np.float64(1.164105)), ('loss', np.float64(1.16424), np.float64(1.1641149999999998)), ('loss', np.float64(1.1638600000000001), np.float64(1.1636100000000003)), ('win', np.float64(1.16255), np.float64(1.16303)), ('win', np.float64(1.1623999999999999), np.float64(1.1632549999999995)), ('win', np.float64(1.16339), np.float64(1.16349)), ('loss', np.float64(1.16353), np.float64(1.163405)), ('loss', np.float64(1.16351), np.float64(1.16341)), ('loss', np.float64(1.16388), np.float64(1.1637650000000002)), ('loss', np.float64(1.16398), np.float64(1.163795)), ('loss', np.float64(1.164), np.float64(1.1637149999999998)), ('loss', np.float64(1.16379), np.float64(1.163475))]\n"
     ]
    }
   ],
   "source": [
    "# === Calculate indicators ===\n",
    "df[\"atr\"] = df[\"high\"].rolling(14).max() - df[\"low\"].rolling(14).min()\n",
    "df[\"vwap\"] = (df[\"close\"] * df[\"tick_volume\"]).cumsum() / df[\"tick_volume\"].cumsum()\n",
    "df[\"volume_spike\"] = df[\"tick_volume\"] > df[\"tick_volume\"].rolling(10).mean() * 1.5\n",
    "\n",
    "# === Signal Generation ===\n",
    "def generate_signals(df):\n",
    "    signals = []\n",
    "    for i in range(14, len(df)):\n",
    "        row = df.iloc[i]\n",
    "        prev = df.iloc[i-1]\n",
    "\n",
    "        cond1 = row[\"close\"] < row[\"vwap\"] - 2 * row[\"atr\"]\n",
    "        cond2 = row[\"spread\"] < 0.0002\n",
    "        cond3 = row[\"volume_spike\"]\n",
    "        cond4 = row[\"close\"] > row[\"open\"] and prev[\"close\"] < prev[\"open\"]\n",
    "\n",
    "        if cond1 and cond2 and cond3 and cond4: \n",
    "            signals.append(i)\n",
    "    return signals\n",
    "\n",
    "signals = generate_signals(df)\n",
    "\n",
    "# === Backtest ===\n",
    "results = []\n",
    "rr = 3  # risk-reward ratio\n",
    "\n",
    "for i in signals:\n",
    "    entry_price = df.iloc[i][\"close\"]\n",
    "    sl = entry_price - 0.5 * df.iloc[i][\"atr\"]\n",
    "    tp = entry_price + rr * (entry_price - sl)\n",
    "\n",
    "    for j in range(i+1, min(i+60, len(df))):  # look ahead for next ~2 hours\n",
    "        high = df.iloc[j][\"high\"]\n",
    "        low = df.iloc[j][\"low\"]\n",
    "        if low <= sl:\n",
    "            results.append((\"loss\", entry_price, sl))\n",
    "            break\n",
    "        elif high >= tp:\n",
    "            results.append((\"win\", entry_price, tp))\n",
    "            break\n",
    "    else:\n",
    "        # time-based exit\n",
    "        close_exit = df.iloc[i+60][\"close\"]\n",
    "        if close_exit > entry_price:\n",
    "            results.append((\"win\", entry_price, close_exit))\n",
    "        else:\n",
    "            results.append((\"loss\", entry_price, close_exit))\n",
    "# === Metrics ===\n",
    "wins = [r for r in results if r[0] == \"win\"]\n",
    "losses = [r for r in results if r[0] == \"loss\"]\n",
    "win_rate = len(wins) / len(results)\n",
    "r_r_ratio = np.mean([abs(w[2]-w[1]) for w in wins]) / np.mean([abs(l[2]-l[1]) for l in losses])\n",
    "\n",
    "\n",
    "entry_price = df.iloc[i][\"close\"]\n",
    "df['sl'] = entry_price - 0.5 * df.iloc[i][\"atr\"]\n",
    "df['tp'] = entry_price + rr * (entry_price - sl)\n",
    "\n",
    "print(f\"Total trades: {len(results)}\")\n",
    "print(f\"Win rate: {win_rate:.2%}\")\n",
    "print(f\"Risk-Reward Ratio: {r_r_ratio:.2f}\")\n",
    "print(results)\n"
   ]
  },
  {
   "cell_type": "code",
   "execution_count": 6,
   "id": "a1ee3080",
   "metadata": {},
   "outputs": [
    {
     "data": {
      "text/html": [
       "<div>\n",
       "<style scoped>\n",
       "    .dataframe tbody tr th:only-of-type {\n",
       "        vertical-align: middle;\n",
       "    }\n",
       "\n",
       "    .dataframe tbody tr th {\n",
       "        vertical-align: top;\n",
       "    }\n",
       "\n",
       "    .dataframe thead th {\n",
       "        text-align: right;\n",
       "    }\n",
       "</style>\n",
       "<table border=\"1\" class=\"dataframe\">\n",
       "  <thead>\n",
       "    <tr style=\"text-align: right;\">\n",
       "      <th></th>\n",
       "      <th>time</th>\n",
       "      <th>open</th>\n",
       "      <th>high</th>\n",
       "      <th>low</th>\n",
       "      <th>close</th>\n",
       "      <th>tick_volume</th>\n",
       "      <th>spread</th>\n",
       "      <th>real_volume</th>\n",
       "      <th>atr</th>\n",
       "      <th>vwap</th>\n",
       "      <th>volume_spike</th>\n",
       "      <th>sl</th>\n",
       "      <th>tp</th>\n",
       "      <th>signal</th>\n",
       "    </tr>\n",
       "  </thead>\n",
       "  <tbody>\n",
       "    <tr>\n",
       "      <th>1259</th>\n",
       "      <td>2025-07-01 20:00:00</td>\n",
       "      <td>1.17654</td>\n",
       "      <td>1.17690</td>\n",
       "      <td>1.17654</td>\n",
       "      <td>1.17687</td>\n",
       "      <td>96</td>\n",
       "      <td>0</td>\n",
       "      <td>0</td>\n",
       "      <td>0.00075</td>\n",
       "      <td>1.179205</td>\n",
       "      <td>True</td>\n",
       "      <td>1.163475</td>\n",
       "      <td>1.164735</td>\n",
       "      <td>buy</td>\n",
       "    </tr>\n",
       "    <tr>\n",
       "      <th>1357</th>\n",
       "      <td>2025-07-01 21:38:00</td>\n",
       "      <td>1.17772</td>\n",
       "      <td>1.17779</td>\n",
       "      <td>1.17771</td>\n",
       "      <td>1.17777</td>\n",
       "      <td>52</td>\n",
       "      <td>0</td>\n",
       "      <td>0</td>\n",
       "      <td>0.00025</td>\n",
       "      <td>1.179125</td>\n",
       "      <td>True</td>\n",
       "      <td>1.163475</td>\n",
       "      <td>1.164735</td>\n",
       "      <td>buy</td>\n",
       "    </tr>\n",
       "    <tr>\n",
       "      <th>2249</th>\n",
       "      <td>2025-07-02 12:31:00</td>\n",
       "      <td>1.17680</td>\n",
       "      <td>1.17687</td>\n",
       "      <td>1.17679</td>\n",
       "      <td>1.17683</td>\n",
       "      <td>75</td>\n",
       "      <td>0</td>\n",
       "      <td>0</td>\n",
       "      <td>0.00057</td>\n",
       "      <td>1.179102</td>\n",
       "      <td>True</td>\n",
       "      <td>1.163475</td>\n",
       "      <td>1.164735</td>\n",
       "      <td>buy</td>\n",
       "    </tr>\n",
       "    <tr>\n",
       "      <th>2266</th>\n",
       "      <td>2025-07-02 12:48:00</td>\n",
       "      <td>1.17708</td>\n",
       "      <td>1.17719</td>\n",
       "      <td>1.17708</td>\n",
       "      <td>1.17714</td>\n",
       "      <td>64</td>\n",
       "      <td>0</td>\n",
       "      <td>0</td>\n",
       "      <td>0.00066</td>\n",
       "      <td>1.179087</td>\n",
       "      <td>True</td>\n",
       "      <td>1.163475</td>\n",
       "      <td>1.164735</td>\n",
       "      <td>buy</td>\n",
       "    </tr>\n",
       "    <tr>\n",
       "      <th>2303</th>\n",
       "      <td>2025-07-02 13:25:00</td>\n",
       "      <td>1.17749</td>\n",
       "      <td>1.17759</td>\n",
       "      <td>1.17743</td>\n",
       "      <td>1.17751</td>\n",
       "      <td>56</td>\n",
       "      <td>0</td>\n",
       "      <td>0</td>\n",
       "      <td>0.00062</td>\n",
       "      <td>1.179062</td>\n",
       "      <td>True</td>\n",
       "      <td>1.163475</td>\n",
       "      <td>1.164735</td>\n",
       "      <td>buy</td>\n",
       "    </tr>\n",
       "    <tr>\n",
       "      <th>...</th>\n",
       "      <td>...</td>\n",
       "      <td>...</td>\n",
       "      <td>...</td>\n",
       "      <td>...</td>\n",
       "      <td>...</td>\n",
       "      <td>...</td>\n",
       "      <td>...</td>\n",
       "      <td>...</td>\n",
       "      <td>...</td>\n",
       "      <td>...</td>\n",
       "      <td>...</td>\n",
       "      <td>...</td>\n",
       "      <td>...</td>\n",
       "      <td>...</td>\n",
       "    </tr>\n",
       "    <tr>\n",
       "      <th>52323</th>\n",
       "      <td>2025-08-20 07:56:00</td>\n",
       "      <td>1.16349</td>\n",
       "      <td>1.16354</td>\n",
       "      <td>1.16346</td>\n",
       "      <td>1.16351</td>\n",
       "      <td>41</td>\n",
       "      <td>0</td>\n",
       "      <td>0</td>\n",
       "      <td>0.00020</td>\n",
       "      <td>1.165661</td>\n",
       "      <td>True</td>\n",
       "      <td>1.163475</td>\n",
       "      <td>1.164735</td>\n",
       "      <td>buy</td>\n",
       "    </tr>\n",
       "    <tr>\n",
       "      <th>52372</th>\n",
       "      <td>2025-08-20 08:45:00</td>\n",
       "      <td>1.16374</td>\n",
       "      <td>1.16388</td>\n",
       "      <td>1.16374</td>\n",
       "      <td>1.16388</td>\n",
       "      <td>42</td>\n",
       "      <td>0</td>\n",
       "      <td>0</td>\n",
       "      <td>0.00023</td>\n",
       "      <td>1.165660</td>\n",
       "      <td>True</td>\n",
       "      <td>1.163475</td>\n",
       "      <td>1.164735</td>\n",
       "      <td>buy</td>\n",
       "    </tr>\n",
       "    <tr>\n",
       "      <th>52385</th>\n",
       "      <td>2025-08-20 08:58:00</td>\n",
       "      <td>1.16377</td>\n",
       "      <td>1.16400</td>\n",
       "      <td>1.16377</td>\n",
       "      <td>1.16398</td>\n",
       "      <td>54</td>\n",
       "      <td>0</td>\n",
       "      <td>0</td>\n",
       "      <td>0.00037</td>\n",
       "      <td>1.165659</td>\n",
       "      <td>True</td>\n",
       "      <td>1.163475</td>\n",
       "      <td>1.164735</td>\n",
       "      <td>buy</td>\n",
       "    </tr>\n",
       "    <tr>\n",
       "      <th>52387</th>\n",
       "      <td>2025-08-20 09:00:00</td>\n",
       "      <td>1.16393</td>\n",
       "      <td>1.16422</td>\n",
       "      <td>1.16391</td>\n",
       "      <td>1.16400</td>\n",
       "      <td>105</td>\n",
       "      <td>0</td>\n",
       "      <td>0</td>\n",
       "      <td>0.00057</td>\n",
       "      <td>1.165659</td>\n",
       "      <td>True</td>\n",
       "      <td>1.163475</td>\n",
       "      <td>1.164735</td>\n",
       "      <td>buy</td>\n",
       "    </tr>\n",
       "    <tr>\n",
       "      <th>52447</th>\n",
       "      <td>2025-08-20 10:00:00</td>\n",
       "      <td>1.16335</td>\n",
       "      <td>1.16382</td>\n",
       "      <td>1.16334</td>\n",
       "      <td>1.16379</td>\n",
       "      <td>89</td>\n",
       "      <td>0</td>\n",
       "      <td>0</td>\n",
       "      <td>0.00063</td>\n",
       "      <td>1.165655</td>\n",
       "      <td>True</td>\n",
       "      <td>1.163475</td>\n",
       "      <td>1.164735</td>\n",
       "      <td>buy</td>\n",
       "    </tr>\n",
       "  </tbody>\n",
       "</table>\n",
       "<p>1007 rows × 14 columns</p>\n",
       "</div>"
      ],
      "text/plain": [
       "                     time     open     high      low    close  tick_volume  \\\n",
       "1259  2025-07-01 20:00:00  1.17654  1.17690  1.17654  1.17687           96   \n",
       "1357  2025-07-01 21:38:00  1.17772  1.17779  1.17771  1.17777           52   \n",
       "2249  2025-07-02 12:31:00  1.17680  1.17687  1.17679  1.17683           75   \n",
       "2266  2025-07-02 12:48:00  1.17708  1.17719  1.17708  1.17714           64   \n",
       "2303  2025-07-02 13:25:00  1.17749  1.17759  1.17743  1.17751           56   \n",
       "...                   ...      ...      ...      ...      ...          ...   \n",
       "52323 2025-08-20 07:56:00  1.16349  1.16354  1.16346  1.16351           41   \n",
       "52372 2025-08-20 08:45:00  1.16374  1.16388  1.16374  1.16388           42   \n",
       "52385 2025-08-20 08:58:00  1.16377  1.16400  1.16377  1.16398           54   \n",
       "52387 2025-08-20 09:00:00  1.16393  1.16422  1.16391  1.16400          105   \n",
       "52447 2025-08-20 10:00:00  1.16335  1.16382  1.16334  1.16379           89   \n",
       "\n",
       "       spread  real_volume      atr      vwap  volume_spike        sl  \\\n",
       "1259        0            0  0.00075  1.179205          True  1.163475   \n",
       "1357        0            0  0.00025  1.179125          True  1.163475   \n",
       "2249        0            0  0.00057  1.179102          True  1.163475   \n",
       "2266        0            0  0.00066  1.179087          True  1.163475   \n",
       "2303        0            0  0.00062  1.179062          True  1.163475   \n",
       "...       ...          ...      ...       ...           ...       ...   \n",
       "52323       0            0  0.00020  1.165661          True  1.163475   \n",
       "52372       0            0  0.00023  1.165660          True  1.163475   \n",
       "52385       0            0  0.00037  1.165659          True  1.163475   \n",
       "52387       0            0  0.00057  1.165659          True  1.163475   \n",
       "52447       0            0  0.00063  1.165655          True  1.163475   \n",
       "\n",
       "             tp signal  \n",
       "1259   1.164735    buy  \n",
       "1357   1.164735    buy  \n",
       "2249   1.164735    buy  \n",
       "2266   1.164735    buy  \n",
       "2303   1.164735    buy  \n",
       "...         ...    ...  \n",
       "52323  1.164735    buy  \n",
       "52372  1.164735    buy  \n",
       "52385  1.164735    buy  \n",
       "52387  1.164735    buy  \n",
       "52447  1.164735    buy  \n",
       "\n",
       "[1007 rows x 14 columns]"
      ]
     },
     "execution_count": 6,
     "metadata": {},
     "output_type": "execute_result"
    }
   ],
   "source": [
    "prev = df.iloc[i-1]\n",
    "def entring_stoploss_profit(row) :\n",
    "    hour = row['time'].hour\n",
    "    #idx = row.name\n",
    "    #if idx == 0:\n",
    "        #return None\n",
    "    #prev = df.iloc[idx - 1]\n",
    "\n",
    "    if (\n",
    "        row[\"close\"] < row[\"vwap\"] - 2 * row[\"atr\"]\n",
    "        and row[\"spread\"] < 0.0002\n",
    "        and row[\"volume_spike\"]\n",
    "        and row[\"close\"] > row[\"open\"]\n",
    "        and prev[\"close\"] < prev[\"open\"]\n",
    "        #and (hour < 11 or hour > 15)\n",
    "    ):\n",
    "        return \"buy\"\n",
    "    return None\n",
    "df[\"signal\"] = df.apply(entring_stoploss_profit, axis=1)\n",
    "df.copy().dropna()"
   ]
  },
  {
   "cell_type": "code",
   "execution_count": 7,
   "id": "37532237",
   "metadata": {},
   "outputs": [],
   "source": [
    "\n",
    "# create trade logic\n",
    "def on_bar(data, trades, orders):\n",
    "    open_trades = trades[trades['state'] == 'open']\n",
    "    num_open_trades = open_trades.shape[0]\n",
    "    account_balance = 10000  # your account in USD\n",
    "    risk_percent = 0.20  # 2%\n",
    "    pip_value_per_lot = 10  # on EURUSD, 1 lot = $10 per pip\n",
    "    risk_amount = account_balance * risk_percent\n",
    "    # entry signal\n",
    "    if data['signal'] == 'buy' :#and not num_open_trades:\n",
    "        volume = 100000 #risk_amount / (stop_loss_pips * pip_value_per_lot)\n",
    "        orders.open_trade(symbol, volume, 'buy')\n",
    "    \n",
    "    elif data['signal'] == 'sell' and not num_open_trades:\n",
    "        volume = 100000 #risk_amount / (stop_loss_pips * pip_value_per_lot)\n",
    "        orders.open_trade(symbol, volume, 'sell')\n",
    "        \n",
    "# exit signal\n",
    "    if num_open_trades:\n",
    "        trade = open_trades.iloc[0]\n",
    "\n",
    "        if trade['order_type'] == 'buy' and data[\"low\"] <= data[\"sl\"] or data[\"high\"] >= data[\"tp\"]: \n",
    "            orders.close_trade(trade)\n",
    "        elif trade['order_type'] == 'sell'  :\n",
    "            orders.close_trade(trade)"
   ]
  },
  {
   "cell_type": "code",
   "execution_count": 8,
   "id": "aac991b6",
   "metadata": {},
   "outputs": [
    {
     "data": {
      "text/html": [
       "<div>\n",
       "<style scoped>\n",
       "    .dataframe tbody tr th:only-of-type {\n",
       "        vertical-align: middle;\n",
       "    }\n",
       "\n",
       "    .dataframe tbody tr th {\n",
       "        vertical-align: top;\n",
       "    }\n",
       "\n",
       "    .dataframe thead th {\n",
       "        text-align: right;\n",
       "    }\n",
       "</style>\n",
       "<table border=\"1\" class=\"dataframe\">\n",
       "  <thead>\n",
       "    <tr style=\"text-align: right;\">\n",
       "      <th></th>\n",
       "      <th>state</th>\n",
       "      <th>symbol</th>\n",
       "      <th>order_type</th>\n",
       "      <th>volume</th>\n",
       "      <th>open_time</th>\n",
       "      <th>open_price</th>\n",
       "      <th>close_time</th>\n",
       "      <th>close_price</th>\n",
       "      <th>sl</th>\n",
       "      <th>tp</th>\n",
       "      <th>info</th>\n",
       "      <th>profit</th>\n",
       "      <th>commission</th>\n",
       "      <th>profit_net</th>\n",
       "      <th>profit_cumulative</th>\n",
       "      <th>balance</th>\n",
       "    </tr>\n",
       "  </thead>\n",
       "  <tbody>\n",
       "    <tr>\n",
       "      <th>0</th>\n",
       "      <td>closed</td>\n",
       "      <td>EURUSD</td>\n",
       "      <td>buy</td>\n",
       "      <td>100000</td>\n",
       "      <td>2025-07-01 20:00:00</td>\n",
       "      <td>1.17654</td>\n",
       "      <td>2025-07-01 20:01:00</td>\n",
       "      <td>1.17686</td>\n",
       "      <td>0</td>\n",
       "      <td>0</td>\n",
       "      <td>{}</td>\n",
       "      <td>32.0</td>\n",
       "      <td>-7.0</td>\n",
       "      <td>25.0</td>\n",
       "      <td>25.0</td>\n",
       "      <td>10025.0</td>\n",
       "    </tr>\n",
       "    <tr>\n",
       "      <th>1</th>\n",
       "      <td>closed</td>\n",
       "      <td>EURUSD</td>\n",
       "      <td>buy</td>\n",
       "      <td>100000</td>\n",
       "      <td>2025-07-01 21:38:00</td>\n",
       "      <td>1.17772</td>\n",
       "      <td>2025-07-01 21:39:00</td>\n",
       "      <td>1.17777</td>\n",
       "      <td>0</td>\n",
       "      <td>0</td>\n",
       "      <td>{}</td>\n",
       "      <td>5.0</td>\n",
       "      <td>-7.0</td>\n",
       "      <td>-2.0</td>\n",
       "      <td>23.0</td>\n",
       "      <td>10023.0</td>\n",
       "    </tr>\n",
       "    <tr>\n",
       "      <th>2</th>\n",
       "      <td>closed</td>\n",
       "      <td>EURUSD</td>\n",
       "      <td>buy</td>\n",
       "      <td>100000</td>\n",
       "      <td>2025-07-02 12:31:00</td>\n",
       "      <td>1.1768</td>\n",
       "      <td>2025-07-02 12:32:00</td>\n",
       "      <td>1.17683</td>\n",
       "      <td>0</td>\n",
       "      <td>0</td>\n",
       "      <td>{}</td>\n",
       "      <td>3.0</td>\n",
       "      <td>-7.0</td>\n",
       "      <td>-4.0</td>\n",
       "      <td>19.0</td>\n",
       "      <td>10019.0</td>\n",
       "    </tr>\n",
       "    <tr>\n",
       "      <th>3</th>\n",
       "      <td>closed</td>\n",
       "      <td>EURUSD</td>\n",
       "      <td>buy</td>\n",
       "      <td>100000</td>\n",
       "      <td>2025-07-02 12:48:00</td>\n",
       "      <td>1.17708</td>\n",
       "      <td>2025-07-02 12:49:00</td>\n",
       "      <td>1.17714</td>\n",
       "      <td>0</td>\n",
       "      <td>0</td>\n",
       "      <td>{}</td>\n",
       "      <td>6.0</td>\n",
       "      <td>-7.0</td>\n",
       "      <td>-1.0</td>\n",
       "      <td>18.0</td>\n",
       "      <td>10018.0</td>\n",
       "    </tr>\n",
       "    <tr>\n",
       "      <th>4</th>\n",
       "      <td>closed</td>\n",
       "      <td>EURUSD</td>\n",
       "      <td>buy</td>\n",
       "      <td>100000</td>\n",
       "      <td>2025-07-02 13:25:00</td>\n",
       "      <td>1.17749</td>\n",
       "      <td>2025-07-02 13:26:00</td>\n",
       "      <td>1.17751</td>\n",
       "      <td>0</td>\n",
       "      <td>0</td>\n",
       "      <td>{}</td>\n",
       "      <td>2.0</td>\n",
       "      <td>-7.0</td>\n",
       "      <td>-5.0</td>\n",
       "      <td>13.0</td>\n",
       "      <td>10013.0</td>\n",
       "    </tr>\n",
       "    <tr>\n",
       "      <th>...</th>\n",
       "      <td>...</td>\n",
       "      <td>...</td>\n",
       "      <td>...</td>\n",
       "      <td>...</td>\n",
       "      <td>...</td>\n",
       "      <td>...</td>\n",
       "      <td>...</td>\n",
       "      <td>...</td>\n",
       "      <td>...</td>\n",
       "      <td>...</td>\n",
       "      <td>...</td>\n",
       "      <td>...</td>\n",
       "      <td>...</td>\n",
       "      <td>...</td>\n",
       "      <td>...</td>\n",
       "      <td>...</td>\n",
       "    </tr>\n",
       "    <tr>\n",
       "      <th>1002</th>\n",
       "      <td>closed</td>\n",
       "      <td>EURUSD</td>\n",
       "      <td>buy</td>\n",
       "      <td>100000</td>\n",
       "      <td>2025-08-20 07:56:00</td>\n",
       "      <td>1.16349</td>\n",
       "      <td>2025-08-20 07:57:00</td>\n",
       "      <td>1.16351</td>\n",
       "      <td>0</td>\n",
       "      <td>0</td>\n",
       "      <td>{}</td>\n",
       "      <td>2.0</td>\n",
       "      <td>-7.0</td>\n",
       "      <td>-5.0</td>\n",
       "      <td>6840.0</td>\n",
       "      <td>16840.0</td>\n",
       "    </tr>\n",
       "    <tr>\n",
       "      <th>1003</th>\n",
       "      <td>closed</td>\n",
       "      <td>EURUSD</td>\n",
       "      <td>buy</td>\n",
       "      <td>100000</td>\n",
       "      <td>2025-08-20 08:45:00</td>\n",
       "      <td>1.16374</td>\n",
       "      <td>2025-08-20 09:03:00</td>\n",
       "      <td>1.16365</td>\n",
       "      <td>0</td>\n",
       "      <td>0</td>\n",
       "      <td>{}</td>\n",
       "      <td>-9.0</td>\n",
       "      <td>-7.0</td>\n",
       "      <td>-16.0</td>\n",
       "      <td>6824.0</td>\n",
       "      <td>16824.0</td>\n",
       "    </tr>\n",
       "    <tr>\n",
       "      <th>1004</th>\n",
       "      <td>closed</td>\n",
       "      <td>EURUSD</td>\n",
       "      <td>buy</td>\n",
       "      <td>100000</td>\n",
       "      <td>2025-08-20 08:58:00</td>\n",
       "      <td>1.16377</td>\n",
       "      <td>2025-08-20 09:04:00</td>\n",
       "      <td>1.16341</td>\n",
       "      <td>0</td>\n",
       "      <td>0</td>\n",
       "      <td>{}</td>\n",
       "      <td>-36.0</td>\n",
       "      <td>-7.0</td>\n",
       "      <td>-43.0</td>\n",
       "      <td>6781.0</td>\n",
       "      <td>16781.0</td>\n",
       "    </tr>\n",
       "    <tr>\n",
       "      <th>1005</th>\n",
       "      <td>closed</td>\n",
       "      <td>EURUSD</td>\n",
       "      <td>buy</td>\n",
       "      <td>100000</td>\n",
       "      <td>2025-08-20 09:00:00</td>\n",
       "      <td>1.16393</td>\n",
       "      <td>2025-08-20 09:05:00</td>\n",
       "      <td>1.1633</td>\n",
       "      <td>0</td>\n",
       "      <td>0</td>\n",
       "      <td>{}</td>\n",
       "      <td>-63.0</td>\n",
       "      <td>-7.0</td>\n",
       "      <td>-70.0</td>\n",
       "      <td>6711.0</td>\n",
       "      <td>16711.0</td>\n",
       "    </tr>\n",
       "    <tr>\n",
       "      <th>1006</th>\n",
       "      <td>closed</td>\n",
       "      <td>EURUSD</td>\n",
       "      <td>buy</td>\n",
       "      <td>100000</td>\n",
       "      <td>2025-08-20 10:00:00</td>\n",
       "      <td>1.16335</td>\n",
       "      <td>2025-08-20 10:03:00</td>\n",
       "      <td>1.16368</td>\n",
       "      <td>0</td>\n",
       "      <td>0</td>\n",
       "      <td>{}</td>\n",
       "      <td>33.0</td>\n",
       "      <td>-7.0</td>\n",
       "      <td>26.0</td>\n",
       "      <td>6737.0</td>\n",
       "      <td>16737.0</td>\n",
       "    </tr>\n",
       "  </tbody>\n",
       "</table>\n",
       "<p>1007 rows × 16 columns</p>\n",
       "</div>"
      ],
      "text/plain": [
       "       state  symbol order_type  volume            open_time open_price  \\\n",
       "0     closed  EURUSD        buy  100000  2025-07-01 20:00:00    1.17654   \n",
       "1     closed  EURUSD        buy  100000  2025-07-01 21:38:00    1.17772   \n",
       "2     closed  EURUSD        buy  100000  2025-07-02 12:31:00     1.1768   \n",
       "3     closed  EURUSD        buy  100000  2025-07-02 12:48:00    1.17708   \n",
       "4     closed  EURUSD        buy  100000  2025-07-02 13:25:00    1.17749   \n",
       "...      ...     ...        ...     ...                  ...        ...   \n",
       "1002  closed  EURUSD        buy  100000  2025-08-20 07:56:00    1.16349   \n",
       "1003  closed  EURUSD        buy  100000  2025-08-20 08:45:00    1.16374   \n",
       "1004  closed  EURUSD        buy  100000  2025-08-20 08:58:00    1.16377   \n",
       "1005  closed  EURUSD        buy  100000  2025-08-20 09:00:00    1.16393   \n",
       "1006  closed  EURUSD        buy  100000  2025-08-20 10:00:00    1.16335   \n",
       "\n",
       "               close_time close_price sl tp info  profit commission  \\\n",
       "0     2025-07-01 20:01:00     1.17686  0  0   {}    32.0       -7.0   \n",
       "1     2025-07-01 21:39:00     1.17777  0  0   {}     5.0       -7.0   \n",
       "2     2025-07-02 12:32:00     1.17683  0  0   {}     3.0       -7.0   \n",
       "3     2025-07-02 12:49:00     1.17714  0  0   {}     6.0       -7.0   \n",
       "4     2025-07-02 13:26:00     1.17751  0  0   {}     2.0       -7.0   \n",
       "...                   ...         ... .. ..  ...     ...        ...   \n",
       "1002  2025-08-20 07:57:00     1.16351  0  0   {}     2.0       -7.0   \n",
       "1003  2025-08-20 09:03:00     1.16365  0  0   {}    -9.0       -7.0   \n",
       "1004  2025-08-20 09:04:00     1.16341  0  0   {}   -36.0       -7.0   \n",
       "1005  2025-08-20 09:05:00      1.1633  0  0   {}   -63.0       -7.0   \n",
       "1006  2025-08-20 10:03:00     1.16368  0  0   {}    33.0       -7.0   \n",
       "\n",
       "     profit_net profit_cumulative  balance  \n",
       "0          25.0              25.0  10025.0  \n",
       "1          -2.0              23.0  10023.0  \n",
       "2          -4.0              19.0  10019.0  \n",
       "3          -1.0              18.0  10018.0  \n",
       "4          -5.0              13.0  10013.0  \n",
       "...         ...               ...      ...  \n",
       "1002       -5.0            6840.0  16840.0  \n",
       "1003      -16.0            6824.0  16824.0  \n",
       "1004      -43.0            6781.0  16781.0  \n",
       "1005      -70.0            6711.0  16711.0  \n",
       "1006       26.0            6737.0  16737.0  \n",
       "\n",
       "[1007 rows x 16 columns]"
      ]
     },
     "execution_count": 8,
     "metadata": {},
     "output_type": "execute_result"
    }
   ],
   "source": [
    "# backtest parameters\n",
    "starting_balance = 10000\n",
    "currency = 'USD'\n",
    "exchange_rate = 1\n",
    "commission = -7 / 100000\n",
    "\n",
    "# backtest\n",
    "bt = Backtester()\n",
    "bt.set_starting_balance(starting_balance, currency=currency)\n",
    "bt.set_exchange_rate(exchange_rate)\n",
    "bt.set_commission(commission)\n",
    "\n",
    "bt.set_historical_data(df)\n",
    "bt.set_on_bar(on_bar)\n",
    "\n",
    "get_ohlc_history(symbol, timeframe, start_datetime, end_datetime)\n",
    "bt.run_backtest()\n",
    "\n",
    "bt.trades\n"
   ]
  },
  {
   "cell_type": "code",
   "execution_count": 9,
   "id": "4412eca6",
   "metadata": {},
   "outputs": [
    {
     "data": {
      "application/vnd.plotly.v1+json": {
       "config": {
        "plotlyServerURL": "https://plot.ly"
       },
       "data": [
        {
         "hovertemplate": "close_time=%{x}<br>balance=%{y}<extra></extra>",
         "legendgroup": "",
         "line": {
          "color": "#636efa",
          "dash": "solid"
         },
         "marker": {
          "symbol": "circle"
         },
         "mode": "lines",
         "name": "",
         "showlegend": false,
         "type": "scattergl",
         "x": [
          "2025-07-01T20:01:00",
          "2025-07-01T21:39:00",
          "2025-07-02T12:32:00",
          "2025-07-02T12:49:00",
          "2025-07-02T13:26:00",
          "2025-07-02T13:47:00",
          "2025-07-03T19:13:00",
          "2025-07-03T19:54:00",
          "2025-07-03T20:54:00",
          "2025-07-03T20:55:00",
          "2025-07-03T20:58:00",
          "2025-07-03T21:15:00",
          "2025-07-03T21:35:00",
          "2025-07-03T21:37:00",
          "2025-07-03T21:44:00",
          "2025-07-03T21:50:00",
          "2025-07-03T22:16:00",
          "2025-07-03T22:18:00",
          "2025-07-03T22:34:00",
          "2025-07-03T22:35:00",
          "2025-07-03T22:38:00",
          "2025-07-03T22:54:00",
          "2025-07-03T22:59:00",
          "2025-07-03T23:12:00",
          "2025-07-03T23:39:00",
          "2025-07-03T23:40:00",
          "2025-07-03T23:41:00",
          "2025-07-04T01:01:00",
          "2025-07-04T01:22:00",
          "2025-07-04T01:32:00",
          "2025-07-04T02:00:00",
          "2025-07-04T02:01:00",
          "2025-07-04T02:23:00",
          "2025-07-04T02:31:00",
          "2025-07-04T02:55:00",
          "2025-07-04T02:56:00",
          "2025-07-04T03:02:00",
          "2025-07-04T03:53:00",
          "2025-07-04T04:06:00",
          "2025-07-04T04:55:00",
          "2025-07-04T05:43:00",
          "2025-07-04T05:45:00",
          "2025-07-04T05:55:00",
          "2025-07-04T05:56:00",
          "2025-07-04T06:03:00",
          "2025-07-04T15:49:00",
          "2025-07-04T16:02:00",
          "2025-07-04T20:02:00",
          "2025-07-04T20:03:00",
          "2025-07-04T21:05:00",
          "2025-07-04T21:27:00",
          "2025-07-04T21:36:00",
          "2025-07-04T21:42:00",
          "2025-07-04T21:44:00",
          "2025-07-04T22:35:00",
          "2025-07-07T05:01:00",
          "2025-07-07T05:25:00",
          "2025-07-07T05:53:00",
          "2025-07-07T06:32:00",
          "2025-07-07T07:01:00",
          "2025-07-07T07:22:00",
          "2025-07-07T07:28:00",
          "2025-07-07T07:42:00",
          "2025-07-07T08:02:00",
          "2025-07-07T08:41:00",
          "2025-07-07T09:55:00",
          "2025-07-07T11:27:00",
          "2025-07-07T12:13:00",
          "2025-07-07T12:56:00",
          "2025-07-07T12:59:00",
          "2025-07-07T13:14:00",
          "2025-07-07T13:55:00",
          "2025-07-07T13:58:00",
          "2025-07-07T14:13:00",
          "2025-07-07T14:59:00",
          "2025-07-07T15:16:00",
          "2025-07-07T16:03:00",
          "2025-07-07T16:09:00",
          "2025-07-07T17:16:00",
          "2025-07-07T19:02:00",
          "2025-07-07T19:14:00",
          "2025-07-07T19:17:00",
          "2025-07-07T20:31:00",
          "2025-07-07T20:33:00",
          "2025-07-07T21:00:00",
          "2025-07-07T22:01:00",
          "2025-07-07T22:59:00",
          "2025-07-07T23:32:00",
          "2025-07-08T01:01:00",
          "2025-07-08T01:21:00",
          "2025-07-08T01:37:00",
          "2025-07-08T01:38:00",
          "2025-07-08T01:40:00",
          "2025-07-08T01:43:00",
          "2025-07-08T02:16:00",
          "2025-07-08T03:01:00",
          "2025-07-08T03:02:00",
          "2025-07-08T03:42:00",
          "2025-07-08T04:59:00",
          "2025-07-08T05:43:00",
          "2025-07-08T07:22:00",
          "2025-07-08T07:31:00",
          "2025-07-08T07:34:00",
          "2025-07-08T09:29:00",
          "2025-07-08T10:01:00",
          "2025-07-08T10:25:00",
          "2025-07-08T11:58:00",
          "2025-07-08T12:33:00",
          "2025-07-08T12:53:00",
          "2025-07-08T12:58:00",
          "2025-07-08T14:23:00",
          "2025-07-08T15:40:00",
          "2025-07-08T16:01:00",
          "2025-07-08T16:57:00",
          "2025-07-08T17:46:00",
          "2025-07-08T17:47:00",
          "2025-07-08T19:33:00",
          "2025-07-08T19:57:00",
          "2025-07-08T19:58:00",
          "2025-07-08T20:21:00",
          "2025-07-08T21:36:00",
          "2025-07-08T21:40:00",
          "2025-07-08T22:31:00",
          "2025-07-08T22:56:00",
          "2025-07-08T23:00:00",
          "2025-07-08T23:11:00",
          "2025-07-08T23:21:00",
          "2025-07-09T01:02:00",
          "2025-07-09T01:14:00",
          "2025-07-09T01:34:00",
          "2025-07-09T01:52:00",
          "2025-07-09T01:58:00",
          "2025-07-09T02:32:00",
          "2025-07-09T03:01:00",
          "2025-07-09T03:21:00",
          "2025-07-09T03:26:00",
          "2025-07-09T03:55:00",
          "2025-07-09T04:34:00",
          "2025-07-09T04:35:00",
          "2025-07-09T05:05:00",
          "2025-07-09T06:23:00",
          "2025-07-09T06:42:00",
          "2025-07-09T06:45:00",
          "2025-07-09T07:34:00",
          "2025-07-09T07:35:00",
          "2025-07-09T07:37:00",
          "2025-07-09T07:39:00",
          "2025-07-09T08:11:00",
          "2025-07-09T08:17:00",
          "2025-07-09T08:42:00",
          "2025-07-09T09:32:00",
          "2025-07-09T10:55:00",
          "2025-07-09T11:01:00",
          "2025-07-09T12:56:00",
          "2025-07-09T13:14:00",
          "2025-07-09T14:03:00",
          "2025-07-09T14:25:00",
          "2025-07-09T14:39:00",
          "2025-07-09T15:19:00",
          "2025-07-09T15:51:00",
          "2025-07-09T15:53:00",
          "2025-07-09T15:55:00",
          "2025-07-09T16:01:00",
          "2025-07-09T17:58:00",
          "2025-07-09T18:39:00",
          "2025-07-09T19:01:00",
          "2025-07-09T19:55:00",
          "2025-07-09T20:09:00",
          "2025-07-09T20:31:00",
          "2025-07-09T20:51:00",
          "2025-07-09T21:00:00",
          "2025-07-09T21:01:00",
          "2025-07-09T21:58:00",
          "2025-07-09T21:59:00",
          "2025-07-09T22:19:00",
          "2025-07-09T22:55:00",
          "2025-07-09T23:38:00",
          "2025-07-10T01:02:00",
          "2025-07-10T01:31:00",
          "2025-07-10T01:46:00",
          "2025-07-10T02:01:00",
          "2025-07-10T02:22:00",
          "2025-07-10T02:23:00",
          "2025-07-10T02:39:00",
          "2025-07-10T02:40:00",
          "2025-07-10T02:52:00",
          "2025-07-10T02:57:00",
          "2025-07-10T02:59:00",
          "2025-07-10T03:30:00",
          "2025-07-10T03:31:00",
          "2025-07-10T04:31:00",
          "2025-07-10T04:41:00",
          "2025-07-10T05:01:00",
          "2025-07-10T05:35:00",
          "2025-07-10T05:53:00",
          "2025-07-10T06:22:00",
          "2025-07-10T06:23:00",
          "2025-07-10T06:50:00",
          "2025-07-10T07:22:00",
          "2025-07-10T07:23:00",
          "2025-07-10T07:44:00",
          "2025-07-10T07:45:00",
          "2025-07-10T08:01:00",
          "2025-07-10T08:02:00",
          "2025-07-10T08:59:00",
          "2025-07-10T09:00:00",
          "2025-07-10T09:02:00",
          "2025-07-10T09:04:00",
          "2025-07-10T09:31:00",
          "2025-07-10T10:01:00",
          "2025-07-10T11:01:00",
          "2025-07-10T11:48:00",
          "2025-07-10T12:02:00",
          "2025-07-10T12:14:00",
          "2025-07-10T12:42:00",
          "2025-07-10T12:44:00",
          "2025-07-10T12:59:00",
          "2025-07-10T13:25:00",
          "2025-07-10T13:42:00",
          "2025-07-10T13:46:00",
          "2025-07-10T13:49:00",
          "2025-07-10T16:01:00",
          "2025-07-10T16:02:00",
          "2025-07-10T16:35:00",
          "2025-07-10T17:30:00",
          "2025-07-10T17:58:00",
          "2025-07-10T19:15:00",
          "2025-07-10T19:43:00",
          "2025-07-10T21:46:00",
          "2025-07-10T21:56:00",
          "2025-07-10T22:01:00",
          "2025-07-10T22:15:00",
          "2025-07-10T22:26:00",
          "2025-07-10T22:42:00",
          "2025-07-10T22:45:00",
          "2025-07-10T23:16:00",
          "2025-07-10T23:21:00",
          "2025-07-10T23:30:00",
          "2025-07-11T01:01:00",
          "2025-07-11T01:18:00",
          "2025-07-11T01:34:00",
          "2025-07-11T01:43:00",
          "2025-07-11T01:55:00",
          "2025-07-11T02:07:00",
          "2025-07-11T02:22:00",
          "2025-07-11T02:33:00",
          "2025-07-11T02:46:00",
          "2025-07-11T02:54:00",
          "2025-07-11T02:57:00",
          "2025-07-11T03:01:00",
          "2025-07-11T03:57:00",
          "2025-07-11T03:58:00",
          "2025-07-11T04:39:00",
          "2025-07-11T05:23:00",
          "2025-07-11T06:01:00",
          "2025-07-11T06:02:00",
          "2025-07-11T06:21:00",
          "2025-07-11T06:22:00",
          "2025-07-11T06:25:00",
          "2025-07-11T06:26:00",
          "2025-07-11T06:29:00",
          "2025-07-11T06:54:00",
          "2025-07-11T07:14:00",
          "2025-07-11T07:32:00",
          "2025-07-11T08:02:00",
          "2025-07-11T09:05:00",
          "2025-07-11T10:01:00",
          "2025-07-11T12:37:00",
          "2025-07-11T12:59:00",
          "2025-07-11T13:01:00",
          "2025-07-11T14:03:00",
          "2025-07-11T14:56:00",
          "2025-07-11T15:22:00",
          "2025-07-11T15:31:00",
          "2025-07-11T15:34:00",
          "2025-07-11T15:35:00",
          "2025-07-11T15:36:00",
          "2025-07-11T16:25:00",
          "2025-07-11T16:41:00",
          "2025-07-11T18:31:00",
          "2025-07-11T19:17:00",
          "2025-07-11T19:47:00",
          "2025-07-11T20:26:00",
          "2025-07-11T20:29:00",
          "2025-07-11T20:30:00",
          "2025-07-11T21:07:00",
          "2025-07-11T22:15:00",
          "2025-07-11T22:19:00",
          "2025-07-11T23:22:00",
          "2025-07-11T23:36:00",
          "2025-07-14T01:03:00",
          "2025-07-14T01:15:00",
          "2025-07-14T02:21:00",
          "2025-07-14T02:30:00",
          "2025-07-14T02:57:00",
          "2025-07-14T02:59:00",
          "2025-07-14T03:01:00",
          "2025-07-14T03:03:00",
          "2025-07-14T03:38:00",
          "2025-07-14T03:44:00",
          "2025-07-14T03:54:00",
          "2025-07-14T03:55:00",
          "2025-07-14T03:56:00",
          "2025-07-14T04:13:00",
          "2025-07-14T05:16:00",
          "2025-07-14T05:34:00",
          "2025-07-14T06:11:00",
          "2025-07-14T06:42:00",
          "2025-07-14T06:51:00",
          "2025-07-14T06:52:00",
          "2025-07-14T07:15:00",
          "2025-07-14T07:35:00",
          "2025-07-14T07:36:00",
          "2025-07-14T07:40:00",
          "2025-07-14T07:41:00",
          "2025-07-14T07:48:00",
          "2025-07-14T08:05:00",
          "2025-07-14T08:31:00",
          "2025-07-14T09:44:00",
          "2025-07-14T10:01:00",
          "2025-07-14T10:26:00",
          "2025-07-14T11:57:00",
          "2025-07-14T12:14:00",
          "2025-07-14T12:59:00",
          "2025-07-14T13:00:00",
          "2025-07-14T13:01:00",
          "2025-07-14T13:28:00",
          "2025-07-14T13:53:00",
          "2025-07-14T14:47:00",
          "2025-07-14T15:14:00",
          "2025-07-14T15:37:00",
          "2025-07-14T16:02:00",
          "2025-07-14T16:33:00",
          "2025-07-14T17:35:00",
          "2025-07-14T19:03:00",
          "2025-07-14T20:01:00",
          "2025-07-14T20:50:00",
          "2025-07-14T20:57:00",
          "2025-07-14T21:01:00",
          "2025-07-14T21:13:00",
          "2025-07-14T21:14:00",
          "2025-07-14T21:17:00",
          "2025-07-14T21:31:00",
          "2025-07-14T21:32:00",
          "2025-07-14T21:33:00",
          "2025-07-14T22:01:00",
          "2025-07-14T22:48:00",
          "2025-07-14T22:55:00",
          "2025-07-14T22:57:00",
          "2025-07-14T22:59:00",
          "2025-07-15T01:01:00",
          "2025-07-15T01:02:00",
          "2025-07-15T01:21:00",
          "2025-07-15T01:31:00",
          "2025-07-15T01:53:00",
          "2025-07-15T02:26:00",
          "2025-07-15T02:37:00",
          "2025-07-15T02:38:00",
          "2025-07-15T02:42:00",
          "2025-07-15T02:46:00",
          "2025-07-15T02:55:00",
          "2025-07-15T03:01:00",
          "2025-07-15T03:02:00",
          "2025-07-15T03:03:00",
          "2025-07-15T03:38:00",
          "2025-07-15T04:12:00",
          "2025-07-15T04:14:00",
          "2025-07-15T04:45:00",
          "2025-07-15T04:46:00",
          "2025-07-15T04:55:00",
          "2025-07-15T05:34:00",
          "2025-07-15T05:50:00",
          "2025-07-15T05:52:00",
          "2025-07-15T06:01:00",
          "2025-07-15T06:15:00",
          "2025-07-15T06:56:00",
          "2025-07-15T07:00:00",
          "2025-07-15T07:01:00",
          "2025-07-15T07:02:00",
          "2025-07-15T07:12:00",
          "2025-07-15T08:01:00",
          "2025-07-15T08:02:00",
          "2025-07-15T08:23:00",
          "2025-07-15T08:56:00",
          "2025-07-15T08:57:00",
          "2025-07-15T09:02:00",
          "2025-07-15T09:31:00",
          "2025-07-15T09:57:00",
          "2025-07-15T10:03:00",
          "2025-07-15T11:59:00",
          "2025-07-15T12:01:00",
          "2025-07-15T12:31:00",
          "2025-07-15T12:58:00",
          "2025-07-15T12:59:00",
          "2025-07-15T13:41:00",
          "2025-07-15T14:01:00",
          "2025-07-15T14:58:00",
          "2025-07-15T14:59:00",
          "2025-07-15T15:02:00",
          "2025-07-15T19:00:00",
          "2025-07-15T19:17:00",
          "2025-07-15T19:36:00",
          "2025-07-15T19:58:00",
          "2025-07-15T20:00:00",
          "2025-07-15T20:20:00",
          "2025-07-15T20:54:00",
          "2025-07-15T20:55:00",
          "2025-07-15T22:41:00",
          "2025-07-15T22:43:00",
          "2025-07-15T22:51:00",
          "2025-07-15T22:54:00",
          "2025-07-16T01:01:00",
          "2025-07-16T01:02:00",
          "2025-07-16T01:03:00",
          "2025-07-16T02:21:00",
          "2025-07-16T02:37:00",
          "2025-07-16T02:43:00",
          "2025-07-16T02:44:00",
          "2025-07-16T02:54:00",
          "2025-07-16T03:01:00",
          "2025-07-16T03:02:00",
          "2025-07-16T05:46:00",
          "2025-07-16T05:52:00",
          "2025-07-16T06:02:00",
          "2025-07-16T06:12:00",
          "2025-07-16T06:31:00",
          "2025-07-16T06:49:00",
          "2025-07-16T07:01:00",
          "2025-07-16T07:10:00",
          "2025-07-16T07:32:00",
          "2025-07-16T07:34:00",
          "2025-07-16T07:49:00",
          "2025-07-16T07:54:00",
          "2025-07-16T08:11:00",
          "2025-07-16T08:50:00",
          "2025-07-16T09:31:00",
          "2025-07-16T09:57:00",
          "2025-07-16T09:58:00",
          "2025-07-16T10:27:00",
          "2025-07-16T11:01:00",
          "2025-07-16T11:03:00",
          "2025-07-16T11:58:00",
          "2025-07-16T12:02:00",
          "2025-07-16T13:36:00",
          "2025-07-16T13:50:00",
          "2025-07-16T13:53:00",
          "2025-07-16T14:03:00",
          "2025-07-16T15:31:00",
          "2025-07-16T15:32:00",
          "2025-07-16T17:55:00",
          "2025-07-16T17:57:00",
          "2025-07-16T17:58:00",
          "2025-07-16T19:53:00",
          "2025-07-16T20:49:00",
          "2025-07-16T22:51:00",
          "2025-07-16T22:56:00",
          "2025-07-16T23:02:00",
          "2025-07-17T00:00:00",
          "2025-07-17T00:01:00",
          "2025-07-17T02:51:00",
          "2025-07-17T02:52:00",
          "2025-07-17T02:53:00",
          "2025-07-17T02:54:00",
          "2025-07-17T02:55:00",
          "2025-07-17T02:56:00",
          "2025-07-17T02:57:00",
          "2025-07-17T02:58:00",
          "2025-07-17T03:30:00",
          "2025-07-17T04:16:00",
          "2025-07-17T04:29:00",
          "2025-07-17T04:31:00",
          "2025-07-17T05:14:00",
          "2025-07-17T06:25:00",
          "2025-07-17T06:52:00",
          "2025-07-17T07:12:00",
          "2025-07-17T07:35:00",
          "2025-07-17T07:52:00",
          "2025-07-17T07:59:00",
          "2025-07-17T08:02:00",
          "2025-07-17T08:32:00",
          "2025-07-17T08:46:00",
          "2025-07-17T08:59:00",
          "2025-07-17T10:38:00",
          "2025-07-17T11:28:00",
          "2025-07-17T11:30:00",
          "2025-07-17T11:57:00",
          "2025-07-17T11:59:00",
          "2025-07-17T12:01:00",
          "2025-07-17T13:26:00",
          "2025-07-17T13:27:00",
          "2025-07-17T14:02:00",
          "2025-07-17T14:18:00",
          "2025-07-17T14:47:00",
          "2025-07-17T14:59:00",
          "2025-07-17T15:00:00",
          "2025-07-17T15:01:00",
          "2025-07-17T15:34:00",
          "2025-07-17T17:38:00",
          "2025-07-17T18:41:00",
          "2025-07-17T19:41:00",
          "2025-07-17T20:23:00",
          "2025-07-17T21:41:00",
          "2025-07-17T22:00:00",
          "2025-07-17T22:07:00",
          "2025-07-17T22:20:00",
          "2025-07-17T22:23:00",
          "2025-07-17T22:51:00",
          "2025-07-17T22:52:00",
          "2025-07-17T22:54:00",
          "2025-07-17T22:56:00",
          "2025-07-17T23:15:00",
          "2025-07-17T23:20:00",
          "2025-07-18T01:01:00",
          "2025-07-18T01:02:00",
          "2025-07-18T01:29:00",
          "2025-07-18T01:31:00",
          "2025-07-18T01:33:00",
          "2025-07-18T01:37:00",
          "2025-07-18T01:43:00",
          "2025-07-18T02:34:00",
          "2025-07-18T02:43:00",
          "2025-07-18T03:01:00",
          "2025-07-18T03:03:00",
          "2025-07-18T03:54:00",
          "2025-07-18T04:47:00",
          "2025-07-18T04:48:00",
          "2025-07-18T04:49:00",
          "2025-07-18T06:24:00",
          "2025-07-18T06:43:00",
          "2025-07-18T07:33:00",
          "2025-07-18T07:48:00",
          "2025-07-18T07:49:00",
          "2025-07-18T08:44:00",
          "2025-07-18T09:53:00",
          "2025-07-18T09:54:00",
          "2025-07-18T09:56:00",
          "2025-07-18T09:57:00",
          "2025-07-18T11:01:00",
          "2025-07-18T11:02:00",
          "2025-07-18T12:00:00",
          "2025-07-18T12:49:00",
          "2025-07-18T12:50:00",
          "2025-07-18T12:51:00",
          "2025-07-18T13:20:00",
          "2025-07-18T14:10:00",
          "2025-07-18T15:01:00",
          "2025-07-18T15:02:00",
          "2025-07-18T15:03:00",
          "2025-07-18T15:04:00",
          "2025-07-18T15:06:00",
          "2025-07-18T15:07:00",
          "2025-07-18T15:14:00",
          "2025-07-18T15:15:00",
          "2025-07-18T15:59:00",
          "2025-07-18T16:01:00",
          "2025-07-18T16:21:00",
          "2025-07-18T16:25:00",
          "2025-07-18T16:54:00",
          "2025-07-18T20:51:00",
          "2025-07-18T21:26:00",
          "2025-07-18T21:58:00",
          "2025-07-18T22:14:00",
          "2025-07-18T22:57:00",
          "2025-07-18T23:00:00",
          "2025-07-18T23:13:00",
          "2025-07-18T23:26:00",
          "2025-07-18T23:37:00",
          "2025-07-21T01:02:00",
          "2025-07-21T01:19:00",
          "2025-07-21T01:45:00",
          "2025-07-21T02:02:00",
          "2025-07-21T02:21:00",
          "2025-07-21T02:55:00",
          "2025-07-21T02:59:00",
          "2025-07-21T03:01:00",
          "2025-07-21T03:03:00",
          "2025-07-21T03:04:00",
          "2025-07-21T03:13:00",
          "2025-07-21T03:15:00",
          "2025-07-21T03:34:00",
          "2025-07-21T03:39:00",
          "2025-07-21T05:24:00",
          "2025-07-21T05:25:00",
          "2025-07-21T05:50:00",
          "2025-07-21T05:51:00",
          "2025-07-21T06:02:00",
          "2025-07-21T06:12:00",
          "2025-07-21T06:14:00",
          "2025-07-21T07:01:00",
          "2025-07-21T07:02:00",
          "2025-07-21T07:35:00",
          "2025-07-21T07:53:00",
          "2025-07-21T08:04:00",
          "2025-07-21T08:29:00",
          "2025-07-21T08:31:00",
          "2025-07-21T08:33:00",
          "2025-07-21T09:02:00",
          "2025-07-21T09:05:00",
          "2025-07-21T09:26:00",
          "2025-07-21T10:04:00",
          "2025-07-21T11:34:00",
          "2025-07-21T11:35:00",
          "2025-07-21T11:36:00",
          "2025-07-21T11:37:00",
          "2025-07-21T11:38:00",
          "2025-07-21T11:39:00",
          "2025-07-21T11:40:00",
          "2025-07-21T12:45:00",
          "2025-07-21T14:02:00",
          "2025-07-21T14:03:00",
          "2025-07-21T14:04:00",
          "2025-07-21T14:05:00",
          "2025-07-21T14:06:00",
          "2025-07-21T14:24:00",
          "2025-07-21T15:31:00",
          "2025-07-21T15:57:00",
          "2025-07-21T16:34:00",
          "2025-07-21T20:56:00",
          "2025-07-21T21:46:00",
          "2025-07-21T22:21:00",
          "2025-07-21T22:32:00",
          "2025-07-21T22:56:00",
          "2025-07-21T23:30:00",
          "2025-07-21T23:38:00",
          "2025-07-22T01:01:00",
          "2025-07-22T01:33:00",
          "2025-07-22T01:36:00",
          "2025-07-22T01:58:00",
          "2025-07-22T02:08:00",
          "2025-07-22T02:35:00",
          "2025-07-22T03:53:00",
          "2025-07-22T03:54:00",
          "2025-07-22T04:16:00",
          "2025-07-22T04:31:00",
          "2025-07-22T04:56:00",
          "2025-07-22T06:47:00",
          "2025-07-22T07:19:00",
          "2025-07-22T07:48:00",
          "2025-07-22T08:42:00",
          "2025-07-22T08:56:00",
          "2025-07-22T09:18:00",
          "2025-07-22T09:33:00",
          "2025-07-22T09:40:00",
          "2025-07-22T09:56:00",
          "2025-07-22T09:58:00",
          "2025-07-22T10:44:00",
          "2025-07-22T10:45:00",
          "2025-07-22T10:56:00",
          "2025-07-28T11:51:00",
          "2025-07-28T12:21:00",
          "2025-07-28T13:01:00",
          "2025-07-28T14:19:00",
          "2025-07-28T14:54:00",
          "2025-07-28T14:56:00",
          "2025-07-28T15:01:00",
          "2025-07-28T15:02:00",
          "2025-07-28T15:54:00",
          "2025-07-28T17:25:00",
          "2025-07-28T18:03:00",
          "2025-07-28T18:23:00",
          "2025-07-28T18:43:00",
          "2025-07-28T20:23:00",
          "2025-07-28T21:42:00",
          "2025-07-28T21:53:00",
          "2025-07-28T22:13:00",
          "2025-07-28T22:54:00",
          "2025-07-28T22:56:00",
          "2025-07-28T23:00:00",
          "2025-07-28T23:13:00",
          "2025-07-28T23:37:00",
          "2025-07-29T01:20:00",
          "2025-07-29T02:01:00",
          "2025-07-29T02:44:00",
          "2025-07-29T02:58:00",
          "2025-07-29T02:59:00",
          "2025-07-29T03:03:00",
          "2025-07-29T03:16:00",
          "2025-07-29T03:53:00",
          "2025-07-29T03:54:00",
          "2025-07-29T03:56:00",
          "2025-07-29T04:21:00",
          "2025-07-29T05:01:00",
          "2025-07-29T05:14:00",
          "2025-07-29T05:15:00",
          "2025-07-29T05:59:00",
          "2025-07-29T06:35:00",
          "2025-07-29T07:44:00",
          "2025-07-29T07:56:00",
          "2025-07-29T08:00:00",
          "2025-07-29T08:15:00",
          "2025-07-29T08:26:00",
          "2025-07-29T12:01:00",
          "2025-07-29T13:52:00",
          "2025-07-29T14:40:00",
          "2025-07-29T15:21:00",
          "2025-07-29T16:01:00",
          "2025-07-29T16:51:00",
          "2025-07-29T18:31:00",
          "2025-07-29T18:59:00",
          "2025-07-29T19:01:00",
          "2025-07-29T19:17:00",
          "2025-07-29T19:28:00",
          "2025-07-29T19:46:00",
          "2025-07-29T20:03:00",
          "2025-07-29T20:18:00",
          "2025-07-29T20:19:00",
          "2025-07-29T21:00:00",
          "2025-07-29T22:00:00",
          "2025-07-29T22:13:00",
          "2025-07-29T22:20:00",
          "2025-07-29T23:12:00",
          "2025-07-29T23:18:00",
          "2025-07-29T23:33:00",
          "2025-07-30T01:01:00",
          "2025-07-30T01:16:00",
          "2025-07-30T01:34:00",
          "2025-07-30T01:37:00",
          "2025-07-30T02:02:00",
          "2025-07-30T02:13:00",
          "2025-07-30T02:48:00",
          "2025-07-30T03:00:00",
          "2025-07-30T03:01:00",
          "2025-07-30T03:02:00",
          "2025-07-30T03:35:00",
          "2025-07-30T03:59:00",
          "2025-07-30T04:01:00",
          "2025-07-30T04:32:00",
          "2025-07-30T05:49:00",
          "2025-07-30T06:00:00",
          "2025-07-30T06:01:00",
          "2025-07-30T06:02:00",
          "2025-07-30T06:39:00",
          "2025-07-30T06:58:00",
          "2025-07-30T07:15:00",
          "2025-07-30T07:29:00",
          "2025-07-30T07:44:00",
          "2025-07-30T08:23:00",
          "2025-07-30T08:24:00",
          "2025-07-30T08:25:00",
          "2025-07-30T08:59:00",
          "2025-07-30T09:31:00",
          "2025-07-30T09:53:00",
          "2025-07-30T11:26:00",
          "2025-07-30T12:01:00",
          "2025-07-30T13:40:00",
          "2025-07-30T13:58:00",
          "2025-07-30T14:32:00",
          "2025-07-30T15:00:00",
          "2025-07-30T15:17:00",
          "2025-07-30T19:19:00",
          "2025-07-30T19:59:00",
          "2025-07-30T20:01:00",
          "2025-07-30T20:50:00",
          "2025-07-30T20:52:00",
          "2025-07-30T21:01:00",
          "2025-07-30T21:35:00",
          "2025-07-30T21:36:00",
          "2025-07-30T23:18:00",
          "2025-07-31T01:16:00",
          "2025-07-31T01:17:00",
          "2025-07-31T01:31:00",
          "2025-07-31T01:32:00",
          "2025-07-31T01:34:00",
          "2025-07-31T01:45:00",
          "2025-07-31T01:55:00",
          "2025-07-31T02:37:00",
          "2025-07-31T02:40:00",
          "2025-07-31T02:48:00",
          "2025-07-31T03:01:00",
          "2025-07-31T03:02:00",
          "2025-07-31T05:46:00",
          "2025-07-31T05:54:00",
          "2025-07-31T05:59:00",
          "2025-07-31T07:13:00",
          "2025-07-31T07:15:00",
          "2025-07-31T07:33:00",
          "2025-07-31T07:56:00",
          "2025-07-31T08:11:00",
          "2025-07-31T08:16:00",
          "2025-07-31T08:23:00",
          "2025-07-31T09:21:00",
          "2025-07-31T10:47:00",
          "2025-07-31T10:57:00",
          "2025-07-31T11:29:00",
          "2025-07-31T13:56:00",
          "2025-07-31T13:58:00",
          "2025-07-31T14:02:00",
          "2025-07-31T14:31:00",
          "2025-07-31T14:55:00",
          "2025-07-31T16:31:00",
          "2025-07-31T17:14:00",
          "2025-07-31T19:01:00",
          "2025-07-31T20:53:00",
          "2025-07-31T21:20:00",
          "2025-07-31T22:00:00",
          "2025-07-31T22:01:00",
          "2025-07-31T22:27:00",
          "2025-07-31T23:31:00",
          "2025-08-01T01:02:00",
          "2025-08-01T01:20:00",
          "2025-08-01T01:21:00",
          "2025-08-01T01:34:00",
          "2025-08-01T01:35:00",
          "2025-08-01T01:59:00",
          "2025-08-01T02:00:00",
          "2025-08-01T02:11:00",
          "2025-08-01T03:44:00",
          "2025-08-01T03:56:00",
          "2025-08-01T04:03:00",
          "2025-08-01T05:37:00",
          "2025-08-01T05:53:00",
          "2025-08-01T06:42:00",
          "2025-08-01T07:45:00",
          "2025-08-01T07:51:00",
          "2025-08-01T08:03:00",
          "2025-08-01T08:05:00",
          "2025-08-01T08:31:00",
          "2025-08-01T08:55:00",
          "2025-08-01T09:55:00",
          "2025-08-01T09:59:00",
          "2025-08-01T10:54:00",
          "2025-08-01T11:25:00",
          "2025-08-01T11:26:00",
          "2025-08-01T13:01:00",
          "2025-08-01T13:31:00",
          "2025-08-01T13:34:00",
          "2025-08-01T14:14:00",
          "2025-08-01T15:01:00",
          "2025-08-01T15:31:00",
          "2025-08-01T21:10:00",
          "2025-08-01T22:31:00",
          "2025-08-01T22:32:00",
          "2025-08-01T22:33:00",
          "2025-08-01T23:34:00",
          "2025-08-01T23:35:00",
          "2025-08-04T01:01:00",
          "2025-08-04T01:17:00",
          "2025-08-04T02:26:00",
          "2025-08-04T02:47:00",
          "2025-08-04T02:59:00",
          "2025-08-04T03:05:00",
          "2025-08-04T04:16:00",
          "2025-08-04T05:01:00",
          "2025-08-04T05:57:00",
          "2025-08-04T06:02:00",
          "2025-08-04T06:03:00",
          "2025-08-04T06:46:00",
          "2025-08-04T09:14:00",
          "2025-08-04T09:31:00",
          "2025-08-04T12:39:00",
          "2025-08-04T19:42:00",
          "2025-08-04T20:48:00",
          "2025-08-04T21:14:00",
          "2025-08-04T21:58:00",
          "2025-08-04T22:31:00",
          "2025-08-04T22:43:00",
          "2025-08-04T22:51:00",
          "2025-08-04T23:13:00",
          "2025-08-04T23:30:00",
          "2025-08-05T01:03:00",
          "2025-08-05T01:31:00",
          "2025-08-05T02:02:00",
          "2025-08-05T02:05:00",
          "2025-08-05T02:12:00",
          "2025-08-05T03:01:00",
          "2025-08-05T03:02:00",
          "2025-08-05T03:03:00",
          "2025-08-05T03:13:00",
          "2025-08-05T03:44:00",
          "2025-08-05T04:47:00",
          "2025-08-05T05:34:00",
          "2025-08-05T06:46:00",
          "2025-08-05T07:57:00",
          "2025-08-05T09:26:00",
          "2025-08-05T10:52:00",
          "2025-08-05T12:46:00",
          "2025-08-05T13:57:00",
          "2025-08-05T15:20:00",
          "2025-08-05T16:31:00",
          "2025-08-05T19:31:00",
          "2025-08-05T20:44:00",
          "2025-08-05T21:49:00",
          "2025-08-05T22:48:00",
          "2025-08-05T22:59:00",
          "2025-08-06T01:01:00",
          "2025-08-06T01:17:00",
          "2025-08-06T01:49:00",
          "2025-08-06T01:50:00",
          "2025-08-06T02:37:00",
          "2025-08-06T02:43:00",
          "2025-08-06T02:45:00",
          "2025-08-06T02:46:00",
          "2025-08-06T02:47:00",
          "2025-08-06T03:02:00",
          "2025-08-06T03:03:00",
          "2025-08-06T03:04:00",
          "2025-08-06T03:22:00",
          "2025-08-06T03:55:00",
          "2025-08-06T04:13:00",
          "2025-08-06T05:13:00",
          "2025-08-06T05:22:00",
          "2025-08-06T06:01:00",
          "2025-08-06T06:51:00",
          "2025-08-06T07:02:00",
          "2025-08-06T07:41:00",
          "2025-08-06T07:49:00",
          "2025-08-06T08:02:00",
          "2025-08-06T08:41:00",
          "2025-08-06T09:02:00",
          "2025-08-06T09:07:00",
          "2025-08-06T09:35:00",
          "2025-08-06T10:00:00",
          "2025-08-06T10:02:00",
          "2025-08-06T10:47:00",
          "2025-08-06T11:33:00",
          "2025-08-06T12:53:00",
          "2025-08-06T13:08:00",
          "2025-08-06T13:09:00",
          "2025-08-06T13:13:00",
          "2025-08-06T13:47:00",
          "2025-08-06T14:24:00",
          "2025-08-06T14:31:00",
          "2025-08-06T15:21:00",
          "2025-08-06T15:41:00",
          "2025-08-06T16:13:00",
          "2025-08-06T19:46:00",
          "2025-08-06T19:48:00",
          "2025-08-07T20:55:00",
          "2025-08-07T22:13:00",
          "2025-08-07T22:30:00",
          "2025-08-08T13:55:00",
          "2025-08-08T14:36:00",
          "2025-08-11T01:08:00",
          "2025-08-11T01:09:00",
          "2025-08-11T01:10:00",
          "2025-08-11T02:00:00",
          "2025-08-11T02:12:00",
          "2025-08-11T02:13:00",
          "2025-08-11T02:37:00",
          "2025-08-11T03:59:00",
          "2025-08-11T04:00:00",
          "2025-08-11T19:26:00",
          "2025-08-11T20:19:00",
          "2025-08-11T21:19:00",
          "2025-08-11T21:57:00",
          "2025-08-11T23:12:00",
          "2025-08-11T23:22:00",
          "2025-08-11T23:24:00",
          "2025-08-11T23:39:00",
          "2025-08-12T01:02:00",
          "2025-08-12T01:18:00",
          "2025-08-12T01:39:00",
          "2025-08-12T02:26:00",
          "2025-08-12T02:32:00",
          "2025-08-12T02:58:00",
          "2025-08-12T03:01:00",
          "2025-08-12T03:02:00",
          "2025-08-12T03:21:00",
          "2025-08-12T04:36:00",
          "2025-08-12T04:55:00",
          "2025-08-12T05:23:00",
          "2025-08-12T05:50:00",
          "2025-08-12T06:01:00",
          "2025-08-12T06:34:00",
          "2025-08-12T06:57:00",
          "2025-08-12T06:58:00",
          "2025-08-12T07:32:00",
          "2025-08-12T08:01:00",
          "2025-08-12T08:02:00",
          "2025-08-12T08:33:00",
          "2025-08-12T08:34:00",
          "2025-08-12T08:57:00",
          "2025-08-12T10:01:00",
          "2025-08-12T12:01:00",
          "2025-08-12T13:51:00",
          "2025-08-12T14:56:00",
          "2025-08-12T15:01:00",
          "2025-08-14T19:59:00",
          "2025-08-14T20:00:00",
          "2025-08-14T20:53:00",
          "2025-08-14T22:24:00",
          "2025-08-14T22:26:00",
          "2025-08-14T23:30:00",
          "2025-08-14T23:45:00",
          "2025-08-14T23:46:00",
          "2025-08-15T01:33:00",
          "2025-08-19T22:28:00",
          "2025-08-19T22:29:00",
          "2025-08-19T23:36:00",
          "2025-08-20T01:32:00",
          "2025-08-20T02:00:00",
          "2025-08-20T03:10:00",
          "2025-08-20T03:11:00",
          "2025-08-20T04:21:00",
          "2025-08-20T04:22:00",
          "2025-08-20T05:02:00",
          "2025-08-20T05:56:00",
          "2025-08-20T06:28:00",
          "2025-08-20T07:17:00",
          "2025-08-20T07:18:00",
          "2025-08-20T07:23:00",
          "2025-08-20T07:38:00",
          "2025-08-20T07:57:00",
          "2025-08-20T09:03:00",
          "2025-08-20T09:04:00",
          "2025-08-20T09:05:00",
          "2025-08-20T10:03:00"
         ],
         "xaxis": "x",
         "y": [
          10025,
          10023,
          10019,
          10018,
          10013,
          10009,
          10015,
          10023,
          10017,
          10016,
          10026,
          10034,
          10035,
          10041,
          10035,
          10030,
          10041,
          10039,
          10035,
          10029,
          10023,
          10026,
          10030,
          10030,
          10035,
          10049,
          10050,
          10052,
          10046,
          10046,
          10052,
          10055,
          10052,
          10066,
          10064,
          10063,
          10065,
          10064,
          10073,
          10071,
          10067,
          10070,
          10070,
          10067,
          10074,
          10082,
          10086,
          10079,
          10077,
          10071,
          10069,
          10064,
          10059,
          10058,
          10053,
          10063,
          10062,
          10063,
          10062,
          10061,
          10059,
          10077,
          10073,
          10075,
          10086,
          10088,
          10103,
          10103,
          10125,
          10124,
          10134,
          10128,
          10133,
          10141,
          10147,
          10144,
          10138,
          10134,
          10147,
          10144,
          10151,
          10155,
          10254,
          10314,
          10335,
          10334,
          10341,
          10335,
          10366,
          10363,
          10373,
          10379,
          10423,
          10447,
          10458,
          10467,
          10485,
          10499,
          10495,
          10500,
          10502,
          10502,
          10513,
          10515,
          10544,
          10562,
          10564,
          10568,
          10565,
          10559,
          10582,
          10589,
          10590,
          10589,
          10613,
          10620,
          10633,
          10680,
          10723,
          10721,
          10722,
          10726,
          10724,
          10729,
          10740,
          10748,
          10749,
          10764,
          10759,
          10756,
          10750,
          10744,
          10738,
          10745,
          10746,
          10741,
          10746,
          10747,
          10750,
          10757,
          10761,
          10754,
          10750,
          10755,
          10765,
          10761,
          10774,
          10769,
          10765,
          10769,
          10769,
          10774,
          10768,
          10767,
          10778,
          10778,
          10780,
          10775,
          10808,
          10817,
          10837,
          10846,
          10853,
          10862,
          10854,
          10860,
          10870,
          10873,
          10868,
          10869,
          10885,
          10893,
          10896,
          10894,
          10898,
          10895,
          10924,
          10954,
          10950,
          10946,
          10942,
          10949,
          10951,
          10957,
          10965,
          10963,
          10968,
          11018,
          11017,
          11021,
          11021,
          11029,
          11038,
          11061,
          11059,
          11059,
          11058,
          11059,
          11056,
          11051,
          11056,
          11061,
          11067,
          11068,
          11062,
          11054,
          11062,
          11085,
          11081,
          11094,
          11089,
          11088,
          11087,
          11094,
          11100,
          11094,
          11091,
          11089,
          11096,
          11093,
          11094,
          11097,
          11120,
          11122,
          11119,
          11142,
          11144,
          11148,
          11153,
          11162,
          11164,
          11168,
          11170,
          11178,
          11185,
          11203,
          11207,
          11209,
          11209,
          11207,
          11209,
          11209,
          11206,
          11206,
          11209,
          11203,
          11204,
          11198,
          11198,
          11210,
          11270,
          11293,
          11297,
          11300,
          11295,
          11296,
          11295,
          11290,
          11297,
          11294,
          11289,
          11288,
          11284,
          11291,
          11297,
          11328,
          11350,
          11352,
          11350,
          11348,
          11366,
          11361,
          11377,
          11372,
          11395,
          11412,
          11422,
          11463,
          11458,
          11507,
          11514,
          11523,
          11532,
          11545,
          11540,
          11536,
          11530,
          11545,
          11540,
          11534,
          11565,
          11593,
          11598,
          11595,
          11592,
          11592,
          11597,
          11597,
          11597,
          11595,
          11601,
          11596,
          11612,
          11634,
          11636,
          11635,
          11632,
          11642,
          11693,
          11691,
          11698,
          11702,
          11700,
          11707,
          11707,
          11701,
          11715,
          11713,
          11738,
          11754,
          11767,
          11761,
          11768,
          11765,
          11768,
          11772,
          11768,
          11764,
          11774,
          11769,
          11766,
          11774,
          11773,
          11790,
          11801,
          11817,
          11830,
          11825,
          11821,
          11820,
          11819,
          11820,
          11831,
          11834,
          11835,
          11836,
          11837,
          11831,
          11828,
          11836,
          11848,
          11846,
          11841,
          11836,
          11839,
          11843,
          11837,
          11837,
          11833,
          11843,
          11842,
          11843,
          11845,
          11858,
          11858,
          11858,
          11854,
          11864,
          11869,
          11865,
          11858,
          11865,
          11862,
          11858,
          11852,
          11850,
          11844,
          11840,
          11843,
          11843,
          11842,
          11851,
          11855,
          11864,
          11869,
          11868,
          11883,
          11884,
          11878,
          11872,
          11866,
          11861,
          11873,
          11881,
          11882,
          11877,
          11877,
          11876,
          11880,
          11878,
          11890,
          11895,
          11890,
          11895,
          11894,
          11899,
          11898,
          11894,
          11891,
          11892,
          11896,
          11901,
          11903,
          11905,
          11907,
          11908,
          11904,
          11901,
          11897,
          11900,
          11895,
          11889,
          11884,
          11886,
          11882,
          11880,
          11892,
          11891,
          11889,
          11889,
          11888,
          11893,
          11892,
          11886,
          11898,
          11901,
          11905,
          11924,
          11922,
          11917,
          11934,
          11933,
          11928,
          11932,
          11927,
          11924,
          11935,
          12022,
          12018,
          12194,
          12343,
          12391,
          12385,
          12462,
          12468,
          12467,
          12468,
          12439,
          12390,
          12350,
          12288,
          12256,
          12225,
          12207,
          12152,
          12117,
          12112,
          12106,
          12117,
          12125,
          12121,
          12118,
          12128,
          12132,
          12129,
          12123,
          12131,
          12129,
          12125,
          12121,
          12115,
          12112,
          12124,
          12154,
          12180,
          12186,
          12186,
          12190,
          12182,
          12179,
          12181,
          12187,
          12189,
          12195,
          12189,
          12195,
          12239,
          12250,
          12258,
          12265,
          12266,
          12259,
          12254,
          12263,
          12276,
          12282,
          12279,
          12274,
          12272,
          12266,
          12260,
          12258,
          12290,
          12294,
          12294,
          12312,
          12319,
          12335,
          12337,
          12342,
          12342,
          12353,
          12374,
          12372,
          12377,
          12405,
          12423,
          12417,
          12411,
          12405,
          12410,
          12405,
          12401,
          12418,
          12426,
          12421,
          12417,
          12429,
          12462,
          12442,
          12415,
          12340,
          12301,
          12329,
          12396,
          12458,
          12531,
          12547,
          12535,
          12598,
          12664,
          12708,
          12711,
          12707,
          12706,
          12724,
          12736,
          12739,
          12748,
          12750,
          12748,
          12749,
          12769,
          12767,
          12763,
          12762,
          12763,
          12783,
          12793,
          12795,
          12796,
          12799,
          12807,
          12806,
          12803,
          12821,
          12827,
          12834,
          12846,
          12840,
          12835,
          12835,
          12833,
          12829,
          12839,
          12853,
          12849,
          12852,
          12846,
          12847,
          12841,
          12843,
          12850,
          12845,
          12851,
          12851,
          12847,
          12843,
          12842,
          12931,
          12948,
          12982,
          13035,
          13096,
          13147,
          13185,
          13166,
          13173,
          13221,
          13262,
          13318,
          13374,
          13398,
          13415,
          13417,
          13419,
          13424,
          13429,
          13423,
          13417,
          13415,
          13419,
          13414,
          13422,
          13429,
          13424,
          13418,
          13416,
          13415,
          13413,
          13431,
          13427,
          13430,
          13443,
          13450,
          13447,
          13445,
          13446,
          13442,
          13457,
          13456,
          13457,
          13452,
          13451,
          13472,
          13475,
          13476,
          13493,
          13500,
          13504,
          13545,
          13604,
          13599,
          13664,
          13710,
          13751,
          13749,
          13742,
          13706,
          13741,
          13747,
          13746,
          13748,
          13760,
          13756,
          13759,
          13759,
          13760,
          13760,
          13759,
          13759,
          13760,
          13756,
          13763,
          13758,
          13767,
          13771,
          13760,
          13752,
          13749,
          13754,
          13772,
          13766,
          13769,
          13778,
          13775,
          13784,
          13806,
          13820,
          13815,
          13821,
          13860,
          13855,
          13851,
          13846,
          13845,
          13857,
          13858,
          13886,
          13913,
          13928,
          13927,
          13946,
          13948,
          14012,
          14011,
          14012,
          14018,
          14032,
          14043,
          14038,
          14037,
          14035,
          14034,
          14033,
          14030,
          14025,
          14021,
          14014,
          14017,
          14018,
          14024,
          14032,
          14031,
          14028,
          14034,
          14051,
          14061,
          14059,
          14069,
          14073,
          14070,
          14074,
          14072,
          14075,
          14080,
          14092,
          14092,
          14086,
          14086,
          14098,
          14100,
          14099,
          14095,
          14122,
          14131,
          14131,
          14145,
          14170,
          14199,
          14193,
          14210,
          14204,
          14208,
          14266,
          14382,
          14489,
          14490,
          14494,
          14498,
          14500,
          14497,
          14498,
          14492,
          14494,
          14492,
          14501,
          14499,
          14538,
          14549,
          14552,
          14564,
          14588,
          14582,
          14577,
          14587,
          14598,
          14608,
          14612,
          14643,
          14655,
          14696,
          14713,
          14718,
          14717,
          14741,
          14736,
          14745,
          14766,
          14770,
          14796,
          14804,
          14817,
          14827,
          14824,
          14839,
          14838,
          14832,
          14825,
          14827,
          14833,
          14836,
          14836,
          14832,
          14836,
          14845,
          14852,
          14856,
          14856,
          14850,
          14850,
          14849,
          14844,
          14844,
          14848,
          14846,
          14854,
          14859,
          14865,
          14881,
          14890,
          14895,
          14897,
          14913,
          14935,
          14957,
          14968,
          14971,
          15510,
          15519,
          15638,
          15663,
          15677,
          15683,
          15718,
          15781,
          15788,
          15784,
          15791,
          15789,
          15800,
          15833,
          15855,
          15854,
          15890,
          15894,
          15893,
          15917,
          15920,
          15928,
          15927,
          15992,
          15986,
          15993,
          15990,
          15985,
          16003,
          16029,
          16028,
          16031,
          16037,
          16040,
          16042,
          16053,
          16059,
          16057,
          16057,
          16060,
          16057,
          16056,
          16053,
          16049,
          16044,
          16077,
          16080,
          16100,
          16097,
          16128,
          16150,
          16152,
          16167,
          16161,
          16159,
          16153,
          16171,
          16173,
          16186,
          16186,
          16189,
          16192,
          16197,
          16196,
          16200,
          16196,
          16216,
          16224,
          16218,
          16212,
          16219,
          16221,
          16233,
          16236,
          16231,
          16240,
          16235,
          16235,
          16242,
          16242,
          16273,
          16282,
          16289,
          16285,
          16280,
          16302,
          16303,
          16304,
          16361,
          16385,
          16445,
          16451,
          16471,
          16481,
          16498,
          16506,
          16512,
          16492,
          16507,
          16502,
          16506,
          16540,
          16552,
          16661,
          16706,
          16787,
          16854,
          16870,
          16876,
          16885,
          16887,
          16892,
          16923,
          16918,
          16924,
          16917,
          16924,
          16922,
          16928,
          16925,
          16935,
          16943,
          16944,
          16940,
          16934,
          16931,
          16928,
          16929,
          16937,
          16959,
          16969,
          16973,
          16973,
          16967,
          16967,
          16966,
          16971,
          16968,
          16987,
          16987,
          16984,
          16981,
          16975,
          16986,
          16983,
          16990,
          17001,
          17015,
          17015,
          17037,
          17032,
          17022,
          17070,
          17105,
          17100,
          17097,
          17108,
          17107,
          17123,
          17121,
          17122,
          17120,
          17115,
          17044,
          16954,
          16938,
          16901,
          16897,
          16896,
          16894,
          16879,
          16860,
          16854,
          16845,
          16840,
          16824,
          16781,
          16711,
          16737
         ],
         "yaxis": "y"
        }
       ],
       "layout": {
        "legend": {
         "tracegroupgap": 0
        },
        "template": {
         "data": {
          "bar": [
           {
            "error_x": {
             "color": "#f2f5fa"
            },
            "error_y": {
             "color": "#f2f5fa"
            },
            "marker": {
             "line": {
              "color": "rgb(17,17,17)",
              "width": 0.5
             },
             "pattern": {
              "fillmode": "overlay",
              "size": 10,
              "solidity": 0.2
             }
            },
            "type": "bar"
           }
          ],
          "barpolar": [
           {
            "marker": {
             "line": {
              "color": "rgb(17,17,17)",
              "width": 0.5
             },
             "pattern": {
              "fillmode": "overlay",
              "size": 10,
              "solidity": 0.2
             }
            },
            "type": "barpolar"
           }
          ],
          "carpet": [
           {
            "aaxis": {
             "endlinecolor": "#A2B1C6",
             "gridcolor": "#506784",
             "linecolor": "#506784",
             "minorgridcolor": "#506784",
             "startlinecolor": "#A2B1C6"
            },
            "baxis": {
             "endlinecolor": "#A2B1C6",
             "gridcolor": "#506784",
             "linecolor": "#506784",
             "minorgridcolor": "#506784",
             "startlinecolor": "#A2B1C6"
            },
            "type": "carpet"
           }
          ],
          "choropleth": [
           {
            "colorbar": {
             "outlinewidth": 0,
             "ticks": ""
            },
            "type": "choropleth"
           }
          ],
          "contour": [
           {
            "colorbar": {
             "outlinewidth": 0,
             "ticks": ""
            },
            "colorscale": [
             [
              0,
              "#0d0887"
             ],
             [
              0.1111111111111111,
              "#46039f"
             ],
             [
              0.2222222222222222,
              "#7201a8"
             ],
             [
              0.3333333333333333,
              "#9c179e"
             ],
             [
              0.4444444444444444,
              "#bd3786"
             ],
             [
              0.5555555555555556,
              "#d8576b"
             ],
             [
              0.6666666666666666,
              "#ed7953"
             ],
             [
              0.7777777777777778,
              "#fb9f3a"
             ],
             [
              0.8888888888888888,
              "#fdca26"
             ],
             [
              1,
              "#f0f921"
             ]
            ],
            "type": "contour"
           }
          ],
          "contourcarpet": [
           {
            "colorbar": {
             "outlinewidth": 0,
             "ticks": ""
            },
            "type": "contourcarpet"
           }
          ],
          "heatmap": [
           {
            "colorbar": {
             "outlinewidth": 0,
             "ticks": ""
            },
            "colorscale": [
             [
              0,
              "#0d0887"
             ],
             [
              0.1111111111111111,
              "#46039f"
             ],
             [
              0.2222222222222222,
              "#7201a8"
             ],
             [
              0.3333333333333333,
              "#9c179e"
             ],
             [
              0.4444444444444444,
              "#bd3786"
             ],
             [
              0.5555555555555556,
              "#d8576b"
             ],
             [
              0.6666666666666666,
              "#ed7953"
             ],
             [
              0.7777777777777778,
              "#fb9f3a"
             ],
             [
              0.8888888888888888,
              "#fdca26"
             ],
             [
              1,
              "#f0f921"
             ]
            ],
            "type": "heatmap"
           }
          ],
          "histogram": [
           {
            "marker": {
             "pattern": {
              "fillmode": "overlay",
              "size": 10,
              "solidity": 0.2
             }
            },
            "type": "histogram"
           }
          ],
          "histogram2d": [
           {
            "colorbar": {
             "outlinewidth": 0,
             "ticks": ""
            },
            "colorscale": [
             [
              0,
              "#0d0887"
             ],
             [
              0.1111111111111111,
              "#46039f"
             ],
             [
              0.2222222222222222,
              "#7201a8"
             ],
             [
              0.3333333333333333,
              "#9c179e"
             ],
             [
              0.4444444444444444,
              "#bd3786"
             ],
             [
              0.5555555555555556,
              "#d8576b"
             ],
             [
              0.6666666666666666,
              "#ed7953"
             ],
             [
              0.7777777777777778,
              "#fb9f3a"
             ],
             [
              0.8888888888888888,
              "#fdca26"
             ],
             [
              1,
              "#f0f921"
             ]
            ],
            "type": "histogram2d"
           }
          ],
          "histogram2dcontour": [
           {
            "colorbar": {
             "outlinewidth": 0,
             "ticks": ""
            },
            "colorscale": [
             [
              0,
              "#0d0887"
             ],
             [
              0.1111111111111111,
              "#46039f"
             ],
             [
              0.2222222222222222,
              "#7201a8"
             ],
             [
              0.3333333333333333,
              "#9c179e"
             ],
             [
              0.4444444444444444,
              "#bd3786"
             ],
             [
              0.5555555555555556,
              "#d8576b"
             ],
             [
              0.6666666666666666,
              "#ed7953"
             ],
             [
              0.7777777777777778,
              "#fb9f3a"
             ],
             [
              0.8888888888888888,
              "#fdca26"
             ],
             [
              1,
              "#f0f921"
             ]
            ],
            "type": "histogram2dcontour"
           }
          ],
          "mesh3d": [
           {
            "colorbar": {
             "outlinewidth": 0,
             "ticks": ""
            },
            "type": "mesh3d"
           }
          ],
          "parcoords": [
           {
            "line": {
             "colorbar": {
              "outlinewidth": 0,
              "ticks": ""
             }
            },
            "type": "parcoords"
           }
          ],
          "pie": [
           {
            "automargin": true,
            "type": "pie"
           }
          ],
          "scatter": [
           {
            "marker": {
             "line": {
              "color": "#283442"
             }
            },
            "type": "scatter"
           }
          ],
          "scatter3d": [
           {
            "line": {
             "colorbar": {
              "outlinewidth": 0,
              "ticks": ""
             }
            },
            "marker": {
             "colorbar": {
              "outlinewidth": 0,
              "ticks": ""
             }
            },
            "type": "scatter3d"
           }
          ],
          "scattercarpet": [
           {
            "marker": {
             "colorbar": {
              "outlinewidth": 0,
              "ticks": ""
             }
            },
            "type": "scattercarpet"
           }
          ],
          "scattergeo": [
           {
            "marker": {
             "colorbar": {
              "outlinewidth": 0,
              "ticks": ""
             }
            },
            "type": "scattergeo"
           }
          ],
          "scattergl": [
           {
            "marker": {
             "line": {
              "color": "#283442"
             }
            },
            "type": "scattergl"
           }
          ],
          "scattermap": [
           {
            "marker": {
             "colorbar": {
              "outlinewidth": 0,
              "ticks": ""
             }
            },
            "type": "scattermap"
           }
          ],
          "scattermapbox": [
           {
            "marker": {
             "colorbar": {
              "outlinewidth": 0,
              "ticks": ""
             }
            },
            "type": "scattermapbox"
           }
          ],
          "scatterpolar": [
           {
            "marker": {
             "colorbar": {
              "outlinewidth": 0,
              "ticks": ""
             }
            },
            "type": "scatterpolar"
           }
          ],
          "scatterpolargl": [
           {
            "marker": {
             "colorbar": {
              "outlinewidth": 0,
              "ticks": ""
             }
            },
            "type": "scatterpolargl"
           }
          ],
          "scatterternary": [
           {
            "marker": {
             "colorbar": {
              "outlinewidth": 0,
              "ticks": ""
             }
            },
            "type": "scatterternary"
           }
          ],
          "surface": [
           {
            "colorbar": {
             "outlinewidth": 0,
             "ticks": ""
            },
            "colorscale": [
             [
              0,
              "#0d0887"
             ],
             [
              0.1111111111111111,
              "#46039f"
             ],
             [
              0.2222222222222222,
              "#7201a8"
             ],
             [
              0.3333333333333333,
              "#9c179e"
             ],
             [
              0.4444444444444444,
              "#bd3786"
             ],
             [
              0.5555555555555556,
              "#d8576b"
             ],
             [
              0.6666666666666666,
              "#ed7953"
             ],
             [
              0.7777777777777778,
              "#fb9f3a"
             ],
             [
              0.8888888888888888,
              "#fdca26"
             ],
             [
              1,
              "#f0f921"
             ]
            ],
            "type": "surface"
           }
          ],
          "table": [
           {
            "cells": {
             "fill": {
              "color": "#506784"
             },
             "line": {
              "color": "rgb(17,17,17)"
             }
            },
            "header": {
             "fill": {
              "color": "#2a3f5f"
             },
             "line": {
              "color": "rgb(17,17,17)"
             }
            },
            "type": "table"
           }
          ]
         },
         "layout": {
          "annotationdefaults": {
           "arrowcolor": "#f2f5fa",
           "arrowhead": 0,
           "arrowwidth": 1
          },
          "autotypenumbers": "strict",
          "coloraxis": {
           "colorbar": {
            "outlinewidth": 0,
            "ticks": ""
           }
          },
          "colorscale": {
           "diverging": [
            [
             0,
             "#8e0152"
            ],
            [
             0.1,
             "#c51b7d"
            ],
            [
             0.2,
             "#de77ae"
            ],
            [
             0.3,
             "#f1b6da"
            ],
            [
             0.4,
             "#fde0ef"
            ],
            [
             0.5,
             "#f7f7f7"
            ],
            [
             0.6,
             "#e6f5d0"
            ],
            [
             0.7,
             "#b8e186"
            ],
            [
             0.8,
             "#7fbc41"
            ],
            [
             0.9,
             "#4d9221"
            ],
            [
             1,
             "#276419"
            ]
           ],
           "sequential": [
            [
             0,
             "#0d0887"
            ],
            [
             0.1111111111111111,
             "#46039f"
            ],
            [
             0.2222222222222222,
             "#7201a8"
            ],
            [
             0.3333333333333333,
             "#9c179e"
            ],
            [
             0.4444444444444444,
             "#bd3786"
            ],
            [
             0.5555555555555556,
             "#d8576b"
            ],
            [
             0.6666666666666666,
             "#ed7953"
            ],
            [
             0.7777777777777778,
             "#fb9f3a"
            ],
            [
             0.8888888888888888,
             "#fdca26"
            ],
            [
             1,
             "#f0f921"
            ]
           ],
           "sequentialminus": [
            [
             0,
             "#0d0887"
            ],
            [
             0.1111111111111111,
             "#46039f"
            ],
            [
             0.2222222222222222,
             "#7201a8"
            ],
            [
             0.3333333333333333,
             "#9c179e"
            ],
            [
             0.4444444444444444,
             "#bd3786"
            ],
            [
             0.5555555555555556,
             "#d8576b"
            ],
            [
             0.6666666666666666,
             "#ed7953"
            ],
            [
             0.7777777777777778,
             "#fb9f3a"
            ],
            [
             0.8888888888888888,
             "#fdca26"
            ],
            [
             1,
             "#f0f921"
            ]
           ]
          },
          "colorway": [
           "#636efa",
           "#EF553B",
           "#00cc96",
           "#ab63fa",
           "#FFA15A",
           "#19d3f3",
           "#FF6692",
           "#B6E880",
           "#FF97FF",
           "#FECB52"
          ],
          "font": {
           "color": "#f2f5fa"
          },
          "geo": {
           "bgcolor": "rgb(17,17,17)",
           "lakecolor": "rgb(17,17,17)",
           "landcolor": "rgb(17,17,17)",
           "showlakes": true,
           "showland": true,
           "subunitcolor": "#506784"
          },
          "hoverlabel": {
           "align": "left"
          },
          "hovermode": "closest",
          "mapbox": {
           "style": "dark"
          },
          "paper_bgcolor": "rgb(17,17,17)",
          "plot_bgcolor": "rgb(17,17,17)",
          "polar": {
           "angularaxis": {
            "gridcolor": "#506784",
            "linecolor": "#506784",
            "ticks": ""
           },
           "bgcolor": "rgb(17,17,17)",
           "radialaxis": {
            "gridcolor": "#506784",
            "linecolor": "#506784",
            "ticks": ""
           }
          },
          "scene": {
           "xaxis": {
            "backgroundcolor": "rgb(17,17,17)",
            "gridcolor": "#506784",
            "gridwidth": 2,
            "linecolor": "#506784",
            "showbackground": true,
            "ticks": "",
            "zerolinecolor": "#C8D4E3"
           },
           "yaxis": {
            "backgroundcolor": "rgb(17,17,17)",
            "gridcolor": "#506784",
            "gridwidth": 2,
            "linecolor": "#506784",
            "showbackground": true,
            "ticks": "",
            "zerolinecolor": "#C8D4E3"
           },
           "zaxis": {
            "backgroundcolor": "rgb(17,17,17)",
            "gridcolor": "#506784",
            "gridwidth": 2,
            "linecolor": "#506784",
            "showbackground": true,
            "ticks": "",
            "zerolinecolor": "#C8D4E3"
           }
          },
          "shapedefaults": {
           "line": {
            "color": "#f2f5fa"
           }
          },
          "sliderdefaults": {
           "bgcolor": "#C8D4E3",
           "bordercolor": "rgb(17,17,17)",
           "borderwidth": 1,
           "tickwidth": 0
          },
          "ternary": {
           "aaxis": {
            "gridcolor": "#506784",
            "linecolor": "#506784",
            "ticks": ""
           },
           "baxis": {
            "gridcolor": "#506784",
            "linecolor": "#506784",
            "ticks": ""
           },
           "bgcolor": "rgb(17,17,17)",
           "caxis": {
            "gridcolor": "#506784",
            "linecolor": "#506784",
            "ticks": ""
           }
          },
          "title": {
           "x": 0.05
          },
          "updatemenudefaults": {
           "bgcolor": "#506784",
           "borderwidth": 0
          },
          "xaxis": {
           "automargin": true,
           "gridcolor": "#283442",
           "linecolor": "#506784",
           "ticks": "",
           "title": {
            "standoff": 15
           },
           "zerolinecolor": "#283442",
           "zerolinewidth": 2
          },
          "yaxis": {
           "automargin": true,
           "gridcolor": "#283442",
           "linecolor": "#506784",
           "ticks": "",
           "title": {
            "standoff": 15
           },
           "zerolinecolor": "#283442",
           "zerolinewidth": 2
          }
         }
        },
        "title": {
         "text": "Balance Graph"
        },
        "xaxis": {
         "anchor": "y",
         "domain": [
          0,
          1
         ],
         "title": {
          "text": "close_time"
         }
        },
        "yaxis": {
         "anchor": "x",
         "domain": [
          0,
          1
         ],
         "title": {
          "text": "balance"
         }
        }
       }
      }
     },
     "metadata": {},
     "output_type": "display_data"
    }
   ],
   "source": [
    "mm = bt.plot_balance()\n",
    "display(mm)"
   ]
  },
  {
   "cell_type": "code",
   "execution_count": 10,
   "id": "6d8c3680",
   "metadata": {},
   "outputs": [
    {
     "name": "stdout",
     "output_type": "stream",
     "text": [
      "Daily Drawdown : -330.00\n",
      "Max Drawdown (portfolio): -330.00\n",
      "worst trades (trade MAE): [np.float64(0.0), np.float64(-0.9999999999843467), np.float64(-7.0000000000014495), np.float64(0.0), np.float64(-5.999999999994898), np.float64(-28.000000000005798), np.float64(0.0), np.float64(-7.999999999985796), np.float64(-1.0000000000065512), np.float64(-11.999999999989797), np.float64(0.0), np.float64(-0.9999999999843467), np.float64(-1.0000000000065512), np.float64(-1.0000000000065512), np.float64(-14.999999999987246), np.float64(-1.0000000000065512), np.float64(0.0), np.float64(-0.9999999999843467), np.float64(0.0), np.float64(-2.0000000000131024), np.float64(0.0), np.float64(0.0), np.float64(-2.999999999997449), np.float64(-7.999999999985796), np.float64(0.0), np.float64(0.0), np.float64(-4.000000000004), np.float64(0.0), np.float64(-7.0000000000014495), np.float64(0.0), np.float64(0.0), np.float64(-2.999999999997449), np.float64(-4.000000000004), np.float64(-1.0000000000065512), np.float64(-1.0000000000065512), np.float64(-2.999999999997449), np.float64(-6.000000000017103), np.float64(-5.999999999994898), np.float64(-4.000000000004), np.float64(-24.999999999986144), np.float64(-1.0000000000065512), np.float64(-1.0000000000065512), np.float64(0.0), np.float64(-2.999999999997449), np.float64(0.0), np.float64(-5.000000000010552), np.float64(-1.0000000000065512), np.float64(-1.999999999990898), np.float64(-1.999999999990898), np.float64(-1.999999999990898), np.float64(0.0), np.float64(-1.0000000000065512), np.float64(-1.0000000000065512), np.float64(-5.000000000010552), np.float64(-5.000000000010552), np.float64(-2.0000000000131024), np.float64(0.0), np.float64(-7.0000000000014495), np.float64(-7.0000000000014495), np.float64(-2.0000000000131024), np.float64(-2.0000000000131024), np.float64(-1.999999999990898), np.float64(-4.999999999988347), np.float64(-4.000000000004), np.float64(-1.0000000000065512), np.float64(-18.999999999991246), np.float64(-5.000000000010552), np.float64(-3.0000000000196536), np.float64(0.0), np.float64(-5.999999999994898), np.float64(-3.999999999981796), np.float64(-12.999999999996348), np.float64(-0.9999999999843467), np.float64(-4.000000000004), np.float64(0.0), np.float64(-0.9999999999843467), np.float64(-11.999999999989797), np.float64(-12.999999999996348), np.float64(0.0), np.float64(-11.00000000000545), np.float64(-4.000000000004), np.float64(0.0), np.float64(-12.000000000012001), np.float64(-5.000000000010552), np.float64(-4.999999999988347), np.float64(-4.999999999988347), np.float64(-12.999999999996348), np.float64(-1.0000000000065512), np.float64(0.0), np.float64(-1.0000000000065512), np.float64(0.0), np.float64(0.0), np.float64(-5.000000000010552), np.float64(0.0), np.float64(0.0), np.float64(0.0), np.float64(-8.999999999992347), np.float64(-1.999999999990898), np.float64(-3.999999999981796), np.float64(-2.999999999997449), np.float64(-0.9999999999843467), np.float64(-9.999999999998899), np.float64(-3.999999999981796), np.float64(-1.0000000000065512), np.float64(0.0), np.float64(0.0), np.float64(-12.000000000012001), np.float64(-10.999999999983245), np.float64(-4.000000000004), np.float64(-8.999999999992347), np.float64(0.0), np.float64(-1.0000000000065512), np.float64(-9.000000000014552), np.float64(-2.999999999997449), np.float64(-14.000000000002899), np.float64(-27.999999999983594), np.float64(-29.999999999996696), np.float64(-1.0000000000065512), np.float64(-8.000000000008), np.float64(-7.0000000000014495), np.float64(-0.9999999999843467), np.float64(-2.999999999997449), np.float64(-6.000000000017103), np.float64(-17.000000000000348), np.float64(-5.999999999994898), np.float64(-1.999999999990898), np.float64(-1.999999999990898), np.float64(0.0), np.float64(-1.0000000000065512), np.float64(0.0), np.float64(-1.0000000000065512), np.float64(-1.999999999990898), np.float64(-1.0000000000065512), np.float64(-5.999999999994898), np.float64(-4.000000000004), np.float64(-4.999999999988347), np.float64(-11.00000000000545), np.float64(0.0), np.float64(-1.999999999990898), np.float64(0.0), np.float64(-6.000000000017103), np.float64(-6.000000000017103), np.float64(-4.000000000004), np.float64(0.0), np.float64(0.0), np.float64(-1.0000000000065512), np.float64(-1.0000000000065512), np.float64(-1.0000000000065512), np.float64(-5.000000000010552), np.float64(-1.999999999990898), np.float64(-18.0000000000069), np.float64(-3.999999999981796), np.float64(-9.000000000014552), np.float64(-7.0000000000014495), np.float64(-5.999999999994898), np.float64(-4.999999999988347), np.float64(-2.0000000000131024), np.float64(-11.00000000000545), np.float64(-1.0000000000065512), np.float64(0.0), np.float64(0.0), np.float64(-2.999999999997449), np.float64(-12.000000000012001), np.float64(-9.999999999998899), np.float64(-11.00000000000545), np.float64(-1.999999999990898), np.float64(-6.000000000017103), np.float64(-1.0000000000065512), np.float64(-4.999999999988347), np.float64(-4.999999999988347), np.float64(-8.999999999992347), np.float64(-32.0000000000098), np.float64(-4.999999999988347), np.float64(-14.000000000002899), np.float64(-2.0000000000131024), np.float64(-32.999999999994145), np.float64(0.0), np.float64(0.0), np.float64(0.0), np.float64(0.0), np.float64(-2.0000000000131024), np.float64(0.0), np.float64(-1.0000000000065512), np.float64(-5.000000000010552), np.float64(0.0), np.float64(0.0), np.float64(0.0), np.float64(-1.999999999990898), np.float64(-1.0000000000065512), np.float64(-1.999999999990898), np.float64(0.0), np.float64(-4.000000000004), np.float64(-1.0000000000065512), np.float64(0.0), np.float64(-1.999999999990898), np.float64(0.0), np.float64(-7.0000000000014495), np.float64(-2.999999999997449), np.float64(-5.000000000010552), np.float64(-9.000000000014552), np.float64(0.0), np.float64(-0.9999999999843467), np.float64(-2.0000000000131024), np.float64(-1.0000000000065512), np.float64(-4.999999999988347), np.float64(-21.999999999988695), np.float64(0.0), np.float64(-1.999999999990898), np.float64(-14.000000000002899), np.float64(-7.0000000000014495), np.float64(-7.0000000000014495), np.float64(-1.999999999990898), np.float64(-2.999999999997449), np.float64(-5.000000000010552), np.float64(-1.999999999990898), np.float64(-4.000000000004), np.float64(-1.0000000000065512), np.float64(-2.999999999997449), np.float64(-1.0000000000065512), np.float64(-9.000000000014552), np.float64(-2.999999999997449), np.float64(-1.0000000000065512), np.float64(-1.0000000000065512), np.float64(-42.0000000000087), np.float64(-51.000000000001044), np.float64(-2.0000000000131024), np.float64(-8.999999999992347), np.float64(-18.0000000000069), np.float64(-1.0000000000065512), np.float64(0.0), np.float64(-4.000000000004), np.float64(-2.999999999997449), np.float64(-0.9999999999843467), np.float64(0.0), np.float64(0.0), np.float64(0.0), np.float64(0.0), np.float64(0.0), np.float64(-8.999999999992347), np.float64(0.0), np.float64(0.0), np.float64(-8.000000000008), np.float64(-4.000000000004), np.float64(-5.000000000010552), np.float64(-0.9999999999843467), np.float64(-4.000000000004), np.float64(-1.999999999990898), np.float64(-10.000000000021103), np.float64(-1.0000000000065512), np.float64(-4.000000000004), np.float64(-7.0000000000014495), np.float64(-9.000000000014552), np.float64(-1.0000000000065512), np.float64(-4.000000000004), np.float64(-5.999999999994898), np.float64(-4.000000000004), np.float64(-1.999999999990898), np.float64(-4.999999999988347), np.float64(0.0), np.float64(-1.999999999990898), np.float64(-5.999999999994898), np.float64(-2.999999999997449), np.float64(-8.000000000008), np.float64(0.0), np.float64(-2.0000000000131024), np.float64(-1.0000000000065512), np.float64(0.0), np.float64(0.0), np.float64(-5.999999999994898), np.float64(-2.999999999997449), np.float64(-1.0000000000065512), np.float64(-17.000000000000348), np.float64(-2.999999999997449), np.float64(-3.999999999981796), np.float64(-2.999999999997449), np.float64(-1.0000000000065512), np.float64(0.0), np.float64(0.0), np.float64(-17.000000000000348), np.float64(-3.0000000000196536), np.float64(-8.999999999992347), np.float64(-1.0000000000065512), np.float64(-9.000000000014552), np.float64(-1.999999999990898), np.float64(-8.000000000008), np.float64(-6.000000000017103), np.float64(-2.999999999997449), np.float64(-1.0000000000065512), np.float64(-22.999999999995246), np.float64(-4.000000000004), np.float64(-5.000000000010552), np.float64(-42.999999999993044), np.float64(-1.0000000000065512), np.float64(-2.0000000000131024), np.float64(-2.999999999997449), np.float64(-0.9999999999843467), np.float64(-8.000000000008), np.float64(-9.999999999998899), np.float64(-2.0000000000131024), np.float64(-0.9999999999843467), np.float64(-5.000000000010552), np.float64(-7.0000000000014495), np.float64(-0.9999999999843467), np.float64(-1.0000000000065512), np.float64(-8.000000000008), np.float64(0.0), np.float64(-3.0000000000196536), np.float64(0.0), np.float64(0.0), np.float64(-31.000000000003247), np.float64(-0.9999999999843467), np.float64(-2.0000000000131024), np.float64(0.0), np.float64(0.0), np.float64(-2.0000000000131024), np.float64(-7.999999999985796), np.float64(0.0), np.float64(-12.999999999996348), np.float64(0.0), np.float64(0.0), np.float64(-4.999999999988347), np.float64(-8.999999999992347), np.float64(-13.000000000018552), np.float64(-1.999999999990898), np.float64(-1.0000000000065512), np.float64(-4.999999999988347), np.float64(-9.999999999998899), np.float64(-1.999999999990898), np.float64(-7.0000000000014495), np.float64(-8.999999999992347), np.float64(-11.00000000000545), np.float64(-12.999999999996348), np.float64(-11.00000000000545), np.float64(0.0), np.float64(-7.0000000000014495), np.float64(-7.0000000000014495), np.float64(-0.9999999999843467), np.float64(-17.999999999984695), np.float64(-1.0000000000065512), np.float64(-1.999999999990898), np.float64(-0.9999999999843467), np.float64(-0.9999999999843467), np.float64(-1.999999999990898), np.float64(-5.000000000010552), np.float64(-1.0000000000065512), np.float64(-7.0000000000014495), np.float64(-1.0000000000065512), np.float64(-7.999999999985796), np.float64(-4.999999999988347), np.float64(-2.0000000000131024), np.float64(-1.0000000000065512), np.float64(-3.999999999981796), np.float64(-1.0000000000065512), np.float64(0.0), np.float64(0.0), np.float64(-1.0000000000065512), np.float64(0.0), np.float64(-1.0000000000065512), np.float64(0.0), np.float64(-1.0000000000065512), np.float64(-1.999999999990898), np.float64(-7.0000000000014495), np.float64(-4.000000000004), np.float64(0.0), np.float64(-10.999999999983245), np.float64(0.0), np.float64(-2.0000000000131024), np.float64(0.0), np.float64(-1.999999999990898), np.float64(-12.000000000012001), np.float64(0.0), np.float64(0.0), np.float64(-9.999999999998899), np.float64(-7.0000000000014495), np.float64(-4.999999999988347), np.float64(-2.999999999997449), np.float64(-2.0000000000131024), np.float64(-0.9999999999843467), np.float64(0.0), np.float64(-1.999999999990898), np.float64(-0.9999999999843467), np.float64(0.0), np.float64(0.0), np.float64(0.0), np.float64(-2.0000000000131024), np.float64(-3.0000000000196536), np.float64(0.0), np.float64(0.0), np.float64(-14.000000000002899), np.float64(-14.999999999987246), np.float64(-8.999999999992347), np.float64(-15.00000000000945), np.float64(-2.0000000000131024), np.float64(-1.999999999990898), np.float64(0.0), np.float64(-11.999999999989797), np.float64(-6.000000000017103), np.float64(-13.000000000018552), np.float64(-5.999999999994898), np.float64(-7.999999999985796), np.float64(-1.999999999990898), np.float64(-2.0000000000131024), np.float64(-9.999999999998899), np.float64(-11.999999999989797), np.float64(-7.0000000000014495), np.float64(0.0), np.float64(-2.0000000000131024), np.float64(-1.0000000000065512), np.float64(0.0), np.float64(0.0), np.float64(-0.9999999999843467), np.float64(-9.999999999998899), np.float64(0.0), np.float64(-5.000000000010552), np.float64(0.0), np.float64(0.0), np.float64(-2.0000000000131024), np.float64(-2.0000000000131024), np.float64(-2.999999999997449), np.float64(0.0), np.float64(-14.000000000002899), np.float64(-14.000000000002899), np.float64(-1.999999999990898), np.float64(-2.0000000000131024), np.float64(-1.999999999990898), np.float64(-1.999999999990898), np.float64(0.0), np.float64(0.0), np.float64(-5.000000000010552), np.float64(0.0), np.float64(-1.0000000000065512), np.float64(0.0), np.float64(-1.0000000000065512), np.float64(-5.999999999994898), np.float64(-1.999999999990898), np.float64(-8.000000000008), np.float64(-1.999999999990898), np.float64(-4.000000000004), np.float64(-7.999999999985796), np.float64(-5.000000000010552), np.float64(-1.999999999990898), np.float64(-11.00000000000545), np.float64(-18.999999999991246), np.float64(-2.999999999997449), np.float64(-11.999999999989797), np.float64(-5.000000000010552), np.float64(-1.999999999990898), np.float64(-4.000000000004), np.float64(-31.000000000003247), np.float64(0.0), np.float64(0.0), np.float64(-63.99999999999739), np.float64(-31.999999999987594), np.float64(0.0), np.float64(-13.000000000018552), np.float64(-9.000000000014552), np.float64(-3.0000000000196536), np.float64(-164.99999999999292), np.float64(-164.00000000000858), np.float64(-42.0000000000087), np.float64(-73.99999999999629), np.float64(-26.999999999999247), np.float64(-29.999999999996696), np.float64(-25.00000000000835), np.float64(-59.99999999999339), np.float64(-38.0000000000047), np.float64(-0.9999999999843467), np.float64(-19.999999999997797), np.float64(0.0), np.float64(-8.000000000008), np.float64(-23.00000000001745), np.float64(-11.00000000000545), np.float64(-2.999999999997449), np.float64(0.0), np.float64(-9.999999999998899), np.float64(-1.0000000000065512), np.float64(0.0), np.float64(-1.0000000000065512), np.float64(-1.0000000000065512), np.float64(-8.999999999992347), np.float64(-7.999999999985796), np.float64(-15.00000000000945), np.float64(-12.000000000012001), np.float64(0.0), np.float64(0.0), np.float64(-4.000000000004), np.float64(-4.999999999988347), np.float64(0.0), np.float64(-12.999999999996348), np.float64(-2.0000000000131024), np.float64(-8.999999999992347), np.float64(-12.999999999996348), np.float64(-3.0000000000196536), np.float64(-9.000000000014552), np.float64(-4.000000000004), np.float64(-2.0000000000131024), np.float64(-5.999999999994898), np.float64(-1.999999999990898), np.float64(-0.9999999999843467), np.float64(-24.000000000001798), np.float64(-4.000000000004), np.float64(-11.999999999989797), np.float64(-1.999999999990898), np.float64(-1.0000000000065512), np.float64(-3.0000000000196536), np.float64(-1.0000000000065512), np.float64(-1.999999999990898), np.float64(-5.999999999994898), np.float64(-5.999999999994898), np.float64(-11.00000000000545), np.float64(-5.999999999994898), np.float64(0.0), np.float64(0.0), np.float64(0.0), np.float64(-3.999999999981796), np.float64(0.0), np.float64(0.0), np.float64(-1.999999999990898), np.float64(-8.999999999992347), np.float64(-0.9999999999843467), np.float64(-2.999999999997449), np.float64(-4.999999999988347), np.float64(-1.0000000000065512), np.float64(-2.999999999997449), np.float64(0.0), np.float64(0.0), np.float64(-1.999999999990898), np.float64(-1.999999999990898), np.float64(-13.000000000018552), np.float64(-7.999999999985796), np.float64(-4.999999999988347), np.float64(-1.0000000000065512), np.float64(-2.999999999997449), np.float64(0.0), np.float64(0.0), np.float64(-11.00000000000545), np.float64(-7.999999999985796), np.float64(-9.000000000014552), np.float64(-1.999999999990898), np.float64(-24.000000000001798), np.float64(-45.99999999999049), np.float64(-78.00000000000028), np.float64(-38.99999999998904), np.float64(0.0), np.float64(-24.999999999986144), np.float64(-1.0000000000065512), np.float64(-2.999999999997449), np.float64(-53.999999999998494), np.float64(-60.99999999999994), np.float64(-1.999999999990898), np.float64(-2.999999999997449), np.float64(-3.0000000000196536), np.float64(-20.000000000020002), np.float64(-2.0000000000131024), np.float64(-24.000000000001798), np.float64(-1.0000000000065512), np.float64(-1.0000000000065512), np.float64(-18.999999999991246), np.float64(-2.999999999997449), np.float64(-2.999999999997449), np.float64(-11.999999999989797), np.float64(-5.999999999994898), np.float64(0.0), np.float64(-1.999999999990898), np.float64(-2.999999999997449), np.float64(0.0), np.float64(-2.999999999997449), np.float64(-34.000000000000696), np.float64(-9.000000000014552), np.float64(-12.999999999996348), np.float64(-4.999999999988347), np.float64(-1.0000000000065512), np.float64(0.0), np.float64(-9.999999999998899), np.float64(-22.999999999995246), np.float64(0.0), np.float64(-4.000000000004), np.float64(-1.999999999990898), np.float64(-1.0000000000065512), np.float64(-1.0000000000065512), np.float64(-7.0000000000014495), np.float64(-8.999999999992347), np.float64(-2.999999999997449), np.float64(-9.999999999998899), np.float64(-4.000000000004), np.float64(-2.0000000000131024), np.float64(-1.0000000000065512), np.float64(0.0), np.float64(-1.999999999990898), np.float64(-1.999999999990898), np.float64(-14.000000000002899), np.float64(-1.999999999990898), np.float64(-1.0000000000065512), np.float64(-1.999999999990898), np.float64(-1.0000000000065512), np.float64(0.0), np.float64(-14.000000000002899), np.float64(-16.999999999978144), np.float64(-3.999999999981796), np.float64(0.0), np.float64(-67.9999999999792), np.float64(-62.99999999999084), np.float64(-65.99999999998829), np.float64(-72.99999999998974), np.float64(-1.0000000000065512), np.float64(-1.0000000000065512), np.float64(-16.999999999978144), np.float64(0.0), np.float64(-1.999999999990898), np.float64(0.0), np.float64(-5.999999999994898), np.float64(0.0), np.float64(-4.000000000004), np.float64(0.0), np.float64(-8.000000000008), np.float64(-1.999999999990898), np.float64(-2.999999999997449), np.float64(-2.999999999997449), np.float64(-12.999999999996348), np.float64(-7.0000000000014495), np.float64(-2.999999999997449), np.float64(-2.999999999997449), np.float64(-4.000000000004), np.float64(-1.0000000000065512), np.float64(-2.0000000000131024), np.float64(-0.9999999999843467), np.float64(-4.000000000004), np.float64(0.0), np.float64(-0.9999999999843467), np.float64(0.0), np.float64(0.0), np.float64(-33.00000000001635), np.float64(-1.999999999990898), np.float64(0.0), np.float64(-0.9999999999843467), np.float64(0.0), np.float64(-2.999999999997449), np.float64(0.0), np.float64(0.0), np.float64(0.0), np.float64(-7.0000000000014495), np.float64(-2.999999999997449), np.float64(-7.0000000000014495), np.float64(-17.000000000000348), np.float64(0.0), np.float64(-1.0000000000065512), np.float64(-1.999999999990898), np.float64(-4.000000000004), np.float64(-7.0000000000014495), np.float64(-6.000000000017103), np.float64(-2.999999999997449), np.float64(-1.999999999990898), np.float64(-39.999999999995595), np.float64(0.0), np.float64(0.0), np.float64(-25.999999999992696), np.float64(-8.000000000008), np.float64(-25.999999999992696), np.float64(-51.000000000001044), np.float64(-18.999999999991246), np.float64(-26.999999999999247), np.float64(-4.000000000004), np.float64(0.0), np.float64(0.0), np.float64(-4.000000000004), np.float64(0.0), np.float64(-7.0000000000014495), np.float64(-3.999999999981796), np.float64(-5.999999999994898), np.float64(-1.0000000000065512), np.float64(-0.9999999999843467), np.float64(-6.000000000017103), np.float64(-2.999999999997449), np.float64(-3.999999999981796), np.float64(-15.999999999993797), np.float64(0.0), np.float64(-6.999999999979245), np.float64(-8.000000000008), np.float64(-31.000000000003247), np.float64(-2.999999999997449), np.float64(-6.999999999979245), np.float64(0.0), np.float64(-4.000000000004), np.float64(0.0), np.float64(0.0), np.float64(-18.0000000000069), np.float64(0.0), np.float64(0.0), np.float64(-11.00000000000545), np.float64(-2.999999999997449), np.float64(0.0), np.float64(-1.0000000000065512), np.float64(-9.999999999998899), np.float64(-24.000000000001798), np.float64(-36.999999999998145), np.float64(-24.999999999986144), np.float64(-19.00000000001345), np.float64(-7.0000000000014495), np.float64(-1.0000000000065512), np.float64(0.0), np.float64(-4.999999999988347), np.float64(-14.000000000002899), np.float64(-1.999999999990898), np.float64(-1.0000000000065512), np.float64(-2.999999999997449), np.float64(-8.999999999992347), np.float64(-1.999999999990898), np.float64(0.0), np.float64(-0.9999999999843467), np.float64(0.0), np.float64(-0.9999999999843467), np.float64(-1.0000000000065512), np.float64(-0.9999999999843467), np.float64(-21.999999999988695), np.float64(-1.0000000000065512), np.float64(-1.0000000000065512), np.float64(-1.0000000000065512), np.float64(-1.0000000000065512), np.float64(-5.000000000010552), np.float64(-3.999999999981796), np.float64(-1.0000000000065512), np.float64(-1.0000000000065512), np.float64(-1.999999999990898), np.float64(-1.0000000000065512), np.float64(-1.999999999990898), np.float64(0.0), np.float64(0.0), np.float64(0.0), np.float64(-2.0000000000131024), np.float64(0.0), np.float64(-1.999999999990898), np.float64(-5.000000000010552), np.float64(0.0), np.float64(-1.999999999990898), np.float64(-0.9999999999843467), np.float64(-6.000000000017103), np.float64(0.0), np.float64(-1.999999999990898), np.float64(-18.999999999991246), np.float64(-2.999999999997449), np.float64(-2.999999999997449), np.float64(-5.999999999994898), np.float64(-2.0000000000131024), np.float64(-6.999999999979245), np.float64(-10.999999999983245), np.float64(-9.999999999998899), np.float64(-14.000000000002899), np.float64(-1.999999999990898), np.float64(-5.999999999994898), np.float64(-16.000000000016), np.float64(-12.000000000012001), np.float64(-1.0000000000065512), np.float64(-7.0000000000014495), np.float64(0.0), np.float64(-6.000000000017103), np.float64(0.0), np.float64(-114.99999999999844), np.float64(-16.999999999978144), np.float64(-0.9999999999843467), np.float64(-7.0000000000014495), np.float64(-2.999999999997449), np.float64(0.0), np.float64(-8.999999999992347), np.float64(-4.999999999988347), np.float64(-8.000000000008), np.float64(0.0), np.float64(-0.9999999999843467), np.float64(0.0), np.float64(-2.0000000000131024), np.float64(-17.000000000000348), np.float64(-5.000000000010552), np.float64(0.0), np.float64(0.0), np.float64(-4.999999999988347), np.float64(0.0), np.float64(-7.999999999985796), np.float64(-1.999999999990898), np.float64(-10.999999999983245), np.float64(-2.999999999997449), np.float64(-1.0000000000065512), np.float64(-2.999999999997449), np.float64(0.0), np.float64(-5.000000000010552), np.float64(-8.000000000008), np.float64(-8.000000000008), np.float64(-1.999999999990898), np.float64(-15.999999999993797), np.float64(0.0), np.float64(-5.999999999994898), np.float64(-11.999999999989797), np.float64(-8.000000000008), np.float64(-29.999999999996696), np.float64(0.0), np.float64(0.0), np.float64(0.0), np.float64(-2.999999999997449), np.float64(-6.000000000017103), np.float64(-9.999999999998899), np.float64(-21.00000000000435), np.float64(0.0), np.float64(-4.000000000004), np.float64(-1.0000000000065512), np.float64(-4.000000000004), np.float64(-12.999999999996348), np.float64(-7.0000000000014495), np.float64(-28.000000000005798), np.float64(0.0), np.float64(-12.000000000012001), np.float64(-1.999999999990898), np.float64(-10.999999999983245), np.float64(-3.0000000000196536), np.float64(-1.0000000000065512), np.float64(-11.00000000000545), np.float64(-2.999999999997449), np.float64(-4.000000000004), np.float64(-4.000000000004), np.float64(-0.9999999999843467), np.float64(-4.000000000004), np.float64(-9.999999999998899), np.float64(-0.9999999999843467), np.float64(-13.000000000018552), np.float64(-8.000000000008), np.float64(-3.999999999981796), np.float64(-1.0000000000065512), np.float64(-1.0000000000065512), np.float64(-2.999999999997449), np.float64(0.0), np.float64(-26.999999999999247), np.float64(-25.999999999992696), np.float64(-9.999999999998899), np.float64(-0.9999999999843467), np.float64(-15.999999999993797), np.float64(-48.000000000003595), np.float64(-16.000000000016), np.float64(-2.999999999997449), np.float64(0.0), np.float64(-2.999999999997449), np.float64(-22.999999999995246), np.float64(-0.9999999999843467), np.float64(-4.000000000004), np.float64(-15.999999999993797), np.float64(-1.0000000000065512), np.float64(0.0), np.float64(-5.000000000010552), np.float64(0.0), np.float64(-2.0000000000131024), np.float64(-4.999999999988347), np.float64(0.0), np.float64(-5.000000000010552), np.float64(-5.000000000010552), np.float64(-8.000000000008), np.float64(-0.9999999999843467), np.float64(-5.999999999994898), np.float64(0.0), np.float64(0.0), np.float64(-12.999999999996348), np.float64(-0.9999999999843467), np.float64(0.0), np.float64(-1.0000000000065512), np.float64(0.0), np.float64(-2.0000000000131024), np.float64(-9.999999999998899), np.float64(-2.999999999997449), np.float64(0.0), np.float64(0.0), np.float64(-1.999999999990898), np.float64(-2.999999999997449), np.float64(-1.0000000000065512), np.float64(-7.0000000000014495), np.float64(-8.999999999992347), np.float64(-11.00000000000545), np.float64(-2.999999999997449), np.float64(-7.0000000000014495), np.float64(-1.0000000000065512), np.float64(-48.000000000003595), np.float64(0.0), np.float64(0.0), np.float64(-0.9999999999843467), np.float64(-15.999999999993797), np.float64(-1.0000000000065512), np.float64(-1.0000000000065512), np.float64(-12.000000000012001), np.float64(-2.999999999997449), np.float64(-7.0000000000014495), np.float64(-3.999999999981796), np.float64(0.0), np.float64(0.0), np.float64(-4.000000000004), np.float64(-7.0000000000014495), np.float64(0.0), np.float64(0.0), np.float64(-2.999999999997449), np.float64(0.0), np.float64(-1.999999999990898), np.float64(0.0), np.float64(-0.9999999999843467), np.float64(-14.999999999987246), np.float64(-8.999999999992347), np.float64(-1.0000000000065512), np.float64(-2.999999999997449), np.float64(0.0), np.float64(0.0), np.float64(-2.999999999997449), np.float64(-1.999999999990898), np.float64(-12.999999999996348), np.float64(-0.9999999999843467), np.float64(0.0), np.float64(-2.999999999997449), np.float64(0.0), np.float64(-1.0000000000065512), np.float64(-0.9999999999843467), np.float64(-15.999999999993797), np.float64(-12.999999999996348), np.float64(0.0), np.float64(-16.000000000016), np.float64(-2.0000000000131024), np.float64(0.0), np.float64(-4.000000000004), np.float64(-1.999999999990898), np.float64(-1.999999999990898), np.float64(0.0), np.float64(-6.000000000017103), np.float64(0.0), np.float64(-4.000000000004), np.float64(-6.000000000017103), np.float64(-59.000000000009045), np.float64(0.0), np.float64(-18.999999999991246), np.float64(0.0), np.float64(-5.000000000010552), np.float64(-3.0000000000196536), np.float64(-1.999999999990898), np.float64(-31.999999999987594), np.float64(-19.999999999997797), np.float64(-29.999999999996696), np.float64(0.0), np.float64(-12.999999999996348), np.float64(-1.0000000000065512), np.float64(-0.9999999999843467), np.float64(-24.999999999986144), np.float64(-15.999999999993797), np.float64(-7.0000000000014495), np.float64(-10.999999999983245), np.float64(-9.000000000014552), np.float64(-7.0000000000014495), np.float64(0.0), np.float64(0.0), np.float64(-4.000000000004), np.float64(0.0), np.float64(0.0), np.float64(-3.0000000000196536), np.float64(-7.0000000000014495), np.float64(-2.999999999997449), np.float64(-0.9999999999843467), np.float64(-1.0000000000065512), np.float64(-15.999999999993797), np.float64(0.0), np.float64(0.0), np.float64(-5.999999999994898), np.float64(-1.999999999990898), np.float64(0.0), np.float64(-4.000000000004), np.float64(-23.999999999979593), np.float64(-4.000000000004), np.float64(0.0), np.float64(-1.0000000000065512), np.float64(-1.0000000000065512), np.float64(-2.0000000000131024), np.float64(-15.00000000000945), np.float64(-7.0000000000014495), np.float64(-7.0000000000014495), np.float64(-7.0000000000014495), np.float64(-12.999999999996348), np.float64(-8.999999999992347), np.float64(-1.999999999990898), np.float64(0.0), np.float64(-4.999999999988347), np.float64(-1.0000000000065512), np.float64(-8.999999999992347), np.float64(-15.999999999993797), np.float64(-1.0000000000065512), np.float64(-6.000000000017103), np.float64(-2.0000000000131024), np.float64(-14.999999999987246), np.float64(-7.0000000000014495), np.float64(-2.999999999997449), np.float64(0.0), np.float64(-2.999999999997449), np.float64(-5.999999999994898), np.float64(-4.000000000004), np.float64(-2.999999999997449), np.float64(-102.99999999998644), np.float64(-100.99999999999554), np.float64(-23.00000000001745), np.float64(-31.000000000003247), np.float64(-1.0000000000065512), np.float64(-7.0000000000014495), np.float64(-1.0000000000065512), np.float64(-9.999999999998899), np.float64(-21.00000000000435), np.float64(-12.999999999996348), np.float64(-8.000000000008), np.float64(-3.999999999981796), np.float64(-42.0000000000087), np.float64(-58.99999999998684), np.float64(-93.99999999999409), np.float64(-0.9999999999843467)]\n",
      "max_intrabar_drawdown: -165.00\n",
      "biggest_profit: 546.0\n",
      "equity_daily_drawdown: -83.0\n",
      "equity_max_drawown: -412.0\n",
      "avg_win: 15.11\n",
      "avg_loss: -24.45\n",
      "count_profit_trades: 966\n",
      "count_loss_trades: 33\n",
      "Win Rate1: 96.70%\n",
      "rrr: 0.62\n"
     ]
    },
    {
     "data": {
      "text/html": [
       "<div>\n",
       "<style scoped>\n",
       "    .dataframe tbody tr th:only-of-type {\n",
       "        vertical-align: middle;\n",
       "    }\n",
       "\n",
       "    .dataframe tbody tr th {\n",
       "        vertical-align: top;\n",
       "    }\n",
       "\n",
       "    .dataframe thead th {\n",
       "        text-align: right;\n",
       "    }\n",
       "</style>\n",
       "<table border=\"1\" class=\"dataframe\">\n",
       "  <thead>\n",
       "    <tr style=\"text-align: right;\">\n",
       "      <th></th>\n",
       "      <th>order_type</th>\n",
       "      <th>profit</th>\n",
       "    </tr>\n",
       "  </thead>\n",
       "  <tbody>\n",
       "    <tr>\n",
       "      <th>0</th>\n",
       "      <td>buy</td>\n",
       "      <td>13786.0</td>\n",
       "    </tr>\n",
       "  </tbody>\n",
       "</table>\n",
       "</div>"
      ],
      "text/plain": [
       "  order_type   profit\n",
       "0        buy  13786.0"
      ]
     },
     "metadata": {},
     "output_type": "display_data"
    },
    {
     "data": {
      "application/vnd.plotly.v1+json": {
       "config": {
        "plotlyServerURL": "https://plot.ly"
       },
       "data": [
        {
         "hovertemplate": "order_type=%{x}<br>profit=%{y}<extra></extra>",
         "legendgroup": "",
         "marker": {
          "color": "#636efa",
          "pattern": {
           "shape": ""
          }
         },
         "name": "",
         "orientation": "v",
         "showlegend": false,
         "textposition": "auto",
         "type": "bar",
         "x": [
          "buy"
         ],
         "xaxis": "x",
         "y": {
          "bdata": "AAAAAADtykA=",
          "dtype": "f8"
         },
         "yaxis": "y"
        }
       ],
       "layout": {
        "barmode": "relative",
        "legend": {
         "tracegroupgap": 0
        },
        "margin": {
         "t": 60
        },
        "template": {
         "data": {
          "bar": [
           {
            "error_x": {
             "color": "#f2f5fa"
            },
            "error_y": {
             "color": "#f2f5fa"
            },
            "marker": {
             "line": {
              "color": "rgb(17,17,17)",
              "width": 0.5
             },
             "pattern": {
              "fillmode": "overlay",
              "size": 10,
              "solidity": 0.2
             }
            },
            "type": "bar"
           }
          ],
          "barpolar": [
           {
            "marker": {
             "line": {
              "color": "rgb(17,17,17)",
              "width": 0.5
             },
             "pattern": {
              "fillmode": "overlay",
              "size": 10,
              "solidity": 0.2
             }
            },
            "type": "barpolar"
           }
          ],
          "carpet": [
           {
            "aaxis": {
             "endlinecolor": "#A2B1C6",
             "gridcolor": "#506784",
             "linecolor": "#506784",
             "minorgridcolor": "#506784",
             "startlinecolor": "#A2B1C6"
            },
            "baxis": {
             "endlinecolor": "#A2B1C6",
             "gridcolor": "#506784",
             "linecolor": "#506784",
             "minorgridcolor": "#506784",
             "startlinecolor": "#A2B1C6"
            },
            "type": "carpet"
           }
          ],
          "choropleth": [
           {
            "colorbar": {
             "outlinewidth": 0,
             "ticks": ""
            },
            "type": "choropleth"
           }
          ],
          "contour": [
           {
            "colorbar": {
             "outlinewidth": 0,
             "ticks": ""
            },
            "colorscale": [
             [
              0,
              "#0d0887"
             ],
             [
              0.1111111111111111,
              "#46039f"
             ],
             [
              0.2222222222222222,
              "#7201a8"
             ],
             [
              0.3333333333333333,
              "#9c179e"
             ],
             [
              0.4444444444444444,
              "#bd3786"
             ],
             [
              0.5555555555555556,
              "#d8576b"
             ],
             [
              0.6666666666666666,
              "#ed7953"
             ],
             [
              0.7777777777777778,
              "#fb9f3a"
             ],
             [
              0.8888888888888888,
              "#fdca26"
             ],
             [
              1,
              "#f0f921"
             ]
            ],
            "type": "contour"
           }
          ],
          "contourcarpet": [
           {
            "colorbar": {
             "outlinewidth": 0,
             "ticks": ""
            },
            "type": "contourcarpet"
           }
          ],
          "heatmap": [
           {
            "colorbar": {
             "outlinewidth": 0,
             "ticks": ""
            },
            "colorscale": [
             [
              0,
              "#0d0887"
             ],
             [
              0.1111111111111111,
              "#46039f"
             ],
             [
              0.2222222222222222,
              "#7201a8"
             ],
             [
              0.3333333333333333,
              "#9c179e"
             ],
             [
              0.4444444444444444,
              "#bd3786"
             ],
             [
              0.5555555555555556,
              "#d8576b"
             ],
             [
              0.6666666666666666,
              "#ed7953"
             ],
             [
              0.7777777777777778,
              "#fb9f3a"
             ],
             [
              0.8888888888888888,
              "#fdca26"
             ],
             [
              1,
              "#f0f921"
             ]
            ],
            "type": "heatmap"
           }
          ],
          "histogram": [
           {
            "marker": {
             "pattern": {
              "fillmode": "overlay",
              "size": 10,
              "solidity": 0.2
             }
            },
            "type": "histogram"
           }
          ],
          "histogram2d": [
           {
            "colorbar": {
             "outlinewidth": 0,
             "ticks": ""
            },
            "colorscale": [
             [
              0,
              "#0d0887"
             ],
             [
              0.1111111111111111,
              "#46039f"
             ],
             [
              0.2222222222222222,
              "#7201a8"
             ],
             [
              0.3333333333333333,
              "#9c179e"
             ],
             [
              0.4444444444444444,
              "#bd3786"
             ],
             [
              0.5555555555555556,
              "#d8576b"
             ],
             [
              0.6666666666666666,
              "#ed7953"
             ],
             [
              0.7777777777777778,
              "#fb9f3a"
             ],
             [
              0.8888888888888888,
              "#fdca26"
             ],
             [
              1,
              "#f0f921"
             ]
            ],
            "type": "histogram2d"
           }
          ],
          "histogram2dcontour": [
           {
            "colorbar": {
             "outlinewidth": 0,
             "ticks": ""
            },
            "colorscale": [
             [
              0,
              "#0d0887"
             ],
             [
              0.1111111111111111,
              "#46039f"
             ],
             [
              0.2222222222222222,
              "#7201a8"
             ],
             [
              0.3333333333333333,
              "#9c179e"
             ],
             [
              0.4444444444444444,
              "#bd3786"
             ],
             [
              0.5555555555555556,
              "#d8576b"
             ],
             [
              0.6666666666666666,
              "#ed7953"
             ],
             [
              0.7777777777777778,
              "#fb9f3a"
             ],
             [
              0.8888888888888888,
              "#fdca26"
             ],
             [
              1,
              "#f0f921"
             ]
            ],
            "type": "histogram2dcontour"
           }
          ],
          "mesh3d": [
           {
            "colorbar": {
             "outlinewidth": 0,
             "ticks": ""
            },
            "type": "mesh3d"
           }
          ],
          "parcoords": [
           {
            "line": {
             "colorbar": {
              "outlinewidth": 0,
              "ticks": ""
             }
            },
            "type": "parcoords"
           }
          ],
          "pie": [
           {
            "automargin": true,
            "type": "pie"
           }
          ],
          "scatter": [
           {
            "marker": {
             "line": {
              "color": "#283442"
             }
            },
            "type": "scatter"
           }
          ],
          "scatter3d": [
           {
            "line": {
             "colorbar": {
              "outlinewidth": 0,
              "ticks": ""
             }
            },
            "marker": {
             "colorbar": {
              "outlinewidth": 0,
              "ticks": ""
             }
            },
            "type": "scatter3d"
           }
          ],
          "scattercarpet": [
           {
            "marker": {
             "colorbar": {
              "outlinewidth": 0,
              "ticks": ""
             }
            },
            "type": "scattercarpet"
           }
          ],
          "scattergeo": [
           {
            "marker": {
             "colorbar": {
              "outlinewidth": 0,
              "ticks": ""
             }
            },
            "type": "scattergeo"
           }
          ],
          "scattergl": [
           {
            "marker": {
             "line": {
              "color": "#283442"
             }
            },
            "type": "scattergl"
           }
          ],
          "scattermap": [
           {
            "marker": {
             "colorbar": {
              "outlinewidth": 0,
              "ticks": ""
             }
            },
            "type": "scattermap"
           }
          ],
          "scattermapbox": [
           {
            "marker": {
             "colorbar": {
              "outlinewidth": 0,
              "ticks": ""
             }
            },
            "type": "scattermapbox"
           }
          ],
          "scatterpolar": [
           {
            "marker": {
             "colorbar": {
              "outlinewidth": 0,
              "ticks": ""
             }
            },
            "type": "scatterpolar"
           }
          ],
          "scatterpolargl": [
           {
            "marker": {
             "colorbar": {
              "outlinewidth": 0,
              "ticks": ""
             }
            },
            "type": "scatterpolargl"
           }
          ],
          "scatterternary": [
           {
            "marker": {
             "colorbar": {
              "outlinewidth": 0,
              "ticks": ""
             }
            },
            "type": "scatterternary"
           }
          ],
          "surface": [
           {
            "colorbar": {
             "outlinewidth": 0,
             "ticks": ""
            },
            "colorscale": [
             [
              0,
              "#0d0887"
             ],
             [
              0.1111111111111111,
              "#46039f"
             ],
             [
              0.2222222222222222,
              "#7201a8"
             ],
             [
              0.3333333333333333,
              "#9c179e"
             ],
             [
              0.4444444444444444,
              "#bd3786"
             ],
             [
              0.5555555555555556,
              "#d8576b"
             ],
             [
              0.6666666666666666,
              "#ed7953"
             ],
             [
              0.7777777777777778,
              "#fb9f3a"
             ],
             [
              0.8888888888888888,
              "#fdca26"
             ],
             [
              1,
              "#f0f921"
             ]
            ],
            "type": "surface"
           }
          ],
          "table": [
           {
            "cells": {
             "fill": {
              "color": "#506784"
             },
             "line": {
              "color": "rgb(17,17,17)"
             }
            },
            "header": {
             "fill": {
              "color": "#2a3f5f"
             },
             "line": {
              "color": "rgb(17,17,17)"
             }
            },
            "type": "table"
           }
          ]
         },
         "layout": {
          "annotationdefaults": {
           "arrowcolor": "#f2f5fa",
           "arrowhead": 0,
           "arrowwidth": 1
          },
          "autotypenumbers": "strict",
          "coloraxis": {
           "colorbar": {
            "outlinewidth": 0,
            "ticks": ""
           }
          },
          "colorscale": {
           "diverging": [
            [
             0,
             "#8e0152"
            ],
            [
             0.1,
             "#c51b7d"
            ],
            [
             0.2,
             "#de77ae"
            ],
            [
             0.3,
             "#f1b6da"
            ],
            [
             0.4,
             "#fde0ef"
            ],
            [
             0.5,
             "#f7f7f7"
            ],
            [
             0.6,
             "#e6f5d0"
            ],
            [
             0.7,
             "#b8e186"
            ],
            [
             0.8,
             "#7fbc41"
            ],
            [
             0.9,
             "#4d9221"
            ],
            [
             1,
             "#276419"
            ]
           ],
           "sequential": [
            [
             0,
             "#0d0887"
            ],
            [
             0.1111111111111111,
             "#46039f"
            ],
            [
             0.2222222222222222,
             "#7201a8"
            ],
            [
             0.3333333333333333,
             "#9c179e"
            ],
            [
             0.4444444444444444,
             "#bd3786"
            ],
            [
             0.5555555555555556,
             "#d8576b"
            ],
            [
             0.6666666666666666,
             "#ed7953"
            ],
            [
             0.7777777777777778,
             "#fb9f3a"
            ],
            [
             0.8888888888888888,
             "#fdca26"
            ],
            [
             1,
             "#f0f921"
            ]
           ],
           "sequentialminus": [
            [
             0,
             "#0d0887"
            ],
            [
             0.1111111111111111,
             "#46039f"
            ],
            [
             0.2222222222222222,
             "#7201a8"
            ],
            [
             0.3333333333333333,
             "#9c179e"
            ],
            [
             0.4444444444444444,
             "#bd3786"
            ],
            [
             0.5555555555555556,
             "#d8576b"
            ],
            [
             0.6666666666666666,
             "#ed7953"
            ],
            [
             0.7777777777777778,
             "#fb9f3a"
            ],
            [
             0.8888888888888888,
             "#fdca26"
            ],
            [
             1,
             "#f0f921"
            ]
           ]
          },
          "colorway": [
           "#636efa",
           "#EF553B",
           "#00cc96",
           "#ab63fa",
           "#FFA15A",
           "#19d3f3",
           "#FF6692",
           "#B6E880",
           "#FF97FF",
           "#FECB52"
          ],
          "font": {
           "color": "#f2f5fa"
          },
          "geo": {
           "bgcolor": "rgb(17,17,17)",
           "lakecolor": "rgb(17,17,17)",
           "landcolor": "rgb(17,17,17)",
           "showlakes": true,
           "showland": true,
           "subunitcolor": "#506784"
          },
          "hoverlabel": {
           "align": "left"
          },
          "hovermode": "closest",
          "mapbox": {
           "style": "dark"
          },
          "paper_bgcolor": "rgb(17,17,17)",
          "plot_bgcolor": "rgb(17,17,17)",
          "polar": {
           "angularaxis": {
            "gridcolor": "#506784",
            "linecolor": "#506784",
            "ticks": ""
           },
           "bgcolor": "rgb(17,17,17)",
           "radialaxis": {
            "gridcolor": "#506784",
            "linecolor": "#506784",
            "ticks": ""
           }
          },
          "scene": {
           "xaxis": {
            "backgroundcolor": "rgb(17,17,17)",
            "gridcolor": "#506784",
            "gridwidth": 2,
            "linecolor": "#506784",
            "showbackground": true,
            "ticks": "",
            "zerolinecolor": "#C8D4E3"
           },
           "yaxis": {
            "backgroundcolor": "rgb(17,17,17)",
            "gridcolor": "#506784",
            "gridwidth": 2,
            "linecolor": "#506784",
            "showbackground": true,
            "ticks": "",
            "zerolinecolor": "#C8D4E3"
           },
           "zaxis": {
            "backgroundcolor": "rgb(17,17,17)",
            "gridcolor": "#506784",
            "gridwidth": 2,
            "linecolor": "#506784",
            "showbackground": true,
            "ticks": "",
            "zerolinecolor": "#C8D4E3"
           }
          },
          "shapedefaults": {
           "line": {
            "color": "#f2f5fa"
           }
          },
          "sliderdefaults": {
           "bgcolor": "#C8D4E3",
           "bordercolor": "rgb(17,17,17)",
           "borderwidth": 1,
           "tickwidth": 0
          },
          "ternary": {
           "aaxis": {
            "gridcolor": "#506784",
            "linecolor": "#506784",
            "ticks": ""
           },
           "baxis": {
            "gridcolor": "#506784",
            "linecolor": "#506784",
            "ticks": ""
           },
           "bgcolor": "rgb(17,17,17)",
           "caxis": {
            "gridcolor": "#506784",
            "linecolor": "#506784",
            "ticks": ""
           }
          },
          "title": {
           "x": 0.05
          },
          "updatemenudefaults": {
           "bgcolor": "#506784",
           "borderwidth": 0
          },
          "xaxis": {
           "automargin": true,
           "gridcolor": "#283442",
           "linecolor": "#506784",
           "ticks": "",
           "title": {
            "standoff": 15
           },
           "zerolinecolor": "#283442",
           "zerolinewidth": 2
          },
          "yaxis": {
           "automargin": true,
           "gridcolor": "#283442",
           "linecolor": "#506784",
           "ticks": "",
           "title": {
            "standoff": 15
           },
           "zerolinecolor": "#283442",
           "zerolinewidth": 2
          }
         }
        },
        "xaxis": {
         "anchor": "y",
         "domain": [
          0,
          1
         ],
         "title": {
          "text": "order_type"
         }
        },
        "yaxis": {
         "anchor": "x",
         "domain": [
          0,
          1
         ],
         "title": {
          "text": "profit"
         }
        }
       }
      }
     },
     "metadata": {},
     "output_type": "display_data"
    },
    {
     "data": {
      "application/vnd.plotly.v1+json": {
       "config": {
        "plotlyServerURL": "https://plot.ly"
       },
       "data": [
        {
         "hovertemplate": "dayofweek=%{x}<br>profit=%{y}<extra></extra>",
         "legendgroup": "",
         "marker": {
          "color": "#636efa",
          "pattern": {
           "shape": ""
          }
         },
         "name": "",
         "orientation": "v",
         "showlegend": false,
         "textposition": "auto",
         "type": "bar",
         "x": {
          "bdata": "AAAAAAEAAAACAAAAAwAAAAQAAAA=",
          "dtype": "i4"
         },
         "xaxis": "x",
         "y": {
          "bdata": "AAAAAABUqkAAAAAAAJ6kQAAAAAAAzqNAAAAAAACwnkAAAAAAAJypQA==",
          "dtype": "f8"
         },
         "yaxis": "y"
        }
       ],
       "layout": {
        "barmode": "relative",
        "legend": {
         "tracegroupgap": 0
        },
        "margin": {
         "t": 60
        },
        "template": {
         "data": {
          "bar": [
           {
            "error_x": {
             "color": "#f2f5fa"
            },
            "error_y": {
             "color": "#f2f5fa"
            },
            "marker": {
             "line": {
              "color": "rgb(17,17,17)",
              "width": 0.5
             },
             "pattern": {
              "fillmode": "overlay",
              "size": 10,
              "solidity": 0.2
             }
            },
            "type": "bar"
           }
          ],
          "barpolar": [
           {
            "marker": {
             "line": {
              "color": "rgb(17,17,17)",
              "width": 0.5
             },
             "pattern": {
              "fillmode": "overlay",
              "size": 10,
              "solidity": 0.2
             }
            },
            "type": "barpolar"
           }
          ],
          "carpet": [
           {
            "aaxis": {
             "endlinecolor": "#A2B1C6",
             "gridcolor": "#506784",
             "linecolor": "#506784",
             "minorgridcolor": "#506784",
             "startlinecolor": "#A2B1C6"
            },
            "baxis": {
             "endlinecolor": "#A2B1C6",
             "gridcolor": "#506784",
             "linecolor": "#506784",
             "minorgridcolor": "#506784",
             "startlinecolor": "#A2B1C6"
            },
            "type": "carpet"
           }
          ],
          "choropleth": [
           {
            "colorbar": {
             "outlinewidth": 0,
             "ticks": ""
            },
            "type": "choropleth"
           }
          ],
          "contour": [
           {
            "colorbar": {
             "outlinewidth": 0,
             "ticks": ""
            },
            "colorscale": [
             [
              0,
              "#0d0887"
             ],
             [
              0.1111111111111111,
              "#46039f"
             ],
             [
              0.2222222222222222,
              "#7201a8"
             ],
             [
              0.3333333333333333,
              "#9c179e"
             ],
             [
              0.4444444444444444,
              "#bd3786"
             ],
             [
              0.5555555555555556,
              "#d8576b"
             ],
             [
              0.6666666666666666,
              "#ed7953"
             ],
             [
              0.7777777777777778,
              "#fb9f3a"
             ],
             [
              0.8888888888888888,
              "#fdca26"
             ],
             [
              1,
              "#f0f921"
             ]
            ],
            "type": "contour"
           }
          ],
          "contourcarpet": [
           {
            "colorbar": {
             "outlinewidth": 0,
             "ticks": ""
            },
            "type": "contourcarpet"
           }
          ],
          "heatmap": [
           {
            "colorbar": {
             "outlinewidth": 0,
             "ticks": ""
            },
            "colorscale": [
             [
              0,
              "#0d0887"
             ],
             [
              0.1111111111111111,
              "#46039f"
             ],
             [
              0.2222222222222222,
              "#7201a8"
             ],
             [
              0.3333333333333333,
              "#9c179e"
             ],
             [
              0.4444444444444444,
              "#bd3786"
             ],
             [
              0.5555555555555556,
              "#d8576b"
             ],
             [
              0.6666666666666666,
              "#ed7953"
             ],
             [
              0.7777777777777778,
              "#fb9f3a"
             ],
             [
              0.8888888888888888,
              "#fdca26"
             ],
             [
              1,
              "#f0f921"
             ]
            ],
            "type": "heatmap"
           }
          ],
          "histogram": [
           {
            "marker": {
             "pattern": {
              "fillmode": "overlay",
              "size": 10,
              "solidity": 0.2
             }
            },
            "type": "histogram"
           }
          ],
          "histogram2d": [
           {
            "colorbar": {
             "outlinewidth": 0,
             "ticks": ""
            },
            "colorscale": [
             [
              0,
              "#0d0887"
             ],
             [
              0.1111111111111111,
              "#46039f"
             ],
             [
              0.2222222222222222,
              "#7201a8"
             ],
             [
              0.3333333333333333,
              "#9c179e"
             ],
             [
              0.4444444444444444,
              "#bd3786"
             ],
             [
              0.5555555555555556,
              "#d8576b"
             ],
             [
              0.6666666666666666,
              "#ed7953"
             ],
             [
              0.7777777777777778,
              "#fb9f3a"
             ],
             [
              0.8888888888888888,
              "#fdca26"
             ],
             [
              1,
              "#f0f921"
             ]
            ],
            "type": "histogram2d"
           }
          ],
          "histogram2dcontour": [
           {
            "colorbar": {
             "outlinewidth": 0,
             "ticks": ""
            },
            "colorscale": [
             [
              0,
              "#0d0887"
             ],
             [
              0.1111111111111111,
              "#46039f"
             ],
             [
              0.2222222222222222,
              "#7201a8"
             ],
             [
              0.3333333333333333,
              "#9c179e"
             ],
             [
              0.4444444444444444,
              "#bd3786"
             ],
             [
              0.5555555555555556,
              "#d8576b"
             ],
             [
              0.6666666666666666,
              "#ed7953"
             ],
             [
              0.7777777777777778,
              "#fb9f3a"
             ],
             [
              0.8888888888888888,
              "#fdca26"
             ],
             [
              1,
              "#f0f921"
             ]
            ],
            "type": "histogram2dcontour"
           }
          ],
          "mesh3d": [
           {
            "colorbar": {
             "outlinewidth": 0,
             "ticks": ""
            },
            "type": "mesh3d"
           }
          ],
          "parcoords": [
           {
            "line": {
             "colorbar": {
              "outlinewidth": 0,
              "ticks": ""
             }
            },
            "type": "parcoords"
           }
          ],
          "pie": [
           {
            "automargin": true,
            "type": "pie"
           }
          ],
          "scatter": [
           {
            "marker": {
             "line": {
              "color": "#283442"
             }
            },
            "type": "scatter"
           }
          ],
          "scatter3d": [
           {
            "line": {
             "colorbar": {
              "outlinewidth": 0,
              "ticks": ""
             }
            },
            "marker": {
             "colorbar": {
              "outlinewidth": 0,
              "ticks": ""
             }
            },
            "type": "scatter3d"
           }
          ],
          "scattercarpet": [
           {
            "marker": {
             "colorbar": {
              "outlinewidth": 0,
              "ticks": ""
             }
            },
            "type": "scattercarpet"
           }
          ],
          "scattergeo": [
           {
            "marker": {
             "colorbar": {
              "outlinewidth": 0,
              "ticks": ""
             }
            },
            "type": "scattergeo"
           }
          ],
          "scattergl": [
           {
            "marker": {
             "line": {
              "color": "#283442"
             }
            },
            "type": "scattergl"
           }
          ],
          "scattermap": [
           {
            "marker": {
             "colorbar": {
              "outlinewidth": 0,
              "ticks": ""
             }
            },
            "type": "scattermap"
           }
          ],
          "scattermapbox": [
           {
            "marker": {
             "colorbar": {
              "outlinewidth": 0,
              "ticks": ""
             }
            },
            "type": "scattermapbox"
           }
          ],
          "scatterpolar": [
           {
            "marker": {
             "colorbar": {
              "outlinewidth": 0,
              "ticks": ""
             }
            },
            "type": "scatterpolar"
           }
          ],
          "scatterpolargl": [
           {
            "marker": {
             "colorbar": {
              "outlinewidth": 0,
              "ticks": ""
             }
            },
            "type": "scatterpolargl"
           }
          ],
          "scatterternary": [
           {
            "marker": {
             "colorbar": {
              "outlinewidth": 0,
              "ticks": ""
             }
            },
            "type": "scatterternary"
           }
          ],
          "surface": [
           {
            "colorbar": {
             "outlinewidth": 0,
             "ticks": ""
            },
            "colorscale": [
             [
              0,
              "#0d0887"
             ],
             [
              0.1111111111111111,
              "#46039f"
             ],
             [
              0.2222222222222222,
              "#7201a8"
             ],
             [
              0.3333333333333333,
              "#9c179e"
             ],
             [
              0.4444444444444444,
              "#bd3786"
             ],
             [
              0.5555555555555556,
              "#d8576b"
             ],
             [
              0.6666666666666666,
              "#ed7953"
             ],
             [
              0.7777777777777778,
              "#fb9f3a"
             ],
             [
              0.8888888888888888,
              "#fdca26"
             ],
             [
              1,
              "#f0f921"
             ]
            ],
            "type": "surface"
           }
          ],
          "table": [
           {
            "cells": {
             "fill": {
              "color": "#506784"
             },
             "line": {
              "color": "rgb(17,17,17)"
             }
            },
            "header": {
             "fill": {
              "color": "#2a3f5f"
             },
             "line": {
              "color": "rgb(17,17,17)"
             }
            },
            "type": "table"
           }
          ]
         },
         "layout": {
          "annotationdefaults": {
           "arrowcolor": "#f2f5fa",
           "arrowhead": 0,
           "arrowwidth": 1
          },
          "autotypenumbers": "strict",
          "coloraxis": {
           "colorbar": {
            "outlinewidth": 0,
            "ticks": ""
           }
          },
          "colorscale": {
           "diverging": [
            [
             0,
             "#8e0152"
            ],
            [
             0.1,
             "#c51b7d"
            ],
            [
             0.2,
             "#de77ae"
            ],
            [
             0.3,
             "#f1b6da"
            ],
            [
             0.4,
             "#fde0ef"
            ],
            [
             0.5,
             "#f7f7f7"
            ],
            [
             0.6,
             "#e6f5d0"
            ],
            [
             0.7,
             "#b8e186"
            ],
            [
             0.8,
             "#7fbc41"
            ],
            [
             0.9,
             "#4d9221"
            ],
            [
             1,
             "#276419"
            ]
           ],
           "sequential": [
            [
             0,
             "#0d0887"
            ],
            [
             0.1111111111111111,
             "#46039f"
            ],
            [
             0.2222222222222222,
             "#7201a8"
            ],
            [
             0.3333333333333333,
             "#9c179e"
            ],
            [
             0.4444444444444444,
             "#bd3786"
            ],
            [
             0.5555555555555556,
             "#d8576b"
            ],
            [
             0.6666666666666666,
             "#ed7953"
            ],
            [
             0.7777777777777778,
             "#fb9f3a"
            ],
            [
             0.8888888888888888,
             "#fdca26"
            ],
            [
             1,
             "#f0f921"
            ]
           ],
           "sequentialminus": [
            [
             0,
             "#0d0887"
            ],
            [
             0.1111111111111111,
             "#46039f"
            ],
            [
             0.2222222222222222,
             "#7201a8"
            ],
            [
             0.3333333333333333,
             "#9c179e"
            ],
            [
             0.4444444444444444,
             "#bd3786"
            ],
            [
             0.5555555555555556,
             "#d8576b"
            ],
            [
             0.6666666666666666,
             "#ed7953"
            ],
            [
             0.7777777777777778,
             "#fb9f3a"
            ],
            [
             0.8888888888888888,
             "#fdca26"
            ],
            [
             1,
             "#f0f921"
            ]
           ]
          },
          "colorway": [
           "#636efa",
           "#EF553B",
           "#00cc96",
           "#ab63fa",
           "#FFA15A",
           "#19d3f3",
           "#FF6692",
           "#B6E880",
           "#FF97FF",
           "#FECB52"
          ],
          "font": {
           "color": "#f2f5fa"
          },
          "geo": {
           "bgcolor": "rgb(17,17,17)",
           "lakecolor": "rgb(17,17,17)",
           "landcolor": "rgb(17,17,17)",
           "showlakes": true,
           "showland": true,
           "subunitcolor": "#506784"
          },
          "hoverlabel": {
           "align": "left"
          },
          "hovermode": "closest",
          "mapbox": {
           "style": "dark"
          },
          "paper_bgcolor": "rgb(17,17,17)",
          "plot_bgcolor": "rgb(17,17,17)",
          "polar": {
           "angularaxis": {
            "gridcolor": "#506784",
            "linecolor": "#506784",
            "ticks": ""
           },
           "bgcolor": "rgb(17,17,17)",
           "radialaxis": {
            "gridcolor": "#506784",
            "linecolor": "#506784",
            "ticks": ""
           }
          },
          "scene": {
           "xaxis": {
            "backgroundcolor": "rgb(17,17,17)",
            "gridcolor": "#506784",
            "gridwidth": 2,
            "linecolor": "#506784",
            "showbackground": true,
            "ticks": "",
            "zerolinecolor": "#C8D4E3"
           },
           "yaxis": {
            "backgroundcolor": "rgb(17,17,17)",
            "gridcolor": "#506784",
            "gridwidth": 2,
            "linecolor": "#506784",
            "showbackground": true,
            "ticks": "",
            "zerolinecolor": "#C8D4E3"
           },
           "zaxis": {
            "backgroundcolor": "rgb(17,17,17)",
            "gridcolor": "#506784",
            "gridwidth": 2,
            "linecolor": "#506784",
            "showbackground": true,
            "ticks": "",
            "zerolinecolor": "#C8D4E3"
           }
          },
          "shapedefaults": {
           "line": {
            "color": "#f2f5fa"
           }
          },
          "sliderdefaults": {
           "bgcolor": "#C8D4E3",
           "bordercolor": "rgb(17,17,17)",
           "borderwidth": 1,
           "tickwidth": 0
          },
          "ternary": {
           "aaxis": {
            "gridcolor": "#506784",
            "linecolor": "#506784",
            "ticks": ""
           },
           "baxis": {
            "gridcolor": "#506784",
            "linecolor": "#506784",
            "ticks": ""
           },
           "bgcolor": "rgb(17,17,17)",
           "caxis": {
            "gridcolor": "#506784",
            "linecolor": "#506784",
            "ticks": ""
           }
          },
          "title": {
           "x": 0.05
          },
          "updatemenudefaults": {
           "bgcolor": "#506784",
           "borderwidth": 0
          },
          "xaxis": {
           "automargin": true,
           "gridcolor": "#283442",
           "linecolor": "#506784",
           "ticks": "",
           "title": {
            "standoff": 15
           },
           "zerolinecolor": "#283442",
           "zerolinewidth": 2
          },
          "yaxis": {
           "automargin": true,
           "gridcolor": "#283442",
           "linecolor": "#506784",
           "ticks": "",
           "title": {
            "standoff": 15
           },
           "zerolinecolor": "#283442",
           "zerolinewidth": 2
          }
         }
        },
        "xaxis": {
         "anchor": "y",
         "domain": [
          0,
          1
         ],
         "title": {
          "text": "dayofweek"
         }
        },
        "yaxis": {
         "anchor": "x",
         "domain": [
          0,
          1
         ],
         "title": {
          "text": "profit"
         }
        }
       }
      }
     },
     "metadata": {},
     "output_type": "display_data"
    },
    {
     "data": {
      "application/vnd.plotly.v1+json": {
       "config": {
        "plotlyServerURL": "https://plot.ly"
       },
       "data": [
        {
         "hovertemplate": "hourofday=%{x}<br>profit=%{y}<extra></extra>",
         "legendgroup": "",
         "marker": {
          "color": "#636efa",
          "pattern": {
           "shape": ""
          }
         },
         "name": "",
         "orientation": "v",
         "showlegend": false,
         "textposition": "auto",
         "type": "bar",
         "x": {
          "bdata": "AQAAAAIAAAADAAAABAAAAAUAAAAGAAAABwAAAAgAAAAJAAAACgAAAAsAAAAMAAAADQAAAA4AAAAPAAAAEAAAABEAAAASAAAAEwAAABQAAAAVAAAAFgAAABcAAAA=",
          "dtype": "i4"
         },
         "xaxis": "x",
         "y": {
          "bdata": "AAAAAACIi0AAAAAAADB9QAAAAAAA8IdAAAAAAACge0AAAAAAAIB7QAAAAAAAsHxAAAAAAACggEAAAAAAALB6QAAAAAAAwIJAAAAAAAB4gkAAAAAAACBxQAAAAAAAUHNAAAAAAABMkkAAAAAAAFCGQAAAAAAA0JNAAAAAAACQc0AAAAAAAFiBQAAAAAAAoGVAAAAAAADAgEAAAAAAAPiIQAAAAAAAkINAAAAAAABojUAAAAAAAGB/QA==",
          "dtype": "f8"
         },
         "yaxis": "y"
        }
       ],
       "layout": {
        "barmode": "relative",
        "legend": {
         "tracegroupgap": 0
        },
        "margin": {
         "t": 60
        },
        "template": {
         "data": {
          "bar": [
           {
            "error_x": {
             "color": "#f2f5fa"
            },
            "error_y": {
             "color": "#f2f5fa"
            },
            "marker": {
             "line": {
              "color": "rgb(17,17,17)",
              "width": 0.5
             },
             "pattern": {
              "fillmode": "overlay",
              "size": 10,
              "solidity": 0.2
             }
            },
            "type": "bar"
           }
          ],
          "barpolar": [
           {
            "marker": {
             "line": {
              "color": "rgb(17,17,17)",
              "width": 0.5
             },
             "pattern": {
              "fillmode": "overlay",
              "size": 10,
              "solidity": 0.2
             }
            },
            "type": "barpolar"
           }
          ],
          "carpet": [
           {
            "aaxis": {
             "endlinecolor": "#A2B1C6",
             "gridcolor": "#506784",
             "linecolor": "#506784",
             "minorgridcolor": "#506784",
             "startlinecolor": "#A2B1C6"
            },
            "baxis": {
             "endlinecolor": "#A2B1C6",
             "gridcolor": "#506784",
             "linecolor": "#506784",
             "minorgridcolor": "#506784",
             "startlinecolor": "#A2B1C6"
            },
            "type": "carpet"
           }
          ],
          "choropleth": [
           {
            "colorbar": {
             "outlinewidth": 0,
             "ticks": ""
            },
            "type": "choropleth"
           }
          ],
          "contour": [
           {
            "colorbar": {
             "outlinewidth": 0,
             "ticks": ""
            },
            "colorscale": [
             [
              0,
              "#0d0887"
             ],
             [
              0.1111111111111111,
              "#46039f"
             ],
             [
              0.2222222222222222,
              "#7201a8"
             ],
             [
              0.3333333333333333,
              "#9c179e"
             ],
             [
              0.4444444444444444,
              "#bd3786"
             ],
             [
              0.5555555555555556,
              "#d8576b"
             ],
             [
              0.6666666666666666,
              "#ed7953"
             ],
             [
              0.7777777777777778,
              "#fb9f3a"
             ],
             [
              0.8888888888888888,
              "#fdca26"
             ],
             [
              1,
              "#f0f921"
             ]
            ],
            "type": "contour"
           }
          ],
          "contourcarpet": [
           {
            "colorbar": {
             "outlinewidth": 0,
             "ticks": ""
            },
            "type": "contourcarpet"
           }
          ],
          "heatmap": [
           {
            "colorbar": {
             "outlinewidth": 0,
             "ticks": ""
            },
            "colorscale": [
             [
              0,
              "#0d0887"
             ],
             [
              0.1111111111111111,
              "#46039f"
             ],
             [
              0.2222222222222222,
              "#7201a8"
             ],
             [
              0.3333333333333333,
              "#9c179e"
             ],
             [
              0.4444444444444444,
              "#bd3786"
             ],
             [
              0.5555555555555556,
              "#d8576b"
             ],
             [
              0.6666666666666666,
              "#ed7953"
             ],
             [
              0.7777777777777778,
              "#fb9f3a"
             ],
             [
              0.8888888888888888,
              "#fdca26"
             ],
             [
              1,
              "#f0f921"
             ]
            ],
            "type": "heatmap"
           }
          ],
          "histogram": [
           {
            "marker": {
             "pattern": {
              "fillmode": "overlay",
              "size": 10,
              "solidity": 0.2
             }
            },
            "type": "histogram"
           }
          ],
          "histogram2d": [
           {
            "colorbar": {
             "outlinewidth": 0,
             "ticks": ""
            },
            "colorscale": [
             [
              0,
              "#0d0887"
             ],
             [
              0.1111111111111111,
              "#46039f"
             ],
             [
              0.2222222222222222,
              "#7201a8"
             ],
             [
              0.3333333333333333,
              "#9c179e"
             ],
             [
              0.4444444444444444,
              "#bd3786"
             ],
             [
              0.5555555555555556,
              "#d8576b"
             ],
             [
              0.6666666666666666,
              "#ed7953"
             ],
             [
              0.7777777777777778,
              "#fb9f3a"
             ],
             [
              0.8888888888888888,
              "#fdca26"
             ],
             [
              1,
              "#f0f921"
             ]
            ],
            "type": "histogram2d"
           }
          ],
          "histogram2dcontour": [
           {
            "colorbar": {
             "outlinewidth": 0,
             "ticks": ""
            },
            "colorscale": [
             [
              0,
              "#0d0887"
             ],
             [
              0.1111111111111111,
              "#46039f"
             ],
             [
              0.2222222222222222,
              "#7201a8"
             ],
             [
              0.3333333333333333,
              "#9c179e"
             ],
             [
              0.4444444444444444,
              "#bd3786"
             ],
             [
              0.5555555555555556,
              "#d8576b"
             ],
             [
              0.6666666666666666,
              "#ed7953"
             ],
             [
              0.7777777777777778,
              "#fb9f3a"
             ],
             [
              0.8888888888888888,
              "#fdca26"
             ],
             [
              1,
              "#f0f921"
             ]
            ],
            "type": "histogram2dcontour"
           }
          ],
          "mesh3d": [
           {
            "colorbar": {
             "outlinewidth": 0,
             "ticks": ""
            },
            "type": "mesh3d"
           }
          ],
          "parcoords": [
           {
            "line": {
             "colorbar": {
              "outlinewidth": 0,
              "ticks": ""
             }
            },
            "type": "parcoords"
           }
          ],
          "pie": [
           {
            "automargin": true,
            "type": "pie"
           }
          ],
          "scatter": [
           {
            "marker": {
             "line": {
              "color": "#283442"
             }
            },
            "type": "scatter"
           }
          ],
          "scatter3d": [
           {
            "line": {
             "colorbar": {
              "outlinewidth": 0,
              "ticks": ""
             }
            },
            "marker": {
             "colorbar": {
              "outlinewidth": 0,
              "ticks": ""
             }
            },
            "type": "scatter3d"
           }
          ],
          "scattercarpet": [
           {
            "marker": {
             "colorbar": {
              "outlinewidth": 0,
              "ticks": ""
             }
            },
            "type": "scattercarpet"
           }
          ],
          "scattergeo": [
           {
            "marker": {
             "colorbar": {
              "outlinewidth": 0,
              "ticks": ""
             }
            },
            "type": "scattergeo"
           }
          ],
          "scattergl": [
           {
            "marker": {
             "line": {
              "color": "#283442"
             }
            },
            "type": "scattergl"
           }
          ],
          "scattermap": [
           {
            "marker": {
             "colorbar": {
              "outlinewidth": 0,
              "ticks": ""
             }
            },
            "type": "scattermap"
           }
          ],
          "scattermapbox": [
           {
            "marker": {
             "colorbar": {
              "outlinewidth": 0,
              "ticks": ""
             }
            },
            "type": "scattermapbox"
           }
          ],
          "scatterpolar": [
           {
            "marker": {
             "colorbar": {
              "outlinewidth": 0,
              "ticks": ""
             }
            },
            "type": "scatterpolar"
           }
          ],
          "scatterpolargl": [
           {
            "marker": {
             "colorbar": {
              "outlinewidth": 0,
              "ticks": ""
             }
            },
            "type": "scatterpolargl"
           }
          ],
          "scatterternary": [
           {
            "marker": {
             "colorbar": {
              "outlinewidth": 0,
              "ticks": ""
             }
            },
            "type": "scatterternary"
           }
          ],
          "surface": [
           {
            "colorbar": {
             "outlinewidth": 0,
             "ticks": ""
            },
            "colorscale": [
             [
              0,
              "#0d0887"
             ],
             [
              0.1111111111111111,
              "#46039f"
             ],
             [
              0.2222222222222222,
              "#7201a8"
             ],
             [
              0.3333333333333333,
              "#9c179e"
             ],
             [
              0.4444444444444444,
              "#bd3786"
             ],
             [
              0.5555555555555556,
              "#d8576b"
             ],
             [
              0.6666666666666666,
              "#ed7953"
             ],
             [
              0.7777777777777778,
              "#fb9f3a"
             ],
             [
              0.8888888888888888,
              "#fdca26"
             ],
             [
              1,
              "#f0f921"
             ]
            ],
            "type": "surface"
           }
          ],
          "table": [
           {
            "cells": {
             "fill": {
              "color": "#506784"
             },
             "line": {
              "color": "rgb(17,17,17)"
             }
            },
            "header": {
             "fill": {
              "color": "#2a3f5f"
             },
             "line": {
              "color": "rgb(17,17,17)"
             }
            },
            "type": "table"
           }
          ]
         },
         "layout": {
          "annotationdefaults": {
           "arrowcolor": "#f2f5fa",
           "arrowhead": 0,
           "arrowwidth": 1
          },
          "autotypenumbers": "strict",
          "coloraxis": {
           "colorbar": {
            "outlinewidth": 0,
            "ticks": ""
           }
          },
          "colorscale": {
           "diverging": [
            [
             0,
             "#8e0152"
            ],
            [
             0.1,
             "#c51b7d"
            ],
            [
             0.2,
             "#de77ae"
            ],
            [
             0.3,
             "#f1b6da"
            ],
            [
             0.4,
             "#fde0ef"
            ],
            [
             0.5,
             "#f7f7f7"
            ],
            [
             0.6,
             "#e6f5d0"
            ],
            [
             0.7,
             "#b8e186"
            ],
            [
             0.8,
             "#7fbc41"
            ],
            [
             0.9,
             "#4d9221"
            ],
            [
             1,
             "#276419"
            ]
           ],
           "sequential": [
            [
             0,
             "#0d0887"
            ],
            [
             0.1111111111111111,
             "#46039f"
            ],
            [
             0.2222222222222222,
             "#7201a8"
            ],
            [
             0.3333333333333333,
             "#9c179e"
            ],
            [
             0.4444444444444444,
             "#bd3786"
            ],
            [
             0.5555555555555556,
             "#d8576b"
            ],
            [
             0.6666666666666666,
             "#ed7953"
            ],
            [
             0.7777777777777778,
             "#fb9f3a"
            ],
            [
             0.8888888888888888,
             "#fdca26"
            ],
            [
             1,
             "#f0f921"
            ]
           ],
           "sequentialminus": [
            [
             0,
             "#0d0887"
            ],
            [
             0.1111111111111111,
             "#46039f"
            ],
            [
             0.2222222222222222,
             "#7201a8"
            ],
            [
             0.3333333333333333,
             "#9c179e"
            ],
            [
             0.4444444444444444,
             "#bd3786"
            ],
            [
             0.5555555555555556,
             "#d8576b"
            ],
            [
             0.6666666666666666,
             "#ed7953"
            ],
            [
             0.7777777777777778,
             "#fb9f3a"
            ],
            [
             0.8888888888888888,
             "#fdca26"
            ],
            [
             1,
             "#f0f921"
            ]
           ]
          },
          "colorway": [
           "#636efa",
           "#EF553B",
           "#00cc96",
           "#ab63fa",
           "#FFA15A",
           "#19d3f3",
           "#FF6692",
           "#B6E880",
           "#FF97FF",
           "#FECB52"
          ],
          "font": {
           "color": "#f2f5fa"
          },
          "geo": {
           "bgcolor": "rgb(17,17,17)",
           "lakecolor": "rgb(17,17,17)",
           "landcolor": "rgb(17,17,17)",
           "showlakes": true,
           "showland": true,
           "subunitcolor": "#506784"
          },
          "hoverlabel": {
           "align": "left"
          },
          "hovermode": "closest",
          "mapbox": {
           "style": "dark"
          },
          "paper_bgcolor": "rgb(17,17,17)",
          "plot_bgcolor": "rgb(17,17,17)",
          "polar": {
           "angularaxis": {
            "gridcolor": "#506784",
            "linecolor": "#506784",
            "ticks": ""
           },
           "bgcolor": "rgb(17,17,17)",
           "radialaxis": {
            "gridcolor": "#506784",
            "linecolor": "#506784",
            "ticks": ""
           }
          },
          "scene": {
           "xaxis": {
            "backgroundcolor": "rgb(17,17,17)",
            "gridcolor": "#506784",
            "gridwidth": 2,
            "linecolor": "#506784",
            "showbackground": true,
            "ticks": "",
            "zerolinecolor": "#C8D4E3"
           },
           "yaxis": {
            "backgroundcolor": "rgb(17,17,17)",
            "gridcolor": "#506784",
            "gridwidth": 2,
            "linecolor": "#506784",
            "showbackground": true,
            "ticks": "",
            "zerolinecolor": "#C8D4E3"
           },
           "zaxis": {
            "backgroundcolor": "rgb(17,17,17)",
            "gridcolor": "#506784",
            "gridwidth": 2,
            "linecolor": "#506784",
            "showbackground": true,
            "ticks": "",
            "zerolinecolor": "#C8D4E3"
           }
          },
          "shapedefaults": {
           "line": {
            "color": "#f2f5fa"
           }
          },
          "sliderdefaults": {
           "bgcolor": "#C8D4E3",
           "bordercolor": "rgb(17,17,17)",
           "borderwidth": 1,
           "tickwidth": 0
          },
          "ternary": {
           "aaxis": {
            "gridcolor": "#506784",
            "linecolor": "#506784",
            "ticks": ""
           },
           "baxis": {
            "gridcolor": "#506784",
            "linecolor": "#506784",
            "ticks": ""
           },
           "bgcolor": "rgb(17,17,17)",
           "caxis": {
            "gridcolor": "#506784",
            "linecolor": "#506784",
            "ticks": ""
           }
          },
          "title": {
           "x": 0.05
          },
          "updatemenudefaults": {
           "bgcolor": "#506784",
           "borderwidth": 0
          },
          "xaxis": {
           "automargin": true,
           "gridcolor": "#283442",
           "linecolor": "#506784",
           "ticks": "",
           "title": {
            "standoff": 15
           },
           "zerolinecolor": "#283442",
           "zerolinewidth": 2
          },
          "yaxis": {
           "automargin": true,
           "gridcolor": "#283442",
           "linecolor": "#506784",
           "ticks": "",
           "title": {
            "standoff": 15
           },
           "zerolinecolor": "#283442",
           "zerolinewidth": 2
          }
         }
        },
        "xaxis": {
         "anchor": "y",
         "domain": [
          0,
          1
         ],
         "title": {
          "text": "hourofday"
         }
        },
        "yaxis": {
         "anchor": "x",
         "domain": [
          0,
          1
         ],
         "title": {
          "text": "profit"
         }
        }
       }
      }
     },
     "metadata": {},
     "output_type": "display_data"
    },
    {
     "data": {
      "application/vnd.plotly.v1+json": {
       "config": {
        "plotlyServerURL": "https://plot.ly"
       },
       "data": [
        {
         "hovertemplate": "Month=%{x}<br>Total Profit=%{y}<extra></extra>",
         "legendgroup": "",
         "marker": {
          "color": "#00CC96",
          "pattern": {
           "shape": ""
          }
         },
         "name": "",
         "orientation": "v",
         "showlegend": false,
         "textposition": "auto",
         "type": "bar",
         "x": [
          "2025-07",
          "2025-08"
         ],
         "xaxis": "x",
         "y": {
          "bdata": "AAAAAABZxEAAAAAAAFCqQA==",
          "dtype": "f8"
         },
         "yaxis": "y"
        }
       ],
       "layout": {
        "barmode": "relative",
        "legend": {
         "tracegroupgap": 0
        },
        "template": {
         "data": {
          "bar": [
           {
            "error_x": {
             "color": "#f2f5fa"
            },
            "error_y": {
             "color": "#f2f5fa"
            },
            "marker": {
             "line": {
              "color": "rgb(17,17,17)",
              "width": 0.5
             },
             "pattern": {
              "fillmode": "overlay",
              "size": 10,
              "solidity": 0.2
             }
            },
            "type": "bar"
           }
          ],
          "barpolar": [
           {
            "marker": {
             "line": {
              "color": "rgb(17,17,17)",
              "width": 0.5
             },
             "pattern": {
              "fillmode": "overlay",
              "size": 10,
              "solidity": 0.2
             }
            },
            "type": "barpolar"
           }
          ],
          "carpet": [
           {
            "aaxis": {
             "endlinecolor": "#A2B1C6",
             "gridcolor": "#506784",
             "linecolor": "#506784",
             "minorgridcolor": "#506784",
             "startlinecolor": "#A2B1C6"
            },
            "baxis": {
             "endlinecolor": "#A2B1C6",
             "gridcolor": "#506784",
             "linecolor": "#506784",
             "minorgridcolor": "#506784",
             "startlinecolor": "#A2B1C6"
            },
            "type": "carpet"
           }
          ],
          "choropleth": [
           {
            "colorbar": {
             "outlinewidth": 0,
             "ticks": ""
            },
            "type": "choropleth"
           }
          ],
          "contour": [
           {
            "colorbar": {
             "outlinewidth": 0,
             "ticks": ""
            },
            "colorscale": [
             [
              0,
              "#0d0887"
             ],
             [
              0.1111111111111111,
              "#46039f"
             ],
             [
              0.2222222222222222,
              "#7201a8"
             ],
             [
              0.3333333333333333,
              "#9c179e"
             ],
             [
              0.4444444444444444,
              "#bd3786"
             ],
             [
              0.5555555555555556,
              "#d8576b"
             ],
             [
              0.6666666666666666,
              "#ed7953"
             ],
             [
              0.7777777777777778,
              "#fb9f3a"
             ],
             [
              0.8888888888888888,
              "#fdca26"
             ],
             [
              1,
              "#f0f921"
             ]
            ],
            "type": "contour"
           }
          ],
          "contourcarpet": [
           {
            "colorbar": {
             "outlinewidth": 0,
             "ticks": ""
            },
            "type": "contourcarpet"
           }
          ],
          "heatmap": [
           {
            "colorbar": {
             "outlinewidth": 0,
             "ticks": ""
            },
            "colorscale": [
             [
              0,
              "#0d0887"
             ],
             [
              0.1111111111111111,
              "#46039f"
             ],
             [
              0.2222222222222222,
              "#7201a8"
             ],
             [
              0.3333333333333333,
              "#9c179e"
             ],
             [
              0.4444444444444444,
              "#bd3786"
             ],
             [
              0.5555555555555556,
              "#d8576b"
             ],
             [
              0.6666666666666666,
              "#ed7953"
             ],
             [
              0.7777777777777778,
              "#fb9f3a"
             ],
             [
              0.8888888888888888,
              "#fdca26"
             ],
             [
              1,
              "#f0f921"
             ]
            ],
            "type": "heatmap"
           }
          ],
          "histogram": [
           {
            "marker": {
             "pattern": {
              "fillmode": "overlay",
              "size": 10,
              "solidity": 0.2
             }
            },
            "type": "histogram"
           }
          ],
          "histogram2d": [
           {
            "colorbar": {
             "outlinewidth": 0,
             "ticks": ""
            },
            "colorscale": [
             [
              0,
              "#0d0887"
             ],
             [
              0.1111111111111111,
              "#46039f"
             ],
             [
              0.2222222222222222,
              "#7201a8"
             ],
             [
              0.3333333333333333,
              "#9c179e"
             ],
             [
              0.4444444444444444,
              "#bd3786"
             ],
             [
              0.5555555555555556,
              "#d8576b"
             ],
             [
              0.6666666666666666,
              "#ed7953"
             ],
             [
              0.7777777777777778,
              "#fb9f3a"
             ],
             [
              0.8888888888888888,
              "#fdca26"
             ],
             [
              1,
              "#f0f921"
             ]
            ],
            "type": "histogram2d"
           }
          ],
          "histogram2dcontour": [
           {
            "colorbar": {
             "outlinewidth": 0,
             "ticks": ""
            },
            "colorscale": [
             [
              0,
              "#0d0887"
             ],
             [
              0.1111111111111111,
              "#46039f"
             ],
             [
              0.2222222222222222,
              "#7201a8"
             ],
             [
              0.3333333333333333,
              "#9c179e"
             ],
             [
              0.4444444444444444,
              "#bd3786"
             ],
             [
              0.5555555555555556,
              "#d8576b"
             ],
             [
              0.6666666666666666,
              "#ed7953"
             ],
             [
              0.7777777777777778,
              "#fb9f3a"
             ],
             [
              0.8888888888888888,
              "#fdca26"
             ],
             [
              1,
              "#f0f921"
             ]
            ],
            "type": "histogram2dcontour"
           }
          ],
          "mesh3d": [
           {
            "colorbar": {
             "outlinewidth": 0,
             "ticks": ""
            },
            "type": "mesh3d"
           }
          ],
          "parcoords": [
           {
            "line": {
             "colorbar": {
              "outlinewidth": 0,
              "ticks": ""
             }
            },
            "type": "parcoords"
           }
          ],
          "pie": [
           {
            "automargin": true,
            "type": "pie"
           }
          ],
          "scatter": [
           {
            "marker": {
             "line": {
              "color": "#283442"
             }
            },
            "type": "scatter"
           }
          ],
          "scatter3d": [
           {
            "line": {
             "colorbar": {
              "outlinewidth": 0,
              "ticks": ""
             }
            },
            "marker": {
             "colorbar": {
              "outlinewidth": 0,
              "ticks": ""
             }
            },
            "type": "scatter3d"
           }
          ],
          "scattercarpet": [
           {
            "marker": {
             "colorbar": {
              "outlinewidth": 0,
              "ticks": ""
             }
            },
            "type": "scattercarpet"
           }
          ],
          "scattergeo": [
           {
            "marker": {
             "colorbar": {
              "outlinewidth": 0,
              "ticks": ""
             }
            },
            "type": "scattergeo"
           }
          ],
          "scattergl": [
           {
            "marker": {
             "line": {
              "color": "#283442"
             }
            },
            "type": "scattergl"
           }
          ],
          "scattermap": [
           {
            "marker": {
             "colorbar": {
              "outlinewidth": 0,
              "ticks": ""
             }
            },
            "type": "scattermap"
           }
          ],
          "scattermapbox": [
           {
            "marker": {
             "colorbar": {
              "outlinewidth": 0,
              "ticks": ""
             }
            },
            "type": "scattermapbox"
           }
          ],
          "scatterpolar": [
           {
            "marker": {
             "colorbar": {
              "outlinewidth": 0,
              "ticks": ""
             }
            },
            "type": "scatterpolar"
           }
          ],
          "scatterpolargl": [
           {
            "marker": {
             "colorbar": {
              "outlinewidth": 0,
              "ticks": ""
             }
            },
            "type": "scatterpolargl"
           }
          ],
          "scatterternary": [
           {
            "marker": {
             "colorbar": {
              "outlinewidth": 0,
              "ticks": ""
             }
            },
            "type": "scatterternary"
           }
          ],
          "surface": [
           {
            "colorbar": {
             "outlinewidth": 0,
             "ticks": ""
            },
            "colorscale": [
             [
              0,
              "#0d0887"
             ],
             [
              0.1111111111111111,
              "#46039f"
             ],
             [
              0.2222222222222222,
              "#7201a8"
             ],
             [
              0.3333333333333333,
              "#9c179e"
             ],
             [
              0.4444444444444444,
              "#bd3786"
             ],
             [
              0.5555555555555556,
              "#d8576b"
             ],
             [
              0.6666666666666666,
              "#ed7953"
             ],
             [
              0.7777777777777778,
              "#fb9f3a"
             ],
             [
              0.8888888888888888,
              "#fdca26"
             ],
             [
              1,
              "#f0f921"
             ]
            ],
            "type": "surface"
           }
          ],
          "table": [
           {
            "cells": {
             "fill": {
              "color": "#506784"
             },
             "line": {
              "color": "rgb(17,17,17)"
             }
            },
            "header": {
             "fill": {
              "color": "#2a3f5f"
             },
             "line": {
              "color": "rgb(17,17,17)"
             }
            },
            "type": "table"
           }
          ]
         },
         "layout": {
          "annotationdefaults": {
           "arrowcolor": "#f2f5fa",
           "arrowhead": 0,
           "arrowwidth": 1
          },
          "autotypenumbers": "strict",
          "coloraxis": {
           "colorbar": {
            "outlinewidth": 0,
            "ticks": ""
           }
          },
          "colorscale": {
           "diverging": [
            [
             0,
             "#8e0152"
            ],
            [
             0.1,
             "#c51b7d"
            ],
            [
             0.2,
             "#de77ae"
            ],
            [
             0.3,
             "#f1b6da"
            ],
            [
             0.4,
             "#fde0ef"
            ],
            [
             0.5,
             "#f7f7f7"
            ],
            [
             0.6,
             "#e6f5d0"
            ],
            [
             0.7,
             "#b8e186"
            ],
            [
             0.8,
             "#7fbc41"
            ],
            [
             0.9,
             "#4d9221"
            ],
            [
             1,
             "#276419"
            ]
           ],
           "sequential": [
            [
             0,
             "#0d0887"
            ],
            [
             0.1111111111111111,
             "#46039f"
            ],
            [
             0.2222222222222222,
             "#7201a8"
            ],
            [
             0.3333333333333333,
             "#9c179e"
            ],
            [
             0.4444444444444444,
             "#bd3786"
            ],
            [
             0.5555555555555556,
             "#d8576b"
            ],
            [
             0.6666666666666666,
             "#ed7953"
            ],
            [
             0.7777777777777778,
             "#fb9f3a"
            ],
            [
             0.8888888888888888,
             "#fdca26"
            ],
            [
             1,
             "#f0f921"
            ]
           ],
           "sequentialminus": [
            [
             0,
             "#0d0887"
            ],
            [
             0.1111111111111111,
             "#46039f"
            ],
            [
             0.2222222222222222,
             "#7201a8"
            ],
            [
             0.3333333333333333,
             "#9c179e"
            ],
            [
             0.4444444444444444,
             "#bd3786"
            ],
            [
             0.5555555555555556,
             "#d8576b"
            ],
            [
             0.6666666666666666,
             "#ed7953"
            ],
            [
             0.7777777777777778,
             "#fb9f3a"
            ],
            [
             0.8888888888888888,
             "#fdca26"
            ],
            [
             1,
             "#f0f921"
            ]
           ]
          },
          "colorway": [
           "#636efa",
           "#EF553B",
           "#00cc96",
           "#ab63fa",
           "#FFA15A",
           "#19d3f3",
           "#FF6692",
           "#B6E880",
           "#FF97FF",
           "#FECB52"
          ],
          "font": {
           "color": "#f2f5fa"
          },
          "geo": {
           "bgcolor": "rgb(17,17,17)",
           "lakecolor": "rgb(17,17,17)",
           "landcolor": "rgb(17,17,17)",
           "showlakes": true,
           "showland": true,
           "subunitcolor": "#506784"
          },
          "hoverlabel": {
           "align": "left"
          },
          "hovermode": "closest",
          "mapbox": {
           "style": "dark"
          },
          "paper_bgcolor": "rgb(17,17,17)",
          "plot_bgcolor": "rgb(17,17,17)",
          "polar": {
           "angularaxis": {
            "gridcolor": "#506784",
            "linecolor": "#506784",
            "ticks": ""
           },
           "bgcolor": "rgb(17,17,17)",
           "radialaxis": {
            "gridcolor": "#506784",
            "linecolor": "#506784",
            "ticks": ""
           }
          },
          "scene": {
           "xaxis": {
            "backgroundcolor": "rgb(17,17,17)",
            "gridcolor": "#506784",
            "gridwidth": 2,
            "linecolor": "#506784",
            "showbackground": true,
            "ticks": "",
            "zerolinecolor": "#C8D4E3"
           },
           "yaxis": {
            "backgroundcolor": "rgb(17,17,17)",
            "gridcolor": "#506784",
            "gridwidth": 2,
            "linecolor": "#506784",
            "showbackground": true,
            "ticks": "",
            "zerolinecolor": "#C8D4E3"
           },
           "zaxis": {
            "backgroundcolor": "rgb(17,17,17)",
            "gridcolor": "#506784",
            "gridwidth": 2,
            "linecolor": "#506784",
            "showbackground": true,
            "ticks": "",
            "zerolinecolor": "#C8D4E3"
           }
          },
          "shapedefaults": {
           "line": {
            "color": "#f2f5fa"
           }
          },
          "sliderdefaults": {
           "bgcolor": "#C8D4E3",
           "bordercolor": "rgb(17,17,17)",
           "borderwidth": 1,
           "tickwidth": 0
          },
          "ternary": {
           "aaxis": {
            "gridcolor": "#506784",
            "linecolor": "#506784",
            "ticks": ""
           },
           "baxis": {
            "gridcolor": "#506784",
            "linecolor": "#506784",
            "ticks": ""
           },
           "bgcolor": "rgb(17,17,17)",
           "caxis": {
            "gridcolor": "#506784",
            "linecolor": "#506784",
            "ticks": ""
           }
          },
          "title": {
           "x": 0.05
          },
          "updatemenudefaults": {
           "bgcolor": "#506784",
           "borderwidth": 0
          },
          "xaxis": {
           "automargin": true,
           "gridcolor": "#283442",
           "linecolor": "#506784",
           "ticks": "",
           "title": {
            "standoff": 15
           },
           "zerolinecolor": "#283442",
           "zerolinewidth": 2
          },
          "yaxis": {
           "automargin": true,
           "gridcolor": "#283442",
           "linecolor": "#506784",
           "ticks": "",
           "title": {
            "standoff": 15
           },
           "zerolinecolor": "#283442",
           "zerolinewidth": 2
          }
         }
        },
        "title": {
         "text": "Total Profit Per Month"
        },
        "xaxis": {
         "anchor": "y",
         "domain": [
          0,
          1
         ],
         "tickangle": -45,
         "title": {
          "text": "Month"
         }
        },
        "yaxis": {
         "anchor": "x",
         "domain": [
          0,
          1
         ],
         "title": {
          "text": "Total Profit"
         }
        }
       }
      }
     },
     "metadata": {},
     "output_type": "display_data"
    },
    {
     "data": {
      "application/vnd.plotly.v1+json": {
       "config": {
        "plotlyServerURL": "https://plot.ly"
       },
       "data": [
        {
         "hovertemplate": "Year=%{x}<br>Total Profit=%{y}<extra></extra>",
         "legendgroup": "",
         "marker": {
          "color": "#EF553B",
          "pattern": {
           "shape": ""
          }
         },
         "name": "",
         "orientation": "v",
         "showlegend": false,
         "textposition": "auto",
         "type": "bar",
         "x": {
          "bdata": "6QcAAA==",
          "dtype": "i4"
         },
         "xaxis": "x",
         "y": {
          "bdata": "AAAAAADtykA=",
          "dtype": "f8"
         },
         "yaxis": "y"
        }
       ],
       "layout": {
        "barmode": "relative",
        "legend": {
         "tracegroupgap": 0
        },
        "template": {
         "data": {
          "bar": [
           {
            "error_x": {
             "color": "#f2f5fa"
            },
            "error_y": {
             "color": "#f2f5fa"
            },
            "marker": {
             "line": {
              "color": "rgb(17,17,17)",
              "width": 0.5
             },
             "pattern": {
              "fillmode": "overlay",
              "size": 10,
              "solidity": 0.2
             }
            },
            "type": "bar"
           }
          ],
          "barpolar": [
           {
            "marker": {
             "line": {
              "color": "rgb(17,17,17)",
              "width": 0.5
             },
             "pattern": {
              "fillmode": "overlay",
              "size": 10,
              "solidity": 0.2
             }
            },
            "type": "barpolar"
           }
          ],
          "carpet": [
           {
            "aaxis": {
             "endlinecolor": "#A2B1C6",
             "gridcolor": "#506784",
             "linecolor": "#506784",
             "minorgridcolor": "#506784",
             "startlinecolor": "#A2B1C6"
            },
            "baxis": {
             "endlinecolor": "#A2B1C6",
             "gridcolor": "#506784",
             "linecolor": "#506784",
             "minorgridcolor": "#506784",
             "startlinecolor": "#A2B1C6"
            },
            "type": "carpet"
           }
          ],
          "choropleth": [
           {
            "colorbar": {
             "outlinewidth": 0,
             "ticks": ""
            },
            "type": "choropleth"
           }
          ],
          "contour": [
           {
            "colorbar": {
             "outlinewidth": 0,
             "ticks": ""
            },
            "colorscale": [
             [
              0,
              "#0d0887"
             ],
             [
              0.1111111111111111,
              "#46039f"
             ],
             [
              0.2222222222222222,
              "#7201a8"
             ],
             [
              0.3333333333333333,
              "#9c179e"
             ],
             [
              0.4444444444444444,
              "#bd3786"
             ],
             [
              0.5555555555555556,
              "#d8576b"
             ],
             [
              0.6666666666666666,
              "#ed7953"
             ],
             [
              0.7777777777777778,
              "#fb9f3a"
             ],
             [
              0.8888888888888888,
              "#fdca26"
             ],
             [
              1,
              "#f0f921"
             ]
            ],
            "type": "contour"
           }
          ],
          "contourcarpet": [
           {
            "colorbar": {
             "outlinewidth": 0,
             "ticks": ""
            },
            "type": "contourcarpet"
           }
          ],
          "heatmap": [
           {
            "colorbar": {
             "outlinewidth": 0,
             "ticks": ""
            },
            "colorscale": [
             [
              0,
              "#0d0887"
             ],
             [
              0.1111111111111111,
              "#46039f"
             ],
             [
              0.2222222222222222,
              "#7201a8"
             ],
             [
              0.3333333333333333,
              "#9c179e"
             ],
             [
              0.4444444444444444,
              "#bd3786"
             ],
             [
              0.5555555555555556,
              "#d8576b"
             ],
             [
              0.6666666666666666,
              "#ed7953"
             ],
             [
              0.7777777777777778,
              "#fb9f3a"
             ],
             [
              0.8888888888888888,
              "#fdca26"
             ],
             [
              1,
              "#f0f921"
             ]
            ],
            "type": "heatmap"
           }
          ],
          "histogram": [
           {
            "marker": {
             "pattern": {
              "fillmode": "overlay",
              "size": 10,
              "solidity": 0.2
             }
            },
            "type": "histogram"
           }
          ],
          "histogram2d": [
           {
            "colorbar": {
             "outlinewidth": 0,
             "ticks": ""
            },
            "colorscale": [
             [
              0,
              "#0d0887"
             ],
             [
              0.1111111111111111,
              "#46039f"
             ],
             [
              0.2222222222222222,
              "#7201a8"
             ],
             [
              0.3333333333333333,
              "#9c179e"
             ],
             [
              0.4444444444444444,
              "#bd3786"
             ],
             [
              0.5555555555555556,
              "#d8576b"
             ],
             [
              0.6666666666666666,
              "#ed7953"
             ],
             [
              0.7777777777777778,
              "#fb9f3a"
             ],
             [
              0.8888888888888888,
              "#fdca26"
             ],
             [
              1,
              "#f0f921"
             ]
            ],
            "type": "histogram2d"
           }
          ],
          "histogram2dcontour": [
           {
            "colorbar": {
             "outlinewidth": 0,
             "ticks": ""
            },
            "colorscale": [
             [
              0,
              "#0d0887"
             ],
             [
              0.1111111111111111,
              "#46039f"
             ],
             [
              0.2222222222222222,
              "#7201a8"
             ],
             [
              0.3333333333333333,
              "#9c179e"
             ],
             [
              0.4444444444444444,
              "#bd3786"
             ],
             [
              0.5555555555555556,
              "#d8576b"
             ],
             [
              0.6666666666666666,
              "#ed7953"
             ],
             [
              0.7777777777777778,
              "#fb9f3a"
             ],
             [
              0.8888888888888888,
              "#fdca26"
             ],
             [
              1,
              "#f0f921"
             ]
            ],
            "type": "histogram2dcontour"
           }
          ],
          "mesh3d": [
           {
            "colorbar": {
             "outlinewidth": 0,
             "ticks": ""
            },
            "type": "mesh3d"
           }
          ],
          "parcoords": [
           {
            "line": {
             "colorbar": {
              "outlinewidth": 0,
              "ticks": ""
             }
            },
            "type": "parcoords"
           }
          ],
          "pie": [
           {
            "automargin": true,
            "type": "pie"
           }
          ],
          "scatter": [
           {
            "marker": {
             "line": {
              "color": "#283442"
             }
            },
            "type": "scatter"
           }
          ],
          "scatter3d": [
           {
            "line": {
             "colorbar": {
              "outlinewidth": 0,
              "ticks": ""
             }
            },
            "marker": {
             "colorbar": {
              "outlinewidth": 0,
              "ticks": ""
             }
            },
            "type": "scatter3d"
           }
          ],
          "scattercarpet": [
           {
            "marker": {
             "colorbar": {
              "outlinewidth": 0,
              "ticks": ""
             }
            },
            "type": "scattercarpet"
           }
          ],
          "scattergeo": [
           {
            "marker": {
             "colorbar": {
              "outlinewidth": 0,
              "ticks": ""
             }
            },
            "type": "scattergeo"
           }
          ],
          "scattergl": [
           {
            "marker": {
             "line": {
              "color": "#283442"
             }
            },
            "type": "scattergl"
           }
          ],
          "scattermap": [
           {
            "marker": {
             "colorbar": {
              "outlinewidth": 0,
              "ticks": ""
             }
            },
            "type": "scattermap"
           }
          ],
          "scattermapbox": [
           {
            "marker": {
             "colorbar": {
              "outlinewidth": 0,
              "ticks": ""
             }
            },
            "type": "scattermapbox"
           }
          ],
          "scatterpolar": [
           {
            "marker": {
             "colorbar": {
              "outlinewidth": 0,
              "ticks": ""
             }
            },
            "type": "scatterpolar"
           }
          ],
          "scatterpolargl": [
           {
            "marker": {
             "colorbar": {
              "outlinewidth": 0,
              "ticks": ""
             }
            },
            "type": "scatterpolargl"
           }
          ],
          "scatterternary": [
           {
            "marker": {
             "colorbar": {
              "outlinewidth": 0,
              "ticks": ""
             }
            },
            "type": "scatterternary"
           }
          ],
          "surface": [
           {
            "colorbar": {
             "outlinewidth": 0,
             "ticks": ""
            },
            "colorscale": [
             [
              0,
              "#0d0887"
             ],
             [
              0.1111111111111111,
              "#46039f"
             ],
             [
              0.2222222222222222,
              "#7201a8"
             ],
             [
              0.3333333333333333,
              "#9c179e"
             ],
             [
              0.4444444444444444,
              "#bd3786"
             ],
             [
              0.5555555555555556,
              "#d8576b"
             ],
             [
              0.6666666666666666,
              "#ed7953"
             ],
             [
              0.7777777777777778,
              "#fb9f3a"
             ],
             [
              0.8888888888888888,
              "#fdca26"
             ],
             [
              1,
              "#f0f921"
             ]
            ],
            "type": "surface"
           }
          ],
          "table": [
           {
            "cells": {
             "fill": {
              "color": "#506784"
             },
             "line": {
              "color": "rgb(17,17,17)"
             }
            },
            "header": {
             "fill": {
              "color": "#2a3f5f"
             },
             "line": {
              "color": "rgb(17,17,17)"
             }
            },
            "type": "table"
           }
          ]
         },
         "layout": {
          "annotationdefaults": {
           "arrowcolor": "#f2f5fa",
           "arrowhead": 0,
           "arrowwidth": 1
          },
          "autotypenumbers": "strict",
          "coloraxis": {
           "colorbar": {
            "outlinewidth": 0,
            "ticks": ""
           }
          },
          "colorscale": {
           "diverging": [
            [
             0,
             "#8e0152"
            ],
            [
             0.1,
             "#c51b7d"
            ],
            [
             0.2,
             "#de77ae"
            ],
            [
             0.3,
             "#f1b6da"
            ],
            [
             0.4,
             "#fde0ef"
            ],
            [
             0.5,
             "#f7f7f7"
            ],
            [
             0.6,
             "#e6f5d0"
            ],
            [
             0.7,
             "#b8e186"
            ],
            [
             0.8,
             "#7fbc41"
            ],
            [
             0.9,
             "#4d9221"
            ],
            [
             1,
             "#276419"
            ]
           ],
           "sequential": [
            [
             0,
             "#0d0887"
            ],
            [
             0.1111111111111111,
             "#46039f"
            ],
            [
             0.2222222222222222,
             "#7201a8"
            ],
            [
             0.3333333333333333,
             "#9c179e"
            ],
            [
             0.4444444444444444,
             "#bd3786"
            ],
            [
             0.5555555555555556,
             "#d8576b"
            ],
            [
             0.6666666666666666,
             "#ed7953"
            ],
            [
             0.7777777777777778,
             "#fb9f3a"
            ],
            [
             0.8888888888888888,
             "#fdca26"
            ],
            [
             1,
             "#f0f921"
            ]
           ],
           "sequentialminus": [
            [
             0,
             "#0d0887"
            ],
            [
             0.1111111111111111,
             "#46039f"
            ],
            [
             0.2222222222222222,
             "#7201a8"
            ],
            [
             0.3333333333333333,
             "#9c179e"
            ],
            [
             0.4444444444444444,
             "#bd3786"
            ],
            [
             0.5555555555555556,
             "#d8576b"
            ],
            [
             0.6666666666666666,
             "#ed7953"
            ],
            [
             0.7777777777777778,
             "#fb9f3a"
            ],
            [
             0.8888888888888888,
             "#fdca26"
            ],
            [
             1,
             "#f0f921"
            ]
           ]
          },
          "colorway": [
           "#636efa",
           "#EF553B",
           "#00cc96",
           "#ab63fa",
           "#FFA15A",
           "#19d3f3",
           "#FF6692",
           "#B6E880",
           "#FF97FF",
           "#FECB52"
          ],
          "font": {
           "color": "#f2f5fa"
          },
          "geo": {
           "bgcolor": "rgb(17,17,17)",
           "lakecolor": "rgb(17,17,17)",
           "landcolor": "rgb(17,17,17)",
           "showlakes": true,
           "showland": true,
           "subunitcolor": "#506784"
          },
          "hoverlabel": {
           "align": "left"
          },
          "hovermode": "closest",
          "mapbox": {
           "style": "dark"
          },
          "paper_bgcolor": "rgb(17,17,17)",
          "plot_bgcolor": "rgb(17,17,17)",
          "polar": {
           "angularaxis": {
            "gridcolor": "#506784",
            "linecolor": "#506784",
            "ticks": ""
           },
           "bgcolor": "rgb(17,17,17)",
           "radialaxis": {
            "gridcolor": "#506784",
            "linecolor": "#506784",
            "ticks": ""
           }
          },
          "scene": {
           "xaxis": {
            "backgroundcolor": "rgb(17,17,17)",
            "gridcolor": "#506784",
            "gridwidth": 2,
            "linecolor": "#506784",
            "showbackground": true,
            "ticks": "",
            "zerolinecolor": "#C8D4E3"
           },
           "yaxis": {
            "backgroundcolor": "rgb(17,17,17)",
            "gridcolor": "#506784",
            "gridwidth": 2,
            "linecolor": "#506784",
            "showbackground": true,
            "ticks": "",
            "zerolinecolor": "#C8D4E3"
           },
           "zaxis": {
            "backgroundcolor": "rgb(17,17,17)",
            "gridcolor": "#506784",
            "gridwidth": 2,
            "linecolor": "#506784",
            "showbackground": true,
            "ticks": "",
            "zerolinecolor": "#C8D4E3"
           }
          },
          "shapedefaults": {
           "line": {
            "color": "#f2f5fa"
           }
          },
          "sliderdefaults": {
           "bgcolor": "#C8D4E3",
           "bordercolor": "rgb(17,17,17)",
           "borderwidth": 1,
           "tickwidth": 0
          },
          "ternary": {
           "aaxis": {
            "gridcolor": "#506784",
            "linecolor": "#506784",
            "ticks": ""
           },
           "baxis": {
            "gridcolor": "#506784",
            "linecolor": "#506784",
            "ticks": ""
           },
           "bgcolor": "rgb(17,17,17)",
           "caxis": {
            "gridcolor": "#506784",
            "linecolor": "#506784",
            "ticks": ""
           }
          },
          "title": {
           "x": 0.05
          },
          "updatemenudefaults": {
           "bgcolor": "#506784",
           "borderwidth": 0
          },
          "xaxis": {
           "automargin": true,
           "gridcolor": "#283442",
           "linecolor": "#506784",
           "ticks": "",
           "title": {
            "standoff": 15
           },
           "zerolinecolor": "#283442",
           "zerolinewidth": 2
          },
          "yaxis": {
           "automargin": true,
           "gridcolor": "#283442",
           "linecolor": "#506784",
           "ticks": "",
           "title": {
            "standoff": 15
           },
           "zerolinecolor": "#283442",
           "zerolinewidth": 2
          }
         }
        },
        "title": {
         "text": "Total Profit Per Year"
        },
        "xaxis": {
         "anchor": "y",
         "domain": [
          0,
          1
         ],
         "title": {
          "text": "Year"
         },
         "type": "category"
        },
        "yaxis": {
         "anchor": "x",
         "domain": [
          0,
          1
         ],
         "title": {
          "text": "Total Profit"
         }
        }
       }
      }
     },
     "metadata": {},
     "output_type": "display_data"
    },
    {
     "data": {
      "text/html": [
       "<div>\n",
       "<style scoped>\n",
       "    .dataframe tbody tr th:only-of-type {\n",
       "        vertical-align: middle;\n",
       "    }\n",
       "\n",
       "    .dataframe tbody tr th {\n",
       "        vertical-align: top;\n",
       "    }\n",
       "\n",
       "    .dataframe thead th {\n",
       "        text-align: right;\n",
       "    }\n",
       "</style>\n",
       "<table border=\"1\" class=\"dataframe\">\n",
       "  <thead>\n",
       "    <tr style=\"text-align: right;\">\n",
       "      <th></th>\n",
       "      <th>state</th>\n",
       "      <th>symbol</th>\n",
       "      <th>order_type</th>\n",
       "      <th>volume</th>\n",
       "      <th>open_time</th>\n",
       "      <th>open_price</th>\n",
       "      <th>close_time</th>\n",
       "      <th>close_price</th>\n",
       "      <th>sl</th>\n",
       "      <th>tp</th>\n",
       "      <th>...</th>\n",
       "      <th>profit</th>\n",
       "      <th>commission</th>\n",
       "      <th>profit_net</th>\n",
       "      <th>profit_cumulative</th>\n",
       "      <th>balance</th>\n",
       "      <th>date</th>\n",
       "      <th>time</th>\n",
       "      <th>intrabar_drawdown</th>\n",
       "      <th>current_max</th>\n",
       "      <th>drawdown</th>\n",
       "    </tr>\n",
       "  </thead>\n",
       "  <tbody>\n",
       "    <tr>\n",
       "      <th>0</th>\n",
       "      <td>closed</td>\n",
       "      <td>EURUSD</td>\n",
       "      <td>buy</td>\n",
       "      <td>100000</td>\n",
       "      <td>2025-07-01 20:00:00</td>\n",
       "      <td>1.17654</td>\n",
       "      <td>2025-07-01 20:01:00</td>\n",
       "      <td>1.17686</td>\n",
       "      <td>0</td>\n",
       "      <td>0</td>\n",
       "      <td>...</td>\n",
       "      <td>32.0</td>\n",
       "      <td>-7.0</td>\n",
       "      <td>25.0</td>\n",
       "      <td>25.0</td>\n",
       "      <td>10025.0</td>\n",
       "      <td>2025-07-01</td>\n",
       "      <td>2025-07-01 20:01:00</td>\n",
       "      <td>0.0</td>\n",
       "      <td>25.0</td>\n",
       "      <td>0.0</td>\n",
       "    </tr>\n",
       "    <tr>\n",
       "      <th>1</th>\n",
       "      <td>closed</td>\n",
       "      <td>EURUSD</td>\n",
       "      <td>buy</td>\n",
       "      <td>100000</td>\n",
       "      <td>2025-07-01 21:38:00</td>\n",
       "      <td>1.17772</td>\n",
       "      <td>2025-07-01 21:39:00</td>\n",
       "      <td>1.17777</td>\n",
       "      <td>0</td>\n",
       "      <td>0</td>\n",
       "      <td>...</td>\n",
       "      <td>5.0</td>\n",
       "      <td>-7.0</td>\n",
       "      <td>-2.0</td>\n",
       "      <td>23.0</td>\n",
       "      <td>10023.0</td>\n",
       "      <td>2025-07-01</td>\n",
       "      <td>2025-07-01 21:39:00</td>\n",
       "      <td>-1.0</td>\n",
       "      <td>25.0</td>\n",
       "      <td>-2.0</td>\n",
       "    </tr>\n",
       "    <tr>\n",
       "      <th>2</th>\n",
       "      <td>closed</td>\n",
       "      <td>EURUSD</td>\n",
       "      <td>buy</td>\n",
       "      <td>100000</td>\n",
       "      <td>2025-07-02 12:31:00</td>\n",
       "      <td>1.1768</td>\n",
       "      <td>2025-07-02 12:32:00</td>\n",
       "      <td>1.17683</td>\n",
       "      <td>0</td>\n",
       "      <td>0</td>\n",
       "      <td>...</td>\n",
       "      <td>3.0</td>\n",
       "      <td>-7.0</td>\n",
       "      <td>-4.0</td>\n",
       "      <td>19.0</td>\n",
       "      <td>10019.0</td>\n",
       "      <td>2025-07-02</td>\n",
       "      <td>2025-07-02 12:32:00</td>\n",
       "      <td>-7.0</td>\n",
       "      <td>25.0</td>\n",
       "      <td>-6.0</td>\n",
       "    </tr>\n",
       "    <tr>\n",
       "      <th>3</th>\n",
       "      <td>closed</td>\n",
       "      <td>EURUSD</td>\n",
       "      <td>buy</td>\n",
       "      <td>100000</td>\n",
       "      <td>2025-07-02 12:48:00</td>\n",
       "      <td>1.17708</td>\n",
       "      <td>2025-07-02 12:49:00</td>\n",
       "      <td>1.17714</td>\n",
       "      <td>0</td>\n",
       "      <td>0</td>\n",
       "      <td>...</td>\n",
       "      <td>6.0</td>\n",
       "      <td>-7.0</td>\n",
       "      <td>-1.0</td>\n",
       "      <td>18.0</td>\n",
       "      <td>10018.0</td>\n",
       "      <td>2025-07-02</td>\n",
       "      <td>2025-07-02 12:49:00</td>\n",
       "      <td>0.0</td>\n",
       "      <td>25.0</td>\n",
       "      <td>-7.0</td>\n",
       "    </tr>\n",
       "    <tr>\n",
       "      <th>4</th>\n",
       "      <td>closed</td>\n",
       "      <td>EURUSD</td>\n",
       "      <td>buy</td>\n",
       "      <td>100000</td>\n",
       "      <td>2025-07-02 13:25:00</td>\n",
       "      <td>1.17749</td>\n",
       "      <td>2025-07-02 13:26:00</td>\n",
       "      <td>1.17751</td>\n",
       "      <td>0</td>\n",
       "      <td>0</td>\n",
       "      <td>...</td>\n",
       "      <td>2.0</td>\n",
       "      <td>-7.0</td>\n",
       "      <td>-5.0</td>\n",
       "      <td>13.0</td>\n",
       "      <td>10013.0</td>\n",
       "      <td>2025-07-02</td>\n",
       "      <td>2025-07-02 13:26:00</td>\n",
       "      <td>-6.0</td>\n",
       "      <td>25.0</td>\n",
       "      <td>-12.0</td>\n",
       "    </tr>\n",
       "    <tr>\n",
       "      <th>...</th>\n",
       "      <td>...</td>\n",
       "      <td>...</td>\n",
       "      <td>...</td>\n",
       "      <td>...</td>\n",
       "      <td>...</td>\n",
       "      <td>...</td>\n",
       "      <td>...</td>\n",
       "      <td>...</td>\n",
       "      <td>...</td>\n",
       "      <td>...</td>\n",
       "      <td>...</td>\n",
       "      <td>...</td>\n",
       "      <td>...</td>\n",
       "      <td>...</td>\n",
       "      <td>...</td>\n",
       "      <td>...</td>\n",
       "      <td>...</td>\n",
       "      <td>...</td>\n",
       "      <td>...</td>\n",
       "      <td>...</td>\n",
       "      <td>...</td>\n",
       "    </tr>\n",
       "    <tr>\n",
       "      <th>996</th>\n",
       "      <td>closed</td>\n",
       "      <td>EURUSD</td>\n",
       "      <td>buy</td>\n",
       "      <td>100000</td>\n",
       "      <td>2025-08-20 05:55:00</td>\n",
       "      <td>1.16234</td>\n",
       "      <td>2025-08-20 05:56:00</td>\n",
       "      <td>1.1624</td>\n",
       "      <td>0</td>\n",
       "      <td>0</td>\n",
       "      <td>...</td>\n",
       "      <td>6.0</td>\n",
       "      <td>-7.0</td>\n",
       "      <td>-1.0</td>\n",
       "      <td>6896.0</td>\n",
       "      <td>16896.0</td>\n",
       "      <td>2025-08-20</td>\n",
       "      <td>2025-08-20 05:56:00</td>\n",
       "      <td>-7.0</td>\n",
       "      <td>7123.0</td>\n",
       "      <td>-227.0</td>\n",
       "    </tr>\n",
       "    <tr>\n",
       "      <th>997</th>\n",
       "      <td>closed</td>\n",
       "      <td>EURUSD</td>\n",
       "      <td>buy</td>\n",
       "      <td>100000</td>\n",
       "      <td>2025-08-20 06:27:00</td>\n",
       "      <td>1.16334</td>\n",
       "      <td>2025-08-20 06:28:00</td>\n",
       "      <td>1.16339</td>\n",
       "      <td>0</td>\n",
       "      <td>0</td>\n",
       "      <td>...</td>\n",
       "      <td>5.0</td>\n",
       "      <td>-7.0</td>\n",
       "      <td>-2.0</td>\n",
       "      <td>6894.0</td>\n",
       "      <td>16894.0</td>\n",
       "      <td>2025-08-20</td>\n",
       "      <td>2025-08-20 06:28:00</td>\n",
       "      <td>-1.0</td>\n",
       "      <td>7123.0</td>\n",
       "      <td>-229.0</td>\n",
       "    </tr>\n",
       "    <tr>\n",
       "      <th>1000</th>\n",
       "      <td>closed</td>\n",
       "      <td>EURUSD</td>\n",
       "      <td>buy</td>\n",
       "      <td>100000</td>\n",
       "      <td>2025-08-20 07:18:00</td>\n",
       "      <td>1.16356</td>\n",
       "      <td>2025-08-20 07:23:00</td>\n",
       "      <td>1.16357</td>\n",
       "      <td>0</td>\n",
       "      <td>0</td>\n",
       "      <td>...</td>\n",
       "      <td>1.0</td>\n",
       "      <td>-7.0</td>\n",
       "      <td>-6.0</td>\n",
       "      <td>6854.0</td>\n",
       "      <td>16854.0</td>\n",
       "      <td>2025-08-20</td>\n",
       "      <td>2025-08-20 07:23:00</td>\n",
       "      <td>-13.0</td>\n",
       "      <td>7123.0</td>\n",
       "      <td>-269.0</td>\n",
       "    </tr>\n",
       "    <tr>\n",
       "      <th>1002</th>\n",
       "      <td>closed</td>\n",
       "      <td>EURUSD</td>\n",
       "      <td>buy</td>\n",
       "      <td>100000</td>\n",
       "      <td>2025-08-20 07:56:00</td>\n",
       "      <td>1.16349</td>\n",
       "      <td>2025-08-20 07:57:00</td>\n",
       "      <td>1.16351</td>\n",
       "      <td>0</td>\n",
       "      <td>0</td>\n",
       "      <td>...</td>\n",
       "      <td>2.0</td>\n",
       "      <td>-7.0</td>\n",
       "      <td>-5.0</td>\n",
       "      <td>6840.0</td>\n",
       "      <td>16840.0</td>\n",
       "      <td>2025-08-20</td>\n",
       "      <td>2025-08-20 07:57:00</td>\n",
       "      <td>-4.0</td>\n",
       "      <td>7123.0</td>\n",
       "      <td>-283.0</td>\n",
       "    </tr>\n",
       "    <tr>\n",
       "      <th>1006</th>\n",
       "      <td>closed</td>\n",
       "      <td>EURUSD</td>\n",
       "      <td>buy</td>\n",
       "      <td>100000</td>\n",
       "      <td>2025-08-20 10:00:00</td>\n",
       "      <td>1.16335</td>\n",
       "      <td>2025-08-20 10:03:00</td>\n",
       "      <td>1.16368</td>\n",
       "      <td>0</td>\n",
       "      <td>0</td>\n",
       "      <td>...</td>\n",
       "      <td>33.0</td>\n",
       "      <td>-7.0</td>\n",
       "      <td>26.0</td>\n",
       "      <td>6737.0</td>\n",
       "      <td>16737.0</td>\n",
       "      <td>2025-08-20</td>\n",
       "      <td>2025-08-20 10:03:00</td>\n",
       "      <td>-1.0</td>\n",
       "      <td>7123.0</td>\n",
       "      <td>-386.0</td>\n",
       "    </tr>\n",
       "  </tbody>\n",
       "</table>\n",
       "<p>966 rows × 21 columns</p>\n",
       "</div>"
      ],
      "text/plain": [
       "       state  symbol order_type  volume           open_time open_price  \\\n",
       "0     closed  EURUSD        buy  100000 2025-07-01 20:00:00    1.17654   \n",
       "1     closed  EURUSD        buy  100000 2025-07-01 21:38:00    1.17772   \n",
       "2     closed  EURUSD        buy  100000 2025-07-02 12:31:00     1.1768   \n",
       "3     closed  EURUSD        buy  100000 2025-07-02 12:48:00    1.17708   \n",
       "4     closed  EURUSD        buy  100000 2025-07-02 13:25:00    1.17749   \n",
       "...      ...     ...        ...     ...                 ...        ...   \n",
       "996   closed  EURUSD        buy  100000 2025-08-20 05:55:00    1.16234   \n",
       "997   closed  EURUSD        buy  100000 2025-08-20 06:27:00    1.16334   \n",
       "1000  closed  EURUSD        buy  100000 2025-08-20 07:18:00    1.16356   \n",
       "1002  closed  EURUSD        buy  100000 2025-08-20 07:56:00    1.16349   \n",
       "1006  closed  EURUSD        buy  100000 2025-08-20 10:00:00    1.16335   \n",
       "\n",
       "              close_time close_price sl tp  ... profit  commission profit_net  \\\n",
       "0    2025-07-01 20:01:00     1.17686  0  0  ...   32.0        -7.0       25.0   \n",
       "1    2025-07-01 21:39:00     1.17777  0  0  ...    5.0        -7.0       -2.0   \n",
       "2    2025-07-02 12:32:00     1.17683  0  0  ...    3.0        -7.0       -4.0   \n",
       "3    2025-07-02 12:49:00     1.17714  0  0  ...    6.0        -7.0       -1.0   \n",
       "4    2025-07-02 13:26:00     1.17751  0  0  ...    2.0        -7.0       -5.0   \n",
       "...                  ...         ... .. ..  ...    ...         ...        ...   \n",
       "996  2025-08-20 05:56:00      1.1624  0  0  ...    6.0        -7.0       -1.0   \n",
       "997  2025-08-20 06:28:00     1.16339  0  0  ...    5.0        -7.0       -2.0   \n",
       "1000 2025-08-20 07:23:00     1.16357  0  0  ...    1.0        -7.0       -6.0   \n",
       "1002 2025-08-20 07:57:00     1.16351  0  0  ...    2.0        -7.0       -5.0   \n",
       "1006 2025-08-20 10:03:00     1.16368  0  0  ...   33.0        -7.0       26.0   \n",
       "\n",
       "     profit_cumulative  balance        date                time  \\\n",
       "0                 25.0  10025.0  2025-07-01 2025-07-01 20:01:00   \n",
       "1                 23.0  10023.0  2025-07-01 2025-07-01 21:39:00   \n",
       "2                 19.0  10019.0  2025-07-02 2025-07-02 12:32:00   \n",
       "3                 18.0  10018.0  2025-07-02 2025-07-02 12:49:00   \n",
       "4                 13.0  10013.0  2025-07-02 2025-07-02 13:26:00   \n",
       "...                ...      ...         ...                 ...   \n",
       "996             6896.0  16896.0  2025-08-20 2025-08-20 05:56:00   \n",
       "997             6894.0  16894.0  2025-08-20 2025-08-20 06:28:00   \n",
       "1000            6854.0  16854.0  2025-08-20 2025-08-20 07:23:00   \n",
       "1002            6840.0  16840.0  2025-08-20 2025-08-20 07:57:00   \n",
       "1006            6737.0  16737.0  2025-08-20 2025-08-20 10:03:00   \n",
       "\n",
       "     intrabar_drawdown  current_max  drawdown  \n",
       "0                  0.0         25.0       0.0  \n",
       "1                 -1.0         25.0      -2.0  \n",
       "2                 -7.0         25.0      -6.0  \n",
       "3                  0.0         25.0      -7.0  \n",
       "4                 -6.0         25.0     -12.0  \n",
       "...                ...          ...       ...  \n",
       "996               -7.0       7123.0    -227.0  \n",
       "997               -1.0       7123.0    -229.0  \n",
       "1000             -13.0       7123.0    -269.0  \n",
       "1002              -4.0       7123.0    -283.0  \n",
       "1006              -1.0       7123.0    -386.0  \n",
       "\n",
       "[966 rows x 21 columns]"
      ]
     },
     "metadata": {},
     "output_type": "display_data"
    },
    {
     "data": {
      "text/html": [
       "<div>\n",
       "<style scoped>\n",
       "    .dataframe tbody tr th:only-of-type {\n",
       "        vertical-align: middle;\n",
       "    }\n",
       "\n",
       "    .dataframe tbody tr th {\n",
       "        vertical-align: top;\n",
       "    }\n",
       "\n",
       "    .dataframe thead th {\n",
       "        text-align: right;\n",
       "    }\n",
       "</style>\n",
       "<table border=\"1\" class=\"dataframe\">\n",
       "  <thead>\n",
       "    <tr style=\"text-align: right;\">\n",
       "      <th></th>\n",
       "      <th>state</th>\n",
       "      <th>symbol</th>\n",
       "      <th>order_type</th>\n",
       "      <th>volume</th>\n",
       "      <th>open_time</th>\n",
       "      <th>open_price</th>\n",
       "      <th>close_time</th>\n",
       "      <th>close_price</th>\n",
       "      <th>sl</th>\n",
       "      <th>tp</th>\n",
       "      <th>...</th>\n",
       "      <th>profit</th>\n",
       "      <th>commission</th>\n",
       "      <th>profit_net</th>\n",
       "      <th>profit_cumulative</th>\n",
       "      <th>balance</th>\n",
       "      <th>date</th>\n",
       "      <th>time</th>\n",
       "      <th>intrabar_drawdown</th>\n",
       "      <th>current_max</th>\n",
       "      <th>drawdown</th>\n",
       "    </tr>\n",
       "  </thead>\n",
       "  <tbody>\n",
       "    <tr>\n",
       "      <th>164</th>\n",
       "      <td>closed</td>\n",
       "      <td>EURUSD</td>\n",
       "      <td>buy</td>\n",
       "      <td>100000</td>\n",
       "      <td>2025-07-09 18:38:00</td>\n",
       "      <td>1.17082</td>\n",
       "      <td>2025-07-09 18:39:00</td>\n",
       "      <td>1.17081</td>\n",
       "      <td>0</td>\n",
       "      <td>0</td>\n",
       "      <td>...</td>\n",
       "      <td>-1.0</td>\n",
       "      <td>-7.0</td>\n",
       "      <td>-8.0</td>\n",
       "      <td>854.0</td>\n",
       "      <td>10854.0</td>\n",
       "      <td>2025-07-09</td>\n",
       "      <td>2025-07-09 18:39:00</td>\n",
       "      <td>-11.0</td>\n",
       "      <td>862.0</td>\n",
       "      <td>-8.0</td>\n",
       "    </tr>\n",
       "    <tr>\n",
       "      <th>205</th>\n",
       "      <td>closed</td>\n",
       "      <td>EURUSD</td>\n",
       "      <td>buy</td>\n",
       "      <td>100000</td>\n",
       "      <td>2025-07-10 08:59:00</td>\n",
       "      <td>1.17391</td>\n",
       "      <td>2025-07-10 09:00:00</td>\n",
       "      <td>1.1739</td>\n",
       "      <td>0</td>\n",
       "      <td>0</td>\n",
       "      <td>...</td>\n",
       "      <td>-1.0</td>\n",
       "      <td>-7.0</td>\n",
       "      <td>-8.0</td>\n",
       "      <td>1054.0</td>\n",
       "      <td>11054.0</td>\n",
       "      <td>2025-07-10</td>\n",
       "      <td>2025-07-10 09:00:00</td>\n",
       "      <td>-22.0</td>\n",
       "      <td>1068.0</td>\n",
       "      <td>-14.0</td>\n",
       "    </tr>\n",
       "    <tr>\n",
       "      <th>457</th>\n",
       "      <td>closed</td>\n",
       "      <td>EURUSD</td>\n",
       "      <td>buy</td>\n",
       "      <td>100000</td>\n",
       "      <td>2025-07-16 23:12:00</td>\n",
       "      <td>1.1639</td>\n",
       "      <td>2025-07-17 00:00:00</td>\n",
       "      <td>1.16368</td>\n",
       "      <td>0</td>\n",
       "      <td>0</td>\n",
       "      <td>...</td>\n",
       "      <td>-22.0</td>\n",
       "      <td>-7.0</td>\n",
       "      <td>-29.0</td>\n",
       "      <td>2439.0</td>\n",
       "      <td>12439.0</td>\n",
       "      <td>2025-07-16</td>\n",
       "      <td>2025-07-17 00:00:00</td>\n",
       "      <td>-165.0</td>\n",
       "      <td>2468.0</td>\n",
       "      <td>-29.0</td>\n",
       "    </tr>\n",
       "    <tr>\n",
       "      <th>458</th>\n",
       "      <td>closed</td>\n",
       "      <td>EURUSD</td>\n",
       "      <td>buy</td>\n",
       "      <td>100000</td>\n",
       "      <td>2025-07-16 23:31:00</td>\n",
       "      <td>1.16389</td>\n",
       "      <td>2025-07-17 00:01:00</td>\n",
       "      <td>1.16347</td>\n",
       "      <td>0</td>\n",
       "      <td>0</td>\n",
       "      <td>...</td>\n",
       "      <td>-42.0</td>\n",
       "      <td>-7.0</td>\n",
       "      <td>-49.0</td>\n",
       "      <td>2390.0</td>\n",
       "      <td>12390.0</td>\n",
       "      <td>2025-07-16</td>\n",
       "      <td>2025-07-17 00:01:00</td>\n",
       "      <td>-164.0</td>\n",
       "      <td>2468.0</td>\n",
       "      <td>-78.0</td>\n",
       "    </tr>\n",
       "    <tr>\n",
       "      <th>459</th>\n",
       "      <td>closed</td>\n",
       "      <td>EURUSD</td>\n",
       "      <td>buy</td>\n",
       "      <td>100000</td>\n",
       "      <td>2025-07-17 01:01:00</td>\n",
       "      <td>1.16384</td>\n",
       "      <td>2025-07-17 02:51:00</td>\n",
       "      <td>1.16351</td>\n",
       "      <td>0</td>\n",
       "      <td>0</td>\n",
       "      <td>...</td>\n",
       "      <td>-33.0</td>\n",
       "      <td>-7.0</td>\n",
       "      <td>-40.0</td>\n",
       "      <td>2350.0</td>\n",
       "      <td>12350.0</td>\n",
       "      <td>2025-07-17</td>\n",
       "      <td>2025-07-17 02:51:00</td>\n",
       "      <td>-42.0</td>\n",
       "      <td>2468.0</td>\n",
       "      <td>-118.0</td>\n",
       "    </tr>\n",
       "    <tr>\n",
       "      <th>460</th>\n",
       "      <td>closed</td>\n",
       "      <td>EURUSD</td>\n",
       "      <td>buy</td>\n",
       "      <td>100000</td>\n",
       "      <td>2025-07-17 01:11:00</td>\n",
       "      <td>1.16407</td>\n",
       "      <td>2025-07-17 02:52:00</td>\n",
       "      <td>1.16352</td>\n",
       "      <td>0</td>\n",
       "      <td>0</td>\n",
       "      <td>...</td>\n",
       "      <td>-55.0</td>\n",
       "      <td>-7.0</td>\n",
       "      <td>-62.0</td>\n",
       "      <td>2288.0</td>\n",
       "      <td>12288.0</td>\n",
       "      <td>2025-07-17</td>\n",
       "      <td>2025-07-17 02:52:00</td>\n",
       "      <td>-74.0</td>\n",
       "      <td>2468.0</td>\n",
       "      <td>-180.0</td>\n",
       "    </tr>\n",
       "    <tr>\n",
       "      <th>461</th>\n",
       "      <td>closed</td>\n",
       "      <td>EURUSD</td>\n",
       "      <td>buy</td>\n",
       "      <td>100000</td>\n",
       "      <td>2025-07-17 01:46:00</td>\n",
       "      <td>1.1636</td>\n",
       "      <td>2025-07-17 02:53:00</td>\n",
       "      <td>1.16335</td>\n",
       "      <td>0</td>\n",
       "      <td>0</td>\n",
       "      <td>...</td>\n",
       "      <td>-25.0</td>\n",
       "      <td>-7.0</td>\n",
       "      <td>-32.0</td>\n",
       "      <td>2256.0</td>\n",
       "      <td>12256.0</td>\n",
       "      <td>2025-07-17</td>\n",
       "      <td>2025-07-17 02:53:00</td>\n",
       "      <td>-27.0</td>\n",
       "      <td>2468.0</td>\n",
       "      <td>-212.0</td>\n",
       "    </tr>\n",
       "    <tr>\n",
       "      <th>462</th>\n",
       "      <td>closed</td>\n",
       "      <td>EURUSD</td>\n",
       "      <td>buy</td>\n",
       "      <td>100000</td>\n",
       "      <td>2025-07-17 02:00:00</td>\n",
       "      <td>1.16363</td>\n",
       "      <td>2025-07-17 02:54:00</td>\n",
       "      <td>1.16339</td>\n",
       "      <td>0</td>\n",
       "      <td>0</td>\n",
       "      <td>...</td>\n",
       "      <td>-24.0</td>\n",
       "      <td>-7.0</td>\n",
       "      <td>-31.0</td>\n",
       "      <td>2225.0</td>\n",
       "      <td>12225.0</td>\n",
       "      <td>2025-07-17</td>\n",
       "      <td>2025-07-17 02:54:00</td>\n",
       "      <td>-30.0</td>\n",
       "      <td>2468.0</td>\n",
       "      <td>-243.0</td>\n",
       "    </tr>\n",
       "    <tr>\n",
       "      <th>463</th>\n",
       "      <td>closed</td>\n",
       "      <td>EURUSD</td>\n",
       "      <td>buy</td>\n",
       "      <td>100000</td>\n",
       "      <td>2025-07-17 02:08:00</td>\n",
       "      <td>1.16358</td>\n",
       "      <td>2025-07-17 02:55:00</td>\n",
       "      <td>1.16347</td>\n",
       "      <td>0</td>\n",
       "      <td>0</td>\n",
       "      <td>...</td>\n",
       "      <td>-11.0</td>\n",
       "      <td>-7.0</td>\n",
       "      <td>-18.0</td>\n",
       "      <td>2207.0</td>\n",
       "      <td>12207.0</td>\n",
       "      <td>2025-07-17</td>\n",
       "      <td>2025-07-17 02:55:00</td>\n",
       "      <td>-25.0</td>\n",
       "      <td>2468.0</td>\n",
       "      <td>-261.0</td>\n",
       "    </tr>\n",
       "    <tr>\n",
       "      <th>464</th>\n",
       "      <td>closed</td>\n",
       "      <td>EURUSD</td>\n",
       "      <td>buy</td>\n",
       "      <td>100000</td>\n",
       "      <td>2025-07-17 02:25:00</td>\n",
       "      <td>1.16393</td>\n",
       "      <td>2025-07-17 02:56:00</td>\n",
       "      <td>1.16345</td>\n",
       "      <td>0</td>\n",
       "      <td>0</td>\n",
       "      <td>...</td>\n",
       "      <td>-48.0</td>\n",
       "      <td>-7.0</td>\n",
       "      <td>-55.0</td>\n",
       "      <td>2152.0</td>\n",
       "      <td>12152.0</td>\n",
       "      <td>2025-07-17</td>\n",
       "      <td>2025-07-17 02:56:00</td>\n",
       "      <td>-60.0</td>\n",
       "      <td>2468.0</td>\n",
       "      <td>-316.0</td>\n",
       "    </tr>\n",
       "    <tr>\n",
       "      <th>465</th>\n",
       "      <td>closed</td>\n",
       "      <td>EURUSD</td>\n",
       "      <td>buy</td>\n",
       "      <td>100000</td>\n",
       "      <td>2025-07-17 02:42:00</td>\n",
       "      <td>1.16371</td>\n",
       "      <td>2025-07-17 02:57:00</td>\n",
       "      <td>1.16343</td>\n",
       "      <td>0</td>\n",
       "      <td>0</td>\n",
       "      <td>...</td>\n",
       "      <td>-28.0</td>\n",
       "      <td>-7.0</td>\n",
       "      <td>-35.0</td>\n",
       "      <td>2117.0</td>\n",
       "      <td>12117.0</td>\n",
       "      <td>2025-07-17</td>\n",
       "      <td>2025-07-17 02:57:00</td>\n",
       "      <td>-38.0</td>\n",
       "      <td>2468.0</td>\n",
       "      <td>-351.0</td>\n",
       "    </tr>\n",
       "    <tr>\n",
       "      <th>488</th>\n",
       "      <td>closed</td>\n",
       "      <td>EURUSD</td>\n",
       "      <td>buy</td>\n",
       "      <td>100000</td>\n",
       "      <td>2025-07-17 13:25:00</td>\n",
       "      <td>1.15877</td>\n",
       "      <td>2025-07-17 13:26:00</td>\n",
       "      <td>1.15876</td>\n",
       "      <td>0</td>\n",
       "      <td>0</td>\n",
       "      <td>...</td>\n",
       "      <td>-1.0</td>\n",
       "      <td>-7.0</td>\n",
       "      <td>-8.0</td>\n",
       "      <td>2182.0</td>\n",
       "      <td>12182.0</td>\n",
       "      <td>2025-07-17</td>\n",
       "      <td>2025-07-17 13:26:00</td>\n",
       "      <td>-13.0</td>\n",
       "      <td>2468.0</td>\n",
       "      <td>-286.0</td>\n",
       "    </tr>\n",
       "    <tr>\n",
       "      <th>539</th>\n",
       "      <td>closed</td>\n",
       "      <td>EURUSD</td>\n",
       "      <td>buy</td>\n",
       "      <td>100000</td>\n",
       "      <td>2025-07-18 11:18:00</td>\n",
       "      <td>1.1637</td>\n",
       "      <td>2025-07-18 12:00:00</td>\n",
       "      <td>1.16357</td>\n",
       "      <td>0</td>\n",
       "      <td>0</td>\n",
       "      <td>...</td>\n",
       "      <td>-13.0</td>\n",
       "      <td>-7.0</td>\n",
       "      <td>-20.0</td>\n",
       "      <td>2442.0</td>\n",
       "      <td>12442.0</td>\n",
       "      <td>2025-07-18</td>\n",
       "      <td>2025-07-18 12:00:00</td>\n",
       "      <td>-24.0</td>\n",
       "      <td>2468.0</td>\n",
       "      <td>-26.0</td>\n",
       "    </tr>\n",
       "    <tr>\n",
       "      <th>540</th>\n",
       "      <td>closed</td>\n",
       "      <td>EURUSD</td>\n",
       "      <td>buy</td>\n",
       "      <td>100000</td>\n",
       "      <td>2025-07-18 11:30:00</td>\n",
       "      <td>1.16391</td>\n",
       "      <td>2025-07-18 12:49:00</td>\n",
       "      <td>1.16371</td>\n",
       "      <td>0</td>\n",
       "      <td>0</td>\n",
       "      <td>...</td>\n",
       "      <td>-20.0</td>\n",
       "      <td>-7.0</td>\n",
       "      <td>-27.0</td>\n",
       "      <td>2415.0</td>\n",
       "      <td>12415.0</td>\n",
       "      <td>2025-07-18</td>\n",
       "      <td>2025-07-18 12:49:00</td>\n",
       "      <td>-46.0</td>\n",
       "      <td>2468.0</td>\n",
       "      <td>-53.0</td>\n",
       "    </tr>\n",
       "    <tr>\n",
       "      <th>541</th>\n",
       "      <td>closed</td>\n",
       "      <td>EURUSD</td>\n",
       "      <td>buy</td>\n",
       "      <td>100000</td>\n",
       "      <td>2025-07-18 11:32:00</td>\n",
       "      <td>1.16416</td>\n",
       "      <td>2025-07-18 12:50:00</td>\n",
       "      <td>1.16348</td>\n",
       "      <td>0</td>\n",
       "      <td>0</td>\n",
       "      <td>...</td>\n",
       "      <td>-68.0</td>\n",
       "      <td>-7.0</td>\n",
       "      <td>-75.0</td>\n",
       "      <td>2340.0</td>\n",
       "      <td>12340.0</td>\n",
       "      <td>2025-07-18</td>\n",
       "      <td>2025-07-18 12:50:00</td>\n",
       "      <td>-78.0</td>\n",
       "      <td>2468.0</td>\n",
       "      <td>-128.0</td>\n",
       "    </tr>\n",
       "    <tr>\n",
       "      <th>542</th>\n",
       "      <td>closed</td>\n",
       "      <td>EURUSD</td>\n",
       "      <td>buy</td>\n",
       "      <td>100000</td>\n",
       "      <td>2025-07-18 12:45:00</td>\n",
       "      <td>1.16373</td>\n",
       "      <td>2025-07-18 12:51:00</td>\n",
       "      <td>1.16341</td>\n",
       "      <td>0</td>\n",
       "      <td>0</td>\n",
       "      <td>...</td>\n",
       "      <td>-32.0</td>\n",
       "      <td>-7.0</td>\n",
       "      <td>-39.0</td>\n",
       "      <td>2301.0</td>\n",
       "      <td>12301.0</td>\n",
       "      <td>2025-07-18</td>\n",
       "      <td>2025-07-18 12:51:00</td>\n",
       "      <td>-39.0</td>\n",
       "      <td>2468.0</td>\n",
       "      <td>-167.0</td>\n",
       "    </tr>\n",
       "    <tr>\n",
       "      <th>548</th>\n",
       "      <td>closed</td>\n",
       "      <td>EURUSD</td>\n",
       "      <td>buy</td>\n",
       "      <td>100000</td>\n",
       "      <td>2025-07-18 14:41:00</td>\n",
       "      <td>1.16461</td>\n",
       "      <td>2025-07-18 15:04:00</td>\n",
       "      <td>1.16456</td>\n",
       "      <td>0</td>\n",
       "      <td>0</td>\n",
       "      <td>...</td>\n",
       "      <td>-5.0</td>\n",
       "      <td>-7.0</td>\n",
       "      <td>-12.0</td>\n",
       "      <td>2535.0</td>\n",
       "      <td>12535.0</td>\n",
       "      <td>2025-07-18</td>\n",
       "      <td>2025-07-18 15:04:00</td>\n",
       "      <td>-61.0</td>\n",
       "      <td>2547.0</td>\n",
       "      <td>-12.0</td>\n",
       "    </tr>\n",
       "    <tr>\n",
       "      <th>606</th>\n",
       "      <td>closed</td>\n",
       "      <td>EURUSD</td>\n",
       "      <td>buy</td>\n",
       "      <td>100000</td>\n",
       "      <td>2025-07-21 11:36:00</td>\n",
       "      <td>1.16491</td>\n",
       "      <td>2025-07-21 11:40:00</td>\n",
       "      <td>1.16479</td>\n",
       "      <td>0</td>\n",
       "      <td>0</td>\n",
       "      <td>...</td>\n",
       "      <td>-12.0</td>\n",
       "      <td>-7.0</td>\n",
       "      <td>-19.0</td>\n",
       "      <td>3166.0</td>\n",
       "      <td>13166.0</td>\n",
       "      <td>2025-07-21</td>\n",
       "      <td>2025-07-21 11:40:00</td>\n",
       "      <td>-17.0</td>\n",
       "      <td>3185.0</td>\n",
       "      <td>-19.0</td>\n",
       "    </tr>\n",
       "    <tr>\n",
       "      <th>658</th>\n",
       "      <td>closed</td>\n",
       "      <td>EURUSD</td>\n",
       "      <td>buy</td>\n",
       "      <td>100000</td>\n",
       "      <td>2025-07-28 17:27:00</td>\n",
       "      <td>1.16391</td>\n",
       "      <td>2025-07-28 18:03:00</td>\n",
       "      <td>1.16362</td>\n",
       "      <td>0</td>\n",
       "      <td>0</td>\n",
       "      <td>...</td>\n",
       "      <td>-29.0</td>\n",
       "      <td>-7.0</td>\n",
       "      <td>-36.0</td>\n",
       "      <td>3706.0</td>\n",
       "      <td>13706.0</td>\n",
       "      <td>2025-07-28</td>\n",
       "      <td>2025-07-28 18:03:00</td>\n",
       "      <td>-51.0</td>\n",
       "      <td>3751.0</td>\n",
       "      <td>-45.0</td>\n",
       "    </tr>\n",
       "    <tr>\n",
       "      <th>677</th>\n",
       "      <td>closed</td>\n",
       "      <td>EURUSD</td>\n",
       "      <td>buy</td>\n",
       "      <td>100000</td>\n",
       "      <td>2025-07-29 03:52:00</td>\n",
       "      <td>1.15887</td>\n",
       "      <td>2025-07-29 03:53:00</td>\n",
       "      <td>1.15883</td>\n",
       "      <td>0</td>\n",
       "      <td>0</td>\n",
       "      <td>...</td>\n",
       "      <td>-4.0</td>\n",
       "      <td>-7.0</td>\n",
       "      <td>-11.0</td>\n",
       "      <td>3760.0</td>\n",
       "      <td>13760.0</td>\n",
       "      <td>2025-07-29</td>\n",
       "      <td>2025-07-29 03:53:00</td>\n",
       "      <td>-8.0</td>\n",
       "      <td>3771.0</td>\n",
       "      <td>-11.0</td>\n",
       "    </tr>\n",
       "    <tr>\n",
       "      <th>678</th>\n",
       "      <td>closed</td>\n",
       "      <td>EURUSD</td>\n",
       "      <td>buy</td>\n",
       "      <td>100000</td>\n",
       "      <td>2025-07-29 03:53:00</td>\n",
       "      <td>1.15883</td>\n",
       "      <td>2025-07-29 03:54:00</td>\n",
       "      <td>1.15882</td>\n",
       "      <td>0</td>\n",
       "      <td>0</td>\n",
       "      <td>...</td>\n",
       "      <td>-1.0</td>\n",
       "      <td>-7.0</td>\n",
       "      <td>-8.0</td>\n",
       "      <td>3752.0</td>\n",
       "      <td>13752.0</td>\n",
       "      <td>2025-07-29</td>\n",
       "      <td>2025-07-29 03:54:00</td>\n",
       "      <td>-31.0</td>\n",
       "      <td>3771.0</td>\n",
       "      <td>-19.0</td>\n",
       "    </tr>\n",
       "    <tr>\n",
       "      <th>925</th>\n",
       "      <td>closed</td>\n",
       "      <td>EURUSD</td>\n",
       "      <td>buy</td>\n",
       "      <td>100000</td>\n",
       "      <td>2025-08-06 19:44:00</td>\n",
       "      <td>1.16374</td>\n",
       "      <td>2025-08-06 19:46:00</td>\n",
       "      <td>1.16361</td>\n",
       "      <td>0</td>\n",
       "      <td>0</td>\n",
       "      <td>...</td>\n",
       "      <td>-13.0</td>\n",
       "      <td>-7.0</td>\n",
       "      <td>-20.0</td>\n",
       "      <td>6492.0</td>\n",
       "      <td>16492.0</td>\n",
       "      <td>2025-08-06</td>\n",
       "      <td>2025-08-06 19:46:00</td>\n",
       "      <td>-59.0</td>\n",
       "      <td>6512.0</td>\n",
       "      <td>-20.0</td>\n",
       "    </tr>\n",
       "    <tr>\n",
       "      <th>979</th>\n",
       "      <td>closed</td>\n",
       "      <td>EURUSD</td>\n",
       "      <td>buy</td>\n",
       "      <td>100000</td>\n",
       "      <td>2025-08-14 20:49:00</td>\n",
       "      <td>1.16362</td>\n",
       "      <td>2025-08-14 20:53:00</td>\n",
       "      <td>1.16359</td>\n",
       "      <td>0</td>\n",
       "      <td>0</td>\n",
       "      <td>...</td>\n",
       "      <td>-3.0</td>\n",
       "      <td>-7.0</td>\n",
       "      <td>-10.0</td>\n",
       "      <td>7022.0</td>\n",
       "      <td>17022.0</td>\n",
       "      <td>2025-08-14</td>\n",
       "      <td>2025-08-14 20:53:00</td>\n",
       "      <td>-16.0</td>\n",
       "      <td>7037.0</td>\n",
       "      <td>-15.0</td>\n",
       "    </tr>\n",
       "    <tr>\n",
       "      <th>991</th>\n",
       "      <td>closed</td>\n",
       "      <td>EURUSD</td>\n",
       "      <td>buy</td>\n",
       "      <td>100000</td>\n",
       "      <td>2025-08-20 02:28:00</td>\n",
       "      <td>1.16417</td>\n",
       "      <td>2025-08-20 03:10:00</td>\n",
       "      <td>1.16353</td>\n",
       "      <td>0</td>\n",
       "      <td>0</td>\n",
       "      <td>...</td>\n",
       "      <td>-64.0</td>\n",
       "      <td>-7.0</td>\n",
       "      <td>-71.0</td>\n",
       "      <td>7044.0</td>\n",
       "      <td>17044.0</td>\n",
       "      <td>2025-08-20</td>\n",
       "      <td>2025-08-20 03:10:00</td>\n",
       "      <td>-103.0</td>\n",
       "      <td>7123.0</td>\n",
       "      <td>-79.0</td>\n",
       "    </tr>\n",
       "    <tr>\n",
       "      <th>992</th>\n",
       "      <td>closed</td>\n",
       "      <td>EURUSD</td>\n",
       "      <td>buy</td>\n",
       "      <td>100000</td>\n",
       "      <td>2025-08-20 03:00:00</td>\n",
       "      <td>1.16415</td>\n",
       "      <td>2025-08-20 03:11:00</td>\n",
       "      <td>1.16332</td>\n",
       "      <td>0</td>\n",
       "      <td>0</td>\n",
       "      <td>...</td>\n",
       "      <td>-83.0</td>\n",
       "      <td>-7.0</td>\n",
       "      <td>-90.0</td>\n",
       "      <td>6954.0</td>\n",
       "      <td>16954.0</td>\n",
       "      <td>2025-08-20</td>\n",
       "      <td>2025-08-20 03:11:00</td>\n",
       "      <td>-101.0</td>\n",
       "      <td>7123.0</td>\n",
       "      <td>-169.0</td>\n",
       "    </tr>\n",
       "    <tr>\n",
       "      <th>993</th>\n",
       "      <td>closed</td>\n",
       "      <td>EURUSD</td>\n",
       "      <td>buy</td>\n",
       "      <td>100000</td>\n",
       "      <td>2025-08-20 03:50:00</td>\n",
       "      <td>1.16365</td>\n",
       "      <td>2025-08-20 04:21:00</td>\n",
       "      <td>1.16356</td>\n",
       "      <td>0</td>\n",
       "      <td>0</td>\n",
       "      <td>...</td>\n",
       "      <td>-9.0</td>\n",
       "      <td>-7.0</td>\n",
       "      <td>-16.0</td>\n",
       "      <td>6938.0</td>\n",
       "      <td>16938.0</td>\n",
       "      <td>2025-08-20</td>\n",
       "      <td>2025-08-20 04:21:00</td>\n",
       "      <td>-23.0</td>\n",
       "      <td>7123.0</td>\n",
       "      <td>-185.0</td>\n",
       "    </tr>\n",
       "    <tr>\n",
       "      <th>994</th>\n",
       "      <td>closed</td>\n",
       "      <td>EURUSD</td>\n",
       "      <td>buy</td>\n",
       "      <td>100000</td>\n",
       "      <td>2025-08-20 03:55:00</td>\n",
       "      <td>1.16373</td>\n",
       "      <td>2025-08-20 04:22:00</td>\n",
       "      <td>1.16343</td>\n",
       "      <td>0</td>\n",
       "      <td>0</td>\n",
       "      <td>...</td>\n",
       "      <td>-30.0</td>\n",
       "      <td>-7.0</td>\n",
       "      <td>-37.0</td>\n",
       "      <td>6901.0</td>\n",
       "      <td>16901.0</td>\n",
       "      <td>2025-08-20</td>\n",
       "      <td>2025-08-20 04:22:00</td>\n",
       "      <td>-31.0</td>\n",
       "      <td>7123.0</td>\n",
       "      <td>-222.0</td>\n",
       "    </tr>\n",
       "    <tr>\n",
       "      <th>998</th>\n",
       "      <td>closed</td>\n",
       "      <td>EURUSD</td>\n",
       "      <td>buy</td>\n",
       "      <td>100000</td>\n",
       "      <td>2025-08-20 07:11:00</td>\n",
       "      <td>1.16357</td>\n",
       "      <td>2025-08-20 07:17:00</td>\n",
       "      <td>1.16349</td>\n",
       "      <td>0</td>\n",
       "      <td>0</td>\n",
       "      <td>...</td>\n",
       "      <td>-8.0</td>\n",
       "      <td>-7.0</td>\n",
       "      <td>-15.0</td>\n",
       "      <td>6879.0</td>\n",
       "      <td>16879.0</td>\n",
       "      <td>2025-08-20</td>\n",
       "      <td>2025-08-20 07:17:00</td>\n",
       "      <td>-10.0</td>\n",
       "      <td>7123.0</td>\n",
       "      <td>-244.0</td>\n",
       "    </tr>\n",
       "    <tr>\n",
       "      <th>999</th>\n",
       "      <td>closed</td>\n",
       "      <td>EURUSD</td>\n",
       "      <td>buy</td>\n",
       "      <td>100000</td>\n",
       "      <td>2025-08-20 07:12:00</td>\n",
       "      <td>1.16368</td>\n",
       "      <td>2025-08-20 07:18:00</td>\n",
       "      <td>1.16356</td>\n",
       "      <td>0</td>\n",
       "      <td>0</td>\n",
       "      <td>...</td>\n",
       "      <td>-12.0</td>\n",
       "      <td>-7.0</td>\n",
       "      <td>-19.0</td>\n",
       "      <td>6860.0</td>\n",
       "      <td>16860.0</td>\n",
       "      <td>2025-08-20</td>\n",
       "      <td>2025-08-20 07:18:00</td>\n",
       "      <td>-21.0</td>\n",
       "      <td>7123.0</td>\n",
       "      <td>-263.0</td>\n",
       "    </tr>\n",
       "    <tr>\n",
       "      <th>1001</th>\n",
       "      <td>closed</td>\n",
       "      <td>EURUSD</td>\n",
       "      <td>buy</td>\n",
       "      <td>100000</td>\n",
       "      <td>2025-08-20 07:36:00</td>\n",
       "      <td>1.16352</td>\n",
       "      <td>2025-08-20 07:38:00</td>\n",
       "      <td>1.1635</td>\n",
       "      <td>0</td>\n",
       "      <td>0</td>\n",
       "      <td>...</td>\n",
       "      <td>-2.0</td>\n",
       "      <td>-7.0</td>\n",
       "      <td>-9.0</td>\n",
       "      <td>6845.0</td>\n",
       "      <td>16845.0</td>\n",
       "      <td>2025-08-20</td>\n",
       "      <td>2025-08-20 07:38:00</td>\n",
       "      <td>-8.0</td>\n",
       "      <td>7123.0</td>\n",
       "      <td>-278.0</td>\n",
       "    </tr>\n",
       "    <tr>\n",
       "      <th>1003</th>\n",
       "      <td>closed</td>\n",
       "      <td>EURUSD</td>\n",
       "      <td>buy</td>\n",
       "      <td>100000</td>\n",
       "      <td>2025-08-20 08:45:00</td>\n",
       "      <td>1.16374</td>\n",
       "      <td>2025-08-20 09:03:00</td>\n",
       "      <td>1.16365</td>\n",
       "      <td>0</td>\n",
       "      <td>0</td>\n",
       "      <td>...</td>\n",
       "      <td>-9.0</td>\n",
       "      <td>-7.0</td>\n",
       "      <td>-16.0</td>\n",
       "      <td>6824.0</td>\n",
       "      <td>16824.0</td>\n",
       "      <td>2025-08-20</td>\n",
       "      <td>2025-08-20 09:03:00</td>\n",
       "      <td>-42.0</td>\n",
       "      <td>7123.0</td>\n",
       "      <td>-299.0</td>\n",
       "    </tr>\n",
       "    <tr>\n",
       "      <th>1004</th>\n",
       "      <td>closed</td>\n",
       "      <td>EURUSD</td>\n",
       "      <td>buy</td>\n",
       "      <td>100000</td>\n",
       "      <td>2025-08-20 08:58:00</td>\n",
       "      <td>1.16377</td>\n",
       "      <td>2025-08-20 09:04:00</td>\n",
       "      <td>1.16341</td>\n",
       "      <td>0</td>\n",
       "      <td>0</td>\n",
       "      <td>...</td>\n",
       "      <td>-36.0</td>\n",
       "      <td>-7.0</td>\n",
       "      <td>-43.0</td>\n",
       "      <td>6781.0</td>\n",
       "      <td>16781.0</td>\n",
       "      <td>2025-08-20</td>\n",
       "      <td>2025-08-20 09:04:00</td>\n",
       "      <td>-59.0</td>\n",
       "      <td>7123.0</td>\n",
       "      <td>-342.0</td>\n",
       "    </tr>\n",
       "    <tr>\n",
       "      <th>1005</th>\n",
       "      <td>closed</td>\n",
       "      <td>EURUSD</td>\n",
       "      <td>buy</td>\n",
       "      <td>100000</td>\n",
       "      <td>2025-08-20 09:00:00</td>\n",
       "      <td>1.16393</td>\n",
       "      <td>2025-08-20 09:05:00</td>\n",
       "      <td>1.1633</td>\n",
       "      <td>0</td>\n",
       "      <td>0</td>\n",
       "      <td>...</td>\n",
       "      <td>-63.0</td>\n",
       "      <td>-7.0</td>\n",
       "      <td>-70.0</td>\n",
       "      <td>6711.0</td>\n",
       "      <td>16711.0</td>\n",
       "      <td>2025-08-20</td>\n",
       "      <td>2025-08-20 09:05:00</td>\n",
       "      <td>-94.0</td>\n",
       "      <td>7123.0</td>\n",
       "      <td>-412.0</td>\n",
       "    </tr>\n",
       "  </tbody>\n",
       "</table>\n",
       "<p>33 rows × 21 columns</p>\n",
       "</div>"
      ],
      "text/plain": [
       "       state  symbol order_type  volume           open_time open_price  \\\n",
       "164   closed  EURUSD        buy  100000 2025-07-09 18:38:00    1.17082   \n",
       "205   closed  EURUSD        buy  100000 2025-07-10 08:59:00    1.17391   \n",
       "457   closed  EURUSD        buy  100000 2025-07-16 23:12:00     1.1639   \n",
       "458   closed  EURUSD        buy  100000 2025-07-16 23:31:00    1.16389   \n",
       "459   closed  EURUSD        buy  100000 2025-07-17 01:01:00    1.16384   \n",
       "460   closed  EURUSD        buy  100000 2025-07-17 01:11:00    1.16407   \n",
       "461   closed  EURUSD        buy  100000 2025-07-17 01:46:00     1.1636   \n",
       "462   closed  EURUSD        buy  100000 2025-07-17 02:00:00    1.16363   \n",
       "463   closed  EURUSD        buy  100000 2025-07-17 02:08:00    1.16358   \n",
       "464   closed  EURUSD        buy  100000 2025-07-17 02:25:00    1.16393   \n",
       "465   closed  EURUSD        buy  100000 2025-07-17 02:42:00    1.16371   \n",
       "488   closed  EURUSD        buy  100000 2025-07-17 13:25:00    1.15877   \n",
       "539   closed  EURUSD        buy  100000 2025-07-18 11:18:00     1.1637   \n",
       "540   closed  EURUSD        buy  100000 2025-07-18 11:30:00    1.16391   \n",
       "541   closed  EURUSD        buy  100000 2025-07-18 11:32:00    1.16416   \n",
       "542   closed  EURUSD        buy  100000 2025-07-18 12:45:00    1.16373   \n",
       "548   closed  EURUSD        buy  100000 2025-07-18 14:41:00    1.16461   \n",
       "606   closed  EURUSD        buy  100000 2025-07-21 11:36:00    1.16491   \n",
       "658   closed  EURUSD        buy  100000 2025-07-28 17:27:00    1.16391   \n",
       "677   closed  EURUSD        buy  100000 2025-07-29 03:52:00    1.15887   \n",
       "678   closed  EURUSD        buy  100000 2025-07-29 03:53:00    1.15883   \n",
       "925   closed  EURUSD        buy  100000 2025-08-06 19:44:00    1.16374   \n",
       "979   closed  EURUSD        buy  100000 2025-08-14 20:49:00    1.16362   \n",
       "991   closed  EURUSD        buy  100000 2025-08-20 02:28:00    1.16417   \n",
       "992   closed  EURUSD        buy  100000 2025-08-20 03:00:00    1.16415   \n",
       "993   closed  EURUSD        buy  100000 2025-08-20 03:50:00    1.16365   \n",
       "994   closed  EURUSD        buy  100000 2025-08-20 03:55:00    1.16373   \n",
       "998   closed  EURUSD        buy  100000 2025-08-20 07:11:00    1.16357   \n",
       "999   closed  EURUSD        buy  100000 2025-08-20 07:12:00    1.16368   \n",
       "1001  closed  EURUSD        buy  100000 2025-08-20 07:36:00    1.16352   \n",
       "1003  closed  EURUSD        buy  100000 2025-08-20 08:45:00    1.16374   \n",
       "1004  closed  EURUSD        buy  100000 2025-08-20 08:58:00    1.16377   \n",
       "1005  closed  EURUSD        buy  100000 2025-08-20 09:00:00    1.16393   \n",
       "\n",
       "              close_time close_price sl tp  ... profit  commission profit_net  \\\n",
       "164  2025-07-09 18:39:00     1.17081  0  0  ...   -1.0        -7.0       -8.0   \n",
       "205  2025-07-10 09:00:00      1.1739  0  0  ...   -1.0        -7.0       -8.0   \n",
       "457  2025-07-17 00:00:00     1.16368  0  0  ...  -22.0        -7.0      -29.0   \n",
       "458  2025-07-17 00:01:00     1.16347  0  0  ...  -42.0        -7.0      -49.0   \n",
       "459  2025-07-17 02:51:00     1.16351  0  0  ...  -33.0        -7.0      -40.0   \n",
       "460  2025-07-17 02:52:00     1.16352  0  0  ...  -55.0        -7.0      -62.0   \n",
       "461  2025-07-17 02:53:00     1.16335  0  0  ...  -25.0        -7.0      -32.0   \n",
       "462  2025-07-17 02:54:00     1.16339  0  0  ...  -24.0        -7.0      -31.0   \n",
       "463  2025-07-17 02:55:00     1.16347  0  0  ...  -11.0        -7.0      -18.0   \n",
       "464  2025-07-17 02:56:00     1.16345  0  0  ...  -48.0        -7.0      -55.0   \n",
       "465  2025-07-17 02:57:00     1.16343  0  0  ...  -28.0        -7.0      -35.0   \n",
       "488  2025-07-17 13:26:00     1.15876  0  0  ...   -1.0        -7.0       -8.0   \n",
       "539  2025-07-18 12:00:00     1.16357  0  0  ...  -13.0        -7.0      -20.0   \n",
       "540  2025-07-18 12:49:00     1.16371  0  0  ...  -20.0        -7.0      -27.0   \n",
       "541  2025-07-18 12:50:00     1.16348  0  0  ...  -68.0        -7.0      -75.0   \n",
       "542  2025-07-18 12:51:00     1.16341  0  0  ...  -32.0        -7.0      -39.0   \n",
       "548  2025-07-18 15:04:00     1.16456  0  0  ...   -5.0        -7.0      -12.0   \n",
       "606  2025-07-21 11:40:00     1.16479  0  0  ...  -12.0        -7.0      -19.0   \n",
       "658  2025-07-28 18:03:00     1.16362  0  0  ...  -29.0        -7.0      -36.0   \n",
       "677  2025-07-29 03:53:00     1.15883  0  0  ...   -4.0        -7.0      -11.0   \n",
       "678  2025-07-29 03:54:00     1.15882  0  0  ...   -1.0        -7.0       -8.0   \n",
       "925  2025-08-06 19:46:00     1.16361  0  0  ...  -13.0        -7.0      -20.0   \n",
       "979  2025-08-14 20:53:00     1.16359  0  0  ...   -3.0        -7.0      -10.0   \n",
       "991  2025-08-20 03:10:00     1.16353  0  0  ...  -64.0        -7.0      -71.0   \n",
       "992  2025-08-20 03:11:00     1.16332  0  0  ...  -83.0        -7.0      -90.0   \n",
       "993  2025-08-20 04:21:00     1.16356  0  0  ...   -9.0        -7.0      -16.0   \n",
       "994  2025-08-20 04:22:00     1.16343  0  0  ...  -30.0        -7.0      -37.0   \n",
       "998  2025-08-20 07:17:00     1.16349  0  0  ...   -8.0        -7.0      -15.0   \n",
       "999  2025-08-20 07:18:00     1.16356  0  0  ...  -12.0        -7.0      -19.0   \n",
       "1001 2025-08-20 07:38:00      1.1635  0  0  ...   -2.0        -7.0       -9.0   \n",
       "1003 2025-08-20 09:03:00     1.16365  0  0  ...   -9.0        -7.0      -16.0   \n",
       "1004 2025-08-20 09:04:00     1.16341  0  0  ...  -36.0        -7.0      -43.0   \n",
       "1005 2025-08-20 09:05:00      1.1633  0  0  ...  -63.0        -7.0      -70.0   \n",
       "\n",
       "     profit_cumulative  balance        date                time  \\\n",
       "164              854.0  10854.0  2025-07-09 2025-07-09 18:39:00   \n",
       "205             1054.0  11054.0  2025-07-10 2025-07-10 09:00:00   \n",
       "457             2439.0  12439.0  2025-07-16 2025-07-17 00:00:00   \n",
       "458             2390.0  12390.0  2025-07-16 2025-07-17 00:01:00   \n",
       "459             2350.0  12350.0  2025-07-17 2025-07-17 02:51:00   \n",
       "460             2288.0  12288.0  2025-07-17 2025-07-17 02:52:00   \n",
       "461             2256.0  12256.0  2025-07-17 2025-07-17 02:53:00   \n",
       "462             2225.0  12225.0  2025-07-17 2025-07-17 02:54:00   \n",
       "463             2207.0  12207.0  2025-07-17 2025-07-17 02:55:00   \n",
       "464             2152.0  12152.0  2025-07-17 2025-07-17 02:56:00   \n",
       "465             2117.0  12117.0  2025-07-17 2025-07-17 02:57:00   \n",
       "488             2182.0  12182.0  2025-07-17 2025-07-17 13:26:00   \n",
       "539             2442.0  12442.0  2025-07-18 2025-07-18 12:00:00   \n",
       "540             2415.0  12415.0  2025-07-18 2025-07-18 12:49:00   \n",
       "541             2340.0  12340.0  2025-07-18 2025-07-18 12:50:00   \n",
       "542             2301.0  12301.0  2025-07-18 2025-07-18 12:51:00   \n",
       "548             2535.0  12535.0  2025-07-18 2025-07-18 15:04:00   \n",
       "606             3166.0  13166.0  2025-07-21 2025-07-21 11:40:00   \n",
       "658             3706.0  13706.0  2025-07-28 2025-07-28 18:03:00   \n",
       "677             3760.0  13760.0  2025-07-29 2025-07-29 03:53:00   \n",
       "678             3752.0  13752.0  2025-07-29 2025-07-29 03:54:00   \n",
       "925             6492.0  16492.0  2025-08-06 2025-08-06 19:46:00   \n",
       "979             7022.0  17022.0  2025-08-14 2025-08-14 20:53:00   \n",
       "991             7044.0  17044.0  2025-08-20 2025-08-20 03:10:00   \n",
       "992             6954.0  16954.0  2025-08-20 2025-08-20 03:11:00   \n",
       "993             6938.0  16938.0  2025-08-20 2025-08-20 04:21:00   \n",
       "994             6901.0  16901.0  2025-08-20 2025-08-20 04:22:00   \n",
       "998             6879.0  16879.0  2025-08-20 2025-08-20 07:17:00   \n",
       "999             6860.0  16860.0  2025-08-20 2025-08-20 07:18:00   \n",
       "1001            6845.0  16845.0  2025-08-20 2025-08-20 07:38:00   \n",
       "1003            6824.0  16824.0  2025-08-20 2025-08-20 09:03:00   \n",
       "1004            6781.0  16781.0  2025-08-20 2025-08-20 09:04:00   \n",
       "1005            6711.0  16711.0  2025-08-20 2025-08-20 09:05:00   \n",
       "\n",
       "     intrabar_drawdown  current_max  drawdown  \n",
       "164              -11.0        862.0      -8.0  \n",
       "205              -22.0       1068.0     -14.0  \n",
       "457             -165.0       2468.0     -29.0  \n",
       "458             -164.0       2468.0     -78.0  \n",
       "459              -42.0       2468.0    -118.0  \n",
       "460              -74.0       2468.0    -180.0  \n",
       "461              -27.0       2468.0    -212.0  \n",
       "462              -30.0       2468.0    -243.0  \n",
       "463              -25.0       2468.0    -261.0  \n",
       "464              -60.0       2468.0    -316.0  \n",
       "465              -38.0       2468.0    -351.0  \n",
       "488              -13.0       2468.0    -286.0  \n",
       "539              -24.0       2468.0     -26.0  \n",
       "540              -46.0       2468.0     -53.0  \n",
       "541              -78.0       2468.0    -128.0  \n",
       "542              -39.0       2468.0    -167.0  \n",
       "548              -61.0       2547.0     -12.0  \n",
       "606              -17.0       3185.0     -19.0  \n",
       "658              -51.0       3751.0     -45.0  \n",
       "677               -8.0       3771.0     -11.0  \n",
       "678              -31.0       3771.0     -19.0  \n",
       "925              -59.0       6512.0     -20.0  \n",
       "979              -16.0       7037.0     -15.0  \n",
       "991             -103.0       7123.0     -79.0  \n",
       "992             -101.0       7123.0    -169.0  \n",
       "993              -23.0       7123.0    -185.0  \n",
       "994              -31.0       7123.0    -222.0  \n",
       "998              -10.0       7123.0    -244.0  \n",
       "999              -21.0       7123.0    -263.0  \n",
       "1001              -8.0       7123.0    -278.0  \n",
       "1003             -42.0       7123.0    -299.0  \n",
       "1004             -59.0       7123.0    -342.0  \n",
       "1005             -94.0       7123.0    -412.0  \n",
       "\n",
       "[33 rows x 21 columns]"
      ]
     },
     "metadata": {},
     "output_type": "display_data"
    },
    {
     "data": {
      "text/html": [
       "<div>\n",
       "<style scoped>\n",
       "    .dataframe tbody tr th:only-of-type {\n",
       "        vertical-align: middle;\n",
       "    }\n",
       "\n",
       "    .dataframe tbody tr th {\n",
       "        vertical-align: top;\n",
       "    }\n",
       "\n",
       "    .dataframe thead th {\n",
       "        text-align: right;\n",
       "    }\n",
       "</style>\n",
       "<table border=\"1\" class=\"dataframe\">\n",
       "  <thead>\n",
       "    <tr style=\"text-align: right;\">\n",
       "      <th></th>\n",
       "      <th>state</th>\n",
       "      <th>symbol</th>\n",
       "      <th>order_type</th>\n",
       "      <th>volume</th>\n",
       "      <th>open_time</th>\n",
       "      <th>open_price</th>\n",
       "      <th>close_time</th>\n",
       "      <th>close_price</th>\n",
       "      <th>sl</th>\n",
       "      <th>tp</th>\n",
       "      <th>...</th>\n",
       "      <th>balance</th>\n",
       "      <th>date</th>\n",
       "      <th>time</th>\n",
       "      <th>intrabar_drawdown</th>\n",
       "      <th>current_max</th>\n",
       "      <th>drawdown</th>\n",
       "      <th>dayofweek</th>\n",
       "      <th>hourofday</th>\n",
       "      <th>month</th>\n",
       "      <th>year</th>\n",
       "    </tr>\n",
       "  </thead>\n",
       "  <tbody>\n",
       "    <tr>\n",
       "      <th>0</th>\n",
       "      <td>closed</td>\n",
       "      <td>EURUSD</td>\n",
       "      <td>buy</td>\n",
       "      <td>100000</td>\n",
       "      <td>2025-07-01 20:00:00</td>\n",
       "      <td>1.17654</td>\n",
       "      <td>2025-07-01 20:01:00</td>\n",
       "      <td>1.17686</td>\n",
       "      <td>0</td>\n",
       "      <td>0</td>\n",
       "      <td>...</td>\n",
       "      <td>10025.0</td>\n",
       "      <td>2025-07-01</td>\n",
       "      <td>2025-07-01 20:01:00</td>\n",
       "      <td>0.0</td>\n",
       "      <td>25.0</td>\n",
       "      <td>0.0</td>\n",
       "      <td>1</td>\n",
       "      <td>20</td>\n",
       "      <td>2025-07</td>\n",
       "      <td>2025</td>\n",
       "    </tr>\n",
       "    <tr>\n",
       "      <th>1</th>\n",
       "      <td>closed</td>\n",
       "      <td>EURUSD</td>\n",
       "      <td>buy</td>\n",
       "      <td>100000</td>\n",
       "      <td>2025-07-01 21:38:00</td>\n",
       "      <td>1.17772</td>\n",
       "      <td>2025-07-01 21:39:00</td>\n",
       "      <td>1.17777</td>\n",
       "      <td>0</td>\n",
       "      <td>0</td>\n",
       "      <td>...</td>\n",
       "      <td>10023.0</td>\n",
       "      <td>2025-07-01</td>\n",
       "      <td>2025-07-01 21:39:00</td>\n",
       "      <td>-1.0</td>\n",
       "      <td>25.0</td>\n",
       "      <td>-2.0</td>\n",
       "      <td>1</td>\n",
       "      <td>21</td>\n",
       "      <td>2025-07</td>\n",
       "      <td>2025</td>\n",
       "    </tr>\n",
       "    <tr>\n",
       "      <th>2</th>\n",
       "      <td>closed</td>\n",
       "      <td>EURUSD</td>\n",
       "      <td>buy</td>\n",
       "      <td>100000</td>\n",
       "      <td>2025-07-02 12:31:00</td>\n",
       "      <td>1.1768</td>\n",
       "      <td>2025-07-02 12:32:00</td>\n",
       "      <td>1.17683</td>\n",
       "      <td>0</td>\n",
       "      <td>0</td>\n",
       "      <td>...</td>\n",
       "      <td>10019.0</td>\n",
       "      <td>2025-07-02</td>\n",
       "      <td>2025-07-02 12:32:00</td>\n",
       "      <td>-7.0</td>\n",
       "      <td>25.0</td>\n",
       "      <td>-6.0</td>\n",
       "      <td>2</td>\n",
       "      <td>12</td>\n",
       "      <td>2025-07</td>\n",
       "      <td>2025</td>\n",
       "    </tr>\n",
       "    <tr>\n",
       "      <th>3</th>\n",
       "      <td>closed</td>\n",
       "      <td>EURUSD</td>\n",
       "      <td>buy</td>\n",
       "      <td>100000</td>\n",
       "      <td>2025-07-02 12:48:00</td>\n",
       "      <td>1.17708</td>\n",
       "      <td>2025-07-02 12:49:00</td>\n",
       "      <td>1.17714</td>\n",
       "      <td>0</td>\n",
       "      <td>0</td>\n",
       "      <td>...</td>\n",
       "      <td>10018.0</td>\n",
       "      <td>2025-07-02</td>\n",
       "      <td>2025-07-02 12:49:00</td>\n",
       "      <td>0.0</td>\n",
       "      <td>25.0</td>\n",
       "      <td>-7.0</td>\n",
       "      <td>2</td>\n",
       "      <td>12</td>\n",
       "      <td>2025-07</td>\n",
       "      <td>2025</td>\n",
       "    </tr>\n",
       "    <tr>\n",
       "      <th>4</th>\n",
       "      <td>closed</td>\n",
       "      <td>EURUSD</td>\n",
       "      <td>buy</td>\n",
       "      <td>100000</td>\n",
       "      <td>2025-07-02 13:25:00</td>\n",
       "      <td>1.17749</td>\n",
       "      <td>2025-07-02 13:26:00</td>\n",
       "      <td>1.17751</td>\n",
       "      <td>0</td>\n",
       "      <td>0</td>\n",
       "      <td>...</td>\n",
       "      <td>10013.0</td>\n",
       "      <td>2025-07-02</td>\n",
       "      <td>2025-07-02 13:26:00</td>\n",
       "      <td>-6.0</td>\n",
       "      <td>25.0</td>\n",
       "      <td>-12.0</td>\n",
       "      <td>2</td>\n",
       "      <td>13</td>\n",
       "      <td>2025-07</td>\n",
       "      <td>2025</td>\n",
       "    </tr>\n",
       "    <tr>\n",
       "      <th>...</th>\n",
       "      <td>...</td>\n",
       "      <td>...</td>\n",
       "      <td>...</td>\n",
       "      <td>...</td>\n",
       "      <td>...</td>\n",
       "      <td>...</td>\n",
       "      <td>...</td>\n",
       "      <td>...</td>\n",
       "      <td>...</td>\n",
       "      <td>...</td>\n",
       "      <td>...</td>\n",
       "      <td>...</td>\n",
       "      <td>...</td>\n",
       "      <td>...</td>\n",
       "      <td>...</td>\n",
       "      <td>...</td>\n",
       "      <td>...</td>\n",
       "      <td>...</td>\n",
       "      <td>...</td>\n",
       "      <td>...</td>\n",
       "      <td>...</td>\n",
       "    </tr>\n",
       "    <tr>\n",
       "      <th>1002</th>\n",
       "      <td>closed</td>\n",
       "      <td>EURUSD</td>\n",
       "      <td>buy</td>\n",
       "      <td>100000</td>\n",
       "      <td>2025-08-20 07:56:00</td>\n",
       "      <td>1.16349</td>\n",
       "      <td>2025-08-20 07:57:00</td>\n",
       "      <td>1.16351</td>\n",
       "      <td>0</td>\n",
       "      <td>0</td>\n",
       "      <td>...</td>\n",
       "      <td>16840.0</td>\n",
       "      <td>2025-08-20</td>\n",
       "      <td>2025-08-20 07:57:00</td>\n",
       "      <td>-4.0</td>\n",
       "      <td>7123.0</td>\n",
       "      <td>-283.0</td>\n",
       "      <td>2</td>\n",
       "      <td>7</td>\n",
       "      <td>2025-08</td>\n",
       "      <td>2025</td>\n",
       "    </tr>\n",
       "    <tr>\n",
       "      <th>1003</th>\n",
       "      <td>closed</td>\n",
       "      <td>EURUSD</td>\n",
       "      <td>buy</td>\n",
       "      <td>100000</td>\n",
       "      <td>2025-08-20 08:45:00</td>\n",
       "      <td>1.16374</td>\n",
       "      <td>2025-08-20 09:03:00</td>\n",
       "      <td>1.16365</td>\n",
       "      <td>0</td>\n",
       "      <td>0</td>\n",
       "      <td>...</td>\n",
       "      <td>16824.0</td>\n",
       "      <td>2025-08-20</td>\n",
       "      <td>2025-08-20 09:03:00</td>\n",
       "      <td>-42.0</td>\n",
       "      <td>7123.0</td>\n",
       "      <td>-299.0</td>\n",
       "      <td>2</td>\n",
       "      <td>8</td>\n",
       "      <td>2025-08</td>\n",
       "      <td>2025</td>\n",
       "    </tr>\n",
       "    <tr>\n",
       "      <th>1004</th>\n",
       "      <td>closed</td>\n",
       "      <td>EURUSD</td>\n",
       "      <td>buy</td>\n",
       "      <td>100000</td>\n",
       "      <td>2025-08-20 08:58:00</td>\n",
       "      <td>1.16377</td>\n",
       "      <td>2025-08-20 09:04:00</td>\n",
       "      <td>1.16341</td>\n",
       "      <td>0</td>\n",
       "      <td>0</td>\n",
       "      <td>...</td>\n",
       "      <td>16781.0</td>\n",
       "      <td>2025-08-20</td>\n",
       "      <td>2025-08-20 09:04:00</td>\n",
       "      <td>-59.0</td>\n",
       "      <td>7123.0</td>\n",
       "      <td>-342.0</td>\n",
       "      <td>2</td>\n",
       "      <td>8</td>\n",
       "      <td>2025-08</td>\n",
       "      <td>2025</td>\n",
       "    </tr>\n",
       "    <tr>\n",
       "      <th>1005</th>\n",
       "      <td>closed</td>\n",
       "      <td>EURUSD</td>\n",
       "      <td>buy</td>\n",
       "      <td>100000</td>\n",
       "      <td>2025-08-20 09:00:00</td>\n",
       "      <td>1.16393</td>\n",
       "      <td>2025-08-20 09:05:00</td>\n",
       "      <td>1.1633</td>\n",
       "      <td>0</td>\n",
       "      <td>0</td>\n",
       "      <td>...</td>\n",
       "      <td>16711.0</td>\n",
       "      <td>2025-08-20</td>\n",
       "      <td>2025-08-20 09:05:00</td>\n",
       "      <td>-94.0</td>\n",
       "      <td>7123.0</td>\n",
       "      <td>-412.0</td>\n",
       "      <td>2</td>\n",
       "      <td>9</td>\n",
       "      <td>2025-08</td>\n",
       "      <td>2025</td>\n",
       "    </tr>\n",
       "    <tr>\n",
       "      <th>1006</th>\n",
       "      <td>closed</td>\n",
       "      <td>EURUSD</td>\n",
       "      <td>buy</td>\n",
       "      <td>100000</td>\n",
       "      <td>2025-08-20 10:00:00</td>\n",
       "      <td>1.16335</td>\n",
       "      <td>2025-08-20 10:03:00</td>\n",
       "      <td>1.16368</td>\n",
       "      <td>0</td>\n",
       "      <td>0</td>\n",
       "      <td>...</td>\n",
       "      <td>16737.0</td>\n",
       "      <td>2025-08-20</td>\n",
       "      <td>2025-08-20 10:03:00</td>\n",
       "      <td>-1.0</td>\n",
       "      <td>7123.0</td>\n",
       "      <td>-386.0</td>\n",
       "      <td>2</td>\n",
       "      <td>10</td>\n",
       "      <td>2025-08</td>\n",
       "      <td>2025</td>\n",
       "    </tr>\n",
       "  </tbody>\n",
       "</table>\n",
       "<p>1007 rows × 25 columns</p>\n",
       "</div>"
      ],
      "text/plain": [
       "       state  symbol order_type  volume           open_time open_price  \\\n",
       "0     closed  EURUSD        buy  100000 2025-07-01 20:00:00    1.17654   \n",
       "1     closed  EURUSD        buy  100000 2025-07-01 21:38:00    1.17772   \n",
       "2     closed  EURUSD        buy  100000 2025-07-02 12:31:00     1.1768   \n",
       "3     closed  EURUSD        buy  100000 2025-07-02 12:48:00    1.17708   \n",
       "4     closed  EURUSD        buy  100000 2025-07-02 13:25:00    1.17749   \n",
       "...      ...     ...        ...     ...                 ...        ...   \n",
       "1002  closed  EURUSD        buy  100000 2025-08-20 07:56:00    1.16349   \n",
       "1003  closed  EURUSD        buy  100000 2025-08-20 08:45:00    1.16374   \n",
       "1004  closed  EURUSD        buy  100000 2025-08-20 08:58:00    1.16377   \n",
       "1005  closed  EURUSD        buy  100000 2025-08-20 09:00:00    1.16393   \n",
       "1006  closed  EURUSD        buy  100000 2025-08-20 10:00:00    1.16335   \n",
       "\n",
       "              close_time close_price sl tp  ...  balance        date  \\\n",
       "0    2025-07-01 20:01:00     1.17686  0  0  ...  10025.0  2025-07-01   \n",
       "1    2025-07-01 21:39:00     1.17777  0  0  ...  10023.0  2025-07-01   \n",
       "2    2025-07-02 12:32:00     1.17683  0  0  ...  10019.0  2025-07-02   \n",
       "3    2025-07-02 12:49:00     1.17714  0  0  ...  10018.0  2025-07-02   \n",
       "4    2025-07-02 13:26:00     1.17751  0  0  ...  10013.0  2025-07-02   \n",
       "...                  ...         ... .. ..  ...      ...         ...   \n",
       "1002 2025-08-20 07:57:00     1.16351  0  0  ...  16840.0  2025-08-20   \n",
       "1003 2025-08-20 09:03:00     1.16365  0  0  ...  16824.0  2025-08-20   \n",
       "1004 2025-08-20 09:04:00     1.16341  0  0  ...  16781.0  2025-08-20   \n",
       "1005 2025-08-20 09:05:00      1.1633  0  0  ...  16711.0  2025-08-20   \n",
       "1006 2025-08-20 10:03:00     1.16368  0  0  ...  16737.0  2025-08-20   \n",
       "\n",
       "                    time intrabar_drawdown current_max drawdown dayofweek  \\\n",
       "0    2025-07-01 20:01:00               0.0        25.0      0.0         1   \n",
       "1    2025-07-01 21:39:00              -1.0        25.0     -2.0         1   \n",
       "2    2025-07-02 12:32:00              -7.0        25.0     -6.0         2   \n",
       "3    2025-07-02 12:49:00               0.0        25.0     -7.0         2   \n",
       "4    2025-07-02 13:26:00              -6.0        25.0    -12.0         2   \n",
       "...                  ...               ...         ...      ...       ...   \n",
       "1002 2025-08-20 07:57:00              -4.0      7123.0   -283.0         2   \n",
       "1003 2025-08-20 09:03:00             -42.0      7123.0   -299.0         2   \n",
       "1004 2025-08-20 09:04:00             -59.0      7123.0   -342.0         2   \n",
       "1005 2025-08-20 09:05:00             -94.0      7123.0   -412.0         2   \n",
       "1006 2025-08-20 10:03:00              -1.0      7123.0   -386.0         2   \n",
       "\n",
       "     hourofday    month  year  \n",
       "0           20  2025-07  2025  \n",
       "1           21  2025-07  2025  \n",
       "2           12  2025-07  2025  \n",
       "3           12  2025-07  2025  \n",
       "4           13  2025-07  2025  \n",
       "...        ...      ...   ...  \n",
       "1002         7  2025-08  2025  \n",
       "1003         8  2025-08  2025  \n",
       "1004         8  2025-08  2025  \n",
       "1005         9  2025-08  2025  \n",
       "1006        10  2025-08  2025  \n",
       "\n",
       "[1007 rows x 25 columns]"
      ]
     },
     "metadata": {},
     "output_type": "display_data"
    },
    {
     "data": {
      "application/vnd.plotly.v1+json": {
       "config": {
        "plotlyServerURL": "https://plot.ly"
       },
       "data": [
        {
         "hovertemplate": "close_time=%{x}<br>drawdown=%{y}<extra></extra>",
         "legendgroup": "",
         "line": {
          "color": "#636efa",
          "dash": "solid"
         },
         "marker": {
          "symbol": "circle"
         },
         "mode": "lines",
         "name": "",
         "showlegend": false,
         "type": "scattergl",
         "x": [
          "2025-07-01T20:01:00.000000000",
          "2025-07-01T21:39:00.000000000",
          "2025-07-02T12:32:00.000000000",
          "2025-07-02T12:49:00.000000000",
          "2025-07-02T13:26:00.000000000",
          "2025-07-02T13:47:00.000000000",
          "2025-07-03T19:13:00.000000000",
          "2025-07-03T19:54:00.000000000",
          "2025-07-03T20:54:00.000000000",
          "2025-07-03T20:55:00.000000000",
          "2025-07-03T20:58:00.000000000",
          "2025-07-03T21:15:00.000000000",
          "2025-07-03T21:35:00.000000000",
          "2025-07-03T21:37:00.000000000",
          "2025-07-03T21:44:00.000000000",
          "2025-07-03T21:50:00.000000000",
          "2025-07-03T22:16:00.000000000",
          "2025-07-03T22:18:00.000000000",
          "2025-07-03T22:34:00.000000000",
          "2025-07-03T22:35:00.000000000",
          "2025-07-03T22:38:00.000000000",
          "2025-07-03T22:54:00.000000000",
          "2025-07-03T22:59:00.000000000",
          "2025-07-03T23:12:00.000000000",
          "2025-07-03T23:39:00.000000000",
          "2025-07-03T23:40:00.000000000",
          "2025-07-03T23:41:00.000000000",
          "2025-07-04T01:01:00.000000000",
          "2025-07-04T01:22:00.000000000",
          "2025-07-04T01:32:00.000000000",
          "2025-07-04T02:00:00.000000000",
          "2025-07-04T02:01:00.000000000",
          "2025-07-04T02:23:00.000000000",
          "2025-07-04T02:31:00.000000000",
          "2025-07-04T02:55:00.000000000",
          "2025-07-04T02:56:00.000000000",
          "2025-07-04T03:02:00.000000000",
          "2025-07-04T03:53:00.000000000",
          "2025-07-04T04:06:00.000000000",
          "2025-07-04T04:55:00.000000000",
          "2025-07-04T05:43:00.000000000",
          "2025-07-04T05:45:00.000000000",
          "2025-07-04T05:55:00.000000000",
          "2025-07-04T05:56:00.000000000",
          "2025-07-04T06:03:00.000000000",
          "2025-07-04T15:49:00.000000000",
          "2025-07-04T16:02:00.000000000",
          "2025-07-04T20:02:00.000000000",
          "2025-07-04T20:03:00.000000000",
          "2025-07-04T21:05:00.000000000",
          "2025-07-04T21:27:00.000000000",
          "2025-07-04T21:36:00.000000000",
          "2025-07-04T21:42:00.000000000",
          "2025-07-04T21:44:00.000000000",
          "2025-07-04T22:35:00.000000000",
          "2025-07-07T05:01:00.000000000",
          "2025-07-07T05:25:00.000000000",
          "2025-07-07T05:53:00.000000000",
          "2025-07-07T06:32:00.000000000",
          "2025-07-07T07:01:00.000000000",
          "2025-07-07T07:22:00.000000000",
          "2025-07-07T07:28:00.000000000",
          "2025-07-07T07:42:00.000000000",
          "2025-07-07T08:02:00.000000000",
          "2025-07-07T08:41:00.000000000",
          "2025-07-07T09:55:00.000000000",
          "2025-07-07T11:27:00.000000000",
          "2025-07-07T12:13:00.000000000",
          "2025-07-07T12:56:00.000000000",
          "2025-07-07T12:59:00.000000000",
          "2025-07-07T13:14:00.000000000",
          "2025-07-07T13:55:00.000000000",
          "2025-07-07T13:58:00.000000000",
          "2025-07-07T14:13:00.000000000",
          "2025-07-07T14:59:00.000000000",
          "2025-07-07T15:16:00.000000000",
          "2025-07-07T16:03:00.000000000",
          "2025-07-07T16:09:00.000000000",
          "2025-07-07T17:16:00.000000000",
          "2025-07-07T19:02:00.000000000",
          "2025-07-07T19:14:00.000000000",
          "2025-07-07T19:17:00.000000000",
          "2025-07-07T20:31:00.000000000",
          "2025-07-07T20:33:00.000000000",
          "2025-07-07T21:00:00.000000000",
          "2025-07-07T22:01:00.000000000",
          "2025-07-07T22:59:00.000000000",
          "2025-07-07T23:32:00.000000000",
          "2025-07-08T01:01:00.000000000",
          "2025-07-08T01:21:00.000000000",
          "2025-07-08T01:37:00.000000000",
          "2025-07-08T01:38:00.000000000",
          "2025-07-08T01:40:00.000000000",
          "2025-07-08T01:43:00.000000000",
          "2025-07-08T02:16:00.000000000",
          "2025-07-08T03:01:00.000000000",
          "2025-07-08T03:02:00.000000000",
          "2025-07-08T03:42:00.000000000",
          "2025-07-08T04:59:00.000000000",
          "2025-07-08T05:43:00.000000000",
          "2025-07-08T07:22:00.000000000",
          "2025-07-08T07:31:00.000000000",
          "2025-07-08T07:34:00.000000000",
          "2025-07-08T09:29:00.000000000",
          "2025-07-08T10:01:00.000000000",
          "2025-07-08T10:25:00.000000000",
          "2025-07-08T11:58:00.000000000",
          "2025-07-08T12:33:00.000000000",
          "2025-07-08T12:53:00.000000000",
          "2025-07-08T12:58:00.000000000",
          "2025-07-08T14:23:00.000000000",
          "2025-07-08T15:40:00.000000000",
          "2025-07-08T16:01:00.000000000",
          "2025-07-08T16:57:00.000000000",
          "2025-07-08T17:46:00.000000000",
          "2025-07-08T17:47:00.000000000",
          "2025-07-08T19:33:00.000000000",
          "2025-07-08T19:57:00.000000000",
          "2025-07-08T19:58:00.000000000",
          "2025-07-08T20:21:00.000000000",
          "2025-07-08T21:36:00.000000000",
          "2025-07-08T21:40:00.000000000",
          "2025-07-08T22:31:00.000000000",
          "2025-07-08T22:56:00.000000000",
          "2025-07-08T23:00:00.000000000",
          "2025-07-08T23:11:00.000000000",
          "2025-07-08T23:21:00.000000000",
          "2025-07-09T01:02:00.000000000",
          "2025-07-09T01:14:00.000000000",
          "2025-07-09T01:34:00.000000000",
          "2025-07-09T01:52:00.000000000",
          "2025-07-09T01:58:00.000000000",
          "2025-07-09T02:32:00.000000000",
          "2025-07-09T03:01:00.000000000",
          "2025-07-09T03:21:00.000000000",
          "2025-07-09T03:26:00.000000000",
          "2025-07-09T03:55:00.000000000",
          "2025-07-09T04:34:00.000000000",
          "2025-07-09T04:35:00.000000000",
          "2025-07-09T05:05:00.000000000",
          "2025-07-09T06:23:00.000000000",
          "2025-07-09T06:42:00.000000000",
          "2025-07-09T06:45:00.000000000",
          "2025-07-09T07:34:00.000000000",
          "2025-07-09T07:35:00.000000000",
          "2025-07-09T07:37:00.000000000",
          "2025-07-09T07:39:00.000000000",
          "2025-07-09T08:11:00.000000000",
          "2025-07-09T08:17:00.000000000",
          "2025-07-09T08:42:00.000000000",
          "2025-07-09T09:32:00.000000000",
          "2025-07-09T10:55:00.000000000",
          "2025-07-09T11:01:00.000000000",
          "2025-07-09T12:56:00.000000000",
          "2025-07-09T13:14:00.000000000",
          "2025-07-09T14:03:00.000000000",
          "2025-07-09T14:25:00.000000000",
          "2025-07-09T14:39:00.000000000",
          "2025-07-09T15:19:00.000000000",
          "2025-07-09T15:51:00.000000000",
          "2025-07-09T15:53:00.000000000",
          "2025-07-09T15:55:00.000000000",
          "2025-07-09T16:01:00.000000000",
          "2025-07-09T17:58:00.000000000",
          "2025-07-09T18:39:00.000000000",
          "2025-07-09T19:01:00.000000000",
          "2025-07-09T19:55:00.000000000",
          "2025-07-09T20:09:00.000000000",
          "2025-07-09T20:31:00.000000000",
          "2025-07-09T20:51:00.000000000",
          "2025-07-09T21:00:00.000000000",
          "2025-07-09T21:01:00.000000000",
          "2025-07-09T21:58:00.000000000",
          "2025-07-09T21:59:00.000000000",
          "2025-07-09T22:19:00.000000000",
          "2025-07-09T22:55:00.000000000",
          "2025-07-09T23:38:00.000000000",
          "2025-07-10T01:02:00.000000000",
          "2025-07-10T01:31:00.000000000",
          "2025-07-10T01:46:00.000000000",
          "2025-07-10T02:01:00.000000000",
          "2025-07-10T02:22:00.000000000",
          "2025-07-10T02:23:00.000000000",
          "2025-07-10T02:39:00.000000000",
          "2025-07-10T02:40:00.000000000",
          "2025-07-10T02:52:00.000000000",
          "2025-07-10T02:57:00.000000000",
          "2025-07-10T02:59:00.000000000",
          "2025-07-10T03:30:00.000000000",
          "2025-07-10T03:31:00.000000000",
          "2025-07-10T04:31:00.000000000",
          "2025-07-10T04:41:00.000000000",
          "2025-07-10T05:01:00.000000000",
          "2025-07-10T05:35:00.000000000",
          "2025-07-10T05:53:00.000000000",
          "2025-07-10T06:22:00.000000000",
          "2025-07-10T06:23:00.000000000",
          "2025-07-10T06:50:00.000000000",
          "2025-07-10T07:22:00.000000000",
          "2025-07-10T07:23:00.000000000",
          "2025-07-10T07:44:00.000000000",
          "2025-07-10T07:45:00.000000000",
          "2025-07-10T08:01:00.000000000",
          "2025-07-10T08:02:00.000000000",
          "2025-07-10T08:59:00.000000000",
          "2025-07-10T09:00:00.000000000",
          "2025-07-10T09:02:00.000000000",
          "2025-07-10T09:04:00.000000000",
          "2025-07-10T09:31:00.000000000",
          "2025-07-10T10:01:00.000000000",
          "2025-07-10T11:01:00.000000000",
          "2025-07-10T11:48:00.000000000",
          "2025-07-10T12:02:00.000000000",
          "2025-07-10T12:14:00.000000000",
          "2025-07-10T12:42:00.000000000",
          "2025-07-10T12:44:00.000000000",
          "2025-07-10T12:59:00.000000000",
          "2025-07-10T13:25:00.000000000",
          "2025-07-10T13:42:00.000000000",
          "2025-07-10T13:46:00.000000000",
          "2025-07-10T13:49:00.000000000",
          "2025-07-10T16:01:00.000000000",
          "2025-07-10T16:02:00.000000000",
          "2025-07-10T16:35:00.000000000",
          "2025-07-10T17:30:00.000000000",
          "2025-07-10T17:58:00.000000000",
          "2025-07-10T19:15:00.000000000",
          "2025-07-10T19:43:00.000000000",
          "2025-07-10T21:46:00.000000000",
          "2025-07-10T21:56:00.000000000",
          "2025-07-10T22:01:00.000000000",
          "2025-07-10T22:15:00.000000000",
          "2025-07-10T22:26:00.000000000",
          "2025-07-10T22:42:00.000000000",
          "2025-07-10T22:45:00.000000000",
          "2025-07-10T23:16:00.000000000",
          "2025-07-10T23:21:00.000000000",
          "2025-07-10T23:30:00.000000000",
          "2025-07-11T01:01:00.000000000",
          "2025-07-11T01:18:00.000000000",
          "2025-07-11T01:34:00.000000000",
          "2025-07-11T01:43:00.000000000",
          "2025-07-11T01:55:00.000000000",
          "2025-07-11T02:07:00.000000000",
          "2025-07-11T02:22:00.000000000",
          "2025-07-11T02:33:00.000000000",
          "2025-07-11T02:46:00.000000000",
          "2025-07-11T02:54:00.000000000",
          "2025-07-11T02:57:00.000000000",
          "2025-07-11T03:01:00.000000000",
          "2025-07-11T03:57:00.000000000",
          "2025-07-11T03:58:00.000000000",
          "2025-07-11T04:39:00.000000000",
          "2025-07-11T05:23:00.000000000",
          "2025-07-11T06:01:00.000000000",
          "2025-07-11T06:02:00.000000000",
          "2025-07-11T06:21:00.000000000",
          "2025-07-11T06:22:00.000000000",
          "2025-07-11T06:25:00.000000000",
          "2025-07-11T06:26:00.000000000",
          "2025-07-11T06:29:00.000000000",
          "2025-07-11T06:54:00.000000000",
          "2025-07-11T07:14:00.000000000",
          "2025-07-11T07:32:00.000000000",
          "2025-07-11T08:02:00.000000000",
          "2025-07-11T09:05:00.000000000",
          "2025-07-11T10:01:00.000000000",
          "2025-07-11T12:37:00.000000000",
          "2025-07-11T12:59:00.000000000",
          "2025-07-11T13:01:00.000000000",
          "2025-07-11T14:03:00.000000000",
          "2025-07-11T14:56:00.000000000",
          "2025-07-11T15:22:00.000000000",
          "2025-07-11T15:31:00.000000000",
          "2025-07-11T15:34:00.000000000",
          "2025-07-11T15:35:00.000000000",
          "2025-07-11T15:36:00.000000000",
          "2025-07-11T16:25:00.000000000",
          "2025-07-11T16:41:00.000000000",
          "2025-07-11T18:31:00.000000000",
          "2025-07-11T19:17:00.000000000",
          "2025-07-11T19:47:00.000000000",
          "2025-07-11T20:26:00.000000000",
          "2025-07-11T20:29:00.000000000",
          "2025-07-11T20:30:00.000000000",
          "2025-07-11T21:07:00.000000000",
          "2025-07-11T22:15:00.000000000",
          "2025-07-11T22:19:00.000000000",
          "2025-07-11T23:22:00.000000000",
          "2025-07-11T23:36:00.000000000",
          "2025-07-14T01:03:00.000000000",
          "2025-07-14T01:15:00.000000000",
          "2025-07-14T02:21:00.000000000",
          "2025-07-14T02:30:00.000000000",
          "2025-07-14T02:57:00.000000000",
          "2025-07-14T02:59:00.000000000",
          "2025-07-14T03:01:00.000000000",
          "2025-07-14T03:03:00.000000000",
          "2025-07-14T03:38:00.000000000",
          "2025-07-14T03:44:00.000000000",
          "2025-07-14T03:54:00.000000000",
          "2025-07-14T03:55:00.000000000",
          "2025-07-14T03:56:00.000000000",
          "2025-07-14T04:13:00.000000000",
          "2025-07-14T05:16:00.000000000",
          "2025-07-14T05:34:00.000000000",
          "2025-07-14T06:11:00.000000000",
          "2025-07-14T06:42:00.000000000",
          "2025-07-14T06:51:00.000000000",
          "2025-07-14T06:52:00.000000000",
          "2025-07-14T07:15:00.000000000",
          "2025-07-14T07:35:00.000000000",
          "2025-07-14T07:36:00.000000000",
          "2025-07-14T07:40:00.000000000",
          "2025-07-14T07:41:00.000000000",
          "2025-07-14T07:48:00.000000000",
          "2025-07-14T08:05:00.000000000",
          "2025-07-14T08:31:00.000000000",
          "2025-07-14T09:44:00.000000000",
          "2025-07-14T10:01:00.000000000",
          "2025-07-14T10:26:00.000000000",
          "2025-07-14T11:57:00.000000000",
          "2025-07-14T12:14:00.000000000",
          "2025-07-14T12:59:00.000000000",
          "2025-07-14T13:00:00.000000000",
          "2025-07-14T13:01:00.000000000",
          "2025-07-14T13:28:00.000000000",
          "2025-07-14T13:53:00.000000000",
          "2025-07-14T14:47:00.000000000",
          "2025-07-14T15:14:00.000000000",
          "2025-07-14T15:37:00.000000000",
          "2025-07-14T16:02:00.000000000",
          "2025-07-14T16:33:00.000000000",
          "2025-07-14T17:35:00.000000000",
          "2025-07-14T19:03:00.000000000",
          "2025-07-14T20:01:00.000000000",
          "2025-07-14T20:50:00.000000000",
          "2025-07-14T20:57:00.000000000",
          "2025-07-14T21:01:00.000000000",
          "2025-07-14T21:13:00.000000000",
          "2025-07-14T21:14:00.000000000",
          "2025-07-14T21:17:00.000000000",
          "2025-07-14T21:31:00.000000000",
          "2025-07-14T21:32:00.000000000",
          "2025-07-14T21:33:00.000000000",
          "2025-07-14T22:01:00.000000000",
          "2025-07-14T22:48:00.000000000",
          "2025-07-14T22:55:00.000000000",
          "2025-07-14T22:57:00.000000000",
          "2025-07-14T22:59:00.000000000",
          "2025-07-15T01:01:00.000000000",
          "2025-07-15T01:02:00.000000000",
          "2025-07-15T01:21:00.000000000",
          "2025-07-15T01:31:00.000000000",
          "2025-07-15T01:53:00.000000000",
          "2025-07-15T02:26:00.000000000",
          "2025-07-15T02:37:00.000000000",
          "2025-07-15T02:38:00.000000000",
          "2025-07-15T02:42:00.000000000",
          "2025-07-15T02:46:00.000000000",
          "2025-07-15T02:55:00.000000000",
          "2025-07-15T03:01:00.000000000",
          "2025-07-15T03:02:00.000000000",
          "2025-07-15T03:03:00.000000000",
          "2025-07-15T03:38:00.000000000",
          "2025-07-15T04:12:00.000000000",
          "2025-07-15T04:14:00.000000000",
          "2025-07-15T04:45:00.000000000",
          "2025-07-15T04:46:00.000000000",
          "2025-07-15T04:55:00.000000000",
          "2025-07-15T05:34:00.000000000",
          "2025-07-15T05:50:00.000000000",
          "2025-07-15T05:52:00.000000000",
          "2025-07-15T06:01:00.000000000",
          "2025-07-15T06:15:00.000000000",
          "2025-07-15T06:56:00.000000000",
          "2025-07-15T07:00:00.000000000",
          "2025-07-15T07:01:00.000000000",
          "2025-07-15T07:02:00.000000000",
          "2025-07-15T07:12:00.000000000",
          "2025-07-15T08:01:00.000000000",
          "2025-07-15T08:02:00.000000000",
          "2025-07-15T08:23:00.000000000",
          "2025-07-15T08:56:00.000000000",
          "2025-07-15T08:57:00.000000000",
          "2025-07-15T09:02:00.000000000",
          "2025-07-15T09:31:00.000000000",
          "2025-07-15T09:57:00.000000000",
          "2025-07-15T10:03:00.000000000",
          "2025-07-15T11:59:00.000000000",
          "2025-07-15T12:01:00.000000000",
          "2025-07-15T12:31:00.000000000",
          "2025-07-15T12:58:00.000000000",
          "2025-07-15T12:59:00.000000000",
          "2025-07-15T13:41:00.000000000",
          "2025-07-15T14:01:00.000000000",
          "2025-07-15T14:58:00.000000000",
          "2025-07-15T14:59:00.000000000",
          "2025-07-15T15:02:00.000000000",
          "2025-07-15T19:00:00.000000000",
          "2025-07-15T19:17:00.000000000",
          "2025-07-15T19:36:00.000000000",
          "2025-07-15T19:58:00.000000000",
          "2025-07-15T20:00:00.000000000",
          "2025-07-15T20:20:00.000000000",
          "2025-07-15T20:54:00.000000000",
          "2025-07-15T20:55:00.000000000",
          "2025-07-15T22:41:00.000000000",
          "2025-07-15T22:43:00.000000000",
          "2025-07-15T22:51:00.000000000",
          "2025-07-15T22:54:00.000000000",
          "2025-07-16T01:01:00.000000000",
          "2025-07-16T01:02:00.000000000",
          "2025-07-16T01:03:00.000000000",
          "2025-07-16T02:21:00.000000000",
          "2025-07-16T02:37:00.000000000",
          "2025-07-16T02:43:00.000000000",
          "2025-07-16T02:44:00.000000000",
          "2025-07-16T02:54:00.000000000",
          "2025-07-16T03:01:00.000000000",
          "2025-07-16T03:02:00.000000000",
          "2025-07-16T05:46:00.000000000",
          "2025-07-16T05:52:00.000000000",
          "2025-07-16T06:02:00.000000000",
          "2025-07-16T06:12:00.000000000",
          "2025-07-16T06:31:00.000000000",
          "2025-07-16T06:49:00.000000000",
          "2025-07-16T07:01:00.000000000",
          "2025-07-16T07:10:00.000000000",
          "2025-07-16T07:32:00.000000000",
          "2025-07-16T07:34:00.000000000",
          "2025-07-16T07:49:00.000000000",
          "2025-07-16T07:54:00.000000000",
          "2025-07-16T08:11:00.000000000",
          "2025-07-16T08:50:00.000000000",
          "2025-07-16T09:31:00.000000000",
          "2025-07-16T09:57:00.000000000",
          "2025-07-16T09:58:00.000000000",
          "2025-07-16T10:27:00.000000000",
          "2025-07-16T11:01:00.000000000",
          "2025-07-16T11:03:00.000000000",
          "2025-07-16T11:58:00.000000000",
          "2025-07-16T12:02:00.000000000",
          "2025-07-16T13:36:00.000000000",
          "2025-07-16T13:50:00.000000000",
          "2025-07-16T13:53:00.000000000",
          "2025-07-16T14:03:00.000000000",
          "2025-07-16T15:31:00.000000000",
          "2025-07-16T15:32:00.000000000",
          "2025-07-16T17:55:00.000000000",
          "2025-07-16T17:57:00.000000000",
          "2025-07-16T17:58:00.000000000",
          "2025-07-16T19:53:00.000000000",
          "2025-07-16T20:49:00.000000000",
          "2025-07-16T22:51:00.000000000",
          "2025-07-16T22:56:00.000000000",
          "2025-07-16T23:02:00.000000000",
          "2025-07-17T00:00:00.000000000",
          "2025-07-17T00:01:00.000000000",
          "2025-07-17T02:51:00.000000000",
          "2025-07-17T02:52:00.000000000",
          "2025-07-17T02:53:00.000000000",
          "2025-07-17T02:54:00.000000000",
          "2025-07-17T02:55:00.000000000",
          "2025-07-17T02:56:00.000000000",
          "2025-07-17T02:57:00.000000000",
          "2025-07-17T02:58:00.000000000",
          "2025-07-17T03:30:00.000000000",
          "2025-07-17T04:16:00.000000000",
          "2025-07-17T04:29:00.000000000",
          "2025-07-17T04:31:00.000000000",
          "2025-07-17T05:14:00.000000000",
          "2025-07-17T06:25:00.000000000",
          "2025-07-17T06:52:00.000000000",
          "2025-07-17T07:12:00.000000000",
          "2025-07-17T07:35:00.000000000",
          "2025-07-17T07:52:00.000000000",
          "2025-07-17T07:59:00.000000000",
          "2025-07-17T08:02:00.000000000",
          "2025-07-17T08:32:00.000000000",
          "2025-07-17T08:46:00.000000000",
          "2025-07-17T08:59:00.000000000",
          "2025-07-17T10:38:00.000000000",
          "2025-07-17T11:28:00.000000000",
          "2025-07-17T11:30:00.000000000",
          "2025-07-17T11:57:00.000000000",
          "2025-07-17T11:59:00.000000000",
          "2025-07-17T12:01:00.000000000",
          "2025-07-17T13:26:00.000000000",
          "2025-07-17T13:27:00.000000000",
          "2025-07-17T14:02:00.000000000",
          "2025-07-17T14:18:00.000000000",
          "2025-07-17T14:47:00.000000000",
          "2025-07-17T14:59:00.000000000",
          "2025-07-17T15:00:00.000000000",
          "2025-07-17T15:01:00.000000000",
          "2025-07-17T15:34:00.000000000",
          "2025-07-17T17:38:00.000000000",
          "2025-07-17T18:41:00.000000000",
          "2025-07-17T19:41:00.000000000",
          "2025-07-17T20:23:00.000000000",
          "2025-07-17T21:41:00.000000000",
          "2025-07-17T22:00:00.000000000",
          "2025-07-17T22:07:00.000000000",
          "2025-07-17T22:20:00.000000000",
          "2025-07-17T22:23:00.000000000",
          "2025-07-17T22:51:00.000000000",
          "2025-07-17T22:52:00.000000000",
          "2025-07-17T22:54:00.000000000",
          "2025-07-17T22:56:00.000000000",
          "2025-07-17T23:15:00.000000000",
          "2025-07-17T23:20:00.000000000",
          "2025-07-18T01:01:00.000000000",
          "2025-07-18T01:02:00.000000000",
          "2025-07-18T01:29:00.000000000",
          "2025-07-18T01:31:00.000000000",
          "2025-07-18T01:33:00.000000000",
          "2025-07-18T01:37:00.000000000",
          "2025-07-18T01:43:00.000000000",
          "2025-07-18T02:34:00.000000000",
          "2025-07-18T02:43:00.000000000",
          "2025-07-18T03:01:00.000000000",
          "2025-07-18T03:03:00.000000000",
          "2025-07-18T03:54:00.000000000",
          "2025-07-18T04:47:00.000000000",
          "2025-07-18T04:48:00.000000000",
          "2025-07-18T04:49:00.000000000",
          "2025-07-18T06:24:00.000000000",
          "2025-07-18T06:43:00.000000000",
          "2025-07-18T07:33:00.000000000",
          "2025-07-18T07:48:00.000000000",
          "2025-07-18T07:49:00.000000000",
          "2025-07-18T08:44:00.000000000",
          "2025-07-18T09:53:00.000000000",
          "2025-07-18T09:54:00.000000000",
          "2025-07-18T09:56:00.000000000",
          "2025-07-18T09:57:00.000000000",
          "2025-07-18T11:01:00.000000000",
          "2025-07-18T11:02:00.000000000",
          "2025-07-18T12:00:00.000000000",
          "2025-07-18T12:49:00.000000000",
          "2025-07-18T12:50:00.000000000",
          "2025-07-18T12:51:00.000000000",
          "2025-07-18T13:20:00.000000000",
          "2025-07-18T14:10:00.000000000",
          "2025-07-18T15:01:00.000000000",
          "2025-07-18T15:02:00.000000000",
          "2025-07-18T15:03:00.000000000",
          "2025-07-18T15:04:00.000000000",
          "2025-07-18T15:06:00.000000000",
          "2025-07-18T15:07:00.000000000",
          "2025-07-18T15:14:00.000000000",
          "2025-07-18T15:15:00.000000000",
          "2025-07-18T15:59:00.000000000",
          "2025-07-18T16:01:00.000000000",
          "2025-07-18T16:21:00.000000000",
          "2025-07-18T16:25:00.000000000",
          "2025-07-18T16:54:00.000000000",
          "2025-07-18T20:51:00.000000000",
          "2025-07-18T21:26:00.000000000",
          "2025-07-18T21:58:00.000000000",
          "2025-07-18T22:14:00.000000000",
          "2025-07-18T22:57:00.000000000",
          "2025-07-18T23:00:00.000000000",
          "2025-07-18T23:13:00.000000000",
          "2025-07-18T23:26:00.000000000",
          "2025-07-18T23:37:00.000000000",
          "2025-07-21T01:02:00.000000000",
          "2025-07-21T01:19:00.000000000",
          "2025-07-21T01:45:00.000000000",
          "2025-07-21T02:02:00.000000000",
          "2025-07-21T02:21:00.000000000",
          "2025-07-21T02:55:00.000000000",
          "2025-07-21T02:59:00.000000000",
          "2025-07-21T03:01:00.000000000",
          "2025-07-21T03:03:00.000000000",
          "2025-07-21T03:04:00.000000000",
          "2025-07-21T03:13:00.000000000",
          "2025-07-21T03:15:00.000000000",
          "2025-07-21T03:34:00.000000000",
          "2025-07-21T03:39:00.000000000",
          "2025-07-21T05:24:00.000000000",
          "2025-07-21T05:25:00.000000000",
          "2025-07-21T05:50:00.000000000",
          "2025-07-21T05:51:00.000000000",
          "2025-07-21T06:02:00.000000000",
          "2025-07-21T06:12:00.000000000",
          "2025-07-21T06:14:00.000000000",
          "2025-07-21T07:01:00.000000000",
          "2025-07-21T07:02:00.000000000",
          "2025-07-21T07:35:00.000000000",
          "2025-07-21T07:53:00.000000000",
          "2025-07-21T08:04:00.000000000",
          "2025-07-21T08:29:00.000000000",
          "2025-07-21T08:31:00.000000000",
          "2025-07-21T08:33:00.000000000",
          "2025-07-21T09:02:00.000000000",
          "2025-07-21T09:05:00.000000000",
          "2025-07-21T09:26:00.000000000",
          "2025-07-21T10:04:00.000000000",
          "2025-07-21T11:34:00.000000000",
          "2025-07-21T11:35:00.000000000",
          "2025-07-21T11:36:00.000000000",
          "2025-07-21T11:37:00.000000000",
          "2025-07-21T11:38:00.000000000",
          "2025-07-21T11:39:00.000000000",
          "2025-07-21T11:40:00.000000000",
          "2025-07-21T12:45:00.000000000",
          "2025-07-21T14:02:00.000000000",
          "2025-07-21T14:03:00.000000000",
          "2025-07-21T14:04:00.000000000",
          "2025-07-21T14:05:00.000000000",
          "2025-07-21T14:06:00.000000000",
          "2025-07-21T14:24:00.000000000",
          "2025-07-21T15:31:00.000000000",
          "2025-07-21T15:57:00.000000000",
          "2025-07-21T16:34:00.000000000",
          "2025-07-21T20:56:00.000000000",
          "2025-07-21T21:46:00.000000000",
          "2025-07-21T22:21:00.000000000",
          "2025-07-21T22:32:00.000000000",
          "2025-07-21T22:56:00.000000000",
          "2025-07-21T23:30:00.000000000",
          "2025-07-21T23:38:00.000000000",
          "2025-07-22T01:01:00.000000000",
          "2025-07-22T01:33:00.000000000",
          "2025-07-22T01:36:00.000000000",
          "2025-07-22T01:58:00.000000000",
          "2025-07-22T02:08:00.000000000",
          "2025-07-22T02:35:00.000000000",
          "2025-07-22T03:53:00.000000000",
          "2025-07-22T03:54:00.000000000",
          "2025-07-22T04:16:00.000000000",
          "2025-07-22T04:31:00.000000000",
          "2025-07-22T04:56:00.000000000",
          "2025-07-22T06:47:00.000000000",
          "2025-07-22T07:19:00.000000000",
          "2025-07-22T07:48:00.000000000",
          "2025-07-22T08:42:00.000000000",
          "2025-07-22T08:56:00.000000000",
          "2025-07-22T09:18:00.000000000",
          "2025-07-22T09:33:00.000000000",
          "2025-07-22T09:40:00.000000000",
          "2025-07-22T09:56:00.000000000",
          "2025-07-22T09:58:00.000000000",
          "2025-07-22T10:44:00.000000000",
          "2025-07-22T10:45:00.000000000",
          "2025-07-22T10:56:00.000000000",
          "2025-07-28T11:51:00.000000000",
          "2025-07-28T12:21:00.000000000",
          "2025-07-28T13:01:00.000000000",
          "2025-07-28T14:19:00.000000000",
          "2025-07-28T14:54:00.000000000",
          "2025-07-28T14:56:00.000000000",
          "2025-07-28T15:01:00.000000000",
          "2025-07-28T15:02:00.000000000",
          "2025-07-28T15:54:00.000000000",
          "2025-07-28T17:25:00.000000000",
          "2025-07-28T18:03:00.000000000",
          "2025-07-28T18:23:00.000000000",
          "2025-07-28T18:43:00.000000000",
          "2025-07-28T20:23:00.000000000",
          "2025-07-28T21:42:00.000000000",
          "2025-07-28T21:53:00.000000000",
          "2025-07-28T22:13:00.000000000",
          "2025-07-28T22:54:00.000000000",
          "2025-07-28T22:56:00.000000000",
          "2025-07-28T23:00:00.000000000",
          "2025-07-28T23:13:00.000000000",
          "2025-07-28T23:37:00.000000000",
          "2025-07-29T01:20:00.000000000",
          "2025-07-29T02:01:00.000000000",
          "2025-07-29T02:44:00.000000000",
          "2025-07-29T02:58:00.000000000",
          "2025-07-29T02:59:00.000000000",
          "2025-07-29T03:03:00.000000000",
          "2025-07-29T03:16:00.000000000",
          "2025-07-29T03:53:00.000000000",
          "2025-07-29T03:54:00.000000000",
          "2025-07-29T03:56:00.000000000",
          "2025-07-29T04:21:00.000000000",
          "2025-07-29T05:01:00.000000000",
          "2025-07-29T05:14:00.000000000",
          "2025-07-29T05:15:00.000000000",
          "2025-07-29T05:59:00.000000000",
          "2025-07-29T06:35:00.000000000",
          "2025-07-29T07:44:00.000000000",
          "2025-07-29T07:56:00.000000000",
          "2025-07-29T08:00:00.000000000",
          "2025-07-29T08:15:00.000000000",
          "2025-07-29T08:26:00.000000000",
          "2025-07-29T12:01:00.000000000",
          "2025-07-29T13:52:00.000000000",
          "2025-07-29T14:40:00.000000000",
          "2025-07-29T15:21:00.000000000",
          "2025-07-29T16:01:00.000000000",
          "2025-07-29T16:51:00.000000000",
          "2025-07-29T18:31:00.000000000",
          "2025-07-29T18:59:00.000000000",
          "2025-07-29T19:01:00.000000000",
          "2025-07-29T19:17:00.000000000",
          "2025-07-29T19:28:00.000000000",
          "2025-07-29T19:46:00.000000000",
          "2025-07-29T20:03:00.000000000",
          "2025-07-29T20:18:00.000000000",
          "2025-07-29T20:19:00.000000000",
          "2025-07-29T21:00:00.000000000",
          "2025-07-29T22:00:00.000000000",
          "2025-07-29T22:13:00.000000000",
          "2025-07-29T22:20:00.000000000",
          "2025-07-29T23:12:00.000000000",
          "2025-07-29T23:18:00.000000000",
          "2025-07-29T23:33:00.000000000",
          "2025-07-30T01:01:00.000000000",
          "2025-07-30T01:16:00.000000000",
          "2025-07-30T01:34:00.000000000",
          "2025-07-30T01:37:00.000000000",
          "2025-07-30T02:02:00.000000000",
          "2025-07-30T02:13:00.000000000",
          "2025-07-30T02:48:00.000000000",
          "2025-07-30T03:00:00.000000000",
          "2025-07-30T03:01:00.000000000",
          "2025-07-30T03:02:00.000000000",
          "2025-07-30T03:35:00.000000000",
          "2025-07-30T03:59:00.000000000",
          "2025-07-30T04:01:00.000000000",
          "2025-07-30T04:32:00.000000000",
          "2025-07-30T05:49:00.000000000",
          "2025-07-30T06:00:00.000000000",
          "2025-07-30T06:01:00.000000000",
          "2025-07-30T06:02:00.000000000",
          "2025-07-30T06:39:00.000000000",
          "2025-07-30T06:58:00.000000000",
          "2025-07-30T07:15:00.000000000",
          "2025-07-30T07:29:00.000000000",
          "2025-07-30T07:44:00.000000000",
          "2025-07-30T08:23:00.000000000",
          "2025-07-30T08:24:00.000000000",
          "2025-07-30T08:25:00.000000000",
          "2025-07-30T08:59:00.000000000",
          "2025-07-30T09:31:00.000000000",
          "2025-07-30T09:53:00.000000000",
          "2025-07-30T11:26:00.000000000",
          "2025-07-30T12:01:00.000000000",
          "2025-07-30T13:40:00.000000000",
          "2025-07-30T13:58:00.000000000",
          "2025-07-30T14:32:00.000000000",
          "2025-07-30T15:00:00.000000000",
          "2025-07-30T15:17:00.000000000",
          "2025-07-30T19:19:00.000000000",
          "2025-07-30T19:59:00.000000000",
          "2025-07-30T20:01:00.000000000",
          "2025-07-30T20:50:00.000000000",
          "2025-07-30T20:52:00.000000000",
          "2025-07-30T21:01:00.000000000",
          "2025-07-30T21:35:00.000000000",
          "2025-07-30T21:36:00.000000000",
          "2025-07-30T23:18:00.000000000",
          "2025-07-31T01:16:00.000000000",
          "2025-07-31T01:17:00.000000000",
          "2025-07-31T01:31:00.000000000",
          "2025-07-31T01:32:00.000000000",
          "2025-07-31T01:34:00.000000000",
          "2025-07-31T01:45:00.000000000",
          "2025-07-31T01:55:00.000000000",
          "2025-07-31T02:37:00.000000000",
          "2025-07-31T02:40:00.000000000",
          "2025-07-31T02:48:00.000000000",
          "2025-07-31T03:01:00.000000000",
          "2025-07-31T03:02:00.000000000",
          "2025-07-31T05:46:00.000000000",
          "2025-07-31T05:54:00.000000000",
          "2025-07-31T05:59:00.000000000",
          "2025-07-31T07:13:00.000000000",
          "2025-07-31T07:15:00.000000000",
          "2025-07-31T07:33:00.000000000",
          "2025-07-31T07:56:00.000000000",
          "2025-07-31T08:11:00.000000000",
          "2025-07-31T08:16:00.000000000",
          "2025-07-31T08:23:00.000000000",
          "2025-07-31T09:21:00.000000000",
          "2025-07-31T10:47:00.000000000",
          "2025-07-31T10:57:00.000000000",
          "2025-07-31T11:29:00.000000000",
          "2025-07-31T13:56:00.000000000",
          "2025-07-31T13:58:00.000000000",
          "2025-07-31T14:02:00.000000000",
          "2025-07-31T14:31:00.000000000",
          "2025-07-31T14:55:00.000000000",
          "2025-07-31T16:31:00.000000000",
          "2025-07-31T17:14:00.000000000",
          "2025-07-31T19:01:00.000000000",
          "2025-07-31T20:53:00.000000000",
          "2025-07-31T21:20:00.000000000",
          "2025-07-31T22:00:00.000000000",
          "2025-07-31T22:01:00.000000000",
          "2025-07-31T22:27:00.000000000",
          "2025-07-31T23:31:00.000000000",
          "2025-08-01T01:02:00.000000000",
          "2025-08-01T01:20:00.000000000",
          "2025-08-01T01:21:00.000000000",
          "2025-08-01T01:34:00.000000000",
          "2025-08-01T01:35:00.000000000",
          "2025-08-01T01:59:00.000000000",
          "2025-08-01T02:00:00.000000000",
          "2025-08-01T02:11:00.000000000",
          "2025-08-01T03:44:00.000000000",
          "2025-08-01T03:56:00.000000000",
          "2025-08-01T04:03:00.000000000",
          "2025-08-01T05:37:00.000000000",
          "2025-08-01T05:53:00.000000000",
          "2025-08-01T06:42:00.000000000",
          "2025-08-01T07:45:00.000000000",
          "2025-08-01T07:51:00.000000000",
          "2025-08-01T08:03:00.000000000",
          "2025-08-01T08:05:00.000000000",
          "2025-08-01T08:31:00.000000000",
          "2025-08-01T08:55:00.000000000",
          "2025-08-01T09:55:00.000000000",
          "2025-08-01T09:59:00.000000000",
          "2025-08-01T10:54:00.000000000",
          "2025-08-01T11:25:00.000000000",
          "2025-08-01T11:26:00.000000000",
          "2025-08-01T13:01:00.000000000",
          "2025-08-01T13:31:00.000000000",
          "2025-08-01T13:34:00.000000000",
          "2025-08-01T14:14:00.000000000",
          "2025-08-01T15:01:00.000000000",
          "2025-08-01T15:31:00.000000000",
          "2025-08-01T21:10:00.000000000",
          "2025-08-01T22:31:00.000000000",
          "2025-08-01T22:32:00.000000000",
          "2025-08-01T22:33:00.000000000",
          "2025-08-01T23:34:00.000000000",
          "2025-08-01T23:35:00.000000000",
          "2025-08-04T01:01:00.000000000",
          "2025-08-04T01:17:00.000000000",
          "2025-08-04T02:26:00.000000000",
          "2025-08-04T02:47:00.000000000",
          "2025-08-04T02:59:00.000000000",
          "2025-08-04T03:05:00.000000000",
          "2025-08-04T04:16:00.000000000",
          "2025-08-04T05:01:00.000000000",
          "2025-08-04T05:57:00.000000000",
          "2025-08-04T06:02:00.000000000",
          "2025-08-04T06:03:00.000000000",
          "2025-08-04T06:46:00.000000000",
          "2025-08-04T09:14:00.000000000",
          "2025-08-04T09:31:00.000000000",
          "2025-08-04T12:39:00.000000000",
          "2025-08-04T19:42:00.000000000",
          "2025-08-04T20:48:00.000000000",
          "2025-08-04T21:14:00.000000000",
          "2025-08-04T21:58:00.000000000",
          "2025-08-04T22:31:00.000000000",
          "2025-08-04T22:43:00.000000000",
          "2025-08-04T22:51:00.000000000",
          "2025-08-04T23:13:00.000000000",
          "2025-08-04T23:30:00.000000000",
          "2025-08-05T01:03:00.000000000",
          "2025-08-05T01:31:00.000000000",
          "2025-08-05T02:02:00.000000000",
          "2025-08-05T02:05:00.000000000",
          "2025-08-05T02:12:00.000000000",
          "2025-08-05T03:01:00.000000000",
          "2025-08-05T03:02:00.000000000",
          "2025-08-05T03:03:00.000000000",
          "2025-08-05T03:13:00.000000000",
          "2025-08-05T03:44:00.000000000",
          "2025-08-05T04:47:00.000000000",
          "2025-08-05T05:34:00.000000000",
          "2025-08-05T06:46:00.000000000",
          "2025-08-05T07:57:00.000000000",
          "2025-08-05T09:26:00.000000000",
          "2025-08-05T10:52:00.000000000",
          "2025-08-05T12:46:00.000000000",
          "2025-08-05T13:57:00.000000000",
          "2025-08-05T15:20:00.000000000",
          "2025-08-05T16:31:00.000000000",
          "2025-08-05T19:31:00.000000000",
          "2025-08-05T20:44:00.000000000",
          "2025-08-05T21:49:00.000000000",
          "2025-08-05T22:48:00.000000000",
          "2025-08-05T22:59:00.000000000",
          "2025-08-06T01:01:00.000000000",
          "2025-08-06T01:17:00.000000000",
          "2025-08-06T01:49:00.000000000",
          "2025-08-06T01:50:00.000000000",
          "2025-08-06T02:37:00.000000000",
          "2025-08-06T02:43:00.000000000",
          "2025-08-06T02:45:00.000000000",
          "2025-08-06T02:46:00.000000000",
          "2025-08-06T02:47:00.000000000",
          "2025-08-06T03:02:00.000000000",
          "2025-08-06T03:03:00.000000000",
          "2025-08-06T03:04:00.000000000",
          "2025-08-06T03:22:00.000000000",
          "2025-08-06T03:55:00.000000000",
          "2025-08-06T04:13:00.000000000",
          "2025-08-06T05:13:00.000000000",
          "2025-08-06T05:22:00.000000000",
          "2025-08-06T06:01:00.000000000",
          "2025-08-06T06:51:00.000000000",
          "2025-08-06T07:02:00.000000000",
          "2025-08-06T07:41:00.000000000",
          "2025-08-06T07:49:00.000000000",
          "2025-08-06T08:02:00.000000000",
          "2025-08-06T08:41:00.000000000",
          "2025-08-06T09:02:00.000000000",
          "2025-08-06T09:07:00.000000000",
          "2025-08-06T09:35:00.000000000",
          "2025-08-06T10:00:00.000000000",
          "2025-08-06T10:02:00.000000000",
          "2025-08-06T10:47:00.000000000",
          "2025-08-06T11:33:00.000000000",
          "2025-08-06T12:53:00.000000000",
          "2025-08-06T13:08:00.000000000",
          "2025-08-06T13:09:00.000000000",
          "2025-08-06T13:13:00.000000000",
          "2025-08-06T13:47:00.000000000",
          "2025-08-06T14:24:00.000000000",
          "2025-08-06T14:31:00.000000000",
          "2025-08-06T15:21:00.000000000",
          "2025-08-06T15:41:00.000000000",
          "2025-08-06T16:13:00.000000000",
          "2025-08-06T19:46:00.000000000",
          "2025-08-06T19:48:00.000000000",
          "2025-08-07T20:55:00.000000000",
          "2025-08-07T22:13:00.000000000",
          "2025-08-07T22:30:00.000000000",
          "2025-08-08T13:55:00.000000000",
          "2025-08-08T14:36:00.000000000",
          "2025-08-11T01:08:00.000000000",
          "2025-08-11T01:09:00.000000000",
          "2025-08-11T01:10:00.000000000",
          "2025-08-11T02:00:00.000000000",
          "2025-08-11T02:12:00.000000000",
          "2025-08-11T02:13:00.000000000",
          "2025-08-11T02:37:00.000000000",
          "2025-08-11T03:59:00.000000000",
          "2025-08-11T04:00:00.000000000",
          "2025-08-11T19:26:00.000000000",
          "2025-08-11T20:19:00.000000000",
          "2025-08-11T21:19:00.000000000",
          "2025-08-11T21:57:00.000000000",
          "2025-08-11T23:12:00.000000000",
          "2025-08-11T23:22:00.000000000",
          "2025-08-11T23:24:00.000000000",
          "2025-08-11T23:39:00.000000000",
          "2025-08-12T01:02:00.000000000",
          "2025-08-12T01:18:00.000000000",
          "2025-08-12T01:39:00.000000000",
          "2025-08-12T02:26:00.000000000",
          "2025-08-12T02:32:00.000000000",
          "2025-08-12T02:58:00.000000000",
          "2025-08-12T03:01:00.000000000",
          "2025-08-12T03:02:00.000000000",
          "2025-08-12T03:21:00.000000000",
          "2025-08-12T04:36:00.000000000",
          "2025-08-12T04:55:00.000000000",
          "2025-08-12T05:23:00.000000000",
          "2025-08-12T05:50:00.000000000",
          "2025-08-12T06:01:00.000000000",
          "2025-08-12T06:34:00.000000000",
          "2025-08-12T06:57:00.000000000",
          "2025-08-12T06:58:00.000000000",
          "2025-08-12T07:32:00.000000000",
          "2025-08-12T08:01:00.000000000",
          "2025-08-12T08:02:00.000000000",
          "2025-08-12T08:33:00.000000000",
          "2025-08-12T08:34:00.000000000",
          "2025-08-12T08:57:00.000000000",
          "2025-08-12T10:01:00.000000000",
          "2025-08-12T12:01:00.000000000",
          "2025-08-12T13:51:00.000000000",
          "2025-08-12T14:56:00.000000000",
          "2025-08-12T15:01:00.000000000",
          "2025-08-14T19:59:00.000000000",
          "2025-08-14T20:00:00.000000000",
          "2025-08-14T20:53:00.000000000",
          "2025-08-14T22:24:00.000000000",
          "2025-08-14T22:26:00.000000000",
          "2025-08-14T23:30:00.000000000",
          "2025-08-14T23:45:00.000000000",
          "2025-08-14T23:46:00.000000000",
          "2025-08-15T01:33:00.000000000",
          "2025-08-19T22:28:00.000000000",
          "2025-08-19T22:29:00.000000000",
          "2025-08-19T23:36:00.000000000",
          "2025-08-20T01:32:00.000000000",
          "2025-08-20T02:00:00.000000000",
          "2025-08-20T03:10:00.000000000",
          "2025-08-20T03:11:00.000000000",
          "2025-08-20T04:21:00.000000000",
          "2025-08-20T04:22:00.000000000",
          "2025-08-20T05:02:00.000000000",
          "2025-08-20T05:56:00.000000000",
          "2025-08-20T06:28:00.000000000",
          "2025-08-20T07:17:00.000000000",
          "2025-08-20T07:18:00.000000000",
          "2025-08-20T07:23:00.000000000",
          "2025-08-20T07:38:00.000000000",
          "2025-08-20T07:57:00.000000000",
          "2025-08-20T09:03:00.000000000",
          "2025-08-20T09:04:00.000000000",
          "2025-08-20T09:05:00.000000000",
          "2025-08-20T10:03:00.000000000"
         ],
         "xaxis": "x",
         "y": [
          0,
          -2,
          -6,
          -7,
          -12,
          -16,
          -10,
          -2,
          -8,
          -9,
          0,
          0,
          0,
          0,
          -6,
          -11,
          0,
          -2,
          -6,
          -12,
          -18,
          -15,
          -11,
          -11,
          -6,
          0,
          0,
          0,
          -6,
          -6,
          0,
          0,
          -3,
          0,
          -2,
          -3,
          -1,
          -2,
          0,
          -2,
          -6,
          -3,
          -3,
          -6,
          0,
          0,
          0,
          -7,
          -9,
          -15,
          -17,
          -22,
          -27,
          -28,
          -33,
          -23,
          -24,
          -23,
          -24,
          -25,
          -27,
          -9,
          -13,
          -11,
          0,
          0,
          0,
          0,
          0,
          -1,
          0,
          -6,
          -1,
          0,
          0,
          -3,
          -9,
          -13,
          0,
          -3,
          0,
          0,
          0,
          0,
          0,
          -1,
          0,
          -6,
          0,
          -3,
          0,
          0,
          0,
          0,
          0,
          0,
          0,
          0,
          -4,
          0,
          0,
          0,
          0,
          0,
          0,
          0,
          0,
          0,
          -3,
          -9,
          0,
          0,
          0,
          -1,
          0,
          0,
          0,
          0,
          0,
          -2,
          -1,
          0,
          -2,
          0,
          0,
          0,
          0,
          0,
          -5,
          -8,
          -14,
          -20,
          -26,
          -19,
          -18,
          -23,
          -18,
          -17,
          -14,
          -7,
          -3,
          -10,
          -14,
          -9,
          0,
          -4,
          0,
          -5,
          -9,
          -5,
          -5,
          0,
          -6,
          -7,
          0,
          0,
          0,
          -5,
          0,
          0,
          0,
          0,
          0,
          0,
          -8,
          -2,
          0,
          0,
          -5,
          -4,
          0,
          0,
          0,
          -2,
          0,
          -3,
          0,
          0,
          -4,
          -8,
          -12,
          -5,
          -3,
          0,
          0,
          -2,
          0,
          0,
          -1,
          0,
          0,
          0,
          0,
          0,
          -2,
          -2,
          -3,
          -2,
          -5,
          -10,
          -5,
          0,
          0,
          0,
          -6,
          -14,
          -6,
          0,
          -4,
          0,
          -5,
          -6,
          -7,
          0,
          0,
          -6,
          -9,
          -11,
          -4,
          -7,
          -6,
          -3,
          0,
          0,
          -3,
          0,
          0,
          0,
          0,
          0,
          0,
          0,
          0,
          0,
          0,
          0,
          0,
          0,
          0,
          -2,
          0,
          0,
          -3,
          -3,
          0,
          -6,
          -5,
          -11,
          -11,
          0,
          0,
          0,
          0,
          0,
          -5,
          -4,
          -5,
          -10,
          -3,
          -6,
          -11,
          -12,
          -16,
          -9,
          -3,
          0,
          0,
          0,
          -2,
          -4,
          0,
          -5,
          0,
          -5,
          0,
          0,
          0,
          0,
          -5,
          0,
          0,
          0,
          0,
          0,
          -5,
          -9,
          -15,
          0,
          -5,
          -11,
          0,
          0,
          0,
          -3,
          -6,
          -6,
          -1,
          -1,
          -1,
          -3,
          0,
          -5,
          0,
          0,
          0,
          -1,
          -4,
          0,
          0,
          -2,
          0,
          0,
          -2,
          0,
          0,
          -6,
          0,
          -2,
          0,
          0,
          0,
          -6,
          0,
          -3,
          0,
          0,
          -4,
          -8,
          0,
          -5,
          -8,
          0,
          -1,
          0,
          0,
          0,
          0,
          -5,
          -9,
          -10,
          -11,
          -10,
          0,
          0,
          0,
          0,
          0,
          -6,
          -9,
          -1,
          0,
          -2,
          -7,
          -12,
          -9,
          -5,
          -11,
          -11,
          -15,
          -5,
          -6,
          -5,
          -3,
          0,
          0,
          0,
          -4,
          0,
          0,
          -4,
          -11,
          -4,
          -7,
          -11,
          -17,
          -19,
          -25,
          -29,
          -26,
          -26,
          -27,
          -18,
          -14,
          -5,
          0,
          -1,
          0,
          0,
          -6,
          -12,
          -18,
          -23,
          -11,
          -3,
          -2,
          -7,
          -7,
          -8,
          -4,
          -6,
          0,
          0,
          -5,
          0,
          -1,
          0,
          -1,
          -5,
          -8,
          -7,
          -3,
          0,
          0,
          0,
          0,
          0,
          -4,
          -7,
          -11,
          -8,
          -13,
          -19,
          -24,
          -22,
          -26,
          -28,
          -16,
          -17,
          -19,
          -19,
          -20,
          -15,
          -16,
          -22,
          -10,
          -7,
          -3,
          0,
          -2,
          -7,
          0,
          -1,
          -6,
          -2,
          -7,
          -10,
          0,
          0,
          -4,
          0,
          0,
          0,
          -6,
          0,
          0,
          -1,
          0,
          -29,
          -78,
          -118,
          -180,
          -212,
          -243,
          -261,
          -316,
          -351,
          -356,
          -362,
          -351,
          -343,
          -347,
          -350,
          -340,
          -336,
          -339,
          -345,
          -337,
          -339,
          -343,
          -347,
          -353,
          -356,
          -344,
          -314,
          -288,
          -282,
          -282,
          -278,
          -286,
          -289,
          -287,
          -281,
          -279,
          -273,
          -279,
          -273,
          -229,
          -218,
          -210,
          -203,
          -202,
          -209,
          -214,
          -205,
          -192,
          -186,
          -189,
          -194,
          -196,
          -202,
          -208,
          -210,
          -178,
          -174,
          -174,
          -156,
          -149,
          -133,
          -131,
          -126,
          -126,
          -115,
          -94,
          -96,
          -91,
          -63,
          -45,
          -51,
          -57,
          -63,
          -58,
          -63,
          -67,
          -50,
          -42,
          -47,
          -51,
          -39,
          -6,
          -26,
          -53,
          -128,
          -167,
          -139,
          -72,
          -10,
          0,
          0,
          -12,
          0,
          0,
          0,
          0,
          -4,
          -5,
          0,
          0,
          0,
          0,
          0,
          -2,
          -1,
          0,
          -2,
          -6,
          -7,
          -6,
          0,
          0,
          0,
          0,
          0,
          0,
          -1,
          -4,
          0,
          0,
          0,
          0,
          -6,
          -11,
          -11,
          -13,
          -17,
          -7,
          0,
          -4,
          -1,
          -7,
          -6,
          -12,
          -10,
          -3,
          -8,
          -2,
          -2,
          -6,
          -10,
          -11,
          0,
          0,
          0,
          0,
          0,
          0,
          0,
          -19,
          -12,
          0,
          0,
          0,
          0,
          0,
          0,
          0,
          0,
          0,
          0,
          -6,
          -12,
          -14,
          -10,
          -15,
          -7,
          0,
          -5,
          -11,
          -13,
          -14,
          -16,
          0,
          -4,
          -1,
          0,
          0,
          -3,
          -5,
          -4,
          -8,
          0,
          -1,
          0,
          -5,
          -6,
          0,
          0,
          0,
          0,
          0,
          0,
          0,
          0,
          -5,
          0,
          0,
          0,
          -2,
          -9,
          -45,
          -10,
          -4,
          -5,
          -3,
          0,
          -4,
          -1,
          -1,
          0,
          0,
          -1,
          -1,
          0,
          -4,
          0,
          -5,
          0,
          0,
          -11,
          -19,
          -22,
          -17,
          0,
          -6,
          -3,
          0,
          -3,
          0,
          0,
          0,
          -5,
          0,
          0,
          -5,
          -9,
          -14,
          -15,
          -3,
          -2,
          0,
          0,
          0,
          -1,
          0,
          0,
          0,
          -1,
          0,
          0,
          0,
          0,
          -5,
          -6,
          -8,
          -9,
          -10,
          -13,
          -18,
          -22,
          -29,
          -26,
          -25,
          -19,
          -11,
          -12,
          -15,
          -9,
          0,
          0,
          -2,
          0,
          0,
          -3,
          0,
          -2,
          0,
          0,
          0,
          0,
          -6,
          -6,
          0,
          0,
          -1,
          -5,
          0,
          0,
          0,
          0,
          0,
          0,
          -6,
          0,
          -6,
          -2,
          0,
          0,
          0,
          0,
          0,
          0,
          0,
          -3,
          -2,
          -8,
          -6,
          -8,
          0,
          -2,
          0,
          0,
          0,
          0,
          0,
          -6,
          -11,
          -1,
          0,
          0,
          0,
          0,
          0,
          0,
          0,
          0,
          -1,
          0,
          -5,
          0,
          0,
          0,
          0,
          0,
          0,
          0,
          -3,
          0,
          -1,
          -7,
          -14,
          -12,
          -6,
          -3,
          -3,
          -7,
          -3,
          0,
          0,
          0,
          0,
          -6,
          -6,
          -7,
          -12,
          -12,
          -8,
          -10,
          -2,
          0,
          0,
          0,
          0,
          0,
          0,
          0,
          0,
          0,
          0,
          0,
          0,
          0,
          0,
          0,
          0,
          0,
          0,
          0,
          0,
          -4,
          0,
          -2,
          0,
          0,
          0,
          -1,
          0,
          0,
          -1,
          0,
          0,
          0,
          -1,
          0,
          -6,
          0,
          -3,
          -8,
          0,
          0,
          -1,
          0,
          0,
          0,
          0,
          0,
          0,
          -2,
          -2,
          0,
          -3,
          -4,
          -7,
          -11,
          -16,
          0,
          0,
          0,
          -3,
          0,
          0,
          0,
          0,
          -6,
          -8,
          -14,
          0,
          0,
          0,
          0,
          0,
          0,
          0,
          -1,
          0,
          -4,
          0,
          0,
          -6,
          -12,
          -5,
          -3,
          0,
          0,
          -5,
          0,
          -5,
          -5,
          0,
          0,
          0,
          0,
          0,
          -4,
          -9,
          0,
          0,
          0,
          0,
          0,
          0,
          0,
          0,
          0,
          0,
          0,
          0,
          -20,
          -5,
          -10,
          -6,
          0,
          0,
          0,
          0,
          0,
          0,
          0,
          0,
          0,
          0,
          0,
          0,
          -5,
          0,
          -7,
          0,
          -2,
          0,
          -3,
          0,
          0,
          0,
          -4,
          -10,
          -13,
          -16,
          -15,
          -7,
          0,
          0,
          0,
          0,
          -6,
          -6,
          -7,
          -2,
          -5,
          0,
          0,
          -3,
          -6,
          -12,
          -1,
          -4,
          0,
          0,
          0,
          0,
          0,
          -5,
          -15,
          0,
          0,
          -5,
          -8,
          0,
          -1,
          0,
          -2,
          -1,
          -3,
          -8,
          -79,
          -169,
          -185,
          -222,
          -226,
          -227,
          -229,
          -244,
          -263,
          -269,
          -278,
          -283,
          -299,
          -342,
          -412,
          -386
         ],
         "yaxis": "y"
        }
       ],
       "layout": {
        "legend": {
         "tracegroupgap": 0
        },
        "template": {
         "data": {
          "bar": [
           {
            "error_x": {
             "color": "#f2f5fa"
            },
            "error_y": {
             "color": "#f2f5fa"
            },
            "marker": {
             "line": {
              "color": "rgb(17,17,17)",
              "width": 0.5
             },
             "pattern": {
              "fillmode": "overlay",
              "size": 10,
              "solidity": 0.2
             }
            },
            "type": "bar"
           }
          ],
          "barpolar": [
           {
            "marker": {
             "line": {
              "color": "rgb(17,17,17)",
              "width": 0.5
             },
             "pattern": {
              "fillmode": "overlay",
              "size": 10,
              "solidity": 0.2
             }
            },
            "type": "barpolar"
           }
          ],
          "carpet": [
           {
            "aaxis": {
             "endlinecolor": "#A2B1C6",
             "gridcolor": "#506784",
             "linecolor": "#506784",
             "minorgridcolor": "#506784",
             "startlinecolor": "#A2B1C6"
            },
            "baxis": {
             "endlinecolor": "#A2B1C6",
             "gridcolor": "#506784",
             "linecolor": "#506784",
             "minorgridcolor": "#506784",
             "startlinecolor": "#A2B1C6"
            },
            "type": "carpet"
           }
          ],
          "choropleth": [
           {
            "colorbar": {
             "outlinewidth": 0,
             "ticks": ""
            },
            "type": "choropleth"
           }
          ],
          "contour": [
           {
            "colorbar": {
             "outlinewidth": 0,
             "ticks": ""
            },
            "colorscale": [
             [
              0,
              "#0d0887"
             ],
             [
              0.1111111111111111,
              "#46039f"
             ],
             [
              0.2222222222222222,
              "#7201a8"
             ],
             [
              0.3333333333333333,
              "#9c179e"
             ],
             [
              0.4444444444444444,
              "#bd3786"
             ],
             [
              0.5555555555555556,
              "#d8576b"
             ],
             [
              0.6666666666666666,
              "#ed7953"
             ],
             [
              0.7777777777777778,
              "#fb9f3a"
             ],
             [
              0.8888888888888888,
              "#fdca26"
             ],
             [
              1,
              "#f0f921"
             ]
            ],
            "type": "contour"
           }
          ],
          "contourcarpet": [
           {
            "colorbar": {
             "outlinewidth": 0,
             "ticks": ""
            },
            "type": "contourcarpet"
           }
          ],
          "heatmap": [
           {
            "colorbar": {
             "outlinewidth": 0,
             "ticks": ""
            },
            "colorscale": [
             [
              0,
              "#0d0887"
             ],
             [
              0.1111111111111111,
              "#46039f"
             ],
             [
              0.2222222222222222,
              "#7201a8"
             ],
             [
              0.3333333333333333,
              "#9c179e"
             ],
             [
              0.4444444444444444,
              "#bd3786"
             ],
             [
              0.5555555555555556,
              "#d8576b"
             ],
             [
              0.6666666666666666,
              "#ed7953"
             ],
             [
              0.7777777777777778,
              "#fb9f3a"
             ],
             [
              0.8888888888888888,
              "#fdca26"
             ],
             [
              1,
              "#f0f921"
             ]
            ],
            "type": "heatmap"
           }
          ],
          "histogram": [
           {
            "marker": {
             "pattern": {
              "fillmode": "overlay",
              "size": 10,
              "solidity": 0.2
             }
            },
            "type": "histogram"
           }
          ],
          "histogram2d": [
           {
            "colorbar": {
             "outlinewidth": 0,
             "ticks": ""
            },
            "colorscale": [
             [
              0,
              "#0d0887"
             ],
             [
              0.1111111111111111,
              "#46039f"
             ],
             [
              0.2222222222222222,
              "#7201a8"
             ],
             [
              0.3333333333333333,
              "#9c179e"
             ],
             [
              0.4444444444444444,
              "#bd3786"
             ],
             [
              0.5555555555555556,
              "#d8576b"
             ],
             [
              0.6666666666666666,
              "#ed7953"
             ],
             [
              0.7777777777777778,
              "#fb9f3a"
             ],
             [
              0.8888888888888888,
              "#fdca26"
             ],
             [
              1,
              "#f0f921"
             ]
            ],
            "type": "histogram2d"
           }
          ],
          "histogram2dcontour": [
           {
            "colorbar": {
             "outlinewidth": 0,
             "ticks": ""
            },
            "colorscale": [
             [
              0,
              "#0d0887"
             ],
             [
              0.1111111111111111,
              "#46039f"
             ],
             [
              0.2222222222222222,
              "#7201a8"
             ],
             [
              0.3333333333333333,
              "#9c179e"
             ],
             [
              0.4444444444444444,
              "#bd3786"
             ],
             [
              0.5555555555555556,
              "#d8576b"
             ],
             [
              0.6666666666666666,
              "#ed7953"
             ],
             [
              0.7777777777777778,
              "#fb9f3a"
             ],
             [
              0.8888888888888888,
              "#fdca26"
             ],
             [
              1,
              "#f0f921"
             ]
            ],
            "type": "histogram2dcontour"
           }
          ],
          "mesh3d": [
           {
            "colorbar": {
             "outlinewidth": 0,
             "ticks": ""
            },
            "type": "mesh3d"
           }
          ],
          "parcoords": [
           {
            "line": {
             "colorbar": {
              "outlinewidth": 0,
              "ticks": ""
             }
            },
            "type": "parcoords"
           }
          ],
          "pie": [
           {
            "automargin": true,
            "type": "pie"
           }
          ],
          "scatter": [
           {
            "marker": {
             "line": {
              "color": "#283442"
             }
            },
            "type": "scatter"
           }
          ],
          "scatter3d": [
           {
            "line": {
             "colorbar": {
              "outlinewidth": 0,
              "ticks": ""
             }
            },
            "marker": {
             "colorbar": {
              "outlinewidth": 0,
              "ticks": ""
             }
            },
            "type": "scatter3d"
           }
          ],
          "scattercarpet": [
           {
            "marker": {
             "colorbar": {
              "outlinewidth": 0,
              "ticks": ""
             }
            },
            "type": "scattercarpet"
           }
          ],
          "scattergeo": [
           {
            "marker": {
             "colorbar": {
              "outlinewidth": 0,
              "ticks": ""
             }
            },
            "type": "scattergeo"
           }
          ],
          "scattergl": [
           {
            "marker": {
             "line": {
              "color": "#283442"
             }
            },
            "type": "scattergl"
           }
          ],
          "scattermap": [
           {
            "marker": {
             "colorbar": {
              "outlinewidth": 0,
              "ticks": ""
             }
            },
            "type": "scattermap"
           }
          ],
          "scattermapbox": [
           {
            "marker": {
             "colorbar": {
              "outlinewidth": 0,
              "ticks": ""
             }
            },
            "type": "scattermapbox"
           }
          ],
          "scatterpolar": [
           {
            "marker": {
             "colorbar": {
              "outlinewidth": 0,
              "ticks": ""
             }
            },
            "type": "scatterpolar"
           }
          ],
          "scatterpolargl": [
           {
            "marker": {
             "colorbar": {
              "outlinewidth": 0,
              "ticks": ""
             }
            },
            "type": "scatterpolargl"
           }
          ],
          "scatterternary": [
           {
            "marker": {
             "colorbar": {
              "outlinewidth": 0,
              "ticks": ""
             }
            },
            "type": "scatterternary"
           }
          ],
          "surface": [
           {
            "colorbar": {
             "outlinewidth": 0,
             "ticks": ""
            },
            "colorscale": [
             [
              0,
              "#0d0887"
             ],
             [
              0.1111111111111111,
              "#46039f"
             ],
             [
              0.2222222222222222,
              "#7201a8"
             ],
             [
              0.3333333333333333,
              "#9c179e"
             ],
             [
              0.4444444444444444,
              "#bd3786"
             ],
             [
              0.5555555555555556,
              "#d8576b"
             ],
             [
              0.6666666666666666,
              "#ed7953"
             ],
             [
              0.7777777777777778,
              "#fb9f3a"
             ],
             [
              0.8888888888888888,
              "#fdca26"
             ],
             [
              1,
              "#f0f921"
             ]
            ],
            "type": "surface"
           }
          ],
          "table": [
           {
            "cells": {
             "fill": {
              "color": "#506784"
             },
             "line": {
              "color": "rgb(17,17,17)"
             }
            },
            "header": {
             "fill": {
              "color": "#2a3f5f"
             },
             "line": {
              "color": "rgb(17,17,17)"
             }
            },
            "type": "table"
           }
          ]
         },
         "layout": {
          "annotationdefaults": {
           "arrowcolor": "#f2f5fa",
           "arrowhead": 0,
           "arrowwidth": 1
          },
          "autotypenumbers": "strict",
          "coloraxis": {
           "colorbar": {
            "outlinewidth": 0,
            "ticks": ""
           }
          },
          "colorscale": {
           "diverging": [
            [
             0,
             "#8e0152"
            ],
            [
             0.1,
             "#c51b7d"
            ],
            [
             0.2,
             "#de77ae"
            ],
            [
             0.3,
             "#f1b6da"
            ],
            [
             0.4,
             "#fde0ef"
            ],
            [
             0.5,
             "#f7f7f7"
            ],
            [
             0.6,
             "#e6f5d0"
            ],
            [
             0.7,
             "#b8e186"
            ],
            [
             0.8,
             "#7fbc41"
            ],
            [
             0.9,
             "#4d9221"
            ],
            [
             1,
             "#276419"
            ]
           ],
           "sequential": [
            [
             0,
             "#0d0887"
            ],
            [
             0.1111111111111111,
             "#46039f"
            ],
            [
             0.2222222222222222,
             "#7201a8"
            ],
            [
             0.3333333333333333,
             "#9c179e"
            ],
            [
             0.4444444444444444,
             "#bd3786"
            ],
            [
             0.5555555555555556,
             "#d8576b"
            ],
            [
             0.6666666666666666,
             "#ed7953"
            ],
            [
             0.7777777777777778,
             "#fb9f3a"
            ],
            [
             0.8888888888888888,
             "#fdca26"
            ],
            [
             1,
             "#f0f921"
            ]
           ],
           "sequentialminus": [
            [
             0,
             "#0d0887"
            ],
            [
             0.1111111111111111,
             "#46039f"
            ],
            [
             0.2222222222222222,
             "#7201a8"
            ],
            [
             0.3333333333333333,
             "#9c179e"
            ],
            [
             0.4444444444444444,
             "#bd3786"
            ],
            [
             0.5555555555555556,
             "#d8576b"
            ],
            [
             0.6666666666666666,
             "#ed7953"
            ],
            [
             0.7777777777777778,
             "#fb9f3a"
            ],
            [
             0.8888888888888888,
             "#fdca26"
            ],
            [
             1,
             "#f0f921"
            ]
           ]
          },
          "colorway": [
           "#636efa",
           "#EF553B",
           "#00cc96",
           "#ab63fa",
           "#FFA15A",
           "#19d3f3",
           "#FF6692",
           "#B6E880",
           "#FF97FF",
           "#FECB52"
          ],
          "font": {
           "color": "#f2f5fa"
          },
          "geo": {
           "bgcolor": "rgb(17,17,17)",
           "lakecolor": "rgb(17,17,17)",
           "landcolor": "rgb(17,17,17)",
           "showlakes": true,
           "showland": true,
           "subunitcolor": "#506784"
          },
          "hoverlabel": {
           "align": "left"
          },
          "hovermode": "closest",
          "mapbox": {
           "style": "dark"
          },
          "paper_bgcolor": "rgb(17,17,17)",
          "plot_bgcolor": "rgb(17,17,17)",
          "polar": {
           "angularaxis": {
            "gridcolor": "#506784",
            "linecolor": "#506784",
            "ticks": ""
           },
           "bgcolor": "rgb(17,17,17)",
           "radialaxis": {
            "gridcolor": "#506784",
            "linecolor": "#506784",
            "ticks": ""
           }
          },
          "scene": {
           "xaxis": {
            "backgroundcolor": "rgb(17,17,17)",
            "gridcolor": "#506784",
            "gridwidth": 2,
            "linecolor": "#506784",
            "showbackground": true,
            "ticks": "",
            "zerolinecolor": "#C8D4E3"
           },
           "yaxis": {
            "backgroundcolor": "rgb(17,17,17)",
            "gridcolor": "#506784",
            "gridwidth": 2,
            "linecolor": "#506784",
            "showbackground": true,
            "ticks": "",
            "zerolinecolor": "#C8D4E3"
           },
           "zaxis": {
            "backgroundcolor": "rgb(17,17,17)",
            "gridcolor": "#506784",
            "gridwidth": 2,
            "linecolor": "#506784",
            "showbackground": true,
            "ticks": "",
            "zerolinecolor": "#C8D4E3"
           }
          },
          "shapedefaults": {
           "line": {
            "color": "#f2f5fa"
           }
          },
          "sliderdefaults": {
           "bgcolor": "#C8D4E3",
           "bordercolor": "rgb(17,17,17)",
           "borderwidth": 1,
           "tickwidth": 0
          },
          "ternary": {
           "aaxis": {
            "gridcolor": "#506784",
            "linecolor": "#506784",
            "ticks": ""
           },
           "baxis": {
            "gridcolor": "#506784",
            "linecolor": "#506784",
            "ticks": ""
           },
           "bgcolor": "rgb(17,17,17)",
           "caxis": {
            "gridcolor": "#506784",
            "linecolor": "#506784",
            "ticks": ""
           }
          },
          "title": {
           "x": 0.05
          },
          "updatemenudefaults": {
           "bgcolor": "#506784",
           "borderwidth": 0
          },
          "xaxis": {
           "automargin": true,
           "gridcolor": "#283442",
           "linecolor": "#506784",
           "ticks": "",
           "title": {
            "standoff": 15
           },
           "zerolinecolor": "#283442",
           "zerolinewidth": 2
          },
          "yaxis": {
           "automargin": true,
           "gridcolor": "#283442",
           "linecolor": "#506784",
           "ticks": "",
           "title": {
            "standoff": 15
           },
           "zerolinecolor": "#283442",
           "zerolinewidth": 2
          }
         }
        },
        "title": {
         "text": "drawdown curve"
        },
        "xaxis": {
         "anchor": "y",
         "domain": [
          0,
          1
         ],
         "title": {
          "text": "close_time"
         }
        },
        "yaxis": {
         "anchor": "x",
         "domain": [
          0,
          1
         ],
         "title": {
          "text": "drawdown"
         }
        }
       }
      }
     },
     "metadata": {},
     "output_type": "display_data"
    },
    {
     "name": "stdout",
     "output_type": "stream",
     "text": [
      "max_drawdown -412.0\n"
     ]
    }
   ],
   "source": [
    "evaluate_backtest(bt.trades)"
   ]
  }
 ],
 "metadata": {
  "kernelspec": {
   "display_name": "moad_lib",
   "language": "python",
   "name": "python3"
  },
  "language_info": {
   "codemirror_mode": {
    "name": "ipython",
    "version": 3
   },
   "file_extension": ".py",
   "mimetype": "text/x-python",
   "name": "python",
   "nbconvert_exporter": "python",
   "pygments_lexer": "ipython3",
   "version": "3.12.1"
  }
 },
 "nbformat": 4,
 "nbformat_minor": 5
}
