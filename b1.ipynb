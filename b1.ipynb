{
 "cells": [
  {
   "cell_type": "code",
   "execution_count": null,
   "metadata": {},
   "outputs": [
    {
     "ename": "",
     "evalue": "",
     "output_type": "error",
     "traceback": [
      "\u001b[1;31mFailed to start the Kernel. \n",
      "\u001b[1;31mThe kernel died. Error: ... View Jupyter <a href='command:jupyter.viewOutput'>log</a> for further details."
     ]
    }
   ],
   "source": [
    "import MetaTrader5 as mt5 #mt5 to access historcal data\n",
    "import pandas as pd # for data analysis and calculation of technical indcator\n",
    "import numpy as np\n",
    "import plotly.io as pio\n",
    "import plotly.express as px # for data visualization\n",
    "import plotly.graph_objects as go\n",
    "import tdclient as TDClient\n",
    "from datetime import datetime, time ,timezone #to specify the date time range for historical data\n",
    "from IPython.display import display, Markdown, Latex # to display result in python notebook\n",
    "from backtest import Backtester, get_ohlc_history, create_price_fig, evaluate_backtest"
   ]
  },
  {
   "cell_type": "code",
   "execution_count": null,
   "metadata": {},
   "outputs": [],
   "source": [
    "# Conecte mt5\n",
    "mt5.initialize()\n",
    "# logine mt5\n",
    "login = 52185665\n",
    "password = '3cAJz$AQiKwMq0'\n",
    "server = 'ICMarketsSC-Demo'\n",
    "\n",
    "mt5.login(login,password,server)"
   ]
  },
  {
   "cell_type": "code",
   "execution_count": null,
   "metadata": {},
   "outputs": [],
   "source": [
    "# this function retreives olhc data from mt5 account and return a data frame\n",
    "def get_ohlc(symbol, timeframe, start_datetime, end_datetime):\n",
    "    ohlc = mt5.copy_rates_range(symbol, timeframe, start_datetime, end_datetime)\n",
    "    ohlc_df = pd.DataFrame(ohlc)\n",
    "    ohlc_df['time'] = pd.to_datetime(ohlc_df['time'], unit= 's')\n",
    "    return ohlc_df[['time', 'open', 'high', 'low', 'close']]\n"
   ]
  },
  {
   "cell_type": "code",
   "execution_count": null,
   "metadata": {},
   "outputs": [],
   "source": [
    "# 1 minut df\n",
    "symbol = 'EURUSD'\n",
    "pos_size = 1\n",
    "timeframe = mt5.TIMEFRAME_M1\n",
    "start_datetime = datetime(2025,3,13)\n",
    "end_datetime = datetime.now()\n",
    "ohlc_df = get_ohlc(symbol, timeframe, start_datetime, end_datetime)\n",
    "ohlc_df"
   ]
  },
  {
   "cell_type": "code",
   "execution_count": null,
   "metadata": {},
   "outputs": [],
   "source": [
    "# hour4 df\n",
    "timeframe = mt5.TIMEFRAME_H4\n",
    "hourly_df = get_ohlc(symbol, timeframe, start_datetime, end_datetime)\n",
    "hourly_df.tail(5)"
   ]
  },
  {
   "cell_type": "code",
   "execution_count": null,
   "metadata": {},
   "outputs": [],
   "source": [
    "# daily df\n",
    "timeframe = mt5.TIMEFRAME_D1\n",
    "daily_df = get_ohlc(symbol, timeframe, start_datetime, end_datetime)\n",
    "daily_df"
   ]
  },
  {
   "cell_type": "code",
   "execution_count": null,
   "metadata": {},
   "outputs": [],
   "source": [
    "# Calculate Pivot Point, R1, R2, R3, stopeR4, S1, S2, S3, stopeS4 levels with Fibonacci \n",
    "daily_df[\"pivot\"] = ((daily_df[\"high\"] + daily_df[\"low\"] + daily_df[\"close\"]) / 3).shift(1)\n",
    "daily_df[\"prange\"] = (daily_df[\"high\"] - daily_df[\"low\"]).shift(1)\n",
    "daily_df[\"R1\"] = daily_df[\"pivot\"] + 0.382 * daily_df[\"prange\"]\n",
    "daily_df[\"R2\"] = daily_df[\"pivot\"] + 0.618 * daily_df[\"prange\"]\n",
    "daily_df[\"R3\"] = daily_df[\"pivot\"] + 1.000 * daily_df[\"prange\"]\n",
    "\n",
    "daily_df[\"S1\"] = daily_df[\"pivot\"] - 0.382 * daily_df[\"prange\"]\n",
    "daily_df[\"S2\"] = daily_df[\"pivot\"] - 0.618 * daily_df[\"prange\"]\n",
    "daily_df[\"S3\"] = daily_df[\"pivot\"] - 1.000 * daily_df[\"prange\"]\n",
    "daily_df[[\"time\",\"S1\",\"R1\"]].tail(10)\n"
   ]
  },
  {
   "cell_type": "code",
   "execution_count": null,
   "metadata": {},
   "outputs": [],
   "source": [
    "#setting the sma 1 and 14 periods\n",
    "furst_sma_period = 1\n",
    "second_sma_period = 14\n",
    "#ohlc4\n",
    "hourly_df['ohlc4'] = (hourly_df['open'] + hourly_df['high'] + hourly_df['low'] + hourly_df['close']) / 4\n",
    "\n",
    "# sma 1\n",
    "hourly_df['sma_1'] = hourly_df['ohlc4'].rolling(furst_sma_period).mean()\n",
    "hourly_df['prev_sma_1'] = hourly_df['sma_1'].shift(1) #to find crossovers, previous sma value is necessary using shift()\n",
    "# sma 14\n",
    "hourly_df['sma_14'] = hourly_df['ohlc4'].rolling(second_sma_period).mean()\n",
    "hourly_df"
   ]
  },
  {
   "cell_type": "code",
   "execution_count": null,
   "metadata": {},
   "outputs": [],
   "source": [
    "#setting the 11 and 114 sma periods\n",
    "thurd_sma_period = 1\n",
    "fourth_sma_period = 14\n",
    "#ohlc4\n",
    "daily_df['ohlc4'] = (daily_df['open'] + daily_df['high'] + daily_df['low'] + daily_df['close']) / 4\n",
    "# sma 11\n",
    "daily_df['sma_11'] = daily_df['ohlc4'].rolling(thurd_sma_period).mean()\n",
    "daily_df['prev_sma_11'] = daily_df['sma_11'].shift(1) #to find crossovers, previous sma value is necessary using shift()\n",
    "# sma 114\n",
    "daily_df['sma_114'] = daily_df['ohlc4'].rolling(fourth_sma_period).mean()\n",
    "daily_df[[\"time\",\"sma_11\",\"sma_114\",\"prev_sma_11\"]]"
   ]
  },
  {
   "cell_type": "code",
   "execution_count": null,
   "metadata": {},
   "outputs": [],
   "source": [
    "#setting entring and closing time and one trade a day\n",
    "# Set the start and end times for your desired trading hours\n",
    "start_time = datetime.strptime('06:00:00', '%H:%M:%S').time()\n",
    "end_time = datetime.strptime('17:00:00', '%H:%M:%S').time()\n",
    "end_trading_section = datetime.strptime('23:45:00', '%H:%M:%S').time()\n",
    "\n",
    "# Filter the trade data for trades within the specified trading hours\n",
    "#trades_within_hours = daily_df[(daily_df['time'].dt.time >= start_time) & (daily_df['time'].dt.time <= end_time)]\n",
    "# open one trade a day\n",
    "first_trade_per_day = daily_df.groupby(daily_df['time'].dt.time).first()\n",
    "# Close all open positions at 11:45 PM\n",
    "open_positions = daily_df[daily_df['time'].dt.time == end_trading_section]\n",
    "\n",
    "# function to trading\n",
    "daily_df[\"sell_stope_loss\"] = (daily_df[\"R2\"] - daily_df[\"S1\"]) /2 + daily_df[\"R2\"] \n",
    "daily_df[\"buy_stope_loss\"] = (daily_df[\"S2\"] - ((daily_df[\"R1\"] - daily_df[\"S2\"]) /2))\n",
    "daily_df['sell_profit'] = daily_df['low'] <= daily_df[\"S1\"]\n",
    "daily_df['buy_profit'] = daily_df[\"high\"] >= daily_df[\"R1\"]\n",
    "daily_df"
   ]
  },
  {
   "cell_type": "code",
   "execution_count": null,
   "metadata": {},
   "outputs": [],
   "source": [
    "def entring_stoploss_profit(row, ohlc_df) :\n",
    "    if row[\"prev_sma_11\"] > row['sma_114'] and row[\"low_x\"] <= row[\"S1\"] :\n",
    "        return \"buy\"\n",
    "    elif row['prev_sma_11'] < row['sma_114'] and row[\"high_x\"] >= row[\"R1\"]:\n",
    "        return \"sell\"\n",
    "    # Merge daily indicators into minute data (asof = merge on closest earlier date)\n",
    "merged_df = pd.merge_asof(ohlc_df, daily_df, on='time', direction='backward')\n",
    "merged_df[\"signal\"] = merged_df.apply(entring_stoploss_profit, axis=1, ohlc_df = ohlc_df)\n",
    "\n",
    "# Tag first signal per day in original merged_df\n",
    "merged_df['is_first_signal'] = (merged_df[merged_df[\"signal\"].notna()].groupby(merged_df[\"time\"].dt.date).cumcount() == 0)\n",
    "\n",
    "# Set signal only on the first row per day, others = None\n",
    "merged_df['signal'] = merged_df.apply(lambda row: row['signal'] if row['is_first_signal'] else None, axis=1)\n",
    "merged_df[['signal', 'time']].dropna()"
   ]
  },
  {
   "cell_type": "code",
   "execution_count": null,
   "metadata": {},
   "outputs": [],
   "source": [
    "merged_df = merged_df.rename(columns={\n",
    "    \"low_x\": \"low\",\n",
    "    \"high_x\": \"high\",\n",
    "    \"open_x\": \"open\",\n",
    "    \"close_x\": \"close\",\n",
    "    \"low_y\": \"daily_low\",\n",
    "    \"high_y\": \"daily_high\",\n",
    "    \"open_y\": \"daily_open\",\n",
    "    \"close_y\": \"daily_close\"\n",
    "})\n"
   ]
  },
  {
   "cell_type": "code",
   "execution_count": null,
   "metadata": {},
   "outputs": [],
   "source": [
    "print(merged_df.columns.tolist())\n",
    "merged_df\n"
   ]
  },
  {
   "cell_type": "code",
   "execution_count": null,
   "metadata": {},
   "outputs": [],
   "source": [
    "# create trade logic\n",
    "def on_bar(data, trades, orders):\n",
    "    open_trades = trades[trades['state'] == 'open']\n",
    "    num_open_trades = open_trades.shape[0]\n",
    "    if 'signal' not in data:\n",
    "        print(\"Warning: 'signal' column is missing!\")\n",
    "        return\n",
    "    account_balance = 10000  # your account in USD\n",
    "    risk_percent = 0.20  # 2%\n",
    "    pip_value_per_lot = 10  # on EURUSD, 1 lot = $10 per pip\n",
    "    risk_amount = account_balance * risk_percent\n",
    "    # entry signal\n",
    "    if data['signal'] == 'buy' and not num_open_trades:\n",
    "        stop_loss_pips = ((data[\"R1\"] - data[\"S1\"]) /2) # example SL\n",
    "        volume = risk_amount / (stop_loss_pips * pip_value_per_lot)\n",
    "        orders.open_trade(symbol, volume, 'buy')\n",
    "    \n",
    "    elif data['signal'] == 'sell' and not num_open_trades:\n",
    "        stop_loss_pips = ((data[\"R1\"] - data[\"S1\"]) /2)\n",
    "        volume = risk_amount / (stop_loss_pips * pip_value_per_lot)\n",
    "        orders.open_trade(symbol, volume, 'sell')\n",
    "        \n",
    "# exit signal\n",
    "    if num_open_trades:\n",
    "        trade = open_trades.iloc[0]\n",
    "\n",
    "        if trade['order_type'] == 'buy' and ((data[\"low\"] <= data[\"S1\"] - ((data[\"R1\"] - data[\"S1\"]) /2))\n",
    "                                            or (data[\"high\"] >= data[\"R1\"])\n",
    "                                            or (data['time'].time() == pd.to_datetime('00:00:00').time())):\n",
    "            orders.close_trade(trade)\n",
    "        elif trade['order_type'] == 'sell' and ((data[\"high\"] >= (data[\"R1\"] - data[\"S1\"]) /2 + data[\"R1\"])\n",
    "                                            or (data[\"low\"] <= data[\"S1\"])\n",
    "                                            or (data['time'].time() == pd.to_datetime('00:00:00').time())):\n",
    "            orders.close_trade(trade)"
   ]
  },
  {
   "cell_type": "code",
   "execution_count": null,
   "metadata": {},
   "outputs": [],
   "source": [
    "# backtest parameters\n",
    "starting_balance = 10000\n",
    "currency = 'USD'\n",
    "exchange_rate = 1\n",
    "commission = -7 / 100000\n",
    "\n",
    "# backtest\n",
    "bt = Backtester()\n",
    "bt.set_starting_balance(starting_balance, currency=currency)\n",
    "bt.set_exchange_rate(exchange_rate)\n",
    "bt.set_commission(commission)\n",
    "\n",
    "bt.set_historical_data(merged_df)\n",
    "bt.set_on_bar(on_bar)\n",
    "\n",
    "bt.run_backtest()\n",
    "\n",
    "bt.trades"
   ]
  },
  {
   "cell_type": "code",
   "execution_count": null,
   "metadata": {},
   "outputs": [],
   "source": [
    "mm = bt.plot_balance()\n",
    "display(mm)"
   ]
  },
  {
   "cell_type": "code",
   "execution_count": null,
   "metadata": {},
   "outputs": [],
   "source": [
    "pnl_chart = bt.plot_pnl()\n",
    "display(pnl_chart)"
   ]
  },
  {
   "cell_type": "code",
   "execution_count": null,
   "metadata": {},
   "outputs": [],
   "source": [
    "evaluate_backtest(bt.trades)"
   ]
  },
  {
   "cell_type": "code",
   "execution_count": null,
   "metadata": {},
   "outputs": [],
   "source": [
    "# visualizing the ohlc data\n",
    "fig = go.Figure(data = [go.Candlestick(x = ohlc_df['time'],\n",
    "                                        open = ohlc_df['open'],\n",
    "                                        high = ohlc_df['high'],\n",
    "                                        low = ohlc_df['low'],\n",
    "                                        close = ohlc_df['close'])])\n",
    "\n",
    "# fig.update_layout(height=600, xaxis_rangeslider_visible=False)\n",
    "# 📌 Add Pivot Points as Horizontal Lines\n",
    "pivot_levels = [\"sell_stope_loss\", \"R2\", \"buy_stope_loss\", \"S2\"]\n",
    "colors = {'sell_stope_loss': 'red', 'buy_stope_loss': 'red', 'R2': 'green', 'S2': 'green'}\n",
    "\n",
    "\n",
    "for _, row in daily_df.iterrows():\n",
    "    for level in pivot_levels:\n",
    "        fig.add_trace(go.Scatter(\n",
    "            x=[row['time'], row['time'] + pd.Timedelta(days=1)],  # Extend for one day\n",
    "            y=[row[level], row[level]],\n",
    "            mode='lines',\n",
    "            name=f\"{level} {row['time']}\",\n",
    "            line=dict(color=colors[level], width=1.5, dash='dot')\n",
    "        ))\n",
    "\n",
    "# 📌 Customize Layout\n",
    "fig.update_layout(\n",
    "    title=\"Pivot Points on Candlestick Chart\",\n",
    "    xaxis_title=\"Date\",\n",
    "    yaxis_title=\"Price\",\n",
    "    template=\"plotly_dark\",\n",
    "    xaxis_rangeslider_visible=False\n",
    ")\n",
    "fig"
   ]
  }
 ],
 "metadata": {
  "kernelspec": {
   "display_name": ".venv",
   "language": "python",
   "name": "python3"
  },
  "language_info": {
   "codemirror_mode": {
    "name": "ipython",
    "version": 3
   },
   "file_extension": ".py",
   "mimetype": "text/x-python",
   "name": "python",
   "nbconvert_exporter": "python",
   "pygments_lexer": "ipython3",
   "version": "3.12.1"
  }
 },
 "nbformat": 4,
 "nbformat_minor": 2
}
