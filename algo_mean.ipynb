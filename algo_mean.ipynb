{
 "cells": [
  {
   "cell_type": "code",
   "execution_count": 2,
   "id": "e2fea34d",
   "metadata": {},
   "outputs": [],
   "source": [
    "from sklearn.linear_model import LinearRegression\n",
    "from sklearn.metrics import mean_squared_error, r2_score\n",
    "from sklearn.model_selection import train_test_split\n",
    "\n",
    "import yfinance as yf\n",
    "import MetaTrader5 as mt5 #mt5 to access historcal data\n",
    "import pandas as pd # for data analysis and calculation of technical indcator\n",
    "import pandas_ta as ta\n",
    "import numpy as np\n",
    "import plotly.io as pio\n",
    "import plotly.express as px # for data visualization\n",
    "import plotly.graph_objects as go\n",
    "import tdclient as TDClient\n",
    "from datetime import datetime, time ,timezone #to specify the date time range for historical data\n",
    "from IPython.display import display, Markdown, Latex # to display result in python notebook\n",
    "from backtest import Backtester, get_ohlc_history, create_price_fig, evaluate_backtest"
   ]
  },
  {
   "cell_type": "code",
   "execution_count": 3,
   "id": "9b2e0fa8",
   "metadata": {},
   "outputs": [
    {
     "data": {
      "text/plain": [
       "True"
      ]
     },
     "execution_count": 3,
     "metadata": {},
     "output_type": "execute_result"
    }
   ],
   "source": [
    "# Conecte mt5\n",
    "mt5.initialize()\n",
    "# logine mt5\n",
    "login = 52185665\n",
    "password = '3cAJz$AQiKwMq0'\n",
    "server = 'ICMarketsSC-Demo'\n",
    "\n",
    "mt5.login(login,password,server)"
   ]
  },
  {
   "cell_type": "code",
   "execution_count": 4,
   "id": "43d573c5",
   "metadata": {},
   "outputs": [],
   "source": [
    "# this function retreives olhc data from mt5 account and return a data frame\n",
    "def get_ohlc(symbol, timeframe, start_datetime, end_datetime):\n",
    "    ohlc = mt5.copy_rates_range(symbol, timeframe, start_datetime, end_datetime)\n",
    "    ohlc_df = pd.DataFrame(ohlc)\n",
    "    ohlc_df['time'] = pd.to_datetime(ohlc_df['time'], unit= 's')\n",
    "    return ohlc_df[['time', 'open', 'high', 'low', 'close']]"
   ]
  },
  {
   "cell_type": "code",
   "execution_count": 5,
   "id": "48fd76d3",
   "metadata": {},
   "outputs": [
    {
     "data": {
      "text/html": [
       "<div>\n",
       "<style scoped>\n",
       "    .dataframe tbody tr th:only-of-type {\n",
       "        vertical-align: middle;\n",
       "    }\n",
       "\n",
       "    .dataframe tbody tr th {\n",
       "        vertical-align: top;\n",
       "    }\n",
       "\n",
       "    .dataframe thead th {\n",
       "        text-align: right;\n",
       "    }\n",
       "</style>\n",
       "<table border=\"1\" class=\"dataframe\">\n",
       "  <thead>\n",
       "    <tr style=\"text-align: right;\">\n",
       "      <th></th>\n",
       "      <th>time</th>\n",
       "      <th>open</th>\n",
       "      <th>high</th>\n",
       "      <th>low</th>\n",
       "      <th>close</th>\n",
       "    </tr>\n",
       "  </thead>\n",
       "  <tbody>\n",
       "    <tr>\n",
       "      <th>0</th>\n",
       "      <td>2019-12-16 00:00:00</td>\n",
       "      <td>1.11247</td>\n",
       "      <td>1.11279</td>\n",
       "      <td>1.11243</td>\n",
       "      <td>1.11255</td>\n",
       "    </tr>\n",
       "    <tr>\n",
       "      <th>1</th>\n",
       "      <td>2019-12-16 00:30:00</td>\n",
       "      <td>1.11255</td>\n",
       "      <td>1.11303</td>\n",
       "      <td>1.11246</td>\n",
       "      <td>1.11286</td>\n",
       "    </tr>\n",
       "    <tr>\n",
       "      <th>2</th>\n",
       "      <td>2019-12-16 01:00:00</td>\n",
       "      <td>1.11286</td>\n",
       "      <td>1.11296</td>\n",
       "      <td>1.11226</td>\n",
       "      <td>1.11253</td>\n",
       "    </tr>\n",
       "    <tr>\n",
       "      <th>3</th>\n",
       "      <td>2019-12-16 01:30:00</td>\n",
       "      <td>1.11253</td>\n",
       "      <td>1.11281</td>\n",
       "      <td>1.11236</td>\n",
       "      <td>1.11242</td>\n",
       "    </tr>\n",
       "    <tr>\n",
       "      <th>4</th>\n",
       "      <td>2019-12-16 02:00:00</td>\n",
       "      <td>1.11243</td>\n",
       "      <td>1.11267</td>\n",
       "      <td>1.11230</td>\n",
       "      <td>1.11237</td>\n",
       "    </tr>\n",
       "    <tr>\n",
       "      <th>...</th>\n",
       "      <td>...</td>\n",
       "      <td>...</td>\n",
       "      <td>...</td>\n",
       "      <td>...</td>\n",
       "      <td>...</td>\n",
       "    </tr>\n",
       "    <tr>\n",
       "      <th>70082</th>\n",
       "      <td>2025-08-01 21:30:00</td>\n",
       "      <td>1.15396</td>\n",
       "      <td>1.15479</td>\n",
       "      <td>1.15254</td>\n",
       "      <td>1.15258</td>\n",
       "    </tr>\n",
       "    <tr>\n",
       "      <th>70083</th>\n",
       "      <td>2025-08-01 22:00:00</td>\n",
       "      <td>1.15258</td>\n",
       "      <td>1.15457</td>\n",
       "      <td>1.15236</td>\n",
       "      <td>1.15441</td>\n",
       "    </tr>\n",
       "    <tr>\n",
       "      <th>70084</th>\n",
       "      <td>2025-08-01 22:30:00</td>\n",
       "      <td>1.15441</td>\n",
       "      <td>1.15823</td>\n",
       "      <td>1.15440</td>\n",
       "      <td>1.15689</td>\n",
       "    </tr>\n",
       "    <tr>\n",
       "      <th>70085</th>\n",
       "      <td>2025-08-01 23:00:00</td>\n",
       "      <td>1.15692</td>\n",
       "      <td>1.15897</td>\n",
       "      <td>1.15688</td>\n",
       "      <td>1.15893</td>\n",
       "    </tr>\n",
       "    <tr>\n",
       "      <th>70086</th>\n",
       "      <td>2025-08-01 23:30:00</td>\n",
       "      <td>1.15892</td>\n",
       "      <td>1.15971</td>\n",
       "      <td>1.15832</td>\n",
       "      <td>1.15847</td>\n",
       "    </tr>\n",
       "  </tbody>\n",
       "</table>\n",
       "<p>70087 rows × 5 columns</p>\n",
       "</div>"
      ],
      "text/plain": [
       "                     time     open     high      low    close\n",
       "0     2019-12-16 00:00:00  1.11247  1.11279  1.11243  1.11255\n",
       "1     2019-12-16 00:30:00  1.11255  1.11303  1.11246  1.11286\n",
       "2     2019-12-16 01:00:00  1.11286  1.11296  1.11226  1.11253\n",
       "3     2019-12-16 01:30:00  1.11253  1.11281  1.11236  1.11242\n",
       "4     2019-12-16 02:00:00  1.11243  1.11267  1.11230  1.11237\n",
       "...                   ...      ...      ...      ...      ...\n",
       "70082 2025-08-01 21:30:00  1.15396  1.15479  1.15254  1.15258\n",
       "70083 2025-08-01 22:00:00  1.15258  1.15457  1.15236  1.15441\n",
       "70084 2025-08-01 22:30:00  1.15441  1.15823  1.15440  1.15689\n",
       "70085 2025-08-01 23:00:00  1.15692  1.15897  1.15688  1.15893\n",
       "70086 2025-08-01 23:30:00  1.15892  1.15971  1.15832  1.15847\n",
       "\n",
       "[70087 rows x 5 columns]"
      ]
     },
     "execution_count": 5,
     "metadata": {},
     "output_type": "execute_result"
    }
   ],
   "source": [
    "# 1 minut df\n",
    "symbol = 'EURUSD'\n",
    "pos_size = 1\n",
    "timeframe = mt5.TIMEFRAME_M30\n",
    "start_datetime = datetime(2019,12,15)\n",
    "end_datetime = datetime.now()\n",
    "ohlc_df = get_ohlc(symbol, timeframe, start_datetime, end_datetime)\n",
    "# hour4 df\n",
    "timeframe = mt5.TIMEFRAME_H4\n",
    "hourly_df = get_ohlc(symbol, timeframe, start_datetime, end_datetime)\n",
    "# daily df\n",
    "timeframe = mt5.TIMEFRAME_D1\n",
    "daily_df = get_ohlc(symbol, timeframe, start_datetime, end_datetime)\n",
    "daily_df\n",
    "hourly_df\n",
    "ohlc_df"
   ]
  },
  {
   "cell_type": "code",
   "execution_count": 6,
   "id": "6141914c",
   "metadata": {},
   "outputs": [
    {
     "data": {
      "text/html": [
       "<div>\n",
       "<style scoped>\n",
       "    .dataframe tbody tr th:only-of-type {\n",
       "        vertical-align: middle;\n",
       "    }\n",
       "\n",
       "    .dataframe tbody tr th {\n",
       "        vertical-align: top;\n",
       "    }\n",
       "\n",
       "    .dataframe thead th {\n",
       "        text-align: right;\n",
       "    }\n",
       "</style>\n",
       "<table border=\"1\" class=\"dataframe\">\n",
       "  <thead>\n",
       "    <tr style=\"text-align: right;\">\n",
       "      <th></th>\n",
       "      <th>time</th>\n",
       "      <th>open</th>\n",
       "      <th>high</th>\n",
       "      <th>low</th>\n",
       "      <th>close</th>\n",
       "      <th>ohlc</th>\n",
       "      <th>sma_1</th>\n",
       "      <th>sma_14</th>\n",
       "      <th>high_20</th>\n",
       "      <th>low_20</th>\n",
       "    </tr>\n",
       "  </thead>\n",
       "  <tbody>\n",
       "    <tr>\n",
       "      <th>0</th>\n",
       "      <td>2019-12-16</td>\n",
       "      <td>1.11247</td>\n",
       "      <td>1.11580</td>\n",
       "      <td>1.11226</td>\n",
       "      <td>1.11440</td>\n",
       "      <td>1.113733</td>\n",
       "      <td>1.113733</td>\n",
       "      <td>NaN</td>\n",
       "      <td>NaN</td>\n",
       "      <td>NaN</td>\n",
       "    </tr>\n",
       "    <tr>\n",
       "      <th>1</th>\n",
       "      <td>2019-12-17</td>\n",
       "      <td>1.11430</td>\n",
       "      <td>1.11746</td>\n",
       "      <td>1.11293</td>\n",
       "      <td>1.11508</td>\n",
       "      <td>1.114942</td>\n",
       "      <td>1.114942</td>\n",
       "      <td>NaN</td>\n",
       "      <td>NaN</td>\n",
       "      <td>NaN</td>\n",
       "    </tr>\n",
       "    <tr>\n",
       "      <th>2</th>\n",
       "      <td>2019-12-18</td>\n",
       "      <td>1.11509</td>\n",
       "      <td>1.11542</td>\n",
       "      <td>1.11103</td>\n",
       "      <td>1.11134</td>\n",
       "      <td>1.113220</td>\n",
       "      <td>1.113220</td>\n",
       "      <td>NaN</td>\n",
       "      <td>NaN</td>\n",
       "      <td>NaN</td>\n",
       "    </tr>\n",
       "    <tr>\n",
       "      <th>3</th>\n",
       "      <td>2019-12-19</td>\n",
       "      <td>1.11131</td>\n",
       "      <td>1.11443</td>\n",
       "      <td>1.11072</td>\n",
       "      <td>1.11202</td>\n",
       "      <td>1.112120</td>\n",
       "      <td>1.112120</td>\n",
       "      <td>NaN</td>\n",
       "      <td>NaN</td>\n",
       "      <td>NaN</td>\n",
       "    </tr>\n",
       "    <tr>\n",
       "      <th>4</th>\n",
       "      <td>2019-12-20</td>\n",
       "      <td>1.11218</td>\n",
       "      <td>1.11248</td>\n",
       "      <td>1.10663</td>\n",
       "      <td>1.10764</td>\n",
       "      <td>1.109733</td>\n",
       "      <td>1.109733</td>\n",
       "      <td>NaN</td>\n",
       "      <td>NaN</td>\n",
       "      <td>NaN</td>\n",
       "    </tr>\n",
       "    <tr>\n",
       "      <th>...</th>\n",
       "      <td>...</td>\n",
       "      <td>...</td>\n",
       "      <td>...</td>\n",
       "      <td>...</td>\n",
       "      <td>...</td>\n",
       "      <td>...</td>\n",
       "      <td>...</td>\n",
       "      <td>...</td>\n",
       "      <td>...</td>\n",
       "      <td>...</td>\n",
       "    </tr>\n",
       "    <tr>\n",
       "      <th>1456</th>\n",
       "      <td>2025-07-28</td>\n",
       "      <td>1.17552</td>\n",
       "      <td>1.17704</td>\n",
       "      <td>1.15838</td>\n",
       "      <td>1.15885</td>\n",
       "      <td>1.167448</td>\n",
       "      <td>1.167448</td>\n",
       "      <td>1.168465</td>\n",
       "      <td>1.174926</td>\n",
       "      <td>1.166657</td>\n",
       "    </tr>\n",
       "    <tr>\n",
       "      <th>1457</th>\n",
       "      <td>2025-07-29</td>\n",
       "      <td>1.15875</td>\n",
       "      <td>1.15994</td>\n",
       "      <td>1.15189</td>\n",
       "      <td>1.15452</td>\n",
       "      <td>1.156275</td>\n",
       "      <td>1.156275</td>\n",
       "      <td>1.167368</td>\n",
       "      <td>1.173774</td>\n",
       "      <td>1.165444</td>\n",
       "    </tr>\n",
       "    <tr>\n",
       "      <th>1458</th>\n",
       "      <td>2025-07-30</td>\n",
       "      <td>1.15461</td>\n",
       "      <td>1.15728</td>\n",
       "      <td>1.14002</td>\n",
       "      <td>1.14031</td>\n",
       "      <td>1.148055</td>\n",
       "      <td>1.148055</td>\n",
       "      <td>1.165747</td>\n",
       "      <td>1.172588</td>\n",
       "      <td>1.163710</td>\n",
       "    </tr>\n",
       "    <tr>\n",
       "      <th>1459</th>\n",
       "      <td>2025-07-31</td>\n",
       "      <td>1.14033</td>\n",
       "      <td>1.14610</td>\n",
       "      <td>1.13991</td>\n",
       "      <td>1.14135</td>\n",
       "      <td>1.141923</td>\n",
       "      <td>1.141923</td>\n",
       "      <td>1.163806</td>\n",
       "      <td>1.170842</td>\n",
       "      <td>1.162119</td>\n",
       "    </tr>\n",
       "    <tr>\n",
       "      <th>1460</th>\n",
       "      <td>2025-08-01</td>\n",
       "      <td>1.14118</td>\n",
       "      <td>1.15971</td>\n",
       "      <td>1.13917</td>\n",
       "      <td>1.15847</td>\n",
       "      <td>1.149633</td>\n",
       "      <td>1.149633</td>\n",
       "      <td>1.162574</td>\n",
       "      <td>1.169890</td>\n",
       "      <td>1.160327</td>\n",
       "    </tr>\n",
       "  </tbody>\n",
       "</table>\n",
       "<p>1461 rows × 10 columns</p>\n",
       "</div>"
      ],
      "text/plain": [
       "           time     open     high      low    close      ohlc     sma_1  \\\n",
       "0    2019-12-16  1.11247  1.11580  1.11226  1.11440  1.113733  1.113733   \n",
       "1    2019-12-17  1.11430  1.11746  1.11293  1.11508  1.114942  1.114942   \n",
       "2    2019-12-18  1.11509  1.11542  1.11103  1.11134  1.113220  1.113220   \n",
       "3    2019-12-19  1.11131  1.11443  1.11072  1.11202  1.112120  1.112120   \n",
       "4    2019-12-20  1.11218  1.11248  1.10663  1.10764  1.109733  1.109733   \n",
       "...         ...      ...      ...      ...      ...       ...       ...   \n",
       "1456 2025-07-28  1.17552  1.17704  1.15838  1.15885  1.167448  1.167448   \n",
       "1457 2025-07-29  1.15875  1.15994  1.15189  1.15452  1.156275  1.156275   \n",
       "1458 2025-07-30  1.15461  1.15728  1.14002  1.14031  1.148055  1.148055   \n",
       "1459 2025-07-31  1.14033  1.14610  1.13991  1.14135  1.141923  1.141923   \n",
       "1460 2025-08-01  1.14118  1.15971  1.13917  1.15847  1.149633  1.149633   \n",
       "\n",
       "        sma_14   high_20    low_20  \n",
       "0          NaN       NaN       NaN  \n",
       "1          NaN       NaN       NaN  \n",
       "2          NaN       NaN       NaN  \n",
       "3          NaN       NaN       NaN  \n",
       "4          NaN       NaN       NaN  \n",
       "...        ...       ...       ...  \n",
       "1456  1.168465  1.174926  1.166657  \n",
       "1457  1.167368  1.173774  1.165444  \n",
       "1458  1.165747  1.172588  1.163710  \n",
       "1459  1.163806  1.170842  1.162119  \n",
       "1460  1.162574  1.169890  1.160327  \n",
       "\n",
       "[1461 rows x 10 columns]"
      ]
     },
     "execution_count": 6,
     "metadata": {},
     "output_type": "execute_result"
    }
   ],
   "source": [
    "#ohlc4\n",
    "daily_df['ohlc'] = (daily_df['open'] + daily_df['high'] + daily_df['low'] + daily_df['close']) / 4\n",
    "hourly_df['ohlc'] = (hourly_df['open'] + hourly_df['high'] + hourly_df['low'] + hourly_df['close']) / 4\n",
    "#sma\n",
    "daily_df['sma_1'] = ta.sma(close = daily_df['ohlc'], length= 1 )\n",
    "daily_df['sma_14'] = ta.sma(close = daily_df['ohlc'], length= 14)\n",
    "hourly_df['sma_11'] = ta.sma(close = hourly_df['ohlc'], length= 1)\n",
    "hourly_df['sma_144'] = ta.sma(close = hourly_df['ohlc'], length= 14)\n",
    "daily_df['high_20'] = ta.sma(close = daily_df['high'], length= 20 )\n",
    "daily_df['low_20'] = ta.sma(close = daily_df['low'], length= 20)\n",
    "daily_df"
   ]
  },
  {
   "cell_type": "code",
   "execution_count": 7,
   "id": "8517468f",
   "metadata": {},
   "outputs": [
    {
     "data": {
      "text/html": [
       "<div>\n",
       "<style scoped>\n",
       "    .dataframe tbody tr th:only-of-type {\n",
       "        vertical-align: middle;\n",
       "    }\n",
       "\n",
       "    .dataframe tbody tr th {\n",
       "        vertical-align: top;\n",
       "    }\n",
       "\n",
       "    .dataframe thead th {\n",
       "        text-align: right;\n",
       "    }\n",
       "</style>\n",
       "<table border=\"1\" class=\"dataframe\">\n",
       "  <thead>\n",
       "    <tr style=\"text-align: right;\">\n",
       "      <th></th>\n",
       "      <th>signal</th>\n",
       "      <th>time</th>\n",
       "    </tr>\n",
       "  </thead>\n",
       "  <tbody>\n",
       "    <tr>\n",
       "      <th>628</th>\n",
       "      <td>buy</td>\n",
       "      <td>2020-01-06 08:00:00</td>\n",
       "    </tr>\n",
       "    <tr>\n",
       "      <th>660</th>\n",
       "      <td>buy</td>\n",
       "      <td>2020-01-07 00:00:00</td>\n",
       "    </tr>\n",
       "    <tr>\n",
       "      <th>708</th>\n",
       "      <td>sell</td>\n",
       "      <td>2020-01-08 00:00:00</td>\n",
       "    </tr>\n",
       "    <tr>\n",
       "      <th>756</th>\n",
       "      <td>sell</td>\n",
       "      <td>2020-01-09 00:00:00</td>\n",
       "    </tr>\n",
       "    <tr>\n",
       "      <th>804</th>\n",
       "      <td>sell</td>\n",
       "      <td>2020-01-10 00:00:00</td>\n",
       "    </tr>\n",
       "    <tr>\n",
       "      <th>...</th>\n",
       "      <td>...</td>\n",
       "      <td>...</td>\n",
       "    </tr>\n",
       "    <tr>\n",
       "      <th>69863</th>\n",
       "      <td>sell</td>\n",
       "      <td>2025-07-28 08:00:00</td>\n",
       "    </tr>\n",
       "    <tr>\n",
       "      <th>69895</th>\n",
       "      <td>sell</td>\n",
       "      <td>2025-07-29 00:00:00</td>\n",
       "    </tr>\n",
       "    <tr>\n",
       "      <th>69943</th>\n",
       "      <td>sell</td>\n",
       "      <td>2025-07-30 00:00:00</td>\n",
       "    </tr>\n",
       "    <tr>\n",
       "      <th>69991</th>\n",
       "      <td>sell</td>\n",
       "      <td>2025-07-31 00:00:00</td>\n",
       "    </tr>\n",
       "    <tr>\n",
       "      <th>70039</th>\n",
       "      <td>sell</td>\n",
       "      <td>2025-08-01 00:00:00</td>\n",
       "    </tr>\n",
       "  </tbody>\n",
       "</table>\n",
       "<p>1259 rows × 2 columns</p>\n",
       "</div>"
      ],
      "text/plain": [
       "      signal                time\n",
       "628      buy 2020-01-06 08:00:00\n",
       "660      buy 2020-01-07 00:00:00\n",
       "708     sell 2020-01-08 00:00:00\n",
       "756     sell 2020-01-09 00:00:00\n",
       "804     sell 2020-01-10 00:00:00\n",
       "...      ...                 ...\n",
       "69863   sell 2025-07-28 08:00:00\n",
       "69895   sell 2025-07-29 00:00:00\n",
       "69943   sell 2025-07-30 00:00:00\n",
       "69991   sell 2025-07-31 00:00:00\n",
       "70039   sell 2025-08-01 00:00:00\n",
       "\n",
       "[1259 rows x 2 columns]"
      ]
     },
     "execution_count": 7,
     "metadata": {},
     "output_type": "execute_result"
    }
   ],
   "source": [
    "def entring_stoploss_profit(row, hourly_df) :\n",
    "    if row[\"sma_1\"] > row['sma_14'] and row[\"sma_11\"] > row['sma_144'] :\n",
    "        return \"buy\"\n",
    "    elif row['sma_1'] < row['sma_14'] and row['sma_11'] < row['sma_144'] :\n",
    "        return \"sell\"\n",
    "    # Merge daily indicators into minute data (asof = merge on closest earlier date)\n",
    "merged_df1 = pd.merge_asof(ohlc_df, hourly_df, on='time', direction='backward')\n",
    "merged_df = pd.merge_asof(merged_df1, daily_df, on='time', direction='backward')\n",
    "merged_df[\"signal\"] = merged_df.apply(entring_stoploss_profit, axis=1, hourly_df = hourly_df)\n",
    "\n",
    "# Tag first signal per day in original merged_df\n",
    "merged_df['is_first_signal'] = (merged_df[merged_df[\"signal\"].notna()].groupby(merged_df[\"time\"].dt.date).cumcount() == 0)\n",
    "\n",
    "# Set signal only on the first row per day, others = None\n",
    "merged_df['signal'] = merged_df.apply(lambda row: row['signal'] if row['is_first_signal'] else None, axis=1)\n",
    "merged_df[['signal', 'time']].dropna()"
   ]
  },
  {
   "cell_type": "code",
   "execution_count": 8,
   "id": "dd95af1f",
   "metadata": {},
   "outputs": [],
   "source": [
    "merged_df = merged_df.rename(columns={\n",
    "    \"low_x\": \"low\",\n",
    "    \"high_x\": \"high\",\n",
    "    \"open_x\": \"open\",\n",
    "    \"close_x\": \"close\",\n",
    "    \"low_y\": \"hourly_low\",\n",
    "    \"high_y\": \"hourly_high\",\n",
    "    \"open_y\": \"hourly_open\",\n",
    "    \"close_y\": \"hourly_close\",\n",
    "    \"low\": \"daily_low\",\n",
    "    \"high\": \"daily_high\",\n",
    "    \"open\": \"daily_open\",\n",
    "    \"close\": \"daily_close\"\n",
    "})\n"
   ]
  },
  {
   "cell_type": "code",
   "execution_count": 9,
   "id": "e6e3942d",
   "metadata": {},
   "outputs": [
    {
     "name": "stdout",
     "output_type": "stream",
     "text": [
      "['time', 'open', 'high', 'low', 'close', 'hourly_open', 'hourly_high', 'hourly_low', 'hourly_close', 'ohlc_x', 'sma_11', 'sma_144', 'daily_open', 'daily_high', 'daily_low', 'daily_close', 'ohlc_y', 'sma_1', 'sma_14', 'high_20', 'low_20', 'signal', 'is_first_signal']\n"
     ]
    },
    {
     "data": {
      "text/html": [
       "<div>\n",
       "<style scoped>\n",
       "    .dataframe tbody tr th:only-of-type {\n",
       "        vertical-align: middle;\n",
       "    }\n",
       "\n",
       "    .dataframe tbody tr th {\n",
       "        vertical-align: top;\n",
       "    }\n",
       "\n",
       "    .dataframe thead th {\n",
       "        text-align: right;\n",
       "    }\n",
       "</style>\n",
       "<table border=\"1\" class=\"dataframe\">\n",
       "  <thead>\n",
       "    <tr style=\"text-align: right;\">\n",
       "      <th></th>\n",
       "      <th>time</th>\n",
       "      <th>open</th>\n",
       "      <th>high</th>\n",
       "      <th>low</th>\n",
       "      <th>close</th>\n",
       "      <th>hourly_open</th>\n",
       "      <th>hourly_high</th>\n",
       "      <th>hourly_low</th>\n",
       "      <th>hourly_close</th>\n",
       "      <th>ohlc_x</th>\n",
       "      <th>...</th>\n",
       "      <th>daily_high</th>\n",
       "      <th>daily_low</th>\n",
       "      <th>daily_close</th>\n",
       "      <th>ohlc_y</th>\n",
       "      <th>sma_1</th>\n",
       "      <th>sma_14</th>\n",
       "      <th>high_20</th>\n",
       "      <th>low_20</th>\n",
       "      <th>signal</th>\n",
       "      <th>is_first_signal</th>\n",
       "    </tr>\n",
       "  </thead>\n",
       "  <tbody>\n",
       "    <tr>\n",
       "      <th>0</th>\n",
       "      <td>2019-12-16 00:00:00</td>\n",
       "      <td>1.11247</td>\n",
       "      <td>1.11279</td>\n",
       "      <td>1.11243</td>\n",
       "      <td>1.11255</td>\n",
       "      <td>1.11247</td>\n",
       "      <td>1.11303</td>\n",
       "      <td>1.11226</td>\n",
       "      <td>1.11281</td>\n",
       "      <td>1.112643</td>\n",
       "      <td>...</td>\n",
       "      <td>1.11580</td>\n",
       "      <td>1.11226</td>\n",
       "      <td>1.11440</td>\n",
       "      <td>1.113733</td>\n",
       "      <td>1.113733</td>\n",
       "      <td>NaN</td>\n",
       "      <td>NaN</td>\n",
       "      <td>NaN</td>\n",
       "      <td>None</td>\n",
       "      <td>NaN</td>\n",
       "    </tr>\n",
       "    <tr>\n",
       "      <th>1</th>\n",
       "      <td>2019-12-16 00:30:00</td>\n",
       "      <td>1.11255</td>\n",
       "      <td>1.11303</td>\n",
       "      <td>1.11246</td>\n",
       "      <td>1.11286</td>\n",
       "      <td>1.11247</td>\n",
       "      <td>1.11303</td>\n",
       "      <td>1.11226</td>\n",
       "      <td>1.11281</td>\n",
       "      <td>1.112643</td>\n",
       "      <td>...</td>\n",
       "      <td>1.11580</td>\n",
       "      <td>1.11226</td>\n",
       "      <td>1.11440</td>\n",
       "      <td>1.113733</td>\n",
       "      <td>1.113733</td>\n",
       "      <td>NaN</td>\n",
       "      <td>NaN</td>\n",
       "      <td>NaN</td>\n",
       "      <td>None</td>\n",
       "      <td>NaN</td>\n",
       "    </tr>\n",
       "    <tr>\n",
       "      <th>2</th>\n",
       "      <td>2019-12-16 01:00:00</td>\n",
       "      <td>1.11286</td>\n",
       "      <td>1.11296</td>\n",
       "      <td>1.11226</td>\n",
       "      <td>1.11253</td>\n",
       "      <td>1.11247</td>\n",
       "      <td>1.11303</td>\n",
       "      <td>1.11226</td>\n",
       "      <td>1.11281</td>\n",
       "      <td>1.112643</td>\n",
       "      <td>...</td>\n",
       "      <td>1.11580</td>\n",
       "      <td>1.11226</td>\n",
       "      <td>1.11440</td>\n",
       "      <td>1.113733</td>\n",
       "      <td>1.113733</td>\n",
       "      <td>NaN</td>\n",
       "      <td>NaN</td>\n",
       "      <td>NaN</td>\n",
       "      <td>None</td>\n",
       "      <td>NaN</td>\n",
       "    </tr>\n",
       "    <tr>\n",
       "      <th>3</th>\n",
       "      <td>2019-12-16 01:30:00</td>\n",
       "      <td>1.11253</td>\n",
       "      <td>1.11281</td>\n",
       "      <td>1.11236</td>\n",
       "      <td>1.11242</td>\n",
       "      <td>1.11247</td>\n",
       "      <td>1.11303</td>\n",
       "      <td>1.11226</td>\n",
       "      <td>1.11281</td>\n",
       "      <td>1.112643</td>\n",
       "      <td>...</td>\n",
       "      <td>1.11580</td>\n",
       "      <td>1.11226</td>\n",
       "      <td>1.11440</td>\n",
       "      <td>1.113733</td>\n",
       "      <td>1.113733</td>\n",
       "      <td>NaN</td>\n",
       "      <td>NaN</td>\n",
       "      <td>NaN</td>\n",
       "      <td>None</td>\n",
       "      <td>NaN</td>\n",
       "    </tr>\n",
       "    <tr>\n",
       "      <th>4</th>\n",
       "      <td>2019-12-16 02:00:00</td>\n",
       "      <td>1.11243</td>\n",
       "      <td>1.11267</td>\n",
       "      <td>1.11230</td>\n",
       "      <td>1.11237</td>\n",
       "      <td>1.11247</td>\n",
       "      <td>1.11303</td>\n",
       "      <td>1.11226</td>\n",
       "      <td>1.11281</td>\n",
       "      <td>1.112643</td>\n",
       "      <td>...</td>\n",
       "      <td>1.11580</td>\n",
       "      <td>1.11226</td>\n",
       "      <td>1.11440</td>\n",
       "      <td>1.113733</td>\n",
       "      <td>1.113733</td>\n",
       "      <td>NaN</td>\n",
       "      <td>NaN</td>\n",
       "      <td>NaN</td>\n",
       "      <td>None</td>\n",
       "      <td>NaN</td>\n",
       "    </tr>\n",
       "    <tr>\n",
       "      <th>...</th>\n",
       "      <td>...</td>\n",
       "      <td>...</td>\n",
       "      <td>...</td>\n",
       "      <td>...</td>\n",
       "      <td>...</td>\n",
       "      <td>...</td>\n",
       "      <td>...</td>\n",
       "      <td>...</td>\n",
       "      <td>...</td>\n",
       "      <td>...</td>\n",
       "      <td>...</td>\n",
       "      <td>...</td>\n",
       "      <td>...</td>\n",
       "      <td>...</td>\n",
       "      <td>...</td>\n",
       "      <td>...</td>\n",
       "      <td>...</td>\n",
       "      <td>...</td>\n",
       "      <td>...</td>\n",
       "      <td>...</td>\n",
       "      <td>...</td>\n",
       "    </tr>\n",
       "    <tr>\n",
       "      <th>70082</th>\n",
       "      <td>2025-08-01 21:30:00</td>\n",
       "      <td>1.15396</td>\n",
       "      <td>1.15479</td>\n",
       "      <td>1.15254</td>\n",
       "      <td>1.15258</td>\n",
       "      <td>1.15393</td>\n",
       "      <td>1.15971</td>\n",
       "      <td>1.15165</td>\n",
       "      <td>1.15847</td>\n",
       "      <td>1.155940</td>\n",
       "      <td>...</td>\n",
       "      <td>1.15971</td>\n",
       "      <td>1.13917</td>\n",
       "      <td>1.15847</td>\n",
       "      <td>1.149633</td>\n",
       "      <td>1.149633</td>\n",
       "      <td>1.162574</td>\n",
       "      <td>1.16989</td>\n",
       "      <td>1.160327</td>\n",
       "      <td>None</td>\n",
       "      <td>NaN</td>\n",
       "    </tr>\n",
       "    <tr>\n",
       "      <th>70083</th>\n",
       "      <td>2025-08-01 22:00:00</td>\n",
       "      <td>1.15258</td>\n",
       "      <td>1.15457</td>\n",
       "      <td>1.15236</td>\n",
       "      <td>1.15441</td>\n",
       "      <td>1.15393</td>\n",
       "      <td>1.15971</td>\n",
       "      <td>1.15165</td>\n",
       "      <td>1.15847</td>\n",
       "      <td>1.155940</td>\n",
       "      <td>...</td>\n",
       "      <td>1.15971</td>\n",
       "      <td>1.13917</td>\n",
       "      <td>1.15847</td>\n",
       "      <td>1.149633</td>\n",
       "      <td>1.149633</td>\n",
       "      <td>1.162574</td>\n",
       "      <td>1.16989</td>\n",
       "      <td>1.160327</td>\n",
       "      <td>None</td>\n",
       "      <td>NaN</td>\n",
       "    </tr>\n",
       "    <tr>\n",
       "      <th>70084</th>\n",
       "      <td>2025-08-01 22:30:00</td>\n",
       "      <td>1.15441</td>\n",
       "      <td>1.15823</td>\n",
       "      <td>1.15440</td>\n",
       "      <td>1.15689</td>\n",
       "      <td>1.15393</td>\n",
       "      <td>1.15971</td>\n",
       "      <td>1.15165</td>\n",
       "      <td>1.15847</td>\n",
       "      <td>1.155940</td>\n",
       "      <td>...</td>\n",
       "      <td>1.15971</td>\n",
       "      <td>1.13917</td>\n",
       "      <td>1.15847</td>\n",
       "      <td>1.149633</td>\n",
       "      <td>1.149633</td>\n",
       "      <td>1.162574</td>\n",
       "      <td>1.16989</td>\n",
       "      <td>1.160327</td>\n",
       "      <td>None</td>\n",
       "      <td>NaN</td>\n",
       "    </tr>\n",
       "    <tr>\n",
       "      <th>70085</th>\n",
       "      <td>2025-08-01 23:00:00</td>\n",
       "      <td>1.15692</td>\n",
       "      <td>1.15897</td>\n",
       "      <td>1.15688</td>\n",
       "      <td>1.15893</td>\n",
       "      <td>1.15393</td>\n",
       "      <td>1.15971</td>\n",
       "      <td>1.15165</td>\n",
       "      <td>1.15847</td>\n",
       "      <td>1.155940</td>\n",
       "      <td>...</td>\n",
       "      <td>1.15971</td>\n",
       "      <td>1.13917</td>\n",
       "      <td>1.15847</td>\n",
       "      <td>1.149633</td>\n",
       "      <td>1.149633</td>\n",
       "      <td>1.162574</td>\n",
       "      <td>1.16989</td>\n",
       "      <td>1.160327</td>\n",
       "      <td>None</td>\n",
       "      <td>NaN</td>\n",
       "    </tr>\n",
       "    <tr>\n",
       "      <th>70086</th>\n",
       "      <td>2025-08-01 23:30:00</td>\n",
       "      <td>1.15892</td>\n",
       "      <td>1.15971</td>\n",
       "      <td>1.15832</td>\n",
       "      <td>1.15847</td>\n",
       "      <td>1.15393</td>\n",
       "      <td>1.15971</td>\n",
       "      <td>1.15165</td>\n",
       "      <td>1.15847</td>\n",
       "      <td>1.155940</td>\n",
       "      <td>...</td>\n",
       "      <td>1.15971</td>\n",
       "      <td>1.13917</td>\n",
       "      <td>1.15847</td>\n",
       "      <td>1.149633</td>\n",
       "      <td>1.149633</td>\n",
       "      <td>1.162574</td>\n",
       "      <td>1.16989</td>\n",
       "      <td>1.160327</td>\n",
       "      <td>None</td>\n",
       "      <td>NaN</td>\n",
       "    </tr>\n",
       "  </tbody>\n",
       "</table>\n",
       "<p>70087 rows × 23 columns</p>\n",
       "</div>"
      ],
      "text/plain": [
       "                     time     open     high      low    close  hourly_open  \\\n",
       "0     2019-12-16 00:00:00  1.11247  1.11279  1.11243  1.11255      1.11247   \n",
       "1     2019-12-16 00:30:00  1.11255  1.11303  1.11246  1.11286      1.11247   \n",
       "2     2019-12-16 01:00:00  1.11286  1.11296  1.11226  1.11253      1.11247   \n",
       "3     2019-12-16 01:30:00  1.11253  1.11281  1.11236  1.11242      1.11247   \n",
       "4     2019-12-16 02:00:00  1.11243  1.11267  1.11230  1.11237      1.11247   \n",
       "...                   ...      ...      ...      ...      ...          ...   \n",
       "70082 2025-08-01 21:30:00  1.15396  1.15479  1.15254  1.15258      1.15393   \n",
       "70083 2025-08-01 22:00:00  1.15258  1.15457  1.15236  1.15441      1.15393   \n",
       "70084 2025-08-01 22:30:00  1.15441  1.15823  1.15440  1.15689      1.15393   \n",
       "70085 2025-08-01 23:00:00  1.15692  1.15897  1.15688  1.15893      1.15393   \n",
       "70086 2025-08-01 23:30:00  1.15892  1.15971  1.15832  1.15847      1.15393   \n",
       "\n",
       "       hourly_high  hourly_low  hourly_close    ohlc_x  ...  daily_high  \\\n",
       "0          1.11303     1.11226       1.11281  1.112643  ...     1.11580   \n",
       "1          1.11303     1.11226       1.11281  1.112643  ...     1.11580   \n",
       "2          1.11303     1.11226       1.11281  1.112643  ...     1.11580   \n",
       "3          1.11303     1.11226       1.11281  1.112643  ...     1.11580   \n",
       "4          1.11303     1.11226       1.11281  1.112643  ...     1.11580   \n",
       "...            ...         ...           ...       ...  ...         ...   \n",
       "70082      1.15971     1.15165       1.15847  1.155940  ...     1.15971   \n",
       "70083      1.15971     1.15165       1.15847  1.155940  ...     1.15971   \n",
       "70084      1.15971     1.15165       1.15847  1.155940  ...     1.15971   \n",
       "70085      1.15971     1.15165       1.15847  1.155940  ...     1.15971   \n",
       "70086      1.15971     1.15165       1.15847  1.155940  ...     1.15971   \n",
       "\n",
       "       daily_low  daily_close    ohlc_y     sma_1    sma_14  high_20  \\\n",
       "0        1.11226      1.11440  1.113733  1.113733       NaN      NaN   \n",
       "1        1.11226      1.11440  1.113733  1.113733       NaN      NaN   \n",
       "2        1.11226      1.11440  1.113733  1.113733       NaN      NaN   \n",
       "3        1.11226      1.11440  1.113733  1.113733       NaN      NaN   \n",
       "4        1.11226      1.11440  1.113733  1.113733       NaN      NaN   \n",
       "...          ...          ...       ...       ...       ...      ...   \n",
       "70082    1.13917      1.15847  1.149633  1.149633  1.162574  1.16989   \n",
       "70083    1.13917      1.15847  1.149633  1.149633  1.162574  1.16989   \n",
       "70084    1.13917      1.15847  1.149633  1.149633  1.162574  1.16989   \n",
       "70085    1.13917      1.15847  1.149633  1.149633  1.162574  1.16989   \n",
       "70086    1.13917      1.15847  1.149633  1.149633  1.162574  1.16989   \n",
       "\n",
       "         low_20  signal  is_first_signal  \n",
       "0           NaN    None              NaN  \n",
       "1           NaN    None              NaN  \n",
       "2           NaN    None              NaN  \n",
       "3           NaN    None              NaN  \n",
       "4           NaN    None              NaN  \n",
       "...         ...     ...              ...  \n",
       "70082  1.160327    None              NaN  \n",
       "70083  1.160327    None              NaN  \n",
       "70084  1.160327    None              NaN  \n",
       "70085  1.160327    None              NaN  \n",
       "70086  1.160327    None              NaN  \n",
       "\n",
       "[70087 rows x 23 columns]"
      ]
     },
     "execution_count": 9,
     "metadata": {},
     "output_type": "execute_result"
    }
   ],
   "source": [
    "print(merged_df.columns.tolist())\n",
    "merged_df"
   ]
  },
  {
   "cell_type": "code",
   "execution_count": 10,
   "id": "7809ceda",
   "metadata": {},
   "outputs": [],
   "source": [
    "# create trade logic\n",
    "def on_bar(data, trades, orders):\n",
    "    open_trades = trades[trades['state'] == 'open']\n",
    "    num_open_trades = open_trades.shape[0]\n",
    "    account_balance = 10000  # your account in USD\n",
    "    risk_percent = 0.20  # 2%\n",
    "    pip_value_per_lot = 10  # on EURUSD, 1 lot = $10 per pip\n",
    "    risk_amount = account_balance * risk_percent\n",
    "    # entry signal\n",
    "    if data['signal'] == 'buy' and not num_open_trades:\n",
    "        stop_loss_pips = (data['high'] - data[\"low_20\"]) # example SL\n",
    "        volume = 100000 #risk_amount / (stop_loss_pips * pip_value_per_lot)\n",
    "        orders.open_trade(symbol, volume, 'buy')\n",
    "    \n",
    "    elif data['signal'] == 'sell' and not num_open_trades:\n",
    "        stop_loss_pips = (data['high_20'] - data[\"low_20\"]) # example SL\n",
    "        volume = 100000 #risk_amount / (stop_loss_pips * pip_value_per_lot)\n",
    "        orders.open_trade(symbol, volume, 'sell')\n",
    "        \n",
    "# exit signal\n",
    "    if num_open_trades:\n",
    "        trade = open_trades.iloc[0]\n",
    "\n",
    "        if trade['order_type'] == 'buy' and data[\"sma_11\"] <= data[\"sma_144\"]:\n",
    "            orders.close_trade(trade)\n",
    "        elif trade['order_type'] == 'sell' and data[\"sma_11\"] >= data[\"sma_144\"]:\n",
    "            orders.close_trade(trade)"
   ]
  },
  {
   "cell_type": "code",
   "execution_count": 11,
   "id": "99cb5aa8",
   "metadata": {},
   "outputs": [
    {
     "data": {
      "text/html": [
       "<div>\n",
       "<style scoped>\n",
       "    .dataframe tbody tr th:only-of-type {\n",
       "        vertical-align: middle;\n",
       "    }\n",
       "\n",
       "    .dataframe tbody tr th {\n",
       "        vertical-align: top;\n",
       "    }\n",
       "\n",
       "    .dataframe thead th {\n",
       "        text-align: right;\n",
       "    }\n",
       "</style>\n",
       "<table border=\"1\" class=\"dataframe\">\n",
       "  <thead>\n",
       "    <tr style=\"text-align: right;\">\n",
       "      <th></th>\n",
       "      <th>state</th>\n",
       "      <th>symbol</th>\n",
       "      <th>order_type</th>\n",
       "      <th>volume</th>\n",
       "      <th>open_time</th>\n",
       "      <th>open_price</th>\n",
       "      <th>close_time</th>\n",
       "      <th>close_price</th>\n",
       "      <th>sl</th>\n",
       "      <th>tp</th>\n",
       "      <th>info</th>\n",
       "      <th>profit</th>\n",
       "      <th>commission</th>\n",
       "      <th>profit_net</th>\n",
       "      <th>profit_cumulative</th>\n",
       "      <th>balance</th>\n",
       "    </tr>\n",
       "  </thead>\n",
       "  <tbody>\n",
       "    <tr>\n",
       "      <th>0</th>\n",
       "      <td>closed</td>\n",
       "      <td>EURUSD</td>\n",
       "      <td>buy</td>\n",
       "      <td>100000</td>\n",
       "      <td>2020-01-06 08:00:00</td>\n",
       "      <td>1.11624</td>\n",
       "      <td>2020-01-07 12:00:00</td>\n",
       "      <td>1.11846</td>\n",
       "      <td>0</td>\n",
       "      <td>0</td>\n",
       "      <td>{}</td>\n",
       "      <td>222.0</td>\n",
       "      <td>-7.0</td>\n",
       "      <td>215.0</td>\n",
       "      <td>215.0</td>\n",
       "      <td>10215.0</td>\n",
       "    </tr>\n",
       "    <tr>\n",
       "      <th>1</th>\n",
       "      <td>closed</td>\n",
       "      <td>EURUSD</td>\n",
       "      <td>sell</td>\n",
       "      <td>100000</td>\n",
       "      <td>2020-01-08 00:00:00</td>\n",
       "      <td>1.11519</td>\n",
       "      <td>2020-01-10 20:00:00</td>\n",
       "      <td>1.11224</td>\n",
       "      <td>0</td>\n",
       "      <td>0</td>\n",
       "      <td>{}</td>\n",
       "      <td>295.0</td>\n",
       "      <td>-7.0</td>\n",
       "      <td>288.0</td>\n",
       "      <td>503.0</td>\n",
       "      <td>10503.0</td>\n",
       "    </tr>\n",
       "    <tr>\n",
       "      <th>2</th>\n",
       "      <td>closed</td>\n",
       "      <td>EURUSD</td>\n",
       "      <td>sell</td>\n",
       "      <td>100000</td>\n",
       "      <td>2020-01-14 12:00:00</td>\n",
       "      <td>1.11314</td>\n",
       "      <td>2020-01-14 20:00:00</td>\n",
       "      <td>1.1131</td>\n",
       "      <td>0</td>\n",
       "      <td>0</td>\n",
       "      <td>{}</td>\n",
       "      <td>4.0</td>\n",
       "      <td>-7.0</td>\n",
       "      <td>-3.0</td>\n",
       "      <td>500.0</td>\n",
       "      <td>10500.0</td>\n",
       "    </tr>\n",
       "    <tr>\n",
       "      <th>3</th>\n",
       "      <td>closed</td>\n",
       "      <td>EURUSD</td>\n",
       "      <td>sell</td>\n",
       "      <td>100000</td>\n",
       "      <td>2020-01-16 20:00:00</td>\n",
       "      <td>1.11348</td>\n",
       "      <td>2020-01-21 12:00:00</td>\n",
       "      <td>1.10907</td>\n",
       "      <td>0</td>\n",
       "      <td>0</td>\n",
       "      <td>{}</td>\n",
       "      <td>441.0</td>\n",
       "      <td>-7.0</td>\n",
       "      <td>434.0</td>\n",
       "      <td>934.0</td>\n",
       "      <td>10934.0</td>\n",
       "    </tr>\n",
       "    <tr>\n",
       "      <th>4</th>\n",
       "      <td>closed</td>\n",
       "      <td>EURUSD</td>\n",
       "      <td>sell</td>\n",
       "      <td>100000</td>\n",
       "      <td>2020-01-22 00:00:00</td>\n",
       "      <td>1.10818</td>\n",
       "      <td>2020-01-23 12:00:00</td>\n",
       "      <td>1.10844</td>\n",
       "      <td>0</td>\n",
       "      <td>0</td>\n",
       "      <td>{}</td>\n",
       "      <td>-26.0</td>\n",
       "      <td>-7.0</td>\n",
       "      <td>-33.0</td>\n",
       "      <td>901.0</td>\n",
       "      <td>10901.0</td>\n",
       "    </tr>\n",
       "    <tr>\n",
       "      <th>...</th>\n",
       "      <td>...</td>\n",
       "      <td>...</td>\n",
       "      <td>...</td>\n",
       "      <td>...</td>\n",
       "      <td>...</td>\n",
       "      <td>...</td>\n",
       "      <td>...</td>\n",
       "      <td>...</td>\n",
       "      <td>...</td>\n",
       "      <td>...</td>\n",
       "      <td>...</td>\n",
       "      <td>...</td>\n",
       "      <td>...</td>\n",
       "      <td>...</td>\n",
       "      <td>...</td>\n",
       "      <td>...</td>\n",
       "    </tr>\n",
       "    <tr>\n",
       "      <th>511</th>\n",
       "      <td>closed</td>\n",
       "      <td>EURUSD</td>\n",
       "      <td>buy</td>\n",
       "      <td>100000</td>\n",
       "      <td>2025-07-07 00:00:00</td>\n",
       "      <td>1.17771</td>\n",
       "      <td>2025-07-07 04:00:00</td>\n",
       "      <td>1.17797</td>\n",
       "      <td>0</td>\n",
       "      <td>0</td>\n",
       "      <td>{}</td>\n",
       "      <td>26.0</td>\n",
       "      <td>-7.0</td>\n",
       "      <td>19.0</td>\n",
       "      <td>182263.0</td>\n",
       "      <td>192263.0</td>\n",
       "    </tr>\n",
       "    <tr>\n",
       "      <th>512</th>\n",
       "      <td>closed</td>\n",
       "      <td>EURUSD</td>\n",
       "      <td>sell</td>\n",
       "      <td>100000</td>\n",
       "      <td>2025-07-10 12:00:00</td>\n",
       "      <td>1.17279</td>\n",
       "      <td>2025-07-15 08:00:00</td>\n",
       "      <td>1.16759</td>\n",
       "      <td>0</td>\n",
       "      <td>0</td>\n",
       "      <td>{}</td>\n",
       "      <td>520.0</td>\n",
       "      <td>-7.0</td>\n",
       "      <td>513.0</td>\n",
       "      <td>182776.0</td>\n",
       "      <td>192776.0</td>\n",
       "    </tr>\n",
       "    <tr>\n",
       "      <th>513</th>\n",
       "      <td>closed</td>\n",
       "      <td>EURUSD</td>\n",
       "      <td>sell</td>\n",
       "      <td>100000</td>\n",
       "      <td>2025-07-16 00:00:00</td>\n",
       "      <td>1.16005</td>\n",
       "      <td>2025-07-18 04:00:00</td>\n",
       "      <td>1.16246</td>\n",
       "      <td>0</td>\n",
       "      <td>0</td>\n",
       "      <td>{}</td>\n",
       "      <td>-241.0</td>\n",
       "      <td>-7.0</td>\n",
       "      <td>-248.0</td>\n",
       "      <td>182528.0</td>\n",
       "      <td>192528.0</td>\n",
       "    </tr>\n",
       "    <tr>\n",
       "      <th>514</th>\n",
       "      <td>closed</td>\n",
       "      <td>EURUSD</td>\n",
       "      <td>buy</td>\n",
       "      <td>100000</td>\n",
       "      <td>2025-07-22 00:00:00</td>\n",
       "      <td>1.16894</td>\n",
       "      <td>2025-07-25 00:00:00</td>\n",
       "      <td>1.17442</td>\n",
       "      <td>0</td>\n",
       "      <td>0</td>\n",
       "      <td>{}</td>\n",
       "      <td>548.0</td>\n",
       "      <td>-7.0</td>\n",
       "      <td>541.0</td>\n",
       "      <td>183069.0</td>\n",
       "      <td>193069.0</td>\n",
       "    </tr>\n",
       "    <tr>\n",
       "      <th>515</th>\n",
       "      <td>closed</td>\n",
       "      <td>EURUSD</td>\n",
       "      <td>sell</td>\n",
       "      <td>100000</td>\n",
       "      <td>2025-07-28 08:00:00</td>\n",
       "      <td>1.17474</td>\n",
       "      <td>2025-08-01 12:00:00</td>\n",
       "      <td>1.14066</td>\n",
       "      <td>0</td>\n",
       "      <td>0</td>\n",
       "      <td>{}</td>\n",
       "      <td>3408.0</td>\n",
       "      <td>-7.0</td>\n",
       "      <td>3401.0</td>\n",
       "      <td>186470.0</td>\n",
       "      <td>196470.0</td>\n",
       "    </tr>\n",
       "  </tbody>\n",
       "</table>\n",
       "<p>516 rows × 16 columns</p>\n",
       "</div>"
      ],
      "text/plain": [
       "      state  symbol order_type  volume            open_time open_price  \\\n",
       "0    closed  EURUSD        buy  100000  2020-01-06 08:00:00    1.11624   \n",
       "1    closed  EURUSD       sell  100000  2020-01-08 00:00:00    1.11519   \n",
       "2    closed  EURUSD       sell  100000  2020-01-14 12:00:00    1.11314   \n",
       "3    closed  EURUSD       sell  100000  2020-01-16 20:00:00    1.11348   \n",
       "4    closed  EURUSD       sell  100000  2020-01-22 00:00:00    1.10818   \n",
       "..      ...     ...        ...     ...                  ...        ...   \n",
       "511  closed  EURUSD        buy  100000  2025-07-07 00:00:00    1.17771   \n",
       "512  closed  EURUSD       sell  100000  2025-07-10 12:00:00    1.17279   \n",
       "513  closed  EURUSD       sell  100000  2025-07-16 00:00:00    1.16005   \n",
       "514  closed  EURUSD        buy  100000  2025-07-22 00:00:00    1.16894   \n",
       "515  closed  EURUSD       sell  100000  2025-07-28 08:00:00    1.17474   \n",
       "\n",
       "              close_time close_price sl tp info  profit commission profit_net  \\\n",
       "0    2020-01-07 12:00:00     1.11846  0  0   {}   222.0       -7.0      215.0   \n",
       "1    2020-01-10 20:00:00     1.11224  0  0   {}   295.0       -7.0      288.0   \n",
       "2    2020-01-14 20:00:00      1.1131  0  0   {}     4.0       -7.0       -3.0   \n",
       "3    2020-01-21 12:00:00     1.10907  0  0   {}   441.0       -7.0      434.0   \n",
       "4    2020-01-23 12:00:00     1.10844  0  0   {}   -26.0       -7.0      -33.0   \n",
       "..                   ...         ... .. ..  ...     ...        ...        ...   \n",
       "511  2025-07-07 04:00:00     1.17797  0  0   {}    26.0       -7.0       19.0   \n",
       "512  2025-07-15 08:00:00     1.16759  0  0   {}   520.0       -7.0      513.0   \n",
       "513  2025-07-18 04:00:00     1.16246  0  0   {}  -241.0       -7.0     -248.0   \n",
       "514  2025-07-25 00:00:00     1.17442  0  0   {}   548.0       -7.0      541.0   \n",
       "515  2025-08-01 12:00:00     1.14066  0  0   {}  3408.0       -7.0     3401.0   \n",
       "\n",
       "    profit_cumulative   balance  \n",
       "0               215.0   10215.0  \n",
       "1               503.0   10503.0  \n",
       "2               500.0   10500.0  \n",
       "3               934.0   10934.0  \n",
       "4               901.0   10901.0  \n",
       "..                ...       ...  \n",
       "511          182263.0  192263.0  \n",
       "512          182776.0  192776.0  \n",
       "513          182528.0  192528.0  \n",
       "514          183069.0  193069.0  \n",
       "515          186470.0  196470.0  \n",
       "\n",
       "[516 rows x 16 columns]"
      ]
     },
     "execution_count": 11,
     "metadata": {},
     "output_type": "execute_result"
    }
   ],
   "source": [
    "# backtest parameters\n",
    "starting_balance = 10000\n",
    "currency = 'USD'\n",
    "exchange_rate = 1\n",
    "commission = -7 / 100000\n",
    "\n",
    "# backtest\n",
    "bt = Backtester()\n",
    "bt.set_starting_balance(starting_balance, currency=currency)\n",
    "bt.set_exchange_rate(exchange_rate)\n",
    "bt.set_commission(commission)\n",
    "\n",
    "bt.set_historical_data(merged_df)\n",
    "bt.set_on_bar(on_bar)\n",
    "\n",
    "bt.run_backtest()\n",
    "\n",
    "bt.trades\n"
   ]
  },
  {
   "cell_type": "code",
   "execution_count": 12,
   "id": "68ca610f",
   "metadata": {},
   "outputs": [
    {
     "data": {
      "application/vnd.plotly.v1+json": {
       "config": {
        "plotlyServerURL": "https://plot.ly"
       },
       "data": [
        {
         "hovertemplate": "close_time=%{x}<br>balance=%{y}<extra></extra>",
         "legendgroup": "",
         "line": {
          "color": "#636efa",
          "dash": "solid"
         },
         "marker": {
          "symbol": "circle"
         },
         "mode": "lines",
         "name": "",
         "orientation": "v",
         "showlegend": false,
         "type": "scatter",
         "x": [
          "2020-01-07T12:00:00",
          "2020-01-10T20:00:00",
          "2020-01-14T20:00:00",
          "2020-01-21T12:00:00",
          "2020-01-23T12:00:00",
          "2020-01-30T04:00:00",
          "2020-02-04T08:00:00",
          "2020-02-20T16:00:00",
          "2020-02-21T08:00:00",
          "2020-03-04T12:00:00",
          "2020-03-10T12:00:00",
          "2020-03-16T12:00:00",
          "2020-03-23T12:00:00",
          "2020-03-30T16:00:00",
          "2020-04-07T04:00:00",
          "2020-04-09T12:00:00",
          "2020-04-13T12:00:00",
          "2020-04-15T12:00:00",
          "2020-04-17T20:00:00",
          "2020-04-20T08:00:00",
          "2020-04-22T08:00:00",
          "2020-04-24T20:00:00",
          "2020-04-29T04:00:00",
          "2020-05-04T12:00:00",
          "2020-05-07T20:00:00",
          "2020-05-12T12:00:00",
          "2020-05-15T12:00:00",
          "2020-05-21T20:00:00",
          "2020-06-08T12:00:00",
          "2020-06-11T20:00:00",
          "2020-06-16T16:00:00",
          "2020-06-22T12:00:00",
          "2020-06-24T16:00:00",
          "2020-06-29T04:00:00",
          "2020-06-30T20:00:00",
          "2020-07-01T16:00:00",
          "2020-07-02T20:00:00",
          "2020-07-06T00:00:00",
          "2020-07-07T20:00:00",
          "2020-07-09T20:00:00",
          "2020-07-16T20:00:00",
          "2020-07-29T00:00:00",
          "2020-07-31T20:00:00",
          "2020-08-07T04:00:00",
          "2020-08-11T12:00:00",
          "2020-08-12T12:00:00",
          "2020-08-19T16:00:00",
          "2020-08-24T12:00:00",
          "2020-08-25T08:00:00",
          "2020-08-26T20:00:00",
          "2020-08-27T20:00:00",
          "2020-09-01T20:00:00",
          "2020-09-04T08:00:00",
          "2020-09-09T16:00:00",
          "2020-09-15T20:00:00",
          "2020-09-17T20:00:00",
          "2020-09-21T08:00:00",
          "2020-09-28T12:00:00",
          "2020-10-05T04:00:00",
          "2020-10-07T00:00:00",
          "2020-10-07T20:00:00",
          "2020-10-08T12:00:00",
          "2020-10-13T04:00:00",
          "2020-10-16T16:00:00",
          "2020-10-19T08:00:00",
          "2020-10-22T12:00:00",
          "2020-10-26T08:00:00",
          "2020-11-03T08:00:00",
          "2020-11-04T12:00:00",
          "2020-11-09T20:00:00",
          "2020-11-18T20:00:00",
          "2020-11-20T20:00:00",
          "2020-11-23T16:00:00",
          "2020-11-30T20:00:00",
          "2020-12-04T20:00:00",
          "2020-12-07T20:00:00",
          "2020-12-09T16:00:00",
          "2020-12-21T00:00:00",
          "2020-12-22T04:00:00",
          "2020-12-24T12:00:00",
          "2020-12-31T16:00:00",
          "2021-01-04T20:00:00",
          "2021-01-07T08:00:00",
          "2021-01-12T20:00:00",
          "2021-01-19T08:00:00",
          "2021-01-21T00:00:00",
          "2021-01-26T16:00:00",
          "2021-01-29T12:00:00",
          "2021-02-05T16:00:00",
          "2021-02-12T08:00:00",
          "2021-02-16T16:00:00",
          "2021-02-18T16:00:00",
          "2021-02-24T12:00:00",
          "2021-02-26T00:00:00",
          "2021-03-02T20:00:00",
          "2021-03-09T12:00:00",
          "2021-03-10T08:00:00",
          "2021-03-12T20:00:00",
          "2021-03-17T20:00:00",
          "2021-03-22T12:00:00",
          "2021-04-01T12:00:00",
          "2021-04-05T16:00:00",
          "2021-04-09T12:00:00",
          "2021-04-12T04:00:00",
          "2021-04-13T04:00:00",
          "2021-04-16T00:00:00",
          "2021-04-19T00:00:00",
          "2021-04-21T08:00:00",
          "2021-04-22T08:00:00",
          "2021-04-27T08:00:00",
          "2021-04-30T08:00:00",
          "2021-05-06T08:00:00",
          "2021-05-12T00:00:00",
          "2021-05-14T08:00:00",
          "2021-05-19T20:00:00",
          "2021-05-21T16:00:00",
          "2021-05-26T16:00:00",
          "2021-06-02T08:00:00",
          "2021-06-04T16:00:00",
          "2021-06-09T04:00:00",
          "2021-06-11T04:00:00",
          "2021-06-15T08:00:00",
          "2021-06-21T16:00:00",
          "2021-06-25T04:00:00",
          "2021-07-02T20:00:00",
          "2021-07-08T12:00:00",
          "2021-07-14T16:00:00",
          "2021-07-16T00:00:00",
          "2021-07-21T20:00:00",
          "2021-07-26T08:00:00",
          "2021-07-28T16:00:00",
          "2021-07-30T20:00:00",
          "2021-08-02T16:00:00",
          "2021-08-03T16:00:00",
          "2021-08-11T16:00:00",
          "2021-08-20T20:00:00",
          "2021-08-26T20:00:00",
          "2021-08-27T12:00:00",
          "2021-09-01T04:00:00",
          "2021-09-06T08:00:00",
          "2021-09-07T08:00:00",
          "2021-09-10T00:00:00",
          "2021-09-10T20:00:00",
          "2021-09-14T08:00:00",
          "2021-09-15T08:00:00",
          "2021-09-21T12:00:00",
          "2021-09-22T08:00:00",
          "2021-09-23T12:00:00",
          "2021-10-01T16:00:00",
          "2021-10-08T12:00:00",
          "2021-10-13T16:00:00",
          "2021-10-18T00:00:00",
          "2021-10-21T12:00:00",
          "2021-10-25T12:00:00",
          "2021-10-28T00:00:00",
          "2021-10-29T16:00:00",
          "2021-11-02T08:00:00",
          "2021-11-03T20:00:00",
          "2021-11-08T08:00:00",
          "2021-11-15T04:00:00",
          "2021-11-18T12:00:00",
          "2021-11-26T04:00:00",
          "2021-12-02T00:00:00",
          "2021-12-02T16:00:00",
          "2021-12-08T04:00:00",
          "2021-12-09T20:00:00",
          "2021-12-13T00:00:00",
          "2021-12-14T12:00:00",
          "2021-12-16T00:00:00",
          "2021-12-21T08:00:00",
          "2021-12-22T08:00:00",
          "2021-12-24T16:00:00",
          "2021-12-28T16:00:00",
          "2021-12-30T08:00:00",
          "2021-12-31T04:00:00",
          "2022-01-03T16:00:00",
          "2022-01-05T12:00:00",
          "2022-01-06T12:00:00",
          "2022-01-07T12:00:00",
          "2022-01-10T12:00:00",
          "2022-01-14T16:00:00",
          "2022-01-21T12:00:00",
          "2022-01-31T08:00:00",
          "2022-02-07T16:00:00",
          "2022-02-10T00:00:00",
          "2022-02-10T12:00:00",
          "2022-02-15T12:00:00",
          "2022-02-17T16:00:00",
          "2022-02-18T04:00:00",
          "2022-02-21T04:00:00",
          "2022-02-22T16:00:00",
          "2022-02-23T08:00:00",
          "2022-02-25T16:00:00",
          "2022-02-28T12:00:00",
          "2022-03-01T08:00:00",
          "2022-03-08T16:00:00",
          "2022-03-15T04:00:00",
          "2022-03-18T12:00:00",
          "2022-03-23T12:00:00",
          "2022-03-25T16:00:00",
          "2022-03-29T08:00:00",
          "2022-03-31T12:00:00",
          "2022-04-11T00:00:00",
          "2022-04-13T20:00:00",
          "2022-04-19T12:00:00",
          "2022-04-20T04:00:00",
          "2022-04-29T08:00:00",
          "2022-05-02T08:00:00",
          "2022-05-03T12:00:00",
          "2022-05-04T12:00:00",
          "2022-05-06T12:00:00",
          "2022-05-09T16:00:00",
          "2022-05-11T08:00:00",
          "2022-05-16T08:00:00",
          "2022-05-19T12:00:00",
          "2022-05-25T12:00:00",
          "2022-05-31T08:00:00",
          "2022-06-06T16:00:00",
          "2022-06-09T16:00:00",
          "2022-06-15T08:00:00",
          "2022-06-16T16:00:00",
          "2022-06-21T00:00:00",
          "2022-06-22T16:00:00",
          "2022-06-24T08:00:00",
          "2022-06-28T16:00:00",
          "2022-06-30T20:00:00",
          "2022-07-04T12:00:00",
          "2022-07-08T20:00:00",
          "2022-07-13T16:00:00",
          "2022-07-15T12:00:00",
          "2022-07-20T20:00:00",
          "2022-07-21T16:00:00",
          "2022-07-22T04:00:00",
          "2022-07-26T12:00:00",
          "2022-07-28T16:00:00",
          "2022-08-02T12:00:00",
          "2022-08-04T12:00:00",
          "2022-08-05T12:00:00",
          "2022-08-08T16:00:00",
          "2022-08-12T12:00:00",
          "2022-08-17T16:00:00",
          "2022-08-18T12:00:00",
          "2022-08-24T20:00:00",
          "2022-08-26T08:00:00",
          "2022-08-29T12:00:00",
          "2022-08-31T16:00:00",
          "2022-09-06T04:00:00",
          "2022-09-07T16:00:00",
          "2022-09-13T12:00:00",
          "2022-09-15T16:00:00",
          "2022-09-16T08:00:00",
          "2022-09-19T08:00:00",
          "2022-09-20T12:00:00",
          "2022-09-28T16:00:00",
          "2022-10-05T16:00:00",
          "2022-10-06T08:00:00",
          "2022-10-11T16:00:00",
          "2022-10-13T00:00:00",
          "2022-10-13T16:00:00",
          "2022-10-17T04:00:00",
          "2022-10-19T12:00:00",
          "2022-10-21T16:00:00",
          "2022-10-27T16:00:00",
          "2022-11-01T16:00:00",
          "2022-11-02T12:00:00",
          "2022-11-04T16:00:00",
          "2022-11-09T20:00:00",
          "2022-11-17T08:00:00",
          "2022-11-18T12:00:00",
          "2022-11-25T12:00:00",
          "2022-11-28T20:00:00",
          "2022-12-05T20:00:00",
          "2022-12-12T00:00:00",
          "2022-12-12T20:00:00",
          "2022-12-15T20:00:00",
          "2022-12-16T08:00:00",
          "2022-12-21T16:00:00",
          "2022-12-22T16:00:00",
          "2022-12-28T20:00:00",
          "2023-01-02T16:00:00",
          "2023-01-05T00:00:00",
          "2023-01-06T16:00:00",
          "2023-01-16T12:00:00",
          "2023-01-17T16:00:00",
          "2023-01-18T20:00:00",
          "2023-01-19T16:00:00",
          "2023-01-24T12:00:00",
          "2023-01-25T12:00:00",
          "2023-01-26T16:00:00",
          "2023-01-30T16:00:00",
          "2023-01-31T20:00:00",
          "2023-02-02T20:00:00",
          "2023-02-08T08:00:00",
          "2023-02-09T04:00:00",
          "2023-02-13T20:00:00",
          "2023-02-17T20:00:00",
          "2023-02-27T16:00:00",
          "2023-03-01T04:00:00",
          "2023-03-03T20:00:00",
          "2023-03-07T16:00:00",
          "2023-03-09T16:00:00",
          "2023-03-15T12:00:00",
          "2023-03-17T04:00:00",
          "2023-03-24T04:00:00",
          "2023-03-31T20:00:00",
          "2023-04-05T20:00:00",
          "2023-04-07T00:00:00",
          "2023-04-14T16:00:00",
          "2023-04-19T12:00:00",
          "2023-04-21T08:00:00",
          "2023-04-25T16:00:00",
          "2023-04-27T16:00:00",
          "2023-04-28T04:00:00",
          "2023-05-02T20:00:00",
          "2023-05-04T16:00:00",
          "2023-05-08T20:00:00",
          "2023-05-10T16:00:00",
          "2023-05-16T08:00:00",
          "2023-05-19T16:00:00",
          "2023-05-29T08:00:00",
          "2023-05-30T16:00:00",
          "2023-06-01T12:00:00",
          "2023-06-07T12:00:00",
          "2023-06-12T00:00:00",
          "2023-06-12T16:00:00",
          "2023-06-19T16:00:00",
          "2023-06-23T04:00:00",
          "2023-06-28T16:00:00",
          "2023-06-30T16:00:00",
          "2023-07-06T20:00:00",
          "2023-07-18T16:00:00",
          "2023-07-26T12:00:00",
          "2023-07-31T12:00:00",
          "2023-08-04T12:00:00",
          "2023-08-09T12:00:00",
          "2023-08-10T04:00:00",
          "2023-08-11T04:00:00",
          "2023-08-16T08:00:00",
          "2023-08-21T04:00:00",
          "2023-08-24T00:00:00",
          "2023-08-28T16:00:00",
          "2023-08-29T16:00:00",
          "2023-08-31T12:00:00",
          "2023-09-11T00:00:00",
          "2023-09-12T20:00:00",
          "2023-09-14T04:00:00",
          "2023-09-18T16:00:00",
          "2023-09-25T04:00:00",
          "2023-09-28T20:00:00",
          "2023-10-04T12:00:00",
          "2023-10-09T20:00:00",
          "2023-10-12T12:00:00",
          "2023-10-16T16:00:00",
          "2023-10-18T16:00:00",
          "2023-10-24T16:00:00",
          "2023-10-27T16:00:00",
          "2023-10-31T20:00:00",
          "2023-11-02T04:00:00",
          "2023-11-07T08:00:00",
          "2023-11-09T20:00:00",
          "2023-11-13T12:00:00",
          "2023-11-16T20:00:00",
          "2023-11-21T20:00:00",
          "2023-11-23T12:00:00",
          "2023-11-30T00:00:00",
          "2023-12-07T16:00:00",
          "2023-12-12T08:00:00",
          "2023-12-15T20:00:00",
          "2023-12-20T20:00:00",
          "2023-12-28T20:00:00",
          "2024-01-04T12:00:00",
          "2024-01-05T16:00:00",
          "2024-01-08T12:00:00",
          "2024-01-10T12:00:00",
          "2024-01-11T20:00:00",
          "2024-01-18T00:00:00",
          "2024-01-19T00:00:00",
          "2024-01-23T04:00:00",
          "2024-01-24T08:00:00",
          "2024-01-25T08:00:00",
          "2024-01-30T16:00:00",
          "2024-01-31T12:00:00",
          "2024-02-01T16:00:00",
          "2024-02-07T00:00:00",
          "2024-02-08T20:00:00",
          "2024-02-15T08:00:00",
          "2024-02-20T04:00:00",
          "2024-02-22T16:00:00",
          "2024-02-23T20:00:00",
          "2024-02-28T00:00:00",
          "2024-02-29T16:00:00",
          "2024-03-06T04:00:00",
          "2024-03-11T16:00:00",
          "2024-03-14T16:00:00",
          "2024-03-18T12:00:00",
          "2024-03-20T20:00:00",
          "2024-03-25T20:00:00",
          "2024-04-02T20:00:00",
          "2024-04-05T12:00:00",
          "2024-04-10T12:00:00",
          "2024-04-17T12:00:00",
          "2024-04-19T12:00:00",
          "2024-04-22T04:00:00",
          "2024-04-26T16:00:00",
          "2024-04-29T12:00:00",
          "2024-05-07T08:00:00",
          "2024-05-17T04:00:00",
          "2024-05-20T12:00:00",
          "2024-05-21T16:00:00",
          "2024-05-29T00:00:00",
          "2024-05-30T20:00:00",
          "2024-05-31T08:00:00",
          "2024-06-05T12:00:00",
          "2024-06-07T12:00:00",
          "2024-06-12T12:00:00",
          "2024-06-17T20:00:00",
          "2024-06-24T12:00:00",
          "2024-06-27T12:00:00",
          "2024-06-28T12:00:00",
          "2024-07-02T08:00:00",
          "2024-07-09T08:00:00",
          "2024-07-16T12:00:00",
          "2024-07-18T20:00:00",
          "2024-07-23T08:00:00",
          "2024-07-25T16:00:00",
          "2024-07-31T12:00:00",
          "2024-08-02T12:00:00",
          "2024-08-06T12:00:00",
          "2024-08-08T12:00:00",
          "2024-08-09T12:00:00",
          "2024-08-15T12:00:00",
          "2024-08-22T16:00:00",
          "2024-08-27T12:00:00",
          "2024-08-28T04:00:00",
          "2024-09-02T20:00:00",
          "2024-09-04T16:00:00",
          "2024-09-11T08:00:00",
          "2024-09-12T16:00:00",
          "2024-09-18T16:00:00",
          "2024-09-23T08:00:00",
          "2024-09-25T20:00:00",
          "2024-09-27T08:00:00",
          "2024-09-30T16:00:00",
          "2024-10-08T08:00:00",
          "2024-10-11T08:00:00",
          "2024-10-18T16:00:00",
          "2024-10-24T12:00:00",
          "2024-10-28T12:00:00",
          "2024-10-29T08:00:00",
          "2024-11-01T20:00:00",
          "2024-11-05T00:00:00",
          "2024-11-06T00:00:00",
          "2024-11-07T16:00:00",
          "2024-11-15T12:00:00",
          "2024-11-18T08:00:00",
          "2024-11-25T04:00:00",
          "2024-11-27T00:00:00",
          "2024-11-27T08:00:00",
          "2024-12-02T00:00:00",
          "2024-12-04T16:00:00",
          "2024-12-09T04:00:00",
          "2024-12-13T12:00:00",
          "2024-12-20T16:00:00",
          "2024-12-26T16:00:00",
          "2025-01-06T04:00:00",
          "2025-01-14T00:00:00",
          "2025-01-14T08:00:00",
          "2025-01-16T20:00:00",
          "2025-01-20T04:00:00",
          "2025-01-23T04:00:00",
          "2025-01-28T00:00:00",
          "2025-01-30T20:00:00",
          "2025-02-04T00:00:00",
          "2025-02-04T08:00:00",
          "2025-02-06T08:00:00",
          "2025-02-11T16:00:00",
          "2025-02-18T00:00:00",
          "2025-02-24T12:00:00",
          "2025-02-27T00:00:00",
          "2025-03-03T12:00:00",
          "2025-03-10T08:00:00",
          "2025-03-13T00:00:00",
          "2025-03-19T08:00:00",
          "2025-03-27T16:00:00",
          "2025-03-28T16:00:00",
          "2025-03-31T20:00:00",
          "2025-04-02T16:00:00",
          "2025-04-04T20:00:00",
          "2025-04-10T00:00:00",
          "2025-04-15T04:00:00",
          "2025-04-22T16:00:00",
          "2025-04-25T00:00:00",
          "2025-04-28T08:00:00",
          "2025-04-30T04:00:00",
          "2025-05-02T12:00:00",
          "2025-05-05T04:00:00",
          "2025-05-06T08:00:00",
          "2025-05-13T20:00:00",
          "2025-05-16T04:00:00",
          "2025-05-19T08:00:00",
          "2025-05-22T12:00:00",
          "2025-05-27T08:00:00",
          "2025-06-03T16:00:00",
          "2025-06-06T12:00:00",
          "2025-06-09T12:00:00",
          "2025-06-10T04:00:00",
          "2025-06-13T12:00:00",
          "2025-06-17T16:00:00",
          "2025-06-23T00:00:00",
          "2025-07-02T12:00:00",
          "2025-07-03T12:00:00",
          "2025-07-07T04:00:00",
          "2025-07-15T08:00:00",
          "2025-07-18T04:00:00",
          "2025-07-25T00:00:00",
          "2025-08-01T12:00:00"
         ],
         "xaxis": "x",
         "y": [
          10215,
          10503,
          10500,
          10934,
          10901,
          11313,
          10959,
          13347,
          13255,
          16004,
          18253,
          16624,
          21330,
          21172,
          22841,
          22795,
          22810,
          22891,
          23287,
          23199,
          23336,
          23672,
          23566,
          24300,
          24543,
          24514,
          24615,
          26080,
          29977,
          30592,
          30750,
          31131,
          31281,
          31483,
          31430,
          31585,
          31356,
          31308,
          31114,
          31130,
          32170,
          35149,
          35839,
          36795,
          36435,
          36349,
          37810,
          38182,
          37944,
          37733,
          37401,
          38562,
          38583,
          38881,
          39056,
          39293,
          39476,
          40790,
          40881,
          40386,
          40517,
          40428,
          40841,
          40958,
          41053,
          41806,
          41742,
          43141,
          43215,
          44146,
          44743,
          44814,
          45277,
          46295,
          48231,
          48184,
          48271,
          49401,
          49344,
          49171,
          50215,
          49806,
          50203,
          51161,
          51797,
          51801,
          51702,
          52158,
          53411,
          53538,
          53370,
          53582,
          54306,
          54374,
          54271,
          55828,
          55921,
          55613,
          56024,
          56276,
          58225,
          58022,
          58751,
          58821,
          58753,
          58877,
          58954,
          59637,
          59622,
          60076,
          60562,
          61162,
          61963,
          61776,
          62397,
          62447,
          62669,
          62828,
          63259,
          63230,
          63239,
          63046,
          65300,
          65251,
          66178,
          66401,
          66812,
          66729,
          66905,
          66740,
          66553,
          66697,
          66721,
          66775,
          67751,
          68451,
          68513,
          68383,
          68446,
          68743,
          68696,
          68626,
          68565,
          68580,
          68551,
          69393,
          69419,
          69075,
          70390,
          70795,
          70994,
          70964,
          71362,
          71435,
          71275,
          71627,
          71139,
          71094,
          71396,
          72566,
          72915,
          74258,
          74086,
          74175,
          74220,
          73707,
          73629,
          73444,
          73162,
          73424,
          73255,
          73203,
          73143,
          73212,
          73189,
          72939,
          72829,
          72862,
          72982,
          72723,
          73870,
          73681,
          75436,
          76803,
          76767,
          76998,
          76863,
          76865,
          76771,
          76402,
          76099,
          76080,
          76783,
          76249,
          76299,
          78368,
          78764,
          79084,
          79007,
          78945,
          78933,
          79358,
          80472,
          80477,
          80839,
          80740,
          83936,
          84036,
          84052,
          84017,
          83968,
          83743,
          83842,
          84970,
          84873,
          85729,
          86347,
          86538,
          87084,
          88975,
          89070,
          89199,
          89006,
          89271,
          89153,
          89507,
          89839,
          92360,
          93939,
          94227,
          93892,
          94618,
          94369,
          94369,
          94001,
          94430,
          94158,
          93939,
          93687,
          94759,
          95716,
          95708,
          96990,
          97014,
          97267,
          96973,
          97651,
          97750,
          99217,
          98829,
          98811,
          98659,
          98540,
          102400,
          103283,
          103318,
          104008,
          104039,
          104496,
          104204,
          104014,
          104158,
          105493,
          105660,
          105400,
          105065,
          106283,
          110462,
          110595,
          111566,
          111747,
          113542,
          114032,
          114204,
          114730,
          114756,
          114670,
          114729,
          114812,
          115029,
          115642,
          115735,
          117540,
          117783,
          117939,
          117779,
          118074,
          118031,
          117901,
          117739,
          117542,
          118052,
          119798,
          119643,
          119796,
          120153,
          121051,
          120949,
          120938,
          121256,
          120998,
          122528,
          122106,
          123541,
          124270,
          124577,
          124428,
          125938,
          125786,
          125792,
          126045,
          125752,
          125826,
          125538,
          125653,
          125676,
          125699,
          126616,
          127160,
          127894,
          127732,
          128210,
          128370,
          128851,
          129096,
          130743,
          131039,
          131263,
          131414,
          131635,
          135190,
          135064,
          135313,
          135868,
          135877,
          135895,
          135805,
          136160,
          136132,
          136159,
          136668,
          136841,
          136823,
          138098,
          138004,
          138002,
          137849,
          137897,
          138241,
          138991,
          139043,
          139646,
          139498,
          139462,
          140252,
          140349,
          140376,
          140072,
          140968,
          140930,
          140961,
          142571,
          143244,
          143361,
          144048,
          145010,
          145152,
          145525,
          145819,
          147110,
          146843,
          146998,
          146995,
          146964,
          146845,
          147654,
          147779,
          147700,
          147486,
          147518,
          147557,
          147641,
          147659,
          148196,
          147891,
          148285,
          148222,
          148398,
          148482,
          148667,
          148683,
          148740,
          149091,
          149107,
          149064,
          149155,
          149391,
          149996,
          150027,
          150282,
          151271,
          151227,
          151167,
          151382,
          151323,
          152258,
          153287,
          153364,
          153339,
          153648,
          153247,
          153378,
          153667,
          153731,
          153983,
          154662,
          154948,
          155111,
          155103,
          154951,
          155804,
          156530,
          156704,
          156700,
          156729,
          157083,
          157200,
          157232,
          157313,
          157282,
          158147,
          159603,
          160122,
          160079,
          160185,
          160363,
          160657,
          160517,
          160992,
          161419,
          161348,
          161294,
          161619,
          163103,
          163497,
          164205,
          164740,
          164593,
          164656,
          164617,
          164586,
          165078,
          164397,
          166297,
          166210,
          167297,
          167165,
          167258,
          167208,
          167339,
          167776,
          168168,
          169134,
          169128,
          170337,
          171558,
          171594,
          171483,
          171500,
          171373,
          172122,
          172211,
          172650,
          172932,
          173004,
          173603,
          174609,
          174955,
          175057,
          174751,
          178192,
          178725,
          179479,
          180095,
          179980,
          179891,
          179869,
          181066,
          181015,
          184467,
          185701,
          185745,
          185937,
          185560,
          185502,
          185305,
          185193,
          186915,
          186669,
          186579,
          187233,
          187831,
          188151,
          188196,
          188288,
          188354,
          189408,
          189544,
          189181,
          192255,
          192244,
          192263,
          192776,
          192528,
          193069,
          196470
         ],
         "yaxis": "y"
        }
       ],
       "layout": {
        "legend": {
         "tracegroupgap": 0
        },
        "template": {
         "data": {
          "bar": [
           {
            "error_x": {
             "color": "#f2f5fa"
            },
            "error_y": {
             "color": "#f2f5fa"
            },
            "marker": {
             "line": {
              "color": "rgb(17,17,17)",
              "width": 0.5
             },
             "pattern": {
              "fillmode": "overlay",
              "size": 10,
              "solidity": 0.2
             }
            },
            "type": "bar"
           }
          ],
          "barpolar": [
           {
            "marker": {
             "line": {
              "color": "rgb(17,17,17)",
              "width": 0.5
             },
             "pattern": {
              "fillmode": "overlay",
              "size": 10,
              "solidity": 0.2
             }
            },
            "type": "barpolar"
           }
          ],
          "carpet": [
           {
            "aaxis": {
             "endlinecolor": "#A2B1C6",
             "gridcolor": "#506784",
             "linecolor": "#506784",
             "minorgridcolor": "#506784",
             "startlinecolor": "#A2B1C6"
            },
            "baxis": {
             "endlinecolor": "#A2B1C6",
             "gridcolor": "#506784",
             "linecolor": "#506784",
             "minorgridcolor": "#506784",
             "startlinecolor": "#A2B1C6"
            },
            "type": "carpet"
           }
          ],
          "choropleth": [
           {
            "colorbar": {
             "outlinewidth": 0,
             "ticks": ""
            },
            "type": "choropleth"
           }
          ],
          "contour": [
           {
            "colorbar": {
             "outlinewidth": 0,
             "ticks": ""
            },
            "colorscale": [
             [
              0,
              "#0d0887"
             ],
             [
              0.1111111111111111,
              "#46039f"
             ],
             [
              0.2222222222222222,
              "#7201a8"
             ],
             [
              0.3333333333333333,
              "#9c179e"
             ],
             [
              0.4444444444444444,
              "#bd3786"
             ],
             [
              0.5555555555555556,
              "#d8576b"
             ],
             [
              0.6666666666666666,
              "#ed7953"
             ],
             [
              0.7777777777777778,
              "#fb9f3a"
             ],
             [
              0.8888888888888888,
              "#fdca26"
             ],
             [
              1,
              "#f0f921"
             ]
            ],
            "type": "contour"
           }
          ],
          "contourcarpet": [
           {
            "colorbar": {
             "outlinewidth": 0,
             "ticks": ""
            },
            "type": "contourcarpet"
           }
          ],
          "heatmap": [
           {
            "colorbar": {
             "outlinewidth": 0,
             "ticks": ""
            },
            "colorscale": [
             [
              0,
              "#0d0887"
             ],
             [
              0.1111111111111111,
              "#46039f"
             ],
             [
              0.2222222222222222,
              "#7201a8"
             ],
             [
              0.3333333333333333,
              "#9c179e"
             ],
             [
              0.4444444444444444,
              "#bd3786"
             ],
             [
              0.5555555555555556,
              "#d8576b"
             ],
             [
              0.6666666666666666,
              "#ed7953"
             ],
             [
              0.7777777777777778,
              "#fb9f3a"
             ],
             [
              0.8888888888888888,
              "#fdca26"
             ],
             [
              1,
              "#f0f921"
             ]
            ],
            "type": "heatmap"
           }
          ],
          "histogram": [
           {
            "marker": {
             "pattern": {
              "fillmode": "overlay",
              "size": 10,
              "solidity": 0.2
             }
            },
            "type": "histogram"
           }
          ],
          "histogram2d": [
           {
            "colorbar": {
             "outlinewidth": 0,
             "ticks": ""
            },
            "colorscale": [
             [
              0,
              "#0d0887"
             ],
             [
              0.1111111111111111,
              "#46039f"
             ],
             [
              0.2222222222222222,
              "#7201a8"
             ],
             [
              0.3333333333333333,
              "#9c179e"
             ],
             [
              0.4444444444444444,
              "#bd3786"
             ],
             [
              0.5555555555555556,
              "#d8576b"
             ],
             [
              0.6666666666666666,
              "#ed7953"
             ],
             [
              0.7777777777777778,
              "#fb9f3a"
             ],
             [
              0.8888888888888888,
              "#fdca26"
             ],
             [
              1,
              "#f0f921"
             ]
            ],
            "type": "histogram2d"
           }
          ],
          "histogram2dcontour": [
           {
            "colorbar": {
             "outlinewidth": 0,
             "ticks": ""
            },
            "colorscale": [
             [
              0,
              "#0d0887"
             ],
             [
              0.1111111111111111,
              "#46039f"
             ],
             [
              0.2222222222222222,
              "#7201a8"
             ],
             [
              0.3333333333333333,
              "#9c179e"
             ],
             [
              0.4444444444444444,
              "#bd3786"
             ],
             [
              0.5555555555555556,
              "#d8576b"
             ],
             [
              0.6666666666666666,
              "#ed7953"
             ],
             [
              0.7777777777777778,
              "#fb9f3a"
             ],
             [
              0.8888888888888888,
              "#fdca26"
             ],
             [
              1,
              "#f0f921"
             ]
            ],
            "type": "histogram2dcontour"
           }
          ],
          "mesh3d": [
           {
            "colorbar": {
             "outlinewidth": 0,
             "ticks": ""
            },
            "type": "mesh3d"
           }
          ],
          "parcoords": [
           {
            "line": {
             "colorbar": {
              "outlinewidth": 0,
              "ticks": ""
             }
            },
            "type": "parcoords"
           }
          ],
          "pie": [
           {
            "automargin": true,
            "type": "pie"
           }
          ],
          "scatter": [
           {
            "marker": {
             "line": {
              "color": "#283442"
             }
            },
            "type": "scatter"
           }
          ],
          "scatter3d": [
           {
            "line": {
             "colorbar": {
              "outlinewidth": 0,
              "ticks": ""
             }
            },
            "marker": {
             "colorbar": {
              "outlinewidth": 0,
              "ticks": ""
             }
            },
            "type": "scatter3d"
           }
          ],
          "scattercarpet": [
           {
            "marker": {
             "colorbar": {
              "outlinewidth": 0,
              "ticks": ""
             }
            },
            "type": "scattercarpet"
           }
          ],
          "scattergeo": [
           {
            "marker": {
             "colorbar": {
              "outlinewidth": 0,
              "ticks": ""
             }
            },
            "type": "scattergeo"
           }
          ],
          "scattergl": [
           {
            "marker": {
             "line": {
              "color": "#283442"
             }
            },
            "type": "scattergl"
           }
          ],
          "scattermap": [
           {
            "marker": {
             "colorbar": {
              "outlinewidth": 0,
              "ticks": ""
             }
            },
            "type": "scattermap"
           }
          ],
          "scattermapbox": [
           {
            "marker": {
             "colorbar": {
              "outlinewidth": 0,
              "ticks": ""
             }
            },
            "type": "scattermapbox"
           }
          ],
          "scatterpolar": [
           {
            "marker": {
             "colorbar": {
              "outlinewidth": 0,
              "ticks": ""
             }
            },
            "type": "scatterpolar"
           }
          ],
          "scatterpolargl": [
           {
            "marker": {
             "colorbar": {
              "outlinewidth": 0,
              "ticks": ""
             }
            },
            "type": "scatterpolargl"
           }
          ],
          "scatterternary": [
           {
            "marker": {
             "colorbar": {
              "outlinewidth": 0,
              "ticks": ""
             }
            },
            "type": "scatterternary"
           }
          ],
          "surface": [
           {
            "colorbar": {
             "outlinewidth": 0,
             "ticks": ""
            },
            "colorscale": [
             [
              0,
              "#0d0887"
             ],
             [
              0.1111111111111111,
              "#46039f"
             ],
             [
              0.2222222222222222,
              "#7201a8"
             ],
             [
              0.3333333333333333,
              "#9c179e"
             ],
             [
              0.4444444444444444,
              "#bd3786"
             ],
             [
              0.5555555555555556,
              "#d8576b"
             ],
             [
              0.6666666666666666,
              "#ed7953"
             ],
             [
              0.7777777777777778,
              "#fb9f3a"
             ],
             [
              0.8888888888888888,
              "#fdca26"
             ],
             [
              1,
              "#f0f921"
             ]
            ],
            "type": "surface"
           }
          ],
          "table": [
           {
            "cells": {
             "fill": {
              "color": "#506784"
             },
             "line": {
              "color": "rgb(17,17,17)"
             }
            },
            "header": {
             "fill": {
              "color": "#2a3f5f"
             },
             "line": {
              "color": "rgb(17,17,17)"
             }
            },
            "type": "table"
           }
          ]
         },
         "layout": {
          "annotationdefaults": {
           "arrowcolor": "#f2f5fa",
           "arrowhead": 0,
           "arrowwidth": 1
          },
          "autotypenumbers": "strict",
          "coloraxis": {
           "colorbar": {
            "outlinewidth": 0,
            "ticks": ""
           }
          },
          "colorscale": {
           "diverging": [
            [
             0,
             "#8e0152"
            ],
            [
             0.1,
             "#c51b7d"
            ],
            [
             0.2,
             "#de77ae"
            ],
            [
             0.3,
             "#f1b6da"
            ],
            [
             0.4,
             "#fde0ef"
            ],
            [
             0.5,
             "#f7f7f7"
            ],
            [
             0.6,
             "#e6f5d0"
            ],
            [
             0.7,
             "#b8e186"
            ],
            [
             0.8,
             "#7fbc41"
            ],
            [
             0.9,
             "#4d9221"
            ],
            [
             1,
             "#276419"
            ]
           ],
           "sequential": [
            [
             0,
             "#0d0887"
            ],
            [
             0.1111111111111111,
             "#46039f"
            ],
            [
             0.2222222222222222,
             "#7201a8"
            ],
            [
             0.3333333333333333,
             "#9c179e"
            ],
            [
             0.4444444444444444,
             "#bd3786"
            ],
            [
             0.5555555555555556,
             "#d8576b"
            ],
            [
             0.6666666666666666,
             "#ed7953"
            ],
            [
             0.7777777777777778,
             "#fb9f3a"
            ],
            [
             0.8888888888888888,
             "#fdca26"
            ],
            [
             1,
             "#f0f921"
            ]
           ],
           "sequentialminus": [
            [
             0,
             "#0d0887"
            ],
            [
             0.1111111111111111,
             "#46039f"
            ],
            [
             0.2222222222222222,
             "#7201a8"
            ],
            [
             0.3333333333333333,
             "#9c179e"
            ],
            [
             0.4444444444444444,
             "#bd3786"
            ],
            [
             0.5555555555555556,
             "#d8576b"
            ],
            [
             0.6666666666666666,
             "#ed7953"
            ],
            [
             0.7777777777777778,
             "#fb9f3a"
            ],
            [
             0.8888888888888888,
             "#fdca26"
            ],
            [
             1,
             "#f0f921"
            ]
           ]
          },
          "colorway": [
           "#636efa",
           "#EF553B",
           "#00cc96",
           "#ab63fa",
           "#FFA15A",
           "#19d3f3",
           "#FF6692",
           "#B6E880",
           "#FF97FF",
           "#FECB52"
          ],
          "font": {
           "color": "#f2f5fa"
          },
          "geo": {
           "bgcolor": "rgb(17,17,17)",
           "lakecolor": "rgb(17,17,17)",
           "landcolor": "rgb(17,17,17)",
           "showlakes": true,
           "showland": true,
           "subunitcolor": "#506784"
          },
          "hoverlabel": {
           "align": "left"
          },
          "hovermode": "closest",
          "mapbox": {
           "style": "dark"
          },
          "paper_bgcolor": "rgb(17,17,17)",
          "plot_bgcolor": "rgb(17,17,17)",
          "polar": {
           "angularaxis": {
            "gridcolor": "#506784",
            "linecolor": "#506784",
            "ticks": ""
           },
           "bgcolor": "rgb(17,17,17)",
           "radialaxis": {
            "gridcolor": "#506784",
            "linecolor": "#506784",
            "ticks": ""
           }
          },
          "scene": {
           "xaxis": {
            "backgroundcolor": "rgb(17,17,17)",
            "gridcolor": "#506784",
            "gridwidth": 2,
            "linecolor": "#506784",
            "showbackground": true,
            "ticks": "",
            "zerolinecolor": "#C8D4E3"
           },
           "yaxis": {
            "backgroundcolor": "rgb(17,17,17)",
            "gridcolor": "#506784",
            "gridwidth": 2,
            "linecolor": "#506784",
            "showbackground": true,
            "ticks": "",
            "zerolinecolor": "#C8D4E3"
           },
           "zaxis": {
            "backgroundcolor": "rgb(17,17,17)",
            "gridcolor": "#506784",
            "gridwidth": 2,
            "linecolor": "#506784",
            "showbackground": true,
            "ticks": "",
            "zerolinecolor": "#C8D4E3"
           }
          },
          "shapedefaults": {
           "line": {
            "color": "#f2f5fa"
           }
          },
          "sliderdefaults": {
           "bgcolor": "#C8D4E3",
           "bordercolor": "rgb(17,17,17)",
           "borderwidth": 1,
           "tickwidth": 0
          },
          "ternary": {
           "aaxis": {
            "gridcolor": "#506784",
            "linecolor": "#506784",
            "ticks": ""
           },
           "baxis": {
            "gridcolor": "#506784",
            "linecolor": "#506784",
            "ticks": ""
           },
           "bgcolor": "rgb(17,17,17)",
           "caxis": {
            "gridcolor": "#506784",
            "linecolor": "#506784",
            "ticks": ""
           }
          },
          "title": {
           "x": 0.05
          },
          "updatemenudefaults": {
           "bgcolor": "#506784",
           "borderwidth": 0
          },
          "xaxis": {
           "automargin": true,
           "gridcolor": "#283442",
           "linecolor": "#506784",
           "ticks": "",
           "title": {
            "standoff": 15
           },
           "zerolinecolor": "#283442",
           "zerolinewidth": 2
          },
          "yaxis": {
           "automargin": true,
           "gridcolor": "#283442",
           "linecolor": "#506784",
           "ticks": "",
           "title": {
            "standoff": 15
           },
           "zerolinecolor": "#283442",
           "zerolinewidth": 2
          }
         }
        },
        "title": {
         "text": "Balance Graph"
        },
        "xaxis": {
         "anchor": "y",
         "domain": [
          0,
          1
         ],
         "title": {
          "text": "close_time"
         }
        },
        "yaxis": {
         "anchor": "x",
         "domain": [
          0,
          1
         ],
         "title": {
          "text": "balance"
         }
        }
       }
      }
     },
     "metadata": {},
     "output_type": "display_data"
    }
   ],
   "source": [
    "mm = bt.plot_balance()\n",
    "display(mm)"
   ]
  },
  {
   "cell_type": "code",
   "execution_count": 13,
   "id": "4528a7b5",
   "metadata": {},
   "outputs": [
    {
     "name": "stdout",
     "output_type": "stream",
     "text": [
      "biggest_profit: 4713.0\n",
      "daily_drawdown: -1622.0\n",
      "max_drawown: -1629.0\n",
      "avg_win: 613.83\n",
      "avg_loss: -158.46\n",
      "count_profit_trades: 352\n",
      "count_loss_trades: 164\n",
      "Win Rate1: 68.22%\n",
      "rrr: 3.87\n"
     ]
    },
    {
     "data": {
      "text/html": [
       "<div>\n",
       "<style scoped>\n",
       "    .dataframe tbody tr th:only-of-type {\n",
       "        vertical-align: middle;\n",
       "    }\n",
       "\n",
       "    .dataframe tbody tr th {\n",
       "        vertical-align: top;\n",
       "    }\n",
       "\n",
       "    .dataframe thead th {\n",
       "        text-align: right;\n",
       "    }\n",
       "</style>\n",
       "<table border=\"1\" class=\"dataframe\">\n",
       "  <thead>\n",
       "    <tr style=\"text-align: right;\">\n",
       "      <th></th>\n",
       "      <th>order_type</th>\n",
       "      <th>profit</th>\n",
       "    </tr>\n",
       "  </thead>\n",
       "  <tbody>\n",
       "    <tr>\n",
       "      <th>0</th>\n",
       "      <td>buy</td>\n",
       "      <td>104760.0</td>\n",
       "    </tr>\n",
       "    <tr>\n",
       "      <th>1</th>\n",
       "      <td>sell</td>\n",
       "      <td>85322.0</td>\n",
       "    </tr>\n",
       "  </tbody>\n",
       "</table>\n",
       "</div>"
      ],
      "text/plain": [
       "  order_type    profit\n",
       "0        buy  104760.0\n",
       "1       sell   85322.0"
      ]
     },
     "metadata": {},
     "output_type": "display_data"
    },
    {
     "data": {
      "application/vnd.plotly.v1+json": {
       "config": {
        "plotlyServerURL": "https://plot.ly"
       },
       "data": [
        {
         "hovertemplate": "order_type=%{x}<br>profit=%{y}<extra></extra>",
         "legendgroup": "",
         "marker": {
          "color": "#636efa",
          "pattern": {
           "shape": ""
          }
         },
         "name": "",
         "orientation": "v",
         "showlegend": false,
         "textposition": "auto",
         "type": "bar",
         "x": [
          "buy",
          "sell"
         ],
         "xaxis": "x",
         "y": {
          "bdata": "AAAAAICT+UAAAAAAoNT0QA==",
          "dtype": "f8"
         },
         "yaxis": "y"
        }
       ],
       "layout": {
        "barmode": "relative",
        "legend": {
         "tracegroupgap": 0
        },
        "margin": {
         "t": 60
        },
        "template": {
         "data": {
          "bar": [
           {
            "error_x": {
             "color": "#f2f5fa"
            },
            "error_y": {
             "color": "#f2f5fa"
            },
            "marker": {
             "line": {
              "color": "rgb(17,17,17)",
              "width": 0.5
             },
             "pattern": {
              "fillmode": "overlay",
              "size": 10,
              "solidity": 0.2
             }
            },
            "type": "bar"
           }
          ],
          "barpolar": [
           {
            "marker": {
             "line": {
              "color": "rgb(17,17,17)",
              "width": 0.5
             },
             "pattern": {
              "fillmode": "overlay",
              "size": 10,
              "solidity": 0.2
             }
            },
            "type": "barpolar"
           }
          ],
          "carpet": [
           {
            "aaxis": {
             "endlinecolor": "#A2B1C6",
             "gridcolor": "#506784",
             "linecolor": "#506784",
             "minorgridcolor": "#506784",
             "startlinecolor": "#A2B1C6"
            },
            "baxis": {
             "endlinecolor": "#A2B1C6",
             "gridcolor": "#506784",
             "linecolor": "#506784",
             "minorgridcolor": "#506784",
             "startlinecolor": "#A2B1C6"
            },
            "type": "carpet"
           }
          ],
          "choropleth": [
           {
            "colorbar": {
             "outlinewidth": 0,
             "ticks": ""
            },
            "type": "choropleth"
           }
          ],
          "contour": [
           {
            "colorbar": {
             "outlinewidth": 0,
             "ticks": ""
            },
            "colorscale": [
             [
              0,
              "#0d0887"
             ],
             [
              0.1111111111111111,
              "#46039f"
             ],
             [
              0.2222222222222222,
              "#7201a8"
             ],
             [
              0.3333333333333333,
              "#9c179e"
             ],
             [
              0.4444444444444444,
              "#bd3786"
             ],
             [
              0.5555555555555556,
              "#d8576b"
             ],
             [
              0.6666666666666666,
              "#ed7953"
             ],
             [
              0.7777777777777778,
              "#fb9f3a"
             ],
             [
              0.8888888888888888,
              "#fdca26"
             ],
             [
              1,
              "#f0f921"
             ]
            ],
            "type": "contour"
           }
          ],
          "contourcarpet": [
           {
            "colorbar": {
             "outlinewidth": 0,
             "ticks": ""
            },
            "type": "contourcarpet"
           }
          ],
          "heatmap": [
           {
            "colorbar": {
             "outlinewidth": 0,
             "ticks": ""
            },
            "colorscale": [
             [
              0,
              "#0d0887"
             ],
             [
              0.1111111111111111,
              "#46039f"
             ],
             [
              0.2222222222222222,
              "#7201a8"
             ],
             [
              0.3333333333333333,
              "#9c179e"
             ],
             [
              0.4444444444444444,
              "#bd3786"
             ],
             [
              0.5555555555555556,
              "#d8576b"
             ],
             [
              0.6666666666666666,
              "#ed7953"
             ],
             [
              0.7777777777777778,
              "#fb9f3a"
             ],
             [
              0.8888888888888888,
              "#fdca26"
             ],
             [
              1,
              "#f0f921"
             ]
            ],
            "type": "heatmap"
           }
          ],
          "histogram": [
           {
            "marker": {
             "pattern": {
              "fillmode": "overlay",
              "size": 10,
              "solidity": 0.2
             }
            },
            "type": "histogram"
           }
          ],
          "histogram2d": [
           {
            "colorbar": {
             "outlinewidth": 0,
             "ticks": ""
            },
            "colorscale": [
             [
              0,
              "#0d0887"
             ],
             [
              0.1111111111111111,
              "#46039f"
             ],
             [
              0.2222222222222222,
              "#7201a8"
             ],
             [
              0.3333333333333333,
              "#9c179e"
             ],
             [
              0.4444444444444444,
              "#bd3786"
             ],
             [
              0.5555555555555556,
              "#d8576b"
             ],
             [
              0.6666666666666666,
              "#ed7953"
             ],
             [
              0.7777777777777778,
              "#fb9f3a"
             ],
             [
              0.8888888888888888,
              "#fdca26"
             ],
             [
              1,
              "#f0f921"
             ]
            ],
            "type": "histogram2d"
           }
          ],
          "histogram2dcontour": [
           {
            "colorbar": {
             "outlinewidth": 0,
             "ticks": ""
            },
            "colorscale": [
             [
              0,
              "#0d0887"
             ],
             [
              0.1111111111111111,
              "#46039f"
             ],
             [
              0.2222222222222222,
              "#7201a8"
             ],
             [
              0.3333333333333333,
              "#9c179e"
             ],
             [
              0.4444444444444444,
              "#bd3786"
             ],
             [
              0.5555555555555556,
              "#d8576b"
             ],
             [
              0.6666666666666666,
              "#ed7953"
             ],
             [
              0.7777777777777778,
              "#fb9f3a"
             ],
             [
              0.8888888888888888,
              "#fdca26"
             ],
             [
              1,
              "#f0f921"
             ]
            ],
            "type": "histogram2dcontour"
           }
          ],
          "mesh3d": [
           {
            "colorbar": {
             "outlinewidth": 0,
             "ticks": ""
            },
            "type": "mesh3d"
           }
          ],
          "parcoords": [
           {
            "line": {
             "colorbar": {
              "outlinewidth": 0,
              "ticks": ""
             }
            },
            "type": "parcoords"
           }
          ],
          "pie": [
           {
            "automargin": true,
            "type": "pie"
           }
          ],
          "scatter": [
           {
            "marker": {
             "line": {
              "color": "#283442"
             }
            },
            "type": "scatter"
           }
          ],
          "scatter3d": [
           {
            "line": {
             "colorbar": {
              "outlinewidth": 0,
              "ticks": ""
             }
            },
            "marker": {
             "colorbar": {
              "outlinewidth": 0,
              "ticks": ""
             }
            },
            "type": "scatter3d"
           }
          ],
          "scattercarpet": [
           {
            "marker": {
             "colorbar": {
              "outlinewidth": 0,
              "ticks": ""
             }
            },
            "type": "scattercarpet"
           }
          ],
          "scattergeo": [
           {
            "marker": {
             "colorbar": {
              "outlinewidth": 0,
              "ticks": ""
             }
            },
            "type": "scattergeo"
           }
          ],
          "scattergl": [
           {
            "marker": {
             "line": {
              "color": "#283442"
             }
            },
            "type": "scattergl"
           }
          ],
          "scattermap": [
           {
            "marker": {
             "colorbar": {
              "outlinewidth": 0,
              "ticks": ""
             }
            },
            "type": "scattermap"
           }
          ],
          "scattermapbox": [
           {
            "marker": {
             "colorbar": {
              "outlinewidth": 0,
              "ticks": ""
             }
            },
            "type": "scattermapbox"
           }
          ],
          "scatterpolar": [
           {
            "marker": {
             "colorbar": {
              "outlinewidth": 0,
              "ticks": ""
             }
            },
            "type": "scatterpolar"
           }
          ],
          "scatterpolargl": [
           {
            "marker": {
             "colorbar": {
              "outlinewidth": 0,
              "ticks": ""
             }
            },
            "type": "scatterpolargl"
           }
          ],
          "scatterternary": [
           {
            "marker": {
             "colorbar": {
              "outlinewidth": 0,
              "ticks": ""
             }
            },
            "type": "scatterternary"
           }
          ],
          "surface": [
           {
            "colorbar": {
             "outlinewidth": 0,
             "ticks": ""
            },
            "colorscale": [
             [
              0,
              "#0d0887"
             ],
             [
              0.1111111111111111,
              "#46039f"
             ],
             [
              0.2222222222222222,
              "#7201a8"
             ],
             [
              0.3333333333333333,
              "#9c179e"
             ],
             [
              0.4444444444444444,
              "#bd3786"
             ],
             [
              0.5555555555555556,
              "#d8576b"
             ],
             [
              0.6666666666666666,
              "#ed7953"
             ],
             [
              0.7777777777777778,
              "#fb9f3a"
             ],
             [
              0.8888888888888888,
              "#fdca26"
             ],
             [
              1,
              "#f0f921"
             ]
            ],
            "type": "surface"
           }
          ],
          "table": [
           {
            "cells": {
             "fill": {
              "color": "#506784"
             },
             "line": {
              "color": "rgb(17,17,17)"
             }
            },
            "header": {
             "fill": {
              "color": "#2a3f5f"
             },
             "line": {
              "color": "rgb(17,17,17)"
             }
            },
            "type": "table"
           }
          ]
         },
         "layout": {
          "annotationdefaults": {
           "arrowcolor": "#f2f5fa",
           "arrowhead": 0,
           "arrowwidth": 1
          },
          "autotypenumbers": "strict",
          "coloraxis": {
           "colorbar": {
            "outlinewidth": 0,
            "ticks": ""
           }
          },
          "colorscale": {
           "diverging": [
            [
             0,
             "#8e0152"
            ],
            [
             0.1,
             "#c51b7d"
            ],
            [
             0.2,
             "#de77ae"
            ],
            [
             0.3,
             "#f1b6da"
            ],
            [
             0.4,
             "#fde0ef"
            ],
            [
             0.5,
             "#f7f7f7"
            ],
            [
             0.6,
             "#e6f5d0"
            ],
            [
             0.7,
             "#b8e186"
            ],
            [
             0.8,
             "#7fbc41"
            ],
            [
             0.9,
             "#4d9221"
            ],
            [
             1,
             "#276419"
            ]
           ],
           "sequential": [
            [
             0,
             "#0d0887"
            ],
            [
             0.1111111111111111,
             "#46039f"
            ],
            [
             0.2222222222222222,
             "#7201a8"
            ],
            [
             0.3333333333333333,
             "#9c179e"
            ],
            [
             0.4444444444444444,
             "#bd3786"
            ],
            [
             0.5555555555555556,
             "#d8576b"
            ],
            [
             0.6666666666666666,
             "#ed7953"
            ],
            [
             0.7777777777777778,
             "#fb9f3a"
            ],
            [
             0.8888888888888888,
             "#fdca26"
            ],
            [
             1,
             "#f0f921"
            ]
           ],
           "sequentialminus": [
            [
             0,
             "#0d0887"
            ],
            [
             0.1111111111111111,
             "#46039f"
            ],
            [
             0.2222222222222222,
             "#7201a8"
            ],
            [
             0.3333333333333333,
             "#9c179e"
            ],
            [
             0.4444444444444444,
             "#bd3786"
            ],
            [
             0.5555555555555556,
             "#d8576b"
            ],
            [
             0.6666666666666666,
             "#ed7953"
            ],
            [
             0.7777777777777778,
             "#fb9f3a"
            ],
            [
             0.8888888888888888,
             "#fdca26"
            ],
            [
             1,
             "#f0f921"
            ]
           ]
          },
          "colorway": [
           "#636efa",
           "#EF553B",
           "#00cc96",
           "#ab63fa",
           "#FFA15A",
           "#19d3f3",
           "#FF6692",
           "#B6E880",
           "#FF97FF",
           "#FECB52"
          ],
          "font": {
           "color": "#f2f5fa"
          },
          "geo": {
           "bgcolor": "rgb(17,17,17)",
           "lakecolor": "rgb(17,17,17)",
           "landcolor": "rgb(17,17,17)",
           "showlakes": true,
           "showland": true,
           "subunitcolor": "#506784"
          },
          "hoverlabel": {
           "align": "left"
          },
          "hovermode": "closest",
          "mapbox": {
           "style": "dark"
          },
          "paper_bgcolor": "rgb(17,17,17)",
          "plot_bgcolor": "rgb(17,17,17)",
          "polar": {
           "angularaxis": {
            "gridcolor": "#506784",
            "linecolor": "#506784",
            "ticks": ""
           },
           "bgcolor": "rgb(17,17,17)",
           "radialaxis": {
            "gridcolor": "#506784",
            "linecolor": "#506784",
            "ticks": ""
           }
          },
          "scene": {
           "xaxis": {
            "backgroundcolor": "rgb(17,17,17)",
            "gridcolor": "#506784",
            "gridwidth": 2,
            "linecolor": "#506784",
            "showbackground": true,
            "ticks": "",
            "zerolinecolor": "#C8D4E3"
           },
           "yaxis": {
            "backgroundcolor": "rgb(17,17,17)",
            "gridcolor": "#506784",
            "gridwidth": 2,
            "linecolor": "#506784",
            "showbackground": true,
            "ticks": "",
            "zerolinecolor": "#C8D4E3"
           },
           "zaxis": {
            "backgroundcolor": "rgb(17,17,17)",
            "gridcolor": "#506784",
            "gridwidth": 2,
            "linecolor": "#506784",
            "showbackground": true,
            "ticks": "",
            "zerolinecolor": "#C8D4E3"
           }
          },
          "shapedefaults": {
           "line": {
            "color": "#f2f5fa"
           }
          },
          "sliderdefaults": {
           "bgcolor": "#C8D4E3",
           "bordercolor": "rgb(17,17,17)",
           "borderwidth": 1,
           "tickwidth": 0
          },
          "ternary": {
           "aaxis": {
            "gridcolor": "#506784",
            "linecolor": "#506784",
            "ticks": ""
           },
           "baxis": {
            "gridcolor": "#506784",
            "linecolor": "#506784",
            "ticks": ""
           },
           "bgcolor": "rgb(17,17,17)",
           "caxis": {
            "gridcolor": "#506784",
            "linecolor": "#506784",
            "ticks": ""
           }
          },
          "title": {
           "x": 0.05
          },
          "updatemenudefaults": {
           "bgcolor": "#506784",
           "borderwidth": 0
          },
          "xaxis": {
           "automargin": true,
           "gridcolor": "#283442",
           "linecolor": "#506784",
           "ticks": "",
           "title": {
            "standoff": 15
           },
           "zerolinecolor": "#283442",
           "zerolinewidth": 2
          },
          "yaxis": {
           "automargin": true,
           "gridcolor": "#283442",
           "linecolor": "#506784",
           "ticks": "",
           "title": {
            "standoff": 15
           },
           "zerolinecolor": "#283442",
           "zerolinewidth": 2
          }
         }
        },
        "xaxis": {
         "anchor": "y",
         "domain": [
          0,
          1
         ],
         "title": {
          "text": "order_type"
         }
        },
        "yaxis": {
         "anchor": "x",
         "domain": [
          0,
          1
         ],
         "title": {
          "text": "profit"
         }
        }
       }
      }
     },
     "metadata": {},
     "output_type": "display_data"
    },
    {
     "data": {
      "application/vnd.plotly.v1+json": {
       "config": {
        "plotlyServerURL": "https://plot.ly"
       },
       "data": [
        {
         "hovertemplate": "dayofweek=%{x}<br>profit=%{y}<extra></extra>",
         "legendgroup": "",
         "marker": {
          "color": "#636efa",
          "pattern": {
           "shape": ""
          }
         },
         "name": "",
         "orientation": "v",
         "showlegend": false,
         "textposition": "auto",
         "type": "bar",
         "x": {
          "bdata": "AAAAAAEAAAACAAAAAwAAAAQAAAA=",
          "dtype": "i4"
         },
         "xaxis": "x",
         "y": {
          "bdata": "AAAAAMA83UAAAAAAIHHmQAAAAACAyN5AAAAAAAC740AAAAAAgKHkQA==",
          "dtype": "f8"
         },
         "yaxis": "y"
        }
       ],
       "layout": {
        "barmode": "relative",
        "legend": {
         "tracegroupgap": 0
        },
        "margin": {
         "t": 60
        },
        "template": {
         "data": {
          "bar": [
           {
            "error_x": {
             "color": "#f2f5fa"
            },
            "error_y": {
             "color": "#f2f5fa"
            },
            "marker": {
             "line": {
              "color": "rgb(17,17,17)",
              "width": 0.5
             },
             "pattern": {
              "fillmode": "overlay",
              "size": 10,
              "solidity": 0.2
             }
            },
            "type": "bar"
           }
          ],
          "barpolar": [
           {
            "marker": {
             "line": {
              "color": "rgb(17,17,17)",
              "width": 0.5
             },
             "pattern": {
              "fillmode": "overlay",
              "size": 10,
              "solidity": 0.2
             }
            },
            "type": "barpolar"
           }
          ],
          "carpet": [
           {
            "aaxis": {
             "endlinecolor": "#A2B1C6",
             "gridcolor": "#506784",
             "linecolor": "#506784",
             "minorgridcolor": "#506784",
             "startlinecolor": "#A2B1C6"
            },
            "baxis": {
             "endlinecolor": "#A2B1C6",
             "gridcolor": "#506784",
             "linecolor": "#506784",
             "minorgridcolor": "#506784",
             "startlinecolor": "#A2B1C6"
            },
            "type": "carpet"
           }
          ],
          "choropleth": [
           {
            "colorbar": {
             "outlinewidth": 0,
             "ticks": ""
            },
            "type": "choropleth"
           }
          ],
          "contour": [
           {
            "colorbar": {
             "outlinewidth": 0,
             "ticks": ""
            },
            "colorscale": [
             [
              0,
              "#0d0887"
             ],
             [
              0.1111111111111111,
              "#46039f"
             ],
             [
              0.2222222222222222,
              "#7201a8"
             ],
             [
              0.3333333333333333,
              "#9c179e"
             ],
             [
              0.4444444444444444,
              "#bd3786"
             ],
             [
              0.5555555555555556,
              "#d8576b"
             ],
             [
              0.6666666666666666,
              "#ed7953"
             ],
             [
              0.7777777777777778,
              "#fb9f3a"
             ],
             [
              0.8888888888888888,
              "#fdca26"
             ],
             [
              1,
              "#f0f921"
             ]
            ],
            "type": "contour"
           }
          ],
          "contourcarpet": [
           {
            "colorbar": {
             "outlinewidth": 0,
             "ticks": ""
            },
            "type": "contourcarpet"
           }
          ],
          "heatmap": [
           {
            "colorbar": {
             "outlinewidth": 0,
             "ticks": ""
            },
            "colorscale": [
             [
              0,
              "#0d0887"
             ],
             [
              0.1111111111111111,
              "#46039f"
             ],
             [
              0.2222222222222222,
              "#7201a8"
             ],
             [
              0.3333333333333333,
              "#9c179e"
             ],
             [
              0.4444444444444444,
              "#bd3786"
             ],
             [
              0.5555555555555556,
              "#d8576b"
             ],
             [
              0.6666666666666666,
              "#ed7953"
             ],
             [
              0.7777777777777778,
              "#fb9f3a"
             ],
             [
              0.8888888888888888,
              "#fdca26"
             ],
             [
              1,
              "#f0f921"
             ]
            ],
            "type": "heatmap"
           }
          ],
          "histogram": [
           {
            "marker": {
             "pattern": {
              "fillmode": "overlay",
              "size": 10,
              "solidity": 0.2
             }
            },
            "type": "histogram"
           }
          ],
          "histogram2d": [
           {
            "colorbar": {
             "outlinewidth": 0,
             "ticks": ""
            },
            "colorscale": [
             [
              0,
              "#0d0887"
             ],
             [
              0.1111111111111111,
              "#46039f"
             ],
             [
              0.2222222222222222,
              "#7201a8"
             ],
             [
              0.3333333333333333,
              "#9c179e"
             ],
             [
              0.4444444444444444,
              "#bd3786"
             ],
             [
              0.5555555555555556,
              "#d8576b"
             ],
             [
              0.6666666666666666,
              "#ed7953"
             ],
             [
              0.7777777777777778,
              "#fb9f3a"
             ],
             [
              0.8888888888888888,
              "#fdca26"
             ],
             [
              1,
              "#f0f921"
             ]
            ],
            "type": "histogram2d"
           }
          ],
          "histogram2dcontour": [
           {
            "colorbar": {
             "outlinewidth": 0,
             "ticks": ""
            },
            "colorscale": [
             [
              0,
              "#0d0887"
             ],
             [
              0.1111111111111111,
              "#46039f"
             ],
             [
              0.2222222222222222,
              "#7201a8"
             ],
             [
              0.3333333333333333,
              "#9c179e"
             ],
             [
              0.4444444444444444,
              "#bd3786"
             ],
             [
              0.5555555555555556,
              "#d8576b"
             ],
             [
              0.6666666666666666,
              "#ed7953"
             ],
             [
              0.7777777777777778,
              "#fb9f3a"
             ],
             [
              0.8888888888888888,
              "#fdca26"
             ],
             [
              1,
              "#f0f921"
             ]
            ],
            "type": "histogram2dcontour"
           }
          ],
          "mesh3d": [
           {
            "colorbar": {
             "outlinewidth": 0,
             "ticks": ""
            },
            "type": "mesh3d"
           }
          ],
          "parcoords": [
           {
            "line": {
             "colorbar": {
              "outlinewidth": 0,
              "ticks": ""
             }
            },
            "type": "parcoords"
           }
          ],
          "pie": [
           {
            "automargin": true,
            "type": "pie"
           }
          ],
          "scatter": [
           {
            "marker": {
             "line": {
              "color": "#283442"
             }
            },
            "type": "scatter"
           }
          ],
          "scatter3d": [
           {
            "line": {
             "colorbar": {
              "outlinewidth": 0,
              "ticks": ""
             }
            },
            "marker": {
             "colorbar": {
              "outlinewidth": 0,
              "ticks": ""
             }
            },
            "type": "scatter3d"
           }
          ],
          "scattercarpet": [
           {
            "marker": {
             "colorbar": {
              "outlinewidth": 0,
              "ticks": ""
             }
            },
            "type": "scattercarpet"
           }
          ],
          "scattergeo": [
           {
            "marker": {
             "colorbar": {
              "outlinewidth": 0,
              "ticks": ""
             }
            },
            "type": "scattergeo"
           }
          ],
          "scattergl": [
           {
            "marker": {
             "line": {
              "color": "#283442"
             }
            },
            "type": "scattergl"
           }
          ],
          "scattermap": [
           {
            "marker": {
             "colorbar": {
              "outlinewidth": 0,
              "ticks": ""
             }
            },
            "type": "scattermap"
           }
          ],
          "scattermapbox": [
           {
            "marker": {
             "colorbar": {
              "outlinewidth": 0,
              "ticks": ""
             }
            },
            "type": "scattermapbox"
           }
          ],
          "scatterpolar": [
           {
            "marker": {
             "colorbar": {
              "outlinewidth": 0,
              "ticks": ""
             }
            },
            "type": "scatterpolar"
           }
          ],
          "scatterpolargl": [
           {
            "marker": {
             "colorbar": {
              "outlinewidth": 0,
              "ticks": ""
             }
            },
            "type": "scatterpolargl"
           }
          ],
          "scatterternary": [
           {
            "marker": {
             "colorbar": {
              "outlinewidth": 0,
              "ticks": ""
             }
            },
            "type": "scatterternary"
           }
          ],
          "surface": [
           {
            "colorbar": {
             "outlinewidth": 0,
             "ticks": ""
            },
            "colorscale": [
             [
              0,
              "#0d0887"
             ],
             [
              0.1111111111111111,
              "#46039f"
             ],
             [
              0.2222222222222222,
              "#7201a8"
             ],
             [
              0.3333333333333333,
              "#9c179e"
             ],
             [
              0.4444444444444444,
              "#bd3786"
             ],
             [
              0.5555555555555556,
              "#d8576b"
             ],
             [
              0.6666666666666666,
              "#ed7953"
             ],
             [
              0.7777777777777778,
              "#fb9f3a"
             ],
             [
              0.8888888888888888,
              "#fdca26"
             ],
             [
              1,
              "#f0f921"
             ]
            ],
            "type": "surface"
           }
          ],
          "table": [
           {
            "cells": {
             "fill": {
              "color": "#506784"
             },
             "line": {
              "color": "rgb(17,17,17)"
             }
            },
            "header": {
             "fill": {
              "color": "#2a3f5f"
             },
             "line": {
              "color": "rgb(17,17,17)"
             }
            },
            "type": "table"
           }
          ]
         },
         "layout": {
          "annotationdefaults": {
           "arrowcolor": "#f2f5fa",
           "arrowhead": 0,
           "arrowwidth": 1
          },
          "autotypenumbers": "strict",
          "coloraxis": {
           "colorbar": {
            "outlinewidth": 0,
            "ticks": ""
           }
          },
          "colorscale": {
           "diverging": [
            [
             0,
             "#8e0152"
            ],
            [
             0.1,
             "#c51b7d"
            ],
            [
             0.2,
             "#de77ae"
            ],
            [
             0.3,
             "#f1b6da"
            ],
            [
             0.4,
             "#fde0ef"
            ],
            [
             0.5,
             "#f7f7f7"
            ],
            [
             0.6,
             "#e6f5d0"
            ],
            [
             0.7,
             "#b8e186"
            ],
            [
             0.8,
             "#7fbc41"
            ],
            [
             0.9,
             "#4d9221"
            ],
            [
             1,
             "#276419"
            ]
           ],
           "sequential": [
            [
             0,
             "#0d0887"
            ],
            [
             0.1111111111111111,
             "#46039f"
            ],
            [
             0.2222222222222222,
             "#7201a8"
            ],
            [
             0.3333333333333333,
             "#9c179e"
            ],
            [
             0.4444444444444444,
             "#bd3786"
            ],
            [
             0.5555555555555556,
             "#d8576b"
            ],
            [
             0.6666666666666666,
             "#ed7953"
            ],
            [
             0.7777777777777778,
             "#fb9f3a"
            ],
            [
             0.8888888888888888,
             "#fdca26"
            ],
            [
             1,
             "#f0f921"
            ]
           ],
           "sequentialminus": [
            [
             0,
             "#0d0887"
            ],
            [
             0.1111111111111111,
             "#46039f"
            ],
            [
             0.2222222222222222,
             "#7201a8"
            ],
            [
             0.3333333333333333,
             "#9c179e"
            ],
            [
             0.4444444444444444,
             "#bd3786"
            ],
            [
             0.5555555555555556,
             "#d8576b"
            ],
            [
             0.6666666666666666,
             "#ed7953"
            ],
            [
             0.7777777777777778,
             "#fb9f3a"
            ],
            [
             0.8888888888888888,
             "#fdca26"
            ],
            [
             1,
             "#f0f921"
            ]
           ]
          },
          "colorway": [
           "#636efa",
           "#EF553B",
           "#00cc96",
           "#ab63fa",
           "#FFA15A",
           "#19d3f3",
           "#FF6692",
           "#B6E880",
           "#FF97FF",
           "#FECB52"
          ],
          "font": {
           "color": "#f2f5fa"
          },
          "geo": {
           "bgcolor": "rgb(17,17,17)",
           "lakecolor": "rgb(17,17,17)",
           "landcolor": "rgb(17,17,17)",
           "showlakes": true,
           "showland": true,
           "subunitcolor": "#506784"
          },
          "hoverlabel": {
           "align": "left"
          },
          "hovermode": "closest",
          "mapbox": {
           "style": "dark"
          },
          "paper_bgcolor": "rgb(17,17,17)",
          "plot_bgcolor": "rgb(17,17,17)",
          "polar": {
           "angularaxis": {
            "gridcolor": "#506784",
            "linecolor": "#506784",
            "ticks": ""
           },
           "bgcolor": "rgb(17,17,17)",
           "radialaxis": {
            "gridcolor": "#506784",
            "linecolor": "#506784",
            "ticks": ""
           }
          },
          "scene": {
           "xaxis": {
            "backgroundcolor": "rgb(17,17,17)",
            "gridcolor": "#506784",
            "gridwidth": 2,
            "linecolor": "#506784",
            "showbackground": true,
            "ticks": "",
            "zerolinecolor": "#C8D4E3"
           },
           "yaxis": {
            "backgroundcolor": "rgb(17,17,17)",
            "gridcolor": "#506784",
            "gridwidth": 2,
            "linecolor": "#506784",
            "showbackground": true,
            "ticks": "",
            "zerolinecolor": "#C8D4E3"
           },
           "zaxis": {
            "backgroundcolor": "rgb(17,17,17)",
            "gridcolor": "#506784",
            "gridwidth": 2,
            "linecolor": "#506784",
            "showbackground": true,
            "ticks": "",
            "zerolinecolor": "#C8D4E3"
           }
          },
          "shapedefaults": {
           "line": {
            "color": "#f2f5fa"
           }
          },
          "sliderdefaults": {
           "bgcolor": "#C8D4E3",
           "bordercolor": "rgb(17,17,17)",
           "borderwidth": 1,
           "tickwidth": 0
          },
          "ternary": {
           "aaxis": {
            "gridcolor": "#506784",
            "linecolor": "#506784",
            "ticks": ""
           },
           "baxis": {
            "gridcolor": "#506784",
            "linecolor": "#506784",
            "ticks": ""
           },
           "bgcolor": "rgb(17,17,17)",
           "caxis": {
            "gridcolor": "#506784",
            "linecolor": "#506784",
            "ticks": ""
           }
          },
          "title": {
           "x": 0.05
          },
          "updatemenudefaults": {
           "bgcolor": "#506784",
           "borderwidth": 0
          },
          "xaxis": {
           "automargin": true,
           "gridcolor": "#283442",
           "linecolor": "#506784",
           "ticks": "",
           "title": {
            "standoff": 15
           },
           "zerolinecolor": "#283442",
           "zerolinewidth": 2
          },
          "yaxis": {
           "automargin": true,
           "gridcolor": "#283442",
           "linecolor": "#506784",
           "ticks": "",
           "title": {
            "standoff": 15
           },
           "zerolinecolor": "#283442",
           "zerolinewidth": 2
          }
         }
        },
        "xaxis": {
         "anchor": "y",
         "domain": [
          0,
          1
         ],
         "title": {
          "text": "dayofweek"
         }
        },
        "yaxis": {
         "anchor": "x",
         "domain": [
          0,
          1
         ],
         "title": {
          "text": "profit"
         }
        }
       }
      }
     },
     "metadata": {},
     "output_type": "display_data"
    },
    {
     "data": {
      "application/vnd.plotly.v1+json": {
       "config": {
        "plotlyServerURL": "https://plot.ly"
       },
       "data": [
        {
         "hovertemplate": "hourofday=%{x}<br>profit=%{y}<extra></extra>",
         "legendgroup": "",
         "marker": {
          "color": "#636efa",
          "pattern": {
           "shape": ""
          }
         },
         "name": "",
         "orientation": "v",
         "showlegend": false,
         "textposition": "auto",
         "type": "bar",
         "x": {
          "bdata": "AAAAAAEAAAAEAAAACAAAAAwAAAAQAAAAFAAAAA==",
          "dtype": "i4"
         },
         "xaxis": "x",
         "y": {
          "bdata": "AAAAAFCg9EAAAAAAAGBuwAAAAABA3tJAAAAAAADJ4kAAAAAAAOHVQAAAAABAwdBAAAAAAACTwEA=",
          "dtype": "f8"
         },
         "yaxis": "y"
        }
       ],
       "layout": {
        "barmode": "relative",
        "legend": {
         "tracegroupgap": 0
        },
        "margin": {
         "t": 60
        },
        "template": {
         "data": {
          "bar": [
           {
            "error_x": {
             "color": "#f2f5fa"
            },
            "error_y": {
             "color": "#f2f5fa"
            },
            "marker": {
             "line": {
              "color": "rgb(17,17,17)",
              "width": 0.5
             },
             "pattern": {
              "fillmode": "overlay",
              "size": 10,
              "solidity": 0.2
             }
            },
            "type": "bar"
           }
          ],
          "barpolar": [
           {
            "marker": {
             "line": {
              "color": "rgb(17,17,17)",
              "width": 0.5
             },
             "pattern": {
              "fillmode": "overlay",
              "size": 10,
              "solidity": 0.2
             }
            },
            "type": "barpolar"
           }
          ],
          "carpet": [
           {
            "aaxis": {
             "endlinecolor": "#A2B1C6",
             "gridcolor": "#506784",
             "linecolor": "#506784",
             "minorgridcolor": "#506784",
             "startlinecolor": "#A2B1C6"
            },
            "baxis": {
             "endlinecolor": "#A2B1C6",
             "gridcolor": "#506784",
             "linecolor": "#506784",
             "minorgridcolor": "#506784",
             "startlinecolor": "#A2B1C6"
            },
            "type": "carpet"
           }
          ],
          "choropleth": [
           {
            "colorbar": {
             "outlinewidth": 0,
             "ticks": ""
            },
            "type": "choropleth"
           }
          ],
          "contour": [
           {
            "colorbar": {
             "outlinewidth": 0,
             "ticks": ""
            },
            "colorscale": [
             [
              0,
              "#0d0887"
             ],
             [
              0.1111111111111111,
              "#46039f"
             ],
             [
              0.2222222222222222,
              "#7201a8"
             ],
             [
              0.3333333333333333,
              "#9c179e"
             ],
             [
              0.4444444444444444,
              "#bd3786"
             ],
             [
              0.5555555555555556,
              "#d8576b"
             ],
             [
              0.6666666666666666,
              "#ed7953"
             ],
             [
              0.7777777777777778,
              "#fb9f3a"
             ],
             [
              0.8888888888888888,
              "#fdca26"
             ],
             [
              1,
              "#f0f921"
             ]
            ],
            "type": "contour"
           }
          ],
          "contourcarpet": [
           {
            "colorbar": {
             "outlinewidth": 0,
             "ticks": ""
            },
            "type": "contourcarpet"
           }
          ],
          "heatmap": [
           {
            "colorbar": {
             "outlinewidth": 0,
             "ticks": ""
            },
            "colorscale": [
             [
              0,
              "#0d0887"
             ],
             [
              0.1111111111111111,
              "#46039f"
             ],
             [
              0.2222222222222222,
              "#7201a8"
             ],
             [
              0.3333333333333333,
              "#9c179e"
             ],
             [
              0.4444444444444444,
              "#bd3786"
             ],
             [
              0.5555555555555556,
              "#d8576b"
             ],
             [
              0.6666666666666666,
              "#ed7953"
             ],
             [
              0.7777777777777778,
              "#fb9f3a"
             ],
             [
              0.8888888888888888,
              "#fdca26"
             ],
             [
              1,
              "#f0f921"
             ]
            ],
            "type": "heatmap"
           }
          ],
          "histogram": [
           {
            "marker": {
             "pattern": {
              "fillmode": "overlay",
              "size": 10,
              "solidity": 0.2
             }
            },
            "type": "histogram"
           }
          ],
          "histogram2d": [
           {
            "colorbar": {
             "outlinewidth": 0,
             "ticks": ""
            },
            "colorscale": [
             [
              0,
              "#0d0887"
             ],
             [
              0.1111111111111111,
              "#46039f"
             ],
             [
              0.2222222222222222,
              "#7201a8"
             ],
             [
              0.3333333333333333,
              "#9c179e"
             ],
             [
              0.4444444444444444,
              "#bd3786"
             ],
             [
              0.5555555555555556,
              "#d8576b"
             ],
             [
              0.6666666666666666,
              "#ed7953"
             ],
             [
              0.7777777777777778,
              "#fb9f3a"
             ],
             [
              0.8888888888888888,
              "#fdca26"
             ],
             [
              1,
              "#f0f921"
             ]
            ],
            "type": "histogram2d"
           }
          ],
          "histogram2dcontour": [
           {
            "colorbar": {
             "outlinewidth": 0,
             "ticks": ""
            },
            "colorscale": [
             [
              0,
              "#0d0887"
             ],
             [
              0.1111111111111111,
              "#46039f"
             ],
             [
              0.2222222222222222,
              "#7201a8"
             ],
             [
              0.3333333333333333,
              "#9c179e"
             ],
             [
              0.4444444444444444,
              "#bd3786"
             ],
             [
              0.5555555555555556,
              "#d8576b"
             ],
             [
              0.6666666666666666,
              "#ed7953"
             ],
             [
              0.7777777777777778,
              "#fb9f3a"
             ],
             [
              0.8888888888888888,
              "#fdca26"
             ],
             [
              1,
              "#f0f921"
             ]
            ],
            "type": "histogram2dcontour"
           }
          ],
          "mesh3d": [
           {
            "colorbar": {
             "outlinewidth": 0,
             "ticks": ""
            },
            "type": "mesh3d"
           }
          ],
          "parcoords": [
           {
            "line": {
             "colorbar": {
              "outlinewidth": 0,
              "ticks": ""
             }
            },
            "type": "parcoords"
           }
          ],
          "pie": [
           {
            "automargin": true,
            "type": "pie"
           }
          ],
          "scatter": [
           {
            "marker": {
             "line": {
              "color": "#283442"
             }
            },
            "type": "scatter"
           }
          ],
          "scatter3d": [
           {
            "line": {
             "colorbar": {
              "outlinewidth": 0,
              "ticks": ""
             }
            },
            "marker": {
             "colorbar": {
              "outlinewidth": 0,
              "ticks": ""
             }
            },
            "type": "scatter3d"
           }
          ],
          "scattercarpet": [
           {
            "marker": {
             "colorbar": {
              "outlinewidth": 0,
              "ticks": ""
             }
            },
            "type": "scattercarpet"
           }
          ],
          "scattergeo": [
           {
            "marker": {
             "colorbar": {
              "outlinewidth": 0,
              "ticks": ""
             }
            },
            "type": "scattergeo"
           }
          ],
          "scattergl": [
           {
            "marker": {
             "line": {
              "color": "#283442"
             }
            },
            "type": "scattergl"
           }
          ],
          "scattermap": [
           {
            "marker": {
             "colorbar": {
              "outlinewidth": 0,
              "ticks": ""
             }
            },
            "type": "scattermap"
           }
          ],
          "scattermapbox": [
           {
            "marker": {
             "colorbar": {
              "outlinewidth": 0,
              "ticks": ""
             }
            },
            "type": "scattermapbox"
           }
          ],
          "scatterpolar": [
           {
            "marker": {
             "colorbar": {
              "outlinewidth": 0,
              "ticks": ""
             }
            },
            "type": "scatterpolar"
           }
          ],
          "scatterpolargl": [
           {
            "marker": {
             "colorbar": {
              "outlinewidth": 0,
              "ticks": ""
             }
            },
            "type": "scatterpolargl"
           }
          ],
          "scatterternary": [
           {
            "marker": {
             "colorbar": {
              "outlinewidth": 0,
              "ticks": ""
             }
            },
            "type": "scatterternary"
           }
          ],
          "surface": [
           {
            "colorbar": {
             "outlinewidth": 0,
             "ticks": ""
            },
            "colorscale": [
             [
              0,
              "#0d0887"
             ],
             [
              0.1111111111111111,
              "#46039f"
             ],
             [
              0.2222222222222222,
              "#7201a8"
             ],
             [
              0.3333333333333333,
              "#9c179e"
             ],
             [
              0.4444444444444444,
              "#bd3786"
             ],
             [
              0.5555555555555556,
              "#d8576b"
             ],
             [
              0.6666666666666666,
              "#ed7953"
             ],
             [
              0.7777777777777778,
              "#fb9f3a"
             ],
             [
              0.8888888888888888,
              "#fdca26"
             ],
             [
              1,
              "#f0f921"
             ]
            ],
            "type": "surface"
           }
          ],
          "table": [
           {
            "cells": {
             "fill": {
              "color": "#506784"
             },
             "line": {
              "color": "rgb(17,17,17)"
             }
            },
            "header": {
             "fill": {
              "color": "#2a3f5f"
             },
             "line": {
              "color": "rgb(17,17,17)"
             }
            },
            "type": "table"
           }
          ]
         },
         "layout": {
          "annotationdefaults": {
           "arrowcolor": "#f2f5fa",
           "arrowhead": 0,
           "arrowwidth": 1
          },
          "autotypenumbers": "strict",
          "coloraxis": {
           "colorbar": {
            "outlinewidth": 0,
            "ticks": ""
           }
          },
          "colorscale": {
           "diverging": [
            [
             0,
             "#8e0152"
            ],
            [
             0.1,
             "#c51b7d"
            ],
            [
             0.2,
             "#de77ae"
            ],
            [
             0.3,
             "#f1b6da"
            ],
            [
             0.4,
             "#fde0ef"
            ],
            [
             0.5,
             "#f7f7f7"
            ],
            [
             0.6,
             "#e6f5d0"
            ],
            [
             0.7,
             "#b8e186"
            ],
            [
             0.8,
             "#7fbc41"
            ],
            [
             0.9,
             "#4d9221"
            ],
            [
             1,
             "#276419"
            ]
           ],
           "sequential": [
            [
             0,
             "#0d0887"
            ],
            [
             0.1111111111111111,
             "#46039f"
            ],
            [
             0.2222222222222222,
             "#7201a8"
            ],
            [
             0.3333333333333333,
             "#9c179e"
            ],
            [
             0.4444444444444444,
             "#bd3786"
            ],
            [
             0.5555555555555556,
             "#d8576b"
            ],
            [
             0.6666666666666666,
             "#ed7953"
            ],
            [
             0.7777777777777778,
             "#fb9f3a"
            ],
            [
             0.8888888888888888,
             "#fdca26"
            ],
            [
             1,
             "#f0f921"
            ]
           ],
           "sequentialminus": [
            [
             0,
             "#0d0887"
            ],
            [
             0.1111111111111111,
             "#46039f"
            ],
            [
             0.2222222222222222,
             "#7201a8"
            ],
            [
             0.3333333333333333,
             "#9c179e"
            ],
            [
             0.4444444444444444,
             "#bd3786"
            ],
            [
             0.5555555555555556,
             "#d8576b"
            ],
            [
             0.6666666666666666,
             "#ed7953"
            ],
            [
             0.7777777777777778,
             "#fb9f3a"
            ],
            [
             0.8888888888888888,
             "#fdca26"
            ],
            [
             1,
             "#f0f921"
            ]
           ]
          },
          "colorway": [
           "#636efa",
           "#EF553B",
           "#00cc96",
           "#ab63fa",
           "#FFA15A",
           "#19d3f3",
           "#FF6692",
           "#B6E880",
           "#FF97FF",
           "#FECB52"
          ],
          "font": {
           "color": "#f2f5fa"
          },
          "geo": {
           "bgcolor": "rgb(17,17,17)",
           "lakecolor": "rgb(17,17,17)",
           "landcolor": "rgb(17,17,17)",
           "showlakes": true,
           "showland": true,
           "subunitcolor": "#506784"
          },
          "hoverlabel": {
           "align": "left"
          },
          "hovermode": "closest",
          "mapbox": {
           "style": "dark"
          },
          "paper_bgcolor": "rgb(17,17,17)",
          "plot_bgcolor": "rgb(17,17,17)",
          "polar": {
           "angularaxis": {
            "gridcolor": "#506784",
            "linecolor": "#506784",
            "ticks": ""
           },
           "bgcolor": "rgb(17,17,17)",
           "radialaxis": {
            "gridcolor": "#506784",
            "linecolor": "#506784",
            "ticks": ""
           }
          },
          "scene": {
           "xaxis": {
            "backgroundcolor": "rgb(17,17,17)",
            "gridcolor": "#506784",
            "gridwidth": 2,
            "linecolor": "#506784",
            "showbackground": true,
            "ticks": "",
            "zerolinecolor": "#C8D4E3"
           },
           "yaxis": {
            "backgroundcolor": "rgb(17,17,17)",
            "gridcolor": "#506784",
            "gridwidth": 2,
            "linecolor": "#506784",
            "showbackground": true,
            "ticks": "",
            "zerolinecolor": "#C8D4E3"
           },
           "zaxis": {
            "backgroundcolor": "rgb(17,17,17)",
            "gridcolor": "#506784",
            "gridwidth": 2,
            "linecolor": "#506784",
            "showbackground": true,
            "ticks": "",
            "zerolinecolor": "#C8D4E3"
           }
          },
          "shapedefaults": {
           "line": {
            "color": "#f2f5fa"
           }
          },
          "sliderdefaults": {
           "bgcolor": "#C8D4E3",
           "bordercolor": "rgb(17,17,17)",
           "borderwidth": 1,
           "tickwidth": 0
          },
          "ternary": {
           "aaxis": {
            "gridcolor": "#506784",
            "linecolor": "#506784",
            "ticks": ""
           },
           "baxis": {
            "gridcolor": "#506784",
            "linecolor": "#506784",
            "ticks": ""
           },
           "bgcolor": "rgb(17,17,17)",
           "caxis": {
            "gridcolor": "#506784",
            "linecolor": "#506784",
            "ticks": ""
           }
          },
          "title": {
           "x": 0.05
          },
          "updatemenudefaults": {
           "bgcolor": "#506784",
           "borderwidth": 0
          },
          "xaxis": {
           "automargin": true,
           "gridcolor": "#283442",
           "linecolor": "#506784",
           "ticks": "",
           "title": {
            "standoff": 15
           },
           "zerolinecolor": "#283442",
           "zerolinewidth": 2
          },
          "yaxis": {
           "automargin": true,
           "gridcolor": "#283442",
           "linecolor": "#506784",
           "ticks": "",
           "title": {
            "standoff": 15
           },
           "zerolinecolor": "#283442",
           "zerolinewidth": 2
          }
         }
        },
        "xaxis": {
         "anchor": "y",
         "domain": [
          0,
          1
         ],
         "title": {
          "text": "hourofday"
         }
        },
        "yaxis": {
         "anchor": "x",
         "domain": [
          0,
          1
         ],
         "title": {
          "text": "profit"
         }
        }
       }
      }
     },
     "metadata": {},
     "output_type": "display_data"
    },
    {
     "data": {
      "application/vnd.plotly.v1+json": {
       "config": {
        "plotlyServerURL": "https://plot.ly"
       },
       "data": [
        {
         "hovertemplate": "Month=%{x}<br>Total Profit=%{y}<extra></extra>",
         "legendgroup": "",
         "marker": {
          "color": "#00CC96",
          "pattern": {
           "shape": ""
          }
         },
         "name": "",
         "orientation": "v",
         "showlegend": false,
         "textposition": "auto",
         "type": "bar",
         "x": [
          "2020-01",
          "2020-02",
          "2020-03",
          "2020-04",
          "2020-05",
          "2020-06",
          "2020-07",
          "2020-08",
          "2020-09",
          "2020-10",
          "2020-11",
          "2020-12",
          "2021-01",
          "2021-02",
          "2021-03",
          "2021-04",
          "2021-05",
          "2021-06",
          "2021-07",
          "2021-08",
          "2021-09",
          "2021-10",
          "2021-11",
          "2021-12",
          "2022-01",
          "2022-02",
          "2022-03",
          "2022-04",
          "2022-05",
          "2022-06",
          "2022-07",
          "2022-08",
          "2022-09",
          "2022-10",
          "2022-11",
          "2022-12",
          "2023-01",
          "2023-02",
          "2023-03",
          "2023-04",
          "2023-05",
          "2023-06",
          "2023-07",
          "2023-08",
          "2023-09",
          "2023-10",
          "2023-11",
          "2023-12",
          "2024-01",
          "2024-02",
          "2024-03",
          "2024-04",
          "2024-05",
          "2024-06",
          "2024-07",
          "2024-08",
          "2024-09",
          "2024-10",
          "2024-11",
          "2024-12",
          "2025-01",
          "2025-02",
          "2025-03",
          "2025-04",
          "2025-05",
          "2025-06",
          "2025-07",
          "2025-08"
         ],
         "xaxis": "x",
         "y": {
          "bdata": "AAAAAAAslUAAAAAAAKyeQAAAAAAAEL9AAAAAAAAyo0AAAAAAAOqjQAAAAAAAF7VAAAAAAABxsUAAAAAAAEiZQAAAAAAA3KpAAAAAAAC4j0AAAAAAAPqxQAAAAAAAAq9AAAAAAAAgn0AAAAAAAKShQAAAAAAAYJ5AAAAAAAALsUAAAAAAAMqgQAAAAAAAjqRAAAAAAAB4l0AAAAAAAACbQAAAAAAA0IdAAAAAAABgpEAAAAAAAOKkQAAAAAAAkI7AAAAAAAD+oUAAAAAAANCLQAAAAAAAuqhAAAAAAAAFskAAAAAAAGKjQAAAAAAALqlAAAAAAADNsUAAAAAAANKnQAAAAAAAa7VAAAAAAACoqEAAAAAAAKa4QAAAAAAAYqhAAAAAAAD8pUAAAAAAAL6rQAAAAAAAlqlAAAAAAAAwmUAAAAAAAKieQAAAAAAANK1AAAAAAACurkAAAAAAALCYQAAAAAAA0JZAAAAAAAAeoUAAAAAAACCtQAAAAAAAMqhAAAAAAAA4g0AAAAAAAESRQAAAAAAAcIdAAAAAAAAQn0AAAAAAAHCgQAAAAAAAuJtAAAAAAAC0n0AAAAAAANinQAAAAAAADJlAAAAAAAAOqEAAAAAAANKkQAAAAAAA4J1AAAAAAACGqEAAAAAAAJ6mQAAAAAAAE7NAAAAAAABdtkAAAAAAAC6iQAAAAAAA3JVAAAAAAAC0rkAAAAAAAKCqQA==",
          "dtype": "f8"
         },
         "yaxis": "y"
        }
       ],
       "layout": {
        "barmode": "relative",
        "legend": {
         "tracegroupgap": 0
        },
        "template": {
         "data": {
          "bar": [
           {
            "error_x": {
             "color": "#f2f5fa"
            },
            "error_y": {
             "color": "#f2f5fa"
            },
            "marker": {
             "line": {
              "color": "rgb(17,17,17)",
              "width": 0.5
             },
             "pattern": {
              "fillmode": "overlay",
              "size": 10,
              "solidity": 0.2
             }
            },
            "type": "bar"
           }
          ],
          "barpolar": [
           {
            "marker": {
             "line": {
              "color": "rgb(17,17,17)",
              "width": 0.5
             },
             "pattern": {
              "fillmode": "overlay",
              "size": 10,
              "solidity": 0.2
             }
            },
            "type": "barpolar"
           }
          ],
          "carpet": [
           {
            "aaxis": {
             "endlinecolor": "#A2B1C6",
             "gridcolor": "#506784",
             "linecolor": "#506784",
             "minorgridcolor": "#506784",
             "startlinecolor": "#A2B1C6"
            },
            "baxis": {
             "endlinecolor": "#A2B1C6",
             "gridcolor": "#506784",
             "linecolor": "#506784",
             "minorgridcolor": "#506784",
             "startlinecolor": "#A2B1C6"
            },
            "type": "carpet"
           }
          ],
          "choropleth": [
           {
            "colorbar": {
             "outlinewidth": 0,
             "ticks": ""
            },
            "type": "choropleth"
           }
          ],
          "contour": [
           {
            "colorbar": {
             "outlinewidth": 0,
             "ticks": ""
            },
            "colorscale": [
             [
              0,
              "#0d0887"
             ],
             [
              0.1111111111111111,
              "#46039f"
             ],
             [
              0.2222222222222222,
              "#7201a8"
             ],
             [
              0.3333333333333333,
              "#9c179e"
             ],
             [
              0.4444444444444444,
              "#bd3786"
             ],
             [
              0.5555555555555556,
              "#d8576b"
             ],
             [
              0.6666666666666666,
              "#ed7953"
             ],
             [
              0.7777777777777778,
              "#fb9f3a"
             ],
             [
              0.8888888888888888,
              "#fdca26"
             ],
             [
              1,
              "#f0f921"
             ]
            ],
            "type": "contour"
           }
          ],
          "contourcarpet": [
           {
            "colorbar": {
             "outlinewidth": 0,
             "ticks": ""
            },
            "type": "contourcarpet"
           }
          ],
          "heatmap": [
           {
            "colorbar": {
             "outlinewidth": 0,
             "ticks": ""
            },
            "colorscale": [
             [
              0,
              "#0d0887"
             ],
             [
              0.1111111111111111,
              "#46039f"
             ],
             [
              0.2222222222222222,
              "#7201a8"
             ],
             [
              0.3333333333333333,
              "#9c179e"
             ],
             [
              0.4444444444444444,
              "#bd3786"
             ],
             [
              0.5555555555555556,
              "#d8576b"
             ],
             [
              0.6666666666666666,
              "#ed7953"
             ],
             [
              0.7777777777777778,
              "#fb9f3a"
             ],
             [
              0.8888888888888888,
              "#fdca26"
             ],
             [
              1,
              "#f0f921"
             ]
            ],
            "type": "heatmap"
           }
          ],
          "histogram": [
           {
            "marker": {
             "pattern": {
              "fillmode": "overlay",
              "size": 10,
              "solidity": 0.2
             }
            },
            "type": "histogram"
           }
          ],
          "histogram2d": [
           {
            "colorbar": {
             "outlinewidth": 0,
             "ticks": ""
            },
            "colorscale": [
             [
              0,
              "#0d0887"
             ],
             [
              0.1111111111111111,
              "#46039f"
             ],
             [
              0.2222222222222222,
              "#7201a8"
             ],
             [
              0.3333333333333333,
              "#9c179e"
             ],
             [
              0.4444444444444444,
              "#bd3786"
             ],
             [
              0.5555555555555556,
              "#d8576b"
             ],
             [
              0.6666666666666666,
              "#ed7953"
             ],
             [
              0.7777777777777778,
              "#fb9f3a"
             ],
             [
              0.8888888888888888,
              "#fdca26"
             ],
             [
              1,
              "#f0f921"
             ]
            ],
            "type": "histogram2d"
           }
          ],
          "histogram2dcontour": [
           {
            "colorbar": {
             "outlinewidth": 0,
             "ticks": ""
            },
            "colorscale": [
             [
              0,
              "#0d0887"
             ],
             [
              0.1111111111111111,
              "#46039f"
             ],
             [
              0.2222222222222222,
              "#7201a8"
             ],
             [
              0.3333333333333333,
              "#9c179e"
             ],
             [
              0.4444444444444444,
              "#bd3786"
             ],
             [
              0.5555555555555556,
              "#d8576b"
             ],
             [
              0.6666666666666666,
              "#ed7953"
             ],
             [
              0.7777777777777778,
              "#fb9f3a"
             ],
             [
              0.8888888888888888,
              "#fdca26"
             ],
             [
              1,
              "#f0f921"
             ]
            ],
            "type": "histogram2dcontour"
           }
          ],
          "mesh3d": [
           {
            "colorbar": {
             "outlinewidth": 0,
             "ticks": ""
            },
            "type": "mesh3d"
           }
          ],
          "parcoords": [
           {
            "line": {
             "colorbar": {
              "outlinewidth": 0,
              "ticks": ""
             }
            },
            "type": "parcoords"
           }
          ],
          "pie": [
           {
            "automargin": true,
            "type": "pie"
           }
          ],
          "scatter": [
           {
            "marker": {
             "line": {
              "color": "#283442"
             }
            },
            "type": "scatter"
           }
          ],
          "scatter3d": [
           {
            "line": {
             "colorbar": {
              "outlinewidth": 0,
              "ticks": ""
             }
            },
            "marker": {
             "colorbar": {
              "outlinewidth": 0,
              "ticks": ""
             }
            },
            "type": "scatter3d"
           }
          ],
          "scattercarpet": [
           {
            "marker": {
             "colorbar": {
              "outlinewidth": 0,
              "ticks": ""
             }
            },
            "type": "scattercarpet"
           }
          ],
          "scattergeo": [
           {
            "marker": {
             "colorbar": {
              "outlinewidth": 0,
              "ticks": ""
             }
            },
            "type": "scattergeo"
           }
          ],
          "scattergl": [
           {
            "marker": {
             "line": {
              "color": "#283442"
             }
            },
            "type": "scattergl"
           }
          ],
          "scattermap": [
           {
            "marker": {
             "colorbar": {
              "outlinewidth": 0,
              "ticks": ""
             }
            },
            "type": "scattermap"
           }
          ],
          "scattermapbox": [
           {
            "marker": {
             "colorbar": {
              "outlinewidth": 0,
              "ticks": ""
             }
            },
            "type": "scattermapbox"
           }
          ],
          "scatterpolar": [
           {
            "marker": {
             "colorbar": {
              "outlinewidth": 0,
              "ticks": ""
             }
            },
            "type": "scatterpolar"
           }
          ],
          "scatterpolargl": [
           {
            "marker": {
             "colorbar": {
              "outlinewidth": 0,
              "ticks": ""
             }
            },
            "type": "scatterpolargl"
           }
          ],
          "scatterternary": [
           {
            "marker": {
             "colorbar": {
              "outlinewidth": 0,
              "ticks": ""
             }
            },
            "type": "scatterternary"
           }
          ],
          "surface": [
           {
            "colorbar": {
             "outlinewidth": 0,
             "ticks": ""
            },
            "colorscale": [
             [
              0,
              "#0d0887"
             ],
             [
              0.1111111111111111,
              "#46039f"
             ],
             [
              0.2222222222222222,
              "#7201a8"
             ],
             [
              0.3333333333333333,
              "#9c179e"
             ],
             [
              0.4444444444444444,
              "#bd3786"
             ],
             [
              0.5555555555555556,
              "#d8576b"
             ],
             [
              0.6666666666666666,
              "#ed7953"
             ],
             [
              0.7777777777777778,
              "#fb9f3a"
             ],
             [
              0.8888888888888888,
              "#fdca26"
             ],
             [
              1,
              "#f0f921"
             ]
            ],
            "type": "surface"
           }
          ],
          "table": [
           {
            "cells": {
             "fill": {
              "color": "#506784"
             },
             "line": {
              "color": "rgb(17,17,17)"
             }
            },
            "header": {
             "fill": {
              "color": "#2a3f5f"
             },
             "line": {
              "color": "rgb(17,17,17)"
             }
            },
            "type": "table"
           }
          ]
         },
         "layout": {
          "annotationdefaults": {
           "arrowcolor": "#f2f5fa",
           "arrowhead": 0,
           "arrowwidth": 1
          },
          "autotypenumbers": "strict",
          "coloraxis": {
           "colorbar": {
            "outlinewidth": 0,
            "ticks": ""
           }
          },
          "colorscale": {
           "diverging": [
            [
             0,
             "#8e0152"
            ],
            [
             0.1,
             "#c51b7d"
            ],
            [
             0.2,
             "#de77ae"
            ],
            [
             0.3,
             "#f1b6da"
            ],
            [
             0.4,
             "#fde0ef"
            ],
            [
             0.5,
             "#f7f7f7"
            ],
            [
             0.6,
             "#e6f5d0"
            ],
            [
             0.7,
             "#b8e186"
            ],
            [
             0.8,
             "#7fbc41"
            ],
            [
             0.9,
             "#4d9221"
            ],
            [
             1,
             "#276419"
            ]
           ],
           "sequential": [
            [
             0,
             "#0d0887"
            ],
            [
             0.1111111111111111,
             "#46039f"
            ],
            [
             0.2222222222222222,
             "#7201a8"
            ],
            [
             0.3333333333333333,
             "#9c179e"
            ],
            [
             0.4444444444444444,
             "#bd3786"
            ],
            [
             0.5555555555555556,
             "#d8576b"
            ],
            [
             0.6666666666666666,
             "#ed7953"
            ],
            [
             0.7777777777777778,
             "#fb9f3a"
            ],
            [
             0.8888888888888888,
             "#fdca26"
            ],
            [
             1,
             "#f0f921"
            ]
           ],
           "sequentialminus": [
            [
             0,
             "#0d0887"
            ],
            [
             0.1111111111111111,
             "#46039f"
            ],
            [
             0.2222222222222222,
             "#7201a8"
            ],
            [
             0.3333333333333333,
             "#9c179e"
            ],
            [
             0.4444444444444444,
             "#bd3786"
            ],
            [
             0.5555555555555556,
             "#d8576b"
            ],
            [
             0.6666666666666666,
             "#ed7953"
            ],
            [
             0.7777777777777778,
             "#fb9f3a"
            ],
            [
             0.8888888888888888,
             "#fdca26"
            ],
            [
             1,
             "#f0f921"
            ]
           ]
          },
          "colorway": [
           "#636efa",
           "#EF553B",
           "#00cc96",
           "#ab63fa",
           "#FFA15A",
           "#19d3f3",
           "#FF6692",
           "#B6E880",
           "#FF97FF",
           "#FECB52"
          ],
          "font": {
           "color": "#f2f5fa"
          },
          "geo": {
           "bgcolor": "rgb(17,17,17)",
           "lakecolor": "rgb(17,17,17)",
           "landcolor": "rgb(17,17,17)",
           "showlakes": true,
           "showland": true,
           "subunitcolor": "#506784"
          },
          "hoverlabel": {
           "align": "left"
          },
          "hovermode": "closest",
          "mapbox": {
           "style": "dark"
          },
          "paper_bgcolor": "rgb(17,17,17)",
          "plot_bgcolor": "rgb(17,17,17)",
          "polar": {
           "angularaxis": {
            "gridcolor": "#506784",
            "linecolor": "#506784",
            "ticks": ""
           },
           "bgcolor": "rgb(17,17,17)",
           "radialaxis": {
            "gridcolor": "#506784",
            "linecolor": "#506784",
            "ticks": ""
           }
          },
          "scene": {
           "xaxis": {
            "backgroundcolor": "rgb(17,17,17)",
            "gridcolor": "#506784",
            "gridwidth": 2,
            "linecolor": "#506784",
            "showbackground": true,
            "ticks": "",
            "zerolinecolor": "#C8D4E3"
           },
           "yaxis": {
            "backgroundcolor": "rgb(17,17,17)",
            "gridcolor": "#506784",
            "gridwidth": 2,
            "linecolor": "#506784",
            "showbackground": true,
            "ticks": "",
            "zerolinecolor": "#C8D4E3"
           },
           "zaxis": {
            "backgroundcolor": "rgb(17,17,17)",
            "gridcolor": "#506784",
            "gridwidth": 2,
            "linecolor": "#506784",
            "showbackground": true,
            "ticks": "",
            "zerolinecolor": "#C8D4E3"
           }
          },
          "shapedefaults": {
           "line": {
            "color": "#f2f5fa"
           }
          },
          "sliderdefaults": {
           "bgcolor": "#C8D4E3",
           "bordercolor": "rgb(17,17,17)",
           "borderwidth": 1,
           "tickwidth": 0
          },
          "ternary": {
           "aaxis": {
            "gridcolor": "#506784",
            "linecolor": "#506784",
            "ticks": ""
           },
           "baxis": {
            "gridcolor": "#506784",
            "linecolor": "#506784",
            "ticks": ""
           },
           "bgcolor": "rgb(17,17,17)",
           "caxis": {
            "gridcolor": "#506784",
            "linecolor": "#506784",
            "ticks": ""
           }
          },
          "title": {
           "x": 0.05
          },
          "updatemenudefaults": {
           "bgcolor": "#506784",
           "borderwidth": 0
          },
          "xaxis": {
           "automargin": true,
           "gridcolor": "#283442",
           "linecolor": "#506784",
           "ticks": "",
           "title": {
            "standoff": 15
           },
           "zerolinecolor": "#283442",
           "zerolinewidth": 2
          },
          "yaxis": {
           "automargin": true,
           "gridcolor": "#283442",
           "linecolor": "#506784",
           "ticks": "",
           "title": {
            "standoff": 15
           },
           "zerolinecolor": "#283442",
           "zerolinewidth": 2
          }
         }
        },
        "title": {
         "text": "Total Profit Per Month"
        },
        "xaxis": {
         "anchor": "y",
         "domain": [
          0,
          1
         ],
         "tickangle": -45,
         "title": {
          "text": "Month"
         }
        },
        "yaxis": {
         "anchor": "x",
         "domain": [
          0,
          1
         ],
         "title": {
          "text": "Total Profit"
         }
        }
       }
      }
     },
     "metadata": {},
     "output_type": "display_data"
    },
    {
     "data": {
      "application/vnd.plotly.v1+json": {
       "config": {
        "plotlyServerURL": "https://plot.ly"
       },
       "data": [
        {
         "hovertemplate": "Year=%{x}<br>Total Profit=%{y}<extra></extra>",
         "legendgroup": "",
         "marker": {
          "color": "#EF553B",
          "pattern": {
           "shape": ""
          }
         },
         "name": "",
         "orientation": "v",
         "showlegend": false,
         "textposition": "auto",
         "type": "bar",
         "x": {
          "bdata": "5AcAAOUHAADmBwAA5wcAAOgHAADpBwAA",
          "dtype": "i4"
         },
         "xaxis": "x",
         "y": {
          "bdata": "AAAAAMDp40AAAAAAABTXQAAAAADgreRAAAAAAOAU4EAAAAAAACXWQAAAAACADttA",
          "dtype": "f8"
         },
         "yaxis": "y"
        }
       ],
       "layout": {
        "barmode": "relative",
        "legend": {
         "tracegroupgap": 0
        },
        "template": {
         "data": {
          "bar": [
           {
            "error_x": {
             "color": "#f2f5fa"
            },
            "error_y": {
             "color": "#f2f5fa"
            },
            "marker": {
             "line": {
              "color": "rgb(17,17,17)",
              "width": 0.5
             },
             "pattern": {
              "fillmode": "overlay",
              "size": 10,
              "solidity": 0.2
             }
            },
            "type": "bar"
           }
          ],
          "barpolar": [
           {
            "marker": {
             "line": {
              "color": "rgb(17,17,17)",
              "width": 0.5
             },
             "pattern": {
              "fillmode": "overlay",
              "size": 10,
              "solidity": 0.2
             }
            },
            "type": "barpolar"
           }
          ],
          "carpet": [
           {
            "aaxis": {
             "endlinecolor": "#A2B1C6",
             "gridcolor": "#506784",
             "linecolor": "#506784",
             "minorgridcolor": "#506784",
             "startlinecolor": "#A2B1C6"
            },
            "baxis": {
             "endlinecolor": "#A2B1C6",
             "gridcolor": "#506784",
             "linecolor": "#506784",
             "minorgridcolor": "#506784",
             "startlinecolor": "#A2B1C6"
            },
            "type": "carpet"
           }
          ],
          "choropleth": [
           {
            "colorbar": {
             "outlinewidth": 0,
             "ticks": ""
            },
            "type": "choropleth"
           }
          ],
          "contour": [
           {
            "colorbar": {
             "outlinewidth": 0,
             "ticks": ""
            },
            "colorscale": [
             [
              0,
              "#0d0887"
             ],
             [
              0.1111111111111111,
              "#46039f"
             ],
             [
              0.2222222222222222,
              "#7201a8"
             ],
             [
              0.3333333333333333,
              "#9c179e"
             ],
             [
              0.4444444444444444,
              "#bd3786"
             ],
             [
              0.5555555555555556,
              "#d8576b"
             ],
             [
              0.6666666666666666,
              "#ed7953"
             ],
             [
              0.7777777777777778,
              "#fb9f3a"
             ],
             [
              0.8888888888888888,
              "#fdca26"
             ],
             [
              1,
              "#f0f921"
             ]
            ],
            "type": "contour"
           }
          ],
          "contourcarpet": [
           {
            "colorbar": {
             "outlinewidth": 0,
             "ticks": ""
            },
            "type": "contourcarpet"
           }
          ],
          "heatmap": [
           {
            "colorbar": {
             "outlinewidth": 0,
             "ticks": ""
            },
            "colorscale": [
             [
              0,
              "#0d0887"
             ],
             [
              0.1111111111111111,
              "#46039f"
             ],
             [
              0.2222222222222222,
              "#7201a8"
             ],
             [
              0.3333333333333333,
              "#9c179e"
             ],
             [
              0.4444444444444444,
              "#bd3786"
             ],
             [
              0.5555555555555556,
              "#d8576b"
             ],
             [
              0.6666666666666666,
              "#ed7953"
             ],
             [
              0.7777777777777778,
              "#fb9f3a"
             ],
             [
              0.8888888888888888,
              "#fdca26"
             ],
             [
              1,
              "#f0f921"
             ]
            ],
            "type": "heatmap"
           }
          ],
          "histogram": [
           {
            "marker": {
             "pattern": {
              "fillmode": "overlay",
              "size": 10,
              "solidity": 0.2
             }
            },
            "type": "histogram"
           }
          ],
          "histogram2d": [
           {
            "colorbar": {
             "outlinewidth": 0,
             "ticks": ""
            },
            "colorscale": [
             [
              0,
              "#0d0887"
             ],
             [
              0.1111111111111111,
              "#46039f"
             ],
             [
              0.2222222222222222,
              "#7201a8"
             ],
             [
              0.3333333333333333,
              "#9c179e"
             ],
             [
              0.4444444444444444,
              "#bd3786"
             ],
             [
              0.5555555555555556,
              "#d8576b"
             ],
             [
              0.6666666666666666,
              "#ed7953"
             ],
             [
              0.7777777777777778,
              "#fb9f3a"
             ],
             [
              0.8888888888888888,
              "#fdca26"
             ],
             [
              1,
              "#f0f921"
             ]
            ],
            "type": "histogram2d"
           }
          ],
          "histogram2dcontour": [
           {
            "colorbar": {
             "outlinewidth": 0,
             "ticks": ""
            },
            "colorscale": [
             [
              0,
              "#0d0887"
             ],
             [
              0.1111111111111111,
              "#46039f"
             ],
             [
              0.2222222222222222,
              "#7201a8"
             ],
             [
              0.3333333333333333,
              "#9c179e"
             ],
             [
              0.4444444444444444,
              "#bd3786"
             ],
             [
              0.5555555555555556,
              "#d8576b"
             ],
             [
              0.6666666666666666,
              "#ed7953"
             ],
             [
              0.7777777777777778,
              "#fb9f3a"
             ],
             [
              0.8888888888888888,
              "#fdca26"
             ],
             [
              1,
              "#f0f921"
             ]
            ],
            "type": "histogram2dcontour"
           }
          ],
          "mesh3d": [
           {
            "colorbar": {
             "outlinewidth": 0,
             "ticks": ""
            },
            "type": "mesh3d"
           }
          ],
          "parcoords": [
           {
            "line": {
             "colorbar": {
              "outlinewidth": 0,
              "ticks": ""
             }
            },
            "type": "parcoords"
           }
          ],
          "pie": [
           {
            "automargin": true,
            "type": "pie"
           }
          ],
          "scatter": [
           {
            "marker": {
             "line": {
              "color": "#283442"
             }
            },
            "type": "scatter"
           }
          ],
          "scatter3d": [
           {
            "line": {
             "colorbar": {
              "outlinewidth": 0,
              "ticks": ""
             }
            },
            "marker": {
             "colorbar": {
              "outlinewidth": 0,
              "ticks": ""
             }
            },
            "type": "scatter3d"
           }
          ],
          "scattercarpet": [
           {
            "marker": {
             "colorbar": {
              "outlinewidth": 0,
              "ticks": ""
             }
            },
            "type": "scattercarpet"
           }
          ],
          "scattergeo": [
           {
            "marker": {
             "colorbar": {
              "outlinewidth": 0,
              "ticks": ""
             }
            },
            "type": "scattergeo"
           }
          ],
          "scattergl": [
           {
            "marker": {
             "line": {
              "color": "#283442"
             }
            },
            "type": "scattergl"
           }
          ],
          "scattermap": [
           {
            "marker": {
             "colorbar": {
              "outlinewidth": 0,
              "ticks": ""
             }
            },
            "type": "scattermap"
           }
          ],
          "scattermapbox": [
           {
            "marker": {
             "colorbar": {
              "outlinewidth": 0,
              "ticks": ""
             }
            },
            "type": "scattermapbox"
           }
          ],
          "scatterpolar": [
           {
            "marker": {
             "colorbar": {
              "outlinewidth": 0,
              "ticks": ""
             }
            },
            "type": "scatterpolar"
           }
          ],
          "scatterpolargl": [
           {
            "marker": {
             "colorbar": {
              "outlinewidth": 0,
              "ticks": ""
             }
            },
            "type": "scatterpolargl"
           }
          ],
          "scatterternary": [
           {
            "marker": {
             "colorbar": {
              "outlinewidth": 0,
              "ticks": ""
             }
            },
            "type": "scatterternary"
           }
          ],
          "surface": [
           {
            "colorbar": {
             "outlinewidth": 0,
             "ticks": ""
            },
            "colorscale": [
             [
              0,
              "#0d0887"
             ],
             [
              0.1111111111111111,
              "#46039f"
             ],
             [
              0.2222222222222222,
              "#7201a8"
             ],
             [
              0.3333333333333333,
              "#9c179e"
             ],
             [
              0.4444444444444444,
              "#bd3786"
             ],
             [
              0.5555555555555556,
              "#d8576b"
             ],
             [
              0.6666666666666666,
              "#ed7953"
             ],
             [
              0.7777777777777778,
              "#fb9f3a"
             ],
             [
              0.8888888888888888,
              "#fdca26"
             ],
             [
              1,
              "#f0f921"
             ]
            ],
            "type": "surface"
           }
          ],
          "table": [
           {
            "cells": {
             "fill": {
              "color": "#506784"
             },
             "line": {
              "color": "rgb(17,17,17)"
             }
            },
            "header": {
             "fill": {
              "color": "#2a3f5f"
             },
             "line": {
              "color": "rgb(17,17,17)"
             }
            },
            "type": "table"
           }
          ]
         },
         "layout": {
          "annotationdefaults": {
           "arrowcolor": "#f2f5fa",
           "arrowhead": 0,
           "arrowwidth": 1
          },
          "autotypenumbers": "strict",
          "coloraxis": {
           "colorbar": {
            "outlinewidth": 0,
            "ticks": ""
           }
          },
          "colorscale": {
           "diverging": [
            [
             0,
             "#8e0152"
            ],
            [
             0.1,
             "#c51b7d"
            ],
            [
             0.2,
             "#de77ae"
            ],
            [
             0.3,
             "#f1b6da"
            ],
            [
             0.4,
             "#fde0ef"
            ],
            [
             0.5,
             "#f7f7f7"
            ],
            [
             0.6,
             "#e6f5d0"
            ],
            [
             0.7,
             "#b8e186"
            ],
            [
             0.8,
             "#7fbc41"
            ],
            [
             0.9,
             "#4d9221"
            ],
            [
             1,
             "#276419"
            ]
           ],
           "sequential": [
            [
             0,
             "#0d0887"
            ],
            [
             0.1111111111111111,
             "#46039f"
            ],
            [
             0.2222222222222222,
             "#7201a8"
            ],
            [
             0.3333333333333333,
             "#9c179e"
            ],
            [
             0.4444444444444444,
             "#bd3786"
            ],
            [
             0.5555555555555556,
             "#d8576b"
            ],
            [
             0.6666666666666666,
             "#ed7953"
            ],
            [
             0.7777777777777778,
             "#fb9f3a"
            ],
            [
             0.8888888888888888,
             "#fdca26"
            ],
            [
             1,
             "#f0f921"
            ]
           ],
           "sequentialminus": [
            [
             0,
             "#0d0887"
            ],
            [
             0.1111111111111111,
             "#46039f"
            ],
            [
             0.2222222222222222,
             "#7201a8"
            ],
            [
             0.3333333333333333,
             "#9c179e"
            ],
            [
             0.4444444444444444,
             "#bd3786"
            ],
            [
             0.5555555555555556,
             "#d8576b"
            ],
            [
             0.6666666666666666,
             "#ed7953"
            ],
            [
             0.7777777777777778,
             "#fb9f3a"
            ],
            [
             0.8888888888888888,
             "#fdca26"
            ],
            [
             1,
             "#f0f921"
            ]
           ]
          },
          "colorway": [
           "#636efa",
           "#EF553B",
           "#00cc96",
           "#ab63fa",
           "#FFA15A",
           "#19d3f3",
           "#FF6692",
           "#B6E880",
           "#FF97FF",
           "#FECB52"
          ],
          "font": {
           "color": "#f2f5fa"
          },
          "geo": {
           "bgcolor": "rgb(17,17,17)",
           "lakecolor": "rgb(17,17,17)",
           "landcolor": "rgb(17,17,17)",
           "showlakes": true,
           "showland": true,
           "subunitcolor": "#506784"
          },
          "hoverlabel": {
           "align": "left"
          },
          "hovermode": "closest",
          "mapbox": {
           "style": "dark"
          },
          "paper_bgcolor": "rgb(17,17,17)",
          "plot_bgcolor": "rgb(17,17,17)",
          "polar": {
           "angularaxis": {
            "gridcolor": "#506784",
            "linecolor": "#506784",
            "ticks": ""
           },
           "bgcolor": "rgb(17,17,17)",
           "radialaxis": {
            "gridcolor": "#506784",
            "linecolor": "#506784",
            "ticks": ""
           }
          },
          "scene": {
           "xaxis": {
            "backgroundcolor": "rgb(17,17,17)",
            "gridcolor": "#506784",
            "gridwidth": 2,
            "linecolor": "#506784",
            "showbackground": true,
            "ticks": "",
            "zerolinecolor": "#C8D4E3"
           },
           "yaxis": {
            "backgroundcolor": "rgb(17,17,17)",
            "gridcolor": "#506784",
            "gridwidth": 2,
            "linecolor": "#506784",
            "showbackground": true,
            "ticks": "",
            "zerolinecolor": "#C8D4E3"
           },
           "zaxis": {
            "backgroundcolor": "rgb(17,17,17)",
            "gridcolor": "#506784",
            "gridwidth": 2,
            "linecolor": "#506784",
            "showbackground": true,
            "ticks": "",
            "zerolinecolor": "#C8D4E3"
           }
          },
          "shapedefaults": {
           "line": {
            "color": "#f2f5fa"
           }
          },
          "sliderdefaults": {
           "bgcolor": "#C8D4E3",
           "bordercolor": "rgb(17,17,17)",
           "borderwidth": 1,
           "tickwidth": 0
          },
          "ternary": {
           "aaxis": {
            "gridcolor": "#506784",
            "linecolor": "#506784",
            "ticks": ""
           },
           "baxis": {
            "gridcolor": "#506784",
            "linecolor": "#506784",
            "ticks": ""
           },
           "bgcolor": "rgb(17,17,17)",
           "caxis": {
            "gridcolor": "#506784",
            "linecolor": "#506784",
            "ticks": ""
           }
          },
          "title": {
           "x": 0.05
          },
          "updatemenudefaults": {
           "bgcolor": "#506784",
           "borderwidth": 0
          },
          "xaxis": {
           "automargin": true,
           "gridcolor": "#283442",
           "linecolor": "#506784",
           "ticks": "",
           "title": {
            "standoff": 15
           },
           "zerolinecolor": "#283442",
           "zerolinewidth": 2
          },
          "yaxis": {
           "automargin": true,
           "gridcolor": "#283442",
           "linecolor": "#506784",
           "ticks": "",
           "title": {
            "standoff": 15
           },
           "zerolinecolor": "#283442",
           "zerolinewidth": 2
          }
         }
        },
        "title": {
         "text": "Total Profit Per Year"
        },
        "xaxis": {
         "anchor": "y",
         "domain": [
          0,
          1
         ],
         "title": {
          "text": "Year"
         },
         "type": "category"
        },
        "yaxis": {
         "anchor": "x",
         "domain": [
          0,
          1
         ],
         "title": {
          "text": "Total Profit"
         }
        }
       }
      }
     },
     "metadata": {},
     "output_type": "display_data"
    },
    {
     "data": {
      "text/html": [
       "<div>\n",
       "<style scoped>\n",
       "    .dataframe tbody tr th:only-of-type {\n",
       "        vertical-align: middle;\n",
       "    }\n",
       "\n",
       "    .dataframe tbody tr th {\n",
       "        vertical-align: top;\n",
       "    }\n",
       "\n",
       "    .dataframe thead th {\n",
       "        text-align: right;\n",
       "    }\n",
       "</style>\n",
       "<table border=\"1\" class=\"dataframe\">\n",
       "  <thead>\n",
       "    <tr style=\"text-align: right;\">\n",
       "      <th></th>\n",
       "      <th>state</th>\n",
       "      <th>symbol</th>\n",
       "      <th>order_type</th>\n",
       "      <th>volume</th>\n",
       "      <th>open_time</th>\n",
       "      <th>open_price</th>\n",
       "      <th>close_time</th>\n",
       "      <th>close_price</th>\n",
       "      <th>sl</th>\n",
       "      <th>tp</th>\n",
       "      <th>info</th>\n",
       "      <th>profit</th>\n",
       "      <th>commission</th>\n",
       "      <th>profit_net</th>\n",
       "      <th>profit_cumulative</th>\n",
       "      <th>balance</th>\n",
       "      <th>current_max</th>\n",
       "      <th>drawdown</th>\n",
       "    </tr>\n",
       "  </thead>\n",
       "  <tbody>\n",
       "    <tr>\n",
       "      <th>0</th>\n",
       "      <td>closed</td>\n",
       "      <td>EURUSD</td>\n",
       "      <td>buy</td>\n",
       "      <td>100000</td>\n",
       "      <td>2020-01-06 08:00:00</td>\n",
       "      <td>1.11624</td>\n",
       "      <td>2020-01-07 12:00:00</td>\n",
       "      <td>1.11846</td>\n",
       "      <td>0</td>\n",
       "      <td>0</td>\n",
       "      <td>{}</td>\n",
       "      <td>222.0</td>\n",
       "      <td>-7.0</td>\n",
       "      <td>215.0</td>\n",
       "      <td>215.0</td>\n",
       "      <td>10215.0</td>\n",
       "      <td>215.0</td>\n",
       "      <td>0.0</td>\n",
       "    </tr>\n",
       "    <tr>\n",
       "      <th>1</th>\n",
       "      <td>closed</td>\n",
       "      <td>EURUSD</td>\n",
       "      <td>sell</td>\n",
       "      <td>100000</td>\n",
       "      <td>2020-01-08 00:00:00</td>\n",
       "      <td>1.11519</td>\n",
       "      <td>2020-01-10 20:00:00</td>\n",
       "      <td>1.11224</td>\n",
       "      <td>0</td>\n",
       "      <td>0</td>\n",
       "      <td>{}</td>\n",
       "      <td>295.0</td>\n",
       "      <td>-7.0</td>\n",
       "      <td>288.0</td>\n",
       "      <td>503.0</td>\n",
       "      <td>10503.0</td>\n",
       "      <td>503.0</td>\n",
       "      <td>0.0</td>\n",
       "    </tr>\n",
       "    <tr>\n",
       "      <th>2</th>\n",
       "      <td>closed</td>\n",
       "      <td>EURUSD</td>\n",
       "      <td>sell</td>\n",
       "      <td>100000</td>\n",
       "      <td>2020-01-14 12:00:00</td>\n",
       "      <td>1.11314</td>\n",
       "      <td>2020-01-14 20:00:00</td>\n",
       "      <td>1.1131</td>\n",
       "      <td>0</td>\n",
       "      <td>0</td>\n",
       "      <td>{}</td>\n",
       "      <td>4.0</td>\n",
       "      <td>-7.0</td>\n",
       "      <td>-3.0</td>\n",
       "      <td>500.0</td>\n",
       "      <td>10500.0</td>\n",
       "      <td>503.0</td>\n",
       "      <td>-3.0</td>\n",
       "    </tr>\n",
       "    <tr>\n",
       "      <th>3</th>\n",
       "      <td>closed</td>\n",
       "      <td>EURUSD</td>\n",
       "      <td>sell</td>\n",
       "      <td>100000</td>\n",
       "      <td>2020-01-16 20:00:00</td>\n",
       "      <td>1.11348</td>\n",
       "      <td>2020-01-21 12:00:00</td>\n",
       "      <td>1.10907</td>\n",
       "      <td>0</td>\n",
       "      <td>0</td>\n",
       "      <td>{}</td>\n",
       "      <td>441.0</td>\n",
       "      <td>-7.0</td>\n",
       "      <td>434.0</td>\n",
       "      <td>934.0</td>\n",
       "      <td>10934.0</td>\n",
       "      <td>934.0</td>\n",
       "      <td>0.0</td>\n",
       "    </tr>\n",
       "    <tr>\n",
       "      <th>5</th>\n",
       "      <td>closed</td>\n",
       "      <td>EURUSD</td>\n",
       "      <td>sell</td>\n",
       "      <td>100000</td>\n",
       "      <td>2020-01-24 00:00:00</td>\n",
       "      <td>1.10531</td>\n",
       "      <td>2020-01-30 04:00:00</td>\n",
       "      <td>1.10112</td>\n",
       "      <td>0</td>\n",
       "      <td>0</td>\n",
       "      <td>{}</td>\n",
       "      <td>419.0</td>\n",
       "      <td>-7.0</td>\n",
       "      <td>412.0</td>\n",
       "      <td>1313.0</td>\n",
       "      <td>11313.0</td>\n",
       "      <td>1313.0</td>\n",
       "      <td>0.0</td>\n",
       "    </tr>\n",
       "    <tr>\n",
       "      <th>...</th>\n",
       "      <td>...</td>\n",
       "      <td>...</td>\n",
       "      <td>...</td>\n",
       "      <td>...</td>\n",
       "      <td>...</td>\n",
       "      <td>...</td>\n",
       "      <td>...</td>\n",
       "      <td>...</td>\n",
       "      <td>...</td>\n",
       "      <td>...</td>\n",
       "      <td>...</td>\n",
       "      <td>...</td>\n",
       "      <td>...</td>\n",
       "      <td>...</td>\n",
       "      <td>...</td>\n",
       "      <td>...</td>\n",
       "      <td>...</td>\n",
       "      <td>...</td>\n",
       "    </tr>\n",
       "    <tr>\n",
       "      <th>509</th>\n",
       "      <td>closed</td>\n",
       "      <td>EURUSD</td>\n",
       "      <td>buy</td>\n",
       "      <td>100000</td>\n",
       "      <td>2025-06-23 16:00:00</td>\n",
       "      <td>1.14676</td>\n",
       "      <td>2025-07-02 12:00:00</td>\n",
       "      <td>1.17757</td>\n",
       "      <td>0</td>\n",
       "      <td>0</td>\n",
       "      <td>{}</td>\n",
       "      <td>3081.0</td>\n",
       "      <td>-7.0</td>\n",
       "      <td>3074.0</td>\n",
       "      <td>182255.0</td>\n",
       "      <td>192255.0</td>\n",
       "      <td>182255.0</td>\n",
       "      <td>0.0</td>\n",
       "    </tr>\n",
       "    <tr>\n",
       "      <th>511</th>\n",
       "      <td>closed</td>\n",
       "      <td>EURUSD</td>\n",
       "      <td>buy</td>\n",
       "      <td>100000</td>\n",
       "      <td>2025-07-07 00:00:00</td>\n",
       "      <td>1.17771</td>\n",
       "      <td>2025-07-07 04:00:00</td>\n",
       "      <td>1.17797</td>\n",
       "      <td>0</td>\n",
       "      <td>0</td>\n",
       "      <td>{}</td>\n",
       "      <td>26.0</td>\n",
       "      <td>-7.0</td>\n",
       "      <td>19.0</td>\n",
       "      <td>182263.0</td>\n",
       "      <td>192263.0</td>\n",
       "      <td>182263.0</td>\n",
       "      <td>0.0</td>\n",
       "    </tr>\n",
       "    <tr>\n",
       "      <th>512</th>\n",
       "      <td>closed</td>\n",
       "      <td>EURUSD</td>\n",
       "      <td>sell</td>\n",
       "      <td>100000</td>\n",
       "      <td>2025-07-10 12:00:00</td>\n",
       "      <td>1.17279</td>\n",
       "      <td>2025-07-15 08:00:00</td>\n",
       "      <td>1.16759</td>\n",
       "      <td>0</td>\n",
       "      <td>0</td>\n",
       "      <td>{}</td>\n",
       "      <td>520.0</td>\n",
       "      <td>-7.0</td>\n",
       "      <td>513.0</td>\n",
       "      <td>182776.0</td>\n",
       "      <td>192776.0</td>\n",
       "      <td>182776.0</td>\n",
       "      <td>0.0</td>\n",
       "    </tr>\n",
       "    <tr>\n",
       "      <th>514</th>\n",
       "      <td>closed</td>\n",
       "      <td>EURUSD</td>\n",
       "      <td>buy</td>\n",
       "      <td>100000</td>\n",
       "      <td>2025-07-22 00:00:00</td>\n",
       "      <td>1.16894</td>\n",
       "      <td>2025-07-25 00:00:00</td>\n",
       "      <td>1.17442</td>\n",
       "      <td>0</td>\n",
       "      <td>0</td>\n",
       "      <td>{}</td>\n",
       "      <td>548.0</td>\n",
       "      <td>-7.0</td>\n",
       "      <td>541.0</td>\n",
       "      <td>183069.0</td>\n",
       "      <td>193069.0</td>\n",
       "      <td>183069.0</td>\n",
       "      <td>0.0</td>\n",
       "    </tr>\n",
       "    <tr>\n",
       "      <th>515</th>\n",
       "      <td>closed</td>\n",
       "      <td>EURUSD</td>\n",
       "      <td>sell</td>\n",
       "      <td>100000</td>\n",
       "      <td>2025-07-28 08:00:00</td>\n",
       "      <td>1.17474</td>\n",
       "      <td>2025-08-01 12:00:00</td>\n",
       "      <td>1.14066</td>\n",
       "      <td>0</td>\n",
       "      <td>0</td>\n",
       "      <td>{}</td>\n",
       "      <td>3408.0</td>\n",
       "      <td>-7.0</td>\n",
       "      <td>3401.0</td>\n",
       "      <td>186470.0</td>\n",
       "      <td>196470.0</td>\n",
       "      <td>186470.0</td>\n",
       "      <td>0.0</td>\n",
       "    </tr>\n",
       "  </tbody>\n",
       "</table>\n",
       "<p>352 rows × 18 columns</p>\n",
       "</div>"
      ],
      "text/plain": [
       "      state  symbol order_type  volume           open_time open_price  \\\n",
       "0    closed  EURUSD        buy  100000 2020-01-06 08:00:00    1.11624   \n",
       "1    closed  EURUSD       sell  100000 2020-01-08 00:00:00    1.11519   \n",
       "2    closed  EURUSD       sell  100000 2020-01-14 12:00:00    1.11314   \n",
       "3    closed  EURUSD       sell  100000 2020-01-16 20:00:00    1.11348   \n",
       "5    closed  EURUSD       sell  100000 2020-01-24 00:00:00    1.10531   \n",
       "..      ...     ...        ...     ...                 ...        ...   \n",
       "509  closed  EURUSD        buy  100000 2025-06-23 16:00:00    1.14676   \n",
       "511  closed  EURUSD        buy  100000 2025-07-07 00:00:00    1.17771   \n",
       "512  closed  EURUSD       sell  100000 2025-07-10 12:00:00    1.17279   \n",
       "514  closed  EURUSD        buy  100000 2025-07-22 00:00:00    1.16894   \n",
       "515  closed  EURUSD       sell  100000 2025-07-28 08:00:00    1.17474   \n",
       "\n",
       "             close_time close_price sl tp info  profit commission profit_net  \\\n",
       "0   2020-01-07 12:00:00     1.11846  0  0   {}   222.0       -7.0      215.0   \n",
       "1   2020-01-10 20:00:00     1.11224  0  0   {}   295.0       -7.0      288.0   \n",
       "2   2020-01-14 20:00:00      1.1131  0  0   {}     4.0       -7.0       -3.0   \n",
       "3   2020-01-21 12:00:00     1.10907  0  0   {}   441.0       -7.0      434.0   \n",
       "5   2020-01-30 04:00:00     1.10112  0  0   {}   419.0       -7.0      412.0   \n",
       "..                  ...         ... .. ..  ...     ...        ...        ...   \n",
       "509 2025-07-02 12:00:00     1.17757  0  0   {}  3081.0       -7.0     3074.0   \n",
       "511 2025-07-07 04:00:00     1.17797  0  0   {}    26.0       -7.0       19.0   \n",
       "512 2025-07-15 08:00:00     1.16759  0  0   {}   520.0       -7.0      513.0   \n",
       "514 2025-07-25 00:00:00     1.17442  0  0   {}   548.0       -7.0      541.0   \n",
       "515 2025-08-01 12:00:00     1.14066  0  0   {}  3408.0       -7.0     3401.0   \n",
       "\n",
       "    profit_cumulative   balance  current_max drawdown  \n",
       "0               215.0   10215.0        215.0      0.0  \n",
       "1               503.0   10503.0        503.0      0.0  \n",
       "2               500.0   10500.0        503.0     -3.0  \n",
       "3               934.0   10934.0        934.0      0.0  \n",
       "5              1313.0   11313.0       1313.0      0.0  \n",
       "..                ...       ...          ...      ...  \n",
       "509          182255.0  192255.0     182255.0      0.0  \n",
       "511          182263.0  192263.0     182263.0      0.0  \n",
       "512          182776.0  192776.0     182776.0      0.0  \n",
       "514          183069.0  193069.0     183069.0      0.0  \n",
       "515          186470.0  196470.0     186470.0      0.0  \n",
       "\n",
       "[352 rows x 18 columns]"
      ]
     },
     "metadata": {},
     "output_type": "display_data"
    },
    {
     "data": {
      "text/html": [
       "<div>\n",
       "<style scoped>\n",
       "    .dataframe tbody tr th:only-of-type {\n",
       "        vertical-align: middle;\n",
       "    }\n",
       "\n",
       "    .dataframe tbody tr th {\n",
       "        vertical-align: top;\n",
       "    }\n",
       "\n",
       "    .dataframe thead th {\n",
       "        text-align: right;\n",
       "    }\n",
       "</style>\n",
       "<table border=\"1\" class=\"dataframe\">\n",
       "  <thead>\n",
       "    <tr style=\"text-align: right;\">\n",
       "      <th></th>\n",
       "      <th>state</th>\n",
       "      <th>symbol</th>\n",
       "      <th>order_type</th>\n",
       "      <th>volume</th>\n",
       "      <th>open_time</th>\n",
       "      <th>open_price</th>\n",
       "      <th>close_time</th>\n",
       "      <th>close_price</th>\n",
       "      <th>sl</th>\n",
       "      <th>tp</th>\n",
       "      <th>info</th>\n",
       "      <th>profit</th>\n",
       "      <th>commission</th>\n",
       "      <th>profit_net</th>\n",
       "      <th>profit_cumulative</th>\n",
       "      <th>balance</th>\n",
       "      <th>current_max</th>\n",
       "      <th>drawdown</th>\n",
       "    </tr>\n",
       "  </thead>\n",
       "  <tbody>\n",
       "    <tr>\n",
       "      <th>4</th>\n",
       "      <td>closed</td>\n",
       "      <td>EURUSD</td>\n",
       "      <td>sell</td>\n",
       "      <td>100000</td>\n",
       "      <td>2020-01-22 00:00:00</td>\n",
       "      <td>1.10818</td>\n",
       "      <td>2020-01-23 12:00:00</td>\n",
       "      <td>1.10844</td>\n",
       "      <td>0</td>\n",
       "      <td>0</td>\n",
       "      <td>{}</td>\n",
       "      <td>-26.0</td>\n",
       "      <td>-7.0</td>\n",
       "      <td>-33.0</td>\n",
       "      <td>901.0</td>\n",
       "      <td>10901.0</td>\n",
       "      <td>934.0</td>\n",
       "      <td>-33.0</td>\n",
       "    </tr>\n",
       "    <tr>\n",
       "      <th>6</th>\n",
       "      <td>closed</td>\n",
       "      <td>EURUSD</td>\n",
       "      <td>buy</td>\n",
       "      <td>100000</td>\n",
       "      <td>2020-02-03 00:00:00</td>\n",
       "      <td>1.10932</td>\n",
       "      <td>2020-02-04 08:00:00</td>\n",
       "      <td>1.10585</td>\n",
       "      <td>0</td>\n",
       "      <td>0</td>\n",
       "      <td>{}</td>\n",
       "      <td>-347.0</td>\n",
       "      <td>-7.0</td>\n",
       "      <td>-354.0</td>\n",
       "      <td>959.0</td>\n",
       "      <td>10959.0</td>\n",
       "      <td>1313.0</td>\n",
       "      <td>-354.0</td>\n",
       "    </tr>\n",
       "    <tr>\n",
       "      <th>8</th>\n",
       "      <td>closed</td>\n",
       "      <td>EURUSD</td>\n",
       "      <td>sell</td>\n",
       "      <td>100000</td>\n",
       "      <td>2020-02-21 00:00:00</td>\n",
       "      <td>1.07846</td>\n",
       "      <td>2020-02-21 08:00:00</td>\n",
       "      <td>1.07931</td>\n",
       "      <td>0</td>\n",
       "      <td>0</td>\n",
       "      <td>{}</td>\n",
       "      <td>-85.0</td>\n",
       "      <td>-7.0</td>\n",
       "      <td>-92.0</td>\n",
       "      <td>3255.0</td>\n",
       "      <td>13255.0</td>\n",
       "      <td>3347.0</td>\n",
       "      <td>-92.0</td>\n",
       "    </tr>\n",
       "    <tr>\n",
       "      <th>11</th>\n",
       "      <td>closed</td>\n",
       "      <td>EURUSD</td>\n",
       "      <td>sell</td>\n",
       "      <td>100000</td>\n",
       "      <td>2020-03-16 00:00:00</td>\n",
       "      <td>1.10635</td>\n",
       "      <td>2020-03-16 12:00:00</td>\n",
       "      <td>1.12257</td>\n",
       "      <td>0</td>\n",
       "      <td>0</td>\n",
       "      <td>{}</td>\n",
       "      <td>-1622.0</td>\n",
       "      <td>-7.0</td>\n",
       "      <td>-1629.0</td>\n",
       "      <td>6624.0</td>\n",
       "      <td>16624.0</td>\n",
       "      <td>8253.0</td>\n",
       "      <td>-1629.0</td>\n",
       "    </tr>\n",
       "    <tr>\n",
       "      <th>13</th>\n",
       "      <td>closed</td>\n",
       "      <td>EURUSD</td>\n",
       "      <td>buy</td>\n",
       "      <td>100000</td>\n",
       "      <td>2020-03-27 00:00:00</td>\n",
       "      <td>1.10303</td>\n",
       "      <td>2020-03-30 16:00:00</td>\n",
       "      <td>1.10152</td>\n",
       "      <td>0</td>\n",
       "      <td>0</td>\n",
       "      <td>{}</td>\n",
       "      <td>-151.0</td>\n",
       "      <td>-7.0</td>\n",
       "      <td>-158.0</td>\n",
       "      <td>11172.0</td>\n",
       "      <td>21172.0</td>\n",
       "      <td>11330.0</td>\n",
       "      <td>-158.0</td>\n",
       "    </tr>\n",
       "    <tr>\n",
       "      <th>...</th>\n",
       "      <td>...</td>\n",
       "      <td>...</td>\n",
       "      <td>...</td>\n",
       "      <td>...</td>\n",
       "      <td>...</td>\n",
       "      <td>...</td>\n",
       "      <td>...</td>\n",
       "      <td>...</td>\n",
       "      <td>...</td>\n",
       "      <td>...</td>\n",
       "      <td>...</td>\n",
       "      <td>...</td>\n",
       "      <td>...</td>\n",
       "      <td>...</td>\n",
       "      <td>...</td>\n",
       "      <td>...</td>\n",
       "      <td>...</td>\n",
       "      <td>...</td>\n",
       "    </tr>\n",
       "    <tr>\n",
       "      <th>498</th>\n",
       "      <td>closed</td>\n",
       "      <td>EURUSD</td>\n",
       "      <td>sell</td>\n",
       "      <td>100000</td>\n",
       "      <td>2025-05-15 20:00:00</td>\n",
       "      <td>1.1181</td>\n",
       "      <td>2025-05-16 04:00:00</td>\n",
       "      <td>1.12049</td>\n",
       "      <td>0</td>\n",
       "      <td>0</td>\n",
       "      <td>{}</td>\n",
       "      <td>-239.0</td>\n",
       "      <td>-7.0</td>\n",
       "      <td>-246.0</td>\n",
       "      <td>176669.0</td>\n",
       "      <td>186669.0</td>\n",
       "      <td>176915.0</td>\n",
       "      <td>-246.0</td>\n",
       "    </tr>\n",
       "    <tr>\n",
       "      <th>499</th>\n",
       "      <td>closed</td>\n",
       "      <td>EURUSD</td>\n",
       "      <td>sell</td>\n",
       "      <td>100000</td>\n",
       "      <td>2025-05-19 00:00:00</td>\n",
       "      <td>1.11755</td>\n",
       "      <td>2025-05-19 08:00:00</td>\n",
       "      <td>1.11838</td>\n",
       "      <td>0</td>\n",
       "      <td>0</td>\n",
       "      <td>{}</td>\n",
       "      <td>-83.0</td>\n",
       "      <td>-7.0</td>\n",
       "      <td>-90.0</td>\n",
       "      <td>176579.0</td>\n",
       "      <td>186579.0</td>\n",
       "      <td>176915.0</td>\n",
       "      <td>-336.0</td>\n",
       "    </tr>\n",
       "    <tr>\n",
       "      <th>508</th>\n",
       "      <td>closed</td>\n",
       "      <td>EURUSD</td>\n",
       "      <td>buy</td>\n",
       "      <td>100000</td>\n",
       "      <td>2025-06-20 00:00:00</td>\n",
       "      <td>1.14918</td>\n",
       "      <td>2025-06-23 00:00:00</td>\n",
       "      <td>1.14562</td>\n",
       "      <td>0</td>\n",
       "      <td>0</td>\n",
       "      <td>{}</td>\n",
       "      <td>-356.0</td>\n",
       "      <td>-7.0</td>\n",
       "      <td>-363.0</td>\n",
       "      <td>179181.0</td>\n",
       "      <td>189181.0</td>\n",
       "      <td>179544.0</td>\n",
       "      <td>-363.0</td>\n",
       "    </tr>\n",
       "    <tr>\n",
       "      <th>510</th>\n",
       "      <td>closed</td>\n",
       "      <td>EURUSD</td>\n",
       "      <td>buy</td>\n",
       "      <td>100000</td>\n",
       "      <td>2025-07-03 00:00:00</td>\n",
       "      <td>1.17983</td>\n",
       "      <td>2025-07-03 12:00:00</td>\n",
       "      <td>1.17979</td>\n",
       "      <td>0</td>\n",
       "      <td>0</td>\n",
       "      <td>{}</td>\n",
       "      <td>-4.0</td>\n",
       "      <td>-7.0</td>\n",
       "      <td>-11.0</td>\n",
       "      <td>182244.0</td>\n",
       "      <td>192244.0</td>\n",
       "      <td>182255.0</td>\n",
       "      <td>-11.0</td>\n",
       "    </tr>\n",
       "    <tr>\n",
       "      <th>513</th>\n",
       "      <td>closed</td>\n",
       "      <td>EURUSD</td>\n",
       "      <td>sell</td>\n",
       "      <td>100000</td>\n",
       "      <td>2025-07-16 00:00:00</td>\n",
       "      <td>1.16005</td>\n",
       "      <td>2025-07-18 04:00:00</td>\n",
       "      <td>1.16246</td>\n",
       "      <td>0</td>\n",
       "      <td>0</td>\n",
       "      <td>{}</td>\n",
       "      <td>-241.0</td>\n",
       "      <td>-7.0</td>\n",
       "      <td>-248.0</td>\n",
       "      <td>182528.0</td>\n",
       "      <td>192528.0</td>\n",
       "      <td>182776.0</td>\n",
       "      <td>-248.0</td>\n",
       "    </tr>\n",
       "  </tbody>\n",
       "</table>\n",
       "<p>164 rows × 18 columns</p>\n",
       "</div>"
      ],
      "text/plain": [
       "      state  symbol order_type  volume           open_time open_price  \\\n",
       "4    closed  EURUSD       sell  100000 2020-01-22 00:00:00    1.10818   \n",
       "6    closed  EURUSD        buy  100000 2020-02-03 00:00:00    1.10932   \n",
       "8    closed  EURUSD       sell  100000 2020-02-21 00:00:00    1.07846   \n",
       "11   closed  EURUSD       sell  100000 2020-03-16 00:00:00    1.10635   \n",
       "13   closed  EURUSD        buy  100000 2020-03-27 00:00:00    1.10303   \n",
       "..      ...     ...        ...     ...                 ...        ...   \n",
       "498  closed  EURUSD       sell  100000 2025-05-15 20:00:00     1.1181   \n",
       "499  closed  EURUSD       sell  100000 2025-05-19 00:00:00    1.11755   \n",
       "508  closed  EURUSD        buy  100000 2025-06-20 00:00:00    1.14918   \n",
       "510  closed  EURUSD        buy  100000 2025-07-03 00:00:00    1.17983   \n",
       "513  closed  EURUSD       sell  100000 2025-07-16 00:00:00    1.16005   \n",
       "\n",
       "             close_time close_price sl tp info  profit commission profit_net  \\\n",
       "4   2020-01-23 12:00:00     1.10844  0  0   {}   -26.0       -7.0      -33.0   \n",
       "6   2020-02-04 08:00:00     1.10585  0  0   {}  -347.0       -7.0     -354.0   \n",
       "8   2020-02-21 08:00:00     1.07931  0  0   {}   -85.0       -7.0      -92.0   \n",
       "11  2020-03-16 12:00:00     1.12257  0  0   {} -1622.0       -7.0    -1629.0   \n",
       "13  2020-03-30 16:00:00     1.10152  0  0   {}  -151.0       -7.0     -158.0   \n",
       "..                  ...         ... .. ..  ...     ...        ...        ...   \n",
       "498 2025-05-16 04:00:00     1.12049  0  0   {}  -239.0       -7.0     -246.0   \n",
       "499 2025-05-19 08:00:00     1.11838  0  0   {}   -83.0       -7.0      -90.0   \n",
       "508 2025-06-23 00:00:00     1.14562  0  0   {}  -356.0       -7.0     -363.0   \n",
       "510 2025-07-03 12:00:00     1.17979  0  0   {}    -4.0       -7.0      -11.0   \n",
       "513 2025-07-18 04:00:00     1.16246  0  0   {}  -241.0       -7.0     -248.0   \n",
       "\n",
       "    profit_cumulative   balance  current_max drawdown  \n",
       "4               901.0   10901.0        934.0    -33.0  \n",
       "6               959.0   10959.0       1313.0   -354.0  \n",
       "8              3255.0   13255.0       3347.0    -92.0  \n",
       "11             6624.0   16624.0       8253.0  -1629.0  \n",
       "13            11172.0   21172.0      11330.0   -158.0  \n",
       "..                ...       ...          ...      ...  \n",
       "498          176669.0  186669.0     176915.0   -246.0  \n",
       "499          176579.0  186579.0     176915.0   -336.0  \n",
       "508          179181.0  189181.0     179544.0   -363.0  \n",
       "510          182244.0  192244.0     182255.0    -11.0  \n",
       "513          182528.0  192528.0     182776.0   -248.0  \n",
       "\n",
       "[164 rows x 18 columns]"
      ]
     },
     "metadata": {},
     "output_type": "display_data"
    },
    {
     "data": {
      "text/html": [
       "<div>\n",
       "<style scoped>\n",
       "    .dataframe tbody tr th:only-of-type {\n",
       "        vertical-align: middle;\n",
       "    }\n",
       "\n",
       "    .dataframe tbody tr th {\n",
       "        vertical-align: top;\n",
       "    }\n",
       "\n",
       "    .dataframe thead th {\n",
       "        text-align: right;\n",
       "    }\n",
       "</style>\n",
       "<table border=\"1\" class=\"dataframe\">\n",
       "  <thead>\n",
       "    <tr style=\"text-align: right;\">\n",
       "      <th></th>\n",
       "      <th>state</th>\n",
       "      <th>symbol</th>\n",
       "      <th>order_type</th>\n",
       "      <th>volume</th>\n",
       "      <th>open_time</th>\n",
       "      <th>open_price</th>\n",
       "      <th>close_time</th>\n",
       "      <th>close_price</th>\n",
       "      <th>sl</th>\n",
       "      <th>tp</th>\n",
       "      <th>...</th>\n",
       "      <th>commission</th>\n",
       "      <th>profit_net</th>\n",
       "      <th>profit_cumulative</th>\n",
       "      <th>balance</th>\n",
       "      <th>current_max</th>\n",
       "      <th>drawdown</th>\n",
       "      <th>dayofweek</th>\n",
       "      <th>hourofday</th>\n",
       "      <th>month</th>\n",
       "      <th>year</th>\n",
       "    </tr>\n",
       "  </thead>\n",
       "  <tbody>\n",
       "    <tr>\n",
       "      <th>0</th>\n",
       "      <td>closed</td>\n",
       "      <td>EURUSD</td>\n",
       "      <td>buy</td>\n",
       "      <td>100000</td>\n",
       "      <td>2020-01-06 08:00:00</td>\n",
       "      <td>1.11624</td>\n",
       "      <td>2020-01-07 12:00:00</td>\n",
       "      <td>1.11846</td>\n",
       "      <td>0</td>\n",
       "      <td>0</td>\n",
       "      <td>...</td>\n",
       "      <td>-7.0</td>\n",
       "      <td>215.0</td>\n",
       "      <td>215.0</td>\n",
       "      <td>10215.0</td>\n",
       "      <td>215.0</td>\n",
       "      <td>0.0</td>\n",
       "      <td>0</td>\n",
       "      <td>8</td>\n",
       "      <td>2020-01</td>\n",
       "      <td>2020</td>\n",
       "    </tr>\n",
       "    <tr>\n",
       "      <th>1</th>\n",
       "      <td>closed</td>\n",
       "      <td>EURUSD</td>\n",
       "      <td>sell</td>\n",
       "      <td>100000</td>\n",
       "      <td>2020-01-08 00:00:00</td>\n",
       "      <td>1.11519</td>\n",
       "      <td>2020-01-10 20:00:00</td>\n",
       "      <td>1.11224</td>\n",
       "      <td>0</td>\n",
       "      <td>0</td>\n",
       "      <td>...</td>\n",
       "      <td>-7.0</td>\n",
       "      <td>288.0</td>\n",
       "      <td>503.0</td>\n",
       "      <td>10503.0</td>\n",
       "      <td>503.0</td>\n",
       "      <td>0.0</td>\n",
       "      <td>2</td>\n",
       "      <td>0</td>\n",
       "      <td>2020-01</td>\n",
       "      <td>2020</td>\n",
       "    </tr>\n",
       "    <tr>\n",
       "      <th>2</th>\n",
       "      <td>closed</td>\n",
       "      <td>EURUSD</td>\n",
       "      <td>sell</td>\n",
       "      <td>100000</td>\n",
       "      <td>2020-01-14 12:00:00</td>\n",
       "      <td>1.11314</td>\n",
       "      <td>2020-01-14 20:00:00</td>\n",
       "      <td>1.1131</td>\n",
       "      <td>0</td>\n",
       "      <td>0</td>\n",
       "      <td>...</td>\n",
       "      <td>-7.0</td>\n",
       "      <td>-3.0</td>\n",
       "      <td>500.0</td>\n",
       "      <td>10500.0</td>\n",
       "      <td>503.0</td>\n",
       "      <td>-3.0</td>\n",
       "      <td>1</td>\n",
       "      <td>12</td>\n",
       "      <td>2020-01</td>\n",
       "      <td>2020</td>\n",
       "    </tr>\n",
       "    <tr>\n",
       "      <th>3</th>\n",
       "      <td>closed</td>\n",
       "      <td>EURUSD</td>\n",
       "      <td>sell</td>\n",
       "      <td>100000</td>\n",
       "      <td>2020-01-16 20:00:00</td>\n",
       "      <td>1.11348</td>\n",
       "      <td>2020-01-21 12:00:00</td>\n",
       "      <td>1.10907</td>\n",
       "      <td>0</td>\n",
       "      <td>0</td>\n",
       "      <td>...</td>\n",
       "      <td>-7.0</td>\n",
       "      <td>434.0</td>\n",
       "      <td>934.0</td>\n",
       "      <td>10934.0</td>\n",
       "      <td>934.0</td>\n",
       "      <td>0.0</td>\n",
       "      <td>3</td>\n",
       "      <td>20</td>\n",
       "      <td>2020-01</td>\n",
       "      <td>2020</td>\n",
       "    </tr>\n",
       "    <tr>\n",
       "      <th>4</th>\n",
       "      <td>closed</td>\n",
       "      <td>EURUSD</td>\n",
       "      <td>sell</td>\n",
       "      <td>100000</td>\n",
       "      <td>2020-01-22 00:00:00</td>\n",
       "      <td>1.10818</td>\n",
       "      <td>2020-01-23 12:00:00</td>\n",
       "      <td>1.10844</td>\n",
       "      <td>0</td>\n",
       "      <td>0</td>\n",
       "      <td>...</td>\n",
       "      <td>-7.0</td>\n",
       "      <td>-33.0</td>\n",
       "      <td>901.0</td>\n",
       "      <td>10901.0</td>\n",
       "      <td>934.0</td>\n",
       "      <td>-33.0</td>\n",
       "      <td>2</td>\n",
       "      <td>0</td>\n",
       "      <td>2020-01</td>\n",
       "      <td>2020</td>\n",
       "    </tr>\n",
       "    <tr>\n",
       "      <th>...</th>\n",
       "      <td>...</td>\n",
       "      <td>...</td>\n",
       "      <td>...</td>\n",
       "      <td>...</td>\n",
       "      <td>...</td>\n",
       "      <td>...</td>\n",
       "      <td>...</td>\n",
       "      <td>...</td>\n",
       "      <td>...</td>\n",
       "      <td>...</td>\n",
       "      <td>...</td>\n",
       "      <td>...</td>\n",
       "      <td>...</td>\n",
       "      <td>...</td>\n",
       "      <td>...</td>\n",
       "      <td>...</td>\n",
       "      <td>...</td>\n",
       "      <td>...</td>\n",
       "      <td>...</td>\n",
       "      <td>...</td>\n",
       "      <td>...</td>\n",
       "    </tr>\n",
       "    <tr>\n",
       "      <th>511</th>\n",
       "      <td>closed</td>\n",
       "      <td>EURUSD</td>\n",
       "      <td>buy</td>\n",
       "      <td>100000</td>\n",
       "      <td>2025-07-07 00:00:00</td>\n",
       "      <td>1.17771</td>\n",
       "      <td>2025-07-07 04:00:00</td>\n",
       "      <td>1.17797</td>\n",
       "      <td>0</td>\n",
       "      <td>0</td>\n",
       "      <td>...</td>\n",
       "      <td>-7.0</td>\n",
       "      <td>19.0</td>\n",
       "      <td>182263.0</td>\n",
       "      <td>192263.0</td>\n",
       "      <td>182263.0</td>\n",
       "      <td>0.0</td>\n",
       "      <td>0</td>\n",
       "      <td>0</td>\n",
       "      <td>2025-07</td>\n",
       "      <td>2025</td>\n",
       "    </tr>\n",
       "    <tr>\n",
       "      <th>512</th>\n",
       "      <td>closed</td>\n",
       "      <td>EURUSD</td>\n",
       "      <td>sell</td>\n",
       "      <td>100000</td>\n",
       "      <td>2025-07-10 12:00:00</td>\n",
       "      <td>1.17279</td>\n",
       "      <td>2025-07-15 08:00:00</td>\n",
       "      <td>1.16759</td>\n",
       "      <td>0</td>\n",
       "      <td>0</td>\n",
       "      <td>...</td>\n",
       "      <td>-7.0</td>\n",
       "      <td>513.0</td>\n",
       "      <td>182776.0</td>\n",
       "      <td>192776.0</td>\n",
       "      <td>182776.0</td>\n",
       "      <td>0.0</td>\n",
       "      <td>3</td>\n",
       "      <td>12</td>\n",
       "      <td>2025-07</td>\n",
       "      <td>2025</td>\n",
       "    </tr>\n",
       "    <tr>\n",
       "      <th>513</th>\n",
       "      <td>closed</td>\n",
       "      <td>EURUSD</td>\n",
       "      <td>sell</td>\n",
       "      <td>100000</td>\n",
       "      <td>2025-07-16 00:00:00</td>\n",
       "      <td>1.16005</td>\n",
       "      <td>2025-07-18 04:00:00</td>\n",
       "      <td>1.16246</td>\n",
       "      <td>0</td>\n",
       "      <td>0</td>\n",
       "      <td>...</td>\n",
       "      <td>-7.0</td>\n",
       "      <td>-248.0</td>\n",
       "      <td>182528.0</td>\n",
       "      <td>192528.0</td>\n",
       "      <td>182776.0</td>\n",
       "      <td>-248.0</td>\n",
       "      <td>2</td>\n",
       "      <td>0</td>\n",
       "      <td>2025-07</td>\n",
       "      <td>2025</td>\n",
       "    </tr>\n",
       "    <tr>\n",
       "      <th>514</th>\n",
       "      <td>closed</td>\n",
       "      <td>EURUSD</td>\n",
       "      <td>buy</td>\n",
       "      <td>100000</td>\n",
       "      <td>2025-07-22 00:00:00</td>\n",
       "      <td>1.16894</td>\n",
       "      <td>2025-07-25 00:00:00</td>\n",
       "      <td>1.17442</td>\n",
       "      <td>0</td>\n",
       "      <td>0</td>\n",
       "      <td>...</td>\n",
       "      <td>-7.0</td>\n",
       "      <td>541.0</td>\n",
       "      <td>183069.0</td>\n",
       "      <td>193069.0</td>\n",
       "      <td>183069.0</td>\n",
       "      <td>0.0</td>\n",
       "      <td>1</td>\n",
       "      <td>0</td>\n",
       "      <td>2025-07</td>\n",
       "      <td>2025</td>\n",
       "    </tr>\n",
       "    <tr>\n",
       "      <th>515</th>\n",
       "      <td>closed</td>\n",
       "      <td>EURUSD</td>\n",
       "      <td>sell</td>\n",
       "      <td>100000</td>\n",
       "      <td>2025-07-28 08:00:00</td>\n",
       "      <td>1.17474</td>\n",
       "      <td>2025-08-01 12:00:00</td>\n",
       "      <td>1.14066</td>\n",
       "      <td>0</td>\n",
       "      <td>0</td>\n",
       "      <td>...</td>\n",
       "      <td>-7.0</td>\n",
       "      <td>3401.0</td>\n",
       "      <td>186470.0</td>\n",
       "      <td>196470.0</td>\n",
       "      <td>186470.0</td>\n",
       "      <td>0.0</td>\n",
       "      <td>0</td>\n",
       "      <td>8</td>\n",
       "      <td>2025-08</td>\n",
       "      <td>2025</td>\n",
       "    </tr>\n",
       "  </tbody>\n",
       "</table>\n",
       "<p>516 rows × 22 columns</p>\n",
       "</div>"
      ],
      "text/plain": [
       "      state  symbol order_type  volume           open_time open_price  \\\n",
       "0    closed  EURUSD        buy  100000 2020-01-06 08:00:00    1.11624   \n",
       "1    closed  EURUSD       sell  100000 2020-01-08 00:00:00    1.11519   \n",
       "2    closed  EURUSD       sell  100000 2020-01-14 12:00:00    1.11314   \n",
       "3    closed  EURUSD       sell  100000 2020-01-16 20:00:00    1.11348   \n",
       "4    closed  EURUSD       sell  100000 2020-01-22 00:00:00    1.10818   \n",
       "..      ...     ...        ...     ...                 ...        ...   \n",
       "511  closed  EURUSD        buy  100000 2025-07-07 00:00:00    1.17771   \n",
       "512  closed  EURUSD       sell  100000 2025-07-10 12:00:00    1.17279   \n",
       "513  closed  EURUSD       sell  100000 2025-07-16 00:00:00    1.16005   \n",
       "514  closed  EURUSD        buy  100000 2025-07-22 00:00:00    1.16894   \n",
       "515  closed  EURUSD       sell  100000 2025-07-28 08:00:00    1.17474   \n",
       "\n",
       "             close_time close_price sl tp  ... commission  profit_net  \\\n",
       "0   2020-01-07 12:00:00     1.11846  0  0  ...       -7.0       215.0   \n",
       "1   2020-01-10 20:00:00     1.11224  0  0  ...       -7.0       288.0   \n",
       "2   2020-01-14 20:00:00      1.1131  0  0  ...       -7.0        -3.0   \n",
       "3   2020-01-21 12:00:00     1.10907  0  0  ...       -7.0       434.0   \n",
       "4   2020-01-23 12:00:00     1.10844  0  0  ...       -7.0       -33.0   \n",
       "..                  ...         ... .. ..  ...        ...         ...   \n",
       "511 2025-07-07 04:00:00     1.17797  0  0  ...       -7.0        19.0   \n",
       "512 2025-07-15 08:00:00     1.16759  0  0  ...       -7.0       513.0   \n",
       "513 2025-07-18 04:00:00     1.16246  0  0  ...       -7.0      -248.0   \n",
       "514 2025-07-25 00:00:00     1.17442  0  0  ...       -7.0       541.0   \n",
       "515 2025-08-01 12:00:00     1.14066  0  0  ...       -7.0      3401.0   \n",
       "\n",
       "    profit_cumulative   balance current_max drawdown  dayofweek hourofday  \\\n",
       "0               215.0   10215.0       215.0      0.0          0         8   \n",
       "1               503.0   10503.0       503.0      0.0          2         0   \n",
       "2               500.0   10500.0       503.0     -3.0          1        12   \n",
       "3               934.0   10934.0       934.0      0.0          3        20   \n",
       "4               901.0   10901.0       934.0    -33.0          2         0   \n",
       "..                ...       ...         ...      ...        ...       ...   \n",
       "511          182263.0  192263.0    182263.0      0.0          0         0   \n",
       "512          182776.0  192776.0    182776.0      0.0          3        12   \n",
       "513          182528.0  192528.0    182776.0   -248.0          2         0   \n",
       "514          183069.0  193069.0    183069.0      0.0          1         0   \n",
       "515          186470.0  196470.0    186470.0      0.0          0         8   \n",
       "\n",
       "       month  year  \n",
       "0    2020-01  2020  \n",
       "1    2020-01  2020  \n",
       "2    2020-01  2020  \n",
       "3    2020-01  2020  \n",
       "4    2020-01  2020  \n",
       "..       ...   ...  \n",
       "511  2025-07  2025  \n",
       "512  2025-07  2025  \n",
       "513  2025-07  2025  \n",
       "514  2025-07  2025  \n",
       "515  2025-08  2025  \n",
       "\n",
       "[516 rows x 22 columns]"
      ]
     },
     "metadata": {},
     "output_type": "display_data"
    },
    {
     "data": {
      "application/vnd.plotly.v1+json": {
       "config": {
        "plotlyServerURL": "https://plot.ly"
       },
       "data": [
        {
         "hovertemplate": "close_time=%{x}<br>drawdown=%{y}<extra></extra>",
         "legendgroup": "",
         "line": {
          "color": "#636efa",
          "dash": "solid"
         },
         "marker": {
          "symbol": "circle"
         },
         "mode": "lines",
         "name": "",
         "orientation": "v",
         "showlegend": false,
         "type": "scatter",
         "x": [
          "2020-01-07T12:00:00.000000000",
          "2020-01-10T20:00:00.000000000",
          "2020-01-14T20:00:00.000000000",
          "2020-01-21T12:00:00.000000000",
          "2020-01-23T12:00:00.000000000",
          "2020-01-30T04:00:00.000000000",
          "2020-02-04T08:00:00.000000000",
          "2020-02-20T16:00:00.000000000",
          "2020-02-21T08:00:00.000000000",
          "2020-03-04T12:00:00.000000000",
          "2020-03-10T12:00:00.000000000",
          "2020-03-16T12:00:00.000000000",
          "2020-03-23T12:00:00.000000000",
          "2020-03-30T16:00:00.000000000",
          "2020-04-07T04:00:00.000000000",
          "2020-04-09T12:00:00.000000000",
          "2020-04-13T12:00:00.000000000",
          "2020-04-15T12:00:00.000000000",
          "2020-04-17T20:00:00.000000000",
          "2020-04-20T08:00:00.000000000",
          "2020-04-22T08:00:00.000000000",
          "2020-04-24T20:00:00.000000000",
          "2020-04-29T04:00:00.000000000",
          "2020-05-04T12:00:00.000000000",
          "2020-05-07T20:00:00.000000000",
          "2020-05-12T12:00:00.000000000",
          "2020-05-15T12:00:00.000000000",
          "2020-05-21T20:00:00.000000000",
          "2020-06-08T12:00:00.000000000",
          "2020-06-11T20:00:00.000000000",
          "2020-06-16T16:00:00.000000000",
          "2020-06-22T12:00:00.000000000",
          "2020-06-24T16:00:00.000000000",
          "2020-06-29T04:00:00.000000000",
          "2020-06-30T20:00:00.000000000",
          "2020-07-01T16:00:00.000000000",
          "2020-07-02T20:00:00.000000000",
          "2020-07-06T00:00:00.000000000",
          "2020-07-07T20:00:00.000000000",
          "2020-07-09T20:00:00.000000000",
          "2020-07-16T20:00:00.000000000",
          "2020-07-29T00:00:00.000000000",
          "2020-07-31T20:00:00.000000000",
          "2020-08-07T04:00:00.000000000",
          "2020-08-11T12:00:00.000000000",
          "2020-08-12T12:00:00.000000000",
          "2020-08-19T16:00:00.000000000",
          "2020-08-24T12:00:00.000000000",
          "2020-08-25T08:00:00.000000000",
          "2020-08-26T20:00:00.000000000",
          "2020-08-27T20:00:00.000000000",
          "2020-09-01T20:00:00.000000000",
          "2020-09-04T08:00:00.000000000",
          "2020-09-09T16:00:00.000000000",
          "2020-09-15T20:00:00.000000000",
          "2020-09-17T20:00:00.000000000",
          "2020-09-21T08:00:00.000000000",
          "2020-09-28T12:00:00.000000000",
          "2020-10-05T04:00:00.000000000",
          "2020-10-07T00:00:00.000000000",
          "2020-10-07T20:00:00.000000000",
          "2020-10-08T12:00:00.000000000",
          "2020-10-13T04:00:00.000000000",
          "2020-10-16T16:00:00.000000000",
          "2020-10-19T08:00:00.000000000",
          "2020-10-22T12:00:00.000000000",
          "2020-10-26T08:00:00.000000000",
          "2020-11-03T08:00:00.000000000",
          "2020-11-04T12:00:00.000000000",
          "2020-11-09T20:00:00.000000000",
          "2020-11-18T20:00:00.000000000",
          "2020-11-20T20:00:00.000000000",
          "2020-11-23T16:00:00.000000000",
          "2020-11-30T20:00:00.000000000",
          "2020-12-04T20:00:00.000000000",
          "2020-12-07T20:00:00.000000000",
          "2020-12-09T16:00:00.000000000",
          "2020-12-21T00:00:00.000000000",
          "2020-12-22T04:00:00.000000000",
          "2020-12-24T12:00:00.000000000",
          "2020-12-31T16:00:00.000000000",
          "2021-01-04T20:00:00.000000000",
          "2021-01-07T08:00:00.000000000",
          "2021-01-12T20:00:00.000000000",
          "2021-01-19T08:00:00.000000000",
          "2021-01-21T00:00:00.000000000",
          "2021-01-26T16:00:00.000000000",
          "2021-01-29T12:00:00.000000000",
          "2021-02-05T16:00:00.000000000",
          "2021-02-12T08:00:00.000000000",
          "2021-02-16T16:00:00.000000000",
          "2021-02-18T16:00:00.000000000",
          "2021-02-24T12:00:00.000000000",
          "2021-02-26T00:00:00.000000000",
          "2021-03-02T20:00:00.000000000",
          "2021-03-09T12:00:00.000000000",
          "2021-03-10T08:00:00.000000000",
          "2021-03-12T20:00:00.000000000",
          "2021-03-17T20:00:00.000000000",
          "2021-03-22T12:00:00.000000000",
          "2021-04-01T12:00:00.000000000",
          "2021-04-05T16:00:00.000000000",
          "2021-04-09T12:00:00.000000000",
          "2021-04-12T04:00:00.000000000",
          "2021-04-13T04:00:00.000000000",
          "2021-04-16T00:00:00.000000000",
          "2021-04-19T00:00:00.000000000",
          "2021-04-21T08:00:00.000000000",
          "2021-04-22T08:00:00.000000000",
          "2021-04-27T08:00:00.000000000",
          "2021-04-30T08:00:00.000000000",
          "2021-05-06T08:00:00.000000000",
          "2021-05-12T00:00:00.000000000",
          "2021-05-14T08:00:00.000000000",
          "2021-05-19T20:00:00.000000000",
          "2021-05-21T16:00:00.000000000",
          "2021-05-26T16:00:00.000000000",
          "2021-06-02T08:00:00.000000000",
          "2021-06-04T16:00:00.000000000",
          "2021-06-09T04:00:00.000000000",
          "2021-06-11T04:00:00.000000000",
          "2021-06-15T08:00:00.000000000",
          "2021-06-21T16:00:00.000000000",
          "2021-06-25T04:00:00.000000000",
          "2021-07-02T20:00:00.000000000",
          "2021-07-08T12:00:00.000000000",
          "2021-07-14T16:00:00.000000000",
          "2021-07-16T00:00:00.000000000",
          "2021-07-21T20:00:00.000000000",
          "2021-07-26T08:00:00.000000000",
          "2021-07-28T16:00:00.000000000",
          "2021-07-30T20:00:00.000000000",
          "2021-08-02T16:00:00.000000000",
          "2021-08-03T16:00:00.000000000",
          "2021-08-11T16:00:00.000000000",
          "2021-08-20T20:00:00.000000000",
          "2021-08-26T20:00:00.000000000",
          "2021-08-27T12:00:00.000000000",
          "2021-09-01T04:00:00.000000000",
          "2021-09-06T08:00:00.000000000",
          "2021-09-07T08:00:00.000000000",
          "2021-09-10T00:00:00.000000000",
          "2021-09-10T20:00:00.000000000",
          "2021-09-14T08:00:00.000000000",
          "2021-09-15T08:00:00.000000000",
          "2021-09-21T12:00:00.000000000",
          "2021-09-22T08:00:00.000000000",
          "2021-09-23T12:00:00.000000000",
          "2021-10-01T16:00:00.000000000",
          "2021-10-08T12:00:00.000000000",
          "2021-10-13T16:00:00.000000000",
          "2021-10-18T00:00:00.000000000",
          "2021-10-21T12:00:00.000000000",
          "2021-10-25T12:00:00.000000000",
          "2021-10-28T00:00:00.000000000",
          "2021-10-29T16:00:00.000000000",
          "2021-11-02T08:00:00.000000000",
          "2021-11-03T20:00:00.000000000",
          "2021-11-08T08:00:00.000000000",
          "2021-11-15T04:00:00.000000000",
          "2021-11-18T12:00:00.000000000",
          "2021-11-26T04:00:00.000000000",
          "2021-12-02T00:00:00.000000000",
          "2021-12-02T16:00:00.000000000",
          "2021-12-08T04:00:00.000000000",
          "2021-12-09T20:00:00.000000000",
          "2021-12-13T00:00:00.000000000",
          "2021-12-14T12:00:00.000000000",
          "2021-12-16T00:00:00.000000000",
          "2021-12-21T08:00:00.000000000",
          "2021-12-22T08:00:00.000000000",
          "2021-12-24T16:00:00.000000000",
          "2021-12-28T16:00:00.000000000",
          "2021-12-30T08:00:00.000000000",
          "2021-12-31T04:00:00.000000000",
          "2022-01-03T16:00:00.000000000",
          "2022-01-05T12:00:00.000000000",
          "2022-01-06T12:00:00.000000000",
          "2022-01-07T12:00:00.000000000",
          "2022-01-10T12:00:00.000000000",
          "2022-01-14T16:00:00.000000000",
          "2022-01-21T12:00:00.000000000",
          "2022-01-31T08:00:00.000000000",
          "2022-02-07T16:00:00.000000000",
          "2022-02-10T00:00:00.000000000",
          "2022-02-10T12:00:00.000000000",
          "2022-02-15T12:00:00.000000000",
          "2022-02-17T16:00:00.000000000",
          "2022-02-18T04:00:00.000000000",
          "2022-02-21T04:00:00.000000000",
          "2022-02-22T16:00:00.000000000",
          "2022-02-23T08:00:00.000000000",
          "2022-02-25T16:00:00.000000000",
          "2022-02-28T12:00:00.000000000",
          "2022-03-01T08:00:00.000000000",
          "2022-03-08T16:00:00.000000000",
          "2022-03-15T04:00:00.000000000",
          "2022-03-18T12:00:00.000000000",
          "2022-03-23T12:00:00.000000000",
          "2022-03-25T16:00:00.000000000",
          "2022-03-29T08:00:00.000000000",
          "2022-03-31T12:00:00.000000000",
          "2022-04-11T00:00:00.000000000",
          "2022-04-13T20:00:00.000000000",
          "2022-04-19T12:00:00.000000000",
          "2022-04-20T04:00:00.000000000",
          "2022-04-29T08:00:00.000000000",
          "2022-05-02T08:00:00.000000000",
          "2022-05-03T12:00:00.000000000",
          "2022-05-04T12:00:00.000000000",
          "2022-05-06T12:00:00.000000000",
          "2022-05-09T16:00:00.000000000",
          "2022-05-11T08:00:00.000000000",
          "2022-05-16T08:00:00.000000000",
          "2022-05-19T12:00:00.000000000",
          "2022-05-25T12:00:00.000000000",
          "2022-05-31T08:00:00.000000000",
          "2022-06-06T16:00:00.000000000",
          "2022-06-09T16:00:00.000000000",
          "2022-06-15T08:00:00.000000000",
          "2022-06-16T16:00:00.000000000",
          "2022-06-21T00:00:00.000000000",
          "2022-06-22T16:00:00.000000000",
          "2022-06-24T08:00:00.000000000",
          "2022-06-28T16:00:00.000000000",
          "2022-06-30T20:00:00.000000000",
          "2022-07-04T12:00:00.000000000",
          "2022-07-08T20:00:00.000000000",
          "2022-07-13T16:00:00.000000000",
          "2022-07-15T12:00:00.000000000",
          "2022-07-20T20:00:00.000000000",
          "2022-07-21T16:00:00.000000000",
          "2022-07-22T04:00:00.000000000",
          "2022-07-26T12:00:00.000000000",
          "2022-07-28T16:00:00.000000000",
          "2022-08-02T12:00:00.000000000",
          "2022-08-04T12:00:00.000000000",
          "2022-08-05T12:00:00.000000000",
          "2022-08-08T16:00:00.000000000",
          "2022-08-12T12:00:00.000000000",
          "2022-08-17T16:00:00.000000000",
          "2022-08-18T12:00:00.000000000",
          "2022-08-24T20:00:00.000000000",
          "2022-08-26T08:00:00.000000000",
          "2022-08-29T12:00:00.000000000",
          "2022-08-31T16:00:00.000000000",
          "2022-09-06T04:00:00.000000000",
          "2022-09-07T16:00:00.000000000",
          "2022-09-13T12:00:00.000000000",
          "2022-09-15T16:00:00.000000000",
          "2022-09-16T08:00:00.000000000",
          "2022-09-19T08:00:00.000000000",
          "2022-09-20T12:00:00.000000000",
          "2022-09-28T16:00:00.000000000",
          "2022-10-05T16:00:00.000000000",
          "2022-10-06T08:00:00.000000000",
          "2022-10-11T16:00:00.000000000",
          "2022-10-13T00:00:00.000000000",
          "2022-10-13T16:00:00.000000000",
          "2022-10-17T04:00:00.000000000",
          "2022-10-19T12:00:00.000000000",
          "2022-10-21T16:00:00.000000000",
          "2022-10-27T16:00:00.000000000",
          "2022-11-01T16:00:00.000000000",
          "2022-11-02T12:00:00.000000000",
          "2022-11-04T16:00:00.000000000",
          "2022-11-09T20:00:00.000000000",
          "2022-11-17T08:00:00.000000000",
          "2022-11-18T12:00:00.000000000",
          "2022-11-25T12:00:00.000000000",
          "2022-11-28T20:00:00.000000000",
          "2022-12-05T20:00:00.000000000",
          "2022-12-12T00:00:00.000000000",
          "2022-12-12T20:00:00.000000000",
          "2022-12-15T20:00:00.000000000",
          "2022-12-16T08:00:00.000000000",
          "2022-12-21T16:00:00.000000000",
          "2022-12-22T16:00:00.000000000",
          "2022-12-28T20:00:00.000000000",
          "2023-01-02T16:00:00.000000000",
          "2023-01-05T00:00:00.000000000",
          "2023-01-06T16:00:00.000000000",
          "2023-01-16T12:00:00.000000000",
          "2023-01-17T16:00:00.000000000",
          "2023-01-18T20:00:00.000000000",
          "2023-01-19T16:00:00.000000000",
          "2023-01-24T12:00:00.000000000",
          "2023-01-25T12:00:00.000000000",
          "2023-01-26T16:00:00.000000000",
          "2023-01-30T16:00:00.000000000",
          "2023-01-31T20:00:00.000000000",
          "2023-02-02T20:00:00.000000000",
          "2023-02-08T08:00:00.000000000",
          "2023-02-09T04:00:00.000000000",
          "2023-02-13T20:00:00.000000000",
          "2023-02-17T20:00:00.000000000",
          "2023-02-27T16:00:00.000000000",
          "2023-03-01T04:00:00.000000000",
          "2023-03-03T20:00:00.000000000",
          "2023-03-07T16:00:00.000000000",
          "2023-03-09T16:00:00.000000000",
          "2023-03-15T12:00:00.000000000",
          "2023-03-17T04:00:00.000000000",
          "2023-03-24T04:00:00.000000000",
          "2023-03-31T20:00:00.000000000",
          "2023-04-05T20:00:00.000000000",
          "2023-04-07T00:00:00.000000000",
          "2023-04-14T16:00:00.000000000",
          "2023-04-19T12:00:00.000000000",
          "2023-04-21T08:00:00.000000000",
          "2023-04-25T16:00:00.000000000",
          "2023-04-27T16:00:00.000000000",
          "2023-04-28T04:00:00.000000000",
          "2023-05-02T20:00:00.000000000",
          "2023-05-04T16:00:00.000000000",
          "2023-05-08T20:00:00.000000000",
          "2023-05-10T16:00:00.000000000",
          "2023-05-16T08:00:00.000000000",
          "2023-05-19T16:00:00.000000000",
          "2023-05-29T08:00:00.000000000",
          "2023-05-30T16:00:00.000000000",
          "2023-06-01T12:00:00.000000000",
          "2023-06-07T12:00:00.000000000",
          "2023-06-12T00:00:00.000000000",
          "2023-06-12T16:00:00.000000000",
          "2023-06-19T16:00:00.000000000",
          "2023-06-23T04:00:00.000000000",
          "2023-06-28T16:00:00.000000000",
          "2023-06-30T16:00:00.000000000",
          "2023-07-06T20:00:00.000000000",
          "2023-07-18T16:00:00.000000000",
          "2023-07-26T12:00:00.000000000",
          "2023-07-31T12:00:00.000000000",
          "2023-08-04T12:00:00.000000000",
          "2023-08-09T12:00:00.000000000",
          "2023-08-10T04:00:00.000000000",
          "2023-08-11T04:00:00.000000000",
          "2023-08-16T08:00:00.000000000",
          "2023-08-21T04:00:00.000000000",
          "2023-08-24T00:00:00.000000000",
          "2023-08-28T16:00:00.000000000",
          "2023-08-29T16:00:00.000000000",
          "2023-08-31T12:00:00.000000000",
          "2023-09-11T00:00:00.000000000",
          "2023-09-12T20:00:00.000000000",
          "2023-09-14T04:00:00.000000000",
          "2023-09-18T16:00:00.000000000",
          "2023-09-25T04:00:00.000000000",
          "2023-09-28T20:00:00.000000000",
          "2023-10-04T12:00:00.000000000",
          "2023-10-09T20:00:00.000000000",
          "2023-10-12T12:00:00.000000000",
          "2023-10-16T16:00:00.000000000",
          "2023-10-18T16:00:00.000000000",
          "2023-10-24T16:00:00.000000000",
          "2023-10-27T16:00:00.000000000",
          "2023-10-31T20:00:00.000000000",
          "2023-11-02T04:00:00.000000000",
          "2023-11-07T08:00:00.000000000",
          "2023-11-09T20:00:00.000000000",
          "2023-11-13T12:00:00.000000000",
          "2023-11-16T20:00:00.000000000",
          "2023-11-21T20:00:00.000000000",
          "2023-11-23T12:00:00.000000000",
          "2023-11-30T00:00:00.000000000",
          "2023-12-07T16:00:00.000000000",
          "2023-12-12T08:00:00.000000000",
          "2023-12-15T20:00:00.000000000",
          "2023-12-20T20:00:00.000000000",
          "2023-12-28T20:00:00.000000000",
          "2024-01-04T12:00:00.000000000",
          "2024-01-05T16:00:00.000000000",
          "2024-01-08T12:00:00.000000000",
          "2024-01-10T12:00:00.000000000",
          "2024-01-11T20:00:00.000000000",
          "2024-01-18T00:00:00.000000000",
          "2024-01-19T00:00:00.000000000",
          "2024-01-23T04:00:00.000000000",
          "2024-01-24T08:00:00.000000000",
          "2024-01-25T08:00:00.000000000",
          "2024-01-30T16:00:00.000000000",
          "2024-01-31T12:00:00.000000000",
          "2024-02-01T16:00:00.000000000",
          "2024-02-07T00:00:00.000000000",
          "2024-02-08T20:00:00.000000000",
          "2024-02-15T08:00:00.000000000",
          "2024-02-20T04:00:00.000000000",
          "2024-02-22T16:00:00.000000000",
          "2024-02-23T20:00:00.000000000",
          "2024-02-28T00:00:00.000000000",
          "2024-02-29T16:00:00.000000000",
          "2024-03-06T04:00:00.000000000",
          "2024-03-11T16:00:00.000000000",
          "2024-03-14T16:00:00.000000000",
          "2024-03-18T12:00:00.000000000",
          "2024-03-20T20:00:00.000000000",
          "2024-03-25T20:00:00.000000000",
          "2024-04-02T20:00:00.000000000",
          "2024-04-05T12:00:00.000000000",
          "2024-04-10T12:00:00.000000000",
          "2024-04-17T12:00:00.000000000",
          "2024-04-19T12:00:00.000000000",
          "2024-04-22T04:00:00.000000000",
          "2024-04-26T16:00:00.000000000",
          "2024-04-29T12:00:00.000000000",
          "2024-05-07T08:00:00.000000000",
          "2024-05-17T04:00:00.000000000",
          "2024-05-20T12:00:00.000000000",
          "2024-05-21T16:00:00.000000000",
          "2024-05-29T00:00:00.000000000",
          "2024-05-30T20:00:00.000000000",
          "2024-05-31T08:00:00.000000000",
          "2024-06-05T12:00:00.000000000",
          "2024-06-07T12:00:00.000000000",
          "2024-06-12T12:00:00.000000000",
          "2024-06-17T20:00:00.000000000",
          "2024-06-24T12:00:00.000000000",
          "2024-06-27T12:00:00.000000000",
          "2024-06-28T12:00:00.000000000",
          "2024-07-02T08:00:00.000000000",
          "2024-07-09T08:00:00.000000000",
          "2024-07-16T12:00:00.000000000",
          "2024-07-18T20:00:00.000000000",
          "2024-07-23T08:00:00.000000000",
          "2024-07-25T16:00:00.000000000",
          "2024-07-31T12:00:00.000000000",
          "2024-08-02T12:00:00.000000000",
          "2024-08-06T12:00:00.000000000",
          "2024-08-08T12:00:00.000000000",
          "2024-08-09T12:00:00.000000000",
          "2024-08-15T12:00:00.000000000",
          "2024-08-22T16:00:00.000000000",
          "2024-08-27T12:00:00.000000000",
          "2024-08-28T04:00:00.000000000",
          "2024-09-02T20:00:00.000000000",
          "2024-09-04T16:00:00.000000000",
          "2024-09-11T08:00:00.000000000",
          "2024-09-12T16:00:00.000000000",
          "2024-09-18T16:00:00.000000000",
          "2024-09-23T08:00:00.000000000",
          "2024-09-25T20:00:00.000000000",
          "2024-09-27T08:00:00.000000000",
          "2024-09-30T16:00:00.000000000",
          "2024-10-08T08:00:00.000000000",
          "2024-10-11T08:00:00.000000000",
          "2024-10-18T16:00:00.000000000",
          "2024-10-24T12:00:00.000000000",
          "2024-10-28T12:00:00.000000000",
          "2024-10-29T08:00:00.000000000",
          "2024-11-01T20:00:00.000000000",
          "2024-11-05T00:00:00.000000000",
          "2024-11-06T00:00:00.000000000",
          "2024-11-07T16:00:00.000000000",
          "2024-11-15T12:00:00.000000000",
          "2024-11-18T08:00:00.000000000",
          "2024-11-25T04:00:00.000000000",
          "2024-11-27T00:00:00.000000000",
          "2024-11-27T08:00:00.000000000",
          "2024-12-02T00:00:00.000000000",
          "2024-12-04T16:00:00.000000000",
          "2024-12-09T04:00:00.000000000",
          "2024-12-13T12:00:00.000000000",
          "2024-12-20T16:00:00.000000000",
          "2024-12-26T16:00:00.000000000",
          "2025-01-06T04:00:00.000000000",
          "2025-01-14T00:00:00.000000000",
          "2025-01-14T08:00:00.000000000",
          "2025-01-16T20:00:00.000000000",
          "2025-01-20T04:00:00.000000000",
          "2025-01-23T04:00:00.000000000",
          "2025-01-28T00:00:00.000000000",
          "2025-01-30T20:00:00.000000000",
          "2025-02-04T00:00:00.000000000",
          "2025-02-04T08:00:00.000000000",
          "2025-02-06T08:00:00.000000000",
          "2025-02-11T16:00:00.000000000",
          "2025-02-18T00:00:00.000000000",
          "2025-02-24T12:00:00.000000000",
          "2025-02-27T00:00:00.000000000",
          "2025-03-03T12:00:00.000000000",
          "2025-03-10T08:00:00.000000000",
          "2025-03-13T00:00:00.000000000",
          "2025-03-19T08:00:00.000000000",
          "2025-03-27T16:00:00.000000000",
          "2025-03-28T16:00:00.000000000",
          "2025-03-31T20:00:00.000000000",
          "2025-04-02T16:00:00.000000000",
          "2025-04-04T20:00:00.000000000",
          "2025-04-10T00:00:00.000000000",
          "2025-04-15T04:00:00.000000000",
          "2025-04-22T16:00:00.000000000",
          "2025-04-25T00:00:00.000000000",
          "2025-04-28T08:00:00.000000000",
          "2025-04-30T04:00:00.000000000",
          "2025-05-02T12:00:00.000000000",
          "2025-05-05T04:00:00.000000000",
          "2025-05-06T08:00:00.000000000",
          "2025-05-13T20:00:00.000000000",
          "2025-05-16T04:00:00.000000000",
          "2025-05-19T08:00:00.000000000",
          "2025-05-22T12:00:00.000000000",
          "2025-05-27T08:00:00.000000000",
          "2025-06-03T16:00:00.000000000",
          "2025-06-06T12:00:00.000000000",
          "2025-06-09T12:00:00.000000000",
          "2025-06-10T04:00:00.000000000",
          "2025-06-13T12:00:00.000000000",
          "2025-06-17T16:00:00.000000000",
          "2025-06-23T00:00:00.000000000",
          "2025-07-02T12:00:00.000000000",
          "2025-07-03T12:00:00.000000000",
          "2025-07-07T04:00:00.000000000",
          "2025-07-15T08:00:00.000000000",
          "2025-07-18T04:00:00.000000000",
          "2025-07-25T00:00:00.000000000",
          "2025-08-01T12:00:00.000000000"
         ],
         "xaxis": "x",
         "y": [
          0,
          0,
          -3,
          0,
          -33,
          0,
          -354,
          0,
          -92,
          0,
          0,
          -1629,
          0,
          -158,
          0,
          -46,
          -31,
          0,
          0,
          -88,
          0,
          0,
          -106,
          0,
          0,
          -29,
          0,
          0,
          0,
          0,
          0,
          0,
          0,
          0,
          -53,
          0,
          -229,
          -277,
          -471,
          -455,
          0,
          0,
          0,
          0,
          -360,
          -446,
          0,
          0,
          -238,
          -449,
          -781,
          0,
          0,
          0,
          0,
          0,
          0,
          0,
          0,
          -495,
          -364,
          -453,
          -40,
          0,
          0,
          0,
          -64,
          0,
          0,
          0,
          0,
          0,
          0,
          0,
          0,
          -47,
          0,
          0,
          -57,
          -230,
          0,
          -409,
          -12,
          0,
          0,
          0,
          -99,
          0,
          0,
          0,
          -168,
          0,
          0,
          0,
          -103,
          0,
          0,
          -308,
          0,
          0,
          0,
          -203,
          0,
          0,
          -68,
          0,
          0,
          0,
          -15,
          0,
          0,
          0,
          0,
          -187,
          0,
          0,
          0,
          0,
          0,
          -29,
          -20,
          -213,
          0,
          -49,
          0,
          0,
          0,
          -83,
          0,
          -165,
          -352,
          -208,
          -184,
          -130,
          0,
          0,
          0,
          -130,
          -67,
          0,
          -47,
          -117,
          -178,
          -163,
          -192,
          0,
          0,
          -344,
          0,
          0,
          0,
          -30,
          0,
          0,
          -160,
          0,
          -488,
          -533,
          -231,
          0,
          0,
          0,
          -172,
          -83,
          -38,
          -551,
          -629,
          -814,
          -1096,
          -834,
          -1003,
          -1055,
          -1115,
          -1046,
          -1069,
          -1319,
          -1429,
          -1396,
          -1276,
          -1535,
          -388,
          -577,
          0,
          0,
          -36,
          0,
          -135,
          -133,
          -227,
          -596,
          -899,
          -918,
          -215,
          -749,
          -699,
          0,
          0,
          0,
          -77,
          -139,
          -151,
          0,
          0,
          0,
          0,
          -99,
          0,
          0,
          0,
          -35,
          -84,
          -309,
          -210,
          0,
          -97,
          0,
          0,
          0,
          0,
          0,
          0,
          0,
          -193,
          0,
          -118,
          0,
          0,
          0,
          0,
          0,
          -335,
          0,
          -249,
          -249,
          -617,
          -188,
          -460,
          -679,
          -931,
          0,
          0,
          -8,
          0,
          0,
          0,
          -294,
          0,
          0,
          0,
          -388,
          -406,
          -558,
          -677,
          0,
          0,
          0,
          0,
          0,
          0,
          -292,
          -482,
          -338,
          0,
          0,
          -260,
          -595,
          0,
          0,
          0,
          0,
          0,
          0,
          0,
          0,
          0,
          0,
          -86,
          -27,
          0,
          0,
          0,
          0,
          0,
          0,
          0,
          -160,
          0,
          -43,
          -173,
          -335,
          -532,
          -22,
          0,
          -155,
          -2,
          0,
          0,
          -102,
          -113,
          0,
          -258,
          0,
          -422,
          0,
          0,
          0,
          -149,
          0,
          -152,
          -146,
          0,
          -293,
          -219,
          -507,
          -392,
          -369,
          -346,
          0,
          0,
          0,
          -162,
          0,
          0,
          0,
          0,
          0,
          0,
          0,
          0,
          0,
          0,
          -126,
          0,
          0,
          0,
          0,
          -90,
          0,
          -28,
          -1,
          0,
          0,
          -18,
          0,
          -94,
          -96,
          -249,
          -201,
          0,
          0,
          0,
          0,
          -148,
          -184,
          0,
          0,
          0,
          -304,
          0,
          -38,
          -7,
          0,
          0,
          0,
          0,
          0,
          0,
          0,
          0,
          0,
          -267,
          -112,
          -115,
          -146,
          -265,
          0,
          0,
          -79,
          -293,
          -261,
          -222,
          -138,
          -120,
          0,
          -305,
          0,
          -63,
          0,
          0,
          0,
          0,
          0,
          0,
          0,
          -43,
          0,
          0,
          0,
          0,
          0,
          0,
          -44,
          -104,
          0,
          -59,
          0,
          0,
          0,
          -25,
          0,
          -401,
          -270,
          0,
          0,
          0,
          0,
          0,
          0,
          -8,
          -160,
          0,
          0,
          0,
          -4,
          0,
          0,
          0,
          0,
          0,
          -31,
          0,
          0,
          0,
          -43,
          0,
          0,
          0,
          -140,
          0,
          0,
          -71,
          -125,
          0,
          0,
          0,
          0,
          0,
          -147,
          -84,
          -123,
          -154,
          0,
          -681,
          0,
          -87,
          0,
          -132,
          -39,
          -89,
          0,
          0,
          0,
          0,
          -6,
          0,
          0,
          0,
          -111,
          -94,
          -221,
          0,
          0,
          0,
          0,
          0,
          0,
          0,
          0,
          0,
          -306,
          0,
          0,
          0,
          0,
          -115,
          -204,
          -226,
          0,
          -51,
          0,
          0,
          0,
          0,
          -377,
          -435,
          -632,
          -744,
          0,
          -246,
          -336,
          0,
          0,
          0,
          0,
          0,
          0,
          0,
          0,
          -363,
          0,
          -11,
          0,
          0,
          -248,
          0,
          0
         ],
         "yaxis": "y"
        }
       ],
       "layout": {
        "legend": {
         "tracegroupgap": 0
        },
        "template": {
         "data": {
          "bar": [
           {
            "error_x": {
             "color": "#f2f5fa"
            },
            "error_y": {
             "color": "#f2f5fa"
            },
            "marker": {
             "line": {
              "color": "rgb(17,17,17)",
              "width": 0.5
             },
             "pattern": {
              "fillmode": "overlay",
              "size": 10,
              "solidity": 0.2
             }
            },
            "type": "bar"
           }
          ],
          "barpolar": [
           {
            "marker": {
             "line": {
              "color": "rgb(17,17,17)",
              "width": 0.5
             },
             "pattern": {
              "fillmode": "overlay",
              "size": 10,
              "solidity": 0.2
             }
            },
            "type": "barpolar"
           }
          ],
          "carpet": [
           {
            "aaxis": {
             "endlinecolor": "#A2B1C6",
             "gridcolor": "#506784",
             "linecolor": "#506784",
             "minorgridcolor": "#506784",
             "startlinecolor": "#A2B1C6"
            },
            "baxis": {
             "endlinecolor": "#A2B1C6",
             "gridcolor": "#506784",
             "linecolor": "#506784",
             "minorgridcolor": "#506784",
             "startlinecolor": "#A2B1C6"
            },
            "type": "carpet"
           }
          ],
          "choropleth": [
           {
            "colorbar": {
             "outlinewidth": 0,
             "ticks": ""
            },
            "type": "choropleth"
           }
          ],
          "contour": [
           {
            "colorbar": {
             "outlinewidth": 0,
             "ticks": ""
            },
            "colorscale": [
             [
              0,
              "#0d0887"
             ],
             [
              0.1111111111111111,
              "#46039f"
             ],
             [
              0.2222222222222222,
              "#7201a8"
             ],
             [
              0.3333333333333333,
              "#9c179e"
             ],
             [
              0.4444444444444444,
              "#bd3786"
             ],
             [
              0.5555555555555556,
              "#d8576b"
             ],
             [
              0.6666666666666666,
              "#ed7953"
             ],
             [
              0.7777777777777778,
              "#fb9f3a"
             ],
             [
              0.8888888888888888,
              "#fdca26"
             ],
             [
              1,
              "#f0f921"
             ]
            ],
            "type": "contour"
           }
          ],
          "contourcarpet": [
           {
            "colorbar": {
             "outlinewidth": 0,
             "ticks": ""
            },
            "type": "contourcarpet"
           }
          ],
          "heatmap": [
           {
            "colorbar": {
             "outlinewidth": 0,
             "ticks": ""
            },
            "colorscale": [
             [
              0,
              "#0d0887"
             ],
             [
              0.1111111111111111,
              "#46039f"
             ],
             [
              0.2222222222222222,
              "#7201a8"
             ],
             [
              0.3333333333333333,
              "#9c179e"
             ],
             [
              0.4444444444444444,
              "#bd3786"
             ],
             [
              0.5555555555555556,
              "#d8576b"
             ],
             [
              0.6666666666666666,
              "#ed7953"
             ],
             [
              0.7777777777777778,
              "#fb9f3a"
             ],
             [
              0.8888888888888888,
              "#fdca26"
             ],
             [
              1,
              "#f0f921"
             ]
            ],
            "type": "heatmap"
           }
          ],
          "histogram": [
           {
            "marker": {
             "pattern": {
              "fillmode": "overlay",
              "size": 10,
              "solidity": 0.2
             }
            },
            "type": "histogram"
           }
          ],
          "histogram2d": [
           {
            "colorbar": {
             "outlinewidth": 0,
             "ticks": ""
            },
            "colorscale": [
             [
              0,
              "#0d0887"
             ],
             [
              0.1111111111111111,
              "#46039f"
             ],
             [
              0.2222222222222222,
              "#7201a8"
             ],
             [
              0.3333333333333333,
              "#9c179e"
             ],
             [
              0.4444444444444444,
              "#bd3786"
             ],
             [
              0.5555555555555556,
              "#d8576b"
             ],
             [
              0.6666666666666666,
              "#ed7953"
             ],
             [
              0.7777777777777778,
              "#fb9f3a"
             ],
             [
              0.8888888888888888,
              "#fdca26"
             ],
             [
              1,
              "#f0f921"
             ]
            ],
            "type": "histogram2d"
           }
          ],
          "histogram2dcontour": [
           {
            "colorbar": {
             "outlinewidth": 0,
             "ticks": ""
            },
            "colorscale": [
             [
              0,
              "#0d0887"
             ],
             [
              0.1111111111111111,
              "#46039f"
             ],
             [
              0.2222222222222222,
              "#7201a8"
             ],
             [
              0.3333333333333333,
              "#9c179e"
             ],
             [
              0.4444444444444444,
              "#bd3786"
             ],
             [
              0.5555555555555556,
              "#d8576b"
             ],
             [
              0.6666666666666666,
              "#ed7953"
             ],
             [
              0.7777777777777778,
              "#fb9f3a"
             ],
             [
              0.8888888888888888,
              "#fdca26"
             ],
             [
              1,
              "#f0f921"
             ]
            ],
            "type": "histogram2dcontour"
           }
          ],
          "mesh3d": [
           {
            "colorbar": {
             "outlinewidth": 0,
             "ticks": ""
            },
            "type": "mesh3d"
           }
          ],
          "parcoords": [
           {
            "line": {
             "colorbar": {
              "outlinewidth": 0,
              "ticks": ""
             }
            },
            "type": "parcoords"
           }
          ],
          "pie": [
           {
            "automargin": true,
            "type": "pie"
           }
          ],
          "scatter": [
           {
            "marker": {
             "line": {
              "color": "#283442"
             }
            },
            "type": "scatter"
           }
          ],
          "scatter3d": [
           {
            "line": {
             "colorbar": {
              "outlinewidth": 0,
              "ticks": ""
             }
            },
            "marker": {
             "colorbar": {
              "outlinewidth": 0,
              "ticks": ""
             }
            },
            "type": "scatter3d"
           }
          ],
          "scattercarpet": [
           {
            "marker": {
             "colorbar": {
              "outlinewidth": 0,
              "ticks": ""
             }
            },
            "type": "scattercarpet"
           }
          ],
          "scattergeo": [
           {
            "marker": {
             "colorbar": {
              "outlinewidth": 0,
              "ticks": ""
             }
            },
            "type": "scattergeo"
           }
          ],
          "scattergl": [
           {
            "marker": {
             "line": {
              "color": "#283442"
             }
            },
            "type": "scattergl"
           }
          ],
          "scattermap": [
           {
            "marker": {
             "colorbar": {
              "outlinewidth": 0,
              "ticks": ""
             }
            },
            "type": "scattermap"
           }
          ],
          "scattermapbox": [
           {
            "marker": {
             "colorbar": {
              "outlinewidth": 0,
              "ticks": ""
             }
            },
            "type": "scattermapbox"
           }
          ],
          "scatterpolar": [
           {
            "marker": {
             "colorbar": {
              "outlinewidth": 0,
              "ticks": ""
             }
            },
            "type": "scatterpolar"
           }
          ],
          "scatterpolargl": [
           {
            "marker": {
             "colorbar": {
              "outlinewidth": 0,
              "ticks": ""
             }
            },
            "type": "scatterpolargl"
           }
          ],
          "scatterternary": [
           {
            "marker": {
             "colorbar": {
              "outlinewidth": 0,
              "ticks": ""
             }
            },
            "type": "scatterternary"
           }
          ],
          "surface": [
           {
            "colorbar": {
             "outlinewidth": 0,
             "ticks": ""
            },
            "colorscale": [
             [
              0,
              "#0d0887"
             ],
             [
              0.1111111111111111,
              "#46039f"
             ],
             [
              0.2222222222222222,
              "#7201a8"
             ],
             [
              0.3333333333333333,
              "#9c179e"
             ],
             [
              0.4444444444444444,
              "#bd3786"
             ],
             [
              0.5555555555555556,
              "#d8576b"
             ],
             [
              0.6666666666666666,
              "#ed7953"
             ],
             [
              0.7777777777777778,
              "#fb9f3a"
             ],
             [
              0.8888888888888888,
              "#fdca26"
             ],
             [
              1,
              "#f0f921"
             ]
            ],
            "type": "surface"
           }
          ],
          "table": [
           {
            "cells": {
             "fill": {
              "color": "#506784"
             },
             "line": {
              "color": "rgb(17,17,17)"
             }
            },
            "header": {
             "fill": {
              "color": "#2a3f5f"
             },
             "line": {
              "color": "rgb(17,17,17)"
             }
            },
            "type": "table"
           }
          ]
         },
         "layout": {
          "annotationdefaults": {
           "arrowcolor": "#f2f5fa",
           "arrowhead": 0,
           "arrowwidth": 1
          },
          "autotypenumbers": "strict",
          "coloraxis": {
           "colorbar": {
            "outlinewidth": 0,
            "ticks": ""
           }
          },
          "colorscale": {
           "diverging": [
            [
             0,
             "#8e0152"
            ],
            [
             0.1,
             "#c51b7d"
            ],
            [
             0.2,
             "#de77ae"
            ],
            [
             0.3,
             "#f1b6da"
            ],
            [
             0.4,
             "#fde0ef"
            ],
            [
             0.5,
             "#f7f7f7"
            ],
            [
             0.6,
             "#e6f5d0"
            ],
            [
             0.7,
             "#b8e186"
            ],
            [
             0.8,
             "#7fbc41"
            ],
            [
             0.9,
             "#4d9221"
            ],
            [
             1,
             "#276419"
            ]
           ],
           "sequential": [
            [
             0,
             "#0d0887"
            ],
            [
             0.1111111111111111,
             "#46039f"
            ],
            [
             0.2222222222222222,
             "#7201a8"
            ],
            [
             0.3333333333333333,
             "#9c179e"
            ],
            [
             0.4444444444444444,
             "#bd3786"
            ],
            [
             0.5555555555555556,
             "#d8576b"
            ],
            [
             0.6666666666666666,
             "#ed7953"
            ],
            [
             0.7777777777777778,
             "#fb9f3a"
            ],
            [
             0.8888888888888888,
             "#fdca26"
            ],
            [
             1,
             "#f0f921"
            ]
           ],
           "sequentialminus": [
            [
             0,
             "#0d0887"
            ],
            [
             0.1111111111111111,
             "#46039f"
            ],
            [
             0.2222222222222222,
             "#7201a8"
            ],
            [
             0.3333333333333333,
             "#9c179e"
            ],
            [
             0.4444444444444444,
             "#bd3786"
            ],
            [
             0.5555555555555556,
             "#d8576b"
            ],
            [
             0.6666666666666666,
             "#ed7953"
            ],
            [
             0.7777777777777778,
             "#fb9f3a"
            ],
            [
             0.8888888888888888,
             "#fdca26"
            ],
            [
             1,
             "#f0f921"
            ]
           ]
          },
          "colorway": [
           "#636efa",
           "#EF553B",
           "#00cc96",
           "#ab63fa",
           "#FFA15A",
           "#19d3f3",
           "#FF6692",
           "#B6E880",
           "#FF97FF",
           "#FECB52"
          ],
          "font": {
           "color": "#f2f5fa"
          },
          "geo": {
           "bgcolor": "rgb(17,17,17)",
           "lakecolor": "rgb(17,17,17)",
           "landcolor": "rgb(17,17,17)",
           "showlakes": true,
           "showland": true,
           "subunitcolor": "#506784"
          },
          "hoverlabel": {
           "align": "left"
          },
          "hovermode": "closest",
          "mapbox": {
           "style": "dark"
          },
          "paper_bgcolor": "rgb(17,17,17)",
          "plot_bgcolor": "rgb(17,17,17)",
          "polar": {
           "angularaxis": {
            "gridcolor": "#506784",
            "linecolor": "#506784",
            "ticks": ""
           },
           "bgcolor": "rgb(17,17,17)",
           "radialaxis": {
            "gridcolor": "#506784",
            "linecolor": "#506784",
            "ticks": ""
           }
          },
          "scene": {
           "xaxis": {
            "backgroundcolor": "rgb(17,17,17)",
            "gridcolor": "#506784",
            "gridwidth": 2,
            "linecolor": "#506784",
            "showbackground": true,
            "ticks": "",
            "zerolinecolor": "#C8D4E3"
           },
           "yaxis": {
            "backgroundcolor": "rgb(17,17,17)",
            "gridcolor": "#506784",
            "gridwidth": 2,
            "linecolor": "#506784",
            "showbackground": true,
            "ticks": "",
            "zerolinecolor": "#C8D4E3"
           },
           "zaxis": {
            "backgroundcolor": "rgb(17,17,17)",
            "gridcolor": "#506784",
            "gridwidth": 2,
            "linecolor": "#506784",
            "showbackground": true,
            "ticks": "",
            "zerolinecolor": "#C8D4E3"
           }
          },
          "shapedefaults": {
           "line": {
            "color": "#f2f5fa"
           }
          },
          "sliderdefaults": {
           "bgcolor": "#C8D4E3",
           "bordercolor": "rgb(17,17,17)",
           "borderwidth": 1,
           "tickwidth": 0
          },
          "ternary": {
           "aaxis": {
            "gridcolor": "#506784",
            "linecolor": "#506784",
            "ticks": ""
           },
           "baxis": {
            "gridcolor": "#506784",
            "linecolor": "#506784",
            "ticks": ""
           },
           "bgcolor": "rgb(17,17,17)",
           "caxis": {
            "gridcolor": "#506784",
            "linecolor": "#506784",
            "ticks": ""
           }
          },
          "title": {
           "x": 0.05
          },
          "updatemenudefaults": {
           "bgcolor": "#506784",
           "borderwidth": 0
          },
          "xaxis": {
           "automargin": true,
           "gridcolor": "#283442",
           "linecolor": "#506784",
           "ticks": "",
           "title": {
            "standoff": 15
           },
           "zerolinecolor": "#283442",
           "zerolinewidth": 2
          },
          "yaxis": {
           "automargin": true,
           "gridcolor": "#283442",
           "linecolor": "#506784",
           "ticks": "",
           "title": {
            "standoff": 15
           },
           "zerolinecolor": "#283442",
           "zerolinewidth": 2
          }
         }
        },
        "title": {
         "text": "drawdown curve"
        },
        "xaxis": {
         "anchor": "y",
         "domain": [
          0,
          1
         ],
         "title": {
          "text": "close_time"
         }
        },
        "yaxis": {
         "anchor": "x",
         "domain": [
          0,
          1
         ],
         "title": {
          "text": "drawdown"
         }
        }
       }
      }
     },
     "metadata": {},
     "output_type": "display_data"
    },
    {
     "name": "stdout",
     "output_type": "stream",
     "text": [
      "max_drawdown -1629.0\n"
     ]
    }
   ],
   "source": [
    "evaluate_backtest(bt.trades)"
   ]
  }
 ],
 "metadata": {
  "kernelspec": {
   "display_name": ".venv",
   "language": "python",
   "name": "python3"
  },
  "language_info": {
   "codemirror_mode": {
    "name": "ipython",
    "version": 3
   },
   "file_extension": ".py",
   "mimetype": "text/x-python",
   "name": "python",
   "nbconvert_exporter": "python",
   "pygments_lexer": "ipython3",
   "version": "3.12.1"
  }
 },
 "nbformat": 4,
 "nbformat_minor": 5
}
