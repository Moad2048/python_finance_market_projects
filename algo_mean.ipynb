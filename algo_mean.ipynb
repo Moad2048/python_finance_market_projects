{
 "cells": [
  {
   "cell_type": "code",
   "execution_count": 2,
   "id": "e2fea34d",
   "metadata": {},
   "outputs": [],
   "source": [
    "from sklearn.linear_model import LinearRegression\n",
    "from sklearn.metrics import mean_squared_error, r2_score\n",
    "from sklearn.model_selection import train_test_split\n",
    "\n",
    "import yfinance as yf\n",
    "import MetaTrader5 as mt5 #mt5 to access historcal data\n",
    "import pandas as pd # for data analysis and calculation of technical indcator\n",
    "import pandas_ta as ta\n",
    "import numpy as np\n",
    "import plotly.io as pio\n",
    "import plotly.express as px # for data visualization\n",
    "import plotly.graph_objects as go\n",
    "import tdclient as TDClient\n",
    "from datetime import datetime, time ,timezone #to specify the date time range for historical data\n",
    "from IPython.display import display, Markdown, Latex # to display result in python notebook\n",
    "from backtest import Backtester, get_ohlc_history, create_price_fig, evaluate_backtest"
   ]
  },
  {
   "cell_type": "code",
   "execution_count": 3,
   "id": "9b2e0fa8",
   "metadata": {},
   "outputs": [
    {
     "data": {
      "text/plain": [
       "True"
      ]
     },
     "execution_count": 3,
     "metadata": {},
     "output_type": "execute_result"
    }
   ],
   "source": [
    "# Conecte mt5\n",
    "mt5.initialize()\n",
    "# logine mt5\n",
    "login = 52185665\n",
    "password = '3cAJz$AQiKwMq0'\n",
    "server = 'ICMarketsSC-Demo'\n",
    "\n",
    "mt5.login(login,password,server)"
   ]
  },
  {
   "cell_type": "code",
   "execution_count": 4,
   "id": "43d573c5",
   "metadata": {},
   "outputs": [],
   "source": [
    "# this function retreives olhc data from mt5 account and return a data frame\n",
    "def get_ohlc(symbol, timeframe, start_datetime, end_datetime):\n",
    "    ohlc = mt5.copy_rates_range(symbol, timeframe, start_datetime, end_datetime)\n",
    "    ohlc_df = pd.DataFrame(ohlc)\n",
    "    ohlc_df['time'] = pd.to_datetime(ohlc_df['time'], unit= 's')\n",
    "    return ohlc_df[['time', 'open', 'high', 'low', 'close']]"
   ]
  },
  {
   "cell_type": "code",
   "execution_count": 5,
   "id": "48fd76d3",
   "metadata": {},
   "outputs": [
    {
     "data": {
      "text/html": [
       "<div>\n",
       "<style scoped>\n",
       "    .dataframe tbody tr th:only-of-type {\n",
       "        vertical-align: middle;\n",
       "    }\n",
       "\n",
       "    .dataframe tbody tr th {\n",
       "        vertical-align: top;\n",
       "    }\n",
       "\n",
       "    .dataframe thead th {\n",
       "        text-align: right;\n",
       "    }\n",
       "</style>\n",
       "<table border=\"1\" class=\"dataframe\">\n",
       "  <thead>\n",
       "    <tr style=\"text-align: right;\">\n",
       "      <th></th>\n",
       "      <th>time</th>\n",
       "      <th>open</th>\n",
       "      <th>high</th>\n",
       "      <th>low</th>\n",
       "      <th>close</th>\n",
       "    </tr>\n",
       "  </thead>\n",
       "  <tbody>\n",
       "    <tr>\n",
       "      <th>0</th>\n",
       "      <td>2025-06-30 23:00:00</td>\n",
       "      <td>1.17797</td>\n",
       "      <td>1.17798</td>\n",
       "      <td>1.17774</td>\n",
       "      <td>1.17797</td>\n",
       "    </tr>\n",
       "    <tr>\n",
       "      <th>1</th>\n",
       "      <td>2025-06-30 23:01:00</td>\n",
       "      <td>1.17797</td>\n",
       "      <td>1.17807</td>\n",
       "      <td>1.17794</td>\n",
       "      <td>1.17795</td>\n",
       "    </tr>\n",
       "    <tr>\n",
       "      <th>2</th>\n",
       "      <td>2025-06-30 23:02:00</td>\n",
       "      <td>1.17795</td>\n",
       "      <td>1.17801</td>\n",
       "      <td>1.17795</td>\n",
       "      <td>1.17799</td>\n",
       "    </tr>\n",
       "    <tr>\n",
       "      <th>3</th>\n",
       "      <td>2025-06-30 23:03:00</td>\n",
       "      <td>1.17799</td>\n",
       "      <td>1.17800</td>\n",
       "      <td>1.17791</td>\n",
       "      <td>1.17797</td>\n",
       "    </tr>\n",
       "    <tr>\n",
       "      <th>4</th>\n",
       "      <td>2025-06-30 23:04:00</td>\n",
       "      <td>1.17797</td>\n",
       "      <td>1.17801</td>\n",
       "      <td>1.17791</td>\n",
       "      <td>1.17791</td>\n",
       "    </tr>\n",
       "    <tr>\n",
       "      <th>...</th>\n",
       "      <td>...</td>\n",
       "      <td>...</td>\n",
       "      <td>...</td>\n",
       "      <td>...</td>\n",
       "      <td>...</td>\n",
       "    </tr>\n",
       "    <tr>\n",
       "      <th>51936</th>\n",
       "      <td>2025-08-20 01:29:00</td>\n",
       "      <td>1.16483</td>\n",
       "      <td>1.16486</td>\n",
       "      <td>1.16481</td>\n",
       "      <td>1.16484</td>\n",
       "    </tr>\n",
       "    <tr>\n",
       "      <th>51937</th>\n",
       "      <td>2025-08-20 01:30:00</td>\n",
       "      <td>1.16484</td>\n",
       "      <td>1.16485</td>\n",
       "      <td>1.16475</td>\n",
       "      <td>1.16479</td>\n",
       "    </tr>\n",
       "    <tr>\n",
       "      <th>51938</th>\n",
       "      <td>2025-08-20 01:31:00</td>\n",
       "      <td>1.16479</td>\n",
       "      <td>1.16488</td>\n",
       "      <td>1.16477</td>\n",
       "      <td>1.16484</td>\n",
       "    </tr>\n",
       "    <tr>\n",
       "      <th>51939</th>\n",
       "      <td>2025-08-20 01:32:00</td>\n",
       "      <td>1.16484</td>\n",
       "      <td>1.16486</td>\n",
       "      <td>1.16475</td>\n",
       "      <td>1.16480</td>\n",
       "    </tr>\n",
       "    <tr>\n",
       "      <th>51940</th>\n",
       "      <td>2025-08-20 01:33:00</td>\n",
       "      <td>1.16480</td>\n",
       "      <td>1.16480</td>\n",
       "      <td>1.16472</td>\n",
       "      <td>1.16474</td>\n",
       "    </tr>\n",
       "  </tbody>\n",
       "</table>\n",
       "<p>51941 rows × 5 columns</p>\n",
       "</div>"
      ],
      "text/plain": [
       "                     time     open     high      low    close\n",
       "0     2025-06-30 23:00:00  1.17797  1.17798  1.17774  1.17797\n",
       "1     2025-06-30 23:01:00  1.17797  1.17807  1.17794  1.17795\n",
       "2     2025-06-30 23:02:00  1.17795  1.17801  1.17795  1.17799\n",
       "3     2025-06-30 23:03:00  1.17799  1.17800  1.17791  1.17797\n",
       "4     2025-06-30 23:04:00  1.17797  1.17801  1.17791  1.17791\n",
       "...                   ...      ...      ...      ...      ...\n",
       "51936 2025-08-20 01:29:00  1.16483  1.16486  1.16481  1.16484\n",
       "51937 2025-08-20 01:30:00  1.16484  1.16485  1.16475  1.16479\n",
       "51938 2025-08-20 01:31:00  1.16479  1.16488  1.16477  1.16484\n",
       "51939 2025-08-20 01:32:00  1.16484  1.16486  1.16475  1.16480\n",
       "51940 2025-08-20 01:33:00  1.16480  1.16480  1.16472  1.16474\n",
       "\n",
       "[51941 rows x 5 columns]"
      ]
     },
     "execution_count": 5,
     "metadata": {},
     "output_type": "execute_result"
    }
   ],
   "source": [
    "# 1 minut df\n",
    "symbol = 'EURUSD'\n",
    "pos_size = 1\n",
    "timeframe = mt5.TIMEFRAME_M1\n",
    "start_datetime = datetime(2025,7,1)\n",
    "end_datetime = datetime.now()\n",
    "ohlc_df = get_ohlc(symbol, timeframe, start_datetime, end_datetime)\n",
    "# hour4 df\n",
    "timeframe = mt5.TIMEFRAME_H4\n",
    "hourly_df = get_ohlc(symbol, timeframe, start_datetime, end_datetime)\n",
    "# daily df\n",
    "timeframe = mt5.TIMEFRAME_D1\n",
    "daily_df = get_ohlc(symbol, timeframe, start_datetime, end_datetime)\n",
    "daily_df\n",
    "hourly_df\n",
    "ohlc_df"
   ]
  },
  {
   "cell_type": "code",
   "execution_count": 6,
   "id": "6141914c",
   "metadata": {},
   "outputs": [
    {
     "data": {
      "text/html": [
       "<div>\n",
       "<style scoped>\n",
       "    .dataframe tbody tr th:only-of-type {\n",
       "        vertical-align: middle;\n",
       "    }\n",
       "\n",
       "    .dataframe tbody tr th {\n",
       "        vertical-align: top;\n",
       "    }\n",
       "\n",
       "    .dataframe thead th {\n",
       "        text-align: right;\n",
       "    }\n",
       "</style>\n",
       "<table border=\"1\" class=\"dataframe\">\n",
       "  <thead>\n",
       "    <tr style=\"text-align: right;\">\n",
       "      <th></th>\n",
       "      <th>time</th>\n",
       "      <th>open</th>\n",
       "      <th>high</th>\n",
       "      <th>low</th>\n",
       "      <th>close</th>\n",
       "      <th>ohlc</th>\n",
       "      <th>sma_1</th>\n",
       "      <th>sma_14</th>\n",
       "      <th>high_20</th>\n",
       "      <th>low_20</th>\n",
       "    </tr>\n",
       "  </thead>\n",
       "  <tbody>\n",
       "    <tr>\n",
       "      <th>0</th>\n",
       "      <td>2025-07-01</td>\n",
       "      <td>1.17868</td>\n",
       "      <td>1.18298</td>\n",
       "      <td>1.17615</td>\n",
       "      <td>1.18052</td>\n",
       "      <td>1.179582</td>\n",
       "      <td>1.179582</td>\n",
       "      <td>NaN</td>\n",
       "      <td>NaN</td>\n",
       "      <td>NaN</td>\n",
       "    </tr>\n",
       "    <tr>\n",
       "      <th>1</th>\n",
       "      <td>2025-07-02</td>\n",
       "      <td>1.18056</td>\n",
       "      <td>1.18101</td>\n",
       "      <td>1.17470</td>\n",
       "      <td>1.17982</td>\n",
       "      <td>1.179023</td>\n",
       "      <td>1.179023</td>\n",
       "      <td>NaN</td>\n",
       "      <td>NaN</td>\n",
       "      <td>NaN</td>\n",
       "    </tr>\n",
       "    <tr>\n",
       "      <th>2</th>\n",
       "      <td>2025-07-03</td>\n",
       "      <td>1.17983</td>\n",
       "      <td>1.18101</td>\n",
       "      <td>1.17172</td>\n",
       "      <td>1.17573</td>\n",
       "      <td>1.177072</td>\n",
       "      <td>1.177072</td>\n",
       "      <td>NaN</td>\n",
       "      <td>NaN</td>\n",
       "      <td>NaN</td>\n",
       "    </tr>\n",
       "    <tr>\n",
       "      <th>3</th>\n",
       "      <td>2025-07-04</td>\n",
       "      <td>1.17562</td>\n",
       "      <td>1.17876</td>\n",
       "      <td>1.17502</td>\n",
       "      <td>1.17736</td>\n",
       "      <td>1.176690</td>\n",
       "      <td>1.176690</td>\n",
       "      <td>NaN</td>\n",
       "      <td>NaN</td>\n",
       "      <td>NaN</td>\n",
       "    </tr>\n",
       "    <tr>\n",
       "      <th>4</th>\n",
       "      <td>2025-07-07</td>\n",
       "      <td>1.17771</td>\n",
       "      <td>1.17903</td>\n",
       "      <td>1.16868</td>\n",
       "      <td>1.17083</td>\n",
       "      <td>1.174063</td>\n",
       "      <td>1.174063</td>\n",
       "      <td>NaN</td>\n",
       "      <td>NaN</td>\n",
       "      <td>NaN</td>\n",
       "    </tr>\n",
       "    <tr>\n",
       "      <th>5</th>\n",
       "      <td>2025-07-08</td>\n",
       "      <td>1.17076</td>\n",
       "      <td>1.17654</td>\n",
       "      <td>1.16826</td>\n",
       "      <td>1.17250</td>\n",
       "      <td>1.172015</td>\n",
       "      <td>1.172015</td>\n",
       "      <td>NaN</td>\n",
       "      <td>NaN</td>\n",
       "      <td>NaN</td>\n",
       "    </tr>\n",
       "    <tr>\n",
       "      <th>6</th>\n",
       "      <td>2025-07-09</td>\n",
       "      <td>1.17243</td>\n",
       "      <td>1.17294</td>\n",
       "      <td>1.16896</td>\n",
       "      <td>1.17222</td>\n",
       "      <td>1.171638</td>\n",
       "      <td>1.171638</td>\n",
       "      <td>NaN</td>\n",
       "      <td>NaN</td>\n",
       "      <td>NaN</td>\n",
       "    </tr>\n",
       "    <tr>\n",
       "      <th>7</th>\n",
       "      <td>2025-07-10</td>\n",
       "      <td>1.17173</td>\n",
       "      <td>1.17497</td>\n",
       "      <td>1.16626</td>\n",
       "      <td>1.17000</td>\n",
       "      <td>1.170740</td>\n",
       "      <td>1.170740</td>\n",
       "      <td>NaN</td>\n",
       "      <td>NaN</td>\n",
       "      <td>NaN</td>\n",
       "    </tr>\n",
       "    <tr>\n",
       "      <th>8</th>\n",
       "      <td>2025-07-11</td>\n",
       "      <td>1.16999</td>\n",
       "      <td>1.17141</td>\n",
       "      <td>1.16647</td>\n",
       "      <td>1.16852</td>\n",
       "      <td>1.169097</td>\n",
       "      <td>1.169097</td>\n",
       "      <td>NaN</td>\n",
       "      <td>NaN</td>\n",
       "      <td>NaN</td>\n",
       "    </tr>\n",
       "    <tr>\n",
       "      <th>9</th>\n",
       "      <td>2025-07-14</td>\n",
       "      <td>1.16580</td>\n",
       "      <td>1.16977</td>\n",
       "      <td>1.16543</td>\n",
       "      <td>1.16653</td>\n",
       "      <td>1.166882</td>\n",
       "      <td>1.166882</td>\n",
       "      <td>NaN</td>\n",
       "      <td>NaN</td>\n",
       "      <td>NaN</td>\n",
       "    </tr>\n",
       "    <tr>\n",
       "      <th>10</th>\n",
       "      <td>2025-07-15</td>\n",
       "      <td>1.16642</td>\n",
       "      <td>1.16928</td>\n",
       "      <td>1.15929</td>\n",
       "      <td>1.16022</td>\n",
       "      <td>1.163803</td>\n",
       "      <td>1.163803</td>\n",
       "      <td>NaN</td>\n",
       "      <td>NaN</td>\n",
       "      <td>NaN</td>\n",
       "    </tr>\n",
       "    <tr>\n",
       "      <th>11</th>\n",
       "      <td>2025-07-16</td>\n",
       "      <td>1.16005</td>\n",
       "      <td>1.17215</td>\n",
       "      <td>1.15624</td>\n",
       "      <td>1.16398</td>\n",
       "      <td>1.163105</td>\n",
       "      <td>1.163105</td>\n",
       "      <td>NaN</td>\n",
       "      <td>NaN</td>\n",
       "      <td>NaN</td>\n",
       "    </tr>\n",
       "    <tr>\n",
       "      <th>12</th>\n",
       "      <td>2025-07-17</td>\n",
       "      <td>1.16368</td>\n",
       "      <td>1.16425</td>\n",
       "      <td>1.15562</td>\n",
       "      <td>1.15975</td>\n",
       "      <td>1.160825</td>\n",
       "      <td>1.160825</td>\n",
       "      <td>NaN</td>\n",
       "      <td>NaN</td>\n",
       "      <td>NaN</td>\n",
       "    </tr>\n",
       "    <tr>\n",
       "      <th>13</th>\n",
       "      <td>2025-07-18</td>\n",
       "      <td>1.15950</td>\n",
       "      <td>1.16719</td>\n",
       "      <td>1.15819</td>\n",
       "      <td>1.16210</td>\n",
       "      <td>1.161745</td>\n",
       "      <td>1.161745</td>\n",
       "      <td>1.170449</td>\n",
       "      <td>NaN</td>\n",
       "      <td>NaN</td>\n",
       "    </tr>\n",
       "    <tr>\n",
       "      <th>14</th>\n",
       "      <td>2025-07-21</td>\n",
       "      <td>1.16248</td>\n",
       "      <td>1.17168</td>\n",
       "      <td>1.16145</td>\n",
       "      <td>1.16950</td>\n",
       "      <td>1.166278</td>\n",
       "      <td>1.166278</td>\n",
       "      <td>1.169498</td>\n",
       "      <td>NaN</td>\n",
       "      <td>NaN</td>\n",
       "    </tr>\n",
       "    <tr>\n",
       "      <th>15</th>\n",
       "      <td>2025-07-22</td>\n",
       "      <td>1.16894</td>\n",
       "      <td>1.17605</td>\n",
       "      <td>1.16790</td>\n",
       "      <td>1.17541</td>\n",
       "      <td>1.172075</td>\n",
       "      <td>1.172075</td>\n",
       "      <td>1.169002</td>\n",
       "      <td>NaN</td>\n",
       "      <td>NaN</td>\n",
       "    </tr>\n",
       "    <tr>\n",
       "      <th>16</th>\n",
       "      <td>2025-07-23</td>\n",
       "      <td>1.17538</td>\n",
       "      <td>1.17751</td>\n",
       "      <td>1.17109</td>\n",
       "      <td>1.17729</td>\n",
       "      <td>1.175318</td>\n",
       "      <td>1.175318</td>\n",
       "      <td>1.168877</td>\n",
       "      <td>NaN</td>\n",
       "      <td>NaN</td>\n",
       "    </tr>\n",
       "    <tr>\n",
       "      <th>17</th>\n",
       "      <td>2025-07-24</td>\n",
       "      <td>1.17670</td>\n",
       "      <td>1.17887</td>\n",
       "      <td>1.17304</td>\n",
       "      <td>1.17489</td>\n",
       "      <td>1.175875</td>\n",
       "      <td>1.175875</td>\n",
       "      <td>1.168818</td>\n",
       "      <td>NaN</td>\n",
       "      <td>NaN</td>\n",
       "    </tr>\n",
       "    <tr>\n",
       "      <th>18</th>\n",
       "      <td>2025-07-25</td>\n",
       "      <td>1.17442</td>\n",
       "      <td>1.17608</td>\n",
       "      <td>1.17029</td>\n",
       "      <td>1.17394</td>\n",
       "      <td>1.173682</td>\n",
       "      <td>1.173682</td>\n",
       "      <td>1.168791</td>\n",
       "      <td>NaN</td>\n",
       "      <td>NaN</td>\n",
       "    </tr>\n",
       "    <tr>\n",
       "      <th>19</th>\n",
       "      <td>2025-07-28</td>\n",
       "      <td>1.17552</td>\n",
       "      <td>1.17704</td>\n",
       "      <td>1.15838</td>\n",
       "      <td>1.15885</td>\n",
       "      <td>1.167448</td>\n",
       "      <td>1.167448</td>\n",
       "      <td>1.168465</td>\n",
       "      <td>1.174926</td>\n",
       "      <td>1.166657</td>\n",
       "    </tr>\n",
       "    <tr>\n",
       "      <th>20</th>\n",
       "      <td>2025-07-29</td>\n",
       "      <td>1.15875</td>\n",
       "      <td>1.15994</td>\n",
       "      <td>1.15189</td>\n",
       "      <td>1.15452</td>\n",
       "      <td>1.156275</td>\n",
       "      <td>1.156275</td>\n",
       "      <td>1.167368</td>\n",
       "      <td>1.173774</td>\n",
       "      <td>1.165444</td>\n",
       "    </tr>\n",
       "    <tr>\n",
       "      <th>21</th>\n",
       "      <td>2025-07-30</td>\n",
       "      <td>1.15461</td>\n",
       "      <td>1.15728</td>\n",
       "      <td>1.14002</td>\n",
       "      <td>1.14031</td>\n",
       "      <td>1.148055</td>\n",
       "      <td>1.148055</td>\n",
       "      <td>1.165747</td>\n",
       "      <td>1.172588</td>\n",
       "      <td>1.163710</td>\n",
       "    </tr>\n",
       "    <tr>\n",
       "      <th>22</th>\n",
       "      <td>2025-07-31</td>\n",
       "      <td>1.14033</td>\n",
       "      <td>1.14610</td>\n",
       "      <td>1.13991</td>\n",
       "      <td>1.14135</td>\n",
       "      <td>1.141923</td>\n",
       "      <td>1.141923</td>\n",
       "      <td>1.163806</td>\n",
       "      <td>1.170842</td>\n",
       "      <td>1.162119</td>\n",
       "    </tr>\n",
       "    <tr>\n",
       "      <th>23</th>\n",
       "      <td>2025-08-01</td>\n",
       "      <td>1.14118</td>\n",
       "      <td>1.15971</td>\n",
       "      <td>1.13917</td>\n",
       "      <td>1.15847</td>\n",
       "      <td>1.149633</td>\n",
       "      <td>1.149633</td>\n",
       "      <td>1.162574</td>\n",
       "      <td>1.169890</td>\n",
       "      <td>1.160327</td>\n",
       "    </tr>\n",
       "    <tr>\n",
       "      <th>24</th>\n",
       "      <td>2025-08-04</td>\n",
       "      <td>1.15852</td>\n",
       "      <td>1.15959</td>\n",
       "      <td>1.15497</td>\n",
       "      <td>1.15723</td>\n",
       "      <td>1.157577</td>\n",
       "      <td>1.157577</td>\n",
       "      <td>1.162129</td>\n",
       "      <td>1.168918</td>\n",
       "      <td>1.159641</td>\n",
       "    </tr>\n",
       "    <tr>\n",
       "      <th>25</th>\n",
       "      <td>2025-08-05</td>\n",
       "      <td>1.15674</td>\n",
       "      <td>1.15878</td>\n",
       "      <td>1.15277</td>\n",
       "      <td>1.15749</td>\n",
       "      <td>1.156445</td>\n",
       "      <td>1.156445</td>\n",
       "      <td>1.161654</td>\n",
       "      <td>1.168030</td>\n",
       "      <td>1.158867</td>\n",
       "    </tr>\n",
       "    <tr>\n",
       "      <th>26</th>\n",
       "      <td>2025-08-06</td>\n",
       "      <td>1.15749</td>\n",
       "      <td>1.16687</td>\n",
       "      <td>1.15600</td>\n",
       "      <td>1.16599</td>\n",
       "      <td>1.161587</td>\n",
       "      <td>1.161587</td>\n",
       "      <td>1.161708</td>\n",
       "      <td>1.167726</td>\n",
       "      <td>1.158219</td>\n",
       "    </tr>\n",
       "    <tr>\n",
       "      <th>27</th>\n",
       "      <td>2025-08-07</td>\n",
       "      <td>1.16589</td>\n",
       "      <td>1.16989</td>\n",
       "      <td>1.16110</td>\n",
       "      <td>1.16641</td>\n",
       "      <td>1.165822</td>\n",
       "      <td>1.165822</td>\n",
       "      <td>1.161999</td>\n",
       "      <td>1.167472</td>\n",
       "      <td>1.157961</td>\n",
       "    </tr>\n",
       "    <tr>\n",
       "      <th>28</th>\n",
       "      <td>2025-08-08</td>\n",
       "      <td>1.16644</td>\n",
       "      <td>1.16794</td>\n",
       "      <td>1.16287</td>\n",
       "      <td>1.16404</td>\n",
       "      <td>1.165323</td>\n",
       "      <td>1.165323</td>\n",
       "      <td>1.161931</td>\n",
       "      <td>1.167299</td>\n",
       "      <td>1.157781</td>\n",
       "    </tr>\n",
       "    <tr>\n",
       "      <th>29</th>\n",
       "      <td>2025-08-11</td>\n",
       "      <td>1.16412</td>\n",
       "      <td>1.16756</td>\n",
       "      <td>1.15900</td>\n",
       "      <td>1.16158</td>\n",
       "      <td>1.163065</td>\n",
       "      <td>1.163065</td>\n",
       "      <td>1.161288</td>\n",
       "      <td>1.167188</td>\n",
       "      <td>1.157460</td>\n",
       "    </tr>\n",
       "    <tr>\n",
       "      <th>30</th>\n",
       "      <td>2025-08-12</td>\n",
       "      <td>1.16145</td>\n",
       "      <td>1.16973</td>\n",
       "      <td>1.15985</td>\n",
       "      <td>1.16730</td>\n",
       "      <td>1.164582</td>\n",
       "      <td>1.164582</td>\n",
       "      <td>1.160521</td>\n",
       "      <td>1.167210</td>\n",
       "      <td>1.157488</td>\n",
       "    </tr>\n",
       "    <tr>\n",
       "      <th>31</th>\n",
       "      <td>2025-08-13</td>\n",
       "      <td>1.16740</td>\n",
       "      <td>1.17303</td>\n",
       "      <td>1.16656</td>\n",
       "      <td>1.17044</td>\n",
       "      <td>1.169358</td>\n",
       "      <td>1.169358</td>\n",
       "      <td>1.160055</td>\n",
       "      <td>1.167254</td>\n",
       "      <td>1.158003</td>\n",
       "    </tr>\n",
       "    <tr>\n",
       "      <th>32</th>\n",
       "      <td>2025-08-14</td>\n",
       "      <td>1.17051</td>\n",
       "      <td>1.17152</td>\n",
       "      <td>1.16310</td>\n",
       "      <td>1.16482</td>\n",
       "      <td>1.167488</td>\n",
       "      <td>1.167488</td>\n",
       "      <td>1.159613</td>\n",
       "      <td>1.167618</td>\n",
       "      <td>1.158378</td>\n",
       "    </tr>\n",
       "    <tr>\n",
       "      <th>33</th>\n",
       "      <td>2025-08-15</td>\n",
       "      <td>1.16469</td>\n",
       "      <td>1.17153</td>\n",
       "      <td>1.16422</td>\n",
       "      <td>1.17025</td>\n",
       "      <td>1.167673</td>\n",
       "      <td>1.167673</td>\n",
       "      <td>1.159629</td>\n",
       "      <td>1.167835</td>\n",
       "      <td>1.158679</td>\n",
       "    </tr>\n",
       "    <tr>\n",
       "      <th>34</th>\n",
       "      <td>2025-08-18</td>\n",
       "      <td>1.17065</td>\n",
       "      <td>1.17145</td>\n",
       "      <td>1.16560</td>\n",
       "      <td>1.16609</td>\n",
       "      <td>1.168448</td>\n",
       "      <td>1.168448</td>\n",
       "      <td>1.160498</td>\n",
       "      <td>1.167824</td>\n",
       "      <td>1.158886</td>\n",
       "    </tr>\n",
       "    <tr>\n",
       "      <th>35</th>\n",
       "      <td>2025-08-19</td>\n",
       "      <td>1.16601</td>\n",
       "      <td>1.16929</td>\n",
       "      <td>1.16390</td>\n",
       "      <td>1.16465</td>\n",
       "      <td>1.165963</td>\n",
       "      <td>1.165963</td>\n",
       "      <td>1.161777</td>\n",
       "      <td>1.167486</td>\n",
       "      <td>1.158686</td>\n",
       "    </tr>\n",
       "    <tr>\n",
       "      <th>36</th>\n",
       "      <td>2025-08-20</td>\n",
       "      <td>1.16443</td>\n",
       "      <td>1.16491</td>\n",
       "      <td>1.16275</td>\n",
       "      <td>1.16328</td>\n",
       "      <td>1.163843</td>\n",
       "      <td>1.163843</td>\n",
       "      <td>1.163343</td>\n",
       "      <td>1.166856</td>\n",
       "      <td>1.158269</td>\n",
       "    </tr>\n",
       "  </tbody>\n",
       "</table>\n",
       "</div>"
      ],
      "text/plain": [
       "         time     open     high      low    close      ohlc     sma_1  \\\n",
       "0  2025-07-01  1.17868  1.18298  1.17615  1.18052  1.179582  1.179582   \n",
       "1  2025-07-02  1.18056  1.18101  1.17470  1.17982  1.179023  1.179023   \n",
       "2  2025-07-03  1.17983  1.18101  1.17172  1.17573  1.177072  1.177072   \n",
       "3  2025-07-04  1.17562  1.17876  1.17502  1.17736  1.176690  1.176690   \n",
       "4  2025-07-07  1.17771  1.17903  1.16868  1.17083  1.174063  1.174063   \n",
       "5  2025-07-08  1.17076  1.17654  1.16826  1.17250  1.172015  1.172015   \n",
       "6  2025-07-09  1.17243  1.17294  1.16896  1.17222  1.171638  1.171638   \n",
       "7  2025-07-10  1.17173  1.17497  1.16626  1.17000  1.170740  1.170740   \n",
       "8  2025-07-11  1.16999  1.17141  1.16647  1.16852  1.169097  1.169097   \n",
       "9  2025-07-14  1.16580  1.16977  1.16543  1.16653  1.166882  1.166882   \n",
       "10 2025-07-15  1.16642  1.16928  1.15929  1.16022  1.163803  1.163803   \n",
       "11 2025-07-16  1.16005  1.17215  1.15624  1.16398  1.163105  1.163105   \n",
       "12 2025-07-17  1.16368  1.16425  1.15562  1.15975  1.160825  1.160825   \n",
       "13 2025-07-18  1.15950  1.16719  1.15819  1.16210  1.161745  1.161745   \n",
       "14 2025-07-21  1.16248  1.17168  1.16145  1.16950  1.166278  1.166278   \n",
       "15 2025-07-22  1.16894  1.17605  1.16790  1.17541  1.172075  1.172075   \n",
       "16 2025-07-23  1.17538  1.17751  1.17109  1.17729  1.175318  1.175318   \n",
       "17 2025-07-24  1.17670  1.17887  1.17304  1.17489  1.175875  1.175875   \n",
       "18 2025-07-25  1.17442  1.17608  1.17029  1.17394  1.173682  1.173682   \n",
       "19 2025-07-28  1.17552  1.17704  1.15838  1.15885  1.167448  1.167448   \n",
       "20 2025-07-29  1.15875  1.15994  1.15189  1.15452  1.156275  1.156275   \n",
       "21 2025-07-30  1.15461  1.15728  1.14002  1.14031  1.148055  1.148055   \n",
       "22 2025-07-31  1.14033  1.14610  1.13991  1.14135  1.141923  1.141923   \n",
       "23 2025-08-01  1.14118  1.15971  1.13917  1.15847  1.149633  1.149633   \n",
       "24 2025-08-04  1.15852  1.15959  1.15497  1.15723  1.157577  1.157577   \n",
       "25 2025-08-05  1.15674  1.15878  1.15277  1.15749  1.156445  1.156445   \n",
       "26 2025-08-06  1.15749  1.16687  1.15600  1.16599  1.161587  1.161587   \n",
       "27 2025-08-07  1.16589  1.16989  1.16110  1.16641  1.165822  1.165822   \n",
       "28 2025-08-08  1.16644  1.16794  1.16287  1.16404  1.165323  1.165323   \n",
       "29 2025-08-11  1.16412  1.16756  1.15900  1.16158  1.163065  1.163065   \n",
       "30 2025-08-12  1.16145  1.16973  1.15985  1.16730  1.164582  1.164582   \n",
       "31 2025-08-13  1.16740  1.17303  1.16656  1.17044  1.169358  1.169358   \n",
       "32 2025-08-14  1.17051  1.17152  1.16310  1.16482  1.167488  1.167488   \n",
       "33 2025-08-15  1.16469  1.17153  1.16422  1.17025  1.167673  1.167673   \n",
       "34 2025-08-18  1.17065  1.17145  1.16560  1.16609  1.168448  1.168448   \n",
       "35 2025-08-19  1.16601  1.16929  1.16390  1.16465  1.165963  1.165963   \n",
       "36 2025-08-20  1.16443  1.16491  1.16275  1.16328  1.163843  1.163843   \n",
       "\n",
       "      sma_14   high_20    low_20  \n",
       "0        NaN       NaN       NaN  \n",
       "1        NaN       NaN       NaN  \n",
       "2        NaN       NaN       NaN  \n",
       "3        NaN       NaN       NaN  \n",
       "4        NaN       NaN       NaN  \n",
       "5        NaN       NaN       NaN  \n",
       "6        NaN       NaN       NaN  \n",
       "7        NaN       NaN       NaN  \n",
       "8        NaN       NaN       NaN  \n",
       "9        NaN       NaN       NaN  \n",
       "10       NaN       NaN       NaN  \n",
       "11       NaN       NaN       NaN  \n",
       "12       NaN       NaN       NaN  \n",
       "13  1.170449       NaN       NaN  \n",
       "14  1.169498       NaN       NaN  \n",
       "15  1.169002       NaN       NaN  \n",
       "16  1.168877       NaN       NaN  \n",
       "17  1.168818       NaN       NaN  \n",
       "18  1.168791       NaN       NaN  \n",
       "19  1.168465  1.174926  1.166657  \n",
       "20  1.167368  1.173774  1.165444  \n",
       "21  1.165747  1.172588  1.163710  \n",
       "22  1.163806  1.170842  1.162119  \n",
       "23  1.162574  1.169890  1.160327  \n",
       "24  1.162129  1.168918  1.159641  \n",
       "25  1.161654  1.168030  1.158867  \n",
       "26  1.161708  1.167726  1.158219  \n",
       "27  1.161999  1.167472  1.157961  \n",
       "28  1.161931  1.167299  1.157781  \n",
       "29  1.161288  1.167188  1.157460  \n",
       "30  1.160521  1.167210  1.157488  \n",
       "31  1.160055  1.167254  1.158003  \n",
       "32  1.159613  1.167618  1.158378  \n",
       "33  1.159629  1.167835  1.158679  \n",
       "34  1.160498  1.167824  1.158886  \n",
       "35  1.161777  1.167486  1.158686  \n",
       "36  1.163343  1.166856  1.158269  "
      ]
     },
     "execution_count": 6,
     "metadata": {},
     "output_type": "execute_result"
    }
   ],
   "source": [
    "#ohlc4\n",
    "daily_df['ohlc'] = (daily_df['open'] + daily_df['high'] + daily_df['low'] + daily_df['close']) / 4\n",
    "hourly_df['ohlc'] = (hourly_df['open'] + hourly_df['high'] + hourly_df['low'] + hourly_df['close']) / 4\n",
    "#sma\n",
    "daily_df['sma_1'] = ta.sma(close = daily_df['ohlc'], length= 1 )\n",
    "daily_df['sma_14'] = ta.sma(close = daily_df['ohlc'], length= 14)\n",
    "hourly_df['sma_11'] = ta.sma(close = hourly_df['ohlc'], length= 1)\n",
    "hourly_df['sma_144'] = ta.sma(close = hourly_df['ohlc'], length= 14)\n",
    "daily_df['high_20'] = ta.sma(close = daily_df['high'], length= 20 )\n",
    "daily_df['low_20'] = ta.sma(close = daily_df['low'], length= 20)\n",
    "daily_df"
   ]
  },
  {
   "cell_type": "code",
   "execution_count": 7,
   "id": "8517468f",
   "metadata": {},
   "outputs": [
    {
     "data": {
      "text/html": [
       "<div>\n",
       "<style scoped>\n",
       "    .dataframe tbody tr th:only-of-type {\n",
       "        vertical-align: middle;\n",
       "    }\n",
       "\n",
       "    .dataframe tbody tr th {\n",
       "        vertical-align: top;\n",
       "    }\n",
       "\n",
       "    .dataframe thead th {\n",
       "        text-align: right;\n",
       "    }\n",
       "</style>\n",
       "<table border=\"1\" class=\"dataframe\">\n",
       "  <thead>\n",
       "    <tr style=\"text-align: right;\">\n",
       "      <th></th>\n",
       "      <th>signal</th>\n",
       "      <th>time</th>\n",
       "    </tr>\n",
       "  </thead>\n",
       "  <tbody>\n",
       "    <tr>\n",
       "      <th>18760</th>\n",
       "      <td>sell</td>\n",
       "      <td>2025-07-18 00:00:00</td>\n",
       "    </tr>\n",
       "    <tr>\n",
       "      <th>21636</th>\n",
       "      <td>buy</td>\n",
       "      <td>2025-07-22 00:00:00</td>\n",
       "    </tr>\n",
       "    <tr>\n",
       "      <th>23075</th>\n",
       "      <td>buy</td>\n",
       "      <td>2025-07-23 00:00:00</td>\n",
       "    </tr>\n",
       "    <tr>\n",
       "      <th>24514</th>\n",
       "      <td>buy</td>\n",
       "      <td>2025-07-24 00:00:00</td>\n",
       "    </tr>\n",
       "    <tr>\n",
       "      <th>27870</th>\n",
       "      <td>sell</td>\n",
       "      <td>2025-07-28 08:00:00</td>\n",
       "    </tr>\n",
       "    <tr>\n",
       "      <th>28829</th>\n",
       "      <td>sell</td>\n",
       "      <td>2025-07-29 00:00:00</td>\n",
       "    </tr>\n",
       "    <tr>\n",
       "      <th>30268</th>\n",
       "      <td>sell</td>\n",
       "      <td>2025-07-30 00:00:00</td>\n",
       "    </tr>\n",
       "    <tr>\n",
       "      <th>31707</th>\n",
       "      <td>sell</td>\n",
       "      <td>2025-07-31 00:00:00</td>\n",
       "    </tr>\n",
       "    <tr>\n",
       "      <th>33146</th>\n",
       "      <td>sell</td>\n",
       "      <td>2025-08-01 00:00:00</td>\n",
       "    </tr>\n",
       "    <tr>\n",
       "      <th>36742</th>\n",
       "      <td>sell</td>\n",
       "      <td>2025-08-05 12:00:00</td>\n",
       "    </tr>\n",
       "    <tr>\n",
       "      <th>38900</th>\n",
       "      <td>buy</td>\n",
       "      <td>2025-08-07 00:00:00</td>\n",
       "    </tr>\n",
       "    <tr>\n",
       "      <th>40339</th>\n",
       "      <td>buy</td>\n",
       "      <td>2025-08-08 00:00:00</td>\n",
       "    </tr>\n",
       "    <tr>\n",
       "      <th>42016</th>\n",
       "      <td>buy</td>\n",
       "      <td>2025-08-11 04:00:00</td>\n",
       "    </tr>\n",
       "    <tr>\n",
       "      <th>44175</th>\n",
       "      <td>buy</td>\n",
       "      <td>2025-08-12 16:00:00</td>\n",
       "    </tr>\n",
       "    <tr>\n",
       "      <th>44654</th>\n",
       "      <td>buy</td>\n",
       "      <td>2025-08-13 00:00:00</td>\n",
       "    </tr>\n",
       "    <tr>\n",
       "      <th>46093</th>\n",
       "      <td>buy</td>\n",
       "      <td>2025-08-14 00:00:00</td>\n",
       "    </tr>\n",
       "    <tr>\n",
       "      <th>48252</th>\n",
       "      <td>buy</td>\n",
       "      <td>2025-08-15 12:00:00</td>\n",
       "    </tr>\n",
       "    <tr>\n",
       "      <th>48969</th>\n",
       "      <td>buy</td>\n",
       "      <td>2025-08-18 00:00:00</td>\n",
       "    </tr>\n",
       "  </tbody>\n",
       "</table>\n",
       "</div>"
      ],
      "text/plain": [
       "      signal                time\n",
       "18760   sell 2025-07-18 00:00:00\n",
       "21636    buy 2025-07-22 00:00:00\n",
       "23075    buy 2025-07-23 00:00:00\n",
       "24514    buy 2025-07-24 00:00:00\n",
       "27870   sell 2025-07-28 08:00:00\n",
       "28829   sell 2025-07-29 00:00:00\n",
       "30268   sell 2025-07-30 00:00:00\n",
       "31707   sell 2025-07-31 00:00:00\n",
       "33146   sell 2025-08-01 00:00:00\n",
       "36742   sell 2025-08-05 12:00:00\n",
       "38900    buy 2025-08-07 00:00:00\n",
       "40339    buy 2025-08-08 00:00:00\n",
       "42016    buy 2025-08-11 04:00:00\n",
       "44175    buy 2025-08-12 16:00:00\n",
       "44654    buy 2025-08-13 00:00:00\n",
       "46093    buy 2025-08-14 00:00:00\n",
       "48252    buy 2025-08-15 12:00:00\n",
       "48969    buy 2025-08-18 00:00:00"
      ]
     },
     "execution_count": 7,
     "metadata": {},
     "output_type": "execute_result"
    }
   ],
   "source": [
    "def entring_stoploss_profit(row, hourly_df) :\n",
    "    if row[\"sma_1\"] > row['sma_14'] and row[\"sma_11\"] > row['sma_144'] :\n",
    "        return \"buy\"\n",
    "    elif row['sma_1'] < row['sma_14'] and row['sma_11'] < row['sma_144'] :\n",
    "        return \"sell\"\n",
    "    # Merge daily indicators into minute data (asof = merge on closest earlier date)\n",
    "merged_df1 = pd.merge_asof(ohlc_df, hourly_df, on='time', direction='backward')\n",
    "merged_df = pd.merge_asof(merged_df1, daily_df, on='time', direction='backward')\n",
    "merged_df[\"signal\"] = merged_df.apply(entring_stoploss_profit, axis=1, hourly_df = hourly_df)\n",
    "\n",
    "# Tag first signal per day in original merged_df\n",
    "merged_df['is_first_signal'] = (merged_df[merged_df[\"signal\"].notna()].groupby(merged_df[\"time\"].dt.date).cumcount() == 0)\n",
    "\n",
    "# Set signal only on the first row per day, others = None\n",
    "merged_df['signal'] = merged_df.apply(lambda row: row['signal'] if row['is_first_signal'] else None, axis=1)\n",
    "merged_df[['signal', 'time']].dropna()"
   ]
  },
  {
   "cell_type": "code",
   "execution_count": 8,
   "id": "dd95af1f",
   "metadata": {},
   "outputs": [],
   "source": [
    "merged_df = merged_df.rename(columns={\n",
    "    \"low_x\": \"low\",\n",
    "    \"high_x\": \"high\",\n",
    "    \"open_x\": \"open\",\n",
    "    \"close_x\": \"close\",\n",
    "    \"low_y\": \"hourly_low\",\n",
    "    \"high_y\": \"hourly_high\",\n",
    "    \"open_y\": \"hourly_open\",\n",
    "    \"close_y\": \"hourly_close\",\n",
    "    \"low\": \"daily_low\",\n",
    "    \"high\": \"daily_high\",\n",
    "    \"open\": \"daily_open\",\n",
    "    \"close\": \"daily_close\"\n",
    "})\n"
   ]
  },
  {
   "cell_type": "code",
   "execution_count": 9,
   "id": "e6e3942d",
   "metadata": {},
   "outputs": [
    {
     "name": "stdout",
     "output_type": "stream",
     "text": [
      "['time', 'open', 'high', 'low', 'close', 'hourly_open', 'hourly_high', 'hourly_low', 'hourly_close', 'ohlc_x', 'sma_11', 'sma_144', 'daily_open', 'daily_high', 'daily_low', 'daily_close', 'ohlc_y', 'sma_1', 'sma_14', 'high_20', 'low_20', 'signal', 'is_first_signal']\n"
     ]
    },
    {
     "data": {
      "text/html": [
       "<div>\n",
       "<style scoped>\n",
       "    .dataframe tbody tr th:only-of-type {\n",
       "        vertical-align: middle;\n",
       "    }\n",
       "\n",
       "    .dataframe tbody tr th {\n",
       "        vertical-align: top;\n",
       "    }\n",
       "\n",
       "    .dataframe thead th {\n",
       "        text-align: right;\n",
       "    }\n",
       "</style>\n",
       "<table border=\"1\" class=\"dataframe\">\n",
       "  <thead>\n",
       "    <tr style=\"text-align: right;\">\n",
       "      <th></th>\n",
       "      <th>time</th>\n",
       "      <th>open</th>\n",
       "      <th>high</th>\n",
       "      <th>low</th>\n",
       "      <th>close</th>\n",
       "      <th>hourly_open</th>\n",
       "      <th>hourly_high</th>\n",
       "      <th>hourly_low</th>\n",
       "      <th>hourly_close</th>\n",
       "      <th>ohlc_x</th>\n",
       "      <th>...</th>\n",
       "      <th>daily_high</th>\n",
       "      <th>daily_low</th>\n",
       "      <th>daily_close</th>\n",
       "      <th>ohlc_y</th>\n",
       "      <th>sma_1</th>\n",
       "      <th>sma_14</th>\n",
       "      <th>high_20</th>\n",
       "      <th>low_20</th>\n",
       "      <th>signal</th>\n",
       "      <th>is_first_signal</th>\n",
       "    </tr>\n",
       "  </thead>\n",
       "  <tbody>\n",
       "    <tr>\n",
       "      <th>0</th>\n",
       "      <td>2025-06-30 23:00:00</td>\n",
       "      <td>1.17797</td>\n",
       "      <td>1.17798</td>\n",
       "      <td>1.17774</td>\n",
       "      <td>1.17797</td>\n",
       "      <td>NaN</td>\n",
       "      <td>NaN</td>\n",
       "      <td>NaN</td>\n",
       "      <td>NaN</td>\n",
       "      <td>NaN</td>\n",
       "      <td>...</td>\n",
       "      <td>NaN</td>\n",
       "      <td>NaN</td>\n",
       "      <td>NaN</td>\n",
       "      <td>NaN</td>\n",
       "      <td>NaN</td>\n",
       "      <td>NaN</td>\n",
       "      <td>NaN</td>\n",
       "      <td>NaN</td>\n",
       "      <td>None</td>\n",
       "      <td>NaN</td>\n",
       "    </tr>\n",
       "    <tr>\n",
       "      <th>1</th>\n",
       "      <td>2025-06-30 23:01:00</td>\n",
       "      <td>1.17797</td>\n",
       "      <td>1.17807</td>\n",
       "      <td>1.17794</td>\n",
       "      <td>1.17795</td>\n",
       "      <td>NaN</td>\n",
       "      <td>NaN</td>\n",
       "      <td>NaN</td>\n",
       "      <td>NaN</td>\n",
       "      <td>NaN</td>\n",
       "      <td>...</td>\n",
       "      <td>NaN</td>\n",
       "      <td>NaN</td>\n",
       "      <td>NaN</td>\n",
       "      <td>NaN</td>\n",
       "      <td>NaN</td>\n",
       "      <td>NaN</td>\n",
       "      <td>NaN</td>\n",
       "      <td>NaN</td>\n",
       "      <td>None</td>\n",
       "      <td>NaN</td>\n",
       "    </tr>\n",
       "    <tr>\n",
       "      <th>2</th>\n",
       "      <td>2025-06-30 23:02:00</td>\n",
       "      <td>1.17795</td>\n",
       "      <td>1.17801</td>\n",
       "      <td>1.17795</td>\n",
       "      <td>1.17799</td>\n",
       "      <td>NaN</td>\n",
       "      <td>NaN</td>\n",
       "      <td>NaN</td>\n",
       "      <td>NaN</td>\n",
       "      <td>NaN</td>\n",
       "      <td>...</td>\n",
       "      <td>NaN</td>\n",
       "      <td>NaN</td>\n",
       "      <td>NaN</td>\n",
       "      <td>NaN</td>\n",
       "      <td>NaN</td>\n",
       "      <td>NaN</td>\n",
       "      <td>NaN</td>\n",
       "      <td>NaN</td>\n",
       "      <td>None</td>\n",
       "      <td>NaN</td>\n",
       "    </tr>\n",
       "    <tr>\n",
       "      <th>3</th>\n",
       "      <td>2025-06-30 23:03:00</td>\n",
       "      <td>1.17799</td>\n",
       "      <td>1.17800</td>\n",
       "      <td>1.17791</td>\n",
       "      <td>1.17797</td>\n",
       "      <td>NaN</td>\n",
       "      <td>NaN</td>\n",
       "      <td>NaN</td>\n",
       "      <td>NaN</td>\n",
       "      <td>NaN</td>\n",
       "      <td>...</td>\n",
       "      <td>NaN</td>\n",
       "      <td>NaN</td>\n",
       "      <td>NaN</td>\n",
       "      <td>NaN</td>\n",
       "      <td>NaN</td>\n",
       "      <td>NaN</td>\n",
       "      <td>NaN</td>\n",
       "      <td>NaN</td>\n",
       "      <td>None</td>\n",
       "      <td>NaN</td>\n",
       "    </tr>\n",
       "    <tr>\n",
       "      <th>4</th>\n",
       "      <td>2025-06-30 23:04:00</td>\n",
       "      <td>1.17797</td>\n",
       "      <td>1.17801</td>\n",
       "      <td>1.17791</td>\n",
       "      <td>1.17791</td>\n",
       "      <td>NaN</td>\n",
       "      <td>NaN</td>\n",
       "      <td>NaN</td>\n",
       "      <td>NaN</td>\n",
       "      <td>NaN</td>\n",
       "      <td>...</td>\n",
       "      <td>NaN</td>\n",
       "      <td>NaN</td>\n",
       "      <td>NaN</td>\n",
       "      <td>NaN</td>\n",
       "      <td>NaN</td>\n",
       "      <td>NaN</td>\n",
       "      <td>NaN</td>\n",
       "      <td>NaN</td>\n",
       "      <td>None</td>\n",
       "      <td>NaN</td>\n",
       "    </tr>\n",
       "    <tr>\n",
       "      <th>...</th>\n",
       "      <td>...</td>\n",
       "      <td>...</td>\n",
       "      <td>...</td>\n",
       "      <td>...</td>\n",
       "      <td>...</td>\n",
       "      <td>...</td>\n",
       "      <td>...</td>\n",
       "      <td>...</td>\n",
       "      <td>...</td>\n",
       "      <td>...</td>\n",
       "      <td>...</td>\n",
       "      <td>...</td>\n",
       "      <td>...</td>\n",
       "      <td>...</td>\n",
       "      <td>...</td>\n",
       "      <td>...</td>\n",
       "      <td>...</td>\n",
       "      <td>...</td>\n",
       "      <td>...</td>\n",
       "      <td>...</td>\n",
       "      <td>...</td>\n",
       "    </tr>\n",
       "    <tr>\n",
       "      <th>51936</th>\n",
       "      <td>2025-08-20 01:29:00</td>\n",
       "      <td>1.16483</td>\n",
       "      <td>1.16486</td>\n",
       "      <td>1.16481</td>\n",
       "      <td>1.16484</td>\n",
       "      <td>1.16443</td>\n",
       "      <td>1.16491</td>\n",
       "      <td>1.16314</td>\n",
       "      <td>1.16388</td>\n",
       "      <td>1.16409</td>\n",
       "      <td>...</td>\n",
       "      <td>1.16491</td>\n",
       "      <td>1.16275</td>\n",
       "      <td>1.16328</td>\n",
       "      <td>1.163843</td>\n",
       "      <td>1.163843</td>\n",
       "      <td>1.163343</td>\n",
       "      <td>1.166856</td>\n",
       "      <td>1.158269</td>\n",
       "      <td>None</td>\n",
       "      <td>NaN</td>\n",
       "    </tr>\n",
       "    <tr>\n",
       "      <th>51937</th>\n",
       "      <td>2025-08-20 01:30:00</td>\n",
       "      <td>1.16484</td>\n",
       "      <td>1.16485</td>\n",
       "      <td>1.16475</td>\n",
       "      <td>1.16479</td>\n",
       "      <td>1.16443</td>\n",
       "      <td>1.16491</td>\n",
       "      <td>1.16314</td>\n",
       "      <td>1.16388</td>\n",
       "      <td>1.16409</td>\n",
       "      <td>...</td>\n",
       "      <td>1.16491</td>\n",
       "      <td>1.16275</td>\n",
       "      <td>1.16328</td>\n",
       "      <td>1.163843</td>\n",
       "      <td>1.163843</td>\n",
       "      <td>1.163343</td>\n",
       "      <td>1.166856</td>\n",
       "      <td>1.158269</td>\n",
       "      <td>None</td>\n",
       "      <td>NaN</td>\n",
       "    </tr>\n",
       "    <tr>\n",
       "      <th>51938</th>\n",
       "      <td>2025-08-20 01:31:00</td>\n",
       "      <td>1.16479</td>\n",
       "      <td>1.16488</td>\n",
       "      <td>1.16477</td>\n",
       "      <td>1.16484</td>\n",
       "      <td>1.16443</td>\n",
       "      <td>1.16491</td>\n",
       "      <td>1.16314</td>\n",
       "      <td>1.16388</td>\n",
       "      <td>1.16409</td>\n",
       "      <td>...</td>\n",
       "      <td>1.16491</td>\n",
       "      <td>1.16275</td>\n",
       "      <td>1.16328</td>\n",
       "      <td>1.163843</td>\n",
       "      <td>1.163843</td>\n",
       "      <td>1.163343</td>\n",
       "      <td>1.166856</td>\n",
       "      <td>1.158269</td>\n",
       "      <td>None</td>\n",
       "      <td>NaN</td>\n",
       "    </tr>\n",
       "    <tr>\n",
       "      <th>51939</th>\n",
       "      <td>2025-08-20 01:32:00</td>\n",
       "      <td>1.16484</td>\n",
       "      <td>1.16486</td>\n",
       "      <td>1.16475</td>\n",
       "      <td>1.16480</td>\n",
       "      <td>1.16443</td>\n",
       "      <td>1.16491</td>\n",
       "      <td>1.16314</td>\n",
       "      <td>1.16388</td>\n",
       "      <td>1.16409</td>\n",
       "      <td>...</td>\n",
       "      <td>1.16491</td>\n",
       "      <td>1.16275</td>\n",
       "      <td>1.16328</td>\n",
       "      <td>1.163843</td>\n",
       "      <td>1.163843</td>\n",
       "      <td>1.163343</td>\n",
       "      <td>1.166856</td>\n",
       "      <td>1.158269</td>\n",
       "      <td>None</td>\n",
       "      <td>NaN</td>\n",
       "    </tr>\n",
       "    <tr>\n",
       "      <th>51940</th>\n",
       "      <td>2025-08-20 01:33:00</td>\n",
       "      <td>1.16480</td>\n",
       "      <td>1.16480</td>\n",
       "      <td>1.16472</td>\n",
       "      <td>1.16474</td>\n",
       "      <td>1.16443</td>\n",
       "      <td>1.16491</td>\n",
       "      <td>1.16314</td>\n",
       "      <td>1.16388</td>\n",
       "      <td>1.16409</td>\n",
       "      <td>...</td>\n",
       "      <td>1.16491</td>\n",
       "      <td>1.16275</td>\n",
       "      <td>1.16328</td>\n",
       "      <td>1.163843</td>\n",
       "      <td>1.163843</td>\n",
       "      <td>1.163343</td>\n",
       "      <td>1.166856</td>\n",
       "      <td>1.158269</td>\n",
       "      <td>None</td>\n",
       "      <td>NaN</td>\n",
       "    </tr>\n",
       "  </tbody>\n",
       "</table>\n",
       "<p>51941 rows × 23 columns</p>\n",
       "</div>"
      ],
      "text/plain": [
       "                     time     open     high      low    close  hourly_open  \\\n",
       "0     2025-06-30 23:00:00  1.17797  1.17798  1.17774  1.17797          NaN   \n",
       "1     2025-06-30 23:01:00  1.17797  1.17807  1.17794  1.17795          NaN   \n",
       "2     2025-06-30 23:02:00  1.17795  1.17801  1.17795  1.17799          NaN   \n",
       "3     2025-06-30 23:03:00  1.17799  1.17800  1.17791  1.17797          NaN   \n",
       "4     2025-06-30 23:04:00  1.17797  1.17801  1.17791  1.17791          NaN   \n",
       "...                   ...      ...      ...      ...      ...          ...   \n",
       "51936 2025-08-20 01:29:00  1.16483  1.16486  1.16481  1.16484      1.16443   \n",
       "51937 2025-08-20 01:30:00  1.16484  1.16485  1.16475  1.16479      1.16443   \n",
       "51938 2025-08-20 01:31:00  1.16479  1.16488  1.16477  1.16484      1.16443   \n",
       "51939 2025-08-20 01:32:00  1.16484  1.16486  1.16475  1.16480      1.16443   \n",
       "51940 2025-08-20 01:33:00  1.16480  1.16480  1.16472  1.16474      1.16443   \n",
       "\n",
       "       hourly_high  hourly_low  hourly_close   ohlc_x  ...  daily_high  \\\n",
       "0              NaN         NaN           NaN      NaN  ...         NaN   \n",
       "1              NaN         NaN           NaN      NaN  ...         NaN   \n",
       "2              NaN         NaN           NaN      NaN  ...         NaN   \n",
       "3              NaN         NaN           NaN      NaN  ...         NaN   \n",
       "4              NaN         NaN           NaN      NaN  ...         NaN   \n",
       "...            ...         ...           ...      ...  ...         ...   \n",
       "51936      1.16491     1.16314       1.16388  1.16409  ...     1.16491   \n",
       "51937      1.16491     1.16314       1.16388  1.16409  ...     1.16491   \n",
       "51938      1.16491     1.16314       1.16388  1.16409  ...     1.16491   \n",
       "51939      1.16491     1.16314       1.16388  1.16409  ...     1.16491   \n",
       "51940      1.16491     1.16314       1.16388  1.16409  ...     1.16491   \n",
       "\n",
       "       daily_low  daily_close    ohlc_y     sma_1    sma_14   high_20  \\\n",
       "0            NaN          NaN       NaN       NaN       NaN       NaN   \n",
       "1            NaN          NaN       NaN       NaN       NaN       NaN   \n",
       "2            NaN          NaN       NaN       NaN       NaN       NaN   \n",
       "3            NaN          NaN       NaN       NaN       NaN       NaN   \n",
       "4            NaN          NaN       NaN       NaN       NaN       NaN   \n",
       "...          ...          ...       ...       ...       ...       ...   \n",
       "51936    1.16275      1.16328  1.163843  1.163843  1.163343  1.166856   \n",
       "51937    1.16275      1.16328  1.163843  1.163843  1.163343  1.166856   \n",
       "51938    1.16275      1.16328  1.163843  1.163843  1.163343  1.166856   \n",
       "51939    1.16275      1.16328  1.163843  1.163843  1.163343  1.166856   \n",
       "51940    1.16275      1.16328  1.163843  1.163843  1.163343  1.166856   \n",
       "\n",
       "         low_20  signal  is_first_signal  \n",
       "0           NaN    None              NaN  \n",
       "1           NaN    None              NaN  \n",
       "2           NaN    None              NaN  \n",
       "3           NaN    None              NaN  \n",
       "4           NaN    None              NaN  \n",
       "...         ...     ...              ...  \n",
       "51936  1.158269    None              NaN  \n",
       "51937  1.158269    None              NaN  \n",
       "51938  1.158269    None              NaN  \n",
       "51939  1.158269    None              NaN  \n",
       "51940  1.158269    None              NaN  \n",
       "\n",
       "[51941 rows x 23 columns]"
      ]
     },
     "execution_count": 9,
     "metadata": {},
     "output_type": "execute_result"
    }
   ],
   "source": [
    "print(merged_df.columns.tolist())\n",
    "merged_df"
   ]
  },
  {
   "cell_type": "code",
   "execution_count": 14,
   "id": "7809ceda",
   "metadata": {},
   "outputs": [],
   "source": [
    "# create trade logic\n",
    "def on_bar(data, trades, orders):\n",
    "    open_trades = trades[trades['state'] == 'open']\n",
    "    num_open_trades = open_trades.shape[0]\n",
    "    account_balance = 10000  # your account in USD\n",
    "    risk_percent = 0.20  # 2%\n",
    "    pip_value_per_lot = 10  # on EURUSD, 1 lot = $10 per pip\n",
    "    risk_amount = account_balance * risk_percent\n",
    "    # entry signal\n",
    "    if data['signal'] == 'buy' and not num_open_trades:\n",
    "        stop_loss_pips = (data['high'] - data[\"low_20\"]) # example SL\n",
    "        volume = 50000 #risk_amount / (stop_loss_pips * pip_value_per_lot)\n",
    "        orders.open_trade(symbol, volume, 'buy')\n",
    "    \n",
    "    elif data['signal'] == 'sell' and not num_open_trades:\n",
    "        stop_loss_pips = (data['high_20'] - data[\"low_20\"]) # example SL\n",
    "        volume = 50000 #risk_amount / (stop_loss_pips * pip_value_per_lot)\n",
    "        orders.open_trade(symbol, volume, 'sell')\n",
    "        \n",
    "# exit signal\n",
    "    if num_open_trades:\n",
    "        trade = open_trades.iloc[0]\n",
    "\n",
    "        if trade['order_type'] == 'buy' and data[\"sma_11\"] <= data[\"sma_144\"]:\n",
    "            orders.close_trade(trade)\n",
    "        elif trade['order_type'] == 'sell' and data[\"sma_11\"] >= data[\"sma_144\"]:\n",
    "            orders.close_trade(trade)"
   ]
  },
  {
   "cell_type": "code",
   "execution_count": 15,
   "id": "99cb5aa8",
   "metadata": {},
   "outputs": [
    {
     "data": {
      "text/html": [
       "<div>\n",
       "<style scoped>\n",
       "    .dataframe tbody tr th:only-of-type {\n",
       "        vertical-align: middle;\n",
       "    }\n",
       "\n",
       "    .dataframe tbody tr th {\n",
       "        vertical-align: top;\n",
       "    }\n",
       "\n",
       "    .dataframe thead th {\n",
       "        text-align: right;\n",
       "    }\n",
       "</style>\n",
       "<table border=\"1\" class=\"dataframe\">\n",
       "  <thead>\n",
       "    <tr style=\"text-align: right;\">\n",
       "      <th></th>\n",
       "      <th>state</th>\n",
       "      <th>symbol</th>\n",
       "      <th>order_type</th>\n",
       "      <th>volume</th>\n",
       "      <th>open_time</th>\n",
       "      <th>open_price</th>\n",
       "      <th>close_time</th>\n",
       "      <th>close_price</th>\n",
       "      <th>sl</th>\n",
       "      <th>tp</th>\n",
       "      <th>info</th>\n",
       "      <th>profit</th>\n",
       "      <th>commission</th>\n",
       "      <th>profit_net</th>\n",
       "      <th>profit_cumulative</th>\n",
       "      <th>balance</th>\n",
       "    </tr>\n",
       "  </thead>\n",
       "  <tbody>\n",
       "    <tr>\n",
       "      <th>0</th>\n",
       "      <td>closed</td>\n",
       "      <td>EURUSD</td>\n",
       "      <td>sell</td>\n",
       "      <td>50000</td>\n",
       "      <td>2025-07-18 00:00:00</td>\n",
       "      <td>1.1595</td>\n",
       "      <td>2025-07-18 04:00:00</td>\n",
       "      <td>1.16246</td>\n",
       "      <td>0</td>\n",
       "      <td>0</td>\n",
       "      <td>{}</td>\n",
       "      <td>-148.0</td>\n",
       "      <td>-3.5</td>\n",
       "      <td>-151.5</td>\n",
       "      <td>-151.5</td>\n",
       "      <td>9848.5</td>\n",
       "    </tr>\n",
       "    <tr>\n",
       "      <th>1</th>\n",
       "      <td>closed</td>\n",
       "      <td>EURUSD</td>\n",
       "      <td>buy</td>\n",
       "      <td>50000</td>\n",
       "      <td>2025-07-22 00:00:00</td>\n",
       "      <td>1.16894</td>\n",
       "      <td>2025-07-25 00:00:00</td>\n",
       "      <td>1.17442</td>\n",
       "      <td>0</td>\n",
       "      <td>0</td>\n",
       "      <td>{}</td>\n",
       "      <td>274.0</td>\n",
       "      <td>-3.5</td>\n",
       "      <td>270.5</td>\n",
       "      <td>119.0</td>\n",
       "      <td>10119.0</td>\n",
       "    </tr>\n",
       "    <tr>\n",
       "      <th>2</th>\n",
       "      <td>closed</td>\n",
       "      <td>EURUSD</td>\n",
       "      <td>sell</td>\n",
       "      <td>50000</td>\n",
       "      <td>2025-07-28 08:00:00</td>\n",
       "      <td>1.17474</td>\n",
       "      <td>2025-08-01 12:00:00</td>\n",
       "      <td>1.14066</td>\n",
       "      <td>0</td>\n",
       "      <td>0</td>\n",
       "      <td>{}</td>\n",
       "      <td>1704.0</td>\n",
       "      <td>-3.5</td>\n",
       "      <td>1700.5</td>\n",
       "      <td>1819.5</td>\n",
       "      <td>11819.5</td>\n",
       "    </tr>\n",
       "    <tr>\n",
       "      <th>3</th>\n",
       "      <td>closed</td>\n",
       "      <td>EURUSD</td>\n",
       "      <td>sell</td>\n",
       "      <td>50000</td>\n",
       "      <td>2025-08-05 12:00:00</td>\n",
       "      <td>1.15368</td>\n",
       "      <td>2025-08-05 16:00:00</td>\n",
       "      <td>1.15372</td>\n",
       "      <td>0</td>\n",
       "      <td>0</td>\n",
       "      <td>{}</td>\n",
       "      <td>-2.0</td>\n",
       "      <td>-3.5</td>\n",
       "      <td>-5.5</td>\n",
       "      <td>1814.0</td>\n",
       "      <td>11814.0</td>\n",
       "    </tr>\n",
       "    <tr>\n",
       "      <th>4</th>\n",
       "      <td>closed</td>\n",
       "      <td>EURUSD</td>\n",
       "      <td>buy</td>\n",
       "      <td>50000</td>\n",
       "      <td>2025-08-07 00:00:00</td>\n",
       "      <td>1.16589</td>\n",
       "      <td>2025-08-08 12:00:00</td>\n",
       "      <td>1.16371</td>\n",
       "      <td>0</td>\n",
       "      <td>0</td>\n",
       "      <td>{}</td>\n",
       "      <td>-109.0</td>\n",
       "      <td>-3.5</td>\n",
       "      <td>-112.5</td>\n",
       "      <td>1701.5</td>\n",
       "      <td>11701.5</td>\n",
       "    </tr>\n",
       "    <tr>\n",
       "      <th>5</th>\n",
       "      <td>closed</td>\n",
       "      <td>EURUSD</td>\n",
       "      <td>buy</td>\n",
       "      <td>50000</td>\n",
       "      <td>2025-08-11 04:00:00</td>\n",
       "      <td>1.16474</td>\n",
       "      <td>2025-08-11 12:00:00</td>\n",
       "      <td>1.16548</td>\n",
       "      <td>0</td>\n",
       "      <td>0</td>\n",
       "      <td>{}</td>\n",
       "      <td>37.0</td>\n",
       "      <td>-3.5</td>\n",
       "      <td>33.5</td>\n",
       "      <td>1735.0</td>\n",
       "      <td>11735.0</td>\n",
       "    </tr>\n",
       "    <tr>\n",
       "      <th>6</th>\n",
       "      <td>closed</td>\n",
       "      <td>EURUSD</td>\n",
       "      <td>buy</td>\n",
       "      <td>50000</td>\n",
       "      <td>2025-08-12 16:00:00</td>\n",
       "      <td>1.16425</td>\n",
       "      <td>2025-08-14 12:00:00</td>\n",
       "      <td>1.16685</td>\n",
       "      <td>0</td>\n",
       "      <td>0</td>\n",
       "      <td>{}</td>\n",
       "      <td>130.0</td>\n",
       "      <td>-3.5</td>\n",
       "      <td>126.5</td>\n",
       "      <td>1861.5</td>\n",
       "      <td>11861.5</td>\n",
       "    </tr>\n",
       "    <tr>\n",
       "      <th>7</th>\n",
       "      <td>closed</td>\n",
       "      <td>EURUSD</td>\n",
       "      <td>buy</td>\n",
       "      <td>50000</td>\n",
       "      <td>2025-08-15 12:00:00</td>\n",
       "      <td>1.16822</td>\n",
       "      <td>2025-08-18 12:00:00</td>\n",
       "      <td>1.16819</td>\n",
       "      <td>0</td>\n",
       "      <td>0</td>\n",
       "      <td>{}</td>\n",
       "      <td>-1.5</td>\n",
       "      <td>-3.5</td>\n",
       "      <td>-5.0</td>\n",
       "      <td>1856.5</td>\n",
       "      <td>11856.5</td>\n",
       "    </tr>\n",
       "  </tbody>\n",
       "</table>\n",
       "</div>"
      ],
      "text/plain": [
       "    state  symbol order_type volume            open_time open_price  \\\n",
       "0  closed  EURUSD       sell  50000  2025-07-18 00:00:00     1.1595   \n",
       "1  closed  EURUSD        buy  50000  2025-07-22 00:00:00    1.16894   \n",
       "2  closed  EURUSD       sell  50000  2025-07-28 08:00:00    1.17474   \n",
       "3  closed  EURUSD       sell  50000  2025-08-05 12:00:00    1.15368   \n",
       "4  closed  EURUSD        buy  50000  2025-08-07 00:00:00    1.16589   \n",
       "5  closed  EURUSD        buy  50000  2025-08-11 04:00:00    1.16474   \n",
       "6  closed  EURUSD        buy  50000  2025-08-12 16:00:00    1.16425   \n",
       "7  closed  EURUSD        buy  50000  2025-08-15 12:00:00    1.16822   \n",
       "\n",
       "            close_time close_price sl tp info  profit commission profit_net  \\\n",
       "0  2025-07-18 04:00:00     1.16246  0  0   {}  -148.0       -3.5     -151.5   \n",
       "1  2025-07-25 00:00:00     1.17442  0  0   {}   274.0       -3.5      270.5   \n",
       "2  2025-08-01 12:00:00     1.14066  0  0   {}  1704.0       -3.5     1700.5   \n",
       "3  2025-08-05 16:00:00     1.15372  0  0   {}    -2.0       -3.5       -5.5   \n",
       "4  2025-08-08 12:00:00     1.16371  0  0   {}  -109.0       -3.5     -112.5   \n",
       "5  2025-08-11 12:00:00     1.16548  0  0   {}    37.0       -3.5       33.5   \n",
       "6  2025-08-14 12:00:00     1.16685  0  0   {}   130.0       -3.5      126.5   \n",
       "7  2025-08-18 12:00:00     1.16819  0  0   {}    -1.5       -3.5       -5.0   \n",
       "\n",
       "  profit_cumulative  balance  \n",
       "0            -151.5   9848.5  \n",
       "1             119.0  10119.0  \n",
       "2            1819.5  11819.5  \n",
       "3            1814.0  11814.0  \n",
       "4            1701.5  11701.5  \n",
       "5            1735.0  11735.0  \n",
       "6            1861.5  11861.5  \n",
       "7            1856.5  11856.5  "
      ]
     },
     "execution_count": 15,
     "metadata": {},
     "output_type": "execute_result"
    }
   ],
   "source": [
    "# backtest parameters\n",
    "starting_balance = 10000\n",
    "currency = 'USD'\n",
    "exchange_rate = 1\n",
    "commission = -7 / 100000\n",
    "\n",
    "# backtest\n",
    "bt = Backtester()\n",
    "bt.set_starting_balance(starting_balance, currency=currency)\n",
    "bt.set_exchange_rate(exchange_rate)\n",
    "bt.set_commission(commission)\n",
    "\n",
    "bt.set_historical_data(merged_df)\n",
    "bt.set_on_bar(on_bar)\n",
    "\n",
    "get_ohlc_history(symbol, timeframe, start_datetime, end_datetime)\n",
    "bt.run_backtest()\n",
    "\n",
    "bt.trades\n"
   ]
  },
  {
   "cell_type": "code",
   "execution_count": 16,
   "id": "68ca610f",
   "metadata": {},
   "outputs": [
    {
     "data": {
      "application/vnd.plotly.v1+json": {
       "config": {
        "plotlyServerURL": "https://plot.ly"
       },
       "data": [
        {
         "hovertemplate": "close_time=%{x}<br>balance=%{y}<extra></extra>",
         "legendgroup": "",
         "line": {
          "color": "#636efa",
          "dash": "solid"
         },
         "marker": {
          "symbol": "circle"
         },
         "mode": "lines",
         "name": "",
         "orientation": "v",
         "showlegend": false,
         "type": "scatter",
         "x": [
          "2025-07-18T04:00:00",
          "2025-07-25T00:00:00",
          "2025-08-01T12:00:00",
          "2025-08-05T16:00:00",
          "2025-08-08T12:00:00",
          "2025-08-11T12:00:00",
          "2025-08-14T12:00:00",
          "2025-08-18T12:00:00"
         ],
         "xaxis": "x",
         "y": [
          9848.5,
          10119,
          11819.5,
          11814,
          11701.5,
          11735,
          11861.5,
          11856.5
         ],
         "yaxis": "y"
        }
       ],
       "layout": {
        "legend": {
         "tracegroupgap": 0
        },
        "template": {
         "data": {
          "bar": [
           {
            "error_x": {
             "color": "#f2f5fa"
            },
            "error_y": {
             "color": "#f2f5fa"
            },
            "marker": {
             "line": {
              "color": "rgb(17,17,17)",
              "width": 0.5
             },
             "pattern": {
              "fillmode": "overlay",
              "size": 10,
              "solidity": 0.2
             }
            },
            "type": "bar"
           }
          ],
          "barpolar": [
           {
            "marker": {
             "line": {
              "color": "rgb(17,17,17)",
              "width": 0.5
             },
             "pattern": {
              "fillmode": "overlay",
              "size": 10,
              "solidity": 0.2
             }
            },
            "type": "barpolar"
           }
          ],
          "carpet": [
           {
            "aaxis": {
             "endlinecolor": "#A2B1C6",
             "gridcolor": "#506784",
             "linecolor": "#506784",
             "minorgridcolor": "#506784",
             "startlinecolor": "#A2B1C6"
            },
            "baxis": {
             "endlinecolor": "#A2B1C6",
             "gridcolor": "#506784",
             "linecolor": "#506784",
             "minorgridcolor": "#506784",
             "startlinecolor": "#A2B1C6"
            },
            "type": "carpet"
           }
          ],
          "choropleth": [
           {
            "colorbar": {
             "outlinewidth": 0,
             "ticks": ""
            },
            "type": "choropleth"
           }
          ],
          "contour": [
           {
            "colorbar": {
             "outlinewidth": 0,
             "ticks": ""
            },
            "colorscale": [
             [
              0,
              "#0d0887"
             ],
             [
              0.1111111111111111,
              "#46039f"
             ],
             [
              0.2222222222222222,
              "#7201a8"
             ],
             [
              0.3333333333333333,
              "#9c179e"
             ],
             [
              0.4444444444444444,
              "#bd3786"
             ],
             [
              0.5555555555555556,
              "#d8576b"
             ],
             [
              0.6666666666666666,
              "#ed7953"
             ],
             [
              0.7777777777777778,
              "#fb9f3a"
             ],
             [
              0.8888888888888888,
              "#fdca26"
             ],
             [
              1,
              "#f0f921"
             ]
            ],
            "type": "contour"
           }
          ],
          "contourcarpet": [
           {
            "colorbar": {
             "outlinewidth": 0,
             "ticks": ""
            },
            "type": "contourcarpet"
           }
          ],
          "heatmap": [
           {
            "colorbar": {
             "outlinewidth": 0,
             "ticks": ""
            },
            "colorscale": [
             [
              0,
              "#0d0887"
             ],
             [
              0.1111111111111111,
              "#46039f"
             ],
             [
              0.2222222222222222,
              "#7201a8"
             ],
             [
              0.3333333333333333,
              "#9c179e"
             ],
             [
              0.4444444444444444,
              "#bd3786"
             ],
             [
              0.5555555555555556,
              "#d8576b"
             ],
             [
              0.6666666666666666,
              "#ed7953"
             ],
             [
              0.7777777777777778,
              "#fb9f3a"
             ],
             [
              0.8888888888888888,
              "#fdca26"
             ],
             [
              1,
              "#f0f921"
             ]
            ],
            "type": "heatmap"
           }
          ],
          "histogram": [
           {
            "marker": {
             "pattern": {
              "fillmode": "overlay",
              "size": 10,
              "solidity": 0.2
             }
            },
            "type": "histogram"
           }
          ],
          "histogram2d": [
           {
            "colorbar": {
             "outlinewidth": 0,
             "ticks": ""
            },
            "colorscale": [
             [
              0,
              "#0d0887"
             ],
             [
              0.1111111111111111,
              "#46039f"
             ],
             [
              0.2222222222222222,
              "#7201a8"
             ],
             [
              0.3333333333333333,
              "#9c179e"
             ],
             [
              0.4444444444444444,
              "#bd3786"
             ],
             [
              0.5555555555555556,
              "#d8576b"
             ],
             [
              0.6666666666666666,
              "#ed7953"
             ],
             [
              0.7777777777777778,
              "#fb9f3a"
             ],
             [
              0.8888888888888888,
              "#fdca26"
             ],
             [
              1,
              "#f0f921"
             ]
            ],
            "type": "histogram2d"
           }
          ],
          "histogram2dcontour": [
           {
            "colorbar": {
             "outlinewidth": 0,
             "ticks": ""
            },
            "colorscale": [
             [
              0,
              "#0d0887"
             ],
             [
              0.1111111111111111,
              "#46039f"
             ],
             [
              0.2222222222222222,
              "#7201a8"
             ],
             [
              0.3333333333333333,
              "#9c179e"
             ],
             [
              0.4444444444444444,
              "#bd3786"
             ],
             [
              0.5555555555555556,
              "#d8576b"
             ],
             [
              0.6666666666666666,
              "#ed7953"
             ],
             [
              0.7777777777777778,
              "#fb9f3a"
             ],
             [
              0.8888888888888888,
              "#fdca26"
             ],
             [
              1,
              "#f0f921"
             ]
            ],
            "type": "histogram2dcontour"
           }
          ],
          "mesh3d": [
           {
            "colorbar": {
             "outlinewidth": 0,
             "ticks": ""
            },
            "type": "mesh3d"
           }
          ],
          "parcoords": [
           {
            "line": {
             "colorbar": {
              "outlinewidth": 0,
              "ticks": ""
             }
            },
            "type": "parcoords"
           }
          ],
          "pie": [
           {
            "automargin": true,
            "type": "pie"
           }
          ],
          "scatter": [
           {
            "marker": {
             "line": {
              "color": "#283442"
             }
            },
            "type": "scatter"
           }
          ],
          "scatter3d": [
           {
            "line": {
             "colorbar": {
              "outlinewidth": 0,
              "ticks": ""
             }
            },
            "marker": {
             "colorbar": {
              "outlinewidth": 0,
              "ticks": ""
             }
            },
            "type": "scatter3d"
           }
          ],
          "scattercarpet": [
           {
            "marker": {
             "colorbar": {
              "outlinewidth": 0,
              "ticks": ""
             }
            },
            "type": "scattercarpet"
           }
          ],
          "scattergeo": [
           {
            "marker": {
             "colorbar": {
              "outlinewidth": 0,
              "ticks": ""
             }
            },
            "type": "scattergeo"
           }
          ],
          "scattergl": [
           {
            "marker": {
             "line": {
              "color": "#283442"
             }
            },
            "type": "scattergl"
           }
          ],
          "scattermap": [
           {
            "marker": {
             "colorbar": {
              "outlinewidth": 0,
              "ticks": ""
             }
            },
            "type": "scattermap"
           }
          ],
          "scattermapbox": [
           {
            "marker": {
             "colorbar": {
              "outlinewidth": 0,
              "ticks": ""
             }
            },
            "type": "scattermapbox"
           }
          ],
          "scatterpolar": [
           {
            "marker": {
             "colorbar": {
              "outlinewidth": 0,
              "ticks": ""
             }
            },
            "type": "scatterpolar"
           }
          ],
          "scatterpolargl": [
           {
            "marker": {
             "colorbar": {
              "outlinewidth": 0,
              "ticks": ""
             }
            },
            "type": "scatterpolargl"
           }
          ],
          "scatterternary": [
           {
            "marker": {
             "colorbar": {
              "outlinewidth": 0,
              "ticks": ""
             }
            },
            "type": "scatterternary"
           }
          ],
          "surface": [
           {
            "colorbar": {
             "outlinewidth": 0,
             "ticks": ""
            },
            "colorscale": [
             [
              0,
              "#0d0887"
             ],
             [
              0.1111111111111111,
              "#46039f"
             ],
             [
              0.2222222222222222,
              "#7201a8"
             ],
             [
              0.3333333333333333,
              "#9c179e"
             ],
             [
              0.4444444444444444,
              "#bd3786"
             ],
             [
              0.5555555555555556,
              "#d8576b"
             ],
             [
              0.6666666666666666,
              "#ed7953"
             ],
             [
              0.7777777777777778,
              "#fb9f3a"
             ],
             [
              0.8888888888888888,
              "#fdca26"
             ],
             [
              1,
              "#f0f921"
             ]
            ],
            "type": "surface"
           }
          ],
          "table": [
           {
            "cells": {
             "fill": {
              "color": "#506784"
             },
             "line": {
              "color": "rgb(17,17,17)"
             }
            },
            "header": {
             "fill": {
              "color": "#2a3f5f"
             },
             "line": {
              "color": "rgb(17,17,17)"
             }
            },
            "type": "table"
           }
          ]
         },
         "layout": {
          "annotationdefaults": {
           "arrowcolor": "#f2f5fa",
           "arrowhead": 0,
           "arrowwidth": 1
          },
          "autotypenumbers": "strict",
          "coloraxis": {
           "colorbar": {
            "outlinewidth": 0,
            "ticks": ""
           }
          },
          "colorscale": {
           "diverging": [
            [
             0,
             "#8e0152"
            ],
            [
             0.1,
             "#c51b7d"
            ],
            [
             0.2,
             "#de77ae"
            ],
            [
             0.3,
             "#f1b6da"
            ],
            [
             0.4,
             "#fde0ef"
            ],
            [
             0.5,
             "#f7f7f7"
            ],
            [
             0.6,
             "#e6f5d0"
            ],
            [
             0.7,
             "#b8e186"
            ],
            [
             0.8,
             "#7fbc41"
            ],
            [
             0.9,
             "#4d9221"
            ],
            [
             1,
             "#276419"
            ]
           ],
           "sequential": [
            [
             0,
             "#0d0887"
            ],
            [
             0.1111111111111111,
             "#46039f"
            ],
            [
             0.2222222222222222,
             "#7201a8"
            ],
            [
             0.3333333333333333,
             "#9c179e"
            ],
            [
             0.4444444444444444,
             "#bd3786"
            ],
            [
             0.5555555555555556,
             "#d8576b"
            ],
            [
             0.6666666666666666,
             "#ed7953"
            ],
            [
             0.7777777777777778,
             "#fb9f3a"
            ],
            [
             0.8888888888888888,
             "#fdca26"
            ],
            [
             1,
             "#f0f921"
            ]
           ],
           "sequentialminus": [
            [
             0,
             "#0d0887"
            ],
            [
             0.1111111111111111,
             "#46039f"
            ],
            [
             0.2222222222222222,
             "#7201a8"
            ],
            [
             0.3333333333333333,
             "#9c179e"
            ],
            [
             0.4444444444444444,
             "#bd3786"
            ],
            [
             0.5555555555555556,
             "#d8576b"
            ],
            [
             0.6666666666666666,
             "#ed7953"
            ],
            [
             0.7777777777777778,
             "#fb9f3a"
            ],
            [
             0.8888888888888888,
             "#fdca26"
            ],
            [
             1,
             "#f0f921"
            ]
           ]
          },
          "colorway": [
           "#636efa",
           "#EF553B",
           "#00cc96",
           "#ab63fa",
           "#FFA15A",
           "#19d3f3",
           "#FF6692",
           "#B6E880",
           "#FF97FF",
           "#FECB52"
          ],
          "font": {
           "color": "#f2f5fa"
          },
          "geo": {
           "bgcolor": "rgb(17,17,17)",
           "lakecolor": "rgb(17,17,17)",
           "landcolor": "rgb(17,17,17)",
           "showlakes": true,
           "showland": true,
           "subunitcolor": "#506784"
          },
          "hoverlabel": {
           "align": "left"
          },
          "hovermode": "closest",
          "mapbox": {
           "style": "dark"
          },
          "paper_bgcolor": "rgb(17,17,17)",
          "plot_bgcolor": "rgb(17,17,17)",
          "polar": {
           "angularaxis": {
            "gridcolor": "#506784",
            "linecolor": "#506784",
            "ticks": ""
           },
           "bgcolor": "rgb(17,17,17)",
           "radialaxis": {
            "gridcolor": "#506784",
            "linecolor": "#506784",
            "ticks": ""
           }
          },
          "scene": {
           "xaxis": {
            "backgroundcolor": "rgb(17,17,17)",
            "gridcolor": "#506784",
            "gridwidth": 2,
            "linecolor": "#506784",
            "showbackground": true,
            "ticks": "",
            "zerolinecolor": "#C8D4E3"
           },
           "yaxis": {
            "backgroundcolor": "rgb(17,17,17)",
            "gridcolor": "#506784",
            "gridwidth": 2,
            "linecolor": "#506784",
            "showbackground": true,
            "ticks": "",
            "zerolinecolor": "#C8D4E3"
           },
           "zaxis": {
            "backgroundcolor": "rgb(17,17,17)",
            "gridcolor": "#506784",
            "gridwidth": 2,
            "linecolor": "#506784",
            "showbackground": true,
            "ticks": "",
            "zerolinecolor": "#C8D4E3"
           }
          },
          "shapedefaults": {
           "line": {
            "color": "#f2f5fa"
           }
          },
          "sliderdefaults": {
           "bgcolor": "#C8D4E3",
           "bordercolor": "rgb(17,17,17)",
           "borderwidth": 1,
           "tickwidth": 0
          },
          "ternary": {
           "aaxis": {
            "gridcolor": "#506784",
            "linecolor": "#506784",
            "ticks": ""
           },
           "baxis": {
            "gridcolor": "#506784",
            "linecolor": "#506784",
            "ticks": ""
           },
           "bgcolor": "rgb(17,17,17)",
           "caxis": {
            "gridcolor": "#506784",
            "linecolor": "#506784",
            "ticks": ""
           }
          },
          "title": {
           "x": 0.05
          },
          "updatemenudefaults": {
           "bgcolor": "#506784",
           "borderwidth": 0
          },
          "xaxis": {
           "automargin": true,
           "gridcolor": "#283442",
           "linecolor": "#506784",
           "ticks": "",
           "title": {
            "standoff": 15
           },
           "zerolinecolor": "#283442",
           "zerolinewidth": 2
          },
          "yaxis": {
           "automargin": true,
           "gridcolor": "#283442",
           "linecolor": "#506784",
           "ticks": "",
           "title": {
            "standoff": 15
           },
           "zerolinecolor": "#283442",
           "zerolinewidth": 2
          }
         }
        },
        "title": {
         "text": "Balance Graph"
        },
        "xaxis": {
         "anchor": "y",
         "domain": [
          0,
          1
         ],
         "title": {
          "text": "close_time"
         }
        },
        "yaxis": {
         "anchor": "x",
         "domain": [
          0,
          1
         ],
         "title": {
          "text": "balance"
         }
        }
       }
      }
     },
     "metadata": {},
     "output_type": "display_data"
    }
   ],
   "source": [
    "mm = bt.plot_balance()\n",
    "display(mm)"
   ]
  },
  {
   "cell_type": "code",
   "execution_count": 17,
   "id": "4528a7b5",
   "metadata": {},
   "outputs": [
    {
     "name": "stdout",
     "output_type": "stream",
     "text": [
      "📊 Backtest Evaluation\n",
      "Daily Drawdown (worst per day, intrabar): -384.50\n",
      "Max Equity Drawdown (portfolio): -384.50\n",
      "worst trades (trade MAE): [np.float64(-384.49999999999875), np.float64(-52.000000000007596), np.float64(739.9999999999962), np.float64(nan), np.float64(-239.5000000000036), np.float64(nan), np.float64(-57.49999999999922), np.float64(-131.00000000000333)]\n",
      "max_intrabar_drawdown: -384.50\n",
      "biggest_profit: 1704.0\n",
      "equity_daily_drawdown: -148.0\n",
      "equity_max_drawown: -118.0\n",
      "avg_win: 536.25\n",
      "avg_loss: -65.12\n",
      "count_profit_trades: 4\n",
      "count_loss_trades: 4\n",
      "Win Rate1: 50.00%\n",
      "rrr: 8.23\n"
     ]
    },
    {
     "data": {
      "text/html": [
       "<div>\n",
       "<style scoped>\n",
       "    .dataframe tbody tr th:only-of-type {\n",
       "        vertical-align: middle;\n",
       "    }\n",
       "\n",
       "    .dataframe tbody tr th {\n",
       "        vertical-align: top;\n",
       "    }\n",
       "\n",
       "    .dataframe thead th {\n",
       "        text-align: right;\n",
       "    }\n",
       "</style>\n",
       "<table border=\"1\" class=\"dataframe\">\n",
       "  <thead>\n",
       "    <tr style=\"text-align: right;\">\n",
       "      <th></th>\n",
       "      <th>order_type</th>\n",
       "      <th>profit</th>\n",
       "    </tr>\n",
       "  </thead>\n",
       "  <tbody>\n",
       "    <tr>\n",
       "      <th>0</th>\n",
       "      <td>buy</td>\n",
       "      <td>330.5</td>\n",
       "    </tr>\n",
       "    <tr>\n",
       "      <th>1</th>\n",
       "      <td>sell</td>\n",
       "      <td>1554.0</td>\n",
       "    </tr>\n",
       "  </tbody>\n",
       "</table>\n",
       "</div>"
      ],
      "text/plain": [
       "  order_type  profit\n",
       "0        buy   330.5\n",
       "1       sell  1554.0"
      ]
     },
     "metadata": {},
     "output_type": "display_data"
    },
    {
     "data": {
      "application/vnd.plotly.v1+json": {
       "config": {
        "plotlyServerURL": "https://plot.ly"
       },
       "data": [
        {
         "hovertemplate": "order_type=%{x}<br>profit=%{y}<extra></extra>",
         "legendgroup": "",
         "marker": {
          "color": "#636efa",
          "pattern": {
           "shape": ""
          }
         },
         "name": "",
         "orientation": "v",
         "showlegend": false,
         "textposition": "auto",
         "type": "bar",
         "x": [
          "buy",
          "sell"
         ],
         "xaxis": "x",
         "y": {
          "bdata": "AAAAAACodEAAAAAAAEiYQA==",
          "dtype": "f8"
         },
         "yaxis": "y"
        }
       ],
       "layout": {
        "barmode": "relative",
        "legend": {
         "tracegroupgap": 0
        },
        "margin": {
         "t": 60
        },
        "template": {
         "data": {
          "bar": [
           {
            "error_x": {
             "color": "#f2f5fa"
            },
            "error_y": {
             "color": "#f2f5fa"
            },
            "marker": {
             "line": {
              "color": "rgb(17,17,17)",
              "width": 0.5
             },
             "pattern": {
              "fillmode": "overlay",
              "size": 10,
              "solidity": 0.2
             }
            },
            "type": "bar"
           }
          ],
          "barpolar": [
           {
            "marker": {
             "line": {
              "color": "rgb(17,17,17)",
              "width": 0.5
             },
             "pattern": {
              "fillmode": "overlay",
              "size": 10,
              "solidity": 0.2
             }
            },
            "type": "barpolar"
           }
          ],
          "carpet": [
           {
            "aaxis": {
             "endlinecolor": "#A2B1C6",
             "gridcolor": "#506784",
             "linecolor": "#506784",
             "minorgridcolor": "#506784",
             "startlinecolor": "#A2B1C6"
            },
            "baxis": {
             "endlinecolor": "#A2B1C6",
             "gridcolor": "#506784",
             "linecolor": "#506784",
             "minorgridcolor": "#506784",
             "startlinecolor": "#A2B1C6"
            },
            "type": "carpet"
           }
          ],
          "choropleth": [
           {
            "colorbar": {
             "outlinewidth": 0,
             "ticks": ""
            },
            "type": "choropleth"
           }
          ],
          "contour": [
           {
            "colorbar": {
             "outlinewidth": 0,
             "ticks": ""
            },
            "colorscale": [
             [
              0,
              "#0d0887"
             ],
             [
              0.1111111111111111,
              "#46039f"
             ],
             [
              0.2222222222222222,
              "#7201a8"
             ],
             [
              0.3333333333333333,
              "#9c179e"
             ],
             [
              0.4444444444444444,
              "#bd3786"
             ],
             [
              0.5555555555555556,
              "#d8576b"
             ],
             [
              0.6666666666666666,
              "#ed7953"
             ],
             [
              0.7777777777777778,
              "#fb9f3a"
             ],
             [
              0.8888888888888888,
              "#fdca26"
             ],
             [
              1,
              "#f0f921"
             ]
            ],
            "type": "contour"
           }
          ],
          "contourcarpet": [
           {
            "colorbar": {
             "outlinewidth": 0,
             "ticks": ""
            },
            "type": "contourcarpet"
           }
          ],
          "heatmap": [
           {
            "colorbar": {
             "outlinewidth": 0,
             "ticks": ""
            },
            "colorscale": [
             [
              0,
              "#0d0887"
             ],
             [
              0.1111111111111111,
              "#46039f"
             ],
             [
              0.2222222222222222,
              "#7201a8"
             ],
             [
              0.3333333333333333,
              "#9c179e"
             ],
             [
              0.4444444444444444,
              "#bd3786"
             ],
             [
              0.5555555555555556,
              "#d8576b"
             ],
             [
              0.6666666666666666,
              "#ed7953"
             ],
             [
              0.7777777777777778,
              "#fb9f3a"
             ],
             [
              0.8888888888888888,
              "#fdca26"
             ],
             [
              1,
              "#f0f921"
             ]
            ],
            "type": "heatmap"
           }
          ],
          "histogram": [
           {
            "marker": {
             "pattern": {
              "fillmode": "overlay",
              "size": 10,
              "solidity": 0.2
             }
            },
            "type": "histogram"
           }
          ],
          "histogram2d": [
           {
            "colorbar": {
             "outlinewidth": 0,
             "ticks": ""
            },
            "colorscale": [
             [
              0,
              "#0d0887"
             ],
             [
              0.1111111111111111,
              "#46039f"
             ],
             [
              0.2222222222222222,
              "#7201a8"
             ],
             [
              0.3333333333333333,
              "#9c179e"
             ],
             [
              0.4444444444444444,
              "#bd3786"
             ],
             [
              0.5555555555555556,
              "#d8576b"
             ],
             [
              0.6666666666666666,
              "#ed7953"
             ],
             [
              0.7777777777777778,
              "#fb9f3a"
             ],
             [
              0.8888888888888888,
              "#fdca26"
             ],
             [
              1,
              "#f0f921"
             ]
            ],
            "type": "histogram2d"
           }
          ],
          "histogram2dcontour": [
           {
            "colorbar": {
             "outlinewidth": 0,
             "ticks": ""
            },
            "colorscale": [
             [
              0,
              "#0d0887"
             ],
             [
              0.1111111111111111,
              "#46039f"
             ],
             [
              0.2222222222222222,
              "#7201a8"
             ],
             [
              0.3333333333333333,
              "#9c179e"
             ],
             [
              0.4444444444444444,
              "#bd3786"
             ],
             [
              0.5555555555555556,
              "#d8576b"
             ],
             [
              0.6666666666666666,
              "#ed7953"
             ],
             [
              0.7777777777777778,
              "#fb9f3a"
             ],
             [
              0.8888888888888888,
              "#fdca26"
             ],
             [
              1,
              "#f0f921"
             ]
            ],
            "type": "histogram2dcontour"
           }
          ],
          "mesh3d": [
           {
            "colorbar": {
             "outlinewidth": 0,
             "ticks": ""
            },
            "type": "mesh3d"
           }
          ],
          "parcoords": [
           {
            "line": {
             "colorbar": {
              "outlinewidth": 0,
              "ticks": ""
             }
            },
            "type": "parcoords"
           }
          ],
          "pie": [
           {
            "automargin": true,
            "type": "pie"
           }
          ],
          "scatter": [
           {
            "marker": {
             "line": {
              "color": "#283442"
             }
            },
            "type": "scatter"
           }
          ],
          "scatter3d": [
           {
            "line": {
             "colorbar": {
              "outlinewidth": 0,
              "ticks": ""
             }
            },
            "marker": {
             "colorbar": {
              "outlinewidth": 0,
              "ticks": ""
             }
            },
            "type": "scatter3d"
           }
          ],
          "scattercarpet": [
           {
            "marker": {
             "colorbar": {
              "outlinewidth": 0,
              "ticks": ""
             }
            },
            "type": "scattercarpet"
           }
          ],
          "scattergeo": [
           {
            "marker": {
             "colorbar": {
              "outlinewidth": 0,
              "ticks": ""
             }
            },
            "type": "scattergeo"
           }
          ],
          "scattergl": [
           {
            "marker": {
             "line": {
              "color": "#283442"
             }
            },
            "type": "scattergl"
           }
          ],
          "scattermap": [
           {
            "marker": {
             "colorbar": {
              "outlinewidth": 0,
              "ticks": ""
             }
            },
            "type": "scattermap"
           }
          ],
          "scattermapbox": [
           {
            "marker": {
             "colorbar": {
              "outlinewidth": 0,
              "ticks": ""
             }
            },
            "type": "scattermapbox"
           }
          ],
          "scatterpolar": [
           {
            "marker": {
             "colorbar": {
              "outlinewidth": 0,
              "ticks": ""
             }
            },
            "type": "scatterpolar"
           }
          ],
          "scatterpolargl": [
           {
            "marker": {
             "colorbar": {
              "outlinewidth": 0,
              "ticks": ""
             }
            },
            "type": "scatterpolargl"
           }
          ],
          "scatterternary": [
           {
            "marker": {
             "colorbar": {
              "outlinewidth": 0,
              "ticks": ""
             }
            },
            "type": "scatterternary"
           }
          ],
          "surface": [
           {
            "colorbar": {
             "outlinewidth": 0,
             "ticks": ""
            },
            "colorscale": [
             [
              0,
              "#0d0887"
             ],
             [
              0.1111111111111111,
              "#46039f"
             ],
             [
              0.2222222222222222,
              "#7201a8"
             ],
             [
              0.3333333333333333,
              "#9c179e"
             ],
             [
              0.4444444444444444,
              "#bd3786"
             ],
             [
              0.5555555555555556,
              "#d8576b"
             ],
             [
              0.6666666666666666,
              "#ed7953"
             ],
             [
              0.7777777777777778,
              "#fb9f3a"
             ],
             [
              0.8888888888888888,
              "#fdca26"
             ],
             [
              1,
              "#f0f921"
             ]
            ],
            "type": "surface"
           }
          ],
          "table": [
           {
            "cells": {
             "fill": {
              "color": "#506784"
             },
             "line": {
              "color": "rgb(17,17,17)"
             }
            },
            "header": {
             "fill": {
              "color": "#2a3f5f"
             },
             "line": {
              "color": "rgb(17,17,17)"
             }
            },
            "type": "table"
           }
          ]
         },
         "layout": {
          "annotationdefaults": {
           "arrowcolor": "#f2f5fa",
           "arrowhead": 0,
           "arrowwidth": 1
          },
          "autotypenumbers": "strict",
          "coloraxis": {
           "colorbar": {
            "outlinewidth": 0,
            "ticks": ""
           }
          },
          "colorscale": {
           "diverging": [
            [
             0,
             "#8e0152"
            ],
            [
             0.1,
             "#c51b7d"
            ],
            [
             0.2,
             "#de77ae"
            ],
            [
             0.3,
             "#f1b6da"
            ],
            [
             0.4,
             "#fde0ef"
            ],
            [
             0.5,
             "#f7f7f7"
            ],
            [
             0.6,
             "#e6f5d0"
            ],
            [
             0.7,
             "#b8e186"
            ],
            [
             0.8,
             "#7fbc41"
            ],
            [
             0.9,
             "#4d9221"
            ],
            [
             1,
             "#276419"
            ]
           ],
           "sequential": [
            [
             0,
             "#0d0887"
            ],
            [
             0.1111111111111111,
             "#46039f"
            ],
            [
             0.2222222222222222,
             "#7201a8"
            ],
            [
             0.3333333333333333,
             "#9c179e"
            ],
            [
             0.4444444444444444,
             "#bd3786"
            ],
            [
             0.5555555555555556,
             "#d8576b"
            ],
            [
             0.6666666666666666,
             "#ed7953"
            ],
            [
             0.7777777777777778,
             "#fb9f3a"
            ],
            [
             0.8888888888888888,
             "#fdca26"
            ],
            [
             1,
             "#f0f921"
            ]
           ],
           "sequentialminus": [
            [
             0,
             "#0d0887"
            ],
            [
             0.1111111111111111,
             "#46039f"
            ],
            [
             0.2222222222222222,
             "#7201a8"
            ],
            [
             0.3333333333333333,
             "#9c179e"
            ],
            [
             0.4444444444444444,
             "#bd3786"
            ],
            [
             0.5555555555555556,
             "#d8576b"
            ],
            [
             0.6666666666666666,
             "#ed7953"
            ],
            [
             0.7777777777777778,
             "#fb9f3a"
            ],
            [
             0.8888888888888888,
             "#fdca26"
            ],
            [
             1,
             "#f0f921"
            ]
           ]
          },
          "colorway": [
           "#636efa",
           "#EF553B",
           "#00cc96",
           "#ab63fa",
           "#FFA15A",
           "#19d3f3",
           "#FF6692",
           "#B6E880",
           "#FF97FF",
           "#FECB52"
          ],
          "font": {
           "color": "#f2f5fa"
          },
          "geo": {
           "bgcolor": "rgb(17,17,17)",
           "lakecolor": "rgb(17,17,17)",
           "landcolor": "rgb(17,17,17)",
           "showlakes": true,
           "showland": true,
           "subunitcolor": "#506784"
          },
          "hoverlabel": {
           "align": "left"
          },
          "hovermode": "closest",
          "mapbox": {
           "style": "dark"
          },
          "paper_bgcolor": "rgb(17,17,17)",
          "plot_bgcolor": "rgb(17,17,17)",
          "polar": {
           "angularaxis": {
            "gridcolor": "#506784",
            "linecolor": "#506784",
            "ticks": ""
           },
           "bgcolor": "rgb(17,17,17)",
           "radialaxis": {
            "gridcolor": "#506784",
            "linecolor": "#506784",
            "ticks": ""
           }
          },
          "scene": {
           "xaxis": {
            "backgroundcolor": "rgb(17,17,17)",
            "gridcolor": "#506784",
            "gridwidth": 2,
            "linecolor": "#506784",
            "showbackground": true,
            "ticks": "",
            "zerolinecolor": "#C8D4E3"
           },
           "yaxis": {
            "backgroundcolor": "rgb(17,17,17)",
            "gridcolor": "#506784",
            "gridwidth": 2,
            "linecolor": "#506784",
            "showbackground": true,
            "ticks": "",
            "zerolinecolor": "#C8D4E3"
           },
           "zaxis": {
            "backgroundcolor": "rgb(17,17,17)",
            "gridcolor": "#506784",
            "gridwidth": 2,
            "linecolor": "#506784",
            "showbackground": true,
            "ticks": "",
            "zerolinecolor": "#C8D4E3"
           }
          },
          "shapedefaults": {
           "line": {
            "color": "#f2f5fa"
           }
          },
          "sliderdefaults": {
           "bgcolor": "#C8D4E3",
           "bordercolor": "rgb(17,17,17)",
           "borderwidth": 1,
           "tickwidth": 0
          },
          "ternary": {
           "aaxis": {
            "gridcolor": "#506784",
            "linecolor": "#506784",
            "ticks": ""
           },
           "baxis": {
            "gridcolor": "#506784",
            "linecolor": "#506784",
            "ticks": ""
           },
           "bgcolor": "rgb(17,17,17)",
           "caxis": {
            "gridcolor": "#506784",
            "linecolor": "#506784",
            "ticks": ""
           }
          },
          "title": {
           "x": 0.05
          },
          "updatemenudefaults": {
           "bgcolor": "#506784",
           "borderwidth": 0
          },
          "xaxis": {
           "automargin": true,
           "gridcolor": "#283442",
           "linecolor": "#506784",
           "ticks": "",
           "title": {
            "standoff": 15
           },
           "zerolinecolor": "#283442",
           "zerolinewidth": 2
          },
          "yaxis": {
           "automargin": true,
           "gridcolor": "#283442",
           "linecolor": "#506784",
           "ticks": "",
           "title": {
            "standoff": 15
           },
           "zerolinecolor": "#283442",
           "zerolinewidth": 2
          }
         }
        },
        "xaxis": {
         "anchor": "y",
         "domain": [
          0,
          1
         ],
         "title": {
          "text": "order_type"
         }
        },
        "yaxis": {
         "anchor": "x",
         "domain": [
          0,
          1
         ],
         "title": {
          "text": "profit"
         }
        }
       }
      }
     },
     "metadata": {},
     "output_type": "display_data"
    },
    {
     "data": {
      "application/vnd.plotly.v1+json": {
       "config": {
        "plotlyServerURL": "https://plot.ly"
       },
       "data": [
        {
         "hovertemplate": "dayofweek=%{x}<br>profit=%{y}<extra></extra>",
         "legendgroup": "",
         "marker": {
          "color": "#636efa",
          "pattern": {
           "shape": ""
          }
         },
         "name": "",
         "orientation": "v",
         "showlegend": false,
         "textposition": "auto",
         "type": "bar",
         "x": {
          "bdata": "AAAAAAEAAAADAAAABAAAAA==",
          "dtype": "i4"
         },
         "xaxis": "x",
         "y": {
          "bdata": "AAAAAAA0m0AAAAAAACB5QAAAAAAAQFvAAAAAAACwYsA=",
          "dtype": "f8"
         },
         "yaxis": "y"
        }
       ],
       "layout": {
        "barmode": "relative",
        "legend": {
         "tracegroupgap": 0
        },
        "margin": {
         "t": 60
        },
        "template": {
         "data": {
          "bar": [
           {
            "error_x": {
             "color": "#f2f5fa"
            },
            "error_y": {
             "color": "#f2f5fa"
            },
            "marker": {
             "line": {
              "color": "rgb(17,17,17)",
              "width": 0.5
             },
             "pattern": {
              "fillmode": "overlay",
              "size": 10,
              "solidity": 0.2
             }
            },
            "type": "bar"
           }
          ],
          "barpolar": [
           {
            "marker": {
             "line": {
              "color": "rgb(17,17,17)",
              "width": 0.5
             },
             "pattern": {
              "fillmode": "overlay",
              "size": 10,
              "solidity": 0.2
             }
            },
            "type": "barpolar"
           }
          ],
          "carpet": [
           {
            "aaxis": {
             "endlinecolor": "#A2B1C6",
             "gridcolor": "#506784",
             "linecolor": "#506784",
             "minorgridcolor": "#506784",
             "startlinecolor": "#A2B1C6"
            },
            "baxis": {
             "endlinecolor": "#A2B1C6",
             "gridcolor": "#506784",
             "linecolor": "#506784",
             "minorgridcolor": "#506784",
             "startlinecolor": "#A2B1C6"
            },
            "type": "carpet"
           }
          ],
          "choropleth": [
           {
            "colorbar": {
             "outlinewidth": 0,
             "ticks": ""
            },
            "type": "choropleth"
           }
          ],
          "contour": [
           {
            "colorbar": {
             "outlinewidth": 0,
             "ticks": ""
            },
            "colorscale": [
             [
              0,
              "#0d0887"
             ],
             [
              0.1111111111111111,
              "#46039f"
             ],
             [
              0.2222222222222222,
              "#7201a8"
             ],
             [
              0.3333333333333333,
              "#9c179e"
             ],
             [
              0.4444444444444444,
              "#bd3786"
             ],
             [
              0.5555555555555556,
              "#d8576b"
             ],
             [
              0.6666666666666666,
              "#ed7953"
             ],
             [
              0.7777777777777778,
              "#fb9f3a"
             ],
             [
              0.8888888888888888,
              "#fdca26"
             ],
             [
              1,
              "#f0f921"
             ]
            ],
            "type": "contour"
           }
          ],
          "contourcarpet": [
           {
            "colorbar": {
             "outlinewidth": 0,
             "ticks": ""
            },
            "type": "contourcarpet"
           }
          ],
          "heatmap": [
           {
            "colorbar": {
             "outlinewidth": 0,
             "ticks": ""
            },
            "colorscale": [
             [
              0,
              "#0d0887"
             ],
             [
              0.1111111111111111,
              "#46039f"
             ],
             [
              0.2222222222222222,
              "#7201a8"
             ],
             [
              0.3333333333333333,
              "#9c179e"
             ],
             [
              0.4444444444444444,
              "#bd3786"
             ],
             [
              0.5555555555555556,
              "#d8576b"
             ],
             [
              0.6666666666666666,
              "#ed7953"
             ],
             [
              0.7777777777777778,
              "#fb9f3a"
             ],
             [
              0.8888888888888888,
              "#fdca26"
             ],
             [
              1,
              "#f0f921"
             ]
            ],
            "type": "heatmap"
           }
          ],
          "histogram": [
           {
            "marker": {
             "pattern": {
              "fillmode": "overlay",
              "size": 10,
              "solidity": 0.2
             }
            },
            "type": "histogram"
           }
          ],
          "histogram2d": [
           {
            "colorbar": {
             "outlinewidth": 0,
             "ticks": ""
            },
            "colorscale": [
             [
              0,
              "#0d0887"
             ],
             [
              0.1111111111111111,
              "#46039f"
             ],
             [
              0.2222222222222222,
              "#7201a8"
             ],
             [
              0.3333333333333333,
              "#9c179e"
             ],
             [
              0.4444444444444444,
              "#bd3786"
             ],
             [
              0.5555555555555556,
              "#d8576b"
             ],
             [
              0.6666666666666666,
              "#ed7953"
             ],
             [
              0.7777777777777778,
              "#fb9f3a"
             ],
             [
              0.8888888888888888,
              "#fdca26"
             ],
             [
              1,
              "#f0f921"
             ]
            ],
            "type": "histogram2d"
           }
          ],
          "histogram2dcontour": [
           {
            "colorbar": {
             "outlinewidth": 0,
             "ticks": ""
            },
            "colorscale": [
             [
              0,
              "#0d0887"
             ],
             [
              0.1111111111111111,
              "#46039f"
             ],
             [
              0.2222222222222222,
              "#7201a8"
             ],
             [
              0.3333333333333333,
              "#9c179e"
             ],
             [
              0.4444444444444444,
              "#bd3786"
             ],
             [
              0.5555555555555556,
              "#d8576b"
             ],
             [
              0.6666666666666666,
              "#ed7953"
             ],
             [
              0.7777777777777778,
              "#fb9f3a"
             ],
             [
              0.8888888888888888,
              "#fdca26"
             ],
             [
              1,
              "#f0f921"
             ]
            ],
            "type": "histogram2dcontour"
           }
          ],
          "mesh3d": [
           {
            "colorbar": {
             "outlinewidth": 0,
             "ticks": ""
            },
            "type": "mesh3d"
           }
          ],
          "parcoords": [
           {
            "line": {
             "colorbar": {
              "outlinewidth": 0,
              "ticks": ""
             }
            },
            "type": "parcoords"
           }
          ],
          "pie": [
           {
            "automargin": true,
            "type": "pie"
           }
          ],
          "scatter": [
           {
            "marker": {
             "line": {
              "color": "#283442"
             }
            },
            "type": "scatter"
           }
          ],
          "scatter3d": [
           {
            "line": {
             "colorbar": {
              "outlinewidth": 0,
              "ticks": ""
             }
            },
            "marker": {
             "colorbar": {
              "outlinewidth": 0,
              "ticks": ""
             }
            },
            "type": "scatter3d"
           }
          ],
          "scattercarpet": [
           {
            "marker": {
             "colorbar": {
              "outlinewidth": 0,
              "ticks": ""
             }
            },
            "type": "scattercarpet"
           }
          ],
          "scattergeo": [
           {
            "marker": {
             "colorbar": {
              "outlinewidth": 0,
              "ticks": ""
             }
            },
            "type": "scattergeo"
           }
          ],
          "scattergl": [
           {
            "marker": {
             "line": {
              "color": "#283442"
             }
            },
            "type": "scattergl"
           }
          ],
          "scattermap": [
           {
            "marker": {
             "colorbar": {
              "outlinewidth": 0,
              "ticks": ""
             }
            },
            "type": "scattermap"
           }
          ],
          "scattermapbox": [
           {
            "marker": {
             "colorbar": {
              "outlinewidth": 0,
              "ticks": ""
             }
            },
            "type": "scattermapbox"
           }
          ],
          "scatterpolar": [
           {
            "marker": {
             "colorbar": {
              "outlinewidth": 0,
              "ticks": ""
             }
            },
            "type": "scatterpolar"
           }
          ],
          "scatterpolargl": [
           {
            "marker": {
             "colorbar": {
              "outlinewidth": 0,
              "ticks": ""
             }
            },
            "type": "scatterpolargl"
           }
          ],
          "scatterternary": [
           {
            "marker": {
             "colorbar": {
              "outlinewidth": 0,
              "ticks": ""
             }
            },
            "type": "scatterternary"
           }
          ],
          "surface": [
           {
            "colorbar": {
             "outlinewidth": 0,
             "ticks": ""
            },
            "colorscale": [
             [
              0,
              "#0d0887"
             ],
             [
              0.1111111111111111,
              "#46039f"
             ],
             [
              0.2222222222222222,
              "#7201a8"
             ],
             [
              0.3333333333333333,
              "#9c179e"
             ],
             [
              0.4444444444444444,
              "#bd3786"
             ],
             [
              0.5555555555555556,
              "#d8576b"
             ],
             [
              0.6666666666666666,
              "#ed7953"
             ],
             [
              0.7777777777777778,
              "#fb9f3a"
             ],
             [
              0.8888888888888888,
              "#fdca26"
             ],
             [
              1,
              "#f0f921"
             ]
            ],
            "type": "surface"
           }
          ],
          "table": [
           {
            "cells": {
             "fill": {
              "color": "#506784"
             },
             "line": {
              "color": "rgb(17,17,17)"
             }
            },
            "header": {
             "fill": {
              "color": "#2a3f5f"
             },
             "line": {
              "color": "rgb(17,17,17)"
             }
            },
            "type": "table"
           }
          ]
         },
         "layout": {
          "annotationdefaults": {
           "arrowcolor": "#f2f5fa",
           "arrowhead": 0,
           "arrowwidth": 1
          },
          "autotypenumbers": "strict",
          "coloraxis": {
           "colorbar": {
            "outlinewidth": 0,
            "ticks": ""
           }
          },
          "colorscale": {
           "diverging": [
            [
             0,
             "#8e0152"
            ],
            [
             0.1,
             "#c51b7d"
            ],
            [
             0.2,
             "#de77ae"
            ],
            [
             0.3,
             "#f1b6da"
            ],
            [
             0.4,
             "#fde0ef"
            ],
            [
             0.5,
             "#f7f7f7"
            ],
            [
             0.6,
             "#e6f5d0"
            ],
            [
             0.7,
             "#b8e186"
            ],
            [
             0.8,
             "#7fbc41"
            ],
            [
             0.9,
             "#4d9221"
            ],
            [
             1,
             "#276419"
            ]
           ],
           "sequential": [
            [
             0,
             "#0d0887"
            ],
            [
             0.1111111111111111,
             "#46039f"
            ],
            [
             0.2222222222222222,
             "#7201a8"
            ],
            [
             0.3333333333333333,
             "#9c179e"
            ],
            [
             0.4444444444444444,
             "#bd3786"
            ],
            [
             0.5555555555555556,
             "#d8576b"
            ],
            [
             0.6666666666666666,
             "#ed7953"
            ],
            [
             0.7777777777777778,
             "#fb9f3a"
            ],
            [
             0.8888888888888888,
             "#fdca26"
            ],
            [
             1,
             "#f0f921"
            ]
           ],
           "sequentialminus": [
            [
             0,
             "#0d0887"
            ],
            [
             0.1111111111111111,
             "#46039f"
            ],
            [
             0.2222222222222222,
             "#7201a8"
            ],
            [
             0.3333333333333333,
             "#9c179e"
            ],
            [
             0.4444444444444444,
             "#bd3786"
            ],
            [
             0.5555555555555556,
             "#d8576b"
            ],
            [
             0.6666666666666666,
             "#ed7953"
            ],
            [
             0.7777777777777778,
             "#fb9f3a"
            ],
            [
             0.8888888888888888,
             "#fdca26"
            ],
            [
             1,
             "#f0f921"
            ]
           ]
          },
          "colorway": [
           "#636efa",
           "#EF553B",
           "#00cc96",
           "#ab63fa",
           "#FFA15A",
           "#19d3f3",
           "#FF6692",
           "#B6E880",
           "#FF97FF",
           "#FECB52"
          ],
          "font": {
           "color": "#f2f5fa"
          },
          "geo": {
           "bgcolor": "rgb(17,17,17)",
           "lakecolor": "rgb(17,17,17)",
           "landcolor": "rgb(17,17,17)",
           "showlakes": true,
           "showland": true,
           "subunitcolor": "#506784"
          },
          "hoverlabel": {
           "align": "left"
          },
          "hovermode": "closest",
          "mapbox": {
           "style": "dark"
          },
          "paper_bgcolor": "rgb(17,17,17)",
          "plot_bgcolor": "rgb(17,17,17)",
          "polar": {
           "angularaxis": {
            "gridcolor": "#506784",
            "linecolor": "#506784",
            "ticks": ""
           },
           "bgcolor": "rgb(17,17,17)",
           "radialaxis": {
            "gridcolor": "#506784",
            "linecolor": "#506784",
            "ticks": ""
           }
          },
          "scene": {
           "xaxis": {
            "backgroundcolor": "rgb(17,17,17)",
            "gridcolor": "#506784",
            "gridwidth": 2,
            "linecolor": "#506784",
            "showbackground": true,
            "ticks": "",
            "zerolinecolor": "#C8D4E3"
           },
           "yaxis": {
            "backgroundcolor": "rgb(17,17,17)",
            "gridcolor": "#506784",
            "gridwidth": 2,
            "linecolor": "#506784",
            "showbackground": true,
            "ticks": "",
            "zerolinecolor": "#C8D4E3"
           },
           "zaxis": {
            "backgroundcolor": "rgb(17,17,17)",
            "gridcolor": "#506784",
            "gridwidth": 2,
            "linecolor": "#506784",
            "showbackground": true,
            "ticks": "",
            "zerolinecolor": "#C8D4E3"
           }
          },
          "shapedefaults": {
           "line": {
            "color": "#f2f5fa"
           }
          },
          "sliderdefaults": {
           "bgcolor": "#C8D4E3",
           "bordercolor": "rgb(17,17,17)",
           "borderwidth": 1,
           "tickwidth": 0
          },
          "ternary": {
           "aaxis": {
            "gridcolor": "#506784",
            "linecolor": "#506784",
            "ticks": ""
           },
           "baxis": {
            "gridcolor": "#506784",
            "linecolor": "#506784",
            "ticks": ""
           },
           "bgcolor": "rgb(17,17,17)",
           "caxis": {
            "gridcolor": "#506784",
            "linecolor": "#506784",
            "ticks": ""
           }
          },
          "title": {
           "x": 0.05
          },
          "updatemenudefaults": {
           "bgcolor": "#506784",
           "borderwidth": 0
          },
          "xaxis": {
           "automargin": true,
           "gridcolor": "#283442",
           "linecolor": "#506784",
           "ticks": "",
           "title": {
            "standoff": 15
           },
           "zerolinecolor": "#283442",
           "zerolinewidth": 2
          },
          "yaxis": {
           "automargin": true,
           "gridcolor": "#283442",
           "linecolor": "#506784",
           "ticks": "",
           "title": {
            "standoff": 15
           },
           "zerolinecolor": "#283442",
           "zerolinewidth": 2
          }
         }
        },
        "xaxis": {
         "anchor": "y",
         "domain": [
          0,
          1
         ],
         "title": {
          "text": "dayofweek"
         }
        },
        "yaxis": {
         "anchor": "x",
         "domain": [
          0,
          1
         ],
         "title": {
          "text": "profit"
         }
        }
       }
      }
     },
     "metadata": {},
     "output_type": "display_data"
    },
    {
     "data": {
      "application/vnd.plotly.v1+json": {
       "config": {
        "plotlyServerURL": "https://plot.ly"
       },
       "data": [
        {
         "hovertemplate": "hourofday=%{x}<br>profit=%{y}<extra></extra>",
         "legendgroup": "",
         "marker": {
          "color": "#636efa",
          "pattern": {
           "shape": ""
          }
         },
         "name": "",
         "orientation": "v",
         "showlegend": false,
         "textposition": "auto",
         "type": "bar",
         "x": {
          "bdata": "AAAAAAQAAAAIAAAADAAAABAAAAA=",
          "dtype": "i4"
         },
         "xaxis": "x",
         "y": {
          "bdata": "AAAAAAAAMUAAAAAAAIBCQAAAAAAAoJpAAAAAAAAADMAAAAAAAEBgQA==",
          "dtype": "f8"
         },
         "yaxis": "y"
        }
       ],
       "layout": {
        "barmode": "relative",
        "legend": {
         "tracegroupgap": 0
        },
        "margin": {
         "t": 60
        },
        "template": {
         "data": {
          "bar": [
           {
            "error_x": {
             "color": "#f2f5fa"
            },
            "error_y": {
             "color": "#f2f5fa"
            },
            "marker": {
             "line": {
              "color": "rgb(17,17,17)",
              "width": 0.5
             },
             "pattern": {
              "fillmode": "overlay",
              "size": 10,
              "solidity": 0.2
             }
            },
            "type": "bar"
           }
          ],
          "barpolar": [
           {
            "marker": {
             "line": {
              "color": "rgb(17,17,17)",
              "width": 0.5
             },
             "pattern": {
              "fillmode": "overlay",
              "size": 10,
              "solidity": 0.2
             }
            },
            "type": "barpolar"
           }
          ],
          "carpet": [
           {
            "aaxis": {
             "endlinecolor": "#A2B1C6",
             "gridcolor": "#506784",
             "linecolor": "#506784",
             "minorgridcolor": "#506784",
             "startlinecolor": "#A2B1C6"
            },
            "baxis": {
             "endlinecolor": "#A2B1C6",
             "gridcolor": "#506784",
             "linecolor": "#506784",
             "minorgridcolor": "#506784",
             "startlinecolor": "#A2B1C6"
            },
            "type": "carpet"
           }
          ],
          "choropleth": [
           {
            "colorbar": {
             "outlinewidth": 0,
             "ticks": ""
            },
            "type": "choropleth"
           }
          ],
          "contour": [
           {
            "colorbar": {
             "outlinewidth": 0,
             "ticks": ""
            },
            "colorscale": [
             [
              0,
              "#0d0887"
             ],
             [
              0.1111111111111111,
              "#46039f"
             ],
             [
              0.2222222222222222,
              "#7201a8"
             ],
             [
              0.3333333333333333,
              "#9c179e"
             ],
             [
              0.4444444444444444,
              "#bd3786"
             ],
             [
              0.5555555555555556,
              "#d8576b"
             ],
             [
              0.6666666666666666,
              "#ed7953"
             ],
             [
              0.7777777777777778,
              "#fb9f3a"
             ],
             [
              0.8888888888888888,
              "#fdca26"
             ],
             [
              1,
              "#f0f921"
             ]
            ],
            "type": "contour"
           }
          ],
          "contourcarpet": [
           {
            "colorbar": {
             "outlinewidth": 0,
             "ticks": ""
            },
            "type": "contourcarpet"
           }
          ],
          "heatmap": [
           {
            "colorbar": {
             "outlinewidth": 0,
             "ticks": ""
            },
            "colorscale": [
             [
              0,
              "#0d0887"
             ],
             [
              0.1111111111111111,
              "#46039f"
             ],
             [
              0.2222222222222222,
              "#7201a8"
             ],
             [
              0.3333333333333333,
              "#9c179e"
             ],
             [
              0.4444444444444444,
              "#bd3786"
             ],
             [
              0.5555555555555556,
              "#d8576b"
             ],
             [
              0.6666666666666666,
              "#ed7953"
             ],
             [
              0.7777777777777778,
              "#fb9f3a"
             ],
             [
              0.8888888888888888,
              "#fdca26"
             ],
             [
              1,
              "#f0f921"
             ]
            ],
            "type": "heatmap"
           }
          ],
          "histogram": [
           {
            "marker": {
             "pattern": {
              "fillmode": "overlay",
              "size": 10,
              "solidity": 0.2
             }
            },
            "type": "histogram"
           }
          ],
          "histogram2d": [
           {
            "colorbar": {
             "outlinewidth": 0,
             "ticks": ""
            },
            "colorscale": [
             [
              0,
              "#0d0887"
             ],
             [
              0.1111111111111111,
              "#46039f"
             ],
             [
              0.2222222222222222,
              "#7201a8"
             ],
             [
              0.3333333333333333,
              "#9c179e"
             ],
             [
              0.4444444444444444,
              "#bd3786"
             ],
             [
              0.5555555555555556,
              "#d8576b"
             ],
             [
              0.6666666666666666,
              "#ed7953"
             ],
             [
              0.7777777777777778,
              "#fb9f3a"
             ],
             [
              0.8888888888888888,
              "#fdca26"
             ],
             [
              1,
              "#f0f921"
             ]
            ],
            "type": "histogram2d"
           }
          ],
          "histogram2dcontour": [
           {
            "colorbar": {
             "outlinewidth": 0,
             "ticks": ""
            },
            "colorscale": [
             [
              0,
              "#0d0887"
             ],
             [
              0.1111111111111111,
              "#46039f"
             ],
             [
              0.2222222222222222,
              "#7201a8"
             ],
             [
              0.3333333333333333,
              "#9c179e"
             ],
             [
              0.4444444444444444,
              "#bd3786"
             ],
             [
              0.5555555555555556,
              "#d8576b"
             ],
             [
              0.6666666666666666,
              "#ed7953"
             ],
             [
              0.7777777777777778,
              "#fb9f3a"
             ],
             [
              0.8888888888888888,
              "#fdca26"
             ],
             [
              1,
              "#f0f921"
             ]
            ],
            "type": "histogram2dcontour"
           }
          ],
          "mesh3d": [
           {
            "colorbar": {
             "outlinewidth": 0,
             "ticks": ""
            },
            "type": "mesh3d"
           }
          ],
          "parcoords": [
           {
            "line": {
             "colorbar": {
              "outlinewidth": 0,
              "ticks": ""
             }
            },
            "type": "parcoords"
           }
          ],
          "pie": [
           {
            "automargin": true,
            "type": "pie"
           }
          ],
          "scatter": [
           {
            "marker": {
             "line": {
              "color": "#283442"
             }
            },
            "type": "scatter"
           }
          ],
          "scatter3d": [
           {
            "line": {
             "colorbar": {
              "outlinewidth": 0,
              "ticks": ""
             }
            },
            "marker": {
             "colorbar": {
              "outlinewidth": 0,
              "ticks": ""
             }
            },
            "type": "scatter3d"
           }
          ],
          "scattercarpet": [
           {
            "marker": {
             "colorbar": {
              "outlinewidth": 0,
              "ticks": ""
             }
            },
            "type": "scattercarpet"
           }
          ],
          "scattergeo": [
           {
            "marker": {
             "colorbar": {
              "outlinewidth": 0,
              "ticks": ""
             }
            },
            "type": "scattergeo"
           }
          ],
          "scattergl": [
           {
            "marker": {
             "line": {
              "color": "#283442"
             }
            },
            "type": "scattergl"
           }
          ],
          "scattermap": [
           {
            "marker": {
             "colorbar": {
              "outlinewidth": 0,
              "ticks": ""
             }
            },
            "type": "scattermap"
           }
          ],
          "scattermapbox": [
           {
            "marker": {
             "colorbar": {
              "outlinewidth": 0,
              "ticks": ""
             }
            },
            "type": "scattermapbox"
           }
          ],
          "scatterpolar": [
           {
            "marker": {
             "colorbar": {
              "outlinewidth": 0,
              "ticks": ""
             }
            },
            "type": "scatterpolar"
           }
          ],
          "scatterpolargl": [
           {
            "marker": {
             "colorbar": {
              "outlinewidth": 0,
              "ticks": ""
             }
            },
            "type": "scatterpolargl"
           }
          ],
          "scatterternary": [
           {
            "marker": {
             "colorbar": {
              "outlinewidth": 0,
              "ticks": ""
             }
            },
            "type": "scatterternary"
           }
          ],
          "surface": [
           {
            "colorbar": {
             "outlinewidth": 0,
             "ticks": ""
            },
            "colorscale": [
             [
              0,
              "#0d0887"
             ],
             [
              0.1111111111111111,
              "#46039f"
             ],
             [
              0.2222222222222222,
              "#7201a8"
             ],
             [
              0.3333333333333333,
              "#9c179e"
             ],
             [
              0.4444444444444444,
              "#bd3786"
             ],
             [
              0.5555555555555556,
              "#d8576b"
             ],
             [
              0.6666666666666666,
              "#ed7953"
             ],
             [
              0.7777777777777778,
              "#fb9f3a"
             ],
             [
              0.8888888888888888,
              "#fdca26"
             ],
             [
              1,
              "#f0f921"
             ]
            ],
            "type": "surface"
           }
          ],
          "table": [
           {
            "cells": {
             "fill": {
              "color": "#506784"
             },
             "line": {
              "color": "rgb(17,17,17)"
             }
            },
            "header": {
             "fill": {
              "color": "#2a3f5f"
             },
             "line": {
              "color": "rgb(17,17,17)"
             }
            },
            "type": "table"
           }
          ]
         },
         "layout": {
          "annotationdefaults": {
           "arrowcolor": "#f2f5fa",
           "arrowhead": 0,
           "arrowwidth": 1
          },
          "autotypenumbers": "strict",
          "coloraxis": {
           "colorbar": {
            "outlinewidth": 0,
            "ticks": ""
           }
          },
          "colorscale": {
           "diverging": [
            [
             0,
             "#8e0152"
            ],
            [
             0.1,
             "#c51b7d"
            ],
            [
             0.2,
             "#de77ae"
            ],
            [
             0.3,
             "#f1b6da"
            ],
            [
             0.4,
             "#fde0ef"
            ],
            [
             0.5,
             "#f7f7f7"
            ],
            [
             0.6,
             "#e6f5d0"
            ],
            [
             0.7,
             "#b8e186"
            ],
            [
             0.8,
             "#7fbc41"
            ],
            [
             0.9,
             "#4d9221"
            ],
            [
             1,
             "#276419"
            ]
           ],
           "sequential": [
            [
             0,
             "#0d0887"
            ],
            [
             0.1111111111111111,
             "#46039f"
            ],
            [
             0.2222222222222222,
             "#7201a8"
            ],
            [
             0.3333333333333333,
             "#9c179e"
            ],
            [
             0.4444444444444444,
             "#bd3786"
            ],
            [
             0.5555555555555556,
             "#d8576b"
            ],
            [
             0.6666666666666666,
             "#ed7953"
            ],
            [
             0.7777777777777778,
             "#fb9f3a"
            ],
            [
             0.8888888888888888,
             "#fdca26"
            ],
            [
             1,
             "#f0f921"
            ]
           ],
           "sequentialminus": [
            [
             0,
             "#0d0887"
            ],
            [
             0.1111111111111111,
             "#46039f"
            ],
            [
             0.2222222222222222,
             "#7201a8"
            ],
            [
             0.3333333333333333,
             "#9c179e"
            ],
            [
             0.4444444444444444,
             "#bd3786"
            ],
            [
             0.5555555555555556,
             "#d8576b"
            ],
            [
             0.6666666666666666,
             "#ed7953"
            ],
            [
             0.7777777777777778,
             "#fb9f3a"
            ],
            [
             0.8888888888888888,
             "#fdca26"
            ],
            [
             1,
             "#f0f921"
            ]
           ]
          },
          "colorway": [
           "#636efa",
           "#EF553B",
           "#00cc96",
           "#ab63fa",
           "#FFA15A",
           "#19d3f3",
           "#FF6692",
           "#B6E880",
           "#FF97FF",
           "#FECB52"
          ],
          "font": {
           "color": "#f2f5fa"
          },
          "geo": {
           "bgcolor": "rgb(17,17,17)",
           "lakecolor": "rgb(17,17,17)",
           "landcolor": "rgb(17,17,17)",
           "showlakes": true,
           "showland": true,
           "subunitcolor": "#506784"
          },
          "hoverlabel": {
           "align": "left"
          },
          "hovermode": "closest",
          "mapbox": {
           "style": "dark"
          },
          "paper_bgcolor": "rgb(17,17,17)",
          "plot_bgcolor": "rgb(17,17,17)",
          "polar": {
           "angularaxis": {
            "gridcolor": "#506784",
            "linecolor": "#506784",
            "ticks": ""
           },
           "bgcolor": "rgb(17,17,17)",
           "radialaxis": {
            "gridcolor": "#506784",
            "linecolor": "#506784",
            "ticks": ""
           }
          },
          "scene": {
           "xaxis": {
            "backgroundcolor": "rgb(17,17,17)",
            "gridcolor": "#506784",
            "gridwidth": 2,
            "linecolor": "#506784",
            "showbackground": true,
            "ticks": "",
            "zerolinecolor": "#C8D4E3"
           },
           "yaxis": {
            "backgroundcolor": "rgb(17,17,17)",
            "gridcolor": "#506784",
            "gridwidth": 2,
            "linecolor": "#506784",
            "showbackground": true,
            "ticks": "",
            "zerolinecolor": "#C8D4E3"
           },
           "zaxis": {
            "backgroundcolor": "rgb(17,17,17)",
            "gridcolor": "#506784",
            "gridwidth": 2,
            "linecolor": "#506784",
            "showbackground": true,
            "ticks": "",
            "zerolinecolor": "#C8D4E3"
           }
          },
          "shapedefaults": {
           "line": {
            "color": "#f2f5fa"
           }
          },
          "sliderdefaults": {
           "bgcolor": "#C8D4E3",
           "bordercolor": "rgb(17,17,17)",
           "borderwidth": 1,
           "tickwidth": 0
          },
          "ternary": {
           "aaxis": {
            "gridcolor": "#506784",
            "linecolor": "#506784",
            "ticks": ""
           },
           "baxis": {
            "gridcolor": "#506784",
            "linecolor": "#506784",
            "ticks": ""
           },
           "bgcolor": "rgb(17,17,17)",
           "caxis": {
            "gridcolor": "#506784",
            "linecolor": "#506784",
            "ticks": ""
           }
          },
          "title": {
           "x": 0.05
          },
          "updatemenudefaults": {
           "bgcolor": "#506784",
           "borderwidth": 0
          },
          "xaxis": {
           "automargin": true,
           "gridcolor": "#283442",
           "linecolor": "#506784",
           "ticks": "",
           "title": {
            "standoff": 15
           },
           "zerolinecolor": "#283442",
           "zerolinewidth": 2
          },
          "yaxis": {
           "automargin": true,
           "gridcolor": "#283442",
           "linecolor": "#506784",
           "ticks": "",
           "title": {
            "standoff": 15
           },
           "zerolinecolor": "#283442",
           "zerolinewidth": 2
          }
         }
        },
        "xaxis": {
         "anchor": "y",
         "domain": [
          0,
          1
         ],
         "title": {
          "text": "hourofday"
         }
        },
        "yaxis": {
         "anchor": "x",
         "domain": [
          0,
          1
         ],
         "title": {
          "text": "profit"
         }
        }
       }
      }
     },
     "metadata": {},
     "output_type": "display_data"
    },
    {
     "data": {
      "application/vnd.plotly.v1+json": {
       "config": {
        "plotlyServerURL": "https://plot.ly"
       },
       "data": [
        {
         "hovertemplate": "Month=%{x}<br>Total Profit=%{y}<extra></extra>",
         "legendgroup": "",
         "marker": {
          "color": "#00CC96",
          "pattern": {
           "shape": ""
          }
         },
         "name": "",
         "orientation": "v",
         "showlegend": false,
         "textposition": "auto",
         "type": "bar",
         "x": [
          "2025-07",
          "2025-08"
         ],
         "xaxis": "x",
         "y": {
          "bdata": "AAAAAACAX0AAAAAAAHqbQA==",
          "dtype": "f8"
         },
         "yaxis": "y"
        }
       ],
       "layout": {
        "barmode": "relative",
        "legend": {
         "tracegroupgap": 0
        },
        "template": {
         "data": {
          "bar": [
           {
            "error_x": {
             "color": "#f2f5fa"
            },
            "error_y": {
             "color": "#f2f5fa"
            },
            "marker": {
             "line": {
              "color": "rgb(17,17,17)",
              "width": 0.5
             },
             "pattern": {
              "fillmode": "overlay",
              "size": 10,
              "solidity": 0.2
             }
            },
            "type": "bar"
           }
          ],
          "barpolar": [
           {
            "marker": {
             "line": {
              "color": "rgb(17,17,17)",
              "width": 0.5
             },
             "pattern": {
              "fillmode": "overlay",
              "size": 10,
              "solidity": 0.2
             }
            },
            "type": "barpolar"
           }
          ],
          "carpet": [
           {
            "aaxis": {
             "endlinecolor": "#A2B1C6",
             "gridcolor": "#506784",
             "linecolor": "#506784",
             "minorgridcolor": "#506784",
             "startlinecolor": "#A2B1C6"
            },
            "baxis": {
             "endlinecolor": "#A2B1C6",
             "gridcolor": "#506784",
             "linecolor": "#506784",
             "minorgridcolor": "#506784",
             "startlinecolor": "#A2B1C6"
            },
            "type": "carpet"
           }
          ],
          "choropleth": [
           {
            "colorbar": {
             "outlinewidth": 0,
             "ticks": ""
            },
            "type": "choropleth"
           }
          ],
          "contour": [
           {
            "colorbar": {
             "outlinewidth": 0,
             "ticks": ""
            },
            "colorscale": [
             [
              0,
              "#0d0887"
             ],
             [
              0.1111111111111111,
              "#46039f"
             ],
             [
              0.2222222222222222,
              "#7201a8"
             ],
             [
              0.3333333333333333,
              "#9c179e"
             ],
             [
              0.4444444444444444,
              "#bd3786"
             ],
             [
              0.5555555555555556,
              "#d8576b"
             ],
             [
              0.6666666666666666,
              "#ed7953"
             ],
             [
              0.7777777777777778,
              "#fb9f3a"
             ],
             [
              0.8888888888888888,
              "#fdca26"
             ],
             [
              1,
              "#f0f921"
             ]
            ],
            "type": "contour"
           }
          ],
          "contourcarpet": [
           {
            "colorbar": {
             "outlinewidth": 0,
             "ticks": ""
            },
            "type": "contourcarpet"
           }
          ],
          "heatmap": [
           {
            "colorbar": {
             "outlinewidth": 0,
             "ticks": ""
            },
            "colorscale": [
             [
              0,
              "#0d0887"
             ],
             [
              0.1111111111111111,
              "#46039f"
             ],
             [
              0.2222222222222222,
              "#7201a8"
             ],
             [
              0.3333333333333333,
              "#9c179e"
             ],
             [
              0.4444444444444444,
              "#bd3786"
             ],
             [
              0.5555555555555556,
              "#d8576b"
             ],
             [
              0.6666666666666666,
              "#ed7953"
             ],
             [
              0.7777777777777778,
              "#fb9f3a"
             ],
             [
              0.8888888888888888,
              "#fdca26"
             ],
             [
              1,
              "#f0f921"
             ]
            ],
            "type": "heatmap"
           }
          ],
          "histogram": [
           {
            "marker": {
             "pattern": {
              "fillmode": "overlay",
              "size": 10,
              "solidity": 0.2
             }
            },
            "type": "histogram"
           }
          ],
          "histogram2d": [
           {
            "colorbar": {
             "outlinewidth": 0,
             "ticks": ""
            },
            "colorscale": [
             [
              0,
              "#0d0887"
             ],
             [
              0.1111111111111111,
              "#46039f"
             ],
             [
              0.2222222222222222,
              "#7201a8"
             ],
             [
              0.3333333333333333,
              "#9c179e"
             ],
             [
              0.4444444444444444,
              "#bd3786"
             ],
             [
              0.5555555555555556,
              "#d8576b"
             ],
             [
              0.6666666666666666,
              "#ed7953"
             ],
             [
              0.7777777777777778,
              "#fb9f3a"
             ],
             [
              0.8888888888888888,
              "#fdca26"
             ],
             [
              1,
              "#f0f921"
             ]
            ],
            "type": "histogram2d"
           }
          ],
          "histogram2dcontour": [
           {
            "colorbar": {
             "outlinewidth": 0,
             "ticks": ""
            },
            "colorscale": [
             [
              0,
              "#0d0887"
             ],
             [
              0.1111111111111111,
              "#46039f"
             ],
             [
              0.2222222222222222,
              "#7201a8"
             ],
             [
              0.3333333333333333,
              "#9c179e"
             ],
             [
              0.4444444444444444,
              "#bd3786"
             ],
             [
              0.5555555555555556,
              "#d8576b"
             ],
             [
              0.6666666666666666,
              "#ed7953"
             ],
             [
              0.7777777777777778,
              "#fb9f3a"
             ],
             [
              0.8888888888888888,
              "#fdca26"
             ],
             [
              1,
              "#f0f921"
             ]
            ],
            "type": "histogram2dcontour"
           }
          ],
          "mesh3d": [
           {
            "colorbar": {
             "outlinewidth": 0,
             "ticks": ""
            },
            "type": "mesh3d"
           }
          ],
          "parcoords": [
           {
            "line": {
             "colorbar": {
              "outlinewidth": 0,
              "ticks": ""
             }
            },
            "type": "parcoords"
           }
          ],
          "pie": [
           {
            "automargin": true,
            "type": "pie"
           }
          ],
          "scatter": [
           {
            "marker": {
             "line": {
              "color": "#283442"
             }
            },
            "type": "scatter"
           }
          ],
          "scatter3d": [
           {
            "line": {
             "colorbar": {
              "outlinewidth": 0,
              "ticks": ""
             }
            },
            "marker": {
             "colorbar": {
              "outlinewidth": 0,
              "ticks": ""
             }
            },
            "type": "scatter3d"
           }
          ],
          "scattercarpet": [
           {
            "marker": {
             "colorbar": {
              "outlinewidth": 0,
              "ticks": ""
             }
            },
            "type": "scattercarpet"
           }
          ],
          "scattergeo": [
           {
            "marker": {
             "colorbar": {
              "outlinewidth": 0,
              "ticks": ""
             }
            },
            "type": "scattergeo"
           }
          ],
          "scattergl": [
           {
            "marker": {
             "line": {
              "color": "#283442"
             }
            },
            "type": "scattergl"
           }
          ],
          "scattermap": [
           {
            "marker": {
             "colorbar": {
              "outlinewidth": 0,
              "ticks": ""
             }
            },
            "type": "scattermap"
           }
          ],
          "scattermapbox": [
           {
            "marker": {
             "colorbar": {
              "outlinewidth": 0,
              "ticks": ""
             }
            },
            "type": "scattermapbox"
           }
          ],
          "scatterpolar": [
           {
            "marker": {
             "colorbar": {
              "outlinewidth": 0,
              "ticks": ""
             }
            },
            "type": "scatterpolar"
           }
          ],
          "scatterpolargl": [
           {
            "marker": {
             "colorbar": {
              "outlinewidth": 0,
              "ticks": ""
             }
            },
            "type": "scatterpolargl"
           }
          ],
          "scatterternary": [
           {
            "marker": {
             "colorbar": {
              "outlinewidth": 0,
              "ticks": ""
             }
            },
            "type": "scatterternary"
           }
          ],
          "surface": [
           {
            "colorbar": {
             "outlinewidth": 0,
             "ticks": ""
            },
            "colorscale": [
             [
              0,
              "#0d0887"
             ],
             [
              0.1111111111111111,
              "#46039f"
             ],
             [
              0.2222222222222222,
              "#7201a8"
             ],
             [
              0.3333333333333333,
              "#9c179e"
             ],
             [
              0.4444444444444444,
              "#bd3786"
             ],
             [
              0.5555555555555556,
              "#d8576b"
             ],
             [
              0.6666666666666666,
              "#ed7953"
             ],
             [
              0.7777777777777778,
              "#fb9f3a"
             ],
             [
              0.8888888888888888,
              "#fdca26"
             ],
             [
              1,
              "#f0f921"
             ]
            ],
            "type": "surface"
           }
          ],
          "table": [
           {
            "cells": {
             "fill": {
              "color": "#506784"
             },
             "line": {
              "color": "rgb(17,17,17)"
             }
            },
            "header": {
             "fill": {
              "color": "#2a3f5f"
             },
             "line": {
              "color": "rgb(17,17,17)"
             }
            },
            "type": "table"
           }
          ]
         },
         "layout": {
          "annotationdefaults": {
           "arrowcolor": "#f2f5fa",
           "arrowhead": 0,
           "arrowwidth": 1
          },
          "autotypenumbers": "strict",
          "coloraxis": {
           "colorbar": {
            "outlinewidth": 0,
            "ticks": ""
           }
          },
          "colorscale": {
           "diverging": [
            [
             0,
             "#8e0152"
            ],
            [
             0.1,
             "#c51b7d"
            ],
            [
             0.2,
             "#de77ae"
            ],
            [
             0.3,
             "#f1b6da"
            ],
            [
             0.4,
             "#fde0ef"
            ],
            [
             0.5,
             "#f7f7f7"
            ],
            [
             0.6,
             "#e6f5d0"
            ],
            [
             0.7,
             "#b8e186"
            ],
            [
             0.8,
             "#7fbc41"
            ],
            [
             0.9,
             "#4d9221"
            ],
            [
             1,
             "#276419"
            ]
           ],
           "sequential": [
            [
             0,
             "#0d0887"
            ],
            [
             0.1111111111111111,
             "#46039f"
            ],
            [
             0.2222222222222222,
             "#7201a8"
            ],
            [
             0.3333333333333333,
             "#9c179e"
            ],
            [
             0.4444444444444444,
             "#bd3786"
            ],
            [
             0.5555555555555556,
             "#d8576b"
            ],
            [
             0.6666666666666666,
             "#ed7953"
            ],
            [
             0.7777777777777778,
             "#fb9f3a"
            ],
            [
             0.8888888888888888,
             "#fdca26"
            ],
            [
             1,
             "#f0f921"
            ]
           ],
           "sequentialminus": [
            [
             0,
             "#0d0887"
            ],
            [
             0.1111111111111111,
             "#46039f"
            ],
            [
             0.2222222222222222,
             "#7201a8"
            ],
            [
             0.3333333333333333,
             "#9c179e"
            ],
            [
             0.4444444444444444,
             "#bd3786"
            ],
            [
             0.5555555555555556,
             "#d8576b"
            ],
            [
             0.6666666666666666,
             "#ed7953"
            ],
            [
             0.7777777777777778,
             "#fb9f3a"
            ],
            [
             0.8888888888888888,
             "#fdca26"
            ],
            [
             1,
             "#f0f921"
            ]
           ]
          },
          "colorway": [
           "#636efa",
           "#EF553B",
           "#00cc96",
           "#ab63fa",
           "#FFA15A",
           "#19d3f3",
           "#FF6692",
           "#B6E880",
           "#FF97FF",
           "#FECB52"
          ],
          "font": {
           "color": "#f2f5fa"
          },
          "geo": {
           "bgcolor": "rgb(17,17,17)",
           "lakecolor": "rgb(17,17,17)",
           "landcolor": "rgb(17,17,17)",
           "showlakes": true,
           "showland": true,
           "subunitcolor": "#506784"
          },
          "hoverlabel": {
           "align": "left"
          },
          "hovermode": "closest",
          "mapbox": {
           "style": "dark"
          },
          "paper_bgcolor": "rgb(17,17,17)",
          "plot_bgcolor": "rgb(17,17,17)",
          "polar": {
           "angularaxis": {
            "gridcolor": "#506784",
            "linecolor": "#506784",
            "ticks": ""
           },
           "bgcolor": "rgb(17,17,17)",
           "radialaxis": {
            "gridcolor": "#506784",
            "linecolor": "#506784",
            "ticks": ""
           }
          },
          "scene": {
           "xaxis": {
            "backgroundcolor": "rgb(17,17,17)",
            "gridcolor": "#506784",
            "gridwidth": 2,
            "linecolor": "#506784",
            "showbackground": true,
            "ticks": "",
            "zerolinecolor": "#C8D4E3"
           },
           "yaxis": {
            "backgroundcolor": "rgb(17,17,17)",
            "gridcolor": "#506784",
            "gridwidth": 2,
            "linecolor": "#506784",
            "showbackground": true,
            "ticks": "",
            "zerolinecolor": "#C8D4E3"
           },
           "zaxis": {
            "backgroundcolor": "rgb(17,17,17)",
            "gridcolor": "#506784",
            "gridwidth": 2,
            "linecolor": "#506784",
            "showbackground": true,
            "ticks": "",
            "zerolinecolor": "#C8D4E3"
           }
          },
          "shapedefaults": {
           "line": {
            "color": "#f2f5fa"
           }
          },
          "sliderdefaults": {
           "bgcolor": "#C8D4E3",
           "bordercolor": "rgb(17,17,17)",
           "borderwidth": 1,
           "tickwidth": 0
          },
          "ternary": {
           "aaxis": {
            "gridcolor": "#506784",
            "linecolor": "#506784",
            "ticks": ""
           },
           "baxis": {
            "gridcolor": "#506784",
            "linecolor": "#506784",
            "ticks": ""
           },
           "bgcolor": "rgb(17,17,17)",
           "caxis": {
            "gridcolor": "#506784",
            "linecolor": "#506784",
            "ticks": ""
           }
          },
          "title": {
           "x": 0.05
          },
          "updatemenudefaults": {
           "bgcolor": "#506784",
           "borderwidth": 0
          },
          "xaxis": {
           "automargin": true,
           "gridcolor": "#283442",
           "linecolor": "#506784",
           "ticks": "",
           "title": {
            "standoff": 15
           },
           "zerolinecolor": "#283442",
           "zerolinewidth": 2
          },
          "yaxis": {
           "automargin": true,
           "gridcolor": "#283442",
           "linecolor": "#506784",
           "ticks": "",
           "title": {
            "standoff": 15
           },
           "zerolinecolor": "#283442",
           "zerolinewidth": 2
          }
         }
        },
        "title": {
         "text": "Total Profit Per Month"
        },
        "xaxis": {
         "anchor": "y",
         "domain": [
          0,
          1
         ],
         "tickangle": -45,
         "title": {
          "text": "Month"
         }
        },
        "yaxis": {
         "anchor": "x",
         "domain": [
          0,
          1
         ],
         "title": {
          "text": "Total Profit"
         }
        }
       }
      }
     },
     "metadata": {},
     "output_type": "display_data"
    },
    {
     "data": {
      "application/vnd.plotly.v1+json": {
       "config": {
        "plotlyServerURL": "https://plot.ly"
       },
       "data": [
        {
         "hovertemplate": "Year=%{x}<br>Total Profit=%{y}<extra></extra>",
         "legendgroup": "",
         "marker": {
          "color": "#EF553B",
          "pattern": {
           "shape": ""
          }
         },
         "name": "",
         "orientation": "v",
         "showlegend": false,
         "textposition": "auto",
         "type": "bar",
         "x": {
          "bdata": "6QcAAA==",
          "dtype": "i4"
         },
         "xaxis": "x",
         "y": {
          "bdata": "AAAAAABynUA=",
          "dtype": "f8"
         },
         "yaxis": "y"
        }
       ],
       "layout": {
        "barmode": "relative",
        "legend": {
         "tracegroupgap": 0
        },
        "template": {
         "data": {
          "bar": [
           {
            "error_x": {
             "color": "#f2f5fa"
            },
            "error_y": {
             "color": "#f2f5fa"
            },
            "marker": {
             "line": {
              "color": "rgb(17,17,17)",
              "width": 0.5
             },
             "pattern": {
              "fillmode": "overlay",
              "size": 10,
              "solidity": 0.2
             }
            },
            "type": "bar"
           }
          ],
          "barpolar": [
           {
            "marker": {
             "line": {
              "color": "rgb(17,17,17)",
              "width": 0.5
             },
             "pattern": {
              "fillmode": "overlay",
              "size": 10,
              "solidity": 0.2
             }
            },
            "type": "barpolar"
           }
          ],
          "carpet": [
           {
            "aaxis": {
             "endlinecolor": "#A2B1C6",
             "gridcolor": "#506784",
             "linecolor": "#506784",
             "minorgridcolor": "#506784",
             "startlinecolor": "#A2B1C6"
            },
            "baxis": {
             "endlinecolor": "#A2B1C6",
             "gridcolor": "#506784",
             "linecolor": "#506784",
             "minorgridcolor": "#506784",
             "startlinecolor": "#A2B1C6"
            },
            "type": "carpet"
           }
          ],
          "choropleth": [
           {
            "colorbar": {
             "outlinewidth": 0,
             "ticks": ""
            },
            "type": "choropleth"
           }
          ],
          "contour": [
           {
            "colorbar": {
             "outlinewidth": 0,
             "ticks": ""
            },
            "colorscale": [
             [
              0,
              "#0d0887"
             ],
             [
              0.1111111111111111,
              "#46039f"
             ],
             [
              0.2222222222222222,
              "#7201a8"
             ],
             [
              0.3333333333333333,
              "#9c179e"
             ],
             [
              0.4444444444444444,
              "#bd3786"
             ],
             [
              0.5555555555555556,
              "#d8576b"
             ],
             [
              0.6666666666666666,
              "#ed7953"
             ],
             [
              0.7777777777777778,
              "#fb9f3a"
             ],
             [
              0.8888888888888888,
              "#fdca26"
             ],
             [
              1,
              "#f0f921"
             ]
            ],
            "type": "contour"
           }
          ],
          "contourcarpet": [
           {
            "colorbar": {
             "outlinewidth": 0,
             "ticks": ""
            },
            "type": "contourcarpet"
           }
          ],
          "heatmap": [
           {
            "colorbar": {
             "outlinewidth": 0,
             "ticks": ""
            },
            "colorscale": [
             [
              0,
              "#0d0887"
             ],
             [
              0.1111111111111111,
              "#46039f"
             ],
             [
              0.2222222222222222,
              "#7201a8"
             ],
             [
              0.3333333333333333,
              "#9c179e"
             ],
             [
              0.4444444444444444,
              "#bd3786"
             ],
             [
              0.5555555555555556,
              "#d8576b"
             ],
             [
              0.6666666666666666,
              "#ed7953"
             ],
             [
              0.7777777777777778,
              "#fb9f3a"
             ],
             [
              0.8888888888888888,
              "#fdca26"
             ],
             [
              1,
              "#f0f921"
             ]
            ],
            "type": "heatmap"
           }
          ],
          "histogram": [
           {
            "marker": {
             "pattern": {
              "fillmode": "overlay",
              "size": 10,
              "solidity": 0.2
             }
            },
            "type": "histogram"
           }
          ],
          "histogram2d": [
           {
            "colorbar": {
             "outlinewidth": 0,
             "ticks": ""
            },
            "colorscale": [
             [
              0,
              "#0d0887"
             ],
             [
              0.1111111111111111,
              "#46039f"
             ],
             [
              0.2222222222222222,
              "#7201a8"
             ],
             [
              0.3333333333333333,
              "#9c179e"
             ],
             [
              0.4444444444444444,
              "#bd3786"
             ],
             [
              0.5555555555555556,
              "#d8576b"
             ],
             [
              0.6666666666666666,
              "#ed7953"
             ],
             [
              0.7777777777777778,
              "#fb9f3a"
             ],
             [
              0.8888888888888888,
              "#fdca26"
             ],
             [
              1,
              "#f0f921"
             ]
            ],
            "type": "histogram2d"
           }
          ],
          "histogram2dcontour": [
           {
            "colorbar": {
             "outlinewidth": 0,
             "ticks": ""
            },
            "colorscale": [
             [
              0,
              "#0d0887"
             ],
             [
              0.1111111111111111,
              "#46039f"
             ],
             [
              0.2222222222222222,
              "#7201a8"
             ],
             [
              0.3333333333333333,
              "#9c179e"
             ],
             [
              0.4444444444444444,
              "#bd3786"
             ],
             [
              0.5555555555555556,
              "#d8576b"
             ],
             [
              0.6666666666666666,
              "#ed7953"
             ],
             [
              0.7777777777777778,
              "#fb9f3a"
             ],
             [
              0.8888888888888888,
              "#fdca26"
             ],
             [
              1,
              "#f0f921"
             ]
            ],
            "type": "histogram2dcontour"
           }
          ],
          "mesh3d": [
           {
            "colorbar": {
             "outlinewidth": 0,
             "ticks": ""
            },
            "type": "mesh3d"
           }
          ],
          "parcoords": [
           {
            "line": {
             "colorbar": {
              "outlinewidth": 0,
              "ticks": ""
             }
            },
            "type": "parcoords"
           }
          ],
          "pie": [
           {
            "automargin": true,
            "type": "pie"
           }
          ],
          "scatter": [
           {
            "marker": {
             "line": {
              "color": "#283442"
             }
            },
            "type": "scatter"
           }
          ],
          "scatter3d": [
           {
            "line": {
             "colorbar": {
              "outlinewidth": 0,
              "ticks": ""
             }
            },
            "marker": {
             "colorbar": {
              "outlinewidth": 0,
              "ticks": ""
             }
            },
            "type": "scatter3d"
           }
          ],
          "scattercarpet": [
           {
            "marker": {
             "colorbar": {
              "outlinewidth": 0,
              "ticks": ""
             }
            },
            "type": "scattercarpet"
           }
          ],
          "scattergeo": [
           {
            "marker": {
             "colorbar": {
              "outlinewidth": 0,
              "ticks": ""
             }
            },
            "type": "scattergeo"
           }
          ],
          "scattergl": [
           {
            "marker": {
             "line": {
              "color": "#283442"
             }
            },
            "type": "scattergl"
           }
          ],
          "scattermap": [
           {
            "marker": {
             "colorbar": {
              "outlinewidth": 0,
              "ticks": ""
             }
            },
            "type": "scattermap"
           }
          ],
          "scattermapbox": [
           {
            "marker": {
             "colorbar": {
              "outlinewidth": 0,
              "ticks": ""
             }
            },
            "type": "scattermapbox"
           }
          ],
          "scatterpolar": [
           {
            "marker": {
             "colorbar": {
              "outlinewidth": 0,
              "ticks": ""
             }
            },
            "type": "scatterpolar"
           }
          ],
          "scatterpolargl": [
           {
            "marker": {
             "colorbar": {
              "outlinewidth": 0,
              "ticks": ""
             }
            },
            "type": "scatterpolargl"
           }
          ],
          "scatterternary": [
           {
            "marker": {
             "colorbar": {
              "outlinewidth": 0,
              "ticks": ""
             }
            },
            "type": "scatterternary"
           }
          ],
          "surface": [
           {
            "colorbar": {
             "outlinewidth": 0,
             "ticks": ""
            },
            "colorscale": [
             [
              0,
              "#0d0887"
             ],
             [
              0.1111111111111111,
              "#46039f"
             ],
             [
              0.2222222222222222,
              "#7201a8"
             ],
             [
              0.3333333333333333,
              "#9c179e"
             ],
             [
              0.4444444444444444,
              "#bd3786"
             ],
             [
              0.5555555555555556,
              "#d8576b"
             ],
             [
              0.6666666666666666,
              "#ed7953"
             ],
             [
              0.7777777777777778,
              "#fb9f3a"
             ],
             [
              0.8888888888888888,
              "#fdca26"
             ],
             [
              1,
              "#f0f921"
             ]
            ],
            "type": "surface"
           }
          ],
          "table": [
           {
            "cells": {
             "fill": {
              "color": "#506784"
             },
             "line": {
              "color": "rgb(17,17,17)"
             }
            },
            "header": {
             "fill": {
              "color": "#2a3f5f"
             },
             "line": {
              "color": "rgb(17,17,17)"
             }
            },
            "type": "table"
           }
          ]
         },
         "layout": {
          "annotationdefaults": {
           "arrowcolor": "#f2f5fa",
           "arrowhead": 0,
           "arrowwidth": 1
          },
          "autotypenumbers": "strict",
          "coloraxis": {
           "colorbar": {
            "outlinewidth": 0,
            "ticks": ""
           }
          },
          "colorscale": {
           "diverging": [
            [
             0,
             "#8e0152"
            ],
            [
             0.1,
             "#c51b7d"
            ],
            [
             0.2,
             "#de77ae"
            ],
            [
             0.3,
             "#f1b6da"
            ],
            [
             0.4,
             "#fde0ef"
            ],
            [
             0.5,
             "#f7f7f7"
            ],
            [
             0.6,
             "#e6f5d0"
            ],
            [
             0.7,
             "#b8e186"
            ],
            [
             0.8,
             "#7fbc41"
            ],
            [
             0.9,
             "#4d9221"
            ],
            [
             1,
             "#276419"
            ]
           ],
           "sequential": [
            [
             0,
             "#0d0887"
            ],
            [
             0.1111111111111111,
             "#46039f"
            ],
            [
             0.2222222222222222,
             "#7201a8"
            ],
            [
             0.3333333333333333,
             "#9c179e"
            ],
            [
             0.4444444444444444,
             "#bd3786"
            ],
            [
             0.5555555555555556,
             "#d8576b"
            ],
            [
             0.6666666666666666,
             "#ed7953"
            ],
            [
             0.7777777777777778,
             "#fb9f3a"
            ],
            [
             0.8888888888888888,
             "#fdca26"
            ],
            [
             1,
             "#f0f921"
            ]
           ],
           "sequentialminus": [
            [
             0,
             "#0d0887"
            ],
            [
             0.1111111111111111,
             "#46039f"
            ],
            [
             0.2222222222222222,
             "#7201a8"
            ],
            [
             0.3333333333333333,
             "#9c179e"
            ],
            [
             0.4444444444444444,
             "#bd3786"
            ],
            [
             0.5555555555555556,
             "#d8576b"
            ],
            [
             0.6666666666666666,
             "#ed7953"
            ],
            [
             0.7777777777777778,
             "#fb9f3a"
            ],
            [
             0.8888888888888888,
             "#fdca26"
            ],
            [
             1,
             "#f0f921"
            ]
           ]
          },
          "colorway": [
           "#636efa",
           "#EF553B",
           "#00cc96",
           "#ab63fa",
           "#FFA15A",
           "#19d3f3",
           "#FF6692",
           "#B6E880",
           "#FF97FF",
           "#FECB52"
          ],
          "font": {
           "color": "#f2f5fa"
          },
          "geo": {
           "bgcolor": "rgb(17,17,17)",
           "lakecolor": "rgb(17,17,17)",
           "landcolor": "rgb(17,17,17)",
           "showlakes": true,
           "showland": true,
           "subunitcolor": "#506784"
          },
          "hoverlabel": {
           "align": "left"
          },
          "hovermode": "closest",
          "mapbox": {
           "style": "dark"
          },
          "paper_bgcolor": "rgb(17,17,17)",
          "plot_bgcolor": "rgb(17,17,17)",
          "polar": {
           "angularaxis": {
            "gridcolor": "#506784",
            "linecolor": "#506784",
            "ticks": ""
           },
           "bgcolor": "rgb(17,17,17)",
           "radialaxis": {
            "gridcolor": "#506784",
            "linecolor": "#506784",
            "ticks": ""
           }
          },
          "scene": {
           "xaxis": {
            "backgroundcolor": "rgb(17,17,17)",
            "gridcolor": "#506784",
            "gridwidth": 2,
            "linecolor": "#506784",
            "showbackground": true,
            "ticks": "",
            "zerolinecolor": "#C8D4E3"
           },
           "yaxis": {
            "backgroundcolor": "rgb(17,17,17)",
            "gridcolor": "#506784",
            "gridwidth": 2,
            "linecolor": "#506784",
            "showbackground": true,
            "ticks": "",
            "zerolinecolor": "#C8D4E3"
           },
           "zaxis": {
            "backgroundcolor": "rgb(17,17,17)",
            "gridcolor": "#506784",
            "gridwidth": 2,
            "linecolor": "#506784",
            "showbackground": true,
            "ticks": "",
            "zerolinecolor": "#C8D4E3"
           }
          },
          "shapedefaults": {
           "line": {
            "color": "#f2f5fa"
           }
          },
          "sliderdefaults": {
           "bgcolor": "#C8D4E3",
           "bordercolor": "rgb(17,17,17)",
           "borderwidth": 1,
           "tickwidth": 0
          },
          "ternary": {
           "aaxis": {
            "gridcolor": "#506784",
            "linecolor": "#506784",
            "ticks": ""
           },
           "baxis": {
            "gridcolor": "#506784",
            "linecolor": "#506784",
            "ticks": ""
           },
           "bgcolor": "rgb(17,17,17)",
           "caxis": {
            "gridcolor": "#506784",
            "linecolor": "#506784",
            "ticks": ""
           }
          },
          "title": {
           "x": 0.05
          },
          "updatemenudefaults": {
           "bgcolor": "#506784",
           "borderwidth": 0
          },
          "xaxis": {
           "automargin": true,
           "gridcolor": "#283442",
           "linecolor": "#506784",
           "ticks": "",
           "title": {
            "standoff": 15
           },
           "zerolinecolor": "#283442",
           "zerolinewidth": 2
          },
          "yaxis": {
           "automargin": true,
           "gridcolor": "#283442",
           "linecolor": "#506784",
           "ticks": "",
           "title": {
            "standoff": 15
           },
           "zerolinecolor": "#283442",
           "zerolinewidth": 2
          }
         }
        },
        "title": {
         "text": "Total Profit Per Year"
        },
        "xaxis": {
         "anchor": "y",
         "domain": [
          0,
          1
         ],
         "title": {
          "text": "Year"
         },
         "type": "category"
        },
        "yaxis": {
         "anchor": "x",
         "domain": [
          0,
          1
         ],
         "title": {
          "text": "Total Profit"
         }
        }
       }
      }
     },
     "metadata": {},
     "output_type": "display_data"
    },
    {
     "data": {
      "text/html": [
       "<div>\n",
       "<style scoped>\n",
       "    .dataframe tbody tr th:only-of-type {\n",
       "        vertical-align: middle;\n",
       "    }\n",
       "\n",
       "    .dataframe tbody tr th {\n",
       "        vertical-align: top;\n",
       "    }\n",
       "\n",
       "    .dataframe thead th {\n",
       "        text-align: right;\n",
       "    }\n",
       "</style>\n",
       "<table border=\"1\" class=\"dataframe\">\n",
       "  <thead>\n",
       "    <tr style=\"text-align: right;\">\n",
       "      <th></th>\n",
       "      <th>state</th>\n",
       "      <th>symbol</th>\n",
       "      <th>order_type</th>\n",
       "      <th>volume</th>\n",
       "      <th>open_time</th>\n",
       "      <th>open_price</th>\n",
       "      <th>close_time</th>\n",
       "      <th>close_price</th>\n",
       "      <th>sl</th>\n",
       "      <th>tp</th>\n",
       "      <th>...</th>\n",
       "      <th>profit</th>\n",
       "      <th>commission</th>\n",
       "      <th>profit_net</th>\n",
       "      <th>profit_cumulative</th>\n",
       "      <th>balance</th>\n",
       "      <th>date</th>\n",
       "      <th>time</th>\n",
       "      <th>intrabar_drawdown</th>\n",
       "      <th>current_max</th>\n",
       "      <th>drawdown</th>\n",
       "    </tr>\n",
       "  </thead>\n",
       "  <tbody>\n",
       "    <tr>\n",
       "      <th>1</th>\n",
       "      <td>closed</td>\n",
       "      <td>EURUSD</td>\n",
       "      <td>buy</td>\n",
       "      <td>50000</td>\n",
       "      <td>2025-07-22 00:00:00</td>\n",
       "      <td>1.16894</td>\n",
       "      <td>2025-07-25 00:00:00</td>\n",
       "      <td>1.17442</td>\n",
       "      <td>0</td>\n",
       "      <td>0</td>\n",
       "      <td>...</td>\n",
       "      <td>274.0</td>\n",
       "      <td>-3.5</td>\n",
       "      <td>270.5</td>\n",
       "      <td>119.0</td>\n",
       "      <td>10119.0</td>\n",
       "      <td>2025-07-22</td>\n",
       "      <td>2025-07-25 00:00:00</td>\n",
       "      <td>-52.0</td>\n",
       "      <td>119.0</td>\n",
       "      <td>0.0</td>\n",
       "    </tr>\n",
       "    <tr>\n",
       "      <th>2</th>\n",
       "      <td>closed</td>\n",
       "      <td>EURUSD</td>\n",
       "      <td>sell</td>\n",
       "      <td>50000</td>\n",
       "      <td>2025-07-28 08:00:00</td>\n",
       "      <td>1.17474</td>\n",
       "      <td>2025-08-01 12:00:00</td>\n",
       "      <td>1.14066</td>\n",
       "      <td>0</td>\n",
       "      <td>0</td>\n",
       "      <td>...</td>\n",
       "      <td>1704.0</td>\n",
       "      <td>-3.5</td>\n",
       "      <td>1700.5</td>\n",
       "      <td>1819.5</td>\n",
       "      <td>11819.5</td>\n",
       "      <td>2025-07-28</td>\n",
       "      <td>2025-08-01 12:00:00</td>\n",
       "      <td>740.0</td>\n",
       "      <td>1819.5</td>\n",
       "      <td>0.0</td>\n",
       "    </tr>\n",
       "    <tr>\n",
       "      <th>5</th>\n",
       "      <td>closed</td>\n",
       "      <td>EURUSD</td>\n",
       "      <td>buy</td>\n",
       "      <td>50000</td>\n",
       "      <td>2025-08-11 04:00:00</td>\n",
       "      <td>1.16474</td>\n",
       "      <td>2025-08-11 12:00:00</td>\n",
       "      <td>1.16548</td>\n",
       "      <td>0</td>\n",
       "      <td>0</td>\n",
       "      <td>...</td>\n",
       "      <td>37.0</td>\n",
       "      <td>-3.5</td>\n",
       "      <td>33.5</td>\n",
       "      <td>1735.0</td>\n",
       "      <td>11735.0</td>\n",
       "      <td>2025-08-11</td>\n",
       "      <td>2025-08-11 12:00:00</td>\n",
       "      <td>NaN</td>\n",
       "      <td>1819.5</td>\n",
       "      <td>-84.5</td>\n",
       "    </tr>\n",
       "    <tr>\n",
       "      <th>6</th>\n",
       "      <td>closed</td>\n",
       "      <td>EURUSD</td>\n",
       "      <td>buy</td>\n",
       "      <td>50000</td>\n",
       "      <td>2025-08-12 16:00:00</td>\n",
       "      <td>1.16425</td>\n",
       "      <td>2025-08-14 12:00:00</td>\n",
       "      <td>1.16685</td>\n",
       "      <td>0</td>\n",
       "      <td>0</td>\n",
       "      <td>...</td>\n",
       "      <td>130.0</td>\n",
       "      <td>-3.5</td>\n",
       "      <td>126.5</td>\n",
       "      <td>1861.5</td>\n",
       "      <td>11861.5</td>\n",
       "      <td>2025-08-12</td>\n",
       "      <td>2025-08-14 12:00:00</td>\n",
       "      <td>-57.5</td>\n",
       "      <td>1861.5</td>\n",
       "      <td>0.0</td>\n",
       "    </tr>\n",
       "  </tbody>\n",
       "</table>\n",
       "<p>4 rows × 21 columns</p>\n",
       "</div>"
      ],
      "text/plain": [
       "    state  symbol order_type volume           open_time open_price  \\\n",
       "1  closed  EURUSD        buy  50000 2025-07-22 00:00:00    1.16894   \n",
       "2  closed  EURUSD       sell  50000 2025-07-28 08:00:00    1.17474   \n",
       "5  closed  EURUSD        buy  50000 2025-08-11 04:00:00    1.16474   \n",
       "6  closed  EURUSD        buy  50000 2025-08-12 16:00:00    1.16425   \n",
       "\n",
       "           close_time close_price sl tp  ...  profit  commission profit_net  \\\n",
       "1 2025-07-25 00:00:00     1.17442  0  0  ...   274.0        -3.5      270.5   \n",
       "2 2025-08-01 12:00:00     1.14066  0  0  ...  1704.0        -3.5     1700.5   \n",
       "5 2025-08-11 12:00:00     1.16548  0  0  ...    37.0        -3.5       33.5   \n",
       "6 2025-08-14 12:00:00     1.16685  0  0  ...   130.0        -3.5      126.5   \n",
       "\n",
       "  profit_cumulative  balance        date                time  \\\n",
       "1             119.0  10119.0  2025-07-22 2025-07-25 00:00:00   \n",
       "2            1819.5  11819.5  2025-07-28 2025-08-01 12:00:00   \n",
       "5            1735.0  11735.0  2025-08-11 2025-08-11 12:00:00   \n",
       "6            1861.5  11861.5  2025-08-12 2025-08-14 12:00:00   \n",
       "\n",
       "  intrabar_drawdown  current_max  drawdown  \n",
       "1             -52.0        119.0       0.0  \n",
       "2             740.0       1819.5       0.0  \n",
       "5               NaN       1819.5     -84.5  \n",
       "6             -57.5       1861.5       0.0  \n",
       "\n",
       "[4 rows x 21 columns]"
      ]
     },
     "metadata": {},
     "output_type": "display_data"
    },
    {
     "data": {
      "text/html": [
       "<div>\n",
       "<style scoped>\n",
       "    .dataframe tbody tr th:only-of-type {\n",
       "        vertical-align: middle;\n",
       "    }\n",
       "\n",
       "    .dataframe tbody tr th {\n",
       "        vertical-align: top;\n",
       "    }\n",
       "\n",
       "    .dataframe thead th {\n",
       "        text-align: right;\n",
       "    }\n",
       "</style>\n",
       "<table border=\"1\" class=\"dataframe\">\n",
       "  <thead>\n",
       "    <tr style=\"text-align: right;\">\n",
       "      <th></th>\n",
       "      <th>state</th>\n",
       "      <th>symbol</th>\n",
       "      <th>order_type</th>\n",
       "      <th>volume</th>\n",
       "      <th>open_time</th>\n",
       "      <th>open_price</th>\n",
       "      <th>close_time</th>\n",
       "      <th>close_price</th>\n",
       "      <th>sl</th>\n",
       "      <th>tp</th>\n",
       "      <th>...</th>\n",
       "      <th>profit</th>\n",
       "      <th>commission</th>\n",
       "      <th>profit_net</th>\n",
       "      <th>profit_cumulative</th>\n",
       "      <th>balance</th>\n",
       "      <th>date</th>\n",
       "      <th>time</th>\n",
       "      <th>intrabar_drawdown</th>\n",
       "      <th>current_max</th>\n",
       "      <th>drawdown</th>\n",
       "    </tr>\n",
       "  </thead>\n",
       "  <tbody>\n",
       "    <tr>\n",
       "      <th>0</th>\n",
       "      <td>closed</td>\n",
       "      <td>EURUSD</td>\n",
       "      <td>sell</td>\n",
       "      <td>50000</td>\n",
       "      <td>2025-07-18 00:00:00</td>\n",
       "      <td>1.1595</td>\n",
       "      <td>2025-07-18 04:00:00</td>\n",
       "      <td>1.16246</td>\n",
       "      <td>0</td>\n",
       "      <td>0</td>\n",
       "      <td>...</td>\n",
       "      <td>-148.0</td>\n",
       "      <td>-3.5</td>\n",
       "      <td>-151.5</td>\n",
       "      <td>-151.5</td>\n",
       "      <td>9848.5</td>\n",
       "      <td>2025-07-18</td>\n",
       "      <td>2025-07-18 04:00:00</td>\n",
       "      <td>-384.5</td>\n",
       "      <td>-151.5</td>\n",
       "      <td>0.0</td>\n",
       "    </tr>\n",
       "    <tr>\n",
       "      <th>3</th>\n",
       "      <td>closed</td>\n",
       "      <td>EURUSD</td>\n",
       "      <td>sell</td>\n",
       "      <td>50000</td>\n",
       "      <td>2025-08-05 12:00:00</td>\n",
       "      <td>1.15368</td>\n",
       "      <td>2025-08-05 16:00:00</td>\n",
       "      <td>1.15372</td>\n",
       "      <td>0</td>\n",
       "      <td>0</td>\n",
       "      <td>...</td>\n",
       "      <td>-2.0</td>\n",
       "      <td>-3.5</td>\n",
       "      <td>-5.5</td>\n",
       "      <td>1814.0</td>\n",
       "      <td>11814.0</td>\n",
       "      <td>2025-08-05</td>\n",
       "      <td>2025-08-05 16:00:00</td>\n",
       "      <td>NaN</td>\n",
       "      <td>1819.5</td>\n",
       "      <td>-5.5</td>\n",
       "    </tr>\n",
       "    <tr>\n",
       "      <th>4</th>\n",
       "      <td>closed</td>\n",
       "      <td>EURUSD</td>\n",
       "      <td>buy</td>\n",
       "      <td>50000</td>\n",
       "      <td>2025-08-07 00:00:00</td>\n",
       "      <td>1.16589</td>\n",
       "      <td>2025-08-08 12:00:00</td>\n",
       "      <td>1.16371</td>\n",
       "      <td>0</td>\n",
       "      <td>0</td>\n",
       "      <td>...</td>\n",
       "      <td>-109.0</td>\n",
       "      <td>-3.5</td>\n",
       "      <td>-112.5</td>\n",
       "      <td>1701.5</td>\n",
       "      <td>11701.5</td>\n",
       "      <td>2025-08-07</td>\n",
       "      <td>2025-08-08 12:00:00</td>\n",
       "      <td>-239.5</td>\n",
       "      <td>1819.5</td>\n",
       "      <td>-118.0</td>\n",
       "    </tr>\n",
       "    <tr>\n",
       "      <th>7</th>\n",
       "      <td>closed</td>\n",
       "      <td>EURUSD</td>\n",
       "      <td>buy</td>\n",
       "      <td>50000</td>\n",
       "      <td>2025-08-15 12:00:00</td>\n",
       "      <td>1.16822</td>\n",
       "      <td>2025-08-18 12:00:00</td>\n",
       "      <td>1.16819</td>\n",
       "      <td>0</td>\n",
       "      <td>0</td>\n",
       "      <td>...</td>\n",
       "      <td>-1.5</td>\n",
       "      <td>-3.5</td>\n",
       "      <td>-5.0</td>\n",
       "      <td>1856.5</td>\n",
       "      <td>11856.5</td>\n",
       "      <td>2025-08-15</td>\n",
       "      <td>2025-08-18 12:00:00</td>\n",
       "      <td>-131.0</td>\n",
       "      <td>1861.5</td>\n",
       "      <td>-5.0</td>\n",
       "    </tr>\n",
       "  </tbody>\n",
       "</table>\n",
       "<p>4 rows × 21 columns</p>\n",
       "</div>"
      ],
      "text/plain": [
       "    state  symbol order_type volume           open_time open_price  \\\n",
       "0  closed  EURUSD       sell  50000 2025-07-18 00:00:00     1.1595   \n",
       "3  closed  EURUSD       sell  50000 2025-08-05 12:00:00    1.15368   \n",
       "4  closed  EURUSD        buy  50000 2025-08-07 00:00:00    1.16589   \n",
       "7  closed  EURUSD        buy  50000 2025-08-15 12:00:00    1.16822   \n",
       "\n",
       "           close_time close_price sl tp  ... profit  commission profit_net  \\\n",
       "0 2025-07-18 04:00:00     1.16246  0  0  ... -148.0        -3.5     -151.5   \n",
       "3 2025-08-05 16:00:00     1.15372  0  0  ...   -2.0        -3.5       -5.5   \n",
       "4 2025-08-08 12:00:00     1.16371  0  0  ... -109.0        -3.5     -112.5   \n",
       "7 2025-08-18 12:00:00     1.16819  0  0  ...   -1.5        -3.5       -5.0   \n",
       "\n",
       "  profit_cumulative  balance        date                time  \\\n",
       "0            -151.5   9848.5  2025-07-18 2025-07-18 04:00:00   \n",
       "3            1814.0  11814.0  2025-08-05 2025-08-05 16:00:00   \n",
       "4            1701.5  11701.5  2025-08-07 2025-08-08 12:00:00   \n",
       "7            1856.5  11856.5  2025-08-15 2025-08-18 12:00:00   \n",
       "\n",
       "  intrabar_drawdown  current_max  drawdown  \n",
       "0            -384.5       -151.5       0.0  \n",
       "3               NaN       1819.5      -5.5  \n",
       "4            -239.5       1819.5    -118.0  \n",
       "7            -131.0       1861.5      -5.0  \n",
       "\n",
       "[4 rows x 21 columns]"
      ]
     },
     "metadata": {},
     "output_type": "display_data"
    },
    {
     "data": {
      "text/html": [
       "<div>\n",
       "<style scoped>\n",
       "    .dataframe tbody tr th:only-of-type {\n",
       "        vertical-align: middle;\n",
       "    }\n",
       "\n",
       "    .dataframe tbody tr th {\n",
       "        vertical-align: top;\n",
       "    }\n",
       "\n",
       "    .dataframe thead th {\n",
       "        text-align: right;\n",
       "    }\n",
       "</style>\n",
       "<table border=\"1\" class=\"dataframe\">\n",
       "  <thead>\n",
       "    <tr style=\"text-align: right;\">\n",
       "      <th></th>\n",
       "      <th>state</th>\n",
       "      <th>symbol</th>\n",
       "      <th>order_type</th>\n",
       "      <th>volume</th>\n",
       "      <th>open_time</th>\n",
       "      <th>open_price</th>\n",
       "      <th>close_time</th>\n",
       "      <th>close_price</th>\n",
       "      <th>sl</th>\n",
       "      <th>tp</th>\n",
       "      <th>...</th>\n",
       "      <th>balance</th>\n",
       "      <th>date</th>\n",
       "      <th>time</th>\n",
       "      <th>intrabar_drawdown</th>\n",
       "      <th>current_max</th>\n",
       "      <th>drawdown</th>\n",
       "      <th>dayofweek</th>\n",
       "      <th>hourofday</th>\n",
       "      <th>month</th>\n",
       "      <th>year</th>\n",
       "    </tr>\n",
       "  </thead>\n",
       "  <tbody>\n",
       "    <tr>\n",
       "      <th>0</th>\n",
       "      <td>closed</td>\n",
       "      <td>EURUSD</td>\n",
       "      <td>sell</td>\n",
       "      <td>50000</td>\n",
       "      <td>2025-07-18 00:00:00</td>\n",
       "      <td>1.1595</td>\n",
       "      <td>2025-07-18 04:00:00</td>\n",
       "      <td>1.16246</td>\n",
       "      <td>0</td>\n",
       "      <td>0</td>\n",
       "      <td>...</td>\n",
       "      <td>9848.5</td>\n",
       "      <td>2025-07-18</td>\n",
       "      <td>2025-07-18 04:00:00</td>\n",
       "      <td>-384.5</td>\n",
       "      <td>-151.5</td>\n",
       "      <td>0.0</td>\n",
       "      <td>4</td>\n",
       "      <td>0</td>\n",
       "      <td>2025-07</td>\n",
       "      <td>2025</td>\n",
       "    </tr>\n",
       "    <tr>\n",
       "      <th>1</th>\n",
       "      <td>closed</td>\n",
       "      <td>EURUSD</td>\n",
       "      <td>buy</td>\n",
       "      <td>50000</td>\n",
       "      <td>2025-07-22 00:00:00</td>\n",
       "      <td>1.16894</td>\n",
       "      <td>2025-07-25 00:00:00</td>\n",
       "      <td>1.17442</td>\n",
       "      <td>0</td>\n",
       "      <td>0</td>\n",
       "      <td>...</td>\n",
       "      <td>10119.0</td>\n",
       "      <td>2025-07-22</td>\n",
       "      <td>2025-07-25 00:00:00</td>\n",
       "      <td>-52.0</td>\n",
       "      <td>119.0</td>\n",
       "      <td>0.0</td>\n",
       "      <td>1</td>\n",
       "      <td>0</td>\n",
       "      <td>2025-07</td>\n",
       "      <td>2025</td>\n",
       "    </tr>\n",
       "    <tr>\n",
       "      <th>2</th>\n",
       "      <td>closed</td>\n",
       "      <td>EURUSD</td>\n",
       "      <td>sell</td>\n",
       "      <td>50000</td>\n",
       "      <td>2025-07-28 08:00:00</td>\n",
       "      <td>1.17474</td>\n",
       "      <td>2025-08-01 12:00:00</td>\n",
       "      <td>1.14066</td>\n",
       "      <td>0</td>\n",
       "      <td>0</td>\n",
       "      <td>...</td>\n",
       "      <td>11819.5</td>\n",
       "      <td>2025-07-28</td>\n",
       "      <td>2025-08-01 12:00:00</td>\n",
       "      <td>740.0</td>\n",
       "      <td>1819.5</td>\n",
       "      <td>0.0</td>\n",
       "      <td>0</td>\n",
       "      <td>8</td>\n",
       "      <td>2025-08</td>\n",
       "      <td>2025</td>\n",
       "    </tr>\n",
       "    <tr>\n",
       "      <th>3</th>\n",
       "      <td>closed</td>\n",
       "      <td>EURUSD</td>\n",
       "      <td>sell</td>\n",
       "      <td>50000</td>\n",
       "      <td>2025-08-05 12:00:00</td>\n",
       "      <td>1.15368</td>\n",
       "      <td>2025-08-05 16:00:00</td>\n",
       "      <td>1.15372</td>\n",
       "      <td>0</td>\n",
       "      <td>0</td>\n",
       "      <td>...</td>\n",
       "      <td>11814.0</td>\n",
       "      <td>2025-08-05</td>\n",
       "      <td>2025-08-05 16:00:00</td>\n",
       "      <td>NaN</td>\n",
       "      <td>1819.5</td>\n",
       "      <td>-5.5</td>\n",
       "      <td>1</td>\n",
       "      <td>12</td>\n",
       "      <td>2025-08</td>\n",
       "      <td>2025</td>\n",
       "    </tr>\n",
       "    <tr>\n",
       "      <th>4</th>\n",
       "      <td>closed</td>\n",
       "      <td>EURUSD</td>\n",
       "      <td>buy</td>\n",
       "      <td>50000</td>\n",
       "      <td>2025-08-07 00:00:00</td>\n",
       "      <td>1.16589</td>\n",
       "      <td>2025-08-08 12:00:00</td>\n",
       "      <td>1.16371</td>\n",
       "      <td>0</td>\n",
       "      <td>0</td>\n",
       "      <td>...</td>\n",
       "      <td>11701.5</td>\n",
       "      <td>2025-08-07</td>\n",
       "      <td>2025-08-08 12:00:00</td>\n",
       "      <td>-239.5</td>\n",
       "      <td>1819.5</td>\n",
       "      <td>-118.0</td>\n",
       "      <td>3</td>\n",
       "      <td>0</td>\n",
       "      <td>2025-08</td>\n",
       "      <td>2025</td>\n",
       "    </tr>\n",
       "    <tr>\n",
       "      <th>5</th>\n",
       "      <td>closed</td>\n",
       "      <td>EURUSD</td>\n",
       "      <td>buy</td>\n",
       "      <td>50000</td>\n",
       "      <td>2025-08-11 04:00:00</td>\n",
       "      <td>1.16474</td>\n",
       "      <td>2025-08-11 12:00:00</td>\n",
       "      <td>1.16548</td>\n",
       "      <td>0</td>\n",
       "      <td>0</td>\n",
       "      <td>...</td>\n",
       "      <td>11735.0</td>\n",
       "      <td>2025-08-11</td>\n",
       "      <td>2025-08-11 12:00:00</td>\n",
       "      <td>NaN</td>\n",
       "      <td>1819.5</td>\n",
       "      <td>-84.5</td>\n",
       "      <td>0</td>\n",
       "      <td>4</td>\n",
       "      <td>2025-08</td>\n",
       "      <td>2025</td>\n",
       "    </tr>\n",
       "    <tr>\n",
       "      <th>6</th>\n",
       "      <td>closed</td>\n",
       "      <td>EURUSD</td>\n",
       "      <td>buy</td>\n",
       "      <td>50000</td>\n",
       "      <td>2025-08-12 16:00:00</td>\n",
       "      <td>1.16425</td>\n",
       "      <td>2025-08-14 12:00:00</td>\n",
       "      <td>1.16685</td>\n",
       "      <td>0</td>\n",
       "      <td>0</td>\n",
       "      <td>...</td>\n",
       "      <td>11861.5</td>\n",
       "      <td>2025-08-12</td>\n",
       "      <td>2025-08-14 12:00:00</td>\n",
       "      <td>-57.5</td>\n",
       "      <td>1861.5</td>\n",
       "      <td>0.0</td>\n",
       "      <td>1</td>\n",
       "      <td>16</td>\n",
       "      <td>2025-08</td>\n",
       "      <td>2025</td>\n",
       "    </tr>\n",
       "    <tr>\n",
       "      <th>7</th>\n",
       "      <td>closed</td>\n",
       "      <td>EURUSD</td>\n",
       "      <td>buy</td>\n",
       "      <td>50000</td>\n",
       "      <td>2025-08-15 12:00:00</td>\n",
       "      <td>1.16822</td>\n",
       "      <td>2025-08-18 12:00:00</td>\n",
       "      <td>1.16819</td>\n",
       "      <td>0</td>\n",
       "      <td>0</td>\n",
       "      <td>...</td>\n",
       "      <td>11856.5</td>\n",
       "      <td>2025-08-15</td>\n",
       "      <td>2025-08-18 12:00:00</td>\n",
       "      <td>-131.0</td>\n",
       "      <td>1861.5</td>\n",
       "      <td>-5.0</td>\n",
       "      <td>4</td>\n",
       "      <td>12</td>\n",
       "      <td>2025-08</td>\n",
       "      <td>2025</td>\n",
       "    </tr>\n",
       "  </tbody>\n",
       "</table>\n",
       "<p>8 rows × 25 columns</p>\n",
       "</div>"
      ],
      "text/plain": [
       "    state  symbol order_type volume           open_time open_price  \\\n",
       "0  closed  EURUSD       sell  50000 2025-07-18 00:00:00     1.1595   \n",
       "1  closed  EURUSD        buy  50000 2025-07-22 00:00:00    1.16894   \n",
       "2  closed  EURUSD       sell  50000 2025-07-28 08:00:00    1.17474   \n",
       "3  closed  EURUSD       sell  50000 2025-08-05 12:00:00    1.15368   \n",
       "4  closed  EURUSD        buy  50000 2025-08-07 00:00:00    1.16589   \n",
       "5  closed  EURUSD        buy  50000 2025-08-11 04:00:00    1.16474   \n",
       "6  closed  EURUSD        buy  50000 2025-08-12 16:00:00    1.16425   \n",
       "7  closed  EURUSD        buy  50000 2025-08-15 12:00:00    1.16822   \n",
       "\n",
       "           close_time close_price sl tp  ...  balance        date  \\\n",
       "0 2025-07-18 04:00:00     1.16246  0  0  ...   9848.5  2025-07-18   \n",
       "1 2025-07-25 00:00:00     1.17442  0  0  ...  10119.0  2025-07-22   \n",
       "2 2025-08-01 12:00:00     1.14066  0  0  ...  11819.5  2025-07-28   \n",
       "3 2025-08-05 16:00:00     1.15372  0  0  ...  11814.0  2025-08-05   \n",
       "4 2025-08-08 12:00:00     1.16371  0  0  ...  11701.5  2025-08-07   \n",
       "5 2025-08-11 12:00:00     1.16548  0  0  ...  11735.0  2025-08-11   \n",
       "6 2025-08-14 12:00:00     1.16685  0  0  ...  11861.5  2025-08-12   \n",
       "7 2025-08-18 12:00:00     1.16819  0  0  ...  11856.5  2025-08-15   \n",
       "\n",
       "                 time intrabar_drawdown current_max drawdown dayofweek  \\\n",
       "0 2025-07-18 04:00:00            -384.5      -151.5      0.0         4   \n",
       "1 2025-07-25 00:00:00             -52.0       119.0      0.0         1   \n",
       "2 2025-08-01 12:00:00             740.0      1819.5      0.0         0   \n",
       "3 2025-08-05 16:00:00               NaN      1819.5     -5.5         1   \n",
       "4 2025-08-08 12:00:00            -239.5      1819.5   -118.0         3   \n",
       "5 2025-08-11 12:00:00               NaN      1819.5    -84.5         0   \n",
       "6 2025-08-14 12:00:00             -57.5      1861.5      0.0         1   \n",
       "7 2025-08-18 12:00:00            -131.0      1861.5     -5.0         4   \n",
       "\n",
       "  hourofday    month  year  \n",
       "0         0  2025-07  2025  \n",
       "1         0  2025-07  2025  \n",
       "2         8  2025-08  2025  \n",
       "3        12  2025-08  2025  \n",
       "4         0  2025-08  2025  \n",
       "5         4  2025-08  2025  \n",
       "6        16  2025-08  2025  \n",
       "7        12  2025-08  2025  \n",
       "\n",
       "[8 rows x 25 columns]"
      ]
     },
     "metadata": {},
     "output_type": "display_data"
    },
    {
     "data": {
      "application/vnd.plotly.v1+json": {
       "config": {
        "plotlyServerURL": "https://plot.ly"
       },
       "data": [
        {
         "hovertemplate": "close_time=%{x}<br>drawdown=%{y}<extra></extra>",
         "legendgroup": "",
         "line": {
          "color": "#636efa",
          "dash": "solid"
         },
         "marker": {
          "symbol": "circle"
         },
         "mode": "lines",
         "name": "",
         "orientation": "v",
         "showlegend": false,
         "type": "scatter",
         "x": [
          "2025-07-18T04:00:00.000000000",
          "2025-07-25T00:00:00.000000000",
          "2025-08-01T12:00:00.000000000",
          "2025-08-05T16:00:00.000000000",
          "2025-08-08T12:00:00.000000000",
          "2025-08-11T12:00:00.000000000",
          "2025-08-14T12:00:00.000000000",
          "2025-08-18T12:00:00.000000000"
         ],
         "xaxis": "x",
         "y": [
          0,
          0,
          0,
          -5.5,
          -118,
          -84.5,
          0,
          -5
         ],
         "yaxis": "y"
        }
       ],
       "layout": {
        "legend": {
         "tracegroupgap": 0
        },
        "template": {
         "data": {
          "bar": [
           {
            "error_x": {
             "color": "#f2f5fa"
            },
            "error_y": {
             "color": "#f2f5fa"
            },
            "marker": {
             "line": {
              "color": "rgb(17,17,17)",
              "width": 0.5
             },
             "pattern": {
              "fillmode": "overlay",
              "size": 10,
              "solidity": 0.2
             }
            },
            "type": "bar"
           }
          ],
          "barpolar": [
           {
            "marker": {
             "line": {
              "color": "rgb(17,17,17)",
              "width": 0.5
             },
             "pattern": {
              "fillmode": "overlay",
              "size": 10,
              "solidity": 0.2
             }
            },
            "type": "barpolar"
           }
          ],
          "carpet": [
           {
            "aaxis": {
             "endlinecolor": "#A2B1C6",
             "gridcolor": "#506784",
             "linecolor": "#506784",
             "minorgridcolor": "#506784",
             "startlinecolor": "#A2B1C6"
            },
            "baxis": {
             "endlinecolor": "#A2B1C6",
             "gridcolor": "#506784",
             "linecolor": "#506784",
             "minorgridcolor": "#506784",
             "startlinecolor": "#A2B1C6"
            },
            "type": "carpet"
           }
          ],
          "choropleth": [
           {
            "colorbar": {
             "outlinewidth": 0,
             "ticks": ""
            },
            "type": "choropleth"
           }
          ],
          "contour": [
           {
            "colorbar": {
             "outlinewidth": 0,
             "ticks": ""
            },
            "colorscale": [
             [
              0,
              "#0d0887"
             ],
             [
              0.1111111111111111,
              "#46039f"
             ],
             [
              0.2222222222222222,
              "#7201a8"
             ],
             [
              0.3333333333333333,
              "#9c179e"
             ],
             [
              0.4444444444444444,
              "#bd3786"
             ],
             [
              0.5555555555555556,
              "#d8576b"
             ],
             [
              0.6666666666666666,
              "#ed7953"
             ],
             [
              0.7777777777777778,
              "#fb9f3a"
             ],
             [
              0.8888888888888888,
              "#fdca26"
             ],
             [
              1,
              "#f0f921"
             ]
            ],
            "type": "contour"
           }
          ],
          "contourcarpet": [
           {
            "colorbar": {
             "outlinewidth": 0,
             "ticks": ""
            },
            "type": "contourcarpet"
           }
          ],
          "heatmap": [
           {
            "colorbar": {
             "outlinewidth": 0,
             "ticks": ""
            },
            "colorscale": [
             [
              0,
              "#0d0887"
             ],
             [
              0.1111111111111111,
              "#46039f"
             ],
             [
              0.2222222222222222,
              "#7201a8"
             ],
             [
              0.3333333333333333,
              "#9c179e"
             ],
             [
              0.4444444444444444,
              "#bd3786"
             ],
             [
              0.5555555555555556,
              "#d8576b"
             ],
             [
              0.6666666666666666,
              "#ed7953"
             ],
             [
              0.7777777777777778,
              "#fb9f3a"
             ],
             [
              0.8888888888888888,
              "#fdca26"
             ],
             [
              1,
              "#f0f921"
             ]
            ],
            "type": "heatmap"
           }
          ],
          "histogram": [
           {
            "marker": {
             "pattern": {
              "fillmode": "overlay",
              "size": 10,
              "solidity": 0.2
             }
            },
            "type": "histogram"
           }
          ],
          "histogram2d": [
           {
            "colorbar": {
             "outlinewidth": 0,
             "ticks": ""
            },
            "colorscale": [
             [
              0,
              "#0d0887"
             ],
             [
              0.1111111111111111,
              "#46039f"
             ],
             [
              0.2222222222222222,
              "#7201a8"
             ],
             [
              0.3333333333333333,
              "#9c179e"
             ],
             [
              0.4444444444444444,
              "#bd3786"
             ],
             [
              0.5555555555555556,
              "#d8576b"
             ],
             [
              0.6666666666666666,
              "#ed7953"
             ],
             [
              0.7777777777777778,
              "#fb9f3a"
             ],
             [
              0.8888888888888888,
              "#fdca26"
             ],
             [
              1,
              "#f0f921"
             ]
            ],
            "type": "histogram2d"
           }
          ],
          "histogram2dcontour": [
           {
            "colorbar": {
             "outlinewidth": 0,
             "ticks": ""
            },
            "colorscale": [
             [
              0,
              "#0d0887"
             ],
             [
              0.1111111111111111,
              "#46039f"
             ],
             [
              0.2222222222222222,
              "#7201a8"
             ],
             [
              0.3333333333333333,
              "#9c179e"
             ],
             [
              0.4444444444444444,
              "#bd3786"
             ],
             [
              0.5555555555555556,
              "#d8576b"
             ],
             [
              0.6666666666666666,
              "#ed7953"
             ],
             [
              0.7777777777777778,
              "#fb9f3a"
             ],
             [
              0.8888888888888888,
              "#fdca26"
             ],
             [
              1,
              "#f0f921"
             ]
            ],
            "type": "histogram2dcontour"
           }
          ],
          "mesh3d": [
           {
            "colorbar": {
             "outlinewidth": 0,
             "ticks": ""
            },
            "type": "mesh3d"
           }
          ],
          "parcoords": [
           {
            "line": {
             "colorbar": {
              "outlinewidth": 0,
              "ticks": ""
             }
            },
            "type": "parcoords"
           }
          ],
          "pie": [
           {
            "automargin": true,
            "type": "pie"
           }
          ],
          "scatter": [
           {
            "marker": {
             "line": {
              "color": "#283442"
             }
            },
            "type": "scatter"
           }
          ],
          "scatter3d": [
           {
            "line": {
             "colorbar": {
              "outlinewidth": 0,
              "ticks": ""
             }
            },
            "marker": {
             "colorbar": {
              "outlinewidth": 0,
              "ticks": ""
             }
            },
            "type": "scatter3d"
           }
          ],
          "scattercarpet": [
           {
            "marker": {
             "colorbar": {
              "outlinewidth": 0,
              "ticks": ""
             }
            },
            "type": "scattercarpet"
           }
          ],
          "scattergeo": [
           {
            "marker": {
             "colorbar": {
              "outlinewidth": 0,
              "ticks": ""
             }
            },
            "type": "scattergeo"
           }
          ],
          "scattergl": [
           {
            "marker": {
             "line": {
              "color": "#283442"
             }
            },
            "type": "scattergl"
           }
          ],
          "scattermap": [
           {
            "marker": {
             "colorbar": {
              "outlinewidth": 0,
              "ticks": ""
             }
            },
            "type": "scattermap"
           }
          ],
          "scattermapbox": [
           {
            "marker": {
             "colorbar": {
              "outlinewidth": 0,
              "ticks": ""
             }
            },
            "type": "scattermapbox"
           }
          ],
          "scatterpolar": [
           {
            "marker": {
             "colorbar": {
              "outlinewidth": 0,
              "ticks": ""
             }
            },
            "type": "scatterpolar"
           }
          ],
          "scatterpolargl": [
           {
            "marker": {
             "colorbar": {
              "outlinewidth": 0,
              "ticks": ""
             }
            },
            "type": "scatterpolargl"
           }
          ],
          "scatterternary": [
           {
            "marker": {
             "colorbar": {
              "outlinewidth": 0,
              "ticks": ""
             }
            },
            "type": "scatterternary"
           }
          ],
          "surface": [
           {
            "colorbar": {
             "outlinewidth": 0,
             "ticks": ""
            },
            "colorscale": [
             [
              0,
              "#0d0887"
             ],
             [
              0.1111111111111111,
              "#46039f"
             ],
             [
              0.2222222222222222,
              "#7201a8"
             ],
             [
              0.3333333333333333,
              "#9c179e"
             ],
             [
              0.4444444444444444,
              "#bd3786"
             ],
             [
              0.5555555555555556,
              "#d8576b"
             ],
             [
              0.6666666666666666,
              "#ed7953"
             ],
             [
              0.7777777777777778,
              "#fb9f3a"
             ],
             [
              0.8888888888888888,
              "#fdca26"
             ],
             [
              1,
              "#f0f921"
             ]
            ],
            "type": "surface"
           }
          ],
          "table": [
           {
            "cells": {
             "fill": {
              "color": "#506784"
             },
             "line": {
              "color": "rgb(17,17,17)"
             }
            },
            "header": {
             "fill": {
              "color": "#2a3f5f"
             },
             "line": {
              "color": "rgb(17,17,17)"
             }
            },
            "type": "table"
           }
          ]
         },
         "layout": {
          "annotationdefaults": {
           "arrowcolor": "#f2f5fa",
           "arrowhead": 0,
           "arrowwidth": 1
          },
          "autotypenumbers": "strict",
          "coloraxis": {
           "colorbar": {
            "outlinewidth": 0,
            "ticks": ""
           }
          },
          "colorscale": {
           "diverging": [
            [
             0,
             "#8e0152"
            ],
            [
             0.1,
             "#c51b7d"
            ],
            [
             0.2,
             "#de77ae"
            ],
            [
             0.3,
             "#f1b6da"
            ],
            [
             0.4,
             "#fde0ef"
            ],
            [
             0.5,
             "#f7f7f7"
            ],
            [
             0.6,
             "#e6f5d0"
            ],
            [
             0.7,
             "#b8e186"
            ],
            [
             0.8,
             "#7fbc41"
            ],
            [
             0.9,
             "#4d9221"
            ],
            [
             1,
             "#276419"
            ]
           ],
           "sequential": [
            [
             0,
             "#0d0887"
            ],
            [
             0.1111111111111111,
             "#46039f"
            ],
            [
             0.2222222222222222,
             "#7201a8"
            ],
            [
             0.3333333333333333,
             "#9c179e"
            ],
            [
             0.4444444444444444,
             "#bd3786"
            ],
            [
             0.5555555555555556,
             "#d8576b"
            ],
            [
             0.6666666666666666,
             "#ed7953"
            ],
            [
             0.7777777777777778,
             "#fb9f3a"
            ],
            [
             0.8888888888888888,
             "#fdca26"
            ],
            [
             1,
             "#f0f921"
            ]
           ],
           "sequentialminus": [
            [
             0,
             "#0d0887"
            ],
            [
             0.1111111111111111,
             "#46039f"
            ],
            [
             0.2222222222222222,
             "#7201a8"
            ],
            [
             0.3333333333333333,
             "#9c179e"
            ],
            [
             0.4444444444444444,
             "#bd3786"
            ],
            [
             0.5555555555555556,
             "#d8576b"
            ],
            [
             0.6666666666666666,
             "#ed7953"
            ],
            [
             0.7777777777777778,
             "#fb9f3a"
            ],
            [
             0.8888888888888888,
             "#fdca26"
            ],
            [
             1,
             "#f0f921"
            ]
           ]
          },
          "colorway": [
           "#636efa",
           "#EF553B",
           "#00cc96",
           "#ab63fa",
           "#FFA15A",
           "#19d3f3",
           "#FF6692",
           "#B6E880",
           "#FF97FF",
           "#FECB52"
          ],
          "font": {
           "color": "#f2f5fa"
          },
          "geo": {
           "bgcolor": "rgb(17,17,17)",
           "lakecolor": "rgb(17,17,17)",
           "landcolor": "rgb(17,17,17)",
           "showlakes": true,
           "showland": true,
           "subunitcolor": "#506784"
          },
          "hoverlabel": {
           "align": "left"
          },
          "hovermode": "closest",
          "mapbox": {
           "style": "dark"
          },
          "paper_bgcolor": "rgb(17,17,17)",
          "plot_bgcolor": "rgb(17,17,17)",
          "polar": {
           "angularaxis": {
            "gridcolor": "#506784",
            "linecolor": "#506784",
            "ticks": ""
           },
           "bgcolor": "rgb(17,17,17)",
           "radialaxis": {
            "gridcolor": "#506784",
            "linecolor": "#506784",
            "ticks": ""
           }
          },
          "scene": {
           "xaxis": {
            "backgroundcolor": "rgb(17,17,17)",
            "gridcolor": "#506784",
            "gridwidth": 2,
            "linecolor": "#506784",
            "showbackground": true,
            "ticks": "",
            "zerolinecolor": "#C8D4E3"
           },
           "yaxis": {
            "backgroundcolor": "rgb(17,17,17)",
            "gridcolor": "#506784",
            "gridwidth": 2,
            "linecolor": "#506784",
            "showbackground": true,
            "ticks": "",
            "zerolinecolor": "#C8D4E3"
           },
           "zaxis": {
            "backgroundcolor": "rgb(17,17,17)",
            "gridcolor": "#506784",
            "gridwidth": 2,
            "linecolor": "#506784",
            "showbackground": true,
            "ticks": "",
            "zerolinecolor": "#C8D4E3"
           }
          },
          "shapedefaults": {
           "line": {
            "color": "#f2f5fa"
           }
          },
          "sliderdefaults": {
           "bgcolor": "#C8D4E3",
           "bordercolor": "rgb(17,17,17)",
           "borderwidth": 1,
           "tickwidth": 0
          },
          "ternary": {
           "aaxis": {
            "gridcolor": "#506784",
            "linecolor": "#506784",
            "ticks": ""
           },
           "baxis": {
            "gridcolor": "#506784",
            "linecolor": "#506784",
            "ticks": ""
           },
           "bgcolor": "rgb(17,17,17)",
           "caxis": {
            "gridcolor": "#506784",
            "linecolor": "#506784",
            "ticks": ""
           }
          },
          "title": {
           "x": 0.05
          },
          "updatemenudefaults": {
           "bgcolor": "#506784",
           "borderwidth": 0
          },
          "xaxis": {
           "automargin": true,
           "gridcolor": "#283442",
           "linecolor": "#506784",
           "ticks": "",
           "title": {
            "standoff": 15
           },
           "zerolinecolor": "#283442",
           "zerolinewidth": 2
          },
          "yaxis": {
           "automargin": true,
           "gridcolor": "#283442",
           "linecolor": "#506784",
           "ticks": "",
           "title": {
            "standoff": 15
           },
           "zerolinecolor": "#283442",
           "zerolinewidth": 2
          }
         }
        },
        "title": {
         "text": "drawdown curve"
        },
        "xaxis": {
         "anchor": "y",
         "domain": [
          0,
          1
         ],
         "title": {
          "text": "close_time"
         }
        },
        "yaxis": {
         "anchor": "x",
         "domain": [
          0,
          1
         ],
         "title": {
          "text": "drawdown"
         }
        }
       }
      }
     },
     "metadata": {},
     "output_type": "display_data"
    },
    {
     "name": "stdout",
     "output_type": "stream",
     "text": [
      "max_drawdown -118.0\n"
     ]
    }
   ],
   "source": [
    "evaluate_backtest(bt.trades)"
   ]
  }
 ],
 "metadata": {
  "kernelspec": {
   "display_name": "moad_lib",
   "language": "python",
   "name": "python3"
  },
  "language_info": {
   "codemirror_mode": {
    "name": "ipython",
    "version": 3
   },
   "file_extension": ".py",
   "mimetype": "text/x-python",
   "name": "python",
   "nbconvert_exporter": "python",
   "pygments_lexer": "ipython3",
   "version": "3.12.1"
  }
 },
 "nbformat": 4,
 "nbformat_minor": 5
}
