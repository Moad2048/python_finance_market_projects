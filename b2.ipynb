{
 "cells": [
  {
   "cell_type": "code",
   "execution_count": 273,
   "metadata": {},
   "outputs": [],
   "source": [
    "import MetaTrader5 as mt5 #mt5 to access historcal data\n",
    "import pandas as pd # for data analysis and calculation of technical indcator\n",
    "import numpy as np\n",
    "import plotly.io as pio\n",
    "import plotly.express as px # for data visualization\n",
    "import plotly.graph_objects as go\n",
    "import tdclient as TDClient\n",
    "from datetime import datetime, time ,timezone #to specify the date time range for historical data\n",
    "from IPython.display import display, Markdown, Latex # to display result in python notebook\n",
    "from backtest import Backtester, get_ohlc_history, create_price_fig, evaluate_backtest"
   ]
  },
  {
   "cell_type": "code",
   "execution_count": 274,
   "metadata": {},
   "outputs": [
    {
     "data": {
      "text/plain": [
       "True"
      ]
     },
     "execution_count": 274,
     "metadata": {},
     "output_type": "execute_result"
    }
   ],
   "source": [
    "# Conecte mt5\n",
    "mt5.initialize()\n",
    "# logine mt5\n",
    "login = 52185665\n",
    "password = '3cAJz$AQiKwMq0'\n",
    "server = 'ICMarketsSC-Demo'\n",
    "\n",
    "mt5.login(login,password,server)"
   ]
  },
  {
   "cell_type": "code",
   "execution_count": 275,
   "metadata": {},
   "outputs": [],
   "source": [
    "# this function retreives olhc data from mt5 account and return a data frame\n",
    "def get_ohlc(symbol, timeframe, start_datetime, end_datetime):\n",
    "    ohlc = mt5.copy_rates_range(symbol, timeframe, start_datetime, end_datetime)\n",
    "    ohlc_df = pd.DataFrame(ohlc)\n",
    "    ohlc_df['time'] = pd.to_datetime(ohlc_df['time'], unit= 's')\n",
    "    return ohlc_df[['time', 'open', 'high', 'low', 'close']]\n"
   ]
  },
  {
   "cell_type": "code",
   "execution_count": null,
   "metadata": {},
   "outputs": [],
   "source": [
    "# 30 minut df\n",
    "symbol = 'EURUSD'\n",
    "pos_size = 1\n",
    "timeframe = mt5.TIMEFRAME_M1\n",
    "start_datetime = datetime(2025,3,15)\n",
    "end_datetime = datetime.now()\n",
    "ohlc_df = get_ohlc(symbol, timeframe, start_datetime, end_datetime)\n",
    "ohlc_df"
   ]
  },
  {
   "cell_type": "code",
   "execution_count": 277,
   "metadata": {},
   "outputs": [
    {
     "data": {
      "text/html": [
       "<div>\n",
       "<style scoped>\n",
       "    .dataframe tbody tr th:only-of-type {\n",
       "        vertical-align: middle;\n",
       "    }\n",
       "\n",
       "    .dataframe tbody tr th {\n",
       "        vertical-align: top;\n",
       "    }\n",
       "\n",
       "    .dataframe thead th {\n",
       "        text-align: right;\n",
       "    }\n",
       "</style>\n",
       "<table border=\"1\" class=\"dataframe\">\n",
       "  <thead>\n",
       "    <tr style=\"text-align: right;\">\n",
       "      <th></th>\n",
       "      <th>time</th>\n",
       "      <th>open</th>\n",
       "      <th>high</th>\n",
       "      <th>low</th>\n",
       "      <th>close</th>\n",
       "    </tr>\n",
       "  </thead>\n",
       "  <tbody>\n",
       "    <tr>\n",
       "      <th>235</th>\n",
       "      <td>2025-05-09 04:00:00</td>\n",
       "      <td>1.12271</td>\n",
       "      <td>1.12300</td>\n",
       "      <td>1.11968</td>\n",
       "      <td>1.12279</td>\n",
       "    </tr>\n",
       "    <tr>\n",
       "      <th>236</th>\n",
       "      <td>2025-05-09 08:00:00</td>\n",
       "      <td>1.12279</td>\n",
       "      <td>1.12593</td>\n",
       "      <td>1.12185</td>\n",
       "      <td>1.12565</td>\n",
       "    </tr>\n",
       "    <tr>\n",
       "      <th>237</th>\n",
       "      <td>2025-05-09 12:00:00</td>\n",
       "      <td>1.12565</td>\n",
       "      <td>1.12606</td>\n",
       "      <td>1.12425</td>\n",
       "      <td>1.12541</td>\n",
       "    </tr>\n",
       "    <tr>\n",
       "      <th>238</th>\n",
       "      <td>2025-05-09 16:00:00</td>\n",
       "      <td>1.12541</td>\n",
       "      <td>1.12929</td>\n",
       "      <td>1.12532</td>\n",
       "      <td>1.12586</td>\n",
       "    </tr>\n",
       "    <tr>\n",
       "      <th>239</th>\n",
       "      <td>2025-05-09 20:00:00</td>\n",
       "      <td>1.12586</td>\n",
       "      <td>1.12664</td>\n",
       "      <td>1.12473</td>\n",
       "      <td>1.12497</td>\n",
       "    </tr>\n",
       "  </tbody>\n",
       "</table>\n",
       "</div>"
      ],
      "text/plain": [
       "                   time     open     high      low    close\n",
       "235 2025-05-09 04:00:00  1.12271  1.12300  1.11968  1.12279\n",
       "236 2025-05-09 08:00:00  1.12279  1.12593  1.12185  1.12565\n",
       "237 2025-05-09 12:00:00  1.12565  1.12606  1.12425  1.12541\n",
       "238 2025-05-09 16:00:00  1.12541  1.12929  1.12532  1.12586\n",
       "239 2025-05-09 20:00:00  1.12586  1.12664  1.12473  1.12497"
      ]
     },
     "execution_count": 277,
     "metadata": {},
     "output_type": "execute_result"
    }
   ],
   "source": [
    "# hour4 df\n",
    "symbol = 'EURUSD'\n",
    "pos_size = 1\n",
    "timeframe = mt5.TIMEFRAME_H4\n",
    "hourly_df = get_ohlc(symbol, timeframe, start_datetime, end_datetime)\n",
    "hourly_df.tail(5)"
   ]
  },
  {
   "cell_type": "code",
   "execution_count": 278,
   "metadata": {},
   "outputs": [
    {
     "data": {
      "text/html": [
       "<div>\n",
       "<style scoped>\n",
       "    .dataframe tbody tr th:only-of-type {\n",
       "        vertical-align: middle;\n",
       "    }\n",
       "\n",
       "    .dataframe tbody tr th {\n",
       "        vertical-align: top;\n",
       "    }\n",
       "\n",
       "    .dataframe thead th {\n",
       "        text-align: right;\n",
       "    }\n",
       "</style>\n",
       "<table border=\"1\" class=\"dataframe\">\n",
       "  <thead>\n",
       "    <tr style=\"text-align: right;\">\n",
       "      <th></th>\n",
       "      <th>time</th>\n",
       "      <th>open</th>\n",
       "      <th>high</th>\n",
       "      <th>low</th>\n",
       "      <th>close</th>\n",
       "    </tr>\n",
       "  </thead>\n",
       "  <tbody>\n",
       "    <tr>\n",
       "      <th>0</th>\n",
       "      <td>2025-03-17</td>\n",
       "      <td>1.08771</td>\n",
       "      <td>1.09297</td>\n",
       "      <td>1.08686</td>\n",
       "      <td>1.09214</td>\n",
       "    </tr>\n",
       "    <tr>\n",
       "      <th>1</th>\n",
       "      <td>2025-03-18</td>\n",
       "      <td>1.09218</td>\n",
       "      <td>1.09547</td>\n",
       "      <td>1.08925</td>\n",
       "      <td>1.09447</td>\n",
       "    </tr>\n",
       "    <tr>\n",
       "      <th>2</th>\n",
       "      <td>2025-03-19</td>\n",
       "      <td>1.09439</td>\n",
       "      <td>1.09461</td>\n",
       "      <td>1.08606</td>\n",
       "      <td>1.09025</td>\n",
       "    </tr>\n",
       "    <tr>\n",
       "      <th>3</th>\n",
       "      <td>2025-03-20</td>\n",
       "      <td>1.09010</td>\n",
       "      <td>1.09176</td>\n",
       "      <td>1.08147</td>\n",
       "      <td>1.08533</td>\n",
       "    </tr>\n",
       "    <tr>\n",
       "      <th>4</th>\n",
       "      <td>2025-03-21</td>\n",
       "      <td>1.08494</td>\n",
       "      <td>1.08613</td>\n",
       "      <td>1.07973</td>\n",
       "      <td>1.08124</td>\n",
       "    </tr>\n",
       "    <tr>\n",
       "      <th>5</th>\n",
       "      <td>2025-03-24</td>\n",
       "      <td>1.08127</td>\n",
       "      <td>1.08584</td>\n",
       "      <td>1.07817</td>\n",
       "      <td>1.08008</td>\n",
       "    </tr>\n",
       "    <tr>\n",
       "      <th>6</th>\n",
       "      <td>2025-03-25</td>\n",
       "      <td>1.08003</td>\n",
       "      <td>1.08302</td>\n",
       "      <td>1.07771</td>\n",
       "      <td>1.07913</td>\n",
       "    </tr>\n",
       "    <tr>\n",
       "      <th>7</th>\n",
       "      <td>2025-03-26</td>\n",
       "      <td>1.07901</td>\n",
       "      <td>1.08028</td>\n",
       "      <td>1.07435</td>\n",
       "      <td>1.07525</td>\n",
       "    </tr>\n",
       "    <tr>\n",
       "      <th>8</th>\n",
       "      <td>2025-03-27</td>\n",
       "      <td>1.07539</td>\n",
       "      <td>1.08212</td>\n",
       "      <td>1.07330</td>\n",
       "      <td>1.08018</td>\n",
       "    </tr>\n",
       "    <tr>\n",
       "      <th>9</th>\n",
       "      <td>2025-03-28</td>\n",
       "      <td>1.08011</td>\n",
       "      <td>1.08448</td>\n",
       "      <td>1.07645</td>\n",
       "      <td>1.08306</td>\n",
       "    </tr>\n",
       "    <tr>\n",
       "      <th>10</th>\n",
       "      <td>2025-03-31</td>\n",
       "      <td>1.08225</td>\n",
       "      <td>1.08494</td>\n",
       "      <td>1.07840</td>\n",
       "      <td>1.08149</td>\n",
       "    </tr>\n",
       "    <tr>\n",
       "      <th>11</th>\n",
       "      <td>2025-04-01</td>\n",
       "      <td>1.08152</td>\n",
       "      <td>1.08301</td>\n",
       "      <td>1.07783</td>\n",
       "      <td>1.07924</td>\n",
       "    </tr>\n",
       "    <tr>\n",
       "      <th>12</th>\n",
       "      <td>2025-04-02</td>\n",
       "      <td>1.07933</td>\n",
       "      <td>1.09241</td>\n",
       "      <td>1.07802</td>\n",
       "      <td>1.08603</td>\n",
       "    </tr>\n",
       "    <tr>\n",
       "      <th>13</th>\n",
       "      <td>2025-04-03</td>\n",
       "      <td>1.08510</td>\n",
       "      <td>1.11459</td>\n",
       "      <td>1.08052</td>\n",
       "      <td>1.10511</td>\n",
       "    </tr>\n",
       "    <tr>\n",
       "      <th>14</th>\n",
       "      <td>2025-04-04</td>\n",
       "      <td>1.10518</td>\n",
       "      <td>1.11078</td>\n",
       "      <td>1.09246</td>\n",
       "      <td>1.09636</td>\n",
       "    </tr>\n",
       "    <tr>\n",
       "      <th>15</th>\n",
       "      <td>2025-04-07</td>\n",
       "      <td>1.08936</td>\n",
       "      <td>1.10500</td>\n",
       "      <td>1.08800</td>\n",
       "      <td>1.09053</td>\n",
       "    </tr>\n",
       "    <tr>\n",
       "      <th>16</th>\n",
       "      <td>2025-04-08</td>\n",
       "      <td>1.09066</td>\n",
       "      <td>1.09918</td>\n",
       "      <td>1.08883</td>\n",
       "      <td>1.09578</td>\n",
       "    </tr>\n",
       "    <tr>\n",
       "      <th>17</th>\n",
       "      <td>2025-04-09</td>\n",
       "      <td>1.09527</td>\n",
       "      <td>1.10951</td>\n",
       "      <td>1.09132</td>\n",
       "      <td>1.09474</td>\n",
       "    </tr>\n",
       "    <tr>\n",
       "      <th>18</th>\n",
       "      <td>2025-04-10</td>\n",
       "      <td>1.09483</td>\n",
       "      <td>1.12416</td>\n",
       "      <td>1.09429</td>\n",
       "      <td>1.12017</td>\n",
       "    </tr>\n",
       "    <tr>\n",
       "      <th>19</th>\n",
       "      <td>2025-04-11</td>\n",
       "      <td>1.11929</td>\n",
       "      <td>1.14736</td>\n",
       "      <td>1.11818</td>\n",
       "      <td>1.13552</td>\n",
       "    </tr>\n",
       "    <tr>\n",
       "      <th>20</th>\n",
       "      <td>2025-04-14</td>\n",
       "      <td>1.13140</td>\n",
       "      <td>1.14246</td>\n",
       "      <td>1.12960</td>\n",
       "      <td>1.13496</td>\n",
       "    </tr>\n",
       "    <tr>\n",
       "      <th>21</th>\n",
       "      <td>2025-04-15</td>\n",
       "      <td>1.13500</td>\n",
       "      <td>1.13789</td>\n",
       "      <td>1.12642</td>\n",
       "      <td>1.12813</td>\n",
       "    </tr>\n",
       "    <tr>\n",
       "      <th>22</th>\n",
       "      <td>2025-04-16</td>\n",
       "      <td>1.12781</td>\n",
       "      <td>1.14128</td>\n",
       "      <td>1.12781</td>\n",
       "      <td>1.13985</td>\n",
       "    </tr>\n",
       "    <tr>\n",
       "      <th>23</th>\n",
       "      <td>2025-04-17</td>\n",
       "      <td>1.13986</td>\n",
       "      <td>1.14093</td>\n",
       "      <td>1.13353</td>\n",
       "      <td>1.13634</td>\n",
       "    </tr>\n",
       "    <tr>\n",
       "      <th>24</th>\n",
       "      <td>2025-04-18</td>\n",
       "      <td>1.13616</td>\n",
       "      <td>1.13975</td>\n",
       "      <td>1.13586</td>\n",
       "      <td>1.13929</td>\n",
       "    </tr>\n",
       "    <tr>\n",
       "      <th>25</th>\n",
       "      <td>2025-04-21</td>\n",
       "      <td>1.13928</td>\n",
       "      <td>1.15733</td>\n",
       "      <td>1.13799</td>\n",
       "      <td>1.15129</td>\n",
       "    </tr>\n",
       "    <tr>\n",
       "      <th>26</th>\n",
       "      <td>2025-04-22</td>\n",
       "      <td>1.15139</td>\n",
       "      <td>1.15474</td>\n",
       "      <td>1.14175</td>\n",
       "      <td>1.14206</td>\n",
       "    </tr>\n",
       "    <tr>\n",
       "      <th>27</th>\n",
       "      <td>2025-04-23</td>\n",
       "      <td>1.14207</td>\n",
       "      <td>1.14399</td>\n",
       "      <td>1.13081</td>\n",
       "      <td>1.13145</td>\n",
       "    </tr>\n",
       "    <tr>\n",
       "      <th>28</th>\n",
       "      <td>2025-04-24</td>\n",
       "      <td>1.13114</td>\n",
       "      <td>1.13979</td>\n",
       "      <td>1.13095</td>\n",
       "      <td>1.13888</td>\n",
       "    </tr>\n",
       "    <tr>\n",
       "      <th>29</th>\n",
       "      <td>2025-04-25</td>\n",
       "      <td>1.13852</td>\n",
       "      <td>1.13914</td>\n",
       "      <td>1.13160</td>\n",
       "      <td>1.13595</td>\n",
       "    </tr>\n",
       "    <tr>\n",
       "      <th>30</th>\n",
       "      <td>2025-04-28</td>\n",
       "      <td>1.13721</td>\n",
       "      <td>1.14249</td>\n",
       "      <td>1.13294</td>\n",
       "      <td>1.14216</td>\n",
       "    </tr>\n",
       "    <tr>\n",
       "      <th>31</th>\n",
       "      <td>2025-04-29</td>\n",
       "      <td>1.14197</td>\n",
       "      <td>1.14218</td>\n",
       "      <td>1.13702</td>\n",
       "      <td>1.13828</td>\n",
       "    </tr>\n",
       "    <tr>\n",
       "      <th>32</th>\n",
       "      <td>2025-04-30</td>\n",
       "      <td>1.13840</td>\n",
       "      <td>1.13996</td>\n",
       "      <td>1.13173</td>\n",
       "      <td>1.13292</td>\n",
       "    </tr>\n",
       "    <tr>\n",
       "      <th>33</th>\n",
       "      <td>2025-05-01</td>\n",
       "      <td>1.13279</td>\n",
       "      <td>1.13411</td>\n",
       "      <td>1.12659</td>\n",
       "      <td>1.12900</td>\n",
       "    </tr>\n",
       "    <tr>\n",
       "      <th>34</th>\n",
       "      <td>2025-05-02</td>\n",
       "      <td>1.12888</td>\n",
       "      <td>1.13810</td>\n",
       "      <td>1.12743</td>\n",
       "      <td>1.12994</td>\n",
       "    </tr>\n",
       "    <tr>\n",
       "      <th>35</th>\n",
       "      <td>2025-05-05</td>\n",
       "      <td>1.13037</td>\n",
       "      <td>1.13649</td>\n",
       "      <td>1.12929</td>\n",
       "      <td>1.13144</td>\n",
       "    </tr>\n",
       "    <tr>\n",
       "      <th>36</th>\n",
       "      <td>2025-05-06</td>\n",
       "      <td>1.13141</td>\n",
       "      <td>1.13812</td>\n",
       "      <td>1.12800</td>\n",
       "      <td>1.13685</td>\n",
       "    </tr>\n",
       "    <tr>\n",
       "      <th>37</th>\n",
       "      <td>2025-05-07</td>\n",
       "      <td>1.13691</td>\n",
       "      <td>1.13782</td>\n",
       "      <td>1.12917</td>\n",
       "      <td>1.13010</td>\n",
       "    </tr>\n",
       "    <tr>\n",
       "      <th>38</th>\n",
       "      <td>2025-05-08</td>\n",
       "      <td>1.12978</td>\n",
       "      <td>1.13364</td>\n",
       "      <td>1.12120</td>\n",
       "      <td>1.12279</td>\n",
       "    </tr>\n",
       "    <tr>\n",
       "      <th>39</th>\n",
       "      <td>2025-05-09</td>\n",
       "      <td>1.12235</td>\n",
       "      <td>1.12929</td>\n",
       "      <td>1.11968</td>\n",
       "      <td>1.12497</td>\n",
       "    </tr>\n",
       "  </tbody>\n",
       "</table>\n",
       "</div>"
      ],
      "text/plain": [
       "         time     open     high      low    close\n",
       "0  2025-03-17  1.08771  1.09297  1.08686  1.09214\n",
       "1  2025-03-18  1.09218  1.09547  1.08925  1.09447\n",
       "2  2025-03-19  1.09439  1.09461  1.08606  1.09025\n",
       "3  2025-03-20  1.09010  1.09176  1.08147  1.08533\n",
       "4  2025-03-21  1.08494  1.08613  1.07973  1.08124\n",
       "5  2025-03-24  1.08127  1.08584  1.07817  1.08008\n",
       "6  2025-03-25  1.08003  1.08302  1.07771  1.07913\n",
       "7  2025-03-26  1.07901  1.08028  1.07435  1.07525\n",
       "8  2025-03-27  1.07539  1.08212  1.07330  1.08018\n",
       "9  2025-03-28  1.08011  1.08448  1.07645  1.08306\n",
       "10 2025-03-31  1.08225  1.08494  1.07840  1.08149\n",
       "11 2025-04-01  1.08152  1.08301  1.07783  1.07924\n",
       "12 2025-04-02  1.07933  1.09241  1.07802  1.08603\n",
       "13 2025-04-03  1.08510  1.11459  1.08052  1.10511\n",
       "14 2025-04-04  1.10518  1.11078  1.09246  1.09636\n",
       "15 2025-04-07  1.08936  1.10500  1.08800  1.09053\n",
       "16 2025-04-08  1.09066  1.09918  1.08883  1.09578\n",
       "17 2025-04-09  1.09527  1.10951  1.09132  1.09474\n",
       "18 2025-04-10  1.09483  1.12416  1.09429  1.12017\n",
       "19 2025-04-11  1.11929  1.14736  1.11818  1.13552\n",
       "20 2025-04-14  1.13140  1.14246  1.12960  1.13496\n",
       "21 2025-04-15  1.13500  1.13789  1.12642  1.12813\n",
       "22 2025-04-16  1.12781  1.14128  1.12781  1.13985\n",
       "23 2025-04-17  1.13986  1.14093  1.13353  1.13634\n",
       "24 2025-04-18  1.13616  1.13975  1.13586  1.13929\n",
       "25 2025-04-21  1.13928  1.15733  1.13799  1.15129\n",
       "26 2025-04-22  1.15139  1.15474  1.14175  1.14206\n",
       "27 2025-04-23  1.14207  1.14399  1.13081  1.13145\n",
       "28 2025-04-24  1.13114  1.13979  1.13095  1.13888\n",
       "29 2025-04-25  1.13852  1.13914  1.13160  1.13595\n",
       "30 2025-04-28  1.13721  1.14249  1.13294  1.14216\n",
       "31 2025-04-29  1.14197  1.14218  1.13702  1.13828\n",
       "32 2025-04-30  1.13840  1.13996  1.13173  1.13292\n",
       "33 2025-05-01  1.13279  1.13411  1.12659  1.12900\n",
       "34 2025-05-02  1.12888  1.13810  1.12743  1.12994\n",
       "35 2025-05-05  1.13037  1.13649  1.12929  1.13144\n",
       "36 2025-05-06  1.13141  1.13812  1.12800  1.13685\n",
       "37 2025-05-07  1.13691  1.13782  1.12917  1.13010\n",
       "38 2025-05-08  1.12978  1.13364  1.12120  1.12279\n",
       "39 2025-05-09  1.12235  1.12929  1.11968  1.12497"
      ]
     },
     "execution_count": 278,
     "metadata": {},
     "output_type": "execute_result"
    }
   ],
   "source": [
    "# daily df\n",
    "symbol = 'EURUSD'\n",
    "pos_size = 1\n",
    "timeframe = mt5.TIMEFRAME_D1\n",
    "daily_df = get_ohlc(symbol, timeframe, start_datetime, end_datetime)\n",
    "# Convert 'time' column to full timestamp\n",
    "#daily_df['time'] = pd.to_datetime(daily_df['time']).dt.strftime('%Y-%m-%d %H:%M:%S')\n",
    "#daily_df['time'] = pd.to_datetime(daily_df['time'], unit= 's').dt.strftime('%Y-%m-%d %H:%M:%S')\n",
    "daily_df"
   ]
  },
  {
   "cell_type": "code",
   "execution_count": 279,
   "metadata": {},
   "outputs": [
    {
     "data": {
      "text/html": [
       "<div>\n",
       "<style scoped>\n",
       "    .dataframe tbody tr th:only-of-type {\n",
       "        vertical-align: middle;\n",
       "    }\n",
       "\n",
       "    .dataframe tbody tr th {\n",
       "        vertical-align: top;\n",
       "    }\n",
       "\n",
       "    .dataframe thead th {\n",
       "        text-align: right;\n",
       "    }\n",
       "</style>\n",
       "<table border=\"1\" class=\"dataframe\">\n",
       "  <thead>\n",
       "    <tr style=\"text-align: right;\">\n",
       "      <th></th>\n",
       "      <th>time</th>\n",
       "      <th>S2</th>\n",
       "      <th>R2</th>\n",
       "    </tr>\n",
       "  </thead>\n",
       "  <tbody>\n",
       "    <tr>\n",
       "      <th>30</th>\n",
       "      <td>2025-04-28</td>\n",
       "      <td>1.130904</td>\n",
       "      <td>1.140223</td>\n",
       "    </tr>\n",
       "    <tr>\n",
       "      <th>31</th>\n",
       "      <td>2025-04-29</td>\n",
       "      <td>1.133295</td>\n",
       "      <td>1.145099</td>\n",
       "    </tr>\n",
       "    <tr>\n",
       "      <th>32</th>\n",
       "      <td>2025-04-30</td>\n",
       "      <td>1.135971</td>\n",
       "      <td>1.142349</td>\n",
       "    </tr>\n",
       "    <tr>\n",
       "      <th>33</th>\n",
       "      <td>2025-05-01</td>\n",
       "      <td>1.129784</td>\n",
       "      <td>1.139956</td>\n",
       "    </tr>\n",
       "    <tr>\n",
       "      <th>34</th>\n",
       "      <td>2025-05-02</td>\n",
       "      <td>1.125253</td>\n",
       "      <td>1.134547</td>\n",
       "    </tr>\n",
       "    <tr>\n",
       "      <th>35</th>\n",
       "      <td>2025-05-05</td>\n",
       "      <td>1.125229</td>\n",
       "      <td>1.138417</td>\n",
       "    </tr>\n",
       "    <tr>\n",
       "      <th>36</th>\n",
       "      <td>2025-05-06</td>\n",
       "      <td>1.127957</td>\n",
       "      <td>1.136856</td>\n",
       "    </tr>\n",
       "    <tr>\n",
       "      <th>37</th>\n",
       "      <td>2025-05-07</td>\n",
       "      <td>1.128069</td>\n",
       "      <td>1.140577</td>\n",
       "    </tr>\n",
       "    <tr>\n",
       "      <th>38</th>\n",
       "      <td>2025-05-08</td>\n",
       "      <td>1.127018</td>\n",
       "      <td>1.137709</td>\n",
       "    </tr>\n",
       "    <tr>\n",
       "      <th>39</th>\n",
       "      <td>2025-05-09</td>\n",
       "      <td>1.118189</td>\n",
       "      <td>1.133565</td>\n",
       "    </tr>\n",
       "  </tbody>\n",
       "</table>\n",
       "</div>"
      ],
      "text/plain": [
       "         time        S2        R2\n",
       "30 2025-04-28  1.130904  1.140223\n",
       "31 2025-04-29  1.133295  1.145099\n",
       "32 2025-04-30  1.135971  1.142349\n",
       "33 2025-05-01  1.129784  1.139956\n",
       "34 2025-05-02  1.125253  1.134547\n",
       "35 2025-05-05  1.125229  1.138417\n",
       "36 2025-05-06  1.127957  1.136856\n",
       "37 2025-05-07  1.128069  1.140577\n",
       "38 2025-05-08  1.127018  1.137709\n",
       "39 2025-05-09  1.118189  1.133565"
      ]
     },
     "execution_count": 279,
     "metadata": {},
     "output_type": "execute_result"
    }
   ],
   "source": [
    "# Calculate Pivot Point, R1, R2, R3, stopeR4, S1, S2, S3, stopeS4 levels with Fibonacci \n",
    "daily_df[\"pivot\"] = ((daily_df[\"high\"] + daily_df[\"low\"] + daily_df[\"close\"]) / 3).shift(1)\n",
    "daily_df[\"prange\"] = (daily_df[\"high\"] - daily_df[\"low\"]).shift(1)\n",
    "daily_df[\"R1\"] = daily_df[\"pivot\"] + 0.382 * daily_df[\"prange\"]\n",
    "daily_df[\"R2\"] = daily_df[\"pivot\"] + 0.618 * daily_df[\"prange\"]\n",
    "daily_df[\"R3\"] = daily_df[\"pivot\"] + 1.000 * daily_df[\"prange\"]\n",
    "\n",
    "daily_df[\"S1\"] = daily_df[\"pivot\"] - 0.382 * daily_df[\"prange\"]\n",
    "daily_df[\"S2\"] = daily_df[\"pivot\"] - 0.618 * daily_df[\"prange\"]\n",
    "daily_df[\"S3\"] = daily_df[\"pivot\"] - 1.000 * daily_df[\"prange\"]\n",
    "daily_df[[\"time\",\"S2\",\"R2\"]].tail(10)\n"
   ]
  },
  {
   "cell_type": "code",
   "execution_count": 280,
   "metadata": {},
   "outputs": [
    {
     "data": {
      "text/html": [
       "<div>\n",
       "<style scoped>\n",
       "    .dataframe tbody tr th:only-of-type {\n",
       "        vertical-align: middle;\n",
       "    }\n",
       "\n",
       "    .dataframe tbody tr th {\n",
       "        vertical-align: top;\n",
       "    }\n",
       "\n",
       "    .dataframe thead th {\n",
       "        text-align: right;\n",
       "    }\n",
       "</style>\n",
       "<table border=\"1\" class=\"dataframe\">\n",
       "  <thead>\n",
       "    <tr style=\"text-align: right;\">\n",
       "      <th></th>\n",
       "      <th>time</th>\n",
       "      <th>open</th>\n",
       "      <th>high</th>\n",
       "      <th>low</th>\n",
       "      <th>close</th>\n",
       "      <th>ohlc4</th>\n",
       "      <th>sma_1</th>\n",
       "      <th>prev_sma_1</th>\n",
       "      <th>sma_14</th>\n",
       "    </tr>\n",
       "  </thead>\n",
       "  <tbody>\n",
       "    <tr>\n",
       "      <th>0</th>\n",
       "      <td>2025-03-17 00:00:00</td>\n",
       "      <td>1.08771</td>\n",
       "      <td>1.08855</td>\n",
       "      <td>1.08706</td>\n",
       "      <td>1.08795</td>\n",
       "      <td>1.087818</td>\n",
       "      <td>1.087818</td>\n",
       "      <td>NaN</td>\n",
       "      <td>NaN</td>\n",
       "    </tr>\n",
       "    <tr>\n",
       "      <th>1</th>\n",
       "      <td>2025-03-17 04:00:00</td>\n",
       "      <td>1.08795</td>\n",
       "      <td>1.08940</td>\n",
       "      <td>1.08742</td>\n",
       "      <td>1.08822</td>\n",
       "      <td>1.088247</td>\n",
       "      <td>1.088247</td>\n",
       "      <td>1.087818</td>\n",
       "      <td>NaN</td>\n",
       "    </tr>\n",
       "    <tr>\n",
       "      <th>2</th>\n",
       "      <td>2025-03-17 08:00:00</td>\n",
       "      <td>1.08822</td>\n",
       "      <td>1.08869</td>\n",
       "      <td>1.08686</td>\n",
       "      <td>1.08838</td>\n",
       "      <td>1.088037</td>\n",
       "      <td>1.088037</td>\n",
       "      <td>1.088247</td>\n",
       "      <td>NaN</td>\n",
       "    </tr>\n",
       "    <tr>\n",
       "      <th>3</th>\n",
       "      <td>2025-03-17 12:00:00</td>\n",
       "      <td>1.08838</td>\n",
       "      <td>1.09119</td>\n",
       "      <td>1.08771</td>\n",
       "      <td>1.09018</td>\n",
       "      <td>1.089365</td>\n",
       "      <td>1.089365</td>\n",
       "      <td>1.088037</td>\n",
       "      <td>NaN</td>\n",
       "    </tr>\n",
       "    <tr>\n",
       "      <th>4</th>\n",
       "      <td>2025-03-17 16:00:00</td>\n",
       "      <td>1.09018</td>\n",
       "      <td>1.09297</td>\n",
       "      <td>1.08972</td>\n",
       "      <td>1.09212</td>\n",
       "      <td>1.091248</td>\n",
       "      <td>1.091248</td>\n",
       "      <td>1.089365</td>\n",
       "      <td>NaN</td>\n",
       "    </tr>\n",
       "    <tr>\n",
       "      <th>...</th>\n",
       "      <td>...</td>\n",
       "      <td>...</td>\n",
       "      <td>...</td>\n",
       "      <td>...</td>\n",
       "      <td>...</td>\n",
       "      <td>...</td>\n",
       "      <td>...</td>\n",
       "      <td>...</td>\n",
       "      <td>...</td>\n",
       "    </tr>\n",
       "    <tr>\n",
       "      <th>235</th>\n",
       "      <td>2025-05-09 04:00:00</td>\n",
       "      <td>1.12271</td>\n",
       "      <td>1.12300</td>\n",
       "      <td>1.11968</td>\n",
       "      <td>1.12279</td>\n",
       "      <td>1.122045</td>\n",
       "      <td>1.122045</td>\n",
       "      <td>1.122428</td>\n",
       "      <td>1.130309</td>\n",
       "    </tr>\n",
       "    <tr>\n",
       "      <th>236</th>\n",
       "      <td>2025-05-09 08:00:00</td>\n",
       "      <td>1.12279</td>\n",
       "      <td>1.12593</td>\n",
       "      <td>1.12185</td>\n",
       "      <td>1.12565</td>\n",
       "      <td>1.124055</td>\n",
       "      <td>1.124055</td>\n",
       "      <td>1.122045</td>\n",
       "      <td>1.129509</td>\n",
       "    </tr>\n",
       "    <tr>\n",
       "      <th>237</th>\n",
       "      <td>2025-05-09 12:00:00</td>\n",
       "      <td>1.12565</td>\n",
       "      <td>1.12606</td>\n",
       "      <td>1.12425</td>\n",
       "      <td>1.12541</td>\n",
       "      <td>1.125342</td>\n",
       "      <td>1.125342</td>\n",
       "      <td>1.124055</td>\n",
       "      <td>1.128886</td>\n",
       "    </tr>\n",
       "    <tr>\n",
       "      <th>238</th>\n",
       "      <td>2025-05-09 16:00:00</td>\n",
       "      <td>1.12541</td>\n",
       "      <td>1.12929</td>\n",
       "      <td>1.12532</td>\n",
       "      <td>1.12586</td>\n",
       "      <td>1.126470</td>\n",
       "      <td>1.126470</td>\n",
       "      <td>1.125342</td>\n",
       "      <td>1.128235</td>\n",
       "    </tr>\n",
       "    <tr>\n",
       "      <th>239</th>\n",
       "      <td>2025-05-09 20:00:00</td>\n",
       "      <td>1.12586</td>\n",
       "      <td>1.12664</td>\n",
       "      <td>1.12473</td>\n",
       "      <td>1.12497</td>\n",
       "      <td>1.125550</td>\n",
       "      <td>1.125550</td>\n",
       "      <td>1.126470</td>\n",
       "      <td>1.127493</td>\n",
       "    </tr>\n",
       "  </tbody>\n",
       "</table>\n",
       "<p>240 rows × 9 columns</p>\n",
       "</div>"
      ],
      "text/plain": [
       "                   time     open     high      low    close     ohlc4  \\\n",
       "0   2025-03-17 00:00:00  1.08771  1.08855  1.08706  1.08795  1.087818   \n",
       "1   2025-03-17 04:00:00  1.08795  1.08940  1.08742  1.08822  1.088247   \n",
       "2   2025-03-17 08:00:00  1.08822  1.08869  1.08686  1.08838  1.088037   \n",
       "3   2025-03-17 12:00:00  1.08838  1.09119  1.08771  1.09018  1.089365   \n",
       "4   2025-03-17 16:00:00  1.09018  1.09297  1.08972  1.09212  1.091248   \n",
       "..                  ...      ...      ...      ...      ...       ...   \n",
       "235 2025-05-09 04:00:00  1.12271  1.12300  1.11968  1.12279  1.122045   \n",
       "236 2025-05-09 08:00:00  1.12279  1.12593  1.12185  1.12565  1.124055   \n",
       "237 2025-05-09 12:00:00  1.12565  1.12606  1.12425  1.12541  1.125342   \n",
       "238 2025-05-09 16:00:00  1.12541  1.12929  1.12532  1.12586  1.126470   \n",
       "239 2025-05-09 20:00:00  1.12586  1.12664  1.12473  1.12497  1.125550   \n",
       "\n",
       "        sma_1  prev_sma_1    sma_14  \n",
       "0    1.087818         NaN       NaN  \n",
       "1    1.088247    1.087818       NaN  \n",
       "2    1.088037    1.088247       NaN  \n",
       "3    1.089365    1.088037       NaN  \n",
       "4    1.091248    1.089365       NaN  \n",
       "..        ...         ...       ...  \n",
       "235  1.122045    1.122428  1.130309  \n",
       "236  1.124055    1.122045  1.129509  \n",
       "237  1.125342    1.124055  1.128886  \n",
       "238  1.126470    1.125342  1.128235  \n",
       "239  1.125550    1.126470  1.127493  \n",
       "\n",
       "[240 rows x 9 columns]"
      ]
     },
     "execution_count": 280,
     "metadata": {},
     "output_type": "execute_result"
    }
   ],
   "source": [
    "#setting the sma 1 and 14 periods\n",
    "furst_sma_period = 1\n",
    "second_sma_period = 14\n",
    "#ohlc4\n",
    "hourly_df['ohlc4'] = (hourly_df['open'] + hourly_df['high'] + hourly_df['low'] + hourly_df['close']) / 4\n",
    "\n",
    "# sma 1\n",
    "hourly_df['sma_1'] = hourly_df['ohlc4'].rolling(furst_sma_period).mean()\n",
    "hourly_df['prev_sma_1'] = hourly_df['sma_1'].shift(1) #to find crossovers, previous sma value is necessary using shift()\n",
    "# sma 14\n",
    "hourly_df['sma_14'] = hourly_df['ohlc4'].rolling(second_sma_period).mean()\n",
    "hourly_df"
   ]
  },
  {
   "cell_type": "code",
   "execution_count": 281,
   "metadata": {},
   "outputs": [
    {
     "data": {
      "text/html": [
       "<div>\n",
       "<style scoped>\n",
       "    .dataframe tbody tr th:only-of-type {\n",
       "        vertical-align: middle;\n",
       "    }\n",
       "\n",
       "    .dataframe tbody tr th {\n",
       "        vertical-align: top;\n",
       "    }\n",
       "\n",
       "    .dataframe thead th {\n",
       "        text-align: right;\n",
       "    }\n",
       "</style>\n",
       "<table border=\"1\" class=\"dataframe\">\n",
       "  <thead>\n",
       "    <tr style=\"text-align: right;\">\n",
       "      <th></th>\n",
       "      <th>time</th>\n",
       "      <th>sma_11</th>\n",
       "      <th>sma_114</th>\n",
       "      <th>prev_sma_11</th>\n",
       "    </tr>\n",
       "  </thead>\n",
       "  <tbody>\n",
       "    <tr>\n",
       "      <th>0</th>\n",
       "      <td>2025-03-17</td>\n",
       "      <td>1.089920</td>\n",
       "      <td>NaN</td>\n",
       "      <td>NaN</td>\n",
       "    </tr>\n",
       "    <tr>\n",
       "      <th>1</th>\n",
       "      <td>2025-03-18</td>\n",
       "      <td>1.092842</td>\n",
       "      <td>NaN</td>\n",
       "      <td>1.089920</td>\n",
       "    </tr>\n",
       "    <tr>\n",
       "      <th>2</th>\n",
       "      <td>2025-03-19</td>\n",
       "      <td>1.091328</td>\n",
       "      <td>NaN</td>\n",
       "      <td>1.092842</td>\n",
       "    </tr>\n",
       "    <tr>\n",
       "      <th>3</th>\n",
       "      <td>2025-03-20</td>\n",
       "      <td>1.087165</td>\n",
       "      <td>NaN</td>\n",
       "      <td>1.091328</td>\n",
       "    </tr>\n",
       "    <tr>\n",
       "      <th>4</th>\n",
       "      <td>2025-03-21</td>\n",
       "      <td>1.083010</td>\n",
       "      <td>NaN</td>\n",
       "      <td>1.087165</td>\n",
       "    </tr>\n",
       "    <tr>\n",
       "      <th>5</th>\n",
       "      <td>2025-03-24</td>\n",
       "      <td>1.081340</td>\n",
       "      <td>NaN</td>\n",
       "      <td>1.083010</td>\n",
       "    </tr>\n",
       "    <tr>\n",
       "      <th>6</th>\n",
       "      <td>2025-03-25</td>\n",
       "      <td>1.079973</td>\n",
       "      <td>NaN</td>\n",
       "      <td>1.081340</td>\n",
       "    </tr>\n",
       "    <tr>\n",
       "      <th>7</th>\n",
       "      <td>2025-03-26</td>\n",
       "      <td>1.077222</td>\n",
       "      <td>NaN</td>\n",
       "      <td>1.079973</td>\n",
       "    </tr>\n",
       "    <tr>\n",
       "      <th>8</th>\n",
       "      <td>2025-03-27</td>\n",
       "      <td>1.077748</td>\n",
       "      <td>NaN</td>\n",
       "      <td>1.077222</td>\n",
       "    </tr>\n",
       "    <tr>\n",
       "      <th>9</th>\n",
       "      <td>2025-03-28</td>\n",
       "      <td>1.081025</td>\n",
       "      <td>NaN</td>\n",
       "      <td>1.077748</td>\n",
       "    </tr>\n",
       "    <tr>\n",
       "      <th>10</th>\n",
       "      <td>2025-03-31</td>\n",
       "      <td>1.081770</td>\n",
       "      <td>NaN</td>\n",
       "      <td>1.081025</td>\n",
       "    </tr>\n",
       "    <tr>\n",
       "      <th>11</th>\n",
       "      <td>2025-04-01</td>\n",
       "      <td>1.080400</td>\n",
       "      <td>NaN</td>\n",
       "      <td>1.081770</td>\n",
       "    </tr>\n",
       "    <tr>\n",
       "      <th>12</th>\n",
       "      <td>2025-04-02</td>\n",
       "      <td>1.083947</td>\n",
       "      <td>NaN</td>\n",
       "      <td>1.080400</td>\n",
       "    </tr>\n",
       "    <tr>\n",
       "      <th>13</th>\n",
       "      <td>2025-04-03</td>\n",
       "      <td>1.096330</td>\n",
       "      <td>1.084573</td>\n",
       "      <td>1.083947</td>\n",
       "    </tr>\n",
       "    <tr>\n",
       "      <th>14</th>\n",
       "      <td>2025-04-04</td>\n",
       "      <td>1.101195</td>\n",
       "      <td>1.085378</td>\n",
       "      <td>1.096330</td>\n",
       "    </tr>\n",
       "    <tr>\n",
       "      <th>15</th>\n",
       "      <td>2025-04-07</td>\n",
       "      <td>1.093222</td>\n",
       "      <td>1.085405</td>\n",
       "      <td>1.101195</td>\n",
       "    </tr>\n",
       "    <tr>\n",
       "      <th>16</th>\n",
       "      <td>2025-04-08</td>\n",
       "      <td>1.093612</td>\n",
       "      <td>1.085569</td>\n",
       "      <td>1.093222</td>\n",
       "    </tr>\n",
       "    <tr>\n",
       "      <th>17</th>\n",
       "      <td>2025-04-09</td>\n",
       "      <td>1.097710</td>\n",
       "      <td>1.086322</td>\n",
       "      <td>1.093612</td>\n",
       "    </tr>\n",
       "    <tr>\n",
       "      <th>18</th>\n",
       "      <td>2025-04-10</td>\n",
       "      <td>1.108362</td>\n",
       "      <td>1.088133</td>\n",
       "      <td>1.097710</td>\n",
       "    </tr>\n",
       "    <tr>\n",
       "      <th>19</th>\n",
       "      <td>2025-04-11</td>\n",
       "      <td>1.130088</td>\n",
       "      <td>1.091615</td>\n",
       "      <td>1.108362</td>\n",
       "    </tr>\n",
       "    <tr>\n",
       "      <th>20</th>\n",
       "      <td>2025-04-14</td>\n",
       "      <td>1.134605</td>\n",
       "      <td>1.095517</td>\n",
       "      <td>1.130088</td>\n",
       "    </tr>\n",
       "    <tr>\n",
       "      <th>21</th>\n",
       "      <td>2025-04-15</td>\n",
       "      <td>1.131860</td>\n",
       "      <td>1.099420</td>\n",
       "      <td>1.134605</td>\n",
       "    </tr>\n",
       "    <tr>\n",
       "      <th>22</th>\n",
       "      <td>2025-04-16</td>\n",
       "      <td>1.134188</td>\n",
       "      <td>1.103451</td>\n",
       "      <td>1.131860</td>\n",
       "    </tr>\n",
       "    <tr>\n",
       "      <th>23</th>\n",
       "      <td>2025-04-17</td>\n",
       "      <td>1.137665</td>\n",
       "      <td>1.107497</td>\n",
       "      <td>1.134188</td>\n",
       "    </tr>\n",
       "    <tr>\n",
       "      <th>24</th>\n",
       "      <td>2025-04-18</td>\n",
       "      <td>1.137765</td>\n",
       "      <td>1.111496</td>\n",
       "      <td>1.137665</td>\n",
       "    </tr>\n",
       "    <tr>\n",
       "      <th>25</th>\n",
       "      <td>2025-04-21</td>\n",
       "      <td>1.146473</td>\n",
       "      <td>1.116216</td>\n",
       "      <td>1.137765</td>\n",
       "    </tr>\n",
       "    <tr>\n",
       "      <th>26</th>\n",
       "      <td>2025-04-22</td>\n",
       "      <td>1.147485</td>\n",
       "      <td>1.120754</td>\n",
       "      <td>1.146473</td>\n",
       "    </tr>\n",
       "    <tr>\n",
       "      <th>27</th>\n",
       "      <td>2025-04-23</td>\n",
       "      <td>1.137080</td>\n",
       "      <td>1.123665</td>\n",
       "      <td>1.147485</td>\n",
       "    </tr>\n",
       "    <tr>\n",
       "      <th>28</th>\n",
       "      <td>2025-04-24</td>\n",
       "      <td>1.135190</td>\n",
       "      <td>1.126093</td>\n",
       "      <td>1.137080</td>\n",
       "    </tr>\n",
       "    <tr>\n",
       "      <th>29</th>\n",
       "      <td>2025-04-25</td>\n",
       "      <td>1.136302</td>\n",
       "      <td>1.129170</td>\n",
       "      <td>1.135190</td>\n",
       "    </tr>\n",
       "    <tr>\n",
       "      <th>30</th>\n",
       "      <td>2025-04-28</td>\n",
       "      <td>1.138700</td>\n",
       "      <td>1.132391</td>\n",
       "      <td>1.136302</td>\n",
       "    </tr>\n",
       "    <tr>\n",
       "      <th>31</th>\n",
       "      <td>2025-04-29</td>\n",
       "      <td>1.139863</td>\n",
       "      <td>1.135402</td>\n",
       "      <td>1.138700</td>\n",
       "    </tr>\n",
       "    <tr>\n",
       "      <th>32</th>\n",
       "      <td>2025-04-30</td>\n",
       "      <td>1.135753</td>\n",
       "      <td>1.137358</td>\n",
       "      <td>1.139863</td>\n",
       "    </tr>\n",
       "    <tr>\n",
       "      <th>33</th>\n",
       "      <td>2025-05-01</td>\n",
       "      <td>1.130622</td>\n",
       "      <td>1.137396</td>\n",
       "      <td>1.135753</td>\n",
       "    </tr>\n",
       "    <tr>\n",
       "      <th>34</th>\n",
       "      <td>2025-05-02</td>\n",
       "      <td>1.131088</td>\n",
       "      <td>1.137145</td>\n",
       "      <td>1.130622</td>\n",
       "    </tr>\n",
       "    <tr>\n",
       "      <th>35</th>\n",
       "      <td>2025-05-05</td>\n",
       "      <td>1.131898</td>\n",
       "      <td>1.137148</td>\n",
       "      <td>1.131088</td>\n",
       "    </tr>\n",
       "    <tr>\n",
       "      <th>36</th>\n",
       "      <td>2025-05-06</td>\n",
       "      <td>1.133595</td>\n",
       "      <td>1.137106</td>\n",
       "      <td>1.131898</td>\n",
       "    </tr>\n",
       "    <tr>\n",
       "      <th>37</th>\n",
       "      <td>2025-05-07</td>\n",
       "      <td>1.133500</td>\n",
       "      <td>1.136808</td>\n",
       "      <td>1.133595</td>\n",
       "    </tr>\n",
       "    <tr>\n",
       "      <th>38</th>\n",
       "      <td>2025-05-08</td>\n",
       "      <td>1.126853</td>\n",
       "      <td>1.136029</td>\n",
       "      <td>1.133500</td>\n",
       "    </tr>\n",
       "    <tr>\n",
       "      <th>39</th>\n",
       "      <td>2025-05-09</td>\n",
       "      <td>1.124073</td>\n",
       "      <td>1.134429</td>\n",
       "      <td>1.126853</td>\n",
       "    </tr>\n",
       "  </tbody>\n",
       "</table>\n",
       "</div>"
      ],
      "text/plain": [
       "         time    sma_11   sma_114  prev_sma_11\n",
       "0  2025-03-17  1.089920       NaN          NaN\n",
       "1  2025-03-18  1.092842       NaN     1.089920\n",
       "2  2025-03-19  1.091328       NaN     1.092842\n",
       "3  2025-03-20  1.087165       NaN     1.091328\n",
       "4  2025-03-21  1.083010       NaN     1.087165\n",
       "5  2025-03-24  1.081340       NaN     1.083010\n",
       "6  2025-03-25  1.079973       NaN     1.081340\n",
       "7  2025-03-26  1.077222       NaN     1.079973\n",
       "8  2025-03-27  1.077748       NaN     1.077222\n",
       "9  2025-03-28  1.081025       NaN     1.077748\n",
       "10 2025-03-31  1.081770       NaN     1.081025\n",
       "11 2025-04-01  1.080400       NaN     1.081770\n",
       "12 2025-04-02  1.083947       NaN     1.080400\n",
       "13 2025-04-03  1.096330  1.084573     1.083947\n",
       "14 2025-04-04  1.101195  1.085378     1.096330\n",
       "15 2025-04-07  1.093222  1.085405     1.101195\n",
       "16 2025-04-08  1.093612  1.085569     1.093222\n",
       "17 2025-04-09  1.097710  1.086322     1.093612\n",
       "18 2025-04-10  1.108362  1.088133     1.097710\n",
       "19 2025-04-11  1.130088  1.091615     1.108362\n",
       "20 2025-04-14  1.134605  1.095517     1.130088\n",
       "21 2025-04-15  1.131860  1.099420     1.134605\n",
       "22 2025-04-16  1.134188  1.103451     1.131860\n",
       "23 2025-04-17  1.137665  1.107497     1.134188\n",
       "24 2025-04-18  1.137765  1.111496     1.137665\n",
       "25 2025-04-21  1.146473  1.116216     1.137765\n",
       "26 2025-04-22  1.147485  1.120754     1.146473\n",
       "27 2025-04-23  1.137080  1.123665     1.147485\n",
       "28 2025-04-24  1.135190  1.126093     1.137080\n",
       "29 2025-04-25  1.136302  1.129170     1.135190\n",
       "30 2025-04-28  1.138700  1.132391     1.136302\n",
       "31 2025-04-29  1.139863  1.135402     1.138700\n",
       "32 2025-04-30  1.135753  1.137358     1.139863\n",
       "33 2025-05-01  1.130622  1.137396     1.135753\n",
       "34 2025-05-02  1.131088  1.137145     1.130622\n",
       "35 2025-05-05  1.131898  1.137148     1.131088\n",
       "36 2025-05-06  1.133595  1.137106     1.131898\n",
       "37 2025-05-07  1.133500  1.136808     1.133595\n",
       "38 2025-05-08  1.126853  1.136029     1.133500\n",
       "39 2025-05-09  1.124073  1.134429     1.126853"
      ]
     },
     "execution_count": 281,
     "metadata": {},
     "output_type": "execute_result"
    }
   ],
   "source": [
    "#setting the 11 and 114 sma periods\n",
    "thurd_sma_period = 1\n",
    "fourth_sma_period = 14\n",
    "#ohlc4\n",
    "daily_df['ohlc4'] = (daily_df['open'] + daily_df['high'] + daily_df['low'] + daily_df['close']) / 4\n",
    "# sma 11\n",
    "daily_df['sma_11'] = daily_df['ohlc4'].rolling(thurd_sma_period).mean()\n",
    "daily_df['prev_sma_11'] = daily_df['sma_11'].shift(1) #to find crossovers, previous sma value is necessary using shift()\n",
    "# sma 114\n",
    "daily_df['sma_114'] = daily_df['ohlc4'].rolling(fourth_sma_period).mean()\n",
    "daily_df[[\"time\",\"sma_11\",\"sma_114\",\"prev_sma_11\"]]"
   ]
  },
  {
   "cell_type": "code",
   "execution_count": 282,
   "metadata": {},
   "outputs": [
    {
     "data": {
      "text/html": [
       "<div>\n",
       "<style scoped>\n",
       "    .dataframe tbody tr th:only-of-type {\n",
       "        vertical-align: middle;\n",
       "    }\n",
       "\n",
       "    .dataframe tbody tr th {\n",
       "        vertical-align: top;\n",
       "    }\n",
       "\n",
       "    .dataframe thead th {\n",
       "        text-align: right;\n",
       "    }\n",
       "</style>\n",
       "<table border=\"1\" class=\"dataframe\">\n",
       "  <thead>\n",
       "    <tr style=\"text-align: right;\">\n",
       "      <th></th>\n",
       "      <th>time</th>\n",
       "      <th>open</th>\n",
       "      <th>high</th>\n",
       "      <th>low</th>\n",
       "      <th>close</th>\n",
       "      <th>pivot</th>\n",
       "      <th>prange</th>\n",
       "      <th>R1</th>\n",
       "      <th>R2</th>\n",
       "      <th>R3</th>\n",
       "      <th>...</th>\n",
       "      <th>S2</th>\n",
       "      <th>S3</th>\n",
       "      <th>ohlc4</th>\n",
       "      <th>sma_11</th>\n",
       "      <th>prev_sma_11</th>\n",
       "      <th>sma_114</th>\n",
       "      <th>sell_stope_loss</th>\n",
       "      <th>buy_stope_loss</th>\n",
       "      <th>sell_profit</th>\n",
       "      <th>buy_profit</th>\n",
       "    </tr>\n",
       "  </thead>\n",
       "  <tbody>\n",
       "    <tr>\n",
       "      <th>0</th>\n",
       "      <td>2025-03-17</td>\n",
       "      <td>1.08771</td>\n",
       "      <td>1.09297</td>\n",
       "      <td>1.08686</td>\n",
       "      <td>1.09214</td>\n",
       "      <td>NaN</td>\n",
       "      <td>NaN</td>\n",
       "      <td>NaN</td>\n",
       "      <td>NaN</td>\n",
       "      <td>NaN</td>\n",
       "      <td>...</td>\n",
       "      <td>NaN</td>\n",
       "      <td>NaN</td>\n",
       "      <td>1.089920</td>\n",
       "      <td>1.089920</td>\n",
       "      <td>NaN</td>\n",
       "      <td>NaN</td>\n",
       "      <td>NaN</td>\n",
       "      <td>NaN</td>\n",
       "      <td>False</td>\n",
       "      <td>False</td>\n",
       "    </tr>\n",
       "    <tr>\n",
       "      <th>1</th>\n",
       "      <td>2025-03-18</td>\n",
       "      <td>1.09218</td>\n",
       "      <td>1.09547</td>\n",
       "      <td>1.08925</td>\n",
       "      <td>1.09447</td>\n",
       "      <td>1.090657</td>\n",
       "      <td>0.00611</td>\n",
       "      <td>1.092991</td>\n",
       "      <td>1.094433</td>\n",
       "      <td>1.096767</td>\n",
       "      <td>...</td>\n",
       "      <td>1.086881</td>\n",
       "      <td>1.084547</td>\n",
       "      <td>1.092842</td>\n",
       "      <td>1.092842</td>\n",
       "      <td>1.089920</td>\n",
       "      <td>NaN</td>\n",
       "      <td>1.097488</td>\n",
       "      <td>1.083826</td>\n",
       "      <td>False</td>\n",
       "      <td>True</td>\n",
       "    </tr>\n",
       "    <tr>\n",
       "      <th>2</th>\n",
       "      <td>2025-03-19</td>\n",
       "      <td>1.09439</td>\n",
       "      <td>1.09461</td>\n",
       "      <td>1.08606</td>\n",
       "      <td>1.09025</td>\n",
       "      <td>1.093063</td>\n",
       "      <td>0.00622</td>\n",
       "      <td>1.095439</td>\n",
       "      <td>1.096907</td>\n",
       "      <td>1.099283</td>\n",
       "      <td>...</td>\n",
       "      <td>1.089219</td>\n",
       "      <td>1.086843</td>\n",
       "      <td>1.091328</td>\n",
       "      <td>1.091328</td>\n",
       "      <td>1.092842</td>\n",
       "      <td>NaN</td>\n",
       "      <td>1.100017</td>\n",
       "      <td>1.086109</td>\n",
       "      <td>True</td>\n",
       "      <td>False</td>\n",
       "    </tr>\n",
       "    <tr>\n",
       "      <th>3</th>\n",
       "      <td>2025-03-20</td>\n",
       "      <td>1.09010</td>\n",
       "      <td>1.09176</td>\n",
       "      <td>1.08147</td>\n",
       "      <td>1.08533</td>\n",
       "      <td>1.090307</td>\n",
       "      <td>0.00855</td>\n",
       "      <td>1.093573</td>\n",
       "      <td>1.095591</td>\n",
       "      <td>1.098857</td>\n",
       "      <td>...</td>\n",
       "      <td>1.085023</td>\n",
       "      <td>1.081757</td>\n",
       "      <td>1.087165</td>\n",
       "      <td>1.087165</td>\n",
       "      <td>1.091328</td>\n",
       "      <td>NaN</td>\n",
       "      <td>1.099866</td>\n",
       "      <td>1.080748</td>\n",
       "      <td>True</td>\n",
       "      <td>False</td>\n",
       "    </tr>\n",
       "    <tr>\n",
       "      <th>4</th>\n",
       "      <td>2025-03-21</td>\n",
       "      <td>1.08494</td>\n",
       "      <td>1.08613</td>\n",
       "      <td>1.07973</td>\n",
       "      <td>1.08124</td>\n",
       "      <td>1.086187</td>\n",
       "      <td>0.01029</td>\n",
       "      <td>1.090117</td>\n",
       "      <td>1.092546</td>\n",
       "      <td>1.096477</td>\n",
       "      <td>...</td>\n",
       "      <td>1.079827</td>\n",
       "      <td>1.075897</td>\n",
       "      <td>1.083010</td>\n",
       "      <td>1.083010</td>\n",
       "      <td>1.087165</td>\n",
       "      <td>NaN</td>\n",
       "      <td>1.097691</td>\n",
       "      <td>1.074682</td>\n",
       "      <td>True</td>\n",
       "      <td>False</td>\n",
       "    </tr>\n",
       "    <tr>\n",
       "      <th>5</th>\n",
       "      <td>2025-03-24</td>\n",
       "      <td>1.08127</td>\n",
       "      <td>1.08584</td>\n",
       "      <td>1.07817</td>\n",
       "      <td>1.08008</td>\n",
       "      <td>1.082367</td>\n",
       "      <td>0.00640</td>\n",
       "      <td>1.084811</td>\n",
       "      <td>1.086322</td>\n",
       "      <td>1.088767</td>\n",
       "      <td>...</td>\n",
       "      <td>1.078411</td>\n",
       "      <td>1.075967</td>\n",
       "      <td>1.081340</td>\n",
       "      <td>1.081340</td>\n",
       "      <td>1.083010</td>\n",
       "      <td>NaN</td>\n",
       "      <td>1.089522</td>\n",
       "      <td>1.075211</td>\n",
       "      <td>True</td>\n",
       "      <td>True</td>\n",
       "    </tr>\n",
       "    <tr>\n",
       "      <th>6</th>\n",
       "      <td>2025-03-25</td>\n",
       "      <td>1.08003</td>\n",
       "      <td>1.08302</td>\n",
       "      <td>1.07771</td>\n",
       "      <td>1.07913</td>\n",
       "      <td>1.081363</td>\n",
       "      <td>0.00767</td>\n",
       "      <td>1.084293</td>\n",
       "      <td>1.086103</td>\n",
       "      <td>1.089033</td>\n",
       "      <td>...</td>\n",
       "      <td>1.076623</td>\n",
       "      <td>1.073693</td>\n",
       "      <td>1.079973</td>\n",
       "      <td>1.079973</td>\n",
       "      <td>1.081340</td>\n",
       "      <td>NaN</td>\n",
       "      <td>1.089938</td>\n",
       "      <td>1.072788</td>\n",
       "      <td>True</td>\n",
       "      <td>False</td>\n",
       "    </tr>\n",
       "    <tr>\n",
       "      <th>7</th>\n",
       "      <td>2025-03-26</td>\n",
       "      <td>1.07901</td>\n",
       "      <td>1.08028</td>\n",
       "      <td>1.07435</td>\n",
       "      <td>1.07525</td>\n",
       "      <td>1.079953</td>\n",
       "      <td>0.00531</td>\n",
       "      <td>1.081982</td>\n",
       "      <td>1.083235</td>\n",
       "      <td>1.085263</td>\n",
       "      <td>...</td>\n",
       "      <td>1.076672</td>\n",
       "      <td>1.074643</td>\n",
       "      <td>1.077222</td>\n",
       "      <td>1.077222</td>\n",
       "      <td>1.079973</td>\n",
       "      <td>NaN</td>\n",
       "      <td>1.085890</td>\n",
       "      <td>1.074017</td>\n",
       "      <td>True</td>\n",
       "      <td>False</td>\n",
       "    </tr>\n",
       "    <tr>\n",
       "      <th>8</th>\n",
       "      <td>2025-03-27</td>\n",
       "      <td>1.07539</td>\n",
       "      <td>1.08212</td>\n",
       "      <td>1.07330</td>\n",
       "      <td>1.08018</td>\n",
       "      <td>1.076627</td>\n",
       "      <td>0.00593</td>\n",
       "      <td>1.078892</td>\n",
       "      <td>1.080291</td>\n",
       "      <td>1.082557</td>\n",
       "      <td>...</td>\n",
       "      <td>1.072962</td>\n",
       "      <td>1.070697</td>\n",
       "      <td>1.077748</td>\n",
       "      <td>1.077748</td>\n",
       "      <td>1.077222</td>\n",
       "      <td>NaN</td>\n",
       "      <td>1.083256</td>\n",
       "      <td>1.069997</td>\n",
       "      <td>True</td>\n",
       "      <td>True</td>\n",
       "    </tr>\n",
       "    <tr>\n",
       "      <th>9</th>\n",
       "      <td>2025-03-28</td>\n",
       "      <td>1.08011</td>\n",
       "      <td>1.08448</td>\n",
       "      <td>1.07645</td>\n",
       "      <td>1.08306</td>\n",
       "      <td>1.078533</td>\n",
       "      <td>0.00882</td>\n",
       "      <td>1.081903</td>\n",
       "      <td>1.083984</td>\n",
       "      <td>1.087353</td>\n",
       "      <td>...</td>\n",
       "      <td>1.073083</td>\n",
       "      <td>1.069713</td>\n",
       "      <td>1.081025</td>\n",
       "      <td>1.081025</td>\n",
       "      <td>1.077748</td>\n",
       "      <td>NaN</td>\n",
       "      <td>1.088394</td>\n",
       "      <td>1.068673</td>\n",
       "      <td>False</td>\n",
       "      <td>True</td>\n",
       "    </tr>\n",
       "    <tr>\n",
       "      <th>10</th>\n",
       "      <td>2025-03-31</td>\n",
       "      <td>1.08225</td>\n",
       "      <td>1.08494</td>\n",
       "      <td>1.07840</td>\n",
       "      <td>1.08149</td>\n",
       "      <td>1.081330</td>\n",
       "      <td>0.00803</td>\n",
       "      <td>1.084397</td>\n",
       "      <td>1.086293</td>\n",
       "      <td>1.089360</td>\n",
       "      <td>...</td>\n",
       "      <td>1.076367</td>\n",
       "      <td>1.073300</td>\n",
       "      <td>1.081770</td>\n",
       "      <td>1.081770</td>\n",
       "      <td>1.081025</td>\n",
       "      <td>NaN</td>\n",
       "      <td>1.090308</td>\n",
       "      <td>1.072352</td>\n",
       "      <td>False</td>\n",
       "      <td>True</td>\n",
       "    </tr>\n",
       "    <tr>\n",
       "      <th>11</th>\n",
       "      <td>2025-04-01</td>\n",
       "      <td>1.08152</td>\n",
       "      <td>1.08301</td>\n",
       "      <td>1.07783</td>\n",
       "      <td>1.07924</td>\n",
       "      <td>1.081610</td>\n",
       "      <td>0.00654</td>\n",
       "      <td>1.084108</td>\n",
       "      <td>1.085652</td>\n",
       "      <td>1.088150</td>\n",
       "      <td>...</td>\n",
       "      <td>1.077568</td>\n",
       "      <td>1.075070</td>\n",
       "      <td>1.080400</td>\n",
       "      <td>1.080400</td>\n",
       "      <td>1.081770</td>\n",
       "      <td>NaN</td>\n",
       "      <td>1.088922</td>\n",
       "      <td>1.074298</td>\n",
       "      <td>True</td>\n",
       "      <td>False</td>\n",
       "    </tr>\n",
       "    <tr>\n",
       "      <th>12</th>\n",
       "      <td>2025-04-02</td>\n",
       "      <td>1.07933</td>\n",
       "      <td>1.09241</td>\n",
       "      <td>1.07802</td>\n",
       "      <td>1.08603</td>\n",
       "      <td>1.080027</td>\n",
       "      <td>0.00518</td>\n",
       "      <td>1.082005</td>\n",
       "      <td>1.083228</td>\n",
       "      <td>1.085207</td>\n",
       "      <td>...</td>\n",
       "      <td>1.076825</td>\n",
       "      <td>1.074847</td>\n",
       "      <td>1.083947</td>\n",
       "      <td>1.083947</td>\n",
       "      <td>1.080400</td>\n",
       "      <td>NaN</td>\n",
       "      <td>1.085818</td>\n",
       "      <td>1.074235</td>\n",
       "      <td>True</td>\n",
       "      <td>True</td>\n",
       "    </tr>\n",
       "    <tr>\n",
       "      <th>13</th>\n",
       "      <td>2025-04-03</td>\n",
       "      <td>1.08510</td>\n",
       "      <td>1.11459</td>\n",
       "      <td>1.08052</td>\n",
       "      <td>1.10511</td>\n",
       "      <td>1.085487</td>\n",
       "      <td>0.01439</td>\n",
       "      <td>1.090984</td>\n",
       "      <td>1.094380</td>\n",
       "      <td>1.099877</td>\n",
       "      <td>...</td>\n",
       "      <td>1.076594</td>\n",
       "      <td>1.071097</td>\n",
       "      <td>1.096330</td>\n",
       "      <td>1.096330</td>\n",
       "      <td>1.083947</td>\n",
       "      <td>1.084573</td>\n",
       "      <td>1.101575</td>\n",
       "      <td>1.069399</td>\n",
       "      <td>False</td>\n",
       "      <td>True</td>\n",
       "    </tr>\n",
       "    <tr>\n",
       "      <th>14</th>\n",
       "      <td>2025-04-04</td>\n",
       "      <td>1.10518</td>\n",
       "      <td>1.11078</td>\n",
       "      <td>1.09246</td>\n",
       "      <td>1.09636</td>\n",
       "      <td>1.100073</td>\n",
       "      <td>0.03407</td>\n",
       "      <td>1.113088</td>\n",
       "      <td>1.121129</td>\n",
       "      <td>1.134143</td>\n",
       "      <td>...</td>\n",
       "      <td>1.079018</td>\n",
       "      <td>1.066003</td>\n",
       "      <td>1.101195</td>\n",
       "      <td>1.101195</td>\n",
       "      <td>1.096330</td>\n",
       "      <td>1.085378</td>\n",
       "      <td>1.138164</td>\n",
       "      <td>1.061983</td>\n",
       "      <td>False</td>\n",
       "      <td>False</td>\n",
       "    </tr>\n",
       "    <tr>\n",
       "      <th>15</th>\n",
       "      <td>2025-04-07</td>\n",
       "      <td>1.08936</td>\n",
       "      <td>1.10500</td>\n",
       "      <td>1.08800</td>\n",
       "      <td>1.09053</td>\n",
       "      <td>1.099867</td>\n",
       "      <td>0.01832</td>\n",
       "      <td>1.106865</td>\n",
       "      <td>1.111188</td>\n",
       "      <td>1.118187</td>\n",
       "      <td>...</td>\n",
       "      <td>1.088545</td>\n",
       "      <td>1.081547</td>\n",
       "      <td>1.093222</td>\n",
       "      <td>1.093222</td>\n",
       "      <td>1.101195</td>\n",
       "      <td>1.085405</td>\n",
       "      <td>1.120348</td>\n",
       "      <td>1.079385</td>\n",
       "      <td>True</td>\n",
       "      <td>False</td>\n",
       "    </tr>\n",
       "    <tr>\n",
       "      <th>16</th>\n",
       "      <td>2025-04-08</td>\n",
       "      <td>1.09066</td>\n",
       "      <td>1.09918</td>\n",
       "      <td>1.08883</td>\n",
       "      <td>1.09578</td>\n",
       "      <td>1.094510</td>\n",
       "      <td>0.01700</td>\n",
       "      <td>1.101004</td>\n",
       "      <td>1.105016</td>\n",
       "      <td>1.111510</td>\n",
       "      <td>...</td>\n",
       "      <td>1.084004</td>\n",
       "      <td>1.077510</td>\n",
       "      <td>1.093612</td>\n",
       "      <td>1.093612</td>\n",
       "      <td>1.093222</td>\n",
       "      <td>1.085569</td>\n",
       "      <td>1.113516</td>\n",
       "      <td>1.075504</td>\n",
       "      <td>False</td>\n",
       "      <td>False</td>\n",
       "    </tr>\n",
       "    <tr>\n",
       "      <th>17</th>\n",
       "      <td>2025-04-09</td>\n",
       "      <td>1.09527</td>\n",
       "      <td>1.10951</td>\n",
       "      <td>1.09132</td>\n",
       "      <td>1.09474</td>\n",
       "      <td>1.094597</td>\n",
       "      <td>0.01035</td>\n",
       "      <td>1.098550</td>\n",
       "      <td>1.100993</td>\n",
       "      <td>1.104947</td>\n",
       "      <td>...</td>\n",
       "      <td>1.088200</td>\n",
       "      <td>1.084247</td>\n",
       "      <td>1.097710</td>\n",
       "      <td>1.097710</td>\n",
       "      <td>1.093612</td>\n",
       "      <td>1.086322</td>\n",
       "      <td>1.106168</td>\n",
       "      <td>1.083025</td>\n",
       "      <td>False</td>\n",
       "      <td>True</td>\n",
       "    </tr>\n",
       "    <tr>\n",
       "      <th>18</th>\n",
       "      <td>2025-04-10</td>\n",
       "      <td>1.09483</td>\n",
       "      <td>1.12416</td>\n",
       "      <td>1.09429</td>\n",
       "      <td>1.12017</td>\n",
       "      <td>1.098523</td>\n",
       "      <td>0.01819</td>\n",
       "      <td>1.105472</td>\n",
       "      <td>1.109765</td>\n",
       "      <td>1.116713</td>\n",
       "      <td>...</td>\n",
       "      <td>1.087282</td>\n",
       "      <td>1.080333</td>\n",
       "      <td>1.108362</td>\n",
       "      <td>1.108362</td>\n",
       "      <td>1.097710</td>\n",
       "      <td>1.088133</td>\n",
       "      <td>1.118860</td>\n",
       "      <td>1.078187</td>\n",
       "      <td>False</td>\n",
       "      <td>True</td>\n",
       "    </tr>\n",
       "    <tr>\n",
       "      <th>19</th>\n",
       "      <td>2025-04-11</td>\n",
       "      <td>1.11929</td>\n",
       "      <td>1.14736</td>\n",
       "      <td>1.11818</td>\n",
       "      <td>1.13552</td>\n",
       "      <td>1.112873</td>\n",
       "      <td>0.02987</td>\n",
       "      <td>1.124284</td>\n",
       "      <td>1.131333</td>\n",
       "      <td>1.142743</td>\n",
       "      <td>...</td>\n",
       "      <td>1.094414</td>\n",
       "      <td>1.083003</td>\n",
       "      <td>1.130088</td>\n",
       "      <td>1.130088</td>\n",
       "      <td>1.108362</td>\n",
       "      <td>1.091615</td>\n",
       "      <td>1.146268</td>\n",
       "      <td>1.079479</td>\n",
       "      <td>False</td>\n",
       "      <td>True</td>\n",
       "    </tr>\n",
       "    <tr>\n",
       "      <th>20</th>\n",
       "      <td>2025-04-14</td>\n",
       "      <td>1.13140</td>\n",
       "      <td>1.14246</td>\n",
       "      <td>1.12960</td>\n",
       "      <td>1.13496</td>\n",
       "      <td>1.133687</td>\n",
       "      <td>0.02918</td>\n",
       "      <td>1.144833</td>\n",
       "      <td>1.151720</td>\n",
       "      <td>1.162867</td>\n",
       "      <td>...</td>\n",
       "      <td>1.115653</td>\n",
       "      <td>1.104507</td>\n",
       "      <td>1.134605</td>\n",
       "      <td>1.134605</td>\n",
       "      <td>1.130088</td>\n",
       "      <td>1.095517</td>\n",
       "      <td>1.166310</td>\n",
       "      <td>1.101063</td>\n",
       "      <td>False</td>\n",
       "      <td>False</td>\n",
       "    </tr>\n",
       "    <tr>\n",
       "      <th>21</th>\n",
       "      <td>2025-04-15</td>\n",
       "      <td>1.13500</td>\n",
       "      <td>1.13789</td>\n",
       "      <td>1.12642</td>\n",
       "      <td>1.12813</td>\n",
       "      <td>1.135673</td>\n",
       "      <td>0.01286</td>\n",
       "      <td>1.140586</td>\n",
       "      <td>1.143621</td>\n",
       "      <td>1.148533</td>\n",
       "      <td>...</td>\n",
       "      <td>1.127726</td>\n",
       "      <td>1.122813</td>\n",
       "      <td>1.131860</td>\n",
       "      <td>1.131860</td>\n",
       "      <td>1.134605</td>\n",
       "      <td>1.099420</td>\n",
       "      <td>1.150051</td>\n",
       "      <td>1.121296</td>\n",
       "      <td>True</td>\n",
       "      <td>False</td>\n",
       "    </tr>\n",
       "    <tr>\n",
       "      <th>22</th>\n",
       "      <td>2025-04-16</td>\n",
       "      <td>1.12781</td>\n",
       "      <td>1.14128</td>\n",
       "      <td>1.12781</td>\n",
       "      <td>1.13985</td>\n",
       "      <td>1.130813</td>\n",
       "      <td>0.01147</td>\n",
       "      <td>1.135195</td>\n",
       "      <td>1.137902</td>\n",
       "      <td>1.142283</td>\n",
       "      <td>...</td>\n",
       "      <td>1.123725</td>\n",
       "      <td>1.119343</td>\n",
       "      <td>1.134188</td>\n",
       "      <td>1.134188</td>\n",
       "      <td>1.131860</td>\n",
       "      <td>1.103451</td>\n",
       "      <td>1.143637</td>\n",
       "      <td>1.117990</td>\n",
       "      <td>False</td>\n",
       "      <td>True</td>\n",
       "    </tr>\n",
       "    <tr>\n",
       "      <th>23</th>\n",
       "      <td>2025-04-17</td>\n",
       "      <td>1.13986</td>\n",
       "      <td>1.14093</td>\n",
       "      <td>1.13353</td>\n",
       "      <td>1.13634</td>\n",
       "      <td>1.136313</td>\n",
       "      <td>0.01347</td>\n",
       "      <td>1.141459</td>\n",
       "      <td>1.144638</td>\n",
       "      <td>1.149783</td>\n",
       "      <td>...</td>\n",
       "      <td>1.127989</td>\n",
       "      <td>1.122843</td>\n",
       "      <td>1.137665</td>\n",
       "      <td>1.137665</td>\n",
       "      <td>1.134188</td>\n",
       "      <td>1.107497</td>\n",
       "      <td>1.151373</td>\n",
       "      <td>1.121254</td>\n",
       "      <td>False</td>\n",
       "      <td>False</td>\n",
       "    </tr>\n",
       "    <tr>\n",
       "      <th>24</th>\n",
       "      <td>2025-04-18</td>\n",
       "      <td>1.13616</td>\n",
       "      <td>1.13975</td>\n",
       "      <td>1.13586</td>\n",
       "      <td>1.13929</td>\n",
       "      <td>1.136933</td>\n",
       "      <td>0.00740</td>\n",
       "      <td>1.139760</td>\n",
       "      <td>1.141507</td>\n",
       "      <td>1.144333</td>\n",
       "      <td>...</td>\n",
       "      <td>1.132360</td>\n",
       "      <td>1.129533</td>\n",
       "      <td>1.137765</td>\n",
       "      <td>1.137765</td>\n",
       "      <td>1.137665</td>\n",
       "      <td>1.111496</td>\n",
       "      <td>1.145207</td>\n",
       "      <td>1.128660</td>\n",
       "      <td>False</td>\n",
       "      <td>False</td>\n",
       "    </tr>\n",
       "    <tr>\n",
       "      <th>25</th>\n",
       "      <td>2025-04-21</td>\n",
       "      <td>1.13928</td>\n",
       "      <td>1.15733</td>\n",
       "      <td>1.13799</td>\n",
       "      <td>1.15129</td>\n",
       "      <td>1.138300</td>\n",
       "      <td>0.00389</td>\n",
       "      <td>1.139786</td>\n",
       "      <td>1.140704</td>\n",
       "      <td>1.142190</td>\n",
       "      <td>...</td>\n",
       "      <td>1.135896</td>\n",
       "      <td>1.134410</td>\n",
       "      <td>1.146473</td>\n",
       "      <td>1.146473</td>\n",
       "      <td>1.137765</td>\n",
       "      <td>1.116216</td>\n",
       "      <td>1.142649</td>\n",
       "      <td>1.133951</td>\n",
       "      <td>False</td>\n",
       "      <td>True</td>\n",
       "    </tr>\n",
       "    <tr>\n",
       "      <th>26</th>\n",
       "      <td>2025-04-22</td>\n",
       "      <td>1.15139</td>\n",
       "      <td>1.15474</td>\n",
       "      <td>1.14175</td>\n",
       "      <td>1.14206</td>\n",
       "      <td>1.148870</td>\n",
       "      <td>0.01934</td>\n",
       "      <td>1.156258</td>\n",
       "      <td>1.160822</td>\n",
       "      <td>1.168210</td>\n",
       "      <td>...</td>\n",
       "      <td>1.136918</td>\n",
       "      <td>1.129530</td>\n",
       "      <td>1.147485</td>\n",
       "      <td>1.147485</td>\n",
       "      <td>1.146473</td>\n",
       "      <td>1.120754</td>\n",
       "      <td>1.170492</td>\n",
       "      <td>1.127248</td>\n",
       "      <td>False</td>\n",
       "      <td>False</td>\n",
       "    </tr>\n",
       "    <tr>\n",
       "      <th>27</th>\n",
       "      <td>2025-04-23</td>\n",
       "      <td>1.14207</td>\n",
       "      <td>1.14399</td>\n",
       "      <td>1.13081</td>\n",
       "      <td>1.13145</td>\n",
       "      <td>1.146183</td>\n",
       "      <td>0.01299</td>\n",
       "      <td>1.151146</td>\n",
       "      <td>1.154211</td>\n",
       "      <td>1.159173</td>\n",
       "      <td>...</td>\n",
       "      <td>1.138156</td>\n",
       "      <td>1.133193</td>\n",
       "      <td>1.137080</td>\n",
       "      <td>1.137080</td>\n",
       "      <td>1.147485</td>\n",
       "      <td>1.123665</td>\n",
       "      <td>1.160706</td>\n",
       "      <td>1.131661</td>\n",
       "      <td>True</td>\n",
       "      <td>False</td>\n",
       "    </tr>\n",
       "    <tr>\n",
       "      <th>28</th>\n",
       "      <td>2025-04-24</td>\n",
       "      <td>1.13114</td>\n",
       "      <td>1.13979</td>\n",
       "      <td>1.13095</td>\n",
       "      <td>1.13888</td>\n",
       "      <td>1.135417</td>\n",
       "      <td>0.01318</td>\n",
       "      <td>1.140451</td>\n",
       "      <td>1.143562</td>\n",
       "      <td>1.148597</td>\n",
       "      <td>...</td>\n",
       "      <td>1.127271</td>\n",
       "      <td>1.122237</td>\n",
       "      <td>1.135190</td>\n",
       "      <td>1.135190</td>\n",
       "      <td>1.137080</td>\n",
       "      <td>1.126093</td>\n",
       "      <td>1.150152</td>\n",
       "      <td>1.120681</td>\n",
       "      <td>False</td>\n",
       "      <td>False</td>\n",
       "    </tr>\n",
       "    <tr>\n",
       "      <th>29</th>\n",
       "      <td>2025-04-25</td>\n",
       "      <td>1.13852</td>\n",
       "      <td>1.13914</td>\n",
       "      <td>1.13160</td>\n",
       "      <td>1.13595</td>\n",
       "      <td>1.136540</td>\n",
       "      <td>0.00884</td>\n",
       "      <td>1.139917</td>\n",
       "      <td>1.142003</td>\n",
       "      <td>1.145380</td>\n",
       "      <td>...</td>\n",
       "      <td>1.131077</td>\n",
       "      <td>1.127700</td>\n",
       "      <td>1.136302</td>\n",
       "      <td>1.136302</td>\n",
       "      <td>1.135190</td>\n",
       "      <td>1.129170</td>\n",
       "      <td>1.146423</td>\n",
       "      <td>1.126657</td>\n",
       "      <td>True</td>\n",
       "      <td>False</td>\n",
       "    </tr>\n",
       "    <tr>\n",
       "      <th>30</th>\n",
       "      <td>2025-04-28</td>\n",
       "      <td>1.13721</td>\n",
       "      <td>1.14249</td>\n",
       "      <td>1.13294</td>\n",
       "      <td>1.14216</td>\n",
       "      <td>1.135563</td>\n",
       "      <td>0.00754</td>\n",
       "      <td>1.138444</td>\n",
       "      <td>1.140223</td>\n",
       "      <td>1.143103</td>\n",
       "      <td>...</td>\n",
       "      <td>1.130904</td>\n",
       "      <td>1.128023</td>\n",
       "      <td>1.138700</td>\n",
       "      <td>1.138700</td>\n",
       "      <td>1.136302</td>\n",
       "      <td>1.132391</td>\n",
       "      <td>1.143993</td>\n",
       "      <td>1.127134</td>\n",
       "      <td>False</td>\n",
       "      <td>True</td>\n",
       "    </tr>\n",
       "    <tr>\n",
       "      <th>31</th>\n",
       "      <td>2025-04-29</td>\n",
       "      <td>1.14197</td>\n",
       "      <td>1.14218</td>\n",
       "      <td>1.13702</td>\n",
       "      <td>1.13828</td>\n",
       "      <td>1.139197</td>\n",
       "      <td>0.00955</td>\n",
       "      <td>1.142845</td>\n",
       "      <td>1.145099</td>\n",
       "      <td>1.148747</td>\n",
       "      <td>...</td>\n",
       "      <td>1.133295</td>\n",
       "      <td>1.129647</td>\n",
       "      <td>1.139863</td>\n",
       "      <td>1.139863</td>\n",
       "      <td>1.138700</td>\n",
       "      <td>1.135402</td>\n",
       "      <td>1.149874</td>\n",
       "      <td>1.128520</td>\n",
       "      <td>False</td>\n",
       "      <td>False</td>\n",
       "    </tr>\n",
       "    <tr>\n",
       "      <th>32</th>\n",
       "      <td>2025-04-30</td>\n",
       "      <td>1.13840</td>\n",
       "      <td>1.13996</td>\n",
       "      <td>1.13173</td>\n",
       "      <td>1.13292</td>\n",
       "      <td>1.139160</td>\n",
       "      <td>0.00516</td>\n",
       "      <td>1.141131</td>\n",
       "      <td>1.142349</td>\n",
       "      <td>1.144320</td>\n",
       "      <td>...</td>\n",
       "      <td>1.135971</td>\n",
       "      <td>1.134000</td>\n",
       "      <td>1.135753</td>\n",
       "      <td>1.135753</td>\n",
       "      <td>1.139863</td>\n",
       "      <td>1.137358</td>\n",
       "      <td>1.144929</td>\n",
       "      <td>1.133391</td>\n",
       "      <td>True</td>\n",
       "      <td>False</td>\n",
       "    </tr>\n",
       "    <tr>\n",
       "      <th>33</th>\n",
       "      <td>2025-05-01</td>\n",
       "      <td>1.13279</td>\n",
       "      <td>1.13411</td>\n",
       "      <td>1.12659</td>\n",
       "      <td>1.12900</td>\n",
       "      <td>1.134870</td>\n",
       "      <td>0.00823</td>\n",
       "      <td>1.138014</td>\n",
       "      <td>1.139956</td>\n",
       "      <td>1.143100</td>\n",
       "      <td>...</td>\n",
       "      <td>1.129784</td>\n",
       "      <td>1.126640</td>\n",
       "      <td>1.130622</td>\n",
       "      <td>1.130622</td>\n",
       "      <td>1.135753</td>\n",
       "      <td>1.137396</td>\n",
       "      <td>1.144071</td>\n",
       "      <td>1.125669</td>\n",
       "      <td>True</td>\n",
       "      <td>False</td>\n",
       "    </tr>\n",
       "    <tr>\n",
       "      <th>34</th>\n",
       "      <td>2025-05-02</td>\n",
       "      <td>1.12888</td>\n",
       "      <td>1.13810</td>\n",
       "      <td>1.12743</td>\n",
       "      <td>1.12994</td>\n",
       "      <td>1.129900</td>\n",
       "      <td>0.00752</td>\n",
       "      <td>1.132773</td>\n",
       "      <td>1.134547</td>\n",
       "      <td>1.137420</td>\n",
       "      <td>...</td>\n",
       "      <td>1.125253</td>\n",
       "      <td>1.122380</td>\n",
       "      <td>1.131088</td>\n",
       "      <td>1.131088</td>\n",
       "      <td>1.130622</td>\n",
       "      <td>1.137145</td>\n",
       "      <td>1.138307</td>\n",
       "      <td>1.121493</td>\n",
       "      <td>False</td>\n",
       "      <td>True</td>\n",
       "    </tr>\n",
       "    <tr>\n",
       "      <th>35</th>\n",
       "      <td>2025-05-05</td>\n",
       "      <td>1.13037</td>\n",
       "      <td>1.13649</td>\n",
       "      <td>1.12929</td>\n",
       "      <td>1.13144</td>\n",
       "      <td>1.131823</td>\n",
       "      <td>0.01067</td>\n",
       "      <td>1.135899</td>\n",
       "      <td>1.138417</td>\n",
       "      <td>1.142493</td>\n",
       "      <td>...</td>\n",
       "      <td>1.125229</td>\n",
       "      <td>1.121153</td>\n",
       "      <td>1.131898</td>\n",
       "      <td>1.131898</td>\n",
       "      <td>1.131088</td>\n",
       "      <td>1.137148</td>\n",
       "      <td>1.143752</td>\n",
       "      <td>1.119894</td>\n",
       "      <td>False</td>\n",
       "      <td>True</td>\n",
       "    </tr>\n",
       "    <tr>\n",
       "      <th>36</th>\n",
       "      <td>2025-05-06</td>\n",
       "      <td>1.13141</td>\n",
       "      <td>1.13812</td>\n",
       "      <td>1.12800</td>\n",
       "      <td>1.13685</td>\n",
       "      <td>1.132407</td>\n",
       "      <td>0.00720</td>\n",
       "      <td>1.135157</td>\n",
       "      <td>1.136856</td>\n",
       "      <td>1.139607</td>\n",
       "      <td>...</td>\n",
       "      <td>1.127957</td>\n",
       "      <td>1.125207</td>\n",
       "      <td>1.133595</td>\n",
       "      <td>1.133595</td>\n",
       "      <td>1.131898</td>\n",
       "      <td>1.137106</td>\n",
       "      <td>1.140456</td>\n",
       "      <td>1.124357</td>\n",
       "      <td>True</td>\n",
       "      <td>True</td>\n",
       "    </tr>\n",
       "    <tr>\n",
       "      <th>37</th>\n",
       "      <td>2025-05-07</td>\n",
       "      <td>1.13691</td>\n",
       "      <td>1.13782</td>\n",
       "      <td>1.12917</td>\n",
       "      <td>1.13010</td>\n",
       "      <td>1.134323</td>\n",
       "      <td>0.01012</td>\n",
       "      <td>1.138189</td>\n",
       "      <td>1.140577</td>\n",
       "      <td>1.144443</td>\n",
       "      <td>...</td>\n",
       "      <td>1.128069</td>\n",
       "      <td>1.124203</td>\n",
       "      <td>1.133500</td>\n",
       "      <td>1.133500</td>\n",
       "      <td>1.133595</td>\n",
       "      <td>1.136808</td>\n",
       "      <td>1.145637</td>\n",
       "      <td>1.123009</td>\n",
       "      <td>True</td>\n",
       "      <td>False</td>\n",
       "    </tr>\n",
       "    <tr>\n",
       "      <th>38</th>\n",
       "      <td>2025-05-08</td>\n",
       "      <td>1.12978</td>\n",
       "      <td>1.13364</td>\n",
       "      <td>1.12120</td>\n",
       "      <td>1.12279</td>\n",
       "      <td>1.132363</td>\n",
       "      <td>0.00865</td>\n",
       "      <td>1.135668</td>\n",
       "      <td>1.137709</td>\n",
       "      <td>1.141013</td>\n",
       "      <td>...</td>\n",
       "      <td>1.127018</td>\n",
       "      <td>1.123713</td>\n",
       "      <td>1.126853</td>\n",
       "      <td>1.126853</td>\n",
       "      <td>1.133500</td>\n",
       "      <td>1.136029</td>\n",
       "      <td>1.142034</td>\n",
       "      <td>1.122693</td>\n",
       "      <td>True</td>\n",
       "      <td>False</td>\n",
       "    </tr>\n",
       "    <tr>\n",
       "      <th>39</th>\n",
       "      <td>2025-05-09</td>\n",
       "      <td>1.12235</td>\n",
       "      <td>1.12929</td>\n",
       "      <td>1.11968</td>\n",
       "      <td>1.12497</td>\n",
       "      <td>1.125877</td>\n",
       "      <td>0.01244</td>\n",
       "      <td>1.130629</td>\n",
       "      <td>1.133565</td>\n",
       "      <td>1.138317</td>\n",
       "      <td>...</td>\n",
       "      <td>1.118189</td>\n",
       "      <td>1.113437</td>\n",
       "      <td>1.124073</td>\n",
       "      <td>1.124073</td>\n",
       "      <td>1.126853</td>\n",
       "      <td>1.134429</td>\n",
       "      <td>1.139785</td>\n",
       "      <td>1.111969</td>\n",
       "      <td>True</td>\n",
       "      <td>False</td>\n",
       "    </tr>\n",
       "  </tbody>\n",
       "</table>\n",
       "<p>40 rows × 21 columns</p>\n",
       "</div>"
      ],
      "text/plain": [
       "         time     open     high      low    close     pivot   prange  \\\n",
       "0  2025-03-17  1.08771  1.09297  1.08686  1.09214       NaN      NaN   \n",
       "1  2025-03-18  1.09218  1.09547  1.08925  1.09447  1.090657  0.00611   \n",
       "2  2025-03-19  1.09439  1.09461  1.08606  1.09025  1.093063  0.00622   \n",
       "3  2025-03-20  1.09010  1.09176  1.08147  1.08533  1.090307  0.00855   \n",
       "4  2025-03-21  1.08494  1.08613  1.07973  1.08124  1.086187  0.01029   \n",
       "5  2025-03-24  1.08127  1.08584  1.07817  1.08008  1.082367  0.00640   \n",
       "6  2025-03-25  1.08003  1.08302  1.07771  1.07913  1.081363  0.00767   \n",
       "7  2025-03-26  1.07901  1.08028  1.07435  1.07525  1.079953  0.00531   \n",
       "8  2025-03-27  1.07539  1.08212  1.07330  1.08018  1.076627  0.00593   \n",
       "9  2025-03-28  1.08011  1.08448  1.07645  1.08306  1.078533  0.00882   \n",
       "10 2025-03-31  1.08225  1.08494  1.07840  1.08149  1.081330  0.00803   \n",
       "11 2025-04-01  1.08152  1.08301  1.07783  1.07924  1.081610  0.00654   \n",
       "12 2025-04-02  1.07933  1.09241  1.07802  1.08603  1.080027  0.00518   \n",
       "13 2025-04-03  1.08510  1.11459  1.08052  1.10511  1.085487  0.01439   \n",
       "14 2025-04-04  1.10518  1.11078  1.09246  1.09636  1.100073  0.03407   \n",
       "15 2025-04-07  1.08936  1.10500  1.08800  1.09053  1.099867  0.01832   \n",
       "16 2025-04-08  1.09066  1.09918  1.08883  1.09578  1.094510  0.01700   \n",
       "17 2025-04-09  1.09527  1.10951  1.09132  1.09474  1.094597  0.01035   \n",
       "18 2025-04-10  1.09483  1.12416  1.09429  1.12017  1.098523  0.01819   \n",
       "19 2025-04-11  1.11929  1.14736  1.11818  1.13552  1.112873  0.02987   \n",
       "20 2025-04-14  1.13140  1.14246  1.12960  1.13496  1.133687  0.02918   \n",
       "21 2025-04-15  1.13500  1.13789  1.12642  1.12813  1.135673  0.01286   \n",
       "22 2025-04-16  1.12781  1.14128  1.12781  1.13985  1.130813  0.01147   \n",
       "23 2025-04-17  1.13986  1.14093  1.13353  1.13634  1.136313  0.01347   \n",
       "24 2025-04-18  1.13616  1.13975  1.13586  1.13929  1.136933  0.00740   \n",
       "25 2025-04-21  1.13928  1.15733  1.13799  1.15129  1.138300  0.00389   \n",
       "26 2025-04-22  1.15139  1.15474  1.14175  1.14206  1.148870  0.01934   \n",
       "27 2025-04-23  1.14207  1.14399  1.13081  1.13145  1.146183  0.01299   \n",
       "28 2025-04-24  1.13114  1.13979  1.13095  1.13888  1.135417  0.01318   \n",
       "29 2025-04-25  1.13852  1.13914  1.13160  1.13595  1.136540  0.00884   \n",
       "30 2025-04-28  1.13721  1.14249  1.13294  1.14216  1.135563  0.00754   \n",
       "31 2025-04-29  1.14197  1.14218  1.13702  1.13828  1.139197  0.00955   \n",
       "32 2025-04-30  1.13840  1.13996  1.13173  1.13292  1.139160  0.00516   \n",
       "33 2025-05-01  1.13279  1.13411  1.12659  1.12900  1.134870  0.00823   \n",
       "34 2025-05-02  1.12888  1.13810  1.12743  1.12994  1.129900  0.00752   \n",
       "35 2025-05-05  1.13037  1.13649  1.12929  1.13144  1.131823  0.01067   \n",
       "36 2025-05-06  1.13141  1.13812  1.12800  1.13685  1.132407  0.00720   \n",
       "37 2025-05-07  1.13691  1.13782  1.12917  1.13010  1.134323  0.01012   \n",
       "38 2025-05-08  1.12978  1.13364  1.12120  1.12279  1.132363  0.00865   \n",
       "39 2025-05-09  1.12235  1.12929  1.11968  1.12497  1.125877  0.01244   \n",
       "\n",
       "          R1        R2        R3  ...        S2        S3     ohlc4    sma_11  \\\n",
       "0        NaN       NaN       NaN  ...       NaN       NaN  1.089920  1.089920   \n",
       "1   1.092991  1.094433  1.096767  ...  1.086881  1.084547  1.092842  1.092842   \n",
       "2   1.095439  1.096907  1.099283  ...  1.089219  1.086843  1.091328  1.091328   \n",
       "3   1.093573  1.095591  1.098857  ...  1.085023  1.081757  1.087165  1.087165   \n",
       "4   1.090117  1.092546  1.096477  ...  1.079827  1.075897  1.083010  1.083010   \n",
       "5   1.084811  1.086322  1.088767  ...  1.078411  1.075967  1.081340  1.081340   \n",
       "6   1.084293  1.086103  1.089033  ...  1.076623  1.073693  1.079973  1.079973   \n",
       "7   1.081982  1.083235  1.085263  ...  1.076672  1.074643  1.077222  1.077222   \n",
       "8   1.078892  1.080291  1.082557  ...  1.072962  1.070697  1.077748  1.077748   \n",
       "9   1.081903  1.083984  1.087353  ...  1.073083  1.069713  1.081025  1.081025   \n",
       "10  1.084397  1.086293  1.089360  ...  1.076367  1.073300  1.081770  1.081770   \n",
       "11  1.084108  1.085652  1.088150  ...  1.077568  1.075070  1.080400  1.080400   \n",
       "12  1.082005  1.083228  1.085207  ...  1.076825  1.074847  1.083947  1.083947   \n",
       "13  1.090984  1.094380  1.099877  ...  1.076594  1.071097  1.096330  1.096330   \n",
       "14  1.113088  1.121129  1.134143  ...  1.079018  1.066003  1.101195  1.101195   \n",
       "15  1.106865  1.111188  1.118187  ...  1.088545  1.081547  1.093222  1.093222   \n",
       "16  1.101004  1.105016  1.111510  ...  1.084004  1.077510  1.093612  1.093612   \n",
       "17  1.098550  1.100993  1.104947  ...  1.088200  1.084247  1.097710  1.097710   \n",
       "18  1.105472  1.109765  1.116713  ...  1.087282  1.080333  1.108362  1.108362   \n",
       "19  1.124284  1.131333  1.142743  ...  1.094414  1.083003  1.130088  1.130088   \n",
       "20  1.144833  1.151720  1.162867  ...  1.115653  1.104507  1.134605  1.134605   \n",
       "21  1.140586  1.143621  1.148533  ...  1.127726  1.122813  1.131860  1.131860   \n",
       "22  1.135195  1.137902  1.142283  ...  1.123725  1.119343  1.134188  1.134188   \n",
       "23  1.141459  1.144638  1.149783  ...  1.127989  1.122843  1.137665  1.137665   \n",
       "24  1.139760  1.141507  1.144333  ...  1.132360  1.129533  1.137765  1.137765   \n",
       "25  1.139786  1.140704  1.142190  ...  1.135896  1.134410  1.146473  1.146473   \n",
       "26  1.156258  1.160822  1.168210  ...  1.136918  1.129530  1.147485  1.147485   \n",
       "27  1.151146  1.154211  1.159173  ...  1.138156  1.133193  1.137080  1.137080   \n",
       "28  1.140451  1.143562  1.148597  ...  1.127271  1.122237  1.135190  1.135190   \n",
       "29  1.139917  1.142003  1.145380  ...  1.131077  1.127700  1.136302  1.136302   \n",
       "30  1.138444  1.140223  1.143103  ...  1.130904  1.128023  1.138700  1.138700   \n",
       "31  1.142845  1.145099  1.148747  ...  1.133295  1.129647  1.139863  1.139863   \n",
       "32  1.141131  1.142349  1.144320  ...  1.135971  1.134000  1.135753  1.135753   \n",
       "33  1.138014  1.139956  1.143100  ...  1.129784  1.126640  1.130622  1.130622   \n",
       "34  1.132773  1.134547  1.137420  ...  1.125253  1.122380  1.131088  1.131088   \n",
       "35  1.135899  1.138417  1.142493  ...  1.125229  1.121153  1.131898  1.131898   \n",
       "36  1.135157  1.136856  1.139607  ...  1.127957  1.125207  1.133595  1.133595   \n",
       "37  1.138189  1.140577  1.144443  ...  1.128069  1.124203  1.133500  1.133500   \n",
       "38  1.135668  1.137709  1.141013  ...  1.127018  1.123713  1.126853  1.126853   \n",
       "39  1.130629  1.133565  1.138317  ...  1.118189  1.113437  1.124073  1.124073   \n",
       "\n",
       "    prev_sma_11   sma_114  sell_stope_loss  buy_stope_loss  sell_profit  \\\n",
       "0           NaN       NaN              NaN             NaN        False   \n",
       "1      1.089920       NaN         1.097488        1.083826        False   \n",
       "2      1.092842       NaN         1.100017        1.086109         True   \n",
       "3      1.091328       NaN         1.099866        1.080748         True   \n",
       "4      1.087165       NaN         1.097691        1.074682         True   \n",
       "5      1.083010       NaN         1.089522        1.075211         True   \n",
       "6      1.081340       NaN         1.089938        1.072788         True   \n",
       "7      1.079973       NaN         1.085890        1.074017         True   \n",
       "8      1.077222       NaN         1.083256        1.069997         True   \n",
       "9      1.077748       NaN         1.088394        1.068673        False   \n",
       "10     1.081025       NaN         1.090308        1.072352        False   \n",
       "11     1.081770       NaN         1.088922        1.074298         True   \n",
       "12     1.080400       NaN         1.085818        1.074235         True   \n",
       "13     1.083947  1.084573         1.101575        1.069399        False   \n",
       "14     1.096330  1.085378         1.138164        1.061983        False   \n",
       "15     1.101195  1.085405         1.120348        1.079385         True   \n",
       "16     1.093222  1.085569         1.113516        1.075504        False   \n",
       "17     1.093612  1.086322         1.106168        1.083025        False   \n",
       "18     1.097710  1.088133         1.118860        1.078187        False   \n",
       "19     1.108362  1.091615         1.146268        1.079479        False   \n",
       "20     1.130088  1.095517         1.166310        1.101063        False   \n",
       "21     1.134605  1.099420         1.150051        1.121296         True   \n",
       "22     1.131860  1.103451         1.143637        1.117990        False   \n",
       "23     1.134188  1.107497         1.151373        1.121254        False   \n",
       "24     1.137665  1.111496         1.145207        1.128660        False   \n",
       "25     1.137765  1.116216         1.142649        1.133951        False   \n",
       "26     1.146473  1.120754         1.170492        1.127248        False   \n",
       "27     1.147485  1.123665         1.160706        1.131661         True   \n",
       "28     1.137080  1.126093         1.150152        1.120681        False   \n",
       "29     1.135190  1.129170         1.146423        1.126657         True   \n",
       "30     1.136302  1.132391         1.143993        1.127134        False   \n",
       "31     1.138700  1.135402         1.149874        1.128520        False   \n",
       "32     1.139863  1.137358         1.144929        1.133391         True   \n",
       "33     1.135753  1.137396         1.144071        1.125669         True   \n",
       "34     1.130622  1.137145         1.138307        1.121493        False   \n",
       "35     1.131088  1.137148         1.143752        1.119894        False   \n",
       "36     1.131898  1.137106         1.140456        1.124357         True   \n",
       "37     1.133595  1.136808         1.145637        1.123009         True   \n",
       "38     1.133500  1.136029         1.142034        1.122693         True   \n",
       "39     1.126853  1.134429         1.139785        1.111969         True   \n",
       "\n",
       "    buy_profit  \n",
       "0        False  \n",
       "1         True  \n",
       "2        False  \n",
       "3        False  \n",
       "4        False  \n",
       "5         True  \n",
       "6        False  \n",
       "7        False  \n",
       "8         True  \n",
       "9         True  \n",
       "10        True  \n",
       "11       False  \n",
       "12        True  \n",
       "13        True  \n",
       "14       False  \n",
       "15       False  \n",
       "16       False  \n",
       "17        True  \n",
       "18        True  \n",
       "19        True  \n",
       "20       False  \n",
       "21       False  \n",
       "22        True  \n",
       "23       False  \n",
       "24       False  \n",
       "25        True  \n",
       "26       False  \n",
       "27       False  \n",
       "28       False  \n",
       "29       False  \n",
       "30        True  \n",
       "31       False  \n",
       "32       False  \n",
       "33       False  \n",
       "34        True  \n",
       "35        True  \n",
       "36        True  \n",
       "37       False  \n",
       "38       False  \n",
       "39       False  \n",
       "\n",
       "[40 rows x 21 columns]"
      ]
     },
     "execution_count": 282,
     "metadata": {},
     "output_type": "execute_result"
    }
   ],
   "source": [
    "#setting entring and closing time and one trade a day\n",
    "# Set the start and end times for your desired trading hours\n",
    "start_time = datetime.strptime('06:00:00', '%H:%M:%S').time()\n",
    "end_time = datetime.strptime('17:00:00', '%H:%M:%S').time()\n",
    "end_trading_section = datetime.strptime('23:45:00', '%H:%M:%S').time()\n",
    "\n",
    "# Filter the trade data for trades within the specified trading hours\n",
    "#trades_within_hours = daily_df[(daily_df['time'].dt.time >= start_time) & (daily_df['time'].dt.time <= end_time)]\n",
    "# open one trade a day\n",
    "first_trade_per_day = daily_df.groupby(daily_df['time'].dt.time).first()\n",
    "# Close all open positions at 11:45 PM\n",
    "open_positions = daily_df[daily_df['time'].dt.time == end_trading_section]\n",
    "\n",
    "# function to trading\n",
    "daily_df[\"sell_stope_loss\"] = (daily_df[\"R2\"] - daily_df[\"S1\"]) /2 + daily_df[\"R2\"] \n",
    "daily_df[\"buy_stope_loss\"] = (daily_df[\"S2\"] - ((daily_df[\"R1\"] - daily_df[\"S2\"]) /2))\n",
    "daily_df['sell_profit'] = daily_df['low'] <= daily_df[\"S1\"]\n",
    "daily_df['buy_profit'] = daily_df[\"high\"] >= daily_df[\"R1\"]\n",
    "daily_df"
   ]
  },
  {
   "cell_type": "code",
   "execution_count": 283,
   "metadata": {},
   "outputs": [
    {
     "data": {
      "text/html": [
       "<div>\n",
       "<style scoped>\n",
       "    .dataframe tbody tr th:only-of-type {\n",
       "        vertical-align: middle;\n",
       "    }\n",
       "\n",
       "    .dataframe tbody tr th {\n",
       "        vertical-align: top;\n",
       "    }\n",
       "\n",
       "    .dataframe thead th {\n",
       "        text-align: right;\n",
       "    }\n",
       "</style>\n",
       "<table border=\"1\" class=\"dataframe\">\n",
       "  <thead>\n",
       "    <tr style=\"text-align: right;\">\n",
       "      <th></th>\n",
       "      <th>signal</th>\n",
       "      <th>time</th>\n",
       "    </tr>\n",
       "  </thead>\n",
       "  <tbody>\n",
       "    <tr>\n",
       "      <th>19208</th>\n",
       "      <td>sell</td>\n",
       "      <td>2025-04-03 08:28:00</td>\n",
       "    </tr>\n",
       "    <tr>\n",
       "      <th>21585</th>\n",
       "      <td>buy</td>\n",
       "      <td>2025-04-07 00:09:00</td>\n",
       "    </tr>\n",
       "    <tr>\n",
       "      <th>31365</th>\n",
       "      <td>buy</td>\n",
       "      <td>2025-04-15 19:17:00</td>\n",
       "    </tr>\n",
       "    <tr>\n",
       "      <th>38872</th>\n",
       "      <td>buy</td>\n",
       "      <td>2025-04-23 00:35:00</td>\n",
       "    </tr>\n",
       "    <tr>\n",
       "      <th>46324</th>\n",
       "      <td>buy</td>\n",
       "      <td>2025-04-30 04:57:00</td>\n",
       "    </tr>\n",
       "    <tr>\n",
       "      <th>49664</th>\n",
       "      <td>sell</td>\n",
       "      <td>2025-05-02 12:39:00</td>\n",
       "    </tr>\n",
       "    <tr>\n",
       "      <th>52817</th>\n",
       "      <td>sell</td>\n",
       "      <td>2025-05-06 17:16:00</td>\n",
       "    </tr>\n",
       "  </tbody>\n",
       "</table>\n",
       "</div>"
      ],
      "text/plain": [
       "      signal                time\n",
       "19208   sell 2025-04-03 08:28:00\n",
       "21585    buy 2025-04-07 00:09:00\n",
       "31365    buy 2025-04-15 19:17:00\n",
       "38872    buy 2025-04-23 00:35:00\n",
       "46324    buy 2025-04-30 04:57:00\n",
       "49664   sell 2025-05-02 12:39:00\n",
       "52817   sell 2025-05-06 17:16:00"
      ]
     },
     "execution_count": 283,
     "metadata": {},
     "output_type": "execute_result"
    }
   ],
   "source": [
    "ohlc_df = ohlc_df.sort_values('time')\n",
    "daily_df = daily_df.sort_values('time')\n",
    "def entring_stoploss_profit(row, ohlc_df) :\n",
    "    if row[\"prev_sma_11\"] > row['sma_114'] and row[\"low_x\"] <= row[\"S2\"] :\n",
    "        return \"buy\"\n",
    "    elif row['prev_sma_11'] < row['sma_114'] and row[\"high_x\"] >= row[\"R2\"]:\n",
    "        return \"sell\"\n",
    "    # Merge daily indicators into minute data (asof = merge on closest earlier date)\n",
    "merged_df = pd.merge_asof(ohlc_df, daily_df, on='time', direction='backward')\n",
    "merged_df[\"signal\"] = merged_df.apply(entring_stoploss_profit, axis=1, ohlc_df = ohlc_df)\n",
    "\n",
    "# Tag first signal per day in original merged_df\n",
    "merged_df['is_first_signal'] = (merged_df[merged_df[\"signal\"].notna()].groupby(merged_df[\"time\"].dt.date).cumcount() == 0)\n",
    "\n",
    "# Set signal only on the first row per day, others = None\n",
    "merged_df['signal'] = merged_df.apply(lambda row: row['signal'] if row['is_first_signal'] else None, axis=1)\n",
    "merged_df[['signal', 'time']].dropna()"
   ]
  },
  {
   "cell_type": "code",
   "execution_count": 284,
   "metadata": {},
   "outputs": [],
   "source": [
    "merged_df = merged_df.rename(columns={\n",
    "    \"low_x\": \"low\",\n",
    "    \"high_x\": \"high\",\n",
    "    \"open_x\": \"open\",\n",
    "    \"close_x\": \"close\",\n",
    "    \"low_y\": \"daily_low\",\n",
    "    \"high_y\": \"daily_high\",\n",
    "    \"open_y\": \"daily_open\",\n",
    "    \"close_y\": \"daily_close\"\n",
    "})\n"
   ]
  },
  {
   "cell_type": "code",
   "execution_count": 285,
   "metadata": {},
   "outputs": [
    {
     "name": "stdout",
     "output_type": "stream",
     "text": [
      "['time', 'open', 'high', 'low', 'close', 'daily_open', 'daily_high', 'daily_low', 'daily_close', 'pivot', 'prange', 'R1', 'R2', 'R3', 'S1', 'S2', 'S3', 'ohlc4', 'sma_11', 'prev_sma_11', 'sma_114', 'sell_stope_loss', 'buy_stope_loss', 'sell_profit', 'buy_profit', 'signal', 'is_first_signal']\n"
     ]
    }
   ],
   "source": [
    "print(merged_df.columns.tolist())\n",
    "\n"
   ]
  },
  {
   "cell_type": "code",
   "execution_count": 286,
   "metadata": {},
   "outputs": [],
   "source": [
    "# create trade logic\n",
    "def on_bar(data, trades, orders):\n",
    "    open_trades = trades[trades['state'] == 'open']\n",
    "    num_open_trades = open_trades.shape[0]\n",
    "    if 'signal' not in data:\n",
    "        print(\"Warning: 'signal' column is missing!\")\n",
    "        return\n",
    "    account_balance = 10000  # your account in USD\n",
    "    risk_percent = 0.20  # 2%\n",
    "    pip_value_per_lot = 10  # on EURUSD, 1 lot = $10 per pip\n",
    "    risk_amount = account_balance * risk_percent\n",
    "    # entry signal\n",
    "    if data['signal'] == 'buy' and not num_open_trades:\n",
    "        stop_loss_pips = data['S2'] - (data[\"S2\"] - ((data[\"R1\"] - data[\"S2\"]) /2)) # example SL\n",
    "        volume = risk_amount / (stop_loss_pips * pip_value_per_lot)\n",
    "        orders.open_trade(symbol, volume, 'buy')\n",
    "    \n",
    "    elif data['signal'] == 'sell' and not num_open_trades:\n",
    "        stop_loss_pips = ((data[\"R2\"] - data[\"S1\"]) /2 + data[\"R2\"]) - data[\"R2\"]\n",
    "        volume = risk_amount / (stop_loss_pips * pip_value_per_lot)\n",
    "        orders.open_trade(symbol, volume, 'sell')\n",
    "        \n",
    "# exit signal\n",
    "    if num_open_trades:\n",
    "        trade = open_trades.iloc[0]\n",
    "\n",
    "        if trade['order_type'] == 'buy' and ((data[\"low\"] <= data[\"S2\"] - ((data[\"R1\"] - data[\"S2\"]) /2)) \n",
    "                                            or (data[\"high\"] >= data[\"R1\"]) \n",
    "                                            or (data['time'].time() == pd.to_datetime('00:00:00').time())):\n",
    "            orders.close_trade(trade)\n",
    "        elif trade['order_type'] == 'sell' and ((data[\"high\"] >= (data[\"R2\"] - data[\"S1\"]) /2 + data[\"R2\"]) \n",
    "                                            or (data[\"low\"] <= data[\"S1\"]) \n",
    "                                            or (data['time'].time() == pd.to_datetime('00:00:00').time())):\n",
    "            orders.close_trade(trade)"
   ]
  },
  {
   "cell_type": "code",
   "execution_count": 287,
   "metadata": {},
   "outputs": [
    {
     "data": {
      "text/html": [
       "<div>\n",
       "<style scoped>\n",
       "    .dataframe tbody tr th:only-of-type {\n",
       "        vertical-align: middle;\n",
       "    }\n",
       "\n",
       "    .dataframe tbody tr th {\n",
       "        vertical-align: top;\n",
       "    }\n",
       "\n",
       "    .dataframe thead th {\n",
       "        text-align: right;\n",
       "    }\n",
       "</style>\n",
       "<table border=\"1\" class=\"dataframe\">\n",
       "  <thead>\n",
       "    <tr style=\"text-align: right;\">\n",
       "      <th></th>\n",
       "      <th>state</th>\n",
       "      <th>symbol</th>\n",
       "      <th>order_type</th>\n",
       "      <th>volume</th>\n",
       "      <th>open_time</th>\n",
       "      <th>open_price</th>\n",
       "      <th>close_time</th>\n",
       "      <th>close_price</th>\n",
       "      <th>sl</th>\n",
       "      <th>tp</th>\n",
       "      <th>info</th>\n",
       "      <th>profit</th>\n",
       "      <th>commission</th>\n",
       "      <th>profit_net</th>\n",
       "      <th>profit_cumulative</th>\n",
       "      <th>balance</th>\n",
       "    </tr>\n",
       "  </thead>\n",
       "  <tbody>\n",
       "    <tr>\n",
       "      <th>0</th>\n",
       "      <td>closed</td>\n",
       "      <td>EURUSD</td>\n",
       "      <td>sell</td>\n",
       "      <td>27797.081306</td>\n",
       "      <td>2025-04-03 08:28:00</td>\n",
       "      <td>1.09366</td>\n",
       "      <td>2025-04-03 11:40:00</td>\n",
       "      <td>1.10087</td>\n",
       "      <td>0</td>\n",
       "      <td>0</td>\n",
       "      <td>{}</td>\n",
       "      <td>-200.42</td>\n",
       "      <td>-1.945796</td>\n",
       "      <td>-202.365796</td>\n",
       "      <td>-202.365796</td>\n",
       "      <td>9797.634204</td>\n",
       "    </tr>\n",
       "    <tr>\n",
       "      <th>1</th>\n",
       "      <td>closed</td>\n",
       "      <td>EURUSD</td>\n",
       "      <td>buy</td>\n",
       "      <td>21834.061135</td>\n",
       "      <td>2025-04-07 00:09:00</td>\n",
       "      <td>1.08857</td>\n",
       "      <td>2025-04-08 00:00:00</td>\n",
       "      <td>1.09066</td>\n",
       "      <td>0</td>\n",
       "      <td>0</td>\n",
       "      <td>{}</td>\n",
       "      <td>45.63</td>\n",
       "      <td>-1.528384</td>\n",
       "      <td>44.101616</td>\n",
       "      <td>-158.26418</td>\n",
       "      <td>9841.73582</td>\n",
       "    </tr>\n",
       "    <tr>\n",
       "      <th>2</th>\n",
       "      <td>closed</td>\n",
       "      <td>EURUSD</td>\n",
       "      <td>buy</td>\n",
       "      <td>31104.199067</td>\n",
       "      <td>2025-04-15 19:17:00</td>\n",
       "      <td>1.12794</td>\n",
       "      <td>2025-04-16 00:00:00</td>\n",
       "      <td>1.12781</td>\n",
       "      <td>0</td>\n",
       "      <td>0</td>\n",
       "      <td>{}</td>\n",
       "      <td>-4.04</td>\n",
       "      <td>-2.177294</td>\n",
       "      <td>-6.217294</td>\n",
       "      <td>-164.481474</td>\n",
       "      <td>9835.518526</td>\n",
       "    </tr>\n",
       "    <tr>\n",
       "      <th>3</th>\n",
       "      <td>closed</td>\n",
       "      <td>EURUSD</td>\n",
       "      <td>buy</td>\n",
       "      <td>30792.917629</td>\n",
       "      <td>2025-04-23 00:35:00</td>\n",
       "      <td>1.13826</td>\n",
       "      <td>2025-04-23 01:29:00</td>\n",
       "      <td>1.13176</td>\n",
       "      <td>0</td>\n",
       "      <td>0</td>\n",
       "      <td>{}</td>\n",
       "      <td>-200.15</td>\n",
       "      <td>-2.155504</td>\n",
       "      <td>-202.305504</td>\n",
       "      <td>-366.786978</td>\n",
       "      <td>9633.213022</td>\n",
       "    </tr>\n",
       "    <tr>\n",
       "      <th>4</th>\n",
       "      <td>closed</td>\n",
       "      <td>EURUSD</td>\n",
       "      <td>buy</td>\n",
       "      <td>77519.379845</td>\n",
       "      <td>2025-04-30 04:57:00</td>\n",
       "      <td>1.13631</td>\n",
       "      <td>2025-04-30 18:29:00</td>\n",
       "      <td>1.1337</td>\n",
       "      <td>0</td>\n",
       "      <td>0</td>\n",
       "      <td>{}</td>\n",
       "      <td>-202.33</td>\n",
       "      <td>-5.426357</td>\n",
       "      <td>-207.756357</td>\n",
       "      <td>-574.543335</td>\n",
       "      <td>9425.456665</td>\n",
       "    </tr>\n",
       "    <tr>\n",
       "      <th>5</th>\n",
       "      <td>closed</td>\n",
       "      <td>EURUSD</td>\n",
       "      <td>sell</td>\n",
       "      <td>53191.489362</td>\n",
       "      <td>2025-05-02 12:39:00</td>\n",
       "      <td>1.13425</td>\n",
       "      <td>2025-05-05 00:00:00</td>\n",
       "      <td>1.13037</td>\n",
       "      <td>0</td>\n",
       "      <td>0</td>\n",
       "      <td>{}</td>\n",
       "      <td>206.38</td>\n",
       "      <td>-3.723404</td>\n",
       "      <td>202.656596</td>\n",
       "      <td>-371.886739</td>\n",
       "      <td>9628.113261</td>\n",
       "    </tr>\n",
       "    <tr>\n",
       "      <th>6</th>\n",
       "      <td>closed</td>\n",
       "      <td>EURUSD</td>\n",
       "      <td>sell</td>\n",
       "      <td>55555.555556</td>\n",
       "      <td>2025-05-06 17:16:00</td>\n",
       "      <td>1.13593</td>\n",
       "      <td>2025-05-07 00:00:00</td>\n",
       "      <td>1.13691</td>\n",
       "      <td>0</td>\n",
       "      <td>0</td>\n",
       "      <td>{}</td>\n",
       "      <td>-54.44</td>\n",
       "      <td>-3.888889</td>\n",
       "      <td>-58.328889</td>\n",
       "      <td>-430.215628</td>\n",
       "      <td>9569.784372</td>\n",
       "    </tr>\n",
       "  </tbody>\n",
       "</table>\n",
       "</div>"
      ],
      "text/plain": [
       "    state  symbol order_type        volume            open_time open_price  \\\n",
       "0  closed  EURUSD       sell  27797.081306  2025-04-03 08:28:00    1.09366   \n",
       "1  closed  EURUSD        buy  21834.061135  2025-04-07 00:09:00    1.08857   \n",
       "2  closed  EURUSD        buy  31104.199067  2025-04-15 19:17:00    1.12794   \n",
       "3  closed  EURUSD        buy  30792.917629  2025-04-23 00:35:00    1.13826   \n",
       "4  closed  EURUSD        buy  77519.379845  2025-04-30 04:57:00    1.13631   \n",
       "5  closed  EURUSD       sell  53191.489362  2025-05-02 12:39:00    1.13425   \n",
       "6  closed  EURUSD       sell  55555.555556  2025-05-06 17:16:00    1.13593   \n",
       "\n",
       "            close_time close_price sl tp info  profit commission  profit_net  \\\n",
       "0  2025-04-03 11:40:00     1.10087  0  0   {} -200.42  -1.945796 -202.365796   \n",
       "1  2025-04-08 00:00:00     1.09066  0  0   {}   45.63  -1.528384   44.101616   \n",
       "2  2025-04-16 00:00:00     1.12781  0  0   {}   -4.04  -2.177294   -6.217294   \n",
       "3  2025-04-23 01:29:00     1.13176  0  0   {} -200.15  -2.155504 -202.305504   \n",
       "4  2025-04-30 18:29:00      1.1337  0  0   {} -202.33  -5.426357 -207.756357   \n",
       "5  2025-05-05 00:00:00     1.13037  0  0   {}  206.38  -3.723404  202.656596   \n",
       "6  2025-05-07 00:00:00     1.13691  0  0   {}  -54.44  -3.888889  -58.328889   \n",
       "\n",
       "  profit_cumulative      balance  \n",
       "0       -202.365796  9797.634204  \n",
       "1        -158.26418   9841.73582  \n",
       "2       -164.481474  9835.518526  \n",
       "3       -366.786978  9633.213022  \n",
       "4       -574.543335  9425.456665  \n",
       "5       -371.886739  9628.113261  \n",
       "6       -430.215628  9569.784372  "
      ]
     },
     "execution_count": 287,
     "metadata": {},
     "output_type": "execute_result"
    }
   ],
   "source": [
    "# backtest parameters\n",
    "starting_balance = 10000\n",
    "currency = 'USD'\n",
    "exchange_rate = 1\n",
    "commission = -7 / 100000\n",
    "\n",
    "# backtest\n",
    "bt = Backtester()\n",
    "bt.set_starting_balance(starting_balance, currency=currency)\n",
    "bt.set_exchange_rate(exchange_rate)\n",
    "bt.set_commission(commission)\n",
    "\n",
    "bt.set_historical_data(merged_df)\n",
    "bt.set_on_bar(on_bar)\n",
    "\n",
    "bt.run_backtest()\n",
    "\n",
    "bt.trades.tail(7)"
   ]
  },
  {
   "cell_type": "code",
   "execution_count": 288,
   "metadata": {},
   "outputs": [
    {
     "data": {
      "application/vnd.plotly.v1+json": {
       "config": {
        "plotlyServerURL": "https://plot.ly"
       },
       "data": [
        {
         "hovertemplate": "close_time=%{x}<br>balance=%{y}<extra></extra>",
         "legendgroup": "",
         "line": {
          "color": "#636efa",
          "dash": "solid"
         },
         "marker": {
          "symbol": "circle"
         },
         "mode": "lines",
         "name": "",
         "orientation": "v",
         "showlegend": false,
         "type": "scatter",
         "x": [
          "2025-04-03T11:40:00",
          "2025-04-08T00:00:00",
          "2025-04-16T00:00:00",
          "2025-04-23T01:29:00",
          "2025-04-30T18:29:00",
          "2025-05-05T00:00:00",
          "2025-05-07T00:00:00"
         ],
         "xaxis": "x",
         "y": [
          9797.634204308548,
          9841.735820029071,
          9835.51852609439,
          9633.213021860363,
          9425.456665271216,
          9628.113261015898,
          9569.78437212701
         ],
         "yaxis": "y"
        }
       ],
       "layout": {
        "legend": {
         "tracegroupgap": 0
        },
        "template": {
         "data": {
          "bar": [
           {
            "error_x": {
             "color": "#f2f5fa"
            },
            "error_y": {
             "color": "#f2f5fa"
            },
            "marker": {
             "line": {
              "color": "rgb(17,17,17)",
              "width": 0.5
             },
             "pattern": {
              "fillmode": "overlay",
              "size": 10,
              "solidity": 0.2
             }
            },
            "type": "bar"
           }
          ],
          "barpolar": [
           {
            "marker": {
             "line": {
              "color": "rgb(17,17,17)",
              "width": 0.5
             },
             "pattern": {
              "fillmode": "overlay",
              "size": 10,
              "solidity": 0.2
             }
            },
            "type": "barpolar"
           }
          ],
          "carpet": [
           {
            "aaxis": {
             "endlinecolor": "#A2B1C6",
             "gridcolor": "#506784",
             "linecolor": "#506784",
             "minorgridcolor": "#506784",
             "startlinecolor": "#A2B1C6"
            },
            "baxis": {
             "endlinecolor": "#A2B1C6",
             "gridcolor": "#506784",
             "linecolor": "#506784",
             "minorgridcolor": "#506784",
             "startlinecolor": "#A2B1C6"
            },
            "type": "carpet"
           }
          ],
          "choropleth": [
           {
            "colorbar": {
             "outlinewidth": 0,
             "ticks": ""
            },
            "type": "choropleth"
           }
          ],
          "contour": [
           {
            "colorbar": {
             "outlinewidth": 0,
             "ticks": ""
            },
            "colorscale": [
             [
              0,
              "#0d0887"
             ],
             [
              0.1111111111111111,
              "#46039f"
             ],
             [
              0.2222222222222222,
              "#7201a8"
             ],
             [
              0.3333333333333333,
              "#9c179e"
             ],
             [
              0.4444444444444444,
              "#bd3786"
             ],
             [
              0.5555555555555556,
              "#d8576b"
             ],
             [
              0.6666666666666666,
              "#ed7953"
             ],
             [
              0.7777777777777778,
              "#fb9f3a"
             ],
             [
              0.8888888888888888,
              "#fdca26"
             ],
             [
              1,
              "#f0f921"
             ]
            ],
            "type": "contour"
           }
          ],
          "contourcarpet": [
           {
            "colorbar": {
             "outlinewidth": 0,
             "ticks": ""
            },
            "type": "contourcarpet"
           }
          ],
          "heatmap": [
           {
            "colorbar": {
             "outlinewidth": 0,
             "ticks": ""
            },
            "colorscale": [
             [
              0,
              "#0d0887"
             ],
             [
              0.1111111111111111,
              "#46039f"
             ],
             [
              0.2222222222222222,
              "#7201a8"
             ],
             [
              0.3333333333333333,
              "#9c179e"
             ],
             [
              0.4444444444444444,
              "#bd3786"
             ],
             [
              0.5555555555555556,
              "#d8576b"
             ],
             [
              0.6666666666666666,
              "#ed7953"
             ],
             [
              0.7777777777777778,
              "#fb9f3a"
             ],
             [
              0.8888888888888888,
              "#fdca26"
             ],
             [
              1,
              "#f0f921"
             ]
            ],
            "type": "heatmap"
           }
          ],
          "histogram": [
           {
            "marker": {
             "pattern": {
              "fillmode": "overlay",
              "size": 10,
              "solidity": 0.2
             }
            },
            "type": "histogram"
           }
          ],
          "histogram2d": [
           {
            "colorbar": {
             "outlinewidth": 0,
             "ticks": ""
            },
            "colorscale": [
             [
              0,
              "#0d0887"
             ],
             [
              0.1111111111111111,
              "#46039f"
             ],
             [
              0.2222222222222222,
              "#7201a8"
             ],
             [
              0.3333333333333333,
              "#9c179e"
             ],
             [
              0.4444444444444444,
              "#bd3786"
             ],
             [
              0.5555555555555556,
              "#d8576b"
             ],
             [
              0.6666666666666666,
              "#ed7953"
             ],
             [
              0.7777777777777778,
              "#fb9f3a"
             ],
             [
              0.8888888888888888,
              "#fdca26"
             ],
             [
              1,
              "#f0f921"
             ]
            ],
            "type": "histogram2d"
           }
          ],
          "histogram2dcontour": [
           {
            "colorbar": {
             "outlinewidth": 0,
             "ticks": ""
            },
            "colorscale": [
             [
              0,
              "#0d0887"
             ],
             [
              0.1111111111111111,
              "#46039f"
             ],
             [
              0.2222222222222222,
              "#7201a8"
             ],
             [
              0.3333333333333333,
              "#9c179e"
             ],
             [
              0.4444444444444444,
              "#bd3786"
             ],
             [
              0.5555555555555556,
              "#d8576b"
             ],
             [
              0.6666666666666666,
              "#ed7953"
             ],
             [
              0.7777777777777778,
              "#fb9f3a"
             ],
             [
              0.8888888888888888,
              "#fdca26"
             ],
             [
              1,
              "#f0f921"
             ]
            ],
            "type": "histogram2dcontour"
           }
          ],
          "mesh3d": [
           {
            "colorbar": {
             "outlinewidth": 0,
             "ticks": ""
            },
            "type": "mesh3d"
           }
          ],
          "parcoords": [
           {
            "line": {
             "colorbar": {
              "outlinewidth": 0,
              "ticks": ""
             }
            },
            "type": "parcoords"
           }
          ],
          "pie": [
           {
            "automargin": true,
            "type": "pie"
           }
          ],
          "scatter": [
           {
            "marker": {
             "line": {
              "color": "#283442"
             }
            },
            "type": "scatter"
           }
          ],
          "scatter3d": [
           {
            "line": {
             "colorbar": {
              "outlinewidth": 0,
              "ticks": ""
             }
            },
            "marker": {
             "colorbar": {
              "outlinewidth": 0,
              "ticks": ""
             }
            },
            "type": "scatter3d"
           }
          ],
          "scattercarpet": [
           {
            "marker": {
             "colorbar": {
              "outlinewidth": 0,
              "ticks": ""
             }
            },
            "type": "scattercarpet"
           }
          ],
          "scattergeo": [
           {
            "marker": {
             "colorbar": {
              "outlinewidth": 0,
              "ticks": ""
             }
            },
            "type": "scattergeo"
           }
          ],
          "scattergl": [
           {
            "marker": {
             "line": {
              "color": "#283442"
             }
            },
            "type": "scattergl"
           }
          ],
          "scattermap": [
           {
            "marker": {
             "colorbar": {
              "outlinewidth": 0,
              "ticks": ""
             }
            },
            "type": "scattermap"
           }
          ],
          "scattermapbox": [
           {
            "marker": {
             "colorbar": {
              "outlinewidth": 0,
              "ticks": ""
             }
            },
            "type": "scattermapbox"
           }
          ],
          "scatterpolar": [
           {
            "marker": {
             "colorbar": {
              "outlinewidth": 0,
              "ticks": ""
             }
            },
            "type": "scatterpolar"
           }
          ],
          "scatterpolargl": [
           {
            "marker": {
             "colorbar": {
              "outlinewidth": 0,
              "ticks": ""
             }
            },
            "type": "scatterpolargl"
           }
          ],
          "scatterternary": [
           {
            "marker": {
             "colorbar": {
              "outlinewidth": 0,
              "ticks": ""
             }
            },
            "type": "scatterternary"
           }
          ],
          "surface": [
           {
            "colorbar": {
             "outlinewidth": 0,
             "ticks": ""
            },
            "colorscale": [
             [
              0,
              "#0d0887"
             ],
             [
              0.1111111111111111,
              "#46039f"
             ],
             [
              0.2222222222222222,
              "#7201a8"
             ],
             [
              0.3333333333333333,
              "#9c179e"
             ],
             [
              0.4444444444444444,
              "#bd3786"
             ],
             [
              0.5555555555555556,
              "#d8576b"
             ],
             [
              0.6666666666666666,
              "#ed7953"
             ],
             [
              0.7777777777777778,
              "#fb9f3a"
             ],
             [
              0.8888888888888888,
              "#fdca26"
             ],
             [
              1,
              "#f0f921"
             ]
            ],
            "type": "surface"
           }
          ],
          "table": [
           {
            "cells": {
             "fill": {
              "color": "#506784"
             },
             "line": {
              "color": "rgb(17,17,17)"
             }
            },
            "header": {
             "fill": {
              "color": "#2a3f5f"
             },
             "line": {
              "color": "rgb(17,17,17)"
             }
            },
            "type": "table"
           }
          ]
         },
         "layout": {
          "annotationdefaults": {
           "arrowcolor": "#f2f5fa",
           "arrowhead": 0,
           "arrowwidth": 1
          },
          "autotypenumbers": "strict",
          "coloraxis": {
           "colorbar": {
            "outlinewidth": 0,
            "ticks": ""
           }
          },
          "colorscale": {
           "diverging": [
            [
             0,
             "#8e0152"
            ],
            [
             0.1,
             "#c51b7d"
            ],
            [
             0.2,
             "#de77ae"
            ],
            [
             0.3,
             "#f1b6da"
            ],
            [
             0.4,
             "#fde0ef"
            ],
            [
             0.5,
             "#f7f7f7"
            ],
            [
             0.6,
             "#e6f5d0"
            ],
            [
             0.7,
             "#b8e186"
            ],
            [
             0.8,
             "#7fbc41"
            ],
            [
             0.9,
             "#4d9221"
            ],
            [
             1,
             "#276419"
            ]
           ],
           "sequential": [
            [
             0,
             "#0d0887"
            ],
            [
             0.1111111111111111,
             "#46039f"
            ],
            [
             0.2222222222222222,
             "#7201a8"
            ],
            [
             0.3333333333333333,
             "#9c179e"
            ],
            [
             0.4444444444444444,
             "#bd3786"
            ],
            [
             0.5555555555555556,
             "#d8576b"
            ],
            [
             0.6666666666666666,
             "#ed7953"
            ],
            [
             0.7777777777777778,
             "#fb9f3a"
            ],
            [
             0.8888888888888888,
             "#fdca26"
            ],
            [
             1,
             "#f0f921"
            ]
           ],
           "sequentialminus": [
            [
             0,
             "#0d0887"
            ],
            [
             0.1111111111111111,
             "#46039f"
            ],
            [
             0.2222222222222222,
             "#7201a8"
            ],
            [
             0.3333333333333333,
             "#9c179e"
            ],
            [
             0.4444444444444444,
             "#bd3786"
            ],
            [
             0.5555555555555556,
             "#d8576b"
            ],
            [
             0.6666666666666666,
             "#ed7953"
            ],
            [
             0.7777777777777778,
             "#fb9f3a"
            ],
            [
             0.8888888888888888,
             "#fdca26"
            ],
            [
             1,
             "#f0f921"
            ]
           ]
          },
          "colorway": [
           "#636efa",
           "#EF553B",
           "#00cc96",
           "#ab63fa",
           "#FFA15A",
           "#19d3f3",
           "#FF6692",
           "#B6E880",
           "#FF97FF",
           "#FECB52"
          ],
          "font": {
           "color": "#f2f5fa"
          },
          "geo": {
           "bgcolor": "rgb(17,17,17)",
           "lakecolor": "rgb(17,17,17)",
           "landcolor": "rgb(17,17,17)",
           "showlakes": true,
           "showland": true,
           "subunitcolor": "#506784"
          },
          "hoverlabel": {
           "align": "left"
          },
          "hovermode": "closest",
          "mapbox": {
           "style": "dark"
          },
          "paper_bgcolor": "rgb(17,17,17)",
          "plot_bgcolor": "rgb(17,17,17)",
          "polar": {
           "angularaxis": {
            "gridcolor": "#506784",
            "linecolor": "#506784",
            "ticks": ""
           },
           "bgcolor": "rgb(17,17,17)",
           "radialaxis": {
            "gridcolor": "#506784",
            "linecolor": "#506784",
            "ticks": ""
           }
          },
          "scene": {
           "xaxis": {
            "backgroundcolor": "rgb(17,17,17)",
            "gridcolor": "#506784",
            "gridwidth": 2,
            "linecolor": "#506784",
            "showbackground": true,
            "ticks": "",
            "zerolinecolor": "#C8D4E3"
           },
           "yaxis": {
            "backgroundcolor": "rgb(17,17,17)",
            "gridcolor": "#506784",
            "gridwidth": 2,
            "linecolor": "#506784",
            "showbackground": true,
            "ticks": "",
            "zerolinecolor": "#C8D4E3"
           },
           "zaxis": {
            "backgroundcolor": "rgb(17,17,17)",
            "gridcolor": "#506784",
            "gridwidth": 2,
            "linecolor": "#506784",
            "showbackground": true,
            "ticks": "",
            "zerolinecolor": "#C8D4E3"
           }
          },
          "shapedefaults": {
           "line": {
            "color": "#f2f5fa"
           }
          },
          "sliderdefaults": {
           "bgcolor": "#C8D4E3",
           "bordercolor": "rgb(17,17,17)",
           "borderwidth": 1,
           "tickwidth": 0
          },
          "ternary": {
           "aaxis": {
            "gridcolor": "#506784",
            "linecolor": "#506784",
            "ticks": ""
           },
           "baxis": {
            "gridcolor": "#506784",
            "linecolor": "#506784",
            "ticks": ""
           },
           "bgcolor": "rgb(17,17,17)",
           "caxis": {
            "gridcolor": "#506784",
            "linecolor": "#506784",
            "ticks": ""
           }
          },
          "title": {
           "x": 0.05
          },
          "updatemenudefaults": {
           "bgcolor": "#506784",
           "borderwidth": 0
          },
          "xaxis": {
           "automargin": true,
           "gridcolor": "#283442",
           "linecolor": "#506784",
           "ticks": "",
           "title": {
            "standoff": 15
           },
           "zerolinecolor": "#283442",
           "zerolinewidth": 2
          },
          "yaxis": {
           "automargin": true,
           "gridcolor": "#283442",
           "linecolor": "#506784",
           "ticks": "",
           "title": {
            "standoff": 15
           },
           "zerolinecolor": "#283442",
           "zerolinewidth": 2
          }
         }
        },
        "title": {
         "text": "Balance Graph"
        },
        "xaxis": {
         "anchor": "y",
         "domain": [
          0,
          1
         ],
         "title": {
          "text": "close_time"
         }
        },
        "yaxis": {
         "anchor": "x",
         "domain": [
          0,
          1
         ],
         "title": {
          "text": "balance"
         }
        }
       }
      }
     },
     "metadata": {},
     "output_type": "display_data"
    }
   ],
   "source": [
    "mm = bt.plot_balance()\n",
    "display(mm)"
   ]
  },
  {
   "cell_type": "code",
   "execution_count": 289,
   "metadata": {},
   "outputs": [
    {
     "data": {
      "application/vnd.plotly.v1+json": {
       "config": {
        "plotlyServerURL": "https://plot.ly"
       },
       "data": [
        {
         "hovertemplate": "open_time=%{x}<br>profit_cumulative=%{y}<extra></extra>",
         "legendgroup": "",
         "line": {
          "color": "#636efa",
          "dash": "solid"
         },
         "marker": {
          "symbol": "circle"
         },
         "mode": "lines",
         "name": "",
         "orientation": "v",
         "showlegend": false,
         "type": "scatter",
         "x": [
          "2025-04-03T08:28:00",
          "2025-04-07T00:09:00",
          "2025-04-15T19:17:00",
          "2025-04-23T00:35:00",
          "2025-04-30T04:57:00",
          "2025-05-02T12:39:00",
          "2025-05-06T17:16:00"
         ],
         "xaxis": "x",
         "y": [
          -202.36579569145238,
          -158.26417997092835,
          -164.48147390560956,
          -366.7869781396358,
          -574.5433347287831,
          -371.88673898410224,
          -430.2156278729911
         ],
         "yaxis": "y"
        }
       ],
       "layout": {
        "legend": {
         "tracegroupgap": 0
        },
        "template": {
         "data": {
          "bar": [
           {
            "error_x": {
             "color": "#f2f5fa"
            },
            "error_y": {
             "color": "#f2f5fa"
            },
            "marker": {
             "line": {
              "color": "rgb(17,17,17)",
              "width": 0.5
             },
             "pattern": {
              "fillmode": "overlay",
              "size": 10,
              "solidity": 0.2
             }
            },
            "type": "bar"
           }
          ],
          "barpolar": [
           {
            "marker": {
             "line": {
              "color": "rgb(17,17,17)",
              "width": 0.5
             },
             "pattern": {
              "fillmode": "overlay",
              "size": 10,
              "solidity": 0.2
             }
            },
            "type": "barpolar"
           }
          ],
          "carpet": [
           {
            "aaxis": {
             "endlinecolor": "#A2B1C6",
             "gridcolor": "#506784",
             "linecolor": "#506784",
             "minorgridcolor": "#506784",
             "startlinecolor": "#A2B1C6"
            },
            "baxis": {
             "endlinecolor": "#A2B1C6",
             "gridcolor": "#506784",
             "linecolor": "#506784",
             "minorgridcolor": "#506784",
             "startlinecolor": "#A2B1C6"
            },
            "type": "carpet"
           }
          ],
          "choropleth": [
           {
            "colorbar": {
             "outlinewidth": 0,
             "ticks": ""
            },
            "type": "choropleth"
           }
          ],
          "contour": [
           {
            "colorbar": {
             "outlinewidth": 0,
             "ticks": ""
            },
            "colorscale": [
             [
              0,
              "#0d0887"
             ],
             [
              0.1111111111111111,
              "#46039f"
             ],
             [
              0.2222222222222222,
              "#7201a8"
             ],
             [
              0.3333333333333333,
              "#9c179e"
             ],
             [
              0.4444444444444444,
              "#bd3786"
             ],
             [
              0.5555555555555556,
              "#d8576b"
             ],
             [
              0.6666666666666666,
              "#ed7953"
             ],
             [
              0.7777777777777778,
              "#fb9f3a"
             ],
             [
              0.8888888888888888,
              "#fdca26"
             ],
             [
              1,
              "#f0f921"
             ]
            ],
            "type": "contour"
           }
          ],
          "contourcarpet": [
           {
            "colorbar": {
             "outlinewidth": 0,
             "ticks": ""
            },
            "type": "contourcarpet"
           }
          ],
          "heatmap": [
           {
            "colorbar": {
             "outlinewidth": 0,
             "ticks": ""
            },
            "colorscale": [
             [
              0,
              "#0d0887"
             ],
             [
              0.1111111111111111,
              "#46039f"
             ],
             [
              0.2222222222222222,
              "#7201a8"
             ],
             [
              0.3333333333333333,
              "#9c179e"
             ],
             [
              0.4444444444444444,
              "#bd3786"
             ],
             [
              0.5555555555555556,
              "#d8576b"
             ],
             [
              0.6666666666666666,
              "#ed7953"
             ],
             [
              0.7777777777777778,
              "#fb9f3a"
             ],
             [
              0.8888888888888888,
              "#fdca26"
             ],
             [
              1,
              "#f0f921"
             ]
            ],
            "type": "heatmap"
           }
          ],
          "histogram": [
           {
            "marker": {
             "pattern": {
              "fillmode": "overlay",
              "size": 10,
              "solidity": 0.2
             }
            },
            "type": "histogram"
           }
          ],
          "histogram2d": [
           {
            "colorbar": {
             "outlinewidth": 0,
             "ticks": ""
            },
            "colorscale": [
             [
              0,
              "#0d0887"
             ],
             [
              0.1111111111111111,
              "#46039f"
             ],
             [
              0.2222222222222222,
              "#7201a8"
             ],
             [
              0.3333333333333333,
              "#9c179e"
             ],
             [
              0.4444444444444444,
              "#bd3786"
             ],
             [
              0.5555555555555556,
              "#d8576b"
             ],
             [
              0.6666666666666666,
              "#ed7953"
             ],
             [
              0.7777777777777778,
              "#fb9f3a"
             ],
             [
              0.8888888888888888,
              "#fdca26"
             ],
             [
              1,
              "#f0f921"
             ]
            ],
            "type": "histogram2d"
           }
          ],
          "histogram2dcontour": [
           {
            "colorbar": {
             "outlinewidth": 0,
             "ticks": ""
            },
            "colorscale": [
             [
              0,
              "#0d0887"
             ],
             [
              0.1111111111111111,
              "#46039f"
             ],
             [
              0.2222222222222222,
              "#7201a8"
             ],
             [
              0.3333333333333333,
              "#9c179e"
             ],
             [
              0.4444444444444444,
              "#bd3786"
             ],
             [
              0.5555555555555556,
              "#d8576b"
             ],
             [
              0.6666666666666666,
              "#ed7953"
             ],
             [
              0.7777777777777778,
              "#fb9f3a"
             ],
             [
              0.8888888888888888,
              "#fdca26"
             ],
             [
              1,
              "#f0f921"
             ]
            ],
            "type": "histogram2dcontour"
           }
          ],
          "mesh3d": [
           {
            "colorbar": {
             "outlinewidth": 0,
             "ticks": ""
            },
            "type": "mesh3d"
           }
          ],
          "parcoords": [
           {
            "line": {
             "colorbar": {
              "outlinewidth": 0,
              "ticks": ""
             }
            },
            "type": "parcoords"
           }
          ],
          "pie": [
           {
            "automargin": true,
            "type": "pie"
           }
          ],
          "scatter": [
           {
            "marker": {
             "line": {
              "color": "#283442"
             }
            },
            "type": "scatter"
           }
          ],
          "scatter3d": [
           {
            "line": {
             "colorbar": {
              "outlinewidth": 0,
              "ticks": ""
             }
            },
            "marker": {
             "colorbar": {
              "outlinewidth": 0,
              "ticks": ""
             }
            },
            "type": "scatter3d"
           }
          ],
          "scattercarpet": [
           {
            "marker": {
             "colorbar": {
              "outlinewidth": 0,
              "ticks": ""
             }
            },
            "type": "scattercarpet"
           }
          ],
          "scattergeo": [
           {
            "marker": {
             "colorbar": {
              "outlinewidth": 0,
              "ticks": ""
             }
            },
            "type": "scattergeo"
           }
          ],
          "scattergl": [
           {
            "marker": {
             "line": {
              "color": "#283442"
             }
            },
            "type": "scattergl"
           }
          ],
          "scattermap": [
           {
            "marker": {
             "colorbar": {
              "outlinewidth": 0,
              "ticks": ""
             }
            },
            "type": "scattermap"
           }
          ],
          "scattermapbox": [
           {
            "marker": {
             "colorbar": {
              "outlinewidth": 0,
              "ticks": ""
             }
            },
            "type": "scattermapbox"
           }
          ],
          "scatterpolar": [
           {
            "marker": {
             "colorbar": {
              "outlinewidth": 0,
              "ticks": ""
             }
            },
            "type": "scatterpolar"
           }
          ],
          "scatterpolargl": [
           {
            "marker": {
             "colorbar": {
              "outlinewidth": 0,
              "ticks": ""
             }
            },
            "type": "scatterpolargl"
           }
          ],
          "scatterternary": [
           {
            "marker": {
             "colorbar": {
              "outlinewidth": 0,
              "ticks": ""
             }
            },
            "type": "scatterternary"
           }
          ],
          "surface": [
           {
            "colorbar": {
             "outlinewidth": 0,
             "ticks": ""
            },
            "colorscale": [
             [
              0,
              "#0d0887"
             ],
             [
              0.1111111111111111,
              "#46039f"
             ],
             [
              0.2222222222222222,
              "#7201a8"
             ],
             [
              0.3333333333333333,
              "#9c179e"
             ],
             [
              0.4444444444444444,
              "#bd3786"
             ],
             [
              0.5555555555555556,
              "#d8576b"
             ],
             [
              0.6666666666666666,
              "#ed7953"
             ],
             [
              0.7777777777777778,
              "#fb9f3a"
             ],
             [
              0.8888888888888888,
              "#fdca26"
             ],
             [
              1,
              "#f0f921"
             ]
            ],
            "type": "surface"
           }
          ],
          "table": [
           {
            "cells": {
             "fill": {
              "color": "#506784"
             },
             "line": {
              "color": "rgb(17,17,17)"
             }
            },
            "header": {
             "fill": {
              "color": "#2a3f5f"
             },
             "line": {
              "color": "rgb(17,17,17)"
             }
            },
            "type": "table"
           }
          ]
         },
         "layout": {
          "annotationdefaults": {
           "arrowcolor": "#f2f5fa",
           "arrowhead": 0,
           "arrowwidth": 1
          },
          "autotypenumbers": "strict",
          "coloraxis": {
           "colorbar": {
            "outlinewidth": 0,
            "ticks": ""
           }
          },
          "colorscale": {
           "diverging": [
            [
             0,
             "#8e0152"
            ],
            [
             0.1,
             "#c51b7d"
            ],
            [
             0.2,
             "#de77ae"
            ],
            [
             0.3,
             "#f1b6da"
            ],
            [
             0.4,
             "#fde0ef"
            ],
            [
             0.5,
             "#f7f7f7"
            ],
            [
             0.6,
             "#e6f5d0"
            ],
            [
             0.7,
             "#b8e186"
            ],
            [
             0.8,
             "#7fbc41"
            ],
            [
             0.9,
             "#4d9221"
            ],
            [
             1,
             "#276419"
            ]
           ],
           "sequential": [
            [
             0,
             "#0d0887"
            ],
            [
             0.1111111111111111,
             "#46039f"
            ],
            [
             0.2222222222222222,
             "#7201a8"
            ],
            [
             0.3333333333333333,
             "#9c179e"
            ],
            [
             0.4444444444444444,
             "#bd3786"
            ],
            [
             0.5555555555555556,
             "#d8576b"
            ],
            [
             0.6666666666666666,
             "#ed7953"
            ],
            [
             0.7777777777777778,
             "#fb9f3a"
            ],
            [
             0.8888888888888888,
             "#fdca26"
            ],
            [
             1,
             "#f0f921"
            ]
           ],
           "sequentialminus": [
            [
             0,
             "#0d0887"
            ],
            [
             0.1111111111111111,
             "#46039f"
            ],
            [
             0.2222222222222222,
             "#7201a8"
            ],
            [
             0.3333333333333333,
             "#9c179e"
            ],
            [
             0.4444444444444444,
             "#bd3786"
            ],
            [
             0.5555555555555556,
             "#d8576b"
            ],
            [
             0.6666666666666666,
             "#ed7953"
            ],
            [
             0.7777777777777778,
             "#fb9f3a"
            ],
            [
             0.8888888888888888,
             "#fdca26"
            ],
            [
             1,
             "#f0f921"
            ]
           ]
          },
          "colorway": [
           "#636efa",
           "#EF553B",
           "#00cc96",
           "#ab63fa",
           "#FFA15A",
           "#19d3f3",
           "#FF6692",
           "#B6E880",
           "#FF97FF",
           "#FECB52"
          ],
          "font": {
           "color": "#f2f5fa"
          },
          "geo": {
           "bgcolor": "rgb(17,17,17)",
           "lakecolor": "rgb(17,17,17)",
           "landcolor": "rgb(17,17,17)",
           "showlakes": true,
           "showland": true,
           "subunitcolor": "#506784"
          },
          "hoverlabel": {
           "align": "left"
          },
          "hovermode": "closest",
          "mapbox": {
           "style": "dark"
          },
          "paper_bgcolor": "rgb(17,17,17)",
          "plot_bgcolor": "rgb(17,17,17)",
          "polar": {
           "angularaxis": {
            "gridcolor": "#506784",
            "linecolor": "#506784",
            "ticks": ""
           },
           "bgcolor": "rgb(17,17,17)",
           "radialaxis": {
            "gridcolor": "#506784",
            "linecolor": "#506784",
            "ticks": ""
           }
          },
          "scene": {
           "xaxis": {
            "backgroundcolor": "rgb(17,17,17)",
            "gridcolor": "#506784",
            "gridwidth": 2,
            "linecolor": "#506784",
            "showbackground": true,
            "ticks": "",
            "zerolinecolor": "#C8D4E3"
           },
           "yaxis": {
            "backgroundcolor": "rgb(17,17,17)",
            "gridcolor": "#506784",
            "gridwidth": 2,
            "linecolor": "#506784",
            "showbackground": true,
            "ticks": "",
            "zerolinecolor": "#C8D4E3"
           },
           "zaxis": {
            "backgroundcolor": "rgb(17,17,17)",
            "gridcolor": "#506784",
            "gridwidth": 2,
            "linecolor": "#506784",
            "showbackground": true,
            "ticks": "",
            "zerolinecolor": "#C8D4E3"
           }
          },
          "shapedefaults": {
           "line": {
            "color": "#f2f5fa"
           }
          },
          "sliderdefaults": {
           "bgcolor": "#C8D4E3",
           "bordercolor": "rgb(17,17,17)",
           "borderwidth": 1,
           "tickwidth": 0
          },
          "ternary": {
           "aaxis": {
            "gridcolor": "#506784",
            "linecolor": "#506784",
            "ticks": ""
           },
           "baxis": {
            "gridcolor": "#506784",
            "linecolor": "#506784",
            "ticks": ""
           },
           "bgcolor": "rgb(17,17,17)",
           "caxis": {
            "gridcolor": "#506784",
            "linecolor": "#506784",
            "ticks": ""
           }
          },
          "title": {
           "x": 0.05
          },
          "updatemenudefaults": {
           "bgcolor": "#506784",
           "borderwidth": 0
          },
          "xaxis": {
           "automargin": true,
           "gridcolor": "#283442",
           "linecolor": "#506784",
           "ticks": "",
           "title": {
            "standoff": 15
           },
           "zerolinecolor": "#283442",
           "zerolinewidth": 2
          },
          "yaxis": {
           "automargin": true,
           "gridcolor": "#283442",
           "linecolor": "#506784",
           "ticks": "",
           "title": {
            "standoff": 15
           },
           "zerolinecolor": "#283442",
           "zerolinewidth": 2
          }
         }
        },
        "title": {
         "text": "PnL Graph"
        },
        "xaxis": {
         "anchor": "y",
         "domain": [
          0,
          1
         ],
         "title": {
          "text": "open_time"
         }
        },
        "yaxis": {
         "anchor": "x",
         "domain": [
          0,
          1
         ],
         "title": {
          "text": "profit_cumulative"
         }
        }
       }
      }
     },
     "metadata": {},
     "output_type": "display_data"
    }
   ],
   "source": [
    "pnl_chart = bt.plot_pnl()\n",
    "display(pnl_chart)"
   ]
  },
  {
   "cell_type": "code",
   "execution_count": 290,
   "metadata": {},
   "outputs": [
    {
     "name": "stdout",
     "output_type": "stream",
     "text": [
      "biggest_profit 206.38\n",
      "daily_drawdown -202.33\n",
      "max_drawown -416.2791547578547\n",
      "avg_win 126.005\n",
      "avg_loss -132.276\n",
      "count_profit_trades 2\n",
      "count_loss_trades 5\n",
      "Win Rate1: 28.57%\n",
      "win_rate 0.4\n",
      "rrr 0.95\n"
     ]
    },
    {
     "data": {
      "text/html": [
       "<div>\n",
       "<style scoped>\n",
       "    .dataframe tbody tr th:only-of-type {\n",
       "        vertical-align: middle;\n",
       "    }\n",
       "\n",
       "    .dataframe tbody tr th {\n",
       "        vertical-align: top;\n",
       "    }\n",
       "\n",
       "    .dataframe thead th {\n",
       "        text-align: right;\n",
       "    }\n",
       "</style>\n",
       "<table border=\"1\" class=\"dataframe\">\n",
       "  <thead>\n",
       "    <tr style=\"text-align: right;\">\n",
       "      <th></th>\n",
       "      <th>order_type</th>\n",
       "      <th>profit</th>\n",
       "    </tr>\n",
       "  </thead>\n",
       "  <tbody>\n",
       "    <tr>\n",
       "      <th>0</th>\n",
       "      <td>buy</td>\n",
       "      <td>-360.89</td>\n",
       "    </tr>\n",
       "    <tr>\n",
       "      <th>1</th>\n",
       "      <td>sell</td>\n",
       "      <td>-48.48</td>\n",
       "    </tr>\n",
       "  </tbody>\n",
       "</table>\n",
       "</div>"
      ],
      "text/plain": [
       "  order_type  profit\n",
       "0        buy -360.89\n",
       "1       sell  -48.48"
      ]
     },
     "metadata": {},
     "output_type": "display_data"
    },
    {
     "data": {
      "application/vnd.plotly.v1+json": {
       "config": {
        "plotlyServerURL": "https://plot.ly"
       },
       "data": [
        {
         "hovertemplate": "order_type=%{x}<br>profit=%{y}<extra></extra>",
         "legendgroup": "",
         "marker": {
          "color": "#636efa",
          "pattern": {
           "shape": ""
          }
         },
         "name": "",
         "orientation": "v",
         "showlegend": false,
         "textposition": "auto",
         "type": "bar",
         "x": [
          "buy",
          "sell"
         ],
         "xaxis": "x",
         "y": {
          "bdata": "CtejcD2OdsA8CtejcD1IwA==",
          "dtype": "f8"
         },
         "yaxis": "y"
        }
       ],
       "layout": {
        "barmode": "relative",
        "legend": {
         "tracegroupgap": 0
        },
        "margin": {
         "t": 60
        },
        "template": {
         "data": {
          "bar": [
           {
            "error_x": {
             "color": "#f2f5fa"
            },
            "error_y": {
             "color": "#f2f5fa"
            },
            "marker": {
             "line": {
              "color": "rgb(17,17,17)",
              "width": 0.5
             },
             "pattern": {
              "fillmode": "overlay",
              "size": 10,
              "solidity": 0.2
             }
            },
            "type": "bar"
           }
          ],
          "barpolar": [
           {
            "marker": {
             "line": {
              "color": "rgb(17,17,17)",
              "width": 0.5
             },
             "pattern": {
              "fillmode": "overlay",
              "size": 10,
              "solidity": 0.2
             }
            },
            "type": "barpolar"
           }
          ],
          "carpet": [
           {
            "aaxis": {
             "endlinecolor": "#A2B1C6",
             "gridcolor": "#506784",
             "linecolor": "#506784",
             "minorgridcolor": "#506784",
             "startlinecolor": "#A2B1C6"
            },
            "baxis": {
             "endlinecolor": "#A2B1C6",
             "gridcolor": "#506784",
             "linecolor": "#506784",
             "minorgridcolor": "#506784",
             "startlinecolor": "#A2B1C6"
            },
            "type": "carpet"
           }
          ],
          "choropleth": [
           {
            "colorbar": {
             "outlinewidth": 0,
             "ticks": ""
            },
            "type": "choropleth"
           }
          ],
          "contour": [
           {
            "colorbar": {
             "outlinewidth": 0,
             "ticks": ""
            },
            "colorscale": [
             [
              0,
              "#0d0887"
             ],
             [
              0.1111111111111111,
              "#46039f"
             ],
             [
              0.2222222222222222,
              "#7201a8"
             ],
             [
              0.3333333333333333,
              "#9c179e"
             ],
             [
              0.4444444444444444,
              "#bd3786"
             ],
             [
              0.5555555555555556,
              "#d8576b"
             ],
             [
              0.6666666666666666,
              "#ed7953"
             ],
             [
              0.7777777777777778,
              "#fb9f3a"
             ],
             [
              0.8888888888888888,
              "#fdca26"
             ],
             [
              1,
              "#f0f921"
             ]
            ],
            "type": "contour"
           }
          ],
          "contourcarpet": [
           {
            "colorbar": {
             "outlinewidth": 0,
             "ticks": ""
            },
            "type": "contourcarpet"
           }
          ],
          "heatmap": [
           {
            "colorbar": {
             "outlinewidth": 0,
             "ticks": ""
            },
            "colorscale": [
             [
              0,
              "#0d0887"
             ],
             [
              0.1111111111111111,
              "#46039f"
             ],
             [
              0.2222222222222222,
              "#7201a8"
             ],
             [
              0.3333333333333333,
              "#9c179e"
             ],
             [
              0.4444444444444444,
              "#bd3786"
             ],
             [
              0.5555555555555556,
              "#d8576b"
             ],
             [
              0.6666666666666666,
              "#ed7953"
             ],
             [
              0.7777777777777778,
              "#fb9f3a"
             ],
             [
              0.8888888888888888,
              "#fdca26"
             ],
             [
              1,
              "#f0f921"
             ]
            ],
            "type": "heatmap"
           }
          ],
          "histogram": [
           {
            "marker": {
             "pattern": {
              "fillmode": "overlay",
              "size": 10,
              "solidity": 0.2
             }
            },
            "type": "histogram"
           }
          ],
          "histogram2d": [
           {
            "colorbar": {
             "outlinewidth": 0,
             "ticks": ""
            },
            "colorscale": [
             [
              0,
              "#0d0887"
             ],
             [
              0.1111111111111111,
              "#46039f"
             ],
             [
              0.2222222222222222,
              "#7201a8"
             ],
             [
              0.3333333333333333,
              "#9c179e"
             ],
             [
              0.4444444444444444,
              "#bd3786"
             ],
             [
              0.5555555555555556,
              "#d8576b"
             ],
             [
              0.6666666666666666,
              "#ed7953"
             ],
             [
              0.7777777777777778,
              "#fb9f3a"
             ],
             [
              0.8888888888888888,
              "#fdca26"
             ],
             [
              1,
              "#f0f921"
             ]
            ],
            "type": "histogram2d"
           }
          ],
          "histogram2dcontour": [
           {
            "colorbar": {
             "outlinewidth": 0,
             "ticks": ""
            },
            "colorscale": [
             [
              0,
              "#0d0887"
             ],
             [
              0.1111111111111111,
              "#46039f"
             ],
             [
              0.2222222222222222,
              "#7201a8"
             ],
             [
              0.3333333333333333,
              "#9c179e"
             ],
             [
              0.4444444444444444,
              "#bd3786"
             ],
             [
              0.5555555555555556,
              "#d8576b"
             ],
             [
              0.6666666666666666,
              "#ed7953"
             ],
             [
              0.7777777777777778,
              "#fb9f3a"
             ],
             [
              0.8888888888888888,
              "#fdca26"
             ],
             [
              1,
              "#f0f921"
             ]
            ],
            "type": "histogram2dcontour"
           }
          ],
          "mesh3d": [
           {
            "colorbar": {
             "outlinewidth": 0,
             "ticks": ""
            },
            "type": "mesh3d"
           }
          ],
          "parcoords": [
           {
            "line": {
             "colorbar": {
              "outlinewidth": 0,
              "ticks": ""
             }
            },
            "type": "parcoords"
           }
          ],
          "pie": [
           {
            "automargin": true,
            "type": "pie"
           }
          ],
          "scatter": [
           {
            "marker": {
             "line": {
              "color": "#283442"
             }
            },
            "type": "scatter"
           }
          ],
          "scatter3d": [
           {
            "line": {
             "colorbar": {
              "outlinewidth": 0,
              "ticks": ""
             }
            },
            "marker": {
             "colorbar": {
              "outlinewidth": 0,
              "ticks": ""
             }
            },
            "type": "scatter3d"
           }
          ],
          "scattercarpet": [
           {
            "marker": {
             "colorbar": {
              "outlinewidth": 0,
              "ticks": ""
             }
            },
            "type": "scattercarpet"
           }
          ],
          "scattergeo": [
           {
            "marker": {
             "colorbar": {
              "outlinewidth": 0,
              "ticks": ""
             }
            },
            "type": "scattergeo"
           }
          ],
          "scattergl": [
           {
            "marker": {
             "line": {
              "color": "#283442"
             }
            },
            "type": "scattergl"
           }
          ],
          "scattermap": [
           {
            "marker": {
             "colorbar": {
              "outlinewidth": 0,
              "ticks": ""
             }
            },
            "type": "scattermap"
           }
          ],
          "scattermapbox": [
           {
            "marker": {
             "colorbar": {
              "outlinewidth": 0,
              "ticks": ""
             }
            },
            "type": "scattermapbox"
           }
          ],
          "scatterpolar": [
           {
            "marker": {
             "colorbar": {
              "outlinewidth": 0,
              "ticks": ""
             }
            },
            "type": "scatterpolar"
           }
          ],
          "scatterpolargl": [
           {
            "marker": {
             "colorbar": {
              "outlinewidth": 0,
              "ticks": ""
             }
            },
            "type": "scatterpolargl"
           }
          ],
          "scatterternary": [
           {
            "marker": {
             "colorbar": {
              "outlinewidth": 0,
              "ticks": ""
             }
            },
            "type": "scatterternary"
           }
          ],
          "surface": [
           {
            "colorbar": {
             "outlinewidth": 0,
             "ticks": ""
            },
            "colorscale": [
             [
              0,
              "#0d0887"
             ],
             [
              0.1111111111111111,
              "#46039f"
             ],
             [
              0.2222222222222222,
              "#7201a8"
             ],
             [
              0.3333333333333333,
              "#9c179e"
             ],
             [
              0.4444444444444444,
              "#bd3786"
             ],
             [
              0.5555555555555556,
              "#d8576b"
             ],
             [
              0.6666666666666666,
              "#ed7953"
             ],
             [
              0.7777777777777778,
              "#fb9f3a"
             ],
             [
              0.8888888888888888,
              "#fdca26"
             ],
             [
              1,
              "#f0f921"
             ]
            ],
            "type": "surface"
           }
          ],
          "table": [
           {
            "cells": {
             "fill": {
              "color": "#506784"
             },
             "line": {
              "color": "rgb(17,17,17)"
             }
            },
            "header": {
             "fill": {
              "color": "#2a3f5f"
             },
             "line": {
              "color": "rgb(17,17,17)"
             }
            },
            "type": "table"
           }
          ]
         },
         "layout": {
          "annotationdefaults": {
           "arrowcolor": "#f2f5fa",
           "arrowhead": 0,
           "arrowwidth": 1
          },
          "autotypenumbers": "strict",
          "coloraxis": {
           "colorbar": {
            "outlinewidth": 0,
            "ticks": ""
           }
          },
          "colorscale": {
           "diverging": [
            [
             0,
             "#8e0152"
            ],
            [
             0.1,
             "#c51b7d"
            ],
            [
             0.2,
             "#de77ae"
            ],
            [
             0.3,
             "#f1b6da"
            ],
            [
             0.4,
             "#fde0ef"
            ],
            [
             0.5,
             "#f7f7f7"
            ],
            [
             0.6,
             "#e6f5d0"
            ],
            [
             0.7,
             "#b8e186"
            ],
            [
             0.8,
             "#7fbc41"
            ],
            [
             0.9,
             "#4d9221"
            ],
            [
             1,
             "#276419"
            ]
           ],
           "sequential": [
            [
             0,
             "#0d0887"
            ],
            [
             0.1111111111111111,
             "#46039f"
            ],
            [
             0.2222222222222222,
             "#7201a8"
            ],
            [
             0.3333333333333333,
             "#9c179e"
            ],
            [
             0.4444444444444444,
             "#bd3786"
            ],
            [
             0.5555555555555556,
             "#d8576b"
            ],
            [
             0.6666666666666666,
             "#ed7953"
            ],
            [
             0.7777777777777778,
             "#fb9f3a"
            ],
            [
             0.8888888888888888,
             "#fdca26"
            ],
            [
             1,
             "#f0f921"
            ]
           ],
           "sequentialminus": [
            [
             0,
             "#0d0887"
            ],
            [
             0.1111111111111111,
             "#46039f"
            ],
            [
             0.2222222222222222,
             "#7201a8"
            ],
            [
             0.3333333333333333,
             "#9c179e"
            ],
            [
             0.4444444444444444,
             "#bd3786"
            ],
            [
             0.5555555555555556,
             "#d8576b"
            ],
            [
             0.6666666666666666,
             "#ed7953"
            ],
            [
             0.7777777777777778,
             "#fb9f3a"
            ],
            [
             0.8888888888888888,
             "#fdca26"
            ],
            [
             1,
             "#f0f921"
            ]
           ]
          },
          "colorway": [
           "#636efa",
           "#EF553B",
           "#00cc96",
           "#ab63fa",
           "#FFA15A",
           "#19d3f3",
           "#FF6692",
           "#B6E880",
           "#FF97FF",
           "#FECB52"
          ],
          "font": {
           "color": "#f2f5fa"
          },
          "geo": {
           "bgcolor": "rgb(17,17,17)",
           "lakecolor": "rgb(17,17,17)",
           "landcolor": "rgb(17,17,17)",
           "showlakes": true,
           "showland": true,
           "subunitcolor": "#506784"
          },
          "hoverlabel": {
           "align": "left"
          },
          "hovermode": "closest",
          "mapbox": {
           "style": "dark"
          },
          "paper_bgcolor": "rgb(17,17,17)",
          "plot_bgcolor": "rgb(17,17,17)",
          "polar": {
           "angularaxis": {
            "gridcolor": "#506784",
            "linecolor": "#506784",
            "ticks": ""
           },
           "bgcolor": "rgb(17,17,17)",
           "radialaxis": {
            "gridcolor": "#506784",
            "linecolor": "#506784",
            "ticks": ""
           }
          },
          "scene": {
           "xaxis": {
            "backgroundcolor": "rgb(17,17,17)",
            "gridcolor": "#506784",
            "gridwidth": 2,
            "linecolor": "#506784",
            "showbackground": true,
            "ticks": "",
            "zerolinecolor": "#C8D4E3"
           },
           "yaxis": {
            "backgroundcolor": "rgb(17,17,17)",
            "gridcolor": "#506784",
            "gridwidth": 2,
            "linecolor": "#506784",
            "showbackground": true,
            "ticks": "",
            "zerolinecolor": "#C8D4E3"
           },
           "zaxis": {
            "backgroundcolor": "rgb(17,17,17)",
            "gridcolor": "#506784",
            "gridwidth": 2,
            "linecolor": "#506784",
            "showbackground": true,
            "ticks": "",
            "zerolinecolor": "#C8D4E3"
           }
          },
          "shapedefaults": {
           "line": {
            "color": "#f2f5fa"
           }
          },
          "sliderdefaults": {
           "bgcolor": "#C8D4E3",
           "bordercolor": "rgb(17,17,17)",
           "borderwidth": 1,
           "tickwidth": 0
          },
          "ternary": {
           "aaxis": {
            "gridcolor": "#506784",
            "linecolor": "#506784",
            "ticks": ""
           },
           "baxis": {
            "gridcolor": "#506784",
            "linecolor": "#506784",
            "ticks": ""
           },
           "bgcolor": "rgb(17,17,17)",
           "caxis": {
            "gridcolor": "#506784",
            "linecolor": "#506784",
            "ticks": ""
           }
          },
          "title": {
           "x": 0.05
          },
          "updatemenudefaults": {
           "bgcolor": "#506784",
           "borderwidth": 0
          },
          "xaxis": {
           "automargin": true,
           "gridcolor": "#283442",
           "linecolor": "#506784",
           "ticks": "",
           "title": {
            "standoff": 15
           },
           "zerolinecolor": "#283442",
           "zerolinewidth": 2
          },
          "yaxis": {
           "automargin": true,
           "gridcolor": "#283442",
           "linecolor": "#506784",
           "ticks": "",
           "title": {
            "standoff": 15
           },
           "zerolinecolor": "#283442",
           "zerolinewidth": 2
          }
         }
        },
        "xaxis": {
         "anchor": "y",
         "domain": [
          0,
          1
         ],
         "title": {
          "text": "order_type"
         }
        },
        "yaxis": {
         "anchor": "x",
         "domain": [
          0,
          1
         ],
         "title": {
          "text": "profit"
         }
        }
       }
      }
     },
     "metadata": {},
     "output_type": "display_data"
    },
    {
     "ename": "AttributeError",
     "evalue": "Can only use .dt accessor with datetimelike values",
     "output_type": "error",
     "traceback": [
      "\u001b[1;31m---------------------------------------------------------------------------\u001b[0m",
      "\u001b[1;31mAttributeError\u001b[0m                            Traceback (most recent call last)",
      "Cell \u001b[1;32mIn[290], line 1\u001b[0m\n\u001b[1;32m----> 1\u001b[0m \u001b[43mevaluate_backtest\u001b[49m\u001b[43m(\u001b[49m\u001b[43mbt\u001b[49m\u001b[38;5;241;43m.\u001b[39;49m\u001b[43mtrades\u001b[49m\u001b[43m)\u001b[49m\n",
      "File \u001b[1;32mc:\\Users\\hp\\python_finance_market_projects\\backtest.py:357\u001b[0m, in \u001b[0;36mevaluate_backtest\u001b[1;34m(df_og)\u001b[0m\n\u001b[0;32m    354\u001b[0m fig_ordertype \u001b[38;5;241m=\u001b[39m px\u001b[38;5;241m.\u001b[39mbar(df_by_ordertype, x\u001b[38;5;241m=\u001b[39m\u001b[38;5;124m'\u001b[39m\u001b[38;5;124morder_type\u001b[39m\u001b[38;5;124m'\u001b[39m, y\u001b[38;5;241m=\u001b[39m\u001b[38;5;124m'\u001b[39m\u001b[38;5;124mprofit\u001b[39m\u001b[38;5;124m'\u001b[39m)\n\u001b[0;32m    355\u001b[0m display(fig_ordertype)\n\u001b[1;32m--> 357\u001b[0m df[\u001b[38;5;124m'\u001b[39m\u001b[38;5;124mdayofweek\u001b[39m\u001b[38;5;124m'\u001b[39m] \u001b[38;5;241m=\u001b[39m \u001b[43mdf\u001b[49m\u001b[43m[\u001b[49m\u001b[38;5;124;43m'\u001b[39;49m\u001b[38;5;124;43mclose_time\u001b[39;49m\u001b[38;5;124;43m'\u001b[39;49m\u001b[43m]\u001b[49m\u001b[38;5;241;43m.\u001b[39;49m\u001b[43mdt\u001b[49m\u001b[38;5;241m.\u001b[39mdayofweek\n\u001b[0;32m    358\u001b[0m \u001b[38;5;66;03m#display(df)\u001b[39;00m\n\u001b[0;32m    360\u001b[0m df_by_day \u001b[38;5;241m=\u001b[39m df\u001b[38;5;241m.\u001b[39mgroupby(\u001b[38;5;124m'\u001b[39m\u001b[38;5;124mdayofweek\u001b[39m\u001b[38;5;124m'\u001b[39m, as_index\u001b[38;5;241m=\u001b[39m\u001b[38;5;28;01mFalse\u001b[39;00m)[\u001b[38;5;124m'\u001b[39m\u001b[38;5;124mprofit\u001b[39m\u001b[38;5;124m'\u001b[39m]\u001b[38;5;241m.\u001b[39msum()\n",
      "File \u001b[1;32mc:\\Users\\hp\\python_finance_market_projects\\.venv\\Lib\\site-packages\\pandas\\core\\generic.py:6299\u001b[0m, in \u001b[0;36mNDFrame.__getattr__\u001b[1;34m(self, name)\u001b[0m\n\u001b[0;32m   6292\u001b[0m \u001b[38;5;28;01mif\u001b[39;00m (\n\u001b[0;32m   6293\u001b[0m     name \u001b[38;5;129;01mnot\u001b[39;00m \u001b[38;5;129;01min\u001b[39;00m \u001b[38;5;28mself\u001b[39m\u001b[38;5;241m.\u001b[39m_internal_names_set\n\u001b[0;32m   6294\u001b[0m     \u001b[38;5;129;01mand\u001b[39;00m name \u001b[38;5;129;01mnot\u001b[39;00m \u001b[38;5;129;01min\u001b[39;00m \u001b[38;5;28mself\u001b[39m\u001b[38;5;241m.\u001b[39m_metadata\n\u001b[0;32m   6295\u001b[0m     \u001b[38;5;129;01mand\u001b[39;00m name \u001b[38;5;129;01mnot\u001b[39;00m \u001b[38;5;129;01min\u001b[39;00m \u001b[38;5;28mself\u001b[39m\u001b[38;5;241m.\u001b[39m_accessors\n\u001b[0;32m   6296\u001b[0m     \u001b[38;5;129;01mand\u001b[39;00m \u001b[38;5;28mself\u001b[39m\u001b[38;5;241m.\u001b[39m_info_axis\u001b[38;5;241m.\u001b[39m_can_hold_identifiers_and_holds_name(name)\n\u001b[0;32m   6297\u001b[0m ):\n\u001b[0;32m   6298\u001b[0m     \u001b[38;5;28;01mreturn\u001b[39;00m \u001b[38;5;28mself\u001b[39m[name]\n\u001b[1;32m-> 6299\u001b[0m \u001b[38;5;28;01mreturn\u001b[39;00m \u001b[38;5;28;43mobject\u001b[39;49m\u001b[38;5;241;43m.\u001b[39;49m\u001b[38;5;21;43m__getattribute__\u001b[39;49m\u001b[43m(\u001b[49m\u001b[38;5;28;43mself\u001b[39;49m\u001b[43m,\u001b[49m\u001b[43m \u001b[49m\u001b[43mname\u001b[49m\u001b[43m)\u001b[49m\n",
      "File \u001b[1;32mc:\\Users\\hp\\python_finance_market_projects\\.venv\\Lib\\site-packages\\pandas\\core\\accessor.py:224\u001b[0m, in \u001b[0;36mCachedAccessor.__get__\u001b[1;34m(self, obj, cls)\u001b[0m\n\u001b[0;32m    221\u001b[0m \u001b[38;5;28;01mif\u001b[39;00m obj \u001b[38;5;129;01mis\u001b[39;00m \u001b[38;5;28;01mNone\u001b[39;00m:\n\u001b[0;32m    222\u001b[0m     \u001b[38;5;66;03m# we're accessing the attribute of the class, i.e., Dataset.geo\u001b[39;00m\n\u001b[0;32m    223\u001b[0m     \u001b[38;5;28;01mreturn\u001b[39;00m \u001b[38;5;28mself\u001b[39m\u001b[38;5;241m.\u001b[39m_accessor\n\u001b[1;32m--> 224\u001b[0m accessor_obj \u001b[38;5;241m=\u001b[39m \u001b[38;5;28;43mself\u001b[39;49m\u001b[38;5;241;43m.\u001b[39;49m\u001b[43m_accessor\u001b[49m\u001b[43m(\u001b[49m\u001b[43mobj\u001b[49m\u001b[43m)\u001b[49m\n\u001b[0;32m    225\u001b[0m \u001b[38;5;66;03m# Replace the property with the accessor object. Inspired by:\u001b[39;00m\n\u001b[0;32m    226\u001b[0m \u001b[38;5;66;03m# https://www.pydanny.com/cached-property.html\u001b[39;00m\n\u001b[0;32m    227\u001b[0m \u001b[38;5;66;03m# We need to use object.__setattr__ because we overwrite __setattr__ on\u001b[39;00m\n\u001b[0;32m    228\u001b[0m \u001b[38;5;66;03m# NDFrame\u001b[39;00m\n\u001b[0;32m    229\u001b[0m \u001b[38;5;28mobject\u001b[39m\u001b[38;5;241m.\u001b[39m\u001b[38;5;21m__setattr__\u001b[39m(obj, \u001b[38;5;28mself\u001b[39m\u001b[38;5;241m.\u001b[39m_name, accessor_obj)\n",
      "File \u001b[1;32mc:\\Users\\hp\\python_finance_market_projects\\.venv\\Lib\\site-packages\\pandas\\core\\indexes\\accessors.py:643\u001b[0m, in \u001b[0;36mCombinedDatetimelikeProperties.__new__\u001b[1;34m(cls, data)\u001b[0m\n\u001b[0;32m    640\u001b[0m \u001b[38;5;28;01melif\u001b[39;00m \u001b[38;5;28misinstance\u001b[39m(data\u001b[38;5;241m.\u001b[39mdtype, PeriodDtype):\n\u001b[0;32m    641\u001b[0m     \u001b[38;5;28;01mreturn\u001b[39;00m PeriodProperties(data, orig)\n\u001b[1;32m--> 643\u001b[0m \u001b[38;5;28;01mraise\u001b[39;00m \u001b[38;5;167;01mAttributeError\u001b[39;00m(\u001b[38;5;124m\"\u001b[39m\u001b[38;5;124mCan only use .dt accessor with datetimelike values\u001b[39m\u001b[38;5;124m\"\u001b[39m)\n",
      "\u001b[1;31mAttributeError\u001b[0m: Can only use .dt accessor with datetimelike values"
     ]
    }
   ],
   "source": [
    "evaluate_backtest(bt.trades)"
   ]
  },
  {
   "cell_type": "code",
   "execution_count": null,
   "metadata": {},
   "outputs": [],
   "source": [
    "# visualizing the ohlc data\n",
    "fig = go.Figure(data = [go.Candlestick(x = ohlc_df['time'],\n",
    "                                        open = ohlc_df['open'],\n",
    "                                        high = ohlc_df['high'],\n",
    "                                        low = ohlc_df['low'],\n",
    "                                        close = ohlc_df['close'])])\n",
    "\n",
    "# fig.update_layout(height=600, xaxis_rangeslider_visible=False)\n",
    "# 📌 Add Pivot Points as Horizontal Lines\n",
    "pivot_levels = [\"sell_stope_loss\", \"R2\", \"buy_stope_loss\", \"S2\"]\n",
    "colors = {'sell_stope_loss': 'red', 'buy_stope_loss': 'red', 'R2': 'green', 'S2': 'green'}\n",
    "\n",
    "\n",
    "for _, row in daily_df.iterrows():\n",
    "    for level in pivot_levels:\n",
    "        fig.add_trace(go.Scatter(\n",
    "            x=[row['time'], row['time'] + pd.Timedelta(days=1)],  # Extend for one day\n",
    "            y=[row[level], row[level]],\n",
    "            mode='lines',\n",
    "            name=f\"{level} {row['time']}\",\n",
    "            line=dict(color=colors[level], width=1.5, dash='dot')\n",
    "        ))\n",
    "\n",
    "# 📌 Customize Layout\n",
    "fig.update_layout(\n",
    "    title=\"Pivot Points on Candlestick Chart\",\n",
    "    xaxis_title=\"Date\",\n",
    "    yaxis_title=\"Price\",\n",
    "    template=\"plotly_dark\",\n",
    "    xaxis_rangeslider_visible=False\n",
    ")\n",
    "fig"
   ]
  }
 ],
 "metadata": {
  "kernelspec": {
   "display_name": ".venv",
   "language": "python",
   "name": "python3"
  },
  "language_info": {
   "codemirror_mode": {
    "name": "ipython",
    "version": 3
   },
   "file_extension": ".py",
   "mimetype": "text/x-python",
   "name": "python",
   "nbconvert_exporter": "python",
   "pygments_lexer": "ipython3",
   "version": "3.12.1"
  }
 },
 "nbformat": 4,
 "nbformat_minor": 2
}
