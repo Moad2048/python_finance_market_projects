{
 "cells": [
  {
   "cell_type": "code",
   "execution_count": 392,
   "metadata": {},
   "outputs": [],
   "source": [
    "import MetaTrader5 as mt5 #mt5 to access historcal data\n",
    "import pandas as pd # for data analysis and calculation of technical indcator\n",
    "import numpy as np\n",
    "import plotly.io as pio\n",
    "import plotly.express as px # for data visualization\n",
    "import plotly.graph_objects as go\n",
    "import tdclient as TDClient\n",
    "from datetime import datetime, time ,timezone #to specify the date time range for historical data\n",
    "from IPython.display import display, Markdown, Latex # to display result in python notebook\n",
    "from backtest import Backtester, get_ohlc_history, create_price_fig, evaluate_backtest"
   ]
  },
  {
   "cell_type": "code",
   "execution_count": 393,
   "metadata": {},
   "outputs": [
    {
     "data": {
      "text/plain": [
       "True"
      ]
     },
     "execution_count": 393,
     "metadata": {},
     "output_type": "execute_result"
    }
   ],
   "source": [
    "# Conecte mt5\n",
    "mt5.initialize()\n",
    "# logine mt5\n",
    "login = 52185665\n",
    "password = '3cAJz$AQiKwMq0'\n",
    "server = 'ICMarketsSC-Demo'\n",
    "\n",
    "mt5.login(login,password,server)"
   ]
  },
  {
   "cell_type": "code",
   "execution_count": 394,
   "metadata": {},
   "outputs": [],
   "source": [
    "# this function retreives olhc data from mt5 account and return a data frame\n",
    "def get_ohlc(symbol, timeframe, start_datetime, end_datetime):\n",
    "    ohlc = mt5.copy_rates_range(symbol, timeframe, start_datetime, end_datetime)\n",
    "    ohlc_df = pd.DataFrame(ohlc)\n",
    "    ohlc_df['time'] = pd.to_datetime(ohlc_df['time'], unit= 's')\n",
    "    return ohlc_df[['time', 'open', 'high', 'low', 'close']]\n"
   ]
  },
  {
   "cell_type": "code",
   "execution_count": 395,
   "metadata": {},
   "outputs": [
    {
     "data": {
      "text/html": [
       "<div>\n",
       "<style scoped>\n",
       "    .dataframe tbody tr th:only-of-type {\n",
       "        vertical-align: middle;\n",
       "    }\n",
       "\n",
       "    .dataframe tbody tr th {\n",
       "        vertical-align: top;\n",
       "    }\n",
       "\n",
       "    .dataframe thead th {\n",
       "        text-align: right;\n",
       "    }\n",
       "</style>\n",
       "<table border=\"1\" class=\"dataframe\">\n",
       "  <thead>\n",
       "    <tr style=\"text-align: right;\">\n",
       "      <th></th>\n",
       "      <th>time</th>\n",
       "      <th>open</th>\n",
       "      <th>high</th>\n",
       "      <th>low</th>\n",
       "      <th>close</th>\n",
       "    </tr>\n",
       "  </thead>\n",
       "  <tbody>\n",
       "    <tr>\n",
       "      <th>0</th>\n",
       "      <td>2025-03-03 00:00:00</td>\n",
       "      <td>1.03925</td>\n",
       "      <td>1.03954</td>\n",
       "      <td>1.03925</td>\n",
       "      <td>1.03954</td>\n",
       "    </tr>\n",
       "    <tr>\n",
       "      <th>1</th>\n",
       "      <td>2025-03-03 00:01:00</td>\n",
       "      <td>1.03954</td>\n",
       "      <td>1.03970</td>\n",
       "      <td>1.03947</td>\n",
       "      <td>1.03970</td>\n",
       "    </tr>\n",
       "    <tr>\n",
       "      <th>2</th>\n",
       "      <td>2025-03-03 00:02:00</td>\n",
       "      <td>1.03970</td>\n",
       "      <td>1.03983</td>\n",
       "      <td>1.03940</td>\n",
       "      <td>1.03957</td>\n",
       "    </tr>\n",
       "    <tr>\n",
       "      <th>3</th>\n",
       "      <td>2025-03-03 00:03:00</td>\n",
       "      <td>1.03946</td>\n",
       "      <td>1.03978</td>\n",
       "      <td>1.03946</td>\n",
       "      <td>1.03972</td>\n",
       "    </tr>\n",
       "    <tr>\n",
       "      <th>4</th>\n",
       "      <td>2025-03-03 00:04:00</td>\n",
       "      <td>1.03972</td>\n",
       "      <td>1.03972</td>\n",
       "      <td>1.03965</td>\n",
       "      <td>1.03965</td>\n",
       "    </tr>\n",
       "    <tr>\n",
       "      <th>...</th>\n",
       "      <td>...</td>\n",
       "      <td>...</td>\n",
       "      <td>...</td>\n",
       "      <td>...</td>\n",
       "      <td>...</td>\n",
       "    </tr>\n",
       "    <tr>\n",
       "      <th>64666</th>\n",
       "      <td>2025-05-02 22:55:00</td>\n",
       "      <td>1.13053</td>\n",
       "      <td>1.13057</td>\n",
       "      <td>1.13048</td>\n",
       "      <td>1.13049</td>\n",
       "    </tr>\n",
       "    <tr>\n",
       "      <th>64667</th>\n",
       "      <td>2025-05-02 22:56:00</td>\n",
       "      <td>1.13049</td>\n",
       "      <td>1.13062</td>\n",
       "      <td>1.13048</td>\n",
       "      <td>1.13053</td>\n",
       "    </tr>\n",
       "    <tr>\n",
       "      <th>64668</th>\n",
       "      <td>2025-05-02 22:57:00</td>\n",
       "      <td>1.13054</td>\n",
       "      <td>1.13061</td>\n",
       "      <td>1.13051</td>\n",
       "      <td>1.13061</td>\n",
       "    </tr>\n",
       "    <tr>\n",
       "      <th>64669</th>\n",
       "      <td>2025-05-02 22:58:00</td>\n",
       "      <td>1.13061</td>\n",
       "      <td>1.13064</td>\n",
       "      <td>1.13057</td>\n",
       "      <td>1.13059</td>\n",
       "    </tr>\n",
       "    <tr>\n",
       "      <th>64670</th>\n",
       "      <td>2025-05-02 22:59:00</td>\n",
       "      <td>1.13059</td>\n",
       "      <td>1.13059</td>\n",
       "      <td>1.13042</td>\n",
       "      <td>1.13046</td>\n",
       "    </tr>\n",
       "  </tbody>\n",
       "</table>\n",
       "<p>64671 rows × 5 columns</p>\n",
       "</div>"
      ],
      "text/plain": [
       "                     time     open     high      low    close\n",
       "0     2025-03-03 00:00:00  1.03925  1.03954  1.03925  1.03954\n",
       "1     2025-03-03 00:01:00  1.03954  1.03970  1.03947  1.03970\n",
       "2     2025-03-03 00:02:00  1.03970  1.03983  1.03940  1.03957\n",
       "3     2025-03-03 00:03:00  1.03946  1.03978  1.03946  1.03972\n",
       "4     2025-03-03 00:04:00  1.03972  1.03972  1.03965  1.03965\n",
       "...                   ...      ...      ...      ...      ...\n",
       "64666 2025-05-02 22:55:00  1.13053  1.13057  1.13048  1.13049\n",
       "64667 2025-05-02 22:56:00  1.13049  1.13062  1.13048  1.13053\n",
       "64668 2025-05-02 22:57:00  1.13054  1.13061  1.13051  1.13061\n",
       "64669 2025-05-02 22:58:00  1.13061  1.13064  1.13057  1.13059\n",
       "64670 2025-05-02 22:59:00  1.13059  1.13059  1.13042  1.13046\n",
       "\n",
       "[64671 rows x 5 columns]"
      ]
     },
     "execution_count": 395,
     "metadata": {},
     "output_type": "execute_result"
    }
   ],
   "source": [
    "# 30 minut df\n",
    "symbol = 'EURUSD'\n",
    "pos_size = 1\n",
    "timeframe = mt5.TIMEFRAME_M1\n",
    "start_datetime = datetime(2025,3,1)\n",
    "end_datetime = datetime.now()\n",
    "ohlc_df = get_ohlc(symbol, timeframe, start_datetime, end_datetime)\n",
    "ohlc_df"
   ]
  },
  {
   "cell_type": "code",
   "execution_count": 396,
   "metadata": {},
   "outputs": [
    {
     "data": {
      "text/html": [
       "<div>\n",
       "<style scoped>\n",
       "    .dataframe tbody tr th:only-of-type {\n",
       "        vertical-align: middle;\n",
       "    }\n",
       "\n",
       "    .dataframe tbody tr th {\n",
       "        vertical-align: top;\n",
       "    }\n",
       "\n",
       "    .dataframe thead th {\n",
       "        text-align: right;\n",
       "    }\n",
       "</style>\n",
       "<table border=\"1\" class=\"dataframe\">\n",
       "  <thead>\n",
       "    <tr style=\"text-align: right;\">\n",
       "      <th></th>\n",
       "      <th>time</th>\n",
       "      <th>open</th>\n",
       "      <th>high</th>\n",
       "      <th>low</th>\n",
       "      <th>close</th>\n",
       "    </tr>\n",
       "  </thead>\n",
       "  <tbody>\n",
       "    <tr>\n",
       "      <th>265</th>\n",
       "      <td>2025-05-02 04:00:00</td>\n",
       "      <td>1.12823</td>\n",
       "      <td>1.13157</td>\n",
       "      <td>1.12786</td>\n",
       "      <td>1.13044</td>\n",
       "    </tr>\n",
       "    <tr>\n",
       "      <th>266</th>\n",
       "      <td>2025-05-02 08:00:00</td>\n",
       "      <td>1.13044</td>\n",
       "      <td>1.13379</td>\n",
       "      <td>1.13025</td>\n",
       "      <td>1.13324</td>\n",
       "    </tr>\n",
       "    <tr>\n",
       "      <th>267</th>\n",
       "      <td>2025-05-02 12:00:00</td>\n",
       "      <td>1.13330</td>\n",
       "      <td>1.13551</td>\n",
       "      <td>1.13047</td>\n",
       "      <td>1.13190</td>\n",
       "    </tr>\n",
       "    <tr>\n",
       "      <th>268</th>\n",
       "      <td>2025-05-02 16:00:00</td>\n",
       "      <td>1.13190</td>\n",
       "      <td>1.13810</td>\n",
       "      <td>1.13149</td>\n",
       "      <td>1.13199</td>\n",
       "    </tr>\n",
       "    <tr>\n",
       "      <th>269</th>\n",
       "      <td>2025-05-02 20:00:00</td>\n",
       "      <td>1.13199</td>\n",
       "      <td>1.13204</td>\n",
       "      <td>1.12926</td>\n",
       "      <td>1.12994</td>\n",
       "    </tr>\n",
       "  </tbody>\n",
       "</table>\n",
       "</div>"
      ],
      "text/plain": [
       "                   time     open     high      low    close\n",
       "265 2025-05-02 04:00:00  1.12823  1.13157  1.12786  1.13044\n",
       "266 2025-05-02 08:00:00  1.13044  1.13379  1.13025  1.13324\n",
       "267 2025-05-02 12:00:00  1.13330  1.13551  1.13047  1.13190\n",
       "268 2025-05-02 16:00:00  1.13190  1.13810  1.13149  1.13199\n",
       "269 2025-05-02 20:00:00  1.13199  1.13204  1.12926  1.12994"
      ]
     },
     "execution_count": 396,
     "metadata": {},
     "output_type": "execute_result"
    }
   ],
   "source": [
    "# hour4 df\n",
    "symbol = 'EURUSD'\n",
    "pos_size = 1\n",
    "timeframe = mt5.TIMEFRAME_H4\n",
    "hourly_df = get_ohlc(symbol, timeframe, start_datetime, end_datetime)\n",
    "hourly_df.tail(5)"
   ]
  },
  {
   "cell_type": "code",
   "execution_count": 397,
   "metadata": {},
   "outputs": [
    {
     "data": {
      "text/html": [
       "<div>\n",
       "<style scoped>\n",
       "    .dataframe tbody tr th:only-of-type {\n",
       "        vertical-align: middle;\n",
       "    }\n",
       "\n",
       "    .dataframe tbody tr th {\n",
       "        vertical-align: top;\n",
       "    }\n",
       "\n",
       "    .dataframe thead th {\n",
       "        text-align: right;\n",
       "    }\n",
       "</style>\n",
       "<table border=\"1\" class=\"dataframe\">\n",
       "  <thead>\n",
       "    <tr style=\"text-align: right;\">\n",
       "      <th></th>\n",
       "      <th>time</th>\n",
       "      <th>open</th>\n",
       "      <th>high</th>\n",
       "      <th>low</th>\n",
       "      <th>close</th>\n",
       "    </tr>\n",
       "  </thead>\n",
       "  <tbody>\n",
       "    <tr>\n",
       "      <th>0</th>\n",
       "      <td>2025-03-03</td>\n",
       "      <td>1.03925</td>\n",
       "      <td>1.05038</td>\n",
       "      <td>1.03887</td>\n",
       "      <td>1.04878</td>\n",
       "    </tr>\n",
       "    <tr>\n",
       "      <th>1</th>\n",
       "      <td>2025-03-04</td>\n",
       "      <td>1.04860</td>\n",
       "      <td>1.06270</td>\n",
       "      <td>1.04712</td>\n",
       "      <td>1.06251</td>\n",
       "    </tr>\n",
       "    <tr>\n",
       "      <th>2</th>\n",
       "      <td>2025-03-05</td>\n",
       "      <td>1.06253</td>\n",
       "      <td>1.07968</td>\n",
       "      <td>1.06021</td>\n",
       "      <td>1.07892</td>\n",
       "    </tr>\n",
       "    <tr>\n",
       "      <th>3</th>\n",
       "      <td>2025-03-06</td>\n",
       "      <td>1.07866</td>\n",
       "      <td>1.08534</td>\n",
       "      <td>1.07656</td>\n",
       "      <td>1.07838</td>\n",
       "    </tr>\n",
       "    <tr>\n",
       "      <th>4</th>\n",
       "      <td>2025-03-07</td>\n",
       "      <td>1.07823</td>\n",
       "      <td>1.08889</td>\n",
       "      <td>1.07789</td>\n",
       "      <td>1.08321</td>\n",
       "    </tr>\n",
       "    <tr>\n",
       "      <th>5</th>\n",
       "      <td>2025-03-10</td>\n",
       "      <td>1.08325</td>\n",
       "      <td>1.08747</td>\n",
       "      <td>1.08050</td>\n",
       "      <td>1.08354</td>\n",
       "    </tr>\n",
       "    <tr>\n",
       "      <th>6</th>\n",
       "      <td>2025-03-11</td>\n",
       "      <td>1.08330</td>\n",
       "      <td>1.09474</td>\n",
       "      <td>1.08260</td>\n",
       "      <td>1.09193</td>\n",
       "    </tr>\n",
       "    <tr>\n",
       "      <th>7</th>\n",
       "      <td>2025-03-12</td>\n",
       "      <td>1.09180</td>\n",
       "      <td>1.09301</td>\n",
       "      <td>1.08757</td>\n",
       "      <td>1.08871</td>\n",
       "    </tr>\n",
       "    <tr>\n",
       "      <th>8</th>\n",
       "      <td>2025-03-13</td>\n",
       "      <td>1.08870</td>\n",
       "      <td>1.08973</td>\n",
       "      <td>1.08225</td>\n",
       "      <td>1.08514</td>\n",
       "    </tr>\n",
       "    <tr>\n",
       "      <th>9</th>\n",
       "      <td>2025-03-14</td>\n",
       "      <td>1.08503</td>\n",
       "      <td>1.09128</td>\n",
       "      <td>1.08307</td>\n",
       "      <td>1.08802</td>\n",
       "    </tr>\n",
       "    <tr>\n",
       "      <th>10</th>\n",
       "      <td>2025-03-17</td>\n",
       "      <td>1.08771</td>\n",
       "      <td>1.09297</td>\n",
       "      <td>1.08686</td>\n",
       "      <td>1.09214</td>\n",
       "    </tr>\n",
       "    <tr>\n",
       "      <th>11</th>\n",
       "      <td>2025-03-18</td>\n",
       "      <td>1.09218</td>\n",
       "      <td>1.09547</td>\n",
       "      <td>1.08925</td>\n",
       "      <td>1.09447</td>\n",
       "    </tr>\n",
       "    <tr>\n",
       "      <th>12</th>\n",
       "      <td>2025-03-19</td>\n",
       "      <td>1.09439</td>\n",
       "      <td>1.09461</td>\n",
       "      <td>1.08606</td>\n",
       "      <td>1.09025</td>\n",
       "    </tr>\n",
       "    <tr>\n",
       "      <th>13</th>\n",
       "      <td>2025-03-20</td>\n",
       "      <td>1.09010</td>\n",
       "      <td>1.09176</td>\n",
       "      <td>1.08147</td>\n",
       "      <td>1.08533</td>\n",
       "    </tr>\n",
       "    <tr>\n",
       "      <th>14</th>\n",
       "      <td>2025-03-21</td>\n",
       "      <td>1.08494</td>\n",
       "      <td>1.08613</td>\n",
       "      <td>1.07973</td>\n",
       "      <td>1.08124</td>\n",
       "    </tr>\n",
       "    <tr>\n",
       "      <th>15</th>\n",
       "      <td>2025-03-24</td>\n",
       "      <td>1.08127</td>\n",
       "      <td>1.08584</td>\n",
       "      <td>1.07817</td>\n",
       "      <td>1.08008</td>\n",
       "    </tr>\n",
       "    <tr>\n",
       "      <th>16</th>\n",
       "      <td>2025-03-25</td>\n",
       "      <td>1.08003</td>\n",
       "      <td>1.08302</td>\n",
       "      <td>1.07771</td>\n",
       "      <td>1.07913</td>\n",
       "    </tr>\n",
       "    <tr>\n",
       "      <th>17</th>\n",
       "      <td>2025-03-26</td>\n",
       "      <td>1.07901</td>\n",
       "      <td>1.08028</td>\n",
       "      <td>1.07435</td>\n",
       "      <td>1.07525</td>\n",
       "    </tr>\n",
       "    <tr>\n",
       "      <th>18</th>\n",
       "      <td>2025-03-27</td>\n",
       "      <td>1.07539</td>\n",
       "      <td>1.08212</td>\n",
       "      <td>1.07330</td>\n",
       "      <td>1.08018</td>\n",
       "    </tr>\n",
       "    <tr>\n",
       "      <th>19</th>\n",
       "      <td>2025-03-28</td>\n",
       "      <td>1.08011</td>\n",
       "      <td>1.08448</td>\n",
       "      <td>1.07645</td>\n",
       "      <td>1.08306</td>\n",
       "    </tr>\n",
       "    <tr>\n",
       "      <th>20</th>\n",
       "      <td>2025-03-31</td>\n",
       "      <td>1.08225</td>\n",
       "      <td>1.08494</td>\n",
       "      <td>1.07840</td>\n",
       "      <td>1.08149</td>\n",
       "    </tr>\n",
       "    <tr>\n",
       "      <th>21</th>\n",
       "      <td>2025-04-01</td>\n",
       "      <td>1.08152</td>\n",
       "      <td>1.08301</td>\n",
       "      <td>1.07783</td>\n",
       "      <td>1.07924</td>\n",
       "    </tr>\n",
       "    <tr>\n",
       "      <th>22</th>\n",
       "      <td>2025-04-02</td>\n",
       "      <td>1.07933</td>\n",
       "      <td>1.09241</td>\n",
       "      <td>1.07802</td>\n",
       "      <td>1.08603</td>\n",
       "    </tr>\n",
       "    <tr>\n",
       "      <th>23</th>\n",
       "      <td>2025-04-03</td>\n",
       "      <td>1.08510</td>\n",
       "      <td>1.11459</td>\n",
       "      <td>1.08052</td>\n",
       "      <td>1.10511</td>\n",
       "    </tr>\n",
       "    <tr>\n",
       "      <th>24</th>\n",
       "      <td>2025-04-04</td>\n",
       "      <td>1.10518</td>\n",
       "      <td>1.11078</td>\n",
       "      <td>1.09246</td>\n",
       "      <td>1.09636</td>\n",
       "    </tr>\n",
       "    <tr>\n",
       "      <th>25</th>\n",
       "      <td>2025-04-07</td>\n",
       "      <td>1.08936</td>\n",
       "      <td>1.10500</td>\n",
       "      <td>1.08800</td>\n",
       "      <td>1.09053</td>\n",
       "    </tr>\n",
       "    <tr>\n",
       "      <th>26</th>\n",
       "      <td>2025-04-08</td>\n",
       "      <td>1.09066</td>\n",
       "      <td>1.09918</td>\n",
       "      <td>1.08883</td>\n",
       "      <td>1.09578</td>\n",
       "    </tr>\n",
       "    <tr>\n",
       "      <th>27</th>\n",
       "      <td>2025-04-09</td>\n",
       "      <td>1.09527</td>\n",
       "      <td>1.10951</td>\n",
       "      <td>1.09132</td>\n",
       "      <td>1.09474</td>\n",
       "    </tr>\n",
       "    <tr>\n",
       "      <th>28</th>\n",
       "      <td>2025-04-10</td>\n",
       "      <td>1.09483</td>\n",
       "      <td>1.12416</td>\n",
       "      <td>1.09429</td>\n",
       "      <td>1.12017</td>\n",
       "    </tr>\n",
       "    <tr>\n",
       "      <th>29</th>\n",
       "      <td>2025-04-11</td>\n",
       "      <td>1.11929</td>\n",
       "      <td>1.14736</td>\n",
       "      <td>1.11818</td>\n",
       "      <td>1.13552</td>\n",
       "    </tr>\n",
       "    <tr>\n",
       "      <th>30</th>\n",
       "      <td>2025-04-14</td>\n",
       "      <td>1.13140</td>\n",
       "      <td>1.14246</td>\n",
       "      <td>1.12960</td>\n",
       "      <td>1.13496</td>\n",
       "    </tr>\n",
       "    <tr>\n",
       "      <th>31</th>\n",
       "      <td>2025-04-15</td>\n",
       "      <td>1.13500</td>\n",
       "      <td>1.13789</td>\n",
       "      <td>1.12642</td>\n",
       "      <td>1.12813</td>\n",
       "    </tr>\n",
       "    <tr>\n",
       "      <th>32</th>\n",
       "      <td>2025-04-16</td>\n",
       "      <td>1.12781</td>\n",
       "      <td>1.14128</td>\n",
       "      <td>1.12781</td>\n",
       "      <td>1.13985</td>\n",
       "    </tr>\n",
       "    <tr>\n",
       "      <th>33</th>\n",
       "      <td>2025-04-17</td>\n",
       "      <td>1.13986</td>\n",
       "      <td>1.14093</td>\n",
       "      <td>1.13353</td>\n",
       "      <td>1.13634</td>\n",
       "    </tr>\n",
       "    <tr>\n",
       "      <th>34</th>\n",
       "      <td>2025-04-18</td>\n",
       "      <td>1.13616</td>\n",
       "      <td>1.13975</td>\n",
       "      <td>1.13586</td>\n",
       "      <td>1.13929</td>\n",
       "    </tr>\n",
       "    <tr>\n",
       "      <th>35</th>\n",
       "      <td>2025-04-21</td>\n",
       "      <td>1.13928</td>\n",
       "      <td>1.15733</td>\n",
       "      <td>1.13799</td>\n",
       "      <td>1.15129</td>\n",
       "    </tr>\n",
       "    <tr>\n",
       "      <th>36</th>\n",
       "      <td>2025-04-22</td>\n",
       "      <td>1.15139</td>\n",
       "      <td>1.15474</td>\n",
       "      <td>1.14175</td>\n",
       "      <td>1.14206</td>\n",
       "    </tr>\n",
       "    <tr>\n",
       "      <th>37</th>\n",
       "      <td>2025-04-23</td>\n",
       "      <td>1.14207</td>\n",
       "      <td>1.14399</td>\n",
       "      <td>1.13081</td>\n",
       "      <td>1.13145</td>\n",
       "    </tr>\n",
       "    <tr>\n",
       "      <th>38</th>\n",
       "      <td>2025-04-24</td>\n",
       "      <td>1.13114</td>\n",
       "      <td>1.13979</td>\n",
       "      <td>1.13095</td>\n",
       "      <td>1.13888</td>\n",
       "    </tr>\n",
       "    <tr>\n",
       "      <th>39</th>\n",
       "      <td>2025-04-25</td>\n",
       "      <td>1.13852</td>\n",
       "      <td>1.13914</td>\n",
       "      <td>1.13160</td>\n",
       "      <td>1.13595</td>\n",
       "    </tr>\n",
       "    <tr>\n",
       "      <th>40</th>\n",
       "      <td>2025-04-28</td>\n",
       "      <td>1.13721</td>\n",
       "      <td>1.14249</td>\n",
       "      <td>1.13294</td>\n",
       "      <td>1.14216</td>\n",
       "    </tr>\n",
       "    <tr>\n",
       "      <th>41</th>\n",
       "      <td>2025-04-29</td>\n",
       "      <td>1.14197</td>\n",
       "      <td>1.14218</td>\n",
       "      <td>1.13702</td>\n",
       "      <td>1.13828</td>\n",
       "    </tr>\n",
       "    <tr>\n",
       "      <th>42</th>\n",
       "      <td>2025-04-30</td>\n",
       "      <td>1.13840</td>\n",
       "      <td>1.13996</td>\n",
       "      <td>1.13173</td>\n",
       "      <td>1.13292</td>\n",
       "    </tr>\n",
       "    <tr>\n",
       "      <th>43</th>\n",
       "      <td>2025-05-01</td>\n",
       "      <td>1.13279</td>\n",
       "      <td>1.13411</td>\n",
       "      <td>1.12659</td>\n",
       "      <td>1.12900</td>\n",
       "    </tr>\n",
       "    <tr>\n",
       "      <th>44</th>\n",
       "      <td>2025-05-02</td>\n",
       "      <td>1.12888</td>\n",
       "      <td>1.13810</td>\n",
       "      <td>1.12743</td>\n",
       "      <td>1.12994</td>\n",
       "    </tr>\n",
       "  </tbody>\n",
       "</table>\n",
       "</div>"
      ],
      "text/plain": [
       "         time     open     high      low    close\n",
       "0  2025-03-03  1.03925  1.05038  1.03887  1.04878\n",
       "1  2025-03-04  1.04860  1.06270  1.04712  1.06251\n",
       "2  2025-03-05  1.06253  1.07968  1.06021  1.07892\n",
       "3  2025-03-06  1.07866  1.08534  1.07656  1.07838\n",
       "4  2025-03-07  1.07823  1.08889  1.07789  1.08321\n",
       "5  2025-03-10  1.08325  1.08747  1.08050  1.08354\n",
       "6  2025-03-11  1.08330  1.09474  1.08260  1.09193\n",
       "7  2025-03-12  1.09180  1.09301  1.08757  1.08871\n",
       "8  2025-03-13  1.08870  1.08973  1.08225  1.08514\n",
       "9  2025-03-14  1.08503  1.09128  1.08307  1.08802\n",
       "10 2025-03-17  1.08771  1.09297  1.08686  1.09214\n",
       "11 2025-03-18  1.09218  1.09547  1.08925  1.09447\n",
       "12 2025-03-19  1.09439  1.09461  1.08606  1.09025\n",
       "13 2025-03-20  1.09010  1.09176  1.08147  1.08533\n",
       "14 2025-03-21  1.08494  1.08613  1.07973  1.08124\n",
       "15 2025-03-24  1.08127  1.08584  1.07817  1.08008\n",
       "16 2025-03-25  1.08003  1.08302  1.07771  1.07913\n",
       "17 2025-03-26  1.07901  1.08028  1.07435  1.07525\n",
       "18 2025-03-27  1.07539  1.08212  1.07330  1.08018\n",
       "19 2025-03-28  1.08011  1.08448  1.07645  1.08306\n",
       "20 2025-03-31  1.08225  1.08494  1.07840  1.08149\n",
       "21 2025-04-01  1.08152  1.08301  1.07783  1.07924\n",
       "22 2025-04-02  1.07933  1.09241  1.07802  1.08603\n",
       "23 2025-04-03  1.08510  1.11459  1.08052  1.10511\n",
       "24 2025-04-04  1.10518  1.11078  1.09246  1.09636\n",
       "25 2025-04-07  1.08936  1.10500  1.08800  1.09053\n",
       "26 2025-04-08  1.09066  1.09918  1.08883  1.09578\n",
       "27 2025-04-09  1.09527  1.10951  1.09132  1.09474\n",
       "28 2025-04-10  1.09483  1.12416  1.09429  1.12017\n",
       "29 2025-04-11  1.11929  1.14736  1.11818  1.13552\n",
       "30 2025-04-14  1.13140  1.14246  1.12960  1.13496\n",
       "31 2025-04-15  1.13500  1.13789  1.12642  1.12813\n",
       "32 2025-04-16  1.12781  1.14128  1.12781  1.13985\n",
       "33 2025-04-17  1.13986  1.14093  1.13353  1.13634\n",
       "34 2025-04-18  1.13616  1.13975  1.13586  1.13929\n",
       "35 2025-04-21  1.13928  1.15733  1.13799  1.15129\n",
       "36 2025-04-22  1.15139  1.15474  1.14175  1.14206\n",
       "37 2025-04-23  1.14207  1.14399  1.13081  1.13145\n",
       "38 2025-04-24  1.13114  1.13979  1.13095  1.13888\n",
       "39 2025-04-25  1.13852  1.13914  1.13160  1.13595\n",
       "40 2025-04-28  1.13721  1.14249  1.13294  1.14216\n",
       "41 2025-04-29  1.14197  1.14218  1.13702  1.13828\n",
       "42 2025-04-30  1.13840  1.13996  1.13173  1.13292\n",
       "43 2025-05-01  1.13279  1.13411  1.12659  1.12900\n",
       "44 2025-05-02  1.12888  1.13810  1.12743  1.12994"
      ]
     },
     "execution_count": 397,
     "metadata": {},
     "output_type": "execute_result"
    }
   ],
   "source": [
    "# daily df\n",
    "symbol = 'EURUSD'\n",
    "pos_size = 1\n",
    "timeframe = mt5.TIMEFRAME_D1\n",
    "daily_df = get_ohlc(symbol, timeframe, start_datetime, end_datetime)\n",
    "# Convert 'time' column to full timestamp\n",
    "#daily_df['time'] = pd.to_datetime(daily_df['time']).dt.strftime('%Y-%m-%d %H:%M:%S')\n",
    "#daily_df['time'] = pd.to_datetime(daily_df['time'], unit= 's').dt.strftime('%Y-%m-%d %H:%M:%S')\n",
    "daily_df"
   ]
  },
  {
   "cell_type": "code",
   "execution_count": 398,
   "metadata": {},
   "outputs": [
    {
     "data": {
      "text/html": [
       "<div>\n",
       "<style scoped>\n",
       "    .dataframe tbody tr th:only-of-type {\n",
       "        vertical-align: middle;\n",
       "    }\n",
       "\n",
       "    .dataframe tbody tr th {\n",
       "        vertical-align: top;\n",
       "    }\n",
       "\n",
       "    .dataframe thead th {\n",
       "        text-align: right;\n",
       "    }\n",
       "</style>\n",
       "<table border=\"1\" class=\"dataframe\">\n",
       "  <thead>\n",
       "    <tr style=\"text-align: right;\">\n",
       "      <th></th>\n",
       "      <th>time</th>\n",
       "      <th>S2</th>\n",
       "      <th>R2</th>\n",
       "    </tr>\n",
       "  </thead>\n",
       "  <tbody>\n",
       "    <tr>\n",
       "      <th>35</th>\n",
       "      <td>2025-04-21</td>\n",
       "      <td>1.135896</td>\n",
       "      <td>1.140704</td>\n",
       "    </tr>\n",
       "    <tr>\n",
       "      <th>36</th>\n",
       "      <td>2025-04-22</td>\n",
       "      <td>1.136918</td>\n",
       "      <td>1.160822</td>\n",
       "    </tr>\n",
       "    <tr>\n",
       "      <th>37</th>\n",
       "      <td>2025-04-23</td>\n",
       "      <td>1.138156</td>\n",
       "      <td>1.154211</td>\n",
       "    </tr>\n",
       "    <tr>\n",
       "      <th>38</th>\n",
       "      <td>2025-04-24</td>\n",
       "      <td>1.127271</td>\n",
       "      <td>1.143562</td>\n",
       "    </tr>\n",
       "    <tr>\n",
       "      <th>39</th>\n",
       "      <td>2025-04-25</td>\n",
       "      <td>1.131077</td>\n",
       "      <td>1.142003</td>\n",
       "    </tr>\n",
       "    <tr>\n",
       "      <th>40</th>\n",
       "      <td>2025-04-28</td>\n",
       "      <td>1.130904</td>\n",
       "      <td>1.140223</td>\n",
       "    </tr>\n",
       "    <tr>\n",
       "      <th>41</th>\n",
       "      <td>2025-04-29</td>\n",
       "      <td>1.133295</td>\n",
       "      <td>1.145099</td>\n",
       "    </tr>\n",
       "    <tr>\n",
       "      <th>42</th>\n",
       "      <td>2025-04-30</td>\n",
       "      <td>1.135971</td>\n",
       "      <td>1.142349</td>\n",
       "    </tr>\n",
       "    <tr>\n",
       "      <th>43</th>\n",
       "      <td>2025-05-01</td>\n",
       "      <td>1.129784</td>\n",
       "      <td>1.139956</td>\n",
       "    </tr>\n",
       "    <tr>\n",
       "      <th>44</th>\n",
       "      <td>2025-05-02</td>\n",
       "      <td>1.125253</td>\n",
       "      <td>1.134547</td>\n",
       "    </tr>\n",
       "  </tbody>\n",
       "</table>\n",
       "</div>"
      ],
      "text/plain": [
       "         time        S2        R2\n",
       "35 2025-04-21  1.135896  1.140704\n",
       "36 2025-04-22  1.136918  1.160822\n",
       "37 2025-04-23  1.138156  1.154211\n",
       "38 2025-04-24  1.127271  1.143562\n",
       "39 2025-04-25  1.131077  1.142003\n",
       "40 2025-04-28  1.130904  1.140223\n",
       "41 2025-04-29  1.133295  1.145099\n",
       "42 2025-04-30  1.135971  1.142349\n",
       "43 2025-05-01  1.129784  1.139956\n",
       "44 2025-05-02  1.125253  1.134547"
      ]
     },
     "execution_count": 398,
     "metadata": {},
     "output_type": "execute_result"
    }
   ],
   "source": [
    "# Calculate Pivot Point, R1, R2, R3, stopeR4, S1, S2, S3, stopeS4 levels with Fibonacci \n",
    "daily_df[\"pivot\"] = ((daily_df[\"high\"] + daily_df[\"low\"] + daily_df[\"close\"]) / 3).shift(1)\n",
    "daily_df[\"prange\"] = (daily_df[\"high\"] - daily_df[\"low\"]).shift(1)\n",
    "daily_df[\"R1\"] = daily_df[\"pivot\"] + 0.382 * daily_df[\"prange\"]\n",
    "daily_df[\"R2\"] = daily_df[\"pivot\"] + 0.618 * daily_df[\"prange\"]\n",
    "daily_df[\"R3\"] = daily_df[\"pivot\"] + 1.000 * daily_df[\"prange\"]\n",
    "\n",
    "daily_df[\"S1\"] = daily_df[\"pivot\"] - 0.382 * daily_df[\"prange\"]\n",
    "daily_df[\"S2\"] = daily_df[\"pivot\"] - 0.618 * daily_df[\"prange\"]\n",
    "daily_df[\"S3\"] = daily_df[\"pivot\"] - 1.000 * daily_df[\"prange\"]\n",
    "daily_df[[\"time\",\"S2\",\"R2\"]].tail(10)\n"
   ]
  },
  {
   "cell_type": "code",
   "execution_count": 399,
   "metadata": {},
   "outputs": [
    {
     "data": {
      "text/html": [
       "<div>\n",
       "<style scoped>\n",
       "    .dataframe tbody tr th:only-of-type {\n",
       "        vertical-align: middle;\n",
       "    }\n",
       "\n",
       "    .dataframe tbody tr th {\n",
       "        vertical-align: top;\n",
       "    }\n",
       "\n",
       "    .dataframe thead th {\n",
       "        text-align: right;\n",
       "    }\n",
       "</style>\n",
       "<table border=\"1\" class=\"dataframe\">\n",
       "  <thead>\n",
       "    <tr style=\"text-align: right;\">\n",
       "      <th></th>\n",
       "      <th>time</th>\n",
       "      <th>open</th>\n",
       "      <th>high</th>\n",
       "      <th>low</th>\n",
       "      <th>close</th>\n",
       "      <th>ohlc4</th>\n",
       "      <th>sma_1</th>\n",
       "      <th>prev_sma_1</th>\n",
       "      <th>sma_14</th>\n",
       "    </tr>\n",
       "  </thead>\n",
       "  <tbody>\n",
       "    <tr>\n",
       "      <th>0</th>\n",
       "      <td>2025-03-03 00:00:00</td>\n",
       "      <td>1.03925</td>\n",
       "      <td>1.04232</td>\n",
       "      <td>1.03907</td>\n",
       "      <td>1.04199</td>\n",
       "      <td>1.040658</td>\n",
       "      <td>1.040658</td>\n",
       "      <td>NaN</td>\n",
       "      <td>NaN</td>\n",
       "    </tr>\n",
       "    <tr>\n",
       "      <th>1</th>\n",
       "      <td>2025-03-03 04:00:00</td>\n",
       "      <td>1.04199</td>\n",
       "      <td>1.04234</td>\n",
       "      <td>1.04100</td>\n",
       "      <td>1.04144</td>\n",
       "      <td>1.041692</td>\n",
       "      <td>1.041692</td>\n",
       "      <td>1.040658</td>\n",
       "      <td>NaN</td>\n",
       "    </tr>\n",
       "    <tr>\n",
       "      <th>2</th>\n",
       "      <td>2025-03-03 08:00:00</td>\n",
       "      <td>1.04144</td>\n",
       "      <td>1.04290</td>\n",
       "      <td>1.03887</td>\n",
       "      <td>1.04273</td>\n",
       "      <td>1.041485</td>\n",
       "      <td>1.041485</td>\n",
       "      <td>1.041692</td>\n",
       "      <td>NaN</td>\n",
       "    </tr>\n",
       "    <tr>\n",
       "      <th>3</th>\n",
       "      <td>2025-03-03 12:00:00</td>\n",
       "      <td>1.04275</td>\n",
       "      <td>1.04764</td>\n",
       "      <td>1.04273</td>\n",
       "      <td>1.04721</td>\n",
       "      <td>1.045082</td>\n",
       "      <td>1.045082</td>\n",
       "      <td>1.041485</td>\n",
       "      <td>NaN</td>\n",
       "    </tr>\n",
       "    <tr>\n",
       "      <th>4</th>\n",
       "      <td>2025-03-03 16:00:00</td>\n",
       "      <td>1.04721</td>\n",
       "      <td>1.05038</td>\n",
       "      <td>1.04688</td>\n",
       "      <td>1.04904</td>\n",
       "      <td>1.048377</td>\n",
       "      <td>1.048377</td>\n",
       "      <td>1.045082</td>\n",
       "      <td>NaN</td>\n",
       "    </tr>\n",
       "    <tr>\n",
       "      <th>...</th>\n",
       "      <td>...</td>\n",
       "      <td>...</td>\n",
       "      <td>...</td>\n",
       "      <td>...</td>\n",
       "      <td>...</td>\n",
       "      <td>...</td>\n",
       "      <td>...</td>\n",
       "      <td>...</td>\n",
       "      <td>...</td>\n",
       "    </tr>\n",
       "    <tr>\n",
       "      <th>265</th>\n",
       "      <td>2025-05-02 04:00:00</td>\n",
       "      <td>1.12823</td>\n",
       "      <td>1.13157</td>\n",
       "      <td>1.12786</td>\n",
       "      <td>1.13044</td>\n",
       "      <td>1.129525</td>\n",
       "      <td>1.129525</td>\n",
       "      <td>1.128623</td>\n",
       "      <td>1.133181</td>\n",
       "    </tr>\n",
       "    <tr>\n",
       "      <th>266</th>\n",
       "      <td>2025-05-02 08:00:00</td>\n",
       "      <td>1.13044</td>\n",
       "      <td>1.13379</td>\n",
       "      <td>1.13025</td>\n",
       "      <td>1.13324</td>\n",
       "      <td>1.131930</td>\n",
       "      <td>1.131930</td>\n",
       "      <td>1.129525</td>\n",
       "      <td>1.132712</td>\n",
       "    </tr>\n",
       "    <tr>\n",
       "      <th>267</th>\n",
       "      <td>2025-05-02 12:00:00</td>\n",
       "      <td>1.13330</td>\n",
       "      <td>1.13551</td>\n",
       "      <td>1.13047</td>\n",
       "      <td>1.13190</td>\n",
       "      <td>1.132795</td>\n",
       "      <td>1.132795</td>\n",
       "      <td>1.131930</td>\n",
       "      <td>1.132380</td>\n",
       "    </tr>\n",
       "    <tr>\n",
       "      <th>268</th>\n",
       "      <td>2025-05-02 16:00:00</td>\n",
       "      <td>1.13190</td>\n",
       "      <td>1.13810</td>\n",
       "      <td>1.13149</td>\n",
       "      <td>1.13199</td>\n",
       "      <td>1.133370</td>\n",
       "      <td>1.133370</td>\n",
       "      <td>1.132795</td>\n",
       "      <td>1.132073</td>\n",
       "    </tr>\n",
       "    <tr>\n",
       "      <th>269</th>\n",
       "      <td>2025-05-02 20:00:00</td>\n",
       "      <td>1.13199</td>\n",
       "      <td>1.13204</td>\n",
       "      <td>1.12926</td>\n",
       "      <td>1.12994</td>\n",
       "      <td>1.130807</td>\n",
       "      <td>1.130807</td>\n",
       "      <td>1.133370</td>\n",
       "      <td>1.131611</td>\n",
       "    </tr>\n",
       "  </tbody>\n",
       "</table>\n",
       "<p>270 rows × 9 columns</p>\n",
       "</div>"
      ],
      "text/plain": [
       "                   time     open     high      low    close     ohlc4  \\\n",
       "0   2025-03-03 00:00:00  1.03925  1.04232  1.03907  1.04199  1.040658   \n",
       "1   2025-03-03 04:00:00  1.04199  1.04234  1.04100  1.04144  1.041692   \n",
       "2   2025-03-03 08:00:00  1.04144  1.04290  1.03887  1.04273  1.041485   \n",
       "3   2025-03-03 12:00:00  1.04275  1.04764  1.04273  1.04721  1.045082   \n",
       "4   2025-03-03 16:00:00  1.04721  1.05038  1.04688  1.04904  1.048377   \n",
       "..                  ...      ...      ...      ...      ...       ...   \n",
       "265 2025-05-02 04:00:00  1.12823  1.13157  1.12786  1.13044  1.129525   \n",
       "266 2025-05-02 08:00:00  1.13044  1.13379  1.13025  1.13324  1.131930   \n",
       "267 2025-05-02 12:00:00  1.13330  1.13551  1.13047  1.13190  1.132795   \n",
       "268 2025-05-02 16:00:00  1.13190  1.13810  1.13149  1.13199  1.133370   \n",
       "269 2025-05-02 20:00:00  1.13199  1.13204  1.12926  1.12994  1.130807   \n",
       "\n",
       "        sma_1  prev_sma_1    sma_14  \n",
       "0    1.040658         NaN       NaN  \n",
       "1    1.041692    1.040658       NaN  \n",
       "2    1.041485    1.041692       NaN  \n",
       "3    1.045082    1.041485       NaN  \n",
       "4    1.048377    1.045082       NaN  \n",
       "..        ...         ...       ...  \n",
       "265  1.129525    1.128623  1.133181  \n",
       "266  1.131930    1.129525  1.132712  \n",
       "267  1.132795    1.131930  1.132380  \n",
       "268  1.133370    1.132795  1.132073  \n",
       "269  1.130807    1.133370  1.131611  \n",
       "\n",
       "[270 rows x 9 columns]"
      ]
     },
     "execution_count": 399,
     "metadata": {},
     "output_type": "execute_result"
    }
   ],
   "source": [
    "#setting the sma 1 and 14 periods\n",
    "furst_sma_period = 1\n",
    "second_sma_period = 14\n",
    "#ohlc4\n",
    "hourly_df['ohlc4'] = (hourly_df['open'] + hourly_df['high'] + hourly_df['low'] + hourly_df['close']) / 4\n",
    "\n",
    "# sma 1\n",
    "hourly_df['sma_1'] = hourly_df['ohlc4'].rolling(furst_sma_period).mean()\n",
    "hourly_df['prev_sma_1'] = hourly_df['sma_1'].shift(1) #to find crossovers, previous sma value is necessary using shift()\n",
    "# sma 14\n",
    "hourly_df['sma_14'] = hourly_df['ohlc4'].rolling(second_sma_period).mean()\n",
    "hourly_df"
   ]
  },
  {
   "cell_type": "code",
   "execution_count": 400,
   "metadata": {},
   "outputs": [
    {
     "data": {
      "text/html": [
       "<div>\n",
       "<style scoped>\n",
       "    .dataframe tbody tr th:only-of-type {\n",
       "        vertical-align: middle;\n",
       "    }\n",
       "\n",
       "    .dataframe tbody tr th {\n",
       "        vertical-align: top;\n",
       "    }\n",
       "\n",
       "    .dataframe thead th {\n",
       "        text-align: right;\n",
       "    }\n",
       "</style>\n",
       "<table border=\"1\" class=\"dataframe\">\n",
       "  <thead>\n",
       "    <tr style=\"text-align: right;\">\n",
       "      <th></th>\n",
       "      <th>time</th>\n",
       "      <th>sma_11</th>\n",
       "      <th>sma_114</th>\n",
       "      <th>prev_sma_11</th>\n",
       "    </tr>\n",
       "  </thead>\n",
       "  <tbody>\n",
       "    <tr>\n",
       "      <th>0</th>\n",
       "      <td>2025-03-03</td>\n",
       "      <td>1.044320</td>\n",
       "      <td>NaN</td>\n",
       "      <td>NaN</td>\n",
       "    </tr>\n",
       "    <tr>\n",
       "      <th>1</th>\n",
       "      <td>2025-03-04</td>\n",
       "      <td>1.055233</td>\n",
       "      <td>NaN</td>\n",
       "      <td>1.044320</td>\n",
       "    </tr>\n",
       "    <tr>\n",
       "      <th>2</th>\n",
       "      <td>2025-03-05</td>\n",
       "      <td>1.070335</td>\n",
       "      <td>NaN</td>\n",
       "      <td>1.055233</td>\n",
       "    </tr>\n",
       "    <tr>\n",
       "      <th>3</th>\n",
       "      <td>2025-03-06</td>\n",
       "      <td>1.079735</td>\n",
       "      <td>NaN</td>\n",
       "      <td>1.070335</td>\n",
       "    </tr>\n",
       "    <tr>\n",
       "      <th>4</th>\n",
       "      <td>2025-03-07</td>\n",
       "      <td>1.082055</td>\n",
       "      <td>NaN</td>\n",
       "      <td>1.079735</td>\n",
       "    </tr>\n",
       "    <tr>\n",
       "      <th>5</th>\n",
       "      <td>2025-03-10</td>\n",
       "      <td>1.083690</td>\n",
       "      <td>NaN</td>\n",
       "      <td>1.082055</td>\n",
       "    </tr>\n",
       "    <tr>\n",
       "      <th>6</th>\n",
       "      <td>2025-03-11</td>\n",
       "      <td>1.088143</td>\n",
       "      <td>NaN</td>\n",
       "      <td>1.083690</td>\n",
       "    </tr>\n",
       "    <tr>\n",
       "      <th>7</th>\n",
       "      <td>2025-03-12</td>\n",
       "      <td>1.090272</td>\n",
       "      <td>NaN</td>\n",
       "      <td>1.088143</td>\n",
       "    </tr>\n",
       "    <tr>\n",
       "      <th>8</th>\n",
       "      <td>2025-03-13</td>\n",
       "      <td>1.086455</td>\n",
       "      <td>NaN</td>\n",
       "      <td>1.090272</td>\n",
       "    </tr>\n",
       "    <tr>\n",
       "      <th>9</th>\n",
       "      <td>2025-03-14</td>\n",
       "      <td>1.086850</td>\n",
       "      <td>NaN</td>\n",
       "      <td>1.086455</td>\n",
       "    </tr>\n",
       "    <tr>\n",
       "      <th>10</th>\n",
       "      <td>2025-03-17</td>\n",
       "      <td>1.089920</td>\n",
       "      <td>NaN</td>\n",
       "      <td>1.086850</td>\n",
       "    </tr>\n",
       "    <tr>\n",
       "      <th>11</th>\n",
       "      <td>2025-03-18</td>\n",
       "      <td>1.092842</td>\n",
       "      <td>NaN</td>\n",
       "      <td>1.089920</td>\n",
       "    </tr>\n",
       "    <tr>\n",
       "      <th>12</th>\n",
       "      <td>2025-03-19</td>\n",
       "      <td>1.091328</td>\n",
       "      <td>NaN</td>\n",
       "      <td>1.092842</td>\n",
       "    </tr>\n",
       "    <tr>\n",
       "      <th>13</th>\n",
       "      <td>2025-03-20</td>\n",
       "      <td>1.087165</td>\n",
       "      <td>1.080596</td>\n",
       "      <td>1.091328</td>\n",
       "    </tr>\n",
       "    <tr>\n",
       "      <th>14</th>\n",
       "      <td>2025-03-21</td>\n",
       "      <td>1.083010</td>\n",
       "      <td>1.083359</td>\n",
       "      <td>1.087165</td>\n",
       "    </tr>\n",
       "    <tr>\n",
       "      <th>15</th>\n",
       "      <td>2025-03-24</td>\n",
       "      <td>1.081340</td>\n",
       "      <td>1.085224</td>\n",
       "      <td>1.083010</td>\n",
       "    </tr>\n",
       "    <tr>\n",
       "      <th>16</th>\n",
       "      <td>2025-03-25</td>\n",
       "      <td>1.079973</td>\n",
       "      <td>1.085913</td>\n",
       "      <td>1.081340</td>\n",
       "    </tr>\n",
       "    <tr>\n",
       "      <th>17</th>\n",
       "      <td>2025-03-26</td>\n",
       "      <td>1.077222</td>\n",
       "      <td>1.085733</td>\n",
       "      <td>1.079973</td>\n",
       "    </tr>\n",
       "    <tr>\n",
       "      <th>18</th>\n",
       "      <td>2025-03-27</td>\n",
       "      <td>1.077748</td>\n",
       "      <td>1.085426</td>\n",
       "      <td>1.077222</td>\n",
       "    </tr>\n",
       "    <tr>\n",
       "      <th>19</th>\n",
       "      <td>2025-03-28</td>\n",
       "      <td>1.081025</td>\n",
       "      <td>1.085235</td>\n",
       "      <td>1.077748</td>\n",
       "    </tr>\n",
       "    <tr>\n",
       "      <th>20</th>\n",
       "      <td>2025-03-31</td>\n",
       "      <td>1.081770</td>\n",
       "      <td>1.084780</td>\n",
       "      <td>1.081025</td>\n",
       "    </tr>\n",
       "    <tr>\n",
       "      <th>21</th>\n",
       "      <td>2025-04-01</td>\n",
       "      <td>1.080400</td>\n",
       "      <td>1.084075</td>\n",
       "      <td>1.081770</td>\n",
       "    </tr>\n",
       "    <tr>\n",
       "      <th>22</th>\n",
       "      <td>2025-04-02</td>\n",
       "      <td>1.083947</td>\n",
       "      <td>1.083896</td>\n",
       "      <td>1.080400</td>\n",
       "    </tr>\n",
       "    <tr>\n",
       "      <th>23</th>\n",
       "      <td>2025-04-03</td>\n",
       "      <td>1.096330</td>\n",
       "      <td>1.084573</td>\n",
       "      <td>1.083947</td>\n",
       "    </tr>\n",
       "    <tr>\n",
       "      <th>24</th>\n",
       "      <td>2025-04-04</td>\n",
       "      <td>1.101195</td>\n",
       "      <td>1.085378</td>\n",
       "      <td>1.096330</td>\n",
       "    </tr>\n",
       "    <tr>\n",
       "      <th>25</th>\n",
       "      <td>2025-04-07</td>\n",
       "      <td>1.093222</td>\n",
       "      <td>1.085405</td>\n",
       "      <td>1.101195</td>\n",
       "    </tr>\n",
       "    <tr>\n",
       "      <th>26</th>\n",
       "      <td>2025-04-08</td>\n",
       "      <td>1.093612</td>\n",
       "      <td>1.085569</td>\n",
       "      <td>1.093222</td>\n",
       "    </tr>\n",
       "    <tr>\n",
       "      <th>27</th>\n",
       "      <td>2025-04-09</td>\n",
       "      <td>1.097710</td>\n",
       "      <td>1.086322</td>\n",
       "      <td>1.093612</td>\n",
       "    </tr>\n",
       "    <tr>\n",
       "      <th>28</th>\n",
       "      <td>2025-04-10</td>\n",
       "      <td>1.108362</td>\n",
       "      <td>1.088133</td>\n",
       "      <td>1.097710</td>\n",
       "    </tr>\n",
       "    <tr>\n",
       "      <th>29</th>\n",
       "      <td>2025-04-11</td>\n",
       "      <td>1.130088</td>\n",
       "      <td>1.091615</td>\n",
       "      <td>1.108362</td>\n",
       "    </tr>\n",
       "    <tr>\n",
       "      <th>30</th>\n",
       "      <td>2025-04-14</td>\n",
       "      <td>1.134605</td>\n",
       "      <td>1.095517</td>\n",
       "      <td>1.130088</td>\n",
       "    </tr>\n",
       "    <tr>\n",
       "      <th>31</th>\n",
       "      <td>2025-04-15</td>\n",
       "      <td>1.131860</td>\n",
       "      <td>1.099420</td>\n",
       "      <td>1.134605</td>\n",
       "    </tr>\n",
       "    <tr>\n",
       "      <th>32</th>\n",
       "      <td>2025-04-16</td>\n",
       "      <td>1.134188</td>\n",
       "      <td>1.103451</td>\n",
       "      <td>1.131860</td>\n",
       "    </tr>\n",
       "    <tr>\n",
       "      <th>33</th>\n",
       "      <td>2025-04-17</td>\n",
       "      <td>1.137665</td>\n",
       "      <td>1.107497</td>\n",
       "      <td>1.134188</td>\n",
       "    </tr>\n",
       "    <tr>\n",
       "      <th>34</th>\n",
       "      <td>2025-04-18</td>\n",
       "      <td>1.137765</td>\n",
       "      <td>1.111496</td>\n",
       "      <td>1.137665</td>\n",
       "    </tr>\n",
       "    <tr>\n",
       "      <th>35</th>\n",
       "      <td>2025-04-21</td>\n",
       "      <td>1.146473</td>\n",
       "      <td>1.116216</td>\n",
       "      <td>1.137765</td>\n",
       "    </tr>\n",
       "    <tr>\n",
       "      <th>36</th>\n",
       "      <td>2025-04-22</td>\n",
       "      <td>1.147485</td>\n",
       "      <td>1.120754</td>\n",
       "      <td>1.146473</td>\n",
       "    </tr>\n",
       "    <tr>\n",
       "      <th>37</th>\n",
       "      <td>2025-04-23</td>\n",
       "      <td>1.137080</td>\n",
       "      <td>1.123665</td>\n",
       "      <td>1.147485</td>\n",
       "    </tr>\n",
       "    <tr>\n",
       "      <th>38</th>\n",
       "      <td>2025-04-24</td>\n",
       "      <td>1.135190</td>\n",
       "      <td>1.126093</td>\n",
       "      <td>1.137080</td>\n",
       "    </tr>\n",
       "    <tr>\n",
       "      <th>39</th>\n",
       "      <td>2025-04-25</td>\n",
       "      <td>1.136302</td>\n",
       "      <td>1.129170</td>\n",
       "      <td>1.135190</td>\n",
       "    </tr>\n",
       "    <tr>\n",
       "      <th>40</th>\n",
       "      <td>2025-04-28</td>\n",
       "      <td>1.138700</td>\n",
       "      <td>1.132391</td>\n",
       "      <td>1.136302</td>\n",
       "    </tr>\n",
       "    <tr>\n",
       "      <th>41</th>\n",
       "      <td>2025-04-29</td>\n",
       "      <td>1.139863</td>\n",
       "      <td>1.135402</td>\n",
       "      <td>1.138700</td>\n",
       "    </tr>\n",
       "    <tr>\n",
       "      <th>42</th>\n",
       "      <td>2025-04-30</td>\n",
       "      <td>1.135753</td>\n",
       "      <td>1.137358</td>\n",
       "      <td>1.139863</td>\n",
       "    </tr>\n",
       "    <tr>\n",
       "      <th>43</th>\n",
       "      <td>2025-05-01</td>\n",
       "      <td>1.130622</td>\n",
       "      <td>1.137396</td>\n",
       "      <td>1.135753</td>\n",
       "    </tr>\n",
       "    <tr>\n",
       "      <th>44</th>\n",
       "      <td>2025-05-02</td>\n",
       "      <td>1.131088</td>\n",
       "      <td>1.137145</td>\n",
       "      <td>1.130622</td>\n",
       "    </tr>\n",
       "  </tbody>\n",
       "</table>\n",
       "</div>"
      ],
      "text/plain": [
       "         time    sma_11   sma_114  prev_sma_11\n",
       "0  2025-03-03  1.044320       NaN          NaN\n",
       "1  2025-03-04  1.055233       NaN     1.044320\n",
       "2  2025-03-05  1.070335       NaN     1.055233\n",
       "3  2025-03-06  1.079735       NaN     1.070335\n",
       "4  2025-03-07  1.082055       NaN     1.079735\n",
       "5  2025-03-10  1.083690       NaN     1.082055\n",
       "6  2025-03-11  1.088143       NaN     1.083690\n",
       "7  2025-03-12  1.090272       NaN     1.088143\n",
       "8  2025-03-13  1.086455       NaN     1.090272\n",
       "9  2025-03-14  1.086850       NaN     1.086455\n",
       "10 2025-03-17  1.089920       NaN     1.086850\n",
       "11 2025-03-18  1.092842       NaN     1.089920\n",
       "12 2025-03-19  1.091328       NaN     1.092842\n",
       "13 2025-03-20  1.087165  1.080596     1.091328\n",
       "14 2025-03-21  1.083010  1.083359     1.087165\n",
       "15 2025-03-24  1.081340  1.085224     1.083010\n",
       "16 2025-03-25  1.079973  1.085913     1.081340\n",
       "17 2025-03-26  1.077222  1.085733     1.079973\n",
       "18 2025-03-27  1.077748  1.085426     1.077222\n",
       "19 2025-03-28  1.081025  1.085235     1.077748\n",
       "20 2025-03-31  1.081770  1.084780     1.081025\n",
       "21 2025-04-01  1.080400  1.084075     1.081770\n",
       "22 2025-04-02  1.083947  1.083896     1.080400\n",
       "23 2025-04-03  1.096330  1.084573     1.083947\n",
       "24 2025-04-04  1.101195  1.085378     1.096330\n",
       "25 2025-04-07  1.093222  1.085405     1.101195\n",
       "26 2025-04-08  1.093612  1.085569     1.093222\n",
       "27 2025-04-09  1.097710  1.086322     1.093612\n",
       "28 2025-04-10  1.108362  1.088133     1.097710\n",
       "29 2025-04-11  1.130088  1.091615     1.108362\n",
       "30 2025-04-14  1.134605  1.095517     1.130088\n",
       "31 2025-04-15  1.131860  1.099420     1.134605\n",
       "32 2025-04-16  1.134188  1.103451     1.131860\n",
       "33 2025-04-17  1.137665  1.107497     1.134188\n",
       "34 2025-04-18  1.137765  1.111496     1.137665\n",
       "35 2025-04-21  1.146473  1.116216     1.137765\n",
       "36 2025-04-22  1.147485  1.120754     1.146473\n",
       "37 2025-04-23  1.137080  1.123665     1.147485\n",
       "38 2025-04-24  1.135190  1.126093     1.137080\n",
       "39 2025-04-25  1.136302  1.129170     1.135190\n",
       "40 2025-04-28  1.138700  1.132391     1.136302\n",
       "41 2025-04-29  1.139863  1.135402     1.138700\n",
       "42 2025-04-30  1.135753  1.137358     1.139863\n",
       "43 2025-05-01  1.130622  1.137396     1.135753\n",
       "44 2025-05-02  1.131088  1.137145     1.130622"
      ]
     },
     "execution_count": 400,
     "metadata": {},
     "output_type": "execute_result"
    }
   ],
   "source": [
    "#setting the 11 and 114 sma periods\n",
    "thurd_sma_period = 1\n",
    "fourth_sma_period = 14\n",
    "#ohlc4\n",
    "daily_df['ohlc4'] = (daily_df['open'] + daily_df['high'] + daily_df['low'] + daily_df['close']) / 4\n",
    "# sma 11\n",
    "daily_df['sma_11'] = daily_df['ohlc4'].rolling(thurd_sma_period).mean()\n",
    "daily_df['prev_sma_11'] = daily_df['sma_11'].shift(1) #to find crossovers, previous sma value is necessary using shift()\n",
    "# sma 114\n",
    "daily_df['sma_114'] = daily_df['ohlc4'].rolling(fourth_sma_period).mean()\n",
    "daily_df[[\"time\",\"sma_11\",\"sma_114\",\"prev_sma_11\"]]"
   ]
  },
  {
   "cell_type": "code",
   "execution_count": 401,
   "metadata": {},
   "outputs": [
    {
     "data": {
      "text/html": [
       "<div>\n",
       "<style scoped>\n",
       "    .dataframe tbody tr th:only-of-type {\n",
       "        vertical-align: middle;\n",
       "    }\n",
       "\n",
       "    .dataframe tbody tr th {\n",
       "        vertical-align: top;\n",
       "    }\n",
       "\n",
       "    .dataframe thead th {\n",
       "        text-align: right;\n",
       "    }\n",
       "</style>\n",
       "<table border=\"1\" class=\"dataframe\">\n",
       "  <thead>\n",
       "    <tr style=\"text-align: right;\">\n",
       "      <th></th>\n",
       "      <th>time</th>\n",
       "      <th>open</th>\n",
       "      <th>high</th>\n",
       "      <th>low</th>\n",
       "      <th>close</th>\n",
       "      <th>pivot</th>\n",
       "      <th>prange</th>\n",
       "      <th>R1</th>\n",
       "      <th>R2</th>\n",
       "      <th>R3</th>\n",
       "      <th>...</th>\n",
       "      <th>S2</th>\n",
       "      <th>S3</th>\n",
       "      <th>ohlc4</th>\n",
       "      <th>sma_11</th>\n",
       "      <th>prev_sma_11</th>\n",
       "      <th>sma_114</th>\n",
       "      <th>sell_stope_loss</th>\n",
       "      <th>buy_stope_loss</th>\n",
       "      <th>sell_profit</th>\n",
       "      <th>buy_profit</th>\n",
       "    </tr>\n",
       "  </thead>\n",
       "  <tbody>\n",
       "    <tr>\n",
       "      <th>0</th>\n",
       "      <td>2025-03-03</td>\n",
       "      <td>1.03925</td>\n",
       "      <td>1.05038</td>\n",
       "      <td>1.03887</td>\n",
       "      <td>1.04878</td>\n",
       "      <td>NaN</td>\n",
       "      <td>NaN</td>\n",
       "      <td>NaN</td>\n",
       "      <td>NaN</td>\n",
       "      <td>NaN</td>\n",
       "      <td>...</td>\n",
       "      <td>NaN</td>\n",
       "      <td>NaN</td>\n",
       "      <td>1.044320</td>\n",
       "      <td>1.044320</td>\n",
       "      <td>NaN</td>\n",
       "      <td>NaN</td>\n",
       "      <td>NaN</td>\n",
       "      <td>NaN</td>\n",
       "      <td>False</td>\n",
       "      <td>False</td>\n",
       "    </tr>\n",
       "    <tr>\n",
       "      <th>1</th>\n",
       "      <td>2025-03-04</td>\n",
       "      <td>1.04860</td>\n",
       "      <td>1.06270</td>\n",
       "      <td>1.04712</td>\n",
       "      <td>1.06251</td>\n",
       "      <td>1.046010</td>\n",
       "      <td>0.01151</td>\n",
       "      <td>1.050407</td>\n",
       "      <td>1.053123</td>\n",
       "      <td>1.057520</td>\n",
       "      <td>...</td>\n",
       "      <td>1.038897</td>\n",
       "      <td>1.034500</td>\n",
       "      <td>1.055233</td>\n",
       "      <td>1.055233</td>\n",
       "      <td>1.044320</td>\n",
       "      <td>NaN</td>\n",
       "      <td>1.058878</td>\n",
       "      <td>1.033142</td>\n",
       "      <td>False</td>\n",
       "      <td>True</td>\n",
       "    </tr>\n",
       "    <tr>\n",
       "      <th>2</th>\n",
       "      <td>2025-03-05</td>\n",
       "      <td>1.06253</td>\n",
       "      <td>1.07968</td>\n",
       "      <td>1.06021</td>\n",
       "      <td>1.07892</td>\n",
       "      <td>1.057443</td>\n",
       "      <td>0.01558</td>\n",
       "      <td>1.063395</td>\n",
       "      <td>1.067072</td>\n",
       "      <td>1.073023</td>\n",
       "      <td>...</td>\n",
       "      <td>1.047815</td>\n",
       "      <td>1.041863</td>\n",
       "      <td>1.070335</td>\n",
       "      <td>1.070335</td>\n",
       "      <td>1.055233</td>\n",
       "      <td>NaN</td>\n",
       "      <td>1.074862</td>\n",
       "      <td>1.040025</td>\n",
       "      <td>False</td>\n",
       "      <td>True</td>\n",
       "    </tr>\n",
       "    <tr>\n",
       "      <th>3</th>\n",
       "      <td>2025-03-06</td>\n",
       "      <td>1.07866</td>\n",
       "      <td>1.08534</td>\n",
       "      <td>1.07656</td>\n",
       "      <td>1.07838</td>\n",
       "      <td>1.072937</td>\n",
       "      <td>0.01947</td>\n",
       "      <td>1.080374</td>\n",
       "      <td>1.084969</td>\n",
       "      <td>1.092407</td>\n",
       "      <td>...</td>\n",
       "      <td>1.060904</td>\n",
       "      <td>1.053467</td>\n",
       "      <td>1.079735</td>\n",
       "      <td>1.079735</td>\n",
       "      <td>1.070335</td>\n",
       "      <td>NaN</td>\n",
       "      <td>1.094704</td>\n",
       "      <td>1.051169</td>\n",
       "      <td>False</td>\n",
       "      <td>True</td>\n",
       "    </tr>\n",
       "    <tr>\n",
       "      <th>4</th>\n",
       "      <td>2025-03-07</td>\n",
       "      <td>1.07823</td>\n",
       "      <td>1.08889</td>\n",
       "      <td>1.07789</td>\n",
       "      <td>1.08321</td>\n",
       "      <td>1.080093</td>\n",
       "      <td>0.00878</td>\n",
       "      <td>1.083447</td>\n",
       "      <td>1.085519</td>\n",
       "      <td>1.088873</td>\n",
       "      <td>...</td>\n",
       "      <td>1.074667</td>\n",
       "      <td>1.071313</td>\n",
       "      <td>1.082055</td>\n",
       "      <td>1.082055</td>\n",
       "      <td>1.079735</td>\n",
       "      <td>NaN</td>\n",
       "      <td>1.089909</td>\n",
       "      <td>1.070277</td>\n",
       "      <td>False</td>\n",
       "      <td>True</td>\n",
       "    </tr>\n",
       "    <tr>\n",
       "      <th>5</th>\n",
       "      <td>2025-03-10</td>\n",
       "      <td>1.08325</td>\n",
       "      <td>1.08747</td>\n",
       "      <td>1.08050</td>\n",
       "      <td>1.08354</td>\n",
       "      <td>1.083330</td>\n",
       "      <td>0.01100</td>\n",
       "      <td>1.087532</td>\n",
       "      <td>1.090128</td>\n",
       "      <td>1.094330</td>\n",
       "      <td>...</td>\n",
       "      <td>1.076532</td>\n",
       "      <td>1.072330</td>\n",
       "      <td>1.083690</td>\n",
       "      <td>1.083690</td>\n",
       "      <td>1.082055</td>\n",
       "      <td>NaN</td>\n",
       "      <td>1.095628</td>\n",
       "      <td>1.071032</td>\n",
       "      <td>False</td>\n",
       "      <td>False</td>\n",
       "    </tr>\n",
       "    <tr>\n",
       "      <th>6</th>\n",
       "      <td>2025-03-11</td>\n",
       "      <td>1.08330</td>\n",
       "      <td>1.09474</td>\n",
       "      <td>1.08260</td>\n",
       "      <td>1.09193</td>\n",
       "      <td>1.083837</td>\n",
       "      <td>0.00697</td>\n",
       "      <td>1.086499</td>\n",
       "      <td>1.088144</td>\n",
       "      <td>1.090807</td>\n",
       "      <td>...</td>\n",
       "      <td>1.079529</td>\n",
       "      <td>1.076867</td>\n",
       "      <td>1.088143</td>\n",
       "      <td>1.088143</td>\n",
       "      <td>1.083690</td>\n",
       "      <td>NaN</td>\n",
       "      <td>1.091629</td>\n",
       "      <td>1.076044</td>\n",
       "      <td>False</td>\n",
       "      <td>True</td>\n",
       "    </tr>\n",
       "    <tr>\n",
       "      <th>7</th>\n",
       "      <td>2025-03-12</td>\n",
       "      <td>1.09180</td>\n",
       "      <td>1.09301</td>\n",
       "      <td>1.08757</td>\n",
       "      <td>1.08871</td>\n",
       "      <td>1.089757</td>\n",
       "      <td>0.01214</td>\n",
       "      <td>1.094394</td>\n",
       "      <td>1.097259</td>\n",
       "      <td>1.101897</td>\n",
       "      <td>...</td>\n",
       "      <td>1.082254</td>\n",
       "      <td>1.077617</td>\n",
       "      <td>1.090272</td>\n",
       "      <td>1.090272</td>\n",
       "      <td>1.088143</td>\n",
       "      <td>NaN</td>\n",
       "      <td>1.103329</td>\n",
       "      <td>1.076184</td>\n",
       "      <td>False</td>\n",
       "      <td>False</td>\n",
       "    </tr>\n",
       "    <tr>\n",
       "      <th>8</th>\n",
       "      <td>2025-03-13</td>\n",
       "      <td>1.08870</td>\n",
       "      <td>1.08973</td>\n",
       "      <td>1.08225</td>\n",
       "      <td>1.08514</td>\n",
       "      <td>1.089763</td>\n",
       "      <td>0.00544</td>\n",
       "      <td>1.091841</td>\n",
       "      <td>1.093125</td>\n",
       "      <td>1.095203</td>\n",
       "      <td>...</td>\n",
       "      <td>1.086401</td>\n",
       "      <td>1.084323</td>\n",
       "      <td>1.086455</td>\n",
       "      <td>1.086455</td>\n",
       "      <td>1.090272</td>\n",
       "      <td>NaN</td>\n",
       "      <td>1.095845</td>\n",
       "      <td>1.083681</td>\n",
       "      <td>True</td>\n",
       "      <td>False</td>\n",
       "    </tr>\n",
       "    <tr>\n",
       "      <th>9</th>\n",
       "      <td>2025-03-14</td>\n",
       "      <td>1.08503</td>\n",
       "      <td>1.09128</td>\n",
       "      <td>1.08307</td>\n",
       "      <td>1.08802</td>\n",
       "      <td>1.085707</td>\n",
       "      <td>0.00748</td>\n",
       "      <td>1.088564</td>\n",
       "      <td>1.090329</td>\n",
       "      <td>1.093187</td>\n",
       "      <td>...</td>\n",
       "      <td>1.081084</td>\n",
       "      <td>1.078227</td>\n",
       "      <td>1.086850</td>\n",
       "      <td>1.086850</td>\n",
       "      <td>1.086455</td>\n",
       "      <td>NaN</td>\n",
       "      <td>1.094069</td>\n",
       "      <td>1.077344</td>\n",
       "      <td>False</td>\n",
       "      <td>True</td>\n",
       "    </tr>\n",
       "    <tr>\n",
       "      <th>10</th>\n",
       "      <td>2025-03-17</td>\n",
       "      <td>1.08771</td>\n",
       "      <td>1.09297</td>\n",
       "      <td>1.08686</td>\n",
       "      <td>1.09214</td>\n",
       "      <td>1.087457</td>\n",
       "      <td>0.00821</td>\n",
       "      <td>1.090593</td>\n",
       "      <td>1.092530</td>\n",
       "      <td>1.095667</td>\n",
       "      <td>...</td>\n",
       "      <td>1.082383</td>\n",
       "      <td>1.079247</td>\n",
       "      <td>1.089920</td>\n",
       "      <td>1.089920</td>\n",
       "      <td>1.086850</td>\n",
       "      <td>NaN</td>\n",
       "      <td>1.096635</td>\n",
       "      <td>1.078278</td>\n",
       "      <td>False</td>\n",
       "      <td>True</td>\n",
       "    </tr>\n",
       "    <tr>\n",
       "      <th>11</th>\n",
       "      <td>2025-03-18</td>\n",
       "      <td>1.09218</td>\n",
       "      <td>1.09547</td>\n",
       "      <td>1.08925</td>\n",
       "      <td>1.09447</td>\n",
       "      <td>1.090657</td>\n",
       "      <td>0.00611</td>\n",
       "      <td>1.092991</td>\n",
       "      <td>1.094433</td>\n",
       "      <td>1.096767</td>\n",
       "      <td>...</td>\n",
       "      <td>1.086881</td>\n",
       "      <td>1.084547</td>\n",
       "      <td>1.092842</td>\n",
       "      <td>1.092842</td>\n",
       "      <td>1.089920</td>\n",
       "      <td>NaN</td>\n",
       "      <td>1.097488</td>\n",
       "      <td>1.083826</td>\n",
       "      <td>False</td>\n",
       "      <td>True</td>\n",
       "    </tr>\n",
       "    <tr>\n",
       "      <th>12</th>\n",
       "      <td>2025-03-19</td>\n",
       "      <td>1.09439</td>\n",
       "      <td>1.09461</td>\n",
       "      <td>1.08606</td>\n",
       "      <td>1.09025</td>\n",
       "      <td>1.093063</td>\n",
       "      <td>0.00622</td>\n",
       "      <td>1.095439</td>\n",
       "      <td>1.096907</td>\n",
       "      <td>1.099283</td>\n",
       "      <td>...</td>\n",
       "      <td>1.089219</td>\n",
       "      <td>1.086843</td>\n",
       "      <td>1.091328</td>\n",
       "      <td>1.091328</td>\n",
       "      <td>1.092842</td>\n",
       "      <td>NaN</td>\n",
       "      <td>1.100017</td>\n",
       "      <td>1.086109</td>\n",
       "      <td>True</td>\n",
       "      <td>False</td>\n",
       "    </tr>\n",
       "    <tr>\n",
       "      <th>13</th>\n",
       "      <td>2025-03-20</td>\n",
       "      <td>1.09010</td>\n",
       "      <td>1.09176</td>\n",
       "      <td>1.08147</td>\n",
       "      <td>1.08533</td>\n",
       "      <td>1.090307</td>\n",
       "      <td>0.00855</td>\n",
       "      <td>1.093573</td>\n",
       "      <td>1.095591</td>\n",
       "      <td>1.098857</td>\n",
       "      <td>...</td>\n",
       "      <td>1.085023</td>\n",
       "      <td>1.081757</td>\n",
       "      <td>1.087165</td>\n",
       "      <td>1.087165</td>\n",
       "      <td>1.091328</td>\n",
       "      <td>1.080596</td>\n",
       "      <td>1.099866</td>\n",
       "      <td>1.080748</td>\n",
       "      <td>True</td>\n",
       "      <td>False</td>\n",
       "    </tr>\n",
       "    <tr>\n",
       "      <th>14</th>\n",
       "      <td>2025-03-21</td>\n",
       "      <td>1.08494</td>\n",
       "      <td>1.08613</td>\n",
       "      <td>1.07973</td>\n",
       "      <td>1.08124</td>\n",
       "      <td>1.086187</td>\n",
       "      <td>0.01029</td>\n",
       "      <td>1.090117</td>\n",
       "      <td>1.092546</td>\n",
       "      <td>1.096477</td>\n",
       "      <td>...</td>\n",
       "      <td>1.079827</td>\n",
       "      <td>1.075897</td>\n",
       "      <td>1.083010</td>\n",
       "      <td>1.083010</td>\n",
       "      <td>1.087165</td>\n",
       "      <td>1.083359</td>\n",
       "      <td>1.097691</td>\n",
       "      <td>1.074682</td>\n",
       "      <td>True</td>\n",
       "      <td>False</td>\n",
       "    </tr>\n",
       "    <tr>\n",
       "      <th>15</th>\n",
       "      <td>2025-03-24</td>\n",
       "      <td>1.08127</td>\n",
       "      <td>1.08584</td>\n",
       "      <td>1.07817</td>\n",
       "      <td>1.08008</td>\n",
       "      <td>1.082367</td>\n",
       "      <td>0.00640</td>\n",
       "      <td>1.084811</td>\n",
       "      <td>1.086322</td>\n",
       "      <td>1.088767</td>\n",
       "      <td>...</td>\n",
       "      <td>1.078411</td>\n",
       "      <td>1.075967</td>\n",
       "      <td>1.081340</td>\n",
       "      <td>1.081340</td>\n",
       "      <td>1.083010</td>\n",
       "      <td>1.085224</td>\n",
       "      <td>1.089522</td>\n",
       "      <td>1.075211</td>\n",
       "      <td>True</td>\n",
       "      <td>True</td>\n",
       "    </tr>\n",
       "    <tr>\n",
       "      <th>16</th>\n",
       "      <td>2025-03-25</td>\n",
       "      <td>1.08003</td>\n",
       "      <td>1.08302</td>\n",
       "      <td>1.07771</td>\n",
       "      <td>1.07913</td>\n",
       "      <td>1.081363</td>\n",
       "      <td>0.00767</td>\n",
       "      <td>1.084293</td>\n",
       "      <td>1.086103</td>\n",
       "      <td>1.089033</td>\n",
       "      <td>...</td>\n",
       "      <td>1.076623</td>\n",
       "      <td>1.073693</td>\n",
       "      <td>1.079973</td>\n",
       "      <td>1.079973</td>\n",
       "      <td>1.081340</td>\n",
       "      <td>1.085913</td>\n",
       "      <td>1.089938</td>\n",
       "      <td>1.072788</td>\n",
       "      <td>True</td>\n",
       "      <td>False</td>\n",
       "    </tr>\n",
       "    <tr>\n",
       "      <th>17</th>\n",
       "      <td>2025-03-26</td>\n",
       "      <td>1.07901</td>\n",
       "      <td>1.08028</td>\n",
       "      <td>1.07435</td>\n",
       "      <td>1.07525</td>\n",
       "      <td>1.079953</td>\n",
       "      <td>0.00531</td>\n",
       "      <td>1.081982</td>\n",
       "      <td>1.083235</td>\n",
       "      <td>1.085263</td>\n",
       "      <td>...</td>\n",
       "      <td>1.076672</td>\n",
       "      <td>1.074643</td>\n",
       "      <td>1.077222</td>\n",
       "      <td>1.077222</td>\n",
       "      <td>1.079973</td>\n",
       "      <td>1.085733</td>\n",
       "      <td>1.085890</td>\n",
       "      <td>1.074017</td>\n",
       "      <td>True</td>\n",
       "      <td>False</td>\n",
       "    </tr>\n",
       "    <tr>\n",
       "      <th>18</th>\n",
       "      <td>2025-03-27</td>\n",
       "      <td>1.07539</td>\n",
       "      <td>1.08212</td>\n",
       "      <td>1.07330</td>\n",
       "      <td>1.08018</td>\n",
       "      <td>1.076627</td>\n",
       "      <td>0.00593</td>\n",
       "      <td>1.078892</td>\n",
       "      <td>1.080291</td>\n",
       "      <td>1.082557</td>\n",
       "      <td>...</td>\n",
       "      <td>1.072962</td>\n",
       "      <td>1.070697</td>\n",
       "      <td>1.077748</td>\n",
       "      <td>1.077748</td>\n",
       "      <td>1.077222</td>\n",
       "      <td>1.085426</td>\n",
       "      <td>1.083256</td>\n",
       "      <td>1.069997</td>\n",
       "      <td>True</td>\n",
       "      <td>True</td>\n",
       "    </tr>\n",
       "    <tr>\n",
       "      <th>19</th>\n",
       "      <td>2025-03-28</td>\n",
       "      <td>1.08011</td>\n",
       "      <td>1.08448</td>\n",
       "      <td>1.07645</td>\n",
       "      <td>1.08306</td>\n",
       "      <td>1.078533</td>\n",
       "      <td>0.00882</td>\n",
       "      <td>1.081903</td>\n",
       "      <td>1.083984</td>\n",
       "      <td>1.087353</td>\n",
       "      <td>...</td>\n",
       "      <td>1.073083</td>\n",
       "      <td>1.069713</td>\n",
       "      <td>1.081025</td>\n",
       "      <td>1.081025</td>\n",
       "      <td>1.077748</td>\n",
       "      <td>1.085235</td>\n",
       "      <td>1.088394</td>\n",
       "      <td>1.068673</td>\n",
       "      <td>False</td>\n",
       "      <td>True</td>\n",
       "    </tr>\n",
       "    <tr>\n",
       "      <th>20</th>\n",
       "      <td>2025-03-31</td>\n",
       "      <td>1.08225</td>\n",
       "      <td>1.08494</td>\n",
       "      <td>1.07840</td>\n",
       "      <td>1.08149</td>\n",
       "      <td>1.081330</td>\n",
       "      <td>0.00803</td>\n",
       "      <td>1.084397</td>\n",
       "      <td>1.086293</td>\n",
       "      <td>1.089360</td>\n",
       "      <td>...</td>\n",
       "      <td>1.076367</td>\n",
       "      <td>1.073300</td>\n",
       "      <td>1.081770</td>\n",
       "      <td>1.081770</td>\n",
       "      <td>1.081025</td>\n",
       "      <td>1.084780</td>\n",
       "      <td>1.090308</td>\n",
       "      <td>1.072352</td>\n",
       "      <td>False</td>\n",
       "      <td>True</td>\n",
       "    </tr>\n",
       "    <tr>\n",
       "      <th>21</th>\n",
       "      <td>2025-04-01</td>\n",
       "      <td>1.08152</td>\n",
       "      <td>1.08301</td>\n",
       "      <td>1.07783</td>\n",
       "      <td>1.07924</td>\n",
       "      <td>1.081610</td>\n",
       "      <td>0.00654</td>\n",
       "      <td>1.084108</td>\n",
       "      <td>1.085652</td>\n",
       "      <td>1.088150</td>\n",
       "      <td>...</td>\n",
       "      <td>1.077568</td>\n",
       "      <td>1.075070</td>\n",
       "      <td>1.080400</td>\n",
       "      <td>1.080400</td>\n",
       "      <td>1.081770</td>\n",
       "      <td>1.084075</td>\n",
       "      <td>1.088922</td>\n",
       "      <td>1.074298</td>\n",
       "      <td>True</td>\n",
       "      <td>False</td>\n",
       "    </tr>\n",
       "    <tr>\n",
       "      <th>22</th>\n",
       "      <td>2025-04-02</td>\n",
       "      <td>1.07933</td>\n",
       "      <td>1.09241</td>\n",
       "      <td>1.07802</td>\n",
       "      <td>1.08603</td>\n",
       "      <td>1.080027</td>\n",
       "      <td>0.00518</td>\n",
       "      <td>1.082005</td>\n",
       "      <td>1.083228</td>\n",
       "      <td>1.085207</td>\n",
       "      <td>...</td>\n",
       "      <td>1.076825</td>\n",
       "      <td>1.074847</td>\n",
       "      <td>1.083947</td>\n",
       "      <td>1.083947</td>\n",
       "      <td>1.080400</td>\n",
       "      <td>1.083896</td>\n",
       "      <td>1.085818</td>\n",
       "      <td>1.074235</td>\n",
       "      <td>True</td>\n",
       "      <td>True</td>\n",
       "    </tr>\n",
       "    <tr>\n",
       "      <th>23</th>\n",
       "      <td>2025-04-03</td>\n",
       "      <td>1.08510</td>\n",
       "      <td>1.11459</td>\n",
       "      <td>1.08052</td>\n",
       "      <td>1.10511</td>\n",
       "      <td>1.085487</td>\n",
       "      <td>0.01439</td>\n",
       "      <td>1.090984</td>\n",
       "      <td>1.094380</td>\n",
       "      <td>1.099877</td>\n",
       "      <td>...</td>\n",
       "      <td>1.076594</td>\n",
       "      <td>1.071097</td>\n",
       "      <td>1.096330</td>\n",
       "      <td>1.096330</td>\n",
       "      <td>1.083947</td>\n",
       "      <td>1.084573</td>\n",
       "      <td>1.101575</td>\n",
       "      <td>1.069399</td>\n",
       "      <td>False</td>\n",
       "      <td>True</td>\n",
       "    </tr>\n",
       "    <tr>\n",
       "      <th>24</th>\n",
       "      <td>2025-04-04</td>\n",
       "      <td>1.10518</td>\n",
       "      <td>1.11078</td>\n",
       "      <td>1.09246</td>\n",
       "      <td>1.09636</td>\n",
       "      <td>1.100073</td>\n",
       "      <td>0.03407</td>\n",
       "      <td>1.113088</td>\n",
       "      <td>1.121129</td>\n",
       "      <td>1.134143</td>\n",
       "      <td>...</td>\n",
       "      <td>1.079018</td>\n",
       "      <td>1.066003</td>\n",
       "      <td>1.101195</td>\n",
       "      <td>1.101195</td>\n",
       "      <td>1.096330</td>\n",
       "      <td>1.085378</td>\n",
       "      <td>1.138164</td>\n",
       "      <td>1.061983</td>\n",
       "      <td>False</td>\n",
       "      <td>False</td>\n",
       "    </tr>\n",
       "    <tr>\n",
       "      <th>25</th>\n",
       "      <td>2025-04-07</td>\n",
       "      <td>1.08936</td>\n",
       "      <td>1.10500</td>\n",
       "      <td>1.08800</td>\n",
       "      <td>1.09053</td>\n",
       "      <td>1.099867</td>\n",
       "      <td>0.01832</td>\n",
       "      <td>1.106865</td>\n",
       "      <td>1.111188</td>\n",
       "      <td>1.118187</td>\n",
       "      <td>...</td>\n",
       "      <td>1.088545</td>\n",
       "      <td>1.081547</td>\n",
       "      <td>1.093222</td>\n",
       "      <td>1.093222</td>\n",
       "      <td>1.101195</td>\n",
       "      <td>1.085405</td>\n",
       "      <td>1.120348</td>\n",
       "      <td>1.079385</td>\n",
       "      <td>True</td>\n",
       "      <td>False</td>\n",
       "    </tr>\n",
       "    <tr>\n",
       "      <th>26</th>\n",
       "      <td>2025-04-08</td>\n",
       "      <td>1.09066</td>\n",
       "      <td>1.09918</td>\n",
       "      <td>1.08883</td>\n",
       "      <td>1.09578</td>\n",
       "      <td>1.094510</td>\n",
       "      <td>0.01700</td>\n",
       "      <td>1.101004</td>\n",
       "      <td>1.105016</td>\n",
       "      <td>1.111510</td>\n",
       "      <td>...</td>\n",
       "      <td>1.084004</td>\n",
       "      <td>1.077510</td>\n",
       "      <td>1.093612</td>\n",
       "      <td>1.093612</td>\n",
       "      <td>1.093222</td>\n",
       "      <td>1.085569</td>\n",
       "      <td>1.113516</td>\n",
       "      <td>1.075504</td>\n",
       "      <td>False</td>\n",
       "      <td>False</td>\n",
       "    </tr>\n",
       "    <tr>\n",
       "      <th>27</th>\n",
       "      <td>2025-04-09</td>\n",
       "      <td>1.09527</td>\n",
       "      <td>1.10951</td>\n",
       "      <td>1.09132</td>\n",
       "      <td>1.09474</td>\n",
       "      <td>1.094597</td>\n",
       "      <td>0.01035</td>\n",
       "      <td>1.098550</td>\n",
       "      <td>1.100993</td>\n",
       "      <td>1.104947</td>\n",
       "      <td>...</td>\n",
       "      <td>1.088200</td>\n",
       "      <td>1.084247</td>\n",
       "      <td>1.097710</td>\n",
       "      <td>1.097710</td>\n",
       "      <td>1.093612</td>\n",
       "      <td>1.086322</td>\n",
       "      <td>1.106168</td>\n",
       "      <td>1.083025</td>\n",
       "      <td>False</td>\n",
       "      <td>True</td>\n",
       "    </tr>\n",
       "    <tr>\n",
       "      <th>28</th>\n",
       "      <td>2025-04-10</td>\n",
       "      <td>1.09483</td>\n",
       "      <td>1.12416</td>\n",
       "      <td>1.09429</td>\n",
       "      <td>1.12017</td>\n",
       "      <td>1.098523</td>\n",
       "      <td>0.01819</td>\n",
       "      <td>1.105472</td>\n",
       "      <td>1.109765</td>\n",
       "      <td>1.116713</td>\n",
       "      <td>...</td>\n",
       "      <td>1.087282</td>\n",
       "      <td>1.080333</td>\n",
       "      <td>1.108362</td>\n",
       "      <td>1.108362</td>\n",
       "      <td>1.097710</td>\n",
       "      <td>1.088133</td>\n",
       "      <td>1.118860</td>\n",
       "      <td>1.078187</td>\n",
       "      <td>False</td>\n",
       "      <td>True</td>\n",
       "    </tr>\n",
       "    <tr>\n",
       "      <th>29</th>\n",
       "      <td>2025-04-11</td>\n",
       "      <td>1.11929</td>\n",
       "      <td>1.14736</td>\n",
       "      <td>1.11818</td>\n",
       "      <td>1.13552</td>\n",
       "      <td>1.112873</td>\n",
       "      <td>0.02987</td>\n",
       "      <td>1.124284</td>\n",
       "      <td>1.131333</td>\n",
       "      <td>1.142743</td>\n",
       "      <td>...</td>\n",
       "      <td>1.094414</td>\n",
       "      <td>1.083003</td>\n",
       "      <td>1.130088</td>\n",
       "      <td>1.130088</td>\n",
       "      <td>1.108362</td>\n",
       "      <td>1.091615</td>\n",
       "      <td>1.146268</td>\n",
       "      <td>1.079479</td>\n",
       "      <td>False</td>\n",
       "      <td>True</td>\n",
       "    </tr>\n",
       "    <tr>\n",
       "      <th>30</th>\n",
       "      <td>2025-04-14</td>\n",
       "      <td>1.13140</td>\n",
       "      <td>1.14246</td>\n",
       "      <td>1.12960</td>\n",
       "      <td>1.13496</td>\n",
       "      <td>1.133687</td>\n",
       "      <td>0.02918</td>\n",
       "      <td>1.144833</td>\n",
       "      <td>1.151720</td>\n",
       "      <td>1.162867</td>\n",
       "      <td>...</td>\n",
       "      <td>1.115653</td>\n",
       "      <td>1.104507</td>\n",
       "      <td>1.134605</td>\n",
       "      <td>1.134605</td>\n",
       "      <td>1.130088</td>\n",
       "      <td>1.095517</td>\n",
       "      <td>1.166310</td>\n",
       "      <td>1.101063</td>\n",
       "      <td>False</td>\n",
       "      <td>False</td>\n",
       "    </tr>\n",
       "    <tr>\n",
       "      <th>31</th>\n",
       "      <td>2025-04-15</td>\n",
       "      <td>1.13500</td>\n",
       "      <td>1.13789</td>\n",
       "      <td>1.12642</td>\n",
       "      <td>1.12813</td>\n",
       "      <td>1.135673</td>\n",
       "      <td>0.01286</td>\n",
       "      <td>1.140586</td>\n",
       "      <td>1.143621</td>\n",
       "      <td>1.148533</td>\n",
       "      <td>...</td>\n",
       "      <td>1.127726</td>\n",
       "      <td>1.122813</td>\n",
       "      <td>1.131860</td>\n",
       "      <td>1.131860</td>\n",
       "      <td>1.134605</td>\n",
       "      <td>1.099420</td>\n",
       "      <td>1.150051</td>\n",
       "      <td>1.121296</td>\n",
       "      <td>True</td>\n",
       "      <td>False</td>\n",
       "    </tr>\n",
       "    <tr>\n",
       "      <th>32</th>\n",
       "      <td>2025-04-16</td>\n",
       "      <td>1.12781</td>\n",
       "      <td>1.14128</td>\n",
       "      <td>1.12781</td>\n",
       "      <td>1.13985</td>\n",
       "      <td>1.130813</td>\n",
       "      <td>0.01147</td>\n",
       "      <td>1.135195</td>\n",
       "      <td>1.137902</td>\n",
       "      <td>1.142283</td>\n",
       "      <td>...</td>\n",
       "      <td>1.123725</td>\n",
       "      <td>1.119343</td>\n",
       "      <td>1.134188</td>\n",
       "      <td>1.134188</td>\n",
       "      <td>1.131860</td>\n",
       "      <td>1.103451</td>\n",
       "      <td>1.143637</td>\n",
       "      <td>1.117990</td>\n",
       "      <td>False</td>\n",
       "      <td>True</td>\n",
       "    </tr>\n",
       "    <tr>\n",
       "      <th>33</th>\n",
       "      <td>2025-04-17</td>\n",
       "      <td>1.13986</td>\n",
       "      <td>1.14093</td>\n",
       "      <td>1.13353</td>\n",
       "      <td>1.13634</td>\n",
       "      <td>1.136313</td>\n",
       "      <td>0.01347</td>\n",
       "      <td>1.141459</td>\n",
       "      <td>1.144638</td>\n",
       "      <td>1.149783</td>\n",
       "      <td>...</td>\n",
       "      <td>1.127989</td>\n",
       "      <td>1.122843</td>\n",
       "      <td>1.137665</td>\n",
       "      <td>1.137665</td>\n",
       "      <td>1.134188</td>\n",
       "      <td>1.107497</td>\n",
       "      <td>1.151373</td>\n",
       "      <td>1.121254</td>\n",
       "      <td>False</td>\n",
       "      <td>False</td>\n",
       "    </tr>\n",
       "    <tr>\n",
       "      <th>34</th>\n",
       "      <td>2025-04-18</td>\n",
       "      <td>1.13616</td>\n",
       "      <td>1.13975</td>\n",
       "      <td>1.13586</td>\n",
       "      <td>1.13929</td>\n",
       "      <td>1.136933</td>\n",
       "      <td>0.00740</td>\n",
       "      <td>1.139760</td>\n",
       "      <td>1.141507</td>\n",
       "      <td>1.144333</td>\n",
       "      <td>...</td>\n",
       "      <td>1.132360</td>\n",
       "      <td>1.129533</td>\n",
       "      <td>1.137765</td>\n",
       "      <td>1.137765</td>\n",
       "      <td>1.137665</td>\n",
       "      <td>1.111496</td>\n",
       "      <td>1.145207</td>\n",
       "      <td>1.128660</td>\n",
       "      <td>False</td>\n",
       "      <td>False</td>\n",
       "    </tr>\n",
       "    <tr>\n",
       "      <th>35</th>\n",
       "      <td>2025-04-21</td>\n",
       "      <td>1.13928</td>\n",
       "      <td>1.15733</td>\n",
       "      <td>1.13799</td>\n",
       "      <td>1.15129</td>\n",
       "      <td>1.138300</td>\n",
       "      <td>0.00389</td>\n",
       "      <td>1.139786</td>\n",
       "      <td>1.140704</td>\n",
       "      <td>1.142190</td>\n",
       "      <td>...</td>\n",
       "      <td>1.135896</td>\n",
       "      <td>1.134410</td>\n",
       "      <td>1.146473</td>\n",
       "      <td>1.146473</td>\n",
       "      <td>1.137765</td>\n",
       "      <td>1.116216</td>\n",
       "      <td>1.142649</td>\n",
       "      <td>1.133951</td>\n",
       "      <td>False</td>\n",
       "      <td>True</td>\n",
       "    </tr>\n",
       "    <tr>\n",
       "      <th>36</th>\n",
       "      <td>2025-04-22</td>\n",
       "      <td>1.15139</td>\n",
       "      <td>1.15474</td>\n",
       "      <td>1.14175</td>\n",
       "      <td>1.14206</td>\n",
       "      <td>1.148870</td>\n",
       "      <td>0.01934</td>\n",
       "      <td>1.156258</td>\n",
       "      <td>1.160822</td>\n",
       "      <td>1.168210</td>\n",
       "      <td>...</td>\n",
       "      <td>1.136918</td>\n",
       "      <td>1.129530</td>\n",
       "      <td>1.147485</td>\n",
       "      <td>1.147485</td>\n",
       "      <td>1.146473</td>\n",
       "      <td>1.120754</td>\n",
       "      <td>1.170492</td>\n",
       "      <td>1.127248</td>\n",
       "      <td>False</td>\n",
       "      <td>False</td>\n",
       "    </tr>\n",
       "    <tr>\n",
       "      <th>37</th>\n",
       "      <td>2025-04-23</td>\n",
       "      <td>1.14207</td>\n",
       "      <td>1.14399</td>\n",
       "      <td>1.13081</td>\n",
       "      <td>1.13145</td>\n",
       "      <td>1.146183</td>\n",
       "      <td>0.01299</td>\n",
       "      <td>1.151146</td>\n",
       "      <td>1.154211</td>\n",
       "      <td>1.159173</td>\n",
       "      <td>...</td>\n",
       "      <td>1.138156</td>\n",
       "      <td>1.133193</td>\n",
       "      <td>1.137080</td>\n",
       "      <td>1.137080</td>\n",
       "      <td>1.147485</td>\n",
       "      <td>1.123665</td>\n",
       "      <td>1.160706</td>\n",
       "      <td>1.131661</td>\n",
       "      <td>True</td>\n",
       "      <td>False</td>\n",
       "    </tr>\n",
       "    <tr>\n",
       "      <th>38</th>\n",
       "      <td>2025-04-24</td>\n",
       "      <td>1.13114</td>\n",
       "      <td>1.13979</td>\n",
       "      <td>1.13095</td>\n",
       "      <td>1.13888</td>\n",
       "      <td>1.135417</td>\n",
       "      <td>0.01318</td>\n",
       "      <td>1.140451</td>\n",
       "      <td>1.143562</td>\n",
       "      <td>1.148597</td>\n",
       "      <td>...</td>\n",
       "      <td>1.127271</td>\n",
       "      <td>1.122237</td>\n",
       "      <td>1.135190</td>\n",
       "      <td>1.135190</td>\n",
       "      <td>1.137080</td>\n",
       "      <td>1.126093</td>\n",
       "      <td>1.150152</td>\n",
       "      <td>1.120681</td>\n",
       "      <td>False</td>\n",
       "      <td>False</td>\n",
       "    </tr>\n",
       "    <tr>\n",
       "      <th>39</th>\n",
       "      <td>2025-04-25</td>\n",
       "      <td>1.13852</td>\n",
       "      <td>1.13914</td>\n",
       "      <td>1.13160</td>\n",
       "      <td>1.13595</td>\n",
       "      <td>1.136540</td>\n",
       "      <td>0.00884</td>\n",
       "      <td>1.139917</td>\n",
       "      <td>1.142003</td>\n",
       "      <td>1.145380</td>\n",
       "      <td>...</td>\n",
       "      <td>1.131077</td>\n",
       "      <td>1.127700</td>\n",
       "      <td>1.136302</td>\n",
       "      <td>1.136302</td>\n",
       "      <td>1.135190</td>\n",
       "      <td>1.129170</td>\n",
       "      <td>1.146423</td>\n",
       "      <td>1.126657</td>\n",
       "      <td>True</td>\n",
       "      <td>False</td>\n",
       "    </tr>\n",
       "    <tr>\n",
       "      <th>40</th>\n",
       "      <td>2025-04-28</td>\n",
       "      <td>1.13721</td>\n",
       "      <td>1.14249</td>\n",
       "      <td>1.13294</td>\n",
       "      <td>1.14216</td>\n",
       "      <td>1.135563</td>\n",
       "      <td>0.00754</td>\n",
       "      <td>1.138444</td>\n",
       "      <td>1.140223</td>\n",
       "      <td>1.143103</td>\n",
       "      <td>...</td>\n",
       "      <td>1.130904</td>\n",
       "      <td>1.128023</td>\n",
       "      <td>1.138700</td>\n",
       "      <td>1.138700</td>\n",
       "      <td>1.136302</td>\n",
       "      <td>1.132391</td>\n",
       "      <td>1.143993</td>\n",
       "      <td>1.127134</td>\n",
       "      <td>False</td>\n",
       "      <td>True</td>\n",
       "    </tr>\n",
       "    <tr>\n",
       "      <th>41</th>\n",
       "      <td>2025-04-29</td>\n",
       "      <td>1.14197</td>\n",
       "      <td>1.14218</td>\n",
       "      <td>1.13702</td>\n",
       "      <td>1.13828</td>\n",
       "      <td>1.139197</td>\n",
       "      <td>0.00955</td>\n",
       "      <td>1.142845</td>\n",
       "      <td>1.145099</td>\n",
       "      <td>1.148747</td>\n",
       "      <td>...</td>\n",
       "      <td>1.133295</td>\n",
       "      <td>1.129647</td>\n",
       "      <td>1.139863</td>\n",
       "      <td>1.139863</td>\n",
       "      <td>1.138700</td>\n",
       "      <td>1.135402</td>\n",
       "      <td>1.149874</td>\n",
       "      <td>1.128520</td>\n",
       "      <td>False</td>\n",
       "      <td>False</td>\n",
       "    </tr>\n",
       "    <tr>\n",
       "      <th>42</th>\n",
       "      <td>2025-04-30</td>\n",
       "      <td>1.13840</td>\n",
       "      <td>1.13996</td>\n",
       "      <td>1.13173</td>\n",
       "      <td>1.13292</td>\n",
       "      <td>1.139160</td>\n",
       "      <td>0.00516</td>\n",
       "      <td>1.141131</td>\n",
       "      <td>1.142349</td>\n",
       "      <td>1.144320</td>\n",
       "      <td>...</td>\n",
       "      <td>1.135971</td>\n",
       "      <td>1.134000</td>\n",
       "      <td>1.135753</td>\n",
       "      <td>1.135753</td>\n",
       "      <td>1.139863</td>\n",
       "      <td>1.137358</td>\n",
       "      <td>1.144929</td>\n",
       "      <td>1.133391</td>\n",
       "      <td>True</td>\n",
       "      <td>False</td>\n",
       "    </tr>\n",
       "    <tr>\n",
       "      <th>43</th>\n",
       "      <td>2025-05-01</td>\n",
       "      <td>1.13279</td>\n",
       "      <td>1.13411</td>\n",
       "      <td>1.12659</td>\n",
       "      <td>1.12900</td>\n",
       "      <td>1.134870</td>\n",
       "      <td>0.00823</td>\n",
       "      <td>1.138014</td>\n",
       "      <td>1.139956</td>\n",
       "      <td>1.143100</td>\n",
       "      <td>...</td>\n",
       "      <td>1.129784</td>\n",
       "      <td>1.126640</td>\n",
       "      <td>1.130622</td>\n",
       "      <td>1.130622</td>\n",
       "      <td>1.135753</td>\n",
       "      <td>1.137396</td>\n",
       "      <td>1.144071</td>\n",
       "      <td>1.125669</td>\n",
       "      <td>True</td>\n",
       "      <td>False</td>\n",
       "    </tr>\n",
       "    <tr>\n",
       "      <th>44</th>\n",
       "      <td>2025-05-02</td>\n",
       "      <td>1.12888</td>\n",
       "      <td>1.13810</td>\n",
       "      <td>1.12743</td>\n",
       "      <td>1.12994</td>\n",
       "      <td>1.129900</td>\n",
       "      <td>0.00752</td>\n",
       "      <td>1.132773</td>\n",
       "      <td>1.134547</td>\n",
       "      <td>1.137420</td>\n",
       "      <td>...</td>\n",
       "      <td>1.125253</td>\n",
       "      <td>1.122380</td>\n",
       "      <td>1.131088</td>\n",
       "      <td>1.131088</td>\n",
       "      <td>1.130622</td>\n",
       "      <td>1.137145</td>\n",
       "      <td>1.138307</td>\n",
       "      <td>1.121493</td>\n",
       "      <td>False</td>\n",
       "      <td>True</td>\n",
       "    </tr>\n",
       "  </tbody>\n",
       "</table>\n",
       "<p>45 rows × 21 columns</p>\n",
       "</div>"
      ],
      "text/plain": [
       "         time     open     high      low    close     pivot   prange  \\\n",
       "0  2025-03-03  1.03925  1.05038  1.03887  1.04878       NaN      NaN   \n",
       "1  2025-03-04  1.04860  1.06270  1.04712  1.06251  1.046010  0.01151   \n",
       "2  2025-03-05  1.06253  1.07968  1.06021  1.07892  1.057443  0.01558   \n",
       "3  2025-03-06  1.07866  1.08534  1.07656  1.07838  1.072937  0.01947   \n",
       "4  2025-03-07  1.07823  1.08889  1.07789  1.08321  1.080093  0.00878   \n",
       "5  2025-03-10  1.08325  1.08747  1.08050  1.08354  1.083330  0.01100   \n",
       "6  2025-03-11  1.08330  1.09474  1.08260  1.09193  1.083837  0.00697   \n",
       "7  2025-03-12  1.09180  1.09301  1.08757  1.08871  1.089757  0.01214   \n",
       "8  2025-03-13  1.08870  1.08973  1.08225  1.08514  1.089763  0.00544   \n",
       "9  2025-03-14  1.08503  1.09128  1.08307  1.08802  1.085707  0.00748   \n",
       "10 2025-03-17  1.08771  1.09297  1.08686  1.09214  1.087457  0.00821   \n",
       "11 2025-03-18  1.09218  1.09547  1.08925  1.09447  1.090657  0.00611   \n",
       "12 2025-03-19  1.09439  1.09461  1.08606  1.09025  1.093063  0.00622   \n",
       "13 2025-03-20  1.09010  1.09176  1.08147  1.08533  1.090307  0.00855   \n",
       "14 2025-03-21  1.08494  1.08613  1.07973  1.08124  1.086187  0.01029   \n",
       "15 2025-03-24  1.08127  1.08584  1.07817  1.08008  1.082367  0.00640   \n",
       "16 2025-03-25  1.08003  1.08302  1.07771  1.07913  1.081363  0.00767   \n",
       "17 2025-03-26  1.07901  1.08028  1.07435  1.07525  1.079953  0.00531   \n",
       "18 2025-03-27  1.07539  1.08212  1.07330  1.08018  1.076627  0.00593   \n",
       "19 2025-03-28  1.08011  1.08448  1.07645  1.08306  1.078533  0.00882   \n",
       "20 2025-03-31  1.08225  1.08494  1.07840  1.08149  1.081330  0.00803   \n",
       "21 2025-04-01  1.08152  1.08301  1.07783  1.07924  1.081610  0.00654   \n",
       "22 2025-04-02  1.07933  1.09241  1.07802  1.08603  1.080027  0.00518   \n",
       "23 2025-04-03  1.08510  1.11459  1.08052  1.10511  1.085487  0.01439   \n",
       "24 2025-04-04  1.10518  1.11078  1.09246  1.09636  1.100073  0.03407   \n",
       "25 2025-04-07  1.08936  1.10500  1.08800  1.09053  1.099867  0.01832   \n",
       "26 2025-04-08  1.09066  1.09918  1.08883  1.09578  1.094510  0.01700   \n",
       "27 2025-04-09  1.09527  1.10951  1.09132  1.09474  1.094597  0.01035   \n",
       "28 2025-04-10  1.09483  1.12416  1.09429  1.12017  1.098523  0.01819   \n",
       "29 2025-04-11  1.11929  1.14736  1.11818  1.13552  1.112873  0.02987   \n",
       "30 2025-04-14  1.13140  1.14246  1.12960  1.13496  1.133687  0.02918   \n",
       "31 2025-04-15  1.13500  1.13789  1.12642  1.12813  1.135673  0.01286   \n",
       "32 2025-04-16  1.12781  1.14128  1.12781  1.13985  1.130813  0.01147   \n",
       "33 2025-04-17  1.13986  1.14093  1.13353  1.13634  1.136313  0.01347   \n",
       "34 2025-04-18  1.13616  1.13975  1.13586  1.13929  1.136933  0.00740   \n",
       "35 2025-04-21  1.13928  1.15733  1.13799  1.15129  1.138300  0.00389   \n",
       "36 2025-04-22  1.15139  1.15474  1.14175  1.14206  1.148870  0.01934   \n",
       "37 2025-04-23  1.14207  1.14399  1.13081  1.13145  1.146183  0.01299   \n",
       "38 2025-04-24  1.13114  1.13979  1.13095  1.13888  1.135417  0.01318   \n",
       "39 2025-04-25  1.13852  1.13914  1.13160  1.13595  1.136540  0.00884   \n",
       "40 2025-04-28  1.13721  1.14249  1.13294  1.14216  1.135563  0.00754   \n",
       "41 2025-04-29  1.14197  1.14218  1.13702  1.13828  1.139197  0.00955   \n",
       "42 2025-04-30  1.13840  1.13996  1.13173  1.13292  1.139160  0.00516   \n",
       "43 2025-05-01  1.13279  1.13411  1.12659  1.12900  1.134870  0.00823   \n",
       "44 2025-05-02  1.12888  1.13810  1.12743  1.12994  1.129900  0.00752   \n",
       "\n",
       "          R1        R2        R3  ...        S2        S3     ohlc4    sma_11  \\\n",
       "0        NaN       NaN       NaN  ...       NaN       NaN  1.044320  1.044320   \n",
       "1   1.050407  1.053123  1.057520  ...  1.038897  1.034500  1.055233  1.055233   \n",
       "2   1.063395  1.067072  1.073023  ...  1.047815  1.041863  1.070335  1.070335   \n",
       "3   1.080374  1.084969  1.092407  ...  1.060904  1.053467  1.079735  1.079735   \n",
       "4   1.083447  1.085519  1.088873  ...  1.074667  1.071313  1.082055  1.082055   \n",
       "5   1.087532  1.090128  1.094330  ...  1.076532  1.072330  1.083690  1.083690   \n",
       "6   1.086499  1.088144  1.090807  ...  1.079529  1.076867  1.088143  1.088143   \n",
       "7   1.094394  1.097259  1.101897  ...  1.082254  1.077617  1.090272  1.090272   \n",
       "8   1.091841  1.093125  1.095203  ...  1.086401  1.084323  1.086455  1.086455   \n",
       "9   1.088564  1.090329  1.093187  ...  1.081084  1.078227  1.086850  1.086850   \n",
       "10  1.090593  1.092530  1.095667  ...  1.082383  1.079247  1.089920  1.089920   \n",
       "11  1.092991  1.094433  1.096767  ...  1.086881  1.084547  1.092842  1.092842   \n",
       "12  1.095439  1.096907  1.099283  ...  1.089219  1.086843  1.091328  1.091328   \n",
       "13  1.093573  1.095591  1.098857  ...  1.085023  1.081757  1.087165  1.087165   \n",
       "14  1.090117  1.092546  1.096477  ...  1.079827  1.075897  1.083010  1.083010   \n",
       "15  1.084811  1.086322  1.088767  ...  1.078411  1.075967  1.081340  1.081340   \n",
       "16  1.084293  1.086103  1.089033  ...  1.076623  1.073693  1.079973  1.079973   \n",
       "17  1.081982  1.083235  1.085263  ...  1.076672  1.074643  1.077222  1.077222   \n",
       "18  1.078892  1.080291  1.082557  ...  1.072962  1.070697  1.077748  1.077748   \n",
       "19  1.081903  1.083984  1.087353  ...  1.073083  1.069713  1.081025  1.081025   \n",
       "20  1.084397  1.086293  1.089360  ...  1.076367  1.073300  1.081770  1.081770   \n",
       "21  1.084108  1.085652  1.088150  ...  1.077568  1.075070  1.080400  1.080400   \n",
       "22  1.082005  1.083228  1.085207  ...  1.076825  1.074847  1.083947  1.083947   \n",
       "23  1.090984  1.094380  1.099877  ...  1.076594  1.071097  1.096330  1.096330   \n",
       "24  1.113088  1.121129  1.134143  ...  1.079018  1.066003  1.101195  1.101195   \n",
       "25  1.106865  1.111188  1.118187  ...  1.088545  1.081547  1.093222  1.093222   \n",
       "26  1.101004  1.105016  1.111510  ...  1.084004  1.077510  1.093612  1.093612   \n",
       "27  1.098550  1.100993  1.104947  ...  1.088200  1.084247  1.097710  1.097710   \n",
       "28  1.105472  1.109765  1.116713  ...  1.087282  1.080333  1.108362  1.108362   \n",
       "29  1.124284  1.131333  1.142743  ...  1.094414  1.083003  1.130088  1.130088   \n",
       "30  1.144833  1.151720  1.162867  ...  1.115653  1.104507  1.134605  1.134605   \n",
       "31  1.140586  1.143621  1.148533  ...  1.127726  1.122813  1.131860  1.131860   \n",
       "32  1.135195  1.137902  1.142283  ...  1.123725  1.119343  1.134188  1.134188   \n",
       "33  1.141459  1.144638  1.149783  ...  1.127989  1.122843  1.137665  1.137665   \n",
       "34  1.139760  1.141507  1.144333  ...  1.132360  1.129533  1.137765  1.137765   \n",
       "35  1.139786  1.140704  1.142190  ...  1.135896  1.134410  1.146473  1.146473   \n",
       "36  1.156258  1.160822  1.168210  ...  1.136918  1.129530  1.147485  1.147485   \n",
       "37  1.151146  1.154211  1.159173  ...  1.138156  1.133193  1.137080  1.137080   \n",
       "38  1.140451  1.143562  1.148597  ...  1.127271  1.122237  1.135190  1.135190   \n",
       "39  1.139917  1.142003  1.145380  ...  1.131077  1.127700  1.136302  1.136302   \n",
       "40  1.138444  1.140223  1.143103  ...  1.130904  1.128023  1.138700  1.138700   \n",
       "41  1.142845  1.145099  1.148747  ...  1.133295  1.129647  1.139863  1.139863   \n",
       "42  1.141131  1.142349  1.144320  ...  1.135971  1.134000  1.135753  1.135753   \n",
       "43  1.138014  1.139956  1.143100  ...  1.129784  1.126640  1.130622  1.130622   \n",
       "44  1.132773  1.134547  1.137420  ...  1.125253  1.122380  1.131088  1.131088   \n",
       "\n",
       "    prev_sma_11   sma_114  sell_stope_loss  buy_stope_loss  sell_profit  \\\n",
       "0           NaN       NaN              NaN             NaN        False   \n",
       "1      1.044320       NaN         1.058878        1.033142        False   \n",
       "2      1.055233       NaN         1.074862        1.040025        False   \n",
       "3      1.070335       NaN         1.094704        1.051169        False   \n",
       "4      1.079735       NaN         1.089909        1.070277        False   \n",
       "5      1.082055       NaN         1.095628        1.071032        False   \n",
       "6      1.083690       NaN         1.091629        1.076044        False   \n",
       "7      1.088143       NaN         1.103329        1.076184        False   \n",
       "8      1.090272       NaN         1.095845        1.083681         True   \n",
       "9      1.086455       NaN         1.094069        1.077344        False   \n",
       "10     1.086850       NaN         1.096635        1.078278        False   \n",
       "11     1.089920       NaN         1.097488        1.083826        False   \n",
       "12     1.092842       NaN         1.100017        1.086109         True   \n",
       "13     1.091328  1.080596         1.099866        1.080748         True   \n",
       "14     1.087165  1.083359         1.097691        1.074682         True   \n",
       "15     1.083010  1.085224         1.089522        1.075211         True   \n",
       "16     1.081340  1.085913         1.089938        1.072788         True   \n",
       "17     1.079973  1.085733         1.085890        1.074017         True   \n",
       "18     1.077222  1.085426         1.083256        1.069997         True   \n",
       "19     1.077748  1.085235         1.088394        1.068673        False   \n",
       "20     1.081025  1.084780         1.090308        1.072352        False   \n",
       "21     1.081770  1.084075         1.088922        1.074298         True   \n",
       "22     1.080400  1.083896         1.085818        1.074235         True   \n",
       "23     1.083947  1.084573         1.101575        1.069399        False   \n",
       "24     1.096330  1.085378         1.138164        1.061983        False   \n",
       "25     1.101195  1.085405         1.120348        1.079385         True   \n",
       "26     1.093222  1.085569         1.113516        1.075504        False   \n",
       "27     1.093612  1.086322         1.106168        1.083025        False   \n",
       "28     1.097710  1.088133         1.118860        1.078187        False   \n",
       "29     1.108362  1.091615         1.146268        1.079479        False   \n",
       "30     1.130088  1.095517         1.166310        1.101063        False   \n",
       "31     1.134605  1.099420         1.150051        1.121296         True   \n",
       "32     1.131860  1.103451         1.143637        1.117990        False   \n",
       "33     1.134188  1.107497         1.151373        1.121254        False   \n",
       "34     1.137665  1.111496         1.145207        1.128660        False   \n",
       "35     1.137765  1.116216         1.142649        1.133951        False   \n",
       "36     1.146473  1.120754         1.170492        1.127248        False   \n",
       "37     1.147485  1.123665         1.160706        1.131661         True   \n",
       "38     1.137080  1.126093         1.150152        1.120681        False   \n",
       "39     1.135190  1.129170         1.146423        1.126657         True   \n",
       "40     1.136302  1.132391         1.143993        1.127134        False   \n",
       "41     1.138700  1.135402         1.149874        1.128520        False   \n",
       "42     1.139863  1.137358         1.144929        1.133391         True   \n",
       "43     1.135753  1.137396         1.144071        1.125669         True   \n",
       "44     1.130622  1.137145         1.138307        1.121493        False   \n",
       "\n",
       "    buy_profit  \n",
       "0        False  \n",
       "1         True  \n",
       "2         True  \n",
       "3         True  \n",
       "4         True  \n",
       "5        False  \n",
       "6         True  \n",
       "7        False  \n",
       "8        False  \n",
       "9         True  \n",
       "10        True  \n",
       "11        True  \n",
       "12       False  \n",
       "13       False  \n",
       "14       False  \n",
       "15        True  \n",
       "16       False  \n",
       "17       False  \n",
       "18        True  \n",
       "19        True  \n",
       "20        True  \n",
       "21       False  \n",
       "22        True  \n",
       "23        True  \n",
       "24       False  \n",
       "25       False  \n",
       "26       False  \n",
       "27        True  \n",
       "28        True  \n",
       "29        True  \n",
       "30       False  \n",
       "31       False  \n",
       "32        True  \n",
       "33       False  \n",
       "34       False  \n",
       "35        True  \n",
       "36       False  \n",
       "37       False  \n",
       "38       False  \n",
       "39       False  \n",
       "40        True  \n",
       "41       False  \n",
       "42       False  \n",
       "43       False  \n",
       "44        True  \n",
       "\n",
       "[45 rows x 21 columns]"
      ]
     },
     "execution_count": 401,
     "metadata": {},
     "output_type": "execute_result"
    }
   ],
   "source": [
    "#setting entring and closing time and one trade a day\n",
    "# Set the start and end times for your desired trading hours\n",
    "start_time = datetime.strptime('06:00:00', '%H:%M:%S').time()\n",
    "end_time = datetime.strptime('17:00:00', '%H:%M:%S').time()\n",
    "end_trading_section = datetime.strptime('23:45:00', '%H:%M:%S').time()\n",
    "\n",
    "# Filter the trade data for trades within the specified trading hours\n",
    "#trades_within_hours = daily_df[(daily_df['time'].dt.time >= start_time) & (daily_df['time'].dt.time <= end_time)]\n",
    "# open one trade a day\n",
    "first_trade_per_day = daily_df.groupby(daily_df['time'].dt.time).first()\n",
    "# Close all open positions at 11:45 PM\n",
    "open_positions = daily_df[daily_df['time'].dt.time == end_trading_section]\n",
    "\n",
    "# function to trading\n",
    "daily_df[\"sell_stope_loss\"] = (daily_df[\"R2\"] - daily_df[\"S1\"]) /2 + daily_df[\"R2\"] \n",
    "daily_df[\"buy_stope_loss\"] = (daily_df[\"S2\"] - ((daily_df[\"R1\"] - daily_df[\"S2\"]) /2))\n",
    "daily_df['sell_profit'] = daily_df['low'] <= daily_df[\"S1\"]\n",
    "daily_df['buy_profit'] = daily_df[\"high\"] >= daily_df[\"R1\"]\n",
    "daily_df"
   ]
  },
  {
   "cell_type": "code",
   "execution_count": 402,
   "metadata": {},
   "outputs": [
    {
     "data": {
      "text/html": [
       "<div>\n",
       "<style scoped>\n",
       "    .dataframe tbody tr th:only-of-type {\n",
       "        vertical-align: middle;\n",
       "    }\n",
       "\n",
       "    .dataframe tbody tr th {\n",
       "        vertical-align: top;\n",
       "    }\n",
       "\n",
       "    .dataframe thead th {\n",
       "        text-align: right;\n",
       "    }\n",
       "</style>\n",
       "<table border=\"1\" class=\"dataframe\">\n",
       "  <thead>\n",
       "    <tr style=\"text-align: right;\">\n",
       "      <th></th>\n",
       "      <th>signal</th>\n",
       "      <th>time</th>\n",
       "    </tr>\n",
       "  </thead>\n",
       "  <tbody>\n",
       "    <tr>\n",
       "      <th>19447</th>\n",
       "      <td>buy</td>\n",
       "      <td>2025-03-20 12:24:00</td>\n",
       "    </tr>\n",
       "    <tr>\n",
       "      <th>19448</th>\n",
       "      <td>buy</td>\n",
       "      <td>2025-03-20 12:25:00</td>\n",
       "    </tr>\n",
       "    <tr>\n",
       "      <th>19449</th>\n",
       "      <td>buy</td>\n",
       "      <td>2025-03-20 12:26:00</td>\n",
       "    </tr>\n",
       "    <tr>\n",
       "      <th>19450</th>\n",
       "      <td>buy</td>\n",
       "      <td>2025-03-20 12:27:00</td>\n",
       "    </tr>\n",
       "    <tr>\n",
       "      <th>19451</th>\n",
       "      <td>buy</td>\n",
       "      <td>2025-03-20 12:28:00</td>\n",
       "    </tr>\n",
       "    <tr>\n",
       "      <th>...</th>\n",
       "      <td>...</td>\n",
       "      <td>...</td>\n",
       "    </tr>\n",
       "    <tr>\n",
       "      <th>64389</th>\n",
       "      <td>sell</td>\n",
       "      <td>2025-05-02 18:18:00</td>\n",
       "    </tr>\n",
       "    <tr>\n",
       "      <th>64390</th>\n",
       "      <td>sell</td>\n",
       "      <td>2025-05-02 18:19:00</td>\n",
       "    </tr>\n",
       "    <tr>\n",
       "      <th>64391</th>\n",
       "      <td>sell</td>\n",
       "      <td>2025-05-02 18:20:00</td>\n",
       "    </tr>\n",
       "    <tr>\n",
       "      <th>64392</th>\n",
       "      <td>sell</td>\n",
       "      <td>2025-05-02 18:21:00</td>\n",
       "    </tr>\n",
       "    <tr>\n",
       "      <th>64393</th>\n",
       "      <td>sell</td>\n",
       "      <td>2025-05-02 18:22:00</td>\n",
       "    </tr>\n",
       "  </tbody>\n",
       "</table>\n",
       "<p>3360 rows × 2 columns</p>\n",
       "</div>"
      ],
      "text/plain": [
       "      signal                time\n",
       "19447    buy 2025-03-20 12:24:00\n",
       "19448    buy 2025-03-20 12:25:00\n",
       "19449    buy 2025-03-20 12:26:00\n",
       "19450    buy 2025-03-20 12:27:00\n",
       "19451    buy 2025-03-20 12:28:00\n",
       "...      ...                 ...\n",
       "64389   sell 2025-05-02 18:18:00\n",
       "64390   sell 2025-05-02 18:19:00\n",
       "64391   sell 2025-05-02 18:20:00\n",
       "64392   sell 2025-05-02 18:21:00\n",
       "64393   sell 2025-05-02 18:22:00\n",
       "\n",
       "[3360 rows x 2 columns]"
      ]
     },
     "execution_count": 402,
     "metadata": {},
     "output_type": "execute_result"
    }
   ],
   "source": [
    "ohlc_df = ohlc_df.copy()\n",
    "ohlc_df['time'] = pd.to_datetime(ohlc_df['time'])\n",
    "ohlc_df = ohlc_df.sort_values('time')\n",
    "\n",
    "daily_df = daily_df.copy()\n",
    "daily_df['time'] = pd.to_datetime(daily_df['time'])\n",
    "daily_df = daily_df.sort_values('time')\n",
    "def entring_stoploss_profit(row, ohlc_df) :\n",
    "    if row[\"prev_sma_11\"] > row['sma_114'] and row[\"low_x\"] <= row[\"S2\"] :\n",
    "        return \"buy\"\n",
    "    elif row['prev_sma_11'] < row['sma_114'] and row[\"high_x\"] >= row[\"R2\"]:\n",
    "        return \"sell\"\n",
    "    # Merge daily indicators into minute data (asof = merge on closest earlier date)\n",
    "merged_df = pd.merge_asof(ohlc_df, daily_df, on='time', direction='backward')\n",
    "merged_df[\"signal\"] = merged_df.apply(entring_stoploss_profit, axis=1, ohlc_df = ohlc_df)\n",
    "merged_df[[\"signal\",\"time\"]].dropna()\n",
    "\n"
   ]
  },
  {
   "cell_type": "code",
   "execution_count": 403,
   "metadata": {},
   "outputs": [],
   "source": [
    "merged_df = merged_df.rename(columns={\n",
    "    \"low_x\": \"low\",\n",
    "    \"high_x\": \"high\",\n",
    "    \"open_x\": \"open\",\n",
    "    \"close_x\": \"close\",\n",
    "    \"low_y\": \"daily_low\",\n",
    "    \"high_y\": \"daily_high\",\n",
    "    \"open_y\": \"daily_open\",\n",
    "    \"close_y\": \"daily_close\"\n",
    "})\n"
   ]
  },
  {
   "cell_type": "code",
   "execution_count": 404,
   "metadata": {},
   "outputs": [
    {
     "name": "stdout",
     "output_type": "stream",
     "text": [
      "['time', 'open', 'high', 'low', 'close', 'daily_open', 'daily_high', 'daily_low', 'daily_close', 'pivot', 'prange', 'R1', 'R2', 'R3', 'S1', 'S2', 'S3', 'ohlc4', 'sma_11', 'prev_sma_11', 'sma_114', 'sell_stope_loss', 'buy_stope_loss', 'sell_profit', 'buy_profit', 'signal']\n"
     ]
    }
   ],
   "source": [
    "print(merged_df.columns.tolist())\n",
    "\n"
   ]
  },
  {
   "cell_type": "code",
   "execution_count": 405,
   "metadata": {},
   "outputs": [],
   "source": [
    "# create trade logic\n",
    "def on_bar(data, trades, orders):\n",
    "    #daily_df['time'] = pd.to_datetime(daily_df['time']).dt.strftime('%Y-%m-%d %H:%M:%S')\n",
    "     # 0.25 lots\n",
    "    open_trades = trades[trades['state'] == 'open']\n",
    "    num_open_trades = open_trades.shape[0]\n",
    "    if 'signal' not in data:\n",
    "        print(\"Warning: 'signal' column is missing!\")\n",
    "        return\n",
    "    account_balance = 10000  # your account in USD\n",
    "    risk_percent = 0.04  # 4%\n",
    "    pip_value_per_lot = 10  # on EURUSD, 1 lot = $10 per pip\n",
    "    risk_amount = account_balance * risk_percent\n",
    "    # entry signal\n",
    "    if data['signal'] == 'buy' and not num_open_trades:\n",
    "        stop_loss_pips = data['S2'] - (data[\"S2\"] - ((data[\"R1\"] - data[\"S2\"]) /2)) # example SL\n",
    "        volume = 25000#risk_amount / (stop_loss_pips * pip_value_per_lot)\n",
    "        orders.open_trade(symbol, volume, 'buy')\n",
    "    \n",
    "    elif data['signal'] == 'sell' and not num_open_trades:\n",
    "        stop_loss_pips = ((data[\"R2\"] - data[\"S1\"]) /2 + data[\"R2\"]) - data[\"R2\"]\n",
    "        volume = 25000#risk_amount / (stop_loss_pips * pip_value_per_lot)\n",
    "        orders.open_trade(symbol, volume, 'sell')\n",
    "        \n",
    "# exit signal\n",
    "    if num_open_trades:\n",
    "        trade = open_trades.iloc[0]\n",
    "\n",
    "        if trade['order_type'] == 'buy' and ((data[\"low\"] <= data[\"S2\"] - ((data[\"R1\"] - data[\"S2\"]) /2)) \n",
    "                                            or (data[\"high\"] >= data[\"R1\"]) \n",
    "                                            or (data['time'].time() == pd.to_datetime('00:00:00').time())):\n",
    "            orders.close_trade(trade)\n",
    "        elif trade['order_type'] == 'sell' and ((data[\"high\"] >= (data[\"R2\"] - data[\"S1\"]) /2 + data[\"R2\"]) \n",
    "                                            or (data[\"low\"] <= data[\"S1\"]) \n",
    "                                            or (data['time'].time() == pd.to_datetime('00:00:00').time())):\n",
    "            orders.close_trade(trade)"
   ]
  },
  {
   "cell_type": "code",
   "execution_count": 414,
   "metadata": {},
   "outputs": [
    {
     "data": {
      "text/html": [
       "<div>\n",
       "<style scoped>\n",
       "    .dataframe tbody tr th:only-of-type {\n",
       "        vertical-align: middle;\n",
       "    }\n",
       "\n",
       "    .dataframe tbody tr th {\n",
       "        vertical-align: top;\n",
       "    }\n",
       "\n",
       "    .dataframe thead th {\n",
       "        text-align: right;\n",
       "    }\n",
       "</style>\n",
       "<table border=\"1\" class=\"dataframe\">\n",
       "  <thead>\n",
       "    <tr style=\"text-align: right;\">\n",
       "      <th></th>\n",
       "      <th>state</th>\n",
       "      <th>symbol</th>\n",
       "      <th>order_type</th>\n",
       "      <th>volume</th>\n",
       "      <th>open_time</th>\n",
       "      <th>open_price</th>\n",
       "      <th>close_time</th>\n",
       "      <th>close_price</th>\n",
       "      <th>sl</th>\n",
       "      <th>tp</th>\n",
       "      <th>info</th>\n",
       "      <th>profit</th>\n",
       "      <th>commission</th>\n",
       "      <th>profit_net</th>\n",
       "      <th>profit_cumulative</th>\n",
       "      <th>balance</th>\n",
       "    </tr>\n",
       "  </thead>\n",
       "  <tbody>\n",
       "    <tr>\n",
       "      <th>0</th>\n",
       "      <td>closed</td>\n",
       "      <td>EURUSD</td>\n",
       "      <td>buy</td>\n",
       "      <td>25000</td>\n",
       "      <td>2025-03-20 12:24:00</td>\n",
       "      <td>1.08503</td>\n",
       "      <td>2025-03-21 00:00:00</td>\n",
       "      <td>1.08494</td>\n",
       "      <td>0</td>\n",
       "      <td>0</td>\n",
       "      <td>{}</td>\n",
       "      <td>-2.25</td>\n",
       "      <td>-1.75</td>\n",
       "      <td>-4.0</td>\n",
       "      <td>-4.0</td>\n",
       "      <td>9996.0</td>\n",
       "    </tr>\n",
       "    <tr>\n",
       "      <th>1</th>\n",
       "      <td>closed</td>\n",
       "      <td>EURUSD</td>\n",
       "      <td>buy</td>\n",
       "      <td>25000</td>\n",
       "      <td>2025-03-21 18:53:00</td>\n",
       "      <td>1.08077</td>\n",
       "      <td>2025-03-24 00:00:00</td>\n",
       "      <td>1.08127</td>\n",
       "      <td>0</td>\n",
       "      <td>0</td>\n",
       "      <td>{}</td>\n",
       "      <td>12.50</td>\n",
       "      <td>-1.75</td>\n",
       "      <td>10.75</td>\n",
       "      <td>6.75</td>\n",
       "      <td>10006.75</td>\n",
       "    </tr>\n",
       "    <tr>\n",
       "      <th>2</th>\n",
       "      <td>closed</td>\n",
       "      <td>EURUSD</td>\n",
       "      <td>sell</td>\n",
       "      <td>25000</td>\n",
       "      <td>2025-03-27 18:31:00</td>\n",
       "      <td>1.08007</td>\n",
       "      <td>2025-03-28 00:00:00</td>\n",
       "      <td>1.08011</td>\n",
       "      <td>0</td>\n",
       "      <td>0</td>\n",
       "      <td>{}</td>\n",
       "      <td>-1.00</td>\n",
       "      <td>-1.75</td>\n",
       "      <td>-2.75</td>\n",
       "      <td>4.0</td>\n",
       "      <td>10004.0</td>\n",
       "    </tr>\n",
       "    <tr>\n",
       "      <th>3</th>\n",
       "      <td>closed</td>\n",
       "      <td>EURUSD</td>\n",
       "      <td>sell</td>\n",
       "      <td>25000</td>\n",
       "      <td>2025-03-28 18:23:00</td>\n",
       "      <td>1.08378</td>\n",
       "      <td>2025-03-31 00:00:00</td>\n",
       "      <td>1.08225</td>\n",
       "      <td>0</td>\n",
       "      <td>0</td>\n",
       "      <td>{}</td>\n",
       "      <td>38.25</td>\n",
       "      <td>-1.75</td>\n",
       "      <td>36.5</td>\n",
       "      <td>40.5</td>\n",
       "      <td>10040.5</td>\n",
       "    </tr>\n",
       "    <tr>\n",
       "      <th>4</th>\n",
       "      <td>closed</td>\n",
       "      <td>EURUSD</td>\n",
       "      <td>sell</td>\n",
       "      <td>25000</td>\n",
       "      <td>2025-04-02 17:41:00</td>\n",
       "      <td>1.08282</td>\n",
       "      <td>2025-04-02 17:52:00</td>\n",
       "      <td>1.08523</td>\n",
       "      <td>0</td>\n",
       "      <td>0</td>\n",
       "      <td>{}</td>\n",
       "      <td>-60.25</td>\n",
       "      <td>-1.75</td>\n",
       "      <td>-62.0</td>\n",
       "      <td>-21.5</td>\n",
       "      <td>9978.5</td>\n",
       "    </tr>\n",
       "  </tbody>\n",
       "</table>\n",
       "</div>"
      ],
      "text/plain": [
       "    state  symbol order_type volume            open_time open_price  \\\n",
       "0  closed  EURUSD        buy  25000  2025-03-20 12:24:00    1.08503   \n",
       "1  closed  EURUSD        buy  25000  2025-03-21 18:53:00    1.08077   \n",
       "2  closed  EURUSD       sell  25000  2025-03-27 18:31:00    1.08007   \n",
       "3  closed  EURUSD       sell  25000  2025-03-28 18:23:00    1.08378   \n",
       "4  closed  EURUSD       sell  25000  2025-04-02 17:41:00    1.08282   \n",
       "\n",
       "            close_time close_price sl tp info  profit commission profit_net  \\\n",
       "0  2025-03-21 00:00:00     1.08494  0  0   {}   -2.25      -1.75       -4.0   \n",
       "1  2025-03-24 00:00:00     1.08127  0  0   {}   12.50      -1.75      10.75   \n",
       "2  2025-03-28 00:00:00     1.08011  0  0   {}   -1.00      -1.75      -2.75   \n",
       "3  2025-03-31 00:00:00     1.08225  0  0   {}   38.25      -1.75       36.5   \n",
       "4  2025-04-02 17:52:00     1.08523  0  0   {}  -60.25      -1.75      -62.0   \n",
       "\n",
       "  profit_cumulative   balance  \n",
       "0              -4.0    9996.0  \n",
       "1              6.75  10006.75  \n",
       "2               4.0   10004.0  \n",
       "3              40.5   10040.5  \n",
       "4             -21.5    9978.5  "
      ]
     },
     "execution_count": 414,
     "metadata": {},
     "output_type": "execute_result"
    }
   ],
   "source": [
    "# backtest parameters\n",
    "starting_balance = 10000\n",
    "currency = 'USD'\n",
    "exchange_rate = 1\n",
    "commission = -7 / 100000\n",
    "\n",
    "# backtest\n",
    "bt = Backtester()\n",
    "bt.set_starting_balance(starting_balance, currency=currency)\n",
    "bt.set_exchange_rate(exchange_rate)\n",
    "bt.set_commission(commission)\n",
    "\n",
    "bt.set_historical_data(merged_df)\n",
    "bt.set_on_bar(on_bar)\n",
    "\n",
    "bt.run_backtest()\n",
    "\n",
    "bt.trades.head(5)"
   ]
  },
  {
   "cell_type": "code",
   "execution_count": 407,
   "metadata": {},
   "outputs": [
    {
     "data": {
      "application/vnd.plotly.v1+json": {
       "config": {
        "plotlyServerURL": "https://plot.ly"
       },
       "data": [
        {
         "hovertemplate": "close_time=%{x}<br>balance=%{y}<extra></extra>",
         "legendgroup": "",
         "line": {
          "color": "#636efa",
          "dash": "solid"
         },
         "marker": {
          "symbol": "circle"
         },
         "mode": "lines",
         "name": "",
         "orientation": "v",
         "showlegend": false,
         "type": "scatter",
         "x": [
          "2025-03-21T00:00:00",
          "2025-03-24T00:00:00",
          "2025-03-28T00:00:00",
          "2025-03-31T00:00:00",
          "2025-04-02T17:52:00",
          "2025-04-02T17:54:00",
          "2025-04-02T17:56:00",
          "2025-04-02T17:59:00",
          "2025-04-02T18:07:00",
          "2025-04-02T18:09:00",
          "2025-04-02T18:11:00",
          "2025-04-02T18:23:00",
          "2025-04-02T18:30:00",
          "2025-04-02T18:39:00",
          "2025-04-02T18:41:00",
          "2025-04-02T18:43:00",
          "2025-04-02T18:45:00",
          "2025-04-02T18:47:00",
          "2025-04-02T18:49:00",
          "2025-04-02T18:51:00",
          "2025-04-02T18:53:00",
          "2025-04-02T18:55:00",
          "2025-04-02T18:57:00",
          "2025-04-02T18:59:00",
          "2025-04-02T19:01:00",
          "2025-04-02T19:03:00",
          "2025-04-02T19:05:00",
          "2025-04-02T19:07:00",
          "2025-04-02T19:09:00",
          "2025-04-02T19:11:00",
          "2025-04-02T19:13:00",
          "2025-04-02T19:15:00",
          "2025-04-02T20:05:00",
          "2025-04-02T20:36:00",
          "2025-04-02T20:40:00",
          "2025-04-02T20:42:00",
          "2025-04-02T21:33:00",
          "2025-04-02T21:35:00",
          "2025-04-02T21:37:00",
          "2025-04-02T21:39:00",
          "2025-04-02T21:52:00",
          "2025-04-02T23:13:00",
          "2025-04-02T23:15:00",
          "2025-04-02T23:17:00",
          "2025-04-02T23:19:00",
          "2025-04-02T23:21:00",
          "2025-04-02T23:23:00",
          "2025-04-02T23:25:00",
          "2025-04-02T23:58:00",
          "2025-04-03T11:40:00",
          "2025-04-03T11:46:00",
          "2025-04-03T11:48:00",
          "2025-04-03T11:50:00",
          "2025-04-03T11:54:00",
          "2025-04-03T12:07:00",
          "2025-04-03T12:09:00",
          "2025-04-03T12:11:00",
          "2025-04-03T12:13:00",
          "2025-04-03T12:15:00",
          "2025-04-03T12:17:00",
          "2025-04-03T12:19:00",
          "2025-04-03T12:21:00",
          "2025-04-03T12:23:00",
          "2025-04-03T12:25:00",
          "2025-04-03T12:27:00",
          "2025-04-03T12:29:00",
          "2025-04-03T12:31:00",
          "2025-04-03T12:33:00",
          "2025-04-03T12:35:00",
          "2025-04-03T12:37:00",
          "2025-04-03T12:39:00",
          "2025-04-03T12:41:00",
          "2025-04-03T12:43:00",
          "2025-04-03T12:45:00",
          "2025-04-03T12:47:00",
          "2025-04-03T12:49:00",
          "2025-04-03T12:51:00",
          "2025-04-03T12:53:00",
          "2025-04-03T12:55:00",
          "2025-04-03T12:57:00",
          "2025-04-03T12:59:00",
          "2025-04-03T13:01:00",
          "2025-04-03T13:03:00",
          "2025-04-03T13:05:00",
          "2025-04-03T13:07:00",
          "2025-04-03T13:09:00",
          "2025-04-03T13:11:00",
          "2025-04-03T13:13:00",
          "2025-04-03T13:15:00",
          "2025-04-03T13:17:00",
          "2025-04-03T13:19:00",
          "2025-04-03T13:21:00",
          "2025-04-03T13:23:00",
          "2025-04-03T13:25:00",
          "2025-04-03T13:27:00",
          "2025-04-03T13:29:00",
          "2025-04-03T13:31:00",
          "2025-04-03T13:33:00",
          "2025-04-03T13:35:00",
          "2025-04-03T13:37:00",
          "2025-04-03T13:39:00",
          "2025-04-03T13:41:00",
          "2025-04-03T13:43:00",
          "2025-04-03T13:45:00",
          "2025-04-03T13:47:00",
          "2025-04-03T13:49:00",
          "2025-04-03T13:51:00",
          "2025-04-03T13:53:00",
          "2025-04-03T13:55:00",
          "2025-04-03T13:57:00",
          "2025-04-03T13:59:00",
          "2025-04-03T14:01:00",
          "2025-04-03T14:03:00",
          "2025-04-03T14:05:00",
          "2025-04-03T14:07:00",
          "2025-04-03T14:09:00",
          "2025-04-03T14:11:00",
          "2025-04-03T14:13:00",
          "2025-04-03T14:15:00",
          "2025-04-03T14:17:00",
          "2025-04-03T14:19:00",
          "2025-04-03T14:21:00",
          "2025-04-03T14:23:00",
          "2025-04-03T14:25:00",
          "2025-04-03T14:27:00",
          "2025-04-03T14:29:00",
          "2025-04-03T14:31:00",
          "2025-04-03T14:33:00",
          "2025-04-03T14:35:00",
          "2025-04-03T14:37:00",
          "2025-04-03T14:39:00",
          "2025-04-03T14:41:00",
          "2025-04-03T14:43:00",
          "2025-04-03T14:45:00",
          "2025-04-03T14:47:00",
          "2025-04-03T14:49:00",
          "2025-04-03T14:51:00",
          "2025-04-03T14:53:00",
          "2025-04-03T14:55:00",
          "2025-04-03T14:57:00",
          "2025-04-03T14:59:00",
          "2025-04-03T15:01:00",
          "2025-04-03T15:03:00",
          "2025-04-03T15:05:00",
          "2025-04-03T15:07:00",
          "2025-04-03T15:09:00",
          "2025-04-03T15:11:00",
          "2025-04-03T15:13:00",
          "2025-04-03T15:15:00",
          "2025-04-03T15:17:00",
          "2025-04-03T15:19:00",
          "2025-04-03T15:21:00",
          "2025-04-03T15:23:00",
          "2025-04-03T15:25:00",
          "2025-04-03T15:27:00",
          "2025-04-03T15:29:00",
          "2025-04-03T15:31:00",
          "2025-04-03T15:33:00",
          "2025-04-03T15:35:00",
          "2025-04-03T15:37:00",
          "2025-04-03T15:39:00",
          "2025-04-03T15:41:00",
          "2025-04-03T15:43:00",
          "2025-04-03T15:45:00",
          "2025-04-03T15:47:00",
          "2025-04-03T15:49:00",
          "2025-04-03T15:51:00",
          "2025-04-03T15:53:00",
          "2025-04-03T15:55:00",
          "2025-04-03T15:57:00",
          "2025-04-03T15:59:00",
          "2025-04-03T16:01:00",
          "2025-04-03T16:03:00",
          "2025-04-03T16:05:00",
          "2025-04-03T16:07:00",
          "2025-04-03T16:09:00",
          "2025-04-03T16:11:00",
          "2025-04-03T16:13:00",
          "2025-04-03T16:15:00",
          "2025-04-03T16:17:00",
          "2025-04-03T16:19:00",
          "2025-04-03T16:21:00",
          "2025-04-03T16:23:00",
          "2025-04-03T16:25:00",
          "2025-04-03T16:27:00",
          "2025-04-03T16:29:00",
          "2025-04-03T16:31:00",
          "2025-04-03T16:33:00",
          "2025-04-03T16:35:00",
          "2025-04-03T16:37:00",
          "2025-04-03T16:39:00",
          "2025-04-03T16:41:00",
          "2025-04-03T16:43:00",
          "2025-04-03T16:45:00",
          "2025-04-03T16:47:00",
          "2025-04-03T16:49:00",
          "2025-04-03T16:51:00",
          "2025-04-03T16:53:00",
          "2025-04-03T16:55:00",
          "2025-04-03T16:57:00",
          "2025-04-03T16:59:00",
          "2025-04-03T17:01:00",
          "2025-04-03T17:03:00",
          "2025-04-03T17:05:00",
          "2025-04-03T17:07:00",
          "2025-04-03T17:09:00",
          "2025-04-03T17:11:00",
          "2025-04-03T17:13:00",
          "2025-04-03T17:15:00",
          "2025-04-03T17:17:00",
          "2025-04-03T17:19:00",
          "2025-04-03T17:21:00",
          "2025-04-03T17:23:00",
          "2025-04-03T17:25:00",
          "2025-04-03T17:27:00",
          "2025-04-03T17:29:00",
          "2025-04-03T17:31:00",
          "2025-04-03T17:33:00",
          "2025-04-03T17:35:00",
          "2025-04-03T17:37:00",
          "2025-04-03T17:39:00",
          "2025-04-03T17:41:00",
          "2025-04-03T17:43:00",
          "2025-04-03T17:45:00",
          "2025-04-03T17:47:00",
          "2025-04-03T17:49:00",
          "2025-04-03T17:51:00",
          "2025-04-03T17:53:00",
          "2025-04-03T17:55:00",
          "2025-04-03T17:57:00",
          "2025-04-03T17:59:00",
          "2025-04-03T18:01:00",
          "2025-04-03T18:03:00",
          "2025-04-03T18:05:00",
          "2025-04-03T18:07:00",
          "2025-04-03T18:09:00",
          "2025-04-03T18:11:00",
          "2025-04-03T18:13:00",
          "2025-04-03T18:15:00",
          "2025-04-03T18:17:00",
          "2025-04-03T18:19:00",
          "2025-04-03T18:21:00",
          "2025-04-03T18:23:00",
          "2025-04-03T18:25:00",
          "2025-04-03T18:27:00",
          "2025-04-03T18:29:00",
          "2025-04-03T18:31:00",
          "2025-04-03T18:33:00",
          "2025-04-03T18:35:00",
          "2025-04-03T18:37:00",
          "2025-04-03T18:39:00",
          "2025-04-03T18:41:00",
          "2025-04-03T18:43:00",
          "2025-04-03T18:45:00",
          "2025-04-03T18:47:00",
          "2025-04-03T18:49:00",
          "2025-04-03T18:51:00",
          "2025-04-03T18:53:00",
          "2025-04-03T18:55:00",
          "2025-04-03T18:57:00",
          "2025-04-03T18:59:00",
          "2025-04-03T19:01:00",
          "2025-04-03T19:03:00",
          "2025-04-03T19:05:00",
          "2025-04-03T19:07:00",
          "2025-04-03T19:09:00",
          "2025-04-03T19:11:00",
          "2025-04-03T19:13:00",
          "2025-04-03T19:15:00",
          "2025-04-03T19:17:00",
          "2025-04-03T19:19:00",
          "2025-04-03T19:21:00",
          "2025-04-03T19:23:00",
          "2025-04-03T19:25:00",
          "2025-04-03T19:27:00",
          "2025-04-03T19:29:00",
          "2025-04-03T19:31:00",
          "2025-04-03T19:33:00",
          "2025-04-03T19:35:00",
          "2025-04-03T19:37:00",
          "2025-04-03T19:39:00",
          "2025-04-03T19:41:00",
          "2025-04-03T19:43:00",
          "2025-04-03T19:45:00",
          "2025-04-03T19:47:00",
          "2025-04-03T19:49:00",
          "2025-04-03T19:51:00",
          "2025-04-03T19:53:00",
          "2025-04-03T19:55:00",
          "2025-04-03T19:57:00",
          "2025-04-03T19:59:00",
          "2025-04-03T20:01:00",
          "2025-04-03T20:03:00",
          "2025-04-03T20:05:00",
          "2025-04-03T20:07:00",
          "2025-04-03T20:09:00",
          "2025-04-03T20:11:00",
          "2025-04-03T20:13:00",
          "2025-04-03T20:15:00",
          "2025-04-03T20:17:00",
          "2025-04-03T20:19:00",
          "2025-04-03T20:21:00",
          "2025-04-03T20:23:00",
          "2025-04-03T20:25:00",
          "2025-04-03T20:27:00",
          "2025-04-03T20:29:00",
          "2025-04-03T20:31:00",
          "2025-04-03T20:33:00",
          "2025-04-03T20:35:00",
          "2025-04-03T20:37:00",
          "2025-04-03T20:39:00",
          "2025-04-03T20:41:00",
          "2025-04-03T20:43:00",
          "2025-04-03T20:45:00",
          "2025-04-03T20:47:00",
          "2025-04-03T20:49:00",
          "2025-04-03T20:51:00",
          "2025-04-03T20:53:00",
          "2025-04-03T20:55:00",
          "2025-04-03T20:57:00",
          "2025-04-03T20:59:00",
          "2025-04-03T21:01:00",
          "2025-04-03T21:03:00",
          "2025-04-03T21:05:00",
          "2025-04-03T21:07:00",
          "2025-04-03T21:09:00",
          "2025-04-03T21:11:00",
          "2025-04-03T21:13:00",
          "2025-04-03T21:15:00",
          "2025-04-03T21:17:00",
          "2025-04-03T21:19:00",
          "2025-04-03T21:21:00",
          "2025-04-03T21:23:00",
          "2025-04-03T21:25:00",
          "2025-04-03T21:27:00",
          "2025-04-03T21:29:00",
          "2025-04-03T21:31:00",
          "2025-04-03T21:33:00",
          "2025-04-03T21:35:00",
          "2025-04-03T21:37:00",
          "2025-04-03T21:39:00",
          "2025-04-03T21:41:00",
          "2025-04-03T21:43:00",
          "2025-04-03T21:45:00",
          "2025-04-03T21:47:00",
          "2025-04-03T21:49:00",
          "2025-04-03T21:51:00",
          "2025-04-03T21:53:00",
          "2025-04-03T21:55:00",
          "2025-04-03T21:57:00",
          "2025-04-03T21:59:00",
          "2025-04-03T22:01:00",
          "2025-04-03T22:03:00",
          "2025-04-03T22:05:00",
          "2025-04-03T22:07:00",
          "2025-04-03T22:09:00",
          "2025-04-03T22:11:00",
          "2025-04-03T22:13:00",
          "2025-04-03T22:15:00",
          "2025-04-03T22:17:00",
          "2025-04-03T22:19:00",
          "2025-04-03T22:21:00",
          "2025-04-03T22:23:00",
          "2025-04-03T22:25:00",
          "2025-04-03T22:27:00",
          "2025-04-03T22:29:00",
          "2025-04-03T22:31:00",
          "2025-04-03T22:33:00",
          "2025-04-03T22:35:00",
          "2025-04-03T22:37:00",
          "2025-04-03T22:39:00",
          "2025-04-03T22:41:00",
          "2025-04-03T22:43:00",
          "2025-04-03T22:45:00",
          "2025-04-03T22:47:00",
          "2025-04-03T22:49:00",
          "2025-04-03T22:51:00",
          "2025-04-03T22:53:00",
          "2025-04-03T22:55:00",
          "2025-04-03T22:57:00",
          "2025-04-03T22:59:00",
          "2025-04-03T23:01:00",
          "2025-04-03T23:03:00",
          "2025-04-03T23:05:00",
          "2025-04-03T23:07:00",
          "2025-04-03T23:09:00",
          "2025-04-03T23:11:00",
          "2025-04-03T23:13:00",
          "2025-04-03T23:15:00",
          "2025-04-03T23:17:00",
          "2025-04-03T23:19:00",
          "2025-04-03T23:21:00",
          "2025-04-03T23:23:00",
          "2025-04-03T23:25:00",
          "2025-04-03T23:27:00",
          "2025-04-03T23:29:00",
          "2025-04-03T23:31:00",
          "2025-04-03T23:33:00",
          "2025-04-03T23:35:00",
          "2025-04-03T23:37:00",
          "2025-04-03T23:39:00",
          "2025-04-03T23:41:00",
          "2025-04-03T23:43:00",
          "2025-04-03T23:45:00",
          "2025-04-03T23:47:00",
          "2025-04-03T23:49:00",
          "2025-04-03T23:51:00",
          "2025-04-03T23:53:00",
          "2025-04-03T23:55:00",
          "2025-04-03T23:57:00",
          "2025-04-04T00:00:00",
          "2025-04-08T00:00:00",
          "2025-04-16T00:00:00",
          "2025-04-23T01:29:00",
          "2025-04-23T01:33:00",
          "2025-04-23T01:35:00",
          "2025-04-23T01:37:00",
          "2025-04-23T01:39:00",
          "2025-04-23T21:32:00",
          "2025-04-23T21:34:00",
          "2025-04-23T21:43:00",
          "2025-04-23T21:45:00",
          "2025-04-23T23:21:00",
          "2025-04-23T23:23:00",
          "2025-04-23T23:25:00",
          "2025-04-23T23:27:00",
          "2025-04-23T23:29:00",
          "2025-04-23T23:31:00",
          "2025-04-23T23:33:00",
          "2025-04-23T23:35:00",
          "2025-04-23T23:37:00",
          "2025-04-23T23:39:00",
          "2025-04-23T23:41:00",
          "2025-04-23T23:43:00",
          "2025-04-23T23:45:00",
          "2025-04-23T23:47:00",
          "2025-04-23T23:49:00",
          "2025-04-23T23:51:00",
          "2025-04-23T23:53:00",
          "2025-04-23T23:55:00",
          "2025-04-23T23:57:00",
          "2025-04-24T00:00:00",
          "2025-04-30T18:29:00",
          "2025-04-30T18:31:00",
          "2025-04-30T18:33:00",
          "2025-04-30T18:35:00",
          "2025-04-30T18:37:00",
          "2025-04-30T18:44:00",
          "2025-04-30T18:46:00",
          "2025-04-30T18:48:00",
          "2025-04-30T18:50:00",
          "2025-04-30T22:57:00",
          "2025-04-30T22:59:00",
          "2025-04-30T23:01:00",
          "2025-04-30T23:03:00",
          "2025-04-30T23:05:00",
          "2025-04-30T23:07:00",
          "2025-04-30T23:09:00",
          "2025-04-30T23:11:00",
          "2025-04-30T23:13:00",
          "2025-04-30T23:15:00",
          "2025-04-30T23:17:00",
          "2025-04-30T23:19:00",
          "2025-04-30T23:21:00",
          "2025-04-30T23:23:00",
          "2025-04-30T23:25:00",
          "2025-04-30T23:27:00",
          "2025-04-30T23:29:00",
          "2025-04-30T23:31:00",
          "2025-04-30T23:33:00",
          "2025-04-30T23:35:00",
          "2025-04-30T23:37:00",
          "2025-04-30T23:39:00",
          "2025-04-30T23:41:00",
          "2025-04-30T23:43:00",
          "2025-04-30T23:45:00",
          "2025-04-30T23:47:00",
          "2025-04-30T23:49:00",
          "2025-04-30T23:51:00",
          "2025-04-30T23:53:00",
          "2025-04-30T23:55:00",
          "2025-04-30T23:57:00",
          "2025-05-01T00:00:00",
          "2025-05-02T22:59:00"
         ],
         "xaxis": "x",
         "y": [
          9996,
          10006.75,
          10004,
          10040.5,
          9978.5,
          9980.75,
          9973.5,
          9969,
          9973.75,
          9966.5,
          9972.5,
          9965,
          9968.5,
          9968.5,
          9959,
          9957.5,
          9956,
          9958,
          9951,
          9947.25,
          9948.25,
          9936.25,
          9935.75,
          9938.5,
          9940,
          9938,
          9934.5,
          9936.5,
          9936.75,
          9933.25,
          9931.75,
          9929,
          9925.25,
          9926,
          9922.25,
          9924.75,
          9929,
          9927.25,
          9925.25,
          9922.75,
          9923.25,
          9957.25,
          9954.75,
          9919,
          9962.5,
          9942.25,
          9964,
          9978,
          10082.5,
          9900.5,
          9916,
          9917,
          9912.25,
          9925.75,
          9935.25,
          9894.5,
          9892.75,
          9876,
          9898,
          9901.5,
          9894.75,
          9902.5,
          9901,
          9895.75,
          9901.75,
          9890.75,
          9904.5,
          9896.25,
          9886.25,
          9884.75,
          9890.5,
          9883.25,
          9877,
          9886.75,
          9886.5,
          9887.25,
          9884.25,
          9877.25,
          9875.75,
          9879.5,
          9872,
          9875,
          9862.25,
          9849.5,
          9859.75,
          9867.5,
          9861.75,
          9733,
          9775,
          9781,
          9757.75,
          9756,
          9768.5,
          9771.5,
          9791.5,
          9788,
          9782.5,
          9764.5,
          9766.25,
          9770.25,
          9778.5,
          9792,
          9782.25,
          9773.25,
          9770.75,
          9773,
          9767.5,
          9789.5,
          9793,
          9801,
          9813.75,
          9809.25,
          9807.25,
          9813.5,
          9799.5,
          9790,
          9796.25,
          9779.75,
          9763.25,
          9772.25,
          9776,
          9760.75,
          9760.25,
          9765.25,
          9751.25,
          9753,
          9742.75,
          9735.75,
          9724,
          9737.75,
          9726.25,
          9736.75,
          9721.5,
          9702.5,
          9691.25,
          9704,
          9705.5,
          9692.5,
          9682.75,
          9688.5,
          9693.25,
          9689,
          9682.25,
          9676,
          9672.75,
          9688,
          9710.5,
          9703.75,
          9696.5,
          9695,
          9696.5,
          9693.5,
          9683,
          9704.75,
          9703.75,
          9707.5,
          9701.75,
          9694.25,
          9702.75,
          9705.25,
          9731.25,
          9722.5,
          9706,
          9702.25,
          9690,
          9687.75,
          9687,
          9703.25,
          9697.25,
          9706,
          9707.5,
          9707.75,
          9700.25,
          9672.5,
          9671.25,
          9666,
          9666.25,
          9674,
          9655.5,
          9650.75,
          9656.75,
          9648.5,
          9647.5,
          9651,
          9650.5,
          9669.75,
          9690.75,
          9697.25,
          9683.25,
          9680.75,
          9682.75,
          9682.25,
          9677.75,
          9675.75,
          9676.75,
          9694,
          9695,
          9707.5,
          9708,
          9702.25,
          9703,
          9648.5,
          9653,
          9669.5,
          9659.25,
          9674.75,
          9663.5,
          9660.5,
          9670.75,
          9667.5,
          9661,
          9643,
          9646.5,
          9652,
          9659,
          9661.5,
          9649,
          9651,
          9657,
          9653.25,
          9651.25,
          9656.25,
          9638.25,
          9630.25,
          9607.25,
          9615.5,
          9617,
          9604.25,
          9611.25,
          9606,
          9606.5,
          9606.25,
          9614.25,
          9623,
          9617,
          9611.25,
          9618.5,
          9627.5,
          9637.25,
          9635.25,
          9639,
          9642.25,
          9648.5,
          9653.5,
          9661.5,
          9659,
          9648,
          9649.75,
          9655.75,
          9654.25,
          9672,
          9668.5,
          9670.75,
          9663.75,
          9660.75,
          9654.25,
          9638.25,
          9631,
          9638.5,
          9628,
          9628,
          9629.5,
          9625.75,
          9627,
          9627,
          9637,
          9640,
          9627,
          9623.75,
          9625.25,
          9622.25,
          9633.75,
          9644,
          9638.5,
          9629.25,
          9625.75,
          9622,
          9622.75,
          9612.25,
          9612.75,
          9628.5,
          9615.75,
          9616.75,
          9604,
          9609.25,
          9610.25,
          9601.5,
          9599,
          9603.25,
          9603.5,
          9601.75,
          9604.5,
          9601.5,
          9612.75,
          9621,
          9621.25,
          9624.5,
          9631,
          9627.5,
          9613.5,
          9601.5,
          9603,
          9604.5,
          9615.5,
          9614.75,
          9608.5,
          9596.25,
          9594.25,
          9604,
          9604.5,
          9598.5,
          9595.25,
          9592,
          9599.25,
          9599.75,
          9603.5,
          9595.25,
          9599.25,
          9588.5,
          9588.75,
          9581.5,
          9582.25,
          9584.5,
          9579.5,
          9576.75,
          9567,
          9569,
          9565.25,
          9566,
          9560.75,
          9557.75,
          9548.75,
          9544,
          9554,
          9557.25,
          9559.25,
          9559.25,
          9558,
          9549.75,
          9546.5,
          9547,
          9546.25,
          9541.5,
          9541.25,
          9540.25,
          9539,
          9533,
          9541,
          9536.75,
          9537.25,
          9535.75,
          9539,
          9535.75,
          9530.5,
          9531,
          9530.5,
          9529,
          9527.5,
          9525,
          9527.25,
          9527.5,
          9529.25,
          9528.25,
          9529.25,
          9532.5,
          9529.75,
          9528,
          9520.5,
          9523.75,
          9522.75,
          9519.25,
          9514.25,
          9511.75,
          9511.25,
          9506.25,
          9505.25,
          9506.25,
          9501.75,
          9500.5,
          9492.75,
          9486.5,
          9493,
          9495,
          9495.5,
          9487.75,
          9486.25,
          9483,
          9479.75,
          9479,
          9475.75,
          9474,
          9468.75,
          9465.75,
          9460.5,
          9460.5,
          9458.75,
          9452.25,
          9444.5,
          9443.75,
          9443.75,
          9439.5,
          9434.75,
          9430.5,
          9419.5,
          9411.25,
          9407.75,
          9409.5,
          9409.25,
          9402.75,
          9402.25,
          9400.75,
          9451.25,
          9446.25,
          9282,
          9299.25,
          9297.75,
          9318.5,
          9308.5,
          9317.75,
          9314,
          9312.25,
          9308,
          9309.75,
          9307,
          9298.5,
          9292.75,
          9291,
          9297,
          9296,
          9290.75,
          9295.5,
          9293.5,
          9291.25,
          9289.75,
          9285.75,
          9281.25,
          9279.25,
          9279.25,
          9277.75,
          9275.75,
          9276.75,
          9266.5,
          9199.5,
          9182.5,
          9199,
          9183.25,
          9203.25,
          9196.5,
          9193.75,
          9195,
          9188.5,
          9195,
          9184.75,
          9173.75,
          9184.75,
          9183,
          9179.75,
          9171.5,
          9168.5,
          9168.75,
          9168.5,
          9161,
          9158.25,
          9158.75,
          9154,
          9152,
          9149.5,
          9150,
          9142,
          9143.25,
          9144.5,
          9143.5,
          9141.75,
          9137.5,
          9132.75,
          9130.25,
          9127.5,
          9124.5,
          9122.25,
          9121.5,
          9120.5,
          9123.25,
          9123.25,
          9216.25
         ],
         "yaxis": "y"
        }
       ],
       "layout": {
        "legend": {
         "tracegroupgap": 0
        },
        "template": {
         "data": {
          "bar": [
           {
            "error_x": {
             "color": "#f2f5fa"
            },
            "error_y": {
             "color": "#f2f5fa"
            },
            "marker": {
             "line": {
              "color": "rgb(17,17,17)",
              "width": 0.5
             },
             "pattern": {
              "fillmode": "overlay",
              "size": 10,
              "solidity": 0.2
             }
            },
            "type": "bar"
           }
          ],
          "barpolar": [
           {
            "marker": {
             "line": {
              "color": "rgb(17,17,17)",
              "width": 0.5
             },
             "pattern": {
              "fillmode": "overlay",
              "size": 10,
              "solidity": 0.2
             }
            },
            "type": "barpolar"
           }
          ],
          "carpet": [
           {
            "aaxis": {
             "endlinecolor": "#A2B1C6",
             "gridcolor": "#506784",
             "linecolor": "#506784",
             "minorgridcolor": "#506784",
             "startlinecolor": "#A2B1C6"
            },
            "baxis": {
             "endlinecolor": "#A2B1C6",
             "gridcolor": "#506784",
             "linecolor": "#506784",
             "minorgridcolor": "#506784",
             "startlinecolor": "#A2B1C6"
            },
            "type": "carpet"
           }
          ],
          "choropleth": [
           {
            "colorbar": {
             "outlinewidth": 0,
             "ticks": ""
            },
            "type": "choropleth"
           }
          ],
          "contour": [
           {
            "colorbar": {
             "outlinewidth": 0,
             "ticks": ""
            },
            "colorscale": [
             [
              0,
              "#0d0887"
             ],
             [
              0.1111111111111111,
              "#46039f"
             ],
             [
              0.2222222222222222,
              "#7201a8"
             ],
             [
              0.3333333333333333,
              "#9c179e"
             ],
             [
              0.4444444444444444,
              "#bd3786"
             ],
             [
              0.5555555555555556,
              "#d8576b"
             ],
             [
              0.6666666666666666,
              "#ed7953"
             ],
             [
              0.7777777777777778,
              "#fb9f3a"
             ],
             [
              0.8888888888888888,
              "#fdca26"
             ],
             [
              1,
              "#f0f921"
             ]
            ],
            "type": "contour"
           }
          ],
          "contourcarpet": [
           {
            "colorbar": {
             "outlinewidth": 0,
             "ticks": ""
            },
            "type": "contourcarpet"
           }
          ],
          "heatmap": [
           {
            "colorbar": {
             "outlinewidth": 0,
             "ticks": ""
            },
            "colorscale": [
             [
              0,
              "#0d0887"
             ],
             [
              0.1111111111111111,
              "#46039f"
             ],
             [
              0.2222222222222222,
              "#7201a8"
             ],
             [
              0.3333333333333333,
              "#9c179e"
             ],
             [
              0.4444444444444444,
              "#bd3786"
             ],
             [
              0.5555555555555556,
              "#d8576b"
             ],
             [
              0.6666666666666666,
              "#ed7953"
             ],
             [
              0.7777777777777778,
              "#fb9f3a"
             ],
             [
              0.8888888888888888,
              "#fdca26"
             ],
             [
              1,
              "#f0f921"
             ]
            ],
            "type": "heatmap"
           }
          ],
          "histogram": [
           {
            "marker": {
             "pattern": {
              "fillmode": "overlay",
              "size": 10,
              "solidity": 0.2
             }
            },
            "type": "histogram"
           }
          ],
          "histogram2d": [
           {
            "colorbar": {
             "outlinewidth": 0,
             "ticks": ""
            },
            "colorscale": [
             [
              0,
              "#0d0887"
             ],
             [
              0.1111111111111111,
              "#46039f"
             ],
             [
              0.2222222222222222,
              "#7201a8"
             ],
             [
              0.3333333333333333,
              "#9c179e"
             ],
             [
              0.4444444444444444,
              "#bd3786"
             ],
             [
              0.5555555555555556,
              "#d8576b"
             ],
             [
              0.6666666666666666,
              "#ed7953"
             ],
             [
              0.7777777777777778,
              "#fb9f3a"
             ],
             [
              0.8888888888888888,
              "#fdca26"
             ],
             [
              1,
              "#f0f921"
             ]
            ],
            "type": "histogram2d"
           }
          ],
          "histogram2dcontour": [
           {
            "colorbar": {
             "outlinewidth": 0,
             "ticks": ""
            },
            "colorscale": [
             [
              0,
              "#0d0887"
             ],
             [
              0.1111111111111111,
              "#46039f"
             ],
             [
              0.2222222222222222,
              "#7201a8"
             ],
             [
              0.3333333333333333,
              "#9c179e"
             ],
             [
              0.4444444444444444,
              "#bd3786"
             ],
             [
              0.5555555555555556,
              "#d8576b"
             ],
             [
              0.6666666666666666,
              "#ed7953"
             ],
             [
              0.7777777777777778,
              "#fb9f3a"
             ],
             [
              0.8888888888888888,
              "#fdca26"
             ],
             [
              1,
              "#f0f921"
             ]
            ],
            "type": "histogram2dcontour"
           }
          ],
          "mesh3d": [
           {
            "colorbar": {
             "outlinewidth": 0,
             "ticks": ""
            },
            "type": "mesh3d"
           }
          ],
          "parcoords": [
           {
            "line": {
             "colorbar": {
              "outlinewidth": 0,
              "ticks": ""
             }
            },
            "type": "parcoords"
           }
          ],
          "pie": [
           {
            "automargin": true,
            "type": "pie"
           }
          ],
          "scatter": [
           {
            "marker": {
             "line": {
              "color": "#283442"
             }
            },
            "type": "scatter"
           }
          ],
          "scatter3d": [
           {
            "line": {
             "colorbar": {
              "outlinewidth": 0,
              "ticks": ""
             }
            },
            "marker": {
             "colorbar": {
              "outlinewidth": 0,
              "ticks": ""
             }
            },
            "type": "scatter3d"
           }
          ],
          "scattercarpet": [
           {
            "marker": {
             "colorbar": {
              "outlinewidth": 0,
              "ticks": ""
             }
            },
            "type": "scattercarpet"
           }
          ],
          "scattergeo": [
           {
            "marker": {
             "colorbar": {
              "outlinewidth": 0,
              "ticks": ""
             }
            },
            "type": "scattergeo"
           }
          ],
          "scattergl": [
           {
            "marker": {
             "line": {
              "color": "#283442"
             }
            },
            "type": "scattergl"
           }
          ],
          "scattermap": [
           {
            "marker": {
             "colorbar": {
              "outlinewidth": 0,
              "ticks": ""
             }
            },
            "type": "scattermap"
           }
          ],
          "scattermapbox": [
           {
            "marker": {
             "colorbar": {
              "outlinewidth": 0,
              "ticks": ""
             }
            },
            "type": "scattermapbox"
           }
          ],
          "scatterpolar": [
           {
            "marker": {
             "colorbar": {
              "outlinewidth": 0,
              "ticks": ""
             }
            },
            "type": "scatterpolar"
           }
          ],
          "scatterpolargl": [
           {
            "marker": {
             "colorbar": {
              "outlinewidth": 0,
              "ticks": ""
             }
            },
            "type": "scatterpolargl"
           }
          ],
          "scatterternary": [
           {
            "marker": {
             "colorbar": {
              "outlinewidth": 0,
              "ticks": ""
             }
            },
            "type": "scatterternary"
           }
          ],
          "surface": [
           {
            "colorbar": {
             "outlinewidth": 0,
             "ticks": ""
            },
            "colorscale": [
             [
              0,
              "#0d0887"
             ],
             [
              0.1111111111111111,
              "#46039f"
             ],
             [
              0.2222222222222222,
              "#7201a8"
             ],
             [
              0.3333333333333333,
              "#9c179e"
             ],
             [
              0.4444444444444444,
              "#bd3786"
             ],
             [
              0.5555555555555556,
              "#d8576b"
             ],
             [
              0.6666666666666666,
              "#ed7953"
             ],
             [
              0.7777777777777778,
              "#fb9f3a"
             ],
             [
              0.8888888888888888,
              "#fdca26"
             ],
             [
              1,
              "#f0f921"
             ]
            ],
            "type": "surface"
           }
          ],
          "table": [
           {
            "cells": {
             "fill": {
              "color": "#506784"
             },
             "line": {
              "color": "rgb(17,17,17)"
             }
            },
            "header": {
             "fill": {
              "color": "#2a3f5f"
             },
             "line": {
              "color": "rgb(17,17,17)"
             }
            },
            "type": "table"
           }
          ]
         },
         "layout": {
          "annotationdefaults": {
           "arrowcolor": "#f2f5fa",
           "arrowhead": 0,
           "arrowwidth": 1
          },
          "autotypenumbers": "strict",
          "coloraxis": {
           "colorbar": {
            "outlinewidth": 0,
            "ticks": ""
           }
          },
          "colorscale": {
           "diverging": [
            [
             0,
             "#8e0152"
            ],
            [
             0.1,
             "#c51b7d"
            ],
            [
             0.2,
             "#de77ae"
            ],
            [
             0.3,
             "#f1b6da"
            ],
            [
             0.4,
             "#fde0ef"
            ],
            [
             0.5,
             "#f7f7f7"
            ],
            [
             0.6,
             "#e6f5d0"
            ],
            [
             0.7,
             "#b8e186"
            ],
            [
             0.8,
             "#7fbc41"
            ],
            [
             0.9,
             "#4d9221"
            ],
            [
             1,
             "#276419"
            ]
           ],
           "sequential": [
            [
             0,
             "#0d0887"
            ],
            [
             0.1111111111111111,
             "#46039f"
            ],
            [
             0.2222222222222222,
             "#7201a8"
            ],
            [
             0.3333333333333333,
             "#9c179e"
            ],
            [
             0.4444444444444444,
             "#bd3786"
            ],
            [
             0.5555555555555556,
             "#d8576b"
            ],
            [
             0.6666666666666666,
             "#ed7953"
            ],
            [
             0.7777777777777778,
             "#fb9f3a"
            ],
            [
             0.8888888888888888,
             "#fdca26"
            ],
            [
             1,
             "#f0f921"
            ]
           ],
           "sequentialminus": [
            [
             0,
             "#0d0887"
            ],
            [
             0.1111111111111111,
             "#46039f"
            ],
            [
             0.2222222222222222,
             "#7201a8"
            ],
            [
             0.3333333333333333,
             "#9c179e"
            ],
            [
             0.4444444444444444,
             "#bd3786"
            ],
            [
             0.5555555555555556,
             "#d8576b"
            ],
            [
             0.6666666666666666,
             "#ed7953"
            ],
            [
             0.7777777777777778,
             "#fb9f3a"
            ],
            [
             0.8888888888888888,
             "#fdca26"
            ],
            [
             1,
             "#f0f921"
            ]
           ]
          },
          "colorway": [
           "#636efa",
           "#EF553B",
           "#00cc96",
           "#ab63fa",
           "#FFA15A",
           "#19d3f3",
           "#FF6692",
           "#B6E880",
           "#FF97FF",
           "#FECB52"
          ],
          "font": {
           "color": "#f2f5fa"
          },
          "geo": {
           "bgcolor": "rgb(17,17,17)",
           "lakecolor": "rgb(17,17,17)",
           "landcolor": "rgb(17,17,17)",
           "showlakes": true,
           "showland": true,
           "subunitcolor": "#506784"
          },
          "hoverlabel": {
           "align": "left"
          },
          "hovermode": "closest",
          "mapbox": {
           "style": "dark"
          },
          "paper_bgcolor": "rgb(17,17,17)",
          "plot_bgcolor": "rgb(17,17,17)",
          "polar": {
           "angularaxis": {
            "gridcolor": "#506784",
            "linecolor": "#506784",
            "ticks": ""
           },
           "bgcolor": "rgb(17,17,17)",
           "radialaxis": {
            "gridcolor": "#506784",
            "linecolor": "#506784",
            "ticks": ""
           }
          },
          "scene": {
           "xaxis": {
            "backgroundcolor": "rgb(17,17,17)",
            "gridcolor": "#506784",
            "gridwidth": 2,
            "linecolor": "#506784",
            "showbackground": true,
            "ticks": "",
            "zerolinecolor": "#C8D4E3"
           },
           "yaxis": {
            "backgroundcolor": "rgb(17,17,17)",
            "gridcolor": "#506784",
            "gridwidth": 2,
            "linecolor": "#506784",
            "showbackground": true,
            "ticks": "",
            "zerolinecolor": "#C8D4E3"
           },
           "zaxis": {
            "backgroundcolor": "rgb(17,17,17)",
            "gridcolor": "#506784",
            "gridwidth": 2,
            "linecolor": "#506784",
            "showbackground": true,
            "ticks": "",
            "zerolinecolor": "#C8D4E3"
           }
          },
          "shapedefaults": {
           "line": {
            "color": "#f2f5fa"
           }
          },
          "sliderdefaults": {
           "bgcolor": "#C8D4E3",
           "bordercolor": "rgb(17,17,17)",
           "borderwidth": 1,
           "tickwidth": 0
          },
          "ternary": {
           "aaxis": {
            "gridcolor": "#506784",
            "linecolor": "#506784",
            "ticks": ""
           },
           "baxis": {
            "gridcolor": "#506784",
            "linecolor": "#506784",
            "ticks": ""
           },
           "bgcolor": "rgb(17,17,17)",
           "caxis": {
            "gridcolor": "#506784",
            "linecolor": "#506784",
            "ticks": ""
           }
          },
          "title": {
           "x": 0.05
          },
          "updatemenudefaults": {
           "bgcolor": "#506784",
           "borderwidth": 0
          },
          "xaxis": {
           "automargin": true,
           "gridcolor": "#283442",
           "linecolor": "#506784",
           "ticks": "",
           "title": {
            "standoff": 15
           },
           "zerolinecolor": "#283442",
           "zerolinewidth": 2
          },
          "yaxis": {
           "automargin": true,
           "gridcolor": "#283442",
           "linecolor": "#506784",
           "ticks": "",
           "title": {
            "standoff": 15
           },
           "zerolinecolor": "#283442",
           "zerolinewidth": 2
          }
         }
        },
        "title": {
         "text": "Balance Graph"
        },
        "xaxis": {
         "anchor": "y",
         "domain": [
          0,
          1
         ],
         "title": {
          "text": "close_time"
         }
        },
        "yaxis": {
         "anchor": "x",
         "domain": [
          0,
          1
         ],
         "title": {
          "text": "balance"
         }
        }
       }
      }
     },
     "metadata": {},
     "output_type": "display_data"
    }
   ],
   "source": [
    "mm = bt.plot_balance()\n",
    "display(mm)"
   ]
  },
  {
   "cell_type": "code",
   "execution_count": 408,
   "metadata": {},
   "outputs": [
    {
     "data": {
      "application/vnd.plotly.v1+json": {
       "config": {
        "plotlyServerURL": "https://plot.ly"
       },
       "data": [
        {
         "hovertemplate": "open_time=%{x}<br>profit_cumulative=%{y}<extra></extra>",
         "legendgroup": "",
         "line": {
          "color": "#636efa",
          "dash": "solid"
         },
         "marker": {
          "symbol": "circle"
         },
         "mode": "lines",
         "name": "",
         "orientation": "v",
         "showlegend": false,
         "type": "scatter",
         "x": [
          "2025-03-20T12:24:00",
          "2025-03-21T18:53:00",
          "2025-03-27T18:31:00",
          "2025-03-28T18:23:00",
          "2025-04-02T17:41:00",
          "2025-04-02T17:53:00",
          "2025-04-02T17:55:00",
          "2025-04-02T17:57:00",
          "2025-04-02T18:00:00",
          "2025-04-02T18:08:00",
          "2025-04-02T18:10:00",
          "2025-04-02T18:12:00",
          "2025-04-02T18:24:00",
          "2025-04-02T18:31:00",
          "2025-04-02T18:40:00",
          "2025-04-02T18:42:00",
          "2025-04-02T18:44:00",
          "2025-04-02T18:46:00",
          "2025-04-02T18:48:00",
          "2025-04-02T18:50:00",
          "2025-04-02T18:52:00",
          "2025-04-02T18:54:00",
          "2025-04-02T18:56:00",
          "2025-04-02T18:58:00",
          "2025-04-02T19:00:00",
          "2025-04-02T19:02:00",
          "2025-04-02T19:04:00",
          "2025-04-02T19:06:00",
          "2025-04-02T19:08:00",
          "2025-04-02T19:10:00",
          "2025-04-02T19:12:00",
          "2025-04-02T19:14:00",
          "2025-04-02T19:16:00",
          "2025-04-02T20:06:00",
          "2025-04-02T20:37:00",
          "2025-04-02T20:41:00",
          "2025-04-02T20:43:00",
          "2025-04-02T21:34:00",
          "2025-04-02T21:36:00",
          "2025-04-02T21:38:00",
          "2025-04-02T21:40:00",
          "2025-04-02T21:53:00",
          "2025-04-02T23:14:00",
          "2025-04-02T23:16:00",
          "2025-04-02T23:18:00",
          "2025-04-02T23:20:00",
          "2025-04-02T23:22:00",
          "2025-04-02T23:24:00",
          "2025-04-02T23:26:00",
          "2025-04-03T08:28:00",
          "2025-04-03T11:41:00",
          "2025-04-03T11:47:00",
          "2025-04-03T11:49:00",
          "2025-04-03T11:51:00",
          "2025-04-03T11:55:00",
          "2025-04-03T12:08:00",
          "2025-04-03T12:10:00",
          "2025-04-03T12:12:00",
          "2025-04-03T12:14:00",
          "2025-04-03T12:16:00",
          "2025-04-03T12:18:00",
          "2025-04-03T12:20:00",
          "2025-04-03T12:22:00",
          "2025-04-03T12:24:00",
          "2025-04-03T12:26:00",
          "2025-04-03T12:28:00",
          "2025-04-03T12:30:00",
          "2025-04-03T12:32:00",
          "2025-04-03T12:34:00",
          "2025-04-03T12:36:00",
          "2025-04-03T12:38:00",
          "2025-04-03T12:40:00",
          "2025-04-03T12:42:00",
          "2025-04-03T12:44:00",
          "2025-04-03T12:46:00",
          "2025-04-03T12:48:00",
          "2025-04-03T12:50:00",
          "2025-04-03T12:52:00",
          "2025-04-03T12:54:00",
          "2025-04-03T12:56:00",
          "2025-04-03T12:58:00",
          "2025-04-03T13:00:00",
          "2025-04-03T13:02:00",
          "2025-04-03T13:04:00",
          "2025-04-03T13:06:00",
          "2025-04-03T13:08:00",
          "2025-04-03T13:10:00",
          "2025-04-03T13:12:00",
          "2025-04-03T13:14:00",
          "2025-04-03T13:16:00",
          "2025-04-03T13:18:00",
          "2025-04-03T13:20:00",
          "2025-04-03T13:22:00",
          "2025-04-03T13:24:00",
          "2025-04-03T13:26:00",
          "2025-04-03T13:28:00",
          "2025-04-03T13:30:00",
          "2025-04-03T13:32:00",
          "2025-04-03T13:34:00",
          "2025-04-03T13:36:00",
          "2025-04-03T13:38:00",
          "2025-04-03T13:40:00",
          "2025-04-03T13:42:00",
          "2025-04-03T13:44:00",
          "2025-04-03T13:46:00",
          "2025-04-03T13:48:00",
          "2025-04-03T13:50:00",
          "2025-04-03T13:52:00",
          "2025-04-03T13:54:00",
          "2025-04-03T13:56:00",
          "2025-04-03T13:58:00",
          "2025-04-03T14:00:00",
          "2025-04-03T14:02:00",
          "2025-04-03T14:04:00",
          "2025-04-03T14:06:00",
          "2025-04-03T14:08:00",
          "2025-04-03T14:10:00",
          "2025-04-03T14:12:00",
          "2025-04-03T14:14:00",
          "2025-04-03T14:16:00",
          "2025-04-03T14:18:00",
          "2025-04-03T14:20:00",
          "2025-04-03T14:22:00",
          "2025-04-03T14:24:00",
          "2025-04-03T14:26:00",
          "2025-04-03T14:28:00",
          "2025-04-03T14:30:00",
          "2025-04-03T14:32:00",
          "2025-04-03T14:34:00",
          "2025-04-03T14:36:00",
          "2025-04-03T14:38:00",
          "2025-04-03T14:40:00",
          "2025-04-03T14:42:00",
          "2025-04-03T14:44:00",
          "2025-04-03T14:46:00",
          "2025-04-03T14:48:00",
          "2025-04-03T14:50:00",
          "2025-04-03T14:52:00",
          "2025-04-03T14:54:00",
          "2025-04-03T14:56:00",
          "2025-04-03T14:58:00",
          "2025-04-03T15:00:00",
          "2025-04-03T15:02:00",
          "2025-04-03T15:04:00",
          "2025-04-03T15:06:00",
          "2025-04-03T15:08:00",
          "2025-04-03T15:10:00",
          "2025-04-03T15:12:00",
          "2025-04-03T15:14:00",
          "2025-04-03T15:16:00",
          "2025-04-03T15:18:00",
          "2025-04-03T15:20:00",
          "2025-04-03T15:22:00",
          "2025-04-03T15:24:00",
          "2025-04-03T15:26:00",
          "2025-04-03T15:28:00",
          "2025-04-03T15:30:00",
          "2025-04-03T15:32:00",
          "2025-04-03T15:34:00",
          "2025-04-03T15:36:00",
          "2025-04-03T15:38:00",
          "2025-04-03T15:40:00",
          "2025-04-03T15:42:00",
          "2025-04-03T15:44:00",
          "2025-04-03T15:46:00",
          "2025-04-03T15:48:00",
          "2025-04-03T15:50:00",
          "2025-04-03T15:52:00",
          "2025-04-03T15:54:00",
          "2025-04-03T15:56:00",
          "2025-04-03T15:58:00",
          "2025-04-03T16:00:00",
          "2025-04-03T16:02:00",
          "2025-04-03T16:04:00",
          "2025-04-03T16:06:00",
          "2025-04-03T16:08:00",
          "2025-04-03T16:10:00",
          "2025-04-03T16:12:00",
          "2025-04-03T16:14:00",
          "2025-04-03T16:16:00",
          "2025-04-03T16:18:00",
          "2025-04-03T16:20:00",
          "2025-04-03T16:22:00",
          "2025-04-03T16:24:00",
          "2025-04-03T16:26:00",
          "2025-04-03T16:28:00",
          "2025-04-03T16:30:00",
          "2025-04-03T16:32:00",
          "2025-04-03T16:34:00",
          "2025-04-03T16:36:00",
          "2025-04-03T16:38:00",
          "2025-04-03T16:40:00",
          "2025-04-03T16:42:00",
          "2025-04-03T16:44:00",
          "2025-04-03T16:46:00",
          "2025-04-03T16:48:00",
          "2025-04-03T16:50:00",
          "2025-04-03T16:52:00",
          "2025-04-03T16:54:00",
          "2025-04-03T16:56:00",
          "2025-04-03T16:58:00",
          "2025-04-03T17:00:00",
          "2025-04-03T17:02:00",
          "2025-04-03T17:04:00",
          "2025-04-03T17:06:00",
          "2025-04-03T17:08:00",
          "2025-04-03T17:10:00",
          "2025-04-03T17:12:00",
          "2025-04-03T17:14:00",
          "2025-04-03T17:16:00",
          "2025-04-03T17:18:00",
          "2025-04-03T17:20:00",
          "2025-04-03T17:22:00",
          "2025-04-03T17:24:00",
          "2025-04-03T17:26:00",
          "2025-04-03T17:28:00",
          "2025-04-03T17:30:00",
          "2025-04-03T17:32:00",
          "2025-04-03T17:34:00",
          "2025-04-03T17:36:00",
          "2025-04-03T17:38:00",
          "2025-04-03T17:40:00",
          "2025-04-03T17:42:00",
          "2025-04-03T17:44:00",
          "2025-04-03T17:46:00",
          "2025-04-03T17:48:00",
          "2025-04-03T17:50:00",
          "2025-04-03T17:52:00",
          "2025-04-03T17:54:00",
          "2025-04-03T17:56:00",
          "2025-04-03T17:58:00",
          "2025-04-03T18:00:00",
          "2025-04-03T18:02:00",
          "2025-04-03T18:04:00",
          "2025-04-03T18:06:00",
          "2025-04-03T18:08:00",
          "2025-04-03T18:10:00",
          "2025-04-03T18:12:00",
          "2025-04-03T18:14:00",
          "2025-04-03T18:16:00",
          "2025-04-03T18:18:00",
          "2025-04-03T18:20:00",
          "2025-04-03T18:22:00",
          "2025-04-03T18:24:00",
          "2025-04-03T18:26:00",
          "2025-04-03T18:28:00",
          "2025-04-03T18:30:00",
          "2025-04-03T18:32:00",
          "2025-04-03T18:34:00",
          "2025-04-03T18:36:00",
          "2025-04-03T18:38:00",
          "2025-04-03T18:40:00",
          "2025-04-03T18:42:00",
          "2025-04-03T18:44:00",
          "2025-04-03T18:46:00",
          "2025-04-03T18:48:00",
          "2025-04-03T18:50:00",
          "2025-04-03T18:52:00",
          "2025-04-03T18:54:00",
          "2025-04-03T18:56:00",
          "2025-04-03T18:58:00",
          "2025-04-03T19:00:00",
          "2025-04-03T19:02:00",
          "2025-04-03T19:04:00",
          "2025-04-03T19:06:00",
          "2025-04-03T19:08:00",
          "2025-04-03T19:10:00",
          "2025-04-03T19:12:00",
          "2025-04-03T19:14:00",
          "2025-04-03T19:16:00",
          "2025-04-03T19:18:00",
          "2025-04-03T19:20:00",
          "2025-04-03T19:22:00",
          "2025-04-03T19:24:00",
          "2025-04-03T19:26:00",
          "2025-04-03T19:28:00",
          "2025-04-03T19:30:00",
          "2025-04-03T19:32:00",
          "2025-04-03T19:34:00",
          "2025-04-03T19:36:00",
          "2025-04-03T19:38:00",
          "2025-04-03T19:40:00",
          "2025-04-03T19:42:00",
          "2025-04-03T19:44:00",
          "2025-04-03T19:46:00",
          "2025-04-03T19:48:00",
          "2025-04-03T19:50:00",
          "2025-04-03T19:52:00",
          "2025-04-03T19:54:00",
          "2025-04-03T19:56:00",
          "2025-04-03T19:58:00",
          "2025-04-03T20:00:00",
          "2025-04-03T20:02:00",
          "2025-04-03T20:04:00",
          "2025-04-03T20:06:00",
          "2025-04-03T20:08:00",
          "2025-04-03T20:10:00",
          "2025-04-03T20:12:00",
          "2025-04-03T20:14:00",
          "2025-04-03T20:16:00",
          "2025-04-03T20:18:00",
          "2025-04-03T20:20:00",
          "2025-04-03T20:22:00",
          "2025-04-03T20:24:00",
          "2025-04-03T20:26:00",
          "2025-04-03T20:28:00",
          "2025-04-03T20:30:00",
          "2025-04-03T20:32:00",
          "2025-04-03T20:34:00",
          "2025-04-03T20:36:00",
          "2025-04-03T20:38:00",
          "2025-04-03T20:40:00",
          "2025-04-03T20:42:00",
          "2025-04-03T20:44:00",
          "2025-04-03T20:46:00",
          "2025-04-03T20:48:00",
          "2025-04-03T20:50:00",
          "2025-04-03T20:52:00",
          "2025-04-03T20:54:00",
          "2025-04-03T20:56:00",
          "2025-04-03T20:58:00",
          "2025-04-03T21:00:00",
          "2025-04-03T21:02:00",
          "2025-04-03T21:04:00",
          "2025-04-03T21:06:00",
          "2025-04-03T21:08:00",
          "2025-04-03T21:10:00",
          "2025-04-03T21:12:00",
          "2025-04-03T21:14:00",
          "2025-04-03T21:16:00",
          "2025-04-03T21:18:00",
          "2025-04-03T21:20:00",
          "2025-04-03T21:22:00",
          "2025-04-03T21:24:00",
          "2025-04-03T21:26:00",
          "2025-04-03T21:28:00",
          "2025-04-03T21:30:00",
          "2025-04-03T21:32:00",
          "2025-04-03T21:34:00",
          "2025-04-03T21:36:00",
          "2025-04-03T21:38:00",
          "2025-04-03T21:40:00",
          "2025-04-03T21:42:00",
          "2025-04-03T21:44:00",
          "2025-04-03T21:46:00",
          "2025-04-03T21:48:00",
          "2025-04-03T21:50:00",
          "2025-04-03T21:52:00",
          "2025-04-03T21:54:00",
          "2025-04-03T21:56:00",
          "2025-04-03T21:58:00",
          "2025-04-03T22:00:00",
          "2025-04-03T22:02:00",
          "2025-04-03T22:04:00",
          "2025-04-03T22:06:00",
          "2025-04-03T22:08:00",
          "2025-04-03T22:10:00",
          "2025-04-03T22:12:00",
          "2025-04-03T22:14:00",
          "2025-04-03T22:16:00",
          "2025-04-03T22:18:00",
          "2025-04-03T22:20:00",
          "2025-04-03T22:22:00",
          "2025-04-03T22:24:00",
          "2025-04-03T22:26:00",
          "2025-04-03T22:28:00",
          "2025-04-03T22:30:00",
          "2025-04-03T22:32:00",
          "2025-04-03T22:34:00",
          "2025-04-03T22:36:00",
          "2025-04-03T22:38:00",
          "2025-04-03T22:40:00",
          "2025-04-03T22:42:00",
          "2025-04-03T22:44:00",
          "2025-04-03T22:46:00",
          "2025-04-03T22:48:00",
          "2025-04-03T22:50:00",
          "2025-04-03T22:52:00",
          "2025-04-03T22:54:00",
          "2025-04-03T22:56:00",
          "2025-04-03T22:58:00",
          "2025-04-03T23:00:00",
          "2025-04-03T23:02:00",
          "2025-04-03T23:04:00",
          "2025-04-03T23:06:00",
          "2025-04-03T23:08:00",
          "2025-04-03T23:10:00",
          "2025-04-03T23:12:00",
          "2025-04-03T23:14:00",
          "2025-04-03T23:16:00",
          "2025-04-03T23:18:00",
          "2025-04-03T23:20:00",
          "2025-04-03T23:22:00",
          "2025-04-03T23:24:00",
          "2025-04-03T23:26:00",
          "2025-04-03T23:28:00",
          "2025-04-03T23:30:00",
          "2025-04-03T23:32:00",
          "2025-04-03T23:34:00",
          "2025-04-03T23:36:00",
          "2025-04-03T23:38:00",
          "2025-04-03T23:40:00",
          "2025-04-03T23:42:00",
          "2025-04-03T23:44:00",
          "2025-04-03T23:46:00",
          "2025-04-03T23:48:00",
          "2025-04-03T23:50:00",
          "2025-04-03T23:52:00",
          "2025-04-03T23:54:00",
          "2025-04-03T23:56:00",
          "2025-04-03T23:58:00",
          "2025-04-07T00:09:00",
          "2025-04-15T19:17:00",
          "2025-04-23T00:35:00",
          "2025-04-23T01:30:00",
          "2025-04-23T01:34:00",
          "2025-04-23T01:36:00",
          "2025-04-23T01:38:00",
          "2025-04-23T01:40:00",
          "2025-04-23T21:33:00",
          "2025-04-23T21:35:00",
          "2025-04-23T21:44:00",
          "2025-04-23T21:46:00",
          "2025-04-23T23:22:00",
          "2025-04-23T23:24:00",
          "2025-04-23T23:26:00",
          "2025-04-23T23:28:00",
          "2025-04-23T23:30:00",
          "2025-04-23T23:32:00",
          "2025-04-23T23:34:00",
          "2025-04-23T23:36:00",
          "2025-04-23T23:38:00",
          "2025-04-23T23:40:00",
          "2025-04-23T23:42:00",
          "2025-04-23T23:44:00",
          "2025-04-23T23:46:00",
          "2025-04-23T23:48:00",
          "2025-04-23T23:50:00",
          "2025-04-23T23:52:00",
          "2025-04-23T23:54:00",
          "2025-04-23T23:56:00",
          "2025-04-23T23:58:00",
          "2025-04-30T04:57:00",
          "2025-04-30T18:30:00",
          "2025-04-30T18:32:00",
          "2025-04-30T18:34:00",
          "2025-04-30T18:36:00",
          "2025-04-30T18:38:00",
          "2025-04-30T18:45:00",
          "2025-04-30T18:47:00",
          "2025-04-30T18:49:00",
          "2025-04-30T18:51:00",
          "2025-04-30T22:58:00",
          "2025-04-30T23:00:00",
          "2025-04-30T23:02:00",
          "2025-04-30T23:04:00",
          "2025-04-30T23:06:00",
          "2025-04-30T23:08:00",
          "2025-04-30T23:10:00",
          "2025-04-30T23:12:00",
          "2025-04-30T23:14:00",
          "2025-04-30T23:16:00",
          "2025-04-30T23:18:00",
          "2025-04-30T23:20:00",
          "2025-04-30T23:22:00",
          "2025-04-30T23:24:00",
          "2025-04-30T23:26:00",
          "2025-04-30T23:28:00",
          "2025-04-30T23:30:00",
          "2025-04-30T23:32:00",
          "2025-04-30T23:34:00",
          "2025-04-30T23:36:00",
          "2025-04-30T23:38:00",
          "2025-04-30T23:40:00",
          "2025-04-30T23:42:00",
          "2025-04-30T23:44:00",
          "2025-04-30T23:46:00",
          "2025-04-30T23:48:00",
          "2025-04-30T23:50:00",
          "2025-04-30T23:52:00",
          "2025-04-30T23:54:00",
          "2025-04-30T23:56:00",
          "2025-04-30T23:58:00",
          "2025-05-02T12:39:00"
         ],
         "xaxis": "x",
         "y": [
          -4,
          6.75,
          4,
          40.5,
          -21.5,
          -19.25,
          -26.5,
          -31,
          -26.25,
          -33.5,
          -27.5,
          -35,
          -31.5,
          -31.5,
          -41,
          -42.5,
          -44,
          -42,
          -49,
          -52.75,
          -51.75,
          -63.75,
          -64.25,
          -61.5,
          -60,
          -62,
          -65.5,
          -63.5,
          -63.25,
          -66.75,
          -68.25,
          -71,
          -74.75,
          -74,
          -77.75,
          -75.25,
          -71,
          -72.75,
          -74.75,
          -77.25,
          -76.75,
          -42.75,
          -45.25,
          -81,
          -37.5,
          -57.75,
          -36,
          -22,
          82.5,
          -99.5,
          -84,
          -83,
          -87.75,
          -74.25,
          -64.75,
          -105.5,
          -107.25,
          -124,
          -102,
          -98.5,
          -105.25,
          -97.5,
          -99,
          -104.25,
          -98.25,
          -109.25,
          -95.5,
          -103.75,
          -113.75,
          -115.25,
          -109.5,
          -116.75,
          -123,
          -113.25,
          -113.5,
          -112.75,
          -115.75,
          -122.75,
          -124.25,
          -120.5,
          -128,
          -125,
          -137.75,
          -150.5,
          -140.25,
          -132.5,
          -138.25,
          -267,
          -225,
          -219,
          -242.25,
          -244,
          -231.5,
          -228.5,
          -208.5,
          -212,
          -217.5,
          -235.5,
          -233.75,
          -229.75,
          -221.5,
          -208,
          -217.75,
          -226.75,
          -229.25,
          -227,
          -232.5,
          -210.5,
          -207,
          -199,
          -186.25,
          -190.75,
          -192.75,
          -186.5,
          -200.5,
          -210,
          -203.75,
          -220.25,
          -236.75,
          -227.75,
          -224,
          -239.25,
          -239.75,
          -234.75,
          -248.75,
          -247,
          -257.25,
          -264.25,
          -276,
          -262.25,
          -273.75,
          -263.25,
          -278.5,
          -297.5,
          -308.75,
          -296,
          -294.5,
          -307.5,
          -317.25,
          -311.5,
          -306.75,
          -311,
          -317.75,
          -324,
          -327.25,
          -312,
          -289.5,
          -296.25,
          -303.5,
          -305,
          -303.5,
          -306.5,
          -317,
          -295.25,
          -296.25,
          -292.5,
          -298.25,
          -305.75,
          -297.25,
          -294.75,
          -268.75,
          -277.5,
          -294,
          -297.75,
          -310,
          -312.25,
          -313,
          -296.75,
          -302.75,
          -294,
          -292.5,
          -292.25,
          -299.75,
          -327.5,
          -328.75,
          -334,
          -333.75,
          -326,
          -344.5,
          -349.25,
          -343.25,
          -351.5,
          -352.5,
          -349,
          -349.5,
          -330.25,
          -309.25,
          -302.75,
          -316.75,
          -319.25,
          -317.25,
          -317.75,
          -322.25,
          -324.25,
          -323.25,
          -306,
          -305,
          -292.5,
          -292,
          -297.75,
          -297,
          -351.5,
          -347,
          -330.5,
          -340.75,
          -325.25,
          -336.5,
          -339.5,
          -329.25,
          -332.5,
          -339,
          -357,
          -353.5,
          -348,
          -341,
          -338.5,
          -351,
          -349,
          -343,
          -346.75,
          -348.75,
          -343.75,
          -361.75,
          -369.75,
          -392.75,
          -384.5,
          -383,
          -395.75,
          -388.75,
          -394,
          -393.5,
          -393.75,
          -385.75,
          -377,
          -383,
          -388.75,
          -381.5,
          -372.5,
          -362.75,
          -364.75,
          -361,
          -357.75,
          -351.5,
          -346.5,
          -338.5,
          -341,
          -352,
          -350.25,
          -344.25,
          -345.75,
          -328,
          -331.5,
          -329.25,
          -336.25,
          -339.25,
          -345.75,
          -361.75,
          -369,
          -361.5,
          -372,
          -372,
          -370.5,
          -374.25,
          -373,
          -373,
          -363,
          -360,
          -373,
          -376.25,
          -374.75,
          -377.75,
          -366.25,
          -356,
          -361.5,
          -370.75,
          -374.25,
          -378,
          -377.25,
          -387.75,
          -387.25,
          -371.5,
          -384.25,
          -383.25,
          -396,
          -390.75,
          -389.75,
          -398.5,
          -401,
          -396.75,
          -396.5,
          -398.25,
          -395.5,
          -398.5,
          -387.25,
          -379,
          -378.75,
          -375.5,
          -369,
          -372.5,
          -386.5,
          -398.5,
          -397,
          -395.5,
          -384.5,
          -385.25,
          -391.5,
          -403.75,
          -405.75,
          -396,
          -395.5,
          -401.5,
          -404.75,
          -408,
          -400.75,
          -400.25,
          -396.5,
          -404.75,
          -400.75,
          -411.5,
          -411.25,
          -418.5,
          -417.75,
          -415.5,
          -420.5,
          -423.25,
          -433,
          -431,
          -434.75,
          -434,
          -439.25,
          -442.25,
          -451.25,
          -456,
          -446,
          -442.75,
          -440.75,
          -440.75,
          -442,
          -450.25,
          -453.5,
          -453,
          -453.75,
          -458.5,
          -458.75,
          -459.75,
          -461,
          -467,
          -459,
          -463.25,
          -462.75,
          -464.25,
          -461,
          -464.25,
          -469.5,
          -469,
          -469.5,
          -471,
          -472.5,
          -475,
          -472.75,
          -472.5,
          -470.75,
          -471.75,
          -470.75,
          -467.5,
          -470.25,
          -472,
          -479.5,
          -476.25,
          -477.25,
          -480.75,
          -485.75,
          -488.25,
          -488.75,
          -493.75,
          -494.75,
          -493.75,
          -498.25,
          -499.5,
          -507.25,
          -513.5,
          -507,
          -505,
          -504.5,
          -512.25,
          -513.75,
          -517,
          -520.25,
          -521,
          -524.25,
          -526,
          -531.25,
          -534.25,
          -539.5,
          -539.5,
          -541.25,
          -547.75,
          -555.5,
          -556.25,
          -556.25,
          -560.5,
          -565.25,
          -569.5,
          -580.5,
          -588.75,
          -592.25,
          -590.5,
          -590.75,
          -597.25,
          -597.75,
          -599.25,
          -548.75,
          -553.75,
          -718,
          -700.75,
          -702.25,
          -681.5,
          -691.5,
          -682.25,
          -686,
          -687.75,
          -692,
          -690.25,
          -693,
          -701.5,
          -707.25,
          -709,
          -703,
          -704,
          -709.25,
          -704.5,
          -706.5,
          -708.75,
          -710.25,
          -714.25,
          -718.75,
          -720.75,
          -720.75,
          -722.25,
          -724.25,
          -723.25,
          -733.5,
          -800.5,
          -817.5,
          -801,
          -816.75,
          -796.75,
          -803.5,
          -806.25,
          -805,
          -811.5,
          -805,
          -815.25,
          -826.25,
          -815.25,
          -817,
          -820.25,
          -828.5,
          -831.5,
          -831.25,
          -831.5,
          -839,
          -841.75,
          -841.25,
          -846,
          -848,
          -850.5,
          -850,
          -858,
          -856.75,
          -855.5,
          -856.5,
          -858.25,
          -862.5,
          -867.25,
          -869.75,
          -872.5,
          -875.5,
          -877.75,
          -878.5,
          -879.5,
          -876.75,
          -876.75,
          -783.75
         ],
         "yaxis": "y"
        }
       ],
       "layout": {
        "legend": {
         "tracegroupgap": 0
        },
        "template": {
         "data": {
          "bar": [
           {
            "error_x": {
             "color": "#f2f5fa"
            },
            "error_y": {
             "color": "#f2f5fa"
            },
            "marker": {
             "line": {
              "color": "rgb(17,17,17)",
              "width": 0.5
             },
             "pattern": {
              "fillmode": "overlay",
              "size": 10,
              "solidity": 0.2
             }
            },
            "type": "bar"
           }
          ],
          "barpolar": [
           {
            "marker": {
             "line": {
              "color": "rgb(17,17,17)",
              "width": 0.5
             },
             "pattern": {
              "fillmode": "overlay",
              "size": 10,
              "solidity": 0.2
             }
            },
            "type": "barpolar"
           }
          ],
          "carpet": [
           {
            "aaxis": {
             "endlinecolor": "#A2B1C6",
             "gridcolor": "#506784",
             "linecolor": "#506784",
             "minorgridcolor": "#506784",
             "startlinecolor": "#A2B1C6"
            },
            "baxis": {
             "endlinecolor": "#A2B1C6",
             "gridcolor": "#506784",
             "linecolor": "#506784",
             "minorgridcolor": "#506784",
             "startlinecolor": "#A2B1C6"
            },
            "type": "carpet"
           }
          ],
          "choropleth": [
           {
            "colorbar": {
             "outlinewidth": 0,
             "ticks": ""
            },
            "type": "choropleth"
           }
          ],
          "contour": [
           {
            "colorbar": {
             "outlinewidth": 0,
             "ticks": ""
            },
            "colorscale": [
             [
              0,
              "#0d0887"
             ],
             [
              0.1111111111111111,
              "#46039f"
             ],
             [
              0.2222222222222222,
              "#7201a8"
             ],
             [
              0.3333333333333333,
              "#9c179e"
             ],
             [
              0.4444444444444444,
              "#bd3786"
             ],
             [
              0.5555555555555556,
              "#d8576b"
             ],
             [
              0.6666666666666666,
              "#ed7953"
             ],
             [
              0.7777777777777778,
              "#fb9f3a"
             ],
             [
              0.8888888888888888,
              "#fdca26"
             ],
             [
              1,
              "#f0f921"
             ]
            ],
            "type": "contour"
           }
          ],
          "contourcarpet": [
           {
            "colorbar": {
             "outlinewidth": 0,
             "ticks": ""
            },
            "type": "contourcarpet"
           }
          ],
          "heatmap": [
           {
            "colorbar": {
             "outlinewidth": 0,
             "ticks": ""
            },
            "colorscale": [
             [
              0,
              "#0d0887"
             ],
             [
              0.1111111111111111,
              "#46039f"
             ],
             [
              0.2222222222222222,
              "#7201a8"
             ],
             [
              0.3333333333333333,
              "#9c179e"
             ],
             [
              0.4444444444444444,
              "#bd3786"
             ],
             [
              0.5555555555555556,
              "#d8576b"
             ],
             [
              0.6666666666666666,
              "#ed7953"
             ],
             [
              0.7777777777777778,
              "#fb9f3a"
             ],
             [
              0.8888888888888888,
              "#fdca26"
             ],
             [
              1,
              "#f0f921"
             ]
            ],
            "type": "heatmap"
           }
          ],
          "histogram": [
           {
            "marker": {
             "pattern": {
              "fillmode": "overlay",
              "size": 10,
              "solidity": 0.2
             }
            },
            "type": "histogram"
           }
          ],
          "histogram2d": [
           {
            "colorbar": {
             "outlinewidth": 0,
             "ticks": ""
            },
            "colorscale": [
             [
              0,
              "#0d0887"
             ],
             [
              0.1111111111111111,
              "#46039f"
             ],
             [
              0.2222222222222222,
              "#7201a8"
             ],
             [
              0.3333333333333333,
              "#9c179e"
             ],
             [
              0.4444444444444444,
              "#bd3786"
             ],
             [
              0.5555555555555556,
              "#d8576b"
             ],
             [
              0.6666666666666666,
              "#ed7953"
             ],
             [
              0.7777777777777778,
              "#fb9f3a"
             ],
             [
              0.8888888888888888,
              "#fdca26"
             ],
             [
              1,
              "#f0f921"
             ]
            ],
            "type": "histogram2d"
           }
          ],
          "histogram2dcontour": [
           {
            "colorbar": {
             "outlinewidth": 0,
             "ticks": ""
            },
            "colorscale": [
             [
              0,
              "#0d0887"
             ],
             [
              0.1111111111111111,
              "#46039f"
             ],
             [
              0.2222222222222222,
              "#7201a8"
             ],
             [
              0.3333333333333333,
              "#9c179e"
             ],
             [
              0.4444444444444444,
              "#bd3786"
             ],
             [
              0.5555555555555556,
              "#d8576b"
             ],
             [
              0.6666666666666666,
              "#ed7953"
             ],
             [
              0.7777777777777778,
              "#fb9f3a"
             ],
             [
              0.8888888888888888,
              "#fdca26"
             ],
             [
              1,
              "#f0f921"
             ]
            ],
            "type": "histogram2dcontour"
           }
          ],
          "mesh3d": [
           {
            "colorbar": {
             "outlinewidth": 0,
             "ticks": ""
            },
            "type": "mesh3d"
           }
          ],
          "parcoords": [
           {
            "line": {
             "colorbar": {
              "outlinewidth": 0,
              "ticks": ""
             }
            },
            "type": "parcoords"
           }
          ],
          "pie": [
           {
            "automargin": true,
            "type": "pie"
           }
          ],
          "scatter": [
           {
            "marker": {
             "line": {
              "color": "#283442"
             }
            },
            "type": "scatter"
           }
          ],
          "scatter3d": [
           {
            "line": {
             "colorbar": {
              "outlinewidth": 0,
              "ticks": ""
             }
            },
            "marker": {
             "colorbar": {
              "outlinewidth": 0,
              "ticks": ""
             }
            },
            "type": "scatter3d"
           }
          ],
          "scattercarpet": [
           {
            "marker": {
             "colorbar": {
              "outlinewidth": 0,
              "ticks": ""
             }
            },
            "type": "scattercarpet"
           }
          ],
          "scattergeo": [
           {
            "marker": {
             "colorbar": {
              "outlinewidth": 0,
              "ticks": ""
             }
            },
            "type": "scattergeo"
           }
          ],
          "scattergl": [
           {
            "marker": {
             "line": {
              "color": "#283442"
             }
            },
            "type": "scattergl"
           }
          ],
          "scattermap": [
           {
            "marker": {
             "colorbar": {
              "outlinewidth": 0,
              "ticks": ""
             }
            },
            "type": "scattermap"
           }
          ],
          "scattermapbox": [
           {
            "marker": {
             "colorbar": {
              "outlinewidth": 0,
              "ticks": ""
             }
            },
            "type": "scattermapbox"
           }
          ],
          "scatterpolar": [
           {
            "marker": {
             "colorbar": {
              "outlinewidth": 0,
              "ticks": ""
             }
            },
            "type": "scatterpolar"
           }
          ],
          "scatterpolargl": [
           {
            "marker": {
             "colorbar": {
              "outlinewidth": 0,
              "ticks": ""
             }
            },
            "type": "scatterpolargl"
           }
          ],
          "scatterternary": [
           {
            "marker": {
             "colorbar": {
              "outlinewidth": 0,
              "ticks": ""
             }
            },
            "type": "scatterternary"
           }
          ],
          "surface": [
           {
            "colorbar": {
             "outlinewidth": 0,
             "ticks": ""
            },
            "colorscale": [
             [
              0,
              "#0d0887"
             ],
             [
              0.1111111111111111,
              "#46039f"
             ],
             [
              0.2222222222222222,
              "#7201a8"
             ],
             [
              0.3333333333333333,
              "#9c179e"
             ],
             [
              0.4444444444444444,
              "#bd3786"
             ],
             [
              0.5555555555555556,
              "#d8576b"
             ],
             [
              0.6666666666666666,
              "#ed7953"
             ],
             [
              0.7777777777777778,
              "#fb9f3a"
             ],
             [
              0.8888888888888888,
              "#fdca26"
             ],
             [
              1,
              "#f0f921"
             ]
            ],
            "type": "surface"
           }
          ],
          "table": [
           {
            "cells": {
             "fill": {
              "color": "#506784"
             },
             "line": {
              "color": "rgb(17,17,17)"
             }
            },
            "header": {
             "fill": {
              "color": "#2a3f5f"
             },
             "line": {
              "color": "rgb(17,17,17)"
             }
            },
            "type": "table"
           }
          ]
         },
         "layout": {
          "annotationdefaults": {
           "arrowcolor": "#f2f5fa",
           "arrowhead": 0,
           "arrowwidth": 1
          },
          "autotypenumbers": "strict",
          "coloraxis": {
           "colorbar": {
            "outlinewidth": 0,
            "ticks": ""
           }
          },
          "colorscale": {
           "diverging": [
            [
             0,
             "#8e0152"
            ],
            [
             0.1,
             "#c51b7d"
            ],
            [
             0.2,
             "#de77ae"
            ],
            [
             0.3,
             "#f1b6da"
            ],
            [
             0.4,
             "#fde0ef"
            ],
            [
             0.5,
             "#f7f7f7"
            ],
            [
             0.6,
             "#e6f5d0"
            ],
            [
             0.7,
             "#b8e186"
            ],
            [
             0.8,
             "#7fbc41"
            ],
            [
             0.9,
             "#4d9221"
            ],
            [
             1,
             "#276419"
            ]
           ],
           "sequential": [
            [
             0,
             "#0d0887"
            ],
            [
             0.1111111111111111,
             "#46039f"
            ],
            [
             0.2222222222222222,
             "#7201a8"
            ],
            [
             0.3333333333333333,
             "#9c179e"
            ],
            [
             0.4444444444444444,
             "#bd3786"
            ],
            [
             0.5555555555555556,
             "#d8576b"
            ],
            [
             0.6666666666666666,
             "#ed7953"
            ],
            [
             0.7777777777777778,
             "#fb9f3a"
            ],
            [
             0.8888888888888888,
             "#fdca26"
            ],
            [
             1,
             "#f0f921"
            ]
           ],
           "sequentialminus": [
            [
             0,
             "#0d0887"
            ],
            [
             0.1111111111111111,
             "#46039f"
            ],
            [
             0.2222222222222222,
             "#7201a8"
            ],
            [
             0.3333333333333333,
             "#9c179e"
            ],
            [
             0.4444444444444444,
             "#bd3786"
            ],
            [
             0.5555555555555556,
             "#d8576b"
            ],
            [
             0.6666666666666666,
             "#ed7953"
            ],
            [
             0.7777777777777778,
             "#fb9f3a"
            ],
            [
             0.8888888888888888,
             "#fdca26"
            ],
            [
             1,
             "#f0f921"
            ]
           ]
          },
          "colorway": [
           "#636efa",
           "#EF553B",
           "#00cc96",
           "#ab63fa",
           "#FFA15A",
           "#19d3f3",
           "#FF6692",
           "#B6E880",
           "#FF97FF",
           "#FECB52"
          ],
          "font": {
           "color": "#f2f5fa"
          },
          "geo": {
           "bgcolor": "rgb(17,17,17)",
           "lakecolor": "rgb(17,17,17)",
           "landcolor": "rgb(17,17,17)",
           "showlakes": true,
           "showland": true,
           "subunitcolor": "#506784"
          },
          "hoverlabel": {
           "align": "left"
          },
          "hovermode": "closest",
          "mapbox": {
           "style": "dark"
          },
          "paper_bgcolor": "rgb(17,17,17)",
          "plot_bgcolor": "rgb(17,17,17)",
          "polar": {
           "angularaxis": {
            "gridcolor": "#506784",
            "linecolor": "#506784",
            "ticks": ""
           },
           "bgcolor": "rgb(17,17,17)",
           "radialaxis": {
            "gridcolor": "#506784",
            "linecolor": "#506784",
            "ticks": ""
           }
          },
          "scene": {
           "xaxis": {
            "backgroundcolor": "rgb(17,17,17)",
            "gridcolor": "#506784",
            "gridwidth": 2,
            "linecolor": "#506784",
            "showbackground": true,
            "ticks": "",
            "zerolinecolor": "#C8D4E3"
           },
           "yaxis": {
            "backgroundcolor": "rgb(17,17,17)",
            "gridcolor": "#506784",
            "gridwidth": 2,
            "linecolor": "#506784",
            "showbackground": true,
            "ticks": "",
            "zerolinecolor": "#C8D4E3"
           },
           "zaxis": {
            "backgroundcolor": "rgb(17,17,17)",
            "gridcolor": "#506784",
            "gridwidth": 2,
            "linecolor": "#506784",
            "showbackground": true,
            "ticks": "",
            "zerolinecolor": "#C8D4E3"
           }
          },
          "shapedefaults": {
           "line": {
            "color": "#f2f5fa"
           }
          },
          "sliderdefaults": {
           "bgcolor": "#C8D4E3",
           "bordercolor": "rgb(17,17,17)",
           "borderwidth": 1,
           "tickwidth": 0
          },
          "ternary": {
           "aaxis": {
            "gridcolor": "#506784",
            "linecolor": "#506784",
            "ticks": ""
           },
           "baxis": {
            "gridcolor": "#506784",
            "linecolor": "#506784",
            "ticks": ""
           },
           "bgcolor": "rgb(17,17,17)",
           "caxis": {
            "gridcolor": "#506784",
            "linecolor": "#506784",
            "ticks": ""
           }
          },
          "title": {
           "x": 0.05
          },
          "updatemenudefaults": {
           "bgcolor": "#506784",
           "borderwidth": 0
          },
          "xaxis": {
           "automargin": true,
           "gridcolor": "#283442",
           "linecolor": "#506784",
           "ticks": "",
           "title": {
            "standoff": 15
           },
           "zerolinecolor": "#283442",
           "zerolinewidth": 2
          },
          "yaxis": {
           "automargin": true,
           "gridcolor": "#283442",
           "linecolor": "#506784",
           "ticks": "",
           "title": {
            "standoff": 15
           },
           "zerolinecolor": "#283442",
           "zerolinewidth": 2
          }
         }
        },
        "title": {
         "text": "PnL Graph"
        },
        "xaxis": {
         "anchor": "y",
         "domain": [
          0,
          1
         ],
         "title": {
          "text": "open_time"
         }
        },
        "yaxis": {
         "anchor": "x",
         "domain": [
          0,
          1
         ],
         "title": {
          "text": "profit_cumulative"
         }
        }
       }
      }
     },
     "metadata": {},
     "output_type": "display_data"
    }
   ],
   "source": [
    "pnl_chart = bt.plot_pnl()\n",
    "display(pnl_chart)"
   ]
  },
  {
   "cell_type": "code",
   "execution_count": 409,
   "metadata": {},
   "outputs": [
    {
     "name": "stdout",
     "output_type": "stream",
     "text": [
      "biggest_profit 106.25\n",
      "daily_drawdown -180.25\n",
      "max_drawown -962.0\n",
      "avg_win 7.86491935483871\n",
      "avg_loss -8.387777777777778\n",
      "count_profit_trades 248\n",
      "count_loss_trades 225\n",
      "Win Rate1: 52.43%\n",
      "win_rate 1.1\n",
      "rrr 0.94\n"
     ]
    },
    {
     "data": {
      "text/html": [
       "<div>\n",
       "<style scoped>\n",
       "    .dataframe tbody tr th:only-of-type {\n",
       "        vertical-align: middle;\n",
       "    }\n",
       "\n",
       "    .dataframe tbody tr th {\n",
       "        vertical-align: top;\n",
       "    }\n",
       "\n",
       "    .dataframe thead th {\n",
       "        text-align: right;\n",
       "    }\n",
       "</style>\n",
       "<table border=\"1\" class=\"dataframe\">\n",
       "  <thead>\n",
       "    <tr style=\"text-align: right;\">\n",
       "      <th></th>\n",
       "      <th>order_type</th>\n",
       "      <th>profit</th>\n",
       "    </tr>\n",
       "  </thead>\n",
       "  <tbody>\n",
       "    <tr>\n",
       "      <th>0</th>\n",
       "      <td>buy</td>\n",
       "      <td>-141.25</td>\n",
       "    </tr>\n",
       "    <tr>\n",
       "      <th>1</th>\n",
       "      <td>sell</td>\n",
       "      <td>204.50</td>\n",
       "    </tr>\n",
       "  </tbody>\n",
       "</table>\n",
       "</div>"
      ],
      "text/plain": [
       "  order_type  profit\n",
       "0        buy -141.25\n",
       "1       sell  204.50"
      ]
     },
     "metadata": {},
     "output_type": "display_data"
    },
    {
     "data": {
      "application/vnd.plotly.v1+json": {
       "config": {
        "plotlyServerURL": "https://plot.ly"
       },
       "data": [
        {
         "hovertemplate": "order_type=%{x}<br>profit=%{y}<extra></extra>",
         "legendgroup": "",
         "marker": {
          "color": "#636efa",
          "pattern": {
           "shape": ""
          }
         },
         "name": "",
         "orientation": "v",
         "showlegend": false,
         "textposition": "auto",
         "type": "bar",
         "x": [
          "buy",
          "sell"
         ],
         "xaxis": "x",
         "y": {
          "bdata": "AAAAAACoYcAAAAAAAJBpQA==",
          "dtype": "f8"
         },
         "yaxis": "y"
        }
       ],
       "layout": {
        "barmode": "relative",
        "legend": {
         "tracegroupgap": 0
        },
        "margin": {
         "t": 60
        },
        "template": {
         "data": {
          "bar": [
           {
            "error_x": {
             "color": "#f2f5fa"
            },
            "error_y": {
             "color": "#f2f5fa"
            },
            "marker": {
             "line": {
              "color": "rgb(17,17,17)",
              "width": 0.5
             },
             "pattern": {
              "fillmode": "overlay",
              "size": 10,
              "solidity": 0.2
             }
            },
            "type": "bar"
           }
          ],
          "barpolar": [
           {
            "marker": {
             "line": {
              "color": "rgb(17,17,17)",
              "width": 0.5
             },
             "pattern": {
              "fillmode": "overlay",
              "size": 10,
              "solidity": 0.2
             }
            },
            "type": "barpolar"
           }
          ],
          "carpet": [
           {
            "aaxis": {
             "endlinecolor": "#A2B1C6",
             "gridcolor": "#506784",
             "linecolor": "#506784",
             "minorgridcolor": "#506784",
             "startlinecolor": "#A2B1C6"
            },
            "baxis": {
             "endlinecolor": "#A2B1C6",
             "gridcolor": "#506784",
             "linecolor": "#506784",
             "minorgridcolor": "#506784",
             "startlinecolor": "#A2B1C6"
            },
            "type": "carpet"
           }
          ],
          "choropleth": [
           {
            "colorbar": {
             "outlinewidth": 0,
             "ticks": ""
            },
            "type": "choropleth"
           }
          ],
          "contour": [
           {
            "colorbar": {
             "outlinewidth": 0,
             "ticks": ""
            },
            "colorscale": [
             [
              0,
              "#0d0887"
             ],
             [
              0.1111111111111111,
              "#46039f"
             ],
             [
              0.2222222222222222,
              "#7201a8"
             ],
             [
              0.3333333333333333,
              "#9c179e"
             ],
             [
              0.4444444444444444,
              "#bd3786"
             ],
             [
              0.5555555555555556,
              "#d8576b"
             ],
             [
              0.6666666666666666,
              "#ed7953"
             ],
             [
              0.7777777777777778,
              "#fb9f3a"
             ],
             [
              0.8888888888888888,
              "#fdca26"
             ],
             [
              1,
              "#f0f921"
             ]
            ],
            "type": "contour"
           }
          ],
          "contourcarpet": [
           {
            "colorbar": {
             "outlinewidth": 0,
             "ticks": ""
            },
            "type": "contourcarpet"
           }
          ],
          "heatmap": [
           {
            "colorbar": {
             "outlinewidth": 0,
             "ticks": ""
            },
            "colorscale": [
             [
              0,
              "#0d0887"
             ],
             [
              0.1111111111111111,
              "#46039f"
             ],
             [
              0.2222222222222222,
              "#7201a8"
             ],
             [
              0.3333333333333333,
              "#9c179e"
             ],
             [
              0.4444444444444444,
              "#bd3786"
             ],
             [
              0.5555555555555556,
              "#d8576b"
             ],
             [
              0.6666666666666666,
              "#ed7953"
             ],
             [
              0.7777777777777778,
              "#fb9f3a"
             ],
             [
              0.8888888888888888,
              "#fdca26"
             ],
             [
              1,
              "#f0f921"
             ]
            ],
            "type": "heatmap"
           }
          ],
          "histogram": [
           {
            "marker": {
             "pattern": {
              "fillmode": "overlay",
              "size": 10,
              "solidity": 0.2
             }
            },
            "type": "histogram"
           }
          ],
          "histogram2d": [
           {
            "colorbar": {
             "outlinewidth": 0,
             "ticks": ""
            },
            "colorscale": [
             [
              0,
              "#0d0887"
             ],
             [
              0.1111111111111111,
              "#46039f"
             ],
             [
              0.2222222222222222,
              "#7201a8"
             ],
             [
              0.3333333333333333,
              "#9c179e"
             ],
             [
              0.4444444444444444,
              "#bd3786"
             ],
             [
              0.5555555555555556,
              "#d8576b"
             ],
             [
              0.6666666666666666,
              "#ed7953"
             ],
             [
              0.7777777777777778,
              "#fb9f3a"
             ],
             [
              0.8888888888888888,
              "#fdca26"
             ],
             [
              1,
              "#f0f921"
             ]
            ],
            "type": "histogram2d"
           }
          ],
          "histogram2dcontour": [
           {
            "colorbar": {
             "outlinewidth": 0,
             "ticks": ""
            },
            "colorscale": [
             [
              0,
              "#0d0887"
             ],
             [
              0.1111111111111111,
              "#46039f"
             ],
             [
              0.2222222222222222,
              "#7201a8"
             ],
             [
              0.3333333333333333,
              "#9c179e"
             ],
             [
              0.4444444444444444,
              "#bd3786"
             ],
             [
              0.5555555555555556,
              "#d8576b"
             ],
             [
              0.6666666666666666,
              "#ed7953"
             ],
             [
              0.7777777777777778,
              "#fb9f3a"
             ],
             [
              0.8888888888888888,
              "#fdca26"
             ],
             [
              1,
              "#f0f921"
             ]
            ],
            "type": "histogram2dcontour"
           }
          ],
          "mesh3d": [
           {
            "colorbar": {
             "outlinewidth": 0,
             "ticks": ""
            },
            "type": "mesh3d"
           }
          ],
          "parcoords": [
           {
            "line": {
             "colorbar": {
              "outlinewidth": 0,
              "ticks": ""
             }
            },
            "type": "parcoords"
           }
          ],
          "pie": [
           {
            "automargin": true,
            "type": "pie"
           }
          ],
          "scatter": [
           {
            "marker": {
             "line": {
              "color": "#283442"
             }
            },
            "type": "scatter"
           }
          ],
          "scatter3d": [
           {
            "line": {
             "colorbar": {
              "outlinewidth": 0,
              "ticks": ""
             }
            },
            "marker": {
             "colorbar": {
              "outlinewidth": 0,
              "ticks": ""
             }
            },
            "type": "scatter3d"
           }
          ],
          "scattercarpet": [
           {
            "marker": {
             "colorbar": {
              "outlinewidth": 0,
              "ticks": ""
             }
            },
            "type": "scattercarpet"
           }
          ],
          "scattergeo": [
           {
            "marker": {
             "colorbar": {
              "outlinewidth": 0,
              "ticks": ""
             }
            },
            "type": "scattergeo"
           }
          ],
          "scattergl": [
           {
            "marker": {
             "line": {
              "color": "#283442"
             }
            },
            "type": "scattergl"
           }
          ],
          "scattermap": [
           {
            "marker": {
             "colorbar": {
              "outlinewidth": 0,
              "ticks": ""
             }
            },
            "type": "scattermap"
           }
          ],
          "scattermapbox": [
           {
            "marker": {
             "colorbar": {
              "outlinewidth": 0,
              "ticks": ""
             }
            },
            "type": "scattermapbox"
           }
          ],
          "scatterpolar": [
           {
            "marker": {
             "colorbar": {
              "outlinewidth": 0,
              "ticks": ""
             }
            },
            "type": "scatterpolar"
           }
          ],
          "scatterpolargl": [
           {
            "marker": {
             "colorbar": {
              "outlinewidth": 0,
              "ticks": ""
             }
            },
            "type": "scatterpolargl"
           }
          ],
          "scatterternary": [
           {
            "marker": {
             "colorbar": {
              "outlinewidth": 0,
              "ticks": ""
             }
            },
            "type": "scatterternary"
           }
          ],
          "surface": [
           {
            "colorbar": {
             "outlinewidth": 0,
             "ticks": ""
            },
            "colorscale": [
             [
              0,
              "#0d0887"
             ],
             [
              0.1111111111111111,
              "#46039f"
             ],
             [
              0.2222222222222222,
              "#7201a8"
             ],
             [
              0.3333333333333333,
              "#9c179e"
             ],
             [
              0.4444444444444444,
              "#bd3786"
             ],
             [
              0.5555555555555556,
              "#d8576b"
             ],
             [
              0.6666666666666666,
              "#ed7953"
             ],
             [
              0.7777777777777778,
              "#fb9f3a"
             ],
             [
              0.8888888888888888,
              "#fdca26"
             ],
             [
              1,
              "#f0f921"
             ]
            ],
            "type": "surface"
           }
          ],
          "table": [
           {
            "cells": {
             "fill": {
              "color": "#506784"
             },
             "line": {
              "color": "rgb(17,17,17)"
             }
            },
            "header": {
             "fill": {
              "color": "#2a3f5f"
             },
             "line": {
              "color": "rgb(17,17,17)"
             }
            },
            "type": "table"
           }
          ]
         },
         "layout": {
          "annotationdefaults": {
           "arrowcolor": "#f2f5fa",
           "arrowhead": 0,
           "arrowwidth": 1
          },
          "autotypenumbers": "strict",
          "coloraxis": {
           "colorbar": {
            "outlinewidth": 0,
            "ticks": ""
           }
          },
          "colorscale": {
           "diverging": [
            [
             0,
             "#8e0152"
            ],
            [
             0.1,
             "#c51b7d"
            ],
            [
             0.2,
             "#de77ae"
            ],
            [
             0.3,
             "#f1b6da"
            ],
            [
             0.4,
             "#fde0ef"
            ],
            [
             0.5,
             "#f7f7f7"
            ],
            [
             0.6,
             "#e6f5d0"
            ],
            [
             0.7,
             "#b8e186"
            ],
            [
             0.8,
             "#7fbc41"
            ],
            [
             0.9,
             "#4d9221"
            ],
            [
             1,
             "#276419"
            ]
           ],
           "sequential": [
            [
             0,
             "#0d0887"
            ],
            [
             0.1111111111111111,
             "#46039f"
            ],
            [
             0.2222222222222222,
             "#7201a8"
            ],
            [
             0.3333333333333333,
             "#9c179e"
            ],
            [
             0.4444444444444444,
             "#bd3786"
            ],
            [
             0.5555555555555556,
             "#d8576b"
            ],
            [
             0.6666666666666666,
             "#ed7953"
            ],
            [
             0.7777777777777778,
             "#fb9f3a"
            ],
            [
             0.8888888888888888,
             "#fdca26"
            ],
            [
             1,
             "#f0f921"
            ]
           ],
           "sequentialminus": [
            [
             0,
             "#0d0887"
            ],
            [
             0.1111111111111111,
             "#46039f"
            ],
            [
             0.2222222222222222,
             "#7201a8"
            ],
            [
             0.3333333333333333,
             "#9c179e"
            ],
            [
             0.4444444444444444,
             "#bd3786"
            ],
            [
             0.5555555555555556,
             "#d8576b"
            ],
            [
             0.6666666666666666,
             "#ed7953"
            ],
            [
             0.7777777777777778,
             "#fb9f3a"
            ],
            [
             0.8888888888888888,
             "#fdca26"
            ],
            [
             1,
             "#f0f921"
            ]
           ]
          },
          "colorway": [
           "#636efa",
           "#EF553B",
           "#00cc96",
           "#ab63fa",
           "#FFA15A",
           "#19d3f3",
           "#FF6692",
           "#B6E880",
           "#FF97FF",
           "#FECB52"
          ],
          "font": {
           "color": "#f2f5fa"
          },
          "geo": {
           "bgcolor": "rgb(17,17,17)",
           "lakecolor": "rgb(17,17,17)",
           "landcolor": "rgb(17,17,17)",
           "showlakes": true,
           "showland": true,
           "subunitcolor": "#506784"
          },
          "hoverlabel": {
           "align": "left"
          },
          "hovermode": "closest",
          "mapbox": {
           "style": "dark"
          },
          "paper_bgcolor": "rgb(17,17,17)",
          "plot_bgcolor": "rgb(17,17,17)",
          "polar": {
           "angularaxis": {
            "gridcolor": "#506784",
            "linecolor": "#506784",
            "ticks": ""
           },
           "bgcolor": "rgb(17,17,17)",
           "radialaxis": {
            "gridcolor": "#506784",
            "linecolor": "#506784",
            "ticks": ""
           }
          },
          "scene": {
           "xaxis": {
            "backgroundcolor": "rgb(17,17,17)",
            "gridcolor": "#506784",
            "gridwidth": 2,
            "linecolor": "#506784",
            "showbackground": true,
            "ticks": "",
            "zerolinecolor": "#C8D4E3"
           },
           "yaxis": {
            "backgroundcolor": "rgb(17,17,17)",
            "gridcolor": "#506784",
            "gridwidth": 2,
            "linecolor": "#506784",
            "showbackground": true,
            "ticks": "",
            "zerolinecolor": "#C8D4E3"
           },
           "zaxis": {
            "backgroundcolor": "rgb(17,17,17)",
            "gridcolor": "#506784",
            "gridwidth": 2,
            "linecolor": "#506784",
            "showbackground": true,
            "ticks": "",
            "zerolinecolor": "#C8D4E3"
           }
          },
          "shapedefaults": {
           "line": {
            "color": "#f2f5fa"
           }
          },
          "sliderdefaults": {
           "bgcolor": "#C8D4E3",
           "bordercolor": "rgb(17,17,17)",
           "borderwidth": 1,
           "tickwidth": 0
          },
          "ternary": {
           "aaxis": {
            "gridcolor": "#506784",
            "linecolor": "#506784",
            "ticks": ""
           },
           "baxis": {
            "gridcolor": "#506784",
            "linecolor": "#506784",
            "ticks": ""
           },
           "bgcolor": "rgb(17,17,17)",
           "caxis": {
            "gridcolor": "#506784",
            "linecolor": "#506784",
            "ticks": ""
           }
          },
          "title": {
           "x": 0.05
          },
          "updatemenudefaults": {
           "bgcolor": "#506784",
           "borderwidth": 0
          },
          "xaxis": {
           "automargin": true,
           "gridcolor": "#283442",
           "linecolor": "#506784",
           "ticks": "",
           "title": {
            "standoff": 15
           },
           "zerolinecolor": "#283442",
           "zerolinewidth": 2
          },
          "yaxis": {
           "automargin": true,
           "gridcolor": "#283442",
           "linecolor": "#506784",
           "ticks": "",
           "title": {
            "standoff": 15
           },
           "zerolinecolor": "#283442",
           "zerolinewidth": 2
          }
         }
        },
        "xaxis": {
         "anchor": "y",
         "domain": [
          0,
          1
         ],
         "title": {
          "text": "order_type"
         }
        },
        "yaxis": {
         "anchor": "x",
         "domain": [
          0,
          1
         ],
         "title": {
          "text": "profit"
         }
        }
       }
      }
     },
     "metadata": {},
     "output_type": "display_data"
    },
    {
     "data": {
      "application/vnd.plotly.v1+json": {
       "config": {
        "plotlyServerURL": "https://plot.ly"
       },
       "data": [
        {
         "hovertemplate": "dayofweek=%{x}<br>profit=%{y}<extra></extra>",
         "legendgroup": "",
         "marker": {
          "color": "#636efa",
          "pattern": {
           "shape": ""
          }
         },
         "name": "",
         "orientation": "v",
         "showlegend": false,
         "textposition": "auto",
         "type": "bar",
         "x": {
          "bdata": "AAAAAAEAAAACAAAAAwAAAAQAAAA=",
          "dtype": "i4"
         },
         "xaxis": "x",
         "y": {
          "bdata": "AAAAAABgSUAAAAAAACBKQAAAAAAAEFPAAAAAAACgS8AAAAAAAPBWQA==",
          "dtype": "f8"
         },
         "yaxis": "y"
        }
       ],
       "layout": {
        "barmode": "relative",
        "legend": {
         "tracegroupgap": 0
        },
        "margin": {
         "t": 60
        },
        "template": {
         "data": {
          "bar": [
           {
            "error_x": {
             "color": "#f2f5fa"
            },
            "error_y": {
             "color": "#f2f5fa"
            },
            "marker": {
             "line": {
              "color": "rgb(17,17,17)",
              "width": 0.5
             },
             "pattern": {
              "fillmode": "overlay",
              "size": 10,
              "solidity": 0.2
             }
            },
            "type": "bar"
           }
          ],
          "barpolar": [
           {
            "marker": {
             "line": {
              "color": "rgb(17,17,17)",
              "width": 0.5
             },
             "pattern": {
              "fillmode": "overlay",
              "size": 10,
              "solidity": 0.2
             }
            },
            "type": "barpolar"
           }
          ],
          "carpet": [
           {
            "aaxis": {
             "endlinecolor": "#A2B1C6",
             "gridcolor": "#506784",
             "linecolor": "#506784",
             "minorgridcolor": "#506784",
             "startlinecolor": "#A2B1C6"
            },
            "baxis": {
             "endlinecolor": "#A2B1C6",
             "gridcolor": "#506784",
             "linecolor": "#506784",
             "minorgridcolor": "#506784",
             "startlinecolor": "#A2B1C6"
            },
            "type": "carpet"
           }
          ],
          "choropleth": [
           {
            "colorbar": {
             "outlinewidth": 0,
             "ticks": ""
            },
            "type": "choropleth"
           }
          ],
          "contour": [
           {
            "colorbar": {
             "outlinewidth": 0,
             "ticks": ""
            },
            "colorscale": [
             [
              0,
              "#0d0887"
             ],
             [
              0.1111111111111111,
              "#46039f"
             ],
             [
              0.2222222222222222,
              "#7201a8"
             ],
             [
              0.3333333333333333,
              "#9c179e"
             ],
             [
              0.4444444444444444,
              "#bd3786"
             ],
             [
              0.5555555555555556,
              "#d8576b"
             ],
             [
              0.6666666666666666,
              "#ed7953"
             ],
             [
              0.7777777777777778,
              "#fb9f3a"
             ],
             [
              0.8888888888888888,
              "#fdca26"
             ],
             [
              1,
              "#f0f921"
             ]
            ],
            "type": "contour"
           }
          ],
          "contourcarpet": [
           {
            "colorbar": {
             "outlinewidth": 0,
             "ticks": ""
            },
            "type": "contourcarpet"
           }
          ],
          "heatmap": [
           {
            "colorbar": {
             "outlinewidth": 0,
             "ticks": ""
            },
            "colorscale": [
             [
              0,
              "#0d0887"
             ],
             [
              0.1111111111111111,
              "#46039f"
             ],
             [
              0.2222222222222222,
              "#7201a8"
             ],
             [
              0.3333333333333333,
              "#9c179e"
             ],
             [
              0.4444444444444444,
              "#bd3786"
             ],
             [
              0.5555555555555556,
              "#d8576b"
             ],
             [
              0.6666666666666666,
              "#ed7953"
             ],
             [
              0.7777777777777778,
              "#fb9f3a"
             ],
             [
              0.8888888888888888,
              "#fdca26"
             ],
             [
              1,
              "#f0f921"
             ]
            ],
            "type": "heatmap"
           }
          ],
          "histogram": [
           {
            "marker": {
             "pattern": {
              "fillmode": "overlay",
              "size": 10,
              "solidity": 0.2
             }
            },
            "type": "histogram"
           }
          ],
          "histogram2d": [
           {
            "colorbar": {
             "outlinewidth": 0,
             "ticks": ""
            },
            "colorscale": [
             [
              0,
              "#0d0887"
             ],
             [
              0.1111111111111111,
              "#46039f"
             ],
             [
              0.2222222222222222,
              "#7201a8"
             ],
             [
              0.3333333333333333,
              "#9c179e"
             ],
             [
              0.4444444444444444,
              "#bd3786"
             ],
             [
              0.5555555555555556,
              "#d8576b"
             ],
             [
              0.6666666666666666,
              "#ed7953"
             ],
             [
              0.7777777777777778,
              "#fb9f3a"
             ],
             [
              0.8888888888888888,
              "#fdca26"
             ],
             [
              1,
              "#f0f921"
             ]
            ],
            "type": "histogram2d"
           }
          ],
          "histogram2dcontour": [
           {
            "colorbar": {
             "outlinewidth": 0,
             "ticks": ""
            },
            "colorscale": [
             [
              0,
              "#0d0887"
             ],
             [
              0.1111111111111111,
              "#46039f"
             ],
             [
              0.2222222222222222,
              "#7201a8"
             ],
             [
              0.3333333333333333,
              "#9c179e"
             ],
             [
              0.4444444444444444,
              "#bd3786"
             ],
             [
              0.5555555555555556,
              "#d8576b"
             ],
             [
              0.6666666666666666,
              "#ed7953"
             ],
             [
              0.7777777777777778,
              "#fb9f3a"
             ],
             [
              0.8888888888888888,
              "#fdca26"
             ],
             [
              1,
              "#f0f921"
             ]
            ],
            "type": "histogram2dcontour"
           }
          ],
          "mesh3d": [
           {
            "colorbar": {
             "outlinewidth": 0,
             "ticks": ""
            },
            "type": "mesh3d"
           }
          ],
          "parcoords": [
           {
            "line": {
             "colorbar": {
              "outlinewidth": 0,
              "ticks": ""
             }
            },
            "type": "parcoords"
           }
          ],
          "pie": [
           {
            "automargin": true,
            "type": "pie"
           }
          ],
          "scatter": [
           {
            "marker": {
             "line": {
              "color": "#283442"
             }
            },
            "type": "scatter"
           }
          ],
          "scatter3d": [
           {
            "line": {
             "colorbar": {
              "outlinewidth": 0,
              "ticks": ""
             }
            },
            "marker": {
             "colorbar": {
              "outlinewidth": 0,
              "ticks": ""
             }
            },
            "type": "scatter3d"
           }
          ],
          "scattercarpet": [
           {
            "marker": {
             "colorbar": {
              "outlinewidth": 0,
              "ticks": ""
             }
            },
            "type": "scattercarpet"
           }
          ],
          "scattergeo": [
           {
            "marker": {
             "colorbar": {
              "outlinewidth": 0,
              "ticks": ""
             }
            },
            "type": "scattergeo"
           }
          ],
          "scattergl": [
           {
            "marker": {
             "line": {
              "color": "#283442"
             }
            },
            "type": "scattergl"
           }
          ],
          "scattermap": [
           {
            "marker": {
             "colorbar": {
              "outlinewidth": 0,
              "ticks": ""
             }
            },
            "type": "scattermap"
           }
          ],
          "scattermapbox": [
           {
            "marker": {
             "colorbar": {
              "outlinewidth": 0,
              "ticks": ""
             }
            },
            "type": "scattermapbox"
           }
          ],
          "scatterpolar": [
           {
            "marker": {
             "colorbar": {
              "outlinewidth": 0,
              "ticks": ""
             }
            },
            "type": "scatterpolar"
           }
          ],
          "scatterpolargl": [
           {
            "marker": {
             "colorbar": {
              "outlinewidth": 0,
              "ticks": ""
             }
            },
            "type": "scatterpolargl"
           }
          ],
          "scatterternary": [
           {
            "marker": {
             "colorbar": {
              "outlinewidth": 0,
              "ticks": ""
             }
            },
            "type": "scatterternary"
           }
          ],
          "surface": [
           {
            "colorbar": {
             "outlinewidth": 0,
             "ticks": ""
            },
            "colorscale": [
             [
              0,
              "#0d0887"
             ],
             [
              0.1111111111111111,
              "#46039f"
             ],
             [
              0.2222222222222222,
              "#7201a8"
             ],
             [
              0.3333333333333333,
              "#9c179e"
             ],
             [
              0.4444444444444444,
              "#bd3786"
             ],
             [
              0.5555555555555556,
              "#d8576b"
             ],
             [
              0.6666666666666666,
              "#ed7953"
             ],
             [
              0.7777777777777778,
              "#fb9f3a"
             ],
             [
              0.8888888888888888,
              "#fdca26"
             ],
             [
              1,
              "#f0f921"
             ]
            ],
            "type": "surface"
           }
          ],
          "table": [
           {
            "cells": {
             "fill": {
              "color": "#506784"
             },
             "line": {
              "color": "rgb(17,17,17)"
             }
            },
            "header": {
             "fill": {
              "color": "#2a3f5f"
             },
             "line": {
              "color": "rgb(17,17,17)"
             }
            },
            "type": "table"
           }
          ]
         },
         "layout": {
          "annotationdefaults": {
           "arrowcolor": "#f2f5fa",
           "arrowhead": 0,
           "arrowwidth": 1
          },
          "autotypenumbers": "strict",
          "coloraxis": {
           "colorbar": {
            "outlinewidth": 0,
            "ticks": ""
           }
          },
          "colorscale": {
           "diverging": [
            [
             0,
             "#8e0152"
            ],
            [
             0.1,
             "#c51b7d"
            ],
            [
             0.2,
             "#de77ae"
            ],
            [
             0.3,
             "#f1b6da"
            ],
            [
             0.4,
             "#fde0ef"
            ],
            [
             0.5,
             "#f7f7f7"
            ],
            [
             0.6,
             "#e6f5d0"
            ],
            [
             0.7,
             "#b8e186"
            ],
            [
             0.8,
             "#7fbc41"
            ],
            [
             0.9,
             "#4d9221"
            ],
            [
             1,
             "#276419"
            ]
           ],
           "sequential": [
            [
             0,
             "#0d0887"
            ],
            [
             0.1111111111111111,
             "#46039f"
            ],
            [
             0.2222222222222222,
             "#7201a8"
            ],
            [
             0.3333333333333333,
             "#9c179e"
            ],
            [
             0.4444444444444444,
             "#bd3786"
            ],
            [
             0.5555555555555556,
             "#d8576b"
            ],
            [
             0.6666666666666666,
             "#ed7953"
            ],
            [
             0.7777777777777778,
             "#fb9f3a"
            ],
            [
             0.8888888888888888,
             "#fdca26"
            ],
            [
             1,
             "#f0f921"
            ]
           ],
           "sequentialminus": [
            [
             0,
             "#0d0887"
            ],
            [
             0.1111111111111111,
             "#46039f"
            ],
            [
             0.2222222222222222,
             "#7201a8"
            ],
            [
             0.3333333333333333,
             "#9c179e"
            ],
            [
             0.4444444444444444,
             "#bd3786"
            ],
            [
             0.5555555555555556,
             "#d8576b"
            ],
            [
             0.6666666666666666,
             "#ed7953"
            ],
            [
             0.7777777777777778,
             "#fb9f3a"
            ],
            [
             0.8888888888888888,
             "#fdca26"
            ],
            [
             1,
             "#f0f921"
            ]
           ]
          },
          "colorway": [
           "#636efa",
           "#EF553B",
           "#00cc96",
           "#ab63fa",
           "#FFA15A",
           "#19d3f3",
           "#FF6692",
           "#B6E880",
           "#FF97FF",
           "#FECB52"
          ],
          "font": {
           "color": "#f2f5fa"
          },
          "geo": {
           "bgcolor": "rgb(17,17,17)",
           "lakecolor": "rgb(17,17,17)",
           "landcolor": "rgb(17,17,17)",
           "showlakes": true,
           "showland": true,
           "subunitcolor": "#506784"
          },
          "hoverlabel": {
           "align": "left"
          },
          "hovermode": "closest",
          "mapbox": {
           "style": "dark"
          },
          "paper_bgcolor": "rgb(17,17,17)",
          "plot_bgcolor": "rgb(17,17,17)",
          "polar": {
           "angularaxis": {
            "gridcolor": "#506784",
            "linecolor": "#506784",
            "ticks": ""
           },
           "bgcolor": "rgb(17,17,17)",
           "radialaxis": {
            "gridcolor": "#506784",
            "linecolor": "#506784",
            "ticks": ""
           }
          },
          "scene": {
           "xaxis": {
            "backgroundcolor": "rgb(17,17,17)",
            "gridcolor": "#506784",
            "gridwidth": 2,
            "linecolor": "#506784",
            "showbackground": true,
            "ticks": "",
            "zerolinecolor": "#C8D4E3"
           },
           "yaxis": {
            "backgroundcolor": "rgb(17,17,17)",
            "gridcolor": "#506784",
            "gridwidth": 2,
            "linecolor": "#506784",
            "showbackground": true,
            "ticks": "",
            "zerolinecolor": "#C8D4E3"
           },
           "zaxis": {
            "backgroundcolor": "rgb(17,17,17)",
            "gridcolor": "#506784",
            "gridwidth": 2,
            "linecolor": "#506784",
            "showbackground": true,
            "ticks": "",
            "zerolinecolor": "#C8D4E3"
           }
          },
          "shapedefaults": {
           "line": {
            "color": "#f2f5fa"
           }
          },
          "sliderdefaults": {
           "bgcolor": "#C8D4E3",
           "bordercolor": "rgb(17,17,17)",
           "borderwidth": 1,
           "tickwidth": 0
          },
          "ternary": {
           "aaxis": {
            "gridcolor": "#506784",
            "linecolor": "#506784",
            "ticks": ""
           },
           "baxis": {
            "gridcolor": "#506784",
            "linecolor": "#506784",
            "ticks": ""
           },
           "bgcolor": "rgb(17,17,17)",
           "caxis": {
            "gridcolor": "#506784",
            "linecolor": "#506784",
            "ticks": ""
           }
          },
          "title": {
           "x": 0.05
          },
          "updatemenudefaults": {
           "bgcolor": "#506784",
           "borderwidth": 0
          },
          "xaxis": {
           "automargin": true,
           "gridcolor": "#283442",
           "linecolor": "#506784",
           "ticks": "",
           "title": {
            "standoff": 15
           },
           "zerolinecolor": "#283442",
           "zerolinewidth": 2
          },
          "yaxis": {
           "automargin": true,
           "gridcolor": "#283442",
           "linecolor": "#506784",
           "ticks": "",
           "title": {
            "standoff": 15
           },
           "zerolinecolor": "#283442",
           "zerolinewidth": 2
          }
         }
        },
        "xaxis": {
         "anchor": "y",
         "domain": [
          0,
          1
         ],
         "title": {
          "text": "dayofweek"
         }
        },
        "yaxis": {
         "anchor": "x",
         "domain": [
          0,
          1
         ],
         "title": {
          "text": "profit"
         }
        }
       }
      }
     },
     "metadata": {},
     "output_type": "display_data"
    },
    {
     "data": {
      "application/vnd.plotly.v1+json": {
       "config": {
        "plotlyServerURL": "https://plot.ly"
       },
       "data": [
        {
         "hovertemplate": "Month=%{x}<br>Total Profit=%{y}<extra></extra>",
         "legendgroup": "",
         "marker": {
          "color": "#00CC96",
          "pattern": {
           "shape": ""
          }
         },
         "name": "",
         "orientation": "v",
         "showlegend": false,
         "textposition": "auto",
         "type": "bar",
         "x": [
          "2025-03",
          "2025-04",
          "2025-05"
         ],
         "xaxis": "x",
         "y": {
          "bdata": "AAAAAADAR0AAAAAAADBUwAAAAAAAIFhA",
          "dtype": "f8"
         },
         "yaxis": "y"
        }
       ],
       "layout": {
        "barmode": "relative",
        "legend": {
         "tracegroupgap": 0
        },
        "template": {
         "data": {
          "bar": [
           {
            "error_x": {
             "color": "#f2f5fa"
            },
            "error_y": {
             "color": "#f2f5fa"
            },
            "marker": {
             "line": {
              "color": "rgb(17,17,17)",
              "width": 0.5
             },
             "pattern": {
              "fillmode": "overlay",
              "size": 10,
              "solidity": 0.2
             }
            },
            "type": "bar"
           }
          ],
          "barpolar": [
           {
            "marker": {
             "line": {
              "color": "rgb(17,17,17)",
              "width": 0.5
             },
             "pattern": {
              "fillmode": "overlay",
              "size": 10,
              "solidity": 0.2
             }
            },
            "type": "barpolar"
           }
          ],
          "carpet": [
           {
            "aaxis": {
             "endlinecolor": "#A2B1C6",
             "gridcolor": "#506784",
             "linecolor": "#506784",
             "minorgridcolor": "#506784",
             "startlinecolor": "#A2B1C6"
            },
            "baxis": {
             "endlinecolor": "#A2B1C6",
             "gridcolor": "#506784",
             "linecolor": "#506784",
             "minorgridcolor": "#506784",
             "startlinecolor": "#A2B1C6"
            },
            "type": "carpet"
           }
          ],
          "choropleth": [
           {
            "colorbar": {
             "outlinewidth": 0,
             "ticks": ""
            },
            "type": "choropleth"
           }
          ],
          "contour": [
           {
            "colorbar": {
             "outlinewidth": 0,
             "ticks": ""
            },
            "colorscale": [
             [
              0,
              "#0d0887"
             ],
             [
              0.1111111111111111,
              "#46039f"
             ],
             [
              0.2222222222222222,
              "#7201a8"
             ],
             [
              0.3333333333333333,
              "#9c179e"
             ],
             [
              0.4444444444444444,
              "#bd3786"
             ],
             [
              0.5555555555555556,
              "#d8576b"
             ],
             [
              0.6666666666666666,
              "#ed7953"
             ],
             [
              0.7777777777777778,
              "#fb9f3a"
             ],
             [
              0.8888888888888888,
              "#fdca26"
             ],
             [
              1,
              "#f0f921"
             ]
            ],
            "type": "contour"
           }
          ],
          "contourcarpet": [
           {
            "colorbar": {
             "outlinewidth": 0,
             "ticks": ""
            },
            "type": "contourcarpet"
           }
          ],
          "heatmap": [
           {
            "colorbar": {
             "outlinewidth": 0,
             "ticks": ""
            },
            "colorscale": [
             [
              0,
              "#0d0887"
             ],
             [
              0.1111111111111111,
              "#46039f"
             ],
             [
              0.2222222222222222,
              "#7201a8"
             ],
             [
              0.3333333333333333,
              "#9c179e"
             ],
             [
              0.4444444444444444,
              "#bd3786"
             ],
             [
              0.5555555555555556,
              "#d8576b"
             ],
             [
              0.6666666666666666,
              "#ed7953"
             ],
             [
              0.7777777777777778,
              "#fb9f3a"
             ],
             [
              0.8888888888888888,
              "#fdca26"
             ],
             [
              1,
              "#f0f921"
             ]
            ],
            "type": "heatmap"
           }
          ],
          "histogram": [
           {
            "marker": {
             "pattern": {
              "fillmode": "overlay",
              "size": 10,
              "solidity": 0.2
             }
            },
            "type": "histogram"
           }
          ],
          "histogram2d": [
           {
            "colorbar": {
             "outlinewidth": 0,
             "ticks": ""
            },
            "colorscale": [
             [
              0,
              "#0d0887"
             ],
             [
              0.1111111111111111,
              "#46039f"
             ],
             [
              0.2222222222222222,
              "#7201a8"
             ],
             [
              0.3333333333333333,
              "#9c179e"
             ],
             [
              0.4444444444444444,
              "#bd3786"
             ],
             [
              0.5555555555555556,
              "#d8576b"
             ],
             [
              0.6666666666666666,
              "#ed7953"
             ],
             [
              0.7777777777777778,
              "#fb9f3a"
             ],
             [
              0.8888888888888888,
              "#fdca26"
             ],
             [
              1,
              "#f0f921"
             ]
            ],
            "type": "histogram2d"
           }
          ],
          "histogram2dcontour": [
           {
            "colorbar": {
             "outlinewidth": 0,
             "ticks": ""
            },
            "colorscale": [
             [
              0,
              "#0d0887"
             ],
             [
              0.1111111111111111,
              "#46039f"
             ],
             [
              0.2222222222222222,
              "#7201a8"
             ],
             [
              0.3333333333333333,
              "#9c179e"
             ],
             [
              0.4444444444444444,
              "#bd3786"
             ],
             [
              0.5555555555555556,
              "#d8576b"
             ],
             [
              0.6666666666666666,
              "#ed7953"
             ],
             [
              0.7777777777777778,
              "#fb9f3a"
             ],
             [
              0.8888888888888888,
              "#fdca26"
             ],
             [
              1,
              "#f0f921"
             ]
            ],
            "type": "histogram2dcontour"
           }
          ],
          "mesh3d": [
           {
            "colorbar": {
             "outlinewidth": 0,
             "ticks": ""
            },
            "type": "mesh3d"
           }
          ],
          "parcoords": [
           {
            "line": {
             "colorbar": {
              "outlinewidth": 0,
              "ticks": ""
             }
            },
            "type": "parcoords"
           }
          ],
          "pie": [
           {
            "automargin": true,
            "type": "pie"
           }
          ],
          "scatter": [
           {
            "marker": {
             "line": {
              "color": "#283442"
             }
            },
            "type": "scatter"
           }
          ],
          "scatter3d": [
           {
            "line": {
             "colorbar": {
              "outlinewidth": 0,
              "ticks": ""
             }
            },
            "marker": {
             "colorbar": {
              "outlinewidth": 0,
              "ticks": ""
             }
            },
            "type": "scatter3d"
           }
          ],
          "scattercarpet": [
           {
            "marker": {
             "colorbar": {
              "outlinewidth": 0,
              "ticks": ""
             }
            },
            "type": "scattercarpet"
           }
          ],
          "scattergeo": [
           {
            "marker": {
             "colorbar": {
              "outlinewidth": 0,
              "ticks": ""
             }
            },
            "type": "scattergeo"
           }
          ],
          "scattergl": [
           {
            "marker": {
             "line": {
              "color": "#283442"
             }
            },
            "type": "scattergl"
           }
          ],
          "scattermap": [
           {
            "marker": {
             "colorbar": {
              "outlinewidth": 0,
              "ticks": ""
             }
            },
            "type": "scattermap"
           }
          ],
          "scattermapbox": [
           {
            "marker": {
             "colorbar": {
              "outlinewidth": 0,
              "ticks": ""
             }
            },
            "type": "scattermapbox"
           }
          ],
          "scatterpolar": [
           {
            "marker": {
             "colorbar": {
              "outlinewidth": 0,
              "ticks": ""
             }
            },
            "type": "scatterpolar"
           }
          ],
          "scatterpolargl": [
           {
            "marker": {
             "colorbar": {
              "outlinewidth": 0,
              "ticks": ""
             }
            },
            "type": "scatterpolargl"
           }
          ],
          "scatterternary": [
           {
            "marker": {
             "colorbar": {
              "outlinewidth": 0,
              "ticks": ""
             }
            },
            "type": "scatterternary"
           }
          ],
          "surface": [
           {
            "colorbar": {
             "outlinewidth": 0,
             "ticks": ""
            },
            "colorscale": [
             [
              0,
              "#0d0887"
             ],
             [
              0.1111111111111111,
              "#46039f"
             ],
             [
              0.2222222222222222,
              "#7201a8"
             ],
             [
              0.3333333333333333,
              "#9c179e"
             ],
             [
              0.4444444444444444,
              "#bd3786"
             ],
             [
              0.5555555555555556,
              "#d8576b"
             ],
             [
              0.6666666666666666,
              "#ed7953"
             ],
             [
              0.7777777777777778,
              "#fb9f3a"
             ],
             [
              0.8888888888888888,
              "#fdca26"
             ],
             [
              1,
              "#f0f921"
             ]
            ],
            "type": "surface"
           }
          ],
          "table": [
           {
            "cells": {
             "fill": {
              "color": "#506784"
             },
             "line": {
              "color": "rgb(17,17,17)"
             }
            },
            "header": {
             "fill": {
              "color": "#2a3f5f"
             },
             "line": {
              "color": "rgb(17,17,17)"
             }
            },
            "type": "table"
           }
          ]
         },
         "layout": {
          "annotationdefaults": {
           "arrowcolor": "#f2f5fa",
           "arrowhead": 0,
           "arrowwidth": 1
          },
          "autotypenumbers": "strict",
          "coloraxis": {
           "colorbar": {
            "outlinewidth": 0,
            "ticks": ""
           }
          },
          "colorscale": {
           "diverging": [
            [
             0,
             "#8e0152"
            ],
            [
             0.1,
             "#c51b7d"
            ],
            [
             0.2,
             "#de77ae"
            ],
            [
             0.3,
             "#f1b6da"
            ],
            [
             0.4,
             "#fde0ef"
            ],
            [
             0.5,
             "#f7f7f7"
            ],
            [
             0.6,
             "#e6f5d0"
            ],
            [
             0.7,
             "#b8e186"
            ],
            [
             0.8,
             "#7fbc41"
            ],
            [
             0.9,
             "#4d9221"
            ],
            [
             1,
             "#276419"
            ]
           ],
           "sequential": [
            [
             0,
             "#0d0887"
            ],
            [
             0.1111111111111111,
             "#46039f"
            ],
            [
             0.2222222222222222,
             "#7201a8"
            ],
            [
             0.3333333333333333,
             "#9c179e"
            ],
            [
             0.4444444444444444,
             "#bd3786"
            ],
            [
             0.5555555555555556,
             "#d8576b"
            ],
            [
             0.6666666666666666,
             "#ed7953"
            ],
            [
             0.7777777777777778,
             "#fb9f3a"
            ],
            [
             0.8888888888888888,
             "#fdca26"
            ],
            [
             1,
             "#f0f921"
            ]
           ],
           "sequentialminus": [
            [
             0,
             "#0d0887"
            ],
            [
             0.1111111111111111,
             "#46039f"
            ],
            [
             0.2222222222222222,
             "#7201a8"
            ],
            [
             0.3333333333333333,
             "#9c179e"
            ],
            [
             0.4444444444444444,
             "#bd3786"
            ],
            [
             0.5555555555555556,
             "#d8576b"
            ],
            [
             0.6666666666666666,
             "#ed7953"
            ],
            [
             0.7777777777777778,
             "#fb9f3a"
            ],
            [
             0.8888888888888888,
             "#fdca26"
            ],
            [
             1,
             "#f0f921"
            ]
           ]
          },
          "colorway": [
           "#636efa",
           "#EF553B",
           "#00cc96",
           "#ab63fa",
           "#FFA15A",
           "#19d3f3",
           "#FF6692",
           "#B6E880",
           "#FF97FF",
           "#FECB52"
          ],
          "font": {
           "color": "#f2f5fa"
          },
          "geo": {
           "bgcolor": "rgb(17,17,17)",
           "lakecolor": "rgb(17,17,17)",
           "landcolor": "rgb(17,17,17)",
           "showlakes": true,
           "showland": true,
           "subunitcolor": "#506784"
          },
          "hoverlabel": {
           "align": "left"
          },
          "hovermode": "closest",
          "mapbox": {
           "style": "dark"
          },
          "paper_bgcolor": "rgb(17,17,17)",
          "plot_bgcolor": "rgb(17,17,17)",
          "polar": {
           "angularaxis": {
            "gridcolor": "#506784",
            "linecolor": "#506784",
            "ticks": ""
           },
           "bgcolor": "rgb(17,17,17)",
           "radialaxis": {
            "gridcolor": "#506784",
            "linecolor": "#506784",
            "ticks": ""
           }
          },
          "scene": {
           "xaxis": {
            "backgroundcolor": "rgb(17,17,17)",
            "gridcolor": "#506784",
            "gridwidth": 2,
            "linecolor": "#506784",
            "showbackground": true,
            "ticks": "",
            "zerolinecolor": "#C8D4E3"
           },
           "yaxis": {
            "backgroundcolor": "rgb(17,17,17)",
            "gridcolor": "#506784",
            "gridwidth": 2,
            "linecolor": "#506784",
            "showbackground": true,
            "ticks": "",
            "zerolinecolor": "#C8D4E3"
           },
           "zaxis": {
            "backgroundcolor": "rgb(17,17,17)",
            "gridcolor": "#506784",
            "gridwidth": 2,
            "linecolor": "#506784",
            "showbackground": true,
            "ticks": "",
            "zerolinecolor": "#C8D4E3"
           }
          },
          "shapedefaults": {
           "line": {
            "color": "#f2f5fa"
           }
          },
          "sliderdefaults": {
           "bgcolor": "#C8D4E3",
           "bordercolor": "rgb(17,17,17)",
           "borderwidth": 1,
           "tickwidth": 0
          },
          "ternary": {
           "aaxis": {
            "gridcolor": "#506784",
            "linecolor": "#506784",
            "ticks": ""
           },
           "baxis": {
            "gridcolor": "#506784",
            "linecolor": "#506784",
            "ticks": ""
           },
           "bgcolor": "rgb(17,17,17)",
           "caxis": {
            "gridcolor": "#506784",
            "linecolor": "#506784",
            "ticks": ""
           }
          },
          "title": {
           "x": 0.05
          },
          "updatemenudefaults": {
           "bgcolor": "#506784",
           "borderwidth": 0
          },
          "xaxis": {
           "automargin": true,
           "gridcolor": "#283442",
           "linecolor": "#506784",
           "ticks": "",
           "title": {
            "standoff": 15
           },
           "zerolinecolor": "#283442",
           "zerolinewidth": 2
          },
          "yaxis": {
           "automargin": true,
           "gridcolor": "#283442",
           "linecolor": "#506784",
           "ticks": "",
           "title": {
            "standoff": 15
           },
           "zerolinecolor": "#283442",
           "zerolinewidth": 2
          }
         }
        },
        "title": {
         "text": "Total Profit Per Month"
        },
        "xaxis": {
         "anchor": "y",
         "domain": [
          0,
          1
         ],
         "tickangle": -45,
         "title": {
          "text": "Month"
         }
        },
        "yaxis": {
         "anchor": "x",
         "domain": [
          0,
          1
         ],
         "title": {
          "text": "Total Profit"
         }
        }
       }
      }
     },
     "metadata": {},
     "output_type": "display_data"
    },
    {
     "data": {
      "application/vnd.plotly.v1+json": {
       "config": {
        "plotlyServerURL": "https://plot.ly"
       },
       "data": [
        {
         "hovertemplate": "Year=%{x}<br>Total Profit=%{y}<extra></extra>",
         "legendgroup": "",
         "marker": {
          "color": "#EF553B",
          "pattern": {
           "shape": ""
          }
         },
         "name": "",
         "orientation": "v",
         "showlegend": false,
         "textposition": "auto",
         "type": "bar",
         "x": {
          "bdata": "6QcAAA==",
          "dtype": "i4"
         },
         "xaxis": "x",
         "y": {
          "bdata": "AAAAAACgT0A=",
          "dtype": "f8"
         },
         "yaxis": "y"
        }
       ],
       "layout": {
        "barmode": "relative",
        "legend": {
         "tracegroupgap": 0
        },
        "template": {
         "data": {
          "bar": [
           {
            "error_x": {
             "color": "#f2f5fa"
            },
            "error_y": {
             "color": "#f2f5fa"
            },
            "marker": {
             "line": {
              "color": "rgb(17,17,17)",
              "width": 0.5
             },
             "pattern": {
              "fillmode": "overlay",
              "size": 10,
              "solidity": 0.2
             }
            },
            "type": "bar"
           }
          ],
          "barpolar": [
           {
            "marker": {
             "line": {
              "color": "rgb(17,17,17)",
              "width": 0.5
             },
             "pattern": {
              "fillmode": "overlay",
              "size": 10,
              "solidity": 0.2
             }
            },
            "type": "barpolar"
           }
          ],
          "carpet": [
           {
            "aaxis": {
             "endlinecolor": "#A2B1C6",
             "gridcolor": "#506784",
             "linecolor": "#506784",
             "minorgridcolor": "#506784",
             "startlinecolor": "#A2B1C6"
            },
            "baxis": {
             "endlinecolor": "#A2B1C6",
             "gridcolor": "#506784",
             "linecolor": "#506784",
             "minorgridcolor": "#506784",
             "startlinecolor": "#A2B1C6"
            },
            "type": "carpet"
           }
          ],
          "choropleth": [
           {
            "colorbar": {
             "outlinewidth": 0,
             "ticks": ""
            },
            "type": "choropleth"
           }
          ],
          "contour": [
           {
            "colorbar": {
             "outlinewidth": 0,
             "ticks": ""
            },
            "colorscale": [
             [
              0,
              "#0d0887"
             ],
             [
              0.1111111111111111,
              "#46039f"
             ],
             [
              0.2222222222222222,
              "#7201a8"
             ],
             [
              0.3333333333333333,
              "#9c179e"
             ],
             [
              0.4444444444444444,
              "#bd3786"
             ],
             [
              0.5555555555555556,
              "#d8576b"
             ],
             [
              0.6666666666666666,
              "#ed7953"
             ],
             [
              0.7777777777777778,
              "#fb9f3a"
             ],
             [
              0.8888888888888888,
              "#fdca26"
             ],
             [
              1,
              "#f0f921"
             ]
            ],
            "type": "contour"
           }
          ],
          "contourcarpet": [
           {
            "colorbar": {
             "outlinewidth": 0,
             "ticks": ""
            },
            "type": "contourcarpet"
           }
          ],
          "heatmap": [
           {
            "colorbar": {
             "outlinewidth": 0,
             "ticks": ""
            },
            "colorscale": [
             [
              0,
              "#0d0887"
             ],
             [
              0.1111111111111111,
              "#46039f"
             ],
             [
              0.2222222222222222,
              "#7201a8"
             ],
             [
              0.3333333333333333,
              "#9c179e"
             ],
             [
              0.4444444444444444,
              "#bd3786"
             ],
             [
              0.5555555555555556,
              "#d8576b"
             ],
             [
              0.6666666666666666,
              "#ed7953"
             ],
             [
              0.7777777777777778,
              "#fb9f3a"
             ],
             [
              0.8888888888888888,
              "#fdca26"
             ],
             [
              1,
              "#f0f921"
             ]
            ],
            "type": "heatmap"
           }
          ],
          "histogram": [
           {
            "marker": {
             "pattern": {
              "fillmode": "overlay",
              "size": 10,
              "solidity": 0.2
             }
            },
            "type": "histogram"
           }
          ],
          "histogram2d": [
           {
            "colorbar": {
             "outlinewidth": 0,
             "ticks": ""
            },
            "colorscale": [
             [
              0,
              "#0d0887"
             ],
             [
              0.1111111111111111,
              "#46039f"
             ],
             [
              0.2222222222222222,
              "#7201a8"
             ],
             [
              0.3333333333333333,
              "#9c179e"
             ],
             [
              0.4444444444444444,
              "#bd3786"
             ],
             [
              0.5555555555555556,
              "#d8576b"
             ],
             [
              0.6666666666666666,
              "#ed7953"
             ],
             [
              0.7777777777777778,
              "#fb9f3a"
             ],
             [
              0.8888888888888888,
              "#fdca26"
             ],
             [
              1,
              "#f0f921"
             ]
            ],
            "type": "histogram2d"
           }
          ],
          "histogram2dcontour": [
           {
            "colorbar": {
             "outlinewidth": 0,
             "ticks": ""
            },
            "colorscale": [
             [
              0,
              "#0d0887"
             ],
             [
              0.1111111111111111,
              "#46039f"
             ],
             [
              0.2222222222222222,
              "#7201a8"
             ],
             [
              0.3333333333333333,
              "#9c179e"
             ],
             [
              0.4444444444444444,
              "#bd3786"
             ],
             [
              0.5555555555555556,
              "#d8576b"
             ],
             [
              0.6666666666666666,
              "#ed7953"
             ],
             [
              0.7777777777777778,
              "#fb9f3a"
             ],
             [
              0.8888888888888888,
              "#fdca26"
             ],
             [
              1,
              "#f0f921"
             ]
            ],
            "type": "histogram2dcontour"
           }
          ],
          "mesh3d": [
           {
            "colorbar": {
             "outlinewidth": 0,
             "ticks": ""
            },
            "type": "mesh3d"
           }
          ],
          "parcoords": [
           {
            "line": {
             "colorbar": {
              "outlinewidth": 0,
              "ticks": ""
             }
            },
            "type": "parcoords"
           }
          ],
          "pie": [
           {
            "automargin": true,
            "type": "pie"
           }
          ],
          "scatter": [
           {
            "marker": {
             "line": {
              "color": "#283442"
             }
            },
            "type": "scatter"
           }
          ],
          "scatter3d": [
           {
            "line": {
             "colorbar": {
              "outlinewidth": 0,
              "ticks": ""
             }
            },
            "marker": {
             "colorbar": {
              "outlinewidth": 0,
              "ticks": ""
             }
            },
            "type": "scatter3d"
           }
          ],
          "scattercarpet": [
           {
            "marker": {
             "colorbar": {
              "outlinewidth": 0,
              "ticks": ""
             }
            },
            "type": "scattercarpet"
           }
          ],
          "scattergeo": [
           {
            "marker": {
             "colorbar": {
              "outlinewidth": 0,
              "ticks": ""
             }
            },
            "type": "scattergeo"
           }
          ],
          "scattergl": [
           {
            "marker": {
             "line": {
              "color": "#283442"
             }
            },
            "type": "scattergl"
           }
          ],
          "scattermap": [
           {
            "marker": {
             "colorbar": {
              "outlinewidth": 0,
              "ticks": ""
             }
            },
            "type": "scattermap"
           }
          ],
          "scattermapbox": [
           {
            "marker": {
             "colorbar": {
              "outlinewidth": 0,
              "ticks": ""
             }
            },
            "type": "scattermapbox"
           }
          ],
          "scatterpolar": [
           {
            "marker": {
             "colorbar": {
              "outlinewidth": 0,
              "ticks": ""
             }
            },
            "type": "scatterpolar"
           }
          ],
          "scatterpolargl": [
           {
            "marker": {
             "colorbar": {
              "outlinewidth": 0,
              "ticks": ""
             }
            },
            "type": "scatterpolargl"
           }
          ],
          "scatterternary": [
           {
            "marker": {
             "colorbar": {
              "outlinewidth": 0,
              "ticks": ""
             }
            },
            "type": "scatterternary"
           }
          ],
          "surface": [
           {
            "colorbar": {
             "outlinewidth": 0,
             "ticks": ""
            },
            "colorscale": [
             [
              0,
              "#0d0887"
             ],
             [
              0.1111111111111111,
              "#46039f"
             ],
             [
              0.2222222222222222,
              "#7201a8"
             ],
             [
              0.3333333333333333,
              "#9c179e"
             ],
             [
              0.4444444444444444,
              "#bd3786"
             ],
             [
              0.5555555555555556,
              "#d8576b"
             ],
             [
              0.6666666666666666,
              "#ed7953"
             ],
             [
              0.7777777777777778,
              "#fb9f3a"
             ],
             [
              0.8888888888888888,
              "#fdca26"
             ],
             [
              1,
              "#f0f921"
             ]
            ],
            "type": "surface"
           }
          ],
          "table": [
           {
            "cells": {
             "fill": {
              "color": "#506784"
             },
             "line": {
              "color": "rgb(17,17,17)"
             }
            },
            "header": {
             "fill": {
              "color": "#2a3f5f"
             },
             "line": {
              "color": "rgb(17,17,17)"
             }
            },
            "type": "table"
           }
          ]
         },
         "layout": {
          "annotationdefaults": {
           "arrowcolor": "#f2f5fa",
           "arrowhead": 0,
           "arrowwidth": 1
          },
          "autotypenumbers": "strict",
          "coloraxis": {
           "colorbar": {
            "outlinewidth": 0,
            "ticks": ""
           }
          },
          "colorscale": {
           "diverging": [
            [
             0,
             "#8e0152"
            ],
            [
             0.1,
             "#c51b7d"
            ],
            [
             0.2,
             "#de77ae"
            ],
            [
             0.3,
             "#f1b6da"
            ],
            [
             0.4,
             "#fde0ef"
            ],
            [
             0.5,
             "#f7f7f7"
            ],
            [
             0.6,
             "#e6f5d0"
            ],
            [
             0.7,
             "#b8e186"
            ],
            [
             0.8,
             "#7fbc41"
            ],
            [
             0.9,
             "#4d9221"
            ],
            [
             1,
             "#276419"
            ]
           ],
           "sequential": [
            [
             0,
             "#0d0887"
            ],
            [
             0.1111111111111111,
             "#46039f"
            ],
            [
             0.2222222222222222,
             "#7201a8"
            ],
            [
             0.3333333333333333,
             "#9c179e"
            ],
            [
             0.4444444444444444,
             "#bd3786"
            ],
            [
             0.5555555555555556,
             "#d8576b"
            ],
            [
             0.6666666666666666,
             "#ed7953"
            ],
            [
             0.7777777777777778,
             "#fb9f3a"
            ],
            [
             0.8888888888888888,
             "#fdca26"
            ],
            [
             1,
             "#f0f921"
            ]
           ],
           "sequentialminus": [
            [
             0,
             "#0d0887"
            ],
            [
             0.1111111111111111,
             "#46039f"
            ],
            [
             0.2222222222222222,
             "#7201a8"
            ],
            [
             0.3333333333333333,
             "#9c179e"
            ],
            [
             0.4444444444444444,
             "#bd3786"
            ],
            [
             0.5555555555555556,
             "#d8576b"
            ],
            [
             0.6666666666666666,
             "#ed7953"
            ],
            [
             0.7777777777777778,
             "#fb9f3a"
            ],
            [
             0.8888888888888888,
             "#fdca26"
            ],
            [
             1,
             "#f0f921"
            ]
           ]
          },
          "colorway": [
           "#636efa",
           "#EF553B",
           "#00cc96",
           "#ab63fa",
           "#FFA15A",
           "#19d3f3",
           "#FF6692",
           "#B6E880",
           "#FF97FF",
           "#FECB52"
          ],
          "font": {
           "color": "#f2f5fa"
          },
          "geo": {
           "bgcolor": "rgb(17,17,17)",
           "lakecolor": "rgb(17,17,17)",
           "landcolor": "rgb(17,17,17)",
           "showlakes": true,
           "showland": true,
           "subunitcolor": "#506784"
          },
          "hoverlabel": {
           "align": "left"
          },
          "hovermode": "closest",
          "mapbox": {
           "style": "dark"
          },
          "paper_bgcolor": "rgb(17,17,17)",
          "plot_bgcolor": "rgb(17,17,17)",
          "polar": {
           "angularaxis": {
            "gridcolor": "#506784",
            "linecolor": "#506784",
            "ticks": ""
           },
           "bgcolor": "rgb(17,17,17)",
           "radialaxis": {
            "gridcolor": "#506784",
            "linecolor": "#506784",
            "ticks": ""
           }
          },
          "scene": {
           "xaxis": {
            "backgroundcolor": "rgb(17,17,17)",
            "gridcolor": "#506784",
            "gridwidth": 2,
            "linecolor": "#506784",
            "showbackground": true,
            "ticks": "",
            "zerolinecolor": "#C8D4E3"
           },
           "yaxis": {
            "backgroundcolor": "rgb(17,17,17)",
            "gridcolor": "#506784",
            "gridwidth": 2,
            "linecolor": "#506784",
            "showbackground": true,
            "ticks": "",
            "zerolinecolor": "#C8D4E3"
           },
           "zaxis": {
            "backgroundcolor": "rgb(17,17,17)",
            "gridcolor": "#506784",
            "gridwidth": 2,
            "linecolor": "#506784",
            "showbackground": true,
            "ticks": "",
            "zerolinecolor": "#C8D4E3"
           }
          },
          "shapedefaults": {
           "line": {
            "color": "#f2f5fa"
           }
          },
          "sliderdefaults": {
           "bgcolor": "#C8D4E3",
           "bordercolor": "rgb(17,17,17)",
           "borderwidth": 1,
           "tickwidth": 0
          },
          "ternary": {
           "aaxis": {
            "gridcolor": "#506784",
            "linecolor": "#506784",
            "ticks": ""
           },
           "baxis": {
            "gridcolor": "#506784",
            "linecolor": "#506784",
            "ticks": ""
           },
           "bgcolor": "rgb(17,17,17)",
           "caxis": {
            "gridcolor": "#506784",
            "linecolor": "#506784",
            "ticks": ""
           }
          },
          "title": {
           "x": 0.05
          },
          "updatemenudefaults": {
           "bgcolor": "#506784",
           "borderwidth": 0
          },
          "xaxis": {
           "automargin": true,
           "gridcolor": "#283442",
           "linecolor": "#506784",
           "ticks": "",
           "title": {
            "standoff": 15
           },
           "zerolinecolor": "#283442",
           "zerolinewidth": 2
          },
          "yaxis": {
           "automargin": true,
           "gridcolor": "#283442",
           "linecolor": "#506784",
           "ticks": "",
           "title": {
            "standoff": 15
           },
           "zerolinecolor": "#283442",
           "zerolinewidth": 2
          }
         }
        },
        "title": {
         "text": "Total Profit Per Year"
        },
        "xaxis": {
         "anchor": "y",
         "domain": [
          0,
          1
         ],
         "title": {
          "text": "Year"
         },
         "type": "category"
        },
        "yaxis": {
         "anchor": "x",
         "domain": [
          0,
          1
         ],
         "title": {
          "text": "Total Profit"
         }
        }
       }
      }
     },
     "metadata": {},
     "output_type": "display_data"
    },
    {
     "data": {
      "text/html": [
       "<div>\n",
       "<style scoped>\n",
       "    .dataframe tbody tr th:only-of-type {\n",
       "        vertical-align: middle;\n",
       "    }\n",
       "\n",
       "    .dataframe tbody tr th {\n",
       "        vertical-align: top;\n",
       "    }\n",
       "\n",
       "    .dataframe thead th {\n",
       "        text-align: right;\n",
       "    }\n",
       "</style>\n",
       "<table border=\"1\" class=\"dataframe\">\n",
       "  <thead>\n",
       "    <tr style=\"text-align: right;\">\n",
       "      <th></th>\n",
       "      <th>state</th>\n",
       "      <th>symbol</th>\n",
       "      <th>order_type</th>\n",
       "      <th>volume</th>\n",
       "      <th>open_time</th>\n",
       "      <th>open_price</th>\n",
       "      <th>close_time</th>\n",
       "      <th>close_price</th>\n",
       "      <th>sl</th>\n",
       "      <th>tp</th>\n",
       "      <th>...</th>\n",
       "      <th>profit</th>\n",
       "      <th>commission</th>\n",
       "      <th>profit_net</th>\n",
       "      <th>profit_cumulative</th>\n",
       "      <th>balance</th>\n",
       "      <th>current_max</th>\n",
       "      <th>drawdown</th>\n",
       "      <th>dayofweek</th>\n",
       "      <th>month</th>\n",
       "      <th>year</th>\n",
       "    </tr>\n",
       "  </thead>\n",
       "  <tbody>\n",
       "    <tr>\n",
       "      <th>0</th>\n",
       "      <td>closed</td>\n",
       "      <td>EURUSD</td>\n",
       "      <td>buy</td>\n",
       "      <td>25000</td>\n",
       "      <td>2025-03-20 12:24:00</td>\n",
       "      <td>1.08503</td>\n",
       "      <td>2025-03-21 00:00:00</td>\n",
       "      <td>1.08494</td>\n",
       "      <td>0</td>\n",
       "      <td>0</td>\n",
       "      <td>...</td>\n",
       "      <td>-2.25</td>\n",
       "      <td>-1.75</td>\n",
       "      <td>-4.0</td>\n",
       "      <td>-4.0</td>\n",
       "      <td>9996.0</td>\n",
       "      <td>-4.00</td>\n",
       "      <td>0.0</td>\n",
       "      <td>4</td>\n",
       "      <td>2025-03</td>\n",
       "      <td>2025</td>\n",
       "    </tr>\n",
       "    <tr>\n",
       "      <th>1</th>\n",
       "      <td>closed</td>\n",
       "      <td>EURUSD</td>\n",
       "      <td>buy</td>\n",
       "      <td>25000</td>\n",
       "      <td>2025-03-21 18:53:00</td>\n",
       "      <td>1.08077</td>\n",
       "      <td>2025-03-24 00:00:00</td>\n",
       "      <td>1.08127</td>\n",
       "      <td>0</td>\n",
       "      <td>0</td>\n",
       "      <td>...</td>\n",
       "      <td>12.50</td>\n",
       "      <td>-1.75</td>\n",
       "      <td>10.75</td>\n",
       "      <td>6.75</td>\n",
       "      <td>10006.75</td>\n",
       "      <td>6.75</td>\n",
       "      <td>0.0</td>\n",
       "      <td>0</td>\n",
       "      <td>2025-03</td>\n",
       "      <td>2025</td>\n",
       "    </tr>\n",
       "    <tr>\n",
       "      <th>2</th>\n",
       "      <td>closed</td>\n",
       "      <td>EURUSD</td>\n",
       "      <td>sell</td>\n",
       "      <td>25000</td>\n",
       "      <td>2025-03-27 18:31:00</td>\n",
       "      <td>1.08007</td>\n",
       "      <td>2025-03-28 00:00:00</td>\n",
       "      <td>1.08011</td>\n",
       "      <td>0</td>\n",
       "      <td>0</td>\n",
       "      <td>...</td>\n",
       "      <td>-1.00</td>\n",
       "      <td>-1.75</td>\n",
       "      <td>-2.75</td>\n",
       "      <td>4.0</td>\n",
       "      <td>10004.0</td>\n",
       "      <td>6.75</td>\n",
       "      <td>-2.75</td>\n",
       "      <td>4</td>\n",
       "      <td>2025-03</td>\n",
       "      <td>2025</td>\n",
       "    </tr>\n",
       "    <tr>\n",
       "      <th>3</th>\n",
       "      <td>closed</td>\n",
       "      <td>EURUSD</td>\n",
       "      <td>sell</td>\n",
       "      <td>25000</td>\n",
       "      <td>2025-03-28 18:23:00</td>\n",
       "      <td>1.08378</td>\n",
       "      <td>2025-03-31 00:00:00</td>\n",
       "      <td>1.08225</td>\n",
       "      <td>0</td>\n",
       "      <td>0</td>\n",
       "      <td>...</td>\n",
       "      <td>38.25</td>\n",
       "      <td>-1.75</td>\n",
       "      <td>36.5</td>\n",
       "      <td>40.5</td>\n",
       "      <td>10040.5</td>\n",
       "      <td>40.50</td>\n",
       "      <td>0.0</td>\n",
       "      <td>0</td>\n",
       "      <td>2025-03</td>\n",
       "      <td>2025</td>\n",
       "    </tr>\n",
       "    <tr>\n",
       "      <th>4</th>\n",
       "      <td>closed</td>\n",
       "      <td>EURUSD</td>\n",
       "      <td>sell</td>\n",
       "      <td>25000</td>\n",
       "      <td>2025-04-02 17:41:00</td>\n",
       "      <td>1.08282</td>\n",
       "      <td>2025-04-02 17:52:00</td>\n",
       "      <td>1.08523</td>\n",
       "      <td>0</td>\n",
       "      <td>0</td>\n",
       "      <td>...</td>\n",
       "      <td>-60.25</td>\n",
       "      <td>-1.75</td>\n",
       "      <td>-62.0</td>\n",
       "      <td>-21.5</td>\n",
       "      <td>9978.5</td>\n",
       "      <td>40.50</td>\n",
       "      <td>-62.0</td>\n",
       "      <td>2</td>\n",
       "      <td>2025-04</td>\n",
       "      <td>2025</td>\n",
       "    </tr>\n",
       "    <tr>\n",
       "      <th>...</th>\n",
       "      <td>...</td>\n",
       "      <td>...</td>\n",
       "      <td>...</td>\n",
       "      <td>...</td>\n",
       "      <td>...</td>\n",
       "      <td>...</td>\n",
       "      <td>...</td>\n",
       "      <td>...</td>\n",
       "      <td>...</td>\n",
       "      <td>...</td>\n",
       "      <td>...</td>\n",
       "      <td>...</td>\n",
       "      <td>...</td>\n",
       "      <td>...</td>\n",
       "      <td>...</td>\n",
       "      <td>...</td>\n",
       "      <td>...</td>\n",
       "      <td>...</td>\n",
       "      <td>...</td>\n",
       "      <td>...</td>\n",
       "      <td>...</td>\n",
       "    </tr>\n",
       "    <tr>\n",
       "      <th>479</th>\n",
       "      <td>closed</td>\n",
       "      <td>EURUSD</td>\n",
       "      <td>buy</td>\n",
       "      <td>25000</td>\n",
       "      <td>2025-04-30 23:52:00</td>\n",
       "      <td>1.13229</td>\n",
       "      <td>2025-04-30 23:53:00</td>\n",
       "      <td>1.13233</td>\n",
       "      <td>0</td>\n",
       "      <td>0</td>\n",
       "      <td>...</td>\n",
       "      <td>1.00</td>\n",
       "      <td>-1.75</td>\n",
       "      <td>-0.75</td>\n",
       "      <td>-878.5</td>\n",
       "      <td>9121.5</td>\n",
       "      <td>82.50</td>\n",
       "      <td>-961.0</td>\n",
       "      <td>2</td>\n",
       "      <td>2025-04</td>\n",
       "      <td>2025</td>\n",
       "    </tr>\n",
       "    <tr>\n",
       "      <th>480</th>\n",
       "      <td>closed</td>\n",
       "      <td>EURUSD</td>\n",
       "      <td>buy</td>\n",
       "      <td>25000</td>\n",
       "      <td>2025-04-30 23:54:00</td>\n",
       "      <td>1.13241</td>\n",
       "      <td>2025-04-30 23:55:00</td>\n",
       "      <td>1.13244</td>\n",
       "      <td>0</td>\n",
       "      <td>0</td>\n",
       "      <td>...</td>\n",
       "      <td>0.75</td>\n",
       "      <td>-1.75</td>\n",
       "      <td>-1.0</td>\n",
       "      <td>-879.5</td>\n",
       "      <td>9120.5</td>\n",
       "      <td>82.50</td>\n",
       "      <td>-962.0</td>\n",
       "      <td>2</td>\n",
       "      <td>2025-04</td>\n",
       "      <td>2025</td>\n",
       "    </tr>\n",
       "    <tr>\n",
       "      <th>481</th>\n",
       "      <td>closed</td>\n",
       "      <td>EURUSD</td>\n",
       "      <td>buy</td>\n",
       "      <td>25000</td>\n",
       "      <td>2025-04-30 23:56:00</td>\n",
       "      <td>1.13249</td>\n",
       "      <td>2025-04-30 23:57:00</td>\n",
       "      <td>1.13267</td>\n",
       "      <td>0</td>\n",
       "      <td>0</td>\n",
       "      <td>...</td>\n",
       "      <td>4.50</td>\n",
       "      <td>-1.75</td>\n",
       "      <td>2.75</td>\n",
       "      <td>-876.75</td>\n",
       "      <td>9123.25</td>\n",
       "      <td>82.50</td>\n",
       "      <td>-959.25</td>\n",
       "      <td>2</td>\n",
       "      <td>2025-04</td>\n",
       "      <td>2025</td>\n",
       "    </tr>\n",
       "    <tr>\n",
       "      <th>482</th>\n",
       "      <td>closed</td>\n",
       "      <td>EURUSD</td>\n",
       "      <td>buy</td>\n",
       "      <td>25000</td>\n",
       "      <td>2025-04-30 23:58:00</td>\n",
       "      <td>1.13272</td>\n",
       "      <td>2025-05-01 00:00:00</td>\n",
       "      <td>1.13279</td>\n",
       "      <td>0</td>\n",
       "      <td>0</td>\n",
       "      <td>...</td>\n",
       "      <td>1.75</td>\n",
       "      <td>-1.75</td>\n",
       "      <td>0.0</td>\n",
       "      <td>-876.75</td>\n",
       "      <td>9123.25</td>\n",
       "      <td>82.50</td>\n",
       "      <td>-959.25</td>\n",
       "      <td>3</td>\n",
       "      <td>2025-05</td>\n",
       "      <td>2025</td>\n",
       "    </tr>\n",
       "    <tr>\n",
       "      <th>483</th>\n",
       "      <td>closed</td>\n",
       "      <td>EURUSD</td>\n",
       "      <td>sell</td>\n",
       "      <td>25000</td>\n",
       "      <td>2025-05-02 12:39:00</td>\n",
       "      <td>1.13425</td>\n",
       "      <td>2025-05-02 22:59:00</td>\n",
       "      <td>1.13046</td>\n",
       "      <td>0</td>\n",
       "      <td>0</td>\n",
       "      <td>...</td>\n",
       "      <td>94.75</td>\n",
       "      <td>-1.75</td>\n",
       "      <td>93.0</td>\n",
       "      <td>-783.75</td>\n",
       "      <td>9216.25</td>\n",
       "      <td>82.50</td>\n",
       "      <td>-866.25</td>\n",
       "      <td>4</td>\n",
       "      <td>2025-05</td>\n",
       "      <td>2025</td>\n",
       "    </tr>\n",
       "  </tbody>\n",
       "</table>\n",
       "<p>484 rows × 21 columns</p>\n",
       "</div>"
      ],
      "text/plain": [
       "      state  symbol order_type volume           open_time open_price  \\\n",
       "0    closed  EURUSD        buy  25000 2025-03-20 12:24:00    1.08503   \n",
       "1    closed  EURUSD        buy  25000 2025-03-21 18:53:00    1.08077   \n",
       "2    closed  EURUSD       sell  25000 2025-03-27 18:31:00    1.08007   \n",
       "3    closed  EURUSD       sell  25000 2025-03-28 18:23:00    1.08378   \n",
       "4    closed  EURUSD       sell  25000 2025-04-02 17:41:00    1.08282   \n",
       "..      ...     ...        ...    ...                 ...        ...   \n",
       "479  closed  EURUSD        buy  25000 2025-04-30 23:52:00    1.13229   \n",
       "480  closed  EURUSD        buy  25000 2025-04-30 23:54:00    1.13241   \n",
       "481  closed  EURUSD        buy  25000 2025-04-30 23:56:00    1.13249   \n",
       "482  closed  EURUSD        buy  25000 2025-04-30 23:58:00    1.13272   \n",
       "483  closed  EURUSD       sell  25000 2025-05-02 12:39:00    1.13425   \n",
       "\n",
       "             close_time close_price sl tp  ... profit  commission profit_net  \\\n",
       "0   2025-03-21 00:00:00     1.08494  0  0  ...  -2.25       -1.75       -4.0   \n",
       "1   2025-03-24 00:00:00     1.08127  0  0  ...  12.50       -1.75      10.75   \n",
       "2   2025-03-28 00:00:00     1.08011  0  0  ...  -1.00       -1.75      -2.75   \n",
       "3   2025-03-31 00:00:00     1.08225  0  0  ...  38.25       -1.75       36.5   \n",
       "4   2025-04-02 17:52:00     1.08523  0  0  ... -60.25       -1.75      -62.0   \n",
       "..                  ...         ... .. ..  ...    ...         ...        ...   \n",
       "479 2025-04-30 23:53:00     1.13233  0  0  ...   1.00       -1.75      -0.75   \n",
       "480 2025-04-30 23:55:00     1.13244  0  0  ...   0.75       -1.75       -1.0   \n",
       "481 2025-04-30 23:57:00     1.13267  0  0  ...   4.50       -1.75       2.75   \n",
       "482 2025-05-01 00:00:00     1.13279  0  0  ...   1.75       -1.75        0.0   \n",
       "483 2025-05-02 22:59:00     1.13046  0  0  ...  94.75       -1.75       93.0   \n",
       "\n",
       "    profit_cumulative   balance current_max  drawdown dayofweek    month  year  \n",
       "0                -4.0    9996.0       -4.00       0.0         4  2025-03  2025  \n",
       "1                6.75  10006.75        6.75       0.0         0  2025-03  2025  \n",
       "2                 4.0   10004.0        6.75     -2.75         4  2025-03  2025  \n",
       "3                40.5   10040.5       40.50       0.0         0  2025-03  2025  \n",
       "4               -21.5    9978.5       40.50     -62.0         2  2025-04  2025  \n",
       "..                ...       ...         ...       ...       ...      ...   ...  \n",
       "479            -878.5    9121.5       82.50    -961.0         2  2025-04  2025  \n",
       "480            -879.5    9120.5       82.50    -962.0         2  2025-04  2025  \n",
       "481           -876.75   9123.25       82.50   -959.25         2  2025-04  2025  \n",
       "482           -876.75   9123.25       82.50   -959.25         3  2025-05  2025  \n",
       "483           -783.75   9216.25       82.50   -866.25         4  2025-05  2025  \n",
       "\n",
       "[484 rows x 21 columns]"
      ]
     },
     "metadata": {},
     "output_type": "display_data"
    },
    {
     "ename": "ValueError",
     "evalue": "Plotly Express cannot process wide-form data with columns of different type.",
     "output_type": "error",
     "traceback": [
      "\u001b[1;31m---------------------------------------------------------------------------\u001b[0m",
      "\u001b[1;31mValueError\u001b[0m                                Traceback (most recent call last)",
      "Cell \u001b[1;32mIn[409], line 1\u001b[0m\n\u001b[1;32m----> 1\u001b[0m \u001b[43mevaluate_backtest\u001b[49m\u001b[43m(\u001b[49m\u001b[43mbt\u001b[49m\u001b[38;5;241;43m.\u001b[39;49m\u001b[43mtrades\u001b[49m\u001b[43m)\u001b[49m\n",
      "File \u001b[1;32mc:\\Users\\hp\\python_finance_market_projects\\backtest.py:394\u001b[0m, in \u001b[0;36mevaluate_backtest\u001b[1;34m(df_og)\u001b[0m\n\u001b[0;32m    391\u001b[0m df[\u001b[38;5;124m'\u001b[39m\u001b[38;5;124mdrawdown\u001b[39m\u001b[38;5;124m'\u001b[39m] \u001b[38;5;241m=\u001b[39m df[\u001b[38;5;124m'\u001b[39m\u001b[38;5;124mprofit_cumulative\u001b[39m\u001b[38;5;124m'\u001b[39m] \u001b[38;5;241m-\u001b[39m df[\u001b[38;5;124m'\u001b[39m\u001b[38;5;124mcurrent_max\u001b[39m\u001b[38;5;124m'\u001b[39m]\n\u001b[0;32m    392\u001b[0m display(df)\n\u001b[1;32m--> 394\u001b[0m fig_drawdown \u001b[38;5;241m=\u001b[39m \u001b[43mpx\u001b[49m\u001b[38;5;241;43m.\u001b[39;49m\u001b[43mline\u001b[49m\u001b[43m(\u001b[49m\u001b[43mdf\u001b[49m\u001b[43m,\u001b[49m\u001b[43m \u001b[49m\u001b[43mx\u001b[49m\u001b[38;5;241;43m=\u001b[39;49m\u001b[38;5;124;43m'\u001b[39;49m\u001b[38;5;124;43mclose_time\u001b[39;49m\u001b[38;5;124;43m'\u001b[39;49m\u001b[43m,\u001b[49m\u001b[43m \u001b[49m\u001b[43my\u001b[49m\u001b[38;5;241;43m=\u001b[39;49m\u001b[43m[\u001b[49m\u001b[38;5;124;43m'\u001b[39;49m\u001b[38;5;124;43mprofit_cumulative\u001b[39;49m\u001b[38;5;124;43m'\u001b[39;49m\u001b[43m,\u001b[49m\u001b[43m \u001b[49m\u001b[38;5;124;43m'\u001b[39;49m\u001b[38;5;124;43mcurrent_max\u001b[39;49m\u001b[38;5;124;43m'\u001b[39;49m\u001b[43m]\u001b[49m\u001b[43m,\u001b[49m\u001b[43m \u001b[49m\u001b[43mtitle\u001b[49m\u001b[38;5;241;43m=\u001b[39;49m\u001b[38;5;124;43m'\u001b[39;49m\u001b[38;5;124;43mpnl curve\u001b[39;49m\u001b[38;5;124;43m'\u001b[39;49m\u001b[43m)\u001b[49m\n\u001b[0;32m    395\u001b[0m \u001b[38;5;66;03m#display(fig_drawdown)\u001b[39;00m\n\u001b[0;32m    397\u001b[0m fig_drawdown2 \u001b[38;5;241m=\u001b[39m px\u001b[38;5;241m.\u001b[39mline(df, x\u001b[38;5;241m=\u001b[39m\u001b[38;5;124m'\u001b[39m\u001b[38;5;124mclose_time\u001b[39m\u001b[38;5;124m'\u001b[39m, y\u001b[38;5;241m=\u001b[39m\u001b[38;5;124m'\u001b[39m\u001b[38;5;124mdrawdown\u001b[39m\u001b[38;5;124m'\u001b[39m, title\u001b[38;5;241m=\u001b[39m\u001b[38;5;124m'\u001b[39m\u001b[38;5;124mdrawdown curve\u001b[39m\u001b[38;5;124m'\u001b[39m)\n",
      "File \u001b[1;32mc:\\Users\\hp\\python_finance_market_projects\\.venv\\Lib\\site-packages\\plotly\\express\\_chart_types.py:270\u001b[0m, in \u001b[0;36mline\u001b[1;34m(data_frame, x, y, line_group, color, line_dash, symbol, hover_name, hover_data, custom_data, text, facet_row, facet_col, facet_col_wrap, facet_row_spacing, facet_col_spacing, error_x, error_x_minus, error_y, error_y_minus, animation_frame, animation_group, category_orders, labels, orientation, color_discrete_sequence, color_discrete_map, line_dash_sequence, line_dash_map, symbol_sequence, symbol_map, markers, log_x, log_y, range_x, range_y, line_shape, render_mode, title, subtitle, template, width, height)\u001b[0m\n\u001b[0;32m    221\u001b[0m \u001b[38;5;28;01mdef\u001b[39;00m\u001b[38;5;250m \u001b[39m\u001b[38;5;21mline\u001b[39m(\n\u001b[0;32m    222\u001b[0m     data_frame\u001b[38;5;241m=\u001b[39m\u001b[38;5;28;01mNone\u001b[39;00m,\n\u001b[0;32m    223\u001b[0m     x\u001b[38;5;241m=\u001b[39m\u001b[38;5;28;01mNone\u001b[39;00m,\n\u001b[1;32m   (...)\u001b[0m\n\u001b[0;32m    264\u001b[0m     height\u001b[38;5;241m=\u001b[39m\u001b[38;5;28;01mNone\u001b[39;00m,\n\u001b[0;32m    265\u001b[0m ) \u001b[38;5;241m-\u001b[39m\u001b[38;5;241m>\u001b[39m go\u001b[38;5;241m.\u001b[39mFigure:\n\u001b[0;32m    266\u001b[0m \u001b[38;5;250m    \u001b[39m\u001b[38;5;124;03m\"\"\"\u001b[39;00m\n\u001b[0;32m    267\u001b[0m \u001b[38;5;124;03m    In a 2D line plot, each row of `data_frame` is represented as a vertex of\u001b[39;00m\n\u001b[0;32m    268\u001b[0m \u001b[38;5;124;03m    a polyline mark in 2D space.\u001b[39;00m\n\u001b[0;32m    269\u001b[0m \u001b[38;5;124;03m    \"\"\"\u001b[39;00m\n\u001b[1;32m--> 270\u001b[0m     \u001b[38;5;28;01mreturn\u001b[39;00m \u001b[43mmake_figure\u001b[49m\u001b[43m(\u001b[49m\u001b[43margs\u001b[49m\u001b[38;5;241;43m=\u001b[39;49m\u001b[38;5;28;43mlocals\u001b[39;49m\u001b[43m(\u001b[49m\u001b[43m)\u001b[49m\u001b[43m,\u001b[49m\u001b[43m \u001b[49m\u001b[43mconstructor\u001b[49m\u001b[38;5;241;43m=\u001b[39;49m\u001b[43mgo\u001b[49m\u001b[38;5;241;43m.\u001b[39;49m\u001b[43mScatter\u001b[49m\u001b[43m)\u001b[49m\n",
      "File \u001b[1;32mc:\\Users\\hp\\python_finance_market_projects\\.venv\\Lib\\site-packages\\plotly\\express\\_core.py:2477\u001b[0m, in \u001b[0;36mmake_figure\u001b[1;34m(args, constructor, trace_patch, layout_patch)\u001b[0m\n\u001b[0;32m   2474\u001b[0m layout_patch \u001b[38;5;241m=\u001b[39m layout_patch \u001b[38;5;129;01mor\u001b[39;00m {}\n\u001b[0;32m   2475\u001b[0m apply_default_cascade(args)\n\u001b[1;32m-> 2477\u001b[0m args \u001b[38;5;241m=\u001b[39m \u001b[43mbuild_dataframe\u001b[49m\u001b[43m(\u001b[49m\u001b[43margs\u001b[49m\u001b[43m,\u001b[49m\u001b[43m \u001b[49m\u001b[43mconstructor\u001b[49m\u001b[43m)\u001b[49m\n\u001b[0;32m   2478\u001b[0m \u001b[38;5;28;01mif\u001b[39;00m constructor \u001b[38;5;129;01min\u001b[39;00m [go\u001b[38;5;241m.\u001b[39mTreemap, go\u001b[38;5;241m.\u001b[39mSunburst, go\u001b[38;5;241m.\u001b[39mIcicle] \u001b[38;5;129;01mand\u001b[39;00m args[\u001b[38;5;124m\"\u001b[39m\u001b[38;5;124mpath\u001b[39m\u001b[38;5;124m\"\u001b[39m] \u001b[38;5;129;01mis\u001b[39;00m \u001b[38;5;129;01mnot\u001b[39;00m \u001b[38;5;28;01mNone\u001b[39;00m:\n\u001b[0;32m   2479\u001b[0m     args \u001b[38;5;241m=\u001b[39m process_dataframe_hierarchy(args)\n",
      "File \u001b[1;32mc:\\Users\\hp\\python_finance_market_projects\\.venv\\Lib\\site-packages\\plotly\\express\\_core.py:1779\u001b[0m, in \u001b[0;36mbuild_dataframe\u001b[1;34m(args, constructor)\u001b[0m\n\u001b[0;32m   1777\u001b[0m         dtype \u001b[38;5;241m=\u001b[39m v_dtype\n\u001b[0;32m   1778\u001b[0m     \u001b[38;5;28;01melif\u001b[39;00m dtype \u001b[38;5;241m!=\u001b[39m v_dtype:\n\u001b[1;32m-> 1779\u001b[0m         \u001b[38;5;28;01mraise\u001b[39;00m \u001b[38;5;167;01mValueError\u001b[39;00m(\n\u001b[0;32m   1780\u001b[0m             \u001b[38;5;124m\"\u001b[39m\u001b[38;5;124mPlotly Express cannot process wide-form data with columns of different type.\u001b[39m\u001b[38;5;124m\"\u001b[39m\n\u001b[0;32m   1781\u001b[0m         )\n\u001b[0;32m   1782\u001b[0m df_output \u001b[38;5;241m=\u001b[39m df_output\u001b[38;5;241m.\u001b[39munpivot(\n\u001b[0;32m   1783\u001b[0m     index\u001b[38;5;241m=\u001b[39mwide_id_vars,\n\u001b[0;32m   1784\u001b[0m     on\u001b[38;5;241m=\u001b[39mwide_value_vars,\n\u001b[0;32m   1785\u001b[0m     variable_name\u001b[38;5;241m=\u001b[39mvar_name,\n\u001b[0;32m   1786\u001b[0m     value_name\u001b[38;5;241m=\u001b[39mvalue_name,\n\u001b[0;32m   1787\u001b[0m )\n\u001b[0;32m   1788\u001b[0m \u001b[38;5;28;01massert\u001b[39;00m \u001b[38;5;28mlen\u001b[39m(df_output\u001b[38;5;241m.\u001b[39mcolumns) \u001b[38;5;241m==\u001b[39m \u001b[38;5;28mlen\u001b[39m(\u001b[38;5;28mset\u001b[39m(df_output\u001b[38;5;241m.\u001b[39mcolumns)), (\n\u001b[0;32m   1789\u001b[0m     \u001b[38;5;124m\"\u001b[39m\u001b[38;5;124mWide-mode name-inference failure, likely due to a internal bug. \u001b[39m\u001b[38;5;124m\"\u001b[39m\n\u001b[0;32m   1790\u001b[0m     \u001b[38;5;124m\"\u001b[39m\u001b[38;5;124mPlease report this to \u001b[39m\u001b[38;5;124m\"\u001b[39m\n\u001b[0;32m   1791\u001b[0m     \u001b[38;5;124m\"\u001b[39m\u001b[38;5;124mhttps://github.com/plotly/plotly.py/issues/new and we will try to \u001b[39m\u001b[38;5;124m\"\u001b[39m\n\u001b[0;32m   1792\u001b[0m     \u001b[38;5;124m\"\u001b[39m\u001b[38;5;124mreplicate and fix it.\u001b[39m\u001b[38;5;124m\"\u001b[39m\n\u001b[0;32m   1793\u001b[0m )\n",
      "\u001b[1;31mValueError\u001b[0m: Plotly Express cannot process wide-form data with columns of different type."
     ]
    }
   ],
   "source": [
    "evaluate_backtest(bt.trades)"
   ]
  },
  {
   "cell_type": "code",
   "execution_count": null,
   "metadata": {},
   "outputs": [],
   "source": [
    "# visualizing the ohlc data\n",
    "fig = go.Figure(data = [go.Candlestick(x = ohlc_df['time'],\n",
    "                                        open = ohlc_df['open'],\n",
    "                                        high = ohlc_df['high'],\n",
    "                                        low = ohlc_df['low'],\n",
    "                                        close = ohlc_df['close'])])\n",
    "\n",
    "# fig.update_layout(height=600, xaxis_rangeslider_visible=False)\n",
    "# 📌 Add Pivot Points as Horizontal Lines\n",
    "pivot_levels = [\"sell_stope_loss\", \"R2\", \"buy_stope_loss\", \"S2\"]\n",
    "colors = {'sell_stope_loss': 'red', 'buy_stope_loss': 'red', 'R2': 'green', 'S2': 'green'}\n",
    "\n",
    "\n",
    "for _, row in daily_df.iterrows():\n",
    "    for level in pivot_levels:\n",
    "        fig.add_trace(go.Scatter(\n",
    "            x=[row['time'], row['time'] + pd.Timedelta(days=1)],  # Extend for one day\n",
    "            y=[row[level], row[level]],\n",
    "            mode='lines',\n",
    "            name=f\"{level} {row['time']}\",\n",
    "            line=dict(color=colors[level], width=1.5, dash='dot')\n",
    "        ))\n",
    "\n",
    "# 📌 Customize Layout\n",
    "fig.update_layout(\n",
    "    title=\"Pivot Points on Candlestick Chart\",\n",
    "    xaxis_title=\"Date\",\n",
    "    yaxis_title=\"Price\",\n",
    "    template=\"plotly_dark\",\n",
    "    xaxis_rangeslider_visible=False\n",
    ")\n",
    "fig"
   ]
  }
 ],
 "metadata": {
  "kernelspec": {
   "display_name": ".venv",
   "language": "python",
   "name": "python3"
  },
  "language_info": {
   "codemirror_mode": {
    "name": "ipython",
    "version": 3
   },
   "file_extension": ".py",
   "mimetype": "text/x-python",
   "name": "python",
   "nbconvert_exporter": "python",
   "pygments_lexer": "ipython3",
   "version": "3.12.1"
  }
 },
 "nbformat": 4,
 "nbformat_minor": 2
}
