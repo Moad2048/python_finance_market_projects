{
 "cells": [
  {
   "cell_type": "code",
   "execution_count": 114,
   "metadata": {},
   "outputs": [],
   "source": [
    "import MetaTrader5 as mt5 #mt5 to access historcal data\n",
    "import pandas as pd # for data analysis and calculation of technical indcator\n",
    "import numpy as np\n",
    "import plotly.io as pio\n",
    "import plotly.express as px # for data visualization\n",
    "import plotly.graph_objects as go\n",
    "import tdclient as TDClient\n",
    "from datetime import datetime, time ,timezone #to specify the date time range for historical data\n",
    "from IPython.display import display, Markdown, Latex # to display result in python notebook\n",
    "from backtest import Backtester, get_ohlc_history, create_price_fig, evaluate_backtest"
   ]
  },
  {
   "cell_type": "code",
   "execution_count": 115,
   "metadata": {},
   "outputs": [
    {
     "data": {
      "text/plain": [
       "True"
      ]
     },
     "execution_count": 115,
     "metadata": {},
     "output_type": "execute_result"
    }
   ],
   "source": [
    "# Conecte mt5\n",
    "mt5.initialize()\n",
    "# logine mt5\n",
    "login = 52185665\n",
    "password = '3cAJz$AQiKwMq0'\n",
    "server = 'ICMarketsSC-Demo'\n",
    "\n",
    "mt5.login(login,password,server)"
   ]
  },
  {
   "cell_type": "code",
   "execution_count": 116,
   "metadata": {},
   "outputs": [],
   "source": [
    "# this function retreives olhc data from mt5 account and return a data frame\n",
    "def get_ohlc(symbol, timeframe, start_datetime, end_datetime):\n",
    "    ohlc = mt5.copy_rates_range(symbol, timeframe, start_datetime, end_datetime)\n",
    "    ohlc_df = pd.DataFrame(ohlc)\n",
    "    ohlc_df['time'] = pd.to_datetime(ohlc_df['time'], unit= 's')\n",
    "    return ohlc_df[['time', 'open', 'high', 'low', 'close']]\n"
   ]
  },
  {
   "cell_type": "code",
   "execution_count": 117,
   "metadata": {},
   "outputs": [
    {
     "data": {
      "text/html": [
       "<div>\n",
       "<style scoped>\n",
       "    .dataframe tbody tr th:only-of-type {\n",
       "        vertical-align: middle;\n",
       "    }\n",
       "\n",
       "    .dataframe tbody tr th {\n",
       "        vertical-align: top;\n",
       "    }\n",
       "\n",
       "    .dataframe thead th {\n",
       "        text-align: right;\n",
       "    }\n",
       "</style>\n",
       "<table border=\"1\" class=\"dataframe\">\n",
       "  <thead>\n",
       "    <tr style=\"text-align: right;\">\n",
       "      <th></th>\n",
       "      <th>time</th>\n",
       "      <th>open</th>\n",
       "      <th>high</th>\n",
       "      <th>low</th>\n",
       "      <th>close</th>\n",
       "    </tr>\n",
       "  </thead>\n",
       "  <tbody>\n",
       "    <tr>\n",
       "      <th>0</th>\n",
       "      <td>2024-12-16 00:00:00</td>\n",
       "      <td>1.04850</td>\n",
       "      <td>1.04863</td>\n",
       "      <td>1.04797</td>\n",
       "      <td>1.04856</td>\n",
       "    </tr>\n",
       "    <tr>\n",
       "      <th>1</th>\n",
       "      <td>2024-12-16 00:05:00</td>\n",
       "      <td>1.04856</td>\n",
       "      <td>1.04865</td>\n",
       "      <td>1.04854</td>\n",
       "      <td>1.04856</td>\n",
       "    </tr>\n",
       "    <tr>\n",
       "      <th>2</th>\n",
       "      <td>2024-12-16 00:10:00</td>\n",
       "      <td>1.04856</td>\n",
       "      <td>1.04871</td>\n",
       "      <td>1.04853</td>\n",
       "      <td>1.04862</td>\n",
       "    </tr>\n",
       "    <tr>\n",
       "      <th>3</th>\n",
       "      <td>2024-12-16 00:15:00</td>\n",
       "      <td>1.04862</td>\n",
       "      <td>1.04880</td>\n",
       "      <td>1.04857</td>\n",
       "      <td>1.04867</td>\n",
       "    </tr>\n",
       "    <tr>\n",
       "      <th>4</th>\n",
       "      <td>2024-12-16 00:20:00</td>\n",
       "      <td>1.04871</td>\n",
       "      <td>1.04876</td>\n",
       "      <td>1.04857</td>\n",
       "      <td>1.04864</td>\n",
       "    </tr>\n",
       "    <tr>\n",
       "      <th>...</th>\n",
       "      <td>...</td>\n",
       "      <td>...</td>\n",
       "      <td>...</td>\n",
       "      <td>...</td>\n",
       "      <td>...</td>\n",
       "    </tr>\n",
       "    <tr>\n",
       "      <th>41036</th>\n",
       "      <td>2025-07-04 11:40:00</td>\n",
       "      <td>1.17735</td>\n",
       "      <td>1.17764</td>\n",
       "      <td>1.17714</td>\n",
       "      <td>1.17756</td>\n",
       "    </tr>\n",
       "    <tr>\n",
       "      <th>41037</th>\n",
       "      <td>2025-07-04 11:45:00</td>\n",
       "      <td>1.17756</td>\n",
       "      <td>1.17760</td>\n",
       "      <td>1.17720</td>\n",
       "      <td>1.17740</td>\n",
       "    </tr>\n",
       "    <tr>\n",
       "      <th>41038</th>\n",
       "      <td>2025-07-04 11:50:00</td>\n",
       "      <td>1.17740</td>\n",
       "      <td>1.17760</td>\n",
       "      <td>1.17726</td>\n",
       "      <td>1.17754</td>\n",
       "    </tr>\n",
       "    <tr>\n",
       "      <th>41039</th>\n",
       "      <td>2025-07-04 11:55:00</td>\n",
       "      <td>1.17754</td>\n",
       "      <td>1.17764</td>\n",
       "      <td>1.17736</td>\n",
       "      <td>1.17746</td>\n",
       "    </tr>\n",
       "    <tr>\n",
       "      <th>41040</th>\n",
       "      <td>2025-07-04 12:00:00</td>\n",
       "      <td>1.17746</td>\n",
       "      <td>1.17756</td>\n",
       "      <td>1.17730</td>\n",
       "      <td>1.17751</td>\n",
       "    </tr>\n",
       "  </tbody>\n",
       "</table>\n",
       "<p>41041 rows × 5 columns</p>\n",
       "</div>"
      ],
      "text/plain": [
       "                     time     open     high      low    close\n",
       "0     2024-12-16 00:00:00  1.04850  1.04863  1.04797  1.04856\n",
       "1     2024-12-16 00:05:00  1.04856  1.04865  1.04854  1.04856\n",
       "2     2024-12-16 00:10:00  1.04856  1.04871  1.04853  1.04862\n",
       "3     2024-12-16 00:15:00  1.04862  1.04880  1.04857  1.04867\n",
       "4     2024-12-16 00:20:00  1.04871  1.04876  1.04857  1.04864\n",
       "...                   ...      ...      ...      ...      ...\n",
       "41036 2025-07-04 11:40:00  1.17735  1.17764  1.17714  1.17756\n",
       "41037 2025-07-04 11:45:00  1.17756  1.17760  1.17720  1.17740\n",
       "41038 2025-07-04 11:50:00  1.17740  1.17760  1.17726  1.17754\n",
       "41039 2025-07-04 11:55:00  1.17754  1.17764  1.17736  1.17746\n",
       "41040 2025-07-04 12:00:00  1.17746  1.17756  1.17730  1.17751\n",
       "\n",
       "[41041 rows x 5 columns]"
      ]
     },
     "execution_count": 117,
     "metadata": {},
     "output_type": "execute_result"
    }
   ],
   "source": [
    "# 1 minut df\n",
    "symbol = 'EURUSD'\n",
    "pos_size = 1\n",
    "timeframe = mt5.TIMEFRAME_M5\n",
    "start_datetime = datetime(2024,12,15)\n",
    "end_datetime = datetime.now()\n",
    "ohlc_df = get_ohlc(symbol, timeframe, start_datetime, end_datetime)\n",
    "ohlc_df"
   ]
  },
  {
   "cell_type": "code",
   "execution_count": 118,
   "metadata": {},
   "outputs": [
    {
     "data": {
      "text/html": [
       "<div>\n",
       "<style scoped>\n",
       "    .dataframe tbody tr th:only-of-type {\n",
       "        vertical-align: middle;\n",
       "    }\n",
       "\n",
       "    .dataframe tbody tr th {\n",
       "        vertical-align: top;\n",
       "    }\n",
       "\n",
       "    .dataframe thead th {\n",
       "        text-align: right;\n",
       "    }\n",
       "</style>\n",
       "<table border=\"1\" class=\"dataframe\">\n",
       "  <thead>\n",
       "    <tr style=\"text-align: right;\">\n",
       "      <th></th>\n",
       "      <th>time</th>\n",
       "      <th>open</th>\n",
       "      <th>high</th>\n",
       "      <th>low</th>\n",
       "      <th>close</th>\n",
       "    </tr>\n",
       "  </thead>\n",
       "  <tbody>\n",
       "    <tr>\n",
       "      <th>851</th>\n",
       "      <td>2025-07-03 20:00:00</td>\n",
       "      <td>1.17524</td>\n",
       "      <td>1.17595</td>\n",
       "      <td>1.17444</td>\n",
       "      <td>1.17573</td>\n",
       "    </tr>\n",
       "    <tr>\n",
       "      <th>852</th>\n",
       "      <td>2025-07-04 00:00:00</td>\n",
       "      <td>1.17562</td>\n",
       "      <td>1.17715</td>\n",
       "      <td>1.17502</td>\n",
       "      <td>1.17670</td>\n",
       "    </tr>\n",
       "    <tr>\n",
       "      <th>853</th>\n",
       "      <td>2025-07-04 04:00:00</td>\n",
       "      <td>1.17670</td>\n",
       "      <td>1.17803</td>\n",
       "      <td>1.17560</td>\n",
       "      <td>1.17802</td>\n",
       "    </tr>\n",
       "    <tr>\n",
       "      <th>854</th>\n",
       "      <td>2025-07-04 08:00:00</td>\n",
       "      <td>1.17802</td>\n",
       "      <td>1.17856</td>\n",
       "      <td>1.17677</td>\n",
       "      <td>1.17746</td>\n",
       "    </tr>\n",
       "    <tr>\n",
       "      <th>855</th>\n",
       "      <td>2025-07-04 12:00:00</td>\n",
       "      <td>1.17746</td>\n",
       "      <td>1.17822</td>\n",
       "      <td>1.17683</td>\n",
       "      <td>1.17707</td>\n",
       "    </tr>\n",
       "  </tbody>\n",
       "</table>\n",
       "</div>"
      ],
      "text/plain": [
       "                   time     open     high      low    close\n",
       "851 2025-07-03 20:00:00  1.17524  1.17595  1.17444  1.17573\n",
       "852 2025-07-04 00:00:00  1.17562  1.17715  1.17502  1.17670\n",
       "853 2025-07-04 04:00:00  1.17670  1.17803  1.17560  1.17802\n",
       "854 2025-07-04 08:00:00  1.17802  1.17856  1.17677  1.17746\n",
       "855 2025-07-04 12:00:00  1.17746  1.17822  1.17683  1.17707"
      ]
     },
     "execution_count": 118,
     "metadata": {},
     "output_type": "execute_result"
    }
   ],
   "source": [
    "# hour4 df\n",
    "timeframe = mt5.TIMEFRAME_H4\n",
    "hourly_df = get_ohlc(symbol, timeframe, start_datetime, end_datetime)\n",
    "hourly_df.tail(5)"
   ]
  },
  {
   "cell_type": "code",
   "execution_count": 119,
   "metadata": {},
   "outputs": [
    {
     "data": {
      "text/html": [
       "<div>\n",
       "<style scoped>\n",
       "    .dataframe tbody tr th:only-of-type {\n",
       "        vertical-align: middle;\n",
       "    }\n",
       "\n",
       "    .dataframe tbody tr th {\n",
       "        vertical-align: top;\n",
       "    }\n",
       "\n",
       "    .dataframe thead th {\n",
       "        text-align: right;\n",
       "    }\n",
       "</style>\n",
       "<table border=\"1\" class=\"dataframe\">\n",
       "  <thead>\n",
       "    <tr style=\"text-align: right;\">\n",
       "      <th></th>\n",
       "      <th>time</th>\n",
       "      <th>open</th>\n",
       "      <th>high</th>\n",
       "      <th>low</th>\n",
       "      <th>close</th>\n",
       "    </tr>\n",
       "  </thead>\n",
       "  <tbody>\n",
       "    <tr>\n",
       "      <th>0</th>\n",
       "      <td>2024-12-16</td>\n",
       "      <td>1.04850</td>\n",
       "      <td>1.05248</td>\n",
       "      <td>1.04746</td>\n",
       "      <td>1.05114</td>\n",
       "    </tr>\n",
       "    <tr>\n",
       "      <th>1</th>\n",
       "      <td>2024-12-17</td>\n",
       "      <td>1.05105</td>\n",
       "      <td>1.05343</td>\n",
       "      <td>1.04793</td>\n",
       "      <td>1.04915</td>\n",
       "    </tr>\n",
       "    <tr>\n",
       "      <th>2</th>\n",
       "      <td>2024-12-18</td>\n",
       "      <td>1.04907</td>\n",
       "      <td>1.05128</td>\n",
       "      <td>1.03437</td>\n",
       "      <td>1.03495</td>\n",
       "    </tr>\n",
       "    <tr>\n",
       "      <th>3</th>\n",
       "      <td>2024-12-19</td>\n",
       "      <td>1.03514</td>\n",
       "      <td>1.04224</td>\n",
       "      <td>1.03440</td>\n",
       "      <td>1.03629</td>\n",
       "    </tr>\n",
       "    <tr>\n",
       "      <th>4</th>\n",
       "      <td>2024-12-20</td>\n",
       "      <td>1.03650</td>\n",
       "      <td>1.04475</td>\n",
       "      <td>1.03431</td>\n",
       "      <td>1.04268</td>\n",
       "    </tr>\n",
       "    <tr>\n",
       "      <th>...</th>\n",
       "      <td>...</td>\n",
       "      <td>...</td>\n",
       "      <td>...</td>\n",
       "      <td>...</td>\n",
       "      <td>...</td>\n",
       "    </tr>\n",
       "    <tr>\n",
       "      <th>138</th>\n",
       "      <td>2025-06-30</td>\n",
       "      <td>1.17279</td>\n",
       "      <td>1.17880</td>\n",
       "      <td>1.17077</td>\n",
       "      <td>1.17877</td>\n",
       "    </tr>\n",
       "    <tr>\n",
       "      <th>139</th>\n",
       "      <td>2025-07-01</td>\n",
       "      <td>1.17868</td>\n",
       "      <td>1.18298</td>\n",
       "      <td>1.17615</td>\n",
       "      <td>1.18052</td>\n",
       "    </tr>\n",
       "    <tr>\n",
       "      <th>140</th>\n",
       "      <td>2025-07-02</td>\n",
       "      <td>1.18056</td>\n",
       "      <td>1.18101</td>\n",
       "      <td>1.17470</td>\n",
       "      <td>1.17982</td>\n",
       "    </tr>\n",
       "    <tr>\n",
       "      <th>141</th>\n",
       "      <td>2025-07-03</td>\n",
       "      <td>1.17983</td>\n",
       "      <td>1.18101</td>\n",
       "      <td>1.17172</td>\n",
       "      <td>1.17573</td>\n",
       "    </tr>\n",
       "    <tr>\n",
       "      <th>142</th>\n",
       "      <td>2025-07-04</td>\n",
       "      <td>1.17562</td>\n",
       "      <td>1.17856</td>\n",
       "      <td>1.17502</td>\n",
       "      <td>1.17707</td>\n",
       "    </tr>\n",
       "  </tbody>\n",
       "</table>\n",
       "<p>143 rows × 5 columns</p>\n",
       "</div>"
      ],
      "text/plain": [
       "          time     open     high      low    close\n",
       "0   2024-12-16  1.04850  1.05248  1.04746  1.05114\n",
       "1   2024-12-17  1.05105  1.05343  1.04793  1.04915\n",
       "2   2024-12-18  1.04907  1.05128  1.03437  1.03495\n",
       "3   2024-12-19  1.03514  1.04224  1.03440  1.03629\n",
       "4   2024-12-20  1.03650  1.04475  1.03431  1.04268\n",
       "..         ...      ...      ...      ...      ...\n",
       "138 2025-06-30  1.17279  1.17880  1.17077  1.17877\n",
       "139 2025-07-01  1.17868  1.18298  1.17615  1.18052\n",
       "140 2025-07-02  1.18056  1.18101  1.17470  1.17982\n",
       "141 2025-07-03  1.17983  1.18101  1.17172  1.17573\n",
       "142 2025-07-04  1.17562  1.17856  1.17502  1.17707\n",
       "\n",
       "[143 rows x 5 columns]"
      ]
     },
     "execution_count": 119,
     "metadata": {},
     "output_type": "execute_result"
    }
   ],
   "source": [
    "# daily df\n",
    "timeframe = mt5.TIMEFRAME_D1\n",
    "daily_df = get_ohlc(symbol, timeframe, start_datetime, end_datetime)\n",
    "daily_df"
   ]
  },
  {
   "cell_type": "code",
   "execution_count": 120,
   "metadata": {},
   "outputs": [
    {
     "data": {
      "text/html": [
       "<div>\n",
       "<style scoped>\n",
       "    .dataframe tbody tr th:only-of-type {\n",
       "        vertical-align: middle;\n",
       "    }\n",
       "\n",
       "    .dataframe tbody tr th {\n",
       "        vertical-align: top;\n",
       "    }\n",
       "\n",
       "    .dataframe thead th {\n",
       "        text-align: right;\n",
       "    }\n",
       "</style>\n",
       "<table border=\"1\" class=\"dataframe\">\n",
       "  <thead>\n",
       "    <tr style=\"text-align: right;\">\n",
       "      <th></th>\n",
       "      <th>time</th>\n",
       "      <th>S2</th>\n",
       "      <th>R2</th>\n",
       "    </tr>\n",
       "  </thead>\n",
       "  <tbody>\n",
       "    <tr>\n",
       "      <th>133</th>\n",
       "      <td>2025-06-23</td>\n",
       "      <td>1.148329</td>\n",
       "      <td>1.155238</td>\n",
       "    </tr>\n",
       "    <tr>\n",
       "      <th>134</th>\n",
       "      <td>2025-06-24</td>\n",
       "      <td>1.145594</td>\n",
       "      <td>1.161786</td>\n",
       "    </tr>\n",
       "    <tr>\n",
       "      <th>135</th>\n",
       "      <td>2025-06-25</td>\n",
       "      <td>1.156423</td>\n",
       "      <td>1.165037</td>\n",
       "    </tr>\n",
       "    <tr>\n",
       "      <th>136</th>\n",
       "      <td>2025-06-26</td>\n",
       "      <td>1.159173</td>\n",
       "      <td>1.168467</td>\n",
       "    </tr>\n",
       "    <tr>\n",
       "      <th>137</th>\n",
       "      <td>2025-06-27</td>\n",
       "      <td>1.164189</td>\n",
       "      <td>1.175684</td>\n",
       "    </tr>\n",
       "    <tr>\n",
       "      <th>138</th>\n",
       "      <td>2025-06-30</td>\n",
       "      <td>1.167308</td>\n",
       "      <td>1.176392</td>\n",
       "    </tr>\n",
       "    <tr>\n",
       "      <th>139</th>\n",
       "      <td>2025-07-01</td>\n",
       "      <td>1.171151</td>\n",
       "      <td>1.181076</td>\n",
       "    </tr>\n",
       "    <tr>\n",
       "      <th>140</th>\n",
       "      <td>2025-07-02</td>\n",
       "      <td>1.175662</td>\n",
       "      <td>1.184104</td>\n",
       "    </tr>\n",
       "    <tr>\n",
       "      <th>141</th>\n",
       "      <td>2025-07-03</td>\n",
       "      <td>1.174610</td>\n",
       "      <td>1.182410</td>\n",
       "    </tr>\n",
       "    <tr>\n",
       "      <th>142</th>\n",
       "      <td>2025-07-04</td>\n",
       "      <td>1.170412</td>\n",
       "      <td>1.181895</td>\n",
       "    </tr>\n",
       "  </tbody>\n",
       "</table>\n",
       "</div>"
      ],
      "text/plain": [
       "          time        S2        R2\n",
       "133 2025-06-23  1.148329  1.155238\n",
       "134 2025-06-24  1.145594  1.161786\n",
       "135 2025-06-25  1.156423  1.165037\n",
       "136 2025-06-26  1.159173  1.168467\n",
       "137 2025-06-27  1.164189  1.175684\n",
       "138 2025-06-30  1.167308  1.176392\n",
       "139 2025-07-01  1.171151  1.181076\n",
       "140 2025-07-02  1.175662  1.184104\n",
       "141 2025-07-03  1.174610  1.182410\n",
       "142 2025-07-04  1.170412  1.181895"
      ]
     },
     "execution_count": 120,
     "metadata": {},
     "output_type": "execute_result"
    }
   ],
   "source": [
    "# Calculate Pivot Point, R1, R2, R3, stopeR4, S1, S2, S3, stopeS4 levels with Fibonacci \n",
    "daily_df[\"pivot\"] = ((daily_df[\"high\"] + daily_df[\"low\"] + daily_df[\"close\"]) / 3).shift(1)\n",
    "daily_df[\"prange\"] = (daily_df[\"high\"] - daily_df[\"low\"]).shift(1)\n",
    "daily_df[\"R1\"] = daily_df[\"pivot\"] + 0.382 * daily_df[\"prange\"]\n",
    "daily_df[\"R2\"] = daily_df[\"pivot\"] + 0.618 * daily_df[\"prange\"]\n",
    "daily_df[\"R3\"] = daily_df[\"pivot\"] + 1.000 * daily_df[\"prange\"]\n",
    "\n",
    "daily_df[\"S1\"] = daily_df[\"pivot\"] - 0.382 * daily_df[\"prange\"]\n",
    "daily_df[\"S2\"] = daily_df[\"pivot\"] - 0.618 * daily_df[\"prange\"]\n",
    "daily_df[\"S3\"] = daily_df[\"pivot\"] - 1.000 * daily_df[\"prange\"]\n",
    "daily_df[[\"time\",\"S2\",\"R2\"]].tail(10)\n"
   ]
  },
  {
   "cell_type": "code",
   "execution_count": 121,
   "metadata": {},
   "outputs": [
    {
     "data": {
      "text/html": [
       "<div>\n",
       "<style scoped>\n",
       "    .dataframe tbody tr th:only-of-type {\n",
       "        vertical-align: middle;\n",
       "    }\n",
       "\n",
       "    .dataframe tbody tr th {\n",
       "        vertical-align: top;\n",
       "    }\n",
       "\n",
       "    .dataframe thead th {\n",
       "        text-align: right;\n",
       "    }\n",
       "</style>\n",
       "<table border=\"1\" class=\"dataframe\">\n",
       "  <thead>\n",
       "    <tr style=\"text-align: right;\">\n",
       "      <th></th>\n",
       "      <th>time</th>\n",
       "      <th>open</th>\n",
       "      <th>high</th>\n",
       "      <th>low</th>\n",
       "      <th>close</th>\n",
       "      <th>ohlc4</th>\n",
       "      <th>sma_1</th>\n",
       "      <th>prev_sma_1</th>\n",
       "      <th>sma_14</th>\n",
       "    </tr>\n",
       "  </thead>\n",
       "  <tbody>\n",
       "    <tr>\n",
       "      <th>0</th>\n",
       "      <td>2024-12-16 00:00:00</td>\n",
       "      <td>1.04850</td>\n",
       "      <td>1.05213</td>\n",
       "      <td>1.04797</td>\n",
       "      <td>1.05190</td>\n",
       "      <td>1.050125</td>\n",
       "      <td>1.050125</td>\n",
       "      <td>NaN</td>\n",
       "      <td>NaN</td>\n",
       "    </tr>\n",
       "    <tr>\n",
       "      <th>1</th>\n",
       "      <td>2024-12-16 04:00:00</td>\n",
       "      <td>1.05191</td>\n",
       "      <td>1.05230</td>\n",
       "      <td>1.05098</td>\n",
       "      <td>1.05196</td>\n",
       "      <td>1.051788</td>\n",
       "      <td>1.051788</td>\n",
       "      <td>1.050125</td>\n",
       "      <td>NaN</td>\n",
       "    </tr>\n",
       "    <tr>\n",
       "      <th>2</th>\n",
       "      <td>2024-12-16 08:00:00</td>\n",
       "      <td>1.05196</td>\n",
       "      <td>1.05248</td>\n",
       "      <td>1.05003</td>\n",
       "      <td>1.05051</td>\n",
       "      <td>1.051245</td>\n",
       "      <td>1.051245</td>\n",
       "      <td>1.051788</td>\n",
       "      <td>NaN</td>\n",
       "    </tr>\n",
       "    <tr>\n",
       "      <th>3</th>\n",
       "      <td>2024-12-16 12:00:00</td>\n",
       "      <td>1.05051</td>\n",
       "      <td>1.05084</td>\n",
       "      <td>1.04833</td>\n",
       "      <td>1.05078</td>\n",
       "      <td>1.050115</td>\n",
       "      <td>1.050115</td>\n",
       "      <td>1.051245</td>\n",
       "      <td>NaN</td>\n",
       "    </tr>\n",
       "    <tr>\n",
       "      <th>4</th>\n",
       "      <td>2024-12-16 16:00:00</td>\n",
       "      <td>1.05075</td>\n",
       "      <td>1.05207</td>\n",
       "      <td>1.04746</td>\n",
       "      <td>1.05112</td>\n",
       "      <td>1.050350</td>\n",
       "      <td>1.050350</td>\n",
       "      <td>1.050115</td>\n",
       "      <td>NaN</td>\n",
       "    </tr>\n",
       "    <tr>\n",
       "      <th>...</th>\n",
       "      <td>...</td>\n",
       "      <td>...</td>\n",
       "      <td>...</td>\n",
       "      <td>...</td>\n",
       "      <td>...</td>\n",
       "      <td>...</td>\n",
       "      <td>...</td>\n",
       "      <td>...</td>\n",
       "      <td>...</td>\n",
       "    </tr>\n",
       "    <tr>\n",
       "      <th>851</th>\n",
       "      <td>2025-07-03 20:00:00</td>\n",
       "      <td>1.17524</td>\n",
       "      <td>1.17595</td>\n",
       "      <td>1.17444</td>\n",
       "      <td>1.17573</td>\n",
       "      <td>1.175340</td>\n",
       "      <td>1.175340</td>\n",
       "      <td>1.175358</td>\n",
       "      <td>1.178291</td>\n",
       "    </tr>\n",
       "    <tr>\n",
       "      <th>852</th>\n",
       "      <td>2025-07-04 00:00:00</td>\n",
       "      <td>1.17562</td>\n",
       "      <td>1.17715</td>\n",
       "      <td>1.17502</td>\n",
       "      <td>1.17670</td>\n",
       "      <td>1.176122</td>\n",
       "      <td>1.176122</td>\n",
       "      <td>1.175340</td>\n",
       "      <td>1.178117</td>\n",
       "    </tr>\n",
       "    <tr>\n",
       "      <th>853</th>\n",
       "      <td>2025-07-04 04:00:00</td>\n",
       "      <td>1.17670</td>\n",
       "      <td>1.17803</td>\n",
       "      <td>1.17560</td>\n",
       "      <td>1.17802</td>\n",
       "      <td>1.177088</td>\n",
       "      <td>1.177088</td>\n",
       "      <td>1.176122</td>\n",
       "      <td>1.178011</td>\n",
       "    </tr>\n",
       "    <tr>\n",
       "      <th>854</th>\n",
       "      <td>2025-07-04 08:00:00</td>\n",
       "      <td>1.17802</td>\n",
       "      <td>1.17856</td>\n",
       "      <td>1.17677</td>\n",
       "      <td>1.17746</td>\n",
       "      <td>1.177703</td>\n",
       "      <td>1.177703</td>\n",
       "      <td>1.177088</td>\n",
       "      <td>1.177812</td>\n",
       "    </tr>\n",
       "    <tr>\n",
       "      <th>855</th>\n",
       "      <td>2025-07-04 12:00:00</td>\n",
       "      <td>1.17746</td>\n",
       "      <td>1.17822</td>\n",
       "      <td>1.17683</td>\n",
       "      <td>1.17707</td>\n",
       "      <td>1.177395</td>\n",
       "      <td>1.177395</td>\n",
       "      <td>1.177703</td>\n",
       "      <td>1.177622</td>\n",
       "    </tr>\n",
       "  </tbody>\n",
       "</table>\n",
       "<p>856 rows × 9 columns</p>\n",
       "</div>"
      ],
      "text/plain": [
       "                   time     open     high      low    close     ohlc4  \\\n",
       "0   2024-12-16 00:00:00  1.04850  1.05213  1.04797  1.05190  1.050125   \n",
       "1   2024-12-16 04:00:00  1.05191  1.05230  1.05098  1.05196  1.051788   \n",
       "2   2024-12-16 08:00:00  1.05196  1.05248  1.05003  1.05051  1.051245   \n",
       "3   2024-12-16 12:00:00  1.05051  1.05084  1.04833  1.05078  1.050115   \n",
       "4   2024-12-16 16:00:00  1.05075  1.05207  1.04746  1.05112  1.050350   \n",
       "..                  ...      ...      ...      ...      ...       ...   \n",
       "851 2025-07-03 20:00:00  1.17524  1.17595  1.17444  1.17573  1.175340   \n",
       "852 2025-07-04 00:00:00  1.17562  1.17715  1.17502  1.17670  1.176122   \n",
       "853 2025-07-04 04:00:00  1.17670  1.17803  1.17560  1.17802  1.177088   \n",
       "854 2025-07-04 08:00:00  1.17802  1.17856  1.17677  1.17746  1.177703   \n",
       "855 2025-07-04 12:00:00  1.17746  1.17822  1.17683  1.17707  1.177395   \n",
       "\n",
       "        sma_1  prev_sma_1    sma_14  \n",
       "0    1.050125         NaN       NaN  \n",
       "1    1.051788    1.050125       NaN  \n",
       "2    1.051245    1.051788       NaN  \n",
       "3    1.050115    1.051245       NaN  \n",
       "4    1.050350    1.050115       NaN  \n",
       "..        ...         ...       ...  \n",
       "851  1.175340    1.175358  1.178291  \n",
       "852  1.176122    1.175340  1.178117  \n",
       "853  1.177088    1.176122  1.178011  \n",
       "854  1.177703    1.177088  1.177812  \n",
       "855  1.177395    1.177703  1.177622  \n",
       "\n",
       "[856 rows x 9 columns]"
      ]
     },
     "execution_count": 121,
     "metadata": {},
     "output_type": "execute_result"
    }
   ],
   "source": [
    "#setting the sma 1 and 14 periods\n",
    "furst_sma_period = 1\n",
    "second_sma_period = 14\n",
    "#ohlc4\n",
    "hourly_df['ohlc4'] = (hourly_df['open'] + hourly_df['high'] + hourly_df['low'] + hourly_df['close']) / 4\n",
    "\n",
    "# sma 1\n",
    "hourly_df['sma_1'] = hourly_df['ohlc4'].rolling(furst_sma_period).mean()\n",
    "hourly_df['prev_sma_1'] = hourly_df['sma_1'].shift(1) #to find crossovers, previous sma value is necessary using shift()\n",
    "# sma 14\n",
    "hourly_df['sma_14'] = hourly_df['ohlc4'].rolling(second_sma_period).mean()\n",
    "hourly_df"
   ]
  },
  {
   "cell_type": "code",
   "execution_count": 122,
   "metadata": {},
   "outputs": [
    {
     "data": {
      "text/html": [
       "<div>\n",
       "<style scoped>\n",
       "    .dataframe tbody tr th:only-of-type {\n",
       "        vertical-align: middle;\n",
       "    }\n",
       "\n",
       "    .dataframe tbody tr th {\n",
       "        vertical-align: top;\n",
       "    }\n",
       "\n",
       "    .dataframe thead th {\n",
       "        text-align: right;\n",
       "    }\n",
       "</style>\n",
       "<table border=\"1\" class=\"dataframe\">\n",
       "  <thead>\n",
       "    <tr style=\"text-align: right;\">\n",
       "      <th></th>\n",
       "      <th>time</th>\n",
       "      <th>sma_11</th>\n",
       "      <th>sma_114</th>\n",
       "      <th>prev_sma_11</th>\n",
       "    </tr>\n",
       "  </thead>\n",
       "  <tbody>\n",
       "    <tr>\n",
       "      <th>0</th>\n",
       "      <td>2024-12-16</td>\n",
       "      <td>1.049895</td>\n",
       "      <td>NaN</td>\n",
       "      <td>NaN</td>\n",
       "    </tr>\n",
       "    <tr>\n",
       "      <th>1</th>\n",
       "      <td>2024-12-17</td>\n",
       "      <td>1.050390</td>\n",
       "      <td>NaN</td>\n",
       "      <td>1.049895</td>\n",
       "    </tr>\n",
       "    <tr>\n",
       "      <th>2</th>\n",
       "      <td>2024-12-18</td>\n",
       "      <td>1.042417</td>\n",
       "      <td>NaN</td>\n",
       "      <td>1.050390</td>\n",
       "    </tr>\n",
       "    <tr>\n",
       "      <th>3</th>\n",
       "      <td>2024-12-19</td>\n",
       "      <td>1.037017</td>\n",
       "      <td>NaN</td>\n",
       "      <td>1.042417</td>\n",
       "    </tr>\n",
       "    <tr>\n",
       "      <th>4</th>\n",
       "      <td>2024-12-20</td>\n",
       "      <td>1.039560</td>\n",
       "      <td>NaN</td>\n",
       "      <td>1.037017</td>\n",
       "    </tr>\n",
       "    <tr>\n",
       "      <th>...</th>\n",
       "      <td>...</td>\n",
       "      <td>...</td>\n",
       "      <td>...</td>\n",
       "      <td>...</td>\n",
       "    </tr>\n",
       "    <tr>\n",
       "      <th>138</th>\n",
       "      <td>2025-06-30</td>\n",
       "      <td>1.175283</td>\n",
       "      <td>1.157283</td>\n",
       "      <td>1.171388</td>\n",
       "    </tr>\n",
       "    <tr>\n",
       "      <th>139</th>\n",
       "      <td>2025-07-01</td>\n",
       "      <td>1.179582</td>\n",
       "      <td>1.159724</td>\n",
       "      <td>1.175283</td>\n",
       "    </tr>\n",
       "    <tr>\n",
       "      <th>140</th>\n",
       "      <td>2025-07-02</td>\n",
       "      <td>1.179023</td>\n",
       "      <td>1.161468</td>\n",
       "      <td>1.179582</td>\n",
       "    </tr>\n",
       "    <tr>\n",
       "      <th>141</th>\n",
       "      <td>2025-07-03</td>\n",
       "      <td>1.177072</td>\n",
       "      <td>1.162981</td>\n",
       "      <td>1.179023</td>\n",
       "    </tr>\n",
       "    <tr>\n",
       "      <th>142</th>\n",
       "      <td>2025-07-04</td>\n",
       "      <td>1.176567</td>\n",
       "      <td>1.164485</td>\n",
       "      <td>1.177072</td>\n",
       "    </tr>\n",
       "  </tbody>\n",
       "</table>\n",
       "<p>143 rows × 4 columns</p>\n",
       "</div>"
      ],
      "text/plain": [
       "          time    sma_11   sma_114  prev_sma_11\n",
       "0   2024-12-16  1.049895       NaN          NaN\n",
       "1   2024-12-17  1.050390       NaN     1.049895\n",
       "2   2024-12-18  1.042417       NaN     1.050390\n",
       "3   2024-12-19  1.037017       NaN     1.042417\n",
       "4   2024-12-20  1.039560       NaN     1.037017\n",
       "..         ...       ...       ...          ...\n",
       "138 2025-06-30  1.175283  1.157283     1.171388\n",
       "139 2025-07-01  1.179582  1.159724     1.175283\n",
       "140 2025-07-02  1.179023  1.161468     1.179582\n",
       "141 2025-07-03  1.177072  1.162981     1.179023\n",
       "142 2025-07-04  1.176567  1.164485     1.177072\n",
       "\n",
       "[143 rows x 4 columns]"
      ]
     },
     "execution_count": 122,
     "metadata": {},
     "output_type": "execute_result"
    }
   ],
   "source": [
    "#setting the 11 and 114 sma periods\n",
    "thurd_sma_period = 1\n",
    "fourth_sma_period = 14\n",
    "#ohlc4\n",
    "daily_df['ohlc4'] = (daily_df['open'] + daily_df['high'] + daily_df['low'] + daily_df['close']) / 4\n",
    "# sma 11\n",
    "daily_df['sma_11'] = daily_df['ohlc4'].rolling(thurd_sma_period).mean()\n",
    "daily_df['prev_sma_11'] = daily_df['sma_11'].shift(1) #to find crossovers, previous sma value is necessary using shift()\n",
    "# sma 114\n",
    "daily_df['sma_114'] = daily_df['ohlc4'].rolling(fourth_sma_period).mean()\n",
    "daily_df[[\"time\",\"sma_11\",\"sma_114\",\"prev_sma_11\"]]"
   ]
  },
  {
   "cell_type": "code",
   "execution_count": 123,
   "metadata": {},
   "outputs": [
    {
     "data": {
      "text/html": [
       "<div>\n",
       "<style scoped>\n",
       "    .dataframe tbody tr th:only-of-type {\n",
       "        vertical-align: middle;\n",
       "    }\n",
       "\n",
       "    .dataframe tbody tr th {\n",
       "        vertical-align: top;\n",
       "    }\n",
       "\n",
       "    .dataframe thead th {\n",
       "        text-align: right;\n",
       "    }\n",
       "</style>\n",
       "<table border=\"1\" class=\"dataframe\">\n",
       "  <thead>\n",
       "    <tr style=\"text-align: right;\">\n",
       "      <th></th>\n",
       "      <th>time</th>\n",
       "      <th>open</th>\n",
       "      <th>high</th>\n",
       "      <th>low</th>\n",
       "      <th>close</th>\n",
       "      <th>pivot</th>\n",
       "      <th>prange</th>\n",
       "      <th>R1</th>\n",
       "      <th>R2</th>\n",
       "      <th>R3</th>\n",
       "      <th>...</th>\n",
       "      <th>S2</th>\n",
       "      <th>S3</th>\n",
       "      <th>ohlc4</th>\n",
       "      <th>sma_11</th>\n",
       "      <th>prev_sma_11</th>\n",
       "      <th>sma_114</th>\n",
       "      <th>sell_stope_loss</th>\n",
       "      <th>buy_stope_loss</th>\n",
       "      <th>sell_profit</th>\n",
       "      <th>buy_profit</th>\n",
       "    </tr>\n",
       "  </thead>\n",
       "  <tbody>\n",
       "    <tr>\n",
       "      <th>0</th>\n",
       "      <td>2024-12-16</td>\n",
       "      <td>1.04850</td>\n",
       "      <td>1.05248</td>\n",
       "      <td>1.04746</td>\n",
       "      <td>1.05114</td>\n",
       "      <td>NaN</td>\n",
       "      <td>NaN</td>\n",
       "      <td>NaN</td>\n",
       "      <td>NaN</td>\n",
       "      <td>NaN</td>\n",
       "      <td>...</td>\n",
       "      <td>NaN</td>\n",
       "      <td>NaN</td>\n",
       "      <td>1.049895</td>\n",
       "      <td>1.049895</td>\n",
       "      <td>NaN</td>\n",
       "      <td>NaN</td>\n",
       "      <td>NaN</td>\n",
       "      <td>NaN</td>\n",
       "      <td>False</td>\n",
       "      <td>False</td>\n",
       "    </tr>\n",
       "    <tr>\n",
       "      <th>1</th>\n",
       "      <td>2024-12-17</td>\n",
       "      <td>1.05105</td>\n",
       "      <td>1.05343</td>\n",
       "      <td>1.04793</td>\n",
       "      <td>1.04915</td>\n",
       "      <td>1.050360</td>\n",
       "      <td>0.00502</td>\n",
       "      <td>1.052278</td>\n",
       "      <td>1.053462</td>\n",
       "      <td>1.055380</td>\n",
       "      <td>...</td>\n",
       "      <td>1.047258</td>\n",
       "      <td>1.045340</td>\n",
       "      <td>1.050390</td>\n",
       "      <td>1.050390</td>\n",
       "      <td>1.049895</td>\n",
       "      <td>NaN</td>\n",
       "      <td>1.055972</td>\n",
       "      <td>1.044748</td>\n",
       "      <td>True</td>\n",
       "      <td>True</td>\n",
       "    </tr>\n",
       "    <tr>\n",
       "      <th>2</th>\n",
       "      <td>2024-12-18</td>\n",
       "      <td>1.04907</td>\n",
       "      <td>1.05128</td>\n",
       "      <td>1.03437</td>\n",
       "      <td>1.03495</td>\n",
       "      <td>1.050170</td>\n",
       "      <td>0.00550</td>\n",
       "      <td>1.052271</td>\n",
       "      <td>1.053569</td>\n",
       "      <td>1.055670</td>\n",
       "      <td>...</td>\n",
       "      <td>1.046771</td>\n",
       "      <td>1.044670</td>\n",
       "      <td>1.042417</td>\n",
       "      <td>1.042417</td>\n",
       "      <td>1.050390</td>\n",
       "      <td>NaN</td>\n",
       "      <td>1.056319</td>\n",
       "      <td>1.044021</td>\n",
       "      <td>True</td>\n",
       "      <td>False</td>\n",
       "    </tr>\n",
       "    <tr>\n",
       "      <th>3</th>\n",
       "      <td>2024-12-19</td>\n",
       "      <td>1.03514</td>\n",
       "      <td>1.04224</td>\n",
       "      <td>1.03440</td>\n",
       "      <td>1.03629</td>\n",
       "      <td>1.040200</td>\n",
       "      <td>0.01691</td>\n",
       "      <td>1.046660</td>\n",
       "      <td>1.050650</td>\n",
       "      <td>1.057110</td>\n",
       "      <td>...</td>\n",
       "      <td>1.029750</td>\n",
       "      <td>1.023290</td>\n",
       "      <td>1.037017</td>\n",
       "      <td>1.037017</td>\n",
       "      <td>1.042417</td>\n",
       "      <td>NaN</td>\n",
       "      <td>1.059105</td>\n",
       "      <td>1.021295</td>\n",
       "      <td>False</td>\n",
       "      <td>False</td>\n",
       "    </tr>\n",
       "    <tr>\n",
       "      <th>4</th>\n",
       "      <td>2024-12-20</td>\n",
       "      <td>1.03650</td>\n",
       "      <td>1.04475</td>\n",
       "      <td>1.03431</td>\n",
       "      <td>1.04268</td>\n",
       "      <td>1.037643</td>\n",
       "      <td>0.00784</td>\n",
       "      <td>1.040638</td>\n",
       "      <td>1.042488</td>\n",
       "      <td>1.045483</td>\n",
       "      <td>...</td>\n",
       "      <td>1.032798</td>\n",
       "      <td>1.029803</td>\n",
       "      <td>1.039560</td>\n",
       "      <td>1.039560</td>\n",
       "      <td>1.037017</td>\n",
       "      <td>NaN</td>\n",
       "      <td>1.046408</td>\n",
       "      <td>1.028878</td>\n",
       "      <td>True</td>\n",
       "      <td>True</td>\n",
       "    </tr>\n",
       "    <tr>\n",
       "      <th>...</th>\n",
       "      <td>...</td>\n",
       "      <td>...</td>\n",
       "      <td>...</td>\n",
       "      <td>...</td>\n",
       "      <td>...</td>\n",
       "      <td>...</td>\n",
       "      <td>...</td>\n",
       "      <td>...</td>\n",
       "      <td>...</td>\n",
       "      <td>...</td>\n",
       "      <td>...</td>\n",
       "      <td>...</td>\n",
       "      <td>...</td>\n",
       "      <td>...</td>\n",
       "      <td>...</td>\n",
       "      <td>...</td>\n",
       "      <td>...</td>\n",
       "      <td>...</td>\n",
       "      <td>...</td>\n",
       "      <td>...</td>\n",
       "      <td>...</td>\n",
       "    </tr>\n",
       "    <tr>\n",
       "      <th>138</th>\n",
       "      <td>2025-06-30</td>\n",
       "      <td>1.17279</td>\n",
       "      <td>1.17880</td>\n",
       "      <td>1.17077</td>\n",
       "      <td>1.17877</td>\n",
       "      <td>1.171850</td>\n",
       "      <td>0.00735</td>\n",
       "      <td>1.174658</td>\n",
       "      <td>1.176392</td>\n",
       "      <td>1.179200</td>\n",
       "      <td>...</td>\n",
       "      <td>1.167308</td>\n",
       "      <td>1.164500</td>\n",
       "      <td>1.175283</td>\n",
       "      <td>1.175283</td>\n",
       "      <td>1.171388</td>\n",
       "      <td>1.157283</td>\n",
       "      <td>1.180067</td>\n",
       "      <td>1.163633</td>\n",
       "      <td>False</td>\n",
       "      <td>True</td>\n",
       "    </tr>\n",
       "    <tr>\n",
       "      <th>139</th>\n",
       "      <td>2025-07-01</td>\n",
       "      <td>1.17868</td>\n",
       "      <td>1.18298</td>\n",
       "      <td>1.17615</td>\n",
       "      <td>1.18052</td>\n",
       "      <td>1.176113</td>\n",
       "      <td>0.00803</td>\n",
       "      <td>1.179181</td>\n",
       "      <td>1.181076</td>\n",
       "      <td>1.184143</td>\n",
       "      <td>...</td>\n",
       "      <td>1.171151</td>\n",
       "      <td>1.168083</td>\n",
       "      <td>1.179582</td>\n",
       "      <td>1.179582</td>\n",
       "      <td>1.175283</td>\n",
       "      <td>1.159724</td>\n",
       "      <td>1.185091</td>\n",
       "      <td>1.167136</td>\n",
       "      <td>False</td>\n",
       "      <td>True</td>\n",
       "    </tr>\n",
       "    <tr>\n",
       "      <th>140</th>\n",
       "      <td>2025-07-02</td>\n",
       "      <td>1.18056</td>\n",
       "      <td>1.18101</td>\n",
       "      <td>1.17470</td>\n",
       "      <td>1.17982</td>\n",
       "      <td>1.179883</td>\n",
       "      <td>0.00683</td>\n",
       "      <td>1.182492</td>\n",
       "      <td>1.184104</td>\n",
       "      <td>1.186713</td>\n",
       "      <td>...</td>\n",
       "      <td>1.175662</td>\n",
       "      <td>1.173053</td>\n",
       "      <td>1.179023</td>\n",
       "      <td>1.179023</td>\n",
       "      <td>1.179582</td>\n",
       "      <td>1.161468</td>\n",
       "      <td>1.187519</td>\n",
       "      <td>1.172247</td>\n",
       "      <td>True</td>\n",
       "      <td>False</td>\n",
       "    </tr>\n",
       "    <tr>\n",
       "      <th>141</th>\n",
       "      <td>2025-07-03</td>\n",
       "      <td>1.17983</td>\n",
       "      <td>1.18101</td>\n",
       "      <td>1.17172</td>\n",
       "      <td>1.17573</td>\n",
       "      <td>1.178510</td>\n",
       "      <td>0.00631</td>\n",
       "      <td>1.180920</td>\n",
       "      <td>1.182410</td>\n",
       "      <td>1.184820</td>\n",
       "      <td>...</td>\n",
       "      <td>1.174610</td>\n",
       "      <td>1.172200</td>\n",
       "      <td>1.177072</td>\n",
       "      <td>1.177072</td>\n",
       "      <td>1.179023</td>\n",
       "      <td>1.162981</td>\n",
       "      <td>1.185565</td>\n",
       "      <td>1.171455</td>\n",
       "      <td>True</td>\n",
       "      <td>True</td>\n",
       "    </tr>\n",
       "    <tr>\n",
       "      <th>142</th>\n",
       "      <td>2025-07-04</td>\n",
       "      <td>1.17562</td>\n",
       "      <td>1.17856</td>\n",
       "      <td>1.17502</td>\n",
       "      <td>1.17707</td>\n",
       "      <td>1.176153</td>\n",
       "      <td>0.00929</td>\n",
       "      <td>1.179702</td>\n",
       "      <td>1.181895</td>\n",
       "      <td>1.185443</td>\n",
       "      <td>...</td>\n",
       "      <td>1.170412</td>\n",
       "      <td>1.166863</td>\n",
       "      <td>1.176567</td>\n",
       "      <td>1.176567</td>\n",
       "      <td>1.177072</td>\n",
       "      <td>1.164485</td>\n",
       "      <td>1.186540</td>\n",
       "      <td>1.165767</td>\n",
       "      <td>False</td>\n",
       "      <td>False</td>\n",
       "    </tr>\n",
       "  </tbody>\n",
       "</table>\n",
       "<p>143 rows × 21 columns</p>\n",
       "</div>"
      ],
      "text/plain": [
       "          time     open     high      low    close     pivot   prange  \\\n",
       "0   2024-12-16  1.04850  1.05248  1.04746  1.05114       NaN      NaN   \n",
       "1   2024-12-17  1.05105  1.05343  1.04793  1.04915  1.050360  0.00502   \n",
       "2   2024-12-18  1.04907  1.05128  1.03437  1.03495  1.050170  0.00550   \n",
       "3   2024-12-19  1.03514  1.04224  1.03440  1.03629  1.040200  0.01691   \n",
       "4   2024-12-20  1.03650  1.04475  1.03431  1.04268  1.037643  0.00784   \n",
       "..         ...      ...      ...      ...      ...       ...      ...   \n",
       "138 2025-06-30  1.17279  1.17880  1.17077  1.17877  1.171850  0.00735   \n",
       "139 2025-07-01  1.17868  1.18298  1.17615  1.18052  1.176113  0.00803   \n",
       "140 2025-07-02  1.18056  1.18101  1.17470  1.17982  1.179883  0.00683   \n",
       "141 2025-07-03  1.17983  1.18101  1.17172  1.17573  1.178510  0.00631   \n",
       "142 2025-07-04  1.17562  1.17856  1.17502  1.17707  1.176153  0.00929   \n",
       "\n",
       "           R1        R2        R3  ...        S2        S3     ohlc4  \\\n",
       "0         NaN       NaN       NaN  ...       NaN       NaN  1.049895   \n",
       "1    1.052278  1.053462  1.055380  ...  1.047258  1.045340  1.050390   \n",
       "2    1.052271  1.053569  1.055670  ...  1.046771  1.044670  1.042417   \n",
       "3    1.046660  1.050650  1.057110  ...  1.029750  1.023290  1.037017   \n",
       "4    1.040638  1.042488  1.045483  ...  1.032798  1.029803  1.039560   \n",
       "..        ...       ...       ...  ...       ...       ...       ...   \n",
       "138  1.174658  1.176392  1.179200  ...  1.167308  1.164500  1.175283   \n",
       "139  1.179181  1.181076  1.184143  ...  1.171151  1.168083  1.179582   \n",
       "140  1.182492  1.184104  1.186713  ...  1.175662  1.173053  1.179023   \n",
       "141  1.180920  1.182410  1.184820  ...  1.174610  1.172200  1.177072   \n",
       "142  1.179702  1.181895  1.185443  ...  1.170412  1.166863  1.176567   \n",
       "\n",
       "       sma_11  prev_sma_11   sma_114  sell_stope_loss  buy_stope_loss  \\\n",
       "0    1.049895          NaN       NaN              NaN             NaN   \n",
       "1    1.050390     1.049895       NaN         1.055972        1.044748   \n",
       "2    1.042417     1.050390       NaN         1.056319        1.044021   \n",
       "3    1.037017     1.042417       NaN         1.059105        1.021295   \n",
       "4    1.039560     1.037017       NaN         1.046408        1.028878   \n",
       "..        ...          ...       ...              ...             ...   \n",
       "138  1.175283     1.171388  1.157283         1.180067        1.163633   \n",
       "139  1.179582     1.175283  1.159724         1.185091        1.167136   \n",
       "140  1.179023     1.179582  1.161468         1.187519        1.172247   \n",
       "141  1.177072     1.179023  1.162981         1.185565        1.171455   \n",
       "142  1.176567     1.177072  1.164485         1.186540        1.165767   \n",
       "\n",
       "     sell_profit  buy_profit  \n",
       "0          False       False  \n",
       "1           True        True  \n",
       "2           True       False  \n",
       "3          False       False  \n",
       "4           True        True  \n",
       "..           ...         ...  \n",
       "138        False        True  \n",
       "139        False        True  \n",
       "140         True       False  \n",
       "141         True        True  \n",
       "142        False       False  \n",
       "\n",
       "[143 rows x 21 columns]"
      ]
     },
     "execution_count": 123,
     "metadata": {},
     "output_type": "execute_result"
    }
   ],
   "source": [
    "#setting entring and closing time and one trade a day\n",
    "# Set the start and end times for your desired trading hours\n",
    "start_time = datetime.strptime('06:00:00', '%H:%M:%S').time()\n",
    "end_time = datetime.strptime('17:00:00', '%H:%M:%S').time()\n",
    "end_trading_section = datetime.strptime('23:45:00', '%H:%M:%S').time()\n",
    "\n",
    "# Filter the trade data for trades within the specified trading hours\n",
    "#trades_within_hours = daily_df[(daily_df['time'].dt.time >= start_time) & (daily_df['time'].dt.time <= end_time)]\n",
    "# open one trade a day\n",
    "first_trade_per_day = daily_df.groupby(daily_df['time'].dt.time).first()\n",
    "# Close all open positions at 11:45 PM\n",
    "open_positions = daily_df[daily_df['time'].dt.time == end_trading_section]\n",
    "\n",
    "# function to trading\n",
    "daily_df[\"sell_stope_loss\"] = (daily_df[\"R2\"] - daily_df[\"S1\"]) /2 + daily_df[\"R2\"] \n",
    "daily_df[\"buy_stope_loss\"] = (daily_df[\"S2\"] - ((daily_df[\"R1\"] - daily_df[\"S2\"]) /2))\n",
    "daily_df['sell_profit'] = daily_df['low'] <= daily_df[\"S1\"]\n",
    "daily_df['buy_profit'] = daily_df[\"high\"] >= daily_df[\"R1\"]\n",
    "daily_df"
   ]
  },
  {
   "cell_type": "code",
   "execution_count": 124,
   "metadata": {},
   "outputs": [
    {
     "data": {
      "text/html": [
       "<div>\n",
       "<style scoped>\n",
       "    .dataframe tbody tr th:only-of-type {\n",
       "        vertical-align: middle;\n",
       "    }\n",
       "\n",
       "    .dataframe tbody tr th {\n",
       "        vertical-align: top;\n",
       "    }\n",
       "\n",
       "    .dataframe thead th {\n",
       "        text-align: right;\n",
       "    }\n",
       "</style>\n",
       "<table border=\"1\" class=\"dataframe\">\n",
       "  <thead>\n",
       "    <tr style=\"text-align: right;\">\n",
       "      <th></th>\n",
       "      <th>signal</th>\n",
       "      <th>time</th>\n",
       "    </tr>\n",
       "  </thead>\n",
       "  <tbody>\n",
       "    <tr>\n",
       "      <th>3858</th>\n",
       "      <td>sell</td>\n",
       "      <td>2025-01-06 09:30:00</td>\n",
       "    </tr>\n",
       "    <tr>\n",
       "      <th>5482</th>\n",
       "      <td>sell</td>\n",
       "      <td>2025-01-14 00:50:00</td>\n",
       "    </tr>\n",
       "    <tr>\n",
       "      <th>5946</th>\n",
       "      <td>sell</td>\n",
       "      <td>2025-01-15 15:30:00</td>\n",
       "    </tr>\n",
       "    <tr>\n",
       "      <th>6541</th>\n",
       "      <td>sell</td>\n",
       "      <td>2025-01-17 17:05:00</td>\n",
       "    </tr>\n",
       "    <tr>\n",
       "      <th>6810</th>\n",
       "      <td>sell</td>\n",
       "      <td>2025-01-20 15:30:00</td>\n",
       "    </tr>\n",
       "    <tr>\n",
       "      <th>7706</th>\n",
       "      <td>buy</td>\n",
       "      <td>2025-01-23 18:10:00</td>\n",
       "    </tr>\n",
       "    <tr>\n",
       "      <th>8369</th>\n",
       "      <td>buy</td>\n",
       "      <td>2025-01-28 01:25:00</td>\n",
       "    </tr>\n",
       "    <tr>\n",
       "      <th>8786</th>\n",
       "      <td>buy</td>\n",
       "      <td>2025-01-29 12:10:00</td>\n",
       "    </tr>\n",
       "    <tr>\n",
       "      <th>9420</th>\n",
       "      <td>buy</td>\n",
       "      <td>2025-01-31 17:00:00</td>\n",
       "    </tr>\n",
       "    <tr>\n",
       "      <th>10017</th>\n",
       "      <td>sell</td>\n",
       "      <td>2025-02-04 18:45:00</td>\n",
       "    </tr>\n",
       "    <tr>\n",
       "      <th>10215</th>\n",
       "      <td>sell</td>\n",
       "      <td>2025-02-05 11:15:00</td>\n",
       "    </tr>\n",
       "    <tr>\n",
       "      <th>11440</th>\n",
       "      <td>sell</td>\n",
       "      <td>2025-02-11 17:20:00</td>\n",
       "    </tr>\n",
       "    <tr>\n",
       "      <th>11748</th>\n",
       "      <td>sell</td>\n",
       "      <td>2025-02-12 19:00:00</td>\n",
       "    </tr>\n",
       "    <tr>\n",
       "      <th>12074</th>\n",
       "      <td>sell</td>\n",
       "      <td>2025-02-13 22:10:00</td>\n",
       "    </tr>\n",
       "    <tr>\n",
       "      <th>12744</th>\n",
       "      <td>buy</td>\n",
       "      <td>2025-02-18 06:00:00</td>\n",
       "    </tr>\n",
       "    <tr>\n",
       "      <th>13111</th>\n",
       "      <td>buy</td>\n",
       "      <td>2025-02-19 12:35:00</td>\n",
       "    </tr>\n",
       "    <tr>\n",
       "      <th>14766</th>\n",
       "      <td>buy</td>\n",
       "      <td>2025-02-27 06:30:00</td>\n",
       "    </tr>\n",
       "    <tr>\n",
       "      <th>15302</th>\n",
       "      <td>sell</td>\n",
       "      <td>2025-03-03 03:10:00</td>\n",
       "    </tr>\n",
       "    <tr>\n",
       "      <th>15718</th>\n",
       "      <td>sell</td>\n",
       "      <td>2025-03-04 13:50:00</td>\n",
       "    </tr>\n",
       "    <tr>\n",
       "      <th>17695</th>\n",
       "      <td>buy</td>\n",
       "      <td>2025-03-13 10:35:00</td>\n",
       "    </tr>\n",
       "    <tr>\n",
       "      <th>18847</th>\n",
       "      <td>buy</td>\n",
       "      <td>2025-03-19 10:35:00</td>\n",
       "    </tr>\n",
       "    <tr>\n",
       "      <th>19156</th>\n",
       "      <td>buy</td>\n",
       "      <td>2025-03-20 12:20:00</td>\n",
       "    </tr>\n",
       "    <tr>\n",
       "      <th>19522</th>\n",
       "      <td>buy</td>\n",
       "      <td>2025-03-21 18:50:00</td>\n",
       "    </tr>\n",
       "    <tr>\n",
       "      <th>20670</th>\n",
       "      <td>sell</td>\n",
       "      <td>2025-03-27 18:30:00</td>\n",
       "    </tr>\n",
       "    <tr>\n",
       "      <th>20956</th>\n",
       "      <td>sell</td>\n",
       "      <td>2025-03-28 18:20:00</td>\n",
       "    </tr>\n",
       "    <tr>\n",
       "      <th>21812</th>\n",
       "      <td>sell</td>\n",
       "      <td>2025-04-02 17:40:00</td>\n",
       "    </tr>\n",
       "    <tr>\n",
       "      <th>21989</th>\n",
       "      <td>sell</td>\n",
       "      <td>2025-04-03 08:25:00</td>\n",
       "    </tr>\n",
       "    <tr>\n",
       "      <th>22465</th>\n",
       "      <td>buy</td>\n",
       "      <td>2025-04-07 00:05:00</td>\n",
       "    </tr>\n",
       "    <tr>\n",
       "      <th>24423</th>\n",
       "      <td>buy</td>\n",
       "      <td>2025-04-15 19:15:00</td>\n",
       "    </tr>\n",
       "    <tr>\n",
       "      <th>25927</th>\n",
       "      <td>buy</td>\n",
       "      <td>2025-04-23 00:35:00</td>\n",
       "    </tr>\n",
       "    <tr>\n",
       "      <th>27419</th>\n",
       "      <td>buy</td>\n",
       "      <td>2025-04-30 04:55:00</td>\n",
       "    </tr>\n",
       "    <tr>\n",
       "      <th>28087</th>\n",
       "      <td>sell</td>\n",
       "      <td>2025-05-02 12:35:00</td>\n",
       "    </tr>\n",
       "    <tr>\n",
       "      <th>28719</th>\n",
       "      <td>sell</td>\n",
       "      <td>2025-05-06 17:15:00</td>\n",
       "    </tr>\n",
       "    <tr>\n",
       "      <th>30372</th>\n",
       "      <td>sell</td>\n",
       "      <td>2025-05-14 11:00:00</td>\n",
       "    </tr>\n",
       "    <tr>\n",
       "      <th>31229</th>\n",
       "      <td>sell</td>\n",
       "      <td>2025-05-19 10:25:00</td>\n",
       "    </tr>\n",
       "    <tr>\n",
       "      <th>32185</th>\n",
       "      <td>buy</td>\n",
       "      <td>2025-05-22 18:05:00</td>\n",
       "    </tr>\n",
       "    <tr>\n",
       "      <th>32957</th>\n",
       "      <td>buy</td>\n",
       "      <td>2025-05-27 10:25:00</td>\n",
       "    </tr>\n",
       "    <tr>\n",
       "      <th>33219</th>\n",
       "      <td>buy</td>\n",
       "      <td>2025-05-28 08:15:00</td>\n",
       "    </tr>\n",
       "    <tr>\n",
       "      <th>33436</th>\n",
       "      <td>buy</td>\n",
       "      <td>2025-05-29 02:20:00</td>\n",
       "    </tr>\n",
       "    <tr>\n",
       "      <th>35322</th>\n",
       "      <td>buy</td>\n",
       "      <td>2025-06-06 15:30:00</td>\n",
       "    </tr>\n",
       "    <tr>\n",
       "      <th>35833</th>\n",
       "      <td>buy</td>\n",
       "      <td>2025-06-10 10:05:00</td>\n",
       "    </tr>\n",
       "    <tr>\n",
       "      <th>37389</th>\n",
       "      <td>buy</td>\n",
       "      <td>2025-06-17 19:45:00</td>\n",
       "    </tr>\n",
       "    <tr>\n",
       "      <th>37842</th>\n",
       "      <td>buy</td>\n",
       "      <td>2025-06-19 09:30:00</td>\n",
       "    </tr>\n",
       "    <tr>\n",
       "      <th>38304</th>\n",
       "      <td>buy</td>\n",
       "      <td>2025-06-23 00:00:00</td>\n",
       "    </tr>\n",
       "    <tr>\n",
       "      <th>40495</th>\n",
       "      <td>buy</td>\n",
       "      <td>2025-07-02 14:35:00</td>\n",
       "    </tr>\n",
       "    <tr>\n",
       "      <th>40794</th>\n",
       "      <td>buy</td>\n",
       "      <td>2025-07-03 15:30:00</td>\n",
       "    </tr>\n",
       "  </tbody>\n",
       "</table>\n",
       "</div>"
      ],
      "text/plain": [
       "      signal                time\n",
       "3858    sell 2025-01-06 09:30:00\n",
       "5482    sell 2025-01-14 00:50:00\n",
       "5946    sell 2025-01-15 15:30:00\n",
       "6541    sell 2025-01-17 17:05:00\n",
       "6810    sell 2025-01-20 15:30:00\n",
       "7706     buy 2025-01-23 18:10:00\n",
       "8369     buy 2025-01-28 01:25:00\n",
       "8786     buy 2025-01-29 12:10:00\n",
       "9420     buy 2025-01-31 17:00:00\n",
       "10017   sell 2025-02-04 18:45:00\n",
       "10215   sell 2025-02-05 11:15:00\n",
       "11440   sell 2025-02-11 17:20:00\n",
       "11748   sell 2025-02-12 19:00:00\n",
       "12074   sell 2025-02-13 22:10:00\n",
       "12744    buy 2025-02-18 06:00:00\n",
       "13111    buy 2025-02-19 12:35:00\n",
       "14766    buy 2025-02-27 06:30:00\n",
       "15302   sell 2025-03-03 03:10:00\n",
       "15718   sell 2025-03-04 13:50:00\n",
       "17695    buy 2025-03-13 10:35:00\n",
       "18847    buy 2025-03-19 10:35:00\n",
       "19156    buy 2025-03-20 12:20:00\n",
       "19522    buy 2025-03-21 18:50:00\n",
       "20670   sell 2025-03-27 18:30:00\n",
       "20956   sell 2025-03-28 18:20:00\n",
       "21812   sell 2025-04-02 17:40:00\n",
       "21989   sell 2025-04-03 08:25:00\n",
       "22465    buy 2025-04-07 00:05:00\n",
       "24423    buy 2025-04-15 19:15:00\n",
       "25927    buy 2025-04-23 00:35:00\n",
       "27419    buy 2025-04-30 04:55:00\n",
       "28087   sell 2025-05-02 12:35:00\n",
       "28719   sell 2025-05-06 17:15:00\n",
       "30372   sell 2025-05-14 11:00:00\n",
       "31229   sell 2025-05-19 10:25:00\n",
       "32185    buy 2025-05-22 18:05:00\n",
       "32957    buy 2025-05-27 10:25:00\n",
       "33219    buy 2025-05-28 08:15:00\n",
       "33436    buy 2025-05-29 02:20:00\n",
       "35322    buy 2025-06-06 15:30:00\n",
       "35833    buy 2025-06-10 10:05:00\n",
       "37389    buy 2025-06-17 19:45:00\n",
       "37842    buy 2025-06-19 09:30:00\n",
       "38304    buy 2025-06-23 00:00:00\n",
       "40495    buy 2025-07-02 14:35:00\n",
       "40794    buy 2025-07-03 15:30:00"
      ]
     },
     "execution_count": 124,
     "metadata": {},
     "output_type": "execute_result"
    }
   ],
   "source": [
    "def entring_stoploss_profit(row, ohlc_df) :\n",
    "    hour = row['time'].hour\n",
    "    week = row['time'].dayofweek\n",
    "    if row[\"prev_sma_11\"] > row['sma_114'] and row[\"low_x\"] <= row[\"S2\"]:# and (hour >= 10 and hour < 18):\n",
    "        return \"buy\"\n",
    "    elif row['prev_sma_11'] < row['sma_114'] and row[\"high_x\"] >= row[\"R2\"]:# and (hour >= 10 and hour < 18):\n",
    "        return \"sell\"\n",
    "    # Merge daily indicators into minute data (asof = merge on closest earlier date)\n",
    "merged_df = pd.merge_asof(ohlc_df, daily_df, on='time', direction='backward')\n",
    "merged_df[\"signal\"] = merged_df.apply(entring_stoploss_profit, axis=1, ohlc_df = ohlc_df)\n",
    "\n",
    "# Tag first signal per day in original merged_df\n",
    "merged_df['is_first_signal'] = (merged_df[merged_df[\"signal\"].notna()].groupby(merged_df[\"time\"].dt.date).cumcount() == 0)\n",
    "\n",
    "# Set signal only on the first row per day, others = None\n",
    "merged_df['signal'] = merged_df.apply(lambda row: row['signal'] if row['is_first_signal'] else None, axis=1)\n",
    "merged_df[['signal', 'time']].dropna()"
   ]
  },
  {
   "cell_type": "code",
   "execution_count": 125,
   "metadata": {},
   "outputs": [],
   "source": [
    "merged_df = merged_df.rename(columns={\n",
    "    \"low_x\": \"low\",\n",
    "    \"high_x\": \"high\",\n",
    "    \"open_x\": \"open\",\n",
    "    \"close_x\": \"close\",\n",
    "    \"low_y\": \"daily_low\",\n",
    "    \"high_y\": \"daily_high\",\n",
    "    \"open_y\": \"daily_open\",\n",
    "    \"close_y\": \"daily_close\"\n",
    "})\n"
   ]
  },
  {
   "cell_type": "code",
   "execution_count": 126,
   "metadata": {},
   "outputs": [
    {
     "name": "stdout",
     "output_type": "stream",
     "text": [
      "['time', 'open', 'high', 'low', 'close', 'daily_open', 'daily_high', 'daily_low', 'daily_close', 'pivot', 'prange', 'R1', 'R2', 'R3', 'S1', 'S2', 'S3', 'ohlc4', 'sma_11', 'prev_sma_11', 'sma_114', 'sell_stope_loss', 'buy_stope_loss', 'sell_profit', 'buy_profit', 'signal', 'is_first_signal']\n"
     ]
    },
    {
     "data": {
      "text/html": [
       "<div>\n",
       "<style scoped>\n",
       "    .dataframe tbody tr th:only-of-type {\n",
       "        vertical-align: middle;\n",
       "    }\n",
       "\n",
       "    .dataframe tbody tr th {\n",
       "        vertical-align: top;\n",
       "    }\n",
       "\n",
       "    .dataframe thead th {\n",
       "        text-align: right;\n",
       "    }\n",
       "</style>\n",
       "<table border=\"1\" class=\"dataframe\">\n",
       "  <thead>\n",
       "    <tr style=\"text-align: right;\">\n",
       "      <th></th>\n",
       "      <th>time</th>\n",
       "      <th>open</th>\n",
       "      <th>high</th>\n",
       "      <th>low</th>\n",
       "      <th>close</th>\n",
       "      <th>daily_open</th>\n",
       "      <th>daily_high</th>\n",
       "      <th>daily_low</th>\n",
       "      <th>daily_close</th>\n",
       "      <th>pivot</th>\n",
       "      <th>...</th>\n",
       "      <th>ohlc4</th>\n",
       "      <th>sma_11</th>\n",
       "      <th>prev_sma_11</th>\n",
       "      <th>sma_114</th>\n",
       "      <th>sell_stope_loss</th>\n",
       "      <th>buy_stope_loss</th>\n",
       "      <th>sell_profit</th>\n",
       "      <th>buy_profit</th>\n",
       "      <th>signal</th>\n",
       "      <th>is_first_signal</th>\n",
       "    </tr>\n",
       "  </thead>\n",
       "  <tbody>\n",
       "    <tr>\n",
       "      <th>0</th>\n",
       "      <td>2024-12-16 00:00:00</td>\n",
       "      <td>1.04850</td>\n",
       "      <td>1.04863</td>\n",
       "      <td>1.04797</td>\n",
       "      <td>1.04856</td>\n",
       "      <td>1.04850</td>\n",
       "      <td>1.05248</td>\n",
       "      <td>1.04746</td>\n",
       "      <td>1.05114</td>\n",
       "      <td>NaN</td>\n",
       "      <td>...</td>\n",
       "      <td>1.049895</td>\n",
       "      <td>1.049895</td>\n",
       "      <td>NaN</td>\n",
       "      <td>NaN</td>\n",
       "      <td>NaN</td>\n",
       "      <td>NaN</td>\n",
       "      <td>False</td>\n",
       "      <td>False</td>\n",
       "      <td>None</td>\n",
       "      <td>NaN</td>\n",
       "    </tr>\n",
       "    <tr>\n",
       "      <th>1</th>\n",
       "      <td>2024-12-16 00:05:00</td>\n",
       "      <td>1.04856</td>\n",
       "      <td>1.04865</td>\n",
       "      <td>1.04854</td>\n",
       "      <td>1.04856</td>\n",
       "      <td>1.04850</td>\n",
       "      <td>1.05248</td>\n",
       "      <td>1.04746</td>\n",
       "      <td>1.05114</td>\n",
       "      <td>NaN</td>\n",
       "      <td>...</td>\n",
       "      <td>1.049895</td>\n",
       "      <td>1.049895</td>\n",
       "      <td>NaN</td>\n",
       "      <td>NaN</td>\n",
       "      <td>NaN</td>\n",
       "      <td>NaN</td>\n",
       "      <td>False</td>\n",
       "      <td>False</td>\n",
       "      <td>None</td>\n",
       "      <td>NaN</td>\n",
       "    </tr>\n",
       "    <tr>\n",
       "      <th>2</th>\n",
       "      <td>2024-12-16 00:10:00</td>\n",
       "      <td>1.04856</td>\n",
       "      <td>1.04871</td>\n",
       "      <td>1.04853</td>\n",
       "      <td>1.04862</td>\n",
       "      <td>1.04850</td>\n",
       "      <td>1.05248</td>\n",
       "      <td>1.04746</td>\n",
       "      <td>1.05114</td>\n",
       "      <td>NaN</td>\n",
       "      <td>...</td>\n",
       "      <td>1.049895</td>\n",
       "      <td>1.049895</td>\n",
       "      <td>NaN</td>\n",
       "      <td>NaN</td>\n",
       "      <td>NaN</td>\n",
       "      <td>NaN</td>\n",
       "      <td>False</td>\n",
       "      <td>False</td>\n",
       "      <td>None</td>\n",
       "      <td>NaN</td>\n",
       "    </tr>\n",
       "    <tr>\n",
       "      <th>3</th>\n",
       "      <td>2024-12-16 00:15:00</td>\n",
       "      <td>1.04862</td>\n",
       "      <td>1.04880</td>\n",
       "      <td>1.04857</td>\n",
       "      <td>1.04867</td>\n",
       "      <td>1.04850</td>\n",
       "      <td>1.05248</td>\n",
       "      <td>1.04746</td>\n",
       "      <td>1.05114</td>\n",
       "      <td>NaN</td>\n",
       "      <td>...</td>\n",
       "      <td>1.049895</td>\n",
       "      <td>1.049895</td>\n",
       "      <td>NaN</td>\n",
       "      <td>NaN</td>\n",
       "      <td>NaN</td>\n",
       "      <td>NaN</td>\n",
       "      <td>False</td>\n",
       "      <td>False</td>\n",
       "      <td>None</td>\n",
       "      <td>NaN</td>\n",
       "    </tr>\n",
       "    <tr>\n",
       "      <th>4</th>\n",
       "      <td>2024-12-16 00:20:00</td>\n",
       "      <td>1.04871</td>\n",
       "      <td>1.04876</td>\n",
       "      <td>1.04857</td>\n",
       "      <td>1.04864</td>\n",
       "      <td>1.04850</td>\n",
       "      <td>1.05248</td>\n",
       "      <td>1.04746</td>\n",
       "      <td>1.05114</td>\n",
       "      <td>NaN</td>\n",
       "      <td>...</td>\n",
       "      <td>1.049895</td>\n",
       "      <td>1.049895</td>\n",
       "      <td>NaN</td>\n",
       "      <td>NaN</td>\n",
       "      <td>NaN</td>\n",
       "      <td>NaN</td>\n",
       "      <td>False</td>\n",
       "      <td>False</td>\n",
       "      <td>None</td>\n",
       "      <td>NaN</td>\n",
       "    </tr>\n",
       "    <tr>\n",
       "      <th>...</th>\n",
       "      <td>...</td>\n",
       "      <td>...</td>\n",
       "      <td>...</td>\n",
       "      <td>...</td>\n",
       "      <td>...</td>\n",
       "      <td>...</td>\n",
       "      <td>...</td>\n",
       "      <td>...</td>\n",
       "      <td>...</td>\n",
       "      <td>...</td>\n",
       "      <td>...</td>\n",
       "      <td>...</td>\n",
       "      <td>...</td>\n",
       "      <td>...</td>\n",
       "      <td>...</td>\n",
       "      <td>...</td>\n",
       "      <td>...</td>\n",
       "      <td>...</td>\n",
       "      <td>...</td>\n",
       "      <td>...</td>\n",
       "      <td>...</td>\n",
       "    </tr>\n",
       "    <tr>\n",
       "      <th>41036</th>\n",
       "      <td>2025-07-04 11:40:00</td>\n",
       "      <td>1.17735</td>\n",
       "      <td>1.17764</td>\n",
       "      <td>1.17714</td>\n",
       "      <td>1.17756</td>\n",
       "      <td>1.17562</td>\n",
       "      <td>1.17856</td>\n",
       "      <td>1.17502</td>\n",
       "      <td>1.17707</td>\n",
       "      <td>1.176153</td>\n",
       "      <td>...</td>\n",
       "      <td>1.176567</td>\n",
       "      <td>1.176567</td>\n",
       "      <td>1.177072</td>\n",
       "      <td>1.164485</td>\n",
       "      <td>1.18654</td>\n",
       "      <td>1.165767</td>\n",
       "      <td>False</td>\n",
       "      <td>False</td>\n",
       "      <td>None</td>\n",
       "      <td>NaN</td>\n",
       "    </tr>\n",
       "    <tr>\n",
       "      <th>41037</th>\n",
       "      <td>2025-07-04 11:45:00</td>\n",
       "      <td>1.17756</td>\n",
       "      <td>1.17760</td>\n",
       "      <td>1.17720</td>\n",
       "      <td>1.17740</td>\n",
       "      <td>1.17562</td>\n",
       "      <td>1.17856</td>\n",
       "      <td>1.17502</td>\n",
       "      <td>1.17707</td>\n",
       "      <td>1.176153</td>\n",
       "      <td>...</td>\n",
       "      <td>1.176567</td>\n",
       "      <td>1.176567</td>\n",
       "      <td>1.177072</td>\n",
       "      <td>1.164485</td>\n",
       "      <td>1.18654</td>\n",
       "      <td>1.165767</td>\n",
       "      <td>False</td>\n",
       "      <td>False</td>\n",
       "      <td>None</td>\n",
       "      <td>NaN</td>\n",
       "    </tr>\n",
       "    <tr>\n",
       "      <th>41038</th>\n",
       "      <td>2025-07-04 11:50:00</td>\n",
       "      <td>1.17740</td>\n",
       "      <td>1.17760</td>\n",
       "      <td>1.17726</td>\n",
       "      <td>1.17754</td>\n",
       "      <td>1.17562</td>\n",
       "      <td>1.17856</td>\n",
       "      <td>1.17502</td>\n",
       "      <td>1.17707</td>\n",
       "      <td>1.176153</td>\n",
       "      <td>...</td>\n",
       "      <td>1.176567</td>\n",
       "      <td>1.176567</td>\n",
       "      <td>1.177072</td>\n",
       "      <td>1.164485</td>\n",
       "      <td>1.18654</td>\n",
       "      <td>1.165767</td>\n",
       "      <td>False</td>\n",
       "      <td>False</td>\n",
       "      <td>None</td>\n",
       "      <td>NaN</td>\n",
       "    </tr>\n",
       "    <tr>\n",
       "      <th>41039</th>\n",
       "      <td>2025-07-04 11:55:00</td>\n",
       "      <td>1.17754</td>\n",
       "      <td>1.17764</td>\n",
       "      <td>1.17736</td>\n",
       "      <td>1.17746</td>\n",
       "      <td>1.17562</td>\n",
       "      <td>1.17856</td>\n",
       "      <td>1.17502</td>\n",
       "      <td>1.17707</td>\n",
       "      <td>1.176153</td>\n",
       "      <td>...</td>\n",
       "      <td>1.176567</td>\n",
       "      <td>1.176567</td>\n",
       "      <td>1.177072</td>\n",
       "      <td>1.164485</td>\n",
       "      <td>1.18654</td>\n",
       "      <td>1.165767</td>\n",
       "      <td>False</td>\n",
       "      <td>False</td>\n",
       "      <td>None</td>\n",
       "      <td>NaN</td>\n",
       "    </tr>\n",
       "    <tr>\n",
       "      <th>41040</th>\n",
       "      <td>2025-07-04 12:00:00</td>\n",
       "      <td>1.17746</td>\n",
       "      <td>1.17756</td>\n",
       "      <td>1.17730</td>\n",
       "      <td>1.17751</td>\n",
       "      <td>1.17562</td>\n",
       "      <td>1.17856</td>\n",
       "      <td>1.17502</td>\n",
       "      <td>1.17707</td>\n",
       "      <td>1.176153</td>\n",
       "      <td>...</td>\n",
       "      <td>1.176567</td>\n",
       "      <td>1.176567</td>\n",
       "      <td>1.177072</td>\n",
       "      <td>1.164485</td>\n",
       "      <td>1.18654</td>\n",
       "      <td>1.165767</td>\n",
       "      <td>False</td>\n",
       "      <td>False</td>\n",
       "      <td>None</td>\n",
       "      <td>NaN</td>\n",
       "    </tr>\n",
       "  </tbody>\n",
       "</table>\n",
       "<p>41041 rows × 27 columns</p>\n",
       "</div>"
      ],
      "text/plain": [
       "                     time     open     high      low    close  daily_open  \\\n",
       "0     2024-12-16 00:00:00  1.04850  1.04863  1.04797  1.04856     1.04850   \n",
       "1     2024-12-16 00:05:00  1.04856  1.04865  1.04854  1.04856     1.04850   \n",
       "2     2024-12-16 00:10:00  1.04856  1.04871  1.04853  1.04862     1.04850   \n",
       "3     2024-12-16 00:15:00  1.04862  1.04880  1.04857  1.04867     1.04850   \n",
       "4     2024-12-16 00:20:00  1.04871  1.04876  1.04857  1.04864     1.04850   \n",
       "...                   ...      ...      ...      ...      ...         ...   \n",
       "41036 2025-07-04 11:40:00  1.17735  1.17764  1.17714  1.17756     1.17562   \n",
       "41037 2025-07-04 11:45:00  1.17756  1.17760  1.17720  1.17740     1.17562   \n",
       "41038 2025-07-04 11:50:00  1.17740  1.17760  1.17726  1.17754     1.17562   \n",
       "41039 2025-07-04 11:55:00  1.17754  1.17764  1.17736  1.17746     1.17562   \n",
       "41040 2025-07-04 12:00:00  1.17746  1.17756  1.17730  1.17751     1.17562   \n",
       "\n",
       "       daily_high  daily_low  daily_close     pivot  ...     ohlc4    sma_11  \\\n",
       "0         1.05248    1.04746      1.05114       NaN  ...  1.049895  1.049895   \n",
       "1         1.05248    1.04746      1.05114       NaN  ...  1.049895  1.049895   \n",
       "2         1.05248    1.04746      1.05114       NaN  ...  1.049895  1.049895   \n",
       "3         1.05248    1.04746      1.05114       NaN  ...  1.049895  1.049895   \n",
       "4         1.05248    1.04746      1.05114       NaN  ...  1.049895  1.049895   \n",
       "...           ...        ...          ...       ...  ...       ...       ...   \n",
       "41036     1.17856    1.17502      1.17707  1.176153  ...  1.176567  1.176567   \n",
       "41037     1.17856    1.17502      1.17707  1.176153  ...  1.176567  1.176567   \n",
       "41038     1.17856    1.17502      1.17707  1.176153  ...  1.176567  1.176567   \n",
       "41039     1.17856    1.17502      1.17707  1.176153  ...  1.176567  1.176567   \n",
       "41040     1.17856    1.17502      1.17707  1.176153  ...  1.176567  1.176567   \n",
       "\n",
       "       prev_sma_11   sma_114  sell_stope_loss  buy_stope_loss  sell_profit  \\\n",
       "0              NaN       NaN              NaN             NaN        False   \n",
       "1              NaN       NaN              NaN             NaN        False   \n",
       "2              NaN       NaN              NaN             NaN        False   \n",
       "3              NaN       NaN              NaN             NaN        False   \n",
       "4              NaN       NaN              NaN             NaN        False   \n",
       "...            ...       ...              ...             ...          ...   \n",
       "41036     1.177072  1.164485          1.18654        1.165767        False   \n",
       "41037     1.177072  1.164485          1.18654        1.165767        False   \n",
       "41038     1.177072  1.164485          1.18654        1.165767        False   \n",
       "41039     1.177072  1.164485          1.18654        1.165767        False   \n",
       "41040     1.177072  1.164485          1.18654        1.165767        False   \n",
       "\n",
       "       buy_profit  signal  is_first_signal  \n",
       "0           False    None              NaN  \n",
       "1           False    None              NaN  \n",
       "2           False    None              NaN  \n",
       "3           False    None              NaN  \n",
       "4           False    None              NaN  \n",
       "...           ...     ...              ...  \n",
       "41036       False    None              NaN  \n",
       "41037       False    None              NaN  \n",
       "41038       False    None              NaN  \n",
       "41039       False    None              NaN  \n",
       "41040       False    None              NaN  \n",
       "\n",
       "[41041 rows x 27 columns]"
      ]
     },
     "execution_count": 126,
     "metadata": {},
     "output_type": "execute_result"
    }
   ],
   "source": [
    "print(merged_df.columns.tolist())\n",
    "merged_df\n"
   ]
  },
  {
   "cell_type": "code",
   "execution_count": 127,
   "metadata": {},
   "outputs": [],
   "source": [
    "# create trade logic\n",
    "def on_bar(data, trades, orders):\n",
    "    open_trades = trades[trades['state'] == 'open']\n",
    "    num_open_trades = open_trades.shape[0]\n",
    "    if 'signal' not in data:\n",
    "        print(\"Warning: 'signal' column is missing!\")\n",
    "        return\n",
    "    account_balance = 10000  # your account in USD\n",
    "    risk_percent = 0.20  # 2%\n",
    "    pip_value_per_lot = 10  # on EURUSD, 1 lot = $10 per pip\n",
    "    risk_amount = account_balance * risk_percent\n",
    "    # entry signal\n",
    "    if data['signal'] == 'buy' and not num_open_trades:\n",
    "        stop_loss_pips = data['S2'] - (data[\"S2\"] - ((data[\"R1\"] - data[\"S2\"]) /2)) # example SL\n",
    "        volume = risk_amount / (stop_loss_pips * pip_value_per_lot)\n",
    "        orders.open_trade(symbol, volume, 'buy')\n",
    "    \n",
    "    elif data['signal'] == 'sell' and not num_open_trades:\n",
    "        stop_loss_pips = ((data[\"R2\"] - data[\"S1\"]) /2 + data[\"R2\"]) - data[\"R2\"]\n",
    "        volume = risk_amount / (stop_loss_pips * pip_value_per_lot)\n",
    "        orders.open_trade(symbol, volume, 'sell')\n",
    "        \n",
    "# exit signal\n",
    "    if num_open_trades:\n",
    "        trade = open_trades.iloc[0]\n",
    "\n",
    "        if trade['order_type'] == 'buy' and ((data[\"low\"] <= data[\"S2\"] - ((data[\"R1\"] - data[\"S2\"]) /2))):\n",
    "                                            #or (data[\"high\"] >= data[\"R1\"])\n",
    "                                            #or (data['time'].time() == pd.to_datetime('23:00:00').time())):\n",
    "            orders.close_trade(trade)\n",
    "        elif trade['order_type'] == 'sell' and ((data[\"high\"] >= (data[\"R2\"] - data[\"S1\"]) /2 + data[\"R2\"])):\n",
    "                                            #or (data[\"low\"] <= data[\"S1\"])\n",
    "                                            #or (data['time'].time() == pd.to_datetime('23:00:00').time())):\n",
    "            orders.close_trade(trade)"
   ]
  },
  {
   "cell_type": "code",
   "execution_count": 128,
   "metadata": {},
   "outputs": [
    {
     "data": {
      "text/html": [
       "<div>\n",
       "<style scoped>\n",
       "    .dataframe tbody tr th:only-of-type {\n",
       "        vertical-align: middle;\n",
       "    }\n",
       "\n",
       "    .dataframe tbody tr th {\n",
       "        vertical-align: top;\n",
       "    }\n",
       "\n",
       "    .dataframe thead th {\n",
       "        text-align: right;\n",
       "    }\n",
       "</style>\n",
       "<table border=\"1\" class=\"dataframe\">\n",
       "  <thead>\n",
       "    <tr style=\"text-align: right;\">\n",
       "      <th></th>\n",
       "      <th>state</th>\n",
       "      <th>symbol</th>\n",
       "      <th>order_type</th>\n",
       "      <th>volume</th>\n",
       "      <th>open_time</th>\n",
       "      <th>open_price</th>\n",
       "      <th>close_time</th>\n",
       "      <th>close_price</th>\n",
       "      <th>sl</th>\n",
       "      <th>tp</th>\n",
       "      <th>info</th>\n",
       "      <th>profit</th>\n",
       "      <th>commission</th>\n",
       "      <th>profit_net</th>\n",
       "      <th>profit_cumulative</th>\n",
       "      <th>balance</th>\n",
       "    </tr>\n",
       "  </thead>\n",
       "  <tbody>\n",
       "    <tr>\n",
       "      <th>0</th>\n",
       "      <td>closed</td>\n",
       "      <td>EURUSD</td>\n",
       "      <td>sell</td>\n",
       "      <td>70175.438596</td>\n",
       "      <td>2025-01-06 09:30:00</td>\n",
       "      <td>1.03191</td>\n",
       "      <td>2025-01-06 11:00:00</td>\n",
       "      <td>1.03503</td>\n",
       "      <td>0</td>\n",
       "      <td>0</td>\n",
       "      <td>{}</td>\n",
       "      <td>-218.95</td>\n",
       "      <td>-4.912281</td>\n",
       "      <td>-223.862281</td>\n",
       "      <td>-223.862281</td>\n",
       "      <td>9776.137719</td>\n",
       "    </tr>\n",
       "    <tr>\n",
       "      <th>1</th>\n",
       "      <td>closed</td>\n",
       "      <td>EURUSD</td>\n",
       "      <td>sell</td>\n",
       "      <td>55096.418733</td>\n",
       "      <td>2025-01-14 00:50:00</td>\n",
       "      <td>1.02647</td>\n",
       "      <td>2025-01-14 21:35:00</td>\n",
       "      <td>1.03025</td>\n",
       "      <td>0</td>\n",
       "      <td>0</td>\n",
       "      <td>{}</td>\n",
       "      <td>-208.26</td>\n",
       "      <td>-3.856749</td>\n",
       "      <td>-212.116749</td>\n",
       "      <td>-435.97903</td>\n",
       "      <td>9564.02097</td>\n",
       "    </tr>\n",
       "    <tr>\n",
       "      <th>2</th>\n",
       "      <td>closed</td>\n",
       "      <td>EURUSD</td>\n",
       "      <td>sell</td>\n",
       "      <td>56737.588652</td>\n",
       "      <td>2025-01-15 15:30:00</td>\n",
       "      <td>1.03007</td>\n",
       "      <td>2025-01-20 15:30:00</td>\n",
       "      <td>1.03139</td>\n",
       "      <td>0</td>\n",
       "      <td>0</td>\n",
       "      <td>{}</td>\n",
       "      <td>-74.89</td>\n",
       "      <td>-3.971631</td>\n",
       "      <td>-78.861631</td>\n",
       "      <td>-514.840661</td>\n",
       "      <td>9485.159339</td>\n",
       "    </tr>\n",
       "    <tr>\n",
       "      <th>3</th>\n",
       "      <td>closed</td>\n",
       "      <td>EURUSD</td>\n",
       "      <td>buy</td>\n",
       "      <td>61633.281972</td>\n",
       "      <td>2025-01-23 18:10:00</td>\n",
       "      <td>1.03964</td>\n",
       "      <td>2025-02-03 00:00:00</td>\n",
       "      <td>1.02357</td>\n",
       "      <td>0</td>\n",
       "      <td>0</td>\n",
       "      <td>{}</td>\n",
       "      <td>-990.45</td>\n",
       "      <td>-4.31433</td>\n",
       "      <td>-994.76433</td>\n",
       "      <td>-1509.604991</td>\n",
       "      <td>8490.395009</td>\n",
       "    </tr>\n",
       "    <tr>\n",
       "      <th>4</th>\n",
       "      <td>closed</td>\n",
       "      <td>EURUSD</td>\n",
       "      <td>sell</td>\n",
       "      <td>28735.632184</td>\n",
       "      <td>2025-02-04 18:45:00</td>\n",
       "      <td>1.03823</td>\n",
       "      <td>2025-02-11 21:40:00</td>\n",
       "      <td>1.03623</td>\n",
       "      <td>0</td>\n",
       "      <td>0</td>\n",
       "      <td>{}</td>\n",
       "      <td>57.47</td>\n",
       "      <td>-2.011494</td>\n",
       "      <td>55.458506</td>\n",
       "      <td>-1454.146485</td>\n",
       "      <td>8545.853515</td>\n",
       "    </tr>\n",
       "    <tr>\n",
       "      <th>5</th>\n",
       "      <td>closed</td>\n",
       "      <td>EURUSD</td>\n",
       "      <td>sell</td>\n",
       "      <td>44792.833147</td>\n",
       "      <td>2025-02-12 19:00:00</td>\n",
       "      <td>1.03914</td>\n",
       "      <td>2025-02-20 20:15:00</td>\n",
       "      <td>1.04949</td>\n",
       "      <td>0</td>\n",
       "      <td>0</td>\n",
       "      <td>{}</td>\n",
       "      <td>-463.61</td>\n",
       "      <td>-3.135498</td>\n",
       "      <td>-466.745498</td>\n",
       "      <td>-1920.891984</td>\n",
       "      <td>8079.108016</td>\n",
       "    </tr>\n",
       "    <tr>\n",
       "      <th>6</th>\n",
       "      <td>closed</td>\n",
       "      <td>EURUSD</td>\n",
       "      <td>buy</td>\n",
       "      <td>74487.895717</td>\n",
       "      <td>2025-02-27 06:30:00</td>\n",
       "      <td>1.04657</td>\n",
       "      <td>2025-02-27 15:50:00</td>\n",
       "      <td>1.0446</td>\n",
       "      <td>0</td>\n",
       "      <td>0</td>\n",
       "      <td>{}</td>\n",
       "      <td>-146.74</td>\n",
       "      <td>-5.214153</td>\n",
       "      <td>-151.954153</td>\n",
       "      <td>-2072.846136</td>\n",
       "      <td>7927.153864</td>\n",
       "    </tr>\n",
       "    <tr>\n",
       "      <th>7</th>\n",
       "      <td>closed</td>\n",
       "      <td>EURUSD</td>\n",
       "      <td>sell</td>\n",
       "      <td>66666.666667</td>\n",
       "      <td>2025-03-03 03:10:00</td>\n",
       "      <td>1.04202</td>\n",
       "      <td>2025-03-03 13:30:00</td>\n",
       "      <td>1.04504</td>\n",
       "      <td>0</td>\n",
       "      <td>0</td>\n",
       "      <td>{}</td>\n",
       "      <td>-201.33</td>\n",
       "      <td>-4.666667</td>\n",
       "      <td>-205.996667</td>\n",
       "      <td>-2278.842803</td>\n",
       "      <td>7721.157197</td>\n",
       "    </tr>\n",
       "    <tr>\n",
       "      <th>8</th>\n",
       "      <td>closed</td>\n",
       "      <td>EURUSD</td>\n",
       "      <td>sell</td>\n",
       "      <td>34752.389227</td>\n",
       "      <td>2025-03-04 13:50:00</td>\n",
       "      <td>1.05266</td>\n",
       "      <td>2025-03-04 20:55:00</td>\n",
       "      <td>1.0587</td>\n",
       "      <td>0</td>\n",
       "      <td>0</td>\n",
       "      <td>{}</td>\n",
       "      <td>-209.90</td>\n",
       "      <td>-2.432667</td>\n",
       "      <td>-212.332667</td>\n",
       "      <td>-2491.17547</td>\n",
       "      <td>7508.82453</td>\n",
       "    </tr>\n",
       "    <tr>\n",
       "      <th>9</th>\n",
       "      <td>closed</td>\n",
       "      <td>EURUSD</td>\n",
       "      <td>buy</td>\n",
       "      <td>73529.411765</td>\n",
       "      <td>2025-03-13 10:35:00</td>\n",
       "      <td>1.08682</td>\n",
       "      <td>2025-03-13 15:45:00</td>\n",
       "      <td>1.0839</td>\n",
       "      <td>0</td>\n",
       "      <td>0</td>\n",
       "      <td>{}</td>\n",
       "      <td>-214.71</td>\n",
       "      <td>-5.147059</td>\n",
       "      <td>-219.857059</td>\n",
       "      <td>-2711.032529</td>\n",
       "      <td>7288.967471</td>\n",
       "    </tr>\n",
       "    <tr>\n",
       "      <th>10</th>\n",
       "      <td>closed</td>\n",
       "      <td>EURUSD</td>\n",
       "      <td>buy</td>\n",
       "      <td>64308.681672</td>\n",
       "      <td>2025-03-19 10:35:00</td>\n",
       "      <td>1.09024</td>\n",
       "      <td>2025-03-19 20:35:00</td>\n",
       "      <td>1.08654</td>\n",
       "      <td>0</td>\n",
       "      <td>0</td>\n",
       "      <td>{}</td>\n",
       "      <td>-237.94</td>\n",
       "      <td>-4.501608</td>\n",
       "      <td>-242.441608</td>\n",
       "      <td>-2953.474137</td>\n",
       "      <td>7046.525863</td>\n",
       "    </tr>\n",
       "    <tr>\n",
       "      <th>11</th>\n",
       "      <td>closed</td>\n",
       "      <td>EURUSD</td>\n",
       "      <td>buy</td>\n",
       "      <td>46783.625731</td>\n",
       "      <td>2025-03-20 12:20:00</td>\n",
       "      <td>1.08543</td>\n",
       "      <td>2025-04-23 01:25:00</td>\n",
       "      <td>1.13409</td>\n",
       "      <td>0</td>\n",
       "      <td>0</td>\n",
       "      <td>{}</td>\n",
       "      <td>2276.49</td>\n",
       "      <td>-3.274854</td>\n",
       "      <td>2273.215146</td>\n",
       "      <td>-680.25899</td>\n",
       "      <td>9319.74101</td>\n",
       "    </tr>\n",
       "    <tr>\n",
       "      <th>12</th>\n",
       "      <td>closed</td>\n",
       "      <td>EURUSD</td>\n",
       "      <td>buy</td>\n",
       "      <td>77519.379845</td>\n",
       "      <td>2025-04-30 04:55:00</td>\n",
       "      <td>1.13684</td>\n",
       "      <td>2025-04-30 18:25:00</td>\n",
       "      <td>1.13459</td>\n",
       "      <td>0</td>\n",
       "      <td>0</td>\n",
       "      <td>{}</td>\n",
       "      <td>-174.42</td>\n",
       "      <td>-5.426357</td>\n",
       "      <td>-179.846357</td>\n",
       "      <td>-860.105347</td>\n",
       "      <td>9139.894653</td>\n",
       "    </tr>\n",
       "    <tr>\n",
       "      <th>13</th>\n",
       "      <td>closed</td>\n",
       "      <td>EURUSD</td>\n",
       "      <td>sell</td>\n",
       "      <td>53191.489362</td>\n",
       "      <td>2025-05-02 12:35:00</td>\n",
       "      <td>1.13388</td>\n",
       "      <td>2025-05-19 12:05:00</td>\n",
       "      <td>1.12631</td>\n",
       "      <td>0</td>\n",
       "      <td>0</td>\n",
       "      <td>{}</td>\n",
       "      <td>402.66</td>\n",
       "      <td>-3.723404</td>\n",
       "      <td>398.936596</td>\n",
       "      <td>-461.168751</td>\n",
       "      <td>9538.831249</td>\n",
       "    </tr>\n",
       "    <tr>\n",
       "      <th>14</th>\n",
       "      <td>closed</td>\n",
       "      <td>EURUSD</td>\n",
       "      <td>buy</td>\n",
       "      <td>48134.777377</td>\n",
       "      <td>2025-05-22 18:05:00</td>\n",
       "      <td>1.12812</td>\n",
       "      <td>2025-05-29 02:35:00</td>\n",
       "      <td>1.12614</td>\n",
       "      <td>0</td>\n",
       "      <td>0</td>\n",
       "      <td>{}</td>\n",
       "      <td>-95.31</td>\n",
       "      <td>-3.369434</td>\n",
       "      <td>-98.679434</td>\n",
       "      <td>-559.848186</td>\n",
       "      <td>9440.151814</td>\n",
       "    </tr>\n",
       "    <tr>\n",
       "      <th>15</th>\n",
       "      <td>closed</td>\n",
       "      <td>EURUSD</td>\n",
       "      <td>buy</td>\n",
       "      <td>44198.895028</td>\n",
       "      <td>2025-06-06 15:30:00</td>\n",
       "      <td>1.1407</td>\n",
       "      <td>2025-06-23 00:00:00</td>\n",
       "      <td>1.14562</td>\n",
       "      <td>0</td>\n",
       "      <td>0</td>\n",
       "      <td>{}</td>\n",
       "      <td>217.46</td>\n",
       "      <td>-3.093923</td>\n",
       "      <td>214.366077</td>\n",
       "      <td>-345.482108</td>\n",
       "      <td>9654.517892</td>\n",
       "    </tr>\n",
       "    <tr>\n",
       "      <th>16</th>\n",
       "      <td>closed</td>\n",
       "      <td>EURUSD</td>\n",
       "      <td>buy</td>\n",
       "      <td>58565.153734</td>\n",
       "      <td>2025-07-02 14:35:00</td>\n",
       "      <td>1.17575</td>\n",
       "      <td>2025-07-04 12:00:00</td>\n",
       "      <td>1.17751</td>\n",
       "      <td>0</td>\n",
       "      <td>0</td>\n",
       "      <td>{}</td>\n",
       "      <td>103.07</td>\n",
       "      <td>-4.099561</td>\n",
       "      <td>98.970439</td>\n",
       "      <td>-246.511669</td>\n",
       "      <td>9753.488331</td>\n",
       "    </tr>\n",
       "  </tbody>\n",
       "</table>\n",
       "</div>"
      ],
      "text/plain": [
       "     state  symbol order_type        volume            open_time open_price  \\\n",
       "0   closed  EURUSD       sell  70175.438596  2025-01-06 09:30:00    1.03191   \n",
       "1   closed  EURUSD       sell  55096.418733  2025-01-14 00:50:00    1.02647   \n",
       "2   closed  EURUSD       sell  56737.588652  2025-01-15 15:30:00    1.03007   \n",
       "3   closed  EURUSD        buy  61633.281972  2025-01-23 18:10:00    1.03964   \n",
       "4   closed  EURUSD       sell  28735.632184  2025-02-04 18:45:00    1.03823   \n",
       "5   closed  EURUSD       sell  44792.833147  2025-02-12 19:00:00    1.03914   \n",
       "6   closed  EURUSD        buy  74487.895717  2025-02-27 06:30:00    1.04657   \n",
       "7   closed  EURUSD       sell  66666.666667  2025-03-03 03:10:00    1.04202   \n",
       "8   closed  EURUSD       sell  34752.389227  2025-03-04 13:50:00    1.05266   \n",
       "9   closed  EURUSD        buy  73529.411765  2025-03-13 10:35:00    1.08682   \n",
       "10  closed  EURUSD        buy  64308.681672  2025-03-19 10:35:00    1.09024   \n",
       "11  closed  EURUSD        buy  46783.625731  2025-03-20 12:20:00    1.08543   \n",
       "12  closed  EURUSD        buy  77519.379845  2025-04-30 04:55:00    1.13684   \n",
       "13  closed  EURUSD       sell  53191.489362  2025-05-02 12:35:00    1.13388   \n",
       "14  closed  EURUSD        buy  48134.777377  2025-05-22 18:05:00    1.12812   \n",
       "15  closed  EURUSD        buy  44198.895028  2025-06-06 15:30:00     1.1407   \n",
       "16  closed  EURUSD        buy  58565.153734  2025-07-02 14:35:00    1.17575   \n",
       "\n",
       "             close_time close_price sl tp info   profit commission  \\\n",
       "0   2025-01-06 11:00:00     1.03503  0  0   {}  -218.95  -4.912281   \n",
       "1   2025-01-14 21:35:00     1.03025  0  0   {}  -208.26  -3.856749   \n",
       "2   2025-01-20 15:30:00     1.03139  0  0   {}   -74.89  -3.971631   \n",
       "3   2025-02-03 00:00:00     1.02357  0  0   {}  -990.45   -4.31433   \n",
       "4   2025-02-11 21:40:00     1.03623  0  0   {}    57.47  -2.011494   \n",
       "5   2025-02-20 20:15:00     1.04949  0  0   {}  -463.61  -3.135498   \n",
       "6   2025-02-27 15:50:00      1.0446  0  0   {}  -146.74  -5.214153   \n",
       "7   2025-03-03 13:30:00     1.04504  0  0   {}  -201.33  -4.666667   \n",
       "8   2025-03-04 20:55:00      1.0587  0  0   {}  -209.90  -2.432667   \n",
       "9   2025-03-13 15:45:00      1.0839  0  0   {}  -214.71  -5.147059   \n",
       "10  2025-03-19 20:35:00     1.08654  0  0   {}  -237.94  -4.501608   \n",
       "11  2025-04-23 01:25:00     1.13409  0  0   {}  2276.49  -3.274854   \n",
       "12  2025-04-30 18:25:00     1.13459  0  0   {}  -174.42  -5.426357   \n",
       "13  2025-05-19 12:05:00     1.12631  0  0   {}   402.66  -3.723404   \n",
       "14  2025-05-29 02:35:00     1.12614  0  0   {}   -95.31  -3.369434   \n",
       "15  2025-06-23 00:00:00     1.14562  0  0   {}   217.46  -3.093923   \n",
       "16  2025-07-04 12:00:00     1.17751  0  0   {}   103.07  -4.099561   \n",
       "\n",
       "     profit_net profit_cumulative      balance  \n",
       "0   -223.862281       -223.862281  9776.137719  \n",
       "1   -212.116749        -435.97903   9564.02097  \n",
       "2    -78.861631       -514.840661  9485.159339  \n",
       "3    -994.76433      -1509.604991  8490.395009  \n",
       "4     55.458506      -1454.146485  8545.853515  \n",
       "5   -466.745498      -1920.891984  8079.108016  \n",
       "6   -151.954153      -2072.846136  7927.153864  \n",
       "7   -205.996667      -2278.842803  7721.157197  \n",
       "8   -212.332667       -2491.17547   7508.82453  \n",
       "9   -219.857059      -2711.032529  7288.967471  \n",
       "10  -242.441608      -2953.474137  7046.525863  \n",
       "11  2273.215146        -680.25899   9319.74101  \n",
       "12  -179.846357       -860.105347  9139.894653  \n",
       "13   398.936596       -461.168751  9538.831249  \n",
       "14   -98.679434       -559.848186  9440.151814  \n",
       "15   214.366077       -345.482108  9654.517892  \n",
       "16    98.970439       -246.511669  9753.488331  "
      ]
     },
     "execution_count": 128,
     "metadata": {},
     "output_type": "execute_result"
    }
   ],
   "source": [
    "# backtest parameters\n",
    "starting_balance = 10000\n",
    "currency = 'USD'\n",
    "exchange_rate = 1\n",
    "commission = -7 / 100000\n",
    "\n",
    "# backtest\n",
    "bt = Backtester()\n",
    "bt.set_starting_balance(starting_balance, currency=currency)\n",
    "bt.set_exchange_rate(exchange_rate)\n",
    "bt.set_commission(commission)\n",
    "\n",
    "bt.set_historical_data(merged_df)\n",
    "bt.set_on_bar(on_bar)\n",
    "\n",
    "bt.run_backtest()\n",
    "\n",
    "bt.trades"
   ]
  },
  {
   "cell_type": "code",
   "execution_count": 129,
   "metadata": {},
   "outputs": [
    {
     "data": {
      "application/vnd.plotly.v1+json": {
       "config": {
        "plotlyServerURL": "https://plot.ly"
       },
       "data": [
        {
         "hovertemplate": "close_time=%{x}<br>balance=%{y}<extra></extra>",
         "legendgroup": "",
         "line": {
          "color": "#636efa",
          "dash": "solid"
         },
         "marker": {
          "symbol": "circle"
         },
         "mode": "lines",
         "name": "",
         "orientation": "v",
         "showlegend": false,
         "type": "scatter",
         "x": [
          "2025-01-06T11:00:00",
          "2025-01-14T21:35:00",
          "2025-01-20T15:30:00",
          "2025-02-03T00:00:00",
          "2025-02-11T21:40:00",
          "2025-02-20T20:15:00",
          "2025-02-27T15:50:00",
          "2025-03-03T13:30:00",
          "2025-03-04T20:55:00",
          "2025-03-13T15:45:00",
          "2025-03-19T20:35:00",
          "2025-04-23T01:25:00",
          "2025-04-30T18:25:00",
          "2025-05-19T12:05:00",
          "2025-05-29T02:35:00",
          "2025-06-23T00:00:00",
          "2025-07-04T12:00:00"
         ],
         "xaxis": "x",
         "y": [
          9776.137719298245,
          9564.02096998695,
          9485.159338781277,
          8490.395009043219,
          8545.853514790346,
          8079.108016470076,
          7927.15386376989,
          7721.1571971032245,
          7508.824529857351,
          7288.967471033822,
          7046.52586331678,
          9319.74100951561,
          9139.894652926463,
          9538.831248671144,
          9440.151814254777,
          9654.517891602844,
          9753.488330841497
         ],
         "yaxis": "y"
        }
       ],
       "layout": {
        "legend": {
         "tracegroupgap": 0
        },
        "template": {
         "data": {
          "bar": [
           {
            "error_x": {
             "color": "#f2f5fa"
            },
            "error_y": {
             "color": "#f2f5fa"
            },
            "marker": {
             "line": {
              "color": "rgb(17,17,17)",
              "width": 0.5
             },
             "pattern": {
              "fillmode": "overlay",
              "size": 10,
              "solidity": 0.2
             }
            },
            "type": "bar"
           }
          ],
          "barpolar": [
           {
            "marker": {
             "line": {
              "color": "rgb(17,17,17)",
              "width": 0.5
             },
             "pattern": {
              "fillmode": "overlay",
              "size": 10,
              "solidity": 0.2
             }
            },
            "type": "barpolar"
           }
          ],
          "carpet": [
           {
            "aaxis": {
             "endlinecolor": "#A2B1C6",
             "gridcolor": "#506784",
             "linecolor": "#506784",
             "minorgridcolor": "#506784",
             "startlinecolor": "#A2B1C6"
            },
            "baxis": {
             "endlinecolor": "#A2B1C6",
             "gridcolor": "#506784",
             "linecolor": "#506784",
             "minorgridcolor": "#506784",
             "startlinecolor": "#A2B1C6"
            },
            "type": "carpet"
           }
          ],
          "choropleth": [
           {
            "colorbar": {
             "outlinewidth": 0,
             "ticks": ""
            },
            "type": "choropleth"
           }
          ],
          "contour": [
           {
            "colorbar": {
             "outlinewidth": 0,
             "ticks": ""
            },
            "colorscale": [
             [
              0,
              "#0d0887"
             ],
             [
              0.1111111111111111,
              "#46039f"
             ],
             [
              0.2222222222222222,
              "#7201a8"
             ],
             [
              0.3333333333333333,
              "#9c179e"
             ],
             [
              0.4444444444444444,
              "#bd3786"
             ],
             [
              0.5555555555555556,
              "#d8576b"
             ],
             [
              0.6666666666666666,
              "#ed7953"
             ],
             [
              0.7777777777777778,
              "#fb9f3a"
             ],
             [
              0.8888888888888888,
              "#fdca26"
             ],
             [
              1,
              "#f0f921"
             ]
            ],
            "type": "contour"
           }
          ],
          "contourcarpet": [
           {
            "colorbar": {
             "outlinewidth": 0,
             "ticks": ""
            },
            "type": "contourcarpet"
           }
          ],
          "heatmap": [
           {
            "colorbar": {
             "outlinewidth": 0,
             "ticks": ""
            },
            "colorscale": [
             [
              0,
              "#0d0887"
             ],
             [
              0.1111111111111111,
              "#46039f"
             ],
             [
              0.2222222222222222,
              "#7201a8"
             ],
             [
              0.3333333333333333,
              "#9c179e"
             ],
             [
              0.4444444444444444,
              "#bd3786"
             ],
             [
              0.5555555555555556,
              "#d8576b"
             ],
             [
              0.6666666666666666,
              "#ed7953"
             ],
             [
              0.7777777777777778,
              "#fb9f3a"
             ],
             [
              0.8888888888888888,
              "#fdca26"
             ],
             [
              1,
              "#f0f921"
             ]
            ],
            "type": "heatmap"
           }
          ],
          "histogram": [
           {
            "marker": {
             "pattern": {
              "fillmode": "overlay",
              "size": 10,
              "solidity": 0.2
             }
            },
            "type": "histogram"
           }
          ],
          "histogram2d": [
           {
            "colorbar": {
             "outlinewidth": 0,
             "ticks": ""
            },
            "colorscale": [
             [
              0,
              "#0d0887"
             ],
             [
              0.1111111111111111,
              "#46039f"
             ],
             [
              0.2222222222222222,
              "#7201a8"
             ],
             [
              0.3333333333333333,
              "#9c179e"
             ],
             [
              0.4444444444444444,
              "#bd3786"
             ],
             [
              0.5555555555555556,
              "#d8576b"
             ],
             [
              0.6666666666666666,
              "#ed7953"
             ],
             [
              0.7777777777777778,
              "#fb9f3a"
             ],
             [
              0.8888888888888888,
              "#fdca26"
             ],
             [
              1,
              "#f0f921"
             ]
            ],
            "type": "histogram2d"
           }
          ],
          "histogram2dcontour": [
           {
            "colorbar": {
             "outlinewidth": 0,
             "ticks": ""
            },
            "colorscale": [
             [
              0,
              "#0d0887"
             ],
             [
              0.1111111111111111,
              "#46039f"
             ],
             [
              0.2222222222222222,
              "#7201a8"
             ],
             [
              0.3333333333333333,
              "#9c179e"
             ],
             [
              0.4444444444444444,
              "#bd3786"
             ],
             [
              0.5555555555555556,
              "#d8576b"
             ],
             [
              0.6666666666666666,
              "#ed7953"
             ],
             [
              0.7777777777777778,
              "#fb9f3a"
             ],
             [
              0.8888888888888888,
              "#fdca26"
             ],
             [
              1,
              "#f0f921"
             ]
            ],
            "type": "histogram2dcontour"
           }
          ],
          "mesh3d": [
           {
            "colorbar": {
             "outlinewidth": 0,
             "ticks": ""
            },
            "type": "mesh3d"
           }
          ],
          "parcoords": [
           {
            "line": {
             "colorbar": {
              "outlinewidth": 0,
              "ticks": ""
             }
            },
            "type": "parcoords"
           }
          ],
          "pie": [
           {
            "automargin": true,
            "type": "pie"
           }
          ],
          "scatter": [
           {
            "marker": {
             "line": {
              "color": "#283442"
             }
            },
            "type": "scatter"
           }
          ],
          "scatter3d": [
           {
            "line": {
             "colorbar": {
              "outlinewidth": 0,
              "ticks": ""
             }
            },
            "marker": {
             "colorbar": {
              "outlinewidth": 0,
              "ticks": ""
             }
            },
            "type": "scatter3d"
           }
          ],
          "scattercarpet": [
           {
            "marker": {
             "colorbar": {
              "outlinewidth": 0,
              "ticks": ""
             }
            },
            "type": "scattercarpet"
           }
          ],
          "scattergeo": [
           {
            "marker": {
             "colorbar": {
              "outlinewidth": 0,
              "ticks": ""
             }
            },
            "type": "scattergeo"
           }
          ],
          "scattergl": [
           {
            "marker": {
             "line": {
              "color": "#283442"
             }
            },
            "type": "scattergl"
           }
          ],
          "scattermap": [
           {
            "marker": {
             "colorbar": {
              "outlinewidth": 0,
              "ticks": ""
             }
            },
            "type": "scattermap"
           }
          ],
          "scattermapbox": [
           {
            "marker": {
             "colorbar": {
              "outlinewidth": 0,
              "ticks": ""
             }
            },
            "type": "scattermapbox"
           }
          ],
          "scatterpolar": [
           {
            "marker": {
             "colorbar": {
              "outlinewidth": 0,
              "ticks": ""
             }
            },
            "type": "scatterpolar"
           }
          ],
          "scatterpolargl": [
           {
            "marker": {
             "colorbar": {
              "outlinewidth": 0,
              "ticks": ""
             }
            },
            "type": "scatterpolargl"
           }
          ],
          "scatterternary": [
           {
            "marker": {
             "colorbar": {
              "outlinewidth": 0,
              "ticks": ""
             }
            },
            "type": "scatterternary"
           }
          ],
          "surface": [
           {
            "colorbar": {
             "outlinewidth": 0,
             "ticks": ""
            },
            "colorscale": [
             [
              0,
              "#0d0887"
             ],
             [
              0.1111111111111111,
              "#46039f"
             ],
             [
              0.2222222222222222,
              "#7201a8"
             ],
             [
              0.3333333333333333,
              "#9c179e"
             ],
             [
              0.4444444444444444,
              "#bd3786"
             ],
             [
              0.5555555555555556,
              "#d8576b"
             ],
             [
              0.6666666666666666,
              "#ed7953"
             ],
             [
              0.7777777777777778,
              "#fb9f3a"
             ],
             [
              0.8888888888888888,
              "#fdca26"
             ],
             [
              1,
              "#f0f921"
             ]
            ],
            "type": "surface"
           }
          ],
          "table": [
           {
            "cells": {
             "fill": {
              "color": "#506784"
             },
             "line": {
              "color": "rgb(17,17,17)"
             }
            },
            "header": {
             "fill": {
              "color": "#2a3f5f"
             },
             "line": {
              "color": "rgb(17,17,17)"
             }
            },
            "type": "table"
           }
          ]
         },
         "layout": {
          "annotationdefaults": {
           "arrowcolor": "#f2f5fa",
           "arrowhead": 0,
           "arrowwidth": 1
          },
          "autotypenumbers": "strict",
          "coloraxis": {
           "colorbar": {
            "outlinewidth": 0,
            "ticks": ""
           }
          },
          "colorscale": {
           "diverging": [
            [
             0,
             "#8e0152"
            ],
            [
             0.1,
             "#c51b7d"
            ],
            [
             0.2,
             "#de77ae"
            ],
            [
             0.3,
             "#f1b6da"
            ],
            [
             0.4,
             "#fde0ef"
            ],
            [
             0.5,
             "#f7f7f7"
            ],
            [
             0.6,
             "#e6f5d0"
            ],
            [
             0.7,
             "#b8e186"
            ],
            [
             0.8,
             "#7fbc41"
            ],
            [
             0.9,
             "#4d9221"
            ],
            [
             1,
             "#276419"
            ]
           ],
           "sequential": [
            [
             0,
             "#0d0887"
            ],
            [
             0.1111111111111111,
             "#46039f"
            ],
            [
             0.2222222222222222,
             "#7201a8"
            ],
            [
             0.3333333333333333,
             "#9c179e"
            ],
            [
             0.4444444444444444,
             "#bd3786"
            ],
            [
             0.5555555555555556,
             "#d8576b"
            ],
            [
             0.6666666666666666,
             "#ed7953"
            ],
            [
             0.7777777777777778,
             "#fb9f3a"
            ],
            [
             0.8888888888888888,
             "#fdca26"
            ],
            [
             1,
             "#f0f921"
            ]
           ],
           "sequentialminus": [
            [
             0,
             "#0d0887"
            ],
            [
             0.1111111111111111,
             "#46039f"
            ],
            [
             0.2222222222222222,
             "#7201a8"
            ],
            [
             0.3333333333333333,
             "#9c179e"
            ],
            [
             0.4444444444444444,
             "#bd3786"
            ],
            [
             0.5555555555555556,
             "#d8576b"
            ],
            [
             0.6666666666666666,
             "#ed7953"
            ],
            [
             0.7777777777777778,
             "#fb9f3a"
            ],
            [
             0.8888888888888888,
             "#fdca26"
            ],
            [
             1,
             "#f0f921"
            ]
           ]
          },
          "colorway": [
           "#636efa",
           "#EF553B",
           "#00cc96",
           "#ab63fa",
           "#FFA15A",
           "#19d3f3",
           "#FF6692",
           "#B6E880",
           "#FF97FF",
           "#FECB52"
          ],
          "font": {
           "color": "#f2f5fa"
          },
          "geo": {
           "bgcolor": "rgb(17,17,17)",
           "lakecolor": "rgb(17,17,17)",
           "landcolor": "rgb(17,17,17)",
           "showlakes": true,
           "showland": true,
           "subunitcolor": "#506784"
          },
          "hoverlabel": {
           "align": "left"
          },
          "hovermode": "closest",
          "mapbox": {
           "style": "dark"
          },
          "paper_bgcolor": "rgb(17,17,17)",
          "plot_bgcolor": "rgb(17,17,17)",
          "polar": {
           "angularaxis": {
            "gridcolor": "#506784",
            "linecolor": "#506784",
            "ticks": ""
           },
           "bgcolor": "rgb(17,17,17)",
           "radialaxis": {
            "gridcolor": "#506784",
            "linecolor": "#506784",
            "ticks": ""
           }
          },
          "scene": {
           "xaxis": {
            "backgroundcolor": "rgb(17,17,17)",
            "gridcolor": "#506784",
            "gridwidth": 2,
            "linecolor": "#506784",
            "showbackground": true,
            "ticks": "",
            "zerolinecolor": "#C8D4E3"
           },
           "yaxis": {
            "backgroundcolor": "rgb(17,17,17)",
            "gridcolor": "#506784",
            "gridwidth": 2,
            "linecolor": "#506784",
            "showbackground": true,
            "ticks": "",
            "zerolinecolor": "#C8D4E3"
           },
           "zaxis": {
            "backgroundcolor": "rgb(17,17,17)",
            "gridcolor": "#506784",
            "gridwidth": 2,
            "linecolor": "#506784",
            "showbackground": true,
            "ticks": "",
            "zerolinecolor": "#C8D4E3"
           }
          },
          "shapedefaults": {
           "line": {
            "color": "#f2f5fa"
           }
          },
          "sliderdefaults": {
           "bgcolor": "#C8D4E3",
           "bordercolor": "rgb(17,17,17)",
           "borderwidth": 1,
           "tickwidth": 0
          },
          "ternary": {
           "aaxis": {
            "gridcolor": "#506784",
            "linecolor": "#506784",
            "ticks": ""
           },
           "baxis": {
            "gridcolor": "#506784",
            "linecolor": "#506784",
            "ticks": ""
           },
           "bgcolor": "rgb(17,17,17)",
           "caxis": {
            "gridcolor": "#506784",
            "linecolor": "#506784",
            "ticks": ""
           }
          },
          "title": {
           "x": 0.05
          },
          "updatemenudefaults": {
           "bgcolor": "#506784",
           "borderwidth": 0
          },
          "xaxis": {
           "automargin": true,
           "gridcolor": "#283442",
           "linecolor": "#506784",
           "ticks": "",
           "title": {
            "standoff": 15
           },
           "zerolinecolor": "#283442",
           "zerolinewidth": 2
          },
          "yaxis": {
           "automargin": true,
           "gridcolor": "#283442",
           "linecolor": "#506784",
           "ticks": "",
           "title": {
            "standoff": 15
           },
           "zerolinecolor": "#283442",
           "zerolinewidth": 2
          }
         }
        },
        "title": {
         "text": "Balance Graph"
        },
        "xaxis": {
         "anchor": "y",
         "domain": [
          0,
          1
         ],
         "title": {
          "text": "close_time"
         }
        },
        "yaxis": {
         "anchor": "x",
         "domain": [
          0,
          1
         ],
         "title": {
          "text": "balance"
         }
        }
       }
      }
     },
     "metadata": {},
     "output_type": "display_data"
    }
   ],
   "source": [
    "mm = bt.plot_balance()\n",
    "display(mm)"
   ]
  },
  {
   "cell_type": "code",
   "execution_count": 130,
   "metadata": {},
   "outputs": [
    {
     "data": {
      "application/vnd.plotly.v1+json": {
       "config": {
        "plotlyServerURL": "https://plot.ly"
       },
       "data": [
        {
         "hovertemplate": "open_time=%{x}<br>profit_cumulative=%{y}<extra></extra>",
         "legendgroup": "",
         "line": {
          "color": "#636efa",
          "dash": "solid"
         },
         "marker": {
          "symbol": "circle"
         },
         "mode": "lines",
         "name": "",
         "orientation": "v",
         "showlegend": false,
         "type": "scatter",
         "x": [
          "2025-01-06T09:30:00",
          "2025-01-14T00:50:00",
          "2025-01-15T15:30:00",
          "2025-01-23T18:10:00",
          "2025-02-04T18:45:00",
          "2025-02-12T19:00:00",
          "2025-02-27T06:30:00",
          "2025-03-03T03:10:00",
          "2025-03-04T13:50:00",
          "2025-03-13T10:35:00",
          "2025-03-19T10:35:00",
          "2025-03-20T12:20:00",
          "2025-04-30T04:55:00",
          "2025-05-02T12:35:00",
          "2025-05-22T18:05:00",
          "2025-06-06T15:30:00",
          "2025-07-02T14:35:00"
         ],
         "xaxis": "x",
         "y": [
          -223.86228070175434,
          -435.97903001304906,
          -514.8406612187229,
          -1509.6049909567812,
          -1454.1464852096547,
          -1920.8919835299234,
          -2072.8461362301096,
          -2278.842802896776,
          -2491.175470142649,
          -2711.0325289661782,
          -2953.47413668322,
          -680.2589904843899,
          -860.1053470735371,
          -461.1687513288563,
          -559.8481857452222,
          -345.4821083971559,
          -246.51166915850297
         ],
         "yaxis": "y"
        }
       ],
       "layout": {
        "legend": {
         "tracegroupgap": 0
        },
        "template": {
         "data": {
          "bar": [
           {
            "error_x": {
             "color": "#f2f5fa"
            },
            "error_y": {
             "color": "#f2f5fa"
            },
            "marker": {
             "line": {
              "color": "rgb(17,17,17)",
              "width": 0.5
             },
             "pattern": {
              "fillmode": "overlay",
              "size": 10,
              "solidity": 0.2
             }
            },
            "type": "bar"
           }
          ],
          "barpolar": [
           {
            "marker": {
             "line": {
              "color": "rgb(17,17,17)",
              "width": 0.5
             },
             "pattern": {
              "fillmode": "overlay",
              "size": 10,
              "solidity": 0.2
             }
            },
            "type": "barpolar"
           }
          ],
          "carpet": [
           {
            "aaxis": {
             "endlinecolor": "#A2B1C6",
             "gridcolor": "#506784",
             "linecolor": "#506784",
             "minorgridcolor": "#506784",
             "startlinecolor": "#A2B1C6"
            },
            "baxis": {
             "endlinecolor": "#A2B1C6",
             "gridcolor": "#506784",
             "linecolor": "#506784",
             "minorgridcolor": "#506784",
             "startlinecolor": "#A2B1C6"
            },
            "type": "carpet"
           }
          ],
          "choropleth": [
           {
            "colorbar": {
             "outlinewidth": 0,
             "ticks": ""
            },
            "type": "choropleth"
           }
          ],
          "contour": [
           {
            "colorbar": {
             "outlinewidth": 0,
             "ticks": ""
            },
            "colorscale": [
             [
              0,
              "#0d0887"
             ],
             [
              0.1111111111111111,
              "#46039f"
             ],
             [
              0.2222222222222222,
              "#7201a8"
             ],
             [
              0.3333333333333333,
              "#9c179e"
             ],
             [
              0.4444444444444444,
              "#bd3786"
             ],
             [
              0.5555555555555556,
              "#d8576b"
             ],
             [
              0.6666666666666666,
              "#ed7953"
             ],
             [
              0.7777777777777778,
              "#fb9f3a"
             ],
             [
              0.8888888888888888,
              "#fdca26"
             ],
             [
              1,
              "#f0f921"
             ]
            ],
            "type": "contour"
           }
          ],
          "contourcarpet": [
           {
            "colorbar": {
             "outlinewidth": 0,
             "ticks": ""
            },
            "type": "contourcarpet"
           }
          ],
          "heatmap": [
           {
            "colorbar": {
             "outlinewidth": 0,
             "ticks": ""
            },
            "colorscale": [
             [
              0,
              "#0d0887"
             ],
             [
              0.1111111111111111,
              "#46039f"
             ],
             [
              0.2222222222222222,
              "#7201a8"
             ],
             [
              0.3333333333333333,
              "#9c179e"
             ],
             [
              0.4444444444444444,
              "#bd3786"
             ],
             [
              0.5555555555555556,
              "#d8576b"
             ],
             [
              0.6666666666666666,
              "#ed7953"
             ],
             [
              0.7777777777777778,
              "#fb9f3a"
             ],
             [
              0.8888888888888888,
              "#fdca26"
             ],
             [
              1,
              "#f0f921"
             ]
            ],
            "type": "heatmap"
           }
          ],
          "histogram": [
           {
            "marker": {
             "pattern": {
              "fillmode": "overlay",
              "size": 10,
              "solidity": 0.2
             }
            },
            "type": "histogram"
           }
          ],
          "histogram2d": [
           {
            "colorbar": {
             "outlinewidth": 0,
             "ticks": ""
            },
            "colorscale": [
             [
              0,
              "#0d0887"
             ],
             [
              0.1111111111111111,
              "#46039f"
             ],
             [
              0.2222222222222222,
              "#7201a8"
             ],
             [
              0.3333333333333333,
              "#9c179e"
             ],
             [
              0.4444444444444444,
              "#bd3786"
             ],
             [
              0.5555555555555556,
              "#d8576b"
             ],
             [
              0.6666666666666666,
              "#ed7953"
             ],
             [
              0.7777777777777778,
              "#fb9f3a"
             ],
             [
              0.8888888888888888,
              "#fdca26"
             ],
             [
              1,
              "#f0f921"
             ]
            ],
            "type": "histogram2d"
           }
          ],
          "histogram2dcontour": [
           {
            "colorbar": {
             "outlinewidth": 0,
             "ticks": ""
            },
            "colorscale": [
             [
              0,
              "#0d0887"
             ],
             [
              0.1111111111111111,
              "#46039f"
             ],
             [
              0.2222222222222222,
              "#7201a8"
             ],
             [
              0.3333333333333333,
              "#9c179e"
             ],
             [
              0.4444444444444444,
              "#bd3786"
             ],
             [
              0.5555555555555556,
              "#d8576b"
             ],
             [
              0.6666666666666666,
              "#ed7953"
             ],
             [
              0.7777777777777778,
              "#fb9f3a"
             ],
             [
              0.8888888888888888,
              "#fdca26"
             ],
             [
              1,
              "#f0f921"
             ]
            ],
            "type": "histogram2dcontour"
           }
          ],
          "mesh3d": [
           {
            "colorbar": {
             "outlinewidth": 0,
             "ticks": ""
            },
            "type": "mesh3d"
           }
          ],
          "parcoords": [
           {
            "line": {
             "colorbar": {
              "outlinewidth": 0,
              "ticks": ""
             }
            },
            "type": "parcoords"
           }
          ],
          "pie": [
           {
            "automargin": true,
            "type": "pie"
           }
          ],
          "scatter": [
           {
            "marker": {
             "line": {
              "color": "#283442"
             }
            },
            "type": "scatter"
           }
          ],
          "scatter3d": [
           {
            "line": {
             "colorbar": {
              "outlinewidth": 0,
              "ticks": ""
             }
            },
            "marker": {
             "colorbar": {
              "outlinewidth": 0,
              "ticks": ""
             }
            },
            "type": "scatter3d"
           }
          ],
          "scattercarpet": [
           {
            "marker": {
             "colorbar": {
              "outlinewidth": 0,
              "ticks": ""
             }
            },
            "type": "scattercarpet"
           }
          ],
          "scattergeo": [
           {
            "marker": {
             "colorbar": {
              "outlinewidth": 0,
              "ticks": ""
             }
            },
            "type": "scattergeo"
           }
          ],
          "scattergl": [
           {
            "marker": {
             "line": {
              "color": "#283442"
             }
            },
            "type": "scattergl"
           }
          ],
          "scattermap": [
           {
            "marker": {
             "colorbar": {
              "outlinewidth": 0,
              "ticks": ""
             }
            },
            "type": "scattermap"
           }
          ],
          "scattermapbox": [
           {
            "marker": {
             "colorbar": {
              "outlinewidth": 0,
              "ticks": ""
             }
            },
            "type": "scattermapbox"
           }
          ],
          "scatterpolar": [
           {
            "marker": {
             "colorbar": {
              "outlinewidth": 0,
              "ticks": ""
             }
            },
            "type": "scatterpolar"
           }
          ],
          "scatterpolargl": [
           {
            "marker": {
             "colorbar": {
              "outlinewidth": 0,
              "ticks": ""
             }
            },
            "type": "scatterpolargl"
           }
          ],
          "scatterternary": [
           {
            "marker": {
             "colorbar": {
              "outlinewidth": 0,
              "ticks": ""
             }
            },
            "type": "scatterternary"
           }
          ],
          "surface": [
           {
            "colorbar": {
             "outlinewidth": 0,
             "ticks": ""
            },
            "colorscale": [
             [
              0,
              "#0d0887"
             ],
             [
              0.1111111111111111,
              "#46039f"
             ],
             [
              0.2222222222222222,
              "#7201a8"
             ],
             [
              0.3333333333333333,
              "#9c179e"
             ],
             [
              0.4444444444444444,
              "#bd3786"
             ],
             [
              0.5555555555555556,
              "#d8576b"
             ],
             [
              0.6666666666666666,
              "#ed7953"
             ],
             [
              0.7777777777777778,
              "#fb9f3a"
             ],
             [
              0.8888888888888888,
              "#fdca26"
             ],
             [
              1,
              "#f0f921"
             ]
            ],
            "type": "surface"
           }
          ],
          "table": [
           {
            "cells": {
             "fill": {
              "color": "#506784"
             },
             "line": {
              "color": "rgb(17,17,17)"
             }
            },
            "header": {
             "fill": {
              "color": "#2a3f5f"
             },
             "line": {
              "color": "rgb(17,17,17)"
             }
            },
            "type": "table"
           }
          ]
         },
         "layout": {
          "annotationdefaults": {
           "arrowcolor": "#f2f5fa",
           "arrowhead": 0,
           "arrowwidth": 1
          },
          "autotypenumbers": "strict",
          "coloraxis": {
           "colorbar": {
            "outlinewidth": 0,
            "ticks": ""
           }
          },
          "colorscale": {
           "diverging": [
            [
             0,
             "#8e0152"
            ],
            [
             0.1,
             "#c51b7d"
            ],
            [
             0.2,
             "#de77ae"
            ],
            [
             0.3,
             "#f1b6da"
            ],
            [
             0.4,
             "#fde0ef"
            ],
            [
             0.5,
             "#f7f7f7"
            ],
            [
             0.6,
             "#e6f5d0"
            ],
            [
             0.7,
             "#b8e186"
            ],
            [
             0.8,
             "#7fbc41"
            ],
            [
             0.9,
             "#4d9221"
            ],
            [
             1,
             "#276419"
            ]
           ],
           "sequential": [
            [
             0,
             "#0d0887"
            ],
            [
             0.1111111111111111,
             "#46039f"
            ],
            [
             0.2222222222222222,
             "#7201a8"
            ],
            [
             0.3333333333333333,
             "#9c179e"
            ],
            [
             0.4444444444444444,
             "#bd3786"
            ],
            [
             0.5555555555555556,
             "#d8576b"
            ],
            [
             0.6666666666666666,
             "#ed7953"
            ],
            [
             0.7777777777777778,
             "#fb9f3a"
            ],
            [
             0.8888888888888888,
             "#fdca26"
            ],
            [
             1,
             "#f0f921"
            ]
           ],
           "sequentialminus": [
            [
             0,
             "#0d0887"
            ],
            [
             0.1111111111111111,
             "#46039f"
            ],
            [
             0.2222222222222222,
             "#7201a8"
            ],
            [
             0.3333333333333333,
             "#9c179e"
            ],
            [
             0.4444444444444444,
             "#bd3786"
            ],
            [
             0.5555555555555556,
             "#d8576b"
            ],
            [
             0.6666666666666666,
             "#ed7953"
            ],
            [
             0.7777777777777778,
             "#fb9f3a"
            ],
            [
             0.8888888888888888,
             "#fdca26"
            ],
            [
             1,
             "#f0f921"
            ]
           ]
          },
          "colorway": [
           "#636efa",
           "#EF553B",
           "#00cc96",
           "#ab63fa",
           "#FFA15A",
           "#19d3f3",
           "#FF6692",
           "#B6E880",
           "#FF97FF",
           "#FECB52"
          ],
          "font": {
           "color": "#f2f5fa"
          },
          "geo": {
           "bgcolor": "rgb(17,17,17)",
           "lakecolor": "rgb(17,17,17)",
           "landcolor": "rgb(17,17,17)",
           "showlakes": true,
           "showland": true,
           "subunitcolor": "#506784"
          },
          "hoverlabel": {
           "align": "left"
          },
          "hovermode": "closest",
          "mapbox": {
           "style": "dark"
          },
          "paper_bgcolor": "rgb(17,17,17)",
          "plot_bgcolor": "rgb(17,17,17)",
          "polar": {
           "angularaxis": {
            "gridcolor": "#506784",
            "linecolor": "#506784",
            "ticks": ""
           },
           "bgcolor": "rgb(17,17,17)",
           "radialaxis": {
            "gridcolor": "#506784",
            "linecolor": "#506784",
            "ticks": ""
           }
          },
          "scene": {
           "xaxis": {
            "backgroundcolor": "rgb(17,17,17)",
            "gridcolor": "#506784",
            "gridwidth": 2,
            "linecolor": "#506784",
            "showbackground": true,
            "ticks": "",
            "zerolinecolor": "#C8D4E3"
           },
           "yaxis": {
            "backgroundcolor": "rgb(17,17,17)",
            "gridcolor": "#506784",
            "gridwidth": 2,
            "linecolor": "#506784",
            "showbackground": true,
            "ticks": "",
            "zerolinecolor": "#C8D4E3"
           },
           "zaxis": {
            "backgroundcolor": "rgb(17,17,17)",
            "gridcolor": "#506784",
            "gridwidth": 2,
            "linecolor": "#506784",
            "showbackground": true,
            "ticks": "",
            "zerolinecolor": "#C8D4E3"
           }
          },
          "shapedefaults": {
           "line": {
            "color": "#f2f5fa"
           }
          },
          "sliderdefaults": {
           "bgcolor": "#C8D4E3",
           "bordercolor": "rgb(17,17,17)",
           "borderwidth": 1,
           "tickwidth": 0
          },
          "ternary": {
           "aaxis": {
            "gridcolor": "#506784",
            "linecolor": "#506784",
            "ticks": ""
           },
           "baxis": {
            "gridcolor": "#506784",
            "linecolor": "#506784",
            "ticks": ""
           },
           "bgcolor": "rgb(17,17,17)",
           "caxis": {
            "gridcolor": "#506784",
            "linecolor": "#506784",
            "ticks": ""
           }
          },
          "title": {
           "x": 0.05
          },
          "updatemenudefaults": {
           "bgcolor": "#506784",
           "borderwidth": 0
          },
          "xaxis": {
           "automargin": true,
           "gridcolor": "#283442",
           "linecolor": "#506784",
           "ticks": "",
           "title": {
            "standoff": 15
           },
           "zerolinecolor": "#283442",
           "zerolinewidth": 2
          },
          "yaxis": {
           "automargin": true,
           "gridcolor": "#283442",
           "linecolor": "#506784",
           "ticks": "",
           "title": {
            "standoff": 15
           },
           "zerolinecolor": "#283442",
           "zerolinewidth": 2
          }
         }
        },
        "title": {
         "text": "PnL Graph"
        },
        "xaxis": {
         "anchor": "y",
         "domain": [
          0,
          1
         ],
         "title": {
          "text": "open_time"
         }
        },
        "yaxis": {
         "anchor": "x",
         "domain": [
          0,
          1
         ],
         "title": {
          "text": "profit_cumulative"
         }
        }
       }
      }
     },
     "metadata": {},
     "output_type": "display_data"
    }
   ],
   "source": [
    "pnl_chart = bt.plot_pnl()\n",
    "display(pnl_chart)"
   ]
  },
  {
   "cell_type": "code",
   "execution_count": 131,
   "metadata": {},
   "outputs": [
    {
     "name": "stdout",
     "output_type": "stream",
     "text": [
      "biggest_profit: 2276.49\n",
      "daily_drawdown: -990.45\n",
      "max_drawown: -2729.61\n",
      "avg_win: 611.43\n",
      "avg_loss: -269.71\n",
      "count_profit_trades: 5\n",
      "count_loss_trades: 12\n",
      "Win Rate1: 29.41%\n",
      "rrr: 2.27\n"
     ]
    },
    {
     "data": {
      "text/html": [
       "<div>\n",
       "<style scoped>\n",
       "    .dataframe tbody tr th:only-of-type {\n",
       "        vertical-align: middle;\n",
       "    }\n",
       "\n",
       "    .dataframe tbody tr th {\n",
       "        vertical-align: top;\n",
       "    }\n",
       "\n",
       "    .dataframe thead th {\n",
       "        text-align: right;\n",
       "    }\n",
       "</style>\n",
       "<table border=\"1\" class=\"dataframe\">\n",
       "  <thead>\n",
       "    <tr style=\"text-align: right;\">\n",
       "      <th></th>\n",
       "      <th>order_type</th>\n",
       "      <th>profit</th>\n",
       "    </tr>\n",
       "  </thead>\n",
       "  <tbody>\n",
       "    <tr>\n",
       "      <th>0</th>\n",
       "      <td>buy</td>\n",
       "      <td>737.45</td>\n",
       "    </tr>\n",
       "    <tr>\n",
       "      <th>1</th>\n",
       "      <td>sell</td>\n",
       "      <td>-916.81</td>\n",
       "    </tr>\n",
       "  </tbody>\n",
       "</table>\n",
       "</div>"
      ],
      "text/plain": [
       "  order_type  profit\n",
       "0        buy  737.45\n",
       "1       sell -916.81"
      ]
     },
     "metadata": {},
     "output_type": "display_data"
    },
    {
     "data": {
      "application/vnd.plotly.v1+json": {
       "config": {
        "plotlyServerURL": "https://plot.ly"
       },
       "data": [
        {
         "hovertemplate": "order_type=%{x}<br>profit=%{y}<extra></extra>",
         "legendgroup": "",
         "marker": {
          "color": "#636efa",
          "pattern": {
           "shape": ""
          }
         },
         "name": "",
         "orientation": "v",
         "showlegend": false,
         "textposition": "auto",
         "type": "bar",
         "x": [
          "buy",
          "sell"
         ],
         "xaxis": "x",
         "y": {
          "bdata": "lpmZmZkLh0AUrkfheqaMwA==",
          "dtype": "f8"
         },
         "yaxis": "y"
        }
       ],
       "layout": {
        "barmode": "relative",
        "legend": {
         "tracegroupgap": 0
        },
        "margin": {
         "t": 60
        },
        "template": {
         "data": {
          "bar": [
           {
            "error_x": {
             "color": "#f2f5fa"
            },
            "error_y": {
             "color": "#f2f5fa"
            },
            "marker": {
             "line": {
              "color": "rgb(17,17,17)",
              "width": 0.5
             },
             "pattern": {
              "fillmode": "overlay",
              "size": 10,
              "solidity": 0.2
             }
            },
            "type": "bar"
           }
          ],
          "barpolar": [
           {
            "marker": {
             "line": {
              "color": "rgb(17,17,17)",
              "width": 0.5
             },
             "pattern": {
              "fillmode": "overlay",
              "size": 10,
              "solidity": 0.2
             }
            },
            "type": "barpolar"
           }
          ],
          "carpet": [
           {
            "aaxis": {
             "endlinecolor": "#A2B1C6",
             "gridcolor": "#506784",
             "linecolor": "#506784",
             "minorgridcolor": "#506784",
             "startlinecolor": "#A2B1C6"
            },
            "baxis": {
             "endlinecolor": "#A2B1C6",
             "gridcolor": "#506784",
             "linecolor": "#506784",
             "minorgridcolor": "#506784",
             "startlinecolor": "#A2B1C6"
            },
            "type": "carpet"
           }
          ],
          "choropleth": [
           {
            "colorbar": {
             "outlinewidth": 0,
             "ticks": ""
            },
            "type": "choropleth"
           }
          ],
          "contour": [
           {
            "colorbar": {
             "outlinewidth": 0,
             "ticks": ""
            },
            "colorscale": [
             [
              0,
              "#0d0887"
             ],
             [
              0.1111111111111111,
              "#46039f"
             ],
             [
              0.2222222222222222,
              "#7201a8"
             ],
             [
              0.3333333333333333,
              "#9c179e"
             ],
             [
              0.4444444444444444,
              "#bd3786"
             ],
             [
              0.5555555555555556,
              "#d8576b"
             ],
             [
              0.6666666666666666,
              "#ed7953"
             ],
             [
              0.7777777777777778,
              "#fb9f3a"
             ],
             [
              0.8888888888888888,
              "#fdca26"
             ],
             [
              1,
              "#f0f921"
             ]
            ],
            "type": "contour"
           }
          ],
          "contourcarpet": [
           {
            "colorbar": {
             "outlinewidth": 0,
             "ticks": ""
            },
            "type": "contourcarpet"
           }
          ],
          "heatmap": [
           {
            "colorbar": {
             "outlinewidth": 0,
             "ticks": ""
            },
            "colorscale": [
             [
              0,
              "#0d0887"
             ],
             [
              0.1111111111111111,
              "#46039f"
             ],
             [
              0.2222222222222222,
              "#7201a8"
             ],
             [
              0.3333333333333333,
              "#9c179e"
             ],
             [
              0.4444444444444444,
              "#bd3786"
             ],
             [
              0.5555555555555556,
              "#d8576b"
             ],
             [
              0.6666666666666666,
              "#ed7953"
             ],
             [
              0.7777777777777778,
              "#fb9f3a"
             ],
             [
              0.8888888888888888,
              "#fdca26"
             ],
             [
              1,
              "#f0f921"
             ]
            ],
            "type": "heatmap"
           }
          ],
          "histogram": [
           {
            "marker": {
             "pattern": {
              "fillmode": "overlay",
              "size": 10,
              "solidity": 0.2
             }
            },
            "type": "histogram"
           }
          ],
          "histogram2d": [
           {
            "colorbar": {
             "outlinewidth": 0,
             "ticks": ""
            },
            "colorscale": [
             [
              0,
              "#0d0887"
             ],
             [
              0.1111111111111111,
              "#46039f"
             ],
             [
              0.2222222222222222,
              "#7201a8"
             ],
             [
              0.3333333333333333,
              "#9c179e"
             ],
             [
              0.4444444444444444,
              "#bd3786"
             ],
             [
              0.5555555555555556,
              "#d8576b"
             ],
             [
              0.6666666666666666,
              "#ed7953"
             ],
             [
              0.7777777777777778,
              "#fb9f3a"
             ],
             [
              0.8888888888888888,
              "#fdca26"
             ],
             [
              1,
              "#f0f921"
             ]
            ],
            "type": "histogram2d"
           }
          ],
          "histogram2dcontour": [
           {
            "colorbar": {
             "outlinewidth": 0,
             "ticks": ""
            },
            "colorscale": [
             [
              0,
              "#0d0887"
             ],
             [
              0.1111111111111111,
              "#46039f"
             ],
             [
              0.2222222222222222,
              "#7201a8"
             ],
             [
              0.3333333333333333,
              "#9c179e"
             ],
             [
              0.4444444444444444,
              "#bd3786"
             ],
             [
              0.5555555555555556,
              "#d8576b"
             ],
             [
              0.6666666666666666,
              "#ed7953"
             ],
             [
              0.7777777777777778,
              "#fb9f3a"
             ],
             [
              0.8888888888888888,
              "#fdca26"
             ],
             [
              1,
              "#f0f921"
             ]
            ],
            "type": "histogram2dcontour"
           }
          ],
          "mesh3d": [
           {
            "colorbar": {
             "outlinewidth": 0,
             "ticks": ""
            },
            "type": "mesh3d"
           }
          ],
          "parcoords": [
           {
            "line": {
             "colorbar": {
              "outlinewidth": 0,
              "ticks": ""
             }
            },
            "type": "parcoords"
           }
          ],
          "pie": [
           {
            "automargin": true,
            "type": "pie"
           }
          ],
          "scatter": [
           {
            "marker": {
             "line": {
              "color": "#283442"
             }
            },
            "type": "scatter"
           }
          ],
          "scatter3d": [
           {
            "line": {
             "colorbar": {
              "outlinewidth": 0,
              "ticks": ""
             }
            },
            "marker": {
             "colorbar": {
              "outlinewidth": 0,
              "ticks": ""
             }
            },
            "type": "scatter3d"
           }
          ],
          "scattercarpet": [
           {
            "marker": {
             "colorbar": {
              "outlinewidth": 0,
              "ticks": ""
             }
            },
            "type": "scattercarpet"
           }
          ],
          "scattergeo": [
           {
            "marker": {
             "colorbar": {
              "outlinewidth": 0,
              "ticks": ""
             }
            },
            "type": "scattergeo"
           }
          ],
          "scattergl": [
           {
            "marker": {
             "line": {
              "color": "#283442"
             }
            },
            "type": "scattergl"
           }
          ],
          "scattermap": [
           {
            "marker": {
             "colorbar": {
              "outlinewidth": 0,
              "ticks": ""
             }
            },
            "type": "scattermap"
           }
          ],
          "scattermapbox": [
           {
            "marker": {
             "colorbar": {
              "outlinewidth": 0,
              "ticks": ""
             }
            },
            "type": "scattermapbox"
           }
          ],
          "scatterpolar": [
           {
            "marker": {
             "colorbar": {
              "outlinewidth": 0,
              "ticks": ""
             }
            },
            "type": "scatterpolar"
           }
          ],
          "scatterpolargl": [
           {
            "marker": {
             "colorbar": {
              "outlinewidth": 0,
              "ticks": ""
             }
            },
            "type": "scatterpolargl"
           }
          ],
          "scatterternary": [
           {
            "marker": {
             "colorbar": {
              "outlinewidth": 0,
              "ticks": ""
             }
            },
            "type": "scatterternary"
           }
          ],
          "surface": [
           {
            "colorbar": {
             "outlinewidth": 0,
             "ticks": ""
            },
            "colorscale": [
             [
              0,
              "#0d0887"
             ],
             [
              0.1111111111111111,
              "#46039f"
             ],
             [
              0.2222222222222222,
              "#7201a8"
             ],
             [
              0.3333333333333333,
              "#9c179e"
             ],
             [
              0.4444444444444444,
              "#bd3786"
             ],
             [
              0.5555555555555556,
              "#d8576b"
             ],
             [
              0.6666666666666666,
              "#ed7953"
             ],
             [
              0.7777777777777778,
              "#fb9f3a"
             ],
             [
              0.8888888888888888,
              "#fdca26"
             ],
             [
              1,
              "#f0f921"
             ]
            ],
            "type": "surface"
           }
          ],
          "table": [
           {
            "cells": {
             "fill": {
              "color": "#506784"
             },
             "line": {
              "color": "rgb(17,17,17)"
             }
            },
            "header": {
             "fill": {
              "color": "#2a3f5f"
             },
             "line": {
              "color": "rgb(17,17,17)"
             }
            },
            "type": "table"
           }
          ]
         },
         "layout": {
          "annotationdefaults": {
           "arrowcolor": "#f2f5fa",
           "arrowhead": 0,
           "arrowwidth": 1
          },
          "autotypenumbers": "strict",
          "coloraxis": {
           "colorbar": {
            "outlinewidth": 0,
            "ticks": ""
           }
          },
          "colorscale": {
           "diverging": [
            [
             0,
             "#8e0152"
            ],
            [
             0.1,
             "#c51b7d"
            ],
            [
             0.2,
             "#de77ae"
            ],
            [
             0.3,
             "#f1b6da"
            ],
            [
             0.4,
             "#fde0ef"
            ],
            [
             0.5,
             "#f7f7f7"
            ],
            [
             0.6,
             "#e6f5d0"
            ],
            [
             0.7,
             "#b8e186"
            ],
            [
             0.8,
             "#7fbc41"
            ],
            [
             0.9,
             "#4d9221"
            ],
            [
             1,
             "#276419"
            ]
           ],
           "sequential": [
            [
             0,
             "#0d0887"
            ],
            [
             0.1111111111111111,
             "#46039f"
            ],
            [
             0.2222222222222222,
             "#7201a8"
            ],
            [
             0.3333333333333333,
             "#9c179e"
            ],
            [
             0.4444444444444444,
             "#bd3786"
            ],
            [
             0.5555555555555556,
             "#d8576b"
            ],
            [
             0.6666666666666666,
             "#ed7953"
            ],
            [
             0.7777777777777778,
             "#fb9f3a"
            ],
            [
             0.8888888888888888,
             "#fdca26"
            ],
            [
             1,
             "#f0f921"
            ]
           ],
           "sequentialminus": [
            [
             0,
             "#0d0887"
            ],
            [
             0.1111111111111111,
             "#46039f"
            ],
            [
             0.2222222222222222,
             "#7201a8"
            ],
            [
             0.3333333333333333,
             "#9c179e"
            ],
            [
             0.4444444444444444,
             "#bd3786"
            ],
            [
             0.5555555555555556,
             "#d8576b"
            ],
            [
             0.6666666666666666,
             "#ed7953"
            ],
            [
             0.7777777777777778,
             "#fb9f3a"
            ],
            [
             0.8888888888888888,
             "#fdca26"
            ],
            [
             1,
             "#f0f921"
            ]
           ]
          },
          "colorway": [
           "#636efa",
           "#EF553B",
           "#00cc96",
           "#ab63fa",
           "#FFA15A",
           "#19d3f3",
           "#FF6692",
           "#B6E880",
           "#FF97FF",
           "#FECB52"
          ],
          "font": {
           "color": "#f2f5fa"
          },
          "geo": {
           "bgcolor": "rgb(17,17,17)",
           "lakecolor": "rgb(17,17,17)",
           "landcolor": "rgb(17,17,17)",
           "showlakes": true,
           "showland": true,
           "subunitcolor": "#506784"
          },
          "hoverlabel": {
           "align": "left"
          },
          "hovermode": "closest",
          "mapbox": {
           "style": "dark"
          },
          "paper_bgcolor": "rgb(17,17,17)",
          "plot_bgcolor": "rgb(17,17,17)",
          "polar": {
           "angularaxis": {
            "gridcolor": "#506784",
            "linecolor": "#506784",
            "ticks": ""
           },
           "bgcolor": "rgb(17,17,17)",
           "radialaxis": {
            "gridcolor": "#506784",
            "linecolor": "#506784",
            "ticks": ""
           }
          },
          "scene": {
           "xaxis": {
            "backgroundcolor": "rgb(17,17,17)",
            "gridcolor": "#506784",
            "gridwidth": 2,
            "linecolor": "#506784",
            "showbackground": true,
            "ticks": "",
            "zerolinecolor": "#C8D4E3"
           },
           "yaxis": {
            "backgroundcolor": "rgb(17,17,17)",
            "gridcolor": "#506784",
            "gridwidth": 2,
            "linecolor": "#506784",
            "showbackground": true,
            "ticks": "",
            "zerolinecolor": "#C8D4E3"
           },
           "zaxis": {
            "backgroundcolor": "rgb(17,17,17)",
            "gridcolor": "#506784",
            "gridwidth": 2,
            "linecolor": "#506784",
            "showbackground": true,
            "ticks": "",
            "zerolinecolor": "#C8D4E3"
           }
          },
          "shapedefaults": {
           "line": {
            "color": "#f2f5fa"
           }
          },
          "sliderdefaults": {
           "bgcolor": "#C8D4E3",
           "bordercolor": "rgb(17,17,17)",
           "borderwidth": 1,
           "tickwidth": 0
          },
          "ternary": {
           "aaxis": {
            "gridcolor": "#506784",
            "linecolor": "#506784",
            "ticks": ""
           },
           "baxis": {
            "gridcolor": "#506784",
            "linecolor": "#506784",
            "ticks": ""
           },
           "bgcolor": "rgb(17,17,17)",
           "caxis": {
            "gridcolor": "#506784",
            "linecolor": "#506784",
            "ticks": ""
           }
          },
          "title": {
           "x": 0.05
          },
          "updatemenudefaults": {
           "bgcolor": "#506784",
           "borderwidth": 0
          },
          "xaxis": {
           "automargin": true,
           "gridcolor": "#283442",
           "linecolor": "#506784",
           "ticks": "",
           "title": {
            "standoff": 15
           },
           "zerolinecolor": "#283442",
           "zerolinewidth": 2
          },
          "yaxis": {
           "automargin": true,
           "gridcolor": "#283442",
           "linecolor": "#506784",
           "ticks": "",
           "title": {
            "standoff": 15
           },
           "zerolinecolor": "#283442",
           "zerolinewidth": 2
          }
         }
        },
        "xaxis": {
         "anchor": "y",
         "domain": [
          0,
          1
         ],
         "title": {
          "text": "order_type"
         }
        },
        "yaxis": {
         "anchor": "x",
         "domain": [
          0,
          1
         ],
         "title": {
          "text": "profit"
         }
        }
       }
      }
     },
     "metadata": {},
     "output_type": "display_data"
    },
    {
     "data": {
      "application/vnd.plotly.v1+json": {
       "config": {
        "plotlyServerURL": "https://plot.ly"
       },
       "data": [
        {
         "hovertemplate": "dayofweek=%{x}<br>profit=%{y}<extra></extra>",
         "legendgroup": "",
         "marker": {
          "color": "#636efa",
          "pattern": {
           "shape": ""
          }
         },
         "name": "",
         "orientation": "v",
         "showlegend": false,
         "textposition": "auto",
         "type": "bar",
         "x": {
          "bdata": "AAAAAAEAAAACAAAAAwAAAAQAAAA=",
          "dtype": "i4"
         },
         "xaxis": "x",
         "y": {
          "bdata": "FK5H4XpEesDXo3A9Cot2wLgehetRforACNejcD3qiUApXI/C9WCDQA==",
          "dtype": "f8"
         },
         "yaxis": "y"
        }
       ],
       "layout": {
        "barmode": "relative",
        "legend": {
         "tracegroupgap": 0
        },
        "margin": {
         "t": 60
        },
        "template": {
         "data": {
          "bar": [
           {
            "error_x": {
             "color": "#f2f5fa"
            },
            "error_y": {
             "color": "#f2f5fa"
            },
            "marker": {
             "line": {
              "color": "rgb(17,17,17)",
              "width": 0.5
             },
             "pattern": {
              "fillmode": "overlay",
              "size": 10,
              "solidity": 0.2
             }
            },
            "type": "bar"
           }
          ],
          "barpolar": [
           {
            "marker": {
             "line": {
              "color": "rgb(17,17,17)",
              "width": 0.5
             },
             "pattern": {
              "fillmode": "overlay",
              "size": 10,
              "solidity": 0.2
             }
            },
            "type": "barpolar"
           }
          ],
          "carpet": [
           {
            "aaxis": {
             "endlinecolor": "#A2B1C6",
             "gridcolor": "#506784",
             "linecolor": "#506784",
             "minorgridcolor": "#506784",
             "startlinecolor": "#A2B1C6"
            },
            "baxis": {
             "endlinecolor": "#A2B1C6",
             "gridcolor": "#506784",
             "linecolor": "#506784",
             "minorgridcolor": "#506784",
             "startlinecolor": "#A2B1C6"
            },
            "type": "carpet"
           }
          ],
          "choropleth": [
           {
            "colorbar": {
             "outlinewidth": 0,
             "ticks": ""
            },
            "type": "choropleth"
           }
          ],
          "contour": [
           {
            "colorbar": {
             "outlinewidth": 0,
             "ticks": ""
            },
            "colorscale": [
             [
              0,
              "#0d0887"
             ],
             [
              0.1111111111111111,
              "#46039f"
             ],
             [
              0.2222222222222222,
              "#7201a8"
             ],
             [
              0.3333333333333333,
              "#9c179e"
             ],
             [
              0.4444444444444444,
              "#bd3786"
             ],
             [
              0.5555555555555556,
              "#d8576b"
             ],
             [
              0.6666666666666666,
              "#ed7953"
             ],
             [
              0.7777777777777778,
              "#fb9f3a"
             ],
             [
              0.8888888888888888,
              "#fdca26"
             ],
             [
              1,
              "#f0f921"
             ]
            ],
            "type": "contour"
           }
          ],
          "contourcarpet": [
           {
            "colorbar": {
             "outlinewidth": 0,
             "ticks": ""
            },
            "type": "contourcarpet"
           }
          ],
          "heatmap": [
           {
            "colorbar": {
             "outlinewidth": 0,
             "ticks": ""
            },
            "colorscale": [
             [
              0,
              "#0d0887"
             ],
             [
              0.1111111111111111,
              "#46039f"
             ],
             [
              0.2222222222222222,
              "#7201a8"
             ],
             [
              0.3333333333333333,
              "#9c179e"
             ],
             [
              0.4444444444444444,
              "#bd3786"
             ],
             [
              0.5555555555555556,
              "#d8576b"
             ],
             [
              0.6666666666666666,
              "#ed7953"
             ],
             [
              0.7777777777777778,
              "#fb9f3a"
             ],
             [
              0.8888888888888888,
              "#fdca26"
             ],
             [
              1,
              "#f0f921"
             ]
            ],
            "type": "heatmap"
           }
          ],
          "histogram": [
           {
            "marker": {
             "pattern": {
              "fillmode": "overlay",
              "size": 10,
              "solidity": 0.2
             }
            },
            "type": "histogram"
           }
          ],
          "histogram2d": [
           {
            "colorbar": {
             "outlinewidth": 0,
             "ticks": ""
            },
            "colorscale": [
             [
              0,
              "#0d0887"
             ],
             [
              0.1111111111111111,
              "#46039f"
             ],
             [
              0.2222222222222222,
              "#7201a8"
             ],
             [
              0.3333333333333333,
              "#9c179e"
             ],
             [
              0.4444444444444444,
              "#bd3786"
             ],
             [
              0.5555555555555556,
              "#d8576b"
             ],
             [
              0.6666666666666666,
              "#ed7953"
             ],
             [
              0.7777777777777778,
              "#fb9f3a"
             ],
             [
              0.8888888888888888,
              "#fdca26"
             ],
             [
              1,
              "#f0f921"
             ]
            ],
            "type": "histogram2d"
           }
          ],
          "histogram2dcontour": [
           {
            "colorbar": {
             "outlinewidth": 0,
             "ticks": ""
            },
            "colorscale": [
             [
              0,
              "#0d0887"
             ],
             [
              0.1111111111111111,
              "#46039f"
             ],
             [
              0.2222222222222222,
              "#7201a8"
             ],
             [
              0.3333333333333333,
              "#9c179e"
             ],
             [
              0.4444444444444444,
              "#bd3786"
             ],
             [
              0.5555555555555556,
              "#d8576b"
             ],
             [
              0.6666666666666666,
              "#ed7953"
             ],
             [
              0.7777777777777778,
              "#fb9f3a"
             ],
             [
              0.8888888888888888,
              "#fdca26"
             ],
             [
              1,
              "#f0f921"
             ]
            ],
            "type": "histogram2dcontour"
           }
          ],
          "mesh3d": [
           {
            "colorbar": {
             "outlinewidth": 0,
             "ticks": ""
            },
            "type": "mesh3d"
           }
          ],
          "parcoords": [
           {
            "line": {
             "colorbar": {
              "outlinewidth": 0,
              "ticks": ""
             }
            },
            "type": "parcoords"
           }
          ],
          "pie": [
           {
            "automargin": true,
            "type": "pie"
           }
          ],
          "scatter": [
           {
            "marker": {
             "line": {
              "color": "#283442"
             }
            },
            "type": "scatter"
           }
          ],
          "scatter3d": [
           {
            "line": {
             "colorbar": {
              "outlinewidth": 0,
              "ticks": ""
             }
            },
            "marker": {
             "colorbar": {
              "outlinewidth": 0,
              "ticks": ""
             }
            },
            "type": "scatter3d"
           }
          ],
          "scattercarpet": [
           {
            "marker": {
             "colorbar": {
              "outlinewidth": 0,
              "ticks": ""
             }
            },
            "type": "scattercarpet"
           }
          ],
          "scattergeo": [
           {
            "marker": {
             "colorbar": {
              "outlinewidth": 0,
              "ticks": ""
             }
            },
            "type": "scattergeo"
           }
          ],
          "scattergl": [
           {
            "marker": {
             "line": {
              "color": "#283442"
             }
            },
            "type": "scattergl"
           }
          ],
          "scattermap": [
           {
            "marker": {
             "colorbar": {
              "outlinewidth": 0,
              "ticks": ""
             }
            },
            "type": "scattermap"
           }
          ],
          "scattermapbox": [
           {
            "marker": {
             "colorbar": {
              "outlinewidth": 0,
              "ticks": ""
             }
            },
            "type": "scattermapbox"
           }
          ],
          "scatterpolar": [
           {
            "marker": {
             "colorbar": {
              "outlinewidth": 0,
              "ticks": ""
             }
            },
            "type": "scatterpolar"
           }
          ],
          "scatterpolargl": [
           {
            "marker": {
             "colorbar": {
              "outlinewidth": 0,
              "ticks": ""
             }
            },
            "type": "scatterpolargl"
           }
          ],
          "scatterternary": [
           {
            "marker": {
             "colorbar": {
              "outlinewidth": 0,
              "ticks": ""
             }
            },
            "type": "scatterternary"
           }
          ],
          "surface": [
           {
            "colorbar": {
             "outlinewidth": 0,
             "ticks": ""
            },
            "colorscale": [
             [
              0,
              "#0d0887"
             ],
             [
              0.1111111111111111,
              "#46039f"
             ],
             [
              0.2222222222222222,
              "#7201a8"
             ],
             [
              0.3333333333333333,
              "#9c179e"
             ],
             [
              0.4444444444444444,
              "#bd3786"
             ],
             [
              0.5555555555555556,
              "#d8576b"
             ],
             [
              0.6666666666666666,
              "#ed7953"
             ],
             [
              0.7777777777777778,
              "#fb9f3a"
             ],
             [
              0.8888888888888888,
              "#fdca26"
             ],
             [
              1,
              "#f0f921"
             ]
            ],
            "type": "surface"
           }
          ],
          "table": [
           {
            "cells": {
             "fill": {
              "color": "#506784"
             },
             "line": {
              "color": "rgb(17,17,17)"
             }
            },
            "header": {
             "fill": {
              "color": "#2a3f5f"
             },
             "line": {
              "color": "rgb(17,17,17)"
             }
            },
            "type": "table"
           }
          ]
         },
         "layout": {
          "annotationdefaults": {
           "arrowcolor": "#f2f5fa",
           "arrowhead": 0,
           "arrowwidth": 1
          },
          "autotypenumbers": "strict",
          "coloraxis": {
           "colorbar": {
            "outlinewidth": 0,
            "ticks": ""
           }
          },
          "colorscale": {
           "diverging": [
            [
             0,
             "#8e0152"
            ],
            [
             0.1,
             "#c51b7d"
            ],
            [
             0.2,
             "#de77ae"
            ],
            [
             0.3,
             "#f1b6da"
            ],
            [
             0.4,
             "#fde0ef"
            ],
            [
             0.5,
             "#f7f7f7"
            ],
            [
             0.6,
             "#e6f5d0"
            ],
            [
             0.7,
             "#b8e186"
            ],
            [
             0.8,
             "#7fbc41"
            ],
            [
             0.9,
             "#4d9221"
            ],
            [
             1,
             "#276419"
            ]
           ],
           "sequential": [
            [
             0,
             "#0d0887"
            ],
            [
             0.1111111111111111,
             "#46039f"
            ],
            [
             0.2222222222222222,
             "#7201a8"
            ],
            [
             0.3333333333333333,
             "#9c179e"
            ],
            [
             0.4444444444444444,
             "#bd3786"
            ],
            [
             0.5555555555555556,
             "#d8576b"
            ],
            [
             0.6666666666666666,
             "#ed7953"
            ],
            [
             0.7777777777777778,
             "#fb9f3a"
            ],
            [
             0.8888888888888888,
             "#fdca26"
            ],
            [
             1,
             "#f0f921"
            ]
           ],
           "sequentialminus": [
            [
             0,
             "#0d0887"
            ],
            [
             0.1111111111111111,
             "#46039f"
            ],
            [
             0.2222222222222222,
             "#7201a8"
            ],
            [
             0.3333333333333333,
             "#9c179e"
            ],
            [
             0.4444444444444444,
             "#bd3786"
            ],
            [
             0.5555555555555556,
             "#d8576b"
            ],
            [
             0.6666666666666666,
             "#ed7953"
            ],
            [
             0.7777777777777778,
             "#fb9f3a"
            ],
            [
             0.8888888888888888,
             "#fdca26"
            ],
            [
             1,
             "#f0f921"
            ]
           ]
          },
          "colorway": [
           "#636efa",
           "#EF553B",
           "#00cc96",
           "#ab63fa",
           "#FFA15A",
           "#19d3f3",
           "#FF6692",
           "#B6E880",
           "#FF97FF",
           "#FECB52"
          ],
          "font": {
           "color": "#f2f5fa"
          },
          "geo": {
           "bgcolor": "rgb(17,17,17)",
           "lakecolor": "rgb(17,17,17)",
           "landcolor": "rgb(17,17,17)",
           "showlakes": true,
           "showland": true,
           "subunitcolor": "#506784"
          },
          "hoverlabel": {
           "align": "left"
          },
          "hovermode": "closest",
          "mapbox": {
           "style": "dark"
          },
          "paper_bgcolor": "rgb(17,17,17)",
          "plot_bgcolor": "rgb(17,17,17)",
          "polar": {
           "angularaxis": {
            "gridcolor": "#506784",
            "linecolor": "#506784",
            "ticks": ""
           },
           "bgcolor": "rgb(17,17,17)",
           "radialaxis": {
            "gridcolor": "#506784",
            "linecolor": "#506784",
            "ticks": ""
           }
          },
          "scene": {
           "xaxis": {
            "backgroundcolor": "rgb(17,17,17)",
            "gridcolor": "#506784",
            "gridwidth": 2,
            "linecolor": "#506784",
            "showbackground": true,
            "ticks": "",
            "zerolinecolor": "#C8D4E3"
           },
           "yaxis": {
            "backgroundcolor": "rgb(17,17,17)",
            "gridcolor": "#506784",
            "gridwidth": 2,
            "linecolor": "#506784",
            "showbackground": true,
            "ticks": "",
            "zerolinecolor": "#C8D4E3"
           },
           "zaxis": {
            "backgroundcolor": "rgb(17,17,17)",
            "gridcolor": "#506784",
            "gridwidth": 2,
            "linecolor": "#506784",
            "showbackground": true,
            "ticks": "",
            "zerolinecolor": "#C8D4E3"
           }
          },
          "shapedefaults": {
           "line": {
            "color": "#f2f5fa"
           }
          },
          "sliderdefaults": {
           "bgcolor": "#C8D4E3",
           "bordercolor": "rgb(17,17,17)",
           "borderwidth": 1,
           "tickwidth": 0
          },
          "ternary": {
           "aaxis": {
            "gridcolor": "#506784",
            "linecolor": "#506784",
            "ticks": ""
           },
           "baxis": {
            "gridcolor": "#506784",
            "linecolor": "#506784",
            "ticks": ""
           },
           "bgcolor": "rgb(17,17,17)",
           "caxis": {
            "gridcolor": "#506784",
            "linecolor": "#506784",
            "ticks": ""
           }
          },
          "title": {
           "x": 0.05
          },
          "updatemenudefaults": {
           "bgcolor": "#506784",
           "borderwidth": 0
          },
          "xaxis": {
           "automargin": true,
           "gridcolor": "#283442",
           "linecolor": "#506784",
           "ticks": "",
           "title": {
            "standoff": 15
           },
           "zerolinecolor": "#283442",
           "zerolinewidth": 2
          },
          "yaxis": {
           "automargin": true,
           "gridcolor": "#283442",
           "linecolor": "#506784",
           "ticks": "",
           "title": {
            "standoff": 15
           },
           "zerolinecolor": "#283442",
           "zerolinewidth": 2
          }
         }
        },
        "xaxis": {
         "anchor": "y",
         "domain": [
          0,
          1
         ],
         "title": {
          "text": "dayofweek"
         }
        },
        "yaxis": {
         "anchor": "x",
         "domain": [
          0,
          1
         ],
         "title": {
          "text": "profit"
         }
        }
       }
      }
     },
     "metadata": {},
     "output_type": "display_data"
    },
    {
     "data": {
      "application/vnd.plotly.v1+json": {
       "config": {
        "plotlyServerURL": "https://plot.ly"
       },
       "data": [
        {
         "hovertemplate": "hourofday=%{x}<br>profit=%{y}<extra></extra>",
         "legendgroup": "",
         "marker": {
          "color": "#636efa",
          "pattern": {
           "shape": ""
          }
         },
         "name": "",
         "orientation": "v",
         "showlegend": false,
         "textposition": "auto",
         "type": "bar",
         "x": {
          "bdata": "AAAAAAMAAAAEAAAABgAAAAkAAAAKAAAADAAAAA0AAAAOAAAADwAAABIAAAATAAAA",
          "dtype": "i4"
         },
         "xaxis": "x",
         "y": {
          "bdata": "uB6F61EIasDD9ShcjyppwD0K16NwzWXASOF6FK5XYsBmZmZmZl5rwGZmZmZmSnzAzMzMzEzupEDNzMzMzDxqwBSuR+F6xFlACtejcD3SYUBcj8L1KBGQwPYoXI/C+XzA",
          "dtype": "f8"
         },
         "yaxis": "y"
        }
       ],
       "layout": {
        "barmode": "relative",
        "legend": {
         "tracegroupgap": 0
        },
        "margin": {
         "t": 60
        },
        "template": {
         "data": {
          "bar": [
           {
            "error_x": {
             "color": "#f2f5fa"
            },
            "error_y": {
             "color": "#f2f5fa"
            },
            "marker": {
             "line": {
              "color": "rgb(17,17,17)",
              "width": 0.5
             },
             "pattern": {
              "fillmode": "overlay",
              "size": 10,
              "solidity": 0.2
             }
            },
            "type": "bar"
           }
          ],
          "barpolar": [
           {
            "marker": {
             "line": {
              "color": "rgb(17,17,17)",
              "width": 0.5
             },
             "pattern": {
              "fillmode": "overlay",
              "size": 10,
              "solidity": 0.2
             }
            },
            "type": "barpolar"
           }
          ],
          "carpet": [
           {
            "aaxis": {
             "endlinecolor": "#A2B1C6",
             "gridcolor": "#506784",
             "linecolor": "#506784",
             "minorgridcolor": "#506784",
             "startlinecolor": "#A2B1C6"
            },
            "baxis": {
             "endlinecolor": "#A2B1C6",
             "gridcolor": "#506784",
             "linecolor": "#506784",
             "minorgridcolor": "#506784",
             "startlinecolor": "#A2B1C6"
            },
            "type": "carpet"
           }
          ],
          "choropleth": [
           {
            "colorbar": {
             "outlinewidth": 0,
             "ticks": ""
            },
            "type": "choropleth"
           }
          ],
          "contour": [
           {
            "colorbar": {
             "outlinewidth": 0,
             "ticks": ""
            },
            "colorscale": [
             [
              0,
              "#0d0887"
             ],
             [
              0.1111111111111111,
              "#46039f"
             ],
             [
              0.2222222222222222,
              "#7201a8"
             ],
             [
              0.3333333333333333,
              "#9c179e"
             ],
             [
              0.4444444444444444,
              "#bd3786"
             ],
             [
              0.5555555555555556,
              "#d8576b"
             ],
             [
              0.6666666666666666,
              "#ed7953"
             ],
             [
              0.7777777777777778,
              "#fb9f3a"
             ],
             [
              0.8888888888888888,
              "#fdca26"
             ],
             [
              1,
              "#f0f921"
             ]
            ],
            "type": "contour"
           }
          ],
          "contourcarpet": [
           {
            "colorbar": {
             "outlinewidth": 0,
             "ticks": ""
            },
            "type": "contourcarpet"
           }
          ],
          "heatmap": [
           {
            "colorbar": {
             "outlinewidth": 0,
             "ticks": ""
            },
            "colorscale": [
             [
              0,
              "#0d0887"
             ],
             [
              0.1111111111111111,
              "#46039f"
             ],
             [
              0.2222222222222222,
              "#7201a8"
             ],
             [
              0.3333333333333333,
              "#9c179e"
             ],
             [
              0.4444444444444444,
              "#bd3786"
             ],
             [
              0.5555555555555556,
              "#d8576b"
             ],
             [
              0.6666666666666666,
              "#ed7953"
             ],
             [
              0.7777777777777778,
              "#fb9f3a"
             ],
             [
              0.8888888888888888,
              "#fdca26"
             ],
             [
              1,
              "#f0f921"
             ]
            ],
            "type": "heatmap"
           }
          ],
          "histogram": [
           {
            "marker": {
             "pattern": {
              "fillmode": "overlay",
              "size": 10,
              "solidity": 0.2
             }
            },
            "type": "histogram"
           }
          ],
          "histogram2d": [
           {
            "colorbar": {
             "outlinewidth": 0,
             "ticks": ""
            },
            "colorscale": [
             [
              0,
              "#0d0887"
             ],
             [
              0.1111111111111111,
              "#46039f"
             ],
             [
              0.2222222222222222,
              "#7201a8"
             ],
             [
              0.3333333333333333,
              "#9c179e"
             ],
             [
              0.4444444444444444,
              "#bd3786"
             ],
             [
              0.5555555555555556,
              "#d8576b"
             ],
             [
              0.6666666666666666,
              "#ed7953"
             ],
             [
              0.7777777777777778,
              "#fb9f3a"
             ],
             [
              0.8888888888888888,
              "#fdca26"
             ],
             [
              1,
              "#f0f921"
             ]
            ],
            "type": "histogram2d"
           }
          ],
          "histogram2dcontour": [
           {
            "colorbar": {
             "outlinewidth": 0,
             "ticks": ""
            },
            "colorscale": [
             [
              0,
              "#0d0887"
             ],
             [
              0.1111111111111111,
              "#46039f"
             ],
             [
              0.2222222222222222,
              "#7201a8"
             ],
             [
              0.3333333333333333,
              "#9c179e"
             ],
             [
              0.4444444444444444,
              "#bd3786"
             ],
             [
              0.5555555555555556,
              "#d8576b"
             ],
             [
              0.6666666666666666,
              "#ed7953"
             ],
             [
              0.7777777777777778,
              "#fb9f3a"
             ],
             [
              0.8888888888888888,
              "#fdca26"
             ],
             [
              1,
              "#f0f921"
             ]
            ],
            "type": "histogram2dcontour"
           }
          ],
          "mesh3d": [
           {
            "colorbar": {
             "outlinewidth": 0,
             "ticks": ""
            },
            "type": "mesh3d"
           }
          ],
          "parcoords": [
           {
            "line": {
             "colorbar": {
              "outlinewidth": 0,
              "ticks": ""
             }
            },
            "type": "parcoords"
           }
          ],
          "pie": [
           {
            "automargin": true,
            "type": "pie"
           }
          ],
          "scatter": [
           {
            "marker": {
             "line": {
              "color": "#283442"
             }
            },
            "type": "scatter"
           }
          ],
          "scatter3d": [
           {
            "line": {
             "colorbar": {
              "outlinewidth": 0,
              "ticks": ""
             }
            },
            "marker": {
             "colorbar": {
              "outlinewidth": 0,
              "ticks": ""
             }
            },
            "type": "scatter3d"
           }
          ],
          "scattercarpet": [
           {
            "marker": {
             "colorbar": {
              "outlinewidth": 0,
              "ticks": ""
             }
            },
            "type": "scattercarpet"
           }
          ],
          "scattergeo": [
           {
            "marker": {
             "colorbar": {
              "outlinewidth": 0,
              "ticks": ""
             }
            },
            "type": "scattergeo"
           }
          ],
          "scattergl": [
           {
            "marker": {
             "line": {
              "color": "#283442"
             }
            },
            "type": "scattergl"
           }
          ],
          "scattermap": [
           {
            "marker": {
             "colorbar": {
              "outlinewidth": 0,
              "ticks": ""
             }
            },
            "type": "scattermap"
           }
          ],
          "scattermapbox": [
           {
            "marker": {
             "colorbar": {
              "outlinewidth": 0,
              "ticks": ""
             }
            },
            "type": "scattermapbox"
           }
          ],
          "scatterpolar": [
           {
            "marker": {
             "colorbar": {
              "outlinewidth": 0,
              "ticks": ""
             }
            },
            "type": "scatterpolar"
           }
          ],
          "scatterpolargl": [
           {
            "marker": {
             "colorbar": {
              "outlinewidth": 0,
              "ticks": ""
             }
            },
            "type": "scatterpolargl"
           }
          ],
          "scatterternary": [
           {
            "marker": {
             "colorbar": {
              "outlinewidth": 0,
              "ticks": ""
             }
            },
            "type": "scatterternary"
           }
          ],
          "surface": [
           {
            "colorbar": {
             "outlinewidth": 0,
             "ticks": ""
            },
            "colorscale": [
             [
              0,
              "#0d0887"
             ],
             [
              0.1111111111111111,
              "#46039f"
             ],
             [
              0.2222222222222222,
              "#7201a8"
             ],
             [
              0.3333333333333333,
              "#9c179e"
             ],
             [
              0.4444444444444444,
              "#bd3786"
             ],
             [
              0.5555555555555556,
              "#d8576b"
             ],
             [
              0.6666666666666666,
              "#ed7953"
             ],
             [
              0.7777777777777778,
              "#fb9f3a"
             ],
             [
              0.8888888888888888,
              "#fdca26"
             ],
             [
              1,
              "#f0f921"
             ]
            ],
            "type": "surface"
           }
          ],
          "table": [
           {
            "cells": {
             "fill": {
              "color": "#506784"
             },
             "line": {
              "color": "rgb(17,17,17)"
             }
            },
            "header": {
             "fill": {
              "color": "#2a3f5f"
             },
             "line": {
              "color": "rgb(17,17,17)"
             }
            },
            "type": "table"
           }
          ]
         },
         "layout": {
          "annotationdefaults": {
           "arrowcolor": "#f2f5fa",
           "arrowhead": 0,
           "arrowwidth": 1
          },
          "autotypenumbers": "strict",
          "coloraxis": {
           "colorbar": {
            "outlinewidth": 0,
            "ticks": ""
           }
          },
          "colorscale": {
           "diverging": [
            [
             0,
             "#8e0152"
            ],
            [
             0.1,
             "#c51b7d"
            ],
            [
             0.2,
             "#de77ae"
            ],
            [
             0.3,
             "#f1b6da"
            ],
            [
             0.4,
             "#fde0ef"
            ],
            [
             0.5,
             "#f7f7f7"
            ],
            [
             0.6,
             "#e6f5d0"
            ],
            [
             0.7,
             "#b8e186"
            ],
            [
             0.8,
             "#7fbc41"
            ],
            [
             0.9,
             "#4d9221"
            ],
            [
             1,
             "#276419"
            ]
           ],
           "sequential": [
            [
             0,
             "#0d0887"
            ],
            [
             0.1111111111111111,
             "#46039f"
            ],
            [
             0.2222222222222222,
             "#7201a8"
            ],
            [
             0.3333333333333333,
             "#9c179e"
            ],
            [
             0.4444444444444444,
             "#bd3786"
            ],
            [
             0.5555555555555556,
             "#d8576b"
            ],
            [
             0.6666666666666666,
             "#ed7953"
            ],
            [
             0.7777777777777778,
             "#fb9f3a"
            ],
            [
             0.8888888888888888,
             "#fdca26"
            ],
            [
             1,
             "#f0f921"
            ]
           ],
           "sequentialminus": [
            [
             0,
             "#0d0887"
            ],
            [
             0.1111111111111111,
             "#46039f"
            ],
            [
             0.2222222222222222,
             "#7201a8"
            ],
            [
             0.3333333333333333,
             "#9c179e"
            ],
            [
             0.4444444444444444,
             "#bd3786"
            ],
            [
             0.5555555555555556,
             "#d8576b"
            ],
            [
             0.6666666666666666,
             "#ed7953"
            ],
            [
             0.7777777777777778,
             "#fb9f3a"
            ],
            [
             0.8888888888888888,
             "#fdca26"
            ],
            [
             1,
             "#f0f921"
            ]
           ]
          },
          "colorway": [
           "#636efa",
           "#EF553B",
           "#00cc96",
           "#ab63fa",
           "#FFA15A",
           "#19d3f3",
           "#FF6692",
           "#B6E880",
           "#FF97FF",
           "#FECB52"
          ],
          "font": {
           "color": "#f2f5fa"
          },
          "geo": {
           "bgcolor": "rgb(17,17,17)",
           "lakecolor": "rgb(17,17,17)",
           "landcolor": "rgb(17,17,17)",
           "showlakes": true,
           "showland": true,
           "subunitcolor": "#506784"
          },
          "hoverlabel": {
           "align": "left"
          },
          "hovermode": "closest",
          "mapbox": {
           "style": "dark"
          },
          "paper_bgcolor": "rgb(17,17,17)",
          "plot_bgcolor": "rgb(17,17,17)",
          "polar": {
           "angularaxis": {
            "gridcolor": "#506784",
            "linecolor": "#506784",
            "ticks": ""
           },
           "bgcolor": "rgb(17,17,17)",
           "radialaxis": {
            "gridcolor": "#506784",
            "linecolor": "#506784",
            "ticks": ""
           }
          },
          "scene": {
           "xaxis": {
            "backgroundcolor": "rgb(17,17,17)",
            "gridcolor": "#506784",
            "gridwidth": 2,
            "linecolor": "#506784",
            "showbackground": true,
            "ticks": "",
            "zerolinecolor": "#C8D4E3"
           },
           "yaxis": {
            "backgroundcolor": "rgb(17,17,17)",
            "gridcolor": "#506784",
            "gridwidth": 2,
            "linecolor": "#506784",
            "showbackground": true,
            "ticks": "",
            "zerolinecolor": "#C8D4E3"
           },
           "zaxis": {
            "backgroundcolor": "rgb(17,17,17)",
            "gridcolor": "#506784",
            "gridwidth": 2,
            "linecolor": "#506784",
            "showbackground": true,
            "ticks": "",
            "zerolinecolor": "#C8D4E3"
           }
          },
          "shapedefaults": {
           "line": {
            "color": "#f2f5fa"
           }
          },
          "sliderdefaults": {
           "bgcolor": "#C8D4E3",
           "bordercolor": "rgb(17,17,17)",
           "borderwidth": 1,
           "tickwidth": 0
          },
          "ternary": {
           "aaxis": {
            "gridcolor": "#506784",
            "linecolor": "#506784",
            "ticks": ""
           },
           "baxis": {
            "gridcolor": "#506784",
            "linecolor": "#506784",
            "ticks": ""
           },
           "bgcolor": "rgb(17,17,17)",
           "caxis": {
            "gridcolor": "#506784",
            "linecolor": "#506784",
            "ticks": ""
           }
          },
          "title": {
           "x": 0.05
          },
          "updatemenudefaults": {
           "bgcolor": "#506784",
           "borderwidth": 0
          },
          "xaxis": {
           "automargin": true,
           "gridcolor": "#283442",
           "linecolor": "#506784",
           "ticks": "",
           "title": {
            "standoff": 15
           },
           "zerolinecolor": "#283442",
           "zerolinewidth": 2
          },
          "yaxis": {
           "automargin": true,
           "gridcolor": "#283442",
           "linecolor": "#506784",
           "ticks": "",
           "title": {
            "standoff": 15
           },
           "zerolinecolor": "#283442",
           "zerolinewidth": 2
          }
         }
        },
        "xaxis": {
         "anchor": "y",
         "domain": [
          0,
          1
         ],
         "title": {
          "text": "hourofday"
         }
        },
        "yaxis": {
         "anchor": "x",
         "domain": [
          0,
          1
         ],
         "title": {
          "text": "profit"
         }
        }
       }
      }
     },
     "metadata": {},
     "output_type": "display_data"
    },
    {
     "data": {
      "application/vnd.plotly.v1+json": {
       "config": {
        "plotlyServerURL": "https://plot.ly"
       },
       "data": [
        {
         "hovertemplate": "Month=%{x}<br>Total Profit=%{y}<extra></extra>",
         "legendgroup": "",
         "marker": {
          "color": "#00CC96",
          "pattern": {
           "shape": ""
          }
         },
         "name": "",
         "orientation": "v",
         "showlegend": false,
         "textposition": "auto",
         "type": "bar",
         "x": [
          "2025-01",
          "2025-02",
          "2025-03",
          "2025-04",
          "2025-05",
          "2025-06",
          "2025-07"
         ],
         "xaxis": "x",
         "y": {
          "bdata": "MzMzMzNSl8DXo3A9CkeBwDwK16NwEpZAPQrXo3DNZcCamZmZmTVzQB+F61G4LmtAFK5H4XrEWUA=",
          "dtype": "f8"
         },
         "yaxis": "y"
        }
       ],
       "layout": {
        "barmode": "relative",
        "legend": {
         "tracegroupgap": 0
        },
        "template": {
         "data": {
          "bar": [
           {
            "error_x": {
             "color": "#f2f5fa"
            },
            "error_y": {
             "color": "#f2f5fa"
            },
            "marker": {
             "line": {
              "color": "rgb(17,17,17)",
              "width": 0.5
             },
             "pattern": {
              "fillmode": "overlay",
              "size": 10,
              "solidity": 0.2
             }
            },
            "type": "bar"
           }
          ],
          "barpolar": [
           {
            "marker": {
             "line": {
              "color": "rgb(17,17,17)",
              "width": 0.5
             },
             "pattern": {
              "fillmode": "overlay",
              "size": 10,
              "solidity": 0.2
             }
            },
            "type": "barpolar"
           }
          ],
          "carpet": [
           {
            "aaxis": {
             "endlinecolor": "#A2B1C6",
             "gridcolor": "#506784",
             "linecolor": "#506784",
             "minorgridcolor": "#506784",
             "startlinecolor": "#A2B1C6"
            },
            "baxis": {
             "endlinecolor": "#A2B1C6",
             "gridcolor": "#506784",
             "linecolor": "#506784",
             "minorgridcolor": "#506784",
             "startlinecolor": "#A2B1C6"
            },
            "type": "carpet"
           }
          ],
          "choropleth": [
           {
            "colorbar": {
             "outlinewidth": 0,
             "ticks": ""
            },
            "type": "choropleth"
           }
          ],
          "contour": [
           {
            "colorbar": {
             "outlinewidth": 0,
             "ticks": ""
            },
            "colorscale": [
             [
              0,
              "#0d0887"
             ],
             [
              0.1111111111111111,
              "#46039f"
             ],
             [
              0.2222222222222222,
              "#7201a8"
             ],
             [
              0.3333333333333333,
              "#9c179e"
             ],
             [
              0.4444444444444444,
              "#bd3786"
             ],
             [
              0.5555555555555556,
              "#d8576b"
             ],
             [
              0.6666666666666666,
              "#ed7953"
             ],
             [
              0.7777777777777778,
              "#fb9f3a"
             ],
             [
              0.8888888888888888,
              "#fdca26"
             ],
             [
              1,
              "#f0f921"
             ]
            ],
            "type": "contour"
           }
          ],
          "contourcarpet": [
           {
            "colorbar": {
             "outlinewidth": 0,
             "ticks": ""
            },
            "type": "contourcarpet"
           }
          ],
          "heatmap": [
           {
            "colorbar": {
             "outlinewidth": 0,
             "ticks": ""
            },
            "colorscale": [
             [
              0,
              "#0d0887"
             ],
             [
              0.1111111111111111,
              "#46039f"
             ],
             [
              0.2222222222222222,
              "#7201a8"
             ],
             [
              0.3333333333333333,
              "#9c179e"
             ],
             [
              0.4444444444444444,
              "#bd3786"
             ],
             [
              0.5555555555555556,
              "#d8576b"
             ],
             [
              0.6666666666666666,
              "#ed7953"
             ],
             [
              0.7777777777777778,
              "#fb9f3a"
             ],
             [
              0.8888888888888888,
              "#fdca26"
             ],
             [
              1,
              "#f0f921"
             ]
            ],
            "type": "heatmap"
           }
          ],
          "histogram": [
           {
            "marker": {
             "pattern": {
              "fillmode": "overlay",
              "size": 10,
              "solidity": 0.2
             }
            },
            "type": "histogram"
           }
          ],
          "histogram2d": [
           {
            "colorbar": {
             "outlinewidth": 0,
             "ticks": ""
            },
            "colorscale": [
             [
              0,
              "#0d0887"
             ],
             [
              0.1111111111111111,
              "#46039f"
             ],
             [
              0.2222222222222222,
              "#7201a8"
             ],
             [
              0.3333333333333333,
              "#9c179e"
             ],
             [
              0.4444444444444444,
              "#bd3786"
             ],
             [
              0.5555555555555556,
              "#d8576b"
             ],
             [
              0.6666666666666666,
              "#ed7953"
             ],
             [
              0.7777777777777778,
              "#fb9f3a"
             ],
             [
              0.8888888888888888,
              "#fdca26"
             ],
             [
              1,
              "#f0f921"
             ]
            ],
            "type": "histogram2d"
           }
          ],
          "histogram2dcontour": [
           {
            "colorbar": {
             "outlinewidth": 0,
             "ticks": ""
            },
            "colorscale": [
             [
              0,
              "#0d0887"
             ],
             [
              0.1111111111111111,
              "#46039f"
             ],
             [
              0.2222222222222222,
              "#7201a8"
             ],
             [
              0.3333333333333333,
              "#9c179e"
             ],
             [
              0.4444444444444444,
              "#bd3786"
             ],
             [
              0.5555555555555556,
              "#d8576b"
             ],
             [
              0.6666666666666666,
              "#ed7953"
             ],
             [
              0.7777777777777778,
              "#fb9f3a"
             ],
             [
              0.8888888888888888,
              "#fdca26"
             ],
             [
              1,
              "#f0f921"
             ]
            ],
            "type": "histogram2dcontour"
           }
          ],
          "mesh3d": [
           {
            "colorbar": {
             "outlinewidth": 0,
             "ticks": ""
            },
            "type": "mesh3d"
           }
          ],
          "parcoords": [
           {
            "line": {
             "colorbar": {
              "outlinewidth": 0,
              "ticks": ""
             }
            },
            "type": "parcoords"
           }
          ],
          "pie": [
           {
            "automargin": true,
            "type": "pie"
           }
          ],
          "scatter": [
           {
            "marker": {
             "line": {
              "color": "#283442"
             }
            },
            "type": "scatter"
           }
          ],
          "scatter3d": [
           {
            "line": {
             "colorbar": {
              "outlinewidth": 0,
              "ticks": ""
             }
            },
            "marker": {
             "colorbar": {
              "outlinewidth": 0,
              "ticks": ""
             }
            },
            "type": "scatter3d"
           }
          ],
          "scattercarpet": [
           {
            "marker": {
             "colorbar": {
              "outlinewidth": 0,
              "ticks": ""
             }
            },
            "type": "scattercarpet"
           }
          ],
          "scattergeo": [
           {
            "marker": {
             "colorbar": {
              "outlinewidth": 0,
              "ticks": ""
             }
            },
            "type": "scattergeo"
           }
          ],
          "scattergl": [
           {
            "marker": {
             "line": {
              "color": "#283442"
             }
            },
            "type": "scattergl"
           }
          ],
          "scattermap": [
           {
            "marker": {
             "colorbar": {
              "outlinewidth": 0,
              "ticks": ""
             }
            },
            "type": "scattermap"
           }
          ],
          "scattermapbox": [
           {
            "marker": {
             "colorbar": {
              "outlinewidth": 0,
              "ticks": ""
             }
            },
            "type": "scattermapbox"
           }
          ],
          "scatterpolar": [
           {
            "marker": {
             "colorbar": {
              "outlinewidth": 0,
              "ticks": ""
             }
            },
            "type": "scatterpolar"
           }
          ],
          "scatterpolargl": [
           {
            "marker": {
             "colorbar": {
              "outlinewidth": 0,
              "ticks": ""
             }
            },
            "type": "scatterpolargl"
           }
          ],
          "scatterternary": [
           {
            "marker": {
             "colorbar": {
              "outlinewidth": 0,
              "ticks": ""
             }
            },
            "type": "scatterternary"
           }
          ],
          "surface": [
           {
            "colorbar": {
             "outlinewidth": 0,
             "ticks": ""
            },
            "colorscale": [
             [
              0,
              "#0d0887"
             ],
             [
              0.1111111111111111,
              "#46039f"
             ],
             [
              0.2222222222222222,
              "#7201a8"
             ],
             [
              0.3333333333333333,
              "#9c179e"
             ],
             [
              0.4444444444444444,
              "#bd3786"
             ],
             [
              0.5555555555555556,
              "#d8576b"
             ],
             [
              0.6666666666666666,
              "#ed7953"
             ],
             [
              0.7777777777777778,
              "#fb9f3a"
             ],
             [
              0.8888888888888888,
              "#fdca26"
             ],
             [
              1,
              "#f0f921"
             ]
            ],
            "type": "surface"
           }
          ],
          "table": [
           {
            "cells": {
             "fill": {
              "color": "#506784"
             },
             "line": {
              "color": "rgb(17,17,17)"
             }
            },
            "header": {
             "fill": {
              "color": "#2a3f5f"
             },
             "line": {
              "color": "rgb(17,17,17)"
             }
            },
            "type": "table"
           }
          ]
         },
         "layout": {
          "annotationdefaults": {
           "arrowcolor": "#f2f5fa",
           "arrowhead": 0,
           "arrowwidth": 1
          },
          "autotypenumbers": "strict",
          "coloraxis": {
           "colorbar": {
            "outlinewidth": 0,
            "ticks": ""
           }
          },
          "colorscale": {
           "diverging": [
            [
             0,
             "#8e0152"
            ],
            [
             0.1,
             "#c51b7d"
            ],
            [
             0.2,
             "#de77ae"
            ],
            [
             0.3,
             "#f1b6da"
            ],
            [
             0.4,
             "#fde0ef"
            ],
            [
             0.5,
             "#f7f7f7"
            ],
            [
             0.6,
             "#e6f5d0"
            ],
            [
             0.7,
             "#b8e186"
            ],
            [
             0.8,
             "#7fbc41"
            ],
            [
             0.9,
             "#4d9221"
            ],
            [
             1,
             "#276419"
            ]
           ],
           "sequential": [
            [
             0,
             "#0d0887"
            ],
            [
             0.1111111111111111,
             "#46039f"
            ],
            [
             0.2222222222222222,
             "#7201a8"
            ],
            [
             0.3333333333333333,
             "#9c179e"
            ],
            [
             0.4444444444444444,
             "#bd3786"
            ],
            [
             0.5555555555555556,
             "#d8576b"
            ],
            [
             0.6666666666666666,
             "#ed7953"
            ],
            [
             0.7777777777777778,
             "#fb9f3a"
            ],
            [
             0.8888888888888888,
             "#fdca26"
            ],
            [
             1,
             "#f0f921"
            ]
           ],
           "sequentialminus": [
            [
             0,
             "#0d0887"
            ],
            [
             0.1111111111111111,
             "#46039f"
            ],
            [
             0.2222222222222222,
             "#7201a8"
            ],
            [
             0.3333333333333333,
             "#9c179e"
            ],
            [
             0.4444444444444444,
             "#bd3786"
            ],
            [
             0.5555555555555556,
             "#d8576b"
            ],
            [
             0.6666666666666666,
             "#ed7953"
            ],
            [
             0.7777777777777778,
             "#fb9f3a"
            ],
            [
             0.8888888888888888,
             "#fdca26"
            ],
            [
             1,
             "#f0f921"
            ]
           ]
          },
          "colorway": [
           "#636efa",
           "#EF553B",
           "#00cc96",
           "#ab63fa",
           "#FFA15A",
           "#19d3f3",
           "#FF6692",
           "#B6E880",
           "#FF97FF",
           "#FECB52"
          ],
          "font": {
           "color": "#f2f5fa"
          },
          "geo": {
           "bgcolor": "rgb(17,17,17)",
           "lakecolor": "rgb(17,17,17)",
           "landcolor": "rgb(17,17,17)",
           "showlakes": true,
           "showland": true,
           "subunitcolor": "#506784"
          },
          "hoverlabel": {
           "align": "left"
          },
          "hovermode": "closest",
          "mapbox": {
           "style": "dark"
          },
          "paper_bgcolor": "rgb(17,17,17)",
          "plot_bgcolor": "rgb(17,17,17)",
          "polar": {
           "angularaxis": {
            "gridcolor": "#506784",
            "linecolor": "#506784",
            "ticks": ""
           },
           "bgcolor": "rgb(17,17,17)",
           "radialaxis": {
            "gridcolor": "#506784",
            "linecolor": "#506784",
            "ticks": ""
           }
          },
          "scene": {
           "xaxis": {
            "backgroundcolor": "rgb(17,17,17)",
            "gridcolor": "#506784",
            "gridwidth": 2,
            "linecolor": "#506784",
            "showbackground": true,
            "ticks": "",
            "zerolinecolor": "#C8D4E3"
           },
           "yaxis": {
            "backgroundcolor": "rgb(17,17,17)",
            "gridcolor": "#506784",
            "gridwidth": 2,
            "linecolor": "#506784",
            "showbackground": true,
            "ticks": "",
            "zerolinecolor": "#C8D4E3"
           },
           "zaxis": {
            "backgroundcolor": "rgb(17,17,17)",
            "gridcolor": "#506784",
            "gridwidth": 2,
            "linecolor": "#506784",
            "showbackground": true,
            "ticks": "",
            "zerolinecolor": "#C8D4E3"
           }
          },
          "shapedefaults": {
           "line": {
            "color": "#f2f5fa"
           }
          },
          "sliderdefaults": {
           "bgcolor": "#C8D4E3",
           "bordercolor": "rgb(17,17,17)",
           "borderwidth": 1,
           "tickwidth": 0
          },
          "ternary": {
           "aaxis": {
            "gridcolor": "#506784",
            "linecolor": "#506784",
            "ticks": ""
           },
           "baxis": {
            "gridcolor": "#506784",
            "linecolor": "#506784",
            "ticks": ""
           },
           "bgcolor": "rgb(17,17,17)",
           "caxis": {
            "gridcolor": "#506784",
            "linecolor": "#506784",
            "ticks": ""
           }
          },
          "title": {
           "x": 0.05
          },
          "updatemenudefaults": {
           "bgcolor": "#506784",
           "borderwidth": 0
          },
          "xaxis": {
           "automargin": true,
           "gridcolor": "#283442",
           "linecolor": "#506784",
           "ticks": "",
           "title": {
            "standoff": 15
           },
           "zerolinecolor": "#283442",
           "zerolinewidth": 2
          },
          "yaxis": {
           "automargin": true,
           "gridcolor": "#283442",
           "linecolor": "#506784",
           "ticks": "",
           "title": {
            "standoff": 15
           },
           "zerolinecolor": "#283442",
           "zerolinewidth": 2
          }
         }
        },
        "title": {
         "text": "Total Profit Per Month"
        },
        "xaxis": {
         "anchor": "y",
         "domain": [
          0,
          1
         ],
         "tickangle": -45,
         "title": {
          "text": "Month"
         }
        },
        "yaxis": {
         "anchor": "x",
         "domain": [
          0,
          1
         ],
         "title": {
          "text": "Total Profit"
         }
        }
       }
      }
     },
     "metadata": {},
     "output_type": "display_data"
    },
    {
     "data": {
      "application/vnd.plotly.v1+json": {
       "config": {
        "plotlyServerURL": "https://plot.ly"
       },
       "data": [
        {
         "hovertemplate": "Year=%{x}<br>Total Profit=%{y}<extra></extra>",
         "legendgroup": "",
         "marker": {
          "color": "#EF553B",
          "pattern": {
           "shape": ""
          }
         },
         "name": "",
         "orientation": "v",
         "showlegend": false,
         "textposition": "auto",
         "type": "bar",
         "x": {
          "bdata": "6QcAAA==",
          "dtype": "i4"
         },
         "xaxis": "x",
         "y": {
          "bdata": "8VG4HoVrZsA=",
          "dtype": "f8"
         },
         "yaxis": "y"
        }
       ],
       "layout": {
        "barmode": "relative",
        "legend": {
         "tracegroupgap": 0
        },
        "template": {
         "data": {
          "bar": [
           {
            "error_x": {
             "color": "#f2f5fa"
            },
            "error_y": {
             "color": "#f2f5fa"
            },
            "marker": {
             "line": {
              "color": "rgb(17,17,17)",
              "width": 0.5
             },
             "pattern": {
              "fillmode": "overlay",
              "size": 10,
              "solidity": 0.2
             }
            },
            "type": "bar"
           }
          ],
          "barpolar": [
           {
            "marker": {
             "line": {
              "color": "rgb(17,17,17)",
              "width": 0.5
             },
             "pattern": {
              "fillmode": "overlay",
              "size": 10,
              "solidity": 0.2
             }
            },
            "type": "barpolar"
           }
          ],
          "carpet": [
           {
            "aaxis": {
             "endlinecolor": "#A2B1C6",
             "gridcolor": "#506784",
             "linecolor": "#506784",
             "minorgridcolor": "#506784",
             "startlinecolor": "#A2B1C6"
            },
            "baxis": {
             "endlinecolor": "#A2B1C6",
             "gridcolor": "#506784",
             "linecolor": "#506784",
             "minorgridcolor": "#506784",
             "startlinecolor": "#A2B1C6"
            },
            "type": "carpet"
           }
          ],
          "choropleth": [
           {
            "colorbar": {
             "outlinewidth": 0,
             "ticks": ""
            },
            "type": "choropleth"
           }
          ],
          "contour": [
           {
            "colorbar": {
             "outlinewidth": 0,
             "ticks": ""
            },
            "colorscale": [
             [
              0,
              "#0d0887"
             ],
             [
              0.1111111111111111,
              "#46039f"
             ],
             [
              0.2222222222222222,
              "#7201a8"
             ],
             [
              0.3333333333333333,
              "#9c179e"
             ],
             [
              0.4444444444444444,
              "#bd3786"
             ],
             [
              0.5555555555555556,
              "#d8576b"
             ],
             [
              0.6666666666666666,
              "#ed7953"
             ],
             [
              0.7777777777777778,
              "#fb9f3a"
             ],
             [
              0.8888888888888888,
              "#fdca26"
             ],
             [
              1,
              "#f0f921"
             ]
            ],
            "type": "contour"
           }
          ],
          "contourcarpet": [
           {
            "colorbar": {
             "outlinewidth": 0,
             "ticks": ""
            },
            "type": "contourcarpet"
           }
          ],
          "heatmap": [
           {
            "colorbar": {
             "outlinewidth": 0,
             "ticks": ""
            },
            "colorscale": [
             [
              0,
              "#0d0887"
             ],
             [
              0.1111111111111111,
              "#46039f"
             ],
             [
              0.2222222222222222,
              "#7201a8"
             ],
             [
              0.3333333333333333,
              "#9c179e"
             ],
             [
              0.4444444444444444,
              "#bd3786"
             ],
             [
              0.5555555555555556,
              "#d8576b"
             ],
             [
              0.6666666666666666,
              "#ed7953"
             ],
             [
              0.7777777777777778,
              "#fb9f3a"
             ],
             [
              0.8888888888888888,
              "#fdca26"
             ],
             [
              1,
              "#f0f921"
             ]
            ],
            "type": "heatmap"
           }
          ],
          "histogram": [
           {
            "marker": {
             "pattern": {
              "fillmode": "overlay",
              "size": 10,
              "solidity": 0.2
             }
            },
            "type": "histogram"
           }
          ],
          "histogram2d": [
           {
            "colorbar": {
             "outlinewidth": 0,
             "ticks": ""
            },
            "colorscale": [
             [
              0,
              "#0d0887"
             ],
             [
              0.1111111111111111,
              "#46039f"
             ],
             [
              0.2222222222222222,
              "#7201a8"
             ],
             [
              0.3333333333333333,
              "#9c179e"
             ],
             [
              0.4444444444444444,
              "#bd3786"
             ],
             [
              0.5555555555555556,
              "#d8576b"
             ],
             [
              0.6666666666666666,
              "#ed7953"
             ],
             [
              0.7777777777777778,
              "#fb9f3a"
             ],
             [
              0.8888888888888888,
              "#fdca26"
             ],
             [
              1,
              "#f0f921"
             ]
            ],
            "type": "histogram2d"
           }
          ],
          "histogram2dcontour": [
           {
            "colorbar": {
             "outlinewidth": 0,
             "ticks": ""
            },
            "colorscale": [
             [
              0,
              "#0d0887"
             ],
             [
              0.1111111111111111,
              "#46039f"
             ],
             [
              0.2222222222222222,
              "#7201a8"
             ],
             [
              0.3333333333333333,
              "#9c179e"
             ],
             [
              0.4444444444444444,
              "#bd3786"
             ],
             [
              0.5555555555555556,
              "#d8576b"
             ],
             [
              0.6666666666666666,
              "#ed7953"
             ],
             [
              0.7777777777777778,
              "#fb9f3a"
             ],
             [
              0.8888888888888888,
              "#fdca26"
             ],
             [
              1,
              "#f0f921"
             ]
            ],
            "type": "histogram2dcontour"
           }
          ],
          "mesh3d": [
           {
            "colorbar": {
             "outlinewidth": 0,
             "ticks": ""
            },
            "type": "mesh3d"
           }
          ],
          "parcoords": [
           {
            "line": {
             "colorbar": {
              "outlinewidth": 0,
              "ticks": ""
             }
            },
            "type": "parcoords"
           }
          ],
          "pie": [
           {
            "automargin": true,
            "type": "pie"
           }
          ],
          "scatter": [
           {
            "marker": {
             "line": {
              "color": "#283442"
             }
            },
            "type": "scatter"
           }
          ],
          "scatter3d": [
           {
            "line": {
             "colorbar": {
              "outlinewidth": 0,
              "ticks": ""
             }
            },
            "marker": {
             "colorbar": {
              "outlinewidth": 0,
              "ticks": ""
             }
            },
            "type": "scatter3d"
           }
          ],
          "scattercarpet": [
           {
            "marker": {
             "colorbar": {
              "outlinewidth": 0,
              "ticks": ""
             }
            },
            "type": "scattercarpet"
           }
          ],
          "scattergeo": [
           {
            "marker": {
             "colorbar": {
              "outlinewidth": 0,
              "ticks": ""
             }
            },
            "type": "scattergeo"
           }
          ],
          "scattergl": [
           {
            "marker": {
             "line": {
              "color": "#283442"
             }
            },
            "type": "scattergl"
           }
          ],
          "scattermap": [
           {
            "marker": {
             "colorbar": {
              "outlinewidth": 0,
              "ticks": ""
             }
            },
            "type": "scattermap"
           }
          ],
          "scattermapbox": [
           {
            "marker": {
             "colorbar": {
              "outlinewidth": 0,
              "ticks": ""
             }
            },
            "type": "scattermapbox"
           }
          ],
          "scatterpolar": [
           {
            "marker": {
             "colorbar": {
              "outlinewidth": 0,
              "ticks": ""
             }
            },
            "type": "scatterpolar"
           }
          ],
          "scatterpolargl": [
           {
            "marker": {
             "colorbar": {
              "outlinewidth": 0,
              "ticks": ""
             }
            },
            "type": "scatterpolargl"
           }
          ],
          "scatterternary": [
           {
            "marker": {
             "colorbar": {
              "outlinewidth": 0,
              "ticks": ""
             }
            },
            "type": "scatterternary"
           }
          ],
          "surface": [
           {
            "colorbar": {
             "outlinewidth": 0,
             "ticks": ""
            },
            "colorscale": [
             [
              0,
              "#0d0887"
             ],
             [
              0.1111111111111111,
              "#46039f"
             ],
             [
              0.2222222222222222,
              "#7201a8"
             ],
             [
              0.3333333333333333,
              "#9c179e"
             ],
             [
              0.4444444444444444,
              "#bd3786"
             ],
             [
              0.5555555555555556,
              "#d8576b"
             ],
             [
              0.6666666666666666,
              "#ed7953"
             ],
             [
              0.7777777777777778,
              "#fb9f3a"
             ],
             [
              0.8888888888888888,
              "#fdca26"
             ],
             [
              1,
              "#f0f921"
             ]
            ],
            "type": "surface"
           }
          ],
          "table": [
           {
            "cells": {
             "fill": {
              "color": "#506784"
             },
             "line": {
              "color": "rgb(17,17,17)"
             }
            },
            "header": {
             "fill": {
              "color": "#2a3f5f"
             },
             "line": {
              "color": "rgb(17,17,17)"
             }
            },
            "type": "table"
           }
          ]
         },
         "layout": {
          "annotationdefaults": {
           "arrowcolor": "#f2f5fa",
           "arrowhead": 0,
           "arrowwidth": 1
          },
          "autotypenumbers": "strict",
          "coloraxis": {
           "colorbar": {
            "outlinewidth": 0,
            "ticks": ""
           }
          },
          "colorscale": {
           "diverging": [
            [
             0,
             "#8e0152"
            ],
            [
             0.1,
             "#c51b7d"
            ],
            [
             0.2,
             "#de77ae"
            ],
            [
             0.3,
             "#f1b6da"
            ],
            [
             0.4,
             "#fde0ef"
            ],
            [
             0.5,
             "#f7f7f7"
            ],
            [
             0.6,
             "#e6f5d0"
            ],
            [
             0.7,
             "#b8e186"
            ],
            [
             0.8,
             "#7fbc41"
            ],
            [
             0.9,
             "#4d9221"
            ],
            [
             1,
             "#276419"
            ]
           ],
           "sequential": [
            [
             0,
             "#0d0887"
            ],
            [
             0.1111111111111111,
             "#46039f"
            ],
            [
             0.2222222222222222,
             "#7201a8"
            ],
            [
             0.3333333333333333,
             "#9c179e"
            ],
            [
             0.4444444444444444,
             "#bd3786"
            ],
            [
             0.5555555555555556,
             "#d8576b"
            ],
            [
             0.6666666666666666,
             "#ed7953"
            ],
            [
             0.7777777777777778,
             "#fb9f3a"
            ],
            [
             0.8888888888888888,
             "#fdca26"
            ],
            [
             1,
             "#f0f921"
            ]
           ],
           "sequentialminus": [
            [
             0,
             "#0d0887"
            ],
            [
             0.1111111111111111,
             "#46039f"
            ],
            [
             0.2222222222222222,
             "#7201a8"
            ],
            [
             0.3333333333333333,
             "#9c179e"
            ],
            [
             0.4444444444444444,
             "#bd3786"
            ],
            [
             0.5555555555555556,
             "#d8576b"
            ],
            [
             0.6666666666666666,
             "#ed7953"
            ],
            [
             0.7777777777777778,
             "#fb9f3a"
            ],
            [
             0.8888888888888888,
             "#fdca26"
            ],
            [
             1,
             "#f0f921"
            ]
           ]
          },
          "colorway": [
           "#636efa",
           "#EF553B",
           "#00cc96",
           "#ab63fa",
           "#FFA15A",
           "#19d3f3",
           "#FF6692",
           "#B6E880",
           "#FF97FF",
           "#FECB52"
          ],
          "font": {
           "color": "#f2f5fa"
          },
          "geo": {
           "bgcolor": "rgb(17,17,17)",
           "lakecolor": "rgb(17,17,17)",
           "landcolor": "rgb(17,17,17)",
           "showlakes": true,
           "showland": true,
           "subunitcolor": "#506784"
          },
          "hoverlabel": {
           "align": "left"
          },
          "hovermode": "closest",
          "mapbox": {
           "style": "dark"
          },
          "paper_bgcolor": "rgb(17,17,17)",
          "plot_bgcolor": "rgb(17,17,17)",
          "polar": {
           "angularaxis": {
            "gridcolor": "#506784",
            "linecolor": "#506784",
            "ticks": ""
           },
           "bgcolor": "rgb(17,17,17)",
           "radialaxis": {
            "gridcolor": "#506784",
            "linecolor": "#506784",
            "ticks": ""
           }
          },
          "scene": {
           "xaxis": {
            "backgroundcolor": "rgb(17,17,17)",
            "gridcolor": "#506784",
            "gridwidth": 2,
            "linecolor": "#506784",
            "showbackground": true,
            "ticks": "",
            "zerolinecolor": "#C8D4E3"
           },
           "yaxis": {
            "backgroundcolor": "rgb(17,17,17)",
            "gridcolor": "#506784",
            "gridwidth": 2,
            "linecolor": "#506784",
            "showbackground": true,
            "ticks": "",
            "zerolinecolor": "#C8D4E3"
           },
           "zaxis": {
            "backgroundcolor": "rgb(17,17,17)",
            "gridcolor": "#506784",
            "gridwidth": 2,
            "linecolor": "#506784",
            "showbackground": true,
            "ticks": "",
            "zerolinecolor": "#C8D4E3"
           }
          },
          "shapedefaults": {
           "line": {
            "color": "#f2f5fa"
           }
          },
          "sliderdefaults": {
           "bgcolor": "#C8D4E3",
           "bordercolor": "rgb(17,17,17)",
           "borderwidth": 1,
           "tickwidth": 0
          },
          "ternary": {
           "aaxis": {
            "gridcolor": "#506784",
            "linecolor": "#506784",
            "ticks": ""
           },
           "baxis": {
            "gridcolor": "#506784",
            "linecolor": "#506784",
            "ticks": ""
           },
           "bgcolor": "rgb(17,17,17)",
           "caxis": {
            "gridcolor": "#506784",
            "linecolor": "#506784",
            "ticks": ""
           }
          },
          "title": {
           "x": 0.05
          },
          "updatemenudefaults": {
           "bgcolor": "#506784",
           "borderwidth": 0
          },
          "xaxis": {
           "automargin": true,
           "gridcolor": "#283442",
           "linecolor": "#506784",
           "ticks": "",
           "title": {
            "standoff": 15
           },
           "zerolinecolor": "#283442",
           "zerolinewidth": 2
          },
          "yaxis": {
           "automargin": true,
           "gridcolor": "#283442",
           "linecolor": "#506784",
           "ticks": "",
           "title": {
            "standoff": 15
           },
           "zerolinecolor": "#283442",
           "zerolinewidth": 2
          }
         }
        },
        "title": {
         "text": "Total Profit Per Year"
        },
        "xaxis": {
         "anchor": "y",
         "domain": [
          0,
          1
         ],
         "title": {
          "text": "Year"
         },
         "type": "category"
        },
        "yaxis": {
         "anchor": "x",
         "domain": [
          0,
          1
         ],
         "title": {
          "text": "Total Profit"
         }
        }
       }
      }
     },
     "metadata": {},
     "output_type": "display_data"
    },
    {
     "data": {
      "text/html": [
       "<div>\n",
       "<style scoped>\n",
       "    .dataframe tbody tr th:only-of-type {\n",
       "        vertical-align: middle;\n",
       "    }\n",
       "\n",
       "    .dataframe tbody tr th {\n",
       "        vertical-align: top;\n",
       "    }\n",
       "\n",
       "    .dataframe thead th {\n",
       "        text-align: right;\n",
       "    }\n",
       "</style>\n",
       "<table border=\"1\" class=\"dataframe\">\n",
       "  <thead>\n",
       "    <tr style=\"text-align: right;\">\n",
       "      <th></th>\n",
       "      <th>state</th>\n",
       "      <th>symbol</th>\n",
       "      <th>order_type</th>\n",
       "      <th>volume</th>\n",
       "      <th>open_time</th>\n",
       "      <th>open_price</th>\n",
       "      <th>close_time</th>\n",
       "      <th>close_price</th>\n",
       "      <th>sl</th>\n",
       "      <th>tp</th>\n",
       "      <th>...</th>\n",
       "      <th>commission</th>\n",
       "      <th>profit_net</th>\n",
       "      <th>profit_cumulative</th>\n",
       "      <th>balance</th>\n",
       "      <th>current_max</th>\n",
       "      <th>drawdown</th>\n",
       "      <th>dayofweek</th>\n",
       "      <th>hourofday</th>\n",
       "      <th>month</th>\n",
       "      <th>year</th>\n",
       "    </tr>\n",
       "  </thead>\n",
       "  <tbody>\n",
       "    <tr>\n",
       "      <th>0</th>\n",
       "      <td>closed</td>\n",
       "      <td>EURUSD</td>\n",
       "      <td>sell</td>\n",
       "      <td>70175.438596</td>\n",
       "      <td>2025-01-06 09:30:00</td>\n",
       "      <td>1.03191</td>\n",
       "      <td>2025-01-06 11:00:00</td>\n",
       "      <td>1.03503</td>\n",
       "      <td>0</td>\n",
       "      <td>0</td>\n",
       "      <td>...</td>\n",
       "      <td>-4.912281</td>\n",
       "      <td>-223.862281</td>\n",
       "      <td>-223.862281</td>\n",
       "      <td>9776.137719</td>\n",
       "      <td>-223.862281</td>\n",
       "      <td>0.0</td>\n",
       "      <td>0</td>\n",
       "      <td>9</td>\n",
       "      <td>2025-01</td>\n",
       "      <td>2025</td>\n",
       "    </tr>\n",
       "    <tr>\n",
       "      <th>1</th>\n",
       "      <td>closed</td>\n",
       "      <td>EURUSD</td>\n",
       "      <td>sell</td>\n",
       "      <td>55096.418733</td>\n",
       "      <td>2025-01-14 00:50:00</td>\n",
       "      <td>1.02647</td>\n",
       "      <td>2025-01-14 21:35:00</td>\n",
       "      <td>1.03025</td>\n",
       "      <td>0</td>\n",
       "      <td>0</td>\n",
       "      <td>...</td>\n",
       "      <td>-3.856749</td>\n",
       "      <td>-212.116749</td>\n",
       "      <td>-435.97903</td>\n",
       "      <td>9564.02097</td>\n",
       "      <td>-223.862281</td>\n",
       "      <td>-212.116749</td>\n",
       "      <td>1</td>\n",
       "      <td>0</td>\n",
       "      <td>2025-01</td>\n",
       "      <td>2025</td>\n",
       "    </tr>\n",
       "    <tr>\n",
       "      <th>2</th>\n",
       "      <td>closed</td>\n",
       "      <td>EURUSD</td>\n",
       "      <td>sell</td>\n",
       "      <td>56737.588652</td>\n",
       "      <td>2025-01-15 15:30:00</td>\n",
       "      <td>1.03007</td>\n",
       "      <td>2025-01-20 15:30:00</td>\n",
       "      <td>1.03139</td>\n",
       "      <td>0</td>\n",
       "      <td>0</td>\n",
       "      <td>...</td>\n",
       "      <td>-3.971631</td>\n",
       "      <td>-78.861631</td>\n",
       "      <td>-514.840661</td>\n",
       "      <td>9485.159339</td>\n",
       "      <td>-223.862281</td>\n",
       "      <td>-290.978381</td>\n",
       "      <td>2</td>\n",
       "      <td>15</td>\n",
       "      <td>2025-01</td>\n",
       "      <td>2025</td>\n",
       "    </tr>\n",
       "    <tr>\n",
       "      <th>3</th>\n",
       "      <td>closed</td>\n",
       "      <td>EURUSD</td>\n",
       "      <td>buy</td>\n",
       "      <td>61633.281972</td>\n",
       "      <td>2025-01-23 18:10:00</td>\n",
       "      <td>1.03964</td>\n",
       "      <td>2025-02-03 00:00:00</td>\n",
       "      <td>1.02357</td>\n",
       "      <td>0</td>\n",
       "      <td>0</td>\n",
       "      <td>...</td>\n",
       "      <td>-4.31433</td>\n",
       "      <td>-994.76433</td>\n",
       "      <td>-1509.604991</td>\n",
       "      <td>8490.395009</td>\n",
       "      <td>-223.862281</td>\n",
       "      <td>-1285.74271</td>\n",
       "      <td>3</td>\n",
       "      <td>18</td>\n",
       "      <td>2025-01</td>\n",
       "      <td>2025</td>\n",
       "    </tr>\n",
       "    <tr>\n",
       "      <th>4</th>\n",
       "      <td>closed</td>\n",
       "      <td>EURUSD</td>\n",
       "      <td>sell</td>\n",
       "      <td>28735.632184</td>\n",
       "      <td>2025-02-04 18:45:00</td>\n",
       "      <td>1.03823</td>\n",
       "      <td>2025-02-11 21:40:00</td>\n",
       "      <td>1.03623</td>\n",
       "      <td>0</td>\n",
       "      <td>0</td>\n",
       "      <td>...</td>\n",
       "      <td>-2.011494</td>\n",
       "      <td>55.458506</td>\n",
       "      <td>-1454.146485</td>\n",
       "      <td>8545.853515</td>\n",
       "      <td>-223.862281</td>\n",
       "      <td>-1230.284205</td>\n",
       "      <td>1</td>\n",
       "      <td>18</td>\n",
       "      <td>2025-02</td>\n",
       "      <td>2025</td>\n",
       "    </tr>\n",
       "    <tr>\n",
       "      <th>5</th>\n",
       "      <td>closed</td>\n",
       "      <td>EURUSD</td>\n",
       "      <td>sell</td>\n",
       "      <td>44792.833147</td>\n",
       "      <td>2025-02-12 19:00:00</td>\n",
       "      <td>1.03914</td>\n",
       "      <td>2025-02-20 20:15:00</td>\n",
       "      <td>1.04949</td>\n",
       "      <td>0</td>\n",
       "      <td>0</td>\n",
       "      <td>...</td>\n",
       "      <td>-3.135498</td>\n",
       "      <td>-466.745498</td>\n",
       "      <td>-1920.891984</td>\n",
       "      <td>8079.108016</td>\n",
       "      <td>-223.862281</td>\n",
       "      <td>-1697.029703</td>\n",
       "      <td>2</td>\n",
       "      <td>19</td>\n",
       "      <td>2025-02</td>\n",
       "      <td>2025</td>\n",
       "    </tr>\n",
       "    <tr>\n",
       "      <th>6</th>\n",
       "      <td>closed</td>\n",
       "      <td>EURUSD</td>\n",
       "      <td>buy</td>\n",
       "      <td>74487.895717</td>\n",
       "      <td>2025-02-27 06:30:00</td>\n",
       "      <td>1.04657</td>\n",
       "      <td>2025-02-27 15:50:00</td>\n",
       "      <td>1.0446</td>\n",
       "      <td>0</td>\n",
       "      <td>0</td>\n",
       "      <td>...</td>\n",
       "      <td>-5.214153</td>\n",
       "      <td>-151.954153</td>\n",
       "      <td>-2072.846136</td>\n",
       "      <td>7927.153864</td>\n",
       "      <td>-223.862281</td>\n",
       "      <td>-1848.983856</td>\n",
       "      <td>3</td>\n",
       "      <td>6</td>\n",
       "      <td>2025-02</td>\n",
       "      <td>2025</td>\n",
       "    </tr>\n",
       "    <tr>\n",
       "      <th>7</th>\n",
       "      <td>closed</td>\n",
       "      <td>EURUSD</td>\n",
       "      <td>sell</td>\n",
       "      <td>66666.666667</td>\n",
       "      <td>2025-03-03 03:10:00</td>\n",
       "      <td>1.04202</td>\n",
       "      <td>2025-03-03 13:30:00</td>\n",
       "      <td>1.04504</td>\n",
       "      <td>0</td>\n",
       "      <td>0</td>\n",
       "      <td>...</td>\n",
       "      <td>-4.666667</td>\n",
       "      <td>-205.996667</td>\n",
       "      <td>-2278.842803</td>\n",
       "      <td>7721.157197</td>\n",
       "      <td>-223.862281</td>\n",
       "      <td>-2054.980522</td>\n",
       "      <td>0</td>\n",
       "      <td>3</td>\n",
       "      <td>2025-03</td>\n",
       "      <td>2025</td>\n",
       "    </tr>\n",
       "    <tr>\n",
       "      <th>8</th>\n",
       "      <td>closed</td>\n",
       "      <td>EURUSD</td>\n",
       "      <td>sell</td>\n",
       "      <td>34752.389227</td>\n",
       "      <td>2025-03-04 13:50:00</td>\n",
       "      <td>1.05266</td>\n",
       "      <td>2025-03-04 20:55:00</td>\n",
       "      <td>1.0587</td>\n",
       "      <td>0</td>\n",
       "      <td>0</td>\n",
       "      <td>...</td>\n",
       "      <td>-2.432667</td>\n",
       "      <td>-212.332667</td>\n",
       "      <td>-2491.17547</td>\n",
       "      <td>7508.82453</td>\n",
       "      <td>-223.862281</td>\n",
       "      <td>-2267.313189</td>\n",
       "      <td>1</td>\n",
       "      <td>13</td>\n",
       "      <td>2025-03</td>\n",
       "      <td>2025</td>\n",
       "    </tr>\n",
       "    <tr>\n",
       "      <th>9</th>\n",
       "      <td>closed</td>\n",
       "      <td>EURUSD</td>\n",
       "      <td>buy</td>\n",
       "      <td>73529.411765</td>\n",
       "      <td>2025-03-13 10:35:00</td>\n",
       "      <td>1.08682</td>\n",
       "      <td>2025-03-13 15:45:00</td>\n",
       "      <td>1.0839</td>\n",
       "      <td>0</td>\n",
       "      <td>0</td>\n",
       "      <td>...</td>\n",
       "      <td>-5.147059</td>\n",
       "      <td>-219.857059</td>\n",
       "      <td>-2711.032529</td>\n",
       "      <td>7288.967471</td>\n",
       "      <td>-223.862281</td>\n",
       "      <td>-2487.170248</td>\n",
       "      <td>3</td>\n",
       "      <td>10</td>\n",
       "      <td>2025-03</td>\n",
       "      <td>2025</td>\n",
       "    </tr>\n",
       "    <tr>\n",
       "      <th>10</th>\n",
       "      <td>closed</td>\n",
       "      <td>EURUSD</td>\n",
       "      <td>buy</td>\n",
       "      <td>64308.681672</td>\n",
       "      <td>2025-03-19 10:35:00</td>\n",
       "      <td>1.09024</td>\n",
       "      <td>2025-03-19 20:35:00</td>\n",
       "      <td>1.08654</td>\n",
       "      <td>0</td>\n",
       "      <td>0</td>\n",
       "      <td>...</td>\n",
       "      <td>-4.501608</td>\n",
       "      <td>-242.441608</td>\n",
       "      <td>-2953.474137</td>\n",
       "      <td>7046.525863</td>\n",
       "      <td>-223.862281</td>\n",
       "      <td>-2729.611856</td>\n",
       "      <td>2</td>\n",
       "      <td>10</td>\n",
       "      <td>2025-03</td>\n",
       "      <td>2025</td>\n",
       "    </tr>\n",
       "    <tr>\n",
       "      <th>11</th>\n",
       "      <td>closed</td>\n",
       "      <td>EURUSD</td>\n",
       "      <td>buy</td>\n",
       "      <td>46783.625731</td>\n",
       "      <td>2025-03-20 12:20:00</td>\n",
       "      <td>1.08543</td>\n",
       "      <td>2025-04-23 01:25:00</td>\n",
       "      <td>1.13409</td>\n",
       "      <td>0</td>\n",
       "      <td>0</td>\n",
       "      <td>...</td>\n",
       "      <td>-3.274854</td>\n",
       "      <td>2273.215146</td>\n",
       "      <td>-680.25899</td>\n",
       "      <td>9319.74101</td>\n",
       "      <td>-223.862281</td>\n",
       "      <td>-456.39671</td>\n",
       "      <td>3</td>\n",
       "      <td>12</td>\n",
       "      <td>2025-03</td>\n",
       "      <td>2025</td>\n",
       "    </tr>\n",
       "    <tr>\n",
       "      <th>12</th>\n",
       "      <td>closed</td>\n",
       "      <td>EURUSD</td>\n",
       "      <td>buy</td>\n",
       "      <td>77519.379845</td>\n",
       "      <td>2025-04-30 04:55:00</td>\n",
       "      <td>1.13684</td>\n",
       "      <td>2025-04-30 18:25:00</td>\n",
       "      <td>1.13459</td>\n",
       "      <td>0</td>\n",
       "      <td>0</td>\n",
       "      <td>...</td>\n",
       "      <td>-5.426357</td>\n",
       "      <td>-179.846357</td>\n",
       "      <td>-860.105347</td>\n",
       "      <td>9139.894653</td>\n",
       "      <td>-223.862281</td>\n",
       "      <td>-636.243066</td>\n",
       "      <td>2</td>\n",
       "      <td>4</td>\n",
       "      <td>2025-04</td>\n",
       "      <td>2025</td>\n",
       "    </tr>\n",
       "    <tr>\n",
       "      <th>13</th>\n",
       "      <td>closed</td>\n",
       "      <td>EURUSD</td>\n",
       "      <td>sell</td>\n",
       "      <td>53191.489362</td>\n",
       "      <td>2025-05-02 12:35:00</td>\n",
       "      <td>1.13388</td>\n",
       "      <td>2025-05-19 12:05:00</td>\n",
       "      <td>1.12631</td>\n",
       "      <td>0</td>\n",
       "      <td>0</td>\n",
       "      <td>...</td>\n",
       "      <td>-3.723404</td>\n",
       "      <td>398.936596</td>\n",
       "      <td>-461.168751</td>\n",
       "      <td>9538.831249</td>\n",
       "      <td>-223.862281</td>\n",
       "      <td>-237.306471</td>\n",
       "      <td>4</td>\n",
       "      <td>12</td>\n",
       "      <td>2025-05</td>\n",
       "      <td>2025</td>\n",
       "    </tr>\n",
       "    <tr>\n",
       "      <th>14</th>\n",
       "      <td>closed</td>\n",
       "      <td>EURUSD</td>\n",
       "      <td>buy</td>\n",
       "      <td>48134.777377</td>\n",
       "      <td>2025-05-22 18:05:00</td>\n",
       "      <td>1.12812</td>\n",
       "      <td>2025-05-29 02:35:00</td>\n",
       "      <td>1.12614</td>\n",
       "      <td>0</td>\n",
       "      <td>0</td>\n",
       "      <td>...</td>\n",
       "      <td>-3.369434</td>\n",
       "      <td>-98.679434</td>\n",
       "      <td>-559.848186</td>\n",
       "      <td>9440.151814</td>\n",
       "      <td>-223.862281</td>\n",
       "      <td>-335.985905</td>\n",
       "      <td>3</td>\n",
       "      <td>18</td>\n",
       "      <td>2025-05</td>\n",
       "      <td>2025</td>\n",
       "    </tr>\n",
       "    <tr>\n",
       "      <th>15</th>\n",
       "      <td>closed</td>\n",
       "      <td>EURUSD</td>\n",
       "      <td>buy</td>\n",
       "      <td>44198.895028</td>\n",
       "      <td>2025-06-06 15:30:00</td>\n",
       "      <td>1.1407</td>\n",
       "      <td>2025-06-23 00:00:00</td>\n",
       "      <td>1.14562</td>\n",
       "      <td>0</td>\n",
       "      <td>0</td>\n",
       "      <td>...</td>\n",
       "      <td>-3.093923</td>\n",
       "      <td>214.366077</td>\n",
       "      <td>-345.482108</td>\n",
       "      <td>9654.517892</td>\n",
       "      <td>-223.862281</td>\n",
       "      <td>-121.619828</td>\n",
       "      <td>4</td>\n",
       "      <td>15</td>\n",
       "      <td>2025-06</td>\n",
       "      <td>2025</td>\n",
       "    </tr>\n",
       "    <tr>\n",
       "      <th>16</th>\n",
       "      <td>closed</td>\n",
       "      <td>EURUSD</td>\n",
       "      <td>buy</td>\n",
       "      <td>58565.153734</td>\n",
       "      <td>2025-07-02 14:35:00</td>\n",
       "      <td>1.17575</td>\n",
       "      <td>2025-07-04 12:00:00</td>\n",
       "      <td>1.17751</td>\n",
       "      <td>0</td>\n",
       "      <td>0</td>\n",
       "      <td>...</td>\n",
       "      <td>-4.099561</td>\n",
       "      <td>98.970439</td>\n",
       "      <td>-246.511669</td>\n",
       "      <td>9753.488331</td>\n",
       "      <td>-223.862281</td>\n",
       "      <td>-22.649388</td>\n",
       "      <td>2</td>\n",
       "      <td>14</td>\n",
       "      <td>2025-07</td>\n",
       "      <td>2025</td>\n",
       "    </tr>\n",
       "  </tbody>\n",
       "</table>\n",
       "<p>17 rows × 22 columns</p>\n",
       "</div>"
      ],
      "text/plain": [
       "     state  symbol order_type        volume           open_time open_price  \\\n",
       "0   closed  EURUSD       sell  70175.438596 2025-01-06 09:30:00    1.03191   \n",
       "1   closed  EURUSD       sell  55096.418733 2025-01-14 00:50:00    1.02647   \n",
       "2   closed  EURUSD       sell  56737.588652 2025-01-15 15:30:00    1.03007   \n",
       "3   closed  EURUSD        buy  61633.281972 2025-01-23 18:10:00    1.03964   \n",
       "4   closed  EURUSD       sell  28735.632184 2025-02-04 18:45:00    1.03823   \n",
       "5   closed  EURUSD       sell  44792.833147 2025-02-12 19:00:00    1.03914   \n",
       "6   closed  EURUSD        buy  74487.895717 2025-02-27 06:30:00    1.04657   \n",
       "7   closed  EURUSD       sell  66666.666667 2025-03-03 03:10:00    1.04202   \n",
       "8   closed  EURUSD       sell  34752.389227 2025-03-04 13:50:00    1.05266   \n",
       "9   closed  EURUSD        buy  73529.411765 2025-03-13 10:35:00    1.08682   \n",
       "10  closed  EURUSD        buy  64308.681672 2025-03-19 10:35:00    1.09024   \n",
       "11  closed  EURUSD        buy  46783.625731 2025-03-20 12:20:00    1.08543   \n",
       "12  closed  EURUSD        buy  77519.379845 2025-04-30 04:55:00    1.13684   \n",
       "13  closed  EURUSD       sell  53191.489362 2025-05-02 12:35:00    1.13388   \n",
       "14  closed  EURUSD        buy  48134.777377 2025-05-22 18:05:00    1.12812   \n",
       "15  closed  EURUSD        buy  44198.895028 2025-06-06 15:30:00     1.1407   \n",
       "16  closed  EURUSD        buy  58565.153734 2025-07-02 14:35:00    1.17575   \n",
       "\n",
       "            close_time close_price sl tp  ... commission   profit_net  \\\n",
       "0  2025-01-06 11:00:00     1.03503  0  0  ...  -4.912281  -223.862281   \n",
       "1  2025-01-14 21:35:00     1.03025  0  0  ...  -3.856749  -212.116749   \n",
       "2  2025-01-20 15:30:00     1.03139  0  0  ...  -3.971631   -78.861631   \n",
       "3  2025-02-03 00:00:00     1.02357  0  0  ...   -4.31433   -994.76433   \n",
       "4  2025-02-11 21:40:00     1.03623  0  0  ...  -2.011494    55.458506   \n",
       "5  2025-02-20 20:15:00     1.04949  0  0  ...  -3.135498  -466.745498   \n",
       "6  2025-02-27 15:50:00      1.0446  0  0  ...  -5.214153  -151.954153   \n",
       "7  2025-03-03 13:30:00     1.04504  0  0  ...  -4.666667  -205.996667   \n",
       "8  2025-03-04 20:55:00      1.0587  0  0  ...  -2.432667  -212.332667   \n",
       "9  2025-03-13 15:45:00      1.0839  0  0  ...  -5.147059  -219.857059   \n",
       "10 2025-03-19 20:35:00     1.08654  0  0  ...  -4.501608  -242.441608   \n",
       "11 2025-04-23 01:25:00     1.13409  0  0  ...  -3.274854  2273.215146   \n",
       "12 2025-04-30 18:25:00     1.13459  0  0  ...  -5.426357  -179.846357   \n",
       "13 2025-05-19 12:05:00     1.12631  0  0  ...  -3.723404   398.936596   \n",
       "14 2025-05-29 02:35:00     1.12614  0  0  ...  -3.369434   -98.679434   \n",
       "15 2025-06-23 00:00:00     1.14562  0  0  ...  -3.093923   214.366077   \n",
       "16 2025-07-04 12:00:00     1.17751  0  0  ...  -4.099561    98.970439   \n",
       "\n",
       "   profit_cumulative      balance current_max     drawdown  dayofweek  \\\n",
       "0        -223.862281  9776.137719 -223.862281          0.0          0   \n",
       "1         -435.97903   9564.02097 -223.862281  -212.116749          1   \n",
       "2        -514.840661  9485.159339 -223.862281  -290.978381          2   \n",
       "3       -1509.604991  8490.395009 -223.862281  -1285.74271          3   \n",
       "4       -1454.146485  8545.853515 -223.862281 -1230.284205          1   \n",
       "5       -1920.891984  8079.108016 -223.862281 -1697.029703          2   \n",
       "6       -2072.846136  7927.153864 -223.862281 -1848.983856          3   \n",
       "7       -2278.842803  7721.157197 -223.862281 -2054.980522          0   \n",
       "8        -2491.17547   7508.82453 -223.862281 -2267.313189          1   \n",
       "9       -2711.032529  7288.967471 -223.862281 -2487.170248          3   \n",
       "10      -2953.474137  7046.525863 -223.862281 -2729.611856          2   \n",
       "11        -680.25899   9319.74101 -223.862281   -456.39671          3   \n",
       "12       -860.105347  9139.894653 -223.862281  -636.243066          2   \n",
       "13       -461.168751  9538.831249 -223.862281  -237.306471          4   \n",
       "14       -559.848186  9440.151814 -223.862281  -335.985905          3   \n",
       "15       -345.482108  9654.517892 -223.862281  -121.619828          4   \n",
       "16       -246.511669  9753.488331 -223.862281   -22.649388          2   \n",
       "\n",
       "   hourofday    month  year  \n",
       "0          9  2025-01  2025  \n",
       "1          0  2025-01  2025  \n",
       "2         15  2025-01  2025  \n",
       "3         18  2025-01  2025  \n",
       "4         18  2025-02  2025  \n",
       "5         19  2025-02  2025  \n",
       "6          6  2025-02  2025  \n",
       "7          3  2025-03  2025  \n",
       "8         13  2025-03  2025  \n",
       "9         10  2025-03  2025  \n",
       "10        10  2025-03  2025  \n",
       "11        12  2025-03  2025  \n",
       "12         4  2025-04  2025  \n",
       "13        12  2025-05  2025  \n",
       "14        18  2025-05  2025  \n",
       "15        15  2025-06  2025  \n",
       "16        14  2025-07  2025  \n",
       "\n",
       "[17 rows x 22 columns]"
      ]
     },
     "metadata": {},
     "output_type": "display_data"
    },
    {
     "ename": "ValueError",
     "evalue": "Plotly Express cannot process wide-form data with columns of different type.",
     "output_type": "error",
     "traceback": [
      "\u001b[1;31m---------------------------------------------------------------------------\u001b[0m",
      "\u001b[1;31mValueError\u001b[0m                                Traceback (most recent call last)",
      "Cell \u001b[1;32mIn[131], line 1\u001b[0m\n\u001b[1;32m----> 1\u001b[0m \u001b[43mevaluate_backtest\u001b[49m\u001b[43m(\u001b[49m\u001b[43mbt\u001b[49m\u001b[38;5;241;43m.\u001b[39;49m\u001b[43mtrades\u001b[49m\u001b[43m)\u001b[49m\n",
      "File \u001b[1;32mc:\\Users\\hp\\python_finance_market_projects\\backtest.py:401\u001b[0m, in \u001b[0;36mevaluate_backtest\u001b[1;34m(df_og)\u001b[0m\n\u001b[0;32m    398\u001b[0m df[\u001b[38;5;124m'\u001b[39m\u001b[38;5;124mdrawdown\u001b[39m\u001b[38;5;124m'\u001b[39m] \u001b[38;5;241m=\u001b[39m df[\u001b[38;5;124m'\u001b[39m\u001b[38;5;124mprofit_cumulative\u001b[39m\u001b[38;5;124m'\u001b[39m] \u001b[38;5;241m-\u001b[39m df[\u001b[38;5;124m'\u001b[39m\u001b[38;5;124mcurrent_max\u001b[39m\u001b[38;5;124m'\u001b[39m]\n\u001b[0;32m    399\u001b[0m display(df)\n\u001b[1;32m--> 401\u001b[0m fig_drawdown \u001b[38;5;241m=\u001b[39m \u001b[43mpx\u001b[49m\u001b[38;5;241;43m.\u001b[39;49m\u001b[43mline\u001b[49m\u001b[43m(\u001b[49m\u001b[43mdf\u001b[49m\u001b[43m,\u001b[49m\u001b[43m \u001b[49m\u001b[43mx\u001b[49m\u001b[38;5;241;43m=\u001b[39;49m\u001b[38;5;124;43m'\u001b[39;49m\u001b[38;5;124;43mclose_time\u001b[39;49m\u001b[38;5;124;43m'\u001b[39;49m\u001b[43m,\u001b[49m\u001b[43m \u001b[49m\u001b[43my\u001b[49m\u001b[38;5;241;43m=\u001b[39;49m\u001b[43m[\u001b[49m\u001b[38;5;124;43m'\u001b[39;49m\u001b[38;5;124;43mprofit_cumulative\u001b[39;49m\u001b[38;5;124;43m'\u001b[39;49m\u001b[43m,\u001b[49m\u001b[43m \u001b[49m\u001b[38;5;124;43m'\u001b[39;49m\u001b[38;5;124;43mcurrent_max\u001b[39;49m\u001b[38;5;124;43m'\u001b[39;49m\u001b[43m]\u001b[49m\u001b[43m,\u001b[49m\u001b[43m \u001b[49m\u001b[43mtitle\u001b[49m\u001b[38;5;241;43m=\u001b[39;49m\u001b[38;5;124;43m'\u001b[39;49m\u001b[38;5;124;43mpnl curve\u001b[39;49m\u001b[38;5;124;43m'\u001b[39;49m\u001b[43m)\u001b[49m\n\u001b[0;32m    402\u001b[0m \u001b[38;5;66;03m#display(fig_drawdown)\u001b[39;00m\n\u001b[0;32m    404\u001b[0m fig_drawdown2 \u001b[38;5;241m=\u001b[39m px\u001b[38;5;241m.\u001b[39mline(df, x\u001b[38;5;241m=\u001b[39m\u001b[38;5;124m'\u001b[39m\u001b[38;5;124mclose_time\u001b[39m\u001b[38;5;124m'\u001b[39m, y\u001b[38;5;241m=\u001b[39m\u001b[38;5;124m'\u001b[39m\u001b[38;5;124mdrawdown\u001b[39m\u001b[38;5;124m'\u001b[39m, title\u001b[38;5;241m=\u001b[39m\u001b[38;5;124m'\u001b[39m\u001b[38;5;124mdrawdown curve\u001b[39m\u001b[38;5;124m'\u001b[39m)\n",
      "File \u001b[1;32mc:\\Users\\hp\\python_finance_market_projects\\.venv\\Lib\\site-packages\\plotly\\express\\_chart_types.py:270\u001b[0m, in \u001b[0;36mline\u001b[1;34m(data_frame, x, y, line_group, color, line_dash, symbol, hover_name, hover_data, custom_data, text, facet_row, facet_col, facet_col_wrap, facet_row_spacing, facet_col_spacing, error_x, error_x_minus, error_y, error_y_minus, animation_frame, animation_group, category_orders, labels, orientation, color_discrete_sequence, color_discrete_map, line_dash_sequence, line_dash_map, symbol_sequence, symbol_map, markers, log_x, log_y, range_x, range_y, line_shape, render_mode, title, subtitle, template, width, height)\u001b[0m\n\u001b[0;32m    221\u001b[0m \u001b[38;5;28;01mdef\u001b[39;00m\u001b[38;5;250m \u001b[39m\u001b[38;5;21mline\u001b[39m(\n\u001b[0;32m    222\u001b[0m     data_frame\u001b[38;5;241m=\u001b[39m\u001b[38;5;28;01mNone\u001b[39;00m,\n\u001b[0;32m    223\u001b[0m     x\u001b[38;5;241m=\u001b[39m\u001b[38;5;28;01mNone\u001b[39;00m,\n\u001b[1;32m   (...)\u001b[0m\n\u001b[0;32m    264\u001b[0m     height\u001b[38;5;241m=\u001b[39m\u001b[38;5;28;01mNone\u001b[39;00m,\n\u001b[0;32m    265\u001b[0m ) \u001b[38;5;241m-\u001b[39m\u001b[38;5;241m>\u001b[39m go\u001b[38;5;241m.\u001b[39mFigure:\n\u001b[0;32m    266\u001b[0m \u001b[38;5;250m    \u001b[39m\u001b[38;5;124;03m\"\"\"\u001b[39;00m\n\u001b[0;32m    267\u001b[0m \u001b[38;5;124;03m    In a 2D line plot, each row of `data_frame` is represented as a vertex of\u001b[39;00m\n\u001b[0;32m    268\u001b[0m \u001b[38;5;124;03m    a polyline mark in 2D space.\u001b[39;00m\n\u001b[0;32m    269\u001b[0m \u001b[38;5;124;03m    \"\"\"\u001b[39;00m\n\u001b[1;32m--> 270\u001b[0m     \u001b[38;5;28;01mreturn\u001b[39;00m \u001b[43mmake_figure\u001b[49m\u001b[43m(\u001b[49m\u001b[43margs\u001b[49m\u001b[38;5;241;43m=\u001b[39;49m\u001b[38;5;28;43mlocals\u001b[39;49m\u001b[43m(\u001b[49m\u001b[43m)\u001b[49m\u001b[43m,\u001b[49m\u001b[43m \u001b[49m\u001b[43mconstructor\u001b[49m\u001b[38;5;241;43m=\u001b[39;49m\u001b[43mgo\u001b[49m\u001b[38;5;241;43m.\u001b[39;49m\u001b[43mScatter\u001b[49m\u001b[43m)\u001b[49m\n",
      "File \u001b[1;32mc:\\Users\\hp\\python_finance_market_projects\\.venv\\Lib\\site-packages\\plotly\\express\\_core.py:2477\u001b[0m, in \u001b[0;36mmake_figure\u001b[1;34m(args, constructor, trace_patch, layout_patch)\u001b[0m\n\u001b[0;32m   2474\u001b[0m layout_patch \u001b[38;5;241m=\u001b[39m layout_patch \u001b[38;5;129;01mor\u001b[39;00m {}\n\u001b[0;32m   2475\u001b[0m apply_default_cascade(args)\n\u001b[1;32m-> 2477\u001b[0m args \u001b[38;5;241m=\u001b[39m \u001b[43mbuild_dataframe\u001b[49m\u001b[43m(\u001b[49m\u001b[43margs\u001b[49m\u001b[43m,\u001b[49m\u001b[43m \u001b[49m\u001b[43mconstructor\u001b[49m\u001b[43m)\u001b[49m\n\u001b[0;32m   2478\u001b[0m \u001b[38;5;28;01mif\u001b[39;00m constructor \u001b[38;5;129;01min\u001b[39;00m [go\u001b[38;5;241m.\u001b[39mTreemap, go\u001b[38;5;241m.\u001b[39mSunburst, go\u001b[38;5;241m.\u001b[39mIcicle] \u001b[38;5;129;01mand\u001b[39;00m args[\u001b[38;5;124m\"\u001b[39m\u001b[38;5;124mpath\u001b[39m\u001b[38;5;124m\"\u001b[39m] \u001b[38;5;129;01mis\u001b[39;00m \u001b[38;5;129;01mnot\u001b[39;00m \u001b[38;5;28;01mNone\u001b[39;00m:\n\u001b[0;32m   2479\u001b[0m     args \u001b[38;5;241m=\u001b[39m process_dataframe_hierarchy(args)\n",
      "File \u001b[1;32mc:\\Users\\hp\\python_finance_market_projects\\.venv\\Lib\\site-packages\\plotly\\express\\_core.py:1779\u001b[0m, in \u001b[0;36mbuild_dataframe\u001b[1;34m(args, constructor)\u001b[0m\n\u001b[0;32m   1777\u001b[0m         dtype \u001b[38;5;241m=\u001b[39m v_dtype\n\u001b[0;32m   1778\u001b[0m     \u001b[38;5;28;01melif\u001b[39;00m dtype \u001b[38;5;241m!=\u001b[39m v_dtype:\n\u001b[1;32m-> 1779\u001b[0m         \u001b[38;5;28;01mraise\u001b[39;00m \u001b[38;5;167;01mValueError\u001b[39;00m(\n\u001b[0;32m   1780\u001b[0m             \u001b[38;5;124m\"\u001b[39m\u001b[38;5;124mPlotly Express cannot process wide-form data with columns of different type.\u001b[39m\u001b[38;5;124m\"\u001b[39m\n\u001b[0;32m   1781\u001b[0m         )\n\u001b[0;32m   1782\u001b[0m df_output \u001b[38;5;241m=\u001b[39m df_output\u001b[38;5;241m.\u001b[39munpivot(\n\u001b[0;32m   1783\u001b[0m     index\u001b[38;5;241m=\u001b[39mwide_id_vars,\n\u001b[0;32m   1784\u001b[0m     on\u001b[38;5;241m=\u001b[39mwide_value_vars,\n\u001b[0;32m   1785\u001b[0m     variable_name\u001b[38;5;241m=\u001b[39mvar_name,\n\u001b[0;32m   1786\u001b[0m     value_name\u001b[38;5;241m=\u001b[39mvalue_name,\n\u001b[0;32m   1787\u001b[0m )\n\u001b[0;32m   1788\u001b[0m \u001b[38;5;28;01massert\u001b[39;00m \u001b[38;5;28mlen\u001b[39m(df_output\u001b[38;5;241m.\u001b[39mcolumns) \u001b[38;5;241m==\u001b[39m \u001b[38;5;28mlen\u001b[39m(\u001b[38;5;28mset\u001b[39m(df_output\u001b[38;5;241m.\u001b[39mcolumns)), (\n\u001b[0;32m   1789\u001b[0m     \u001b[38;5;124m\"\u001b[39m\u001b[38;5;124mWide-mode name-inference failure, likely due to a internal bug. \u001b[39m\u001b[38;5;124m\"\u001b[39m\n\u001b[0;32m   1790\u001b[0m     \u001b[38;5;124m\"\u001b[39m\u001b[38;5;124mPlease report this to \u001b[39m\u001b[38;5;124m\"\u001b[39m\n\u001b[0;32m   1791\u001b[0m     \u001b[38;5;124m\"\u001b[39m\u001b[38;5;124mhttps://github.com/plotly/plotly.py/issues/new and we will try to \u001b[39m\u001b[38;5;124m\"\u001b[39m\n\u001b[0;32m   1792\u001b[0m     \u001b[38;5;124m\"\u001b[39m\u001b[38;5;124mreplicate and fix it.\u001b[39m\u001b[38;5;124m\"\u001b[39m\n\u001b[0;32m   1793\u001b[0m )\n",
      "\u001b[1;31mValueError\u001b[0m: Plotly Express cannot process wide-form data with columns of different type."
     ]
    }
   ],
   "source": [
    "evaluate_backtest(bt.trades)"
   ]
  },
  {
   "cell_type": "code",
   "execution_count": null,
   "metadata": {},
   "outputs": [],
   "source": [
    "# visualizing the ohlc data\n",
    "fig = go.Figure(data = [go.Candlestick(x = ohlc_df['time'],\n",
    "                                        open = ohlc_df['open'],\n",
    "                                        high = ohlc_df['high'],\n",
    "                                        low = ohlc_df['low'],\n",
    "                                        close = ohlc_df['close'])])\n",
    "\n",
    "# fig.update_layout(height=600, xaxis_rangeslider_visible=False)\n",
    "# 📌 Add Pivot Points as Horizontal Lines\n",
    "pivot_levels = [\"sell_stope_loss\", \"R2\", \"buy_stope_loss\", \"S2\"]\n",
    "colors = {'sell_stope_loss': 'red', 'buy_stope_loss': 'red', 'R2': 'green', 'S2': 'green'}\n",
    "\n",
    "\n",
    "for _, row in daily_df.iterrows():\n",
    "    for level in pivot_levels:\n",
    "        fig.add_trace(go.Scatter(\n",
    "            x=[row['time'], row['time'] + pd.Timedelta(days=1)],  # Extend for one day\n",
    "            y=[row[level], row[level]],\n",
    "            mode='lines',\n",
    "            name=f\"{level} {row['time']}\",\n",
    "            line=dict(color=colors[level], width=1.5, dash='dot')\n",
    "        ))\n",
    "\n",
    "# 📌 Customize Layout\n",
    "fig.update_layout(\n",
    "    title=\"Pivot Points on Candlestick Chart\",\n",
    "    xaxis_title=\"Date\",\n",
    "    yaxis_title=\"Price\",\n",
    "    template=\"plotly_dark\",\n",
    "    xaxis_rangeslider_visible=False\n",
    ")\n",
    "fig"
   ]
  }
 ],
 "metadata": {
  "kernelspec": {
   "display_name": ".venv",
   "language": "python",
   "name": "python3"
  },
  "language_info": {
   "codemirror_mode": {
    "name": "ipython",
    "version": 3
   },
   "file_extension": ".py",
   "mimetype": "text/x-python",
   "name": "python",
   "nbconvert_exporter": "python",
   "pygments_lexer": "ipython3",
   "version": "3.12.1"
  }
 },
 "nbformat": 4,
 "nbformat_minor": 2
}
