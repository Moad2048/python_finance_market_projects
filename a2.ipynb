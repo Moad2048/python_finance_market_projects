{
 "cells": [
  {
   "cell_type": "code",
   "execution_count": 5,
   "metadata": {},
   "outputs": [],
   "source": [
    "import MetaTrader5 as mt5 #mt5 to access historcal data\n",
    "import pandas as pd # for data analysis and calculation of technical indcator\n",
    "import numpy as np\n",
    "import plotly.io as pio\n",
    "import plotly.express as px # for data visualization\n",
    "import plotly.graph_objects as go\n",
    "import tdclient as TDClient\n",
    "from datetime import datetime, time ,timezone #to specify the date time range for historical data\n",
    "from IPython.display import display, Markdown, Latex # to display result in python notebook\n",
    "from backtest import Backtester, get_ohlc_history, create_price_fig, evaluate_backtest"
   ]
  },
  {
   "cell_type": "code",
   "execution_count": 6,
   "metadata": {},
   "outputs": [
    {
     "data": {
      "text/plain": [
       "True"
      ]
     },
     "execution_count": 6,
     "metadata": {},
     "output_type": "execute_result"
    }
   ],
   "source": [
    "# Conecte mt5\n",
    "mt5.initialize()\n",
    "# logine mt5\n",
    "login = 52185665\n",
    "password = '3cAJz$AQiKwMq0'\n",
    "server = 'ICMarketsSC-Demo'\n",
    "\n",
    "mt5.login(login,password,server)"
   ]
  },
  {
   "cell_type": "code",
   "execution_count": 7,
   "metadata": {},
   "outputs": [],
   "source": [
    "# this function retreives olhc data from mt5 account and return a data frame\n",
    "def get_ohlc(symbol, timeframe, start_datetime, end_datetime):\n",
    "    ohlc = mt5.copy_rates_range(symbol, timeframe, start_datetime, end_datetime)\n",
    "    ohlc_df = pd.DataFrame(ohlc)\n",
    "    ohlc_df['time'] = pd.to_datetime(ohlc_df['time'], unit= 's')\n",
    "    return ohlc_df[['time', 'open', 'high', 'low', 'close']]\n"
   ]
  },
  {
   "cell_type": "code",
   "execution_count": 8,
   "metadata": {},
   "outputs": [
    {
     "data": {
      "text/html": [
       "<div>\n",
       "<style scoped>\n",
       "    .dataframe tbody tr th:only-of-type {\n",
       "        vertical-align: middle;\n",
       "    }\n",
       "\n",
       "    .dataframe tbody tr th {\n",
       "        vertical-align: top;\n",
       "    }\n",
       "\n",
       "    .dataframe thead th {\n",
       "        text-align: right;\n",
       "    }\n",
       "</style>\n",
       "<table border=\"1\" class=\"dataframe\">\n",
       "  <thead>\n",
       "    <tr style=\"text-align: right;\">\n",
       "      <th></th>\n",
       "      <th>time</th>\n",
       "      <th>open</th>\n",
       "      <th>high</th>\n",
       "      <th>low</th>\n",
       "      <th>close</th>\n",
       "    </tr>\n",
       "  </thead>\n",
       "  <tbody>\n",
       "    <tr>\n",
       "      <th>0</th>\n",
       "      <td>2025-04-15 23:00:00</td>\n",
       "      <td>1.12823</td>\n",
       "      <td>1.12848</td>\n",
       "      <td>1.12823</td>\n",
       "      <td>1.12848</td>\n",
       "    </tr>\n",
       "    <tr>\n",
       "      <th>1</th>\n",
       "      <td>2025-04-15 23:01:00</td>\n",
       "      <td>1.12847</td>\n",
       "      <td>1.12847</td>\n",
       "      <td>1.12824</td>\n",
       "      <td>1.12839</td>\n",
       "    </tr>\n",
       "    <tr>\n",
       "      <th>2</th>\n",
       "      <td>2025-04-15 23:02:00</td>\n",
       "      <td>1.12838</td>\n",
       "      <td>1.12862</td>\n",
       "      <td>1.12837</td>\n",
       "      <td>1.12862</td>\n",
       "    </tr>\n",
       "    <tr>\n",
       "      <th>3</th>\n",
       "      <td>2025-04-15 23:03:00</td>\n",
       "      <td>1.12862</td>\n",
       "      <td>1.12862</td>\n",
       "      <td>1.12837</td>\n",
       "      <td>1.12848</td>\n",
       "    </tr>\n",
       "    <tr>\n",
       "      <th>4</th>\n",
       "      <td>2025-04-15 23:04:00</td>\n",
       "      <td>1.12848</td>\n",
       "      <td>1.12848</td>\n",
       "      <td>1.12836</td>\n",
       "      <td>1.12839</td>\n",
       "    </tr>\n",
       "    <tr>\n",
       "      <th>...</th>\n",
       "      <td>...</td>\n",
       "      <td>...</td>\n",
       "      <td>...</td>\n",
       "      <td>...</td>\n",
       "      <td>...</td>\n",
       "    </tr>\n",
       "    <tr>\n",
       "      <th>62477</th>\n",
       "      <td>2025-06-16 09:26:00</td>\n",
       "      <td>1.15486</td>\n",
       "      <td>1.15496</td>\n",
       "      <td>1.15474</td>\n",
       "      <td>1.15474</td>\n",
       "    </tr>\n",
       "    <tr>\n",
       "      <th>62478</th>\n",
       "      <td>2025-06-16 09:27:00</td>\n",
       "      <td>1.15474</td>\n",
       "      <td>1.15474</td>\n",
       "      <td>1.15416</td>\n",
       "      <td>1.15427</td>\n",
       "    </tr>\n",
       "    <tr>\n",
       "      <th>62479</th>\n",
       "      <td>2025-06-16 09:28:00</td>\n",
       "      <td>1.15427</td>\n",
       "      <td>1.15439</td>\n",
       "      <td>1.15405</td>\n",
       "      <td>1.15417</td>\n",
       "    </tr>\n",
       "    <tr>\n",
       "      <th>62480</th>\n",
       "      <td>2025-06-16 09:29:00</td>\n",
       "      <td>1.15417</td>\n",
       "      <td>1.15429</td>\n",
       "      <td>1.15405</td>\n",
       "      <td>1.15429</td>\n",
       "    </tr>\n",
       "    <tr>\n",
       "      <th>62481</th>\n",
       "      <td>2025-06-16 09:30:00</td>\n",
       "      <td>1.15429</td>\n",
       "      <td>1.15449</td>\n",
       "      <td>1.15399</td>\n",
       "      <td>1.15441</td>\n",
       "    </tr>\n",
       "  </tbody>\n",
       "</table>\n",
       "<p>62482 rows × 5 columns</p>\n",
       "</div>"
      ],
      "text/plain": [
       "                     time     open     high      low    close\n",
       "0     2025-04-15 23:00:00  1.12823  1.12848  1.12823  1.12848\n",
       "1     2025-04-15 23:01:00  1.12847  1.12847  1.12824  1.12839\n",
       "2     2025-04-15 23:02:00  1.12838  1.12862  1.12837  1.12862\n",
       "3     2025-04-15 23:03:00  1.12862  1.12862  1.12837  1.12848\n",
       "4     2025-04-15 23:04:00  1.12848  1.12848  1.12836  1.12839\n",
       "...                   ...      ...      ...      ...      ...\n",
       "62477 2025-06-16 09:26:00  1.15486  1.15496  1.15474  1.15474\n",
       "62478 2025-06-16 09:27:00  1.15474  1.15474  1.15416  1.15427\n",
       "62479 2025-06-16 09:28:00  1.15427  1.15439  1.15405  1.15417\n",
       "62480 2025-06-16 09:29:00  1.15417  1.15429  1.15405  1.15429\n",
       "62481 2025-06-16 09:30:00  1.15429  1.15449  1.15399  1.15441\n",
       "\n",
       "[62482 rows x 5 columns]"
      ]
     },
     "execution_count": 8,
     "metadata": {},
     "output_type": "execute_result"
    }
   ],
   "source": [
    "# 1 minut df\n",
    "symbol = 'EURUSD'\n",
    "pos_size = 1\n",
    "timeframe = mt5.TIMEFRAME_M1\n",
    "start_datetime = datetime(2025,4,16)\n",
    "end_datetime = datetime.now()\n",
    "ohlc_df = get_ohlc(symbol, timeframe, start_datetime, end_datetime)\n",
    "ohlc_df"
   ]
  },
  {
   "cell_type": "code",
   "execution_count": 9,
   "metadata": {},
   "outputs": [
    {
     "data": {
      "text/html": [
       "<div>\n",
       "<style scoped>\n",
       "    .dataframe tbody tr th:only-of-type {\n",
       "        vertical-align: middle;\n",
       "    }\n",
       "\n",
       "    .dataframe tbody tr th {\n",
       "        vertical-align: top;\n",
       "    }\n",
       "\n",
       "    .dataframe thead th {\n",
       "        text-align: right;\n",
       "    }\n",
       "</style>\n",
       "<table border=\"1\" class=\"dataframe\">\n",
       "  <thead>\n",
       "    <tr style=\"text-align: right;\">\n",
       "      <th></th>\n",
       "      <th>time</th>\n",
       "      <th>open</th>\n",
       "      <th>high</th>\n",
       "      <th>low</th>\n",
       "      <th>close</th>\n",
       "    </tr>\n",
       "  </thead>\n",
       "  <tbody>\n",
       "    <tr>\n",
       "      <th>256</th>\n",
       "      <td>2025-06-13 16:00:00</td>\n",
       "      <td>1.15161</td>\n",
       "      <td>1.15696</td>\n",
       "      <td>1.15013</td>\n",
       "      <td>1.15545</td>\n",
       "    </tr>\n",
       "    <tr>\n",
       "      <th>257</th>\n",
       "      <td>2025-06-13 20:00:00</td>\n",
       "      <td>1.15545</td>\n",
       "      <td>1.15555</td>\n",
       "      <td>1.15336</td>\n",
       "      <td>1.15512</td>\n",
       "    </tr>\n",
       "    <tr>\n",
       "      <th>258</th>\n",
       "      <td>2025-06-16 00:00:00</td>\n",
       "      <td>1.15250</td>\n",
       "      <td>1.15480</td>\n",
       "      <td>1.15211</td>\n",
       "      <td>1.15348</td>\n",
       "    </tr>\n",
       "    <tr>\n",
       "      <th>259</th>\n",
       "      <td>2025-06-16 04:00:00</td>\n",
       "      <td>1.15343</td>\n",
       "      <td>1.15444</td>\n",
       "      <td>1.15237</td>\n",
       "      <td>1.15359</td>\n",
       "    </tr>\n",
       "    <tr>\n",
       "      <th>260</th>\n",
       "      <td>2025-06-16 08:00:00</td>\n",
       "      <td>1.15360</td>\n",
       "      <td>1.15865</td>\n",
       "      <td>1.15358</td>\n",
       "      <td>1.15780</td>\n",
       "    </tr>\n",
       "  </tbody>\n",
       "</table>\n",
       "</div>"
      ],
      "text/plain": [
       "                   time     open     high      low    close\n",
       "256 2025-06-13 16:00:00  1.15161  1.15696  1.15013  1.15545\n",
       "257 2025-06-13 20:00:00  1.15545  1.15555  1.15336  1.15512\n",
       "258 2025-06-16 00:00:00  1.15250  1.15480  1.15211  1.15348\n",
       "259 2025-06-16 04:00:00  1.15343  1.15444  1.15237  1.15359\n",
       "260 2025-06-16 08:00:00  1.15360  1.15865  1.15358  1.15780"
      ]
     },
     "execution_count": 9,
     "metadata": {},
     "output_type": "execute_result"
    }
   ],
   "source": [
    "# hour4 df\n",
    "timeframe = mt5.TIMEFRAME_H4\n",
    "hourly_df = get_ohlc(symbol, timeframe, start_datetime, end_datetime)\n",
    "hourly_df.tail(5)"
   ]
  },
  {
   "cell_type": "code",
   "execution_count": 10,
   "metadata": {},
   "outputs": [
    {
     "data": {
      "text/html": [
       "<div>\n",
       "<style scoped>\n",
       "    .dataframe tbody tr th:only-of-type {\n",
       "        vertical-align: middle;\n",
       "    }\n",
       "\n",
       "    .dataframe tbody tr th {\n",
       "        vertical-align: top;\n",
       "    }\n",
       "\n",
       "    .dataframe thead th {\n",
       "        text-align: right;\n",
       "    }\n",
       "</style>\n",
       "<table border=\"1\" class=\"dataframe\">\n",
       "  <thead>\n",
       "    <tr style=\"text-align: right;\">\n",
       "      <th></th>\n",
       "      <th>time</th>\n",
       "      <th>open</th>\n",
       "      <th>high</th>\n",
       "      <th>low</th>\n",
       "      <th>close</th>\n",
       "    </tr>\n",
       "  </thead>\n",
       "  <tbody>\n",
       "    <tr>\n",
       "      <th>0</th>\n",
       "      <td>2025-04-16</td>\n",
       "      <td>1.12781</td>\n",
       "      <td>1.14128</td>\n",
       "      <td>1.12781</td>\n",
       "      <td>1.13985</td>\n",
       "    </tr>\n",
       "    <tr>\n",
       "      <th>1</th>\n",
       "      <td>2025-04-17</td>\n",
       "      <td>1.13986</td>\n",
       "      <td>1.14093</td>\n",
       "      <td>1.13353</td>\n",
       "      <td>1.13634</td>\n",
       "    </tr>\n",
       "    <tr>\n",
       "      <th>2</th>\n",
       "      <td>2025-04-18</td>\n",
       "      <td>1.13616</td>\n",
       "      <td>1.13975</td>\n",
       "      <td>1.13586</td>\n",
       "      <td>1.13929</td>\n",
       "    </tr>\n",
       "    <tr>\n",
       "      <th>3</th>\n",
       "      <td>2025-04-21</td>\n",
       "      <td>1.13928</td>\n",
       "      <td>1.15733</td>\n",
       "      <td>1.13799</td>\n",
       "      <td>1.15129</td>\n",
       "    </tr>\n",
       "    <tr>\n",
       "      <th>4</th>\n",
       "      <td>2025-04-22</td>\n",
       "      <td>1.15139</td>\n",
       "      <td>1.15474</td>\n",
       "      <td>1.14175</td>\n",
       "      <td>1.14206</td>\n",
       "    </tr>\n",
       "    <tr>\n",
       "      <th>5</th>\n",
       "      <td>2025-04-23</td>\n",
       "      <td>1.14207</td>\n",
       "      <td>1.14399</td>\n",
       "      <td>1.13081</td>\n",
       "      <td>1.13145</td>\n",
       "    </tr>\n",
       "    <tr>\n",
       "      <th>6</th>\n",
       "      <td>2025-04-24</td>\n",
       "      <td>1.13114</td>\n",
       "      <td>1.13979</td>\n",
       "      <td>1.13095</td>\n",
       "      <td>1.13888</td>\n",
       "    </tr>\n",
       "    <tr>\n",
       "      <th>7</th>\n",
       "      <td>2025-04-25</td>\n",
       "      <td>1.13852</td>\n",
       "      <td>1.13914</td>\n",
       "      <td>1.13160</td>\n",
       "      <td>1.13595</td>\n",
       "    </tr>\n",
       "    <tr>\n",
       "      <th>8</th>\n",
       "      <td>2025-04-28</td>\n",
       "      <td>1.13721</td>\n",
       "      <td>1.14249</td>\n",
       "      <td>1.13294</td>\n",
       "      <td>1.14216</td>\n",
       "    </tr>\n",
       "    <tr>\n",
       "      <th>9</th>\n",
       "      <td>2025-04-29</td>\n",
       "      <td>1.14197</td>\n",
       "      <td>1.14218</td>\n",
       "      <td>1.13702</td>\n",
       "      <td>1.13828</td>\n",
       "    </tr>\n",
       "    <tr>\n",
       "      <th>10</th>\n",
       "      <td>2025-04-30</td>\n",
       "      <td>1.13840</td>\n",
       "      <td>1.13996</td>\n",
       "      <td>1.13173</td>\n",
       "      <td>1.13292</td>\n",
       "    </tr>\n",
       "    <tr>\n",
       "      <th>11</th>\n",
       "      <td>2025-05-01</td>\n",
       "      <td>1.13279</td>\n",
       "      <td>1.13411</td>\n",
       "      <td>1.12659</td>\n",
       "      <td>1.12900</td>\n",
       "    </tr>\n",
       "    <tr>\n",
       "      <th>12</th>\n",
       "      <td>2025-05-02</td>\n",
       "      <td>1.12888</td>\n",
       "      <td>1.13810</td>\n",
       "      <td>1.12743</td>\n",
       "      <td>1.12994</td>\n",
       "    </tr>\n",
       "    <tr>\n",
       "      <th>13</th>\n",
       "      <td>2025-05-05</td>\n",
       "      <td>1.13037</td>\n",
       "      <td>1.13649</td>\n",
       "      <td>1.12929</td>\n",
       "      <td>1.13144</td>\n",
       "    </tr>\n",
       "    <tr>\n",
       "      <th>14</th>\n",
       "      <td>2025-05-06</td>\n",
       "      <td>1.13141</td>\n",
       "      <td>1.13812</td>\n",
       "      <td>1.12800</td>\n",
       "      <td>1.13685</td>\n",
       "    </tr>\n",
       "    <tr>\n",
       "      <th>15</th>\n",
       "      <td>2025-05-07</td>\n",
       "      <td>1.13691</td>\n",
       "      <td>1.13782</td>\n",
       "      <td>1.12917</td>\n",
       "      <td>1.13010</td>\n",
       "    </tr>\n",
       "    <tr>\n",
       "      <th>16</th>\n",
       "      <td>2025-05-08</td>\n",
       "      <td>1.12978</td>\n",
       "      <td>1.13364</td>\n",
       "      <td>1.12120</td>\n",
       "      <td>1.12279</td>\n",
       "    </tr>\n",
       "    <tr>\n",
       "      <th>17</th>\n",
       "      <td>2025-05-09</td>\n",
       "      <td>1.12235</td>\n",
       "      <td>1.12929</td>\n",
       "      <td>1.11968</td>\n",
       "      <td>1.12497</td>\n",
       "    </tr>\n",
       "    <tr>\n",
       "      <th>18</th>\n",
       "      <td>2025-05-12</td>\n",
       "      <td>1.11910</td>\n",
       "      <td>1.12429</td>\n",
       "      <td>1.10655</td>\n",
       "      <td>1.10859</td>\n",
       "    </tr>\n",
       "    <tr>\n",
       "      <th>19</th>\n",
       "      <td>2025-05-13</td>\n",
       "      <td>1.10843</td>\n",
       "      <td>1.11948</td>\n",
       "      <td>1.10821</td>\n",
       "      <td>1.11849</td>\n",
       "    </tr>\n",
       "    <tr>\n",
       "      <th>20</th>\n",
       "      <td>2025-05-14</td>\n",
       "      <td>1.11847</td>\n",
       "      <td>1.12659</td>\n",
       "      <td>1.11646</td>\n",
       "      <td>1.11714</td>\n",
       "    </tr>\n",
       "    <tr>\n",
       "      <th>21</th>\n",
       "      <td>2025-05-15</td>\n",
       "      <td>1.11700</td>\n",
       "      <td>1.12280</td>\n",
       "      <td>1.11668</td>\n",
       "      <td>1.11835</td>\n",
       "    </tr>\n",
       "    <tr>\n",
       "      <th>22</th>\n",
       "      <td>2025-05-16</td>\n",
       "      <td>1.11866</td>\n",
       "      <td>1.12197</td>\n",
       "      <td>1.11312</td>\n",
       "      <td>1.11649</td>\n",
       "    </tr>\n",
       "    <tr>\n",
       "      <th>23</th>\n",
       "      <td>2025-05-19</td>\n",
       "      <td>1.11755</td>\n",
       "      <td>1.12884</td>\n",
       "      <td>1.11694</td>\n",
       "      <td>1.12400</td>\n",
       "    </tr>\n",
       "    <tr>\n",
       "      <th>24</th>\n",
       "      <td>2025-05-20</td>\n",
       "      <td>1.12358</td>\n",
       "      <td>1.12857</td>\n",
       "      <td>1.12181</td>\n",
       "      <td>1.12844</td>\n",
       "    </tr>\n",
       "    <tr>\n",
       "      <th>25</th>\n",
       "      <td>2025-05-21</td>\n",
       "      <td>1.12821</td>\n",
       "      <td>1.13629</td>\n",
       "      <td>1.12798</td>\n",
       "      <td>1.13310</td>\n",
       "    </tr>\n",
       "    <tr>\n",
       "      <th>26</th>\n",
       "      <td>2025-05-22</td>\n",
       "      <td>1.13250</td>\n",
       "      <td>1.13449</td>\n",
       "      <td>1.12559</td>\n",
       "      <td>1.12786</td>\n",
       "    </tr>\n",
       "    <tr>\n",
       "      <th>27</th>\n",
       "      <td>2025-05-23</td>\n",
       "      <td>1.12788</td>\n",
       "      <td>1.13755</td>\n",
       "      <td>1.12763</td>\n",
       "      <td>1.13640</td>\n",
       "    </tr>\n",
       "    <tr>\n",
       "      <th>28</th>\n",
       "      <td>2025-05-26</td>\n",
       "      <td>1.13626</td>\n",
       "      <td>1.14188</td>\n",
       "      <td>1.13601</td>\n",
       "      <td>1.13868</td>\n",
       "    </tr>\n",
       "    <tr>\n",
       "      <th>29</th>\n",
       "      <td>2025-05-27</td>\n",
       "      <td>1.13828</td>\n",
       "      <td>1.14073</td>\n",
       "      <td>1.13233</td>\n",
       "      <td>1.13270</td>\n",
       "    </tr>\n",
       "    <tr>\n",
       "      <th>30</th>\n",
       "      <td>2025-05-28</td>\n",
       "      <td>1.13254</td>\n",
       "      <td>1.13451</td>\n",
       "      <td>1.12839</td>\n",
       "      <td>1.12894</td>\n",
       "    </tr>\n",
       "    <tr>\n",
       "      <th>31</th>\n",
       "      <td>2025-05-29</td>\n",
       "      <td>1.12900</td>\n",
       "      <td>1.13845</td>\n",
       "      <td>1.12107</td>\n",
       "      <td>1.13648</td>\n",
       "    </tr>\n",
       "    <tr>\n",
       "      <th>32</th>\n",
       "      <td>2025-05-30</td>\n",
       "      <td>1.13644</td>\n",
       "      <td>1.13899</td>\n",
       "      <td>1.13127</td>\n",
       "      <td>1.13478</td>\n",
       "    </tr>\n",
       "    <tr>\n",
       "      <th>33</th>\n",
       "      <td>2025-06-02</td>\n",
       "      <td>1.13463</td>\n",
       "      <td>1.14498</td>\n",
       "      <td>1.13382</td>\n",
       "      <td>1.14432</td>\n",
       "    </tr>\n",
       "    <tr>\n",
       "      <th>34</th>\n",
       "      <td>2025-06-03</td>\n",
       "      <td>1.14390</td>\n",
       "      <td>1.14547</td>\n",
       "      <td>1.13642</td>\n",
       "      <td>1.13703</td>\n",
       "    </tr>\n",
       "    <tr>\n",
       "      <th>35</th>\n",
       "      <td>2025-06-04</td>\n",
       "      <td>1.13699</td>\n",
       "      <td>1.14346</td>\n",
       "      <td>1.13570</td>\n",
       "      <td>1.14149</td>\n",
       "    </tr>\n",
       "    <tr>\n",
       "      <th>36</th>\n",
       "      <td>2025-06-05</td>\n",
       "      <td>1.14132</td>\n",
       "      <td>1.14951</td>\n",
       "      <td>1.14046</td>\n",
       "      <td>1.14440</td>\n",
       "    </tr>\n",
       "    <tr>\n",
       "      <th>37</th>\n",
       "      <td>2025-06-06</td>\n",
       "      <td>1.14437</td>\n",
       "      <td>1.14575</td>\n",
       "      <td>1.13717</td>\n",
       "      <td>1.13934</td>\n",
       "    </tr>\n",
       "    <tr>\n",
       "      <th>38</th>\n",
       "      <td>2025-06-09</td>\n",
       "      <td>1.13989</td>\n",
       "      <td>1.14393</td>\n",
       "      <td>1.13866</td>\n",
       "      <td>1.14199</td>\n",
       "    </tr>\n",
       "    <tr>\n",
       "      <th>39</th>\n",
       "      <td>2025-06-10</td>\n",
       "      <td>1.14170</td>\n",
       "      <td>1.14477</td>\n",
       "      <td>1.13730</td>\n",
       "      <td>1.14248</td>\n",
       "    </tr>\n",
       "    <tr>\n",
       "      <th>40</th>\n",
       "      <td>2025-06-11</td>\n",
       "      <td>1.14227</td>\n",
       "      <td>1.14995</td>\n",
       "      <td>1.14054</td>\n",
       "      <td>1.14884</td>\n",
       "    </tr>\n",
       "    <tr>\n",
       "      <th>41</th>\n",
       "      <td>2025-06-12</td>\n",
       "      <td>1.14871</td>\n",
       "      <td>1.16315</td>\n",
       "      <td>1.14815</td>\n",
       "      <td>1.15845</td>\n",
       "    </tr>\n",
       "    <tr>\n",
       "      <th>42</th>\n",
       "      <td>2025-06-13</td>\n",
       "      <td>1.15810</td>\n",
       "      <td>1.16146</td>\n",
       "      <td>1.14889</td>\n",
       "      <td>1.15512</td>\n",
       "    </tr>\n",
       "    <tr>\n",
       "      <th>43</th>\n",
       "      <td>2025-06-16</td>\n",
       "      <td>1.15250</td>\n",
       "      <td>1.15865</td>\n",
       "      <td>1.15211</td>\n",
       "      <td>1.15780</td>\n",
       "    </tr>\n",
       "  </tbody>\n",
       "</table>\n",
       "</div>"
      ],
      "text/plain": [
       "         time     open     high      low    close\n",
       "0  2025-04-16  1.12781  1.14128  1.12781  1.13985\n",
       "1  2025-04-17  1.13986  1.14093  1.13353  1.13634\n",
       "2  2025-04-18  1.13616  1.13975  1.13586  1.13929\n",
       "3  2025-04-21  1.13928  1.15733  1.13799  1.15129\n",
       "4  2025-04-22  1.15139  1.15474  1.14175  1.14206\n",
       "5  2025-04-23  1.14207  1.14399  1.13081  1.13145\n",
       "6  2025-04-24  1.13114  1.13979  1.13095  1.13888\n",
       "7  2025-04-25  1.13852  1.13914  1.13160  1.13595\n",
       "8  2025-04-28  1.13721  1.14249  1.13294  1.14216\n",
       "9  2025-04-29  1.14197  1.14218  1.13702  1.13828\n",
       "10 2025-04-30  1.13840  1.13996  1.13173  1.13292\n",
       "11 2025-05-01  1.13279  1.13411  1.12659  1.12900\n",
       "12 2025-05-02  1.12888  1.13810  1.12743  1.12994\n",
       "13 2025-05-05  1.13037  1.13649  1.12929  1.13144\n",
       "14 2025-05-06  1.13141  1.13812  1.12800  1.13685\n",
       "15 2025-05-07  1.13691  1.13782  1.12917  1.13010\n",
       "16 2025-05-08  1.12978  1.13364  1.12120  1.12279\n",
       "17 2025-05-09  1.12235  1.12929  1.11968  1.12497\n",
       "18 2025-05-12  1.11910  1.12429  1.10655  1.10859\n",
       "19 2025-05-13  1.10843  1.11948  1.10821  1.11849\n",
       "20 2025-05-14  1.11847  1.12659  1.11646  1.11714\n",
       "21 2025-05-15  1.11700  1.12280  1.11668  1.11835\n",
       "22 2025-05-16  1.11866  1.12197  1.11312  1.11649\n",
       "23 2025-05-19  1.11755  1.12884  1.11694  1.12400\n",
       "24 2025-05-20  1.12358  1.12857  1.12181  1.12844\n",
       "25 2025-05-21  1.12821  1.13629  1.12798  1.13310\n",
       "26 2025-05-22  1.13250  1.13449  1.12559  1.12786\n",
       "27 2025-05-23  1.12788  1.13755  1.12763  1.13640\n",
       "28 2025-05-26  1.13626  1.14188  1.13601  1.13868\n",
       "29 2025-05-27  1.13828  1.14073  1.13233  1.13270\n",
       "30 2025-05-28  1.13254  1.13451  1.12839  1.12894\n",
       "31 2025-05-29  1.12900  1.13845  1.12107  1.13648\n",
       "32 2025-05-30  1.13644  1.13899  1.13127  1.13478\n",
       "33 2025-06-02  1.13463  1.14498  1.13382  1.14432\n",
       "34 2025-06-03  1.14390  1.14547  1.13642  1.13703\n",
       "35 2025-06-04  1.13699  1.14346  1.13570  1.14149\n",
       "36 2025-06-05  1.14132  1.14951  1.14046  1.14440\n",
       "37 2025-06-06  1.14437  1.14575  1.13717  1.13934\n",
       "38 2025-06-09  1.13989  1.14393  1.13866  1.14199\n",
       "39 2025-06-10  1.14170  1.14477  1.13730  1.14248\n",
       "40 2025-06-11  1.14227  1.14995  1.14054  1.14884\n",
       "41 2025-06-12  1.14871  1.16315  1.14815  1.15845\n",
       "42 2025-06-13  1.15810  1.16146  1.14889  1.15512\n",
       "43 2025-06-16  1.15250  1.15865  1.15211  1.15780"
      ]
     },
     "execution_count": 10,
     "metadata": {},
     "output_type": "execute_result"
    }
   ],
   "source": [
    "# daily df\n",
    "timeframe = mt5.TIMEFRAME_D1\n",
    "daily_df = get_ohlc(symbol, timeframe, start_datetime, end_datetime)\n",
    "daily_df"
   ]
  },
  {
   "cell_type": "code",
   "execution_count": 11,
   "metadata": {},
   "outputs": [
    {
     "data": {
      "text/html": [
       "<div>\n",
       "<style scoped>\n",
       "    .dataframe tbody tr th:only-of-type {\n",
       "        vertical-align: middle;\n",
       "    }\n",
       "\n",
       "    .dataframe tbody tr th {\n",
       "        vertical-align: top;\n",
       "    }\n",
       "\n",
       "    .dataframe thead th {\n",
       "        text-align: right;\n",
       "    }\n",
       "</style>\n",
       "<table border=\"1\" class=\"dataframe\">\n",
       "  <thead>\n",
       "    <tr style=\"text-align: right;\">\n",
       "      <th></th>\n",
       "      <th>time</th>\n",
       "      <th>S2</th>\n",
       "      <th>R2</th>\n",
       "    </tr>\n",
       "  </thead>\n",
       "  <tbody>\n",
       "    <tr>\n",
       "      <th>34</th>\n",
       "      <td>2025-06-03</td>\n",
       "      <td>1.134143</td>\n",
       "      <td>1.147937</td>\n",
       "    </tr>\n",
       "    <tr>\n",
       "      <th>35</th>\n",
       "      <td>2025-06-04</td>\n",
       "      <td>1.134047</td>\n",
       "      <td>1.145233</td>\n",
       "    </tr>\n",
       "    <tr>\n",
       "      <th>36</th>\n",
       "      <td>2025-06-05</td>\n",
       "      <td>1.135421</td>\n",
       "      <td>1.145012</td>\n",
       "    </tr>\n",
       "    <tr>\n",
       "      <th>37</th>\n",
       "      <td>2025-06-06</td>\n",
       "      <td>1.139197</td>\n",
       "      <td>1.150383</td>\n",
       "    </tr>\n",
       "    <tr>\n",
       "      <th>38</th>\n",
       "      <td>2025-06-09</td>\n",
       "      <td>1.135451</td>\n",
       "      <td>1.146056</td>\n",
       "    </tr>\n",
       "    <tr>\n",
       "      <th>39</th>\n",
       "      <td>2025-06-10</td>\n",
       "      <td>1.138270</td>\n",
       "      <td>1.144784</td>\n",
       "    </tr>\n",
       "    <tr>\n",
       "      <th>40</th>\n",
       "      <td>2025-06-11</td>\n",
       "      <td>1.136900</td>\n",
       "      <td>1.146133</td>\n",
       "    </tr>\n",
       "    <tr>\n",
       "      <th>41</th>\n",
       "      <td>2025-06-12</td>\n",
       "      <td>1.140628</td>\n",
       "      <td>1.152259</td>\n",
       "    </tr>\n",
       "    <tr>\n",
       "      <th>42</th>\n",
       "      <td>2025-06-13</td>\n",
       "      <td>1.147313</td>\n",
       "      <td>1.165853</td>\n",
       "    </tr>\n",
       "    <tr>\n",
       "      <th>43</th>\n",
       "      <td>2025-06-16</td>\n",
       "      <td>1.147388</td>\n",
       "      <td>1.162925</td>\n",
       "    </tr>\n",
       "  </tbody>\n",
       "</table>\n",
       "</div>"
      ],
      "text/plain": [
       "         time        S2        R2\n",
       "34 2025-06-03  1.134143  1.147937\n",
       "35 2025-06-04  1.134047  1.145233\n",
       "36 2025-06-05  1.135421  1.145012\n",
       "37 2025-06-06  1.139197  1.150383\n",
       "38 2025-06-09  1.135451  1.146056\n",
       "39 2025-06-10  1.138270  1.144784\n",
       "40 2025-06-11  1.136900  1.146133\n",
       "41 2025-06-12  1.140628  1.152259\n",
       "42 2025-06-13  1.147313  1.165853\n",
       "43 2025-06-16  1.147388  1.162925"
      ]
     },
     "execution_count": 11,
     "metadata": {},
     "output_type": "execute_result"
    }
   ],
   "source": [
    "# Calculate Pivot Point, R1, R2, R3, stopeR4, S1, S2, S3, stopeS4 levels with Fibonacci \n",
    "daily_df[\"pivot\"] = ((daily_df[\"high\"] + daily_df[\"low\"] + daily_df[\"close\"]) / 3).shift(1)\n",
    "daily_df[\"prange\"] = (daily_df[\"high\"] - daily_df[\"low\"]).shift(1)\n",
    "daily_df[\"R1\"] = daily_df[\"pivot\"] + 0.382 * daily_df[\"prange\"]\n",
    "daily_df[\"R2\"] = daily_df[\"pivot\"] + 0.618 * daily_df[\"prange\"]\n",
    "daily_df[\"R3\"] = daily_df[\"pivot\"] + 1.000 * daily_df[\"prange\"]\n",
    "\n",
    "daily_df[\"S1\"] = daily_df[\"pivot\"] - 0.382 * daily_df[\"prange\"]\n",
    "daily_df[\"S2\"] = daily_df[\"pivot\"] - 0.618 * daily_df[\"prange\"]\n",
    "daily_df[\"S3\"] = daily_df[\"pivot\"] - 1.000 * daily_df[\"prange\"]\n",
    "daily_df[[\"time\",\"S2\",\"R2\"]].tail(10)\n"
   ]
  },
  {
   "cell_type": "code",
   "execution_count": 12,
   "metadata": {},
   "outputs": [
    {
     "data": {
      "text/html": [
       "<div>\n",
       "<style scoped>\n",
       "    .dataframe tbody tr th:only-of-type {\n",
       "        vertical-align: middle;\n",
       "    }\n",
       "\n",
       "    .dataframe tbody tr th {\n",
       "        vertical-align: top;\n",
       "    }\n",
       "\n",
       "    .dataframe thead th {\n",
       "        text-align: right;\n",
       "    }\n",
       "</style>\n",
       "<table border=\"1\" class=\"dataframe\">\n",
       "  <thead>\n",
       "    <tr style=\"text-align: right;\">\n",
       "      <th></th>\n",
       "      <th>time</th>\n",
       "      <th>open</th>\n",
       "      <th>high</th>\n",
       "      <th>low</th>\n",
       "      <th>close</th>\n",
       "      <th>ohlc4</th>\n",
       "      <th>sma_1</th>\n",
       "      <th>prev_sma_1</th>\n",
       "      <th>sma_14</th>\n",
       "    </tr>\n",
       "  </thead>\n",
       "  <tbody>\n",
       "    <tr>\n",
       "      <th>0</th>\n",
       "      <td>2025-04-16 00:00:00</td>\n",
       "      <td>1.12781</td>\n",
       "      <td>1.13217</td>\n",
       "      <td>1.12781</td>\n",
       "      <td>1.13169</td>\n",
       "      <td>1.129870</td>\n",
       "      <td>1.129870</td>\n",
       "      <td>NaN</td>\n",
       "      <td>NaN</td>\n",
       "    </tr>\n",
       "    <tr>\n",
       "      <th>1</th>\n",
       "      <td>2025-04-16 04:00:00</td>\n",
       "      <td>1.13169</td>\n",
       "      <td>1.13479</td>\n",
       "      <td>1.13164</td>\n",
       "      <td>1.13462</td>\n",
       "      <td>1.133185</td>\n",
       "      <td>1.133185</td>\n",
       "      <td>1.129870</td>\n",
       "      <td>NaN</td>\n",
       "    </tr>\n",
       "    <tr>\n",
       "      <th>2</th>\n",
       "      <td>2025-04-16 08:00:00</td>\n",
       "      <td>1.13462</td>\n",
       "      <td>1.13921</td>\n",
       "      <td>1.13384</td>\n",
       "      <td>1.13696</td>\n",
       "      <td>1.136158</td>\n",
       "      <td>1.136158</td>\n",
       "      <td>1.133185</td>\n",
       "      <td>NaN</td>\n",
       "    </tr>\n",
       "    <tr>\n",
       "      <th>3</th>\n",
       "      <td>2025-04-16 12:00:00</td>\n",
       "      <td>1.13697</td>\n",
       "      <td>1.13777</td>\n",
       "      <td>1.13408</td>\n",
       "      <td>1.13519</td>\n",
       "      <td>1.136003</td>\n",
       "      <td>1.136003</td>\n",
       "      <td>1.136158</td>\n",
       "      <td>NaN</td>\n",
       "    </tr>\n",
       "    <tr>\n",
       "      <th>4</th>\n",
       "      <td>2025-04-16 16:00:00</td>\n",
       "      <td>1.13516</td>\n",
       "      <td>1.13871</td>\n",
       "      <td>1.13498</td>\n",
       "      <td>1.13750</td>\n",
       "      <td>1.136588</td>\n",
       "      <td>1.136588</td>\n",
       "      <td>1.136003</td>\n",
       "      <td>NaN</td>\n",
       "    </tr>\n",
       "    <tr>\n",
       "      <th>...</th>\n",
       "      <td>...</td>\n",
       "      <td>...</td>\n",
       "      <td>...</td>\n",
       "      <td>...</td>\n",
       "      <td>...</td>\n",
       "      <td>...</td>\n",
       "      <td>...</td>\n",
       "      <td>...</td>\n",
       "      <td>...</td>\n",
       "    </tr>\n",
       "    <tr>\n",
       "      <th>256</th>\n",
       "      <td>2025-06-13 16:00:00</td>\n",
       "      <td>1.15161</td>\n",
       "      <td>1.15696</td>\n",
       "      <td>1.15013</td>\n",
       "      <td>1.15545</td>\n",
       "      <td>1.153538</td>\n",
       "      <td>1.153538</td>\n",
       "      <td>1.151747</td>\n",
       "      <td>1.152972</td>\n",
       "    </tr>\n",
       "    <tr>\n",
       "      <th>257</th>\n",
       "      <td>2025-06-13 20:00:00</td>\n",
       "      <td>1.15545</td>\n",
       "      <td>1.15555</td>\n",
       "      <td>1.15336</td>\n",
       "      <td>1.15512</td>\n",
       "      <td>1.154870</td>\n",
       "      <td>1.154870</td>\n",
       "      <td>1.153538</td>\n",
       "      <td>1.153664</td>\n",
       "    </tr>\n",
       "    <tr>\n",
       "      <th>258</th>\n",
       "      <td>2025-06-16 00:00:00</td>\n",
       "      <td>1.15250</td>\n",
       "      <td>1.15480</td>\n",
       "      <td>1.15211</td>\n",
       "      <td>1.15348</td>\n",
       "      <td>1.153223</td>\n",
       "      <td>1.153223</td>\n",
       "      <td>1.154870</td>\n",
       "      <td>1.154073</td>\n",
       "    </tr>\n",
       "    <tr>\n",
       "      <th>259</th>\n",
       "      <td>2025-06-16 04:00:00</td>\n",
       "      <td>1.15343</td>\n",
       "      <td>1.15444</td>\n",
       "      <td>1.15237</td>\n",
       "      <td>1.15359</td>\n",
       "      <td>1.153458</td>\n",
       "      <td>1.153458</td>\n",
       "      <td>1.153223</td>\n",
       "      <td>1.154397</td>\n",
       "    </tr>\n",
       "    <tr>\n",
       "      <th>260</th>\n",
       "      <td>2025-06-16 08:00:00</td>\n",
       "      <td>1.15360</td>\n",
       "      <td>1.15865</td>\n",
       "      <td>1.15358</td>\n",
       "      <td>1.15780</td>\n",
       "      <td>1.155907</td>\n",
       "      <td>1.155907</td>\n",
       "      <td>1.153458</td>\n",
       "      <td>1.154790</td>\n",
       "    </tr>\n",
       "  </tbody>\n",
       "</table>\n",
       "<p>261 rows × 9 columns</p>\n",
       "</div>"
      ],
      "text/plain": [
       "                   time     open     high      low    close     ohlc4  \\\n",
       "0   2025-04-16 00:00:00  1.12781  1.13217  1.12781  1.13169  1.129870   \n",
       "1   2025-04-16 04:00:00  1.13169  1.13479  1.13164  1.13462  1.133185   \n",
       "2   2025-04-16 08:00:00  1.13462  1.13921  1.13384  1.13696  1.136158   \n",
       "3   2025-04-16 12:00:00  1.13697  1.13777  1.13408  1.13519  1.136003   \n",
       "4   2025-04-16 16:00:00  1.13516  1.13871  1.13498  1.13750  1.136588   \n",
       "..                  ...      ...      ...      ...      ...       ...   \n",
       "256 2025-06-13 16:00:00  1.15161  1.15696  1.15013  1.15545  1.153538   \n",
       "257 2025-06-13 20:00:00  1.15545  1.15555  1.15336  1.15512  1.154870   \n",
       "258 2025-06-16 00:00:00  1.15250  1.15480  1.15211  1.15348  1.153223   \n",
       "259 2025-06-16 04:00:00  1.15343  1.15444  1.15237  1.15359  1.153458   \n",
       "260 2025-06-16 08:00:00  1.15360  1.15865  1.15358  1.15780  1.155907   \n",
       "\n",
       "        sma_1  prev_sma_1    sma_14  \n",
       "0    1.129870         NaN       NaN  \n",
       "1    1.133185    1.129870       NaN  \n",
       "2    1.136158    1.133185       NaN  \n",
       "3    1.136003    1.136158       NaN  \n",
       "4    1.136588    1.136003       NaN  \n",
       "..        ...         ...       ...  \n",
       "256  1.153538    1.151747  1.152972  \n",
       "257  1.154870    1.153538  1.153664  \n",
       "258  1.153223    1.154870  1.154073  \n",
       "259  1.153458    1.153223  1.154397  \n",
       "260  1.155907    1.153458  1.154790  \n",
       "\n",
       "[261 rows x 9 columns]"
      ]
     },
     "execution_count": 12,
     "metadata": {},
     "output_type": "execute_result"
    }
   ],
   "source": [
    "#setting the sma 1 and 14 periods\n",
    "furst_sma_period = 1\n",
    "second_sma_period = 14\n",
    "#ohlc4\n",
    "hourly_df['ohlc4'] = (hourly_df['open'] + hourly_df['high'] + hourly_df['low'] + hourly_df['close']) / 4\n",
    "\n",
    "# sma 1\n",
    "hourly_df['sma_1'] = hourly_df['ohlc4'].rolling(furst_sma_period).mean()\n",
    "hourly_df['prev_sma_1'] = hourly_df['sma_1'].shift(1) #to find crossovers, previous sma value is necessary using shift()\n",
    "# sma 14\n",
    "hourly_df['sma_14'] = hourly_df['ohlc4'].rolling(second_sma_period).mean()\n",
    "hourly_df"
   ]
  },
  {
   "cell_type": "code",
   "execution_count": 13,
   "metadata": {},
   "outputs": [
    {
     "data": {
      "text/html": [
       "<div>\n",
       "<style scoped>\n",
       "    .dataframe tbody tr th:only-of-type {\n",
       "        vertical-align: middle;\n",
       "    }\n",
       "\n",
       "    .dataframe tbody tr th {\n",
       "        vertical-align: top;\n",
       "    }\n",
       "\n",
       "    .dataframe thead th {\n",
       "        text-align: right;\n",
       "    }\n",
       "</style>\n",
       "<table border=\"1\" class=\"dataframe\">\n",
       "  <thead>\n",
       "    <tr style=\"text-align: right;\">\n",
       "      <th></th>\n",
       "      <th>time</th>\n",
       "      <th>sma_11</th>\n",
       "      <th>sma_114</th>\n",
       "      <th>prev_sma_11</th>\n",
       "    </tr>\n",
       "  </thead>\n",
       "  <tbody>\n",
       "    <tr>\n",
       "      <th>0</th>\n",
       "      <td>2025-04-16</td>\n",
       "      <td>1.134188</td>\n",
       "      <td>NaN</td>\n",
       "      <td>NaN</td>\n",
       "    </tr>\n",
       "    <tr>\n",
       "      <th>1</th>\n",
       "      <td>2025-04-17</td>\n",
       "      <td>1.137665</td>\n",
       "      <td>NaN</td>\n",
       "      <td>1.134188</td>\n",
       "    </tr>\n",
       "    <tr>\n",
       "      <th>2</th>\n",
       "      <td>2025-04-18</td>\n",
       "      <td>1.137765</td>\n",
       "      <td>NaN</td>\n",
       "      <td>1.137665</td>\n",
       "    </tr>\n",
       "    <tr>\n",
       "      <th>3</th>\n",
       "      <td>2025-04-21</td>\n",
       "      <td>1.146473</td>\n",
       "      <td>NaN</td>\n",
       "      <td>1.137765</td>\n",
       "    </tr>\n",
       "    <tr>\n",
       "      <th>4</th>\n",
       "      <td>2025-04-22</td>\n",
       "      <td>1.147485</td>\n",
       "      <td>NaN</td>\n",
       "      <td>1.146473</td>\n",
       "    </tr>\n",
       "    <tr>\n",
       "      <th>5</th>\n",
       "      <td>2025-04-23</td>\n",
       "      <td>1.137080</td>\n",
       "      <td>NaN</td>\n",
       "      <td>1.147485</td>\n",
       "    </tr>\n",
       "    <tr>\n",
       "      <th>6</th>\n",
       "      <td>2025-04-24</td>\n",
       "      <td>1.135190</td>\n",
       "      <td>NaN</td>\n",
       "      <td>1.137080</td>\n",
       "    </tr>\n",
       "    <tr>\n",
       "      <th>7</th>\n",
       "      <td>2025-04-25</td>\n",
       "      <td>1.136302</td>\n",
       "      <td>NaN</td>\n",
       "      <td>1.135190</td>\n",
       "    </tr>\n",
       "    <tr>\n",
       "      <th>8</th>\n",
       "      <td>2025-04-28</td>\n",
       "      <td>1.138700</td>\n",
       "      <td>NaN</td>\n",
       "      <td>1.136302</td>\n",
       "    </tr>\n",
       "    <tr>\n",
       "      <th>9</th>\n",
       "      <td>2025-04-29</td>\n",
       "      <td>1.139863</td>\n",
       "      <td>NaN</td>\n",
       "      <td>1.138700</td>\n",
       "    </tr>\n",
       "    <tr>\n",
       "      <th>10</th>\n",
       "      <td>2025-04-30</td>\n",
       "      <td>1.135753</td>\n",
       "      <td>NaN</td>\n",
       "      <td>1.139863</td>\n",
       "    </tr>\n",
       "    <tr>\n",
       "      <th>11</th>\n",
       "      <td>2025-05-01</td>\n",
       "      <td>1.130622</td>\n",
       "      <td>NaN</td>\n",
       "      <td>1.135753</td>\n",
       "    </tr>\n",
       "    <tr>\n",
       "      <th>12</th>\n",
       "      <td>2025-05-02</td>\n",
       "      <td>1.131088</td>\n",
       "      <td>NaN</td>\n",
       "      <td>1.130622</td>\n",
       "    </tr>\n",
       "    <tr>\n",
       "      <th>13</th>\n",
       "      <td>2025-05-05</td>\n",
       "      <td>1.131898</td>\n",
       "      <td>1.137148</td>\n",
       "      <td>1.131088</td>\n",
       "    </tr>\n",
       "    <tr>\n",
       "      <th>14</th>\n",
       "      <td>2025-05-06</td>\n",
       "      <td>1.133595</td>\n",
       "      <td>1.137106</td>\n",
       "      <td>1.131898</td>\n",
       "    </tr>\n",
       "    <tr>\n",
       "      <th>15</th>\n",
       "      <td>2025-05-07</td>\n",
       "      <td>1.133500</td>\n",
       "      <td>1.136808</td>\n",
       "      <td>1.133595</td>\n",
       "    </tr>\n",
       "    <tr>\n",
       "      <th>16</th>\n",
       "      <td>2025-05-08</td>\n",
       "      <td>1.126853</td>\n",
       "      <td>1.136029</td>\n",
       "      <td>1.133500</td>\n",
       "    </tr>\n",
       "    <tr>\n",
       "      <th>17</th>\n",
       "      <td>2025-05-09</td>\n",
       "      <td>1.124073</td>\n",
       "      <td>1.134429</td>\n",
       "      <td>1.126853</td>\n",
       "    </tr>\n",
       "    <tr>\n",
       "      <th>18</th>\n",
       "      <td>2025-05-12</td>\n",
       "      <td>1.114632</td>\n",
       "      <td>1.132082</td>\n",
       "      <td>1.124073</td>\n",
       "    </tr>\n",
       "    <tr>\n",
       "      <th>19</th>\n",
       "      <td>2025-05-13</td>\n",
       "      <td>1.113653</td>\n",
       "      <td>1.130409</td>\n",
       "      <td>1.114632</td>\n",
       "    </tr>\n",
       "    <tr>\n",
       "      <th>20</th>\n",
       "      <td>2025-05-14</td>\n",
       "      <td>1.119665</td>\n",
       "      <td>1.129300</td>\n",
       "      <td>1.113653</td>\n",
       "    </tr>\n",
       "    <tr>\n",
       "      <th>21</th>\n",
       "      <td>2025-05-15</td>\n",
       "      <td>1.118707</td>\n",
       "      <td>1.128043</td>\n",
       "      <td>1.119665</td>\n",
       "    </tr>\n",
       "    <tr>\n",
       "      <th>22</th>\n",
       "      <td>2025-05-16</td>\n",
       "      <td>1.117560</td>\n",
       "      <td>1.126533</td>\n",
       "      <td>1.118707</td>\n",
       "    </tr>\n",
       "    <tr>\n",
       "      <th>23</th>\n",
       "      <td>2025-05-19</td>\n",
       "      <td>1.121833</td>\n",
       "      <td>1.125245</td>\n",
       "      <td>1.117560</td>\n",
       "    </tr>\n",
       "    <tr>\n",
       "      <th>24</th>\n",
       "      <td>2025-05-20</td>\n",
       "      <td>1.125600</td>\n",
       "      <td>1.124520</td>\n",
       "      <td>1.121833</td>\n",
       "    </tr>\n",
       "    <tr>\n",
       "      <th>25</th>\n",
       "      <td>2025-05-21</td>\n",
       "      <td>1.131395</td>\n",
       "      <td>1.124575</td>\n",
       "      <td>1.125600</td>\n",
       "    </tr>\n",
       "    <tr>\n",
       "      <th>26</th>\n",
       "      <td>2025-05-22</td>\n",
       "      <td>1.130110</td>\n",
       "      <td>1.124505</td>\n",
       "      <td>1.131395</td>\n",
       "    </tr>\n",
       "    <tr>\n",
       "      <th>27</th>\n",
       "      <td>2025-05-23</td>\n",
       "      <td>1.132365</td>\n",
       "      <td>1.124539</td>\n",
       "      <td>1.130110</td>\n",
       "    </tr>\n",
       "    <tr>\n",
       "      <th>28</th>\n",
       "      <td>2025-05-26</td>\n",
       "      <td>1.138208</td>\n",
       "      <td>1.124868</td>\n",
       "      <td>1.132365</td>\n",
       "    </tr>\n",
       "    <tr>\n",
       "      <th>29</th>\n",
       "      <td>2025-05-27</td>\n",
       "      <td>1.136010</td>\n",
       "      <td>1.125047</td>\n",
       "      <td>1.138208</td>\n",
       "    </tr>\n",
       "    <tr>\n",
       "      <th>30</th>\n",
       "      <td>2025-05-28</td>\n",
       "      <td>1.131095</td>\n",
       "      <td>1.125350</td>\n",
       "      <td>1.136010</td>\n",
       "    </tr>\n",
       "    <tr>\n",
       "      <th>31</th>\n",
       "      <td>2025-05-29</td>\n",
       "      <td>1.131250</td>\n",
       "      <td>1.125863</td>\n",
       "      <td>1.131095</td>\n",
       "    </tr>\n",
       "    <tr>\n",
       "      <th>32</th>\n",
       "      <td>2025-05-30</td>\n",
       "      <td>1.135370</td>\n",
       "      <td>1.127344</td>\n",
       "      <td>1.131250</td>\n",
       "    </tr>\n",
       "    <tr>\n",
       "      <th>33</th>\n",
       "      <td>2025-06-02</td>\n",
       "      <td>1.139438</td>\n",
       "      <td>1.129186</td>\n",
       "      <td>1.135370</td>\n",
       "    </tr>\n",
       "    <tr>\n",
       "      <th>34</th>\n",
       "      <td>2025-06-03</td>\n",
       "      <td>1.140705</td>\n",
       "      <td>1.130689</td>\n",
       "      <td>1.139438</td>\n",
       "    </tr>\n",
       "    <tr>\n",
       "      <th>35</th>\n",
       "      <td>2025-06-04</td>\n",
       "      <td>1.139410</td>\n",
       "      <td>1.132168</td>\n",
       "      <td>1.140705</td>\n",
       "    </tr>\n",
       "    <tr>\n",
       "      <th>36</th>\n",
       "      <td>2025-06-05</td>\n",
       "      <td>1.143922</td>\n",
       "      <td>1.134051</td>\n",
       "      <td>1.139410</td>\n",
       "    </tr>\n",
       "    <tr>\n",
       "      <th>37</th>\n",
       "      <td>2025-06-06</td>\n",
       "      <td>1.141657</td>\n",
       "      <td>1.135467</td>\n",
       "      <td>1.143922</td>\n",
       "    </tr>\n",
       "    <tr>\n",
       "      <th>38</th>\n",
       "      <td>2025-06-09</td>\n",
       "      <td>1.141118</td>\n",
       "      <td>1.136575</td>\n",
       "      <td>1.141657</td>\n",
       "    </tr>\n",
       "    <tr>\n",
       "      <th>39</th>\n",
       "      <td>2025-06-10</td>\n",
       "      <td>1.141563</td>\n",
       "      <td>1.137301</td>\n",
       "      <td>1.141118</td>\n",
       "    </tr>\n",
       "    <tr>\n",
       "      <th>40</th>\n",
       "      <td>2025-06-11</td>\n",
       "      <td>1.145400</td>\n",
       "      <td>1.138394</td>\n",
       "      <td>1.141563</td>\n",
       "    </tr>\n",
       "    <tr>\n",
       "      <th>41</th>\n",
       "      <td>2025-06-12</td>\n",
       "      <td>1.154615</td>\n",
       "      <td>1.139983</td>\n",
       "      <td>1.145400</td>\n",
       "    </tr>\n",
       "    <tr>\n",
       "      <th>42</th>\n",
       "      <td>2025-06-13</td>\n",
       "      <td>1.155892</td>\n",
       "      <td>1.141246</td>\n",
       "      <td>1.154615</td>\n",
       "    </tr>\n",
       "    <tr>\n",
       "      <th>43</th>\n",
       "      <td>2025-06-16</td>\n",
       "      <td>1.155265</td>\n",
       "      <td>1.142621</td>\n",
       "      <td>1.155892</td>\n",
       "    </tr>\n",
       "  </tbody>\n",
       "</table>\n",
       "</div>"
      ],
      "text/plain": [
       "         time    sma_11   sma_114  prev_sma_11\n",
       "0  2025-04-16  1.134188       NaN          NaN\n",
       "1  2025-04-17  1.137665       NaN     1.134188\n",
       "2  2025-04-18  1.137765       NaN     1.137665\n",
       "3  2025-04-21  1.146473       NaN     1.137765\n",
       "4  2025-04-22  1.147485       NaN     1.146473\n",
       "5  2025-04-23  1.137080       NaN     1.147485\n",
       "6  2025-04-24  1.135190       NaN     1.137080\n",
       "7  2025-04-25  1.136302       NaN     1.135190\n",
       "8  2025-04-28  1.138700       NaN     1.136302\n",
       "9  2025-04-29  1.139863       NaN     1.138700\n",
       "10 2025-04-30  1.135753       NaN     1.139863\n",
       "11 2025-05-01  1.130622       NaN     1.135753\n",
       "12 2025-05-02  1.131088       NaN     1.130622\n",
       "13 2025-05-05  1.131898  1.137148     1.131088\n",
       "14 2025-05-06  1.133595  1.137106     1.131898\n",
       "15 2025-05-07  1.133500  1.136808     1.133595\n",
       "16 2025-05-08  1.126853  1.136029     1.133500\n",
       "17 2025-05-09  1.124073  1.134429     1.126853\n",
       "18 2025-05-12  1.114632  1.132082     1.124073\n",
       "19 2025-05-13  1.113653  1.130409     1.114632\n",
       "20 2025-05-14  1.119665  1.129300     1.113653\n",
       "21 2025-05-15  1.118707  1.128043     1.119665\n",
       "22 2025-05-16  1.117560  1.126533     1.118707\n",
       "23 2025-05-19  1.121833  1.125245     1.117560\n",
       "24 2025-05-20  1.125600  1.124520     1.121833\n",
       "25 2025-05-21  1.131395  1.124575     1.125600\n",
       "26 2025-05-22  1.130110  1.124505     1.131395\n",
       "27 2025-05-23  1.132365  1.124539     1.130110\n",
       "28 2025-05-26  1.138208  1.124868     1.132365\n",
       "29 2025-05-27  1.136010  1.125047     1.138208\n",
       "30 2025-05-28  1.131095  1.125350     1.136010\n",
       "31 2025-05-29  1.131250  1.125863     1.131095\n",
       "32 2025-05-30  1.135370  1.127344     1.131250\n",
       "33 2025-06-02  1.139438  1.129186     1.135370\n",
       "34 2025-06-03  1.140705  1.130689     1.139438\n",
       "35 2025-06-04  1.139410  1.132168     1.140705\n",
       "36 2025-06-05  1.143922  1.134051     1.139410\n",
       "37 2025-06-06  1.141657  1.135467     1.143922\n",
       "38 2025-06-09  1.141118  1.136575     1.141657\n",
       "39 2025-06-10  1.141563  1.137301     1.141118\n",
       "40 2025-06-11  1.145400  1.138394     1.141563\n",
       "41 2025-06-12  1.154615  1.139983     1.145400\n",
       "42 2025-06-13  1.155892  1.141246     1.154615\n",
       "43 2025-06-16  1.155265  1.142621     1.155892"
      ]
     },
     "execution_count": 13,
     "metadata": {},
     "output_type": "execute_result"
    }
   ],
   "source": [
    "#setting the 11 and 114 sma periods\n",
    "thurd_sma_period = 1\n",
    "fourth_sma_period = 14\n",
    "#ohlc4\n",
    "daily_df['ohlc4'] = (daily_df['open'] + daily_df['high'] + daily_df['low'] + daily_df['close']) / 4\n",
    "# sma 11\n",
    "daily_df['sma_11'] = daily_df['ohlc4'].rolling(thurd_sma_period).mean()\n",
    "daily_df['prev_sma_11'] = daily_df['sma_11'].shift(1) #to find crossovers, previous sma value is necessary using shift()\n",
    "# sma 114\n",
    "daily_df['sma_114'] = daily_df['ohlc4'].rolling(fourth_sma_period).mean()\n",
    "daily_df[[\"time\",\"sma_11\",\"sma_114\",\"prev_sma_11\"]]"
   ]
  },
  {
   "cell_type": "code",
   "execution_count": 14,
   "metadata": {},
   "outputs": [
    {
     "data": {
      "text/html": [
       "<div>\n",
       "<style scoped>\n",
       "    .dataframe tbody tr th:only-of-type {\n",
       "        vertical-align: middle;\n",
       "    }\n",
       "\n",
       "    .dataframe tbody tr th {\n",
       "        vertical-align: top;\n",
       "    }\n",
       "\n",
       "    .dataframe thead th {\n",
       "        text-align: right;\n",
       "    }\n",
       "</style>\n",
       "<table border=\"1\" class=\"dataframe\">\n",
       "  <thead>\n",
       "    <tr style=\"text-align: right;\">\n",
       "      <th></th>\n",
       "      <th>time</th>\n",
       "      <th>open</th>\n",
       "      <th>high</th>\n",
       "      <th>low</th>\n",
       "      <th>close</th>\n",
       "      <th>pivot</th>\n",
       "      <th>prange</th>\n",
       "      <th>R1</th>\n",
       "      <th>R2</th>\n",
       "      <th>R3</th>\n",
       "      <th>...</th>\n",
       "      <th>S2</th>\n",
       "      <th>S3</th>\n",
       "      <th>ohlc4</th>\n",
       "      <th>sma_11</th>\n",
       "      <th>prev_sma_11</th>\n",
       "      <th>sma_114</th>\n",
       "      <th>sell_stope_loss</th>\n",
       "      <th>buy_stope_loss</th>\n",
       "      <th>sell_profit</th>\n",
       "      <th>buy_profit</th>\n",
       "    </tr>\n",
       "  </thead>\n",
       "  <tbody>\n",
       "    <tr>\n",
       "      <th>0</th>\n",
       "      <td>2025-04-16</td>\n",
       "      <td>1.12781</td>\n",
       "      <td>1.14128</td>\n",
       "      <td>1.12781</td>\n",
       "      <td>1.13985</td>\n",
       "      <td>NaN</td>\n",
       "      <td>NaN</td>\n",
       "      <td>NaN</td>\n",
       "      <td>NaN</td>\n",
       "      <td>NaN</td>\n",
       "      <td>...</td>\n",
       "      <td>NaN</td>\n",
       "      <td>NaN</td>\n",
       "      <td>1.134188</td>\n",
       "      <td>1.134188</td>\n",
       "      <td>NaN</td>\n",
       "      <td>NaN</td>\n",
       "      <td>NaN</td>\n",
       "      <td>NaN</td>\n",
       "      <td>False</td>\n",
       "      <td>False</td>\n",
       "    </tr>\n",
       "    <tr>\n",
       "      <th>1</th>\n",
       "      <td>2025-04-17</td>\n",
       "      <td>1.13986</td>\n",
       "      <td>1.14093</td>\n",
       "      <td>1.13353</td>\n",
       "      <td>1.13634</td>\n",
       "      <td>1.136313</td>\n",
       "      <td>0.01347</td>\n",
       "      <td>1.141459</td>\n",
       "      <td>1.144638</td>\n",
       "      <td>1.149783</td>\n",
       "      <td>...</td>\n",
       "      <td>1.127989</td>\n",
       "      <td>1.122843</td>\n",
       "      <td>1.137665</td>\n",
       "      <td>1.137665</td>\n",
       "      <td>1.134188</td>\n",
       "      <td>NaN</td>\n",
       "      <td>1.151373</td>\n",
       "      <td>1.121254</td>\n",
       "      <td>False</td>\n",
       "      <td>False</td>\n",
       "    </tr>\n",
       "    <tr>\n",
       "      <th>2</th>\n",
       "      <td>2025-04-18</td>\n",
       "      <td>1.13616</td>\n",
       "      <td>1.13975</td>\n",
       "      <td>1.13586</td>\n",
       "      <td>1.13929</td>\n",
       "      <td>1.136933</td>\n",
       "      <td>0.00740</td>\n",
       "      <td>1.139760</td>\n",
       "      <td>1.141507</td>\n",
       "      <td>1.144333</td>\n",
       "      <td>...</td>\n",
       "      <td>1.132360</td>\n",
       "      <td>1.129533</td>\n",
       "      <td>1.137765</td>\n",
       "      <td>1.137765</td>\n",
       "      <td>1.137665</td>\n",
       "      <td>NaN</td>\n",
       "      <td>1.145207</td>\n",
       "      <td>1.128660</td>\n",
       "      <td>False</td>\n",
       "      <td>False</td>\n",
       "    </tr>\n",
       "    <tr>\n",
       "      <th>3</th>\n",
       "      <td>2025-04-21</td>\n",
       "      <td>1.13928</td>\n",
       "      <td>1.15733</td>\n",
       "      <td>1.13799</td>\n",
       "      <td>1.15129</td>\n",
       "      <td>1.138300</td>\n",
       "      <td>0.00389</td>\n",
       "      <td>1.139786</td>\n",
       "      <td>1.140704</td>\n",
       "      <td>1.142190</td>\n",
       "      <td>...</td>\n",
       "      <td>1.135896</td>\n",
       "      <td>1.134410</td>\n",
       "      <td>1.146473</td>\n",
       "      <td>1.146473</td>\n",
       "      <td>1.137765</td>\n",
       "      <td>NaN</td>\n",
       "      <td>1.142649</td>\n",
       "      <td>1.133951</td>\n",
       "      <td>False</td>\n",
       "      <td>True</td>\n",
       "    </tr>\n",
       "    <tr>\n",
       "      <th>4</th>\n",
       "      <td>2025-04-22</td>\n",
       "      <td>1.15139</td>\n",
       "      <td>1.15474</td>\n",
       "      <td>1.14175</td>\n",
       "      <td>1.14206</td>\n",
       "      <td>1.148870</td>\n",
       "      <td>0.01934</td>\n",
       "      <td>1.156258</td>\n",
       "      <td>1.160822</td>\n",
       "      <td>1.168210</td>\n",
       "      <td>...</td>\n",
       "      <td>1.136918</td>\n",
       "      <td>1.129530</td>\n",
       "      <td>1.147485</td>\n",
       "      <td>1.147485</td>\n",
       "      <td>1.146473</td>\n",
       "      <td>NaN</td>\n",
       "      <td>1.170492</td>\n",
       "      <td>1.127248</td>\n",
       "      <td>False</td>\n",
       "      <td>False</td>\n",
       "    </tr>\n",
       "    <tr>\n",
       "      <th>5</th>\n",
       "      <td>2025-04-23</td>\n",
       "      <td>1.14207</td>\n",
       "      <td>1.14399</td>\n",
       "      <td>1.13081</td>\n",
       "      <td>1.13145</td>\n",
       "      <td>1.146183</td>\n",
       "      <td>0.01299</td>\n",
       "      <td>1.151146</td>\n",
       "      <td>1.154211</td>\n",
       "      <td>1.159173</td>\n",
       "      <td>...</td>\n",
       "      <td>1.138156</td>\n",
       "      <td>1.133193</td>\n",
       "      <td>1.137080</td>\n",
       "      <td>1.137080</td>\n",
       "      <td>1.147485</td>\n",
       "      <td>NaN</td>\n",
       "      <td>1.160706</td>\n",
       "      <td>1.131661</td>\n",
       "      <td>True</td>\n",
       "      <td>False</td>\n",
       "    </tr>\n",
       "    <tr>\n",
       "      <th>6</th>\n",
       "      <td>2025-04-24</td>\n",
       "      <td>1.13114</td>\n",
       "      <td>1.13979</td>\n",
       "      <td>1.13095</td>\n",
       "      <td>1.13888</td>\n",
       "      <td>1.135417</td>\n",
       "      <td>0.01318</td>\n",
       "      <td>1.140451</td>\n",
       "      <td>1.143562</td>\n",
       "      <td>1.148597</td>\n",
       "      <td>...</td>\n",
       "      <td>1.127271</td>\n",
       "      <td>1.122237</td>\n",
       "      <td>1.135190</td>\n",
       "      <td>1.135190</td>\n",
       "      <td>1.137080</td>\n",
       "      <td>NaN</td>\n",
       "      <td>1.150152</td>\n",
       "      <td>1.120681</td>\n",
       "      <td>False</td>\n",
       "      <td>False</td>\n",
       "    </tr>\n",
       "    <tr>\n",
       "      <th>7</th>\n",
       "      <td>2025-04-25</td>\n",
       "      <td>1.13852</td>\n",
       "      <td>1.13914</td>\n",
       "      <td>1.13160</td>\n",
       "      <td>1.13595</td>\n",
       "      <td>1.136540</td>\n",
       "      <td>0.00884</td>\n",
       "      <td>1.139917</td>\n",
       "      <td>1.142003</td>\n",
       "      <td>1.145380</td>\n",
       "      <td>...</td>\n",
       "      <td>1.131077</td>\n",
       "      <td>1.127700</td>\n",
       "      <td>1.136302</td>\n",
       "      <td>1.136302</td>\n",
       "      <td>1.135190</td>\n",
       "      <td>NaN</td>\n",
       "      <td>1.146423</td>\n",
       "      <td>1.126657</td>\n",
       "      <td>True</td>\n",
       "      <td>False</td>\n",
       "    </tr>\n",
       "    <tr>\n",
       "      <th>8</th>\n",
       "      <td>2025-04-28</td>\n",
       "      <td>1.13721</td>\n",
       "      <td>1.14249</td>\n",
       "      <td>1.13294</td>\n",
       "      <td>1.14216</td>\n",
       "      <td>1.135563</td>\n",
       "      <td>0.00754</td>\n",
       "      <td>1.138444</td>\n",
       "      <td>1.140223</td>\n",
       "      <td>1.143103</td>\n",
       "      <td>...</td>\n",
       "      <td>1.130904</td>\n",
       "      <td>1.128023</td>\n",
       "      <td>1.138700</td>\n",
       "      <td>1.138700</td>\n",
       "      <td>1.136302</td>\n",
       "      <td>NaN</td>\n",
       "      <td>1.143993</td>\n",
       "      <td>1.127134</td>\n",
       "      <td>False</td>\n",
       "      <td>True</td>\n",
       "    </tr>\n",
       "    <tr>\n",
       "      <th>9</th>\n",
       "      <td>2025-04-29</td>\n",
       "      <td>1.14197</td>\n",
       "      <td>1.14218</td>\n",
       "      <td>1.13702</td>\n",
       "      <td>1.13828</td>\n",
       "      <td>1.139197</td>\n",
       "      <td>0.00955</td>\n",
       "      <td>1.142845</td>\n",
       "      <td>1.145099</td>\n",
       "      <td>1.148747</td>\n",
       "      <td>...</td>\n",
       "      <td>1.133295</td>\n",
       "      <td>1.129647</td>\n",
       "      <td>1.139863</td>\n",
       "      <td>1.139863</td>\n",
       "      <td>1.138700</td>\n",
       "      <td>NaN</td>\n",
       "      <td>1.149874</td>\n",
       "      <td>1.128520</td>\n",
       "      <td>False</td>\n",
       "      <td>False</td>\n",
       "    </tr>\n",
       "    <tr>\n",
       "      <th>10</th>\n",
       "      <td>2025-04-30</td>\n",
       "      <td>1.13840</td>\n",
       "      <td>1.13996</td>\n",
       "      <td>1.13173</td>\n",
       "      <td>1.13292</td>\n",
       "      <td>1.139160</td>\n",
       "      <td>0.00516</td>\n",
       "      <td>1.141131</td>\n",
       "      <td>1.142349</td>\n",
       "      <td>1.144320</td>\n",
       "      <td>...</td>\n",
       "      <td>1.135971</td>\n",
       "      <td>1.134000</td>\n",
       "      <td>1.135753</td>\n",
       "      <td>1.135753</td>\n",
       "      <td>1.139863</td>\n",
       "      <td>NaN</td>\n",
       "      <td>1.144929</td>\n",
       "      <td>1.133391</td>\n",
       "      <td>True</td>\n",
       "      <td>False</td>\n",
       "    </tr>\n",
       "    <tr>\n",
       "      <th>11</th>\n",
       "      <td>2025-05-01</td>\n",
       "      <td>1.13279</td>\n",
       "      <td>1.13411</td>\n",
       "      <td>1.12659</td>\n",
       "      <td>1.12900</td>\n",
       "      <td>1.134870</td>\n",
       "      <td>0.00823</td>\n",
       "      <td>1.138014</td>\n",
       "      <td>1.139956</td>\n",
       "      <td>1.143100</td>\n",
       "      <td>...</td>\n",
       "      <td>1.129784</td>\n",
       "      <td>1.126640</td>\n",
       "      <td>1.130622</td>\n",
       "      <td>1.130622</td>\n",
       "      <td>1.135753</td>\n",
       "      <td>NaN</td>\n",
       "      <td>1.144071</td>\n",
       "      <td>1.125669</td>\n",
       "      <td>True</td>\n",
       "      <td>False</td>\n",
       "    </tr>\n",
       "    <tr>\n",
       "      <th>12</th>\n",
       "      <td>2025-05-02</td>\n",
       "      <td>1.12888</td>\n",
       "      <td>1.13810</td>\n",
       "      <td>1.12743</td>\n",
       "      <td>1.12994</td>\n",
       "      <td>1.129900</td>\n",
       "      <td>0.00752</td>\n",
       "      <td>1.132773</td>\n",
       "      <td>1.134547</td>\n",
       "      <td>1.137420</td>\n",
       "      <td>...</td>\n",
       "      <td>1.125253</td>\n",
       "      <td>1.122380</td>\n",
       "      <td>1.131088</td>\n",
       "      <td>1.131088</td>\n",
       "      <td>1.130622</td>\n",
       "      <td>NaN</td>\n",
       "      <td>1.138307</td>\n",
       "      <td>1.121493</td>\n",
       "      <td>False</td>\n",
       "      <td>True</td>\n",
       "    </tr>\n",
       "    <tr>\n",
       "      <th>13</th>\n",
       "      <td>2025-05-05</td>\n",
       "      <td>1.13037</td>\n",
       "      <td>1.13649</td>\n",
       "      <td>1.12929</td>\n",
       "      <td>1.13144</td>\n",
       "      <td>1.131823</td>\n",
       "      <td>0.01067</td>\n",
       "      <td>1.135899</td>\n",
       "      <td>1.138417</td>\n",
       "      <td>1.142493</td>\n",
       "      <td>...</td>\n",
       "      <td>1.125229</td>\n",
       "      <td>1.121153</td>\n",
       "      <td>1.131898</td>\n",
       "      <td>1.131898</td>\n",
       "      <td>1.131088</td>\n",
       "      <td>1.137148</td>\n",
       "      <td>1.143752</td>\n",
       "      <td>1.119894</td>\n",
       "      <td>False</td>\n",
       "      <td>True</td>\n",
       "    </tr>\n",
       "    <tr>\n",
       "      <th>14</th>\n",
       "      <td>2025-05-06</td>\n",
       "      <td>1.13141</td>\n",
       "      <td>1.13812</td>\n",
       "      <td>1.12800</td>\n",
       "      <td>1.13685</td>\n",
       "      <td>1.132407</td>\n",
       "      <td>0.00720</td>\n",
       "      <td>1.135157</td>\n",
       "      <td>1.136856</td>\n",
       "      <td>1.139607</td>\n",
       "      <td>...</td>\n",
       "      <td>1.127957</td>\n",
       "      <td>1.125207</td>\n",
       "      <td>1.133595</td>\n",
       "      <td>1.133595</td>\n",
       "      <td>1.131898</td>\n",
       "      <td>1.137106</td>\n",
       "      <td>1.140456</td>\n",
       "      <td>1.124357</td>\n",
       "      <td>True</td>\n",
       "      <td>True</td>\n",
       "    </tr>\n",
       "    <tr>\n",
       "      <th>15</th>\n",
       "      <td>2025-05-07</td>\n",
       "      <td>1.13691</td>\n",
       "      <td>1.13782</td>\n",
       "      <td>1.12917</td>\n",
       "      <td>1.13010</td>\n",
       "      <td>1.134323</td>\n",
       "      <td>0.01012</td>\n",
       "      <td>1.138189</td>\n",
       "      <td>1.140577</td>\n",
       "      <td>1.144443</td>\n",
       "      <td>...</td>\n",
       "      <td>1.128069</td>\n",
       "      <td>1.124203</td>\n",
       "      <td>1.133500</td>\n",
       "      <td>1.133500</td>\n",
       "      <td>1.133595</td>\n",
       "      <td>1.136808</td>\n",
       "      <td>1.145637</td>\n",
       "      <td>1.123009</td>\n",
       "      <td>True</td>\n",
       "      <td>False</td>\n",
       "    </tr>\n",
       "    <tr>\n",
       "      <th>16</th>\n",
       "      <td>2025-05-08</td>\n",
       "      <td>1.12978</td>\n",
       "      <td>1.13364</td>\n",
       "      <td>1.12120</td>\n",
       "      <td>1.12279</td>\n",
       "      <td>1.132363</td>\n",
       "      <td>0.00865</td>\n",
       "      <td>1.135668</td>\n",
       "      <td>1.137709</td>\n",
       "      <td>1.141013</td>\n",
       "      <td>...</td>\n",
       "      <td>1.127018</td>\n",
       "      <td>1.123713</td>\n",
       "      <td>1.126853</td>\n",
       "      <td>1.126853</td>\n",
       "      <td>1.133500</td>\n",
       "      <td>1.136029</td>\n",
       "      <td>1.142034</td>\n",
       "      <td>1.122693</td>\n",
       "      <td>True</td>\n",
       "      <td>False</td>\n",
       "    </tr>\n",
       "    <tr>\n",
       "      <th>17</th>\n",
       "      <td>2025-05-09</td>\n",
       "      <td>1.12235</td>\n",
       "      <td>1.12929</td>\n",
       "      <td>1.11968</td>\n",
       "      <td>1.12497</td>\n",
       "      <td>1.125877</td>\n",
       "      <td>0.01244</td>\n",
       "      <td>1.130629</td>\n",
       "      <td>1.133565</td>\n",
       "      <td>1.138317</td>\n",
       "      <td>...</td>\n",
       "      <td>1.118189</td>\n",
       "      <td>1.113437</td>\n",
       "      <td>1.124073</td>\n",
       "      <td>1.124073</td>\n",
       "      <td>1.126853</td>\n",
       "      <td>1.134429</td>\n",
       "      <td>1.139785</td>\n",
       "      <td>1.111969</td>\n",
       "      <td>True</td>\n",
       "      <td>False</td>\n",
       "    </tr>\n",
       "    <tr>\n",
       "      <th>18</th>\n",
       "      <td>2025-05-12</td>\n",
       "      <td>1.11910</td>\n",
       "      <td>1.12429</td>\n",
       "      <td>1.10655</td>\n",
       "      <td>1.10859</td>\n",
       "      <td>1.124647</td>\n",
       "      <td>0.00961</td>\n",
       "      <td>1.128318</td>\n",
       "      <td>1.130586</td>\n",
       "      <td>1.134257</td>\n",
       "      <td>...</td>\n",
       "      <td>1.118708</td>\n",
       "      <td>1.115037</td>\n",
       "      <td>1.114632</td>\n",
       "      <td>1.114632</td>\n",
       "      <td>1.124073</td>\n",
       "      <td>1.132082</td>\n",
       "      <td>1.135391</td>\n",
       "      <td>1.113903</td>\n",
       "      <td>True</td>\n",
       "      <td>False</td>\n",
       "    </tr>\n",
       "    <tr>\n",
       "      <th>19</th>\n",
       "      <td>2025-05-13</td>\n",
       "      <td>1.10843</td>\n",
       "      <td>1.11948</td>\n",
       "      <td>1.10821</td>\n",
       "      <td>1.11849</td>\n",
       "      <td>1.113143</td>\n",
       "      <td>0.01774</td>\n",
       "      <td>1.119920</td>\n",
       "      <td>1.124107</td>\n",
       "      <td>1.130883</td>\n",
       "      <td>...</td>\n",
       "      <td>1.102180</td>\n",
       "      <td>1.095403</td>\n",
       "      <td>1.113653</td>\n",
       "      <td>1.113653</td>\n",
       "      <td>1.114632</td>\n",
       "      <td>1.130409</td>\n",
       "      <td>1.132977</td>\n",
       "      <td>1.093310</td>\n",
       "      <td>False</td>\n",
       "      <td>False</td>\n",
       "    </tr>\n",
       "    <tr>\n",
       "      <th>20</th>\n",
       "      <td>2025-05-14</td>\n",
       "      <td>1.11847</td>\n",
       "      <td>1.12659</td>\n",
       "      <td>1.11646</td>\n",
       "      <td>1.11714</td>\n",
       "      <td>1.115393</td>\n",
       "      <td>0.01127</td>\n",
       "      <td>1.119698</td>\n",
       "      <td>1.122358</td>\n",
       "      <td>1.126663</td>\n",
       "      <td>...</td>\n",
       "      <td>1.108428</td>\n",
       "      <td>1.104123</td>\n",
       "      <td>1.119665</td>\n",
       "      <td>1.119665</td>\n",
       "      <td>1.113653</td>\n",
       "      <td>1.129300</td>\n",
       "      <td>1.127993</td>\n",
       "      <td>1.102793</td>\n",
       "      <td>False</td>\n",
       "      <td>True</td>\n",
       "    </tr>\n",
       "    <tr>\n",
       "      <th>21</th>\n",
       "      <td>2025-05-15</td>\n",
       "      <td>1.11700</td>\n",
       "      <td>1.12280</td>\n",
       "      <td>1.11668</td>\n",
       "      <td>1.11835</td>\n",
       "      <td>1.120063</td>\n",
       "      <td>0.01013</td>\n",
       "      <td>1.123933</td>\n",
       "      <td>1.126324</td>\n",
       "      <td>1.130193</td>\n",
       "      <td>...</td>\n",
       "      <td>1.113803</td>\n",
       "      <td>1.109933</td>\n",
       "      <td>1.118707</td>\n",
       "      <td>1.118707</td>\n",
       "      <td>1.119665</td>\n",
       "      <td>1.128043</td>\n",
       "      <td>1.131389</td>\n",
       "      <td>1.108738</td>\n",
       "      <td>False</td>\n",
       "      <td>False</td>\n",
       "    </tr>\n",
       "    <tr>\n",
       "      <th>22</th>\n",
       "      <td>2025-05-16</td>\n",
       "      <td>1.11866</td>\n",
       "      <td>1.12197</td>\n",
       "      <td>1.11312</td>\n",
       "      <td>1.11649</td>\n",
       "      <td>1.119277</td>\n",
       "      <td>0.00612</td>\n",
       "      <td>1.121615</td>\n",
       "      <td>1.123059</td>\n",
       "      <td>1.125397</td>\n",
       "      <td>...</td>\n",
       "      <td>1.115495</td>\n",
       "      <td>1.113157</td>\n",
       "      <td>1.117560</td>\n",
       "      <td>1.117560</td>\n",
       "      <td>1.118707</td>\n",
       "      <td>1.126533</td>\n",
       "      <td>1.126119</td>\n",
       "      <td>1.112435</td>\n",
       "      <td>True</td>\n",
       "      <td>True</td>\n",
       "    </tr>\n",
       "    <tr>\n",
       "      <th>23</th>\n",
       "      <td>2025-05-19</td>\n",
       "      <td>1.11755</td>\n",
       "      <td>1.12884</td>\n",
       "      <td>1.11694</td>\n",
       "      <td>1.12400</td>\n",
       "      <td>1.117193</td>\n",
       "      <td>0.00885</td>\n",
       "      <td>1.120574</td>\n",
       "      <td>1.122663</td>\n",
       "      <td>1.126043</td>\n",
       "      <td>...</td>\n",
       "      <td>1.111724</td>\n",
       "      <td>1.108343</td>\n",
       "      <td>1.121833</td>\n",
       "      <td>1.121833</td>\n",
       "      <td>1.117560</td>\n",
       "      <td>1.125245</td>\n",
       "      <td>1.127088</td>\n",
       "      <td>1.107299</td>\n",
       "      <td>False</td>\n",
       "      <td>True</td>\n",
       "    </tr>\n",
       "    <tr>\n",
       "      <th>24</th>\n",
       "      <td>2025-05-20</td>\n",
       "      <td>1.12358</td>\n",
       "      <td>1.12857</td>\n",
       "      <td>1.12181</td>\n",
       "      <td>1.12844</td>\n",
       "      <td>1.123260</td>\n",
       "      <td>0.01190</td>\n",
       "      <td>1.127806</td>\n",
       "      <td>1.130614</td>\n",
       "      <td>1.135160</td>\n",
       "      <td>...</td>\n",
       "      <td>1.115906</td>\n",
       "      <td>1.111360</td>\n",
       "      <td>1.125600</td>\n",
       "      <td>1.125600</td>\n",
       "      <td>1.121833</td>\n",
       "      <td>1.124520</td>\n",
       "      <td>1.136564</td>\n",
       "      <td>1.109956</td>\n",
       "      <td>False</td>\n",
       "      <td>True</td>\n",
       "    </tr>\n",
       "    <tr>\n",
       "      <th>25</th>\n",
       "      <td>2025-05-21</td>\n",
       "      <td>1.12821</td>\n",
       "      <td>1.13629</td>\n",
       "      <td>1.12798</td>\n",
       "      <td>1.13310</td>\n",
       "      <td>1.126273</td>\n",
       "      <td>0.00676</td>\n",
       "      <td>1.128856</td>\n",
       "      <td>1.130451</td>\n",
       "      <td>1.133033</td>\n",
       "      <td>...</td>\n",
       "      <td>1.122096</td>\n",
       "      <td>1.119513</td>\n",
       "      <td>1.131395</td>\n",
       "      <td>1.131395</td>\n",
       "      <td>1.125600</td>\n",
       "      <td>1.124575</td>\n",
       "      <td>1.133831</td>\n",
       "      <td>1.118716</td>\n",
       "      <td>False</td>\n",
       "      <td>True</td>\n",
       "    </tr>\n",
       "    <tr>\n",
       "      <th>26</th>\n",
       "      <td>2025-05-22</td>\n",
       "      <td>1.13250</td>\n",
       "      <td>1.13449</td>\n",
       "      <td>1.12559</td>\n",
       "      <td>1.12786</td>\n",
       "      <td>1.132457</td>\n",
       "      <td>0.00831</td>\n",
       "      <td>1.135631</td>\n",
       "      <td>1.137592</td>\n",
       "      <td>1.140767</td>\n",
       "      <td>...</td>\n",
       "      <td>1.127321</td>\n",
       "      <td>1.124147</td>\n",
       "      <td>1.130110</td>\n",
       "      <td>1.130110</td>\n",
       "      <td>1.131395</td>\n",
       "      <td>1.124505</td>\n",
       "      <td>1.141747</td>\n",
       "      <td>1.123166</td>\n",
       "      <td>True</td>\n",
       "      <td>False</td>\n",
       "    </tr>\n",
       "    <tr>\n",
       "      <th>27</th>\n",
       "      <td>2025-05-23</td>\n",
       "      <td>1.12788</td>\n",
       "      <td>1.13755</td>\n",
       "      <td>1.12763</td>\n",
       "      <td>1.13640</td>\n",
       "      <td>1.129313</td>\n",
       "      <td>0.00890</td>\n",
       "      <td>1.132713</td>\n",
       "      <td>1.134814</td>\n",
       "      <td>1.138213</td>\n",
       "      <td>...</td>\n",
       "      <td>1.123813</td>\n",
       "      <td>1.120413</td>\n",
       "      <td>1.132365</td>\n",
       "      <td>1.132365</td>\n",
       "      <td>1.130110</td>\n",
       "      <td>1.124539</td>\n",
       "      <td>1.139264</td>\n",
       "      <td>1.119363</td>\n",
       "      <td>False</td>\n",
       "      <td>True</td>\n",
       "    </tr>\n",
       "    <tr>\n",
       "      <th>28</th>\n",
       "      <td>2025-05-26</td>\n",
       "      <td>1.13626</td>\n",
       "      <td>1.14188</td>\n",
       "      <td>1.13601</td>\n",
       "      <td>1.13868</td>\n",
       "      <td>1.133860</td>\n",
       "      <td>0.00992</td>\n",
       "      <td>1.137649</td>\n",
       "      <td>1.139991</td>\n",
       "      <td>1.143780</td>\n",
       "      <td>...</td>\n",
       "      <td>1.127729</td>\n",
       "      <td>1.123940</td>\n",
       "      <td>1.138208</td>\n",
       "      <td>1.138208</td>\n",
       "      <td>1.132365</td>\n",
       "      <td>1.124868</td>\n",
       "      <td>1.144951</td>\n",
       "      <td>1.122769</td>\n",
       "      <td>False</td>\n",
       "      <td>True</td>\n",
       "    </tr>\n",
       "    <tr>\n",
       "      <th>29</th>\n",
       "      <td>2025-05-27</td>\n",
       "      <td>1.13828</td>\n",
       "      <td>1.14073</td>\n",
       "      <td>1.13233</td>\n",
       "      <td>1.13270</td>\n",
       "      <td>1.138857</td>\n",
       "      <td>0.00587</td>\n",
       "      <td>1.141099</td>\n",
       "      <td>1.142484</td>\n",
       "      <td>1.144727</td>\n",
       "      <td>...</td>\n",
       "      <td>1.135229</td>\n",
       "      <td>1.132987</td>\n",
       "      <td>1.136010</td>\n",
       "      <td>1.136010</td>\n",
       "      <td>1.138208</td>\n",
       "      <td>1.125047</td>\n",
       "      <td>1.145419</td>\n",
       "      <td>1.132294</td>\n",
       "      <td>True</td>\n",
       "      <td>False</td>\n",
       "    </tr>\n",
       "    <tr>\n",
       "      <th>30</th>\n",
       "      <td>2025-05-28</td>\n",
       "      <td>1.13254</td>\n",
       "      <td>1.13451</td>\n",
       "      <td>1.12839</td>\n",
       "      <td>1.12894</td>\n",
       "      <td>1.135253</td>\n",
       "      <td>0.00840</td>\n",
       "      <td>1.138462</td>\n",
       "      <td>1.140445</td>\n",
       "      <td>1.143653</td>\n",
       "      <td>...</td>\n",
       "      <td>1.130062</td>\n",
       "      <td>1.126853</td>\n",
       "      <td>1.131095</td>\n",
       "      <td>1.131095</td>\n",
       "      <td>1.136010</td>\n",
       "      <td>1.125350</td>\n",
       "      <td>1.144645</td>\n",
       "      <td>1.125862</td>\n",
       "      <td>True</td>\n",
       "      <td>False</td>\n",
       "    </tr>\n",
       "    <tr>\n",
       "      <th>31</th>\n",
       "      <td>2025-05-29</td>\n",
       "      <td>1.12900</td>\n",
       "      <td>1.13845</td>\n",
       "      <td>1.12107</td>\n",
       "      <td>1.13648</td>\n",
       "      <td>1.130613</td>\n",
       "      <td>0.00612</td>\n",
       "      <td>1.132951</td>\n",
       "      <td>1.134395</td>\n",
       "      <td>1.136733</td>\n",
       "      <td>...</td>\n",
       "      <td>1.126831</td>\n",
       "      <td>1.124493</td>\n",
       "      <td>1.131250</td>\n",
       "      <td>1.131250</td>\n",
       "      <td>1.131095</td>\n",
       "      <td>1.125863</td>\n",
       "      <td>1.137455</td>\n",
       "      <td>1.123771</td>\n",
       "      <td>True</td>\n",
       "      <td>True</td>\n",
       "    </tr>\n",
       "    <tr>\n",
       "      <th>32</th>\n",
       "      <td>2025-05-30</td>\n",
       "      <td>1.13644</td>\n",
       "      <td>1.13899</td>\n",
       "      <td>1.13127</td>\n",
       "      <td>1.13478</td>\n",
       "      <td>1.132000</td>\n",
       "      <td>0.01738</td>\n",
       "      <td>1.138639</td>\n",
       "      <td>1.142741</td>\n",
       "      <td>1.149380</td>\n",
       "      <td>...</td>\n",
       "      <td>1.121259</td>\n",
       "      <td>1.114620</td>\n",
       "      <td>1.135370</td>\n",
       "      <td>1.135370</td>\n",
       "      <td>1.131250</td>\n",
       "      <td>1.127344</td>\n",
       "      <td>1.151431</td>\n",
       "      <td>1.112569</td>\n",
       "      <td>False</td>\n",
       "      <td>True</td>\n",
       "    </tr>\n",
       "    <tr>\n",
       "      <th>33</th>\n",
       "      <td>2025-06-02</td>\n",
       "      <td>1.13463</td>\n",
       "      <td>1.14498</td>\n",
       "      <td>1.13382</td>\n",
       "      <td>1.14432</td>\n",
       "      <td>1.135013</td>\n",
       "      <td>0.00772</td>\n",
       "      <td>1.137962</td>\n",
       "      <td>1.139784</td>\n",
       "      <td>1.142733</td>\n",
       "      <td>...</td>\n",
       "      <td>1.130242</td>\n",
       "      <td>1.127293</td>\n",
       "      <td>1.139438</td>\n",
       "      <td>1.139438</td>\n",
       "      <td>1.135370</td>\n",
       "      <td>1.129186</td>\n",
       "      <td>1.143644</td>\n",
       "      <td>1.126382</td>\n",
       "      <td>False</td>\n",
       "      <td>True</td>\n",
       "    </tr>\n",
       "    <tr>\n",
       "      <th>34</th>\n",
       "      <td>2025-06-03</td>\n",
       "      <td>1.14390</td>\n",
       "      <td>1.14547</td>\n",
       "      <td>1.13642</td>\n",
       "      <td>1.13703</td>\n",
       "      <td>1.141040</td>\n",
       "      <td>0.01116</td>\n",
       "      <td>1.145303</td>\n",
       "      <td>1.147937</td>\n",
       "      <td>1.152200</td>\n",
       "      <td>...</td>\n",
       "      <td>1.134143</td>\n",
       "      <td>1.129880</td>\n",
       "      <td>1.140705</td>\n",
       "      <td>1.140705</td>\n",
       "      <td>1.139438</td>\n",
       "      <td>1.130689</td>\n",
       "      <td>1.153517</td>\n",
       "      <td>1.128563</td>\n",
       "      <td>True</td>\n",
       "      <td>True</td>\n",
       "    </tr>\n",
       "    <tr>\n",
       "      <th>35</th>\n",
       "      <td>2025-06-04</td>\n",
       "      <td>1.13699</td>\n",
       "      <td>1.14346</td>\n",
       "      <td>1.13570</td>\n",
       "      <td>1.14149</td>\n",
       "      <td>1.139640</td>\n",
       "      <td>0.00905</td>\n",
       "      <td>1.143097</td>\n",
       "      <td>1.145233</td>\n",
       "      <td>1.148690</td>\n",
       "      <td>...</td>\n",
       "      <td>1.134047</td>\n",
       "      <td>1.130590</td>\n",
       "      <td>1.139410</td>\n",
       "      <td>1.139410</td>\n",
       "      <td>1.140705</td>\n",
       "      <td>1.132168</td>\n",
       "      <td>1.149758</td>\n",
       "      <td>1.129522</td>\n",
       "      <td>True</td>\n",
       "      <td>True</td>\n",
       "    </tr>\n",
       "    <tr>\n",
       "      <th>36</th>\n",
       "      <td>2025-06-05</td>\n",
       "      <td>1.14132</td>\n",
       "      <td>1.14951</td>\n",
       "      <td>1.14046</td>\n",
       "      <td>1.14440</td>\n",
       "      <td>1.140217</td>\n",
       "      <td>0.00776</td>\n",
       "      <td>1.143181</td>\n",
       "      <td>1.145012</td>\n",
       "      <td>1.147977</td>\n",
       "      <td>...</td>\n",
       "      <td>1.135421</td>\n",
       "      <td>1.132457</td>\n",
       "      <td>1.143922</td>\n",
       "      <td>1.143922</td>\n",
       "      <td>1.139410</td>\n",
       "      <td>1.134051</td>\n",
       "      <td>1.148892</td>\n",
       "      <td>1.131541</td>\n",
       "      <td>False</td>\n",
       "      <td>True</td>\n",
       "    </tr>\n",
       "    <tr>\n",
       "      <th>37</th>\n",
       "      <td>2025-06-06</td>\n",
       "      <td>1.14437</td>\n",
       "      <td>1.14575</td>\n",
       "      <td>1.13717</td>\n",
       "      <td>1.13934</td>\n",
       "      <td>1.144790</td>\n",
       "      <td>0.00905</td>\n",
       "      <td>1.148247</td>\n",
       "      <td>1.150383</td>\n",
       "      <td>1.153840</td>\n",
       "      <td>...</td>\n",
       "      <td>1.139197</td>\n",
       "      <td>1.135740</td>\n",
       "      <td>1.141657</td>\n",
       "      <td>1.141657</td>\n",
       "      <td>1.143922</td>\n",
       "      <td>1.135467</td>\n",
       "      <td>1.154908</td>\n",
       "      <td>1.134672</td>\n",
       "      <td>True</td>\n",
       "      <td>False</td>\n",
       "    </tr>\n",
       "    <tr>\n",
       "      <th>38</th>\n",
       "      <td>2025-06-09</td>\n",
       "      <td>1.13989</td>\n",
       "      <td>1.14393</td>\n",
       "      <td>1.13866</td>\n",
       "      <td>1.14199</td>\n",
       "      <td>1.140753</td>\n",
       "      <td>0.00858</td>\n",
       "      <td>1.144031</td>\n",
       "      <td>1.146056</td>\n",
       "      <td>1.149333</td>\n",
       "      <td>...</td>\n",
       "      <td>1.135451</td>\n",
       "      <td>1.132173</td>\n",
       "      <td>1.141118</td>\n",
       "      <td>1.141118</td>\n",
       "      <td>1.141657</td>\n",
       "      <td>1.136575</td>\n",
       "      <td>1.150346</td>\n",
       "      <td>1.131161</td>\n",
       "      <td>False</td>\n",
       "      <td>False</td>\n",
       "    </tr>\n",
       "    <tr>\n",
       "      <th>39</th>\n",
       "      <td>2025-06-10</td>\n",
       "      <td>1.14170</td>\n",
       "      <td>1.14477</td>\n",
       "      <td>1.13730</td>\n",
       "      <td>1.14248</td>\n",
       "      <td>1.141527</td>\n",
       "      <td>0.00527</td>\n",
       "      <td>1.143540</td>\n",
       "      <td>1.144784</td>\n",
       "      <td>1.146797</td>\n",
       "      <td>...</td>\n",
       "      <td>1.138270</td>\n",
       "      <td>1.136257</td>\n",
       "      <td>1.141563</td>\n",
       "      <td>1.141563</td>\n",
       "      <td>1.141118</td>\n",
       "      <td>1.137301</td>\n",
       "      <td>1.147419</td>\n",
       "      <td>1.135635</td>\n",
       "      <td>True</td>\n",
       "      <td>True</td>\n",
       "    </tr>\n",
       "    <tr>\n",
       "      <th>40</th>\n",
       "      <td>2025-06-11</td>\n",
       "      <td>1.14227</td>\n",
       "      <td>1.14995</td>\n",
       "      <td>1.14054</td>\n",
       "      <td>1.14884</td>\n",
       "      <td>1.141517</td>\n",
       "      <td>0.00747</td>\n",
       "      <td>1.144370</td>\n",
       "      <td>1.146133</td>\n",
       "      <td>1.148987</td>\n",
       "      <td>...</td>\n",
       "      <td>1.136900</td>\n",
       "      <td>1.134047</td>\n",
       "      <td>1.145400</td>\n",
       "      <td>1.145400</td>\n",
       "      <td>1.141563</td>\n",
       "      <td>1.138394</td>\n",
       "      <td>1.149868</td>\n",
       "      <td>1.133165</td>\n",
       "      <td>False</td>\n",
       "      <td>True</td>\n",
       "    </tr>\n",
       "    <tr>\n",
       "      <th>41</th>\n",
       "      <td>2025-06-12</td>\n",
       "      <td>1.14871</td>\n",
       "      <td>1.16315</td>\n",
       "      <td>1.14815</td>\n",
       "      <td>1.15845</td>\n",
       "      <td>1.146443</td>\n",
       "      <td>0.00941</td>\n",
       "      <td>1.150038</td>\n",
       "      <td>1.152259</td>\n",
       "      <td>1.155853</td>\n",
       "      <td>...</td>\n",
       "      <td>1.140628</td>\n",
       "      <td>1.137033</td>\n",
       "      <td>1.154615</td>\n",
       "      <td>1.154615</td>\n",
       "      <td>1.145400</td>\n",
       "      <td>1.139983</td>\n",
       "      <td>1.156964</td>\n",
       "      <td>1.135923</td>\n",
       "      <td>False</td>\n",
       "      <td>True</td>\n",
       "    </tr>\n",
       "    <tr>\n",
       "      <th>42</th>\n",
       "      <td>2025-06-13</td>\n",
       "      <td>1.15810</td>\n",
       "      <td>1.16146</td>\n",
       "      <td>1.14889</td>\n",
       "      <td>1.15512</td>\n",
       "      <td>1.156583</td>\n",
       "      <td>0.01500</td>\n",
       "      <td>1.162313</td>\n",
       "      <td>1.165853</td>\n",
       "      <td>1.171583</td>\n",
       "      <td>...</td>\n",
       "      <td>1.147313</td>\n",
       "      <td>1.141583</td>\n",
       "      <td>1.155892</td>\n",
       "      <td>1.155892</td>\n",
       "      <td>1.154615</td>\n",
       "      <td>1.141246</td>\n",
       "      <td>1.173353</td>\n",
       "      <td>1.139813</td>\n",
       "      <td>True</td>\n",
       "      <td>False</td>\n",
       "    </tr>\n",
       "    <tr>\n",
       "      <th>43</th>\n",
       "      <td>2025-06-16</td>\n",
       "      <td>1.15250</td>\n",
       "      <td>1.15865</td>\n",
       "      <td>1.15211</td>\n",
       "      <td>1.15780</td>\n",
       "      <td>1.155157</td>\n",
       "      <td>0.01257</td>\n",
       "      <td>1.159958</td>\n",
       "      <td>1.162925</td>\n",
       "      <td>1.167727</td>\n",
       "      <td>...</td>\n",
       "      <td>1.147388</td>\n",
       "      <td>1.142587</td>\n",
       "      <td>1.155265</td>\n",
       "      <td>1.155265</td>\n",
       "      <td>1.155892</td>\n",
       "      <td>1.142621</td>\n",
       "      <td>1.169210</td>\n",
       "      <td>1.141103</td>\n",
       "      <td>False</td>\n",
       "      <td>False</td>\n",
       "    </tr>\n",
       "  </tbody>\n",
       "</table>\n",
       "<p>44 rows × 21 columns</p>\n",
       "</div>"
      ],
      "text/plain": [
       "         time     open     high      low    close     pivot   prange  \\\n",
       "0  2025-04-16  1.12781  1.14128  1.12781  1.13985       NaN      NaN   \n",
       "1  2025-04-17  1.13986  1.14093  1.13353  1.13634  1.136313  0.01347   \n",
       "2  2025-04-18  1.13616  1.13975  1.13586  1.13929  1.136933  0.00740   \n",
       "3  2025-04-21  1.13928  1.15733  1.13799  1.15129  1.138300  0.00389   \n",
       "4  2025-04-22  1.15139  1.15474  1.14175  1.14206  1.148870  0.01934   \n",
       "5  2025-04-23  1.14207  1.14399  1.13081  1.13145  1.146183  0.01299   \n",
       "6  2025-04-24  1.13114  1.13979  1.13095  1.13888  1.135417  0.01318   \n",
       "7  2025-04-25  1.13852  1.13914  1.13160  1.13595  1.136540  0.00884   \n",
       "8  2025-04-28  1.13721  1.14249  1.13294  1.14216  1.135563  0.00754   \n",
       "9  2025-04-29  1.14197  1.14218  1.13702  1.13828  1.139197  0.00955   \n",
       "10 2025-04-30  1.13840  1.13996  1.13173  1.13292  1.139160  0.00516   \n",
       "11 2025-05-01  1.13279  1.13411  1.12659  1.12900  1.134870  0.00823   \n",
       "12 2025-05-02  1.12888  1.13810  1.12743  1.12994  1.129900  0.00752   \n",
       "13 2025-05-05  1.13037  1.13649  1.12929  1.13144  1.131823  0.01067   \n",
       "14 2025-05-06  1.13141  1.13812  1.12800  1.13685  1.132407  0.00720   \n",
       "15 2025-05-07  1.13691  1.13782  1.12917  1.13010  1.134323  0.01012   \n",
       "16 2025-05-08  1.12978  1.13364  1.12120  1.12279  1.132363  0.00865   \n",
       "17 2025-05-09  1.12235  1.12929  1.11968  1.12497  1.125877  0.01244   \n",
       "18 2025-05-12  1.11910  1.12429  1.10655  1.10859  1.124647  0.00961   \n",
       "19 2025-05-13  1.10843  1.11948  1.10821  1.11849  1.113143  0.01774   \n",
       "20 2025-05-14  1.11847  1.12659  1.11646  1.11714  1.115393  0.01127   \n",
       "21 2025-05-15  1.11700  1.12280  1.11668  1.11835  1.120063  0.01013   \n",
       "22 2025-05-16  1.11866  1.12197  1.11312  1.11649  1.119277  0.00612   \n",
       "23 2025-05-19  1.11755  1.12884  1.11694  1.12400  1.117193  0.00885   \n",
       "24 2025-05-20  1.12358  1.12857  1.12181  1.12844  1.123260  0.01190   \n",
       "25 2025-05-21  1.12821  1.13629  1.12798  1.13310  1.126273  0.00676   \n",
       "26 2025-05-22  1.13250  1.13449  1.12559  1.12786  1.132457  0.00831   \n",
       "27 2025-05-23  1.12788  1.13755  1.12763  1.13640  1.129313  0.00890   \n",
       "28 2025-05-26  1.13626  1.14188  1.13601  1.13868  1.133860  0.00992   \n",
       "29 2025-05-27  1.13828  1.14073  1.13233  1.13270  1.138857  0.00587   \n",
       "30 2025-05-28  1.13254  1.13451  1.12839  1.12894  1.135253  0.00840   \n",
       "31 2025-05-29  1.12900  1.13845  1.12107  1.13648  1.130613  0.00612   \n",
       "32 2025-05-30  1.13644  1.13899  1.13127  1.13478  1.132000  0.01738   \n",
       "33 2025-06-02  1.13463  1.14498  1.13382  1.14432  1.135013  0.00772   \n",
       "34 2025-06-03  1.14390  1.14547  1.13642  1.13703  1.141040  0.01116   \n",
       "35 2025-06-04  1.13699  1.14346  1.13570  1.14149  1.139640  0.00905   \n",
       "36 2025-06-05  1.14132  1.14951  1.14046  1.14440  1.140217  0.00776   \n",
       "37 2025-06-06  1.14437  1.14575  1.13717  1.13934  1.144790  0.00905   \n",
       "38 2025-06-09  1.13989  1.14393  1.13866  1.14199  1.140753  0.00858   \n",
       "39 2025-06-10  1.14170  1.14477  1.13730  1.14248  1.141527  0.00527   \n",
       "40 2025-06-11  1.14227  1.14995  1.14054  1.14884  1.141517  0.00747   \n",
       "41 2025-06-12  1.14871  1.16315  1.14815  1.15845  1.146443  0.00941   \n",
       "42 2025-06-13  1.15810  1.16146  1.14889  1.15512  1.156583  0.01500   \n",
       "43 2025-06-16  1.15250  1.15865  1.15211  1.15780  1.155157  0.01257   \n",
       "\n",
       "          R1        R2        R3  ...        S2        S3     ohlc4    sma_11  \\\n",
       "0        NaN       NaN       NaN  ...       NaN       NaN  1.134188  1.134188   \n",
       "1   1.141459  1.144638  1.149783  ...  1.127989  1.122843  1.137665  1.137665   \n",
       "2   1.139760  1.141507  1.144333  ...  1.132360  1.129533  1.137765  1.137765   \n",
       "3   1.139786  1.140704  1.142190  ...  1.135896  1.134410  1.146473  1.146473   \n",
       "4   1.156258  1.160822  1.168210  ...  1.136918  1.129530  1.147485  1.147485   \n",
       "5   1.151146  1.154211  1.159173  ...  1.138156  1.133193  1.137080  1.137080   \n",
       "6   1.140451  1.143562  1.148597  ...  1.127271  1.122237  1.135190  1.135190   \n",
       "7   1.139917  1.142003  1.145380  ...  1.131077  1.127700  1.136302  1.136302   \n",
       "8   1.138444  1.140223  1.143103  ...  1.130904  1.128023  1.138700  1.138700   \n",
       "9   1.142845  1.145099  1.148747  ...  1.133295  1.129647  1.139863  1.139863   \n",
       "10  1.141131  1.142349  1.144320  ...  1.135971  1.134000  1.135753  1.135753   \n",
       "11  1.138014  1.139956  1.143100  ...  1.129784  1.126640  1.130622  1.130622   \n",
       "12  1.132773  1.134547  1.137420  ...  1.125253  1.122380  1.131088  1.131088   \n",
       "13  1.135899  1.138417  1.142493  ...  1.125229  1.121153  1.131898  1.131898   \n",
       "14  1.135157  1.136856  1.139607  ...  1.127957  1.125207  1.133595  1.133595   \n",
       "15  1.138189  1.140577  1.144443  ...  1.128069  1.124203  1.133500  1.133500   \n",
       "16  1.135668  1.137709  1.141013  ...  1.127018  1.123713  1.126853  1.126853   \n",
       "17  1.130629  1.133565  1.138317  ...  1.118189  1.113437  1.124073  1.124073   \n",
       "18  1.128318  1.130586  1.134257  ...  1.118708  1.115037  1.114632  1.114632   \n",
       "19  1.119920  1.124107  1.130883  ...  1.102180  1.095403  1.113653  1.113653   \n",
       "20  1.119698  1.122358  1.126663  ...  1.108428  1.104123  1.119665  1.119665   \n",
       "21  1.123933  1.126324  1.130193  ...  1.113803  1.109933  1.118707  1.118707   \n",
       "22  1.121615  1.123059  1.125397  ...  1.115495  1.113157  1.117560  1.117560   \n",
       "23  1.120574  1.122663  1.126043  ...  1.111724  1.108343  1.121833  1.121833   \n",
       "24  1.127806  1.130614  1.135160  ...  1.115906  1.111360  1.125600  1.125600   \n",
       "25  1.128856  1.130451  1.133033  ...  1.122096  1.119513  1.131395  1.131395   \n",
       "26  1.135631  1.137592  1.140767  ...  1.127321  1.124147  1.130110  1.130110   \n",
       "27  1.132713  1.134814  1.138213  ...  1.123813  1.120413  1.132365  1.132365   \n",
       "28  1.137649  1.139991  1.143780  ...  1.127729  1.123940  1.138208  1.138208   \n",
       "29  1.141099  1.142484  1.144727  ...  1.135229  1.132987  1.136010  1.136010   \n",
       "30  1.138462  1.140445  1.143653  ...  1.130062  1.126853  1.131095  1.131095   \n",
       "31  1.132951  1.134395  1.136733  ...  1.126831  1.124493  1.131250  1.131250   \n",
       "32  1.138639  1.142741  1.149380  ...  1.121259  1.114620  1.135370  1.135370   \n",
       "33  1.137962  1.139784  1.142733  ...  1.130242  1.127293  1.139438  1.139438   \n",
       "34  1.145303  1.147937  1.152200  ...  1.134143  1.129880  1.140705  1.140705   \n",
       "35  1.143097  1.145233  1.148690  ...  1.134047  1.130590  1.139410  1.139410   \n",
       "36  1.143181  1.145012  1.147977  ...  1.135421  1.132457  1.143922  1.143922   \n",
       "37  1.148247  1.150383  1.153840  ...  1.139197  1.135740  1.141657  1.141657   \n",
       "38  1.144031  1.146056  1.149333  ...  1.135451  1.132173  1.141118  1.141118   \n",
       "39  1.143540  1.144784  1.146797  ...  1.138270  1.136257  1.141563  1.141563   \n",
       "40  1.144370  1.146133  1.148987  ...  1.136900  1.134047  1.145400  1.145400   \n",
       "41  1.150038  1.152259  1.155853  ...  1.140628  1.137033  1.154615  1.154615   \n",
       "42  1.162313  1.165853  1.171583  ...  1.147313  1.141583  1.155892  1.155892   \n",
       "43  1.159958  1.162925  1.167727  ...  1.147388  1.142587  1.155265  1.155265   \n",
       "\n",
       "    prev_sma_11   sma_114  sell_stope_loss  buy_stope_loss  sell_profit  \\\n",
       "0           NaN       NaN              NaN             NaN        False   \n",
       "1      1.134188       NaN         1.151373        1.121254        False   \n",
       "2      1.137665       NaN         1.145207        1.128660        False   \n",
       "3      1.137765       NaN         1.142649        1.133951        False   \n",
       "4      1.146473       NaN         1.170492        1.127248        False   \n",
       "5      1.147485       NaN         1.160706        1.131661         True   \n",
       "6      1.137080       NaN         1.150152        1.120681        False   \n",
       "7      1.135190       NaN         1.146423        1.126657         True   \n",
       "8      1.136302       NaN         1.143993        1.127134        False   \n",
       "9      1.138700       NaN         1.149874        1.128520        False   \n",
       "10     1.139863       NaN         1.144929        1.133391         True   \n",
       "11     1.135753       NaN         1.144071        1.125669         True   \n",
       "12     1.130622       NaN         1.138307        1.121493        False   \n",
       "13     1.131088  1.137148         1.143752        1.119894        False   \n",
       "14     1.131898  1.137106         1.140456        1.124357         True   \n",
       "15     1.133595  1.136808         1.145637        1.123009         True   \n",
       "16     1.133500  1.136029         1.142034        1.122693         True   \n",
       "17     1.126853  1.134429         1.139785        1.111969         True   \n",
       "18     1.124073  1.132082         1.135391        1.113903         True   \n",
       "19     1.114632  1.130409         1.132977        1.093310        False   \n",
       "20     1.113653  1.129300         1.127993        1.102793        False   \n",
       "21     1.119665  1.128043         1.131389        1.108738        False   \n",
       "22     1.118707  1.126533         1.126119        1.112435         True   \n",
       "23     1.117560  1.125245         1.127088        1.107299        False   \n",
       "24     1.121833  1.124520         1.136564        1.109956        False   \n",
       "25     1.125600  1.124575         1.133831        1.118716        False   \n",
       "26     1.131395  1.124505         1.141747        1.123166         True   \n",
       "27     1.130110  1.124539         1.139264        1.119363        False   \n",
       "28     1.132365  1.124868         1.144951        1.122769        False   \n",
       "29     1.138208  1.125047         1.145419        1.132294         True   \n",
       "30     1.136010  1.125350         1.144645        1.125862         True   \n",
       "31     1.131095  1.125863         1.137455        1.123771         True   \n",
       "32     1.131250  1.127344         1.151431        1.112569        False   \n",
       "33     1.135370  1.129186         1.143644        1.126382        False   \n",
       "34     1.139438  1.130689         1.153517        1.128563         True   \n",
       "35     1.140705  1.132168         1.149758        1.129522         True   \n",
       "36     1.139410  1.134051         1.148892        1.131541        False   \n",
       "37     1.143922  1.135467         1.154908        1.134672         True   \n",
       "38     1.141657  1.136575         1.150346        1.131161        False   \n",
       "39     1.141118  1.137301         1.147419        1.135635         True   \n",
       "40     1.141563  1.138394         1.149868        1.133165        False   \n",
       "41     1.145400  1.139983         1.156964        1.135923        False   \n",
       "42     1.154615  1.141246         1.173353        1.139813         True   \n",
       "43     1.155892  1.142621         1.169210        1.141103        False   \n",
       "\n",
       "    buy_profit  \n",
       "0        False  \n",
       "1        False  \n",
       "2        False  \n",
       "3         True  \n",
       "4        False  \n",
       "5        False  \n",
       "6        False  \n",
       "7        False  \n",
       "8         True  \n",
       "9        False  \n",
       "10       False  \n",
       "11       False  \n",
       "12        True  \n",
       "13        True  \n",
       "14        True  \n",
       "15       False  \n",
       "16       False  \n",
       "17       False  \n",
       "18       False  \n",
       "19       False  \n",
       "20        True  \n",
       "21       False  \n",
       "22        True  \n",
       "23        True  \n",
       "24        True  \n",
       "25        True  \n",
       "26       False  \n",
       "27        True  \n",
       "28        True  \n",
       "29       False  \n",
       "30       False  \n",
       "31        True  \n",
       "32        True  \n",
       "33        True  \n",
       "34        True  \n",
       "35        True  \n",
       "36        True  \n",
       "37       False  \n",
       "38       False  \n",
       "39        True  \n",
       "40        True  \n",
       "41        True  \n",
       "42       False  \n",
       "43       False  \n",
       "\n",
       "[44 rows x 21 columns]"
      ]
     },
     "execution_count": 14,
     "metadata": {},
     "output_type": "execute_result"
    }
   ],
   "source": [
    "#setting entring and closing time and one trade a day\n",
    "# Set the start and end times for your desired trading hours\n",
    "start_time = datetime.strptime('06:00:00', '%H:%M:%S').time()\n",
    "end_time = datetime.strptime('17:00:00', '%H:%M:%S').time()\n",
    "end_trading_section = datetime.strptime('23:45:00', '%H:%M:%S').time()\n",
    "\n",
    "# Filter the trade data for trades within the specified trading hours\n",
    "#trades_within_hours = daily_df[(daily_df['time'].dt.time >= start_time) & (daily_df['time'].dt.time <= end_time)]\n",
    "# open one trade a day\n",
    "first_trade_per_day = daily_df.groupby(daily_df['time'].dt.time).first()\n",
    "# Close all open positions at 11:45 PM\n",
    "open_positions = daily_df[daily_df['time'].dt.time == end_trading_section]\n",
    "\n",
    "# function to trading\n",
    "daily_df[\"sell_stope_loss\"] = (daily_df[\"R2\"] - daily_df[\"S1\"]) /2 + daily_df[\"R2\"] \n",
    "daily_df[\"buy_stope_loss\"] = (daily_df[\"S2\"] - ((daily_df[\"R1\"] - daily_df[\"S2\"]) /2))\n",
    "daily_df['sell_profit'] = daily_df['low'] <= daily_df[\"S1\"]\n",
    "daily_df['buy_profit'] = daily_df[\"high\"] >= daily_df[\"R1\"]\n",
    "daily_df"
   ]
  },
  {
   "cell_type": "code",
   "execution_count": 15,
   "metadata": {},
   "outputs": [
    {
     "data": {
      "text/html": [
       "<div>\n",
       "<style scoped>\n",
       "    .dataframe tbody tr th:only-of-type {\n",
       "        vertical-align: middle;\n",
       "    }\n",
       "\n",
       "    .dataframe tbody tr th {\n",
       "        vertical-align: top;\n",
       "    }\n",
       "\n",
       "    .dataframe thead th {\n",
       "        text-align: right;\n",
       "    }\n",
       "</style>\n",
       "<table border=\"1\" class=\"dataframe\">\n",
       "  <thead>\n",
       "    <tr style=\"text-align: right;\">\n",
       "      <th></th>\n",
       "      <th>signal</th>\n",
       "      <th>time</th>\n",
       "    </tr>\n",
       "  </thead>\n",
       "  <tbody>\n",
       "    <tr>\n",
       "      <th>33766</th>\n",
       "      <td>sell</td>\n",
       "      <td>2025-05-19 10:27:00</td>\n",
       "    </tr>\n",
       "    <tr>\n",
       "      <th>42398</th>\n",
       "      <td>buy</td>\n",
       "      <td>2025-05-27 10:27:00</td>\n",
       "    </tr>\n",
       "    <tr>\n",
       "      <th>54211</th>\n",
       "      <td>buy</td>\n",
       "      <td>2025-06-06 15:30:00</td>\n",
       "    </tr>\n",
       "  </tbody>\n",
       "</table>\n",
       "</div>"
      ],
      "text/plain": [
       "      signal                time\n",
       "33766   sell 2025-05-19 10:27:00\n",
       "42398    buy 2025-05-27 10:27:00\n",
       "54211    buy 2025-06-06 15:30:00"
      ]
     },
     "execution_count": 15,
     "metadata": {},
     "output_type": "execute_result"
    }
   ],
   "source": [
    "#ohlc_df = ohlc_df.sort_values('time')\n",
    "#daily_df = daily_df.sort_values('time')\n",
    "def entring_stoploss_profit(row, hourly_df) :\n",
    "    if row[\"prev_sma_11\"] > row['sma_114'] and row[\"prev_sma_1\"] > row['sma_14'] and row[\"low_x\"] <= row[\"S2\"] :\n",
    "        return \"buy\"\n",
    "    elif row['prev_sma_11'] < row['sma_114'] and row[\"prev_sma_1\"] < row['sma_14'] and row[\"high_x\"] >= row[\"R2\"]:\n",
    "        return \"sell\"\n",
    "    # Merge daily indicators into minute data (asof = merge on closest earlier date)\n",
    "merged_df1 = pd.merge_asof(ohlc_df, hourly_df, on='time', direction='backward')\n",
    "merged_df = pd.merge_asof(merged_df1, daily_df, on='time', direction='backward')\n",
    "merged_df[\"signal\"] = merged_df.apply(entring_stoploss_profit, axis=1, hourly_df = hourly_df)\n",
    "\n",
    "# Tag first signal per day in original merged_df\n",
    "merged_df['is_first_signal'] = (merged_df[merged_df[\"signal\"].notna()].groupby(merged_df[\"time\"].dt.date).cumcount() == 0)\n",
    "\n",
    "# Set signal only on the first row per day, others = None\n",
    "merged_df['signal'] = merged_df.apply(lambda row: row['signal'] if row['is_first_signal'] else None, axis=1)\n",
    "merged_df[['signal', 'time']].dropna()"
   ]
  },
  {
   "cell_type": "code",
   "execution_count": 16,
   "metadata": {},
   "outputs": [],
   "source": [
    "merged_df = merged_df.rename(columns={\n",
    "    \"low_x\": \"low\",\n",
    "    \"high_x\": \"high\",\n",
    "    \"open_x\": \"open\",\n",
    "    \"close_x\": \"close\",\n",
    "    \"low_y\": \"hourly_low\",\n",
    "    \"high_y\": \"hourly_high\",\n",
    "    \"open_y\": \"hourly_open\",\n",
    "    \"close_y\": \"hourly_close\",\n",
    "    \"low\": \"daily_low\",\n",
    "    \"high\": \"daily_high\",\n",
    "    \"open\": \"daily_open\",\n",
    "    \"close\": \"daily_close\"\n",
    "})\n"
   ]
  },
  {
   "cell_type": "code",
   "execution_count": 17,
   "metadata": {},
   "outputs": [
    {
     "name": "stdout",
     "output_type": "stream",
     "text": [
      "['time', 'open', 'high', 'low', 'close', 'hourly_open', 'hourly_high', 'hourly_low', 'hourly_close', 'ohlc4_x', 'sma_1', 'prev_sma_1', 'sma_14', 'daily_open', 'daily_high', 'daily_low', 'daily_close', 'pivot', 'prange', 'R1', 'R2', 'R3', 'S1', 'S2', 'S3', 'ohlc4_y', 'sma_11', 'prev_sma_11', 'sma_114', 'sell_stope_loss', 'buy_stope_loss', 'sell_profit', 'buy_profit', 'signal', 'is_first_signal']\n"
     ]
    },
    {
     "data": {
      "text/html": [
       "<div>\n",
       "<style scoped>\n",
       "    .dataframe tbody tr th:only-of-type {\n",
       "        vertical-align: middle;\n",
       "    }\n",
       "\n",
       "    .dataframe tbody tr th {\n",
       "        vertical-align: top;\n",
       "    }\n",
       "\n",
       "    .dataframe thead th {\n",
       "        text-align: right;\n",
       "    }\n",
       "</style>\n",
       "<table border=\"1\" class=\"dataframe\">\n",
       "  <thead>\n",
       "    <tr style=\"text-align: right;\">\n",
       "      <th></th>\n",
       "      <th>time</th>\n",
       "      <th>open</th>\n",
       "      <th>high</th>\n",
       "      <th>low</th>\n",
       "      <th>close</th>\n",
       "      <th>hourly_open</th>\n",
       "      <th>hourly_high</th>\n",
       "      <th>hourly_low</th>\n",
       "      <th>hourly_close</th>\n",
       "      <th>ohlc4_x</th>\n",
       "      <th>...</th>\n",
       "      <th>ohlc4_y</th>\n",
       "      <th>sma_11</th>\n",
       "      <th>prev_sma_11</th>\n",
       "      <th>sma_114</th>\n",
       "      <th>sell_stope_loss</th>\n",
       "      <th>buy_stope_loss</th>\n",
       "      <th>sell_profit</th>\n",
       "      <th>buy_profit</th>\n",
       "      <th>signal</th>\n",
       "      <th>is_first_signal</th>\n",
       "    </tr>\n",
       "  </thead>\n",
       "  <tbody>\n",
       "    <tr>\n",
       "      <th>0</th>\n",
       "      <td>2025-04-15 23:00:00</td>\n",
       "      <td>1.12823</td>\n",
       "      <td>1.12848</td>\n",
       "      <td>1.12823</td>\n",
       "      <td>1.12848</td>\n",
       "      <td>NaN</td>\n",
       "      <td>NaN</td>\n",
       "      <td>NaN</td>\n",
       "      <td>NaN</td>\n",
       "      <td>NaN</td>\n",
       "      <td>...</td>\n",
       "      <td>NaN</td>\n",
       "      <td>NaN</td>\n",
       "      <td>NaN</td>\n",
       "      <td>NaN</td>\n",
       "      <td>NaN</td>\n",
       "      <td>NaN</td>\n",
       "      <td>NaN</td>\n",
       "      <td>NaN</td>\n",
       "      <td>None</td>\n",
       "      <td>NaN</td>\n",
       "    </tr>\n",
       "    <tr>\n",
       "      <th>1</th>\n",
       "      <td>2025-04-15 23:01:00</td>\n",
       "      <td>1.12847</td>\n",
       "      <td>1.12847</td>\n",
       "      <td>1.12824</td>\n",
       "      <td>1.12839</td>\n",
       "      <td>NaN</td>\n",
       "      <td>NaN</td>\n",
       "      <td>NaN</td>\n",
       "      <td>NaN</td>\n",
       "      <td>NaN</td>\n",
       "      <td>...</td>\n",
       "      <td>NaN</td>\n",
       "      <td>NaN</td>\n",
       "      <td>NaN</td>\n",
       "      <td>NaN</td>\n",
       "      <td>NaN</td>\n",
       "      <td>NaN</td>\n",
       "      <td>NaN</td>\n",
       "      <td>NaN</td>\n",
       "      <td>None</td>\n",
       "      <td>NaN</td>\n",
       "    </tr>\n",
       "    <tr>\n",
       "      <th>2</th>\n",
       "      <td>2025-04-15 23:02:00</td>\n",
       "      <td>1.12838</td>\n",
       "      <td>1.12862</td>\n",
       "      <td>1.12837</td>\n",
       "      <td>1.12862</td>\n",
       "      <td>NaN</td>\n",
       "      <td>NaN</td>\n",
       "      <td>NaN</td>\n",
       "      <td>NaN</td>\n",
       "      <td>NaN</td>\n",
       "      <td>...</td>\n",
       "      <td>NaN</td>\n",
       "      <td>NaN</td>\n",
       "      <td>NaN</td>\n",
       "      <td>NaN</td>\n",
       "      <td>NaN</td>\n",
       "      <td>NaN</td>\n",
       "      <td>NaN</td>\n",
       "      <td>NaN</td>\n",
       "      <td>None</td>\n",
       "      <td>NaN</td>\n",
       "    </tr>\n",
       "    <tr>\n",
       "      <th>3</th>\n",
       "      <td>2025-04-15 23:03:00</td>\n",
       "      <td>1.12862</td>\n",
       "      <td>1.12862</td>\n",
       "      <td>1.12837</td>\n",
       "      <td>1.12848</td>\n",
       "      <td>NaN</td>\n",
       "      <td>NaN</td>\n",
       "      <td>NaN</td>\n",
       "      <td>NaN</td>\n",
       "      <td>NaN</td>\n",
       "      <td>...</td>\n",
       "      <td>NaN</td>\n",
       "      <td>NaN</td>\n",
       "      <td>NaN</td>\n",
       "      <td>NaN</td>\n",
       "      <td>NaN</td>\n",
       "      <td>NaN</td>\n",
       "      <td>NaN</td>\n",
       "      <td>NaN</td>\n",
       "      <td>None</td>\n",
       "      <td>NaN</td>\n",
       "    </tr>\n",
       "    <tr>\n",
       "      <th>4</th>\n",
       "      <td>2025-04-15 23:04:00</td>\n",
       "      <td>1.12848</td>\n",
       "      <td>1.12848</td>\n",
       "      <td>1.12836</td>\n",
       "      <td>1.12839</td>\n",
       "      <td>NaN</td>\n",
       "      <td>NaN</td>\n",
       "      <td>NaN</td>\n",
       "      <td>NaN</td>\n",
       "      <td>NaN</td>\n",
       "      <td>...</td>\n",
       "      <td>NaN</td>\n",
       "      <td>NaN</td>\n",
       "      <td>NaN</td>\n",
       "      <td>NaN</td>\n",
       "      <td>NaN</td>\n",
       "      <td>NaN</td>\n",
       "      <td>NaN</td>\n",
       "      <td>NaN</td>\n",
       "      <td>None</td>\n",
       "      <td>NaN</td>\n",
       "    </tr>\n",
       "    <tr>\n",
       "      <th>...</th>\n",
       "      <td>...</td>\n",
       "      <td>...</td>\n",
       "      <td>...</td>\n",
       "      <td>...</td>\n",
       "      <td>...</td>\n",
       "      <td>...</td>\n",
       "      <td>...</td>\n",
       "      <td>...</td>\n",
       "      <td>...</td>\n",
       "      <td>...</td>\n",
       "      <td>...</td>\n",
       "      <td>...</td>\n",
       "      <td>...</td>\n",
       "      <td>...</td>\n",
       "      <td>...</td>\n",
       "      <td>...</td>\n",
       "      <td>...</td>\n",
       "      <td>...</td>\n",
       "      <td>...</td>\n",
       "      <td>...</td>\n",
       "      <td>...</td>\n",
       "    </tr>\n",
       "    <tr>\n",
       "      <th>62477</th>\n",
       "      <td>2025-06-16 09:26:00</td>\n",
       "      <td>1.15486</td>\n",
       "      <td>1.15496</td>\n",
       "      <td>1.15474</td>\n",
       "      <td>1.15474</td>\n",
       "      <td>1.1536</td>\n",
       "      <td>1.15865</td>\n",
       "      <td>1.15358</td>\n",
       "      <td>1.1578</td>\n",
       "      <td>1.155907</td>\n",
       "      <td>...</td>\n",
       "      <td>1.155265</td>\n",
       "      <td>1.155265</td>\n",
       "      <td>1.155892</td>\n",
       "      <td>1.142621</td>\n",
       "      <td>1.16921</td>\n",
       "      <td>1.141103</td>\n",
       "      <td>False</td>\n",
       "      <td>False</td>\n",
       "      <td>None</td>\n",
       "      <td>NaN</td>\n",
       "    </tr>\n",
       "    <tr>\n",
       "      <th>62478</th>\n",
       "      <td>2025-06-16 09:27:00</td>\n",
       "      <td>1.15474</td>\n",
       "      <td>1.15474</td>\n",
       "      <td>1.15416</td>\n",
       "      <td>1.15427</td>\n",
       "      <td>1.1536</td>\n",
       "      <td>1.15865</td>\n",
       "      <td>1.15358</td>\n",
       "      <td>1.1578</td>\n",
       "      <td>1.155907</td>\n",
       "      <td>...</td>\n",
       "      <td>1.155265</td>\n",
       "      <td>1.155265</td>\n",
       "      <td>1.155892</td>\n",
       "      <td>1.142621</td>\n",
       "      <td>1.16921</td>\n",
       "      <td>1.141103</td>\n",
       "      <td>False</td>\n",
       "      <td>False</td>\n",
       "      <td>None</td>\n",
       "      <td>NaN</td>\n",
       "    </tr>\n",
       "    <tr>\n",
       "      <th>62479</th>\n",
       "      <td>2025-06-16 09:28:00</td>\n",
       "      <td>1.15427</td>\n",
       "      <td>1.15439</td>\n",
       "      <td>1.15405</td>\n",
       "      <td>1.15417</td>\n",
       "      <td>1.1536</td>\n",
       "      <td>1.15865</td>\n",
       "      <td>1.15358</td>\n",
       "      <td>1.1578</td>\n",
       "      <td>1.155907</td>\n",
       "      <td>...</td>\n",
       "      <td>1.155265</td>\n",
       "      <td>1.155265</td>\n",
       "      <td>1.155892</td>\n",
       "      <td>1.142621</td>\n",
       "      <td>1.16921</td>\n",
       "      <td>1.141103</td>\n",
       "      <td>False</td>\n",
       "      <td>False</td>\n",
       "      <td>None</td>\n",
       "      <td>NaN</td>\n",
       "    </tr>\n",
       "    <tr>\n",
       "      <th>62480</th>\n",
       "      <td>2025-06-16 09:29:00</td>\n",
       "      <td>1.15417</td>\n",
       "      <td>1.15429</td>\n",
       "      <td>1.15405</td>\n",
       "      <td>1.15429</td>\n",
       "      <td>1.1536</td>\n",
       "      <td>1.15865</td>\n",
       "      <td>1.15358</td>\n",
       "      <td>1.1578</td>\n",
       "      <td>1.155907</td>\n",
       "      <td>...</td>\n",
       "      <td>1.155265</td>\n",
       "      <td>1.155265</td>\n",
       "      <td>1.155892</td>\n",
       "      <td>1.142621</td>\n",
       "      <td>1.16921</td>\n",
       "      <td>1.141103</td>\n",
       "      <td>False</td>\n",
       "      <td>False</td>\n",
       "      <td>None</td>\n",
       "      <td>NaN</td>\n",
       "    </tr>\n",
       "    <tr>\n",
       "      <th>62481</th>\n",
       "      <td>2025-06-16 09:30:00</td>\n",
       "      <td>1.15429</td>\n",
       "      <td>1.15449</td>\n",
       "      <td>1.15399</td>\n",
       "      <td>1.15441</td>\n",
       "      <td>1.1536</td>\n",
       "      <td>1.15865</td>\n",
       "      <td>1.15358</td>\n",
       "      <td>1.1578</td>\n",
       "      <td>1.155907</td>\n",
       "      <td>...</td>\n",
       "      <td>1.155265</td>\n",
       "      <td>1.155265</td>\n",
       "      <td>1.155892</td>\n",
       "      <td>1.142621</td>\n",
       "      <td>1.16921</td>\n",
       "      <td>1.141103</td>\n",
       "      <td>False</td>\n",
       "      <td>False</td>\n",
       "      <td>None</td>\n",
       "      <td>NaN</td>\n",
       "    </tr>\n",
       "  </tbody>\n",
       "</table>\n",
       "<p>62482 rows × 35 columns</p>\n",
       "</div>"
      ],
      "text/plain": [
       "                     time     open     high      low    close  hourly_open  \\\n",
       "0     2025-04-15 23:00:00  1.12823  1.12848  1.12823  1.12848          NaN   \n",
       "1     2025-04-15 23:01:00  1.12847  1.12847  1.12824  1.12839          NaN   \n",
       "2     2025-04-15 23:02:00  1.12838  1.12862  1.12837  1.12862          NaN   \n",
       "3     2025-04-15 23:03:00  1.12862  1.12862  1.12837  1.12848          NaN   \n",
       "4     2025-04-15 23:04:00  1.12848  1.12848  1.12836  1.12839          NaN   \n",
       "...                   ...      ...      ...      ...      ...          ...   \n",
       "62477 2025-06-16 09:26:00  1.15486  1.15496  1.15474  1.15474       1.1536   \n",
       "62478 2025-06-16 09:27:00  1.15474  1.15474  1.15416  1.15427       1.1536   \n",
       "62479 2025-06-16 09:28:00  1.15427  1.15439  1.15405  1.15417       1.1536   \n",
       "62480 2025-06-16 09:29:00  1.15417  1.15429  1.15405  1.15429       1.1536   \n",
       "62481 2025-06-16 09:30:00  1.15429  1.15449  1.15399  1.15441       1.1536   \n",
       "\n",
       "       hourly_high  hourly_low  hourly_close   ohlc4_x  ...   ohlc4_y  \\\n",
       "0              NaN         NaN           NaN       NaN  ...       NaN   \n",
       "1              NaN         NaN           NaN       NaN  ...       NaN   \n",
       "2              NaN         NaN           NaN       NaN  ...       NaN   \n",
       "3              NaN         NaN           NaN       NaN  ...       NaN   \n",
       "4              NaN         NaN           NaN       NaN  ...       NaN   \n",
       "...            ...         ...           ...       ...  ...       ...   \n",
       "62477      1.15865     1.15358        1.1578  1.155907  ...  1.155265   \n",
       "62478      1.15865     1.15358        1.1578  1.155907  ...  1.155265   \n",
       "62479      1.15865     1.15358        1.1578  1.155907  ...  1.155265   \n",
       "62480      1.15865     1.15358        1.1578  1.155907  ...  1.155265   \n",
       "62481      1.15865     1.15358        1.1578  1.155907  ...  1.155265   \n",
       "\n",
       "         sma_11  prev_sma_11   sma_114  sell_stope_loss  buy_stope_loss  \\\n",
       "0           NaN          NaN       NaN              NaN             NaN   \n",
       "1           NaN          NaN       NaN              NaN             NaN   \n",
       "2           NaN          NaN       NaN              NaN             NaN   \n",
       "3           NaN          NaN       NaN              NaN             NaN   \n",
       "4           NaN          NaN       NaN              NaN             NaN   \n",
       "...         ...          ...       ...              ...             ...   \n",
       "62477  1.155265     1.155892  1.142621          1.16921        1.141103   \n",
       "62478  1.155265     1.155892  1.142621          1.16921        1.141103   \n",
       "62479  1.155265     1.155892  1.142621          1.16921        1.141103   \n",
       "62480  1.155265     1.155892  1.142621          1.16921        1.141103   \n",
       "62481  1.155265     1.155892  1.142621          1.16921        1.141103   \n",
       "\n",
       "       sell_profit  buy_profit  signal  is_first_signal  \n",
       "0              NaN         NaN    None              NaN  \n",
       "1              NaN         NaN    None              NaN  \n",
       "2              NaN         NaN    None              NaN  \n",
       "3              NaN         NaN    None              NaN  \n",
       "4              NaN         NaN    None              NaN  \n",
       "...            ...         ...     ...              ...  \n",
       "62477        False       False    None              NaN  \n",
       "62478        False       False    None              NaN  \n",
       "62479        False       False    None              NaN  \n",
       "62480        False       False    None              NaN  \n",
       "62481        False       False    None              NaN  \n",
       "\n",
       "[62482 rows x 35 columns]"
      ]
     },
     "execution_count": 17,
     "metadata": {},
     "output_type": "execute_result"
    }
   ],
   "source": [
    "print(merged_df.columns.tolist())\n",
    "merged_df\n"
   ]
  },
  {
   "cell_type": "code",
   "execution_count": 18,
   "metadata": {},
   "outputs": [],
   "source": [
    "# create trade logic\n",
    "def on_bar(data, trades, orders):\n",
    "    open_trades = trades[trades['state'] == 'open']\n",
    "    num_open_trades = open_trades.shape[0]\n",
    "    if 'signal' not in data:\n",
    "        print(\"Warning: 'signal' column is missing!\")\n",
    "        return\n",
    "    account_balance = 10000  # your account in USD\n",
    "    risk_percent = 0.20  # 2%\n",
    "    pip_value_per_lot = 10  # on EURUSD, 1 lot = $10 per pip\n",
    "    risk_amount = account_balance * risk_percent\n",
    "    # entry signal\n",
    "    if data['signal'] == 'buy' and not num_open_trades:\n",
    "        stop_loss_pips = data['S2'] - (data[\"S2\"] - ((data[\"R1\"] - data[\"S2\"]) /2)) # example SL\n",
    "        volume = risk_amount / (stop_loss_pips * pip_value_per_lot)\n",
    "        orders.open_trade(symbol, volume, 'buy')\n",
    "    \n",
    "    elif data['signal'] == 'sell' and not num_open_trades:\n",
    "        stop_loss_pips = ((data[\"R2\"] - data[\"S1\"]) /2 + data[\"R2\"]) - data[\"R2\"]\n",
    "        volume = risk_amount / (stop_loss_pips * pip_value_per_lot)\n",
    "        orders.open_trade(symbol, volume, 'sell')\n",
    "        \n",
    "# exit signal\n",
    "    if num_open_trades:\n",
    "        trade = open_trades.iloc[0]\n",
    "\n",
    "        if trade['order_type'] == 'buy' and ((data[\"low\"] <= data[\"S2\"] - ((data[\"R1\"] - data[\"S2\"]) /2))):\n",
    "                                            #or (data[\"high\"] >= data[\"R1\"])):\n",
    "                                            #or (data['time'].time() == pd.to_datetime('00:00:00').time())):\n",
    "            orders.close_trade(trade)\n",
    "        elif trade['order_type'] == 'sell' and ((data[\"high\"] >= (data[\"R2\"] - data[\"S1\"]) /2 + data[\"R2\"])):\n",
    "                                            #or (data[\"low\"] <= data[\"S1\"])):\n",
    "                                            #or (data['time'].time() == pd.to_datetime('00:00:00').time())):\n",
    "            orders.close_trade(trade)"
   ]
  },
  {
   "cell_type": "code",
   "execution_count": 19,
   "metadata": {},
   "outputs": [
    {
     "data": {
      "text/html": [
       "<div>\n",
       "<style scoped>\n",
       "    .dataframe tbody tr th:only-of-type {\n",
       "        vertical-align: middle;\n",
       "    }\n",
       "\n",
       "    .dataframe tbody tr th {\n",
       "        vertical-align: top;\n",
       "    }\n",
       "\n",
       "    .dataframe thead th {\n",
       "        text-align: right;\n",
       "    }\n",
       "</style>\n",
       "<table border=\"1\" class=\"dataframe\">\n",
       "  <thead>\n",
       "    <tr style=\"text-align: right;\">\n",
       "      <th></th>\n",
       "      <th>state</th>\n",
       "      <th>symbol</th>\n",
       "      <th>order_type</th>\n",
       "      <th>volume</th>\n",
       "      <th>open_time</th>\n",
       "      <th>open_price</th>\n",
       "      <th>close_time</th>\n",
       "      <th>close_price</th>\n",
       "      <th>sl</th>\n",
       "      <th>tp</th>\n",
       "      <th>info</th>\n",
       "      <th>profit</th>\n",
       "      <th>commission</th>\n",
       "      <th>profit_net</th>\n",
       "      <th>profit_cumulative</th>\n",
       "      <th>balance</th>\n",
       "    </tr>\n",
       "  </thead>\n",
       "  <tbody>\n",
       "    <tr>\n",
       "      <th>0</th>\n",
       "      <td>closed</td>\n",
       "      <td>EURUSD</td>\n",
       "      <td>sell</td>\n",
       "      <td>45197.740113</td>\n",
       "      <td>2025-05-19 10:27:00</td>\n",
       "      <td>1.12241</td>\n",
       "      <td>2025-05-19 12:07:00</td>\n",
       "      <td>1.12689</td>\n",
       "      <td>0</td>\n",
       "      <td>0</td>\n",
       "      <td>{}</td>\n",
       "      <td>-202.49</td>\n",
       "      <td>-3.163842</td>\n",
       "      <td>-205.653842</td>\n",
       "      <td>-205.653842</td>\n",
       "      <td>9794.346158</td>\n",
       "    </tr>\n",
       "    <tr>\n",
       "      <th>1</th>\n",
       "      <td>closed</td>\n",
       "      <td>EURUSD</td>\n",
       "      <td>buy</td>\n",
       "      <td>68143.100511</td>\n",
       "      <td>2025-05-27 10:27:00</td>\n",
       "      <td>1.13536</td>\n",
       "      <td>2025-05-29 02:37:00</td>\n",
       "      <td>1.1247</td>\n",
       "      <td>0</td>\n",
       "      <td>0</td>\n",
       "      <td>{}</td>\n",
       "      <td>-726.41</td>\n",
       "      <td>-4.770017</td>\n",
       "      <td>-731.180017</td>\n",
       "      <td>-936.833859</td>\n",
       "      <td>9063.166141</td>\n",
       "    </tr>\n",
       "    <tr>\n",
       "      <th>2</th>\n",
       "      <td>closed</td>\n",
       "      <td>EURUSD</td>\n",
       "      <td>buy</td>\n",
       "      <td>44198.895028</td>\n",
       "      <td>2025-06-06 15:30:00</td>\n",
       "      <td>1.1407</td>\n",
       "      <td>2025-06-16 09:30:00</td>\n",
       "      <td>1.15441</td>\n",
       "      <td>0</td>\n",
       "      <td>0</td>\n",
       "      <td>{}</td>\n",
       "      <td>605.97</td>\n",
       "      <td>-3.093923</td>\n",
       "      <td>602.876077</td>\n",
       "      <td>-333.957781</td>\n",
       "      <td>9666.042219</td>\n",
       "    </tr>\n",
       "  </tbody>\n",
       "</table>\n",
       "</div>"
      ],
      "text/plain": [
       "    state  symbol order_type        volume            open_time open_price  \\\n",
       "0  closed  EURUSD       sell  45197.740113  2025-05-19 10:27:00    1.12241   \n",
       "1  closed  EURUSD        buy  68143.100511  2025-05-27 10:27:00    1.13536   \n",
       "2  closed  EURUSD        buy  44198.895028  2025-06-06 15:30:00     1.1407   \n",
       "\n",
       "            close_time close_price sl tp info  profit commission  profit_net  \\\n",
       "0  2025-05-19 12:07:00     1.12689  0  0   {} -202.49  -3.163842 -205.653842   \n",
       "1  2025-05-29 02:37:00      1.1247  0  0   {} -726.41  -4.770017 -731.180017   \n",
       "2  2025-06-16 09:30:00     1.15441  0  0   {}  605.97  -3.093923  602.876077   \n",
       "\n",
       "  profit_cumulative      balance  \n",
       "0       -205.653842  9794.346158  \n",
       "1       -936.833859  9063.166141  \n",
       "2       -333.957781  9666.042219  "
      ]
     },
     "execution_count": 19,
     "metadata": {},
     "output_type": "execute_result"
    }
   ],
   "source": [
    "# backtest parameters\n",
    "starting_balance = 10000\n",
    "currency = 'USD'\n",
    "exchange_rate = 1\n",
    "commission = -7 / 100000\n",
    "\n",
    "# backtest\n",
    "bt = Backtester()\n",
    "bt.set_starting_balance(starting_balance, currency=currency)\n",
    "bt.set_exchange_rate(exchange_rate)\n",
    "bt.set_commission(commission)\n",
    "\n",
    "bt.set_historical_data(merged_df)\n",
    "bt.set_on_bar(on_bar)\n",
    "\n",
    "bt.run_backtest()\n",
    "\n",
    "bt.trades"
   ]
  },
  {
   "cell_type": "code",
   "execution_count": 20,
   "metadata": {},
   "outputs": [
    {
     "data": {
      "application/vnd.plotly.v1+json": {
       "config": {
        "plotlyServerURL": "https://plot.ly"
       },
       "data": [
        {
         "hovertemplate": "close_time=%{x}<br>balance=%{y}<extra></extra>",
         "legendgroup": "",
         "line": {
          "color": "#636efa",
          "dash": "solid"
         },
         "marker": {
          "symbol": "circle"
         },
         "mode": "lines",
         "name": "",
         "orientation": "v",
         "showlegend": false,
         "type": "scatter",
         "x": [
          "2025-05-19T12:07:00",
          "2025-05-29T02:37:00",
          "2025-06-16T09:30:00"
         ],
         "xaxis": "x",
         "y": [
          9794.346158192091,
          9063.166141156315,
          9666.04221850438
         ],
         "yaxis": "y"
        }
       ],
       "layout": {
        "legend": {
         "tracegroupgap": 0
        },
        "template": {
         "data": {
          "bar": [
           {
            "error_x": {
             "color": "#f2f5fa"
            },
            "error_y": {
             "color": "#f2f5fa"
            },
            "marker": {
             "line": {
              "color": "rgb(17,17,17)",
              "width": 0.5
             },
             "pattern": {
              "fillmode": "overlay",
              "size": 10,
              "solidity": 0.2
             }
            },
            "type": "bar"
           }
          ],
          "barpolar": [
           {
            "marker": {
             "line": {
              "color": "rgb(17,17,17)",
              "width": 0.5
             },
             "pattern": {
              "fillmode": "overlay",
              "size": 10,
              "solidity": 0.2
             }
            },
            "type": "barpolar"
           }
          ],
          "carpet": [
           {
            "aaxis": {
             "endlinecolor": "#A2B1C6",
             "gridcolor": "#506784",
             "linecolor": "#506784",
             "minorgridcolor": "#506784",
             "startlinecolor": "#A2B1C6"
            },
            "baxis": {
             "endlinecolor": "#A2B1C6",
             "gridcolor": "#506784",
             "linecolor": "#506784",
             "minorgridcolor": "#506784",
             "startlinecolor": "#A2B1C6"
            },
            "type": "carpet"
           }
          ],
          "choropleth": [
           {
            "colorbar": {
             "outlinewidth": 0,
             "ticks": ""
            },
            "type": "choropleth"
           }
          ],
          "contour": [
           {
            "colorbar": {
             "outlinewidth": 0,
             "ticks": ""
            },
            "colorscale": [
             [
              0,
              "#0d0887"
             ],
             [
              0.1111111111111111,
              "#46039f"
             ],
             [
              0.2222222222222222,
              "#7201a8"
             ],
             [
              0.3333333333333333,
              "#9c179e"
             ],
             [
              0.4444444444444444,
              "#bd3786"
             ],
             [
              0.5555555555555556,
              "#d8576b"
             ],
             [
              0.6666666666666666,
              "#ed7953"
             ],
             [
              0.7777777777777778,
              "#fb9f3a"
             ],
             [
              0.8888888888888888,
              "#fdca26"
             ],
             [
              1,
              "#f0f921"
             ]
            ],
            "type": "contour"
           }
          ],
          "contourcarpet": [
           {
            "colorbar": {
             "outlinewidth": 0,
             "ticks": ""
            },
            "type": "contourcarpet"
           }
          ],
          "heatmap": [
           {
            "colorbar": {
             "outlinewidth": 0,
             "ticks": ""
            },
            "colorscale": [
             [
              0,
              "#0d0887"
             ],
             [
              0.1111111111111111,
              "#46039f"
             ],
             [
              0.2222222222222222,
              "#7201a8"
             ],
             [
              0.3333333333333333,
              "#9c179e"
             ],
             [
              0.4444444444444444,
              "#bd3786"
             ],
             [
              0.5555555555555556,
              "#d8576b"
             ],
             [
              0.6666666666666666,
              "#ed7953"
             ],
             [
              0.7777777777777778,
              "#fb9f3a"
             ],
             [
              0.8888888888888888,
              "#fdca26"
             ],
             [
              1,
              "#f0f921"
             ]
            ],
            "type": "heatmap"
           }
          ],
          "histogram": [
           {
            "marker": {
             "pattern": {
              "fillmode": "overlay",
              "size": 10,
              "solidity": 0.2
             }
            },
            "type": "histogram"
           }
          ],
          "histogram2d": [
           {
            "colorbar": {
             "outlinewidth": 0,
             "ticks": ""
            },
            "colorscale": [
             [
              0,
              "#0d0887"
             ],
             [
              0.1111111111111111,
              "#46039f"
             ],
             [
              0.2222222222222222,
              "#7201a8"
             ],
             [
              0.3333333333333333,
              "#9c179e"
             ],
             [
              0.4444444444444444,
              "#bd3786"
             ],
             [
              0.5555555555555556,
              "#d8576b"
             ],
             [
              0.6666666666666666,
              "#ed7953"
             ],
             [
              0.7777777777777778,
              "#fb9f3a"
             ],
             [
              0.8888888888888888,
              "#fdca26"
             ],
             [
              1,
              "#f0f921"
             ]
            ],
            "type": "histogram2d"
           }
          ],
          "histogram2dcontour": [
           {
            "colorbar": {
             "outlinewidth": 0,
             "ticks": ""
            },
            "colorscale": [
             [
              0,
              "#0d0887"
             ],
             [
              0.1111111111111111,
              "#46039f"
             ],
             [
              0.2222222222222222,
              "#7201a8"
             ],
             [
              0.3333333333333333,
              "#9c179e"
             ],
             [
              0.4444444444444444,
              "#bd3786"
             ],
             [
              0.5555555555555556,
              "#d8576b"
             ],
             [
              0.6666666666666666,
              "#ed7953"
             ],
             [
              0.7777777777777778,
              "#fb9f3a"
             ],
             [
              0.8888888888888888,
              "#fdca26"
             ],
             [
              1,
              "#f0f921"
             ]
            ],
            "type": "histogram2dcontour"
           }
          ],
          "mesh3d": [
           {
            "colorbar": {
             "outlinewidth": 0,
             "ticks": ""
            },
            "type": "mesh3d"
           }
          ],
          "parcoords": [
           {
            "line": {
             "colorbar": {
              "outlinewidth": 0,
              "ticks": ""
             }
            },
            "type": "parcoords"
           }
          ],
          "pie": [
           {
            "automargin": true,
            "type": "pie"
           }
          ],
          "scatter": [
           {
            "marker": {
             "line": {
              "color": "#283442"
             }
            },
            "type": "scatter"
           }
          ],
          "scatter3d": [
           {
            "line": {
             "colorbar": {
              "outlinewidth": 0,
              "ticks": ""
             }
            },
            "marker": {
             "colorbar": {
              "outlinewidth": 0,
              "ticks": ""
             }
            },
            "type": "scatter3d"
           }
          ],
          "scattercarpet": [
           {
            "marker": {
             "colorbar": {
              "outlinewidth": 0,
              "ticks": ""
             }
            },
            "type": "scattercarpet"
           }
          ],
          "scattergeo": [
           {
            "marker": {
             "colorbar": {
              "outlinewidth": 0,
              "ticks": ""
             }
            },
            "type": "scattergeo"
           }
          ],
          "scattergl": [
           {
            "marker": {
             "line": {
              "color": "#283442"
             }
            },
            "type": "scattergl"
           }
          ],
          "scattermap": [
           {
            "marker": {
             "colorbar": {
              "outlinewidth": 0,
              "ticks": ""
             }
            },
            "type": "scattermap"
           }
          ],
          "scattermapbox": [
           {
            "marker": {
             "colorbar": {
              "outlinewidth": 0,
              "ticks": ""
             }
            },
            "type": "scattermapbox"
           }
          ],
          "scatterpolar": [
           {
            "marker": {
             "colorbar": {
              "outlinewidth": 0,
              "ticks": ""
             }
            },
            "type": "scatterpolar"
           }
          ],
          "scatterpolargl": [
           {
            "marker": {
             "colorbar": {
              "outlinewidth": 0,
              "ticks": ""
             }
            },
            "type": "scatterpolargl"
           }
          ],
          "scatterternary": [
           {
            "marker": {
             "colorbar": {
              "outlinewidth": 0,
              "ticks": ""
             }
            },
            "type": "scatterternary"
           }
          ],
          "surface": [
           {
            "colorbar": {
             "outlinewidth": 0,
             "ticks": ""
            },
            "colorscale": [
             [
              0,
              "#0d0887"
             ],
             [
              0.1111111111111111,
              "#46039f"
             ],
             [
              0.2222222222222222,
              "#7201a8"
             ],
             [
              0.3333333333333333,
              "#9c179e"
             ],
             [
              0.4444444444444444,
              "#bd3786"
             ],
             [
              0.5555555555555556,
              "#d8576b"
             ],
             [
              0.6666666666666666,
              "#ed7953"
             ],
             [
              0.7777777777777778,
              "#fb9f3a"
             ],
             [
              0.8888888888888888,
              "#fdca26"
             ],
             [
              1,
              "#f0f921"
             ]
            ],
            "type": "surface"
           }
          ],
          "table": [
           {
            "cells": {
             "fill": {
              "color": "#506784"
             },
             "line": {
              "color": "rgb(17,17,17)"
             }
            },
            "header": {
             "fill": {
              "color": "#2a3f5f"
             },
             "line": {
              "color": "rgb(17,17,17)"
             }
            },
            "type": "table"
           }
          ]
         },
         "layout": {
          "annotationdefaults": {
           "arrowcolor": "#f2f5fa",
           "arrowhead": 0,
           "arrowwidth": 1
          },
          "autotypenumbers": "strict",
          "coloraxis": {
           "colorbar": {
            "outlinewidth": 0,
            "ticks": ""
           }
          },
          "colorscale": {
           "diverging": [
            [
             0,
             "#8e0152"
            ],
            [
             0.1,
             "#c51b7d"
            ],
            [
             0.2,
             "#de77ae"
            ],
            [
             0.3,
             "#f1b6da"
            ],
            [
             0.4,
             "#fde0ef"
            ],
            [
             0.5,
             "#f7f7f7"
            ],
            [
             0.6,
             "#e6f5d0"
            ],
            [
             0.7,
             "#b8e186"
            ],
            [
             0.8,
             "#7fbc41"
            ],
            [
             0.9,
             "#4d9221"
            ],
            [
             1,
             "#276419"
            ]
           ],
           "sequential": [
            [
             0,
             "#0d0887"
            ],
            [
             0.1111111111111111,
             "#46039f"
            ],
            [
             0.2222222222222222,
             "#7201a8"
            ],
            [
             0.3333333333333333,
             "#9c179e"
            ],
            [
             0.4444444444444444,
             "#bd3786"
            ],
            [
             0.5555555555555556,
             "#d8576b"
            ],
            [
             0.6666666666666666,
             "#ed7953"
            ],
            [
             0.7777777777777778,
             "#fb9f3a"
            ],
            [
             0.8888888888888888,
             "#fdca26"
            ],
            [
             1,
             "#f0f921"
            ]
           ],
           "sequentialminus": [
            [
             0,
             "#0d0887"
            ],
            [
             0.1111111111111111,
             "#46039f"
            ],
            [
             0.2222222222222222,
             "#7201a8"
            ],
            [
             0.3333333333333333,
             "#9c179e"
            ],
            [
             0.4444444444444444,
             "#bd3786"
            ],
            [
             0.5555555555555556,
             "#d8576b"
            ],
            [
             0.6666666666666666,
             "#ed7953"
            ],
            [
             0.7777777777777778,
             "#fb9f3a"
            ],
            [
             0.8888888888888888,
             "#fdca26"
            ],
            [
             1,
             "#f0f921"
            ]
           ]
          },
          "colorway": [
           "#636efa",
           "#EF553B",
           "#00cc96",
           "#ab63fa",
           "#FFA15A",
           "#19d3f3",
           "#FF6692",
           "#B6E880",
           "#FF97FF",
           "#FECB52"
          ],
          "font": {
           "color": "#f2f5fa"
          },
          "geo": {
           "bgcolor": "rgb(17,17,17)",
           "lakecolor": "rgb(17,17,17)",
           "landcolor": "rgb(17,17,17)",
           "showlakes": true,
           "showland": true,
           "subunitcolor": "#506784"
          },
          "hoverlabel": {
           "align": "left"
          },
          "hovermode": "closest",
          "mapbox": {
           "style": "dark"
          },
          "paper_bgcolor": "rgb(17,17,17)",
          "plot_bgcolor": "rgb(17,17,17)",
          "polar": {
           "angularaxis": {
            "gridcolor": "#506784",
            "linecolor": "#506784",
            "ticks": ""
           },
           "bgcolor": "rgb(17,17,17)",
           "radialaxis": {
            "gridcolor": "#506784",
            "linecolor": "#506784",
            "ticks": ""
           }
          },
          "scene": {
           "xaxis": {
            "backgroundcolor": "rgb(17,17,17)",
            "gridcolor": "#506784",
            "gridwidth": 2,
            "linecolor": "#506784",
            "showbackground": true,
            "ticks": "",
            "zerolinecolor": "#C8D4E3"
           },
           "yaxis": {
            "backgroundcolor": "rgb(17,17,17)",
            "gridcolor": "#506784",
            "gridwidth": 2,
            "linecolor": "#506784",
            "showbackground": true,
            "ticks": "",
            "zerolinecolor": "#C8D4E3"
           },
           "zaxis": {
            "backgroundcolor": "rgb(17,17,17)",
            "gridcolor": "#506784",
            "gridwidth": 2,
            "linecolor": "#506784",
            "showbackground": true,
            "ticks": "",
            "zerolinecolor": "#C8D4E3"
           }
          },
          "shapedefaults": {
           "line": {
            "color": "#f2f5fa"
           }
          },
          "sliderdefaults": {
           "bgcolor": "#C8D4E3",
           "bordercolor": "rgb(17,17,17)",
           "borderwidth": 1,
           "tickwidth": 0
          },
          "ternary": {
           "aaxis": {
            "gridcolor": "#506784",
            "linecolor": "#506784",
            "ticks": ""
           },
           "baxis": {
            "gridcolor": "#506784",
            "linecolor": "#506784",
            "ticks": ""
           },
           "bgcolor": "rgb(17,17,17)",
           "caxis": {
            "gridcolor": "#506784",
            "linecolor": "#506784",
            "ticks": ""
           }
          },
          "title": {
           "x": 0.05
          },
          "updatemenudefaults": {
           "bgcolor": "#506784",
           "borderwidth": 0
          },
          "xaxis": {
           "automargin": true,
           "gridcolor": "#283442",
           "linecolor": "#506784",
           "ticks": "",
           "title": {
            "standoff": 15
           },
           "zerolinecolor": "#283442",
           "zerolinewidth": 2
          },
          "yaxis": {
           "automargin": true,
           "gridcolor": "#283442",
           "linecolor": "#506784",
           "ticks": "",
           "title": {
            "standoff": 15
           },
           "zerolinecolor": "#283442",
           "zerolinewidth": 2
          }
         }
        },
        "title": {
         "text": "Balance Graph"
        },
        "xaxis": {
         "anchor": "y",
         "domain": [
          0,
          1
         ],
         "title": {
          "text": "close_time"
         }
        },
        "yaxis": {
         "anchor": "x",
         "domain": [
          0,
          1
         ],
         "title": {
          "text": "balance"
         }
        }
       }
      }
     },
     "metadata": {},
     "output_type": "display_data"
    }
   ],
   "source": [
    "mm = bt.plot_balance()\n",
    "display(mm)"
   ]
  },
  {
   "cell_type": "code",
   "execution_count": 21,
   "metadata": {},
   "outputs": [
    {
     "data": {
      "application/vnd.plotly.v1+json": {
       "config": {
        "plotlyServerURL": "https://plot.ly"
       },
       "data": [
        {
         "hovertemplate": "open_time=%{x}<br>profit_cumulative=%{y}<extra></extra>",
         "legendgroup": "",
         "line": {
          "color": "#636efa",
          "dash": "solid"
         },
         "marker": {
          "symbol": "circle"
         },
         "mode": "lines",
         "name": "",
         "orientation": "v",
         "showlegend": false,
         "type": "scatter",
         "x": [
          "2025-05-19T10:27:00",
          "2025-05-27T10:27:00",
          "2025-06-06T15:30:00"
         ],
         "xaxis": "x",
         "y": [
          -205.65384180790952,
          -936.8338588436848,
          -333.9577814956185
         ],
         "yaxis": "y"
        }
       ],
       "layout": {
        "legend": {
         "tracegroupgap": 0
        },
        "template": {
         "data": {
          "bar": [
           {
            "error_x": {
             "color": "#f2f5fa"
            },
            "error_y": {
             "color": "#f2f5fa"
            },
            "marker": {
             "line": {
              "color": "rgb(17,17,17)",
              "width": 0.5
             },
             "pattern": {
              "fillmode": "overlay",
              "size": 10,
              "solidity": 0.2
             }
            },
            "type": "bar"
           }
          ],
          "barpolar": [
           {
            "marker": {
             "line": {
              "color": "rgb(17,17,17)",
              "width": 0.5
             },
             "pattern": {
              "fillmode": "overlay",
              "size": 10,
              "solidity": 0.2
             }
            },
            "type": "barpolar"
           }
          ],
          "carpet": [
           {
            "aaxis": {
             "endlinecolor": "#A2B1C6",
             "gridcolor": "#506784",
             "linecolor": "#506784",
             "minorgridcolor": "#506784",
             "startlinecolor": "#A2B1C6"
            },
            "baxis": {
             "endlinecolor": "#A2B1C6",
             "gridcolor": "#506784",
             "linecolor": "#506784",
             "minorgridcolor": "#506784",
             "startlinecolor": "#A2B1C6"
            },
            "type": "carpet"
           }
          ],
          "choropleth": [
           {
            "colorbar": {
             "outlinewidth": 0,
             "ticks": ""
            },
            "type": "choropleth"
           }
          ],
          "contour": [
           {
            "colorbar": {
             "outlinewidth": 0,
             "ticks": ""
            },
            "colorscale": [
             [
              0,
              "#0d0887"
             ],
             [
              0.1111111111111111,
              "#46039f"
             ],
             [
              0.2222222222222222,
              "#7201a8"
             ],
             [
              0.3333333333333333,
              "#9c179e"
             ],
             [
              0.4444444444444444,
              "#bd3786"
             ],
             [
              0.5555555555555556,
              "#d8576b"
             ],
             [
              0.6666666666666666,
              "#ed7953"
             ],
             [
              0.7777777777777778,
              "#fb9f3a"
             ],
             [
              0.8888888888888888,
              "#fdca26"
             ],
             [
              1,
              "#f0f921"
             ]
            ],
            "type": "contour"
           }
          ],
          "contourcarpet": [
           {
            "colorbar": {
             "outlinewidth": 0,
             "ticks": ""
            },
            "type": "contourcarpet"
           }
          ],
          "heatmap": [
           {
            "colorbar": {
             "outlinewidth": 0,
             "ticks": ""
            },
            "colorscale": [
             [
              0,
              "#0d0887"
             ],
             [
              0.1111111111111111,
              "#46039f"
             ],
             [
              0.2222222222222222,
              "#7201a8"
             ],
             [
              0.3333333333333333,
              "#9c179e"
             ],
             [
              0.4444444444444444,
              "#bd3786"
             ],
             [
              0.5555555555555556,
              "#d8576b"
             ],
             [
              0.6666666666666666,
              "#ed7953"
             ],
             [
              0.7777777777777778,
              "#fb9f3a"
             ],
             [
              0.8888888888888888,
              "#fdca26"
             ],
             [
              1,
              "#f0f921"
             ]
            ],
            "type": "heatmap"
           }
          ],
          "histogram": [
           {
            "marker": {
             "pattern": {
              "fillmode": "overlay",
              "size": 10,
              "solidity": 0.2
             }
            },
            "type": "histogram"
           }
          ],
          "histogram2d": [
           {
            "colorbar": {
             "outlinewidth": 0,
             "ticks": ""
            },
            "colorscale": [
             [
              0,
              "#0d0887"
             ],
             [
              0.1111111111111111,
              "#46039f"
             ],
             [
              0.2222222222222222,
              "#7201a8"
             ],
             [
              0.3333333333333333,
              "#9c179e"
             ],
             [
              0.4444444444444444,
              "#bd3786"
             ],
             [
              0.5555555555555556,
              "#d8576b"
             ],
             [
              0.6666666666666666,
              "#ed7953"
             ],
             [
              0.7777777777777778,
              "#fb9f3a"
             ],
             [
              0.8888888888888888,
              "#fdca26"
             ],
             [
              1,
              "#f0f921"
             ]
            ],
            "type": "histogram2d"
           }
          ],
          "histogram2dcontour": [
           {
            "colorbar": {
             "outlinewidth": 0,
             "ticks": ""
            },
            "colorscale": [
             [
              0,
              "#0d0887"
             ],
             [
              0.1111111111111111,
              "#46039f"
             ],
             [
              0.2222222222222222,
              "#7201a8"
             ],
             [
              0.3333333333333333,
              "#9c179e"
             ],
             [
              0.4444444444444444,
              "#bd3786"
             ],
             [
              0.5555555555555556,
              "#d8576b"
             ],
             [
              0.6666666666666666,
              "#ed7953"
             ],
             [
              0.7777777777777778,
              "#fb9f3a"
             ],
             [
              0.8888888888888888,
              "#fdca26"
             ],
             [
              1,
              "#f0f921"
             ]
            ],
            "type": "histogram2dcontour"
           }
          ],
          "mesh3d": [
           {
            "colorbar": {
             "outlinewidth": 0,
             "ticks": ""
            },
            "type": "mesh3d"
           }
          ],
          "parcoords": [
           {
            "line": {
             "colorbar": {
              "outlinewidth": 0,
              "ticks": ""
             }
            },
            "type": "parcoords"
           }
          ],
          "pie": [
           {
            "automargin": true,
            "type": "pie"
           }
          ],
          "scatter": [
           {
            "marker": {
             "line": {
              "color": "#283442"
             }
            },
            "type": "scatter"
           }
          ],
          "scatter3d": [
           {
            "line": {
             "colorbar": {
              "outlinewidth": 0,
              "ticks": ""
             }
            },
            "marker": {
             "colorbar": {
              "outlinewidth": 0,
              "ticks": ""
             }
            },
            "type": "scatter3d"
           }
          ],
          "scattercarpet": [
           {
            "marker": {
             "colorbar": {
              "outlinewidth": 0,
              "ticks": ""
             }
            },
            "type": "scattercarpet"
           }
          ],
          "scattergeo": [
           {
            "marker": {
             "colorbar": {
              "outlinewidth": 0,
              "ticks": ""
             }
            },
            "type": "scattergeo"
           }
          ],
          "scattergl": [
           {
            "marker": {
             "line": {
              "color": "#283442"
             }
            },
            "type": "scattergl"
           }
          ],
          "scattermap": [
           {
            "marker": {
             "colorbar": {
              "outlinewidth": 0,
              "ticks": ""
             }
            },
            "type": "scattermap"
           }
          ],
          "scattermapbox": [
           {
            "marker": {
             "colorbar": {
              "outlinewidth": 0,
              "ticks": ""
             }
            },
            "type": "scattermapbox"
           }
          ],
          "scatterpolar": [
           {
            "marker": {
             "colorbar": {
              "outlinewidth": 0,
              "ticks": ""
             }
            },
            "type": "scatterpolar"
           }
          ],
          "scatterpolargl": [
           {
            "marker": {
             "colorbar": {
              "outlinewidth": 0,
              "ticks": ""
             }
            },
            "type": "scatterpolargl"
           }
          ],
          "scatterternary": [
           {
            "marker": {
             "colorbar": {
              "outlinewidth": 0,
              "ticks": ""
             }
            },
            "type": "scatterternary"
           }
          ],
          "surface": [
           {
            "colorbar": {
             "outlinewidth": 0,
             "ticks": ""
            },
            "colorscale": [
             [
              0,
              "#0d0887"
             ],
             [
              0.1111111111111111,
              "#46039f"
             ],
             [
              0.2222222222222222,
              "#7201a8"
             ],
             [
              0.3333333333333333,
              "#9c179e"
             ],
             [
              0.4444444444444444,
              "#bd3786"
             ],
             [
              0.5555555555555556,
              "#d8576b"
             ],
             [
              0.6666666666666666,
              "#ed7953"
             ],
             [
              0.7777777777777778,
              "#fb9f3a"
             ],
             [
              0.8888888888888888,
              "#fdca26"
             ],
             [
              1,
              "#f0f921"
             ]
            ],
            "type": "surface"
           }
          ],
          "table": [
           {
            "cells": {
             "fill": {
              "color": "#506784"
             },
             "line": {
              "color": "rgb(17,17,17)"
             }
            },
            "header": {
             "fill": {
              "color": "#2a3f5f"
             },
             "line": {
              "color": "rgb(17,17,17)"
             }
            },
            "type": "table"
           }
          ]
         },
         "layout": {
          "annotationdefaults": {
           "arrowcolor": "#f2f5fa",
           "arrowhead": 0,
           "arrowwidth": 1
          },
          "autotypenumbers": "strict",
          "coloraxis": {
           "colorbar": {
            "outlinewidth": 0,
            "ticks": ""
           }
          },
          "colorscale": {
           "diverging": [
            [
             0,
             "#8e0152"
            ],
            [
             0.1,
             "#c51b7d"
            ],
            [
             0.2,
             "#de77ae"
            ],
            [
             0.3,
             "#f1b6da"
            ],
            [
             0.4,
             "#fde0ef"
            ],
            [
             0.5,
             "#f7f7f7"
            ],
            [
             0.6,
             "#e6f5d0"
            ],
            [
             0.7,
             "#b8e186"
            ],
            [
             0.8,
             "#7fbc41"
            ],
            [
             0.9,
             "#4d9221"
            ],
            [
             1,
             "#276419"
            ]
           ],
           "sequential": [
            [
             0,
             "#0d0887"
            ],
            [
             0.1111111111111111,
             "#46039f"
            ],
            [
             0.2222222222222222,
             "#7201a8"
            ],
            [
             0.3333333333333333,
             "#9c179e"
            ],
            [
             0.4444444444444444,
             "#bd3786"
            ],
            [
             0.5555555555555556,
             "#d8576b"
            ],
            [
             0.6666666666666666,
             "#ed7953"
            ],
            [
             0.7777777777777778,
             "#fb9f3a"
            ],
            [
             0.8888888888888888,
             "#fdca26"
            ],
            [
             1,
             "#f0f921"
            ]
           ],
           "sequentialminus": [
            [
             0,
             "#0d0887"
            ],
            [
             0.1111111111111111,
             "#46039f"
            ],
            [
             0.2222222222222222,
             "#7201a8"
            ],
            [
             0.3333333333333333,
             "#9c179e"
            ],
            [
             0.4444444444444444,
             "#bd3786"
            ],
            [
             0.5555555555555556,
             "#d8576b"
            ],
            [
             0.6666666666666666,
             "#ed7953"
            ],
            [
             0.7777777777777778,
             "#fb9f3a"
            ],
            [
             0.8888888888888888,
             "#fdca26"
            ],
            [
             1,
             "#f0f921"
            ]
           ]
          },
          "colorway": [
           "#636efa",
           "#EF553B",
           "#00cc96",
           "#ab63fa",
           "#FFA15A",
           "#19d3f3",
           "#FF6692",
           "#B6E880",
           "#FF97FF",
           "#FECB52"
          ],
          "font": {
           "color": "#f2f5fa"
          },
          "geo": {
           "bgcolor": "rgb(17,17,17)",
           "lakecolor": "rgb(17,17,17)",
           "landcolor": "rgb(17,17,17)",
           "showlakes": true,
           "showland": true,
           "subunitcolor": "#506784"
          },
          "hoverlabel": {
           "align": "left"
          },
          "hovermode": "closest",
          "mapbox": {
           "style": "dark"
          },
          "paper_bgcolor": "rgb(17,17,17)",
          "plot_bgcolor": "rgb(17,17,17)",
          "polar": {
           "angularaxis": {
            "gridcolor": "#506784",
            "linecolor": "#506784",
            "ticks": ""
           },
           "bgcolor": "rgb(17,17,17)",
           "radialaxis": {
            "gridcolor": "#506784",
            "linecolor": "#506784",
            "ticks": ""
           }
          },
          "scene": {
           "xaxis": {
            "backgroundcolor": "rgb(17,17,17)",
            "gridcolor": "#506784",
            "gridwidth": 2,
            "linecolor": "#506784",
            "showbackground": true,
            "ticks": "",
            "zerolinecolor": "#C8D4E3"
           },
           "yaxis": {
            "backgroundcolor": "rgb(17,17,17)",
            "gridcolor": "#506784",
            "gridwidth": 2,
            "linecolor": "#506784",
            "showbackground": true,
            "ticks": "",
            "zerolinecolor": "#C8D4E3"
           },
           "zaxis": {
            "backgroundcolor": "rgb(17,17,17)",
            "gridcolor": "#506784",
            "gridwidth": 2,
            "linecolor": "#506784",
            "showbackground": true,
            "ticks": "",
            "zerolinecolor": "#C8D4E3"
           }
          },
          "shapedefaults": {
           "line": {
            "color": "#f2f5fa"
           }
          },
          "sliderdefaults": {
           "bgcolor": "#C8D4E3",
           "bordercolor": "rgb(17,17,17)",
           "borderwidth": 1,
           "tickwidth": 0
          },
          "ternary": {
           "aaxis": {
            "gridcolor": "#506784",
            "linecolor": "#506784",
            "ticks": ""
           },
           "baxis": {
            "gridcolor": "#506784",
            "linecolor": "#506784",
            "ticks": ""
           },
           "bgcolor": "rgb(17,17,17)",
           "caxis": {
            "gridcolor": "#506784",
            "linecolor": "#506784",
            "ticks": ""
           }
          },
          "title": {
           "x": 0.05
          },
          "updatemenudefaults": {
           "bgcolor": "#506784",
           "borderwidth": 0
          },
          "xaxis": {
           "automargin": true,
           "gridcolor": "#283442",
           "linecolor": "#506784",
           "ticks": "",
           "title": {
            "standoff": 15
           },
           "zerolinecolor": "#283442",
           "zerolinewidth": 2
          },
          "yaxis": {
           "automargin": true,
           "gridcolor": "#283442",
           "linecolor": "#506784",
           "ticks": "",
           "title": {
            "standoff": 15
           },
           "zerolinecolor": "#283442",
           "zerolinewidth": 2
          }
         }
        },
        "title": {
         "text": "PnL Graph"
        },
        "xaxis": {
         "anchor": "y",
         "domain": [
          0,
          1
         ],
         "title": {
          "text": "open_time"
         }
        },
        "yaxis": {
         "anchor": "x",
         "domain": [
          0,
          1
         ],
         "title": {
          "text": "profit_cumulative"
         }
        }
       }
      }
     },
     "metadata": {},
     "output_type": "display_data"
    }
   ],
   "source": [
    "pnl_chart = bt.plot_pnl()\n",
    "display(pnl_chart)"
   ]
  },
  {
   "cell_type": "code",
   "execution_count": 22,
   "metadata": {},
   "outputs": [
    {
     "name": "stdout",
     "output_type": "stream",
     "text": [
      "biggest_profit: 605.97\n",
      "daily_drawdown: -726.41\n",
      "max_drawown: -731.18\n",
      "avg_win: 605.97\n",
      "avg_loss: -464.45\n",
      "count_profit_trades: 1\n",
      "count_loss_trades: 2\n",
      "Win Rate1: 33.33%\n",
      "win_rate 0.5\n",
      "rrr: 1.3\n"
     ]
    },
    {
     "data": {
      "text/html": [
       "<div>\n",
       "<style scoped>\n",
       "    .dataframe tbody tr th:only-of-type {\n",
       "        vertical-align: middle;\n",
       "    }\n",
       "\n",
       "    .dataframe tbody tr th {\n",
       "        vertical-align: top;\n",
       "    }\n",
       "\n",
       "    .dataframe thead th {\n",
       "        text-align: right;\n",
       "    }\n",
       "</style>\n",
       "<table border=\"1\" class=\"dataframe\">\n",
       "  <thead>\n",
       "    <tr style=\"text-align: right;\">\n",
       "      <th></th>\n",
       "      <th>order_type</th>\n",
       "      <th>profit</th>\n",
       "    </tr>\n",
       "  </thead>\n",
       "  <tbody>\n",
       "    <tr>\n",
       "      <th>0</th>\n",
       "      <td>buy</td>\n",
       "      <td>-120.44</td>\n",
       "    </tr>\n",
       "    <tr>\n",
       "      <th>1</th>\n",
       "      <td>sell</td>\n",
       "      <td>-202.49</td>\n",
       "    </tr>\n",
       "  </tbody>\n",
       "</table>\n",
       "</div>"
      ],
      "text/plain": [
       "  order_type  profit\n",
       "0        buy -120.44\n",
       "1       sell -202.49"
      ]
     },
     "metadata": {},
     "output_type": "display_data"
    },
    {
     "data": {
      "application/vnd.plotly.v1+json": {
       "config": {
        "plotlyServerURL": "https://plot.ly"
       },
       "data": [
        {
         "hovertemplate": "order_type=%{x}<br>profit=%{y}<extra></extra>",
         "legendgroup": "",
         "marker": {
          "color": "#636efa",
          "pattern": {
           "shape": ""
          }
         },
         "name": "",
         "orientation": "v",
         "showlegend": false,
         "textposition": "auto",
         "type": "bar",
         "x": [
          "buy",
          "sell"
         ],
         "xaxis": "x",
         "y": {
          "bdata": "WI/C9SgcXsBI4XoUrk9pwA==",
          "dtype": "f8"
         },
         "yaxis": "y"
        }
       ],
       "layout": {
        "barmode": "relative",
        "legend": {
         "tracegroupgap": 0
        },
        "margin": {
         "t": 60
        },
        "template": {
         "data": {
          "bar": [
           {
            "error_x": {
             "color": "#f2f5fa"
            },
            "error_y": {
             "color": "#f2f5fa"
            },
            "marker": {
             "line": {
              "color": "rgb(17,17,17)",
              "width": 0.5
             },
             "pattern": {
              "fillmode": "overlay",
              "size": 10,
              "solidity": 0.2
             }
            },
            "type": "bar"
           }
          ],
          "barpolar": [
           {
            "marker": {
             "line": {
              "color": "rgb(17,17,17)",
              "width": 0.5
             },
             "pattern": {
              "fillmode": "overlay",
              "size": 10,
              "solidity": 0.2
             }
            },
            "type": "barpolar"
           }
          ],
          "carpet": [
           {
            "aaxis": {
             "endlinecolor": "#A2B1C6",
             "gridcolor": "#506784",
             "linecolor": "#506784",
             "minorgridcolor": "#506784",
             "startlinecolor": "#A2B1C6"
            },
            "baxis": {
             "endlinecolor": "#A2B1C6",
             "gridcolor": "#506784",
             "linecolor": "#506784",
             "minorgridcolor": "#506784",
             "startlinecolor": "#A2B1C6"
            },
            "type": "carpet"
           }
          ],
          "choropleth": [
           {
            "colorbar": {
             "outlinewidth": 0,
             "ticks": ""
            },
            "type": "choropleth"
           }
          ],
          "contour": [
           {
            "colorbar": {
             "outlinewidth": 0,
             "ticks": ""
            },
            "colorscale": [
             [
              0,
              "#0d0887"
             ],
             [
              0.1111111111111111,
              "#46039f"
             ],
             [
              0.2222222222222222,
              "#7201a8"
             ],
             [
              0.3333333333333333,
              "#9c179e"
             ],
             [
              0.4444444444444444,
              "#bd3786"
             ],
             [
              0.5555555555555556,
              "#d8576b"
             ],
             [
              0.6666666666666666,
              "#ed7953"
             ],
             [
              0.7777777777777778,
              "#fb9f3a"
             ],
             [
              0.8888888888888888,
              "#fdca26"
             ],
             [
              1,
              "#f0f921"
             ]
            ],
            "type": "contour"
           }
          ],
          "contourcarpet": [
           {
            "colorbar": {
             "outlinewidth": 0,
             "ticks": ""
            },
            "type": "contourcarpet"
           }
          ],
          "heatmap": [
           {
            "colorbar": {
             "outlinewidth": 0,
             "ticks": ""
            },
            "colorscale": [
             [
              0,
              "#0d0887"
             ],
             [
              0.1111111111111111,
              "#46039f"
             ],
             [
              0.2222222222222222,
              "#7201a8"
             ],
             [
              0.3333333333333333,
              "#9c179e"
             ],
             [
              0.4444444444444444,
              "#bd3786"
             ],
             [
              0.5555555555555556,
              "#d8576b"
             ],
             [
              0.6666666666666666,
              "#ed7953"
             ],
             [
              0.7777777777777778,
              "#fb9f3a"
             ],
             [
              0.8888888888888888,
              "#fdca26"
             ],
             [
              1,
              "#f0f921"
             ]
            ],
            "type": "heatmap"
           }
          ],
          "histogram": [
           {
            "marker": {
             "pattern": {
              "fillmode": "overlay",
              "size": 10,
              "solidity": 0.2
             }
            },
            "type": "histogram"
           }
          ],
          "histogram2d": [
           {
            "colorbar": {
             "outlinewidth": 0,
             "ticks": ""
            },
            "colorscale": [
             [
              0,
              "#0d0887"
             ],
             [
              0.1111111111111111,
              "#46039f"
             ],
             [
              0.2222222222222222,
              "#7201a8"
             ],
             [
              0.3333333333333333,
              "#9c179e"
             ],
             [
              0.4444444444444444,
              "#bd3786"
             ],
             [
              0.5555555555555556,
              "#d8576b"
             ],
             [
              0.6666666666666666,
              "#ed7953"
             ],
             [
              0.7777777777777778,
              "#fb9f3a"
             ],
             [
              0.8888888888888888,
              "#fdca26"
             ],
             [
              1,
              "#f0f921"
             ]
            ],
            "type": "histogram2d"
           }
          ],
          "histogram2dcontour": [
           {
            "colorbar": {
             "outlinewidth": 0,
             "ticks": ""
            },
            "colorscale": [
             [
              0,
              "#0d0887"
             ],
             [
              0.1111111111111111,
              "#46039f"
             ],
             [
              0.2222222222222222,
              "#7201a8"
             ],
             [
              0.3333333333333333,
              "#9c179e"
             ],
             [
              0.4444444444444444,
              "#bd3786"
             ],
             [
              0.5555555555555556,
              "#d8576b"
             ],
             [
              0.6666666666666666,
              "#ed7953"
             ],
             [
              0.7777777777777778,
              "#fb9f3a"
             ],
             [
              0.8888888888888888,
              "#fdca26"
             ],
             [
              1,
              "#f0f921"
             ]
            ],
            "type": "histogram2dcontour"
           }
          ],
          "mesh3d": [
           {
            "colorbar": {
             "outlinewidth": 0,
             "ticks": ""
            },
            "type": "mesh3d"
           }
          ],
          "parcoords": [
           {
            "line": {
             "colorbar": {
              "outlinewidth": 0,
              "ticks": ""
             }
            },
            "type": "parcoords"
           }
          ],
          "pie": [
           {
            "automargin": true,
            "type": "pie"
           }
          ],
          "scatter": [
           {
            "marker": {
             "line": {
              "color": "#283442"
             }
            },
            "type": "scatter"
           }
          ],
          "scatter3d": [
           {
            "line": {
             "colorbar": {
              "outlinewidth": 0,
              "ticks": ""
             }
            },
            "marker": {
             "colorbar": {
              "outlinewidth": 0,
              "ticks": ""
             }
            },
            "type": "scatter3d"
           }
          ],
          "scattercarpet": [
           {
            "marker": {
             "colorbar": {
              "outlinewidth": 0,
              "ticks": ""
             }
            },
            "type": "scattercarpet"
           }
          ],
          "scattergeo": [
           {
            "marker": {
             "colorbar": {
              "outlinewidth": 0,
              "ticks": ""
             }
            },
            "type": "scattergeo"
           }
          ],
          "scattergl": [
           {
            "marker": {
             "line": {
              "color": "#283442"
             }
            },
            "type": "scattergl"
           }
          ],
          "scattermap": [
           {
            "marker": {
             "colorbar": {
              "outlinewidth": 0,
              "ticks": ""
             }
            },
            "type": "scattermap"
           }
          ],
          "scattermapbox": [
           {
            "marker": {
             "colorbar": {
              "outlinewidth": 0,
              "ticks": ""
             }
            },
            "type": "scattermapbox"
           }
          ],
          "scatterpolar": [
           {
            "marker": {
             "colorbar": {
              "outlinewidth": 0,
              "ticks": ""
             }
            },
            "type": "scatterpolar"
           }
          ],
          "scatterpolargl": [
           {
            "marker": {
             "colorbar": {
              "outlinewidth": 0,
              "ticks": ""
             }
            },
            "type": "scatterpolargl"
           }
          ],
          "scatterternary": [
           {
            "marker": {
             "colorbar": {
              "outlinewidth": 0,
              "ticks": ""
             }
            },
            "type": "scatterternary"
           }
          ],
          "surface": [
           {
            "colorbar": {
             "outlinewidth": 0,
             "ticks": ""
            },
            "colorscale": [
             [
              0,
              "#0d0887"
             ],
             [
              0.1111111111111111,
              "#46039f"
             ],
             [
              0.2222222222222222,
              "#7201a8"
             ],
             [
              0.3333333333333333,
              "#9c179e"
             ],
             [
              0.4444444444444444,
              "#bd3786"
             ],
             [
              0.5555555555555556,
              "#d8576b"
             ],
             [
              0.6666666666666666,
              "#ed7953"
             ],
             [
              0.7777777777777778,
              "#fb9f3a"
             ],
             [
              0.8888888888888888,
              "#fdca26"
             ],
             [
              1,
              "#f0f921"
             ]
            ],
            "type": "surface"
           }
          ],
          "table": [
           {
            "cells": {
             "fill": {
              "color": "#506784"
             },
             "line": {
              "color": "rgb(17,17,17)"
             }
            },
            "header": {
             "fill": {
              "color": "#2a3f5f"
             },
             "line": {
              "color": "rgb(17,17,17)"
             }
            },
            "type": "table"
           }
          ]
         },
         "layout": {
          "annotationdefaults": {
           "arrowcolor": "#f2f5fa",
           "arrowhead": 0,
           "arrowwidth": 1
          },
          "autotypenumbers": "strict",
          "coloraxis": {
           "colorbar": {
            "outlinewidth": 0,
            "ticks": ""
           }
          },
          "colorscale": {
           "diverging": [
            [
             0,
             "#8e0152"
            ],
            [
             0.1,
             "#c51b7d"
            ],
            [
             0.2,
             "#de77ae"
            ],
            [
             0.3,
             "#f1b6da"
            ],
            [
             0.4,
             "#fde0ef"
            ],
            [
             0.5,
             "#f7f7f7"
            ],
            [
             0.6,
             "#e6f5d0"
            ],
            [
             0.7,
             "#b8e186"
            ],
            [
             0.8,
             "#7fbc41"
            ],
            [
             0.9,
             "#4d9221"
            ],
            [
             1,
             "#276419"
            ]
           ],
           "sequential": [
            [
             0,
             "#0d0887"
            ],
            [
             0.1111111111111111,
             "#46039f"
            ],
            [
             0.2222222222222222,
             "#7201a8"
            ],
            [
             0.3333333333333333,
             "#9c179e"
            ],
            [
             0.4444444444444444,
             "#bd3786"
            ],
            [
             0.5555555555555556,
             "#d8576b"
            ],
            [
             0.6666666666666666,
             "#ed7953"
            ],
            [
             0.7777777777777778,
             "#fb9f3a"
            ],
            [
             0.8888888888888888,
             "#fdca26"
            ],
            [
             1,
             "#f0f921"
            ]
           ],
           "sequentialminus": [
            [
             0,
             "#0d0887"
            ],
            [
             0.1111111111111111,
             "#46039f"
            ],
            [
             0.2222222222222222,
             "#7201a8"
            ],
            [
             0.3333333333333333,
             "#9c179e"
            ],
            [
             0.4444444444444444,
             "#bd3786"
            ],
            [
             0.5555555555555556,
             "#d8576b"
            ],
            [
             0.6666666666666666,
             "#ed7953"
            ],
            [
             0.7777777777777778,
             "#fb9f3a"
            ],
            [
             0.8888888888888888,
             "#fdca26"
            ],
            [
             1,
             "#f0f921"
            ]
           ]
          },
          "colorway": [
           "#636efa",
           "#EF553B",
           "#00cc96",
           "#ab63fa",
           "#FFA15A",
           "#19d3f3",
           "#FF6692",
           "#B6E880",
           "#FF97FF",
           "#FECB52"
          ],
          "font": {
           "color": "#f2f5fa"
          },
          "geo": {
           "bgcolor": "rgb(17,17,17)",
           "lakecolor": "rgb(17,17,17)",
           "landcolor": "rgb(17,17,17)",
           "showlakes": true,
           "showland": true,
           "subunitcolor": "#506784"
          },
          "hoverlabel": {
           "align": "left"
          },
          "hovermode": "closest",
          "mapbox": {
           "style": "dark"
          },
          "paper_bgcolor": "rgb(17,17,17)",
          "plot_bgcolor": "rgb(17,17,17)",
          "polar": {
           "angularaxis": {
            "gridcolor": "#506784",
            "linecolor": "#506784",
            "ticks": ""
           },
           "bgcolor": "rgb(17,17,17)",
           "radialaxis": {
            "gridcolor": "#506784",
            "linecolor": "#506784",
            "ticks": ""
           }
          },
          "scene": {
           "xaxis": {
            "backgroundcolor": "rgb(17,17,17)",
            "gridcolor": "#506784",
            "gridwidth": 2,
            "linecolor": "#506784",
            "showbackground": true,
            "ticks": "",
            "zerolinecolor": "#C8D4E3"
           },
           "yaxis": {
            "backgroundcolor": "rgb(17,17,17)",
            "gridcolor": "#506784",
            "gridwidth": 2,
            "linecolor": "#506784",
            "showbackground": true,
            "ticks": "",
            "zerolinecolor": "#C8D4E3"
           },
           "zaxis": {
            "backgroundcolor": "rgb(17,17,17)",
            "gridcolor": "#506784",
            "gridwidth": 2,
            "linecolor": "#506784",
            "showbackground": true,
            "ticks": "",
            "zerolinecolor": "#C8D4E3"
           }
          },
          "shapedefaults": {
           "line": {
            "color": "#f2f5fa"
           }
          },
          "sliderdefaults": {
           "bgcolor": "#C8D4E3",
           "bordercolor": "rgb(17,17,17)",
           "borderwidth": 1,
           "tickwidth": 0
          },
          "ternary": {
           "aaxis": {
            "gridcolor": "#506784",
            "linecolor": "#506784",
            "ticks": ""
           },
           "baxis": {
            "gridcolor": "#506784",
            "linecolor": "#506784",
            "ticks": ""
           },
           "bgcolor": "rgb(17,17,17)",
           "caxis": {
            "gridcolor": "#506784",
            "linecolor": "#506784",
            "ticks": ""
           }
          },
          "title": {
           "x": 0.05
          },
          "updatemenudefaults": {
           "bgcolor": "#506784",
           "borderwidth": 0
          },
          "xaxis": {
           "automargin": true,
           "gridcolor": "#283442",
           "linecolor": "#506784",
           "ticks": "",
           "title": {
            "standoff": 15
           },
           "zerolinecolor": "#283442",
           "zerolinewidth": 2
          },
          "yaxis": {
           "automargin": true,
           "gridcolor": "#283442",
           "linecolor": "#506784",
           "ticks": "",
           "title": {
            "standoff": 15
           },
           "zerolinecolor": "#283442",
           "zerolinewidth": 2
          }
         }
        },
        "xaxis": {
         "anchor": "y",
         "domain": [
          0,
          1
         ],
         "title": {
          "text": "order_type"
         }
        },
        "yaxis": {
         "anchor": "x",
         "domain": [
          0,
          1
         ],
         "title": {
          "text": "profit"
         }
        }
       }
      }
     },
     "metadata": {},
     "output_type": "display_data"
    },
    {
     "data": {
      "application/vnd.plotly.v1+json": {
       "config": {
        "plotlyServerURL": "https://plot.ly"
       },
       "data": [
        {
         "hovertemplate": "dayofweek=%{x}<br>profit=%{y}<extra></extra>",
         "legendgroup": "",
         "marker": {
          "color": "#636efa",
          "pattern": {
           "shape": ""
          }
         },
         "name": "",
         "orientation": "v",
         "showlegend": false,
         "textposition": "auto",
         "type": "bar",
         "x": {
          "bdata": "AAAAAAMAAAA=",
          "dtype": "i4"
         },
         "xaxis": "x",
         "y": {
          "bdata": "SOF6FK43eUDhehSuR7OGwA==",
          "dtype": "f8"
         },
         "yaxis": "y"
        }
       ],
       "layout": {
        "barmode": "relative",
        "legend": {
         "tracegroupgap": 0
        },
        "margin": {
         "t": 60
        },
        "template": {
         "data": {
          "bar": [
           {
            "error_x": {
             "color": "#f2f5fa"
            },
            "error_y": {
             "color": "#f2f5fa"
            },
            "marker": {
             "line": {
              "color": "rgb(17,17,17)",
              "width": 0.5
             },
             "pattern": {
              "fillmode": "overlay",
              "size": 10,
              "solidity": 0.2
             }
            },
            "type": "bar"
           }
          ],
          "barpolar": [
           {
            "marker": {
             "line": {
              "color": "rgb(17,17,17)",
              "width": 0.5
             },
             "pattern": {
              "fillmode": "overlay",
              "size": 10,
              "solidity": 0.2
             }
            },
            "type": "barpolar"
           }
          ],
          "carpet": [
           {
            "aaxis": {
             "endlinecolor": "#A2B1C6",
             "gridcolor": "#506784",
             "linecolor": "#506784",
             "minorgridcolor": "#506784",
             "startlinecolor": "#A2B1C6"
            },
            "baxis": {
             "endlinecolor": "#A2B1C6",
             "gridcolor": "#506784",
             "linecolor": "#506784",
             "minorgridcolor": "#506784",
             "startlinecolor": "#A2B1C6"
            },
            "type": "carpet"
           }
          ],
          "choropleth": [
           {
            "colorbar": {
             "outlinewidth": 0,
             "ticks": ""
            },
            "type": "choropleth"
           }
          ],
          "contour": [
           {
            "colorbar": {
             "outlinewidth": 0,
             "ticks": ""
            },
            "colorscale": [
             [
              0,
              "#0d0887"
             ],
             [
              0.1111111111111111,
              "#46039f"
             ],
             [
              0.2222222222222222,
              "#7201a8"
             ],
             [
              0.3333333333333333,
              "#9c179e"
             ],
             [
              0.4444444444444444,
              "#bd3786"
             ],
             [
              0.5555555555555556,
              "#d8576b"
             ],
             [
              0.6666666666666666,
              "#ed7953"
             ],
             [
              0.7777777777777778,
              "#fb9f3a"
             ],
             [
              0.8888888888888888,
              "#fdca26"
             ],
             [
              1,
              "#f0f921"
             ]
            ],
            "type": "contour"
           }
          ],
          "contourcarpet": [
           {
            "colorbar": {
             "outlinewidth": 0,
             "ticks": ""
            },
            "type": "contourcarpet"
           }
          ],
          "heatmap": [
           {
            "colorbar": {
             "outlinewidth": 0,
             "ticks": ""
            },
            "colorscale": [
             [
              0,
              "#0d0887"
             ],
             [
              0.1111111111111111,
              "#46039f"
             ],
             [
              0.2222222222222222,
              "#7201a8"
             ],
             [
              0.3333333333333333,
              "#9c179e"
             ],
             [
              0.4444444444444444,
              "#bd3786"
             ],
             [
              0.5555555555555556,
              "#d8576b"
             ],
             [
              0.6666666666666666,
              "#ed7953"
             ],
             [
              0.7777777777777778,
              "#fb9f3a"
             ],
             [
              0.8888888888888888,
              "#fdca26"
             ],
             [
              1,
              "#f0f921"
             ]
            ],
            "type": "heatmap"
           }
          ],
          "histogram": [
           {
            "marker": {
             "pattern": {
              "fillmode": "overlay",
              "size": 10,
              "solidity": 0.2
             }
            },
            "type": "histogram"
           }
          ],
          "histogram2d": [
           {
            "colorbar": {
             "outlinewidth": 0,
             "ticks": ""
            },
            "colorscale": [
             [
              0,
              "#0d0887"
             ],
             [
              0.1111111111111111,
              "#46039f"
             ],
             [
              0.2222222222222222,
              "#7201a8"
             ],
             [
              0.3333333333333333,
              "#9c179e"
             ],
             [
              0.4444444444444444,
              "#bd3786"
             ],
             [
              0.5555555555555556,
              "#d8576b"
             ],
             [
              0.6666666666666666,
              "#ed7953"
             ],
             [
              0.7777777777777778,
              "#fb9f3a"
             ],
             [
              0.8888888888888888,
              "#fdca26"
             ],
             [
              1,
              "#f0f921"
             ]
            ],
            "type": "histogram2d"
           }
          ],
          "histogram2dcontour": [
           {
            "colorbar": {
             "outlinewidth": 0,
             "ticks": ""
            },
            "colorscale": [
             [
              0,
              "#0d0887"
             ],
             [
              0.1111111111111111,
              "#46039f"
             ],
             [
              0.2222222222222222,
              "#7201a8"
             ],
             [
              0.3333333333333333,
              "#9c179e"
             ],
             [
              0.4444444444444444,
              "#bd3786"
             ],
             [
              0.5555555555555556,
              "#d8576b"
             ],
             [
              0.6666666666666666,
              "#ed7953"
             ],
             [
              0.7777777777777778,
              "#fb9f3a"
             ],
             [
              0.8888888888888888,
              "#fdca26"
             ],
             [
              1,
              "#f0f921"
             ]
            ],
            "type": "histogram2dcontour"
           }
          ],
          "mesh3d": [
           {
            "colorbar": {
             "outlinewidth": 0,
             "ticks": ""
            },
            "type": "mesh3d"
           }
          ],
          "parcoords": [
           {
            "line": {
             "colorbar": {
              "outlinewidth": 0,
              "ticks": ""
             }
            },
            "type": "parcoords"
           }
          ],
          "pie": [
           {
            "automargin": true,
            "type": "pie"
           }
          ],
          "scatter": [
           {
            "marker": {
             "line": {
              "color": "#283442"
             }
            },
            "type": "scatter"
           }
          ],
          "scatter3d": [
           {
            "line": {
             "colorbar": {
              "outlinewidth": 0,
              "ticks": ""
             }
            },
            "marker": {
             "colorbar": {
              "outlinewidth": 0,
              "ticks": ""
             }
            },
            "type": "scatter3d"
           }
          ],
          "scattercarpet": [
           {
            "marker": {
             "colorbar": {
              "outlinewidth": 0,
              "ticks": ""
             }
            },
            "type": "scattercarpet"
           }
          ],
          "scattergeo": [
           {
            "marker": {
             "colorbar": {
              "outlinewidth": 0,
              "ticks": ""
             }
            },
            "type": "scattergeo"
           }
          ],
          "scattergl": [
           {
            "marker": {
             "line": {
              "color": "#283442"
             }
            },
            "type": "scattergl"
           }
          ],
          "scattermap": [
           {
            "marker": {
             "colorbar": {
              "outlinewidth": 0,
              "ticks": ""
             }
            },
            "type": "scattermap"
           }
          ],
          "scattermapbox": [
           {
            "marker": {
             "colorbar": {
              "outlinewidth": 0,
              "ticks": ""
             }
            },
            "type": "scattermapbox"
           }
          ],
          "scatterpolar": [
           {
            "marker": {
             "colorbar": {
              "outlinewidth": 0,
              "ticks": ""
             }
            },
            "type": "scatterpolar"
           }
          ],
          "scatterpolargl": [
           {
            "marker": {
             "colorbar": {
              "outlinewidth": 0,
              "ticks": ""
             }
            },
            "type": "scatterpolargl"
           }
          ],
          "scatterternary": [
           {
            "marker": {
             "colorbar": {
              "outlinewidth": 0,
              "ticks": ""
             }
            },
            "type": "scatterternary"
           }
          ],
          "surface": [
           {
            "colorbar": {
             "outlinewidth": 0,
             "ticks": ""
            },
            "colorscale": [
             [
              0,
              "#0d0887"
             ],
             [
              0.1111111111111111,
              "#46039f"
             ],
             [
              0.2222222222222222,
              "#7201a8"
             ],
             [
              0.3333333333333333,
              "#9c179e"
             ],
             [
              0.4444444444444444,
              "#bd3786"
             ],
             [
              0.5555555555555556,
              "#d8576b"
             ],
             [
              0.6666666666666666,
              "#ed7953"
             ],
             [
              0.7777777777777778,
              "#fb9f3a"
             ],
             [
              0.8888888888888888,
              "#fdca26"
             ],
             [
              1,
              "#f0f921"
             ]
            ],
            "type": "surface"
           }
          ],
          "table": [
           {
            "cells": {
             "fill": {
              "color": "#506784"
             },
             "line": {
              "color": "rgb(17,17,17)"
             }
            },
            "header": {
             "fill": {
              "color": "#2a3f5f"
             },
             "line": {
              "color": "rgb(17,17,17)"
             }
            },
            "type": "table"
           }
          ]
         },
         "layout": {
          "annotationdefaults": {
           "arrowcolor": "#f2f5fa",
           "arrowhead": 0,
           "arrowwidth": 1
          },
          "autotypenumbers": "strict",
          "coloraxis": {
           "colorbar": {
            "outlinewidth": 0,
            "ticks": ""
           }
          },
          "colorscale": {
           "diverging": [
            [
             0,
             "#8e0152"
            ],
            [
             0.1,
             "#c51b7d"
            ],
            [
             0.2,
             "#de77ae"
            ],
            [
             0.3,
             "#f1b6da"
            ],
            [
             0.4,
             "#fde0ef"
            ],
            [
             0.5,
             "#f7f7f7"
            ],
            [
             0.6,
             "#e6f5d0"
            ],
            [
             0.7,
             "#b8e186"
            ],
            [
             0.8,
             "#7fbc41"
            ],
            [
             0.9,
             "#4d9221"
            ],
            [
             1,
             "#276419"
            ]
           ],
           "sequential": [
            [
             0,
             "#0d0887"
            ],
            [
             0.1111111111111111,
             "#46039f"
            ],
            [
             0.2222222222222222,
             "#7201a8"
            ],
            [
             0.3333333333333333,
             "#9c179e"
            ],
            [
             0.4444444444444444,
             "#bd3786"
            ],
            [
             0.5555555555555556,
             "#d8576b"
            ],
            [
             0.6666666666666666,
             "#ed7953"
            ],
            [
             0.7777777777777778,
             "#fb9f3a"
            ],
            [
             0.8888888888888888,
             "#fdca26"
            ],
            [
             1,
             "#f0f921"
            ]
           ],
           "sequentialminus": [
            [
             0,
             "#0d0887"
            ],
            [
             0.1111111111111111,
             "#46039f"
            ],
            [
             0.2222222222222222,
             "#7201a8"
            ],
            [
             0.3333333333333333,
             "#9c179e"
            ],
            [
             0.4444444444444444,
             "#bd3786"
            ],
            [
             0.5555555555555556,
             "#d8576b"
            ],
            [
             0.6666666666666666,
             "#ed7953"
            ],
            [
             0.7777777777777778,
             "#fb9f3a"
            ],
            [
             0.8888888888888888,
             "#fdca26"
            ],
            [
             1,
             "#f0f921"
            ]
           ]
          },
          "colorway": [
           "#636efa",
           "#EF553B",
           "#00cc96",
           "#ab63fa",
           "#FFA15A",
           "#19d3f3",
           "#FF6692",
           "#B6E880",
           "#FF97FF",
           "#FECB52"
          ],
          "font": {
           "color": "#f2f5fa"
          },
          "geo": {
           "bgcolor": "rgb(17,17,17)",
           "lakecolor": "rgb(17,17,17)",
           "landcolor": "rgb(17,17,17)",
           "showlakes": true,
           "showland": true,
           "subunitcolor": "#506784"
          },
          "hoverlabel": {
           "align": "left"
          },
          "hovermode": "closest",
          "mapbox": {
           "style": "dark"
          },
          "paper_bgcolor": "rgb(17,17,17)",
          "plot_bgcolor": "rgb(17,17,17)",
          "polar": {
           "angularaxis": {
            "gridcolor": "#506784",
            "linecolor": "#506784",
            "ticks": ""
           },
           "bgcolor": "rgb(17,17,17)",
           "radialaxis": {
            "gridcolor": "#506784",
            "linecolor": "#506784",
            "ticks": ""
           }
          },
          "scene": {
           "xaxis": {
            "backgroundcolor": "rgb(17,17,17)",
            "gridcolor": "#506784",
            "gridwidth": 2,
            "linecolor": "#506784",
            "showbackground": true,
            "ticks": "",
            "zerolinecolor": "#C8D4E3"
           },
           "yaxis": {
            "backgroundcolor": "rgb(17,17,17)",
            "gridcolor": "#506784",
            "gridwidth": 2,
            "linecolor": "#506784",
            "showbackground": true,
            "ticks": "",
            "zerolinecolor": "#C8D4E3"
           },
           "zaxis": {
            "backgroundcolor": "rgb(17,17,17)",
            "gridcolor": "#506784",
            "gridwidth": 2,
            "linecolor": "#506784",
            "showbackground": true,
            "ticks": "",
            "zerolinecolor": "#C8D4E3"
           }
          },
          "shapedefaults": {
           "line": {
            "color": "#f2f5fa"
           }
          },
          "sliderdefaults": {
           "bgcolor": "#C8D4E3",
           "bordercolor": "rgb(17,17,17)",
           "borderwidth": 1,
           "tickwidth": 0
          },
          "ternary": {
           "aaxis": {
            "gridcolor": "#506784",
            "linecolor": "#506784",
            "ticks": ""
           },
           "baxis": {
            "gridcolor": "#506784",
            "linecolor": "#506784",
            "ticks": ""
           },
           "bgcolor": "rgb(17,17,17)",
           "caxis": {
            "gridcolor": "#506784",
            "linecolor": "#506784",
            "ticks": ""
           }
          },
          "title": {
           "x": 0.05
          },
          "updatemenudefaults": {
           "bgcolor": "#506784",
           "borderwidth": 0
          },
          "xaxis": {
           "automargin": true,
           "gridcolor": "#283442",
           "linecolor": "#506784",
           "ticks": "",
           "title": {
            "standoff": 15
           },
           "zerolinecolor": "#283442",
           "zerolinewidth": 2
          },
          "yaxis": {
           "automargin": true,
           "gridcolor": "#283442",
           "linecolor": "#506784",
           "ticks": "",
           "title": {
            "standoff": 15
           },
           "zerolinecolor": "#283442",
           "zerolinewidth": 2
          }
         }
        },
        "xaxis": {
         "anchor": "y",
         "domain": [
          0,
          1
         ],
         "title": {
          "text": "dayofweek"
         }
        },
        "yaxis": {
         "anchor": "x",
         "domain": [
          0,
          1
         ],
         "title": {
          "text": "profit"
         }
        }
       }
      }
     },
     "metadata": {},
     "output_type": "display_data"
    },
    {
     "data": {
      "application/vnd.plotly.v1+json": {
       "config": {
        "plotlyServerURL": "https://plot.ly"
       },
       "data": [
        {
         "hovertemplate": "Month=%{x}<br>Total Profit=%{y}<extra></extra>",
         "legendgroup": "",
         "marker": {
          "color": "#00CC96",
          "pattern": {
           "shape": ""
          }
         },
         "name": "",
         "orientation": "v",
         "showlegend": false,
         "textposition": "auto",
         "type": "bar",
         "x": [
          "2025-05",
          "2025-06"
         ],
         "xaxis": "x",
         "y": {
          "bdata": "MzMzMzMHjcD2KFyPwu+CQA==",
          "dtype": "f8"
         },
         "yaxis": "y"
        }
       ],
       "layout": {
        "barmode": "relative",
        "legend": {
         "tracegroupgap": 0
        },
        "template": {
         "data": {
          "bar": [
           {
            "error_x": {
             "color": "#f2f5fa"
            },
            "error_y": {
             "color": "#f2f5fa"
            },
            "marker": {
             "line": {
              "color": "rgb(17,17,17)",
              "width": 0.5
             },
             "pattern": {
              "fillmode": "overlay",
              "size": 10,
              "solidity": 0.2
             }
            },
            "type": "bar"
           }
          ],
          "barpolar": [
           {
            "marker": {
             "line": {
              "color": "rgb(17,17,17)",
              "width": 0.5
             },
             "pattern": {
              "fillmode": "overlay",
              "size": 10,
              "solidity": 0.2
             }
            },
            "type": "barpolar"
           }
          ],
          "carpet": [
           {
            "aaxis": {
             "endlinecolor": "#A2B1C6",
             "gridcolor": "#506784",
             "linecolor": "#506784",
             "minorgridcolor": "#506784",
             "startlinecolor": "#A2B1C6"
            },
            "baxis": {
             "endlinecolor": "#A2B1C6",
             "gridcolor": "#506784",
             "linecolor": "#506784",
             "minorgridcolor": "#506784",
             "startlinecolor": "#A2B1C6"
            },
            "type": "carpet"
           }
          ],
          "choropleth": [
           {
            "colorbar": {
             "outlinewidth": 0,
             "ticks": ""
            },
            "type": "choropleth"
           }
          ],
          "contour": [
           {
            "colorbar": {
             "outlinewidth": 0,
             "ticks": ""
            },
            "colorscale": [
             [
              0,
              "#0d0887"
             ],
             [
              0.1111111111111111,
              "#46039f"
             ],
             [
              0.2222222222222222,
              "#7201a8"
             ],
             [
              0.3333333333333333,
              "#9c179e"
             ],
             [
              0.4444444444444444,
              "#bd3786"
             ],
             [
              0.5555555555555556,
              "#d8576b"
             ],
             [
              0.6666666666666666,
              "#ed7953"
             ],
             [
              0.7777777777777778,
              "#fb9f3a"
             ],
             [
              0.8888888888888888,
              "#fdca26"
             ],
             [
              1,
              "#f0f921"
             ]
            ],
            "type": "contour"
           }
          ],
          "contourcarpet": [
           {
            "colorbar": {
             "outlinewidth": 0,
             "ticks": ""
            },
            "type": "contourcarpet"
           }
          ],
          "heatmap": [
           {
            "colorbar": {
             "outlinewidth": 0,
             "ticks": ""
            },
            "colorscale": [
             [
              0,
              "#0d0887"
             ],
             [
              0.1111111111111111,
              "#46039f"
             ],
             [
              0.2222222222222222,
              "#7201a8"
             ],
             [
              0.3333333333333333,
              "#9c179e"
             ],
             [
              0.4444444444444444,
              "#bd3786"
             ],
             [
              0.5555555555555556,
              "#d8576b"
             ],
             [
              0.6666666666666666,
              "#ed7953"
             ],
             [
              0.7777777777777778,
              "#fb9f3a"
             ],
             [
              0.8888888888888888,
              "#fdca26"
             ],
             [
              1,
              "#f0f921"
             ]
            ],
            "type": "heatmap"
           }
          ],
          "histogram": [
           {
            "marker": {
             "pattern": {
              "fillmode": "overlay",
              "size": 10,
              "solidity": 0.2
             }
            },
            "type": "histogram"
           }
          ],
          "histogram2d": [
           {
            "colorbar": {
             "outlinewidth": 0,
             "ticks": ""
            },
            "colorscale": [
             [
              0,
              "#0d0887"
             ],
             [
              0.1111111111111111,
              "#46039f"
             ],
             [
              0.2222222222222222,
              "#7201a8"
             ],
             [
              0.3333333333333333,
              "#9c179e"
             ],
             [
              0.4444444444444444,
              "#bd3786"
             ],
             [
              0.5555555555555556,
              "#d8576b"
             ],
             [
              0.6666666666666666,
              "#ed7953"
             ],
             [
              0.7777777777777778,
              "#fb9f3a"
             ],
             [
              0.8888888888888888,
              "#fdca26"
             ],
             [
              1,
              "#f0f921"
             ]
            ],
            "type": "histogram2d"
           }
          ],
          "histogram2dcontour": [
           {
            "colorbar": {
             "outlinewidth": 0,
             "ticks": ""
            },
            "colorscale": [
             [
              0,
              "#0d0887"
             ],
             [
              0.1111111111111111,
              "#46039f"
             ],
             [
              0.2222222222222222,
              "#7201a8"
             ],
             [
              0.3333333333333333,
              "#9c179e"
             ],
             [
              0.4444444444444444,
              "#bd3786"
             ],
             [
              0.5555555555555556,
              "#d8576b"
             ],
             [
              0.6666666666666666,
              "#ed7953"
             ],
             [
              0.7777777777777778,
              "#fb9f3a"
             ],
             [
              0.8888888888888888,
              "#fdca26"
             ],
             [
              1,
              "#f0f921"
             ]
            ],
            "type": "histogram2dcontour"
           }
          ],
          "mesh3d": [
           {
            "colorbar": {
             "outlinewidth": 0,
             "ticks": ""
            },
            "type": "mesh3d"
           }
          ],
          "parcoords": [
           {
            "line": {
             "colorbar": {
              "outlinewidth": 0,
              "ticks": ""
             }
            },
            "type": "parcoords"
           }
          ],
          "pie": [
           {
            "automargin": true,
            "type": "pie"
           }
          ],
          "scatter": [
           {
            "marker": {
             "line": {
              "color": "#283442"
             }
            },
            "type": "scatter"
           }
          ],
          "scatter3d": [
           {
            "line": {
             "colorbar": {
              "outlinewidth": 0,
              "ticks": ""
             }
            },
            "marker": {
             "colorbar": {
              "outlinewidth": 0,
              "ticks": ""
             }
            },
            "type": "scatter3d"
           }
          ],
          "scattercarpet": [
           {
            "marker": {
             "colorbar": {
              "outlinewidth": 0,
              "ticks": ""
             }
            },
            "type": "scattercarpet"
           }
          ],
          "scattergeo": [
           {
            "marker": {
             "colorbar": {
              "outlinewidth": 0,
              "ticks": ""
             }
            },
            "type": "scattergeo"
           }
          ],
          "scattergl": [
           {
            "marker": {
             "line": {
              "color": "#283442"
             }
            },
            "type": "scattergl"
           }
          ],
          "scattermap": [
           {
            "marker": {
             "colorbar": {
              "outlinewidth": 0,
              "ticks": ""
             }
            },
            "type": "scattermap"
           }
          ],
          "scattermapbox": [
           {
            "marker": {
             "colorbar": {
              "outlinewidth": 0,
              "ticks": ""
             }
            },
            "type": "scattermapbox"
           }
          ],
          "scatterpolar": [
           {
            "marker": {
             "colorbar": {
              "outlinewidth": 0,
              "ticks": ""
             }
            },
            "type": "scatterpolar"
           }
          ],
          "scatterpolargl": [
           {
            "marker": {
             "colorbar": {
              "outlinewidth": 0,
              "ticks": ""
             }
            },
            "type": "scatterpolargl"
           }
          ],
          "scatterternary": [
           {
            "marker": {
             "colorbar": {
              "outlinewidth": 0,
              "ticks": ""
             }
            },
            "type": "scatterternary"
           }
          ],
          "surface": [
           {
            "colorbar": {
             "outlinewidth": 0,
             "ticks": ""
            },
            "colorscale": [
             [
              0,
              "#0d0887"
             ],
             [
              0.1111111111111111,
              "#46039f"
             ],
             [
              0.2222222222222222,
              "#7201a8"
             ],
             [
              0.3333333333333333,
              "#9c179e"
             ],
             [
              0.4444444444444444,
              "#bd3786"
             ],
             [
              0.5555555555555556,
              "#d8576b"
             ],
             [
              0.6666666666666666,
              "#ed7953"
             ],
             [
              0.7777777777777778,
              "#fb9f3a"
             ],
             [
              0.8888888888888888,
              "#fdca26"
             ],
             [
              1,
              "#f0f921"
             ]
            ],
            "type": "surface"
           }
          ],
          "table": [
           {
            "cells": {
             "fill": {
              "color": "#506784"
             },
             "line": {
              "color": "rgb(17,17,17)"
             }
            },
            "header": {
             "fill": {
              "color": "#2a3f5f"
             },
             "line": {
              "color": "rgb(17,17,17)"
             }
            },
            "type": "table"
           }
          ]
         },
         "layout": {
          "annotationdefaults": {
           "arrowcolor": "#f2f5fa",
           "arrowhead": 0,
           "arrowwidth": 1
          },
          "autotypenumbers": "strict",
          "coloraxis": {
           "colorbar": {
            "outlinewidth": 0,
            "ticks": ""
           }
          },
          "colorscale": {
           "diverging": [
            [
             0,
             "#8e0152"
            ],
            [
             0.1,
             "#c51b7d"
            ],
            [
             0.2,
             "#de77ae"
            ],
            [
             0.3,
             "#f1b6da"
            ],
            [
             0.4,
             "#fde0ef"
            ],
            [
             0.5,
             "#f7f7f7"
            ],
            [
             0.6,
             "#e6f5d0"
            ],
            [
             0.7,
             "#b8e186"
            ],
            [
             0.8,
             "#7fbc41"
            ],
            [
             0.9,
             "#4d9221"
            ],
            [
             1,
             "#276419"
            ]
           ],
           "sequential": [
            [
             0,
             "#0d0887"
            ],
            [
             0.1111111111111111,
             "#46039f"
            ],
            [
             0.2222222222222222,
             "#7201a8"
            ],
            [
             0.3333333333333333,
             "#9c179e"
            ],
            [
             0.4444444444444444,
             "#bd3786"
            ],
            [
             0.5555555555555556,
             "#d8576b"
            ],
            [
             0.6666666666666666,
             "#ed7953"
            ],
            [
             0.7777777777777778,
             "#fb9f3a"
            ],
            [
             0.8888888888888888,
             "#fdca26"
            ],
            [
             1,
             "#f0f921"
            ]
           ],
           "sequentialminus": [
            [
             0,
             "#0d0887"
            ],
            [
             0.1111111111111111,
             "#46039f"
            ],
            [
             0.2222222222222222,
             "#7201a8"
            ],
            [
             0.3333333333333333,
             "#9c179e"
            ],
            [
             0.4444444444444444,
             "#bd3786"
            ],
            [
             0.5555555555555556,
             "#d8576b"
            ],
            [
             0.6666666666666666,
             "#ed7953"
            ],
            [
             0.7777777777777778,
             "#fb9f3a"
            ],
            [
             0.8888888888888888,
             "#fdca26"
            ],
            [
             1,
             "#f0f921"
            ]
           ]
          },
          "colorway": [
           "#636efa",
           "#EF553B",
           "#00cc96",
           "#ab63fa",
           "#FFA15A",
           "#19d3f3",
           "#FF6692",
           "#B6E880",
           "#FF97FF",
           "#FECB52"
          ],
          "font": {
           "color": "#f2f5fa"
          },
          "geo": {
           "bgcolor": "rgb(17,17,17)",
           "lakecolor": "rgb(17,17,17)",
           "landcolor": "rgb(17,17,17)",
           "showlakes": true,
           "showland": true,
           "subunitcolor": "#506784"
          },
          "hoverlabel": {
           "align": "left"
          },
          "hovermode": "closest",
          "mapbox": {
           "style": "dark"
          },
          "paper_bgcolor": "rgb(17,17,17)",
          "plot_bgcolor": "rgb(17,17,17)",
          "polar": {
           "angularaxis": {
            "gridcolor": "#506784",
            "linecolor": "#506784",
            "ticks": ""
           },
           "bgcolor": "rgb(17,17,17)",
           "radialaxis": {
            "gridcolor": "#506784",
            "linecolor": "#506784",
            "ticks": ""
           }
          },
          "scene": {
           "xaxis": {
            "backgroundcolor": "rgb(17,17,17)",
            "gridcolor": "#506784",
            "gridwidth": 2,
            "linecolor": "#506784",
            "showbackground": true,
            "ticks": "",
            "zerolinecolor": "#C8D4E3"
           },
           "yaxis": {
            "backgroundcolor": "rgb(17,17,17)",
            "gridcolor": "#506784",
            "gridwidth": 2,
            "linecolor": "#506784",
            "showbackground": true,
            "ticks": "",
            "zerolinecolor": "#C8D4E3"
           },
           "zaxis": {
            "backgroundcolor": "rgb(17,17,17)",
            "gridcolor": "#506784",
            "gridwidth": 2,
            "linecolor": "#506784",
            "showbackground": true,
            "ticks": "",
            "zerolinecolor": "#C8D4E3"
           }
          },
          "shapedefaults": {
           "line": {
            "color": "#f2f5fa"
           }
          },
          "sliderdefaults": {
           "bgcolor": "#C8D4E3",
           "bordercolor": "rgb(17,17,17)",
           "borderwidth": 1,
           "tickwidth": 0
          },
          "ternary": {
           "aaxis": {
            "gridcolor": "#506784",
            "linecolor": "#506784",
            "ticks": ""
           },
           "baxis": {
            "gridcolor": "#506784",
            "linecolor": "#506784",
            "ticks": ""
           },
           "bgcolor": "rgb(17,17,17)",
           "caxis": {
            "gridcolor": "#506784",
            "linecolor": "#506784",
            "ticks": ""
           }
          },
          "title": {
           "x": 0.05
          },
          "updatemenudefaults": {
           "bgcolor": "#506784",
           "borderwidth": 0
          },
          "xaxis": {
           "automargin": true,
           "gridcolor": "#283442",
           "linecolor": "#506784",
           "ticks": "",
           "title": {
            "standoff": 15
           },
           "zerolinecolor": "#283442",
           "zerolinewidth": 2
          },
          "yaxis": {
           "automargin": true,
           "gridcolor": "#283442",
           "linecolor": "#506784",
           "ticks": "",
           "title": {
            "standoff": 15
           },
           "zerolinecolor": "#283442",
           "zerolinewidth": 2
          }
         }
        },
        "title": {
         "text": "Total Profit Per Month"
        },
        "xaxis": {
         "anchor": "y",
         "domain": [
          0,
          1
         ],
         "tickangle": -45,
         "title": {
          "text": "Month"
         }
        },
        "yaxis": {
         "anchor": "x",
         "domain": [
          0,
          1
         ],
         "title": {
          "text": "Total Profit"
         }
        }
       }
      }
     },
     "metadata": {},
     "output_type": "display_data"
    },
    {
     "data": {
      "application/vnd.plotly.v1+json": {
       "config": {
        "plotlyServerURL": "https://plot.ly"
       },
       "data": [
        {
         "hovertemplate": "Year=%{x}<br>Total Profit=%{y}<extra></extra>",
         "legendgroup": "",
         "marker": {
          "color": "#EF553B",
          "pattern": {
           "shape": ""
          }
         },
         "name": "",
         "orientation": "v",
         "showlegend": false,
         "textposition": "auto",
         "type": "bar",
         "x": {
          "bdata": "6QcAAA==",
          "dtype": "i4"
         },
         "xaxis": "x",
         "y": {
          "bdata": "ehSuR+EudMA=",
          "dtype": "f8"
         },
         "yaxis": "y"
        }
       ],
       "layout": {
        "barmode": "relative",
        "legend": {
         "tracegroupgap": 0
        },
        "template": {
         "data": {
          "bar": [
           {
            "error_x": {
             "color": "#f2f5fa"
            },
            "error_y": {
             "color": "#f2f5fa"
            },
            "marker": {
             "line": {
              "color": "rgb(17,17,17)",
              "width": 0.5
             },
             "pattern": {
              "fillmode": "overlay",
              "size": 10,
              "solidity": 0.2
             }
            },
            "type": "bar"
           }
          ],
          "barpolar": [
           {
            "marker": {
             "line": {
              "color": "rgb(17,17,17)",
              "width": 0.5
             },
             "pattern": {
              "fillmode": "overlay",
              "size": 10,
              "solidity": 0.2
             }
            },
            "type": "barpolar"
           }
          ],
          "carpet": [
           {
            "aaxis": {
             "endlinecolor": "#A2B1C6",
             "gridcolor": "#506784",
             "linecolor": "#506784",
             "minorgridcolor": "#506784",
             "startlinecolor": "#A2B1C6"
            },
            "baxis": {
             "endlinecolor": "#A2B1C6",
             "gridcolor": "#506784",
             "linecolor": "#506784",
             "minorgridcolor": "#506784",
             "startlinecolor": "#A2B1C6"
            },
            "type": "carpet"
           }
          ],
          "choropleth": [
           {
            "colorbar": {
             "outlinewidth": 0,
             "ticks": ""
            },
            "type": "choropleth"
           }
          ],
          "contour": [
           {
            "colorbar": {
             "outlinewidth": 0,
             "ticks": ""
            },
            "colorscale": [
             [
              0,
              "#0d0887"
             ],
             [
              0.1111111111111111,
              "#46039f"
             ],
             [
              0.2222222222222222,
              "#7201a8"
             ],
             [
              0.3333333333333333,
              "#9c179e"
             ],
             [
              0.4444444444444444,
              "#bd3786"
             ],
             [
              0.5555555555555556,
              "#d8576b"
             ],
             [
              0.6666666666666666,
              "#ed7953"
             ],
             [
              0.7777777777777778,
              "#fb9f3a"
             ],
             [
              0.8888888888888888,
              "#fdca26"
             ],
             [
              1,
              "#f0f921"
             ]
            ],
            "type": "contour"
           }
          ],
          "contourcarpet": [
           {
            "colorbar": {
             "outlinewidth": 0,
             "ticks": ""
            },
            "type": "contourcarpet"
           }
          ],
          "heatmap": [
           {
            "colorbar": {
             "outlinewidth": 0,
             "ticks": ""
            },
            "colorscale": [
             [
              0,
              "#0d0887"
             ],
             [
              0.1111111111111111,
              "#46039f"
             ],
             [
              0.2222222222222222,
              "#7201a8"
             ],
             [
              0.3333333333333333,
              "#9c179e"
             ],
             [
              0.4444444444444444,
              "#bd3786"
             ],
             [
              0.5555555555555556,
              "#d8576b"
             ],
             [
              0.6666666666666666,
              "#ed7953"
             ],
             [
              0.7777777777777778,
              "#fb9f3a"
             ],
             [
              0.8888888888888888,
              "#fdca26"
             ],
             [
              1,
              "#f0f921"
             ]
            ],
            "type": "heatmap"
           }
          ],
          "histogram": [
           {
            "marker": {
             "pattern": {
              "fillmode": "overlay",
              "size": 10,
              "solidity": 0.2
             }
            },
            "type": "histogram"
           }
          ],
          "histogram2d": [
           {
            "colorbar": {
             "outlinewidth": 0,
             "ticks": ""
            },
            "colorscale": [
             [
              0,
              "#0d0887"
             ],
             [
              0.1111111111111111,
              "#46039f"
             ],
             [
              0.2222222222222222,
              "#7201a8"
             ],
             [
              0.3333333333333333,
              "#9c179e"
             ],
             [
              0.4444444444444444,
              "#bd3786"
             ],
             [
              0.5555555555555556,
              "#d8576b"
             ],
             [
              0.6666666666666666,
              "#ed7953"
             ],
             [
              0.7777777777777778,
              "#fb9f3a"
             ],
             [
              0.8888888888888888,
              "#fdca26"
             ],
             [
              1,
              "#f0f921"
             ]
            ],
            "type": "histogram2d"
           }
          ],
          "histogram2dcontour": [
           {
            "colorbar": {
             "outlinewidth": 0,
             "ticks": ""
            },
            "colorscale": [
             [
              0,
              "#0d0887"
             ],
             [
              0.1111111111111111,
              "#46039f"
             ],
             [
              0.2222222222222222,
              "#7201a8"
             ],
             [
              0.3333333333333333,
              "#9c179e"
             ],
             [
              0.4444444444444444,
              "#bd3786"
             ],
             [
              0.5555555555555556,
              "#d8576b"
             ],
             [
              0.6666666666666666,
              "#ed7953"
             ],
             [
              0.7777777777777778,
              "#fb9f3a"
             ],
             [
              0.8888888888888888,
              "#fdca26"
             ],
             [
              1,
              "#f0f921"
             ]
            ],
            "type": "histogram2dcontour"
           }
          ],
          "mesh3d": [
           {
            "colorbar": {
             "outlinewidth": 0,
             "ticks": ""
            },
            "type": "mesh3d"
           }
          ],
          "parcoords": [
           {
            "line": {
             "colorbar": {
              "outlinewidth": 0,
              "ticks": ""
             }
            },
            "type": "parcoords"
           }
          ],
          "pie": [
           {
            "automargin": true,
            "type": "pie"
           }
          ],
          "scatter": [
           {
            "marker": {
             "line": {
              "color": "#283442"
             }
            },
            "type": "scatter"
           }
          ],
          "scatter3d": [
           {
            "line": {
             "colorbar": {
              "outlinewidth": 0,
              "ticks": ""
             }
            },
            "marker": {
             "colorbar": {
              "outlinewidth": 0,
              "ticks": ""
             }
            },
            "type": "scatter3d"
           }
          ],
          "scattercarpet": [
           {
            "marker": {
             "colorbar": {
              "outlinewidth": 0,
              "ticks": ""
             }
            },
            "type": "scattercarpet"
           }
          ],
          "scattergeo": [
           {
            "marker": {
             "colorbar": {
              "outlinewidth": 0,
              "ticks": ""
             }
            },
            "type": "scattergeo"
           }
          ],
          "scattergl": [
           {
            "marker": {
             "line": {
              "color": "#283442"
             }
            },
            "type": "scattergl"
           }
          ],
          "scattermap": [
           {
            "marker": {
             "colorbar": {
              "outlinewidth": 0,
              "ticks": ""
             }
            },
            "type": "scattermap"
           }
          ],
          "scattermapbox": [
           {
            "marker": {
             "colorbar": {
              "outlinewidth": 0,
              "ticks": ""
             }
            },
            "type": "scattermapbox"
           }
          ],
          "scatterpolar": [
           {
            "marker": {
             "colorbar": {
              "outlinewidth": 0,
              "ticks": ""
             }
            },
            "type": "scatterpolar"
           }
          ],
          "scatterpolargl": [
           {
            "marker": {
             "colorbar": {
              "outlinewidth": 0,
              "ticks": ""
             }
            },
            "type": "scatterpolargl"
           }
          ],
          "scatterternary": [
           {
            "marker": {
             "colorbar": {
              "outlinewidth": 0,
              "ticks": ""
             }
            },
            "type": "scatterternary"
           }
          ],
          "surface": [
           {
            "colorbar": {
             "outlinewidth": 0,
             "ticks": ""
            },
            "colorscale": [
             [
              0,
              "#0d0887"
             ],
             [
              0.1111111111111111,
              "#46039f"
             ],
             [
              0.2222222222222222,
              "#7201a8"
             ],
             [
              0.3333333333333333,
              "#9c179e"
             ],
             [
              0.4444444444444444,
              "#bd3786"
             ],
             [
              0.5555555555555556,
              "#d8576b"
             ],
             [
              0.6666666666666666,
              "#ed7953"
             ],
             [
              0.7777777777777778,
              "#fb9f3a"
             ],
             [
              0.8888888888888888,
              "#fdca26"
             ],
             [
              1,
              "#f0f921"
             ]
            ],
            "type": "surface"
           }
          ],
          "table": [
           {
            "cells": {
             "fill": {
              "color": "#506784"
             },
             "line": {
              "color": "rgb(17,17,17)"
             }
            },
            "header": {
             "fill": {
              "color": "#2a3f5f"
             },
             "line": {
              "color": "rgb(17,17,17)"
             }
            },
            "type": "table"
           }
          ]
         },
         "layout": {
          "annotationdefaults": {
           "arrowcolor": "#f2f5fa",
           "arrowhead": 0,
           "arrowwidth": 1
          },
          "autotypenumbers": "strict",
          "coloraxis": {
           "colorbar": {
            "outlinewidth": 0,
            "ticks": ""
           }
          },
          "colorscale": {
           "diverging": [
            [
             0,
             "#8e0152"
            ],
            [
             0.1,
             "#c51b7d"
            ],
            [
             0.2,
             "#de77ae"
            ],
            [
             0.3,
             "#f1b6da"
            ],
            [
             0.4,
             "#fde0ef"
            ],
            [
             0.5,
             "#f7f7f7"
            ],
            [
             0.6,
             "#e6f5d0"
            ],
            [
             0.7,
             "#b8e186"
            ],
            [
             0.8,
             "#7fbc41"
            ],
            [
             0.9,
             "#4d9221"
            ],
            [
             1,
             "#276419"
            ]
           ],
           "sequential": [
            [
             0,
             "#0d0887"
            ],
            [
             0.1111111111111111,
             "#46039f"
            ],
            [
             0.2222222222222222,
             "#7201a8"
            ],
            [
             0.3333333333333333,
             "#9c179e"
            ],
            [
             0.4444444444444444,
             "#bd3786"
            ],
            [
             0.5555555555555556,
             "#d8576b"
            ],
            [
             0.6666666666666666,
             "#ed7953"
            ],
            [
             0.7777777777777778,
             "#fb9f3a"
            ],
            [
             0.8888888888888888,
             "#fdca26"
            ],
            [
             1,
             "#f0f921"
            ]
           ],
           "sequentialminus": [
            [
             0,
             "#0d0887"
            ],
            [
             0.1111111111111111,
             "#46039f"
            ],
            [
             0.2222222222222222,
             "#7201a8"
            ],
            [
             0.3333333333333333,
             "#9c179e"
            ],
            [
             0.4444444444444444,
             "#bd3786"
            ],
            [
             0.5555555555555556,
             "#d8576b"
            ],
            [
             0.6666666666666666,
             "#ed7953"
            ],
            [
             0.7777777777777778,
             "#fb9f3a"
            ],
            [
             0.8888888888888888,
             "#fdca26"
            ],
            [
             1,
             "#f0f921"
            ]
           ]
          },
          "colorway": [
           "#636efa",
           "#EF553B",
           "#00cc96",
           "#ab63fa",
           "#FFA15A",
           "#19d3f3",
           "#FF6692",
           "#B6E880",
           "#FF97FF",
           "#FECB52"
          ],
          "font": {
           "color": "#f2f5fa"
          },
          "geo": {
           "bgcolor": "rgb(17,17,17)",
           "lakecolor": "rgb(17,17,17)",
           "landcolor": "rgb(17,17,17)",
           "showlakes": true,
           "showland": true,
           "subunitcolor": "#506784"
          },
          "hoverlabel": {
           "align": "left"
          },
          "hovermode": "closest",
          "mapbox": {
           "style": "dark"
          },
          "paper_bgcolor": "rgb(17,17,17)",
          "plot_bgcolor": "rgb(17,17,17)",
          "polar": {
           "angularaxis": {
            "gridcolor": "#506784",
            "linecolor": "#506784",
            "ticks": ""
           },
           "bgcolor": "rgb(17,17,17)",
           "radialaxis": {
            "gridcolor": "#506784",
            "linecolor": "#506784",
            "ticks": ""
           }
          },
          "scene": {
           "xaxis": {
            "backgroundcolor": "rgb(17,17,17)",
            "gridcolor": "#506784",
            "gridwidth": 2,
            "linecolor": "#506784",
            "showbackground": true,
            "ticks": "",
            "zerolinecolor": "#C8D4E3"
           },
           "yaxis": {
            "backgroundcolor": "rgb(17,17,17)",
            "gridcolor": "#506784",
            "gridwidth": 2,
            "linecolor": "#506784",
            "showbackground": true,
            "ticks": "",
            "zerolinecolor": "#C8D4E3"
           },
           "zaxis": {
            "backgroundcolor": "rgb(17,17,17)",
            "gridcolor": "#506784",
            "gridwidth": 2,
            "linecolor": "#506784",
            "showbackground": true,
            "ticks": "",
            "zerolinecolor": "#C8D4E3"
           }
          },
          "shapedefaults": {
           "line": {
            "color": "#f2f5fa"
           }
          },
          "sliderdefaults": {
           "bgcolor": "#C8D4E3",
           "bordercolor": "rgb(17,17,17)",
           "borderwidth": 1,
           "tickwidth": 0
          },
          "ternary": {
           "aaxis": {
            "gridcolor": "#506784",
            "linecolor": "#506784",
            "ticks": ""
           },
           "baxis": {
            "gridcolor": "#506784",
            "linecolor": "#506784",
            "ticks": ""
           },
           "bgcolor": "rgb(17,17,17)",
           "caxis": {
            "gridcolor": "#506784",
            "linecolor": "#506784",
            "ticks": ""
           }
          },
          "title": {
           "x": 0.05
          },
          "updatemenudefaults": {
           "bgcolor": "#506784",
           "borderwidth": 0
          },
          "xaxis": {
           "automargin": true,
           "gridcolor": "#283442",
           "linecolor": "#506784",
           "ticks": "",
           "title": {
            "standoff": 15
           },
           "zerolinecolor": "#283442",
           "zerolinewidth": 2
          },
          "yaxis": {
           "automargin": true,
           "gridcolor": "#283442",
           "linecolor": "#506784",
           "ticks": "",
           "title": {
            "standoff": 15
           },
           "zerolinecolor": "#283442",
           "zerolinewidth": 2
          }
         }
        },
        "title": {
         "text": "Total Profit Per Year"
        },
        "xaxis": {
         "anchor": "y",
         "domain": [
          0,
          1
         ],
         "title": {
          "text": "Year"
         },
         "type": "category"
        },
        "yaxis": {
         "anchor": "x",
         "domain": [
          0,
          1
         ],
         "title": {
          "text": "Total Profit"
         }
        }
       }
      }
     },
     "metadata": {},
     "output_type": "display_data"
    },
    {
     "data": {
      "text/html": [
       "<div>\n",
       "<style scoped>\n",
       "    .dataframe tbody tr th:only-of-type {\n",
       "        vertical-align: middle;\n",
       "    }\n",
       "\n",
       "    .dataframe tbody tr th {\n",
       "        vertical-align: top;\n",
       "    }\n",
       "\n",
       "    .dataframe thead th {\n",
       "        text-align: right;\n",
       "    }\n",
       "</style>\n",
       "<table border=\"1\" class=\"dataframe\">\n",
       "  <thead>\n",
       "    <tr style=\"text-align: right;\">\n",
       "      <th></th>\n",
       "      <th>state</th>\n",
       "      <th>symbol</th>\n",
       "      <th>order_type</th>\n",
       "      <th>volume</th>\n",
       "      <th>open_time</th>\n",
       "      <th>open_price</th>\n",
       "      <th>close_time</th>\n",
       "      <th>close_price</th>\n",
       "      <th>sl</th>\n",
       "      <th>tp</th>\n",
       "      <th>...</th>\n",
       "      <th>profit</th>\n",
       "      <th>commission</th>\n",
       "      <th>profit_net</th>\n",
       "      <th>profit_cumulative</th>\n",
       "      <th>balance</th>\n",
       "      <th>current_max</th>\n",
       "      <th>drawdown</th>\n",
       "      <th>dayofweek</th>\n",
       "      <th>month</th>\n",
       "      <th>year</th>\n",
       "    </tr>\n",
       "  </thead>\n",
       "  <tbody>\n",
       "    <tr>\n",
       "      <th>0</th>\n",
       "      <td>closed</td>\n",
       "      <td>EURUSD</td>\n",
       "      <td>sell</td>\n",
       "      <td>45197.740113</td>\n",
       "      <td>2025-05-19 10:27:00</td>\n",
       "      <td>1.12241</td>\n",
       "      <td>2025-05-19 12:07:00</td>\n",
       "      <td>1.12689</td>\n",
       "      <td>0</td>\n",
       "      <td>0</td>\n",
       "      <td>...</td>\n",
       "      <td>-202.49</td>\n",
       "      <td>-3.163842</td>\n",
       "      <td>-205.653842</td>\n",
       "      <td>-205.653842</td>\n",
       "      <td>9794.346158</td>\n",
       "      <td>-205.653842</td>\n",
       "      <td>0.0</td>\n",
       "      <td>0</td>\n",
       "      <td>2025-05</td>\n",
       "      <td>2025</td>\n",
       "    </tr>\n",
       "    <tr>\n",
       "      <th>1</th>\n",
       "      <td>closed</td>\n",
       "      <td>EURUSD</td>\n",
       "      <td>buy</td>\n",
       "      <td>68143.100511</td>\n",
       "      <td>2025-05-27 10:27:00</td>\n",
       "      <td>1.13536</td>\n",
       "      <td>2025-05-29 02:37:00</td>\n",
       "      <td>1.1247</td>\n",
       "      <td>0</td>\n",
       "      <td>0</td>\n",
       "      <td>...</td>\n",
       "      <td>-726.41</td>\n",
       "      <td>-4.770017</td>\n",
       "      <td>-731.180017</td>\n",
       "      <td>-936.833859</td>\n",
       "      <td>9063.166141</td>\n",
       "      <td>-205.653842</td>\n",
       "      <td>-731.180017</td>\n",
       "      <td>3</td>\n",
       "      <td>2025-05</td>\n",
       "      <td>2025</td>\n",
       "    </tr>\n",
       "    <tr>\n",
       "      <th>2</th>\n",
       "      <td>closed</td>\n",
       "      <td>EURUSD</td>\n",
       "      <td>buy</td>\n",
       "      <td>44198.895028</td>\n",
       "      <td>2025-06-06 15:30:00</td>\n",
       "      <td>1.1407</td>\n",
       "      <td>2025-06-16 09:30:00</td>\n",
       "      <td>1.15441</td>\n",
       "      <td>0</td>\n",
       "      <td>0</td>\n",
       "      <td>...</td>\n",
       "      <td>605.97</td>\n",
       "      <td>-3.093923</td>\n",
       "      <td>602.876077</td>\n",
       "      <td>-333.957781</td>\n",
       "      <td>9666.042219</td>\n",
       "      <td>-205.653842</td>\n",
       "      <td>-128.30394</td>\n",
       "      <td>0</td>\n",
       "      <td>2025-06</td>\n",
       "      <td>2025</td>\n",
       "    </tr>\n",
       "  </tbody>\n",
       "</table>\n",
       "<p>3 rows × 21 columns</p>\n",
       "</div>"
      ],
      "text/plain": [
       "    state  symbol order_type        volume           open_time open_price  \\\n",
       "0  closed  EURUSD       sell  45197.740113 2025-05-19 10:27:00    1.12241   \n",
       "1  closed  EURUSD        buy  68143.100511 2025-05-27 10:27:00    1.13536   \n",
       "2  closed  EURUSD        buy  44198.895028 2025-06-06 15:30:00     1.1407   \n",
       "\n",
       "           close_time close_price sl tp  ...  profit  commission  profit_net  \\\n",
       "0 2025-05-19 12:07:00     1.12689  0  0  ... -202.49   -3.163842 -205.653842   \n",
       "1 2025-05-29 02:37:00      1.1247  0  0  ... -726.41   -4.770017 -731.180017   \n",
       "2 2025-06-16 09:30:00     1.15441  0  0  ...  605.97   -3.093923  602.876077   \n",
       "\n",
       "  profit_cumulative      balance current_max    drawdown dayofweek    month  \\\n",
       "0       -205.653842  9794.346158 -205.653842         0.0         0  2025-05   \n",
       "1       -936.833859  9063.166141 -205.653842 -731.180017         3  2025-05   \n",
       "2       -333.957781  9666.042219 -205.653842  -128.30394         0  2025-06   \n",
       "\n",
       "   year  \n",
       "0  2025  \n",
       "1  2025  \n",
       "2  2025  \n",
       "\n",
       "[3 rows x 21 columns]"
      ]
     },
     "metadata": {},
     "output_type": "display_data"
    },
    {
     "ename": "ValueError",
     "evalue": "Plotly Express cannot process wide-form data with columns of different type.",
     "output_type": "error",
     "traceback": [
      "\u001b[1;31m---------------------------------------------------------------------------\u001b[0m",
      "\u001b[1;31mValueError\u001b[0m                                Traceback (most recent call last)",
      "Cell \u001b[1;32mIn[22], line 1\u001b[0m\n\u001b[1;32m----> 1\u001b[0m \u001b[43mevaluate_backtest\u001b[49m\u001b[43m(\u001b[49m\u001b[43mbt\u001b[49m\u001b[38;5;241;43m.\u001b[39;49m\u001b[43mtrades\u001b[49m\u001b[43m)\u001b[49m\n",
      "File \u001b[1;32mc:\\Users\\hp\\python_finance_market_projects\\backtest.py:394\u001b[0m, in \u001b[0;36mevaluate_backtest\u001b[1;34m(df_og)\u001b[0m\n\u001b[0;32m    391\u001b[0m df[\u001b[38;5;124m'\u001b[39m\u001b[38;5;124mdrawdown\u001b[39m\u001b[38;5;124m'\u001b[39m] \u001b[38;5;241m=\u001b[39m df[\u001b[38;5;124m'\u001b[39m\u001b[38;5;124mprofit_cumulative\u001b[39m\u001b[38;5;124m'\u001b[39m] \u001b[38;5;241m-\u001b[39m df[\u001b[38;5;124m'\u001b[39m\u001b[38;5;124mcurrent_max\u001b[39m\u001b[38;5;124m'\u001b[39m]\n\u001b[0;32m    392\u001b[0m display(df)\n\u001b[1;32m--> 394\u001b[0m fig_drawdown \u001b[38;5;241m=\u001b[39m \u001b[43mpx\u001b[49m\u001b[38;5;241;43m.\u001b[39;49m\u001b[43mline\u001b[49m\u001b[43m(\u001b[49m\u001b[43mdf\u001b[49m\u001b[43m,\u001b[49m\u001b[43m \u001b[49m\u001b[43mx\u001b[49m\u001b[38;5;241;43m=\u001b[39;49m\u001b[38;5;124;43m'\u001b[39;49m\u001b[38;5;124;43mclose_time\u001b[39;49m\u001b[38;5;124;43m'\u001b[39;49m\u001b[43m,\u001b[49m\u001b[43m \u001b[49m\u001b[43my\u001b[49m\u001b[38;5;241;43m=\u001b[39;49m\u001b[43m[\u001b[49m\u001b[38;5;124;43m'\u001b[39;49m\u001b[38;5;124;43mprofit_cumulative\u001b[39;49m\u001b[38;5;124;43m'\u001b[39;49m\u001b[43m,\u001b[49m\u001b[43m \u001b[49m\u001b[38;5;124;43m'\u001b[39;49m\u001b[38;5;124;43mcurrent_max\u001b[39;49m\u001b[38;5;124;43m'\u001b[39;49m\u001b[43m]\u001b[49m\u001b[43m,\u001b[49m\u001b[43m \u001b[49m\u001b[43mtitle\u001b[49m\u001b[38;5;241;43m=\u001b[39;49m\u001b[38;5;124;43m'\u001b[39;49m\u001b[38;5;124;43mpnl curve\u001b[39;49m\u001b[38;5;124;43m'\u001b[39;49m\u001b[43m)\u001b[49m\n\u001b[0;32m    395\u001b[0m \u001b[38;5;66;03m#display(fig_drawdown)\u001b[39;00m\n\u001b[0;32m    397\u001b[0m fig_drawdown2 \u001b[38;5;241m=\u001b[39m px\u001b[38;5;241m.\u001b[39mline(df, x\u001b[38;5;241m=\u001b[39m\u001b[38;5;124m'\u001b[39m\u001b[38;5;124mclose_time\u001b[39m\u001b[38;5;124m'\u001b[39m, y\u001b[38;5;241m=\u001b[39m\u001b[38;5;124m'\u001b[39m\u001b[38;5;124mdrawdown\u001b[39m\u001b[38;5;124m'\u001b[39m, title\u001b[38;5;241m=\u001b[39m\u001b[38;5;124m'\u001b[39m\u001b[38;5;124mdrawdown curve\u001b[39m\u001b[38;5;124m'\u001b[39m)\n",
      "File \u001b[1;32mc:\\Users\\hp\\python_finance_market_projects\\.venv\\Lib\\site-packages\\plotly\\express\\_chart_types.py:270\u001b[0m, in \u001b[0;36mline\u001b[1;34m(data_frame, x, y, line_group, color, line_dash, symbol, hover_name, hover_data, custom_data, text, facet_row, facet_col, facet_col_wrap, facet_row_spacing, facet_col_spacing, error_x, error_x_minus, error_y, error_y_minus, animation_frame, animation_group, category_orders, labels, orientation, color_discrete_sequence, color_discrete_map, line_dash_sequence, line_dash_map, symbol_sequence, symbol_map, markers, log_x, log_y, range_x, range_y, line_shape, render_mode, title, subtitle, template, width, height)\u001b[0m\n\u001b[0;32m    221\u001b[0m \u001b[38;5;28;01mdef\u001b[39;00m\u001b[38;5;250m \u001b[39m\u001b[38;5;21mline\u001b[39m(\n\u001b[0;32m    222\u001b[0m     data_frame\u001b[38;5;241m=\u001b[39m\u001b[38;5;28;01mNone\u001b[39;00m,\n\u001b[0;32m    223\u001b[0m     x\u001b[38;5;241m=\u001b[39m\u001b[38;5;28;01mNone\u001b[39;00m,\n\u001b[1;32m   (...)\u001b[0m\n\u001b[0;32m    264\u001b[0m     height\u001b[38;5;241m=\u001b[39m\u001b[38;5;28;01mNone\u001b[39;00m,\n\u001b[0;32m    265\u001b[0m ) \u001b[38;5;241m-\u001b[39m\u001b[38;5;241m>\u001b[39m go\u001b[38;5;241m.\u001b[39mFigure:\n\u001b[0;32m    266\u001b[0m \u001b[38;5;250m    \u001b[39m\u001b[38;5;124;03m\"\"\"\u001b[39;00m\n\u001b[0;32m    267\u001b[0m \u001b[38;5;124;03m    In a 2D line plot, each row of `data_frame` is represented as a vertex of\u001b[39;00m\n\u001b[0;32m    268\u001b[0m \u001b[38;5;124;03m    a polyline mark in 2D space.\u001b[39;00m\n\u001b[0;32m    269\u001b[0m \u001b[38;5;124;03m    \"\"\"\u001b[39;00m\n\u001b[1;32m--> 270\u001b[0m     \u001b[38;5;28;01mreturn\u001b[39;00m \u001b[43mmake_figure\u001b[49m\u001b[43m(\u001b[49m\u001b[43margs\u001b[49m\u001b[38;5;241;43m=\u001b[39;49m\u001b[38;5;28;43mlocals\u001b[39;49m\u001b[43m(\u001b[49m\u001b[43m)\u001b[49m\u001b[43m,\u001b[49m\u001b[43m \u001b[49m\u001b[43mconstructor\u001b[49m\u001b[38;5;241;43m=\u001b[39;49m\u001b[43mgo\u001b[49m\u001b[38;5;241;43m.\u001b[39;49m\u001b[43mScatter\u001b[49m\u001b[43m)\u001b[49m\n",
      "File \u001b[1;32mc:\\Users\\hp\\python_finance_market_projects\\.venv\\Lib\\site-packages\\plotly\\express\\_core.py:2477\u001b[0m, in \u001b[0;36mmake_figure\u001b[1;34m(args, constructor, trace_patch, layout_patch)\u001b[0m\n\u001b[0;32m   2474\u001b[0m layout_patch \u001b[38;5;241m=\u001b[39m layout_patch \u001b[38;5;129;01mor\u001b[39;00m {}\n\u001b[0;32m   2475\u001b[0m apply_default_cascade(args)\n\u001b[1;32m-> 2477\u001b[0m args \u001b[38;5;241m=\u001b[39m \u001b[43mbuild_dataframe\u001b[49m\u001b[43m(\u001b[49m\u001b[43margs\u001b[49m\u001b[43m,\u001b[49m\u001b[43m \u001b[49m\u001b[43mconstructor\u001b[49m\u001b[43m)\u001b[49m\n\u001b[0;32m   2478\u001b[0m \u001b[38;5;28;01mif\u001b[39;00m constructor \u001b[38;5;129;01min\u001b[39;00m [go\u001b[38;5;241m.\u001b[39mTreemap, go\u001b[38;5;241m.\u001b[39mSunburst, go\u001b[38;5;241m.\u001b[39mIcicle] \u001b[38;5;129;01mand\u001b[39;00m args[\u001b[38;5;124m\"\u001b[39m\u001b[38;5;124mpath\u001b[39m\u001b[38;5;124m\"\u001b[39m] \u001b[38;5;129;01mis\u001b[39;00m \u001b[38;5;129;01mnot\u001b[39;00m \u001b[38;5;28;01mNone\u001b[39;00m:\n\u001b[0;32m   2479\u001b[0m     args \u001b[38;5;241m=\u001b[39m process_dataframe_hierarchy(args)\n",
      "File \u001b[1;32mc:\\Users\\hp\\python_finance_market_projects\\.venv\\Lib\\site-packages\\plotly\\express\\_core.py:1779\u001b[0m, in \u001b[0;36mbuild_dataframe\u001b[1;34m(args, constructor)\u001b[0m\n\u001b[0;32m   1777\u001b[0m         dtype \u001b[38;5;241m=\u001b[39m v_dtype\n\u001b[0;32m   1778\u001b[0m     \u001b[38;5;28;01melif\u001b[39;00m dtype \u001b[38;5;241m!=\u001b[39m v_dtype:\n\u001b[1;32m-> 1779\u001b[0m         \u001b[38;5;28;01mraise\u001b[39;00m \u001b[38;5;167;01mValueError\u001b[39;00m(\n\u001b[0;32m   1780\u001b[0m             \u001b[38;5;124m\"\u001b[39m\u001b[38;5;124mPlotly Express cannot process wide-form data with columns of different type.\u001b[39m\u001b[38;5;124m\"\u001b[39m\n\u001b[0;32m   1781\u001b[0m         )\n\u001b[0;32m   1782\u001b[0m df_output \u001b[38;5;241m=\u001b[39m df_output\u001b[38;5;241m.\u001b[39munpivot(\n\u001b[0;32m   1783\u001b[0m     index\u001b[38;5;241m=\u001b[39mwide_id_vars,\n\u001b[0;32m   1784\u001b[0m     on\u001b[38;5;241m=\u001b[39mwide_value_vars,\n\u001b[0;32m   1785\u001b[0m     variable_name\u001b[38;5;241m=\u001b[39mvar_name,\n\u001b[0;32m   1786\u001b[0m     value_name\u001b[38;5;241m=\u001b[39mvalue_name,\n\u001b[0;32m   1787\u001b[0m )\n\u001b[0;32m   1788\u001b[0m \u001b[38;5;28;01massert\u001b[39;00m \u001b[38;5;28mlen\u001b[39m(df_output\u001b[38;5;241m.\u001b[39mcolumns) \u001b[38;5;241m==\u001b[39m \u001b[38;5;28mlen\u001b[39m(\u001b[38;5;28mset\u001b[39m(df_output\u001b[38;5;241m.\u001b[39mcolumns)), (\n\u001b[0;32m   1789\u001b[0m     \u001b[38;5;124m\"\u001b[39m\u001b[38;5;124mWide-mode name-inference failure, likely due to a internal bug. \u001b[39m\u001b[38;5;124m\"\u001b[39m\n\u001b[0;32m   1790\u001b[0m     \u001b[38;5;124m\"\u001b[39m\u001b[38;5;124mPlease report this to \u001b[39m\u001b[38;5;124m\"\u001b[39m\n\u001b[0;32m   1791\u001b[0m     \u001b[38;5;124m\"\u001b[39m\u001b[38;5;124mhttps://github.com/plotly/plotly.py/issues/new and we will try to \u001b[39m\u001b[38;5;124m\"\u001b[39m\n\u001b[0;32m   1792\u001b[0m     \u001b[38;5;124m\"\u001b[39m\u001b[38;5;124mreplicate and fix it.\u001b[39m\u001b[38;5;124m\"\u001b[39m\n\u001b[0;32m   1793\u001b[0m )\n",
      "\u001b[1;31mValueError\u001b[0m: Plotly Express cannot process wide-form data with columns of different type."
     ]
    }
   ],
   "source": [
    "evaluate_backtest(bt.trades)"
   ]
  },
  {
   "cell_type": "code",
   "execution_count": null,
   "metadata": {},
   "outputs": [],
   "source": [
    "# visualizing the ohlc data\n",
    "fig = go.Figure(data = [go.Candlestick(x = ohlc_df['time'],\n",
    "                                        open = ohlc_df['open'],\n",
    "                                        high = ohlc_df['high'],\n",
    "                                        low = ohlc_df['low'],\n",
    "                                        close = ohlc_df['close'])])\n",
    "\n",
    "# fig.update_layout(height=600, xaxis_rangeslider_visible=False)\n",
    "# 📌 Add Pivot Points as Horizontal Lines\n",
    "pivot_levels = [\"sell_stope_loss\", \"R2\", \"buy_stope_loss\", \"S2\"]\n",
    "colors = {'sell_stope_loss': 'red', 'buy_stope_loss': 'red', 'R2': 'green', 'S2': 'green'}\n",
    "\n",
    "\n",
    "for _, row in daily_df.iterrows():\n",
    "    for level in pivot_levels:\n",
    "        fig.add_trace(go.Scatter(\n",
    "            x=[row['time'], row['time'] + pd.Timedelta(days=1)],  # Extend for one day\n",
    "            y=[row[level], row[level]],\n",
    "            mode='lines',\n",
    "            name=f\"{level} {row['time']}\",\n",
    "            line=dict(color=colors[level], width=1.5, dash='dot')\n",
    "        ))\n",
    "\n",
    "# 📌 Customize Layout\n",
    "fig.update_layout(\n",
    "    title=\"Pivot Points on Candlestick Chart\",\n",
    "    xaxis_title=\"Date\",\n",
    "    yaxis_title=\"Price\",\n",
    "    template=\"plotly_dark\",\n",
    "    xaxis_rangeslider_visible=False\n",
    ")\n",
    "fig"
   ]
  }
 ],
 "metadata": {
  "kernelspec": {
   "display_name": ".venv",
   "language": "python",
   "name": "python3"
  },
  "language_info": {
   "codemirror_mode": {
    "name": "ipython",
    "version": 3
   },
   "file_extension": ".py",
   "mimetype": "text/x-python",
   "name": "python",
   "nbconvert_exporter": "python",
   "pygments_lexer": "ipython3",
   "version": "3.12.1"
  }
 },
 "nbformat": 4,
 "nbformat_minor": 2
}
